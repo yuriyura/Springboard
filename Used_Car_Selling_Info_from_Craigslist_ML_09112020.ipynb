{
 "cells": [
  {
   "cell_type": "markdown",
   "metadata": {},
   "source": [
    "Read the normalized df."
   ]
  },
  {
   "cell_type": "code",
   "execution_count": 1,
   "metadata": {},
   "outputs": [
    {
     "data": {
      "text/html": [
       "<div>\n",
       "<style scoped>\n",
       "    .dataframe tbody tr th:only-of-type {\n",
       "        vertical-align: middle;\n",
       "    }\n",
       "\n",
       "    .dataframe tbody tr th {\n",
       "        vertical-align: top;\n",
       "    }\n",
       "\n",
       "    .dataframe thead th {\n",
       "        text-align: right;\n",
       "    }\n",
       "</style>\n",
       "<table border=\"1\" class=\"dataframe\">\n",
       "  <thead>\n",
       "    <tr style=\"text-align: right;\">\n",
       "      <th></th>\n",
       "      <th>Unnamed: 0</th>\n",
       "      <th>price</th>\n",
       "      <th>year</th>\n",
       "      <th>manufacturer</th>\n",
       "      <th>make</th>\n",
       "      <th>cylinders</th>\n",
       "      <th>fuel</th>\n",
       "      <th>odometer</th>\n",
       "      <th>title_status</th>\n",
       "      <th>transmission</th>\n",
       "      <th>drive</th>\n",
       "      <th>size</th>\n",
       "      <th>type</th>\n",
       "      <th>weather</th>\n",
       "      <th>city</th>\n",
       "      <th>state</th>\n",
       "      <th>county</th>\n",
       "      <th>VClass</th>\n",
       "      <th>youSaveSpend</th>\n",
       "      <th>usage_yr</th>\n",
       "    </tr>\n",
       "  </thead>\n",
       "  <tbody>\n",
       "    <tr>\n",
       "      <th>0</th>\n",
       "      <td>0</td>\n",
       "      <td>11900</td>\n",
       "      <td>2010</td>\n",
       "      <td>dodge</td>\n",
       "      <td>challenger se</td>\n",
       "      <td>6</td>\n",
       "      <td>gas</td>\n",
       "      <td>43600</td>\n",
       "      <td>clean</td>\n",
       "      <td>automatic</td>\n",
       "      <td>rwd</td>\n",
       "      <td>full-size</td>\n",
       "      <td>coupe</td>\n",
       "      <td>38.0</td>\n",
       "      <td>Harrisburg</td>\n",
       "      <td>South Dakota</td>\n",
       "      <td>Lincoln County</td>\n",
       "      <td>midsize cars</td>\n",
       "      <td>-5750.0</td>\n",
       "      <td>9</td>\n",
       "    </tr>\n",
       "    <tr>\n",
       "      <th>1</th>\n",
       "      <td>1</td>\n",
       "      <td>2800</td>\n",
       "      <td>2004</td>\n",
       "      <td>ford</td>\n",
       "      <td>taurus</td>\n",
       "      <td>6</td>\n",
       "      <td>gas</td>\n",
       "      <td>168591</td>\n",
       "      <td>clean</td>\n",
       "      <td>automatic</td>\n",
       "      <td>fwd</td>\n",
       "      <td>full-size</td>\n",
       "      <td>sedan</td>\n",
       "      <td>47.0</td>\n",
       "      <td>Sanborn</td>\n",
       "      <td>Iowa</td>\n",
       "      <td>O'Brien County</td>\n",
       "      <td>large cars</td>\n",
       "      <td>-2250.0</td>\n",
       "      <td>15</td>\n",
       "    </tr>\n",
       "    <tr>\n",
       "      <th>2</th>\n",
       "      <td>2</td>\n",
       "      <td>2800</td>\n",
       "      <td>2004</td>\n",
       "      <td>ford</td>\n",
       "      <td>taurus</td>\n",
       "      <td>6</td>\n",
       "      <td>gas</td>\n",
       "      <td>168591</td>\n",
       "      <td>clean</td>\n",
       "      <td>automatic</td>\n",
       "      <td>fwd</td>\n",
       "      <td>full-size</td>\n",
       "      <td>sedan</td>\n",
       "      <td>47.0</td>\n",
       "      <td>Sanborn</td>\n",
       "      <td>Iowa</td>\n",
       "      <td>O'Brien County</td>\n",
       "      <td>large cars</td>\n",
       "      <td>-2250.0</td>\n",
       "      <td>15</td>\n",
       "    </tr>\n",
       "    <tr>\n",
       "      <th>3</th>\n",
       "      <td>3</td>\n",
       "      <td>400</td>\n",
       "      <td>2001</td>\n",
       "      <td>pontiac</td>\n",
       "      <td>2001 grand prix</td>\n",
       "      <td>0</td>\n",
       "      <td>gas</td>\n",
       "      <td>217000</td>\n",
       "      <td>clean</td>\n",
       "      <td>automatic</td>\n",
       "      <td>fwd</td>\n",
       "      <td>full-size</td>\n",
       "      <td>sedan</td>\n",
       "      <td>47.0</td>\n",
       "      <td>Algona</td>\n",
       "      <td>Iowa</td>\n",
       "      <td>Kossuth County</td>\n",
       "      <td>midsize cars</td>\n",
       "      <td>-1750.0</td>\n",
       "      <td>18</td>\n",
       "    </tr>\n",
       "    <tr>\n",
       "      <th>4</th>\n",
       "      <td>4</td>\n",
       "      <td>9900</td>\n",
       "      <td>2007</td>\n",
       "      <td>gmc</td>\n",
       "      <td>yukon</td>\n",
       "      <td>8</td>\n",
       "      <td>gas</td>\n",
       "      <td>169000</td>\n",
       "      <td>clean</td>\n",
       "      <td>automatic</td>\n",
       "      <td>4wd</td>\n",
       "      <td>full-size</td>\n",
       "      <td>suv</td>\n",
       "      <td>38.0</td>\n",
       "      <td>Lennox</td>\n",
       "      <td>South Dakota</td>\n",
       "      <td>Lincoln County</td>\n",
       "      <td>standard pickup trucks 4wd</td>\n",
       "      <td>-5000.0</td>\n",
       "      <td>12</td>\n",
       "    </tr>\n",
       "  </tbody>\n",
       "</table>\n",
       "</div>"
      ],
      "text/plain": [
       "   Unnamed: 0  price  year manufacturer             make  cylinders fuel  \\\n",
       "0           0  11900  2010        dodge    challenger se          6  gas   \n",
       "1           1   2800  2004         ford           taurus          6  gas   \n",
       "2           2   2800  2004         ford           taurus          6  gas   \n",
       "3           3    400  2001      pontiac  2001 grand prix          0  gas   \n",
       "4           4   9900  2007          gmc            yukon          8  gas   \n",
       "\n",
       "   odometer title_status transmission drive       size   type  weather  \\\n",
       "0     43600        clean    automatic   rwd  full-size  coupe     38.0   \n",
       "1    168591        clean    automatic   fwd  full-size  sedan     47.0   \n",
       "2    168591        clean    automatic   fwd  full-size  sedan     47.0   \n",
       "3    217000        clean    automatic   fwd  full-size  sedan     47.0   \n",
       "4    169000        clean    automatic   4wd  full-size    suv     38.0   \n",
       "\n",
       "         city         state          county                      VClass  \\\n",
       "0  Harrisburg  South Dakota  Lincoln County                midsize cars   \n",
       "1     Sanborn          Iowa  O'Brien County                  large cars   \n",
       "2     Sanborn          Iowa  O'Brien County                  large cars   \n",
       "3      Algona          Iowa  Kossuth County                midsize cars   \n",
       "4      Lennox  South Dakota  Lincoln County  standard pickup trucks 4wd   \n",
       "\n",
       "   youSaveSpend  usage_yr  \n",
       "0       -5750.0         9  \n",
       "1       -2250.0        15  \n",
       "2       -2250.0        15  \n",
       "3       -1750.0        18  \n",
       "4       -5000.0        12  "
      ]
     },
     "execution_count": 1,
     "metadata": {},
     "output_type": "execute_result"
    }
   ],
   "source": [
    "import pandas as pd\n",
    "import numpy as np\n",
    "\n",
    "pd.set_option('display.max_rows', 500)\n",
    "pd.set_option('display.max_columns', 500)\n",
    "\n",
    "train_data = pd.read_csv(\"UsedCarSellingInfoCraigslistNormalized.csv\")\n",
    "train_data.head()"
   ]
  },
  {
   "cell_type": "code",
   "execution_count": 2,
   "metadata": {},
   "outputs": [
    {
     "data": {
      "text/html": [
       "<div>\n",
       "<style scoped>\n",
       "    .dataframe tbody tr th:only-of-type {\n",
       "        vertical-align: middle;\n",
       "    }\n",
       "\n",
       "    .dataframe tbody tr th {\n",
       "        vertical-align: top;\n",
       "    }\n",
       "\n",
       "    .dataframe thead th {\n",
       "        text-align: right;\n",
       "    }\n",
       "</style>\n",
       "<table border=\"1\" class=\"dataframe\">\n",
       "  <thead>\n",
       "    <tr style=\"text-align: right;\">\n",
       "      <th></th>\n",
       "      <th>Unnamed: 0</th>\n",
       "      <th>price</th>\n",
       "      <th>year</th>\n",
       "      <th>manufacturer</th>\n",
       "      <th>make</th>\n",
       "      <th>cylinders</th>\n",
       "      <th>fuel</th>\n",
       "      <th>odometer</th>\n",
       "      <th>title_status</th>\n",
       "      <th>transmission</th>\n",
       "      <th>drive</th>\n",
       "      <th>size</th>\n",
       "      <th>type</th>\n",
       "      <th>weather</th>\n",
       "      <th>city</th>\n",
       "      <th>state</th>\n",
       "      <th>county</th>\n",
       "      <th>VClass</th>\n",
       "      <th>youSaveSpend</th>\n",
       "      <th>usage_yr</th>\n",
       "    </tr>\n",
       "  </thead>\n",
       "  <tbody>\n",
       "    <tr>\n",
       "      <th>546023</th>\n",
       "      <td>546525</td>\n",
       "      <td>25786</td>\n",
       "      <td>2014</td>\n",
       "      <td>chevrolet</td>\n",
       "      <td>silverado 1500</td>\n",
       "      <td>8</td>\n",
       "      <td>gas</td>\n",
       "      <td>55286</td>\n",
       "      <td>clean</td>\n",
       "      <td>automatic</td>\n",
       "      <td>4wd</td>\n",
       "      <td>full-size</td>\n",
       "      <td>pickup</td>\n",
       "      <td>52.0</td>\n",
       "      <td>Harrisonville</td>\n",
       "      <td>Missouri</td>\n",
       "      <td>Cass County</td>\n",
       "      <td>standard pickup trucks 4wd</td>\n",
       "      <td>-5000.0</td>\n",
       "      <td>5</td>\n",
       "    </tr>\n",
       "    <tr>\n",
       "      <th>546024</th>\n",
       "      <td>546526</td>\n",
       "      <td>28991</td>\n",
       "      <td>2015</td>\n",
       "      <td>ford</td>\n",
       "      <td>f150 supercrew cab</td>\n",
       "      <td>6</td>\n",
       "      <td>gas</td>\n",
       "      <td>105123</td>\n",
       "      <td>clean</td>\n",
       "      <td>automatic</td>\n",
       "      <td>4wd</td>\n",
       "      <td>full-size</td>\n",
       "      <td>pickup</td>\n",
       "      <td>52.0</td>\n",
       "      <td>Harrisonville</td>\n",
       "      <td>Missouri</td>\n",
       "      <td>Cass County</td>\n",
       "      <td>compact cars</td>\n",
       "      <td>-1750.0</td>\n",
       "      <td>4</td>\n",
       "    </tr>\n",
       "    <tr>\n",
       "      <th>546025</th>\n",
       "      <td>546527</td>\n",
       "      <td>25995</td>\n",
       "      <td>2015</td>\n",
       "      <td>ford</td>\n",
       "      <td>f150 supercrew cab</td>\n",
       "      <td>8</td>\n",
       "      <td>other</td>\n",
       "      <td>108142</td>\n",
       "      <td>clean</td>\n",
       "      <td>automatic</td>\n",
       "      <td>4wd</td>\n",
       "      <td>full-size</td>\n",
       "      <td>pickup</td>\n",
       "      <td>52.0</td>\n",
       "      <td>Harrisonville</td>\n",
       "      <td>Missouri</td>\n",
       "      <td>Cass County</td>\n",
       "      <td>compact cars</td>\n",
       "      <td>-1750.0</td>\n",
       "      <td>4</td>\n",
       "    </tr>\n",
       "    <tr>\n",
       "      <th>546026</th>\n",
       "      <td>546528</td>\n",
       "      <td>40000</td>\n",
       "      <td>2006</td>\n",
       "      <td>ford</td>\n",
       "      <td>sterling</td>\n",
       "      <td>0</td>\n",
       "      <td>diesel</td>\n",
       "      <td>350000</td>\n",
       "      <td>clean</td>\n",
       "      <td>manual</td>\n",
       "      <td>fwd</td>\n",
       "      <td>full-size</td>\n",
       "      <td>truck</td>\n",
       "      <td>52.0</td>\n",
       "      <td>Bel-Nor</td>\n",
       "      <td>Missouri</td>\n",
       "      <td>Saint Louis County</td>\n",
       "      <td>midsize cars</td>\n",
       "      <td>-1500.0</td>\n",
       "      <td>13</td>\n",
       "    </tr>\n",
       "    <tr>\n",
       "      <th>546027</th>\n",
       "      <td>546529</td>\n",
       "      <td>6995</td>\n",
       "      <td>2007</td>\n",
       "      <td>ram</td>\n",
       "      <td>1500</td>\n",
       "      <td>0</td>\n",
       "      <td>gas</td>\n",
       "      <td>197936</td>\n",
       "      <td>clean</td>\n",
       "      <td>manual</td>\n",
       "      <td>4wd</td>\n",
       "      <td>full-size</td>\n",
       "      <td>truck</td>\n",
       "      <td>52.0</td>\n",
       "      <td>Moscow Mills</td>\n",
       "      <td>Missouri</td>\n",
       "      <td>Lincoln County</td>\n",
       "      <td>standard pickup trucks 4wd</td>\n",
       "      <td>-5000.0</td>\n",
       "      <td>12</td>\n",
       "    </tr>\n",
       "  </tbody>\n",
       "</table>\n",
       "</div>"
      ],
      "text/plain": [
       "        Unnamed: 0  price  year manufacturer                make  cylinders  \\\n",
       "546023      546525  25786  2014    chevrolet      silverado 1500          8   \n",
       "546024      546526  28991  2015         ford  f150 supercrew cab          6   \n",
       "546025      546527  25995  2015         ford  f150 supercrew cab          8   \n",
       "546026      546528  40000  2006         ford            sterling          0   \n",
       "546027      546529   6995  2007          ram                1500          0   \n",
       "\n",
       "          fuel  odometer title_status transmission drive       size    type  \\\n",
       "546023     gas     55286        clean    automatic   4wd  full-size  pickup   \n",
       "546024     gas    105123        clean    automatic   4wd  full-size  pickup   \n",
       "546025   other    108142        clean    automatic   4wd  full-size  pickup   \n",
       "546026  diesel    350000        clean       manual   fwd  full-size   truck   \n",
       "546027     gas    197936        clean       manual   4wd  full-size   truck   \n",
       "\n",
       "        weather           city     state              county  \\\n",
       "546023     52.0  Harrisonville  Missouri         Cass County   \n",
       "546024     52.0  Harrisonville  Missouri         Cass County   \n",
       "546025     52.0  Harrisonville  Missouri         Cass County   \n",
       "546026     52.0        Bel-Nor  Missouri  Saint Louis County   \n",
       "546027     52.0   Moscow Mills  Missouri      Lincoln County   \n",
       "\n",
       "                            VClass  youSaveSpend  usage_yr  \n",
       "546023  standard pickup trucks 4wd       -5000.0         5  \n",
       "546024                compact cars       -1750.0         4  \n",
       "546025                compact cars       -1750.0         4  \n",
       "546026                midsize cars       -1500.0        13  \n",
       "546027  standard pickup trucks 4wd       -5000.0        12  "
      ]
     },
     "execution_count": 2,
     "metadata": {},
     "output_type": "execute_result"
    }
   ],
   "source": [
    "train_data.tail()"
   ]
  },
  {
   "cell_type": "markdown",
   "metadata": {},
   "source": [
    "Let's drop 'Unnamed: 0'."
   ]
  },
  {
   "cell_type": "code",
   "execution_count": 3,
   "metadata": {},
   "outputs": [
    {
     "data": {
      "text/plain": [
       "Index(['price', 'year', 'manufacturer', 'make', 'cylinders', 'fuel',\n",
       "       'odometer', 'title_status', 'transmission', 'drive', 'size', 'type',\n",
       "       'weather', 'city', 'state', 'county', 'VClass', 'youSaveSpend',\n",
       "       'usage_yr'],\n",
       "      dtype='object')"
      ]
     },
     "execution_count": 3,
     "metadata": {},
     "output_type": "execute_result"
    }
   ],
   "source": [
    "train_data.drop(['Unnamed: 0'], axis = 1, inplace=True)\n",
    "train_data.columns"
   ]
  },
  {
   "cell_type": "code",
   "execution_count": 4,
   "metadata": {},
   "outputs": [
    {
     "name": "stdout",
     "output_type": "stream",
     "text": [
      "<class 'pandas.core.frame.DataFrame'>\n",
      "RangeIndex: 546028 entries, 0 to 546027\n",
      "Data columns (total 19 columns):\n",
      " #   Column        Non-Null Count   Dtype  \n",
      "---  ------        --------------   -----  \n",
      " 0   price         546028 non-null  int64  \n",
      " 1   year          546028 non-null  int64  \n",
      " 2   manufacturer  546028 non-null  object \n",
      " 3   make          546027 non-null  object \n",
      " 4   cylinders     546028 non-null  int64  \n",
      " 5   fuel          546028 non-null  object \n",
      " 6   odometer      546028 non-null  int64  \n",
      " 7   title_status  546028 non-null  object \n",
      " 8   transmission  546028 non-null  object \n",
      " 9   drive         546028 non-null  object \n",
      " 10  size          546028 non-null  object \n",
      " 11  type          546028 non-null  object \n",
      " 12  weather       546028 non-null  float64\n",
      " 13  city          546028 non-null  object \n",
      " 14  state         545990 non-null  object \n",
      " 15  county        522298 non-null  object \n",
      " 16  VClass        546028 non-null  object \n",
      " 17  youSaveSpend  546028 non-null  float64\n",
      " 18  usage_yr      546028 non-null  int64  \n",
      "dtypes: float64(2), int64(5), object(12)\n",
      "memory usage: 79.2+ MB\n"
     ]
    }
   ],
   "source": [
    "train_data.info()"
   ]
  },
  {
   "cell_type": "markdown",
   "metadata": {},
   "source": [
    "Let's add Region and Division by 'state'."
   ]
  },
  {
   "cell_type": "code",
   "execution_count": 5,
   "metadata": {},
   "outputs": [
    {
     "data": {
      "text/html": [
       "<div>\n",
       "<style scoped>\n",
       "    .dataframe tbody tr th:only-of-type {\n",
       "        vertical-align: middle;\n",
       "    }\n",
       "\n",
       "    .dataframe tbody tr th {\n",
       "        vertical-align: top;\n",
       "    }\n",
       "\n",
       "    .dataframe thead th {\n",
       "        text-align: right;\n",
       "    }\n",
       "</style>\n",
       "<table border=\"1\" class=\"dataframe\">\n",
       "  <thead>\n",
       "    <tr style=\"text-align: right;\">\n",
       "      <th></th>\n",
       "      <th>State</th>\n",
       "      <th>State Code</th>\n",
       "      <th>Region</th>\n",
       "      <th>Division</th>\n",
       "    </tr>\n",
       "  </thead>\n",
       "  <tbody>\n",
       "    <tr>\n",
       "      <th>0</th>\n",
       "      <td>Alaska</td>\n",
       "      <td>AK</td>\n",
       "      <td>West</td>\n",
       "      <td>Pacific</td>\n",
       "    </tr>\n",
       "    <tr>\n",
       "      <th>1</th>\n",
       "      <td>Alabama</td>\n",
       "      <td>AL</td>\n",
       "      <td>South</td>\n",
       "      <td>East South Central</td>\n",
       "    </tr>\n",
       "    <tr>\n",
       "      <th>2</th>\n",
       "      <td>Arkansas</td>\n",
       "      <td>AR</td>\n",
       "      <td>South</td>\n",
       "      <td>West South Central</td>\n",
       "    </tr>\n",
       "    <tr>\n",
       "      <th>3</th>\n",
       "      <td>Arizona</td>\n",
       "      <td>AZ</td>\n",
       "      <td>West</td>\n",
       "      <td>Mountain</td>\n",
       "    </tr>\n",
       "    <tr>\n",
       "      <th>4</th>\n",
       "      <td>California</td>\n",
       "      <td>CA</td>\n",
       "      <td>West</td>\n",
       "      <td>Pacific</td>\n",
       "    </tr>\n",
       "  </tbody>\n",
       "</table>\n",
       "</div>"
      ],
      "text/plain": [
       "        State State Code Region            Division\n",
       "0      Alaska         AK   West             Pacific\n",
       "1     Alabama         AL  South  East South Central\n",
       "2    Arkansas         AR  South  West South Central\n",
       "3     Arizona         AZ   West            Mountain\n",
       "4  California         CA   West             Pacific"
      ]
     },
     "execution_count": 5,
     "metadata": {},
     "output_type": "execute_result"
    }
   ],
   "source": [
    "region_df= pd.read_csv(\"datasets_31195_39789_states.csv\")\n",
    "region_df.head()"
   ]
  },
  {
   "cell_type": "markdown",
   "metadata": {},
   "source": [
    "Let's change the column as lowercase."
   ]
  },
  {
   "cell_type": "code",
   "execution_count": 6,
   "metadata": {},
   "outputs": [],
   "source": [
    "region_df = region_df.rename(columns = {\"State\":\"state\", \"State Code\":\"state_code\",\n",
    "                                        \"Region\":\"region\",\"Division\":\"division\"}) "
   ]
  },
  {
   "cell_type": "markdown",
   "metadata": {},
   "source": [
    "Let's do a left-join by 'state'."
   ]
  },
  {
   "cell_type": "code",
   "execution_count": 7,
   "metadata": {},
   "outputs": [
    {
     "data": {
      "text/html": [
       "<div>\n",
       "<style scoped>\n",
       "    .dataframe tbody tr th:only-of-type {\n",
       "        vertical-align: middle;\n",
       "    }\n",
       "\n",
       "    .dataframe tbody tr th {\n",
       "        vertical-align: top;\n",
       "    }\n",
       "\n",
       "    .dataframe thead th {\n",
       "        text-align: right;\n",
       "    }\n",
       "</style>\n",
       "<table border=\"1\" class=\"dataframe\">\n",
       "  <thead>\n",
       "    <tr style=\"text-align: right;\">\n",
       "      <th></th>\n",
       "      <th>price</th>\n",
       "      <th>year</th>\n",
       "      <th>manufacturer</th>\n",
       "      <th>make</th>\n",
       "      <th>cylinders</th>\n",
       "      <th>fuel</th>\n",
       "      <th>odometer</th>\n",
       "      <th>title_status</th>\n",
       "      <th>transmission</th>\n",
       "      <th>drive</th>\n",
       "      <th>size</th>\n",
       "      <th>type</th>\n",
       "      <th>weather</th>\n",
       "      <th>city</th>\n",
       "      <th>state</th>\n",
       "      <th>county</th>\n",
       "      <th>VClass</th>\n",
       "      <th>youSaveSpend</th>\n",
       "      <th>usage_yr</th>\n",
       "      <th>state_code</th>\n",
       "      <th>region</th>\n",
       "      <th>division</th>\n",
       "    </tr>\n",
       "  </thead>\n",
       "  <tbody>\n",
       "    <tr>\n",
       "      <th>0</th>\n",
       "      <td>11900</td>\n",
       "      <td>2010</td>\n",
       "      <td>dodge</td>\n",
       "      <td>challenger se</td>\n",
       "      <td>6</td>\n",
       "      <td>gas</td>\n",
       "      <td>43600</td>\n",
       "      <td>clean</td>\n",
       "      <td>automatic</td>\n",
       "      <td>rwd</td>\n",
       "      <td>full-size</td>\n",
       "      <td>coupe</td>\n",
       "      <td>38.0</td>\n",
       "      <td>Harrisburg</td>\n",
       "      <td>South Dakota</td>\n",
       "      <td>Lincoln County</td>\n",
       "      <td>midsize cars</td>\n",
       "      <td>-5750.0</td>\n",
       "      <td>9</td>\n",
       "      <td>SD</td>\n",
       "      <td>Midwest</td>\n",
       "      <td>West North Central</td>\n",
       "    </tr>\n",
       "    <tr>\n",
       "      <th>1</th>\n",
       "      <td>2800</td>\n",
       "      <td>2004</td>\n",
       "      <td>ford</td>\n",
       "      <td>taurus</td>\n",
       "      <td>6</td>\n",
       "      <td>gas</td>\n",
       "      <td>168591</td>\n",
       "      <td>clean</td>\n",
       "      <td>automatic</td>\n",
       "      <td>fwd</td>\n",
       "      <td>full-size</td>\n",
       "      <td>sedan</td>\n",
       "      <td>47.0</td>\n",
       "      <td>Sanborn</td>\n",
       "      <td>Iowa</td>\n",
       "      <td>O'Brien County</td>\n",
       "      <td>large cars</td>\n",
       "      <td>-2250.0</td>\n",
       "      <td>15</td>\n",
       "      <td>IA</td>\n",
       "      <td>Midwest</td>\n",
       "      <td>West North Central</td>\n",
       "    </tr>\n",
       "    <tr>\n",
       "      <th>2</th>\n",
       "      <td>2800</td>\n",
       "      <td>2004</td>\n",
       "      <td>ford</td>\n",
       "      <td>taurus</td>\n",
       "      <td>6</td>\n",
       "      <td>gas</td>\n",
       "      <td>168591</td>\n",
       "      <td>clean</td>\n",
       "      <td>automatic</td>\n",
       "      <td>fwd</td>\n",
       "      <td>full-size</td>\n",
       "      <td>sedan</td>\n",
       "      <td>47.0</td>\n",
       "      <td>Sanborn</td>\n",
       "      <td>Iowa</td>\n",
       "      <td>O'Brien County</td>\n",
       "      <td>large cars</td>\n",
       "      <td>-2250.0</td>\n",
       "      <td>15</td>\n",
       "      <td>IA</td>\n",
       "      <td>Midwest</td>\n",
       "      <td>West North Central</td>\n",
       "    </tr>\n",
       "    <tr>\n",
       "      <th>3</th>\n",
       "      <td>400</td>\n",
       "      <td>2001</td>\n",
       "      <td>pontiac</td>\n",
       "      <td>2001 grand prix</td>\n",
       "      <td>0</td>\n",
       "      <td>gas</td>\n",
       "      <td>217000</td>\n",
       "      <td>clean</td>\n",
       "      <td>automatic</td>\n",
       "      <td>fwd</td>\n",
       "      <td>full-size</td>\n",
       "      <td>sedan</td>\n",
       "      <td>47.0</td>\n",
       "      <td>Algona</td>\n",
       "      <td>Iowa</td>\n",
       "      <td>Kossuth County</td>\n",
       "      <td>midsize cars</td>\n",
       "      <td>-1750.0</td>\n",
       "      <td>18</td>\n",
       "      <td>IA</td>\n",
       "      <td>Midwest</td>\n",
       "      <td>West North Central</td>\n",
       "    </tr>\n",
       "    <tr>\n",
       "      <th>4</th>\n",
       "      <td>9900</td>\n",
       "      <td>2007</td>\n",
       "      <td>gmc</td>\n",
       "      <td>yukon</td>\n",
       "      <td>8</td>\n",
       "      <td>gas</td>\n",
       "      <td>169000</td>\n",
       "      <td>clean</td>\n",
       "      <td>automatic</td>\n",
       "      <td>4wd</td>\n",
       "      <td>full-size</td>\n",
       "      <td>suv</td>\n",
       "      <td>38.0</td>\n",
       "      <td>Lennox</td>\n",
       "      <td>South Dakota</td>\n",
       "      <td>Lincoln County</td>\n",
       "      <td>standard pickup trucks 4wd</td>\n",
       "      <td>-5000.0</td>\n",
       "      <td>12</td>\n",
       "      <td>SD</td>\n",
       "      <td>Midwest</td>\n",
       "      <td>West North Central</td>\n",
       "    </tr>\n",
       "  </tbody>\n",
       "</table>\n",
       "</div>"
      ],
      "text/plain": [
       "   price  year manufacturer             make  cylinders fuel  odometer  \\\n",
       "0  11900  2010        dodge    challenger se          6  gas     43600   \n",
       "1   2800  2004         ford           taurus          6  gas    168591   \n",
       "2   2800  2004         ford           taurus          6  gas    168591   \n",
       "3    400  2001      pontiac  2001 grand prix          0  gas    217000   \n",
       "4   9900  2007          gmc            yukon          8  gas    169000   \n",
       "\n",
       "  title_status transmission drive       size   type  weather        city  \\\n",
       "0        clean    automatic   rwd  full-size  coupe     38.0  Harrisburg   \n",
       "1        clean    automatic   fwd  full-size  sedan     47.0     Sanborn   \n",
       "2        clean    automatic   fwd  full-size  sedan     47.0     Sanborn   \n",
       "3        clean    automatic   fwd  full-size  sedan     47.0      Algona   \n",
       "4        clean    automatic   4wd  full-size    suv     38.0      Lennox   \n",
       "\n",
       "          state          county                      VClass  youSaveSpend  \\\n",
       "0  South Dakota  Lincoln County                midsize cars       -5750.0   \n",
       "1          Iowa  O'Brien County                  large cars       -2250.0   \n",
       "2          Iowa  O'Brien County                  large cars       -2250.0   \n",
       "3          Iowa  Kossuth County                midsize cars       -1750.0   \n",
       "4  South Dakota  Lincoln County  standard pickup trucks 4wd       -5000.0   \n",
       "\n",
       "   usage_yr state_code   region            division  \n",
       "0         9         SD  Midwest  West North Central  \n",
       "1        15         IA  Midwest  West North Central  \n",
       "2        15         IA  Midwest  West North Central  \n",
       "3        18         IA  Midwest  West North Central  \n",
       "4        12         SD  Midwest  West North Central  "
      ]
     },
     "execution_count": 7,
     "metadata": {},
     "output_type": "execute_result"
    }
   ],
   "source": [
    "train_data = train_data.merge(region_df, how='left', on=['state'])\n",
    "train_data.head()"
   ]
  },
  {
   "cell_type": "markdown",
   "metadata": {},
   "source": [
    "Let's check 'state' which null values in 'region' or 'division'."
   ]
  },
  {
   "cell_type": "code",
   "execution_count": 8,
   "metadata": {
    "scrolled": true
   },
   "outputs": [
    {
     "data": {
      "text/plain": [
       "British Columbia                    23506\n",
       "Ontario                              2466\n",
       "Alberta                               354\n",
       "Baja California                       132\n",
       "Manitoba                               88\n",
       "Washington, D.C.                       78\n",
       "Saskatchewan                           33\n",
       "Nova Scotia                            32\n",
       "Tristan da Cunha                       31\n",
       "Guerrero                               31\n",
       "Galapagos                              24\n",
       "Nunavut                                22\n",
       "Oaxaca                                 17\n",
       "Jalisco                                16\n",
       "Yukon                                  14\n",
       "Yucatan                                13\n",
       "Quebec                                 13\n",
       "Saint Helena                           10\n",
       "Sonora                                  9\n",
       "Valparaiso                              9\n",
       "New Brunswick                           9\n",
       "Newfoundland and Labrador               9\n",
       "Tamaulipas                              7\n",
       "Eastern Cape                            6\n",
       "Nuevo Leon                              5\n",
       "Chihuahua                               4\n",
       "Veracruz                                4\n",
       "Rio de Janeiro                          4\n",
       "Amazonas                                4\n",
       "Western                                 4\n",
       "Misiones                                3\n",
       "Chatham Islands                         3\n",
       "Chiapas                                 3\n",
       "Baja California Sur                     3\n",
       "Zakarpattia                             3\n",
       "Santa Cruz                              3\n",
       "Magallanes                              3\n",
       "Lagunes                                 3\n",
       "Montserrado                             3\n",
       "Zacatecas                               2\n",
       "Western Cape                            2\n",
       "Volta                                   2\n",
       "Tierra del Fuego                        2\n",
       "Adrar                                   2\n",
       "Galicia                                 2\n",
       "Los Lagos                               2\n",
       "Michoacan                               2\n",
       "Bonaire                                 2\n",
       "Coahuila                                2\n",
       "Grand Bassa                             2\n",
       "Coquimbo                                2\n",
       "Hamilton city                           2\n",
       "La Libertad                             2\n",
       "Mono                                    1\n",
       "San Cristobal                           1\n",
       "Gao                                     1\n",
       "Brava                                   1\n",
       "Andalusia                               1\n",
       "Vaesterbotten                           1\n",
       "Santa Catarina                          1\n",
       "Santa Ana                               1\n",
       "Tlaxcala                                1\n",
       "Ninawa                                  1\n",
       "Northern                                1\n",
       "Goias                                   1\n",
       "Loreto                                  1\n",
       "Central Serbia                          1\n",
       "Quintana Roo                            1\n",
       "Luanda                                  1\n",
       "Central Abaco                           1\n",
       "Wilaya de Naama                         1\n",
       "Azores                                  1\n",
       "Guyane                                  1\n",
       "Barbuda                                 1\n",
       "Guatemala                               1\n",
       "Puebla                                  1\n",
       "Huambo                                  1\n",
       "Sha`biyat al Jabal al Gharbi            1\n",
       "Laayoune-Boujdour-Sakia El Hamra        1\n",
       "Mersin                                  1\n",
       "Sermersooq                              1\n",
       "Esmeraldas                              1\n",
       "Yobe                                    1\n",
       "Antofagasta                             1\n",
       "Bay Islands                             1\n",
       "Villa Clara                             1\n",
       "England                                 1\n",
       "Retalhuleu                              1\n",
       "Qaasuitsup                              1\n",
       "Riau                                    1\n",
       "North Abaco                             1\n",
       "Auvergne                                1\n",
       "Ica                                     1\n",
       "Guanajuato                              1\n",
       "Kasai-Oriental                          1\n",
       "Valencia                                1\n",
       "Rogaland                                1\n",
       "Queretaro                               1\n",
       "Dix-Huit Montagnes                      1\n",
       "Nzerekore                               1\n",
       "Volyn                                   1\n",
       "Southern Peninsula                      1\n",
       "San Juan                                1\n",
       "Minas Gerais                            1\n",
       "Iles Marquises                          1\n",
       "Northwest Territories                   1\n",
       "Sha`biyat al Wahat                      1\n",
       "Tillaberi                               1\n",
       "Lower Saxony                            1\n",
       "Colima                                  1\n",
       "Erongo                                  1\n",
       "Ghardaia                                1\n",
       "Sud-Comoe                               1\n",
       "Acklins                                 1\n",
       "Name: state, dtype: int64"
      ]
     },
     "execution_count": 8,
     "metadata": {},
     "output_type": "execute_result"
    }
   ],
   "source": [
    "train_data['state'][train_data['region'].isnull()].value_counts()"
   ]
  },
  {
   "cell_type": "markdown",
   "metadata": {},
   "source": [
    "Let's fill in 'Washington, D.C.''s 'state_code' as 'DC', 'region' as 'South', and 'division' as 'South Atlantic'."
   ]
  },
  {
   "cell_type": "code",
   "execution_count": 9,
   "metadata": {
    "scrolled": true
   },
   "outputs": [
    {
     "data": {
      "text/html": [
       "<div>\n",
       "<style scoped>\n",
       "    .dataframe tbody tr th:only-of-type {\n",
       "        vertical-align: middle;\n",
       "    }\n",
       "\n",
       "    .dataframe tbody tr th {\n",
       "        vertical-align: top;\n",
       "    }\n",
       "\n",
       "    .dataframe thead th {\n",
       "        text-align: right;\n",
       "    }\n",
       "</style>\n",
       "<table border=\"1\" class=\"dataframe\">\n",
       "  <thead>\n",
       "    <tr style=\"text-align: right;\">\n",
       "      <th></th>\n",
       "      <th>state</th>\n",
       "      <th>state_code</th>\n",
       "      <th>region</th>\n",
       "      <th>division</th>\n",
       "    </tr>\n",
       "  </thead>\n",
       "  <tbody>\n",
       "    <tr>\n",
       "      <th>7</th>\n",
       "      <td>District of Columbia</td>\n",
       "      <td>DC</td>\n",
       "      <td>South</td>\n",
       "      <td>South Atlantic</td>\n",
       "    </tr>\n",
       "  </tbody>\n",
       "</table>\n",
       "</div>"
      ],
      "text/plain": [
       "                  state state_code region        division\n",
       "7  District of Columbia         DC  South  South Atlantic"
      ]
     },
     "execution_count": 9,
     "metadata": {},
     "output_type": "execute_result"
    }
   ],
   "source": [
    "region_df[region_df['state_code']=='DC']"
   ]
  },
  {
   "cell_type": "code",
   "execution_count": 10,
   "metadata": {},
   "outputs": [],
   "source": [
    "# US\n",
    "train_data.loc[train_data['state'] == 'Washington, D.C.','state_code']='DC'   \n",
    "train_data.loc[train_data['state'] == 'Washington, D.C.','region']='South'   \n",
    "train_data.loc[train_data['state'] == 'Washington, D.C.','division']='South Atlantic'   "
   ]
  },
  {
   "cell_type": "code",
   "execution_count": 11,
   "metadata": {
    "scrolled": false
   },
   "outputs": [
    {
     "data": {
      "text/plain": [
       "division        4.950296\n",
       "state_code      4.950296\n",
       "region          4.950296\n",
       "county          4.345931\n",
       "state           0.006959\n",
       "make            0.000183\n",
       "transmission    0.000000\n",
       "year            0.000000\n",
       "manufacturer    0.000000\n",
       "cylinders       0.000000\n",
       "fuel            0.000000\n",
       "odometer        0.000000\n",
       "title_status    0.000000\n",
       "size            0.000000\n",
       "drive           0.000000\n",
       "type            0.000000\n",
       "weather         0.000000\n",
       "city            0.000000\n",
       "VClass          0.000000\n",
       "youSaveSpend    0.000000\n",
       "usage_yr        0.000000\n",
       "price           0.000000\n",
       "dtype: float64"
      ]
     },
     "execution_count": 11,
     "metadata": {},
     "output_type": "execute_result"
    }
   ],
   "source": [
    "((train_data.isnull().sum()/len(train_data)).sort_values(ascending = False)*100).astype(float)"
   ]
  },
  {
   "cell_type": "markdown",
   "metadata": {},
   "source": [
    "Let's drop rows with null values.  I will concentrate of the US information only."
   ]
  },
  {
   "cell_type": "code",
   "execution_count": 12,
   "metadata": {},
   "outputs": [
    {
     "data": {
      "text/plain": [
       "county          0.020809\n",
       "division        0.000000\n",
       "drive           0.000000\n",
       "year            0.000000\n",
       "manufacturer    0.000000\n",
       "make            0.000000\n",
       "cylinders       0.000000\n",
       "fuel            0.000000\n",
       "odometer        0.000000\n",
       "title_status    0.000000\n",
       "transmission    0.000000\n",
       "size            0.000000\n",
       "region          0.000000\n",
       "type            0.000000\n",
       "weather         0.000000\n",
       "city            0.000000\n",
       "state           0.000000\n",
       "VClass          0.000000\n",
       "youSaveSpend    0.000000\n",
       "usage_yr        0.000000\n",
       "state_code      0.000000\n",
       "price           0.000000\n",
       "dtype: float64"
      ]
     },
     "execution_count": 12,
     "metadata": {},
     "output_type": "execute_result"
    }
   ],
   "source": [
    "train_data.drop(train_data[train_data['region'].isnull()].index, inplace=True)\n",
    "train_data.drop(train_data[train_data['make'].isnull()].index, inplace=True)\n",
    "((train_data.isnull().sum()/len(train_data)).sort_values(ascending = False)*100).astype(float)"
   ]
  },
  {
   "cell_type": "code",
   "execution_count": 13,
   "metadata": {},
   "outputs": [
    {
     "data": {
      "text/plain": [
       "Washington, D.C.    78\n",
       "New York            30\n",
       "Name: state, dtype: int64"
      ]
     },
     "execution_count": 13,
     "metadata": {},
     "output_type": "execute_result"
    }
   ],
   "source": [
    "train_data['state'][train_data['county'].isnull()].value_counts()"
   ]
  },
  {
   "cell_type": "code",
   "execution_count": 14,
   "metadata": {},
   "outputs": [
    {
     "data": {
      "text/plain": [
       "Series([], Name: county, dtype: int64)"
      ]
     },
     "execution_count": 14,
     "metadata": {},
     "output_type": "execute_result"
    }
   ],
   "source": [
    "train_data['county'][train_data['state_code']=='DC'].value_counts()"
   ]
  },
  {
   "cell_type": "code",
   "execution_count": 15,
   "metadata": {},
   "outputs": [
    {
     "data": {
      "text/plain": [
       "Bridgeport     285\n",
       "Rome           220\n",
       "Bensonhurst    148\n",
       "Utica          134\n",
       "Binghamton     125\n",
       "              ... \n",
       "Castile          1\n",
       "Albertson        1\n",
       "Avon             1\n",
       "East Hills       1\n",
       "Clarkson         1\n",
       "Name: city, Length: 711, dtype: int64"
      ]
     },
     "execution_count": 15,
     "metadata": {},
     "output_type": "execute_result"
    }
   ],
   "source": [
    "train_data['city'][(train_data['county'].notnull())\n",
    "                   & (train_data['state']=='New York')].value_counts()"
   ]
  },
  {
   "cell_type": "code",
   "execution_count": 16,
   "metadata": {},
   "outputs": [
    {
     "data": {
      "text/plain": [
       "Series([], Name: county, dtype: int64)"
      ]
     },
     "execution_count": 16,
     "metadata": {},
     "output_type": "execute_result"
    }
   ],
   "source": [
    "train_data['county'][train_data['city']=='New York City'].value_counts()"
   ]
  },
  {
   "cell_type": "markdown",
   "metadata": {},
   "source": [
    "Let's drop 'county' in that 'city' and 'state' are enough location information."
   ]
  },
  {
   "cell_type": "code",
   "execution_count": 17,
   "metadata": {},
   "outputs": [],
   "source": [
    "train_data.drop(['county'], axis = 1, inplace=True)"
   ]
  },
  {
   "cell_type": "code",
   "execution_count": 18,
   "metadata": {},
   "outputs": [
    {
     "data": {
      "text/plain": [
       "sedan          167737\n",
       "suv            120526\n",
       "truck           68052\n",
       "pickup          47120\n",
       "coupe           35616\n",
       "hatchback       19525\n",
       "mini-van        14141\n",
       "convertible     12781\n",
       "wagon           12323\n",
       "van              9999\n",
       "other            8894\n",
       "offroad          1721\n",
       "bus               562\n",
       "Name: type, dtype: int64"
      ]
     },
     "execution_count": 18,
     "metadata": {},
     "output_type": "execute_result"
    }
   ],
   "source": [
    "train_data['type'].value_counts()"
   ]
  },
  {
   "cell_type": "code",
   "execution_count": 19,
   "metadata": {},
   "outputs": [
    {
     "data": {
      "text/plain": [
       "sport utility vehicle - 4wd           91891\n",
       "standard pickup trucks 4wd            90629\n",
       "midsize cars                          89452\n",
       "compact cars                          57707\n",
       "standard pickup trucks                53722\n",
       "large cars                            35100\n",
       "subcompact cars                       25825\n",
       "minivan - 2wd                         17328\n",
       "standard pickup trucks 2wd            14885\n",
       "small sport utility vehicle 4wd       11014\n",
       "two seaters                            7109\n",
       "small sport utility vehicle 2wd        6778\n",
       "small station wagons                   4779\n",
       "sport utility vehicle - 2wd            4534\n",
       "minicompact cars                       2584\n",
       "minivan - 4wd                          2384\n",
       "small pickup trucks 4wd                1373\n",
       "special purpose vehicle 2wd             886\n",
       "midsize station wagons                  294\n",
       "standard sport utility vehicle 4wd      293\n",
       "special purpose vehicles                200\n",
       "vans                                    101\n",
       "midsize-large station wagons             46\n",
       "special purpose vehicle 4wd              30\n",
       "standard sport utility vehicle 2wd       29\n",
       "small pickup trucks                      17\n",
       "vans, passenger type                      6\n",
       "small pickup trucks 2wd                   1\n",
       "Name: VClass, dtype: int64"
      ]
     },
     "execution_count": 19,
     "metadata": {},
     "output_type": "execute_result"
    }
   ],
   "source": [
    "train_data['VClass'].value_counts()"
   ]
  },
  {
   "cell_type": "markdown",
   "metadata": {},
   "source": [
    "Let's drop 'type', and instead 'VClass' can give more specific information of vehicles."
   ]
  },
  {
   "cell_type": "code",
   "execution_count": 20,
   "metadata": {},
   "outputs": [],
   "source": [
    "train_data.drop(['type'], axis = 1, inplace=True)"
   ]
  },
  {
   "cell_type": "code",
   "execution_count": 21,
   "metadata": {},
   "outputs": [
    {
     "name": "stdout",
     "output_type": "stream",
     "text": [
      "<class 'pandas.core.frame.DataFrame'>\n",
      "Int64Index: 518997 entries, 0 to 546027\n",
      "Data columns (total 20 columns):\n",
      " #   Column        Non-Null Count   Dtype  \n",
      "---  ------        --------------   -----  \n",
      " 0   price         518997 non-null  int64  \n",
      " 1   year          518997 non-null  int64  \n",
      " 2   manufacturer  518997 non-null  object \n",
      " 3   make          518997 non-null  object \n",
      " 4   cylinders     518997 non-null  int64  \n",
      " 5   fuel          518997 non-null  object \n",
      " 6   odometer      518997 non-null  int64  \n",
      " 7   title_status  518997 non-null  object \n",
      " 8   transmission  518997 non-null  object \n",
      " 9   drive         518997 non-null  object \n",
      " 10  size          518997 non-null  object \n",
      " 11  weather       518997 non-null  float64\n",
      " 12  city          518997 non-null  object \n",
      " 13  state         518997 non-null  object \n",
      " 14  VClass        518997 non-null  object \n",
      " 15  youSaveSpend  518997 non-null  float64\n",
      " 16  usage_yr      518997 non-null  int64  \n",
      " 17  state_code    518997 non-null  object \n",
      " 18  region        518997 non-null  object \n",
      " 19  division      518997 non-null  object \n",
      "dtypes: float64(2), int64(5), object(13)\n",
      "memory usage: 83.2+ MB\n"
     ]
    }
   ],
   "source": [
    "train_data.info()"
   ]
  },
  {
   "cell_type": "code",
   "execution_count": 22,
   "metadata": {},
   "outputs": [],
   "source": [
    "train_data['weather'] = train_data['weather'].astype(int)\n",
    "train_data['youSaveSpend'] = train_data['youSaveSpend'].astype(int)"
   ]
  },
  {
   "cell_type": "code",
   "execution_count": 23,
   "metadata": {},
   "outputs": [
    {
     "data": {
      "text/plain": [
       "sport utility vehicle - 4wd           91891\n",
       "standard pickup trucks 4wd            90629\n",
       "midsize cars                          89452\n",
       "compact cars                          57707\n",
       "standard pickup trucks                53722\n",
       "large cars                            35100\n",
       "subcompact cars                       25825\n",
       "minivan - 2wd                         17328\n",
       "standard pickup trucks 2wd            14885\n",
       "small sport utility vehicle 4wd       11014\n",
       "two seaters                            7109\n",
       "small sport utility vehicle 2wd        6778\n",
       "small station wagons                   4779\n",
       "sport utility vehicle - 2wd            4534\n",
       "minicompact cars                       2584\n",
       "minivan - 4wd                          2384\n",
       "small pickup trucks 4wd                1373\n",
       "special purpose vehicle 2wd             886\n",
       "midsize station wagons                  294\n",
       "standard sport utility vehicle 4wd      293\n",
       "special purpose vehicles                200\n",
       "vans                                    101\n",
       "midsize-large station wagons             46\n",
       "special purpose vehicle 4wd              30\n",
       "standard sport utility vehicle 2wd       29\n",
       "small pickup trucks                      17\n",
       "vans, passenger type                      6\n",
       "small pickup trucks 2wd                   1\n",
       "Name: VClass, dtype: int64"
      ]
     },
     "execution_count": 23,
     "metadata": {},
     "output_type": "execute_result"
    }
   ],
   "source": [
    "train_data['VClass'].value_counts()"
   ]
  },
  {
   "cell_type": "code",
   "execution_count": 24,
   "metadata": {
    "scrolled": true
   },
   "outputs": [
    {
     "data": {
      "text/plain": [
       "full-size      268301\n",
       "mid-size       168567\n",
       "compact         77399\n",
       "sub-compact      4730\n",
       "Name: size, dtype: int64"
      ]
     },
     "execution_count": 24,
     "metadata": {},
     "output_type": "execute_result"
    }
   ],
   "source": [
    "train_data['size'].value_counts()"
   ]
  },
  {
   "cell_type": "markdown",
   "metadata": {},
   "source": [
    "Let's drop 'size' because 'VClass' replace it."
   ]
  },
  {
   "cell_type": "code",
   "execution_count": 25,
   "metadata": {},
   "outputs": [],
   "source": [
    "train_data.drop(['size'], axis = 1, inplace=True)"
   ]
  },
  {
   "cell_type": "code",
   "execution_count": 26,
   "metadata": {},
   "outputs": [
    {
     "name": "stdout",
     "output_type": "stream",
     "text": [
      "<class 'pandas.core.frame.DataFrame'>\n",
      "Int64Index: 518997 entries, 0 to 546027\n",
      "Data columns (total 19 columns):\n",
      " #   Column        Non-Null Count   Dtype \n",
      "---  ------        --------------   ----- \n",
      " 0   price         518997 non-null  int64 \n",
      " 1   year          518997 non-null  int64 \n",
      " 2   manufacturer  518997 non-null  object\n",
      " 3   make          518997 non-null  object\n",
      " 4   cylinders     518997 non-null  int64 \n",
      " 5   fuel          518997 non-null  object\n",
      " 6   odometer      518997 non-null  int64 \n",
      " 7   title_status  518997 non-null  object\n",
      " 8   transmission  518997 non-null  object\n",
      " 9   drive         518997 non-null  object\n",
      " 10  weather       518997 non-null  int32 \n",
      " 11  city          518997 non-null  object\n",
      " 12  state         518997 non-null  object\n",
      " 13  VClass        518997 non-null  object\n",
      " 14  youSaveSpend  518997 non-null  int32 \n",
      " 15  usage_yr      518997 non-null  int64 \n",
      " 16  state_code    518997 non-null  object\n",
      " 17  region        518997 non-null  object\n",
      " 18  division      518997 non-null  object\n",
      "dtypes: int32(2), int64(5), object(12)\n",
      "memory usage: 75.2+ MB\n"
     ]
    }
   ],
   "source": [
    "train_data.info()"
   ]
  },
  {
   "cell_type": "markdown",
   "metadata": {},
   "source": [
    "Let's drop some features in order to make the dataset lighter."
   ]
  },
  {
   "cell_type": "code",
   "execution_count": 27,
   "metadata": {},
   "outputs": [],
   "source": [
    "#train_data.drop(['division'], axis = 1, inplace=True)\n",
    "train_data.drop(['state_code'], axis = 1, inplace=True)\n",
    "train_data.drop(['state'], axis = 1, inplace=True)\n",
    "train_data.drop(['city'], axis = 1, inplace=True)\n",
    "#train_data.drop(['manufacturer'], axis = 1, inplace=True)\n",
    "train_data.drop(['make'], axis = 1, inplace=True)"
   ]
  },
  {
   "cell_type": "code",
   "execution_count": 28,
   "metadata": {
    "scrolled": false
   },
   "outputs": [
    {
     "data": {
      "image/png": "[encoded data removed]",
      "text/plain": [
       "<Figure size 1440x1080 with 2 Axes>"
      ]
     },
     "metadata": {
      "needs_background": "light"
     },
     "output_type": "display_data"
    }
   ],
   "source": [
    "import seaborn as sns\n",
    "import matplotlib.pyplot as plt\n",
    "corr = train_data.corr()\n",
    "plt.subplots(figsize=(20,15))\n",
    "ax = sns.heatmap(\n",
    "    corr, \n",
    "    vmin=-1, vmax=1, center=0,\n",
    "    cmap=sns.diverging_palette(20, 220, n=200),\n",
    "    square=True,\n",
    "    annot=True,\n",
    "    linewidths=1\n",
    ")\n",
    "ax.set_xticklabels(\n",
    "    ax.get_xticklabels(),\n",
    "    rotation=45,\n",
    "    horizontalalignment='right'\n",
    ");"
   ]
  },
  {
   "cell_type": "markdown",
   "metadata": {},
   "source": [
    "Target, 'price' seems having timid correlation with other features.  So let's remove outliers of 'price'.\n",
    "\n",
    "Let's make another feature 'price_log'."
   ]
  },
  {
   "cell_type": "code",
   "execution_count": 29,
   "metadata": {},
   "outputs": [],
   "source": [
    "import math\n",
    "\n",
    "train_data['price_log'] = np.log(train_data['price'])"
   ]
  },
  {
   "cell_type": "code",
   "execution_count": 30,
   "metadata": {},
   "outputs": [
    {
     "data": {
      "text/html": [
       "<div>\n",
       "<style scoped>\n",
       "    .dataframe tbody tr th:only-of-type {\n",
       "        vertical-align: middle;\n",
       "    }\n",
       "\n",
       "    .dataframe tbody tr th {\n",
       "        vertical-align: top;\n",
       "    }\n",
       "\n",
       "    .dataframe thead th {\n",
       "        text-align: right;\n",
       "    }\n",
       "</style>\n",
       "<table border=\"1\" class=\"dataframe\">\n",
       "  <thead>\n",
       "    <tr style=\"text-align: right;\">\n",
       "      <th></th>\n",
       "      <th>price</th>\n",
       "      <th>year</th>\n",
       "      <th>manufacturer</th>\n",
       "      <th>cylinders</th>\n",
       "      <th>fuel</th>\n",
       "      <th>odometer</th>\n",
       "      <th>title_status</th>\n",
       "      <th>transmission</th>\n",
       "      <th>drive</th>\n",
       "      <th>weather</th>\n",
       "      <th>VClass</th>\n",
       "      <th>youSaveSpend</th>\n",
       "      <th>usage_yr</th>\n",
       "      <th>region</th>\n",
       "      <th>division</th>\n",
       "      <th>price_log</th>\n",
       "    </tr>\n",
       "  </thead>\n",
       "  <tbody>\n",
       "    <tr>\n",
       "      <th>0</th>\n",
       "      <td>11900</td>\n",
       "      <td>2010</td>\n",
       "      <td>dodge</td>\n",
       "      <td>6</td>\n",
       "      <td>gas</td>\n",
       "      <td>43600</td>\n",
       "      <td>clean</td>\n",
       "      <td>automatic</td>\n",
       "      <td>rwd</td>\n",
       "      <td>38</td>\n",
       "      <td>midsize cars</td>\n",
       "      <td>-5750</td>\n",
       "      <td>9</td>\n",
       "      <td>Midwest</td>\n",
       "      <td>West North Central</td>\n",
       "      <td>9.384294</td>\n",
       "    </tr>\n",
       "    <tr>\n",
       "      <th>1</th>\n",
       "      <td>2800</td>\n",
       "      <td>2004</td>\n",
       "      <td>ford</td>\n",
       "      <td>6</td>\n",
       "      <td>gas</td>\n",
       "      <td>168591</td>\n",
       "      <td>clean</td>\n",
       "      <td>automatic</td>\n",
       "      <td>fwd</td>\n",
       "      <td>47</td>\n",
       "      <td>large cars</td>\n",
       "      <td>-2250</td>\n",
       "      <td>15</td>\n",
       "      <td>Midwest</td>\n",
       "      <td>West North Central</td>\n",
       "      <td>7.937375</td>\n",
       "    </tr>\n",
       "    <tr>\n",
       "      <th>2</th>\n",
       "      <td>2800</td>\n",
       "      <td>2004</td>\n",
       "      <td>ford</td>\n",
       "      <td>6</td>\n",
       "      <td>gas</td>\n",
       "      <td>168591</td>\n",
       "      <td>clean</td>\n",
       "      <td>automatic</td>\n",
       "      <td>fwd</td>\n",
       "      <td>47</td>\n",
       "      <td>large cars</td>\n",
       "      <td>-2250</td>\n",
       "      <td>15</td>\n",
       "      <td>Midwest</td>\n",
       "      <td>West North Central</td>\n",
       "      <td>7.937375</td>\n",
       "    </tr>\n",
       "    <tr>\n",
       "      <th>3</th>\n",
       "      <td>400</td>\n",
       "      <td>2001</td>\n",
       "      <td>pontiac</td>\n",
       "      <td>0</td>\n",
       "      <td>gas</td>\n",
       "      <td>217000</td>\n",
       "      <td>clean</td>\n",
       "      <td>automatic</td>\n",
       "      <td>fwd</td>\n",
       "      <td>47</td>\n",
       "      <td>midsize cars</td>\n",
       "      <td>-1750</td>\n",
       "      <td>18</td>\n",
       "      <td>Midwest</td>\n",
       "      <td>West North Central</td>\n",
       "      <td>5.991465</td>\n",
       "    </tr>\n",
       "    <tr>\n",
       "      <th>4</th>\n",
       "      <td>9900</td>\n",
       "      <td>2007</td>\n",
       "      <td>gmc</td>\n",
       "      <td>8</td>\n",
       "      <td>gas</td>\n",
       "      <td>169000</td>\n",
       "      <td>clean</td>\n",
       "      <td>automatic</td>\n",
       "      <td>4wd</td>\n",
       "      <td>38</td>\n",
       "      <td>standard pickup trucks 4wd</td>\n",
       "      <td>-5000</td>\n",
       "      <td>12</td>\n",
       "      <td>Midwest</td>\n",
       "      <td>West North Central</td>\n",
       "      <td>9.200290</td>\n",
       "    </tr>\n",
       "  </tbody>\n",
       "</table>\n",
       "</div>"
      ],
      "text/plain": [
       "   price  year manufacturer  cylinders fuel  odometer title_status  \\\n",
       "0  11900  2010        dodge          6  gas     43600        clean   \n",
       "1   2800  2004         ford          6  gas    168591        clean   \n",
       "2   2800  2004         ford          6  gas    168591        clean   \n",
       "3    400  2001      pontiac          0  gas    217000        clean   \n",
       "4   9900  2007          gmc          8  gas    169000        clean   \n",
       "\n",
       "  transmission drive  weather                      VClass  youSaveSpend  \\\n",
       "0    automatic   rwd       38                midsize cars         -5750   \n",
       "1    automatic   fwd       47                  large cars         -2250   \n",
       "2    automatic   fwd       47                  large cars         -2250   \n",
       "3    automatic   fwd       47                midsize cars         -1750   \n",
       "4    automatic   4wd       38  standard pickup trucks 4wd         -5000   \n",
       "\n",
       "   usage_yr   region            division  price_log  \n",
       "0         9  Midwest  West North Central   9.384294  \n",
       "1        15  Midwest  West North Central   7.937375  \n",
       "2        15  Midwest  West North Central   7.937375  \n",
       "3        18  Midwest  West North Central   5.991465  \n",
       "4        12  Midwest  West North Central   9.200290  "
      ]
     },
     "execution_count": 30,
     "metadata": {},
     "output_type": "execute_result"
    }
   ],
   "source": [
    "train_data.head()"
   ]
  },
  {
   "cell_type": "code",
   "execution_count": 31,
   "metadata": {},
   "outputs": [
    {
     "data": {
      "text/plain": [
       "<matplotlib.axes._subplots.AxesSubplot at 0x25d064e6808>"
      ]
     },
     "execution_count": 31,
     "metadata": {},
     "output_type": "execute_result"
    },
    {
     "data": {
      "image/png": "[encoded data removed]",
      "text/plain": [
       "<Figure size 432x288 with 1 Axes>"
      ]
     },
     "metadata": {
      "needs_background": "light"
     },
     "output_type": "display_data"
    }
   ],
   "source": [
    "train_data['price'].hist()"
   ]
  },
  {
   "cell_type": "code",
   "execution_count": 32,
   "metadata": {
    "scrolled": true
   },
   "outputs": [
    {
     "data": {
      "text/plain": [
       "<matplotlib.axes._subplots.AxesSubplot at 0x25d06519fc8>"
      ]
     },
     "execution_count": 32,
     "metadata": {},
     "output_type": "execute_result"
    },
    {
     "data": {
      "image/png": "[encoded data removed]",
      "text/plain": [
       "<Figure size 432x288 with 1 Axes>"
      ]
     },
     "metadata": {
      "needs_background": "light"
     },
     "output_type": "display_data"
    }
   ],
   "source": [
    "train_data['price_log'].hist()"
   ]
  },
  {
   "cell_type": "code",
   "execution_count": 33,
   "metadata": {},
   "outputs": [
    {
     "data": {
      "image/png": "[encoded data removed]",
      "text/plain": [
       "<Figure size 432x288 with 1 Axes>"
      ]
     },
     "metadata": {
      "needs_background": "light"
     },
     "output_type": "display_data"
    }
   ],
   "source": [
    "plt.boxplot(train_data['price_log'])\n",
    "plt.show()"
   ]
  },
  {
   "cell_type": "markdown",
   "metadata": {},
   "source": [
    "The above 'price_log' seems having too many outliers, so it is better to remove outliers."
   ]
  },
  {
   "cell_type": "markdown",
   "metadata": {},
   "source": [
    "# Remove Outliers by using IsolationForest."
   ]
  },
  {
   "cell_type": "code",
   "execution_count": 34,
   "metadata": {},
   "outputs": [],
   "source": [
    "train_data = pd.get_dummies(train_data, columns=['fuel','title_status','transmission','drive',\n",
    "                                                 'VClass','region','division','manufacturer'])\n",
    "#feature_columns = list(train_data.columns.difference(['price']))\n"
   ]
  },
  {
   "cell_type": "code",
   "execution_count": 35,
   "metadata": {},
   "outputs": [
    {
     "name": "stderr",
     "output_type": "stream",
     "text": [
      "C:\\Users\\danie\\Anaconda\\lib\\site-packages\\sklearn\\ensemble\\_iforest.py:255: FutureWarning: 'behaviour' is deprecated in 0.22 and will be removed in 0.24. You should not pass or set this parameter.\n",
      "  FutureWarning\n"
     ]
    },
    {
     "name": "stdout",
     "output_type": "stream",
     "text": [
      " 1    516921\n",
      "-1      2076\n",
      "Name: anomaly, dtype: int64\n"
     ]
    }
   ],
   "source": [
    "from sklearn.ensemble import IsolationForest\n",
    "clf=IsolationForest(n_estimators=50, max_samples=50, contamination=float(0.004), \n",
    "                    max_features=1.0, bootstrap=False, n_jobs=-1,\n",
    "                    random_state=None, verbose=0,behaviour=\"new\")\n",
    "# 50개의 노드 수, 최대 50개의 샘플\n",
    "# 0.04%의 outlier 색출.\n",
    "clf.fit(train_data)\n",
    "pred = clf.predict(train_data)\n",
    "train_data['anomaly']=pred\n",
    "outliers=train_data.loc[train_data['anomaly']==-1]\n",
    "outlier_index=list(outliers.index)\n",
    "#print(outlier_index)\n",
    "#Find the number of anomalies and normal points here points classified -1 are anomalous\n",
    "print(train_data['anomaly'].value_counts())"
   ]
  },
  {
   "cell_type": "code",
   "execution_count": 36,
   "metadata": {},
   "outputs": [
    {
     "name": "stdout",
     "output_type": "stream",
     "text": [
      "45000    0.058637\n",
      "35000    0.055468\n",
      "25000    0.041204\n",
      "30000    0.041204\n",
      "8000     0.033281\n",
      "           ...   \n",
      "51550    0.001585\n",
      "2400     0.001585\n",
      "40       0.001585\n",
      "26990    0.001585\n",
      "6        0.001585\n",
      "Name: price, Length: 631, dtype: float64\n"
     ]
    }
   ],
   "source": [
    "print(train_data['price'][train_data['anomaly']==-1].value_counts()/len(train_data['price'][train_data['anomaly']==-1].value_counts()))"
   ]
  },
  {
   "cell_type": "code",
   "execution_count": 37,
   "metadata": {},
   "outputs": [
    {
     "name": "stdout",
     "output_type": "stream",
     "text": [
      "2500     0.440860\n",
      "3500     0.426381\n",
      "4500     0.365964\n",
      "1500     0.336807\n",
      "3000     0.331897\n",
      "           ...   \n",
      "9392     0.000050\n",
      "7351     0.000050\n",
      "25940    0.000050\n",
      "25784    0.000050\n",
      "6141     0.000050\n",
      "Name: price, Length: 19961, dtype: float64\n"
     ]
    }
   ],
   "source": [
    "print(train_data['price'][train_data['anomaly']==1].value_counts()/len(train_data['price'][train_data['anomaly']==1].value_counts()))"
   ]
  },
  {
   "cell_type": "markdown",
   "metadata": {},
   "source": [
    "Let's drop rows whose 'anomaly' value is -1."
   ]
  },
  {
   "cell_type": "code",
   "execution_count": 38,
   "metadata": {},
   "outputs": [],
   "source": [
    "train_data.drop(train_data[train_data['anomaly']==-1].index, inplace=True)"
   ]
  },
  {
   "cell_type": "code",
   "execution_count": 39,
   "metadata": {},
   "outputs": [
    {
     "name": "stdout",
     "output_type": "stream",
     "text": [
      "Series([], Name: price, dtype: float64)\n"
     ]
    }
   ],
   "source": [
    "print(train_data['price'][train_data['anomaly']==-1].value_counts()/len(train_data['price'][train_data['anomaly']==-1].value_counts()))"
   ]
  },
  {
   "cell_type": "code",
   "execution_count": null,
   "metadata": {},
   "outputs": [],
   "source": []
  },
  {
   "cell_type": "code",
   "execution_count": null,
   "metadata": {},
   "outputs": [],
   "source": []
  },
  {
   "cell_type": "code",
   "execution_count": 40,
   "metadata": {},
   "outputs": [],
   "source": [
    "X = train_data.drop('price', axis=1)\n",
    "y = train_data['price'].values"
   ]
  },
  {
   "cell_type": "code",
   "execution_count": 41,
   "metadata": {},
   "outputs": [],
   "source": [
    "train_data = train_data.astype('int')"
   ]
  },
  {
   "cell_type": "code",
   "execution_count": 42,
   "metadata": {},
   "outputs": [],
   "source": [
    "from sklearn import tree\n",
    "clf = tree.DecisionTreeClassifier()\n",
    "clf = clf.fit(X, y)"
   ]
  },
  {
   "cell_type": "code",
   "execution_count": 43,
   "metadata": {},
   "outputs": [
    {
     "data": {
      "text/plain": [
       "[Text(26.87963422904691, 216.00947368421052, 'X[6] <= 7.825\\ngini = 0.996\\nsamples = 516921\\nvalue = [2189, 42, 33 ... 2, 1, 1]'),\n",
       " Text(19.41125901325089, 213.1484210526316, 'X[6] <= 7.824\\ngini = 0.96\\nsamples = 81971\\nvalue = [2189, 42, 33 ... 0, 0, 0]'),\n",
       " Text(19.38755781349048, 210.28736842105263, 'X[6] <= 7.601\\ngini = 0.964\\nsamples = 73171\\nvalue = [2189, 42, 33 ... 0, 0, 0]'),\n",
       " Text(16.928164416574077, 207.42631578947368, 'X[6] <= 7.313\\ngini = 0.957\\nsamples = 55307\\nvalue = [2189, 42, 33 ... 0, 0, 0]'),\n",
       " Text(15.253618214165135, 204.56526315789475, 'X[6] <= 0.347\\ngini = 0.946\\nsamples = 34651\\nvalue = [2189, 42, 33 ... 0, 0, 0]'),\n",
       " Text(15.229917014404723, 201.7042105263158, 'gini = 0.0\\nsamples = 2189\\nvalue = [2189, 0, 0 ... 0, 0, 0]'),\n",
       " Text(15.277319413925548, 201.7042105263158, 'X[6] <= 7.09\\ngini = 0.943\\nsamples = 32462\\nvalue = [0, 42, 33 ... 0, 0, 0]'),\n",
       " Text(13.943986273887319, 198.84315789473683, 'X[6] <= 6.907\\ngini = 0.925\\nsamples = 23560\\nvalue = [0, 42, 33 ... 0, 0, 0]'),\n",
       " Text(12.644212623743424, 195.9821052631579, 'X[6] <= 6.684\\ngini = 0.943\\nsamples = 16998\\nvalue = [0, 42, 33 ... 0, 0, 0]'),\n",
       " Text(11.548765680126216, 193.12105263157895, 'X[6] <= 6.55\\ngini = 0.928\\nsamples = 11374\\nvalue = [0, 42, 33 ... 0, 0, 0]'),\n",
       " Text(10.525341046715264, 190.26, 'X[6] <= 6.396\\ngini = 0.912\\nsamples = 9097\\nvalue = [0, 42, 33 ... 0, 0, 0]'),\n",
       " Text(9.264334684449553, 187.39894736842106, 'X[6] <= 6.214\\ngini = 0.895\\nsamples = 7110\\nvalue = [0, 42, 33 ... 0, 0, 0]'),\n",
       " Text(7.688888625349623, 184.5378947368421, 'X[6] <= 5.99\\ngini = 0.971\\nsamples = 4462\\nvalue = [0, 42, 33 ... 0, 0, 0]'),\n",
       " Text(5.7106503984208175, 181.67684210526315, 'X[6] <= 5.702\\ngini = 0.98\\nsamples = 3330\\nvalue = [0, 42, 33 ... 0, 0, 0]'),\n",
       " Text(3.7249611086255907, 178.81578947368422, 'X[6] <= 5.699\\ngini = 0.987\\nsamples = 2358\\nvalue = [0, 42, 33 ... 0, 0, 0]'),\n",
       " Text(3.7012599088651776, 175.95473684210526, 'X[6] <= 0.896\\ngini = 0.987\\nsamples = 2309\\nvalue = [0, 42, 33 ... 0, 0, 0]'),\n",
       " Text(3.6775587091047646, 173.0936842105263, 'gini = 0.0\\nsamples = 42\\nvalue = [0, 42, 0 ... 0, 0, 0]'),\n",
       " Text(3.7249611086255907, 173.0936842105263, 'X[6] <= 5.519\\ngini = 0.987\\nsamples = 2267\\nvalue = [0, 0, 33 ... 0, 0, 0]'),\n",
       " Text(1.6740509350124246, 170.23263157894738, 'X[6] <= 2.35\\ngini = 0.985\\nsamples = 1840\\nvalue = [0, 0, 33 ... 0, 0, 0]'),\n",
       " Text(0.09480479904165176, 167.37157894736842, 'X[6] <= 2.25\\ngini = 0.849\\nsamples = 243\\nvalue = [0, 0, 33 ... 0, 0, 0]'),\n",
       " Text(0.07110359928123883, 164.51052631578946, 'X[6] <= 1.242\\ngini = 0.842\\nsamples = 183\\nvalue = [0, 0, 33 ... 0, 0, 0]'),\n",
       " Text(0.04740239952082588, 161.64947368421053, 'gini = 0.0\\nsamples = 33\\nvalue = [0, 0, 33 ... 0, 0, 0]'),\n",
       " Text(0.09480479904165176, 161.64947368421053, 'X[6] <= 1.701\\ngini = 0.813\\nsamples = 150\\nvalue = [0, 0, 0 ... 0, 0, 0]'),\n",
       " Text(0.04740239952082588, 158.78842105263158, 'X[6] <= 1.498\\ngini = 0.47\\nsamples = 69\\nvalue = [0, 0, 0 ... 0, 0, 0]'),\n",
       " Text(0.02370119976041294, 155.92736842105262, 'gini = 0.0\\nsamples = 26\\nvalue = [0, 0, 0 ... 0, 0, 0]'),\n",
       " Text(0.07110359928123883, 155.92736842105262, 'gini = 0.0\\nsamples = 43\\nvalue = [0, 0, 0 ... 0, 0, 0]'),\n",
       " Text(0.14220719856247765, 158.78842105263158, 'X[6] <= 2.138\\ngini = 0.744\\nsamples = 81\\nvalue = [0, 0, 0 ... 0, 0, 0]'),\n",
       " Text(0.1185059988020647, 155.92736842105262, 'X[6] <= 2.013\\ngini = 0.656\\nsamples = 60\\nvalue = [0, 0, 0 ... 0, 0, 0]'),\n",
       " Text(0.09480479904165176, 153.06631578947366, 'X[6] <= 1.869\\ngini = 0.482\\nsamples = 37\\nvalue = [0, 0, 0 ... 0, 0, 0]'),\n",
       " Text(0.07110359928123883, 150.20526315789473, 'gini = 0.0\\nsamples = 15\\nvalue = [0, 0, 0 ... 0, 0, 0]'),\n",
       " Text(0.1185059988020647, 150.20526315789473, 'gini = 0.0\\nsamples = 22\\nvalue = [0, 0, 0 ... 0, 0, 0]'),\n",
       " Text(0.14220719856247765, 153.06631578947366, 'gini = 0.0\\nsamples = 23\\nvalue = [0, 0, 0 ... 0, 0, 0]'),\n",
       " Text(0.1659083983228906, 155.92736842105262, 'gini = 0.0\\nsamples = 21\\nvalue = [0, 0, 0 ... 0, 0, 0]'),\n",
       " Text(0.1185059988020647, 164.51052631578946, 'gini = 0.0\\nsamples = 60\\nvalue = [0, 0, 0 ... 0, 0, 0]'),\n",
       " Text(3.2532970709831974, 167.37157894736842, 'X[58] <= 0.5\\ngini = 0.984\\nsamples = 1597\\nvalue = [0, 0, 0 ... 0, 0, 0]'),\n",
       " Text(1.7994988364237594, 164.51052631578946, 'X[6] <= 5.296\\ngini = 0.985\\nsamples = 1288\\nvalue = [0, 0, 0 ... 0, 0, 0]'),\n",
       " Text(0.378041658532026, 161.64947368421053, 'X[6] <= 5.291\\ngini = 0.984\\nsamples = 916\\nvalue = [0, 0, 0 ... 0, 0, 0]'),\n",
       " Text(0.354340458771613, 158.78842105263158, 'X[6] <= 2.525\\ngini = 0.983\\nsamples = 891\\nvalue = [0, 0, 0 ... 0, 0, 0]'),\n",
       " Text(0.21331079784371645, 155.92736842105262, 'X[6] <= 2.441\\ngini = 0.467\\nsamples = 43\\nvalue = [0, 0, 0 ... 0, 0, 0]'),\n",
       " Text(0.18960959808330352, 153.06631578947366, 'gini = 0.0\\nsamples = 16\\nvalue = [0, 0, 0 ... 0, 0, 0]'),\n",
       " Text(0.2370119976041294, 153.06631578947366, 'gini = 0.0\\nsamples = 27\\nvalue = [0, 0, 0 ... 0, 0, 0]'),\n",
       " Text(0.4953701196995096, 155.92736842105262, 'X[6] <= 2.803\\ngini = 0.983\\nsamples = 848\\nvalue = [0, 0, 0 ... 0, 0, 0]'),\n",
       " Text(0.2844143971249553, 153.06631578947366, 'X[6] <= 2.74\\ngini = 0.715\\nsamples = 76\\nvalue = [0, 0, 0 ... 0, 0, 0]'),\n",
       " Text(0.26071319736454235, 150.20526315789473, 'X[6] <= 2.674\\ngini = 0.602\\nsamples = 53\\nvalue = [0, 0, 0 ... 0, 0, 0]'),\n",
       " Text(0.2370119976041294, 147.3442105263158, 'X[6] <= 2.602\\ngini = 0.426\\nsamples = 26\\nvalue = [0, 0, 0 ... 0, 0, 0]'),\n",
       " Text(0.21331079784371645, 144.48315789473685, 'gini = 0.0\\nsamples = 18\\nvalue = [0, 0, 0 ... 0, 0, 0]'),\n",
       " Text(0.26071319736454235, 144.48315789473685, 'gini = 0.0\\nsamples = 8\\nvalue = [0, 0, 0 ... 0, 0, 0]'),\n",
       " Text(0.2844143971249553, 147.3442105263158, 'gini = 0.0\\nsamples = 27\\nvalue = [0, 0, 0 ... 0, 0, 0]'),\n",
       " Text(0.3081155968853682, 150.20526315789473, 'gini = 0.0\\nsamples = 23\\nvalue = [0, 0, 0 ... 0, 0, 0]'),\n",
       " Text(0.7063258422740639, 153.06631578947366, 'X[6] <= 3.02\\ngini = 0.982\\nsamples = 772\\nvalue = [0, 0, 0 ... 0, 0, 0]'),\n",
       " Text(0.3555179964061941, 150.20526315789473, 'X[6] <= 2.97\\ngini = 0.636\\nsamples = 45\\nvalue = [0, 0, 0 ... 0, 0, 0]'),\n",
       " Text(0.3318167966457812, 147.3442105263158, 'X[6] <= 2.862\\ngini = 0.635\\nsamples = 21\\nvalue = [0, 0, 0 ... 0, 0, 0]'),\n",
       " Text(0.3081155968853682, 144.48315789473685, 'gini = 0.0\\nsamples = 6\\nvalue = [0, 0, 0 ... 0, 0, 0]'),\n",
       " Text(0.3555179964061941, 144.48315789473685, 'X[6] <= 2.917\\ngini = 0.444\\nsamples = 15\\nvalue = [0, 0, 0 ... 0, 0, 0]'),\n",
       " Text(0.3318167966457812, 141.6221052631579, 'gini = 0.0\\nsamples = 10\\nvalue = [0, 0, 0 ... 0, 0, 0]'),\n",
       " Text(0.37921919616660704, 141.6221052631579, 'gini = 0.0\\nsamples = 5\\nvalue = [0, 0, 0 ... 0, 0, 0]'),\n",
       " Text(0.37921919616660704, 147.3442105263158, 'gini = 0.0\\nsamples = 24\\nvalue = [0, 0, 0 ... 0, 0, 0]'),\n",
       " Text(1.0571336881419338, 150.20526315789473, 'X[6] <= 3.238\\ngini = 0.982\\nsamples = 727\\nvalue = [0, 0, 0 ... 0, 0, 0]'),\n",
       " Text(0.4740239952082588, 147.3442105263158, 'X[6] <= 3.198\\ngini = 0.716\\nsamples = 58\\nvalue = [0, 0, 0 ... 0, 0, 0]'),\n",
       " Text(0.45032279544784587, 144.48315789473685, 'X[6] <= 3.068\\ngini = 0.698\\nsamples = 33\\nvalue = [0, 0, 0 ... 0, 0, 0]'),\n",
       " Text(0.4266215956874329, 141.6221052631579, 'gini = 0.0\\nsamples = 12\\nvalue = [0, 0, 0 ... 0, 0, 0]'),\n",
       " Text(0.4740239952082588, 141.6221052631579, 'X[6] <= 3.113\\ngini = 0.58\\nsamples = 21\\nvalue = [0, 0, 0 ... 0, 0, 0]'),\n",
       " Text(0.45032279544784587, 138.76105263157893, 'gini = 0.0\\nsamples = 12\\nvalue = [0, 0, 0 ... 0, 0, 0]'),\n",
       " Text(0.49772519496867174, 138.76105263157893, 'X[6] <= 3.157\\ngini = 0.494\\nsamples = 9\\nvalue = [0, 0, 0 ... 0, 0, 0]'),\n",
       " Text(0.4740239952082588, 135.9, 'gini = 0.0\\nsamples = 4\\nvalue = [0, 0, 0 ... 0, 0, 0]'),\n",
       " Text(0.5214263947290847, 135.9, 'gini = 0.0\\nsamples = 5\\nvalue = [0, 0, 0 ... 0, 0, 0]'),\n",
       " Text(0.49772519496867174, 144.48315789473685, 'gini = 0.0\\nsamples = 25\\nvalue = [0, 0, 0 ... 0, 0, 0]'),\n",
       " Text(1.6402433810756087, 147.3442105263158, 'X[6] <= 4.61\\ngini = 0.98\\nsamples = 669\\nvalue = [0, 0, 0 ... 0, 0, 0]'),\n",
       " Text(0.7528834236393673, 144.48315789473685, 'X[6] <= 4.6\\ngini = 0.944\\nsamples = 305\\nvalue = [0, 0, 0 ... 0, 0, 0]'),\n",
       " Text(0.7291822238789544, 141.6221052631579, 'X[6] <= 4.585\\ngini = 0.966\\nsamples = 249\\nvalue = [0, 0, 0 ... 0, 0, 0]'),\n",
       " Text(0.7054810241185414, 138.76105263157893, 'X[6] <= 3.481\\ngini = 0.965\\nsamples = 238\\nvalue = [0, 0, 0 ... 0, 0, 0]'),\n",
       " Text(0.5688287942499106, 135.9, 'X[6] <= 3.45\\ngini = 0.8\\nsamples = 47\\nvalue = [0, 0, 0 ... 0, 0, 0]'),\n",
       " Text(0.5451275944894977, 133.03894736842105, 'X[6] <= 3.35\\ngini = 0.753\\nsamples = 36\\nvalue = [0, 0, 0 ... 0, 0, 0]'),\n",
       " Text(0.49772519496867174, 130.17789473684212, 'X[6] <= 3.314\\ngini = 0.461\\nsamples = 16\\nvalue = [0, 0, 0 ... 0, 0, 0]'),\n",
       " Text(0.4740239952082588, 127.31684210526316, 'X[43] <= 0.5\\ngini = 0.32\\nsamples = 5\\nvalue = [0, 0, 0 ... 0, 0, 0]'),\n",
       " Text(0.45032279544784587, 124.4557894736842, 'gini = 0.0\\nsamples = 4\\nvalue = [0, 0, 0 ... 0, 0, 0]'),\n",
       " Text(0.49772519496867174, 124.4557894736842, 'gini = 0.0\\nsamples = 1\\nvalue = [0, 0, 0 ... 0, 0, 0]'),\n",
       " Text(0.5214263947290847, 127.31684210526316, 'gini = 0.0\\nsamples = 11\\nvalue = [0, 0, 0 ... 0, 0, 0]'),\n",
       " Text(0.5925299940103235, 130.17789473684212, 'X[6] <= 3.384\\ngini = 0.545\\nsamples = 20\\nvalue = [0, 0, 0 ... 0, 0, 0]'),\n",
       " Text(0.5688287942499106, 127.31684210526316, 'gini = 0.0\\nsamples = 10\\nvalue = [0, 0, 0 ... 0, 0, 0]'),\n",
       " Text(0.6162311937707364, 127.31684210526316, 'X[48] <= 0.5\\ngini = 0.18\\nsamples = 10\\nvalue = [0, 0, 0 ... 0, 0, 0]'),\n",
       " Text(0.5925299940103235, 124.4557894736842, 'gini = 0.0\\nsamples = 9\\nvalue = [0, 0, 0 ... 0, 0, 0]'),\n",
       " Text(0.6399323935311494, 124.4557894736842, 'gini = 0.0\\nsamples = 1\\nvalue = [0, 0, 0 ... 0, 0, 0]'),\n",
       " Text(0.5925299940103235, 133.03894736842105, 'gini = 0.0\\nsamples = 11\\nvalue = [0, 0, 0 ... 0, 0, 0]'),\n",
       " Text(0.8421332539871723, 135.9, 'X[6] <= 3.569\\ngini = 0.958\\nsamples = 191\\nvalue = [0, 0, 0 ... 0, 0, 0]'),\n",
       " Text(0.7110359928123882, 133.03894736842105, 'X[6] <= 3.541\\ngini = 0.585\\nsamples = 20\\nvalue = [0, 0, 0 ... 0, 0, 0]'),\n",
       " Text(0.6873347930519753, 130.17789473684212, 'X[6] <= 3.511\\ngini = 0.444\\nsamples = 9\\nvalue = [0, 0, 0 ... 0, 0, 0]'),\n",
       " Text(0.6636335932915624, 127.31684210526316, 'gini = 0.0\\nsamples = 6\\nvalue = [0, 0, 0 ... 0, 0, 0]'),\n",
       " Text(0.7110359928123882, 127.31684210526316, 'gini = 0.0\\nsamples = 3\\nvalue = [0, 0, 0 ... 0, 0, 0]'),\n",
       " Text(0.7347371925728011, 130.17789473684212, 'gini = 0.0\\nsamples = 11\\nvalue = [0, 0, 0 ... 0, 0, 0]'),\n",
       " Text(0.9732305151619564, 133.03894736842105, 'X[6] <= 3.951\\ngini = 0.954\\nsamples = 171\\nvalue = [0, 0, 0 ... 0, 0, 0]'),\n",
       " Text(0.782139592093627, 130.17789473684212, 'X[6] <= 3.902\\ngini = 0.852\\nsamples = 72\\nvalue = [0, 0, 0 ... 0, 0, 0]'),\n",
       " Text(0.7584383923332141, 127.31684210526316, 'X[6] <= 3.676\\ngini = 0.901\\nsamples = 49\\nvalue = [0, 0, 0 ... 0, 0, 0]'),\n",
       " Text(0.7110359928123882, 124.4557894736842, 'X[6] <= 3.651\\ngini = 0.71\\nsamples = 18\\nvalue = [0, 0, 0 ... 0, 0, 0]'),\n",
       " Text(0.6873347930519753, 121.59473684210526, 'X[6] <= 3.624\\ngini = 0.628\\nsamples = 11\\nvalue = [0, 0, 0 ... 0, 0, 0]'),\n",
       " Text(0.6636335932915624, 118.73368421052632, 'X[6] <= 3.597\\ngini = 0.408\\nsamples = 7\\nvalue = [0, 0, 0 ... 0, 0, 0]'),\n",
       " Text(0.6399323935311494, 115.87263157894736, 'gini = 0.0\\nsamples = 2\\nvalue = [0, 0, 0 ... 0, 0, 0]'),\n",
       " Text(0.6873347930519753, 115.87263157894736, 'gini = 0.0\\nsamples = 5\\nvalue = [0, 0, 0 ... 0, 0, 0]'),\n",
       " Text(0.7110359928123882, 118.73368421052632, 'gini = 0.0\\nsamples = 4\\nvalue = [0, 0, 0 ... 0, 0, 0]'),\n",
       " Text(0.7347371925728011, 121.59473684210526, 'gini = 0.0\\nsamples = 7\\nvalue = [0, 0, 0 ... 0, 0, 0]'),\n",
       " Text(0.80584079185404, 124.4557894736842, 'X[6] <= 3.701\\ngini = 0.851\\nsamples = 31\\nvalue = [0, 0, 0 ... 0, 0, 0]'),\n",
       " Text(0.782139592093627, 121.59473684210526, 'gini = 0.0\\nsamples = 7\\nvalue = [0, 0, 0 ... 0, 0, 0]'),\n",
       " Text(0.8295419916144529, 121.59473684210526, 'X[6] <= 3.795\\ngini = 0.837\\nsamples = 24\\nvalue = [0, 0, 0 ... 0, 0, 0]'),\n",
       " Text(0.782139592093627, 118.73368421052632, 'X[6] <= 3.761\\ngini = 0.64\\nsamples = 10\\nvalue = [0, 0, 0 ... 0, 0, 0]'),\n",
       " Text(0.7584383923332141, 115.87263157894736, 'X[6] <= 3.726\\ngini = 0.444\\nsamples = 6\\nvalue = [0, 0, 0 ... 0, 0, 0]'),\n",
       " Text(0.7347371925728011, 113.01157894736842, 'gini = 0.0\\nsamples = 2\\nvalue = [0, 0, 0 ... 0, 0, 0]'),\n",
       " Text(0.782139592093627, 113.01157894736842, 'gini = 0.0\\nsamples = 4\\nvalue = [0, 0, 0 ... 0, 0, 0]'),\n",
       " Text(0.80584079185404, 115.87263157894736, 'gini = 0.0\\nsamples = 4\\nvalue = [0, 0, 0 ... 0, 0, 0]'),\n",
       " Text(0.8769443911352788, 118.73368421052632, 'X[6] <= 3.828\\ngini = 0.704\\nsamples = 14\\nvalue = [0, 0, 0 ... 0, 0, 0]'),\n",
       " Text(0.8532431913748658, 115.87263157894736, 'gini = 0.0\\nsamples = 6\\nvalue = [0, 0, 0 ... 0, 0, 0]'),\n",
       " Text(0.9006455908956917, 115.87263157894736, 'X[6] <= 3.861\\ngini = 0.656\\nsamples = 8\\nvalue = [0, 0, 0 ... 0, 0, 0]'),\n",
       " Text(0.8769443911352788, 113.01157894736842, 'gini = 0.0\\nsamples = 3\\nvalue = [0, 0, 0 ... 0, 0, 0]'),\n",
       " Text(0.9243467906561047, 113.01157894736842, 'X[4] <= -5125.0\\ngini = 0.48\\nsamples = 5\\nvalue = [0, 0, 0 ... 0, 0, 0]'),\n",
       " Text(0.9006455908956917, 110.15052631578948, 'gini = 0.0\\nsamples = 2\\nvalue = [0, 0, 0 ... 0, 0, 0]'),\n",
       " Text(0.9480479904165175, 110.15052631578948, 'gini = 0.0\\nsamples = 3\\nvalue = [0, 0, 0 ... 0, 0, 0]'),\n",
       " Text(0.80584079185404, 127.31684210526316, 'gini = 0.0\\nsamples = 23\\nvalue = [0, 0, 0 ... 0, 0, 0]'),\n",
       " Text(1.1643214382302858, 130.17789473684212, 'X[6] <= 4.19\\ngini = 0.94\\nsamples = 99\\nvalue = [0, 0, 0 ... 0, 0, 0]'),\n",
       " Text(1.0310021895779629, 127.31684210526316, 'X[6] <= 4.159\\ngini = 0.827\\nsamples = 42\\nvalue = [0, 0, 0 ... 0, 0, 0]'),\n",
       " Text(1.00730098981755, 124.4557894736842, 'X[6] <= 4.016\\ngini = 0.86\\nsamples = 28\\nvalue = [0, 0, 0 ... 0, 0, 0]'),\n",
       " Text(0.9480479904165175, 121.59473684210526, 'X[6] <= 3.998\\ngini = 0.42\\nsamples = 10\\nvalue = [0, 0, 0 ... 0, 0, 0]'),\n",
       " Text(0.9243467906561047, 118.73368421052632, 'gini = 0.0\\nsamples = 3\\nvalue = [0, 0, 0 ... 0, 0, 0]'),\n",
       " Text(0.9717491901769305, 118.73368421052632, 'gini = 0.0\\nsamples = 7\\nvalue = [0, 0, 0 ... 0, 0, 0]'),\n",
       " Text(1.0665539892185822, 121.59473684210526, 'X[6] <= 4.103\\ngini = 0.84\\nsamples = 18\\nvalue = [0, 0, 0 ... 0, 0, 0]'),\n",
       " Text(1.0191515896977563, 118.73368421052632, 'X[6] <= 4.086\\ngini = 0.736\\nsamples = 12\\nvalue = [0, 0, 0 ... 0, 0, 0]'),\n",
       " Text(0.9954503899373435, 115.87263157894736, 'X[6] <= 4.034\\ngini = 0.735\\nsamples = 7\\nvalue = [0, 0, 0 ... 0, 0, 0]'),\n",
       " Text(0.9717491901769305, 113.01157894736842, 'gini = 0.0\\nsamples = 2\\nvalue = [0, 0, 0 ... 0, 0, 0]'),\n",
       " Text(1.0191515896977563, 113.01157894736842, 'X[5] <= 12.0\\ngini = 0.64\\nsamples = 5\\nvalue = [0, 0, 0 ... 0, 0, 0]'),\n",
       " Text(0.9954503899373435, 110.15052631578948, 'X[53] <= 0.5\\ngini = 0.444\\nsamples = 3\\nvalue = [0, 0, 0 ... 0, 0, 0]'),\n",
       " Text(0.9717491901769305, 107.28947368421052, 'gini = 0.0\\nsamples = 2\\nvalue = [0, 0, 0 ... 0, 0, 0]'),\n",
       " Text(1.0191515896977563, 107.28947368421052, 'gini = 0.0\\nsamples = 1\\nvalue = [0, 0, 0 ... 0, 0, 0]'),\n",
       " Text(1.0428527894581694, 110.15052631578948, 'gini = 0.0\\nsamples = 2\\nvalue = [0, 0, 0 ... 0, 0, 0]'),\n",
       " Text(1.0428527894581694, 115.87263157894736, 'gini = 0.0\\nsamples = 5\\nvalue = [0, 0, 0 ... 0, 0, 0]'),\n",
       " Text(1.1139563887394082, 118.73368421052632, 'X[3] <= 55.5\\ngini = 0.611\\nsamples = 6\\nvalue = [0, 0, 0 ... 0, 0, 0]'),\n",
       " Text(1.0902551889789953, 115.87263157894736, 'X[3] <= 51.0\\ngini = 0.444\\nsamples = 3\\nvalue = [0, 0, 0 ... 0, 0, 0]'),\n",
       " Text(1.0665539892185822, 113.01157894736842, 'gini = 0.0\\nsamples = 2\\nvalue = [0, 0, 0 ... 0, 0, 0]'),\n",
       " Text(1.1139563887394082, 113.01157894736842, 'gini = 0.0\\nsamples = 1\\nvalue = [0, 0, 0 ... 0, 0, 0]'),\n",
       " Text(1.1376575884998212, 115.87263157894736, 'gini = 0.0\\nsamples = 3\\nvalue = [0, 0, 0 ... 0, 0, 0]'),\n",
       " Text(1.054703389338376, 124.4557894736842, 'gini = 0.0\\nsamples = 14\\nvalue = [0, 0, 0 ... 0, 0, 0]'),\n",
       " Text(1.2976406868826085, 127.31684210526316, 'X[6] <= 4.241\\ngini = 0.913\\nsamples = 57\\nvalue = [0, 0, 0 ... 0, 0, 0]'),\n",
       " Text(1.20876118778106, 124.4557894736842, 'X[6] <= 4.227\\ngini = 0.43\\nsamples = 11\\nvalue = [0, 0, 0 ... 0, 0, 0]'),\n",
       " Text(1.185059988020647, 121.59473684210526, 'X[26] <= 0.5\\ngini = 0.444\\nsamples = 3\\nvalue = [0, 0, 0 ... 0, 0, 0]'),\n",
       " Text(1.161358788260234, 118.73368421052632, 'gini = 0.0\\nsamples = 2\\nvalue = [0, 0, 0 ... 0, 0, 0]'),\n",
       " Text(1.20876118778106, 118.73368421052632, 'gini = 0.0\\nsamples = 1\\nvalue = [0, 0, 0 ... 0, 0, 0]'),\n",
       " Text(1.2324623875414729, 121.59473684210526, 'gini = 0.0\\nsamples = 8\\nvalue = [0, 0, 0 ... 0, 0, 0]'),\n",
       " Text(1.386520185984157, 124.4557894736842, 'X[6] <= 4.324\\ngini = 0.899\\nsamples = 46\\nvalue = [0, 0, 0 ... 0, 0, 0]'),\n",
       " Text(1.2798647870622988, 121.59473684210526, 'X[6] <= 4.311\\ngini = 0.436\\nsamples = 15\\nvalue = [0, 0, 0 ... 0, 0, 0]'),\n",
       " Text(1.256163587301886, 118.73368421052632, 'X[2] <= 164307.5\\ngini = 0.625\\nsamples = 4\\nvalue = [0, 0, 0 ... 0, 0, 0]'),\n",
       " Text(1.2324623875414729, 115.87263157894736, 'gini = 0.0\\nsamples = 2\\nvalue = [0, 0, 0 ... 0, 0, 0]'),\n",
       " Text(1.2798647870622988, 115.87263157894736, 'X[6] <= 4.283\\ngini = 0.5\\nsamples = 2\\nvalue = [0, 0, 0 ... 0, 0, 0]'),\n",
       " Text(1.256163587301886, 113.01157894736842, 'gini = 0.0\\nsamples = 1\\nvalue = [0, 0, 0 ... 0, 0, 0]'),\n",
       " Text(1.3035659868227116, 113.01157894736842, 'gini = 0.0\\nsamples = 1\\nvalue = [0, 0, 0 ... 0, 0, 0]'),\n",
       " Text(1.3035659868227116, 118.73368421052632, 'gini = 0.0\\nsamples = 11\\nvalue = [0, 0, 0 ... 0, 0, 0]'),\n",
       " Text(1.4931755849060153, 121.59473684210526, 'X[6] <= 4.454\\ngini = 0.909\\nsamples = 31\\nvalue = [0, 0, 0 ... 0, 0, 0]'),\n",
       " Text(1.3983707858643635, 118.73368421052632, 'X[6] <= 4.412\\ngini = 0.734\\nsamples = 13\\nvalue = [0, 0, 0 ... 0, 0, 0]'),\n",
       " Text(1.3746695861039506, 115.87263157894736, 'X[3] <= 46.5\\ngini = 0.688\\nsamples = 8\\nvalue = [0, 0, 0 ... 0, 0, 0]'),\n",
       " Text(1.3509683863435376, 113.01157894736842, 'gini = 0.0\\nsamples = 3\\nvalue = [0, 0, 0 ... 0, 0, 0]'),\n",
       " Text(1.3983707858643635, 113.01157894736842, 'X[6] <= 4.369\\ngini = 0.56\\nsamples = 5\\nvalue = [0, 0, 0 ... 0, 0, 0]'),\n",
       " Text(1.3746695861039506, 110.15052631578948, 'X[3] <= 63.5\\ngini = 0.5\\nsamples = 2\\nvalue = [0, 0, 0 ... 0, 0, 0]'),\n",
       " Text(1.3509683863435376, 107.28947368421052, 'gini = 0.0\\nsamples = 1\\nvalue = [0, 0, 0 ... 0, 0, 0]'),\n",
       " Text(1.3983707858643635, 107.28947368421052, 'gini = 0.0\\nsamples = 1\\nvalue = [0, 0, 0 ... 0, 0, 0]'),\n",
       " Text(1.4220719856247763, 110.15052631578948, 'gini = 0.0\\nsamples = 3\\nvalue = [0, 0, 0 ... 0, 0, 0]'),\n",
       " Text(1.4220719856247763, 115.87263157894736, 'gini = 0.0\\nsamples = 5\\nvalue = [0, 0, 0 ... 0, 0, 0]'),\n",
       " Text(1.587980383947667, 118.73368421052632, 'X[6] <= 4.494\\ngini = 0.87\\nsamples = 18\\nvalue = [0, 0, 0 ... 0, 0, 0]'),\n",
       " Text(1.5168767846664282, 115.87263157894736, 'X[6] <= 4.483\\ngini = 0.625\\nsamples = 8\\nvalue = [0, 0, 0 ... 0, 0, 0]'),\n",
       " Text(1.4931755849060153, 113.01157894736842, 'X[55] <= 0.5\\ngini = 0.5\\nsamples = 4\\nvalue = [0, 0, 0 ... 0, 0, 0]'),\n",
       " Text(1.4694743851456022, 110.15052631578948, 'gini = 0.0\\nsamples = 2\\nvalue = [0, 0, 0 ... 0, 0, 0]'),\n",
       " Text(1.5168767846664282, 110.15052631578948, 'gini = 0.0\\nsamples = 2\\nvalue = [0, 0, 0 ... 0, 0, 0]'),\n",
       " Text(1.540577984426841, 113.01157894736842, 'gini = 0.0\\nsamples = 4\\nvalue = [0, 0, 0 ... 0, 0, 0]'),\n",
       " Text(1.6590839832289057, 115.87263157894736, 'X[2] <= 103429.0\\ngini = 0.82\\nsamples = 10\\nvalue = [0, 0, 0 ... 0, 0, 0]'),\n",
       " Text(1.587980383947667, 113.01157894736842, 'X[55] <= 0.5\\ngini = 0.64\\nsamples = 5\\nvalue = [0, 0, 0 ... 0, 0, 0]'),\n",
       " Text(1.564279184187254, 110.15052631578948, 'gini = 0.0\\nsamples = 2\\nvalue = [0, 0, 0 ... 0, 0, 0]'),\n",
       " Text(1.61168158370808, 110.15052631578948, 'X[106] <= 0.5\\ngini = 0.444\\nsamples = 3\\nvalue = [0, 0, 0 ... 0, 0, 0]'),\n",
       " Text(1.587980383947667, 107.28947368421052, 'gini = 0.0\\nsamples = 2\\nvalue = [0, 0, 0 ... 0, 0, 0]'),\n",
       " Text(1.6353827834684929, 107.28947368421052, 'gini = 0.0\\nsamples = 1\\nvalue = [0, 0, 0 ... 0, 0, 0]'),\n",
       " Text(1.7301875825101447, 113.01157894736842, 'X[54] <= 0.5\\ngini = 0.64\\nsamples = 5\\nvalue = [0, 0, 0 ... 0, 0, 0]'),\n",
       " Text(1.7064863827497316, 110.15052631578948, 'X[100] <= 0.5\\ngini = 0.444\\nsamples = 3\\nvalue = [0, 0, 0 ... 0, 0, 0]'),\n",
       " Text(1.6827851829893188, 107.28947368421052, 'gini = 0.0\\nsamples = 2\\nvalue = [0, 0, 0 ... 0, 0, 0]'),\n",
       " Text(1.7301875825101447, 107.28947368421052, 'gini = 0.0\\nsamples = 1\\nvalue = [0, 0, 0 ... 0, 0, 0]'),\n",
       " Text(1.7538887822705576, 110.15052631578948, 'gini = 0.0\\nsamples = 2\\nvalue = [0, 0, 0 ... 0, 0, 0]'),\n",
       " Text(0.7528834236393673, 138.76105263157893, 'gini = 0.0\\nsamples = 11\\nvalue = [0, 0, 0 ... 0, 0, 0]'),\n",
       " Text(0.7765846233997803, 141.6221052631579, 'gini = 0.0\\nsamples = 56\\nvalue = [0, 0, 0 ... 0, 0, 0]'),\n",
       " Text(2.52760333851185, 144.48315789473685, 'X[6] <= 5.017\\ngini = 0.973\\nsamples = 364\\nvalue = [0, 0, 0 ... 0, 0, 0]'),\n",
       " Text(1.99682607981479, 141.6221052631579, 'X[6] <= 5.007\\ngini = 0.892\\nsamples = 125\\nvalue = [0, 0, 0 ... 0, 0, 0]'),\n",
       " Text(1.9731248800543773, 138.76105263157893, 'X[6] <= 4.82\\ngini = 0.958\\nsamples = 88\\nvalue = [0, 0, 0 ... 0, 0, 0]'),\n",
       " Text(1.8723947810726222, 135.9, 'X[6] <= 4.808\\ngini = 0.898\\nsamples = 37\\nvalue = [0, 0, 0 ... 0, 0, 0]'),\n",
       " Text(1.8486935813122094, 133.03894736842105, 'X[6] <= 4.783\\ngini = 0.9\\nsamples = 30\\nvalue = [0, 0, 0 ... 0, 0, 0]'),\n",
       " Text(1.8012911817913835, 130.17789473684212, 'X[6] <= 4.766\\ngini = 0.876\\nsamples = 22\\nvalue = [0, 0, 0 ... 0, 0, 0]'),\n",
       " Text(1.7775899820309704, 127.31684210526316, 'X[6] <= 4.696\\ngini = 0.879\\nsamples = 17\\nvalue = [0, 0, 0 ... 0, 0, 0]'),\n",
       " Text(1.7301875825101447, 124.4557894736842, 'X[6] <= 4.673\\ngini = 0.694\\nsamples = 7\\nvalue = [0, 0, 0 ... 0, 0, 0]'),\n",
       " Text(1.7064863827497316, 121.59473684210526, 'X[22] <= 0.5\\ngini = 0.625\\nsamples = 4\\nvalue = [0, 0, 0 ... 0, 0, 0]'),\n",
       " Text(1.6827851829893188, 118.73368421052632, 'gini = 0.0\\nsamples = 2\\nvalue = [0, 0, 0 ... 0, 0, 0]'),\n",
       " Text(1.7301875825101447, 118.73368421052632, 'X[2] <= 105081.5\\ngini = 0.5\\nsamples = 2\\nvalue = [0, 0, 0 ... 0, 0, 0]'),\n",
       " Text(1.7064863827497316, 115.87263157894736, 'gini = 0.0\\nsamples = 1\\nvalue = [0, 0, 0 ... 0, 0, 0]'),\n",
       " Text(1.7538887822705576, 115.87263157894736, 'gini = 0.0\\nsamples = 1\\nvalue = [0, 0, 0 ... 0, 0, 0]'),\n",
       " Text(1.7538887822705576, 121.59473684210526, 'gini = 0.0\\nsamples = 3\\nvalue = [0, 0, 0 ... 0, 0, 0]'),\n",
       " Text(1.8249923815517963, 124.4557894736842, 'X[6] <= 4.705\\ngini = 0.8\\nsamples = 10\\nvalue = [0, 0, 0 ... 0, 0, 0]'),\n",
       " Text(1.8012911817913835, 121.59473684210526, 'gini = 0.0\\nsamples = 2\\nvalue = [0, 0, 0 ... 0, 0, 0]'),\n",
       " Text(1.8486935813122094, 121.59473684210526, 'X[9] <= 0.5\\ngini = 0.75\\nsamples = 8\\nvalue = [0, 0, 0 ... 0, 0, 0]'),\n",
       " Text(1.8249923815517963, 118.73368421052632, 'X[6] <= 4.749\\ngini = 0.72\\nsamples = 5\\nvalue = [0, 0, 0 ... 0, 0, 0]'),\n",
       " Text(1.8012911817913835, 115.87263157894736, 'X[6] <= 4.723\\ngini = 0.667\\nsamples = 3\\nvalue = [0, 0, 0 ... 0, 0, 0]'),\n",
       " Text(1.7775899820309704, 113.01157894736842, 'gini = 0.0\\nsamples = 1\\nvalue = [0, 0, 0 ... 0, 0, 0]'),\n",
       " Text(1.8249923815517963, 113.01157894736842, 'X[1] <= 4.0\\ngini = 0.5\\nsamples = 2\\nvalue = [0, 0, 0 ... 0, 0, 0]'),\n",
       " Text(1.8012911817913835, 110.15052631578948, 'gini = 0.0\\nsamples = 1\\nvalue = [0, 0, 0 ... 0, 0, 0]'),\n",
       " Text(1.8486935813122094, 110.15052631578948, 'gini = 0.0\\nsamples = 1\\nvalue = [0, 0, 0 ... 0, 0, 0]'),\n",
       " Text(1.8486935813122094, 115.87263157894736, 'gini = 0.0\\nsamples = 2\\nvalue = [0, 0, 0 ... 0, 0, 0]'),\n",
       " Text(1.8723947810726222, 118.73368421052632, 'gini = 0.0\\nsamples = 3\\nvalue = [0, 0, 0 ... 0, 0, 0]'),\n",
       " Text(1.8249923815517963, 127.31684210526316, 'gini = 0.0\\nsamples = 5\\nvalue = [0, 0, 0 ... 0, 0, 0]'),\n",
       " Text(1.896095980833035, 130.17789473684212, 'X[6] <= 4.792\\ngini = 0.531\\nsamples = 8\\nvalue = [0, 0, 0 ... 0, 0, 0]'),\n",
       " Text(1.8723947810726222, 127.31684210526316, 'gini = 0.0\\nsamples = 5\\nvalue = [0, 0, 0 ... 0, 0, 0]'),\n",
       " Text(1.9197971805934482, 127.31684210526316, 'X[6] <= 4.8\\ngini = 0.444\\nsamples = 3\\nvalue = [0, 0, 0 ... 0, 0, 0]'),\n",
       " Text(1.896095980833035, 124.4557894736842, 'gini = 0.0\\nsamples = 2\\nvalue = [0, 0, 0 ... 0, 0, 0]'),\n",
       " Text(1.943498380353861, 124.4557894736842, 'gini = 0.0\\nsamples = 1\\nvalue = [0, 0, 0 ... 0, 0, 0]'),\n",
       " Text(1.896095980833035, 133.03894736842105, 'gini = 0.0\\nsamples = 7\\nvalue = [0, 0, 0 ... 0, 0, 0]'),\n",
       " Text(2.0738549790361325, 135.9, 'X[6] <= 4.832\\ngini = 0.93\\nsamples = 51\\nvalue = [0, 0, 0 ... 0, 0, 0]'),\n",
       " Text(2.0501537792757194, 133.03894736842105, 'gini = 0.0\\nsamples = 6\\nvalue = [0, 0, 0 ... 0, 0, 0]'),\n",
       " Text(2.097556178796545, 133.03894736842105, 'X[6] <= 4.871\\ngini = 0.927\\nsamples = 45\\nvalue = [0, 0, 0 ... 0, 0, 0]'),\n",
       " Text(2.0383031793955126, 130.17789473684212, 'X[6] <= 4.864\\ngini = 0.663\\nsamples = 13\\nvalue = [0, 0, 0 ... 0, 0, 0]'),\n",
       " Text(2.0146019796351, 127.31684210526316, 'X[6] <= 4.852\\ngini = 0.571\\nsamples = 7\\nvalue = [0, 0, 0 ... 0, 0, 0]'),\n",
       " Text(1.990900779874687, 124.4557894736842, 'X[55] <= 0.5\\ngini = 0.444\\nsamples = 3\\nvalue = [0, 0, 0 ... 0, 0, 0]'),\n",
       " Text(1.967199580114274, 121.59473684210526, 'gini = 0.0\\nsamples = 2\\nvalue = [0, 0, 0 ... 0, 0, 0]'),\n",
       " Text(2.0146019796351, 121.59473684210526, 'gini = 0.0\\nsamples = 1\\nvalue = [0, 0, 0 ... 0, 0, 0]'),\n",
       " Text(2.0383031793955126, 124.4557894736842, 'gini = 0.0\\nsamples = 4\\nvalue = [0, 0, 0 ... 0, 0, 0]'),\n",
       " Text(2.0620043791559257, 127.31684210526316, 'gini = 0.0\\nsamples = 6\\nvalue = [0, 0, 0 ... 0, 0, 0]'),\n",
       " Text(2.1568091781975776, 130.17789473684212, 'X[6] <= 4.931\\ngini = 0.912\\nsamples = 32\\nvalue = [0, 0, 0 ... 0, 0, 0]'),\n",
       " Text(2.109406778676752, 127.31684210526316, 'X[6] <= 4.913\\ngini = 0.744\\nsamples = 11\\nvalue = [0, 0, 0 ... 0, 0, 0]'),\n",
       " Text(2.085705578916339, 124.4557894736842, 'X[6] <= 4.894\\ngini = 0.694\\nsamples = 7\\nvalue = [0, 0, 0 ... 0, 0, 0]'),\n",
       " Text(2.0620043791559257, 121.59473684210526, 'X[6] <= 4.887\\ngini = 0.625\\nsamples = 4\\nvalue = [0, 0, 0 ... 0, 0, 0]'),\n",
       " Text(2.0383031793955126, 118.73368421052632, 'X[2] <= 87057.5\\ngini = 0.5\\nsamples = 2\\nvalue = [0, 0, 0 ... 0, 0, 0]'),\n",
       " Text(2.0146019796351, 115.87263157894736, 'gini = 0.0\\nsamples = 1\\nvalue = [0, 0, 0 ... 0, 0, 0]'),\n",
       " Text(2.0620043791559257, 115.87263157894736, 'gini = 0.0\\nsamples = 1\\nvalue = [0, 0, 0 ... 0, 0, 0]'),\n",
       " Text(2.085705578916339, 118.73368421052632, 'gini = 0.0\\nsamples = 2\\nvalue = [0, 0, 0 ... 0, 0, 0]'),\n",
       " Text(2.109406778676752, 121.59473684210526, 'gini = 0.0\\nsamples = 3\\nvalue = [0, 0, 0 ... 0, 0, 0]'),\n",
       " Text(2.1331079784371645, 124.4557894736842, 'gini = 0.0\\nsamples = 4\\nvalue = [0, 0, 0 ... 0, 0, 0]'),\n",
       " Text(2.2042115777184033, 127.31684210526316, 'X[6] <= 4.938\\ngini = 0.866\\nsamples = 21\\nvalue = [0, 0, 0 ... 0, 0, 0]'),\n",
       " Text(2.1805103779579906, 124.4557894736842, 'gini = 0.0\\nsamples = 5\\nvalue = [0, 0, 0 ... 0, 0, 0]'),\n",
       " Text(2.2279127774788163, 124.4557894736842, 'X[6] <= 4.966\\ngini = 0.867\\nsamples = 16\\nvalue = [0, 0, 0 ... 0, 0, 0]'),\n",
       " Text(2.1805103779579906, 121.59473684210526, 'X[6] <= 4.956\\ngini = 0.653\\nsamples = 7\\nvalue = [0, 0, 0 ... 0, 0, 0]'),\n",
       " Text(2.1568091781975776, 118.73368421052632, 'X[20] <= 0.5\\ngini = 0.5\\nsamples = 4\\nvalue = [0, 0, 0 ... 0, 0, 0]'),\n",
       " Text(2.1331079784371645, 115.87263157894736, 'gini = 0.0\\nsamples = 2\\nvalue = [0, 0, 0 ... 0, 0, 0]'),\n",
       " Text(2.1805103779579906, 115.87263157894736, 'gini = 0.0\\nsamples = 2\\nvalue = [0, 0, 0 ... 0, 0, 0]'),\n",
       " Text(2.2042115777184033, 118.73368421052632, 'gini = 0.0\\nsamples = 3\\nvalue = [0, 0, 0 ... 0, 0, 0]'),\n",
       " Text(2.2753151769996425, 121.59473684210526, 'X[6] <= 4.973\\ngini = 0.79\\nsamples = 9\\nvalue = [0, 0, 0 ... 0, 0, 0]'),\n",
       " Text(2.2516139772392294, 118.73368421052632, 'gini = 0.0\\nsamples = 2\\nvalue = [0, 0, 0 ... 0, 0, 0]'),\n",
       " Text(2.299016376760055, 118.73368421052632, 'X[22] <= 0.5\\ngini = 0.735\\nsamples = 7\\nvalue = [0, 0, 0 ... 0, 0, 0]'),\n",
       " Text(2.2753151769996425, 115.87263157894736, 'gini = 0.0\\nsamples = 2\\nvalue = [0, 0, 0 ... 0, 0, 0]'),\n",
       " Text(2.322717576520468, 115.87263157894736, 'X[54] <= 0.5\\ngini = 0.64\\nsamples = 5\\nvalue = [0, 0, 0 ... 0, 0, 0]'),\n",
       " Text(2.299016376760055, 113.01157894736842, 'X[6] <= 4.99\\ngini = 0.444\\nsamples = 3\\nvalue = [0, 0, 0 ... 0, 0, 0]'),\n",
       " Text(2.2753151769996425, 110.15052631578948, 'gini = 0.0\\nsamples = 2\\nvalue = [0, 0, 0 ... 0, 0, 0]'),\n",
       " Text(2.322717576520468, 110.15052631578948, 'gini = 0.0\\nsamples = 1\\nvalue = [0, 0, 0 ... 0, 0, 0]'),\n",
       " Text(2.3464187762808812, 113.01157894736842, 'gini = 0.0\\nsamples = 2\\nvalue = [0, 0, 0 ... 0, 0, 0]'),\n",
       " Text(2.020527279575203, 138.76105263157893, 'gini = 0.0\\nsamples = 37\\nvalue = [0, 0, 0 ... 0, 0, 0]'),\n",
       " Text(3.0583805972089104, 141.6221052631579, 'X[6] <= 5.265\\ngini = 0.967\\nsamples = 239\\nvalue = [0, 0, 0 ... 0, 0, 0]'),\n",
       " Text(2.940800426522487, 138.76105263157893, 'X[6] <= 5.239\\ngini = 0.961\\nsamples = 196\\nvalue = [0, 0, 0 ... 0, 0, 0]'),\n",
       " Text(2.847847283712117, 135.9, 'X[6] <= 5.234\\ngini = 0.957\\nsamples = 172\\nvalue = [0, 0, 0 ... 0, 0, 0]'),\n",
       " Text(2.8241460839517045, 133.03894736842105, 'X[6] <= 5.19\\ngini = 0.955\\nsamples = 164\\nvalue = [0, 0, 0 ... 0, 0, 0]'),\n",
       " Text(2.733044597372617, 130.17789473684212, 'X[6] <= 5.185\\ngini = 0.937\\nsamples = 108\\nvalue = [0, 0, 0 ... 0, 0, 0]'),\n",
       " Text(2.709343397612204, 127.31684210526316, 'X[6] <= 5.162\\ngini = 0.935\\nsamples = 97\\nvalue = [0, 0, 0 ... 0, 0, 0]'),\n",
       " Text(2.6219452234956817, 124.4557894736842, 'X[6] <= 5.127\\ngini = 0.925\\nsamples = 74\\nvalue = [0, 0, 0 ... 0, 0, 0]'),\n",
       " Text(2.541953674304288, 121.59473684210526, 'X[6] <= 5.112\\ngini = 0.894\\nsamples = 45\\nvalue = [0, 0, 0 ... 0, 0, 0]'),\n",
       " Text(2.476775374963152, 118.73368421052632, 'X[6] <= 5.05\\ngini = 0.891\\nsamples = 30\\nvalue = [0, 0, 0 ... 0, 0, 0]'),\n",
       " Text(2.41752237556212, 115.87263157894736, 'X[6] <= 5.04\\ngini = 0.66\\nsamples = 10\\nvalue = [0, 0, 0 ... 0, 0, 0]'),\n",
       " Text(2.393821175801707, 113.01157894736842, 'X[48] <= 0.5\\ngini = 0.64\\nsamples = 5\\nvalue = [0, 0, 0 ... 0, 0, 0]'),\n",
       " Text(2.370119976041294, 110.15052631578948, 'X[2] <= 164095.5\\ngini = 0.444\\nsamples = 3\\nvalue = [0, 0, 0 ... 0, 0, 0]'),\n",
       " Text(2.3464187762808812, 107.28947368421052, 'gini = 0.0\\nsamples = 2\\nvalue = [0, 0, 0 ... 0, 0, 0]'),\n",
       " Text(2.393821175801707, 107.28947368421052, 'gini = 0.0\\nsamples = 1\\nvalue = [0, 0, 0 ... 0, 0, 0]'),\n",
       " Text(2.41752237556212, 110.15052631578948, 'gini = 0.0\\nsamples = 2\\nvalue = [0, 0, 0 ... 0, 0, 0]'),\n",
       " Text(2.4412235753225326, 113.01157894736842, 'gini = 0.0\\nsamples = 5\\nvalue = [0, 0, 0 ... 0, 0, 0]'),\n",
       " Text(2.5360283743641845, 115.87263157894736, 'X[6] <= 5.081\\ngini = 0.84\\nsamples = 20\\nvalue = [0, 0, 0 ... 0, 0, 0]'),\n",
       " Text(2.488625974843359, 113.01157894736842, 'X[6] <= 5.072\\ngini = 0.617\\nsamples = 9\\nvalue = [0, 0, 0 ... 0, 0, 0]'),\n",
       " Text(2.4649247750829457, 110.15052631578948, 'X[4] <= -125.0\\ngini = 0.625\\nsamples = 4\\nvalue = [0, 0, 0 ... 0, 0, 0]'),\n",
       " Text(2.4412235753225326, 107.28947368421052, 'X[3] <= 57.5\\ngini = 0.5\\nsamples = 2\\nvalue = [0, 0, 0 ... 0, 0, 0]'),\n",
       " Text(2.41752237556212, 104.42842105263158, 'gini = 0.0\\nsamples = 1\\nvalue = [0, 0, 0 ... 0, 0, 0]'),\n",
       " Text(2.4649247750829457, 104.42842105263158, 'gini = 0.0\\nsamples = 1\\nvalue = [0, 0, 0 ... 0, 0, 0]'),\n",
       " Text(2.488625974843359, 107.28947368421052, 'gini = 0.0\\nsamples = 2\\nvalue = [0, 0, 0 ... 0, 0, 0]'),\n",
       " Text(2.512327174603772, 110.15052631578948, 'gini = 0.0\\nsamples = 5\\nvalue = [0, 0, 0 ... 0, 0, 0]'),\n",
       " Text(2.5834307738850106, 113.01157894736842, 'X[6] <= 5.103\\ngini = 0.727\\nsamples = 11\\nvalue = [0, 0, 0 ... 0, 0, 0]'),\n",
       " Text(2.5597295741245976, 110.15052631578948, 'X[11] <= 0.5\\ngini = 0.625\\nsamples = 8\\nvalue = [0, 0, 0 ... 0, 0, 0]'),\n",
       " Text(2.5360283743641845, 107.28947368421052, 'gini = 0.0\\nsamples = 2\\nvalue = [0, 0, 0 ... 0, 0, 0]'),\n",
       " Text(2.5834307738850106, 107.28947368421052, 'X[6] <= 5.091\\ngini = 0.444\\nsamples = 6\\nvalue = [0, 0, 0 ... 0, 0, 0]'),\n",
       " Text(2.5597295741245976, 104.42842105263158, 'gini = 0.0\\nsamples = 2\\nvalue = [0, 0, 0 ... 0, 0, 0]'),\n",
       " Text(2.6071319736454233, 104.42842105263158, 'gini = 0.0\\nsamples = 4\\nvalue = [0, 0, 0 ... 0, 0, 0]'),\n",
       " Text(2.6071319736454233, 110.15052631578948, 'gini = 0.0\\nsamples = 3\\nvalue = [0, 0, 0 ... 0, 0, 0]'),\n",
       " Text(2.6071319736454233, 118.73368421052632, 'X[6] <= 5.121\\ngini = 0.48\\nsamples = 15\\nvalue = [0, 0, 0 ... 0, 0, 0]'),\n",
       " Text(2.5834307738850106, 115.87263157894736, 'gini = 0.0\\nsamples = 9\\nvalue = [0, 0, 0 ... 0, 0, 0]'),\n",
       " Text(2.6308331734058363, 115.87263157894736, 'gini = 0.0\\nsamples = 6\\nvalue = [0, 0, 0 ... 0, 0, 0]'),\n",
       " Text(2.701936772687075, 121.59473684210526, 'X[6] <= 5.133\\ngini = 0.771\\nsamples = 29\\nvalue = [0, 0, 0 ... 0, 0, 0]'),\n",
       " Text(2.678235572926662, 118.73368421052632, 'gini = 0.0\\nsamples = 11\\nvalue = [0, 0, 0 ... 0, 0, 0]'),\n",
       " Text(2.725637972447488, 118.73368421052632, 'X[6] <= 5.145\\ngini = 0.778\\nsamples = 18\\nvalue = [0, 0, 0 ... 0, 0, 0]'),\n",
       " Text(2.678235572926662, 115.87263157894736, 'X[6] <= 5.139\\ngini = 0.469\\nsamples = 8\\nvalue = [0, 0, 0 ... 0, 0, 0]'),\n",
       " Text(2.6545343731662494, 113.01157894736842, 'gini = 0.0\\nsamples = 3\\nvalue = [0, 0, 0 ... 0, 0, 0]'),\n",
       " Text(2.701936772687075, 113.01157894736842, 'gini = 0.0\\nsamples = 5\\nvalue = [0, 0, 0 ... 0, 0, 0]'),\n",
       " Text(2.773040371968314, 115.87263157894736, 'X[6] <= 5.15\\ngini = 0.62\\nsamples = 10\\nvalue = [0, 0, 0 ... 0, 0, 0]'),\n",
       " Text(2.7493391722079012, 113.01157894736842, 'gini = 0.0\\nsamples = 5\\nvalue = [0, 0, 0 ... 0, 0, 0]'),\n",
       " Text(2.796741571728727, 113.01157894736842, 'X[6] <= 5.156\\ngini = 0.48\\nsamples = 5\\nvalue = [0, 0, 0 ... 0, 0, 0]'),\n",
       " Text(2.773040371968314, 110.15052631578948, 'gini = 0.0\\nsamples = 2\\nvalue = [0, 0, 0 ... 0, 0, 0]'),\n",
       " Text(2.82044277148914, 110.15052631578948, 'gini = 0.0\\nsamples = 3\\nvalue = [0, 0, 0 ... 0, 0, 0]'),\n",
       " Text(2.796741571728727, 124.4557894736842, 'X[6] <= 5.168\\ngini = 0.612\\nsamples = 23\\nvalue = [0, 0, 0 ... 0, 0, 0]'),\n",
       " Text(2.773040371968314, 121.59473684210526, 'gini = 0.0\\nsamples = 13\\nvalue = [0, 0, 0 ... 0, 0, 0]'),\n",
       " Text(2.82044277148914, 121.59473684210526, 'X[6] <= 5.173\\ngini = 0.64\\nsamples = 10\\nvalue = [0, 0, 0 ... 0, 0, 0]'),\n",
       " Text(2.796741571728727, 118.73368421052632, 'gini = 0.0\\nsamples = 4\\nvalue = [0, 0, 0 ... 0, 0, 0]'),\n",
       " Text(2.8441439712495526, 118.73368421052632, 'X[6] <= 5.179\\ngini = 0.444\\nsamples = 6\\nvalue = [0, 0, 0 ... 0, 0, 0]'),\n",
       " Text(2.82044277148914, 115.87263157894736, 'gini = 0.0\\nsamples = 2\\nvalue = [0, 0, 0 ... 0, 0, 0]'),\n",
       " Text(2.8678451710099657, 115.87263157894736, 'gini = 0.0\\nsamples = 4\\nvalue = [0, 0, 0 ... 0, 0, 0]'),\n",
       " Text(2.7567457971330303, 127.31684210526316, 'gini = 0.0\\nsamples = 11\\nvalue = [0, 0, 0 ... 0, 0, 0]'),\n",
       " Text(2.9152475705307914, 130.17789473684212, 'X[6] <= 5.196\\ngini = 0.848\\nsamples = 56\\nvalue = [0, 0, 0 ... 0, 0, 0]'),\n",
       " Text(2.891546370770379, 127.31684210526316, 'gini = 0.0\\nsamples = 12\\nvalue = [0, 0, 0 ... 0, 0, 0]'),\n",
       " Text(2.9389487702912045, 127.31684210526316, 'X[6] <= 5.201\\ngini = 0.829\\nsamples = 44\\nvalue = [0, 0, 0 ... 0, 0, 0]'),\n",
       " Text(2.9152475705307914, 124.4557894736842, 'gini = 0.0\\nsamples = 10\\nvalue = [0, 0, 0 ... 0, 0, 0]'),\n",
       " Text(2.9626499700516176, 124.4557894736842, 'X[6] <= 5.223\\ngini = 0.799\\nsamples = 34\\nvalue = [0, 0, 0 ... 0, 0, 0]'),\n",
       " Text(2.9152475705307914, 121.59473684210526, 'X[6] <= 5.207\\ngini = 0.67\\nsamples = 20\\nvalue = [0, 0, 0 ... 0, 0, 0]'),\n",
       " Text(2.891546370770379, 118.73368421052632, 'gini = 0.0\\nsamples = 5\\nvalue = [0, 0, 0 ... 0, 0, 0]'),\n",
       " Text(2.9389487702912045, 118.73368421052632, 'X[6] <= 5.218\\ngini = 0.524\\nsamples = 15\\nvalue = [0, 0, 0 ... 0, 0, 0]'),\n",
       " Text(2.9152475705307914, 115.87263157894736, 'X[4] <= -2750.0\\ngini = 0.18\\nsamples = 10\\nvalue = [0, 0, 0 ... 0, 0, 0]'),\n",
       " Text(2.891546370770379, 113.01157894736842, 'gini = 0.0\\nsamples = 1\\nvalue = [0, 0, 0 ... 0, 0, 0]'),\n",
       " Text(2.9389487702912045, 113.01157894736842, 'gini = 0.0\\nsamples = 9\\nvalue = [0, 0, 0 ... 0, 0, 0]'),\n",
       " Text(2.9626499700516176, 115.87263157894736, 'gini = 0.0\\nsamples = 5\\nvalue = [0, 0, 0 ... 0, 0, 0]'),\n",
       " Text(3.0100523695724433, 121.59473684210526, 'X[6] <= 5.228\\ngini = 0.49\\nsamples = 14\\nvalue = [0, 0, 0 ... 0, 0, 0]'),\n",
       " Text(2.9863511698120306, 118.73368421052632, 'gini = 0.0\\nsamples = 8\\nvalue = [0, 0, 0 ... 0, 0, 0]'),\n",
       " Text(3.0337535693328563, 118.73368421052632, 'gini = 0.0\\nsamples = 6\\nvalue = [0, 0, 0 ... 0, 0, 0]'),\n",
       " Text(2.8715484834725302, 133.03894736842105, 'gini = 0.0\\nsamples = 8\\nvalue = [0, 0, 0 ... 0, 0, 0]'),\n",
       " Text(3.0337535693328563, 135.9, 'X[6] <= 5.244\\ngini = 0.59\\nsamples = 24\\nvalue = [0, 0, 0 ... 0, 0, 0]'),\n",
       " Text(3.0100523695724433, 133.03894736842105, 'gini = 0.0\\nsamples = 13\\nvalue = [0, 0, 0 ... 0, 0, 0]'),\n",
       " Text(3.0574547690932694, 133.03894736842105, 'X[2] <= 50538.5\\ngini = 0.446\\nsamples = 11\\nvalue = [0, 0, 0 ... 0, 0, 0]'),\n",
       " Text(3.0100523695724433, 130.17789473684212, 'X[81] <= 0.5\\ngini = 0.5\\nsamples = 2\\nvalue = [0, 0, 0 ... 0, 0, 0]'),\n",
       " Text(2.9863511698120306, 127.31684210526316, 'gini = 0.0\\nsamples = 1\\nvalue = [0, 0, 0 ... 0, 0, 0]'),\n",
       " Text(3.0337535693328563, 127.31684210526316, 'gini = 0.0\\nsamples = 1\\nvalue = [0, 0, 0 ... 0, 0, 0]'),\n",
       " Text(3.104857168614095, 130.17789473684212, 'X[82] <= 0.5\\ngini = 0.198\\nsamples = 9\\nvalue = [0, 0, 0 ... 0, 0, 0]'),\n",
       " Text(3.081155968853682, 127.31684210526316, 'gini = 0.0\\nsamples = 8\\nvalue = [0, 0, 0 ... 0, 0, 0]'),\n",
       " Text(3.128558368374508, 127.31684210526316, 'gini = 0.0\\nsamples = 1\\nvalue = [0, 0, 0 ... 0, 0, 0]'),\n",
       " Text(3.175960767895334, 138.76105263157893, 'X[6] <= 5.27\\ngini = 0.784\\nsamples = 43\\nvalue = [0, 0, 0 ... 0, 0, 0]'),\n",
       " Text(3.1522595681349213, 135.9, 'gini = 0.0\\nsamples = 10\\nvalue = [0, 0, 0 ... 0, 0, 0]'),\n",
       " Text(3.199661967655747, 135.9, 'X[6] <= 5.276\\ngini = 0.725\\nsamples = 33\\nvalue = [0, 0, 0 ... 0, 0, 0]'),\n",
       " Text(3.175960767895334, 133.03894736842105, 'gini = 0.0\\nsamples = 12\\nvalue = [0, 0, 0 ... 0, 0, 0]'),\n",
       " Text(3.22336316741616, 133.03894736842105, 'X[6] <= 5.286\\ngini = 0.649\\nsamples = 21\\nvalue = [0, 0, 0 ... 0, 0, 0]'),\n",
       " Text(3.199661967655747, 130.17789473684212, 'X[6] <= 5.281\\ngini = 0.486\\nsamples = 12\\nvalue = [0, 0, 0 ... 0, 0, 0]'),\n",
       " Text(3.175960767895334, 127.31684210526316, 'gini = 0.0\\nsamples = 7\\nvalue = [0, 0, 0 ... 0, 0, 0]'),\n",
       " Text(3.22336316741616, 127.31684210526316, 'gini = 0.0\\nsamples = 5\\nvalue = [0, 0, 0 ... 0, 0, 0]'),\n",
       " Text(3.2470643671765727, 130.17789473684212, 'gini = 0.0\\nsamples = 9\\nvalue = [0, 0, 0 ... 0, 0, 0]'),\n",
       " Text(0.40174285829243894, 158.78842105263158, 'gini = 0.0\\nsamples = 25\\nvalue = [0, 0, 0 ... 0, 0, 0]'),\n",
       " Text(3.220956014315493, 161.64947368421053, 'X[6] <= 5.301\\ngini = 0.925\\nsamples = 372\\nvalue = [0, 0, 0 ... 0, 0, 0]'),\n",
       " Text(3.19725481455508, 158.78842105263158, 'gini = 0.0\\nsamples = 91\\nvalue = [0, 0, 0 ... 0, 0, 0]'),\n",
       " Text(3.244657214075906, 158.78842105263158, 'X[6] <= 5.316\\ngini = 0.973\\nsamples = 281\\nvalue = [0, 0, 0 ... 0, 0, 0]'),\n",
       " Text(3.1531853962505623, 155.92736842105262, 'X[6] <= 5.311\\ngini = 0.656\\nsamples = 28\\nvalue = [0, 0, 0 ... 0, 0, 0]'),\n",
       " Text(3.129484196490149, 153.06631578947366, 'X[6] <= 5.306\\ngini = 0.475\\nsamples = 18\\nvalue = [0, 0, 0 ... 0, 0, 0]'),\n",
       " Text(3.105782996729736, 150.20526315789473, 'gini = 0.0\\nsamples = 7\\nvalue = [0, 0, 0 ... 0, 0, 0]'),\n",
       " Text(3.1531853962505623, 150.20526315789473, 'gini = 0.0\\nsamples = 11\\nvalue = [0, 0, 0 ... 0, 0, 0]'),\n",
       " Text(3.176886596010975, 153.06631578947366, 'gini = 0.0\\nsamples = 10\\nvalue = [0, 0, 0 ... 0, 0, 0]'),\n",
       " Text(3.3361290319012498, 155.92736842105262, 'X[6] <= 5.345\\ngini = 0.971\\nsamples = 253\\nvalue = [0, 0, 0 ... 0, 0, 0]'),\n",
       " Text(3.224288995531801, 153.06631578947366, 'X[6] <= 5.34\\ngini = 0.761\\nsamples = 39\\nvalue = [0, 0, 0 ... 0, 0, 0]'),\n",
       " Text(3.200587795771388, 150.20526315789473, 'X[6] <= 5.335\\ngini = 0.76\\nsamples = 24\\nvalue = [0, 0, 0 ... 0, 0, 0]'),\n",
       " Text(3.176886596010975, 147.3442105263158, 'X[6] <= 5.325\\ngini = 0.685\\nsamples = 18\\nvalue = [0, 0, 0 ... 0, 0, 0]'),\n",
       " Text(3.129484196490149, 144.48315789473685, 'X[6] <= 5.321\\ngini = 0.397\\nsamples = 11\\nvalue = [0, 0, 0 ... 0, 0, 0]'),\n",
       " Text(3.105782996729736, 141.6221052631579, 'gini = 0.0\\nsamples = 3\\nvalue = [0, 0, 0 ... 0, 0, 0]'),\n",
       " Text(3.1531853962505623, 141.6221052631579, 'gini = 0.0\\nsamples = 8\\nvalue = [0, 0, 0 ... 0, 0, 0]'),\n",
       " Text(3.224288995531801, 144.48315789473685, 'X[6] <= 5.33\\ngini = 0.408\\nsamples = 7\\nvalue = [0, 0, 0 ... 0, 0, 0]'),\n",
       " Text(3.200587795771388, 141.6221052631579, 'gini = 0.0\\nsamples = 5\\nvalue = [0, 0, 0 ... 0, 0, 0]'),\n",
       " Text(3.247990195292214, 141.6221052631579, 'gini = 0.0\\nsamples = 2\\nvalue = [0, 0, 0 ... 0, 0, 0]'),\n",
       " Text(3.224288995531801, 147.3442105263158, 'gini = 0.0\\nsamples = 6\\nvalue = [0, 0, 0 ... 0, 0, 0]'),\n",
       " Text(3.247990195292214, 150.20526315789473, 'gini = 0.0\\nsamples = 15\\nvalue = [0, 0, 0 ... 0, 0, 0]'),\n",
       " Text(3.447969068270698, 153.06631578947366, 'X[6] <= 5.375\\ngini = 0.967\\nsamples = 214\\nvalue = [0, 0, 0 ... 0, 0, 0]'),\n",
       " Text(3.3664961940942786, 150.20526315789473, 'X[6] <= 5.368\\ngini = 0.766\\nsamples = 34\\nvalue = [0, 0, 0 ... 0, 0, 0]'),\n",
       " Text(3.3427949943338655, 147.3442105263158, 'X[6] <= 5.364\\ngini = 0.74\\nsamples = 22\\nvalue = [0, 0, 0 ... 0, 0, 0]'),\n",
       " Text(3.319093794573453, 144.48315789473685, 'X[6] <= 5.349\\ngini = 0.684\\nsamples = 14\\nvalue = [0, 0, 0 ... 0, 0, 0]'),\n",
       " Text(3.29539259481304, 141.6221052631579, 'gini = 0.0\\nsamples = 4\\nvalue = [0, 0, 0 ... 0, 0, 0]'),\n",
       " Text(3.3427949943338655, 141.6221052631579, 'X[6] <= 5.354\\ngini = 0.54\\nsamples = 10\\nvalue = [0, 0, 0 ... 0, 0, 0]'),\n",
       " Text(3.319093794573453, 138.76105263157893, 'gini = 0.0\\nsamples = 6\\nvalue = [0, 0, 0 ... 0, 0, 0]'),\n",
       " Text(3.3664961940942786, 138.76105263157893, 'X[100] <= 0.5\\ngini = 0.375\\nsamples = 4\\nvalue = [0, 0, 0 ... 0, 0, 0]'),\n",
       " Text(3.3427949943338655, 135.9, 'gini = 0.0\\nsamples = 3\\nvalue = [0, 0, 0 ... 0, 0, 0]'),\n",
       " Text(3.3901973938546917, 135.9, 'gini = 0.0\\nsamples = 1\\nvalue = [0, 0, 0 ... 0, 0, 0]'),\n",
       " Text(3.3664961940942786, 144.48315789473685, 'gini = 0.0\\nsamples = 8\\nvalue = [0, 0, 0 ... 0, 0, 0]'),\n",
       " Text(3.3901973938546917, 147.3442105263158, 'gini = 0.0\\nsamples = 12\\nvalue = [0, 0, 0 ... 0, 0, 0]'),\n",
       " Text(3.5294419424471175, 150.20526315789473, 'X[6] <= 5.391\\ngini = 0.962\\nsamples = 180\\nvalue = [0, 0, 0 ... 0, 0, 0]'),\n",
       " Text(3.4375997933755174, 147.3442105263158, 'X[6] <= 5.387\\ngini = 0.537\\nsamples = 18\\nvalue = [0, 0, 0 ... 0, 0, 0]'),\n",
       " Text(3.4138985936151047, 144.48315789473685, 'X[6] <= 5.382\\ngini = 0.408\\nsamples = 7\\nvalue = [0, 0, 0 ... 0, 0, 0]'),\n",
       " Text(3.3901973938546917, 141.6221052631579, 'gini = 0.0\\nsamples = 5\\nvalue = [0, 0, 0 ... 0, 0, 0]'),\n",
       " Text(3.4375997933755174, 141.6221052631579, 'gini = 0.0\\nsamples = 2\\nvalue = [0, 0, 0 ... 0, 0, 0]'),\n",
       " Text(3.4613009931359304, 144.48315789473685, 'gini = 0.0\\nsamples = 11\\nvalue = [0, 0, 0 ... 0, 0, 0]'),\n",
       " Text(3.6212840915187177, 147.3442105263158, 'X[6] <= 5.418\\ngini = 0.958\\nsamples = 162\\nvalue = [0, 0, 0 ... 0, 0, 0]'),\n",
       " Text(3.508703392656756, 144.48315789473685, 'X[6] <= 5.414\\ngini = 0.785\\nsamples = 37\\nvalue = [0, 0, 0 ... 0, 0, 0]'),\n",
       " Text(3.4850021928963435, 141.6221052631579, 'X[6] <= 5.409\\ngini = 0.781\\nsamples = 24\\nvalue = [0, 0, 0 ... 0, 0, 0]'),\n",
       " Text(3.4613009931359304, 138.76105263157893, 'X[6] <= 5.396\\ngini = 0.722\\nsamples = 18\\nvalue = [0, 0, 0 ... 0, 0, 0]'),\n",
       " Text(3.4375997933755174, 135.9, 'gini = 0.0\\nsamples = 5\\nvalue = [0, 0, 0 ... 0, 0, 0]'),\n",
       " Text(3.4850021928963435, 135.9, 'X[6] <= 5.4\\ngini = 0.615\\nsamples = 13\\nvalue = [0, 0, 0 ... 0, 0, 0]'),\n",
       " Text(3.4613009931359304, 133.03894736842105, 'gini = 0.0\\nsamples = 5\\nvalue = [0, 0, 0 ... 0, 0, 0]'),\n",
       " Text(3.508703392656756, 133.03894736842105, 'X[54] <= 0.5\\ngini = 0.375\\nsamples = 8\\nvalue = [0, 0, 0 ... 0, 0, 0]'),\n",
       " Text(3.4850021928963435, 130.17789473684212, 'gini = 0.0\\nsamples = 6\\nvalue = [0, 0, 0 ... 0, 0, 0]'),\n",
       " Text(3.532404592417169, 130.17789473684212, 'gini = 0.0\\nsamples = 2\\nvalue = [0, 0, 0 ... 0, 0, 0]'),\n",
       " Text(3.508703392656756, 138.76105263157893, 'gini = 0.0\\nsamples = 6\\nvalue = [0, 0, 0 ... 0, 0, 0]'),\n",
       " Text(3.532404592417169, 141.6221052631579, 'gini = 0.0\\nsamples = 13\\nvalue = [0, 0, 0 ... 0, 0, 0]'),\n",
       " Text(3.733864790380679, 144.48315789473685, 'X[6] <= 5.515\\ngini = 0.949\\nsamples = 125\\nvalue = [0, 0, 0 ... 0, 0, 0]'),\n",
       " Text(3.710163590620266, 141.6221052631579, 'X[6] <= 5.44\\ngini = 0.946\\nsamples = 118\\nvalue = [0, 0, 0 ... 0, 0, 0]'),\n",
       " Text(3.650910591219234, 138.76105263157893, 'X[6] <= 5.436\\ngini = 0.756\\nsamples = 29\\nvalue = [0, 0, 0 ... 0, 0, 0]'),\n",
       " Text(3.627209391458821, 135.9, 'X[6] <= 5.432\\ngini = 0.68\\nsamples = 21\\nvalue = [0, 0, 0 ... 0, 0, 0]'),\n",
       " Text(3.603508191698408, 133.03894736842105, 'X[6] <= 5.423\\ngini = 0.661\\nsamples = 11\\nvalue = [0, 0, 0 ... 0, 0, 0]'),\n",
       " Text(3.579806991937995, 130.17789473684212, 'gini = 0.0\\nsamples = 4\\nvalue = [0, 0, 0 ... 0, 0, 0]'),\n",
       " Text(3.627209391458821, 130.17789473684212, 'X[6] <= 5.427\\ngini = 0.49\\nsamples = 7\\nvalue = [0, 0, 0 ... 0, 0, 0]'),\n",
       " Text(3.603508191698408, 127.31684210526316, 'gini = 0.0\\nsamples = 4\\nvalue = [0, 0, 0 ... 0, 0, 0]'),\n",
       " Text(3.650910591219234, 127.31684210526316, 'gini = 0.0\\nsamples = 3\\nvalue = [0, 0, 0 ... 0, 0, 0]'),\n",
       " Text(3.650910591219234, 133.03894736842105, 'gini = 0.0\\nsamples = 10\\nvalue = [0, 0, 0 ... 0, 0, 0]'),\n",
       " Text(3.6746117909796467, 135.9, 'gini = 0.0\\nsamples = 8\\nvalue = [0, 0, 0 ... 0, 0, 0]'),\n",
       " Text(3.7694165900212986, 138.76105263157893, 'X[6] <= 5.449\\ngini = 0.932\\nsamples = 89\\nvalue = [0, 0, 0 ... 0, 0, 0]'),\n",
       " Text(3.722014190500473, 135.9, 'X[6] <= 5.445\\ngini = 0.492\\nsamples = 16\\nvalue = [0, 0, 0 ... 0, 0, 0]'),\n",
       " Text(3.69831299074006, 133.03894736842105, 'gini = 0.0\\nsamples = 7\\nvalue = [0, 0, 0 ... 0, 0, 0]'),\n",
       " Text(3.7457153902608855, 133.03894736842105, 'gini = 0.0\\nsamples = 9\\nvalue = [0, 0, 0 ... 0, 0, 0]'),\n",
       " Text(3.8168189895421243, 135.9, 'X[6] <= 5.453\\ngini = 0.923\\nsamples = 73\\nvalue = [0, 0, 0 ... 0, 0, 0]'),\n",
       " Text(3.7931177897817117, 133.03894736842105, 'gini = 0.0\\nsamples = 7\\nvalue = [0, 0, 0 ... 0, 0, 0]'),\n",
       " Text(3.8405201893025374, 133.03894736842105, 'X[6] <= 5.507\\ngini = 0.917\\nsamples = 66\\nvalue = [0, 0, 0 ... 0, 0, 0]'),\n",
       " Text(3.7723792399913503, 130.17789473684212, 'X[6] <= 5.47\\ngini = 0.907\\nsamples = 58\\nvalue = [0, 0, 0 ... 0, 0, 0]'),\n",
       " Text(3.7072009406502144, 127.31684210526316, 'X[6] <= 5.466\\ngini = 0.685\\nsamples = 21\\nvalue = [0, 0, 0 ... 0, 0, 0]'),\n",
       " Text(3.683499740889802, 124.4557894736842, 'X[6] <= 5.462\\ngini = 0.556\\nsamples = 13\\nvalue = [0, 0, 0 ... 0, 0, 0]'),\n",
       " Text(3.6597985411293887, 121.59473684210526, 'X[6] <= 5.457\\ngini = 0.278\\nsamples = 6\\nvalue = [0, 0, 0 ... 0, 0, 0]'),\n",
       " Text(3.6360973413689757, 118.73368421052632, 'gini = 0.0\\nsamples = 5\\nvalue = [0, 0, 0 ... 0, 0, 0]'),\n",
       " Text(3.683499740889802, 118.73368421052632, 'gini = 0.0\\nsamples = 1\\nvalue = [0, 0, 0 ... 0, 0, 0]'),\n",
       " Text(3.7072009406502144, 121.59473684210526, 'gini = 0.0\\nsamples = 7\\nvalue = [0, 0, 0 ... 0, 0, 0]'),\n",
       " Text(3.7309021404106275, 124.4557894736842, 'gini = 0.0\\nsamples = 8\\nvalue = [0, 0, 0 ... 0, 0, 0]'),\n",
       " Text(3.8375575393324857, 127.31684210526316, 'X[6] <= 5.479\\ngini = 0.874\\nsamples = 37\\nvalue = [0, 0, 0 ... 0, 0, 0]'),\n",
       " Text(3.7783045399314537, 124.4557894736842, 'X[6] <= 5.474\\ngini = 0.397\\nsamples = 11\\nvalue = [0, 0, 0 ... 0, 0, 0]'),\n",
       " Text(3.7546033401710406, 121.59473684210526, 'gini = 0.0\\nsamples = 3\\nvalue = [0, 0, 0 ... 0, 0, 0]'),\n",
       " Text(3.8020057396918663, 121.59473684210526, 'gini = 0.0\\nsamples = 8\\nvalue = [0, 0, 0 ... 0, 0, 0]'),\n",
       " Text(3.896810538733518, 124.4557894736842, 'X[6] <= 5.487\\ngini = 0.852\\nsamples = 26\\nvalue = [0, 0, 0 ... 0, 0, 0]'),\n",
       " Text(3.8494081392126924, 121.59473684210526, 'X[6] <= 5.483\\ngini = 0.494\\nsamples = 9\\nvalue = [0, 0, 0 ... 0, 0, 0]'),\n",
       " Text(3.8257069394522794, 118.73368421052632, 'gini = 0.0\\nsamples = 4\\nvalue = [0, 0, 0 ... 0, 0, 0]'),\n",
       " Text(3.873109338973105, 118.73368421052632, 'gini = 0.0\\nsamples = 5\\nvalue = [0, 0, 0 ... 0, 0, 0]'),\n",
       " Text(3.944212938254344, 121.59473684210526, 'X[6] <= 5.491\\ngini = 0.796\\nsamples = 17\\nvalue = [0, 0, 0 ... 0, 0, 0]'),\n",
       " Text(3.920511738493931, 118.73368421052632, 'gini = 0.0\\nsamples = 4\\nvalue = [0, 0, 0 ... 0, 0, 0]'),\n",
       " Text(3.967914138014757, 118.73368421052632, 'X[6] <= 5.495\\ngini = 0.746\\nsamples = 13\\nvalue = [0, 0, 0 ... 0, 0, 0]'),\n",
       " Text(3.944212938254344, 115.87263157894736, 'gini = 0.0\\nsamples = 4\\nvalue = [0, 0, 0 ... 0, 0, 0]'),\n",
       " Text(3.99161533777517, 115.87263157894736, 'X[6] <= 5.499\\ngini = 0.667\\nsamples = 9\\nvalue = [0, 0, 0 ... 0, 0, 0]'),\n",
       " Text(3.967914138014757, 113.01157894736842, 'gini = 0.0\\nsamples = 3\\nvalue = [0, 0, 0 ... 0, 0, 0]'),\n",
       " Text(4.015316537535583, 113.01157894736842, 'X[6] <= 5.503\\ngini = 0.5\\nsamples = 6\\nvalue = [0, 0, 0 ... 0, 0, 0]'),\n",
       " Text(3.99161533777517, 110.15052631578948, 'gini = 0.0\\nsamples = 3\\nvalue = [0, 0, 0 ... 0, 0, 0]'),\n",
       " Text(4.039017737295996, 110.15052631578948, 'gini = 0.0\\nsamples = 3\\nvalue = [0, 0, 0 ... 0, 0, 0]'),\n",
       " Text(3.9086611386137244, 130.17789473684212, 'X[64] <= 0.5\\ngini = 0.219\\nsamples = 8\\nvalue = [0, 0, 0 ... 0, 0, 0]'),\n",
       " Text(3.884959938853312, 127.31684210526316, 'gini = 0.0\\nsamples = 7\\nvalue = [0, 0, 0 ... 0, 0, 0]'),\n",
       " Text(3.9323623383741375, 127.31684210526316, 'gini = 0.0\\nsamples = 1\\nvalue = [0, 0, 0 ... 0, 0, 0]'),\n",
       " Text(3.7575659901410923, 141.6221052631579, 'gini = 0.0\\nsamples = 7\\nvalue = [0, 0, 0 ... 0, 0, 0]'),\n",
       " Text(4.707095305542635, 164.51052631578946, 'X[3] <= 52.5\\ngini = 0.876\\nsamples = 309\\nvalue = [0, 0, 0 ... 0, 0, 0]'),\n",
       " Text(4.424162233402706, 161.64947368421053, 'X[6] <= 4.212\\ngini = 0.537\\nsamples = 154\\nvalue = [0, 0, 0 ... 0, 0, 0]'),\n",
       " Text(4.311581534540744, 158.78842105263158, 'X[0] <= 2009.5\\ngini = 0.331\\nsamples = 54\\nvalue = [0, 0, 0 ... 0, 0, 0]'),\n",
       " Text(4.287880334780332, 155.92736842105262, 'X[6] <= 3.026\\ngini = 0.86\\nsamples = 10\\nvalue = [0, 0, 0 ... 0, 0, 0]'),\n",
       " Text(4.228627335379299, 153.06631578947366, 'X[6] <= 2.616\\ngini = 0.444\\nsamples = 3\\nvalue = [0, 0, 0 ... 0, 0, 0]'),\n",
       " Text(4.204926135618886, 150.20526315789473, 'gini = 0.0\\nsamples = 1\\nvalue = [0, 0, 0 ... 0, 0, 0]'),\n",
       " Text(4.252328535139712, 150.20526315789473, 'gini = 0.0\\nsamples = 2\\nvalue = [0, 0, 0 ... 0, 0, 0]'),\n",
       " Text(4.347133334181364, 153.06631578947366, 'X[5] <= 25.5\\ngini = 0.816\\nsamples = 7\\nvalue = [0, 0, 0 ... 0, 0, 0]'),\n",
       " Text(4.299730934660539, 150.20526315789473, 'X[23] <= 0.5\\ngini = 0.75\\nsamples = 4\\nvalue = [0, 0, 0 ... 0, 0, 0]'),\n",
       " Text(4.276029734900125, 147.3442105263158, 'X[7] <= 0.5\\ngini = 0.667\\nsamples = 3\\nvalue = [0, 0, 0 ... 0, 0, 0]'),\n",
       " Text(4.252328535139712, 144.48315789473685, 'gini = 0.0\\nsamples = 1\\nvalue = [0, 0, 0 ... 0, 0, 0]'),\n",
       " Text(4.299730934660539, 144.48315789473685, 'X[6] <= 3.716\\ngini = 0.5\\nsamples = 2\\nvalue = [0, 0, 0 ... 0, 0, 0]'),\n",
       " Text(4.276029734900125, 141.6221052631579, 'gini = 0.0\\nsamples = 1\\nvalue = [0, 0, 0 ... 0, 0, 0]'),\n",
       " Text(4.323432134420951, 141.6221052631579, 'gini = 0.0\\nsamples = 1\\nvalue = [0, 0, 0 ... 0, 0, 0]'),\n",
       " Text(4.323432134420951, 147.3442105263158, 'gini = 0.0\\nsamples = 1\\nvalue = [0, 0, 0 ... 0, 0, 0]'),\n",
       " Text(4.39453573370219, 150.20526315789473, 'X[49] <= 0.5\\ngini = 0.444\\nsamples = 3\\nvalue = [0, 0, 0 ... 0, 0, 0]'),\n",
       " Text(4.370834533941777, 147.3442105263158, 'gini = 0.0\\nsamples = 2\\nvalue = [0, 0, 0 ... 0, 0, 0]'),\n",
       " Text(4.418236933462603, 147.3442105263158, 'gini = 0.0\\nsamples = 1\\nvalue = [0, 0, 0 ... 0, 0, 0]'),\n",
       " Text(4.335282734301158, 155.92736842105262, 'gini = 0.0\\nsamples = 44\\nvalue = [0, 0, 0 ... 0, 0, 0]'),\n",
       " Text(4.5367429322646675, 158.78842105263158, 'X[6] <= 4.511\\ngini = 0.097\\nsamples = 100\\nvalue = [0, 0, 0 ... 0, 0, 0]'),\n",
       " Text(4.513041732504255, 155.92736842105262, 'gini = 0.0\\nsamples = 95\\nvalue = [0, 0, 0 ... 0, 0, 0]'),\n",
       " Text(4.56044413202508, 155.92736842105262, 'X[106] <= 0.5\\ngini = 0.8\\nsamples = 5\\nvalue = [0, 0, 0 ... 0, 0, 0]'),\n",
       " Text(4.513041732504255, 153.06631578947366, 'X[36] <= 0.5\\ngini = 0.667\\nsamples = 3\\nvalue = [0, 0, 0 ... 0, 0, 0]'),\n",
       " Text(4.489340532743841, 150.20526315789473, 'X[22] <= 0.5\\ngini = 0.5\\nsamples = 2\\nvalue = [0, 0, 0 ... 0, 0, 0]'),\n",
       " Text(4.465639332983429, 147.3442105263158, 'gini = 0.0\\nsamples = 1\\nvalue = [0, 0, 0 ... 0, 0, 0]'),\n",
       " Text(4.513041732504255, 147.3442105263158, 'gini = 0.0\\nsamples = 1\\nvalue = [0, 0, 0 ... 0, 0, 0]'),\n",
       " Text(4.5367429322646675, 150.20526315789473, 'gini = 0.0\\nsamples = 1\\nvalue = [0, 0, 0 ... 0, 0, 0]'),\n",
       " Text(4.607846531545906, 153.06631578947366, 'X[2] <= 17116.5\\ngini = 0.5\\nsamples = 2\\nvalue = [0, 0, 0 ... 0, 0, 0]'),\n",
       " Text(4.584145331785494, 150.20526315789473, 'gini = 0.0\\nsamples = 1\\nvalue = [0, 0, 0 ... 0, 0, 0]'),\n",
       " Text(4.631547731306319, 150.20526315789473, 'gini = 0.0\\nsamples = 1\\nvalue = [0, 0, 0 ... 0, 0, 0]'),\n",
       " Text(4.990028377682565, 161.64947368421053, 'X[11] <= 0.5\\ngini = 0.964\\nsamples = 155\\nvalue = [0, 0, 0 ... 0, 0, 0]'),\n",
       " Text(4.838933229209933, 158.78842105263158, 'X[6] <= 5.464\\ngini = 0.973\\nsamples = 131\\nvalue = [0, 0, 0 ... 0, 0, 0]'),\n",
       " Text(4.702651330587558, 155.92736842105262, 'X[0] <= 1943.5\\ngini = 0.973\\nsamples = 112\\nvalue = [0, 0, 0 ... 0, 0, 0]'),\n",
       " Text(4.678950130827145, 153.06631578947366, 'gini = 0.0\\nsamples = 5\\nvalue = [0, 0, 0 ... 0, 0, 0]'),\n",
       " Text(4.726352530347971, 153.06631578947366, 'X[6] <= 5.425\\ngini = 0.973\\nsamples = 107\\nvalue = [0, 0, 0 ... 0, 0, 0]'),\n",
       " Text(4.678950130827145, 150.20526315789473, 'X[108] <= 0.5\\ngini = 0.972\\nsamples = 99\\nvalue = [0, 0, 0 ... 0, 0, 0]'),\n",
       " Text(4.655248931066732, 147.3442105263158, 'X[6] <= 5.296\\ngini = 0.973\\nsamples = 95\\nvalue = [0, 0, 0 ... 0, 0, 0]'),\n",
       " Text(4.453788733103222, 144.48315789473685, 'X[6] <= 5.291\\ngini = 0.968\\nsamples = 68\\nvalue = [0, 0, 0 ... 0, 0, 0]'),\n",
       " Text(4.430087533342809, 141.6221052631579, 'X[6] <= 2.481\\ngini = 0.968\\nsamples = 64\\nvalue = [0, 0, 0 ... 0, 0, 0]'),\n",
       " Text(4.406386333582397, 138.76105263157893, 'gini = 0.0\\nsamples = 3\\nvalue = [0, 0, 0 ... 0, 0, 0]'),\n",
       " Text(4.453788733103222, 138.76105263157893, 'X[6] <= 5.04\\ngini = 0.967\\nsamples = 61\\nvalue = [0, 0, 0 ... 0, 0, 0]'),\n",
       " Text(4.347133334181364, 135.9, 'X[6] <= 4.6\\ngini = 0.96\\nsamples = 48\\nvalue = [0, 0, 0 ... 0, 0, 0]'),\n",
       " Text(4.276029734900125, 133.03894736842105, 'X[6] <= 2.917\\ngini = 0.953\\nsamples = 37\\nvalue = [0, 0, 0 ... 0, 0, 0]'),\n",
       " Text(4.228627335379299, 130.17789473684212, 'X[6] <= 2.862\\ngini = 0.741\\nsamples = 9\\nvalue = [0, 0, 0 ... 0, 0, 0]'),\n",
       " Text(4.204926135618886, 127.31684210526316, 'X[2] <= 44987.5\\ngini = 0.667\\nsamples = 6\\nvalue = [0, 0, 0 ... 0, 0, 0]'),\n",
       " Text(4.181224935858474, 124.4557894736842, 'gini = 0.0\\nsamples = 2\\nvalue = [0, 0, 0 ... 0, 0, 0]'),\n",
       " Text(4.228627335379299, 124.4557894736842, 'X[0] <= 2006.5\\ngini = 0.5\\nsamples = 4\\nvalue = [0, 0, 0 ... 0, 0, 0]'),\n",
       " Text(4.204926135618886, 121.59473684210526, 'gini = 0.0\\nsamples = 2\\nvalue = [0, 0, 0 ... 0, 0, 0]'),\n",
       " Text(4.252328535139712, 121.59473684210526, 'gini = 0.0\\nsamples = 2\\nvalue = [0, 0, 0 ... 0, 0, 0]'),\n",
       " Text(4.252328535139712, 127.31684210526316, 'gini = 0.0\\nsamples = 3\\nvalue = [0, 0, 0 ... 0, 0, 0]'),\n",
       " Text(4.323432134420951, 130.17789473684212, 'X[85] <= 0.5\\ngini = 0.944\\nsamples = 28\\nvalue = [0, 0, 0 ... 0, 0, 0]'),\n",
       " Text(4.299730934660539, 127.31684210526316, 'X[4] <= -5375.0\\ngini = 0.941\\nsamples = 26\\nvalue = [0, 0, 0 ... 0, 0, 0]'),\n",
       " Text(4.276029734900125, 124.4557894736842, 'gini = 0.0\\nsamples = 2\\nvalue = [0, 0, 0 ... 0, 0, 0]'),\n",
       " Text(4.323432134420951, 124.4557894736842, 'X[6] <= 4.574\\ngini = 0.938\\nsamples = 24\\nvalue = [0, 0, 0 ... 0, 0, 0]'),\n",
       " Text(4.299730934660539, 121.59473684210526, 'X[6] <= 3.761\\ngini = 0.934\\nsamples = 22\\nvalue = [0, 0, 0 ... 0, 0, 0]'),\n",
       " Text(4.204926135618886, 118.73368421052632, 'X[16] <= 0.5\\ngini = 0.908\\nsamples = 14\\nvalue = [0, 0, 0 ... 0, 0, 0]'),\n",
       " Text(4.15752373609806, 115.87263157894736, 'X[19] <= 0.5\\ngini = 0.88\\nsamples = 10\\nvalue = [0, 0, 0 ... 0, 0, 0]'),\n",
       " Text(4.1338225363376475, 113.01157894736842, 'X[4] <= -3000.0\\ngini = 0.875\\nsamples = 8\\nvalue = [0, 0, 0 ... 0, 0, 0]'),\n",
       " Text(4.086420136816821, 110.15052631578948, 'X[6] <= 3.068\\ngini = 0.8\\nsamples = 5\\nvalue = [0, 0, 0 ... 0, 0, 0]'),\n",
       " Text(4.062718937056409, 107.28947368421052, 'gini = 0.0\\nsamples = 1\\nvalue = [0, 0, 0 ... 0, 0, 0]'),\n",
       " Text(4.110121336577235, 107.28947368421052, 'X[6] <= 3.135\\ngini = 0.75\\nsamples = 4\\nvalue = [0, 0, 0 ... 0, 0, 0]'),\n",
       " Text(4.086420136816821, 104.42842105263158, 'gini = 0.0\\nsamples = 1\\nvalue = [0, 0, 0 ... 0, 0, 0]'),\n",
       " Text(4.1338225363376475, 104.42842105263158, 'X[1] <= 5.0\\ngini = 0.667\\nsamples = 3\\nvalue = [0, 0, 0 ... 0, 0, 0]'),\n",
       " Text(4.110121336577235, 101.56736842105263, 'X[5] <= 7.0\\ngini = 0.5\\nsamples = 2\\nvalue = [0, 0, 0 ... 0, 0, 0]'),\n",
       " Text(4.086420136816821, 98.70631578947369, 'gini = 0.0\\nsamples = 1\\nvalue = [0, 0, 0 ... 0, 0, 0]'),\n",
       " Text(4.1338225363376475, 98.70631578947369, 'gini = 0.0\\nsamples = 1\\nvalue = [0, 0, 0 ... 0, 0, 0]'),\n",
       " Text(4.15752373609806, 101.56736842105263, 'gini = 0.0\\nsamples = 1\\nvalue = [0, 0, 0 ... 0, 0, 0]'),\n",
       " Text(4.181224935858474, 110.15052631578948, 'X[2] <= 18340.0\\ngini = 0.667\\nsamples = 3\\nvalue = [0, 0, 0 ... 0, 0, 0]'),\n",
       " Text(4.15752373609806, 107.28947368421052, 'gini = 0.0\\nsamples = 1\\nvalue = [0, 0, 0 ... 0, 0, 0]'),\n",
       " Text(4.204926135618886, 107.28947368421052, 'X[0] <= 1964.5\\ngini = 0.5\\nsamples = 2\\nvalue = [0, 0, 0 ... 0, 0, 0]'),\n",
       " Text(4.181224935858474, 104.42842105263158, 'gini = 0.0\\nsamples = 1\\nvalue = [0, 0, 0 ... 0, 0, 0]'),\n",
       " Text(4.228627335379299, 104.42842105263158, 'gini = 0.0\\nsamples = 1\\nvalue = [0, 0, 0 ... 0, 0, 0]'),\n",
       " Text(4.181224935858474, 113.01157894736842, 'gini = 0.0\\nsamples = 2\\nvalue = [0, 0, 0 ... 0, 0, 0]'),\n",
       " Text(4.252328535139712, 115.87263157894736, 'X[6] <= 3.426\\ngini = 0.625\\nsamples = 4\\nvalue = [0, 0, 0 ... 0, 0, 0]'),\n",
       " Text(4.228627335379299, 113.01157894736842, 'gini = 0.0\\nsamples = 2\\nvalue = [0, 0, 0 ... 0, 0, 0]'),\n",
       " Text(4.276029734900125, 113.01157894736842, 'X[7] <= 0.5\\ngini = 0.5\\nsamples = 2\\nvalue = [0, 0, 0 ... 0, 0, 0]'),\n",
       " Text(4.252328535139712, 110.15052631578948, 'gini = 0.0\\nsamples = 1\\nvalue = [0, 0, 0 ... 0, 0, 0]'),\n",
       " Text(4.299730934660539, 110.15052631578948, 'gini = 0.0\\nsamples = 1\\nvalue = [0, 0, 0 ... 0, 0, 0]'),\n",
       " Text(4.39453573370219, 118.73368421052632, 'X[6] <= 3.922\\ngini = 0.781\\nsamples = 8\\nvalue = [0, 0, 0 ... 0, 0, 0]'),\n",
       " Text(4.370834533941777, 115.87263157894736, 'gini = 0.0\\nsamples = 3\\nvalue = [0, 0, 0 ... 0, 0, 0]'),\n",
       " Text(4.418236933462603, 115.87263157894736, 'X[19] <= 0.5\\ngini = 0.8\\nsamples = 5\\nvalue = [0, 0, 0 ... 0, 0, 0]'),\n",
       " Text(4.370834533941777, 113.01157894736842, 'X[100] <= 0.5\\ngini = 0.667\\nsamples = 3\\nvalue = [0, 0, 0 ... 0, 0, 0]'),\n",
       " Text(4.347133334181364, 110.15052631578948, 'X[26] <= 0.5\\ngini = 0.5\\nsamples = 2\\nvalue = [0, 0, 0 ... 0, 0, 0]'),\n",
       " Text(4.323432134420951, 107.28947368421052, 'gini = 0.0\\nsamples = 1\\nvalue = [0, 0, 0 ... 0, 0, 0]'),\n",
       " Text(4.370834533941777, 107.28947368421052, 'gini = 0.0\\nsamples = 1\\nvalue = [0, 0, 0 ... 0, 0, 0]'),\n",
       " Text(4.39453573370219, 110.15052631578948, 'gini = 0.0\\nsamples = 1\\nvalue = [0, 0, 0 ... 0, 0, 0]'),\n",
       " Text(4.465639332983429, 113.01157894736842, 'X[25] <= 0.5\\ngini = 0.5\\nsamples = 2\\nvalue = [0, 0, 0 ... 0, 0, 0]'),\n",
       " Text(4.441938133223016, 110.15052631578948, 'gini = 0.0\\nsamples = 1\\nvalue = [0, 0, 0 ... 0, 0, 0]'),\n",
       " Text(4.489340532743841, 110.15052631578948, 'gini = 0.0\\nsamples = 1\\nvalue = [0, 0, 0 ... 0, 0, 0]'),\n",
       " Text(4.347133334181364, 121.59473684210526, 'gini = 0.0\\nsamples = 2\\nvalue = [0, 0, 0 ... 0, 0, 0]'),\n",
       " Text(4.347133334181364, 127.31684210526316, 'gini = 0.0\\nsamples = 2\\nvalue = [0, 0, 0 ... 0, 0, 0]'),\n",
       " Text(4.418236933462603, 133.03894736842105, 'X[6] <= 4.696\\ngini = 0.777\\nsamples = 11\\nvalue = [0, 0, 0 ... 0, 0, 0]'),\n",
       " Text(4.39453573370219, 130.17789473684212, 'gini = 0.0\\nsamples = 4\\nvalue = [0, 0, 0 ... 0, 0, 0]'),\n",
       " Text(4.441938133223016, 130.17789473684212, 'X[5] <= 8.0\\ngini = 0.776\\nsamples = 7\\nvalue = [0, 0, 0 ... 0, 0, 0]'),\n",
       " Text(4.418236933462603, 127.31684210526316, 'gini = 0.0\\nsamples = 2\\nvalue = [0, 0, 0 ... 0, 0, 0]'),\n",
       " Text(4.465639332983429, 127.31684210526316, 'X[6] <= 5.007\\ngini = 0.72\\nsamples = 5\\nvalue = [0, 0, 0 ... 0, 0, 0]'),\n",
       " Text(4.441938133223016, 124.4557894736842, 'X[5] <= 11.0\\ngini = 0.667\\nsamples = 3\\nvalue = [0, 0, 0 ... 0, 0, 0]'),\n",
       " Text(4.418236933462603, 121.59473684210526, 'gini = 0.0\\nsamples = 1\\nvalue = [0, 0, 0 ... 0, 0, 0]'),\n",
       " Text(4.465639332983429, 121.59473684210526, 'X[12] <= 0.5\\ngini = 0.5\\nsamples = 2\\nvalue = [0, 0, 0 ... 0, 0, 0]'),\n",
       " Text(4.441938133223016, 118.73368421052632, 'gini = 0.0\\nsamples = 1\\nvalue = [0, 0, 0 ... 0, 0, 0]'),\n",
       " Text(4.489340532743841, 118.73368421052632, 'gini = 0.0\\nsamples = 1\\nvalue = [0, 0, 0 ... 0, 0, 0]'),\n",
       " Text(4.489340532743841, 124.4557894736842, 'gini = 0.0\\nsamples = 2\\nvalue = [0, 0, 0 ... 0, 0, 0]'),\n",
       " Text(4.56044413202508, 135.9, 'X[6] <= 5.099\\ngini = 0.817\\nsamples = 13\\nvalue = [0, 0, 0 ... 0, 0, 0]'),\n",
       " Text(4.5367429322646675, 133.03894736842105, 'gini = 0.0\\nsamples = 4\\nvalue = [0, 0, 0 ... 0, 0, 0]'),\n",
       " Text(4.584145331785494, 133.03894736842105, 'X[6] <= 5.139\\ngini = 0.815\\nsamples = 9\\nvalue = [0, 0, 0 ... 0, 0, 0]'),\n",
       " Text(4.56044413202508, 130.17789473684212, 'gini = 0.0\\nsamples = 2\\nvalue = [0, 0, 0 ... 0, 0, 0]'),\n",
       " Text(4.607846531545906, 130.17789473684212, 'X[2] <= 83785.0\\ngini = 0.776\\nsamples = 7\\nvalue = [0, 0, 0 ... 0, 0, 0]'),\n",
       " Text(4.584145331785494, 127.31684210526316, 'X[85] <= 0.5\\ngini = 0.72\\nsamples = 5\\nvalue = [0, 0, 0 ... 0, 0, 0]'),\n",
       " Text(4.5367429322646675, 124.4557894736842, 'X[4] <= -3625.0\\ngini = 0.444\\nsamples = 3\\nvalue = [0, 0, 0 ... 0, 0, 0]'),\n",
       " Text(4.513041732504255, 121.59473684210526, 'gini = 0.0\\nsamples = 1\\nvalue = [0, 0, 0 ... 0, 0, 0]'),\n",
       " Text(4.56044413202508, 121.59473684210526, 'gini = 0.0\\nsamples = 2\\nvalue = [0, 0, 0 ... 0, 0, 0]'),\n",
       " Text(4.631547731306319, 124.4557894736842, 'X[0] <= 2015.0\\ngini = 0.5\\nsamples = 2\\nvalue = [0, 0, 0 ... 0, 0, 0]'),\n",
       " Text(4.607846531545906, 121.59473684210526, 'gini = 0.0\\nsamples = 1\\nvalue = [0, 0, 0 ... 0, 0, 0]'),\n",
       " Text(4.655248931066732, 121.59473684210526, 'gini = 0.0\\nsamples = 1\\nvalue = [0, 0, 0 ... 0, 0, 0]'),\n",
       " Text(4.631547731306319, 127.31684210526316, 'gini = 0.0\\nsamples = 2\\nvalue = [0, 0, 0 ... 0, 0, 0]'),\n",
       " Text(4.4774899328636355, 141.6221052631579, 'gini = 0.0\\nsamples = 4\\nvalue = [0, 0, 0 ... 0, 0, 0]'),\n",
       " Text(4.856709129030242, 144.48315789473685, 'X[6] <= 5.303\\ngini = 0.864\\nsamples = 27\\nvalue = [0, 0, 0 ... 0, 0, 0]'),\n",
       " Text(4.833007929269829, 141.6221052631579, 'gini = 0.0\\nsamples = 6\\nvalue = [0, 0, 0 ... 0, 0, 0]'),\n",
       " Text(4.8804103287906555, 141.6221052631579, 'X[106] <= 0.5\\ngini = 0.857\\nsamples = 21\\nvalue = [0, 0, 0 ... 0, 0, 0]'),\n",
       " Text(4.856709129030242, 138.76105263157893, 'X[2] <= 17561.0\\ngini = 0.837\\nsamples = 17\\nvalue = [0, 0, 0 ... 0, 0, 0]'),\n",
       " Text(4.833007929269829, 135.9, 'gini = 0.0\\nsamples = 4\\nvalue = [0, 0, 0 ... 0, 0, 0]'),\n",
       " Text(4.8804103287906555, 135.9, 'X[6] <= 5.414\\ngini = 0.817\\nsamples = 13\\nvalue = [0, 0, 0 ... 0, 0, 0]'),\n",
       " Text(4.856709129030242, 133.03894736842105, 'X[6] <= 5.387\\ngini = 0.78\\nsamples = 10\\nvalue = [0, 0, 0 ... 0, 0, 0]'),\n",
       " Text(4.79745612962921, 130.17789473684212, 'X[43] <= 0.5\\ngini = 0.8\\nsamples = 5\\nvalue = [0, 0, 0 ... 0, 0, 0]'),\n",
       " Text(4.750053730108384, 127.31684210526316, 'X[22] <= 0.5\\ngini = 0.667\\nsamples = 3\\nvalue = [0, 0, 0 ... 0, 0, 0]'),\n",
       " Text(4.726352530347971, 124.4557894736842, 'X[25] <= 0.5\\ngini = 0.5\\nsamples = 2\\nvalue = [0, 0, 0 ... 0, 0, 0]'),\n",
       " Text(4.702651330587558, 121.59473684210526, 'gini = 0.0\\nsamples = 1\\nvalue = [0, 0, 0 ... 0, 0, 0]'),\n",
       " Text(4.750053730108384, 121.59473684210526, 'gini = 0.0\\nsamples = 1\\nvalue = [0, 0, 0 ... 0, 0, 0]'),\n",
       " Text(4.773754929868797, 124.4557894736842, 'gini = 0.0\\nsamples = 1\\nvalue = [0, 0, 0 ... 0, 0, 0]'),\n",
       " Text(4.844858529150036, 127.31684210526316, 'X[1] <= 2.0\\ngini = 0.5\\nsamples = 2\\nvalue = [0, 0, 0 ... 0, 0, 0]'),\n",
       " Text(4.821157329389623, 124.4557894736842, 'gini = 0.0\\nsamples = 1\\nvalue = [0, 0, 0 ... 0, 0, 0]'),\n",
       " Text(4.868559728910449, 124.4557894736842, 'gini = 0.0\\nsamples = 1\\nvalue = [0, 0, 0 ... 0, 0, 0]'),\n",
       " Text(4.915962128431275, 130.17789473684212, 'X[6] <= 5.4\\ngini = 0.32\\nsamples = 5\\nvalue = [0, 0, 0 ... 0, 0, 0]'),\n",
       " Text(4.892260928670861, 127.31684210526316, 'gini = 0.0\\nsamples = 4\\nvalue = [0, 0, 0 ... 0, 0, 0]'),\n",
       " Text(4.9396633281916875, 127.31684210526316, 'gini = 0.0\\nsamples = 1\\nvalue = [0, 0, 0 ... 0, 0, 0]'),\n",
       " Text(4.904111528551068, 133.03894736842105, 'gini = 0.0\\nsamples = 3\\nvalue = [0, 0, 0 ... 0, 0, 0]'),\n",
       " Text(4.904111528551068, 138.76105263157893, 'gini = 0.0\\nsamples = 4\\nvalue = [0, 0, 0 ... 0, 0, 0]'),\n",
       " Text(4.702651330587558, 147.3442105263158, 'gini = 0.0\\nsamples = 4\\nvalue = [0, 0, 0 ... 0, 0, 0]'),\n",
       " Text(4.773754929868797, 150.20526315789473, 'X[2] <= 15822.0\\ngini = 0.375\\nsamples = 8\\nvalue = [0, 0, 0 ... 0, 0, 0]'),\n",
       " Text(4.750053730108384, 147.3442105263158, 'gini = 0.0\\nsamples = 2\\nvalue = [0, 0, 0 ... 0, 0, 0]'),\n",
       " Text(4.79745612962921, 147.3442105263158, 'gini = 0.0\\nsamples = 6\\nvalue = [0, 0, 0 ... 0, 0, 0]'),\n",
       " Text(4.975215127832307, 155.92736842105262, 'X[6] <= 5.481\\ngini = 0.643\\nsamples = 19\\nvalue = [0, 0, 0 ... 0, 0, 0]'),\n",
       " Text(4.951513928071894, 153.06631578947366, 'gini = 0.0\\nsamples = 10\\nvalue = [0, 0, 0 ... 0, 0, 0]'),\n",
       " Text(4.9989163275927195, 153.06631578947366, 'X[6] <= 5.511\\ngini = 0.642\\nsamples = 9\\nvalue = [0, 0, 0 ... 0, 0, 0]'),\n",
       " Text(4.975215127832307, 150.20526315789473, 'X[1] <= 2.0\\ngini = 0.75\\nsamples = 4\\nvalue = [0, 0, 0 ... 0, 0, 0]'),\n",
       " Text(4.927812728311481, 147.3442105263158, 'X[2] <= 70203.0\\ngini = 0.5\\nsamples = 2\\nvalue = [0, 0, 0 ... 0, 0, 0]'),\n",
       " Text(4.904111528551068, 144.48315789473685, 'gini = 0.0\\nsamples = 1\\nvalue = [0, 0, 0 ... 0, 0, 0]'),\n",
       " Text(4.951513928071894, 144.48315789473685, 'gini = 0.0\\nsamples = 1\\nvalue = [0, 0, 0 ... 0, 0, 0]'),\n",
       " Text(5.022617527353133, 147.3442105263158, 'X[95] <= 0.5\\ngini = 0.5\\nsamples = 2\\nvalue = [0, 0, 0 ... 0, 0, 0]'),\n",
       " Text(4.9989163275927195, 144.48315789473685, 'gini = 0.0\\nsamples = 1\\nvalue = [0, 0, 0 ... 0, 0, 0]'),\n",
       " Text(5.046318727113546, 144.48315789473685, 'gini = 0.0\\nsamples = 1\\nvalue = [0, 0, 0 ... 0, 0, 0]'),\n",
       " Text(5.022617527353133, 150.20526315789473, 'gini = 0.0\\nsamples = 5\\nvalue = [0, 0, 0 ... 0, 0, 0]'),\n",
       " Text(5.141123526155198, 158.78842105263158, 'X[20] <= 0.5\\ngini = 0.365\\nsamples = 24\\nvalue = [0, 0, 0 ... 0, 0, 0]'),\n",
       " Text(5.070019926873958, 155.92736842105262, 'X[6] <= 4.908\\ngini = 0.177\\nsamples = 21\\nvalue = [0, 0, 0 ... 0, 0, 0]'),\n",
       " Text(5.046318727113546, 153.06631578947366, 'gini = 0.0\\nsamples = 19\\nvalue = [0, 0, 0 ... 0, 0, 0]'),\n",
       " Text(5.093721126634372, 153.06631578947366, 'X[21] <= 0.5\\ngini = 0.5\\nsamples = 2\\nvalue = [0, 0, 0 ... 0, 0, 0]'),\n",
       " Text(5.070019926873958, 150.20526315789473, 'gini = 0.0\\nsamples = 1\\nvalue = [0, 0, 0 ... 0, 0, 0]'),\n",
       " Text(5.1174223263947844, 150.20526315789473, 'gini = 0.0\\nsamples = 1\\nvalue = [0, 0, 0 ... 0, 0, 0]'),\n",
       " Text(5.212227125436437, 155.92736842105262, 'X[26] <= 0.5\\ngini = 0.667\\nsamples = 3\\nvalue = [0, 0, 0 ... 0, 0, 0]'),\n",
       " Text(5.188525925676023, 153.06631578947366, 'X[42] <= 0.5\\ngini = 0.5\\nsamples = 2\\nvalue = [0, 0, 0 ... 0, 0, 0]'),\n",
       " Text(5.164824725915611, 150.20526315789473, 'gini = 0.0\\nsamples = 1\\nvalue = [0, 0, 0 ... 0, 0, 0]'),\n",
       " Text(5.212227125436437, 150.20526315789473, 'gini = 0.0\\nsamples = 1\\nvalue = [0, 0, 0 ... 0, 0, 0]'),\n",
       " Text(5.235928325196849, 153.06631578947366, 'gini = 0.0\\nsamples = 1\\nvalue = [0, 0, 0 ... 0, 0, 0]'),\n",
       " Text(5.775871282238756, 170.23263157894738, 'X[6] <= 5.523\\ngini = 0.912\\nsamples = 427\\nvalue = [0, 0, 0 ... 0, 0, 0]'),\n",
       " Text(5.752170082478344, 167.37157894736842, 'gini = 0.0\\nsamples = 113\\nvalue = [0, 0, 0 ... 0, 0, 0]'),\n",
       " Text(5.79957248199917, 167.37157894736842, 'X[6] <= 5.597\\ngini = 0.966\\nsamples = 314\\nvalue = [0, 0, 0 ... 0, 0, 0]'),\n",
       " Text(5.606259571453301, 164.51052631578946, 'X[6] <= 5.593\\ngini = 0.919\\nsamples = 141\\nvalue = [0, 0, 0 ... 0, 0, 0]'),\n",
       " Text(5.582558371692889, 161.64947368421053, 'X[6] <= 5.585\\ngini = 0.927\\nsamples = 116\\nvalue = [0, 0, 0 ... 0, 0, 0]'),\n",
       " Text(5.502566822501495, 158.78842105263158, 'X[6] <= 5.574\\ngini = 0.921\\nsamples = 101\\nvalue = [0, 0, 0 ... 0, 0, 0]'),\n",
       " Text(5.413687323399946, 155.92736842105262, 'X[6] <= 5.555\\ngini = 0.901\\nsamples = 80\\nvalue = [0, 0, 0 ... 0, 0, 0]'),\n",
       " Text(5.307031924478088, 153.06631578947366, 'X[6] <= 5.539\\ngini = 0.852\\nsamples = 49\\nvalue = [0, 0, 0 ... 0, 0, 0]'),\n",
       " Text(5.259629524957262, 150.20526315789473, 'X[6] <= 5.535\\ngini = 0.683\\nsamples = 26\\nvalue = [0, 0, 0 ... 0, 0, 0]'),\n",
       " Text(5.235928325196849, 147.3442105263158, 'X[6] <= 5.531\\ngini = 0.643\\nsamples = 14\\nvalue = [0, 0, 0 ... 0, 0, 0]'),\n",
       " Text(5.212227125436437, 144.48315789473685, 'X[6] <= 5.527\\ngini = 0.444\\nsamples = 9\\nvalue = [0, 0, 0 ... 0, 0, 0]'),\n",
       " Text(5.188525925676023, 141.6221052631579, 'gini = 0.0\\nsamples = 3\\nvalue = [0, 0, 0 ... 0, 0, 0]'),\n",
       " Text(5.235928325196849, 141.6221052631579, 'gini = 0.0\\nsamples = 6\\nvalue = [0, 0, 0 ... 0, 0, 0]'),\n",
       " Text(5.259629524957262, 144.48315789473685, 'gini = 0.0\\nsamples = 5\\nvalue = [0, 0, 0 ... 0, 0, 0]'),\n",
       " Text(5.2833307247176755, 147.3442105263158, 'gini = 0.0\\nsamples = 12\\nvalue = [0, 0, 0 ... 0, 0, 0]'),\n",
       " Text(5.354434323998914, 150.20526315789473, 'X[6] <= 5.543\\ngini = 0.733\\nsamples = 23\\nvalue = [0, 0, 0 ... 0, 0, 0]'),\n",
       " Text(5.330733124238501, 147.3442105263158, 'gini = 0.0\\nsamples = 8\\nvalue = [0, 0, 0 ... 0, 0, 0]'),\n",
       " Text(5.378135523759327, 147.3442105263158, 'X[6] <= 5.547\\ngini = 0.658\\nsamples = 15\\nvalue = [0, 0, 0 ... 0, 0, 0]'),\n",
       " Text(5.354434323998914, 144.48315789473685, 'gini = 0.0\\nsamples = 6\\nvalue = [0, 0, 0 ... 0, 0, 0]'),\n",
       " Text(5.4018367235197395, 144.48315789473685, 'X[6] <= 5.551\\ngini = 0.494\\nsamples = 9\\nvalue = [0, 0, 0 ... 0, 0, 0]'),\n",
       " Text(5.378135523759327, 141.6221052631579, 'gini = 0.0\\nsamples = 4\\nvalue = [0, 0, 0 ... 0, 0, 0]'),\n",
       " Text(5.425537923280153, 141.6221052631579, 'gini = 0.0\\nsamples = 5\\nvalue = [0, 0, 0 ... 0, 0, 0]'),\n",
       " Text(5.5203427223218045, 153.06631578947366, 'X[6] <= 5.559\\ngini = 0.712\\nsamples = 31\\nvalue = [0, 0, 0 ... 0, 0, 0]'),\n",
       " Text(5.496641522561392, 150.20526315789473, 'gini = 0.0\\nsamples = 14\\nvalue = [0, 0, 0 ... 0, 0, 0]'),\n",
       " Text(5.544043922082217, 150.20526315789473, 'X[6] <= 5.57\\ngini = 0.72\\nsamples = 17\\nvalue = [0, 0, 0 ... 0, 0, 0]'),\n",
       " Text(5.5203427223218045, 147.3442105263158, 'X[6] <= 5.566\\ngini = 0.628\\nsamples = 11\\nvalue = [0, 0, 0 ... 0, 0, 0]'),\n",
       " Text(5.496641522561392, 144.48315789473685, 'X[6] <= 5.563\\ngini = 0.408\\nsamples = 7\\nvalue = [0, 0, 0 ... 0, 0, 0]'),\n",
       " Text(5.472940322800978, 141.6221052631579, 'gini = 0.0\\nsamples = 2\\nvalue = [0, 0, 0 ... 0, 0, 0]'),\n",
       " Text(5.5203427223218045, 141.6221052631579, 'gini = 0.0\\nsamples = 5\\nvalue = [0, 0, 0 ... 0, 0, 0]'),\n",
       " Text(5.544043922082217, 144.48315789473685, 'gini = 0.0\\nsamples = 4\\nvalue = [0, 0, 0 ... 0, 0, 0]'),\n",
       " Text(5.567745121842631, 147.3442105263158, 'gini = 0.0\\nsamples = 6\\nvalue = [0, 0, 0 ... 0, 0, 0]'),\n",
       " Text(5.591446321603043, 155.92736842105262, 'X[6] <= 5.578\\ngini = 0.608\\nsamples = 21\\nvalue = [0, 0, 0 ... 0, 0, 0]'),\n",
       " Text(5.567745121842631, 153.06631578947366, 'gini = 0.0\\nsamples = 10\\nvalue = [0, 0, 0 ... 0, 0, 0]'),\n",
       " Text(5.615147521363457, 153.06631578947366, 'X[6] <= 5.582\\ngini = 0.397\\nsamples = 11\\nvalue = [0, 0, 0 ... 0, 0, 0]'),\n",
       " Text(5.591446321603043, 150.20526315789473, 'gini = 0.0\\nsamples = 3\\nvalue = [0, 0, 0 ... 0, 0, 0]'),\n",
       " Text(5.638848721123869, 150.20526315789473, 'gini = 0.0\\nsamples = 8\\nvalue = [0, 0, 0 ... 0, 0, 0]'),\n",
       " Text(5.662549920884282, 158.78842105263158, 'X[6] <= 5.589\\ngini = 0.231\\nsamples = 15\\nvalue = [0, 0, 0 ... 0, 0, 0]'),\n",
       " Text(5.638848721123869, 155.92736842105262, 'gini = 0.0\\nsamples = 13\\nvalue = [0, 0, 0 ... 0, 0, 0]'),\n",
       " Text(5.6862511206446955, 155.92736842105262, 'gini = 0.0\\nsamples = 2\\nvalue = [0, 0, 0 ... 0, 0, 0]'),\n",
       " Text(5.629960771213715, 161.64947368421053, 'gini = 0.0\\nsamples = 25\\nvalue = [0, 0, 0 ... 0, 0, 0]'),\n",
       " Text(5.992885392545038, 164.51052631578946, 'X[6] <= 5.619\\ngini = 0.943\\nsamples = 173\\nvalue = [0, 0, 0 ... 0, 0, 0]'),\n",
       " Text(5.8047571194467595, 161.64947368421053, 'X[6] <= 5.615\\ngini = 0.591\\nsamples = 36\\nvalue = [0, 0, 0 ... 0, 0, 0]'),\n",
       " Text(5.781055919686347, 158.78842105263158, 'X[6] <= 5.604\\ngini = 0.765\\nsamples = 14\\nvalue = [0, 0, 0 ... 0, 0, 0]'),\n",
       " Text(5.733653520165521, 155.92736842105262, 'X[6] <= 5.6\\ngini = 0.49\\nsamples = 7\\nvalue = [0, 0, 0 ... 0, 0, 0]'),\n",
       " Text(5.709952320405108, 153.06631578947366, 'gini = 0.0\\nsamples = 3\\nvalue = [0, 0, 0 ... 0, 0, 0]'),\n",
       " Text(5.757354719925934, 153.06631578947366, 'gini = 0.0\\nsamples = 4\\nvalue = [0, 0, 0 ... 0, 0, 0]'),\n",
       " Text(5.828458319207173, 155.92736842105262, 'X[6] <= 5.608\\ngini = 0.571\\nsamples = 7\\nvalue = [0, 0, 0 ... 0, 0, 0]'),\n",
       " Text(5.8047571194467595, 153.06631578947366, 'gini = 0.0\\nsamples = 4\\nvalue = [0, 0, 0 ... 0, 0, 0]'),\n",
       " Text(5.852159518967586, 153.06631578947366, 'X[6] <= 5.611\\ngini = 0.444\\nsamples = 3\\nvalue = [0, 0, 0 ... 0, 0, 0]'),\n",
       " Text(5.828458319207173, 150.20526315789473, 'gini = 0.0\\nsamples = 1\\nvalue = [0, 0, 0 ... 0, 0, 0]'),\n",
       " Text(5.875860718727998, 150.20526315789473, 'gini = 0.0\\nsamples = 2\\nvalue = [0, 0, 0 ... 0, 0, 0]'),\n",
       " Text(5.828458319207173, 158.78842105263158, 'gini = 0.0\\nsamples = 22\\nvalue = [0, 0, 0 ... 0, 0, 0]'),\n",
       " Text(6.181013665643316, 161.64947368421053, 'X[6] <= 5.665\\ngini = 0.937\\nsamples = 137\\nvalue = [0, 0, 0 ... 0, 0, 0]'),\n",
       " Text(6.071395616751405, 158.78842105263158, 'X[6] <= 5.658\\ngini = 0.902\\nsamples = 74\\nvalue = [0, 0, 0 ... 0, 0, 0]'),\n",
       " Text(6.00621731741027, 155.92736842105262, 'X[6] <= 5.633\\ngini = 0.883\\nsamples = 60\\nvalue = [0, 0, 0 ... 0, 0, 0]'),\n",
       " Text(5.946964318009237, 153.06631578947366, 'X[6] <= 5.629\\ngini = 0.722\\nsamples = 28\\nvalue = [0, 0, 0 ... 0, 0, 0]'),\n",
       " Text(5.9232631182488245, 150.20526315789473, 'X[6] <= 5.622\\ngini = 0.664\\nsamples = 17\\nvalue = [0, 0, 0 ... 0, 0, 0]'),\n",
       " Text(5.899561918488412, 147.3442105263158, 'gini = 0.0\\nsamples = 6\\nvalue = [0, 0, 0 ... 0, 0, 0]'),\n",
       " Text(5.946964318009237, 147.3442105263158, 'X[6] <= 5.626\\ngini = 0.496\\nsamples = 11\\nvalue = [0, 0, 0 ... 0, 0, 0]'),\n",
       " Text(5.9232631182488245, 144.48315789473685, 'gini = 0.0\\nsamples = 5\\nvalue = [0, 0, 0 ... 0, 0, 0]'),\n",
       " Text(5.970665517769651, 144.48315789473685, 'gini = 0.0\\nsamples = 6\\nvalue = [0, 0, 0 ... 0, 0, 0]'),\n",
       " Text(5.970665517769651, 150.20526315789473, 'gini = 0.0\\nsamples = 11\\nvalue = [0, 0, 0 ... 0, 0, 0]'),\n",
       " Text(6.065470316811302, 153.06631578947366, 'X[6] <= 5.637\\ngini = 0.803\\nsamples = 32\\nvalue = [0, 0, 0 ... 0, 0, 0]'),\n",
       " Text(6.041769117050889, 150.20526315789473, 'gini = 0.0\\nsamples = 9\\nvalue = [0, 0, 0 ... 0, 0, 0]'),\n",
       " Text(6.0891715165717155, 150.20526315789473, 'X[6] <= 5.651\\ngini = 0.771\\nsamples = 23\\nvalue = [0, 0, 0 ... 0, 0, 0]'),\n",
       " Text(6.041769117050889, 147.3442105263158, 'X[6] <= 5.64\\ngini = 0.653\\nsamples = 14\\nvalue = [0, 0, 0 ... 0, 0, 0]'),\n",
       " Text(6.018067917290477, 144.48315789473685, 'gini = 0.0\\nsamples = 3\\nvalue = [0, 0, 0 ... 0, 0, 0]'),\n",
       " Text(6.065470316811302, 144.48315789473685, 'X[6] <= 5.647\\ngini = 0.512\\nsamples = 11\\nvalue = [0, 0, 0 ... 0, 0, 0]'),\n",
       " Text(6.041769117050889, 141.6221052631579, 'X[6] <= 5.644\\ngini = 0.219\\nsamples = 8\\nvalue = [0, 0, 0 ... 0, 0, 0]'),\n",
       " Text(6.018067917290477, 138.76105263157893, 'gini = 0.0\\nsamples = 1\\nvalue = [0, 0, 0 ... 0, 0, 0]'),\n",
       " Text(6.065470316811302, 138.76105263157893, 'gini = 0.0\\nsamples = 7\\nvalue = [0, 0, 0 ... 0, 0, 0]'),\n",
       " Text(6.0891715165717155, 141.6221052631579, 'gini = 0.0\\nsamples = 3\\nvalue = [0, 0, 0 ... 0, 0, 0]'),\n",
       " Text(6.136573916092541, 147.3442105263158, 'X[6] <= 5.654\\ngini = 0.346\\nsamples = 9\\nvalue = [0, 0, 0 ... 0, 0, 0]'),\n",
       " Text(6.112872716332128, 144.48315789473685, 'gini = 0.0\\nsamples = 7\\nvalue = [0, 0, 0 ... 0, 0, 0]'),\n",
       " Text(6.160275115852954, 144.48315789473685, 'gini = 0.0\\nsamples = 2\\nvalue = [0, 0, 0 ... 0, 0, 0]'),\n",
       " Text(6.136573916092541, 155.92736842105262, 'X[6] <= 5.661\\ngini = 0.408\\nsamples = 14\\nvalue = [0, 0, 0 ... 0, 0, 0]'),\n",
       " Text(6.112872716332128, 153.06631578947366, 'gini = 0.0\\nsamples = 10\\nvalue = [0, 0, 0 ... 0, 0, 0]'),\n",
       " Text(6.160275115852954, 153.06631578947366, 'gini = 0.0\\nsamples = 4\\nvalue = [0, 0, 0 ... 0, 0, 0]'),\n",
       " Text(6.290631714535225, 158.78842105263158, 'X[6] <= 5.668\\ngini = 0.838\\nsamples = 63\\nvalue = [0, 0, 0 ... 0, 0, 0]'),\n",
       " Text(6.266930514774812, 155.92736842105262, 'gini = 0.0\\nsamples = 19\\nvalue = [0, 0, 0 ... 0, 0, 0]'),\n",
       " Text(6.314332914295638, 155.92736842105262, 'X[6] <= 5.685\\ngini = 0.854\\nsamples = 44\\nvalue = [0, 0, 0 ... 0, 0, 0]'),\n",
       " Text(6.255079914894606, 153.06631578947366, 'X[6] <= 5.678\\ngini = 0.757\\nsamples = 21\\nvalue = [0, 0, 0 ... 0, 0, 0]'),\n",
       " Text(6.2076775153737795, 150.20526315789473, 'X[6] <= 5.672\\ngini = 0.66\\nsamples = 10\\nvalue = [0, 0, 0 ... 0, 0, 0]'),\n",
       " Text(6.183976315613367, 147.3442105263158, 'gini = 0.0\\nsamples = 4\\nvalue = [0, 0, 0 ... 0, 0, 0]'),\n",
       " Text(6.231378715134193, 147.3442105263158, 'X[6] <= 5.675\\ngini = 0.5\\nsamples = 6\\nvalue = [0, 0, 0 ... 0, 0, 0]'),\n",
       " Text(6.2076775153737795, 144.48315789473685, 'gini = 0.0\\nsamples = 3\\nvalue = [0, 0, 0 ... 0, 0, 0]'),\n",
       " Text(6.255079914894606, 144.48315789473685, 'gini = 0.0\\nsamples = 3\\nvalue = [0, 0, 0 ... 0, 0, 0]'),\n",
       " Text(6.302482314415432, 150.20526315789473, 'X[6] <= 5.682\\ngini = 0.397\\nsamples = 11\\nvalue = [0, 0, 0 ... 0, 0, 0]'),\n",
       " Text(6.278781114655018, 147.3442105263158, 'gini = 0.0\\nsamples = 8\\nvalue = [0, 0, 0 ... 0, 0, 0]'),\n",
       " Text(6.3261835141758445, 147.3442105263158, 'gini = 0.0\\nsamples = 3\\nvalue = [0, 0, 0 ... 0, 0, 0]'),\n",
       " Text(6.373585913696671, 153.06631578947366, 'X[6] <= 5.689\\ngini = 0.669\\nsamples = 23\\nvalue = [0, 0, 0 ... 0, 0, 0]'),\n",
       " Text(6.349884713936257, 150.20526315789473, 'gini = 0.0\\nsamples = 11\\nvalue = [0, 0, 0 ... 0, 0, 0]'),\n",
       " Text(6.397287113457083, 150.20526315789473, 'X[6] <= 5.695\\ngini = 0.625\\nsamples = 12\\nvalue = [0, 0, 0 ... 0, 0, 0]'),\n",
       " Text(6.373585913696671, 147.3442105263158, 'X[6] <= 5.692\\ngini = 0.408\\nsamples = 7\\nvalue = [0, 0, 0 ... 0, 0, 0]'),\n",
       " Text(6.349884713936257, 144.48315789473685, 'gini = 0.0\\nsamples = 2\\nvalue = [0, 0, 0 ... 0, 0, 0]'),\n",
       " Text(6.397287113457083, 144.48315789473685, 'gini = 0.0\\nsamples = 5\\nvalue = [0, 0, 0 ... 0, 0, 0]'),\n",
       " Text(6.420988313217496, 147.3442105263158, 'gini = 0.0\\nsamples = 5\\nvalue = [0, 0, 0 ... 0, 0, 0]'),\n",
       " Text(3.7486623083860033, 175.95473684210526, 'gini = 0.0\\nsamples = 49\\nvalue = [0, 0, 0 ... 0, 0, 0]'),\n",
       " Text(7.696339688216044, 178.81578947368422, 'X[6] <= 5.705\\ngini = 0.839\\nsamples = 972\\nvalue = [0, 0, 0 ... 0, 0, 0]'),\n",
       " Text(7.672638488455632, 175.95473684210526, 'gini = 0.0\\nsamples = 332\\nvalue = [0, 0, 0 ... 0, 0, 0]'),\n",
       " Text(7.720040887976458, 175.95473684210526, 'X[5] <= 10.5\\ngini = 0.898\\nsamples = 640\\nvalue = [0, 0, 0 ... 0, 0, 0]'),\n",
       " Text(6.914130659013744, 173.0936842105263, 'X[6] <= 5.988\\ngini = 0.984\\nsamples = 378\\nvalue = [0, 0, 0 ... 0, 0, 0]'),\n",
       " Text(6.8904294592533315, 170.23263157894738, 'X[6] <= 5.738\\ngini = 0.984\\nsamples = 363\\nvalue = [0, 0, 0 ... 0, 0, 0]'),\n",
       " Text(6.59282201148049, 167.37157894736842, 'X[6] <= 5.732\\ngini = 0.86\\nsamples = 50\\nvalue = [0, 0, 0 ... 0, 0, 0]'),\n",
       " Text(6.527643712139355, 164.51052631578946, 'X[6] <= 5.722\\ngini = 0.861\\nsamples = 29\\nvalue = [0, 0, 0 ... 0, 0, 0]'),\n",
       " Text(6.468390712738322, 161.64947368421053, 'X[6] <= 5.709\\ngini = 0.79\\nsamples = 18\\nvalue = [0, 0, 0 ... 0, 0, 0]'),\n",
       " Text(6.444689512977909, 158.78842105263158, 'gini = 0.0\\nsamples = 4\\nvalue = [0, 0, 0 ... 0, 0, 0]'),\n",
       " Text(6.4920919124987355, 158.78842105263158, 'X[6] <= 5.715\\ngini = 0.735\\nsamples = 14\\nvalue = [0, 0, 0 ... 0, 0, 0]'),\n",
       " Text(6.444689512977909, 155.92736842105262, 'X[6] <= 5.712\\ngini = 0.469\\nsamples = 8\\nvalue = [0, 0, 0 ... 0, 0, 0]'),\n",
       " Text(6.420988313217496, 153.06631578947366, 'gini = 0.0\\nsamples = 3\\nvalue = [0, 0, 0 ... 0, 0, 0]'),\n",
       " Text(6.468390712738322, 153.06631578947366, 'gini = 0.0\\nsamples = 5\\nvalue = [0, 0, 0 ... 0, 0, 0]'),\n",
       " Text(6.539494312019561, 155.92736842105262, 'X[6] <= 5.719\\ngini = 0.5\\nsamples = 6\\nvalue = [0, 0, 0 ... 0, 0, 0]'),\n",
       " Text(6.515793112259148, 153.06631578947366, 'gini = 0.0\\nsamples = 3\\nvalue = [0, 0, 0 ... 0, 0, 0]'),\n",
       " Text(6.563195511779974, 153.06631578947366, 'gini = 0.0\\nsamples = 3\\nvalue = [0, 0, 0 ... 0, 0, 0]'),\n",
       " Text(6.586896711540387, 161.64947368421053, 'X[6] <= 5.725\\ngini = 0.595\\nsamples = 11\\nvalue = [0, 0, 0 ... 0, 0, 0]'),\n",
       " Text(6.563195511779974, 158.78842105263158, 'gini = 0.0\\nsamples = 6\\nvalue = [0, 0, 0 ... 0, 0, 0]'),\n",
       " Text(6.6105979113007995, 158.78842105263158, 'X[6] <= 5.728\\ngini = 0.48\\nsamples = 5\\nvalue = [0, 0, 0 ... 0, 0, 0]'),\n",
       " Text(6.586896711540387, 155.92736842105262, 'gini = 0.0\\nsamples = 3\\nvalue = [0, 0, 0 ... 0, 0, 0]'),\n",
       " Text(6.634299111061213, 155.92736842105262, 'gini = 0.0\\nsamples = 2\\nvalue = [0, 0, 0 ... 0, 0, 0]'),\n",
       " Text(6.658000310821626, 164.51052631578946, 'X[6] <= 5.735\\ngini = 0.472\\nsamples = 21\\nvalue = [0, 0, 0 ... 0, 0, 0]'),\n",
       " Text(6.634299111061213, 161.64947368421053, 'gini = 0.0\\nsamples = 13\\nvalue = [0, 0, 0 ... 0, 0, 0]'),\n",
       " Text(6.681701510582038, 161.64947368421053, 'gini = 0.0\\nsamples = 8\\nvalue = [0, 0, 0 ... 0, 0, 0]'),\n",
       " Text(7.188036907026173, 167.37157894736842, 'X[6] <= 5.799\\ngini = 0.982\\nsamples = 313\\nvalue = [0, 0, 0 ... 0, 0, 0]'),\n",
       " Text(6.752805109863277, 164.51052631578946, 'X[6] <= 5.795\\ngini = 0.92\\nsamples = 86\\nvalue = [0, 0, 0 ... 0, 0, 0]'),\n",
       " Text(6.7291039101028645, 161.64947368421053, 'X[6] <= 5.741\\ngini = 0.937\\nsamples = 69\\nvalue = [0, 0, 0 ... 0, 0, 0]'),\n",
       " Text(6.705402710342452, 158.78842105263158, 'gini = 0.0\\nsamples = 5\\nvalue = [0, 0, 0 ... 0, 0, 0]'),\n",
       " Text(6.752805109863277, 158.78842105263158, 'X[6] <= 5.764\\ngini = 0.933\\nsamples = 64\\nvalue = [0, 0, 0 ... 0, 0, 0]'),\n",
       " Text(6.683182835567065, 155.92736842105262, 'X[6] <= 5.76\\ngini = 0.844\\nsamples = 28\\nvalue = [0, 0, 0 ... 0, 0, 0]'),\n",
       " Text(6.659481635806651, 153.06631578947366, 'X[6] <= 5.745\\ngini = 0.822\\nsamples = 22\\nvalue = [0, 0, 0 ... 0, 0, 0]'),\n",
       " Text(6.635780436046239, 150.20526315789473, 'gini = 0.0\\nsamples = 4\\nvalue = [0, 0, 0 ... 0, 0, 0]'),\n",
       " Text(6.683182835567065, 150.20526315789473, 'X[6] <= 5.748\\ngini = 0.784\\nsamples = 18\\nvalue = [0, 0, 0 ... 0, 0, 0]'),\n",
       " Text(6.659481635806651, 147.3442105263158, 'gini = 0.0\\nsamples = 4\\nvalue = [0, 0, 0 ... 0, 0, 0]'),\n",
       " Text(6.7068840353274775, 147.3442105263158, 'X[6] <= 5.754\\ngini = 0.724\\nsamples = 14\\nvalue = [0, 0, 0 ... 0, 0, 0]'),\n",
       " Text(6.659481635806651, 144.48315789473685, 'X[6] <= 5.751\\ngini = 0.408\\nsamples = 7\\nvalue = [0, 0, 0 ... 0, 0, 0]'),\n",
       " Text(6.635780436046239, 141.6221052631579, 'gini = 0.0\\nsamples = 2\\nvalue = [0, 0, 0 ... 0, 0, 0]'),\n",
       " Text(6.683182835567065, 141.6221052631579, 'gini = 0.0\\nsamples = 5\\nvalue = [0, 0, 0 ... 0, 0, 0]'),\n",
       " Text(6.754286434848304, 144.48315789473685, 'X[6] <= 5.757\\ngini = 0.49\\nsamples = 7\\nvalue = [0, 0, 0 ... 0, 0, 0]'),\n",
       " Text(6.73058523508789, 141.6221052631579, 'gini = 0.0\\nsamples = 4\\nvalue = [0, 0, 0 ... 0, 0, 0]'),\n",
       " Text(6.777987634608716, 141.6221052631579, 'gini = 0.0\\nsamples = 3\\nvalue = [0, 0, 0 ... 0, 0, 0]'),\n",
       " Text(6.7068840353274775, 153.06631578947366, 'gini = 0.0\\nsamples = 6\\nvalue = [0, 0, 0 ... 0, 0, 0]'),\n",
       " Text(6.82242738415949, 155.92736842105262, 'X[6] <= 5.77\\ngini = 0.881\\nsamples = 36\\nvalue = [0, 0, 0 ... 0, 0, 0]'),\n",
       " Text(6.754286434848304, 153.06631578947366, 'X[4] <= -2125.0\\ngini = 0.444\\nsamples = 9\\nvalue = [0, 0, 0 ... 0, 0, 0]'),\n",
       " Text(6.73058523508789, 150.20526315789473, 'gini = 0.0\\nsamples = 6\\nvalue = [0, 0, 0 ... 0, 0, 0]'),\n",
       " Text(6.777987634608716, 150.20526315789473, 'gini = 0.0\\nsamples = 3\\nvalue = [0, 0, 0 ... 0, 0, 0]'),\n",
       " Text(6.890568333470678, 153.06631578947366, 'X[6] <= 5.776\\ngini = 0.85\\nsamples = 27\\nvalue = [0, 0, 0 ... 0, 0, 0]'),\n",
       " Text(6.825390034129542, 150.20526315789473, 'X[26] <= 0.5\\ngini = 0.278\\nsamples = 6\\nvalue = [0, 0, 0 ... 0, 0, 0]'),\n",
       " Text(6.801688834369129, 147.3442105263158, 'gini = 0.0\\nsamples = 5\\nvalue = [0, 0, 0 ... 0, 0, 0]'),\n",
       " Text(6.849091233889955, 147.3442105263158, 'gini = 0.0\\nsamples = 1\\nvalue = [0, 0, 0 ... 0, 0, 0]'),\n",
       " Text(6.955746632811813, 150.20526315789473, 'X[6] <= 5.782\\ngini = 0.812\\nsamples = 21\\nvalue = [0, 0, 0 ... 0, 0, 0]'),\n",
       " Text(6.896493633410781, 147.3442105263158, 'X[6] <= 5.779\\ngini = 0.444\\nsamples = 9\\nvalue = [0, 0, 0 ... 0, 0, 0]'),\n",
       " Text(6.872792433650368, 144.48315789473685, 'gini = 0.0\\nsamples = 3\\nvalue = [0, 0, 0 ... 0, 0, 0]'),\n",
       " Text(6.920194833171194, 144.48315789473685, 'gini = 0.0\\nsamples = 6\\nvalue = [0, 0, 0 ... 0, 0, 0]'),\n",
       " Text(7.014999632212845, 147.3442105263158, 'X[6] <= 5.788\\ngini = 0.736\\nsamples = 12\\nvalue = [0, 0, 0 ... 0, 0, 0]'),\n",
       " Text(6.96759723269202, 144.48315789473685, 'X[6] <= 5.785\\ngini = 0.444\\nsamples = 6\\nvalue = [0, 0, 0 ... 0, 0, 0]'),\n",
       " Text(6.943896032931606, 141.6221052631579, 'gini = 0.0\\nsamples = 2\\nvalue = [0, 0, 0 ... 0, 0, 0]'),\n",
       " Text(6.9912984324524325, 141.6221052631579, 'gini = 0.0\\nsamples = 4\\nvalue = [0, 0, 0 ... 0, 0, 0]'),\n",
       " Text(7.062402031733671, 144.48315789473685, 'X[1] <= 5.0\\ngini = 0.5\\nsamples = 6\\nvalue = [0, 0, 0 ... 0, 0, 0]'),\n",
       " Text(7.038700831973259, 141.6221052631579, 'gini = 0.0\\nsamples = 3\\nvalue = [0, 0, 0 ... 0, 0, 0]'),\n",
       " Text(7.086103231494085, 141.6221052631579, 'gini = 0.0\\nsamples = 3\\nvalue = [0, 0, 0 ... 0, 0, 0]'),\n",
       " Text(6.776506309623691, 161.64947368421053, 'gini = 0.0\\nsamples = 17\\nvalue = [0, 0, 0 ... 0, 0, 0]'),\n",
       " Text(7.623268704189068, 164.51052631578946, 'X[6] <= 5.859\\ngini = 0.977\\nsamples = 227\\nvalue = [0, 0, 0 ... 0, 0, 0]'),\n",
       " Text(7.400144128319556, 161.64947368421053, 'X[6] <= 5.854\\ngini = 0.937\\nsamples = 91\\nvalue = [0, 0, 0 ... 0, 0, 0]'),\n",
       " Text(7.3349658289784205, 158.78842105263158, 'X[6] <= 5.822\\ngini = 0.933\\nsamples = 73\\nvalue = [0, 0, 0 ... 0, 0, 0]'),\n",
       " Text(7.275712829577388, 155.92736842105262, 'X[6] <= 5.819\\ngini = 0.839\\nsamples = 29\\nvalue = [0, 0, 0 ... 0, 0, 0]'),\n",
       " Text(7.252011629816975, 153.06631578947366, 'X[6] <= 5.816\\ngini = 0.813\\nsamples = 23\\nvalue = [0, 0, 0 ... 0, 0, 0]'),\n",
       " Text(7.228310430056562, 150.20526315789473, 'X[6] <= 5.813\\ngini = 0.772\\nsamples = 18\\nvalue = [0, 0, 0 ... 0, 0, 0]'),\n",
       " Text(7.204609230296149, 147.3442105263158, 'X[6] <= 5.807\\ngini = 0.704\\nsamples = 14\\nvalue = [0, 0, 0 ... 0, 0, 0]'),\n",
       " Text(7.157206830775324, 144.48315789473685, 'X[85] <= 0.5\\ngini = 0.48\\nsamples = 5\\nvalue = [0, 0, 0 ... 0, 0, 0]'),\n",
       " Text(7.13350563101491, 141.6221052631579, 'gini = 0.0\\nsamples = 3\\nvalue = [0, 0, 0 ... 0, 0, 0]'),\n",
       " Text(7.180908030535736, 141.6221052631579, 'gini = 0.0\\nsamples = 2\\nvalue = [0, 0, 0 ... 0, 0, 0]'),\n",
       " Text(7.252011629816975, 144.48315789473685, 'X[6] <= 5.81\\ngini = 0.444\\nsamples = 9\\nvalue = [0, 0, 0 ... 0, 0, 0]'),\n",
       " Text(7.228310430056562, 141.6221052631579, 'gini = 0.0\\nsamples = 6\\nvalue = [0, 0, 0 ... 0, 0, 0]'),\n",
       " Text(7.275712829577388, 141.6221052631579, 'gini = 0.0\\nsamples = 3\\nvalue = [0, 0, 0 ... 0, 0, 0]'),\n",
       " Text(7.252011629816975, 147.3442105263158, 'gini = 0.0\\nsamples = 4\\nvalue = [0, 0, 0 ... 0, 0, 0]'),\n",
       " Text(7.275712829577388, 150.20526315789473, 'gini = 0.0\\nsamples = 5\\nvalue = [0, 0, 0 ... 0, 0, 0]'),\n",
       " Text(7.299414029337801, 153.06631578947366, 'gini = 0.0\\nsamples = 6\\nvalue = [0, 0, 0 ... 0, 0, 0]'),\n",
       " Text(7.3942188283794525, 155.92736842105262, 'X[6] <= 5.827\\ngini = 0.886\\nsamples = 44\\nvalue = [0, 0, 0 ... 0, 0, 0]'),\n",
       " Text(7.346816428858626, 153.06631578947366, 'X[54] <= 0.5\\ngini = 0.397\\nsamples = 11\\nvalue = [0, 0, 0 ... 0, 0, 0]'),\n",
       " Text(7.323115229098214, 150.20526315789473, 'gini = 0.0\\nsamples = 8\\nvalue = [0, 0, 0 ... 0, 0, 0]'),\n",
       " Text(7.37051762861904, 150.20526315789473, 'gini = 0.0\\nsamples = 3\\nvalue = [0, 0, 0 ... 0, 0, 0]'),\n",
       " Text(7.441621227900279, 153.06631578947366, 'X[6] <= 5.832\\ngini = 0.865\\nsamples = 33\\nvalue = [0, 0, 0 ... 0, 0, 0]'),\n",
       " Text(7.417920028139865, 150.20526315789473, 'gini = 0.0\\nsamples = 6\\nvalue = [0, 0, 0 ... 0, 0, 0]'),\n",
       " Text(7.465322427660691, 150.20526315789473, 'X[6] <= 5.845\\ngini = 0.848\\nsamples = 27\\nvalue = [0, 0, 0 ... 0, 0, 0]'),\n",
       " Text(7.406069428259659, 147.3442105263158, 'X[6] <= 5.839\\ngini = 0.745\\nsamples = 14\\nvalue = [0, 0, 0 ... 0, 0, 0]'),\n",
       " Text(7.358667028738833, 144.48315789473685, 'X[6] <= 5.836\\ngini = 0.49\\nsamples = 7\\nvalue = [0, 0, 0 ... 0, 0, 0]'),\n",
       " Text(7.3349658289784205, 141.6221052631579, 'gini = 0.0\\nsamples = 3\\nvalue = [0, 0, 0 ... 0, 0, 0]'),\n",
       " Text(7.382368228499246, 141.6221052631579, 'gini = 0.0\\nsamples = 4\\nvalue = [0, 0, 0 ... 0, 0, 0]'),\n",
       " Text(7.453471827780485, 144.48315789473685, 'X[6] <= 5.842\\ngini = 0.49\\nsamples = 7\\nvalue = [0, 0, 0 ... 0, 0, 0]'),\n",
       " Text(7.429770628020072, 141.6221052631579, 'gini = 0.0\\nsamples = 4\\nvalue = [0, 0, 0 ... 0, 0, 0]'),\n",
       " Text(7.477173027540898, 141.6221052631579, 'gini = 0.0\\nsamples = 3\\nvalue = [0, 0, 0 ... 0, 0, 0]'),\n",
       " Text(7.524575427061724, 147.3442105263158, 'X[6] <= 5.848\\ngini = 0.639\\nsamples = 13\\nvalue = [0, 0, 0 ... 0, 0, 0]'),\n",
       " Text(7.500874227301311, 144.48315789473685, 'gini = 0.0\\nsamples = 6\\nvalue = [0, 0, 0 ... 0, 0, 0]'),\n",
       " Text(7.548276626822137, 144.48315789473685, 'X[6] <= 5.851\\ngini = 0.49\\nsamples = 7\\nvalue = [0, 0, 0 ... 0, 0, 0]'),\n",
       " Text(7.524575427061724, 141.6221052631579, 'gini = 0.0\\nsamples = 4\\nvalue = [0, 0, 0 ... 0, 0, 0]'),\n",
       " Text(7.5719778265825495, 141.6221052631579, 'gini = 0.0\\nsamples = 3\\nvalue = [0, 0, 0 ... 0, 0, 0]'),\n",
       " Text(7.465322427660691, 158.78842105263158, 'X[6] <= 5.857\\ngini = 0.494\\nsamples = 18\\nvalue = [0, 0, 0 ... 0, 0, 0]'),\n",
       " Text(7.441621227900279, 155.92736842105262, 'gini = 0.0\\nsamples = 10\\nvalue = [0, 0, 0 ... 0, 0, 0]'),\n",
       " Text(7.489023627421105, 155.92736842105262, 'gini = 0.0\\nsamples = 8\\nvalue = [0, 0, 0 ... 0, 0, 0]'),\n",
       " Text(7.846393280058581, 161.64947368421053, 'X[6] <= 5.885\\ngini = 0.965\\nsamples = 136\\nvalue = [0, 0, 0 ... 0, 0, 0]'),\n",
       " Text(7.625305526043479, 158.78842105263158, 'X[6] <= 5.882\\ngini = 0.827\\nsamples = 37\\nvalue = [0, 0, 0 ... 0, 0, 0]'),\n",
       " Text(7.6016043262830655, 155.92736842105262, 'X[6] <= 5.865\\ngini = 0.851\\nsamples = 25\\nvalue = [0, 0, 0 ... 0, 0, 0]'),\n",
       " Text(7.53642602694193, 153.06631578947366, 'X[6] <= 5.862\\ngini = 0.245\\nsamples = 7\\nvalue = [0, 0, 0 ... 0, 0, 0]'),\n",
       " Text(7.5127248271815175, 150.20526315789473, 'gini = 0.0\\nsamples = 1\\nvalue = [0, 0, 0 ... 0, 0, 0]'),\n",
       " Text(7.560127226702344, 150.20526315789473, 'gini = 0.0\\nsamples = 6\\nvalue = [0, 0, 0 ... 0, 0, 0]'),\n",
       " Text(7.666782625624202, 153.06631578947366, 'X[6] <= 5.871\\ngini = 0.827\\nsamples = 18\\nvalue = [0, 0, 0 ... 0, 0, 0]'),\n",
       " Text(7.607529626223169, 150.20526315789473, 'X[6] <= 5.868\\ngini = 0.5\\nsamples = 6\\nvalue = [0, 0, 0 ... 0, 0, 0]'),\n",
       " Text(7.583828426462756, 147.3442105263158, 'gini = 0.0\\nsamples = 3\\nvalue = [0, 0, 0 ... 0, 0, 0]'),\n",
       " Text(7.631230825983582, 147.3442105263158, 'gini = 0.0\\nsamples = 3\\nvalue = [0, 0, 0 ... 0, 0, 0]'),\n",
       " Text(7.726035625025234, 150.20526315789473, 'X[6] <= 5.876\\ngini = 0.736\\nsamples = 12\\nvalue = [0, 0, 0 ... 0, 0, 0]'),\n",
       " Text(7.678633225504408, 147.3442105263158, 'X[6] <= 5.874\\ngini = 0.444\\nsamples = 6\\nvalue = [0, 0, 0 ... 0, 0, 0]'),\n",
       " Text(7.654932025743995, 144.48315789473685, 'gini = 0.0\\nsamples = 2\\nvalue = [0, 0, 0 ... 0, 0, 0]'),\n",
       " Text(7.702334425264821, 144.48315789473685, 'gini = 0.0\\nsamples = 4\\nvalue = [0, 0, 0 ... 0, 0, 0]'),\n",
       " Text(7.77343802454606, 147.3442105263158, 'X[55] <= 0.5\\ngini = 0.5\\nsamples = 6\\nvalue = [0, 0, 0 ... 0, 0, 0]'),\n",
       " Text(7.749736824785646, 144.48315789473685, 'gini = 0.0\\nsamples = 3\\nvalue = [0, 0, 0 ... 0, 0, 0]'),\n",
       " Text(7.7971392243064725, 144.48315789473685, 'gini = 0.0\\nsamples = 3\\nvalue = [0, 0, 0 ... 0, 0, 0]'),\n",
       " Text(7.649006725803892, 155.92736842105262, 'gini = 0.0\\nsamples = 12\\nvalue = [0, 0, 0 ... 0, 0, 0]'),\n",
       " Text(8.067481034073683, 158.78842105263158, 'X[6] <= 5.976\\ngini = 0.958\\nsamples = 99\\nvalue = [0, 0, 0 ... 0, 0, 0]'),\n",
       " Text(7.9526783477341825, 155.92736842105262, 'X[6] <= 5.893\\ngini = 0.953\\nsamples = 87\\nvalue = [0, 0, 0 ... 0, 0, 0]'),\n",
       " Text(7.868242823587711, 153.06631578947366, 'X[6] <= 5.89\\ngini = 0.595\\nsamples = 11\\nvalue = [0, 0, 0 ... 0, 0, 0]'),\n",
       " Text(7.844541623827299, 150.20526315789473, 'X[6] <= 5.887\\ngini = 0.48\\nsamples = 5\\nvalue = [0, 0, 0 ... 0, 0, 0]'),\n",
       " Text(7.820840424066885, 147.3442105263158, 'gini = 0.0\\nsamples = 3\\nvalue = [0, 0, 0 ... 0, 0, 0]'),\n",
       " Text(7.868242823587711, 147.3442105263158, 'gini = 0.0\\nsamples = 2\\nvalue = [0, 0, 0 ... 0, 0, 0]'),\n",
       " Text(7.891944023348124, 150.20526315789473, 'gini = 0.0\\nsamples = 6\\nvalue = [0, 0, 0 ... 0, 0, 0]'),\n",
       " Text(8.037113871880655, 153.06631578947366, 'X[6] <= 5.912\\ngini = 0.947\\nsamples = 76\\nvalue = [0, 0, 0 ... 0, 0, 0]'),\n",
       " Text(7.93934642286895, 150.20526315789473, 'X[6] <= 5.909\\ngini = 0.759\\nsamples = 18\\nvalue = [0, 0, 0 ... 0, 0, 0]'),\n",
       " Text(7.9156452231085375, 147.3442105263158, 'X[6] <= 5.901\\ngini = 0.76\\nsamples = 11\\nvalue = [0, 0, 0 ... 0, 0, 0]'),\n",
       " Text(7.868242823587711, 144.48315789473685, 'X[6] <= 5.897\\ngini = 0.444\\nsamples = 6\\nvalue = [0, 0, 0 ... 0, 0, 0]'),\n",
       " Text(7.844541623827299, 141.6221052631579, 'gini = 0.0\\nsamples = 2\\nvalue = [0, 0, 0 ... 0, 0, 0]'),\n",
       " Text(7.891944023348124, 141.6221052631579, 'gini = 0.0\\nsamples = 4\\nvalue = [0, 0, 0 ... 0, 0, 0]'),\n",
       " Text(7.963047622629364, 144.48315789473685, 'X[6] <= 5.904\\ngini = 0.64\\nsamples = 5\\nvalue = [0, 0, 0 ... 0, 0, 0]'),\n",
       " Text(7.93934642286895, 141.6221052631579, 'gini = 0.0\\nsamples = 2\\nvalue = [0, 0, 0 ... 0, 0, 0]'),\n",
       " Text(7.986748822389776, 141.6221052631579, 'X[45] <= 0.5\\ngini = 0.444\\nsamples = 3\\nvalue = [0, 0, 0 ... 0, 0, 0]'),\n",
       " Text(7.963047622629364, 138.76105263157893, 'gini = 0.0\\nsamples = 2\\nvalue = [0, 0, 0 ... 0, 0, 0]'),\n",
       " Text(8.01045002215019, 138.76105263157893, 'gini = 0.0\\nsamples = 1\\nvalue = [0, 0, 0 ... 0, 0, 0]'),\n",
       " Text(7.963047622629364, 147.3442105263158, 'gini = 0.0\\nsamples = 7\\nvalue = [0, 0, 0 ... 0, 0, 0]'),\n",
       " Text(8.134881320892356, 150.20526315789473, 'X[6] <= 5.928\\ngini = 0.933\\nsamples = 58\\nvalue = [0, 0, 0 ... 0, 0, 0]'),\n",
       " Text(8.081553621431429, 147.3442105263158, 'X[6] <= 5.926\\ngini = 0.685\\nsamples = 17\\nvalue = [0, 0, 0 ... 0, 0, 0]'),\n",
       " Text(8.057852421671015, 144.48315789473685, 'X[6] <= 5.915\\ngini = 0.667\\nsamples = 9\\nvalue = [0, 0, 0 ... 0, 0, 0]'),\n",
       " Text(8.034151221910601, 141.6221052631579, 'gini = 0.0\\nsamples = 4\\nvalue = [0, 0, 0 ... 0, 0, 0]'),\n",
       " Text(8.081553621431429, 141.6221052631579, 'X[5] <= 2.5\\ngini = 0.56\\nsamples = 5\\nvalue = [0, 0, 0 ... 0, 0, 0]'),\n",
       " Text(8.057852421671015, 138.76105263157893, 'X[54] <= 0.5\\ngini = 0.5\\nsamples = 2\\nvalue = [0, 0, 0 ... 0, 0, 0]'),\n",
       " Text(8.034151221910601, 135.9, 'gini = 0.0\\nsamples = 1\\nvalue = [0, 0, 0 ... 0, 0, 0]'),\n",
       " Text(8.081553621431429, 135.9, 'gini = 0.0\\nsamples = 1\\nvalue = [0, 0, 0 ... 0, 0, 0]'),\n",
       " Text(8.10525482119184, 138.76105263157893, 'gini = 0.0\\nsamples = 3\\nvalue = [0, 0, 0 ... 0, 0, 0]'),\n",
       " Text(8.10525482119184, 144.48315789473685, 'gini = 0.0\\nsamples = 8\\nvalue = [0, 0, 0 ... 0, 0, 0]'),\n",
       " Text(8.188209020353286, 147.3442105263158, 'X[6] <= 5.932\\ngini = 0.92\\nsamples = 41\\nvalue = [0, 0, 0 ... 0, 0, 0]'),\n",
       " Text(8.164507820592874, 144.48315789473685, 'gini = 0.0\\nsamples = 6\\nvalue = [0, 0, 0 ... 0, 0, 0]'),\n",
       " Text(8.2119102201137, 144.48315789473685, 'X[6] <= 5.936\\ngini = 0.919\\nsamples = 35\\nvalue = [0, 0, 0 ... 0, 0, 0]'),\n",
       " Text(8.188209020353286, 141.6221052631579, 'gini = 0.0\\nsamples = 3\\nvalue = [0, 0, 0 ... 0, 0, 0]'),\n",
       " Text(8.235611419874113, 141.6221052631579, 'X[6] <= 5.952\\ngini = 0.912\\nsamples = 32\\nvalue = [0, 0, 0 ... 0, 0, 0]'),\n",
       " Text(8.152657220712667, 138.76105263157893, 'X[6] <= 5.949\\ngini = 0.764\\nsamples = 12\\nvalue = [0, 0, 0 ... 0, 0, 0]'),\n",
       " Text(8.128956020952254, 135.9, 'X[6] <= 5.939\\ngini = 0.719\\nsamples = 8\\nvalue = [0, 0, 0 ... 0, 0, 0]'),\n",
       " Text(8.10525482119184, 133.03894736842105, 'gini = 0.0\\nsamples = 2\\nvalue = [0, 0, 0 ... 0, 0, 0]'),\n",
       " Text(8.152657220712667, 133.03894736842105, 'X[6] <= 5.941\\ngini = 0.611\\nsamples = 6\\nvalue = [0, 0, 0 ... 0, 0, 0]'),\n",
       " Text(8.128956020952254, 130.17789473684212, 'gini = 0.0\\nsamples = 3\\nvalue = [0, 0, 0 ... 0, 0, 0]'),\n",
       " Text(8.176358420473079, 130.17789473684212, 'X[5] <= 2.0\\ngini = 0.444\\nsamples = 3\\nvalue = [0, 0, 0 ... 0, 0, 0]'),\n",
       " Text(8.152657220712667, 127.31684210526316, 'gini = 0.0\\nsamples = 1\\nvalue = [0, 0, 0 ... 0, 0, 0]'),\n",
       " Text(8.200059620233493, 127.31684210526316, 'gini = 0.0\\nsamples = 2\\nvalue = [0, 0, 0 ... 0, 0, 0]'),\n",
       " Text(8.176358420473079, 135.9, 'gini = 0.0\\nsamples = 4\\nvalue = [0, 0, 0 ... 0, 0, 0]'),\n",
       " Text(8.318565619035557, 138.76105263157893, 'X[6] <= 5.955\\ngini = 0.86\\nsamples = 20\\nvalue = [0, 0, 0 ... 0, 0, 0]'),\n",
       " Text(8.294864419275145, 135.9, 'gini = 0.0\\nsamples = 4\\nvalue = [0, 0, 0 ... 0, 0, 0]'),\n",
       " Text(8.34226681879597, 135.9, 'X[6] <= 5.962\\ngini = 0.844\\nsamples = 16\\nvalue = [0, 0, 0 ... 0, 0, 0]'),\n",
       " Text(8.294864419275145, 133.03894736842105, 'X[6] <= 5.96\\ngini = 0.571\\nsamples = 7\\nvalue = [0, 0, 0 ... 0, 0, 0]'),\n",
       " Text(8.271163219514731, 130.17789473684212, 'X[65] <= 0.5\\ngini = 0.444\\nsamples = 3\\nvalue = [0, 0, 0 ... 0, 0, 0]'),\n",
       " Text(8.247462019754318, 127.31684210526316, 'gini = 0.0\\nsamples = 2\\nvalue = [0, 0, 0 ... 0, 0, 0]'),\n",
       " Text(8.294864419275145, 127.31684210526316, 'gini = 0.0\\nsamples = 1\\nvalue = [0, 0, 0 ... 0, 0, 0]'),\n",
       " Text(8.318565619035557, 130.17789473684212, 'gini = 0.0\\nsamples = 4\\nvalue = [0, 0, 0 ... 0, 0, 0]'),\n",
       " Text(8.389669218316795, 133.03894736842105, 'X[6] <= 5.965\\ngini = 0.765\\nsamples = 9\\nvalue = [0, 0, 0 ... 0, 0, 0]'),\n",
       " Text(8.365968018556384, 130.17789473684212, 'gini = 0.0\\nsamples = 3\\nvalue = [0, 0, 0 ... 0, 0, 0]'),\n",
       " Text(8.413370418077209, 130.17789473684212, 'X[82] <= 0.5\\ngini = 0.722\\nsamples = 6\\nvalue = [0, 0, 0 ... 0, 0, 0]'),\n",
       " Text(8.389669218316795, 127.31684210526316, 'X[87] <= 0.5\\ngini = 0.625\\nsamples = 4\\nvalue = [0, 0, 0 ... 0, 0, 0]'),\n",
       " Text(8.365968018556384, 124.4557894736842, 'X[6] <= 5.967\\ngini = 0.444\\nsamples = 3\\nvalue = [0, 0, 0 ... 0, 0, 0]'),\n",
       " Text(8.34226681879597, 121.59473684210526, 'gini = 0.0\\nsamples = 1\\nvalue = [0, 0, 0 ... 0, 0, 0]'),\n",
       " Text(8.389669218316795, 121.59473684210526, 'gini = 0.0\\nsamples = 2\\nvalue = [0, 0, 0 ... 0, 0, 0]'),\n",
       " Text(8.413370418077209, 124.4557894736842, 'gini = 0.0\\nsamples = 1\\nvalue = [0, 0, 0 ... 0, 0, 0]'),\n",
       " Text(8.437071617837622, 127.31684210526316, 'gini = 0.0\\nsamples = 2\\nvalue = [0, 0, 0 ... 0, 0, 0]'),\n",
       " Text(8.182283720413183, 155.92736842105262, 'X[6] <= 5.98\\ngini = 0.625\\nsamples = 12\\nvalue = [0, 0, 0 ... 0, 0, 0]'),\n",
       " Text(8.15858252065277, 153.06631578947366, 'gini = 0.0\\nsamples = 6\\nvalue = [0, 0, 0 ... 0, 0, 0]'),\n",
       " Text(8.205984920173595, 153.06631578947366, 'X[6] <= 5.984\\ngini = 0.5\\nsamples = 6\\nvalue = [0, 0, 0 ... 0, 0, 0]'),\n",
       " Text(8.182283720413183, 150.20526315789473, 'gini = 0.0\\nsamples = 3\\nvalue = [0, 0, 0 ... 0, 0, 0]'),\n",
       " Text(8.229686119934009, 150.20526315789473, 'gini = 0.0\\nsamples = 3\\nvalue = [0, 0, 0 ... 0, 0, 0]'),\n",
       " Text(6.937831858774158, 170.23263157894738, 'gini = 0.0\\nsamples = 15\\nvalue = [0, 0, 0 ... 0, 0, 0]'),\n",
       " Text(8.52595111693917, 173.0936842105263, 'X[6] <= 5.865\\ngini = 0.48\\nsamples = 262\\nvalue = [0, 0, 0 ... 0, 0, 0]'),\n",
       " Text(8.3955945182569, 170.23263157894738, 'X[6] <= 5.857\\ngini = 0.225\\nsamples = 213\\nvalue = [0, 0, 0 ... 0, 0, 0]'),\n",
       " Text(8.371893318496486, 167.37157894736842, 'X[6] <= 5.788\\ngini = 0.686\\nsamples = 26\\nvalue = [0, 0, 0 ... 0, 0, 0]'),\n",
       " Text(8.300789719215247, 164.51052631578946, 'X[6] <= 5.781\\ngini = 0.438\\nsamples = 19\\nvalue = [0, 0, 0 ... 0, 0, 0]'),\n",
       " Text(8.277088519454834, 161.64947368421053, 'X[0] <= 2003.5\\ngini = 0.72\\nsamples = 5\\nvalue = [0, 0, 0 ... 0, 0, 0]'),\n",
       " Text(8.253387319694422, 158.78842105263158, 'gini = 0.0\\nsamples = 2\\nvalue = [0, 0, 0 ... 0, 0, 0]'),\n",
       " Text(8.300789719215247, 158.78842105263158, 'X[100] <= 0.5\\ngini = 0.667\\nsamples = 3\\nvalue = [0, 0, 0 ... 0, 0, 0]'),\n",
       " Text(8.277088519454834, 155.92736842105262, 'X[81] <= 0.5\\ngini = 0.5\\nsamples = 2\\nvalue = [0, 0, 0 ... 0, 0, 0]'),\n",
       " Text(8.253387319694422, 153.06631578947366, 'gini = 0.0\\nsamples = 1\\nvalue = [0, 0, 0 ... 0, 0, 0]'),\n",
       " Text(8.300789719215247, 153.06631578947366, 'gini = 0.0\\nsamples = 1\\nvalue = [0, 0, 0 ... 0, 0, 0]'),\n",
       " Text(8.32449091897566, 155.92736842105262, 'gini = 0.0\\nsamples = 1\\nvalue = [0, 0, 0 ... 0, 0, 0]'),\n",
       " Text(8.32449091897566, 161.64947368421053, 'gini = 0.0\\nsamples = 14\\nvalue = [0, 0, 0 ... 0, 0, 0]'),\n",
       " Text(8.442996917777725, 164.51052631578946, 'X[56] <= 0.5\\ngini = 0.816\\nsamples = 7\\nvalue = [0, 0, 0 ... 0, 0, 0]'),\n",
       " Text(8.419295718017313, 161.64947368421053, 'X[62] <= 0.5\\ngini = 0.8\\nsamples = 5\\nvalue = [0, 0, 0 ... 0, 0, 0]'),\n",
       " Text(8.3955945182569, 158.78842105263158, 'X[18] <= 0.5\\ngini = 0.75\\nsamples = 4\\nvalue = [0, 0, 0 ... 0, 0, 0]'),\n",
       " Text(8.371893318496486, 155.92736842105262, 'gini = 0.0\\nsamples = 1\\nvalue = [0, 0, 0 ... 0, 0, 0]'),\n",
       " Text(8.419295718017313, 155.92736842105262, 'X[4] <= -2375.0\\ngini = 0.667\\nsamples = 3\\nvalue = [0, 0, 0 ... 0, 0, 0]'),\n",
       " Text(8.3955945182569, 153.06631578947366, 'gini = 0.0\\nsamples = 1\\nvalue = [0, 0, 0 ... 0, 0, 0]'),\n",
       " Text(8.442996917777725, 153.06631578947366, 'X[5] <= 21.5\\ngini = 0.5\\nsamples = 2\\nvalue = [0, 0, 0 ... 0, 0, 0]'),\n",
       " Text(8.419295718017313, 150.20526315789473, 'gini = 0.0\\nsamples = 1\\nvalue = [0, 0, 0 ... 0, 0, 0]'),\n",
       " Text(8.466698117538138, 150.20526315789473, 'gini = 0.0\\nsamples = 1\\nvalue = [0, 0, 0 ... 0, 0, 0]'),\n",
       " Text(8.442996917777725, 158.78842105263158, 'gini = 0.0\\nsamples = 1\\nvalue = [0, 0, 0 ... 0, 0, 0]'),\n",
       " Text(8.466698117538138, 161.64947368421053, 'gini = 0.0\\nsamples = 2\\nvalue = [0, 0, 0 ... 0, 0, 0]'),\n",
       " Text(8.419295718017313, 167.37157894736842, 'gini = 0.0\\nsamples = 187\\nvalue = [0, 0, 0 ... 0, 0, 0]'),\n",
       " Text(8.656307715621441, 170.23263157894738, 'X[6] <= 5.984\\ngini = 0.799\\nsamples = 49\\nvalue = [0, 0, 0 ... 0, 0, 0]'),\n",
       " Text(8.63260651586103, 167.37157894736842, 'X[6] <= 5.973\\ngini = 0.748\\nsamples = 39\\nvalue = [0, 0, 0 ... 0, 0, 0]'),\n",
       " Text(8.608905316100616, 164.51052631578946, 'X[6] <= 5.916\\ngini = 0.668\\nsamples = 31\\nvalue = [0, 0, 0 ... 0, 0, 0]'),\n",
       " Text(8.56150291657979, 161.64947368421053, 'X[54] <= 0.5\\ngini = 0.716\\nsamples = 9\\nvalue = [0, 0, 0 ... 0, 0, 0]'),\n",
       " Text(8.537801716819377, 158.78842105263158, 'X[6] <= 5.893\\ngini = 0.612\\nsamples = 7\\nvalue = [0, 0, 0 ... 0, 0, 0]'),\n",
       " Text(8.514100517058964, 155.92736842105262, 'gini = 0.0\\nsamples = 4\\nvalue = [0, 0, 0 ... 0, 0, 0]'),\n",
       " Text(8.56150291657979, 155.92736842105262, 'X[4] <= -625.0\\ngini = 0.667\\nsamples = 3\\nvalue = [0, 0, 0 ... 0, 0, 0]'),\n",
       " Text(8.537801716819377, 153.06631578947366, 'X[3] <= 54.0\\ngini = 0.5\\nsamples = 2\\nvalue = [0, 0, 0 ... 0, 0, 0]'),\n",
       " Text(8.514100517058964, 150.20526315789473, 'gini = 0.0\\nsamples = 1\\nvalue = [0, 0, 0 ... 0, 0, 0]'),\n",
       " Text(8.56150291657979, 150.20526315789473, 'gini = 0.0\\nsamples = 1\\nvalue = [0, 0, 0 ... 0, 0, 0]'),\n",
       " Text(8.585204116340202, 153.06631578947366, 'gini = 0.0\\nsamples = 1\\nvalue = [0, 0, 0 ... 0, 0, 0]'),\n",
       " Text(8.585204116340202, 158.78842105263158, 'gini = 0.0\\nsamples = 2\\nvalue = [0, 0, 0 ... 0, 0, 0]'),\n",
       " Text(8.656307715621441, 161.64947368421053, 'X[6] <= 5.934\\ngini = 0.388\\nsamples = 22\\nvalue = [0, 0, 0 ... 0, 0, 0]'),\n",
       " Text(8.63260651586103, 158.78842105263158, 'gini = 0.0\\nsamples = 17\\nvalue = [0, 0, 0 ... 0, 0, 0]'),\n",
       " Text(8.680008915381855, 158.78842105263158, 'X[2] <= 79155.5\\ngini = 0.72\\nsamples = 5\\nvalue = [0, 0, 0 ... 0, 0, 0]'),\n",
       " Text(8.656307715621441, 155.92736842105262, 'gini = 0.0\\nsamples = 2\\nvalue = [0, 0, 0 ... 0, 0, 0]'),\n",
       " Text(8.703710115142268, 155.92736842105262, 'X[43] <= 0.5\\ngini = 0.667\\nsamples = 3\\nvalue = [0, 0, 0 ... 0, 0, 0]'),\n",
       " Text(8.680008915381855, 153.06631578947366, 'X[4] <= -2625.0\\ngini = 0.5\\nsamples = 2\\nvalue = [0, 0, 0 ... 0, 0, 0]'),\n",
       " Text(8.656307715621441, 150.20526315789473, 'gini = 0.0\\nsamples = 1\\nvalue = [0, 0, 0 ... 0, 0, 0]'),\n",
       " Text(8.703710115142268, 150.20526315789473, 'gini = 0.0\\nsamples = 1\\nvalue = [0, 0, 0 ... 0, 0, 0]'),\n",
       " Text(8.72741131490268, 153.06631578947366, 'gini = 0.0\\nsamples = 1\\nvalue = [0, 0, 0 ... 0, 0, 0]'),\n",
       " Text(8.656307715621441, 164.51052631578946, 'gini = 0.0\\nsamples = 8\\nvalue = [0, 0, 0 ... 0, 0, 0]'),\n",
       " Text(8.680008915381855, 167.37157894736842, 'gini = 0.0\\nsamples = 10\\nvalue = [0, 0, 0 ... 0, 0, 0]'),\n",
       " Text(9.667126852278429, 181.67684210526315, 'X[6] <= 5.993\\ngini = 0.72\\nsamples = 1132\\nvalue = [0, 0, 0 ... 0, 0, 0]'),\n",
       " Text(9.643425652518015, 178.81578947368422, 'gini = 0.0\\nsamples = 540\\nvalue = [0, 0, 0 ... 0, 0, 0]'),\n",
       " Text(9.69082805203884, 178.81578947368422, 'X[6] <= 6.11\\ngini = 0.808\\nsamples = 592\\nvalue = [0, 0, 0 ... 0, 0, 0]'),\n",
       " Text(9.217729884946223, 175.95473684210526, 'X[6] <= 6.108\\ngini = 0.566\\nsamples = 361\\nvalue = [0, 0, 0 ... 0, 0, 0]'),\n",
       " Text(9.19402868518581, 173.0936842105263, 'X[0] <= 2002.5\\ngini = 0.941\\nsamples = 125\\nvalue = [0, 0, 0 ... 0, 0, 0]'),\n",
       " Text(9.146626285664984, 170.23263157894738, 'X[6] <= 6.046\\ngini = 0.32\\nsamples = 20\\nvalue = [0, 0, 0 ... 0, 0, 0]'),\n",
       " Text(9.122925085904571, 167.37157894736842, 'gini = 0.0\\nsamples = 4\\nvalue = [0, 0, 0 ... 0, 0, 0]'),\n",
       " Text(9.170327485425398, 167.37157894736842, 'gini = 0.0\\nsamples = 16\\nvalue = [0, 0, 0 ... 0, 0, 0]'),\n",
       " Text(9.241431084706637, 170.23263157894738, 'X[6] <= 6.106\\ngini = 0.96\\nsamples = 105\\nvalue = [0, 0, 0 ... 0, 0, 0]'),\n",
       " Text(9.217729884946223, 167.37157894736842, 'X[6] <= 6.074\\ngini = 0.961\\nsamples = 96\\nvalue = [0, 0, 0 ... 0, 0, 0]'),\n",
       " Text(9.044414861698204, 164.51052631578946, 'X[6] <= 6.039\\ngini = 0.948\\nsamples = 72\\nvalue = [0, 0, 0 ... 0, 0, 0]'),\n",
       " Text(8.905170313105778, 161.64947368421053, 'X[6] <= 6.037\\ngini = 0.918\\nsamples = 39\\nvalue = [0, 0, 0 ... 0, 0, 0]'),\n",
       " Text(8.881469113345364, 158.78842105263158, 'X[6] <= 6.025\\ngini = 0.913\\nsamples = 34\\nvalue = [0, 0, 0 ... 0, 0, 0]'),\n",
       " Text(8.822216113944332, 155.92736842105262, 'X[6] <= 6.009\\ngini = 0.882\\nsamples = 24\\nvalue = [0, 0, 0 ... 0, 0, 0]'),\n",
       " Text(8.774813714423507, 153.06631578947366, 'X[6] <= 6.005\\ngini = 0.778\\nsamples = 12\\nvalue = [0, 0, 0 ... 0, 0, 0]'),\n",
       " Text(8.751112514663093, 150.20526315789473, 'X[6] <= 6.003\\ngini = 0.716\\nsamples = 9\\nvalue = [0, 0, 0 ... 0, 0, 0]'),\n",
       " Text(8.72741131490268, 147.3442105263158, 'X[6] <= 6.0\\ngini = 0.611\\nsamples = 6\\nvalue = [0, 0, 0 ... 0, 0, 0]'),\n",
       " Text(8.703710115142268, 144.48315789473685, 'X[23] <= 0.5\\ngini = 0.375\\nsamples = 4\\nvalue = [0, 0, 0 ... 0, 0, 0]'),\n",
       " Text(8.680008915381855, 141.6221052631579, 'gini = 0.0\\nsamples = 3\\nvalue = [0, 0, 0 ... 0, 0, 0]'),\n",
       " Text(8.72741131490268, 141.6221052631579, 'gini = 0.0\\nsamples = 1\\nvalue = [0, 0, 0 ... 0, 0, 0]'),\n",
       " Text(8.751112514663093, 144.48315789473685, 'gini = 0.0\\nsamples = 2\\nvalue = [0, 0, 0 ... 0, 0, 0]'),\n",
       " Text(8.774813714423507, 147.3442105263158, 'gini = 0.0\\nsamples = 3\\nvalue = [0, 0, 0 ... 0, 0, 0]'),\n",
       " Text(8.798514914183919, 150.20526315789473, 'gini = 0.0\\nsamples = 3\\nvalue = [0, 0, 0 ... 0, 0, 0]'),\n",
       " Text(8.869618513465158, 153.06631578947366, 'X[6] <= 6.012\\ngini = 0.75\\nsamples = 12\\nvalue = [0, 0, 0 ... 0, 0, 0]'),\n",
       " Text(8.845917313704746, 150.20526315789473, 'gini = 0.0\\nsamples = 5\\nvalue = [0, 0, 0 ... 0, 0, 0]'),\n",
       " Text(8.893319713225571, 150.20526315789473, 'X[53] <= 0.5\\ngini = 0.776\\nsamples = 7\\nvalue = [0, 0, 0 ... 0, 0, 0]'),\n",
       " Text(8.869618513465158, 147.3442105263158, 'X[6] <= 6.022\\ngini = 0.72\\nsamples = 5\\nvalue = [0, 0, 0 ... 0, 0, 0]'),\n",
       " Text(8.845917313704746, 144.48315789473685, 'X[72] <= 0.5\\ngini = 0.667\\nsamples = 3\\nvalue = [0, 0, 0 ... 0, 0, 0]'),\n",
       " Text(8.822216113944332, 141.6221052631579, 'gini = 0.0\\nsamples = 1\\nvalue = [0, 0, 0 ... 0, 0, 0]'),\n",
       " Text(8.869618513465158, 141.6221052631579, 'X[5] <= 3.0\\ngini = 0.5\\nsamples = 2\\nvalue = [0, 0, 0 ... 0, 0, 0]'),\n",
       " Text(8.845917313704746, 138.76105263157893, 'gini = 0.0\\nsamples = 1\\nvalue = [0, 0, 0 ... 0, 0, 0]'),\n",
       " Text(8.893319713225571, 138.76105263157893, 'gini = 0.0\\nsamples = 1\\nvalue = [0, 0, 0 ... 0, 0, 0]'),\n",
       " Text(8.893319713225571, 144.48315789473685, 'gini = 0.0\\nsamples = 2\\nvalue = [0, 0, 0 ... 0, 0, 0]'),\n",
       " Text(8.917020912985985, 147.3442105263158, 'gini = 0.0\\nsamples = 2\\nvalue = [0, 0, 0 ... 0, 0, 0]'),\n",
       " Text(8.940722112746396, 155.92736842105262, 'X[6] <= 6.027\\ngini = 0.68\\nsamples = 10\\nvalue = [0, 0, 0 ... 0, 0, 0]'),\n",
       " Text(8.917020912985985, 153.06631578947366, 'gini = 0.0\\nsamples = 5\\nvalue = [0, 0, 0 ... 0, 0, 0]'),\n",
       " Text(8.96442331250681, 153.06631578947366, 'X[6] <= 6.029\\ngini = 0.72\\nsamples = 5\\nvalue = [0, 0, 0 ... 0, 0, 0]'),\n",
       " Text(8.940722112746396, 150.20526315789473, 'gini = 0.0\\nsamples = 2\\nvalue = [0, 0, 0 ... 0, 0, 0]'),\n",
       " Text(8.988124512267223, 150.20526315789473, 'X[0] <= 2017.5\\ngini = 0.667\\nsamples = 3\\nvalue = [0, 0, 0 ... 0, 0, 0]'),\n",
       " Text(8.96442331250681, 147.3442105263158, 'X[2] <= 32106.5\\ngini = 0.5\\nsamples = 2\\nvalue = [0, 0, 0 ... 0, 0, 0]'),\n",
       " Text(8.940722112746396, 144.48315789473685, 'gini = 0.0\\nsamples = 1\\nvalue = [0, 0, 0 ... 0, 0, 0]'),\n",
       " Text(8.988124512267223, 144.48315789473685, 'gini = 0.0\\nsamples = 1\\nvalue = [0, 0, 0 ... 0, 0, 0]'),\n",
       " Text(9.011825712027635, 147.3442105263158, 'gini = 0.0\\nsamples = 1\\nvalue = [0, 0, 0 ... 0, 0, 0]'),\n",
       " Text(8.928871512866191, 158.78842105263158, 'gini = 0.0\\nsamples = 5\\nvalue = [0, 0, 0 ... 0, 0, 0]'),\n",
       " Text(9.18365941029063, 161.64947368421053, 'X[6] <= 6.043\\ngini = 0.865\\nsamples = 33\\nvalue = [0, 0, 0 ... 0, 0, 0]'),\n",
       " Text(9.159958210530217, 158.78842105263158, 'gini = 0.0\\nsamples = 9\\nvalue = [0, 0, 0 ... 0, 0, 0]'),\n",
       " Text(9.207360610051042, 158.78842105263158, 'X[58] <= 0.5\\ngini = 0.885\\nsamples = 24\\nvalue = [0, 0, 0 ... 0, 0, 0]'),\n",
       " Text(9.18365941029063, 155.92736842105262, 'X[6] <= 6.053\\ngini = 0.895\\nsamples = 20\\nvalue = [0, 0, 0 ... 0, 0, 0]'),\n",
       " Text(9.106630511069287, 153.06631578947366, 'X[6] <= 6.051\\ngini = 0.656\\nsamples = 8\\nvalue = [0, 0, 0 ... 0, 0, 0]'),\n",
       " Text(9.082929311308874, 150.20526315789473, 'X[4] <= -3375.0\\ngini = 0.625\\nsamples = 4\\nvalue = [0, 0, 0 ... 0, 0, 0]'),\n",
       " Text(9.059228111548462, 147.3442105263158, 'gini = 0.0\\nsamples = 2\\nvalue = [0, 0, 0 ... 0, 0, 0]'),\n",
       " Text(9.106630511069287, 147.3442105263158, 'X[6] <= 6.046\\ngini = 0.5\\nsamples = 2\\nvalue = [0, 0, 0 ... 0, 0, 0]'),\n",
       " Text(9.082929311308874, 144.48315789473685, 'gini = 0.0\\nsamples = 1\\nvalue = [0, 0, 0 ... 0, 0, 0]'),\n",
       " Text(9.1303317108297, 144.48315789473685, 'gini = 0.0\\nsamples = 1\\nvalue = [0, 0, 0 ... 0, 0, 0]'),\n",
       " Text(9.1303317108297, 150.20526315789473, 'gini = 0.0\\nsamples = 4\\nvalue = [0, 0, 0 ... 0, 0, 0]'),\n",
       " Text(9.260688309511972, 153.06631578947366, 'X[6] <= 6.06\\ngini = 0.861\\nsamples = 12\\nvalue = [0, 0, 0 ... 0, 0, 0]'),\n",
       " Text(9.177734110350526, 150.20526315789473, 'X[42] <= 0.5\\ngini = 0.64\\nsamples = 5\\nvalue = [0, 0, 0 ... 0, 0, 0]'),\n",
       " Text(9.154032910590113, 147.3442105263158, 'gini = 0.0\\nsamples = 2\\nvalue = [0, 0, 0 ... 0, 0, 0]'),\n",
       " Text(9.20143531011094, 147.3442105263158, 'X[6] <= 6.056\\ngini = 0.444\\nsamples = 3\\nvalue = [0, 0, 0 ... 0, 0, 0]'),\n",
       " Text(9.177734110350526, 144.48315789473685, 'gini = 0.0\\nsamples = 1\\nvalue = [0, 0, 0 ... 0, 0, 0]'),\n",
       " Text(9.225136509871353, 144.48315789473685, 'gini = 0.0\\nsamples = 2\\nvalue = [0, 0, 0 ... 0, 0, 0]'),\n",
       " Text(9.343642508673417, 150.20526315789473, 'X[2] <= 36661.0\\ngini = 0.776\\nsamples = 7\\nvalue = [0, 0, 0 ... 0, 0, 0]'),\n",
       " Text(9.319941308913004, 147.3442105263158, 'X[21] <= 0.5\\ngini = 0.72\\nsamples = 5\\nvalue = [0, 0, 0 ... 0, 0, 0]'),\n",
       " Text(9.272538909392178, 144.48315789473685, 'X[3] <= 51.0\\ngini = 0.5\\nsamples = 2\\nvalue = [0, 0, 0 ... 0, 0, 0]'),\n",
       " Text(9.248837709631765, 141.6221052631579, 'gini = 0.0\\nsamples = 1\\nvalue = [0, 0, 0 ... 0, 0, 0]'),\n",
       " Text(9.296240109152592, 141.6221052631579, 'gini = 0.0\\nsamples = 1\\nvalue = [0, 0, 0 ... 0, 0, 0]'),\n",
       " Text(9.36734370843383, 144.48315789473685, 'X[0] <= 2016.0\\ngini = 0.444\\nsamples = 3\\nvalue = [0, 0, 0 ... 0, 0, 0]'),\n",
       " Text(9.343642508673417, 141.6221052631579, 'gini = 0.0\\nsamples = 1\\nvalue = [0, 0, 0 ... 0, 0, 0]'),\n",
       " Text(9.391044908194242, 141.6221052631579, 'gini = 0.0\\nsamples = 2\\nvalue = [0, 0, 0 ... 0, 0, 0]'),\n",
       " Text(9.36734370843383, 147.3442105263158, 'gini = 0.0\\nsamples = 2\\nvalue = [0, 0, 0 ... 0, 0, 0]'),\n",
       " Text(9.231061809811456, 155.92736842105262, 'gini = 0.0\\nsamples = 4\\nvalue = [0, 0, 0 ... 0, 0, 0]'),\n",
       " Text(9.391044908194242, 164.51052631578946, 'X[6] <= 6.076\\ngini = 0.84\\nsamples = 24\\nvalue = [0, 0, 0 ... 0, 0, 0]'),\n",
       " ...]"
      ]
     },
     "execution_count": 43,
     "metadata": {},
     "output_type": "execute_result"
    },
    {
     "data": {
      "image/png": "[encoded data removed]",
      "text/plain": [
       "<Figure size 432x288 with 1 Axes>"
      ]
     },
     "metadata": {
      "needs_background": "light"
     },
     "output_type": "display_data"
    }
   ],
   "source": [
    "tree.plot_tree(clf)"
   ]
  },
  {
   "cell_type": "markdown",
   "metadata": {},
   "source": [
    "# Random Forest"
   ]
  },
  {
   "cell_type": "markdown",
   "metadata": {},
   "source": [
    "Splitting the dataset into training set and test set"
   ]
  },
  {
   "cell_type": "code",
   "execution_count": 44,
   "metadata": {},
   "outputs": [
    {
     "name": "stdout",
     "output_type": "stream",
     "text": [
      "(413536, 110) (103385, 110) (413536,) (103385,)\n"
     ]
    }
   ],
   "source": [
    "from sklearn.model_selection import train_test_split\n",
    "train_x, test_x, train_y, test_y = train_test_split(X, y, test_size = 0.2, random_state = 42) # 학습데이터와 평가데이터의 비율을 8:2 로 분할| \n",
    "print(train_x.shape, test_x.shape, train_y.shape, test_y.shape) #"
   ]
  },
  {
   "cell_type": "markdown",
   "metadata": {},
   "source": [
    "Creating a Random Forest Regression model and fitting it to the training data"
   ]
  },
  {
   "cell_type": "code",
   "execution_count": 45,
   "metadata": {
    "scrolled": true
   },
   "outputs": [
    {
     "data": {
      "text/plain": [
       "RandomForestRegressor(random_state=42)"
      ]
     },
     "execution_count": 45,
     "metadata": {},
     "output_type": "execute_result"
    }
   ],
   "source": [
    "from sklearn.ensemble import RandomForestRegressor\n",
    "regressor = RandomForestRegressor(n_estimators = 100, random_state = 42)\n",
    "regressor.fit(train_x, train_y)"
   ]
  },
  {
   "cell_type": "markdown",
   "metadata": {},
   "source": [
    "Prediction"
   ]
  },
  {
   "cell_type": "code",
   "execution_count": 46,
   "metadata": {},
   "outputs": [
    {
     "data": {
      "text/plain": [
       "array([ 7500.,  4700.,   500., ..., 20000.,  9900., 17900.])"
      ]
     },
     "execution_count": 46,
     "metadata": {},
     "output_type": "execute_result"
    }
   ],
   "source": [
    "y_pred = regressor.predict(test_x)\n",
    "y_pred"
   ]
  },
  {
   "cell_type": "markdown",
   "metadata": {},
   "source": [
    "Model Evaluation"
   ]
  },
  {
   "cell_type": "code",
   "execution_count": 47,
   "metadata": {},
   "outputs": [
    {
     "data": {
      "text/plain": [
       "306746.21261419234"
      ]
     },
     "execution_count": 47,
     "metadata": {},
     "output_type": "execute_result"
    }
   ],
   "source": [
    "from sklearn.metrics import r2_score,mean_squared_error\n",
    "mse = mean_squared_error(test_y, y_pred)\n",
    "rmse = np.sqrt(mse)\n",
    "rmse"
   ]
  },
  {
   "cell_type": "code",
   "execution_count": null,
   "metadata": {},
   "outputs": [],
   "source": []
  },
  {
   "cell_type": "code",
   "execution_count": null,
   "metadata": {},
   "outputs": [],
   "source": []
  },
  {
   "cell_type": "code",
   "execution_count": null,
   "metadata": {},
   "outputs": [],
   "source": []
  },
  {
   "cell_type": "markdown",
   "metadata": {},
   "source": [
    "Visualizing the Random Forest Regression results"
   ]
  },
  {
   "cell_type": "code",
   "execution_count": null,
   "metadata": {},
   "outputs": [],
   "source": []
  },
  {
   "cell_type": "markdown",
   "metadata": {},
   "source": [
    "Other Validation"
   ]
  },
  {
   "cell_type": "code",
   "execution_count": null,
   "metadata": {},
   "outputs": [],
   "source": [
    "from sklearn.ensemble import RandomForestClassifier\n",
    "from sklearn.metrics import accuracy_score\n",
    "random_forest_model1 = RandomForestClassifier(n_estimators = 20, \n",
    "                                             max_depth = 5, \n",
    "                                             random_state = 42)\n",
    "model1 = random_forest_model1.fit(train_x, train_y) \n",
    "predict1 = model1.predict(test_x) \n",
    "print(\"Accuracy: %.2f\" % (accuracy_score(test_y, predict1) * 100), \"%\") "
   ]
  },
  {
   "cell_type": "markdown",
   "metadata": {},
   "source": [
    "What about setting more trees?"
   ]
  },
  {
   "cell_type": "code",
   "execution_count": null,
   "metadata": {},
   "outputs": [],
   "source": [
    "random_forest_model2 = RandomForestClassifier(n_estimators = 300, \n",
    "                                             max_depth = 5, \n",
    "                                             random_state = 42) \n",
    "model2 = random_forest_model2.fit(train_x, train_y) \n",
    "predict2 = model2.predict(test_x) \n",
    "print(\"Accuracy: %.2f\" % (accuracy_score(test_y, predict2) * 100), \"%\")"
   ]
  },
  {
   "cell_type": "markdown",
   "metadata": {},
   "source": [
    "What about more depth of tree?"
   ]
  },
  {
   "cell_type": "code",
   "execution_count": null,
   "metadata": {},
   "outputs": [],
   "source": [
    "random_forest_model3 = RandomForestClassifier(n_estimators = 300, \n",
    "                                             max_depth = 20, \n",
    "                                             random_state = 42) \n",
    "model3 = random_forest_model3.fit(train_x, train_y) \n",
    "predict3 = model3.predict(test_x) \n",
    "print(\"Accuracy: %.2f\" % (accuracy_score(test_y, predict3) * 100), \"%\") "
   ]
  },
  {
   "cell_type": "markdown",
   "metadata": {},
   "source": [
    "What about even more depth?"
   ]
  },
  {
   "cell_type": "code",
   "execution_count": null,
   "metadata": {},
   "outputs": [],
   "source": [
    "random_forest_model4 = RandomForestClassifier(n_estimators = 300, \n",
    "                                             max_depth = 100, \n",
    "                                             random_state = 42) \n",
    "model4 = random_forest_model4.fit(train_x, train_y) \n",
    "predict4 = model4.predict(test_x) \n",
    "print(\"Accuracy: %.2f\" % (accuracy_score(test_y, predict4) * 100), \"%\") "
   ]
  },
  {
   "cell_type": "code",
   "execution_count": null,
   "metadata": {},
   "outputs": [],
   "source": []
  },
  {
   "cell_type": "code",
   "execution_count": null,
   "metadata": {},
   "outputs": [],
   "source": []
  },
  {
   "cell_type": "markdown",
   "metadata": {},
   "source": [
    "Let's add price bracket by every $500 increase."
   ]
  },
  {
   "cell_type": "code",
   "execution_count": null,
   "metadata": {},
   "outputs": [],
   "source": [
    "train_data.loc[(train_data['price'] > 0 & train_data['price'] <= 500),'price_range']=500\n",
    "train_data.loc[(train_data['price'] > 500 & train_data['price'] <= 1000),'price_range']=1000\n",
    "train_data.loc[(train_data['price'] > 1000 & train_data['price'] <= 1500),'price_range']=1500\n",
    "train_data.loc[(train_data['price'] > 1500 & train_data['price'] <= 2000),'price_range']=2000\n",
    "train_data.loc[(train_data['price'] > 2000 & train_data['price'] <= 2500),'price_range']=2500\n",
    "train_data.loc[(train_data['price'] > 2500 & train_data['price'] <= 3000),'price_range']=3000\n",
    "train_data.loc[(train_data['price'] > 2500 & train_data['price'] <= 3000),'price_range']=3500\n",
    "train_data.loc[(train_data['price'] > 2500 & train_data['price'] <= 3000),'price_range']=4000\n",
    "train_data.loc[(train_data['price'] > 2500 & train_data['price'] <= 3000),'price_range']=4500\n",
    "train_data.loc[(train_data['price'] > 2500 & train_data['price'] <= 3000),'price_range']=5000\n",
    "train_data.loc[(train_data['price'] > 2500 & train_data['price'] <= 3000),'price_range']=5500\n",
    "train_data.loc[(train_data['price'] > 2500 & train_data['price'] <= 3000),'price_range']=6000\n",
    "train_data.loc[(train_data['price'] > 2500 & train_data['price'] <= 3000),'price_range']=6500\n",
    "train_data.loc[(train_data['price'] > 2500 & train_data['price'] <= 3000),'price_range']=7000\n",
    "train_data.loc[(train_data['price'] > 2500 & train_data['price'] <= 3000),'price_range']=7500\n",
    "train_data.loc[(train_data['price'] > 2500 & train_data['price'] <= 3000),'price_range']=8000\n",
    "train_data.loc[(train_data['price'] > 2500 & train_data['price'] <= 3000),'price_range']=8500\n",
    "train_data.loc[(train_data['price'] > 2500 & train_data['price'] <= 3000),'price_range']=9000\n",
    "train_data.loc[(train_data['price'] > 2500 & train_data['price'] <= 3000),'price_range']=9500"
   ]
  },
  {
   "cell_type": "code",
   "execution_count": null,
   "metadata": {},
   "outputs": [],
   "source": [
    "train_data['manufacturer'][train_data.price == 1500000000]"
   ]
  },
  {
   "cell_type": "code",
   "execution_count": null,
   "metadata": {},
   "outputs": [],
   "source": []
  },
  {
   "cell_type": "code",
   "execution_count": null,
   "metadata": {
    "scrolled": true
   },
   "outputs": [],
   "source": [
    "train_data['VClass'].hist();"
   ]
  },
  {
   "cell_type": "code",
   "execution_count": null,
   "metadata": {},
   "outputs": [],
   "source": [
    "train_data.price.hist();"
   ]
  },
  {
   "cell_type": "markdown",
   "metadata": {},
   "source": [
    "Heatmap"
   ]
  },
  {
   "cell_type": "markdown",
   "metadata": {},
   "source": [
    "sns.pairplot(train_data);"
   ]
  },
  {
   "cell_type": "markdown",
   "metadata": {
    "scrolled": true
   },
   "source": [
    "sns.pairplot(train_data, hue='VClass');"
   ]
  },
  {
   "cell_type": "markdown",
   "metadata": {},
   "source": [
    "sns.pairplot(train_data, hue='division');"
   ]
  },
  {
   "cell_type": "markdown",
   "metadata": {},
   "source": [
    "sns.pairplot(train_data, hue='usage_yr');"
   ]
  },
  {
   "cell_type": "markdown",
   "metadata": {},
   "source": [
    "sns.pairplot(train_data, hue='cylinders');"
   ]
  },
  {
   "cell_type": "markdown",
   "metadata": {},
   "source": [
    "sns.pairplot(train_data, hue='fuel');"
   ]
  },
  {
   "cell_type": "markdown",
   "metadata": {},
   "source": [
    "sns.pairplot(train_data, hue='title_status');"
   ]
  },
  {
   "cell_type": "markdown",
   "metadata": {},
   "source": [
    "sns.pairplot(train_data, hue='transmission');"
   ]
  },
  {
   "cell_type": "markdown",
   "metadata": {},
   "source": [
    "sns.pairplot(train_data, hue='drive');"
   ]
  },
  {
   "cell_type": "markdown",
   "metadata": {},
   "source": [
    "# One Hot Encoding"
   ]
  },
  {
   "cell_type": "code",
   "execution_count": null,
   "metadata": {},
   "outputs": [],
   "source": []
  },
  {
   "cell_type": "code",
   "execution_count": null,
   "metadata": {},
   "outputs": [],
   "source": []
  },
  {
   "cell_type": "code",
   "execution_count": null,
   "metadata": {},
   "outputs": [],
   "source": [
    "train_data"
   ]
  },
  {
   "cell_type": "code",
   "execution_count": null,
   "metadata": {},
   "outputs": [],
   "source": [
    "import graphviz \n",
    "dot_data = tree.export_graphviz(clf, out_file=None, \n",
    "                                filled=True, rounded=True,  \n",
    "                                special_characters=True)  \n",
    "graph = graphviz.Source(dot_data)  \n",
    "graph "
   ]
  },
  {
   "cell_type": "code",
   "execution_count": null,
   "metadata": {},
   "outputs": [],
   "source": [
    "import graphviz \n",
    "dot_data = tree.export_graphviz(clf, out_file=None) \n",
    "graph = graphviz.Source(dot_data) \n"
   ]
  },
  {
   "cell_type": "code",
   "execution_count": null,
   "metadata": {},
   "outputs": [],
   "source": [
    "graph"
   ]
  },
  {
   "cell_type": "code",
   "execution_count": null,
   "metadata": {},
   "outputs": [],
   "source": []
  },
  {
   "cell_type": "code",
   "execution_count": null,
   "metadata": {},
   "outputs": [],
   "source": []
  },
  {
   "cell_type": "code",
   "execution_count": null,
   "metadata": {},
   "outputs": [],
   "source": []
  },
  {
   "cell_type": "code",
   "execution_count": null,
   "metadata": {},
   "outputs": [],
   "source": []
  },
  {
   "cell_type": "code",
   "execution_count": null,
   "metadata": {},
   "outputs": [],
   "source": []
  },
  {
   "cell_type": "code",
   "execution_count": null,
   "metadata": {},
   "outputs": [],
   "source": []
  },
  {
   "cell_type": "code",
   "execution_count": null,
   "metadata": {},
   "outputs": [],
   "source": []
  },
  {
   "cell_type": "code",
   "execution_count": null,
   "metadata": {},
   "outputs": [],
   "source": []
  },
  {
   "cell_type": "code",
   "execution_count": null,
   "metadata": {},
   "outputs": [],
   "source": []
  },
  {
   "cell_type": "code",
   "execution_count": null,
   "metadata": {},
   "outputs": [],
   "source": []
  },
  {
   "cell_type": "code",
   "execution_count": null,
   "metadata": {},
   "outputs": [],
   "source": []
  }
 ],
 "metadata": {
  "kernelspec": {
   "display_name": "Python 3",
   "language": "python",
   "name": "python3"
  },
  "language_info": {
   "codemirror_mode": {
    "name": "ipython",
    "version": 3
   },
   "file_extension": ".py",
   "mimetype": "text/x-python",
   "name": "python",
   "nbconvert_exporter": "python",
   "pygments_lexer": "ipython3",
   "version": "3.7.7"
  }
 },
 "nbformat": 4,
 "nbformat_minor": 4
}
