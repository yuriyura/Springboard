{
 "cells": [
  {
   "cell_type": "markdown",
   "metadata": {},
   "source": [
    "Read the normalized df."
   ]
  },
  {
   "cell_type": "code",
   "execution_count": 1,
   "metadata": {},
   "outputs": [
    {
     "data": {
      "text/html": [
       "<div>\n",
       "<style scoped>\n",
       "    .dataframe tbody tr th:only-of-type {\n",
       "        vertical-align: middle;\n",
       "    }\n",
       "\n",
       "    .dataframe tbody tr th {\n",
       "        vertical-align: top;\n",
       "    }\n",
       "\n",
       "    .dataframe thead th {\n",
       "        text-align: right;\n",
       "    }\n",
       "</style>\n",
       "<table border=\"1\" class=\"dataframe\">\n",
       "  <thead>\n",
       "    <tr style=\"text-align: right;\">\n",
       "      <th></th>\n",
       "      <th>Unnamed: 0</th>\n",
       "      <th>price</th>\n",
       "      <th>year</th>\n",
       "      <th>manufacturer</th>\n",
       "      <th>make</th>\n",
       "      <th>cylinders</th>\n",
       "      <th>fuel</th>\n",
       "      <th>odometer</th>\n",
       "      <th>title_status</th>\n",
       "      <th>transmission</th>\n",
       "      <th>drive</th>\n",
       "      <th>size</th>\n",
       "      <th>type</th>\n",
       "      <th>weather</th>\n",
       "      <th>city</th>\n",
       "      <th>state</th>\n",
       "      <th>county</th>\n",
       "      <th>VClass</th>\n",
       "      <th>youSaveSpend</th>\n",
       "      <th>usage_yr</th>\n",
       "    </tr>\n",
       "  </thead>\n",
       "  <tbody>\n",
       "    <tr>\n",
       "      <th>0</th>\n",
       "      <td>0</td>\n",
       "      <td>11900</td>\n",
       "      <td>2010</td>\n",
       "      <td>dodge</td>\n",
       "      <td>challenger se</td>\n",
       "      <td>6</td>\n",
       "      <td>gas</td>\n",
       "      <td>43600</td>\n",
       "      <td>clean</td>\n",
       "      <td>automatic</td>\n",
       "      <td>rwd</td>\n",
       "      <td>full-size</td>\n",
       "      <td>coupe</td>\n",
       "      <td>38.0</td>\n",
       "      <td>Harrisburg</td>\n",
       "      <td>South Dakota</td>\n",
       "      <td>Lincoln County</td>\n",
       "      <td>midsize cars</td>\n",
       "      <td>-5750.0</td>\n",
       "      <td>9</td>\n",
       "    </tr>\n",
       "    <tr>\n",
       "      <th>1</th>\n",
       "      <td>1</td>\n",
       "      <td>2800</td>\n",
       "      <td>2004</td>\n",
       "      <td>ford</td>\n",
       "      <td>taurus</td>\n",
       "      <td>6</td>\n",
       "      <td>gas</td>\n",
       "      <td>168591</td>\n",
       "      <td>clean</td>\n",
       "      <td>automatic</td>\n",
       "      <td>fwd</td>\n",
       "      <td>full-size</td>\n",
       "      <td>sedan</td>\n",
       "      <td>47.0</td>\n",
       "      <td>Sanborn</td>\n",
       "      <td>Iowa</td>\n",
       "      <td>O'Brien County</td>\n",
       "      <td>large cars</td>\n",
       "      <td>-2250.0</td>\n",
       "      <td>15</td>\n",
       "    </tr>\n",
       "    <tr>\n",
       "      <th>2</th>\n",
       "      <td>2</td>\n",
       "      <td>2800</td>\n",
       "      <td>2004</td>\n",
       "      <td>ford</td>\n",
       "      <td>taurus</td>\n",
       "      <td>6</td>\n",
       "      <td>gas</td>\n",
       "      <td>168591</td>\n",
       "      <td>clean</td>\n",
       "      <td>automatic</td>\n",
       "      <td>fwd</td>\n",
       "      <td>full-size</td>\n",
       "      <td>sedan</td>\n",
       "      <td>47.0</td>\n",
       "      <td>Sanborn</td>\n",
       "      <td>Iowa</td>\n",
       "      <td>O'Brien County</td>\n",
       "      <td>large cars</td>\n",
       "      <td>-2250.0</td>\n",
       "      <td>15</td>\n",
       "    </tr>\n",
       "    <tr>\n",
       "      <th>3</th>\n",
       "      <td>3</td>\n",
       "      <td>400</td>\n",
       "      <td>2001</td>\n",
       "      <td>pontiac</td>\n",
       "      <td>2001 grand prix</td>\n",
       "      <td>0</td>\n",
       "      <td>gas</td>\n",
       "      <td>217000</td>\n",
       "      <td>clean</td>\n",
       "      <td>automatic</td>\n",
       "      <td>fwd</td>\n",
       "      <td>full-size</td>\n",
       "      <td>sedan</td>\n",
       "      <td>47.0</td>\n",
       "      <td>Algona</td>\n",
       "      <td>Iowa</td>\n",
       "      <td>Kossuth County</td>\n",
       "      <td>midsize cars</td>\n",
       "      <td>-1750.0</td>\n",
       "      <td>18</td>\n",
       "    </tr>\n",
       "    <tr>\n",
       "      <th>4</th>\n",
       "      <td>4</td>\n",
       "      <td>9900</td>\n",
       "      <td>2007</td>\n",
       "      <td>gmc</td>\n",
       "      <td>yukon</td>\n",
       "      <td>8</td>\n",
       "      <td>gas</td>\n",
       "      <td>169000</td>\n",
       "      <td>clean</td>\n",
       "      <td>automatic</td>\n",
       "      <td>4wd</td>\n",
       "      <td>full-size</td>\n",
       "      <td>suv</td>\n",
       "      <td>38.0</td>\n",
       "      <td>Lennox</td>\n",
       "      <td>South Dakota</td>\n",
       "      <td>Lincoln County</td>\n",
       "      <td>standard pickup trucks 4wd</td>\n",
       "      <td>-5000.0</td>\n",
       "      <td>12</td>\n",
       "    </tr>\n",
       "  </tbody>\n",
       "</table>\n",
       "</div>"
      ],
      "text/plain": [
       "   Unnamed: 0  price  year manufacturer             make  cylinders fuel  \\\n",
       "0           0  11900  2010        dodge    challenger se          6  gas   \n",
       "1           1   2800  2004         ford           taurus          6  gas   \n",
       "2           2   2800  2004         ford           taurus          6  gas   \n",
       "3           3    400  2001      pontiac  2001 grand prix          0  gas   \n",
       "4           4   9900  2007          gmc            yukon          8  gas   \n",
       "\n",
       "   odometer title_status transmission drive       size   type  weather  \\\n",
       "0     43600        clean    automatic   rwd  full-size  coupe     38.0   \n",
       "1    168591        clean    automatic   fwd  full-size  sedan     47.0   \n",
       "2    168591        clean    automatic   fwd  full-size  sedan     47.0   \n",
       "3    217000        clean    automatic   fwd  full-size  sedan     47.0   \n",
       "4    169000        clean    automatic   4wd  full-size    suv     38.0   \n",
       "\n",
       "         city         state          county                      VClass  \\\n",
       "0  Harrisburg  South Dakota  Lincoln County                midsize cars   \n",
       "1     Sanborn          Iowa  O'Brien County                  large cars   \n",
       "2     Sanborn          Iowa  O'Brien County                  large cars   \n",
       "3      Algona          Iowa  Kossuth County                midsize cars   \n",
       "4      Lennox  South Dakota  Lincoln County  standard pickup trucks 4wd   \n",
       "\n",
       "   youSaveSpend  usage_yr  \n",
       "0       -5750.0         9  \n",
       "1       -2250.0        15  \n",
       "2       -2250.0        15  \n",
       "3       -1750.0        18  \n",
       "4       -5000.0        12  "
      ]
     },
     "execution_count": 1,
     "metadata": {},
     "output_type": "execute_result"
    }
   ],
   "source": [
    "import pandas as pd\n",
    "import numpy as np\n",
    "\n",
    "pd.set_option('display.max_rows', 500)\n",
    "pd.set_option('display.max_columns', 500)\n",
    "\n",
    "train_data = pd.read_csv(\"UsedCarSellingInfoCraigslistNormalized.csv\")\n",
    "train_data.head()"
   ]
  },
  {
   "cell_type": "code",
   "execution_count": 2,
   "metadata": {},
   "outputs": [
    {
     "data": {
      "text/html": [
       "<div>\n",
       "<style scoped>\n",
       "    .dataframe tbody tr th:only-of-type {\n",
       "        vertical-align: middle;\n",
       "    }\n",
       "\n",
       "    .dataframe tbody tr th {\n",
       "        vertical-align: top;\n",
       "    }\n",
       "\n",
       "    .dataframe thead th {\n",
       "        text-align: right;\n",
       "    }\n",
       "</style>\n",
       "<table border=\"1\" class=\"dataframe\">\n",
       "  <thead>\n",
       "    <tr style=\"text-align: right;\">\n",
       "      <th></th>\n",
       "      <th>Unnamed: 0</th>\n",
       "      <th>price</th>\n",
       "      <th>year</th>\n",
       "      <th>manufacturer</th>\n",
       "      <th>make</th>\n",
       "      <th>cylinders</th>\n",
       "      <th>fuel</th>\n",
       "      <th>odometer</th>\n",
       "      <th>title_status</th>\n",
       "      <th>transmission</th>\n",
       "      <th>drive</th>\n",
       "      <th>size</th>\n",
       "      <th>type</th>\n",
       "      <th>weather</th>\n",
       "      <th>city</th>\n",
       "      <th>state</th>\n",
       "      <th>county</th>\n",
       "      <th>VClass</th>\n",
       "      <th>youSaveSpend</th>\n",
       "      <th>usage_yr</th>\n",
       "    </tr>\n",
       "  </thead>\n",
       "  <tbody>\n",
       "    <tr>\n",
       "      <th>546023</th>\n",
       "      <td>546525</td>\n",
       "      <td>25786</td>\n",
       "      <td>2014</td>\n",
       "      <td>chevrolet</td>\n",
       "      <td>silverado 1500</td>\n",
       "      <td>8</td>\n",
       "      <td>gas</td>\n",
       "      <td>55286</td>\n",
       "      <td>clean</td>\n",
       "      <td>automatic</td>\n",
       "      <td>4wd</td>\n",
       "      <td>full-size</td>\n",
       "      <td>pickup</td>\n",
       "      <td>52.0</td>\n",
       "      <td>Harrisonville</td>\n",
       "      <td>Missouri</td>\n",
       "      <td>Cass County</td>\n",
       "      <td>standard pickup trucks 4wd</td>\n",
       "      <td>-5000.0</td>\n",
       "      <td>5</td>\n",
       "    </tr>\n",
       "    <tr>\n",
       "      <th>546024</th>\n",
       "      <td>546526</td>\n",
       "      <td>28991</td>\n",
       "      <td>2015</td>\n",
       "      <td>ford</td>\n",
       "      <td>f150 supercrew cab</td>\n",
       "      <td>6</td>\n",
       "      <td>gas</td>\n",
       "      <td>105123</td>\n",
       "      <td>clean</td>\n",
       "      <td>automatic</td>\n",
       "      <td>4wd</td>\n",
       "      <td>full-size</td>\n",
       "      <td>pickup</td>\n",
       "      <td>52.0</td>\n",
       "      <td>Harrisonville</td>\n",
       "      <td>Missouri</td>\n",
       "      <td>Cass County</td>\n",
       "      <td>compact cars</td>\n",
       "      <td>-1750.0</td>\n",
       "      <td>4</td>\n",
       "    </tr>\n",
       "    <tr>\n",
       "      <th>546025</th>\n",
       "      <td>546527</td>\n",
       "      <td>25995</td>\n",
       "      <td>2015</td>\n",
       "      <td>ford</td>\n",
       "      <td>f150 supercrew cab</td>\n",
       "      <td>8</td>\n",
       "      <td>other</td>\n",
       "      <td>108142</td>\n",
       "      <td>clean</td>\n",
       "      <td>automatic</td>\n",
       "      <td>4wd</td>\n",
       "      <td>full-size</td>\n",
       "      <td>pickup</td>\n",
       "      <td>52.0</td>\n",
       "      <td>Harrisonville</td>\n",
       "      <td>Missouri</td>\n",
       "      <td>Cass County</td>\n",
       "      <td>compact cars</td>\n",
       "      <td>-1750.0</td>\n",
       "      <td>4</td>\n",
       "    </tr>\n",
       "    <tr>\n",
       "      <th>546026</th>\n",
       "      <td>546528</td>\n",
       "      <td>40000</td>\n",
       "      <td>2006</td>\n",
       "      <td>ford</td>\n",
       "      <td>sterling</td>\n",
       "      <td>0</td>\n",
       "      <td>diesel</td>\n",
       "      <td>350000</td>\n",
       "      <td>clean</td>\n",
       "      <td>manual</td>\n",
       "      <td>fwd</td>\n",
       "      <td>full-size</td>\n",
       "      <td>truck</td>\n",
       "      <td>52.0</td>\n",
       "      <td>Bel-Nor</td>\n",
       "      <td>Missouri</td>\n",
       "      <td>Saint Louis County</td>\n",
       "      <td>midsize cars</td>\n",
       "      <td>-1500.0</td>\n",
       "      <td>13</td>\n",
       "    </tr>\n",
       "    <tr>\n",
       "      <th>546027</th>\n",
       "      <td>546529</td>\n",
       "      <td>6995</td>\n",
       "      <td>2007</td>\n",
       "      <td>ram</td>\n",
       "      <td>1500</td>\n",
       "      <td>0</td>\n",
       "      <td>gas</td>\n",
       "      <td>197936</td>\n",
       "      <td>clean</td>\n",
       "      <td>manual</td>\n",
       "      <td>4wd</td>\n",
       "      <td>full-size</td>\n",
       "      <td>truck</td>\n",
       "      <td>52.0</td>\n",
       "      <td>Moscow Mills</td>\n",
       "      <td>Missouri</td>\n",
       "      <td>Lincoln County</td>\n",
       "      <td>standard pickup trucks 4wd</td>\n",
       "      <td>-5000.0</td>\n",
       "      <td>12</td>\n",
       "    </tr>\n",
       "  </tbody>\n",
       "</table>\n",
       "</div>"
      ],
      "text/plain": [
       "        Unnamed: 0  price  year manufacturer                make  cylinders  \\\n",
       "546023      546525  25786  2014    chevrolet      silverado 1500          8   \n",
       "546024      546526  28991  2015         ford  f150 supercrew cab          6   \n",
       "546025      546527  25995  2015         ford  f150 supercrew cab          8   \n",
       "546026      546528  40000  2006         ford            sterling          0   \n",
       "546027      546529   6995  2007          ram                1500          0   \n",
       "\n",
       "          fuel  odometer title_status transmission drive       size    type  \\\n",
       "546023     gas     55286        clean    automatic   4wd  full-size  pickup   \n",
       "546024     gas    105123        clean    automatic   4wd  full-size  pickup   \n",
       "546025   other    108142        clean    automatic   4wd  full-size  pickup   \n",
       "546026  diesel    350000        clean       manual   fwd  full-size   truck   \n",
       "546027     gas    197936        clean       manual   4wd  full-size   truck   \n",
       "\n",
       "        weather           city     state              county  \\\n",
       "546023     52.0  Harrisonville  Missouri         Cass County   \n",
       "546024     52.0  Harrisonville  Missouri         Cass County   \n",
       "546025     52.0  Harrisonville  Missouri         Cass County   \n",
       "546026     52.0        Bel-Nor  Missouri  Saint Louis County   \n",
       "546027     52.0   Moscow Mills  Missouri      Lincoln County   \n",
       "\n",
       "                            VClass  youSaveSpend  usage_yr  \n",
       "546023  standard pickup trucks 4wd       -5000.0         5  \n",
       "546024                compact cars       -1750.0         4  \n",
       "546025                compact cars       -1750.0         4  \n",
       "546026                midsize cars       -1500.0        13  \n",
       "546027  standard pickup trucks 4wd       -5000.0        12  "
      ]
     },
     "execution_count": 2,
     "metadata": {},
     "output_type": "execute_result"
    }
   ],
   "source": [
    "train_data.tail()"
   ]
  },
  {
   "cell_type": "markdown",
   "metadata": {},
   "source": [
    "Let's drop 'Unnamed: 0'."
   ]
  },
  {
   "cell_type": "code",
   "execution_count": 3,
   "metadata": {},
   "outputs": [
    {
     "data": {
      "text/plain": [
       "Index(['price', 'year', 'manufacturer', 'make', 'cylinders', 'fuel',\n",
       "       'odometer', 'title_status', 'transmission', 'drive', 'size', 'type',\n",
       "       'weather', 'city', 'state', 'county', 'VClass', 'youSaveSpend',\n",
       "       'usage_yr'],\n",
       "      dtype='object')"
      ]
     },
     "execution_count": 3,
     "metadata": {},
     "output_type": "execute_result"
    }
   ],
   "source": [
    "train_data.drop(['Unnamed: 0'], axis = 1, inplace=True)\n",
    "train_data.columns"
   ]
  },
  {
   "cell_type": "code",
   "execution_count": 4,
   "metadata": {},
   "outputs": [
    {
     "name": "stdout",
     "output_type": "stream",
     "text": [
      "<class 'pandas.core.frame.DataFrame'>\n",
      "RangeIndex: 546028 entries, 0 to 546027\n",
      "Data columns (total 19 columns):\n",
      " #   Column        Non-Null Count   Dtype  \n",
      "---  ------        --------------   -----  \n",
      " 0   price         546028 non-null  int64  \n",
      " 1   year          546028 non-null  int64  \n",
      " 2   manufacturer  546028 non-null  object \n",
      " 3   make          546027 non-null  object \n",
      " 4   cylinders     546028 non-null  int64  \n",
      " 5   fuel          546028 non-null  object \n",
      " 6   odometer      546028 non-null  int64  \n",
      " 7   title_status  546028 non-null  object \n",
      " 8   transmission  546028 non-null  object \n",
      " 9   drive         546028 non-null  object \n",
      " 10  size          546028 non-null  object \n",
      " 11  type          546028 non-null  object \n",
      " 12  weather       546028 non-null  float64\n",
      " 13  city          546028 non-null  object \n",
      " 14  state         545990 non-null  object \n",
      " 15  county        522298 non-null  object \n",
      " 16  VClass        546028 non-null  object \n",
      " 17  youSaveSpend  546028 non-null  float64\n",
      " 18  usage_yr      546028 non-null  int64  \n",
      "dtypes: float64(2), int64(5), object(12)\n",
      "memory usage: 79.2+ MB\n"
     ]
    }
   ],
   "source": [
    "train_data.info()"
   ]
  },
  {
   "cell_type": "markdown",
   "metadata": {},
   "source": [
    "Let's add Region and Division by 'state'."
   ]
  },
  {
   "cell_type": "code",
   "execution_count": 5,
   "metadata": {},
   "outputs": [
    {
     "data": {
      "text/html": [
       "<div>\n",
       "<style scoped>\n",
       "    .dataframe tbody tr th:only-of-type {\n",
       "        vertical-align: middle;\n",
       "    }\n",
       "\n",
       "    .dataframe tbody tr th {\n",
       "        vertical-align: top;\n",
       "    }\n",
       "\n",
       "    .dataframe thead th {\n",
       "        text-align: right;\n",
       "    }\n",
       "</style>\n",
       "<table border=\"1\" class=\"dataframe\">\n",
       "  <thead>\n",
       "    <tr style=\"text-align: right;\">\n",
       "      <th></th>\n",
       "      <th>State</th>\n",
       "      <th>State Code</th>\n",
       "      <th>Region</th>\n",
       "      <th>Division</th>\n",
       "    </tr>\n",
       "  </thead>\n",
       "  <tbody>\n",
       "    <tr>\n",
       "      <th>0</th>\n",
       "      <td>Alaska</td>\n",
       "      <td>AK</td>\n",
       "      <td>West</td>\n",
       "      <td>Pacific</td>\n",
       "    </tr>\n",
       "    <tr>\n",
       "      <th>1</th>\n",
       "      <td>Alabama</td>\n",
       "      <td>AL</td>\n",
       "      <td>South</td>\n",
       "      <td>East South Central</td>\n",
       "    </tr>\n",
       "    <tr>\n",
       "      <th>2</th>\n",
       "      <td>Arkansas</td>\n",
       "      <td>AR</td>\n",
       "      <td>South</td>\n",
       "      <td>West South Central</td>\n",
       "    </tr>\n",
       "    <tr>\n",
       "      <th>3</th>\n",
       "      <td>Arizona</td>\n",
       "      <td>AZ</td>\n",
       "      <td>West</td>\n",
       "      <td>Mountain</td>\n",
       "    </tr>\n",
       "    <tr>\n",
       "      <th>4</th>\n",
       "      <td>California</td>\n",
       "      <td>CA</td>\n",
       "      <td>West</td>\n",
       "      <td>Pacific</td>\n",
       "    </tr>\n",
       "  </tbody>\n",
       "</table>\n",
       "</div>"
      ],
      "text/plain": [
       "        State State Code Region            Division\n",
       "0      Alaska         AK   West             Pacific\n",
       "1     Alabama         AL  South  East South Central\n",
       "2    Arkansas         AR  South  West South Central\n",
       "3     Arizona         AZ   West            Mountain\n",
       "4  California         CA   West             Pacific"
      ]
     },
     "execution_count": 5,
     "metadata": {},
     "output_type": "execute_result"
    }
   ],
   "source": [
    "region_df= pd.read_csv(\"datasets_31195_39789_states.csv\")\n",
    "region_df.head()"
   ]
  },
  {
   "cell_type": "markdown",
   "metadata": {},
   "source": [
    "Let's change the column as lowercase."
   ]
  },
  {
   "cell_type": "code",
   "execution_count": 6,
   "metadata": {},
   "outputs": [],
   "source": [
    "region_df = region_df.rename(columns = {\"State\":\"state\", \"State Code\":\"state_code\",\n",
    "                                        \"Region\":\"region\",\"Division\":\"division\"}) "
   ]
  },
  {
   "cell_type": "markdown",
   "metadata": {},
   "source": [
    "Let's do a left-join by 'state'."
   ]
  },
  {
   "cell_type": "code",
   "execution_count": 7,
   "metadata": {},
   "outputs": [
    {
     "data": {
      "text/html": [
       "<div>\n",
       "<style scoped>\n",
       "    .dataframe tbody tr th:only-of-type {\n",
       "        vertical-align: middle;\n",
       "    }\n",
       "\n",
       "    .dataframe tbody tr th {\n",
       "        vertical-align: top;\n",
       "    }\n",
       "\n",
       "    .dataframe thead th {\n",
       "        text-align: right;\n",
       "    }\n",
       "</style>\n",
       "<table border=\"1\" class=\"dataframe\">\n",
       "  <thead>\n",
       "    <tr style=\"text-align: right;\">\n",
       "      <th></th>\n",
       "      <th>price</th>\n",
       "      <th>year</th>\n",
       "      <th>manufacturer</th>\n",
       "      <th>make</th>\n",
       "      <th>cylinders</th>\n",
       "      <th>fuel</th>\n",
       "      <th>odometer</th>\n",
       "      <th>title_status</th>\n",
       "      <th>transmission</th>\n",
       "      <th>drive</th>\n",
       "      <th>size</th>\n",
       "      <th>type</th>\n",
       "      <th>weather</th>\n",
       "      <th>city</th>\n",
       "      <th>state</th>\n",
       "      <th>county</th>\n",
       "      <th>VClass</th>\n",
       "      <th>youSaveSpend</th>\n",
       "      <th>usage_yr</th>\n",
       "      <th>state_code</th>\n",
       "      <th>region</th>\n",
       "      <th>division</th>\n",
       "    </tr>\n",
       "  </thead>\n",
       "  <tbody>\n",
       "    <tr>\n",
       "      <th>0</th>\n",
       "      <td>11900</td>\n",
       "      <td>2010</td>\n",
       "      <td>dodge</td>\n",
       "      <td>challenger se</td>\n",
       "      <td>6</td>\n",
       "      <td>gas</td>\n",
       "      <td>43600</td>\n",
       "      <td>clean</td>\n",
       "      <td>automatic</td>\n",
       "      <td>rwd</td>\n",
       "      <td>full-size</td>\n",
       "      <td>coupe</td>\n",
       "      <td>38.0</td>\n",
       "      <td>Harrisburg</td>\n",
       "      <td>South Dakota</td>\n",
       "      <td>Lincoln County</td>\n",
       "      <td>midsize cars</td>\n",
       "      <td>-5750.0</td>\n",
       "      <td>9</td>\n",
       "      <td>SD</td>\n",
       "      <td>Midwest</td>\n",
       "      <td>West North Central</td>\n",
       "    </tr>\n",
       "    <tr>\n",
       "      <th>1</th>\n",
       "      <td>2800</td>\n",
       "      <td>2004</td>\n",
       "      <td>ford</td>\n",
       "      <td>taurus</td>\n",
       "      <td>6</td>\n",
       "      <td>gas</td>\n",
       "      <td>168591</td>\n",
       "      <td>clean</td>\n",
       "      <td>automatic</td>\n",
       "      <td>fwd</td>\n",
       "      <td>full-size</td>\n",
       "      <td>sedan</td>\n",
       "      <td>47.0</td>\n",
       "      <td>Sanborn</td>\n",
       "      <td>Iowa</td>\n",
       "      <td>O'Brien County</td>\n",
       "      <td>large cars</td>\n",
       "      <td>-2250.0</td>\n",
       "      <td>15</td>\n",
       "      <td>IA</td>\n",
       "      <td>Midwest</td>\n",
       "      <td>West North Central</td>\n",
       "    </tr>\n",
       "    <tr>\n",
       "      <th>2</th>\n",
       "      <td>2800</td>\n",
       "      <td>2004</td>\n",
       "      <td>ford</td>\n",
       "      <td>taurus</td>\n",
       "      <td>6</td>\n",
       "      <td>gas</td>\n",
       "      <td>168591</td>\n",
       "      <td>clean</td>\n",
       "      <td>automatic</td>\n",
       "      <td>fwd</td>\n",
       "      <td>full-size</td>\n",
       "      <td>sedan</td>\n",
       "      <td>47.0</td>\n",
       "      <td>Sanborn</td>\n",
       "      <td>Iowa</td>\n",
       "      <td>O'Brien County</td>\n",
       "      <td>large cars</td>\n",
       "      <td>-2250.0</td>\n",
       "      <td>15</td>\n",
       "      <td>IA</td>\n",
       "      <td>Midwest</td>\n",
       "      <td>West North Central</td>\n",
       "    </tr>\n",
       "    <tr>\n",
       "      <th>3</th>\n",
       "      <td>400</td>\n",
       "      <td>2001</td>\n",
       "      <td>pontiac</td>\n",
       "      <td>2001 grand prix</td>\n",
       "      <td>0</td>\n",
       "      <td>gas</td>\n",
       "      <td>217000</td>\n",
       "      <td>clean</td>\n",
       "      <td>automatic</td>\n",
       "      <td>fwd</td>\n",
       "      <td>full-size</td>\n",
       "      <td>sedan</td>\n",
       "      <td>47.0</td>\n",
       "      <td>Algona</td>\n",
       "      <td>Iowa</td>\n",
       "      <td>Kossuth County</td>\n",
       "      <td>midsize cars</td>\n",
       "      <td>-1750.0</td>\n",
       "      <td>18</td>\n",
       "      <td>IA</td>\n",
       "      <td>Midwest</td>\n",
       "      <td>West North Central</td>\n",
       "    </tr>\n",
       "    <tr>\n",
       "      <th>4</th>\n",
       "      <td>9900</td>\n",
       "      <td>2007</td>\n",
       "      <td>gmc</td>\n",
       "      <td>yukon</td>\n",
       "      <td>8</td>\n",
       "      <td>gas</td>\n",
       "      <td>169000</td>\n",
       "      <td>clean</td>\n",
       "      <td>automatic</td>\n",
       "      <td>4wd</td>\n",
       "      <td>full-size</td>\n",
       "      <td>suv</td>\n",
       "      <td>38.0</td>\n",
       "      <td>Lennox</td>\n",
       "      <td>South Dakota</td>\n",
       "      <td>Lincoln County</td>\n",
       "      <td>standard pickup trucks 4wd</td>\n",
       "      <td>-5000.0</td>\n",
       "      <td>12</td>\n",
       "      <td>SD</td>\n",
       "      <td>Midwest</td>\n",
       "      <td>West North Central</td>\n",
       "    </tr>\n",
       "  </tbody>\n",
       "</table>\n",
       "</div>"
      ],
      "text/plain": [
       "   price  year manufacturer             make  cylinders fuel  odometer  \\\n",
       "0  11900  2010        dodge    challenger se          6  gas     43600   \n",
       "1   2800  2004         ford           taurus          6  gas    168591   \n",
       "2   2800  2004         ford           taurus          6  gas    168591   \n",
       "3    400  2001      pontiac  2001 grand prix          0  gas    217000   \n",
       "4   9900  2007          gmc            yukon          8  gas    169000   \n",
       "\n",
       "  title_status transmission drive       size   type  weather        city  \\\n",
       "0        clean    automatic   rwd  full-size  coupe     38.0  Harrisburg   \n",
       "1        clean    automatic   fwd  full-size  sedan     47.0     Sanborn   \n",
       "2        clean    automatic   fwd  full-size  sedan     47.0     Sanborn   \n",
       "3        clean    automatic   fwd  full-size  sedan     47.0      Algona   \n",
       "4        clean    automatic   4wd  full-size    suv     38.0      Lennox   \n",
       "\n",
       "          state          county                      VClass  youSaveSpend  \\\n",
       "0  South Dakota  Lincoln County                midsize cars       -5750.0   \n",
       "1          Iowa  O'Brien County                  large cars       -2250.0   \n",
       "2          Iowa  O'Brien County                  large cars       -2250.0   \n",
       "3          Iowa  Kossuth County                midsize cars       -1750.0   \n",
       "4  South Dakota  Lincoln County  standard pickup trucks 4wd       -5000.0   \n",
       "\n",
       "   usage_yr state_code   region            division  \n",
       "0         9         SD  Midwest  West North Central  \n",
       "1        15         IA  Midwest  West North Central  \n",
       "2        15         IA  Midwest  West North Central  \n",
       "3        18         IA  Midwest  West North Central  \n",
       "4        12         SD  Midwest  West North Central  "
      ]
     },
     "execution_count": 7,
     "metadata": {},
     "output_type": "execute_result"
    }
   ],
   "source": [
    "train_data = train_data.merge(region_df, how='left', on=['state'])\n",
    "train_data.head()"
   ]
  },
  {
   "cell_type": "markdown",
   "metadata": {},
   "source": [
    "Let's check 'state' which null values in 'region' or 'division'."
   ]
  },
  {
   "cell_type": "code",
   "execution_count": 8,
   "metadata": {
    "scrolled": true
   },
   "outputs": [
    {
     "data": {
      "text/plain": [
       "British Columbia                    23506\n",
       "Ontario                              2466\n",
       "Alberta                               354\n",
       "Baja California                       132\n",
       "Manitoba                               88\n",
       "Washington, D.C.                       78\n",
       "Saskatchewan                           33\n",
       "Nova Scotia                            32\n",
       "Tristan da Cunha                       31\n",
       "Guerrero                               31\n",
       "Galapagos                              24\n",
       "Nunavut                                22\n",
       "Oaxaca                                 17\n",
       "Jalisco                                16\n",
       "Yukon                                  14\n",
       "Quebec                                 13\n",
       "Yucatan                                13\n",
       "Saint Helena                           10\n",
       "New Brunswick                           9\n",
       "Newfoundland and Labrador               9\n",
       "Valparaiso                              9\n",
       "Sonora                                  9\n",
       "Tamaulipas                              7\n",
       "Eastern Cape                            6\n",
       "Nuevo Leon                              5\n",
       "Rio de Janeiro                          4\n",
       "Amazonas                                4\n",
       "Veracruz                                4\n",
       "Chihuahua                               4\n",
       "Western                                 4\n",
       "Misiones                                3\n",
       "Montserrado                             3\n",
       "Chiapas                                 3\n",
       "Lagunes                                 3\n",
       "Magallanes                              3\n",
       "Baja California Sur                     3\n",
       "Zakarpattia                             3\n",
       "Santa Cruz                              3\n",
       "Chatham Islands                         3\n",
       "Hamilton city                           2\n",
       "Bonaire                                 2\n",
       "Grand Bassa                             2\n",
       "Coahuila                                2\n",
       "La Libertad                             2\n",
       "Los Lagos                               2\n",
       "Coquimbo                                2\n",
       "Tierra del Fuego                        2\n",
       "Michoacan                               2\n",
       "Adrar                                   2\n",
       "Volta                                   2\n",
       "Zacatecas                               2\n",
       "Western Cape                            2\n",
       "Galicia                                 2\n",
       "Sud-Comoe                               1\n",
       "Santa Ana                               1\n",
       "Guyane                                  1\n",
       "Mersin                                  1\n",
       "Queretaro                               1\n",
       "Mono                                    1\n",
       "Barbuda                                 1\n",
       "Ica                                     1\n",
       "Vaesterbotten                           1\n",
       "Ghardaia                                1\n",
       "Tillaberi                               1\n",
       "Sermersooq                              1\n",
       "Volyn                                   1\n",
       "Sha`biyat al Jabal al Gharbi            1\n",
       "Andalusia                               1\n",
       "Valencia                                1\n",
       "Gao                                     1\n",
       "Erongo                                  1\n",
       "England                                 1\n",
       "Santa Catarina                          1\n",
       "Southern Peninsula                      1\n",
       "Lower Saxony                            1\n",
       "Wilaya de Naama                         1\n",
       "Tlaxcala                                1\n",
       "Central Abaco                           1\n",
       "Huambo                                  1\n",
       "San Cristobal                           1\n",
       "Colima                                  1\n",
       "North Abaco                             1\n",
       "Antofagasta                             1\n",
       "Yobe                                    1\n",
       "Central Serbia                          1\n",
       "Loreto                                  1\n",
       "Retalhuleu                              1\n",
       "Luanda                                  1\n",
       "Nzerekore                               1\n",
       "Northwest Territories                   1\n",
       "Guatemala                               1\n",
       "Sha`biyat al Wahat                      1\n",
       "Qaasuitsup                              1\n",
       "Kasai-Oriental                          1\n",
       "Iles Marquises                          1\n",
       "Minas Gerais                            1\n",
       "Riau                                    1\n",
       "Auvergne                                1\n",
       "Azores                                  1\n",
       "Esmeraldas                              1\n",
       "Bay Islands                             1\n",
       "Villa Clara                             1\n",
       "Quintana Roo                            1\n",
       "Ninawa                                  1\n",
       "Northern                                1\n",
       "Brava                                   1\n",
       "Rogaland                                1\n",
       "Puebla                                  1\n",
       "Laayoune-Boujdour-Sakia El Hamra        1\n",
       "Goias                                   1\n",
       "Acklins                                 1\n",
       "Guanajuato                              1\n",
       "Dix-Huit Montagnes                      1\n",
       "San Juan                                1\n",
       "Name: state, dtype: int64"
      ]
     },
     "execution_count": 8,
     "metadata": {},
     "output_type": "execute_result"
    }
   ],
   "source": [
    "train_data['state'][train_data['region'].isnull()].value_counts()"
   ]
  },
  {
   "cell_type": "markdown",
   "metadata": {},
   "source": [
    "Let's fill in 'Washington, D.C.''s 'state_code' as 'DC', 'region' as 'South', and 'division' as 'South Atlantic'."
   ]
  },
  {
   "cell_type": "code",
   "execution_count": 9,
   "metadata": {
    "scrolled": true
   },
   "outputs": [
    {
     "data": {
      "text/html": [
       "<div>\n",
       "<style scoped>\n",
       "    .dataframe tbody tr th:only-of-type {\n",
       "        vertical-align: middle;\n",
       "    }\n",
       "\n",
       "    .dataframe tbody tr th {\n",
       "        vertical-align: top;\n",
       "    }\n",
       "\n",
       "    .dataframe thead th {\n",
       "        text-align: right;\n",
       "    }\n",
       "</style>\n",
       "<table border=\"1\" class=\"dataframe\">\n",
       "  <thead>\n",
       "    <tr style=\"text-align: right;\">\n",
       "      <th></th>\n",
       "      <th>state</th>\n",
       "      <th>state_code</th>\n",
       "      <th>region</th>\n",
       "      <th>division</th>\n",
       "    </tr>\n",
       "  </thead>\n",
       "  <tbody>\n",
       "    <tr>\n",
       "      <th>7</th>\n",
       "      <td>District of Columbia</td>\n",
       "      <td>DC</td>\n",
       "      <td>South</td>\n",
       "      <td>South Atlantic</td>\n",
       "    </tr>\n",
       "  </tbody>\n",
       "</table>\n",
       "</div>"
      ],
      "text/plain": [
       "                  state state_code region        division\n",
       "7  District of Columbia         DC  South  South Atlantic"
      ]
     },
     "execution_count": 9,
     "metadata": {},
     "output_type": "execute_result"
    }
   ],
   "source": [
    "region_df[region_df['state_code']=='DC']"
   ]
  },
  {
   "cell_type": "code",
   "execution_count": 10,
   "metadata": {},
   "outputs": [],
   "source": [
    "# US\n",
    "train_data.loc[train_data['state'] == 'Washington, D.C.','state_code']='DC'   \n",
    "train_data.loc[train_data['state'] == 'Washington, D.C.','region']='South'   \n",
    "train_data.loc[train_data['state'] == 'Washington, D.C.','division']='South Atlantic'   "
   ]
  },
  {
   "cell_type": "code",
   "execution_count": 11,
   "metadata": {
    "scrolled": false
   },
   "outputs": [
    {
     "data": {
      "text/plain": [
       "division        4.950296\n",
       "state_code      4.950296\n",
       "region          4.950296\n",
       "county          4.345931\n",
       "state           0.006959\n",
       "make            0.000183\n",
       "transmission    0.000000\n",
       "year            0.000000\n",
       "manufacturer    0.000000\n",
       "cylinders       0.000000\n",
       "fuel            0.000000\n",
       "odometer        0.000000\n",
       "title_status    0.000000\n",
       "size            0.000000\n",
       "drive           0.000000\n",
       "type            0.000000\n",
       "weather         0.000000\n",
       "city            0.000000\n",
       "VClass          0.000000\n",
       "youSaveSpend    0.000000\n",
       "usage_yr        0.000000\n",
       "price           0.000000\n",
       "dtype: float64"
      ]
     },
     "execution_count": 11,
     "metadata": {},
     "output_type": "execute_result"
    }
   ],
   "source": [
    "((train_data.isnull().sum()/len(train_data)).sort_values(ascending = False)*100).astype(float)"
   ]
  },
  {
   "cell_type": "markdown",
   "metadata": {},
   "source": [
    "Let's drop rows with null values.  I will concentrate of the US information only."
   ]
  },
  {
   "cell_type": "code",
   "execution_count": 12,
   "metadata": {},
   "outputs": [
    {
     "data": {
      "text/plain": [
       "county          0.020809\n",
       "division        0.000000\n",
       "drive           0.000000\n",
       "year            0.000000\n",
       "manufacturer    0.000000\n",
       "make            0.000000\n",
       "cylinders       0.000000\n",
       "fuel            0.000000\n",
       "odometer        0.000000\n",
       "title_status    0.000000\n",
       "transmission    0.000000\n",
       "size            0.000000\n",
       "region          0.000000\n",
       "type            0.000000\n",
       "weather         0.000000\n",
       "city            0.000000\n",
       "state           0.000000\n",
       "VClass          0.000000\n",
       "youSaveSpend    0.000000\n",
       "usage_yr        0.000000\n",
       "state_code      0.000000\n",
       "price           0.000000\n",
       "dtype: float64"
      ]
     },
     "execution_count": 12,
     "metadata": {},
     "output_type": "execute_result"
    }
   ],
   "source": [
    "train_data.drop(train_data[train_data['region'].isnull()].index, inplace=True)\n",
    "train_data.drop(train_data[train_data['make'].isnull()].index, inplace=True)\n",
    "((train_data.isnull().sum()/len(train_data)).sort_values(ascending = False)*100).astype(float)"
   ]
  },
  {
   "cell_type": "code",
   "execution_count": 13,
   "metadata": {},
   "outputs": [
    {
     "data": {
      "text/plain": [
       "Washington, D.C.    78\n",
       "New York            30\n",
       "Name: state, dtype: int64"
      ]
     },
     "execution_count": 13,
     "metadata": {},
     "output_type": "execute_result"
    }
   ],
   "source": [
    "train_data['state'][train_data['county'].isnull()].value_counts()"
   ]
  },
  {
   "cell_type": "code",
   "execution_count": 14,
   "metadata": {},
   "outputs": [
    {
     "data": {
      "text/plain": [
       "Series([], Name: county, dtype: int64)"
      ]
     },
     "execution_count": 14,
     "metadata": {},
     "output_type": "execute_result"
    }
   ],
   "source": [
    "train_data['county'][train_data['state_code']=='DC'].value_counts()"
   ]
  },
  {
   "cell_type": "code",
   "execution_count": 15,
   "metadata": {},
   "outputs": [
    {
     "data": {
      "text/plain": [
       "Bridgeport       285\n",
       "Rome             220\n",
       "Bensonhurst      148\n",
       "Utica            134\n",
       "Binghamton       125\n",
       "                ... \n",
       "North Wantagh      1\n",
       "Alfred             1\n",
       "Warsaw             1\n",
       "Dobbs Ferry        1\n",
       "Little Valley      1\n",
       "Name: city, Length: 711, dtype: int64"
      ]
     },
     "execution_count": 15,
     "metadata": {},
     "output_type": "execute_result"
    }
   ],
   "source": [
    "train_data['city'][(train_data['county'].notnull())\n",
    "                   & (train_data['state']=='New York')].value_counts()"
   ]
  },
  {
   "cell_type": "code",
   "execution_count": 16,
   "metadata": {},
   "outputs": [
    {
     "data": {
      "text/plain": [
       "Series([], Name: county, dtype: int64)"
      ]
     },
     "execution_count": 16,
     "metadata": {},
     "output_type": "execute_result"
    }
   ],
   "source": [
    "train_data['county'][train_data['city']=='New York City'].value_counts()"
   ]
  },
  {
   "cell_type": "markdown",
   "metadata": {},
   "source": [
    "Let's drop 'county' in that 'city' and 'state' are enough location information."
   ]
  },
  {
   "cell_type": "code",
   "execution_count": 17,
   "metadata": {},
   "outputs": [],
   "source": [
    "train_data.drop(['county'], axis = 1, inplace=True)"
   ]
  },
  {
   "cell_type": "code",
   "execution_count": 18,
   "metadata": {},
   "outputs": [
    {
     "data": {
      "text/plain": [
       "sedan          167737\n",
       "suv            120526\n",
       "truck           68052\n",
       "pickup          47120\n",
       "coupe           35616\n",
       "hatchback       19525\n",
       "mini-van        14141\n",
       "convertible     12781\n",
       "wagon           12323\n",
       "van              9999\n",
       "other            8894\n",
       "offroad          1721\n",
       "bus               562\n",
       "Name: type, dtype: int64"
      ]
     },
     "execution_count": 18,
     "metadata": {},
     "output_type": "execute_result"
    }
   ],
   "source": [
    "train_data['type'].value_counts()"
   ]
  },
  {
   "cell_type": "code",
   "execution_count": 19,
   "metadata": {},
   "outputs": [
    {
     "data": {
      "text/plain": [
       "sport utility vehicle - 4wd           91891\n",
       "standard pickup trucks 4wd            90629\n",
       "midsize cars                          89452\n",
       "compact cars                          57707\n",
       "standard pickup trucks                53722\n",
       "large cars                            35100\n",
       "subcompact cars                       25825\n",
       "minivan - 2wd                         17328\n",
       "standard pickup trucks 2wd            14885\n",
       "small sport utility vehicle 4wd       11014\n",
       "two seaters                            7109\n",
       "small sport utility vehicle 2wd        6778\n",
       "small station wagons                   4779\n",
       "sport utility vehicle - 2wd            4534\n",
       "minicompact cars                       2584\n",
       "minivan - 4wd                          2384\n",
       "small pickup trucks 4wd                1373\n",
       "special purpose vehicle 2wd             886\n",
       "midsize station wagons                  294\n",
       "standard sport utility vehicle 4wd      293\n",
       "special purpose vehicles                200\n",
       "vans                                    101\n",
       "midsize-large station wagons             46\n",
       "special purpose vehicle 4wd              30\n",
       "standard sport utility vehicle 2wd       29\n",
       "small pickup trucks                      17\n",
       "vans, passenger type                      6\n",
       "small pickup trucks 2wd                   1\n",
       "Name: VClass, dtype: int64"
      ]
     },
     "execution_count": 19,
     "metadata": {},
     "output_type": "execute_result"
    }
   ],
   "source": [
    "train_data['VClass'].value_counts()"
   ]
  },
  {
   "cell_type": "markdown",
   "metadata": {},
   "source": [
    "Let's drop 'type', and instead 'VClass' can give more specific information of vehicles."
   ]
  },
  {
   "cell_type": "code",
   "execution_count": 20,
   "metadata": {},
   "outputs": [],
   "source": [
    "train_data.drop(['type'], axis = 1, inplace=True)"
   ]
  },
  {
   "cell_type": "code",
   "execution_count": 21,
   "metadata": {},
   "outputs": [
    {
     "name": "stdout",
     "output_type": "stream",
     "text": [
      "<class 'pandas.core.frame.DataFrame'>\n",
      "Int64Index: 518997 entries, 0 to 546027\n",
      "Data columns (total 20 columns):\n",
      " #   Column        Non-Null Count   Dtype  \n",
      "---  ------        --------------   -----  \n",
      " 0   price         518997 non-null  int64  \n",
      " 1   year          518997 non-null  int64  \n",
      " 2   manufacturer  518997 non-null  object \n",
      " 3   make          518997 non-null  object \n",
      " 4   cylinders     518997 non-null  int64  \n",
      " 5   fuel          518997 non-null  object \n",
      " 6   odometer      518997 non-null  int64  \n",
      " 7   title_status  518997 non-null  object \n",
      " 8   transmission  518997 non-null  object \n",
      " 9   drive         518997 non-null  object \n",
      " 10  size          518997 non-null  object \n",
      " 11  weather       518997 non-null  float64\n",
      " 12  city          518997 non-null  object \n",
      " 13  state         518997 non-null  object \n",
      " 14  VClass        518997 non-null  object \n",
      " 15  youSaveSpend  518997 non-null  float64\n",
      " 16  usage_yr      518997 non-null  int64  \n",
      " 17  state_code    518997 non-null  object \n",
      " 18  region        518997 non-null  object \n",
      " 19  division      518997 non-null  object \n",
      "dtypes: float64(2), int64(5), object(13)\n",
      "memory usage: 83.2+ MB\n"
     ]
    }
   ],
   "source": [
    "train_data.info()"
   ]
  },
  {
   "cell_type": "code",
   "execution_count": 22,
   "metadata": {},
   "outputs": [],
   "source": [
    "train_data['weather'] = train_data['weather'].astype(int)\n",
    "train_data['youSaveSpend'] = train_data['youSaveSpend'].astype(int)"
   ]
  },
  {
   "cell_type": "code",
   "execution_count": 23,
   "metadata": {},
   "outputs": [
    {
     "data": {
      "text/plain": [
       "sport utility vehicle - 4wd           91891\n",
       "standard pickup trucks 4wd            90629\n",
       "midsize cars                          89452\n",
       "compact cars                          57707\n",
       "standard pickup trucks                53722\n",
       "large cars                            35100\n",
       "subcompact cars                       25825\n",
       "minivan - 2wd                         17328\n",
       "standard pickup trucks 2wd            14885\n",
       "small sport utility vehicle 4wd       11014\n",
       "two seaters                            7109\n",
       "small sport utility vehicle 2wd        6778\n",
       "small station wagons                   4779\n",
       "sport utility vehicle - 2wd            4534\n",
       "minicompact cars                       2584\n",
       "minivan - 4wd                          2384\n",
       "small pickup trucks 4wd                1373\n",
       "special purpose vehicle 2wd             886\n",
       "midsize station wagons                  294\n",
       "standard sport utility vehicle 4wd      293\n",
       "special purpose vehicles                200\n",
       "vans                                    101\n",
       "midsize-large station wagons             46\n",
       "special purpose vehicle 4wd              30\n",
       "standard sport utility vehicle 2wd       29\n",
       "small pickup trucks                      17\n",
       "vans, passenger type                      6\n",
       "small pickup trucks 2wd                   1\n",
       "Name: VClass, dtype: int64"
      ]
     },
     "execution_count": 23,
     "metadata": {},
     "output_type": "execute_result"
    }
   ],
   "source": [
    "train_data['VClass'].value_counts()"
   ]
  },
  {
   "cell_type": "code",
   "execution_count": 24,
   "metadata": {
    "scrolled": true
   },
   "outputs": [
    {
     "data": {
      "text/plain": [
       "full-size      268301\n",
       "mid-size       168567\n",
       "compact         77399\n",
       "sub-compact      4730\n",
       "Name: size, dtype: int64"
      ]
     },
     "execution_count": 24,
     "metadata": {},
     "output_type": "execute_result"
    }
   ],
   "source": [
    "train_data['size'].value_counts()"
   ]
  },
  {
   "cell_type": "markdown",
   "metadata": {},
   "source": [
    "Let's drop 'size' because 'VClass' replace it."
   ]
  },
  {
   "cell_type": "code",
   "execution_count": 25,
   "metadata": {},
   "outputs": [],
   "source": [
    "train_data.drop(['size'], axis = 1, inplace=True)"
   ]
  },
  {
   "cell_type": "code",
   "execution_count": 26,
   "metadata": {},
   "outputs": [
    {
     "name": "stdout",
     "output_type": "stream",
     "text": [
      "<class 'pandas.core.frame.DataFrame'>\n",
      "Int64Index: 518997 entries, 0 to 546027\n",
      "Data columns (total 19 columns):\n",
      " #   Column        Non-Null Count   Dtype \n",
      "---  ------        --------------   ----- \n",
      " 0   price         518997 non-null  int64 \n",
      " 1   year          518997 non-null  int64 \n",
      " 2   manufacturer  518997 non-null  object\n",
      " 3   make          518997 non-null  object\n",
      " 4   cylinders     518997 non-null  int64 \n",
      " 5   fuel          518997 non-null  object\n",
      " 6   odometer      518997 non-null  int64 \n",
      " 7   title_status  518997 non-null  object\n",
      " 8   transmission  518997 non-null  object\n",
      " 9   drive         518997 non-null  object\n",
      " 10  weather       518997 non-null  int32 \n",
      " 11  city          518997 non-null  object\n",
      " 12  state         518997 non-null  object\n",
      " 13  VClass        518997 non-null  object\n",
      " 14  youSaveSpend  518997 non-null  int32 \n",
      " 15  usage_yr      518997 non-null  int64 \n",
      " 16  state_code    518997 non-null  object\n",
      " 17  region        518997 non-null  object\n",
      " 18  division      518997 non-null  object\n",
      "dtypes: int32(2), int64(5), object(12)\n",
      "memory usage: 75.2+ MB\n"
     ]
    }
   ],
   "source": [
    "train_data.info()"
   ]
  },
  {
   "cell_type": "markdown",
   "metadata": {},
   "source": [
    "Let's drop some features in order to make the dataset lighter."
   ]
  },
  {
   "cell_type": "code",
   "execution_count": 27,
   "metadata": {},
   "outputs": [],
   "source": [
    "#train_data.drop(['division'], axis = 1, inplace=True)\n",
    "train_data.drop(['state_code'], axis = 1, inplace=True)\n",
    "train_data.drop(['state'], axis = 1, inplace=True)\n",
    "train_data.drop(['city'], axis = 1, inplace=True)\n",
    "#train_data.drop(['manufacturer'], axis = 1, inplace=True)\n",
    "train_data.drop(['make'], axis = 1, inplace=True)"
   ]
  },
  {
   "cell_type": "code",
   "execution_count": 28,
   "metadata": {
    "scrolled": false
   },
   "outputs": [
    {
     "data": {
      "image/png": "[encoded data removed]",
      "text/plain": [
       "<Figure size 1440x1080 with 2 Axes>"
      ]
     },
     "metadata": {
      "needs_background": "light"
     },
     "output_type": "display_data"
    }
   ],
   "source": [
    "import seaborn as sns\n",
    "import matplotlib.pyplot as plt\n",
    "corr = train_data.corr()\n",
    "plt.subplots(figsize=(20,15))\n",
    "ax = sns.heatmap(\n",
    "    corr, \n",
    "    vmin=-1, vmax=1, center=0,\n",
    "    cmap=sns.diverging_palette(20, 220, n=200),\n",
    "    square=True,\n",
    "    annot=True,\n",
    "    linewidths=1\n",
    ")\n",
    "ax.set_xticklabels(\n",
    "    ax.get_xticklabels(),\n",
    "    rotation=45,\n",
    "    horizontalalignment='right'\n",
    ");"
   ]
  },
  {
   "cell_type": "markdown",
   "metadata": {},
   "source": [
    "Target, 'price' seems having timid correlation with other features.  So let's remove outliers of 'price'.\n",
    "\n",
    "Let's make another feature 'price_log'."
   ]
  },
  {
   "cell_type": "code",
   "execution_count": 29,
   "metadata": {},
   "outputs": [],
   "source": [
    "import math\n",
    "\n",
    "train_data['price_log'] = np.log(train_data['price'])"
   ]
  },
  {
   "cell_type": "code",
   "execution_count": 30,
   "metadata": {},
   "outputs": [
    {
     "data": {
      "text/html": [
       "<div>\n",
       "<style scoped>\n",
       "    .dataframe tbody tr th:only-of-type {\n",
       "        vertical-align: middle;\n",
       "    }\n",
       "\n",
       "    .dataframe tbody tr th {\n",
       "        vertical-align: top;\n",
       "    }\n",
       "\n",
       "    .dataframe thead th {\n",
       "        text-align: right;\n",
       "    }\n",
       "</style>\n",
       "<table border=\"1\" class=\"dataframe\">\n",
       "  <thead>\n",
       "    <tr style=\"text-align: right;\">\n",
       "      <th></th>\n",
       "      <th>price</th>\n",
       "      <th>year</th>\n",
       "      <th>manufacturer</th>\n",
       "      <th>cylinders</th>\n",
       "      <th>fuel</th>\n",
       "      <th>odometer</th>\n",
       "      <th>title_status</th>\n",
       "      <th>transmission</th>\n",
       "      <th>drive</th>\n",
       "      <th>weather</th>\n",
       "      <th>VClass</th>\n",
       "      <th>youSaveSpend</th>\n",
       "      <th>usage_yr</th>\n",
       "      <th>region</th>\n",
       "      <th>division</th>\n",
       "      <th>price_log</th>\n",
       "    </tr>\n",
       "  </thead>\n",
       "  <tbody>\n",
       "    <tr>\n",
       "      <th>0</th>\n",
       "      <td>11900</td>\n",
       "      <td>2010</td>\n",
       "      <td>dodge</td>\n",
       "      <td>6</td>\n",
       "      <td>gas</td>\n",
       "      <td>43600</td>\n",
       "      <td>clean</td>\n",
       "      <td>automatic</td>\n",
       "      <td>rwd</td>\n",
       "      <td>38</td>\n",
       "      <td>midsize cars</td>\n",
       "      <td>-5750</td>\n",
       "      <td>9</td>\n",
       "      <td>Midwest</td>\n",
       "      <td>West North Central</td>\n",
       "      <td>9.384294</td>\n",
       "    </tr>\n",
       "    <tr>\n",
       "      <th>1</th>\n",
       "      <td>2800</td>\n",
       "      <td>2004</td>\n",
       "      <td>ford</td>\n",
       "      <td>6</td>\n",
       "      <td>gas</td>\n",
       "      <td>168591</td>\n",
       "      <td>clean</td>\n",
       "      <td>automatic</td>\n",
       "      <td>fwd</td>\n",
       "      <td>47</td>\n",
       "      <td>large cars</td>\n",
       "      <td>-2250</td>\n",
       "      <td>15</td>\n",
       "      <td>Midwest</td>\n",
       "      <td>West North Central</td>\n",
       "      <td>7.937375</td>\n",
       "    </tr>\n",
       "    <tr>\n",
       "      <th>2</th>\n",
       "      <td>2800</td>\n",
       "      <td>2004</td>\n",
       "      <td>ford</td>\n",
       "      <td>6</td>\n",
       "      <td>gas</td>\n",
       "      <td>168591</td>\n",
       "      <td>clean</td>\n",
       "      <td>automatic</td>\n",
       "      <td>fwd</td>\n",
       "      <td>47</td>\n",
       "      <td>large cars</td>\n",
       "      <td>-2250</td>\n",
       "      <td>15</td>\n",
       "      <td>Midwest</td>\n",
       "      <td>West North Central</td>\n",
       "      <td>7.937375</td>\n",
       "    </tr>\n",
       "    <tr>\n",
       "      <th>3</th>\n",
       "      <td>400</td>\n",
       "      <td>2001</td>\n",
       "      <td>pontiac</td>\n",
       "      <td>0</td>\n",
       "      <td>gas</td>\n",
       "      <td>217000</td>\n",
       "      <td>clean</td>\n",
       "      <td>automatic</td>\n",
       "      <td>fwd</td>\n",
       "      <td>47</td>\n",
       "      <td>midsize cars</td>\n",
       "      <td>-1750</td>\n",
       "      <td>18</td>\n",
       "      <td>Midwest</td>\n",
       "      <td>West North Central</td>\n",
       "      <td>5.991465</td>\n",
       "    </tr>\n",
       "    <tr>\n",
       "      <th>4</th>\n",
       "      <td>9900</td>\n",
       "      <td>2007</td>\n",
       "      <td>gmc</td>\n",
       "      <td>8</td>\n",
       "      <td>gas</td>\n",
       "      <td>169000</td>\n",
       "      <td>clean</td>\n",
       "      <td>automatic</td>\n",
       "      <td>4wd</td>\n",
       "      <td>38</td>\n",
       "      <td>standard pickup trucks 4wd</td>\n",
       "      <td>-5000</td>\n",
       "      <td>12</td>\n",
       "      <td>Midwest</td>\n",
       "      <td>West North Central</td>\n",
       "      <td>9.200290</td>\n",
       "    </tr>\n",
       "  </tbody>\n",
       "</table>\n",
       "</div>"
      ],
      "text/plain": [
       "   price  year manufacturer  cylinders fuel  odometer title_status  \\\n",
       "0  11900  2010        dodge          6  gas     43600        clean   \n",
       "1   2800  2004         ford          6  gas    168591        clean   \n",
       "2   2800  2004         ford          6  gas    168591        clean   \n",
       "3    400  2001      pontiac          0  gas    217000        clean   \n",
       "4   9900  2007          gmc          8  gas    169000        clean   \n",
       "\n",
       "  transmission drive  weather                      VClass  youSaveSpend  \\\n",
       "0    automatic   rwd       38                midsize cars         -5750   \n",
       "1    automatic   fwd       47                  large cars         -2250   \n",
       "2    automatic   fwd       47                  large cars         -2250   \n",
       "3    automatic   fwd       47                midsize cars         -1750   \n",
       "4    automatic   4wd       38  standard pickup trucks 4wd         -5000   \n",
       "\n",
       "   usage_yr   region            division  price_log  \n",
       "0         9  Midwest  West North Central   9.384294  \n",
       "1        15  Midwest  West North Central   7.937375  \n",
       "2        15  Midwest  West North Central   7.937375  \n",
       "3        18  Midwest  West North Central   5.991465  \n",
       "4        12  Midwest  West North Central   9.200290  "
      ]
     },
     "execution_count": 30,
     "metadata": {},
     "output_type": "execute_result"
    }
   ],
   "source": [
    "train_data.head()"
   ]
  },
  {
   "cell_type": "code",
   "execution_count": 31,
   "metadata": {},
   "outputs": [
    {
     "data": {
      "text/plain": [
       "<AxesSubplot:>"
      ]
     },
     "execution_count": 31,
     "metadata": {},
     "output_type": "execute_result"
    },
    {
     "data": {
      "image/png": "[encoded data removed]",
      "text/plain": [
       "<Figure size 432x288 with 1 Axes>"
      ]
     },
     "metadata": {
      "needs_background": "light"
     },
     "output_type": "display_data"
    }
   ],
   "source": [
    "train_data['price'].hist()"
   ]
  },
  {
   "cell_type": "code",
   "execution_count": 32,
   "metadata": {
    "scrolled": true
   },
   "outputs": [
    {
     "data": {
      "text/plain": [
       "<AxesSubplot:>"
      ]
     },
     "execution_count": 32,
     "metadata": {},
     "output_type": "execute_result"
    },
    {
     "data": {
      "image/png": "[encoded data removed]",
      "text/plain": [
       "<Figure size 432x288 with 1 Axes>"
      ]
     },
     "metadata": {
      "needs_background": "light"
     },
     "output_type": "display_data"
    }
   ],
   "source": [
    "train_data['price_log'].hist()"
   ]
  },
  {
   "cell_type": "code",
   "execution_count": 33,
   "metadata": {
    "scrolled": true
   },
   "outputs": [
    {
     "data": {
      "image/png": "[encoded data removed]",
      "text/plain": [
       "<Figure size 432x288 with 1 Axes>"
      ]
     },
     "metadata": {
      "needs_background": "light"
     },
     "output_type": "display_data"
    }
   ],
   "source": [
    "plt.boxplot(train_data['price_log'])\n",
    "plt.show()"
   ]
  },
  {
   "cell_type": "markdown",
   "metadata": {},
   "source": [
    "The above 'price_log' seems having too many outliers, so it is better to remove outliers."
   ]
  },
  {
   "cell_type": "markdown",
   "metadata": {},
   "source": [
    "# Remove Outliers by using IsolationForest."
   ]
  },
  {
   "cell_type": "code",
   "execution_count": 34,
   "metadata": {},
   "outputs": [],
   "source": [
    "train_data = pd.get_dummies(train_data, columns=['fuel','title_status','transmission','drive',\n",
    "                                                 'VClass','region','division','manufacturer'])\n",
    "#feature_columns = list(train_data.columns.difference(['price']))\n"
   ]
  },
  {
   "cell_type": "code",
   "execution_count": 35,
   "metadata": {},
   "outputs": [
    {
     "name": "stderr",
     "output_type": "stream",
     "text": [
      "C:\\Users\\danie\\Anaconda\\lib\\site-packages\\sklearn\\ensemble\\_iforest.py:255: FutureWarning: 'behaviour' is deprecated in 0.22 and will be removed in 0.24. You should not pass or set this parameter.\n",
      "  FutureWarning\n"
     ]
    },
    {
     "name": "stdout",
     "output_type": "stream",
     "text": [
      " 1    516921\n",
      "-1      2076\n",
      "Name: anomaly, dtype: int64\n"
     ]
    }
   ],
   "source": [
    "from sklearn.ensemble import IsolationForest\n",
    "clf=IsolationForest(n_estimators=50, max_samples=50, contamination=float(0.004), \n",
    "                    max_features=1.0, bootstrap=False, n_jobs=-1,\n",
    "                    random_state=None, verbose=0,behaviour=\"new\")\n",
    "# 50개의 노드 수, 최대 50개의 샘플\n",
    "# 0.04%의 outlier 색출.\n",
    "clf.fit(train_data)\n",
    "pred = clf.predict(train_data)\n",
    "train_data['anomaly']=pred\n",
    "outliers=train_data.loc[train_data['anomaly']==-1]\n",
    "outlier_index=list(outliers.index)\n",
    "#print(outlier_index)\n",
    "#Find the number of anomalies and normal points here points classified -1 are anomalous\n",
    "print(train_data['anomaly'].value_counts())"
   ]
  },
  {
   "cell_type": "code",
   "execution_count": 36,
   "metadata": {},
   "outputs": [
    {
     "name": "stdout",
     "output_type": "stream",
     "text": [
      "1        0.106457\n",
      "500      0.089005\n",
      "4500     0.071553\n",
      "3500     0.052356\n",
      "25000    0.052356\n",
      "           ...   \n",
      "187      0.001745\n",
      "199      0.001745\n",
      "2250     0.001745\n",
      "205      0.001745\n",
      "2        0.001745\n",
      "Name: price, Length: 573, dtype: float64\n"
     ]
    }
   ],
   "source": [
    "print(train_data['price'][train_data['anomaly']==-1].value_counts()/len(train_data['price'][train_data['anomaly']==-1].value_counts()))"
   ]
  },
  {
   "cell_type": "code",
   "execution_count": 37,
   "metadata": {},
   "outputs": [
    {
     "name": "stdout",
     "output_type": "stream",
     "text": [
      "2500     0.439518\n",
      "3500     0.424923\n",
      "4500     0.364041\n",
      "1500     0.336049\n",
      "3000     0.330901\n",
      "           ...   \n",
      "7817     0.000050\n",
      "5768     0.000050\n",
      "32389    0.000050\n",
      "20099    0.000050\n",
      "44650    0.000050\n",
      "Name: price, Length: 20006, dtype: float64\n"
     ]
    }
   ],
   "source": [
    "print(train_data['price'][train_data['anomaly']==1].value_counts()/len(train_data['price'][train_data['anomaly']==1].value_counts()))"
   ]
  },
  {
   "cell_type": "markdown",
   "metadata": {},
   "source": [
    "Let's drop rows whose 'anomaly' value is -1."
   ]
  },
  {
   "cell_type": "code",
   "execution_count": 38,
   "metadata": {},
   "outputs": [],
   "source": [
    "train_data.drop(train_data[train_data['anomaly']==-1].index, inplace=True)"
   ]
  },
  {
   "cell_type": "code",
   "execution_count": 39,
   "metadata": {},
   "outputs": [
    {
     "name": "stdout",
     "output_type": "stream",
     "text": [
      "Series([], Name: price, dtype: float64)\n"
     ]
    }
   ],
   "source": [
    "print(train_data['price'][train_data['anomaly']==-1].value_counts()/len(train_data['price'][train_data['anomaly']==-1].value_counts()))"
   ]
  },
  {
   "cell_type": "markdown",
   "metadata": {},
   "source": [
    "Let's drop 'anomaly'."
   ]
  },
  {
   "cell_type": "code",
   "execution_count": 40,
   "metadata": {},
   "outputs": [],
   "source": [
    "train_data.drop(['anomaly'], axis = 1, inplace=True)"
   ]
  },
  {
   "cell_type": "markdown",
   "metadata": {},
   "source": [
    "Let's makes features as X and target as y."
   ]
  },
  {
   "cell_type": "code",
   "execution_count": 41,
   "metadata": {},
   "outputs": [],
   "source": [
    "X = train_data.drop('price', axis=1)\n",
    "y = train_data['price'].values"
   ]
  },
  {
   "cell_type": "code",
   "execution_count": 42,
   "metadata": {},
   "outputs": [],
   "source": [
    "train_data = train_data.astype('int')"
   ]
  },
  {
   "cell_type": "code",
   "execution_count": null,
   "metadata": {},
   "outputs": [],
   "source": []
  },
  {
   "cell_type": "code",
   "execution_count": 43,
   "metadata": {},
   "outputs": [],
   "source": [
    "#from sklearn.tree import DecisionTreeClassifier\n",
    "from sklearn.tree import DecisionTreeRegressor\n",
    "from sklearn.model_selection import train_test_split"
   ]
  },
  {
   "cell_type": "code",
   "execution_count": 44,
   "metadata": {},
   "outputs": [],
   "source": [
    "# Split data\n",
    "X_train, X_test, y_train, y_test = train_test_split(X, y, random_state=0)"
   ]
  },
  {
   "cell_type": "code",
   "execution_count": 45,
   "metadata": {},
   "outputs": [],
   "source": [
    "rt = DecisionTreeRegressor()"
   ]
  },
  {
   "cell_type": "code",
   "execution_count": 46,
   "metadata": {},
   "outputs": [
    {
     "data": {
      "text/plain": [
       "DecisionTreeRegressor()"
      ]
     },
     "execution_count": 46,
     "metadata": {},
     "output_type": "execute_result"
    }
   ],
   "source": [
    "rt.fit(X_train, y_train)"
   ]
  },
  {
   "cell_type": "code",
   "execution_count": 47,
   "metadata": {},
   "outputs": [],
   "source": [
    "from sklearn.model_selection import GridSearchCV"
   ]
  },
  {
   "cell_type": "code",
   "execution_count": null,
   "metadata": {},
   "outputs": [
    {
     "name": "stdout",
     "output_type": "stream",
     "text": [
      "Wall time: 0 ns\n",
      "Fitting 5 folds for each of 3 candidates, totalling 15 fits\n"
     ]
    },
    {
     "name": "stderr",
     "output_type": "stream",
     "text": [
      "[Parallel(n_jobs=1)]: Using backend SequentialBackend with 1 concurrent workers.\n"
     ]
    }
   ],
   "source": [
    "%time\n",
    "params = {'criterion' :['mse', 'friedman_mse', 'mae'],\n",
    "         'max_depth' : [2]}\n",
    "\n",
    "\n",
    "grid_search_cv = GridSearchCV(rt, params, verbose=1, cv=5)\n",
    "grid_search_cv.fit(X_train, y_train)"
   ]
  },
  {
   "cell_type": "code",
   "execution_count": null,
   "metadata": {},
   "outputs": [],
   "source": [
    "print(\"R-Squared::{}\".format(grid_search_cv.best_score_))\n",
    "print(\"Best Hyperparameters::\\n{}\".format(grid_search_cv.best_params_))"
   ]
  },
  {
   "cell_type": "code",
   "execution_count": null,
   "metadata": {},
   "outputs": [],
   "source": []
  },
  {
   "cell_type": "code",
   "execution_count": null,
   "metadata": {},
   "outputs": [],
   "source": []
  },
  {
   "cell_type": "code",
   "execution_count": null,
   "metadata": {},
   "outputs": [],
   "source": []
  },
  {
   "cell_type": "code",
   "execution_count": null,
   "metadata": {},
   "outputs": [],
   "source": [
    "from sklearn.tree import DecisionTreeClassifier\n",
    "from sklearn.model_selection import train_test_split"
   ]
  },
  {
   "cell_type": "code",
   "execution_count": null,
   "metadata": {},
   "outputs": [],
   "source": [
    "# Split data\n",
    "X_train, X_test, y_train, y_test = train_test_split(X, y, random_state=0)"
   ]
  },
  {
   "cell_type": "code",
   "execution_count": null,
   "metadata": {},
   "outputs": [],
   "source": [
    "# Same 3-step process\n",
    "\n",
    "# 1. Instantiate\n",
    "# default criterion=gini\n",
    "# you can swap to criterion=entropy \n",
    "dtc = DecisionTreeClassifier(random_state=0)\n",
    "\n",
    "# 2. Fit\n",
    "dtc.fit(X_train, y_train)\n",
    "\n",
    "# 3. Predict, there're 4 features in the iris dataset\n",
    "y_pred_class = dtc.predict(X_test)"
   ]
  },
  {
   "cell_type": "code",
   "execution_count": null,
   "metadata": {},
   "outputs": [],
   "source": [
    "from sklearn import metrics"
   ]
  },
  {
   "cell_type": "code",
   "execution_count": null,
   "metadata": {},
   "outputs": [],
   "source": [
    "# Accuracy\n",
    "metrics.accuracy_score(y_test, y_pred_class)"
   ]
  },
  {
   "cell_type": "code",
   "execution_count": null,
   "metadata": {},
   "outputs": [],
   "source": [
    "# 1. Instantiate with min_samples_split = 50\n",
    "dtc = DecisionTreeClassifier(min_samples_split=4, random_state=0)\n",
    "\n",
    "# 2. Fit\n",
    "dtc.fit(X_train, y_train)\n",
    "\n",
    "# 3. Predict, there're 4 features in the iris dataset\n",
    "y_pred_class = dtc.predict(X_test)\n",
    "\n",
    "# Accuracy\n",
    "metrics.accuracy_score(y_test, y_pred_class)"
   ]
  },
  {
   "cell_type": "code",
   "execution_count": null,
   "metadata": {},
   "outputs": [],
   "source": [
    "# Import\n",
    "from sklearn.model_selection import GridSearchCV\n",
    "\n",
    "# Define the parameter values that should be searched\n",
    "sample_split_range = list(range(1, 50))\n",
    "\n",
    "# Create a parameter grid: map the parameter names to the values that should be searched\n",
    "# Simply a python dictionary\n",
    "# Key: parameter name\n",
    "# Value: list of values that should be searched for that parameter\n",
    "# Single key-value pair for param_grid\n",
    "param_grid = dict(min_samples_split=sample_split_range)\n",
    "\n",
    "# instantiate the grid\n",
    "grid = GridSearchCV(dtc, param_grid, cv=10, scoring='accuracy')\n",
    "\n",
    "# fit the grid with data\n",
    "grid.fit(X_train, y_train)"
   ]
  },
  {
   "cell_type": "code",
   "execution_count": null,
   "metadata": {},
   "outputs": [],
   "source": [
    "# examine the best model\n",
    "\n",
    "# Single best score achieved across all params (min_samples_split)\n",
    "print(grid.best_score_)\n",
    "\n",
    "# Dictionary containing the parameters (min_samples_split) used to generate that score\n",
    "print(grid.best_params_)\n",
    "\n",
    "# Actual model object fit with those best parameters\n",
    "# Shows default parameters that we did not specify\n",
    "print(grid.best_estimator_)"
   ]
  },
  {
   "cell_type": "code",
   "execution_count": null,
   "metadata": {},
   "outputs": [],
   "source": []
  },
  {
   "cell_type": "code",
   "execution_count": null,
   "metadata": {},
   "outputs": [],
   "source": []
  },
  {
   "cell_type": "code",
   "execution_count": null,
   "metadata": {},
   "outputs": [],
   "source": []
  },
  {
   "cell_type": "code",
   "execution_count": null,
   "metadata": {},
   "outputs": [],
   "source": [
    "from sklearn import decomposition\n",
    "from sklearn import tree\n",
    "from sklearn.pipeline import Pipeline\n",
    "from sklearn.model_selection import GridSearchCV\n",
    "from sklearn.preprocessing import StandardScaler"
   ]
  },
  {
   "cell_type": "code",
   "execution_count": null,
   "metadata": {},
   "outputs": [],
   "source": [
    "# Creating an standardscaler object\n",
    "std_slc = StandardScaler()\n",
    "\n",
    "# Creating a pca object\n",
    "pca = decomposition.PCA()\n",
    "\n",
    "# Creating a DecisionTreeClassifier\n",
    "dec_tree = tree.DecisionTreeClassifier()\n",
    "\n",
    "# Creating a pipeline of three steps. First, standardizing the data.\n",
    "# Second, tranforming the data with PCA.\n",
    "# Third, training a Decision Tree Classifier on the data.\n",
    "pipe = Pipeline(steps=[('std_slc', std_slc),\n",
    "                       ('pca', pca),\n",
    "                       ('dec_tree', dec_tree)])\n",
    "\n",
    "# Creating Parameter Space\n",
    "# Creating a list of a sequence of integers from 1 to 30 (the number of features in X + 1)\n",
    "n_components = list(range(1,X.shape[1]+1,1))\n",
    "\n",
    "# Creating lists of parameter for Decision Tree Classifier\n",
    "criterion = ['gini', 'entropy']\n",
    "max_depth = [2,4,6,8,10,12]\n",
    "\n",
    "# Creating a dictionary of all the parameter options \n",
    "# Note that we can access the parameters of steps of a pipeline by using '__’\n",
    "parameters = dict(pca__n_components=n_components,\n",
    "                  dec_tree__criterion=criterion,\n",
    "                  dec_tree__max_depth=max_depth)\n",
    "\n",
    "# Conducting Parameter Optmization With Pipeline\n",
    "# Creating a grid search object\n",
    "clf_GS = GridSearchCV(pipe, parameters)\n",
    "\n",
    "# Fitting the grid search\n",
    "clf_GS.fit(X, y)\n",
    "\n",
    "# Viewing The Best Parameters\n",
    "print('Best Criterion:', clf_GS.best_estimator_.get_params()['dec_tree__criterion'])\n",
    "print('Best max_depth:', clf_GS.best_estimator_.get_params()['dec_tree__max_depth'])\n",
    "print('Best Number Of Components:', clf_GS.best_estimator_.get_params()['pca__n_components'])\n",
    "print(); print(clf_GS.best_estimator_.get_params()['dec_tree'])"
   ]
  },
  {
   "cell_type": "code",
   "execution_count": null,
   "metadata": {},
   "outputs": [],
   "source": []
  },
  {
   "cell_type": "code",
   "execution_count": null,
   "metadata": {},
   "outputs": [],
   "source": [
    "from sklearn.model_selection import train_test_split\n",
    "train_x, test_x, train_y, test_y = train_test_split(X, y, test_size = 0.2, random_state = 42) "
   ]
  },
  {
   "cell_type": "code",
   "execution_count": null,
   "metadata": {},
   "outputs": [],
   "source": [
    "%time\n",
    "from sklearn.tree import DecisionTreeRegressor\n",
    "from sklearn.model_selection import GridSearchCV\n",
    "\n",
    "dtm = DecisionTreeRegressor(max_depth=4,\n",
    "                           min_samples_split=5,\n",
    "                           max_leaf_nodes=10)\n",
    "\n",
    "dtm.fit(X,y)\n",
    "print(\"R-Squared on train dataset={}\".format(dtm.score(test_x, test_y)))\n",
    "\n",
    "dtm.fit(test_x, test_y)   \n",
    "print(\"R-Squaredon test dataset={}\".format(dtm.score(test_x, test_y)))"
   ]
  },
  {
   "cell_type": "code",
   "execution_count": null,
   "metadata": {},
   "outputs": [],
   "source": [
    "%time\n",
    "#param_grid = {\"max_depth\": [4]}\n",
    "param_grid = {criterion :['mse', 'friedman_mse', 'mae']}\n",
    "\n",
    "## Comment in order to publish in kaggle.\n",
    "\n",
    "grid_cv_dtm = GridSearchCV(dtm, param_grid, cv=5)\n",
    "\n",
    "grid_cv_dtm.fit(X,y)"
   ]
  },
  {
   "cell_type": "code",
   "execution_count": null,
   "metadata": {},
   "outputs": [],
   "source": [
    "print(\"R-Squared::{}\".format(grid_cv_dtm.best_score_))\n",
    "print(\"Best Hyperparameters::\\n{}\".format(grid_cv_dtm.best_params_))"
   ]
  },
  {
   "cell_type": "code",
   "execution_count": null,
   "metadata": {},
   "outputs": [],
   "source": []
  },
  {
   "cell_type": "code",
   "execution_count": null,
   "metadata": {},
   "outputs": [],
   "source": []
  },
  {
   "cell_type": "markdown",
   "metadata": {},
   "source": [
    "# Decision Tree + GridSearch"
   ]
  },
  {
   "cell_type": "code",
   "execution_count": null,
   "metadata": {},
   "outputs": [],
   "source": [
    "from sklearn.model_selection import train_test_split\n",
    "train_x, test_x, train_y, test_y = train_test_split(X, y, test_size = 0.2, random_state = 42) \n",
    "\n",
    "from sklearn.tree import DecisionTreeRegressor\n",
    "from sklearn.model_selection import GridSearchCV\n",
    "\n",
    "params = {'max_leaf_nodes': list(range(2, 3)), 'min_samples_split': [2, 3, 4]}\n",
    "\n",
    "grid_search_cv = GridSearchCV(DecisionTreeRegressor(random_state=42), params, verbose=1, cv=3)\n",
    "grid_search_cv.fit(train_x, train_y)"
   ]
  },
  {
   "cell_type": "code",
   "execution_count": null,
   "metadata": {
    "scrolled": true
   },
   "outputs": [],
   "source": [
    "grid_search_cv.best_estimator_"
   ]
  },
  {
   "cell_type": "code",
   "execution_count": null,
   "metadata": {},
   "outputs": [],
   "source": [
    "grid_search_cv.plot_tree(clf);"
   ]
  },
  {
   "cell_type": "code",
   "execution_count": null,
   "metadata": {},
   "outputs": [],
   "source": []
  },
  {
   "cell_type": "code",
   "execution_count": null,
   "metadata": {},
   "outputs": [],
   "source": []
  },
  {
   "cell_type": "code",
   "execution_count": null,
   "metadata": {},
   "outputs": [],
   "source": []
  },
  {
   "cell_type": "markdown",
   "metadata": {},
   "source": [
    "# Random Forest"
   ]
  },
  {
   "cell_type": "markdown",
   "metadata": {},
   "source": [
    "Splitting the dataset into training set and test set"
   ]
  },
  {
   "cell_type": "code",
   "execution_count": null,
   "metadata": {},
   "outputs": [],
   "source": [
    "from sklearn.model_selection import train_test_split\n",
    "train_x, test_x, train_y, test_y = train_test_split(X, y, test_size = 0.2, random_state = 42) # 학습데이터와 평가데이터의 비율을 8:2 로 분할| \n",
    "print(train_x.shape, test_x.shape, train_y.shape, test_y.shape) #"
   ]
  },
  {
   "cell_type": "markdown",
   "metadata": {},
   "source": [
    "Creating a Random Forest Regression model and fitting it to the training data"
   ]
  },
  {
   "cell_type": "code",
   "execution_count": null,
   "metadata": {
    "scrolled": true
   },
   "outputs": [],
   "source": [
    "from sklearn.ensemble import RandomForestRegressor\n",
    "regressor = RandomForestRegressor(n_estimators = 100, random_state = 42)\n",
    "regressor.fit(train_x, train_y)"
   ]
  },
  {
   "cell_type": "markdown",
   "metadata": {},
   "source": [
    "Prediction"
   ]
  },
  {
   "cell_type": "code",
   "execution_count": null,
   "metadata": {},
   "outputs": [],
   "source": [
    "y_pred = regressor.predict(test_x)\n",
    "y_pred"
   ]
  },
  {
   "cell_type": "markdown",
   "metadata": {},
   "source": [
    "Model Evaluation"
   ]
  },
  {
   "cell_type": "code",
   "execution_count": null,
   "metadata": {},
   "outputs": [],
   "source": [
    "from sklearn.metrics import r2_score,mean_squared_error\n",
    "mse = mean_squared_error(test_y, y_pred)\n",
    "rmse = np.sqrt(mse)\n",
    "rmse"
   ]
  },
  {
   "cell_type": "code",
   "execution_count": null,
   "metadata": {},
   "outputs": [],
   "source": []
  },
  {
   "cell_type": "code",
   "execution_count": null,
   "metadata": {},
   "outputs": [],
   "source": []
  },
  {
   "cell_type": "code",
   "execution_count": null,
   "metadata": {},
   "outputs": [],
   "source": []
  },
  {
   "cell_type": "markdown",
   "metadata": {},
   "source": [
    "Visualizing the Random Forest Regression results"
   ]
  },
  {
   "cell_type": "code",
   "execution_count": null,
   "metadata": {},
   "outputs": [],
   "source": []
  },
  {
   "cell_type": "markdown",
   "metadata": {},
   "source": [
    "Other Validation"
   ]
  },
  {
   "cell_type": "code",
   "execution_count": null,
   "metadata": {},
   "outputs": [],
   "source": [
    "from sklearn.ensemble import RandomForestClassifier\n",
    "from sklearn.metrics import accuracy_score\n",
    "random_forest_model1 = RandomForestClassifier(n_estimators = 20, \n",
    "                                             max_depth = 5, \n",
    "                                             random_state = 42)\n",
    "model1 = random_forest_model1.fit(train_x, train_y) \n",
    "predict1 = model1.predict(test_x) \n",
    "print(\"Accuracy: %.2f\" % (accuracy_score(test_y, predict1) * 100), \"%\") "
   ]
  },
  {
   "cell_type": "markdown",
   "metadata": {},
   "source": [
    "What about setting more trees?"
   ]
  },
  {
   "cell_type": "code",
   "execution_count": null,
   "metadata": {},
   "outputs": [],
   "source": [
    "random_forest_model2 = RandomForestClassifier(n_estimators = 300, \n",
    "                                             max_depth = 5, \n",
    "                                             random_state = 42) \n",
    "model2 = random_forest_model2.fit(train_x, train_y) \n",
    "predict2 = model2.predict(test_x) \n",
    "print(\"Accuracy: %.2f\" % (accuracy_score(test_y, predict2) * 100), \"%\")"
   ]
  },
  {
   "cell_type": "markdown",
   "metadata": {},
   "source": [
    "What about more depth of tree?"
   ]
  },
  {
   "cell_type": "code",
   "execution_count": null,
   "metadata": {},
   "outputs": [],
   "source": [
    "random_forest_model3 = RandomForestClassifier(n_estimators = 300, \n",
    "                                             max_depth = 20, \n",
    "                                             random_state = 42) \n",
    "model3 = random_forest_model3.fit(train_x, train_y) \n",
    "predict3 = model3.predict(test_x) \n",
    "print(\"Accuracy: %.2f\" % (accuracy_score(test_y, predict3) * 100), \"%\") "
   ]
  },
  {
   "cell_type": "markdown",
   "metadata": {},
   "source": [
    "What about even more depth?"
   ]
  },
  {
   "cell_type": "code",
   "execution_count": null,
   "metadata": {},
   "outputs": [],
   "source": [
    "random_forest_model4 = RandomForestClassifier(n_estimators = 300, \n",
    "                                             max_depth = 100, \n",
    "                                             random_state = 42) \n",
    "model4 = random_forest_model4.fit(train_x, train_y) \n",
    "predict4 = model4.predict(test_x) \n",
    "print(\"Accuracy: %.2f\" % (accuracy_score(test_y, predict4) * 100), \"%\") "
   ]
  },
  {
   "cell_type": "code",
   "execution_count": null,
   "metadata": {},
   "outputs": [],
   "source": []
  },
  {
   "cell_type": "code",
   "execution_count": null,
   "metadata": {},
   "outputs": [],
   "source": []
  },
  {
   "cell_type": "markdown",
   "metadata": {},
   "source": [
    "Let's add price bracket by every $500 increase."
   ]
  },
  {
   "cell_type": "code",
   "execution_count": null,
   "metadata": {},
   "outputs": [],
   "source": [
    "train_data.loc[(train_data['price'] > 0 & train_data['price'] <= 500),'price_range']=500\n",
    "train_data.loc[(train_data['price'] > 500 & train_data['price'] <= 1000),'price_range']=1000\n",
    "train_data.loc[(train_data['price'] > 1000 & train_data['price'] <= 1500),'price_range']=1500\n",
    "train_data.loc[(train_data['price'] > 1500 & train_data['price'] <= 2000),'price_range']=2000\n",
    "train_data.loc[(train_data['price'] > 2000 & train_data['price'] <= 2500),'price_range']=2500\n",
    "train_data.loc[(train_data['price'] > 2500 & train_data['price'] <= 3000),'price_range']=3000\n",
    "train_data.loc[(train_data['price'] > 2500 & train_data['price'] <= 3000),'price_range']=3500\n",
    "train_data.loc[(train_data['price'] > 2500 & train_data['price'] <= 3000),'price_range']=4000\n",
    "train_data.loc[(train_data['price'] > 2500 & train_data['price'] <= 3000),'price_range']=4500\n",
    "train_data.loc[(train_data['price'] > 2500 & train_data['price'] <= 3000),'price_range']=5000\n",
    "train_data.loc[(train_data['price'] > 2500 & train_data['price'] <= 3000),'price_range']=5500\n",
    "train_data.loc[(train_data['price'] > 2500 & train_data['price'] <= 3000),'price_range']=6000\n",
    "train_data.loc[(train_data['price'] > 2500 & train_data['price'] <= 3000),'price_range']=6500\n",
    "train_data.loc[(train_data['price'] > 2500 & train_data['price'] <= 3000),'price_range']=7000\n",
    "train_data.loc[(train_data['price'] > 2500 & train_data['price'] <= 3000),'price_range']=7500\n",
    "train_data.loc[(train_data['price'] > 2500 & train_data['price'] <= 3000),'price_range']=8000\n",
    "train_data.loc[(train_data['price'] > 2500 & train_data['price'] <= 3000),'price_range']=8500\n",
    "train_data.loc[(train_data['price'] > 2500 & train_data['price'] <= 3000),'price_range']=9000\n",
    "train_data.loc[(train_data['price'] > 2500 & train_data['price'] <= 3000),'price_range']=9500"
   ]
  },
  {
   "cell_type": "code",
   "execution_count": null,
   "metadata": {},
   "outputs": [],
   "source": [
    "train_data['manufacturer'][train_data.price == 1500000000]"
   ]
  },
  {
   "cell_type": "code",
   "execution_count": null,
   "metadata": {},
   "outputs": [],
   "source": []
  },
  {
   "cell_type": "code",
   "execution_count": null,
   "metadata": {
    "scrolled": true
   },
   "outputs": [],
   "source": [
    "train_data['VClass'].hist();"
   ]
  },
  {
   "cell_type": "code",
   "execution_count": null,
   "metadata": {},
   "outputs": [],
   "source": [
    "train_data.price.hist();"
   ]
  },
  {
   "cell_type": "markdown",
   "metadata": {},
   "source": [
    "Heatmap"
   ]
  },
  {
   "cell_type": "markdown",
   "metadata": {},
   "source": [
    "sns.pairplot(train_data);"
   ]
  },
  {
   "cell_type": "markdown",
   "metadata": {
    "scrolled": true
   },
   "source": [
    "sns.pairplot(train_data, hue='VClass');"
   ]
  },
  {
   "cell_type": "markdown",
   "metadata": {},
   "source": [
    "sns.pairplot(train_data, hue='division');"
   ]
  },
  {
   "cell_type": "markdown",
   "metadata": {},
   "source": [
    "sns.pairplot(train_data, hue='usage_yr');"
   ]
  },
  {
   "cell_type": "markdown",
   "metadata": {},
   "source": [
    "sns.pairplot(train_data, hue='cylinders');"
   ]
  },
  {
   "cell_type": "markdown",
   "metadata": {},
   "source": [
    "sns.pairplot(train_data, hue='fuel');"
   ]
  },
  {
   "cell_type": "markdown",
   "metadata": {},
   "source": [
    "sns.pairplot(train_data, hue='title_status');"
   ]
  },
  {
   "cell_type": "markdown",
   "metadata": {},
   "source": [
    "sns.pairplot(train_data, hue='transmission');"
   ]
  },
  {
   "cell_type": "markdown",
   "metadata": {},
   "source": [
    "sns.pairplot(train_data, hue='drive');"
   ]
  },
  {
   "cell_type": "markdown",
   "metadata": {},
   "source": [
    "# One Hot Encoding"
   ]
  },
  {
   "cell_type": "code",
   "execution_count": null,
   "metadata": {},
   "outputs": [],
   "source": []
  },
  {
   "cell_type": "code",
   "execution_count": null,
   "metadata": {},
   "outputs": [],
   "source": []
  },
  {
   "cell_type": "code",
   "execution_count": null,
   "metadata": {},
   "outputs": [],
   "source": [
    "train_data"
   ]
  },
  {
   "cell_type": "code",
   "execution_count": null,
   "metadata": {},
   "outputs": [],
   "source": [
    "import graphviz \n",
    "dot_data = tree.export_graphviz(clf, out_file=None, \n",
    "                                filled=True, rounded=True,  \n",
    "                                special_characters=True)  \n",
    "graph = graphviz.Source(dot_data)  \n",
    "graph "
   ]
  },
  {
   "cell_type": "code",
   "execution_count": null,
   "metadata": {},
   "outputs": [],
   "source": [
    "import graphviz \n",
    "dot_data = tree.export_graphviz(clf, out_file=None) \n",
    "graph = graphviz.Source(dot_data) \n"
   ]
  },
  {
   "cell_type": "code",
   "execution_count": null,
   "metadata": {},
   "outputs": [],
   "source": [
    "graph"
   ]
  },
  {
   "cell_type": "code",
   "execution_count": null,
   "metadata": {},
   "outputs": [],
   "source": []
  },
  {
   "cell_type": "code",
   "execution_count": null,
   "metadata": {},
   "outputs": [],
   "source": []
  },
  {
   "cell_type": "code",
   "execution_count": null,
   "metadata": {},
   "outputs": [],
   "source": []
  },
  {
   "cell_type": "code",
   "execution_count": null,
   "metadata": {},
   "outputs": [],
   "source": []
  },
  {
   "cell_type": "code",
   "execution_count": null,
   "metadata": {},
   "outputs": [],
   "source": []
  },
  {
   "cell_type": "code",
   "execution_count": null,
   "metadata": {},
   "outputs": [],
   "source": []
  },
  {
   "cell_type": "code",
   "execution_count": null,
   "metadata": {},
   "outputs": [],
   "source": []
  },
  {
   "cell_type": "code",
   "execution_count": null,
   "metadata": {},
   "outputs": [],
   "source": []
  },
  {
   "cell_type": "code",
   "execution_count": null,
   "metadata": {},
   "outputs": [],
   "source": []
  },
  {
   "cell_type": "code",
   "execution_count": null,
   "metadata": {},
   "outputs": [],
   "source": []
  },
  {
   "cell_type": "code",
   "execution_count": null,
   "metadata": {},
   "outputs": [],
   "source": []
  }
 ],
 "metadata": {
  "kernelspec": {
   "display_name": "Python 3",
   "language": "python",
   "name": "python3"
  },
  "language_info": {
   "codemirror_mode": {
    "name": "ipython",
    "version": 3
   },
   "file_extension": ".py",
   "mimetype": "text/x-python",
   "name": "python",
   "nbconvert_exporter": "python",
   "pygments_lexer": "ipython3",
   "version": "3.7.9"
  }
 },
 "nbformat": 4,
 "nbformat_minor": 4
}
