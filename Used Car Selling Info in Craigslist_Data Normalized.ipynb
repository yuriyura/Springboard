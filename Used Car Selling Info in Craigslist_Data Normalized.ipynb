{
 "cells": [
  {
   "cell_type": "markdown",
   "metadata": {},
   "source": [
    "# Import Data (csv file)"
   ]
  },
  {
   "cell_type": "code",
   "execution_count": 1,
   "metadata": {},
   "outputs": [
    {
     "name": "stderr",
     "output_type": "stream",
     "text": [
      "C:\\Users\\danie\\Anaconda\\lib\\site-packages\\IPython\\core\\interactiveshell.py:3146: DtypeWarning: Columns (2,3) have mixed types.Specify dtype option on import or set low_memory=False.\n",
      "  interactivity=interactivity, compiler=compiler, result=result)\n"
     ]
    }
   ],
   "source": [
    "import pandas as pd\n",
    "import numpy as np\n",
    "from tqdm import tqdm\n",
    "import time\n",
    "pd.set_option('display.max_rows', 500)\n",
    "pd.set_option('display.max_columns', 500)\n",
    "\n",
    "df = pd.read_csv(\"craigslistVehiclesFull.csv\", encoding='latin-1');"
   ]
  },
  {
   "cell_type": "markdown",
   "metadata": {},
   "source": [
    "# Inspect Data"
   ]
  },
  {
   "cell_type": "code",
   "execution_count": 2,
   "metadata": {
    "scrolled": false
   },
   "outputs": [
    {
     "data": {
      "text/html": [
       "<div>\n",
       "<style scoped>\n",
       "    .dataframe tbody tr th:only-of-type {\n",
       "        vertical-align: middle;\n",
       "    }\n",
       "\n",
       "    .dataframe tbody tr th {\n",
       "        vertical-align: top;\n",
       "    }\n",
       "\n",
       "    .dataframe thead th {\n",
       "        text-align: right;\n",
       "    }\n",
       "</style>\n",
       "<table border=\"1\" class=\"dataframe\">\n",
       "  <thead>\n",
       "    <tr style=\"text-align: right;\">\n",
       "      <th></th>\n",
       "      <th>url</th>\n",
       "      <th>city</th>\n",
       "      <th>price</th>\n",
       "      <th>year</th>\n",
       "      <th>manufacturer</th>\n",
       "      <th>make</th>\n",
       "      <th>condition</th>\n",
       "      <th>cylinders</th>\n",
       "      <th>fuel</th>\n",
       "      <th>odometer</th>\n",
       "      <th>title_status</th>\n",
       "      <th>transmission</th>\n",
       "      <th>vin</th>\n",
       "      <th>drive</th>\n",
       "      <th>size</th>\n",
       "      <th>type</th>\n",
       "      <th>paint_color</th>\n",
       "      <th>image_url</th>\n",
       "      <th>lat</th>\n",
       "      <th>long</th>\n",
       "      <th>county_fips</th>\n",
       "      <th>county_name</th>\n",
       "      <th>state_fips</th>\n",
       "      <th>state_code</th>\n",
       "      <th>state_name</th>\n",
       "      <th>weather</th>\n",
       "    </tr>\n",
       "  </thead>\n",
       "  <tbody>\n",
       "    <tr>\n",
       "      <th>0</th>\n",
       "      <td>https://marshall.craigslist.org/cto/d/2010-dod...</td>\n",
       "      <td>marshall</td>\n",
       "      <td>11900</td>\n",
       "      <td>2010</td>\n",
       "      <td>dodge</td>\n",
       "      <td>challenger se</td>\n",
       "      <td>good</td>\n",
       "      <td>6 cylinders</td>\n",
       "      <td>gas</td>\n",
       "      <td>43600.0</td>\n",
       "      <td>clean</td>\n",
       "      <td>automatic</td>\n",
       "      <td>NaN</td>\n",
       "      <td>rwd</td>\n",
       "      <td>NaN</td>\n",
       "      <td>coupe</td>\n",
       "      <td>red</td>\n",
       "      <td>https://images.craigslist.org/00i0i_2ggH1eKDNK...</td>\n",
       "      <td>43.4775</td>\n",
       "      <td>-96.7041</td>\n",
       "      <td>46083.0</td>\n",
       "      <td>Lincoln</td>\n",
       "      <td>46.0</td>\n",
       "      <td>SD</td>\n",
       "      <td>South Dakota</td>\n",
       "      <td>38.0</td>\n",
       "    </tr>\n",
       "    <tr>\n",
       "      <th>1</th>\n",
       "      <td>https://marshall.craigslist.org/cto/d/fleetwoo...</td>\n",
       "      <td>marshall</td>\n",
       "      <td>1515</td>\n",
       "      <td>1999</td>\n",
       "      <td>NaN</td>\n",
       "      <td>fleetwood</td>\n",
       "      <td>NaN</td>\n",
       "      <td>NaN</td>\n",
       "      <td>gas</td>\n",
       "      <td>NaN</td>\n",
       "      <td>clean</td>\n",
       "      <td>other</td>\n",
       "      <td>NaN</td>\n",
       "      <td>NaN</td>\n",
       "      <td>NaN</td>\n",
       "      <td>NaN</td>\n",
       "      <td>NaN</td>\n",
       "      <td>https://images.craigslist.org/00M0M_irjh7SjEcU...</td>\n",
       "      <td>44.7612</td>\n",
       "      <td>-96.6907</td>\n",
       "      <td>46039.0</td>\n",
       "      <td>Deuel</td>\n",
       "      <td>46.0</td>\n",
       "      <td>SD</td>\n",
       "      <td>South Dakota</td>\n",
       "      <td>38.0</td>\n",
       "    </tr>\n",
       "    <tr>\n",
       "      <th>2</th>\n",
       "      <td>https://marshall.craigslist.org/cto/d/2008-for...</td>\n",
       "      <td>marshall</td>\n",
       "      <td>17550</td>\n",
       "      <td>2008</td>\n",
       "      <td>ford</td>\n",
       "      <td>f-150</td>\n",
       "      <td>NaN</td>\n",
       "      <td>NaN</td>\n",
       "      <td>gas</td>\n",
       "      <td>NaN</td>\n",
       "      <td>clean</td>\n",
       "      <td>automatic</td>\n",
       "      <td>NaN</td>\n",
       "      <td>NaN</td>\n",
       "      <td>NaN</td>\n",
       "      <td>NaN</td>\n",
       "      <td>NaN</td>\n",
       "      <td>https://images.craigslist.org/00s0s_eL2XFhEUcx...</td>\n",
       "      <td>44.1415</td>\n",
       "      <td>-103.2052</td>\n",
       "      <td>46093.0</td>\n",
       "      <td>Meade</td>\n",
       "      <td>46.0</td>\n",
       "      <td>SD</td>\n",
       "      <td>South Dakota</td>\n",
       "      <td>38.0</td>\n",
       "    </tr>\n",
       "    <tr>\n",
       "      <th>3</th>\n",
       "      <td>https://marshall.craigslist.org/cto/d/ford-tau...</td>\n",
       "      <td>marshall</td>\n",
       "      <td>2800</td>\n",
       "      <td>2004</td>\n",
       "      <td>ford</td>\n",
       "      <td>taurus</td>\n",
       "      <td>good</td>\n",
       "      <td>6 cylinders</td>\n",
       "      <td>gas</td>\n",
       "      <td>168591.0</td>\n",
       "      <td>clean</td>\n",
       "      <td>automatic</td>\n",
       "      <td>1FAFP55UO4G113464</td>\n",
       "      <td>fwd</td>\n",
       "      <td>full-size</td>\n",
       "      <td>sedan</td>\n",
       "      <td>grey</td>\n",
       "      <td>https://images.craigslist.org/00L0L_5HUR1nQjt8...</td>\n",
       "      <td>43.2845</td>\n",
       "      <td>-95.5930</td>\n",
       "      <td>19143.0</td>\n",
       "      <td>Osceola</td>\n",
       "      <td>19.0</td>\n",
       "      <td>IA</td>\n",
       "      <td>Iowa</td>\n",
       "      <td>47.0</td>\n",
       "    </tr>\n",
       "    <tr>\n",
       "      <th>4</th>\n",
       "      <td>https://marshall.craigslist.org/cto/d/2001-gra...</td>\n",
       "      <td>marshall</td>\n",
       "      <td>400</td>\n",
       "      <td>2001</td>\n",
       "      <td>NaN</td>\n",
       "      <td>2001 Grand Prix</td>\n",
       "      <td>NaN</td>\n",
       "      <td>NaN</td>\n",
       "      <td>gas</td>\n",
       "      <td>217000.0</td>\n",
       "      <td>clean</td>\n",
       "      <td>automatic</td>\n",
       "      <td>NaN</td>\n",
       "      <td>NaN</td>\n",
       "      <td>NaN</td>\n",
       "      <td>NaN</td>\n",
       "      <td>NaN</td>\n",
       "      <td>https://images.craigslist.org/00n0n_bJJ1XnonSG...</td>\n",
       "      <td>43.0261</td>\n",
       "      <td>-94.4064</td>\n",
       "      <td>19109.0</td>\n",
       "      <td>Kossuth</td>\n",
       "      <td>19.0</td>\n",
       "      <td>IA</td>\n",
       "      <td>Iowa</td>\n",
       "      <td>47.0</td>\n",
       "    </tr>\n",
       "  </tbody>\n",
       "</table>\n",
       "</div>"
      ],
      "text/plain": [
       "                                                 url      city  price  year  \\\n",
       "0  https://marshall.craigslist.org/cto/d/2010-dod...  marshall  11900  2010   \n",
       "1  https://marshall.craigslist.org/cto/d/fleetwoo...  marshall   1515  1999   \n",
       "2  https://marshall.craigslist.org/cto/d/2008-for...  marshall  17550  2008   \n",
       "3  https://marshall.craigslist.org/cto/d/ford-tau...  marshall   2800  2004   \n",
       "4  https://marshall.craigslist.org/cto/d/2001-gra...  marshall    400  2001   \n",
       "\n",
       "  manufacturer             make condition    cylinders fuel  odometer  \\\n",
       "0        dodge    challenger se      good  6 cylinders  gas   43600.0   \n",
       "1          NaN        fleetwood       NaN          NaN  gas       NaN   \n",
       "2         ford            f-150       NaN          NaN  gas       NaN   \n",
       "3         ford           taurus      good  6 cylinders  gas  168591.0   \n",
       "4          NaN  2001 Grand Prix       NaN          NaN  gas  217000.0   \n",
       "\n",
       "  title_status transmission                vin drive       size   type  \\\n",
       "0        clean    automatic                NaN   rwd        NaN  coupe   \n",
       "1        clean        other                NaN   NaN        NaN    NaN   \n",
       "2        clean    automatic                NaN   NaN        NaN    NaN   \n",
       "3        clean    automatic  1FAFP55UO4G113464   fwd  full-size  sedan   \n",
       "4        clean    automatic                NaN   NaN        NaN    NaN   \n",
       "\n",
       "  paint_color                                          image_url      lat  \\\n",
       "0         red  https://images.craigslist.org/00i0i_2ggH1eKDNK...  43.4775   \n",
       "1         NaN  https://images.craigslist.org/00M0M_irjh7SjEcU...  44.7612   \n",
       "2         NaN  https://images.craigslist.org/00s0s_eL2XFhEUcx...  44.1415   \n",
       "3        grey  https://images.craigslist.org/00L0L_5HUR1nQjt8...  43.2845   \n",
       "4         NaN  https://images.craigslist.org/00n0n_bJJ1XnonSG...  43.0261   \n",
       "\n",
       "       long  county_fips county_name  state_fips state_code    state_name  \\\n",
       "0  -96.7041      46083.0     Lincoln        46.0         SD  South Dakota   \n",
       "1  -96.6907      46039.0       Deuel        46.0         SD  South Dakota   \n",
       "2 -103.2052      46093.0       Meade        46.0         SD  South Dakota   \n",
       "3  -95.5930      19143.0     Osceola        19.0         IA          Iowa   \n",
       "4  -94.4064      19109.0     Kossuth        19.0         IA          Iowa   \n",
       "\n",
       "   weather  \n",
       "0     38.0  \n",
       "1     38.0  \n",
       "2     38.0  \n",
       "3     47.0  \n",
       "4     47.0  "
      ]
     },
     "execution_count": 2,
     "metadata": {},
     "output_type": "execute_result"
    }
   ],
   "source": [
    "df.head()"
   ]
  },
  {
   "cell_type": "code",
   "execution_count": 3,
   "metadata": {},
   "outputs": [
    {
     "data": {
      "text/html": [
       "<div>\n",
       "<style scoped>\n",
       "    .dataframe tbody tr th:only-of-type {\n",
       "        vertical-align: middle;\n",
       "    }\n",
       "\n",
       "    .dataframe tbody tr th {\n",
       "        vertical-align: top;\n",
       "    }\n",
       "\n",
       "    .dataframe thead th {\n",
       "        text-align: right;\n",
       "    }\n",
       "</style>\n",
       "<table border=\"1\" class=\"dataframe\">\n",
       "  <thead>\n",
       "    <tr style=\"text-align: right;\">\n",
       "      <th></th>\n",
       "      <th>url</th>\n",
       "      <th>city</th>\n",
       "      <th>price</th>\n",
       "      <th>year</th>\n",
       "      <th>manufacturer</th>\n",
       "      <th>make</th>\n",
       "      <th>condition</th>\n",
       "      <th>cylinders</th>\n",
       "      <th>fuel</th>\n",
       "      <th>odometer</th>\n",
       "      <th>title_status</th>\n",
       "      <th>transmission</th>\n",
       "      <th>vin</th>\n",
       "      <th>drive</th>\n",
       "      <th>size</th>\n",
       "      <th>type</th>\n",
       "      <th>paint_color</th>\n",
       "      <th>image_url</th>\n",
       "      <th>lat</th>\n",
       "      <th>long</th>\n",
       "      <th>county_fips</th>\n",
       "      <th>county_name</th>\n",
       "      <th>state_fips</th>\n",
       "      <th>state_code</th>\n",
       "      <th>state_name</th>\n",
       "      <th>weather</th>\n",
       "    </tr>\n",
       "  </thead>\n",
       "  <tbody>\n",
       "    <tr>\n",
       "      <th>1049195</th>\n",
       "      <td>https://topeka.craigslist.org/ctd/d/2006-chevr...</td>\n",
       "      <td>topeka</td>\n",
       "      <td>7995</td>\n",
       "      <td>2006</td>\n",
       "      <td>chevrolet</td>\n",
       "      <td>silverado 2500 hd crew</td>\n",
       "      <td>NaN</td>\n",
       "      <td>NaN</td>\n",
       "      <td>gas</td>\n",
       "      <td>NaN</td>\n",
       "      <td>clean</td>\n",
       "      <td>automatic</td>\n",
       "      <td>1GCHC23U06F138406</td>\n",
       "      <td>NaN</td>\n",
       "      <td>NaN</td>\n",
       "      <td>NaN</td>\n",
       "      <td>NaN</td>\n",
       "      <td>https://images.craigslist.org/00A0A_l1r21OrSdJ...</td>\n",
       "      <td>38.6419</td>\n",
       "      <td>-94.3285</td>\n",
       "      <td>29037.0</td>\n",
       "      <td>Cass/Van Buren</td>\n",
       "      <td>29.0</td>\n",
       "      <td>MO</td>\n",
       "      <td>Missouri</td>\n",
       "      <td>52.0</td>\n",
       "    </tr>\n",
       "    <tr>\n",
       "      <th>1049196</th>\n",
       "      <td>https://westky.craigslist.org/cto/d/2008-acura...</td>\n",
       "      <td>westky</td>\n",
       "      <td>10900</td>\n",
       "      <td>2008</td>\n",
       "      <td>acura</td>\n",
       "      <td>tl</td>\n",
       "      <td>NaN</td>\n",
       "      <td>NaN</td>\n",
       "      <td>gas</td>\n",
       "      <td>NaN</td>\n",
       "      <td>clean</td>\n",
       "      <td>automatic</td>\n",
       "      <td>NaN</td>\n",
       "      <td>NaN</td>\n",
       "      <td>NaN</td>\n",
       "      <td>NaN</td>\n",
       "      <td>NaN</td>\n",
       "      <td>https://images.craigslist.org/00606_hGCTgk1rVL...</td>\n",
       "      <td>37.3879</td>\n",
       "      <td>-89.6519</td>\n",
       "      <td>29031.0</td>\n",
       "      <td>Cape Girardeau</td>\n",
       "      <td>29.0</td>\n",
       "      <td>MO</td>\n",
       "      <td>Missouri</td>\n",
       "      <td>52.0</td>\n",
       "    </tr>\n",
       "    <tr>\n",
       "      <th>1049197</th>\n",
       "      <td>https://jacksonville.craigslist.org/cto/d/dump...</td>\n",
       "      <td>jacksonville</td>\n",
       "      <td>40000</td>\n",
       "      <td>2006</td>\n",
       "      <td>ford</td>\n",
       "      <td>sterling</td>\n",
       "      <td>excellent</td>\n",
       "      <td>other</td>\n",
       "      <td>diesel</td>\n",
       "      <td>350000.0</td>\n",
       "      <td>clean</td>\n",
       "      <td>manual</td>\n",
       "      <td>NaN</td>\n",
       "      <td>NaN</td>\n",
       "      <td>full-size</td>\n",
       "      <td>truck</td>\n",
       "      <td>red</td>\n",
       "      <td>https://images.craigslist.org/00f0f_gohYgKDsQZ...</td>\n",
       "      <td>38.7071</td>\n",
       "      <td>-90.3055</td>\n",
       "      <td>29189.0</td>\n",
       "      <td>St. Louis</td>\n",
       "      <td>29.0</td>\n",
       "      <td>MO</td>\n",
       "      <td>Missouri</td>\n",
       "      <td>52.0</td>\n",
       "    </tr>\n",
       "    <tr>\n",
       "      <th>1049198</th>\n",
       "      <td>https://quadcities.craigslist.org/ctd/d/sweet-...</td>\n",
       "      <td>quadcities</td>\n",
       "      <td>6995</td>\n",
       "      <td>2007</td>\n",
       "      <td>ram</td>\n",
       "      <td>1500</td>\n",
       "      <td>NaN</td>\n",
       "      <td>NaN</td>\n",
       "      <td>gas</td>\n",
       "      <td>197936.0</td>\n",
       "      <td>clean</td>\n",
       "      <td>manual</td>\n",
       "      <td>1D7HU18227S220778</td>\n",
       "      <td>NaN</td>\n",
       "      <td>NaN</td>\n",
       "      <td>NaN</td>\n",
       "      <td>NaN</td>\n",
       "      <td>https://images.craigslist.org/00k0k_6qBvHCzjn2...</td>\n",
       "      <td>38.9482</td>\n",
       "      <td>-90.9138</td>\n",
       "      <td>29113.0</td>\n",
       "      <td>Lincoln</td>\n",
       "      <td>29.0</td>\n",
       "      <td>MO</td>\n",
       "      <td>Missouri</td>\n",
       "      <td>52.0</td>\n",
       "    </tr>\n",
       "    <tr>\n",
       "      <th>1049199</th>\n",
       "      <td>https://quadcities.craigslist.org/cto/d/04-gmc...</td>\n",
       "      <td>quadcities</td>\n",
       "      <td>12345</td>\n",
       "      <td>2004</td>\n",
       "      <td>gmc</td>\n",
       "      <td>canyon yz450</td>\n",
       "      <td>NaN</td>\n",
       "      <td>5 cylinders</td>\n",
       "      <td>gas</td>\n",
       "      <td>NaN</td>\n",
       "      <td>clean</td>\n",
       "      <td>automatic</td>\n",
       "      <td>NaN</td>\n",
       "      <td>NaN</td>\n",
       "      <td>NaN</td>\n",
       "      <td>NaN</td>\n",
       "      <td>NaN</td>\n",
       "      <td>https://images.craigslist.org/00y0y_g0Nj6JXaie...</td>\n",
       "      <td>40.4619</td>\n",
       "      <td>-92.1851</td>\n",
       "      <td>29199.0</td>\n",
       "      <td>Scotland</td>\n",
       "      <td>29.0</td>\n",
       "      <td>MO</td>\n",
       "      <td>Missouri</td>\n",
       "      <td>52.0</td>\n",
       "    </tr>\n",
       "  </tbody>\n",
       "</table>\n",
       "</div>"
      ],
      "text/plain": [
       "                                                       url          city  \\\n",
       "1049195  https://topeka.craigslist.org/ctd/d/2006-chevr...        topeka   \n",
       "1049196  https://westky.craigslist.org/cto/d/2008-acura...        westky   \n",
       "1049197  https://jacksonville.craigslist.org/cto/d/dump...  jacksonville   \n",
       "1049198  https://quadcities.craigslist.org/ctd/d/sweet-...    quadcities   \n",
       "1049199  https://quadcities.craigslist.org/cto/d/04-gmc...    quadcities   \n",
       "\n",
       "         price  year manufacturer                    make  condition  \\\n",
       "1049195   7995  2006    chevrolet  silverado 2500 hd crew        NaN   \n",
       "1049196  10900  2008        acura                      tl        NaN   \n",
       "1049197  40000  2006         ford                sterling  excellent   \n",
       "1049198   6995  2007          ram                    1500        NaN   \n",
       "1049199  12345  2004          gmc            canyon yz450        NaN   \n",
       "\n",
       "           cylinders    fuel  odometer title_status transmission  \\\n",
       "1049195          NaN     gas       NaN        clean    automatic   \n",
       "1049196          NaN     gas       NaN        clean    automatic   \n",
       "1049197        other  diesel  350000.0        clean       manual   \n",
       "1049198          NaN     gas  197936.0        clean       manual   \n",
       "1049199  5 cylinders     gas       NaN        clean    automatic   \n",
       "\n",
       "                       vin drive       size   type paint_color  \\\n",
       "1049195  1GCHC23U06F138406   NaN        NaN    NaN         NaN   \n",
       "1049196                NaN   NaN        NaN    NaN         NaN   \n",
       "1049197                NaN   NaN  full-size  truck         red   \n",
       "1049198  1D7HU18227S220778   NaN        NaN    NaN         NaN   \n",
       "1049199                NaN   NaN        NaN    NaN         NaN   \n",
       "\n",
       "                                                 image_url      lat     long  \\\n",
       "1049195  https://images.craigslist.org/00A0A_l1r21OrSdJ...  38.6419 -94.3285   \n",
       "1049196  https://images.craigslist.org/00606_hGCTgk1rVL...  37.3879 -89.6519   \n",
       "1049197  https://images.craigslist.org/00f0f_gohYgKDsQZ...  38.7071 -90.3055   \n",
       "1049198  https://images.craigslist.org/00k0k_6qBvHCzjn2...  38.9482 -90.9138   \n",
       "1049199  https://images.craigslist.org/00y0y_g0Nj6JXaie...  40.4619 -92.1851   \n",
       "\n",
       "         county_fips     county_name  state_fips state_code state_name  \\\n",
       "1049195      29037.0  Cass/Van Buren        29.0         MO   Missouri   \n",
       "1049196      29031.0  Cape Girardeau        29.0         MO   Missouri   \n",
       "1049197      29189.0       St. Louis        29.0         MO   Missouri   \n",
       "1049198      29113.0         Lincoln        29.0         MO   Missouri   \n",
       "1049199      29199.0        Scotland        29.0         MO   Missouri   \n",
       "\n",
       "         weather  \n",
       "1049195     52.0  \n",
       "1049196     52.0  \n",
       "1049197     52.0  \n",
       "1049198     52.0  \n",
       "1049199     52.0  "
      ]
     },
     "execution_count": 3,
     "metadata": {},
     "output_type": "execute_result"
    }
   ],
   "source": [
    "df.tail()"
   ]
  },
  {
   "cell_type": "code",
   "execution_count": 4,
   "metadata": {},
   "outputs": [
    {
     "data": {
      "text/plain": [
       "Index(['url', 'city', 'price', 'year', 'manufacturer', 'make', 'condition',\n",
       "       'cylinders', 'fuel', 'odometer', 'title_status', 'transmission', 'vin',\n",
       "       'drive', 'size', 'type', 'paint_color', 'image_url', 'lat', 'long',\n",
       "       'county_fips', 'county_name', 'state_fips', 'state_code', 'state_name',\n",
       "       'weather'],\n",
       "      dtype='object')"
      ]
     },
     "execution_count": 4,
     "metadata": {},
     "output_type": "execute_result"
    }
   ],
   "source": [
    "df.columns"
   ]
  },
  {
   "cell_type": "code",
   "execution_count": 5,
   "metadata": {},
   "outputs": [
    {
     "name": "stdout",
     "output_type": "stream",
     "text": [
      "<class 'pandas.core.frame.DataFrame'>\n",
      "RangeIndex: 1049200 entries, 0 to 1049199\n",
      "Data columns (total 26 columns):\n",
      " #   Column        Non-Null Count    Dtype  \n",
      "---  ------        --------------    -----  \n",
      " 0   url           1049199 non-null  object \n",
      " 1   city          1048559 non-null  object \n",
      " 2   price         1048535 non-null  object \n",
      " 3   year          1047014 non-null  object \n",
      " 4   manufacturer  964568 non-null   object \n",
      " 5   make          1005318 non-null  object \n",
      " 6   condition     615062 non-null   object \n",
      " 7   cylinders     621193 non-null   object \n",
      " 8   fuel          1042054 non-null  object \n",
      " 9   odometer      705601 non-null   float64\n",
      " 10  title_status  1046971 non-null  object \n",
      " 11  transmission  1042699 non-null  object \n",
      " 12  vin           367156 non-null   object \n",
      " 13  drive         645697 non-null   object \n",
      " 14  size          358029 non-null   object \n",
      " 15  type          614919 non-null   object \n",
      " 16  paint_color   617962 non-null   object \n",
      " 17  image_url     1048519 non-null  object \n",
      " 18  lat           1048519 non-null  float64\n",
      " 19  long          1048519 non-null  float64\n",
      " 20  county_fips   990178 non-null   float64\n",
      " 21  county_name   990178 non-null   object \n",
      " 22  state_fips    990178 non-null   float64\n",
      " 23  state_code    990178 non-null   object \n",
      " 24  state_name    1048519 non-null  object \n",
      " 25  weather       989582 non-null   float64\n",
      "dtypes: float64(6), object(20)\n",
      "memory usage: 208.1+ MB\n"
     ]
    }
   ],
   "source": [
    "df.info()"
   ]
  },
  {
   "cell_type": "code",
   "execution_count": 6,
   "metadata": {},
   "outputs": [
    {
     "data": {
      "text/html": [
       "<div>\n",
       "<style scoped>\n",
       "    .dataframe tbody tr th:only-of-type {\n",
       "        vertical-align: middle;\n",
       "    }\n",
       "\n",
       "    .dataframe tbody tr th {\n",
       "        vertical-align: top;\n",
       "    }\n",
       "\n",
       "    .dataframe thead th {\n",
       "        text-align: right;\n",
       "    }\n",
       "</style>\n",
       "<table border=\"1\" class=\"dataframe\">\n",
       "  <thead>\n",
       "    <tr style=\"text-align: right;\">\n",
       "      <th></th>\n",
       "      <th>odometer</th>\n",
       "      <th>lat</th>\n",
       "      <th>long</th>\n",
       "      <th>county_fips</th>\n",
       "      <th>state_fips</th>\n",
       "      <th>weather</th>\n",
       "    </tr>\n",
       "  </thead>\n",
       "  <tbody>\n",
       "    <tr>\n",
       "      <th>count</th>\n",
       "      <td>7.056010e+05</td>\n",
       "      <td>1.048519e+06</td>\n",
       "      <td>1.048519e+06</td>\n",
       "      <td>990178.000000</td>\n",
       "      <td>990178.000000</td>\n",
       "      <td>989582.000000</td>\n",
       "    </tr>\n",
       "    <tr>\n",
       "      <th>mean</th>\n",
       "      <td>1.138255e+05</td>\n",
       "      <td>3.967305e+01</td>\n",
       "      <td>-9.609864e+01</td>\n",
       "      <td>24775.443619</td>\n",
       "      <td>24.704956</td>\n",
       "      <td>53.022543</td>\n",
       "    </tr>\n",
       "    <tr>\n",
       "      <th>std</th>\n",
       "      <td>1.316380e+05</td>\n",
       "      <td>5.692429e+00</td>\n",
       "      <td>1.860790e+01</td>\n",
       "      <td>15579.137290</td>\n",
       "      <td>15.569437</td>\n",
       "      <td>7.605096</td>\n",
       "    </tr>\n",
       "    <tr>\n",
       "      <th>min</th>\n",
       "      <td>0.000000e+00</td>\n",
       "      <td>-8.481005e+01</td>\n",
       "      <td>-1.000000e+03</td>\n",
       "      <td>1001.000000</td>\n",
       "      <td>1.000000</td>\n",
       "      <td>29.000000</td>\n",
       "    </tr>\n",
       "    <tr>\n",
       "      <th>25%</th>\n",
       "      <td>5.800000e+04</td>\n",
       "      <td>3.551126e+01</td>\n",
       "      <td>-1.171445e+02</td>\n",
       "      <td>8005.000000</td>\n",
       "      <td>8.000000</td>\n",
       "      <td>48.000000</td>\n",
       "    </tr>\n",
       "    <tr>\n",
       "      <th>50%</th>\n",
       "      <td>1.070260e+05</td>\n",
       "      <td>3.990460e+01</td>\n",
       "      <td>-9.041660e+01</td>\n",
       "      <td>26055.000000</td>\n",
       "      <td>26.000000</td>\n",
       "      <td>52.000000</td>\n",
       "    </tr>\n",
       "    <tr>\n",
       "      <th>75%</th>\n",
       "      <td>1.530000e+05</td>\n",
       "      <td>4.267304e+01</td>\n",
       "      <td>-8.154935e+01</td>\n",
       "      <td>39151.000000</td>\n",
       "      <td>39.000000</td>\n",
       "      <td>59.000000</td>\n",
       "    </tr>\n",
       "    <tr>\n",
       "      <th>max</th>\n",
       "      <td>1.000000e+07</td>\n",
       "      <td>9.000000e+01</td>\n",
       "      <td>1.397061e+02</td>\n",
       "      <td>56045.000000</td>\n",
       "      <td>56.000000</td>\n",
       "      <td>79.000000</td>\n",
       "    </tr>\n",
       "  </tbody>\n",
       "</table>\n",
       "</div>"
      ],
      "text/plain": [
       "           odometer           lat          long    county_fips     state_fips  \\\n",
       "count  7.056010e+05  1.048519e+06  1.048519e+06  990178.000000  990178.000000   \n",
       "mean   1.138255e+05  3.967305e+01 -9.609864e+01   24775.443619      24.704956   \n",
       "std    1.316380e+05  5.692429e+00  1.860790e+01   15579.137290      15.569437   \n",
       "min    0.000000e+00 -8.481005e+01 -1.000000e+03    1001.000000       1.000000   \n",
       "25%    5.800000e+04  3.551126e+01 -1.171445e+02    8005.000000       8.000000   \n",
       "50%    1.070260e+05  3.990460e+01 -9.041660e+01   26055.000000      26.000000   \n",
       "75%    1.530000e+05  4.267304e+01 -8.154935e+01   39151.000000      39.000000   \n",
       "max    1.000000e+07  9.000000e+01  1.397061e+02   56045.000000      56.000000   \n",
       "\n",
       "             weather  \n",
       "count  989582.000000  \n",
       "mean       53.022543  \n",
       "std         7.605096  \n",
       "min        29.000000  \n",
       "25%        48.000000  \n",
       "50%        52.000000  \n",
       "75%        59.000000  \n",
       "max        79.000000  "
      ]
     },
     "execution_count": 6,
     "metadata": {},
     "output_type": "execute_result"
    }
   ],
   "source": [
    "df.describe()"
   ]
  },
  {
   "cell_type": "code",
   "execution_count": 7,
   "metadata": {},
   "outputs": [],
   "source": [
    "df.drop_duplicates(inplace=True)"
   ]
  },
  {
   "cell_type": "code",
   "execution_count": 8,
   "metadata": {},
   "outputs": [
    {
     "name": "stdout",
     "output_type": "stream",
     "text": [
      "<class 'pandas.core.frame.DataFrame'>\n",
      "Int64Index: 1048636 entries, 0 to 1049199\n",
      "Data columns (total 26 columns):\n",
      " #   Column        Non-Null Count    Dtype  \n",
      "---  ------        --------------    -----  \n",
      " 0   url           1048635 non-null  object \n",
      " 1   city          1048559 non-null  object \n",
      " 2   price         1048535 non-null  object \n",
      " 3   year          1047014 non-null  object \n",
      " 4   manufacturer  964568 non-null   object \n",
      " 5   make          1005318 non-null  object \n",
      " 6   condition     615062 non-null   object \n",
      " 7   cylinders     621193 non-null   object \n",
      " 8   fuel          1042054 non-null  object \n",
      " 9   odometer      705601 non-null   float64\n",
      " 10  title_status  1046971 non-null  object \n",
      " 11  transmission  1042699 non-null  object \n",
      " 12  vin           367156 non-null   object \n",
      " 13  drive         645697 non-null   object \n",
      " 14  size          358029 non-null   object \n",
      " 15  type          614919 non-null   object \n",
      " 16  paint_color   617962 non-null   object \n",
      " 17  image_url     1048519 non-null  object \n",
      " 18  lat           1048519 non-null  float64\n",
      " 19  long          1048519 non-null  float64\n",
      " 20  county_fips   990178 non-null   float64\n",
      " 21  county_name   990178 non-null   object \n",
      " 22  state_fips    990178 non-null   float64\n",
      " 23  state_code    990178 non-null   object \n",
      " 24  state_name    1048519 non-null  object \n",
      " 25  weather       989582 non-null   float64\n",
      "dtypes: float64(6), object(20)\n",
      "memory usage: 216.0+ MB\n"
     ]
    }
   ],
   "source": [
    "df.info()"
   ]
  },
  {
   "cell_type": "code",
   "execution_count": 9,
   "metadata": {},
   "outputs": [
    {
     "data": {
      "text/plain": [
       "Index(['url', 'city', 'price', 'year', 'manufacturer', 'make', 'condition',\n",
       "       'cylinders', 'fuel', 'odometer', 'title_status', 'transmission', 'vin',\n",
       "       'drive', 'size', 'type', 'paint_color', 'image_url', 'lat', 'long',\n",
       "       'county_fips', 'county_name', 'state_fips', 'state_code', 'state_name',\n",
       "       'weather'],\n",
       "      dtype='object')"
      ]
     },
     "execution_count": 9,
     "metadata": {},
     "output_type": "execute_result"
    }
   ],
   "source": [
    "df.columns"
   ]
  },
  {
   "cell_type": "code",
   "execution_count": 10,
   "metadata": {
    "scrolled": true
   },
   "outputs": [
    {
     "data": {
      "text/html": [
       "<div>\n",
       "<style scoped>\n",
       "    .dataframe tbody tr th:only-of-type {\n",
       "        vertical-align: middle;\n",
       "    }\n",
       "\n",
       "    .dataframe tbody tr th {\n",
       "        vertical-align: top;\n",
       "    }\n",
       "\n",
       "    .dataframe thead th {\n",
       "        text-align: right;\n",
       "    }\n",
       "</style>\n",
       "<table border=\"1\" class=\"dataframe\">\n",
       "  <thead>\n",
       "    <tr style=\"text-align: right;\">\n",
       "      <th></th>\n",
       "      <th>odometer</th>\n",
       "      <th>lat</th>\n",
       "      <th>long</th>\n",
       "      <th>county_fips</th>\n",
       "      <th>state_fips</th>\n",
       "      <th>weather</th>\n",
       "    </tr>\n",
       "  </thead>\n",
       "  <tbody>\n",
       "    <tr>\n",
       "      <th>count</th>\n",
       "      <td>7.056010e+05</td>\n",
       "      <td>1.048519e+06</td>\n",
       "      <td>1.048519e+06</td>\n",
       "      <td>990178.000000</td>\n",
       "      <td>990178.000000</td>\n",
       "      <td>989582.000000</td>\n",
       "    </tr>\n",
       "    <tr>\n",
       "      <th>mean</th>\n",
       "      <td>1.138255e+05</td>\n",
       "      <td>3.967305e+01</td>\n",
       "      <td>-9.609864e+01</td>\n",
       "      <td>24775.443619</td>\n",
       "      <td>24.704956</td>\n",
       "      <td>53.022543</td>\n",
       "    </tr>\n",
       "    <tr>\n",
       "      <th>std</th>\n",
       "      <td>1.316380e+05</td>\n",
       "      <td>5.692429e+00</td>\n",
       "      <td>1.860790e+01</td>\n",
       "      <td>15579.137290</td>\n",
       "      <td>15.569437</td>\n",
       "      <td>7.605096</td>\n",
       "    </tr>\n",
       "    <tr>\n",
       "      <th>min</th>\n",
       "      <td>0.000000e+00</td>\n",
       "      <td>-8.481005e+01</td>\n",
       "      <td>-1.000000e+03</td>\n",
       "      <td>1001.000000</td>\n",
       "      <td>1.000000</td>\n",
       "      <td>29.000000</td>\n",
       "    </tr>\n",
       "    <tr>\n",
       "      <th>25%</th>\n",
       "      <td>5.800000e+04</td>\n",
       "      <td>3.551126e+01</td>\n",
       "      <td>-1.171445e+02</td>\n",
       "      <td>8005.000000</td>\n",
       "      <td>8.000000</td>\n",
       "      <td>48.000000</td>\n",
       "    </tr>\n",
       "    <tr>\n",
       "      <th>50%</th>\n",
       "      <td>1.070260e+05</td>\n",
       "      <td>3.990460e+01</td>\n",
       "      <td>-9.041660e+01</td>\n",
       "      <td>26055.000000</td>\n",
       "      <td>26.000000</td>\n",
       "      <td>52.000000</td>\n",
       "    </tr>\n",
       "    <tr>\n",
       "      <th>75%</th>\n",
       "      <td>1.530000e+05</td>\n",
       "      <td>4.267304e+01</td>\n",
       "      <td>-8.154935e+01</td>\n",
       "      <td>39151.000000</td>\n",
       "      <td>39.000000</td>\n",
       "      <td>59.000000</td>\n",
       "    </tr>\n",
       "    <tr>\n",
       "      <th>max</th>\n",
       "      <td>1.000000e+07</td>\n",
       "      <td>9.000000e+01</td>\n",
       "      <td>1.397061e+02</td>\n",
       "      <td>56045.000000</td>\n",
       "      <td>56.000000</td>\n",
       "      <td>79.000000</td>\n",
       "    </tr>\n",
       "  </tbody>\n",
       "</table>\n",
       "</div>"
      ],
      "text/plain": [
       "           odometer           lat          long    county_fips     state_fips  \\\n",
       "count  7.056010e+05  1.048519e+06  1.048519e+06  990178.000000  990178.000000   \n",
       "mean   1.138255e+05  3.967305e+01 -9.609864e+01   24775.443619      24.704956   \n",
       "std    1.316380e+05  5.692429e+00  1.860790e+01   15579.137290      15.569437   \n",
       "min    0.000000e+00 -8.481005e+01 -1.000000e+03    1001.000000       1.000000   \n",
       "25%    5.800000e+04  3.551126e+01 -1.171445e+02    8005.000000       8.000000   \n",
       "50%    1.070260e+05  3.990460e+01 -9.041660e+01   26055.000000      26.000000   \n",
       "75%    1.530000e+05  4.267304e+01 -8.154935e+01   39151.000000      39.000000   \n",
       "max    1.000000e+07  9.000000e+01  1.397061e+02   56045.000000      56.000000   \n",
       "\n",
       "             weather  \n",
       "count  989582.000000  \n",
       "mean       53.022543  \n",
       "std         7.605096  \n",
       "min        29.000000  \n",
       "25%        48.000000  \n",
       "50%        52.000000  \n",
       "75%        59.000000  \n",
       "max        79.000000  "
      ]
     },
     "execution_count": 10,
     "metadata": {},
     "output_type": "execute_result"
    }
   ],
   "source": [
    "df.describe()"
   ]
  },
  {
   "cell_type": "code",
   "execution_count": 11,
   "metadata": {},
   "outputs": [],
   "source": [
    "import seaborn as sns\n",
    "import matplotlib\n",
    "from matplotlib import pyplot as plt"
   ]
  },
  {
   "cell_type": "markdown",
   "metadata": {},
   "source": [
    "# The below EDAs had been processed beforehand because it takes too many hours to produce so the below EDAs were processed as Markdown for efficiency."
   ]
  },
  {
   "cell_type": "code",
   "execution_count": null,
   "metadata": {},
   "outputs": [],
   "source": [
    "%%time\n",
    "sns.pairplot(df);\n",
    "plt.savefig('initial_pairplot.png')"
   ]
  },
  {
   "cell_type": "code",
   "execution_count": null,
   "metadata": {},
   "outputs": [],
   "source": [
    "%%time\n",
    "sns.pairplot(df, corner=True);\n",
    "plt.savefig('initial_pairplot2.png')"
   ]
  },
  {
   "cell_type": "code",
   "execution_count": null,
   "metadata": {},
   "outputs": [],
   "source": [
    "%%time\n",
    "g = sns.pairplot(df, hue=\"type\", diag_kind=\"kde\")\n",
    "g.map_lower(sns.kdeplot, levels=4, color=\".2\");\n",
    "plt.savefig('initial_type_pairplot.png')"
   ]
  },
  {
   "cell_type": "code",
   "execution_count": null,
   "metadata": {},
   "outputs": [],
   "source": [
    "%%time\n",
    "g = sns.pairplot(df, hue=\"cylinders\", diag_kind=\"kde\").map_lower(sns.kdeplot, levels=4, color=\".2\");\n",
    "plt.savefig('initial_cylinders_pairplot.png')"
   ]
  },
  {
   "cell_type": "code",
   "execution_count": null,
   "metadata": {},
   "outputs": [],
   "source": [
    "%%time\n",
    "g = sns.pairplot(df, hue=\"fuel\", diag_kind=\"kde\").map_lower(sns.kdeplot, levels=4, color=\".2\");\n",
    "plt.savefig('initial_fuel_pairplot.png')"
   ]
  },
  {
   "cell_type": "code",
   "execution_count": null,
   "metadata": {},
   "outputs": [],
   "source": [
    "%%time\n",
    "g = sns.pairplot(df, hue=\"transmission\", diag_kind=\"kde\").map_lower(sns.kdeplot, levels=4, color=\".2\");\n",
    "plt.savefig('initial_transmission_pairplot.png')"
   ]
  },
  {
   "cell_type": "code",
   "execution_count": null,
   "metadata": {},
   "outputs": [],
   "source": [
    "%%time\n",
    "g = sns.pairplot(df, hue=\"drive\", diag_kind=\"kde\").map_lower(sns.kdeplot, levels=4, color=\".2\");\n",
    "plt.savefig('initial_drive_pairplot.png')"
   ]
  },
  {
   "cell_type": "code",
   "execution_count": null,
   "metadata": {},
   "outputs": [],
   "source": [
    "%%time\n",
    "g = sns.pairplot(df, hue=\"size\", diag_kind=\"kde\").map_lower(sns.kdeplot, levels=4, color=\".2\");\n",
    "plt.savefig('initial_size_pairplot.png')"
   ]
  },
  {
   "cell_type": "code",
   "execution_count": null,
   "metadata": {},
   "outputs": [],
   "source": [
    "col_names = ['odometer', 'weather']\n",
    "\n",
    "fig, ax = plt.subplots(len(col_names), figsize=(16,12))\n",
    "\n",
    "for i, col_val in enumerate(col_names):\n",
    "\n",
    "    sns.distplot(df[col_val], hist=True, ax=ax[i])\n",
    "    ax[i].set_title('Freq dist '+col_val, fontsize=10)\n",
    "    ax[i].set_xlabel(col_val, fontsize=8)\n",
    "    ax[i].set_ylabel('Count', fontsize=8)\n",
    "\n",
    "#plt.show();\n",
    "plt.savefig('initial_odometer_weather_hist.png')"
   ]
  },
  {
   "cell_type": "code",
   "execution_count": null,
   "metadata": {},
   "outputs": [],
   "source": [
    "f, ax = plt.subplots(figsize=(10, 8))\n",
    "corr = df.corr()\n",
    "sns.heatmap(corr,\n",
    "            xticklabels=corr.columns.values,\n",
    "            yticklabels=corr.columns.values, annot=True);\n",
    "plt.savefig('initial_heatmap.png')"
   ]
  },
  {
   "cell_type": "code",
   "execution_count": null,
   "metadata": {
    "scrolled": false
   },
   "outputs": [],
   "source": [
    "col_names = ['odometer', 'weather']\n",
    "\n",
    "fig, ax = plt.subplots(len(col_names), figsize=(8,40))\n",
    "\n",
    "for i, col_val in enumerate(col_names):\n",
    "\n",
    "    sns.boxplot(y=df[col_val], ax=ax[i])\n",
    "    ax[i].set_title('Box plot - {}'.format(col_val), fontsize=10)\n",
    "    ax[i].set_xlabel(col_val, fontsize=8)\n",
    "\n",
    "#plt.show()\n",
    "plt.savefig('initial_boxplot.png')"
   ]
  },
  {
   "cell_type": "markdown",
   "metadata": {},
   "source": [
    "There seem too many NaN in the data set.  So let's figure out how much NaN\n",
    "occupies in individual columns."
   ]
  },
  {
   "cell_type": "code",
   "execution_count": null,
   "metadata": {},
   "outputs": [],
   "source": [
    "((df.isnull().sum()/len(df)).sort_values(ascending = False)*100).astype(float).plot.bar(title='Null % per Feature');\n",
    "plt.savefig('initial_null_ratio_per_feature.png')"
   ]
  },
  {
   "cell_type": "markdown",
   "metadata": {},
   "source": [
    "Let's drop rows with 'price' whose value is null."
   ]
  },
  {
   "cell_type": "code",
   "execution_count": 12,
   "metadata": {},
   "outputs": [],
   "source": [
    "df.drop(df[df['price'].isnull()].index, inplace=True)"
   ]
  },
  {
   "cell_type": "code",
   "execution_count": 13,
   "metadata": {},
   "outputs": [
    {
     "data": {
      "image/png": "[encoded data removed]",
      "text/plain": [
       "<Figure size 432x288 with 1 Axes>"
      ]
     },
     "metadata": {
      "needs_background": "light"
     },
     "output_type": "display_data"
    }
   ],
   "source": [
    "((df.isnull().sum()/len(df)).sort_values(ascending = False)*100).astype(float).plot.bar(title='Null % per Feature after removing NaN in price');\n",
    "plt.savefig('null_ratio_per_feature_after_removing_NaN_in_price.png')"
   ]
  },
  {
   "cell_type": "markdown",
   "metadata": {},
   "source": [
    "Let's drop rows with 'lat' whose value is null because null value of either 'lat' or 'long' cannot give you correlatable geographical information. "
   ]
  },
  {
   "cell_type": "code",
   "execution_count": 14,
   "metadata": {},
   "outputs": [],
   "source": [
    "df.drop(df[df['lat'].isnull()].index, inplace=True)"
   ]
  },
  {
   "cell_type": "code",
   "execution_count": 15,
   "metadata": {},
   "outputs": [
    {
     "data": {
      "image/png": "[encoded data removed]",
      "text/plain": [
       "<Figure size 432x288 with 1 Axes>"
      ]
     },
     "metadata": {
      "needs_background": "light"
     },
     "output_type": "display_data"
    }
   ],
   "source": [
    "((df.isnull().sum()/len(df)).sort_values(ascending = False)*100).astype(float).plot.bar(title='Null % per Feature after removing NaN in price & lat');\n",
    "plt.savefig('null_ratio_per_feature_after_removing_NaN_in_price_n_lat.png')"
   ]
  },
  {
   "cell_type": "markdown",
   "metadata": {},
   "source": [
    "Let's look into rows whose 'year' is null."
   ]
  },
  {
   "cell_type": "code",
   "execution_count": 16,
   "metadata": {},
   "outputs": [
    {
     "data": {
      "text/html": [
       "<div>\n",
       "<style scoped>\n",
       "    .dataframe tbody tr th:only-of-type {\n",
       "        vertical-align: middle;\n",
       "    }\n",
       "\n",
       "    .dataframe tbody tr th {\n",
       "        vertical-align: top;\n",
       "    }\n",
       "\n",
       "    .dataframe thead th {\n",
       "        text-align: right;\n",
       "    }\n",
       "</style>\n",
       "<table border=\"1\" class=\"dataframe\">\n",
       "  <thead>\n",
       "    <tr style=\"text-align: right;\">\n",
       "      <th></th>\n",
       "      <th>url</th>\n",
       "      <th>city</th>\n",
       "      <th>price</th>\n",
       "      <th>year</th>\n",
       "      <th>manufacturer</th>\n",
       "      <th>make</th>\n",
       "      <th>condition</th>\n",
       "      <th>cylinders</th>\n",
       "      <th>fuel</th>\n",
       "      <th>odometer</th>\n",
       "      <th>title_status</th>\n",
       "      <th>transmission</th>\n",
       "      <th>vin</th>\n",
       "      <th>drive</th>\n",
       "      <th>size</th>\n",
       "      <th>type</th>\n",
       "      <th>paint_color</th>\n",
       "      <th>image_url</th>\n",
       "      <th>lat</th>\n",
       "      <th>long</th>\n",
       "      <th>county_fips</th>\n",
       "      <th>county_name</th>\n",
       "      <th>state_fips</th>\n",
       "      <th>state_code</th>\n",
       "      <th>state_name</th>\n",
       "      <th>weather</th>\n",
       "    </tr>\n",
       "  </thead>\n",
       "  <tbody>\n",
       "    <tr>\n",
       "      <th>1652</th>\n",
       "      <td>https://galveston.craigslist.org/cto/d/2014-ni...</td>\n",
       "      <td>galveston</td>\n",
       "      <td>2900</td>\n",
       "      <td>NaN</td>\n",
       "      <td>NaN</td>\n",
       "      <td>soacrizcd</td>\n",
       "      <td>NaN</td>\n",
       "      <td>NaN</td>\n",
       "      <td>gas</td>\n",
       "      <td>NaN</td>\n",
       "      <td>clean</td>\n",
       "      <td>automatic</td>\n",
       "      <td>NaN</td>\n",
       "      <td>NaN</td>\n",
       "      <td>NaN</td>\n",
       "      <td>NaN</td>\n",
       "      <td>NaN</td>\n",
       "      <td>https://images.craigslist.org/00M0M_jkpAqq0f3A...</td>\n",
       "      <td>29.395588</td>\n",
       "      <td>-94.936825</td>\n",
       "      <td>48167.0</td>\n",
       "      <td>Galveston</td>\n",
       "      <td>48.0</td>\n",
       "      <td>TX</td>\n",
       "      <td>Texas</td>\n",
       "      <td>67.0</td>\n",
       "    </tr>\n",
       "    <tr>\n",
       "      <th>7092</th>\n",
       "      <td>https://saltlakecity.craigslist.org/cto/d/2014...</td>\n",
       "      <td>saltlakecity</td>\n",
       "      <td>2900</td>\n",
       "      <td>NaN</td>\n",
       "      <td>NaN</td>\n",
       "      <td>pcrqno</td>\n",
       "      <td>NaN</td>\n",
       "      <td>NaN</td>\n",
       "      <td>gas</td>\n",
       "      <td>NaN</td>\n",
       "      <td>clean</td>\n",
       "      <td>automatic</td>\n",
       "      <td>NaN</td>\n",
       "      <td>NaN</td>\n",
       "      <td>NaN</td>\n",
       "      <td>NaN</td>\n",
       "      <td>NaN</td>\n",
       "      <td>https://images.craigslist.org/00j0j_kNH7SuxV2u...</td>\n",
       "      <td>42.712053</td>\n",
       "      <td>-111.620163</td>\n",
       "      <td>16029.0</td>\n",
       "      <td>Caribou</td>\n",
       "      <td>16.0</td>\n",
       "      <td>ID</td>\n",
       "      <td>Idaho</td>\n",
       "      <td>47.0</td>\n",
       "    </tr>\n",
       "    <tr>\n",
       "      <th>8555</th>\n",
       "      <td>https://memphis.craigslist.org/ctd/d/2018-toyo...</td>\n",
       "      <td>memphis</td>\n",
       "      <td>21842</td>\n",
       "      <td>NaN</td>\n",
       "      <td>NaN</td>\n",
       "      <td>a Camry</td>\n",
       "      <td>NaN</td>\n",
       "      <td>4 cylinders</td>\n",
       "      <td>gas</td>\n",
       "      <td>11312.0</td>\n",
       "      <td>clean</td>\n",
       "      <td>automatic</td>\n",
       "      <td>JTNB11HK6J3001862</td>\n",
       "      <td>fwd</td>\n",
       "      <td>NaN</td>\n",
       "      <td>sedan</td>\n",
       "      <td>white</td>\n",
       "      <td>https://images.craigslist.org/00i0i_cMyXBfkKdq...</td>\n",
       "      <td>35.186081</td>\n",
       "      <td>-89.794496</td>\n",
       "      <td>47157.0</td>\n",
       "      <td>Shelby</td>\n",
       "      <td>47.0</td>\n",
       "      <td>TN</td>\n",
       "      <td>Tennessee</td>\n",
       "      <td>59.0</td>\n",
       "    </tr>\n",
       "    <tr>\n",
       "      <th>8641</th>\n",
       "      <td>https://memphis.craigslist.org/ctd/d/2018-toyo...</td>\n",
       "      <td>memphis</td>\n",
       "      <td>21980</td>\n",
       "      <td>NaN</td>\n",
       "      <td>NaN</td>\n",
       "      <td>a RAV4</td>\n",
       "      <td>NaN</td>\n",
       "      <td>4 cylinders</td>\n",
       "      <td>gas</td>\n",
       "      <td>40810.0</td>\n",
       "      <td>clean</td>\n",
       "      <td>automatic</td>\n",
       "      <td>2T3WFREV4JW405860</td>\n",
       "      <td>fwd</td>\n",
       "      <td>NaN</td>\n",
       "      <td>SUV</td>\n",
       "      <td>grey</td>\n",
       "      <td>https://images.craigslist.org/00H0H_jegqUW8uIS...</td>\n",
       "      <td>35.186081</td>\n",
       "      <td>-89.794496</td>\n",
       "      <td>47157.0</td>\n",
       "      <td>Shelby</td>\n",
       "      <td>47.0</td>\n",
       "      <td>TN</td>\n",
       "      <td>Tennessee</td>\n",
       "      <td>59.0</td>\n",
       "    </tr>\n",
       "    <tr>\n",
       "      <th>12831</th>\n",
       "      <td>https://elko.craigslist.org/ctd/d/2018-nissan-...</td>\n",
       "      <td>elko</td>\n",
       "      <td>60900</td>\n",
       "      <td>NaN</td>\n",
       "      <td>NaN</td>\n",
       "      <td>n Titan XD</td>\n",
       "      <td>NaN</td>\n",
       "      <td>8 cylinders</td>\n",
       "      <td>diesel</td>\n",
       "      <td>354.0</td>\n",
       "      <td>clean</td>\n",
       "      <td>automatic</td>\n",
       "      <td>1N6BA1F46JN521781</td>\n",
       "      <td>4wd</td>\n",
       "      <td>NaN</td>\n",
       "      <td>pickup</td>\n",
       "      <td>black</td>\n",
       "      <td>https://images.craigslist.org/01313_a9b4VDVItM...</td>\n",
       "      <td>40.362248</td>\n",
       "      <td>-111.785947</td>\n",
       "      <td>49049.0</td>\n",
       "      <td>Utah</td>\n",
       "      <td>49.0</td>\n",
       "      <td>UT</td>\n",
       "      <td>Utah</td>\n",
       "      <td>50.0</td>\n",
       "    </tr>\n",
       "    <tr>\n",
       "      <th>...</th>\n",
       "      <td>...</td>\n",
       "      <td>...</td>\n",
       "      <td>...</td>\n",
       "      <td>...</td>\n",
       "      <td>...</td>\n",
       "      <td>...</td>\n",
       "      <td>...</td>\n",
       "      <td>...</td>\n",
       "      <td>...</td>\n",
       "      <td>...</td>\n",
       "      <td>...</td>\n",
       "      <td>...</td>\n",
       "      <td>...</td>\n",
       "      <td>...</td>\n",
       "      <td>...</td>\n",
       "      <td>...</td>\n",
       "      <td>...</td>\n",
       "      <td>...</td>\n",
       "      <td>...</td>\n",
       "      <td>...</td>\n",
       "      <td>...</td>\n",
       "      <td>...</td>\n",
       "      <td>...</td>\n",
       "      <td>...</td>\n",
       "      <td>...</td>\n",
       "      <td>...</td>\n",
       "    </tr>\n",
       "    <tr>\n",
       "      <th>987780</th>\n",
       "      <td>https://minneapolis.craigslist.org/hnp/ctd/d/2...</td>\n",
       "      <td>minneapolis</td>\n",
       "      <td>29498</td>\n",
       "      <td>NaN</td>\n",
       "      <td>NaN</td>\n",
       "      <td>Clarity Plug-In Hybrid</td>\n",
       "      <td>NaN</td>\n",
       "      <td>4 cylinders</td>\n",
       "      <td>gas</td>\n",
       "      <td>2698.0</td>\n",
       "      <td>clean</td>\n",
       "      <td>automatic</td>\n",
       "      <td>JHMZC5F14JC008709</td>\n",
       "      <td>fwd</td>\n",
       "      <td>NaN</td>\n",
       "      <td>sedan</td>\n",
       "      <td>white</td>\n",
       "      <td>https://images.craigslist.org/00S0S_8Pp7R5N00D...</td>\n",
       "      <td>44.863287</td>\n",
       "      <td>-93.285342</td>\n",
       "      <td>27053.0</td>\n",
       "      <td>Hennepin</td>\n",
       "      <td>27.0</td>\n",
       "      <td>MN</td>\n",
       "      <td>Minnesota</td>\n",
       "      <td>43.0</td>\n",
       "    </tr>\n",
       "    <tr>\n",
       "      <th>994185</th>\n",
       "      <td>https://myrtlebeach.craigslist.org/cto/d/impal...</td>\n",
       "      <td>myrtlebeach</td>\n",
       "      <td>2900</td>\n",
       "      <td>NaN</td>\n",
       "      <td>NaN</td>\n",
       "      <td>ymmefqxhn</td>\n",
       "      <td>NaN</td>\n",
       "      <td>NaN</td>\n",
       "      <td>gas</td>\n",
       "      <td>NaN</td>\n",
       "      <td>clean</td>\n",
       "      <td>automatic</td>\n",
       "      <td>NaN</td>\n",
       "      <td>NaN</td>\n",
       "      <td>NaN</td>\n",
       "      <td>NaN</td>\n",
       "      <td>NaN</td>\n",
       "      <td>https://images.craigslist.org/00B0B_icXTx8yDAK...</td>\n",
       "      <td>33.803125</td>\n",
       "      <td>-78.837776</td>\n",
       "      <td>45051.0</td>\n",
       "      <td>Horry</td>\n",
       "      <td>45.0</td>\n",
       "      <td>SC</td>\n",
       "      <td>South Carolina</td>\n",
       "      <td>60.0</td>\n",
       "    </tr>\n",
       "    <tr>\n",
       "      <th>997789</th>\n",
       "      <td>https://asheville.craigslist.org/cto/d/2010-fo...</td>\n",
       "      <td>asheville</td>\n",
       "      <td>12500</td>\n",
       "      <td>NaN</td>\n",
       "      <td>ford</td>\n",
       "      <td>f150</td>\n",
       "      <td>excellent</td>\n",
       "      <td>8 cylinders</td>\n",
       "      <td>gas</td>\n",
       "      <td>99000.0</td>\n",
       "      <td>rebuilt</td>\n",
       "      <td>automatic</td>\n",
       "      <td>NaN</td>\n",
       "      <td>rwd</td>\n",
       "      <td>NaN</td>\n",
       "      <td>pickup</td>\n",
       "      <td>red</td>\n",
       "      <td>https://images.craigslist.org/00H0H_hLRfMrTPKO...</td>\n",
       "      <td>34.776458</td>\n",
       "      <td>-82.391206</td>\n",
       "      <td>45045.0</td>\n",
       "      <td>Greenville</td>\n",
       "      <td>45.0</td>\n",
       "      <td>SC</td>\n",
       "      <td>South Carolina</td>\n",
       "      <td>60.0</td>\n",
       "    </tr>\n",
       "    <tr>\n",
       "      <th>997790</th>\n",
       "      <td>https://asheville.craigslist.org/cto/d/2008-fo...</td>\n",
       "      <td>asheville</td>\n",
       "      <td>8300</td>\n",
       "      <td>NaN</td>\n",
       "      <td>ford</td>\n",
       "      <td>ranger xlt</td>\n",
       "      <td>NaN</td>\n",
       "      <td>6 cylinders</td>\n",
       "      <td>gas</td>\n",
       "      <td>121455.0</td>\n",
       "      <td>clean</td>\n",
       "      <td>automatic</td>\n",
       "      <td>NaN</td>\n",
       "      <td>4wd</td>\n",
       "      <td>mid-size</td>\n",
       "      <td>truck</td>\n",
       "      <td>white</td>\n",
       "      <td>https://images.craigslist.org/00r0r_6FYgE8j05R...</td>\n",
       "      <td>34.757900</td>\n",
       "      <td>-82.044700</td>\n",
       "      <td>45083.0</td>\n",
       "      <td>Spartanburg</td>\n",
       "      <td>45.0</td>\n",
       "      <td>SC</td>\n",
       "      <td>South Carolina</td>\n",
       "      <td>60.0</td>\n",
       "    </tr>\n",
       "    <tr>\n",
       "      <th>1009673</th>\n",
       "      <td>https://columbia.craigslist.org/cto/d/2009-hon...</td>\n",
       "      <td>columbia</td>\n",
       "      <td>2900</td>\n",
       "      <td>NaN</td>\n",
       "      <td>NaN</td>\n",
       "      <td>sjphygdhbtq</td>\n",
       "      <td>NaN</td>\n",
       "      <td>NaN</td>\n",
       "      <td>gas</td>\n",
       "      <td>NaN</td>\n",
       "      <td>clean</td>\n",
       "      <td>automatic</td>\n",
       "      <td>NaN</td>\n",
       "      <td>NaN</td>\n",
       "      <td>NaN</td>\n",
       "      <td>NaN</td>\n",
       "      <td>NaN</td>\n",
       "      <td>https://images.craigslist.org/00B0B_icXTx8yDAK...</td>\n",
       "      <td>33.996344</td>\n",
       "      <td>-81.100412</td>\n",
       "      <td>45063.0</td>\n",
       "      <td>Lexington</td>\n",
       "      <td>45.0</td>\n",
       "      <td>SC</td>\n",
       "      <td>South Carolina</td>\n",
       "      <td>60.0</td>\n",
       "    </tr>\n",
       "  </tbody>\n",
       "</table>\n",
       "<p>1509 rows × 26 columns</p>\n",
       "</div>"
      ],
      "text/plain": [
       "                                                       url          city  \\\n",
       "1652     https://galveston.craigslist.org/cto/d/2014-ni...     galveston   \n",
       "7092     https://saltlakecity.craigslist.org/cto/d/2014...  saltlakecity   \n",
       "8555     https://memphis.craigslist.org/ctd/d/2018-toyo...       memphis   \n",
       "8641     https://memphis.craigslist.org/ctd/d/2018-toyo...       memphis   \n",
       "12831    https://elko.craigslist.org/ctd/d/2018-nissan-...          elko   \n",
       "...                                                    ...           ...   \n",
       "987780   https://minneapolis.craigslist.org/hnp/ctd/d/2...   minneapolis   \n",
       "994185   https://myrtlebeach.craigslist.org/cto/d/impal...   myrtlebeach   \n",
       "997789   https://asheville.craigslist.org/cto/d/2010-fo...     asheville   \n",
       "997790   https://asheville.craigslist.org/cto/d/2008-fo...     asheville   \n",
       "1009673  https://columbia.craigslist.org/cto/d/2009-hon...      columbia   \n",
       "\n",
       "         price year manufacturer                    make  condition  \\\n",
       "1652      2900  NaN          NaN               soacrizcd        NaN   \n",
       "7092      2900  NaN          NaN                  pcrqno        NaN   \n",
       "8555     21842  NaN          NaN                 a Camry        NaN   \n",
       "8641     21980  NaN          NaN                  a RAV4        NaN   \n",
       "12831    60900  NaN          NaN              n Titan XD        NaN   \n",
       "...        ...  ...          ...                     ...        ...   \n",
       "987780   29498  NaN          NaN  Clarity Plug-In Hybrid        NaN   \n",
       "994185    2900  NaN          NaN               ymmefqxhn        NaN   \n",
       "997789   12500  NaN         ford                    f150  excellent   \n",
       "997790    8300  NaN         ford              ranger xlt        NaN   \n",
       "1009673   2900  NaN          NaN             sjphygdhbtq        NaN   \n",
       "\n",
       "           cylinders    fuel  odometer title_status transmission  \\\n",
       "1652             NaN     gas       NaN        clean    automatic   \n",
       "7092             NaN     gas       NaN        clean    automatic   \n",
       "8555     4 cylinders     gas   11312.0        clean    automatic   \n",
       "8641     4 cylinders     gas   40810.0        clean    automatic   \n",
       "12831    8 cylinders  diesel     354.0        clean    automatic   \n",
       "...              ...     ...       ...          ...          ...   \n",
       "987780   4 cylinders     gas    2698.0        clean    automatic   \n",
       "994185           NaN     gas       NaN        clean    automatic   \n",
       "997789   8 cylinders     gas   99000.0      rebuilt    automatic   \n",
       "997790   6 cylinders     gas  121455.0        clean    automatic   \n",
       "1009673          NaN     gas       NaN        clean    automatic   \n",
       "\n",
       "                       vin drive      size    type paint_color  \\\n",
       "1652                   NaN   NaN       NaN     NaN         NaN   \n",
       "7092                   NaN   NaN       NaN     NaN         NaN   \n",
       "8555     JTNB11HK6J3001862   fwd       NaN   sedan       white   \n",
       "8641     2T3WFREV4JW405860   fwd       NaN     SUV        grey   \n",
       "12831    1N6BA1F46JN521781   4wd       NaN  pickup       black   \n",
       "...                    ...   ...       ...     ...         ...   \n",
       "987780   JHMZC5F14JC008709   fwd       NaN   sedan       white   \n",
       "994185                 NaN   NaN       NaN     NaN         NaN   \n",
       "997789                 NaN   rwd       NaN  pickup         red   \n",
       "997790                 NaN   4wd  mid-size   truck       white   \n",
       "1009673                NaN   NaN       NaN     NaN         NaN   \n",
       "\n",
       "                                                 image_url        lat  \\\n",
       "1652     https://images.craigslist.org/00M0M_jkpAqq0f3A...  29.395588   \n",
       "7092     https://images.craigslist.org/00j0j_kNH7SuxV2u...  42.712053   \n",
       "8555     https://images.craigslist.org/00i0i_cMyXBfkKdq...  35.186081   \n",
       "8641     https://images.craigslist.org/00H0H_jegqUW8uIS...  35.186081   \n",
       "12831    https://images.craigslist.org/01313_a9b4VDVItM...  40.362248   \n",
       "...                                                    ...        ...   \n",
       "987780   https://images.craigslist.org/00S0S_8Pp7R5N00D...  44.863287   \n",
       "994185   https://images.craigslist.org/00B0B_icXTx8yDAK...  33.803125   \n",
       "997789   https://images.craigslist.org/00H0H_hLRfMrTPKO...  34.776458   \n",
       "997790   https://images.craigslist.org/00r0r_6FYgE8j05R...  34.757900   \n",
       "1009673  https://images.craigslist.org/00B0B_icXTx8yDAK...  33.996344   \n",
       "\n",
       "               long  county_fips  county_name  state_fips state_code  \\\n",
       "1652     -94.936825      48167.0    Galveston        48.0         TX   \n",
       "7092    -111.620163      16029.0      Caribou        16.0         ID   \n",
       "8555     -89.794496      47157.0       Shelby        47.0         TN   \n",
       "8641     -89.794496      47157.0       Shelby        47.0         TN   \n",
       "12831   -111.785947      49049.0         Utah        49.0         UT   \n",
       "...             ...          ...          ...         ...        ...   \n",
       "987780   -93.285342      27053.0     Hennepin        27.0         MN   \n",
       "994185   -78.837776      45051.0        Horry        45.0         SC   \n",
       "997789   -82.391206      45045.0   Greenville        45.0         SC   \n",
       "997790   -82.044700      45083.0  Spartanburg        45.0         SC   \n",
       "1009673  -81.100412      45063.0    Lexington        45.0         SC   \n",
       "\n",
       "             state_name  weather  \n",
       "1652              Texas     67.0  \n",
       "7092              Idaho     47.0  \n",
       "8555          Tennessee     59.0  \n",
       "8641          Tennessee     59.0  \n",
       "12831              Utah     50.0  \n",
       "...                 ...      ...  \n",
       "987780        Minnesota     43.0  \n",
       "994185   South Carolina     60.0  \n",
       "997789   South Carolina     60.0  \n",
       "997790   South Carolina     60.0  \n",
       "1009673  South Carolina     60.0  \n",
       "\n",
       "[1509 rows x 26 columns]"
      ]
     },
     "execution_count": 16,
     "metadata": {},
     "output_type": "execute_result"
    }
   ],
   "source": [
    "df[df['year'].isnull()]"
   ]
  },
  {
   "cell_type": "markdown",
   "metadata": {},
   "source": [
    "Drop rows whose 'year' value is null in that it is not possible to find correlation between 'price' and 'unidentified year of use', which is null value in year."
   ]
  },
  {
   "cell_type": "code",
   "execution_count": 17,
   "metadata": {},
   "outputs": [],
   "source": [
    "df.drop(df[df['year'].isnull()].index, inplace=True)"
   ]
  },
  {
   "cell_type": "code",
   "execution_count": 18,
   "metadata": {},
   "outputs": [
    {
     "data": {
      "image/png": "[encoded data removed]",
      "text/plain": [
       "<Figure size 432x288 with 1 Axes>"
      ]
     },
     "metadata": {
      "needs_background": "light"
     },
     "output_type": "display_data"
    }
   ],
   "source": [
    "((df.isnull().sum()/len(df)).sort_values(ascending = False)*100).astype(float).plot.bar(title='Null % per Feature after removing NaN in price, lat & year');\n",
    "plt.savefig('null_ratio_per_feature_after_removing_NaN_in_price_lat_n_year.png')"
   ]
  },
  {
   "cell_type": "markdown",
   "metadata": {},
   "source": [
    "Let's look into 'title_status' by value_counts()."
   ]
  },
  {
   "cell_type": "code",
   "execution_count": 19,
   "metadata": {},
   "outputs": [
    {
     "data": {
      "image/png": "[encoded data removed]",
      "text/plain": [
       "<Figure size 432x288 with 1 Axes>"
      ]
     },
     "metadata": {
      "needs_background": "light"
     },
     "output_type": "display_data"
    }
   ],
   "source": [
    "df['title_status'].value_counts().plot.bar(title='Value Counts of title status');\n",
    "plt.savefig('value_counts_of_title_status.png')"
   ]
  },
  {
   "cell_type": "markdown",
   "metadata": {},
   "source": [
    "Now let's take a look at rows whose 'title_status' value is null."
   ]
  },
  {
   "cell_type": "code",
   "execution_count": 20,
   "metadata": {
    "scrolled": true
   },
   "outputs": [
    {
     "data": {
      "text/html": [
       "<div>\n",
       "<style scoped>\n",
       "    .dataframe tbody tr th:only-of-type {\n",
       "        vertical-align: middle;\n",
       "    }\n",
       "\n",
       "    .dataframe tbody tr th {\n",
       "        vertical-align: top;\n",
       "    }\n",
       "\n",
       "    .dataframe thead th {\n",
       "        text-align: right;\n",
       "    }\n",
       "</style>\n",
       "<table border=\"1\" class=\"dataframe\">\n",
       "  <thead>\n",
       "    <tr style=\"text-align: right;\">\n",
       "      <th></th>\n",
       "      <th>url</th>\n",
       "      <th>city</th>\n",
       "      <th>price</th>\n",
       "      <th>year</th>\n",
       "      <th>manufacturer</th>\n",
       "      <th>make</th>\n",
       "      <th>condition</th>\n",
       "      <th>cylinders</th>\n",
       "      <th>fuel</th>\n",
       "      <th>odometer</th>\n",
       "      <th>title_status</th>\n",
       "      <th>transmission</th>\n",
       "      <th>vin</th>\n",
       "      <th>drive</th>\n",
       "      <th>size</th>\n",
       "      <th>type</th>\n",
       "      <th>paint_color</th>\n",
       "      <th>image_url</th>\n",
       "      <th>lat</th>\n",
       "      <th>long</th>\n",
       "      <th>county_fips</th>\n",
       "      <th>county_name</th>\n",
       "      <th>state_fips</th>\n",
       "      <th>state_code</th>\n",
       "      <th>state_name</th>\n",
       "      <th>weather</th>\n",
       "    </tr>\n",
       "  </thead>\n",
       "  <tbody>\n",
       "    <tr>\n",
       "      <th>711</th>\n",
       "      <td>https://ogden.craigslist.org/ctd/d/1998-volksw...</td>\n",
       "      <td>ogden</td>\n",
       "      <td>3199</td>\n",
       "      <td>1998</td>\n",
       "      <td>volkswagen</td>\n",
       "      <td>gti</td>\n",
       "      <td>NaN</td>\n",
       "      <td>NaN</td>\n",
       "      <td>NaN</td>\n",
       "      <td>129718.0</td>\n",
       "      <td>NaN</td>\n",
       "      <td>automatic</td>\n",
       "      <td>3VWDA81H2WM219546</td>\n",
       "      <td>NaN</td>\n",
       "      <td>NaN</td>\n",
       "      <td>hatchback</td>\n",
       "      <td>yellow</td>\n",
       "      <td>https://images.craigslist.org/00808_2ImZMc17NN...</td>\n",
       "      <td>43.618808</td>\n",
       "      <td>-116.307269</td>\n",
       "      <td>16001.0</td>\n",
       "      <td>Ada</td>\n",
       "      <td>16.0</td>\n",
       "      <td>ID</td>\n",
       "      <td>Idaho</td>\n",
       "      <td>47.0</td>\n",
       "    </tr>\n",
       "    <tr>\n",
       "      <th>712</th>\n",
       "      <td>https://ogden.craigslist.org/ctd/d/2013-toyota...</td>\n",
       "      <td>ogden</td>\n",
       "      <td>20399</td>\n",
       "      <td>2013</td>\n",
       "      <td>toyota</td>\n",
       "      <td>tacoma</td>\n",
       "      <td>NaN</td>\n",
       "      <td>NaN</td>\n",
       "      <td>NaN</td>\n",
       "      <td>52992.0</td>\n",
       "      <td>NaN</td>\n",
       "      <td>automatic</td>\n",
       "      <td>3TMJU4GN9DM148846</td>\n",
       "      <td>NaN</td>\n",
       "      <td>NaN</td>\n",
       "      <td>NaN</td>\n",
       "      <td>NaN</td>\n",
       "      <td>https://images.craigslist.org/00808_2XBEsB5t2F...</td>\n",
       "      <td>43.618808</td>\n",
       "      <td>-116.307269</td>\n",
       "      <td>16001.0</td>\n",
       "      <td>Ada</td>\n",
       "      <td>16.0</td>\n",
       "      <td>ID</td>\n",
       "      <td>Idaho</td>\n",
       "      <td>47.0</td>\n",
       "    </tr>\n",
       "    <tr>\n",
       "      <th>713</th>\n",
       "      <td>https://ogden.craigslist.org/ctd/d/2008-toyota...</td>\n",
       "      <td>ogden</td>\n",
       "      <td>13222</td>\n",
       "      <td>2008</td>\n",
       "      <td>toyota</td>\n",
       "      <td>tacoma</td>\n",
       "      <td>NaN</td>\n",
       "      <td>NaN</td>\n",
       "      <td>NaN</td>\n",
       "      <td>140879.0</td>\n",
       "      <td>NaN</td>\n",
       "      <td>manual</td>\n",
       "      <td>5TEUX42N68Z500012</td>\n",
       "      <td>NaN</td>\n",
       "      <td>NaN</td>\n",
       "      <td>NaN</td>\n",
       "      <td>silver</td>\n",
       "      <td>https://images.craigslist.org/01515_aH1Ax3xNny...</td>\n",
       "      <td>43.618808</td>\n",
       "      <td>-116.307269</td>\n",
       "      <td>16001.0</td>\n",
       "      <td>Ada</td>\n",
       "      <td>16.0</td>\n",
       "      <td>ID</td>\n",
       "      <td>Idaho</td>\n",
       "      <td>47.0</td>\n",
       "    </tr>\n",
       "    <tr>\n",
       "      <th>714</th>\n",
       "      <td>https://ogden.craigslist.org/ctd/d/2004-toyota...</td>\n",
       "      <td>ogden</td>\n",
       "      <td>5935</td>\n",
       "      <td>2004</td>\n",
       "      <td>toyota</td>\n",
       "      <td>prius</td>\n",
       "      <td>NaN</td>\n",
       "      <td>NaN</td>\n",
       "      <td>NaN</td>\n",
       "      <td>144741.0</td>\n",
       "      <td>NaN</td>\n",
       "      <td>other</td>\n",
       "      <td>JTDKB20U140078987</td>\n",
       "      <td>NaN</td>\n",
       "      <td>NaN</td>\n",
       "      <td>sedan</td>\n",
       "      <td>NaN</td>\n",
       "      <td>https://images.craigslist.org/01414_g2F53ObEcr...</td>\n",
       "      <td>43.618808</td>\n",
       "      <td>-116.307269</td>\n",
       "      <td>16001.0</td>\n",
       "      <td>Ada</td>\n",
       "      <td>16.0</td>\n",
       "      <td>ID</td>\n",
       "      <td>Idaho</td>\n",
       "      <td>47.0</td>\n",
       "    </tr>\n",
       "    <tr>\n",
       "      <th>715</th>\n",
       "      <td>https://ogden.craigslist.org/ctd/d/2007-toyota...</td>\n",
       "      <td>ogden</td>\n",
       "      <td>6841</td>\n",
       "      <td>2007</td>\n",
       "      <td>toyota</td>\n",
       "      <td>camry</td>\n",
       "      <td>NaN</td>\n",
       "      <td>NaN</td>\n",
       "      <td>NaN</td>\n",
       "      <td>141026.0</td>\n",
       "      <td>NaN</td>\n",
       "      <td>automatic</td>\n",
       "      <td>4T1BE46KX7U514026</td>\n",
       "      <td>NaN</td>\n",
       "      <td>NaN</td>\n",
       "      <td>sedan</td>\n",
       "      <td>white</td>\n",
       "      <td>https://images.craigslist.org/01515_cLa189rIx6...</td>\n",
       "      <td>43.618808</td>\n",
       "      <td>-116.307269</td>\n",
       "      <td>16001.0</td>\n",
       "      <td>Ada</td>\n",
       "      <td>16.0</td>\n",
       "      <td>ID</td>\n",
       "      <td>Idaho</td>\n",
       "      <td>47.0</td>\n",
       "    </tr>\n",
       "    <tr>\n",
       "      <th>...</th>\n",
       "      <td>...</td>\n",
       "      <td>...</td>\n",
       "      <td>...</td>\n",
       "      <td>...</td>\n",
       "      <td>...</td>\n",
       "      <td>...</td>\n",
       "      <td>...</td>\n",
       "      <td>...</td>\n",
       "      <td>...</td>\n",
       "      <td>...</td>\n",
       "      <td>...</td>\n",
       "      <td>...</td>\n",
       "      <td>...</td>\n",
       "      <td>...</td>\n",
       "      <td>...</td>\n",
       "      <td>...</td>\n",
       "      <td>...</td>\n",
       "      <td>...</td>\n",
       "      <td>...</td>\n",
       "      <td>...</td>\n",
       "      <td>...</td>\n",
       "      <td>...</td>\n",
       "      <td>...</td>\n",
       "      <td>...</td>\n",
       "      <td>...</td>\n",
       "      <td>...</td>\n",
       "    </tr>\n",
       "    <tr>\n",
       "      <th>1045394</th>\n",
       "      <td>https://semo.craigslist.org/ctd/d/2014-chevrol...</td>\n",
       "      <td>semo</td>\n",
       "      <td>6900</td>\n",
       "      <td>2014</td>\n",
       "      <td>chevrolet</td>\n",
       "      <td>malibu 2lt 6-speed automatic</td>\n",
       "      <td>NaN</td>\n",
       "      <td>NaN</td>\n",
       "      <td>NaN</td>\n",
       "      <td>132000.0</td>\n",
       "      <td>NaN</td>\n",
       "      <td>automatic</td>\n",
       "      <td>1G11E5SL9EF202049</td>\n",
       "      <td>fwd</td>\n",
       "      <td>NaN</td>\n",
       "      <td>sedan</td>\n",
       "      <td>NaN</td>\n",
       "      <td>https://images.craigslist.org/00G0G_cW6uE5uofp...</td>\n",
       "      <td>36.803618</td>\n",
       "      <td>-89.947992</td>\n",
       "      <td>29207.0</td>\n",
       "      <td>Stoddard</td>\n",
       "      <td>29.0</td>\n",
       "      <td>MO</td>\n",
       "      <td>Missouri</td>\n",
       "      <td>52.0</td>\n",
       "    </tr>\n",
       "    <tr>\n",
       "      <th>1045487</th>\n",
       "      <td>https://semo.craigslist.org/ctd/d/2011-nissan-...</td>\n",
       "      <td>semo</td>\n",
       "      <td>8400</td>\n",
       "      <td>2011</td>\n",
       "      <td>nissan</td>\n",
       "      <td>pathfinder</td>\n",
       "      <td>NaN</td>\n",
       "      <td>NaN</td>\n",
       "      <td>NaN</td>\n",
       "      <td>155000.0</td>\n",
       "      <td>NaN</td>\n",
       "      <td>NaN</td>\n",
       "      <td>5N1AR1NB6BC619094</td>\n",
       "      <td>NaN</td>\n",
       "      <td>NaN</td>\n",
       "      <td>NaN</td>\n",
       "      <td>NaN</td>\n",
       "      <td>https://images.craigslist.org/01010_hmfyzv5eeP...</td>\n",
       "      <td>36.803618</td>\n",
       "      <td>-89.947992</td>\n",
       "      <td>29207.0</td>\n",
       "      <td>Stoddard</td>\n",
       "      <td>29.0</td>\n",
       "      <td>MO</td>\n",
       "      <td>Missouri</td>\n",
       "      <td>52.0</td>\n",
       "    </tr>\n",
       "    <tr>\n",
       "      <th>1045488</th>\n",
       "      <td>https://semo.craigslist.org/ctd/d/1994-ford-mu...</td>\n",
       "      <td>semo</td>\n",
       "      <td>2600</td>\n",
       "      <td>1994</td>\n",
       "      <td>ford</td>\n",
       "      <td>mustang</td>\n",
       "      <td>NaN</td>\n",
       "      <td>NaN</td>\n",
       "      <td>NaN</td>\n",
       "      <td>103000.0</td>\n",
       "      <td>NaN</td>\n",
       "      <td>automatic</td>\n",
       "      <td>1FALP4442RF143397</td>\n",
       "      <td>NaN</td>\n",
       "      <td>NaN</td>\n",
       "      <td>NaN</td>\n",
       "      <td>NaN</td>\n",
       "      <td>https://images.craigslist.org/00z0z_cq55h65fNm...</td>\n",
       "      <td>36.803618</td>\n",
       "      <td>-89.947992</td>\n",
       "      <td>29207.0</td>\n",
       "      <td>Stoddard</td>\n",
       "      <td>29.0</td>\n",
       "      <td>MO</td>\n",
       "      <td>Missouri</td>\n",
       "      <td>52.0</td>\n",
       "    </tr>\n",
       "    <tr>\n",
       "      <th>1045508</th>\n",
       "      <td>https://semo.craigslist.org/ctd/d/2008-ford-fo...</td>\n",
       "      <td>semo</td>\n",
       "      <td>3600</td>\n",
       "      <td>2008</td>\n",
       "      <td>ford</td>\n",
       "      <td>focus</td>\n",
       "      <td>NaN</td>\n",
       "      <td>NaN</td>\n",
       "      <td>gas</td>\n",
       "      <td>92057.0</td>\n",
       "      <td>NaN</td>\n",
       "      <td>manual</td>\n",
       "      <td>1FAHP34N88W273112</td>\n",
       "      <td>fwd</td>\n",
       "      <td>NaN</td>\n",
       "      <td>NaN</td>\n",
       "      <td>NaN</td>\n",
       "      <td>https://images.craigslist.org/00909_k9GKIpl66y...</td>\n",
       "      <td>36.803618</td>\n",
       "      <td>-89.947992</td>\n",
       "      <td>29207.0</td>\n",
       "      <td>Stoddard</td>\n",
       "      <td>29.0</td>\n",
       "      <td>MO</td>\n",
       "      <td>Missouri</td>\n",
       "      <td>52.0</td>\n",
       "    </tr>\n",
       "    <tr>\n",
       "      <th>1045652</th>\n",
       "      <td>https://semo.craigslist.org/ctd/d/1994-ford-mu...</td>\n",
       "      <td>semo</td>\n",
       "      <td>2600</td>\n",
       "      <td>1994</td>\n",
       "      <td>ford</td>\n",
       "      <td>mustang</td>\n",
       "      <td>NaN</td>\n",
       "      <td>NaN</td>\n",
       "      <td>NaN</td>\n",
       "      <td>103000.0</td>\n",
       "      <td>NaN</td>\n",
       "      <td>automatic</td>\n",
       "      <td>1FALP4442RF143397</td>\n",
       "      <td>NaN</td>\n",
       "      <td>NaN</td>\n",
       "      <td>NaN</td>\n",
       "      <td>NaN</td>\n",
       "      <td>https://images.craigslist.org/00z0z_cq55h65fNm...</td>\n",
       "      <td>36.803618</td>\n",
       "      <td>-89.947992</td>\n",
       "      <td>29207.0</td>\n",
       "      <td>Stoddard</td>\n",
       "      <td>29.0</td>\n",
       "      <td>MO</td>\n",
       "      <td>Missouri</td>\n",
       "      <td>52.0</td>\n",
       "    </tr>\n",
       "  </tbody>\n",
       "</table>\n",
       "<p>1545 rows × 26 columns</p>\n",
       "</div>"
      ],
      "text/plain": [
       "                                                       url   city  price  \\\n",
       "711      https://ogden.craigslist.org/ctd/d/1998-volksw...  ogden   3199   \n",
       "712      https://ogden.craigslist.org/ctd/d/2013-toyota...  ogden  20399   \n",
       "713      https://ogden.craigslist.org/ctd/d/2008-toyota...  ogden  13222   \n",
       "714      https://ogden.craigslist.org/ctd/d/2004-toyota...  ogden   5935   \n",
       "715      https://ogden.craigslist.org/ctd/d/2007-toyota...  ogden   6841   \n",
       "...                                                    ...    ...    ...   \n",
       "1045394  https://semo.craigslist.org/ctd/d/2014-chevrol...   semo   6900   \n",
       "1045487  https://semo.craigslist.org/ctd/d/2011-nissan-...   semo   8400   \n",
       "1045488  https://semo.craigslist.org/ctd/d/1994-ford-mu...   semo   2600   \n",
       "1045508  https://semo.craigslist.org/ctd/d/2008-ford-fo...   semo   3600   \n",
       "1045652  https://semo.craigslist.org/ctd/d/1994-ford-mu...   semo   2600   \n",
       "\n",
       "         year manufacturer                          make condition cylinders  \\\n",
       "711      1998   volkswagen                           gti       NaN       NaN   \n",
       "712      2013       toyota                        tacoma       NaN       NaN   \n",
       "713      2008       toyota                        tacoma       NaN       NaN   \n",
       "714      2004       toyota                         prius       NaN       NaN   \n",
       "715      2007       toyota                         camry       NaN       NaN   \n",
       "...       ...          ...                           ...       ...       ...   \n",
       "1045394  2014    chevrolet  malibu 2lt 6-speed automatic       NaN       NaN   \n",
       "1045487  2011       nissan                    pathfinder       NaN       NaN   \n",
       "1045488  1994         ford                       mustang       NaN       NaN   \n",
       "1045508  2008         ford                         focus       NaN       NaN   \n",
       "1045652  1994         ford                       mustang       NaN       NaN   \n",
       "\n",
       "        fuel  odometer title_status transmission                vin drive  \\\n",
       "711      NaN  129718.0          NaN    automatic  3VWDA81H2WM219546   NaN   \n",
       "712      NaN   52992.0          NaN    automatic  3TMJU4GN9DM148846   NaN   \n",
       "713      NaN  140879.0          NaN       manual  5TEUX42N68Z500012   NaN   \n",
       "714      NaN  144741.0          NaN        other  JTDKB20U140078987   NaN   \n",
       "715      NaN  141026.0          NaN    automatic  4T1BE46KX7U514026   NaN   \n",
       "...      ...       ...          ...          ...                ...   ...   \n",
       "1045394  NaN  132000.0          NaN    automatic  1G11E5SL9EF202049   fwd   \n",
       "1045487  NaN  155000.0          NaN          NaN  5N1AR1NB6BC619094   NaN   \n",
       "1045488  NaN  103000.0          NaN    automatic  1FALP4442RF143397   NaN   \n",
       "1045508  gas   92057.0          NaN       manual  1FAHP34N88W273112   fwd   \n",
       "1045652  NaN  103000.0          NaN    automatic  1FALP4442RF143397   NaN   \n",
       "\n",
       "        size       type paint_color  \\\n",
       "711      NaN  hatchback      yellow   \n",
       "712      NaN        NaN         NaN   \n",
       "713      NaN        NaN      silver   \n",
       "714      NaN      sedan         NaN   \n",
       "715      NaN      sedan       white   \n",
       "...      ...        ...         ...   \n",
       "1045394  NaN      sedan         NaN   \n",
       "1045487  NaN        NaN         NaN   \n",
       "1045488  NaN        NaN         NaN   \n",
       "1045508  NaN        NaN         NaN   \n",
       "1045652  NaN        NaN         NaN   \n",
       "\n",
       "                                                 image_url        lat  \\\n",
       "711      https://images.craigslist.org/00808_2ImZMc17NN...  43.618808   \n",
       "712      https://images.craigslist.org/00808_2XBEsB5t2F...  43.618808   \n",
       "713      https://images.craigslist.org/01515_aH1Ax3xNny...  43.618808   \n",
       "714      https://images.craigslist.org/01414_g2F53ObEcr...  43.618808   \n",
       "715      https://images.craigslist.org/01515_cLa189rIx6...  43.618808   \n",
       "...                                                    ...        ...   \n",
       "1045394  https://images.craigslist.org/00G0G_cW6uE5uofp...  36.803618   \n",
       "1045487  https://images.craigslist.org/01010_hmfyzv5eeP...  36.803618   \n",
       "1045488  https://images.craigslist.org/00z0z_cq55h65fNm...  36.803618   \n",
       "1045508  https://images.craigslist.org/00909_k9GKIpl66y...  36.803618   \n",
       "1045652  https://images.craigslist.org/00z0z_cq55h65fNm...  36.803618   \n",
       "\n",
       "               long  county_fips county_name  state_fips state_code  \\\n",
       "711     -116.307269      16001.0         Ada        16.0         ID   \n",
       "712     -116.307269      16001.0         Ada        16.0         ID   \n",
       "713     -116.307269      16001.0         Ada        16.0         ID   \n",
       "714     -116.307269      16001.0         Ada        16.0         ID   \n",
       "715     -116.307269      16001.0         Ada        16.0         ID   \n",
       "...             ...          ...         ...         ...        ...   \n",
       "1045394  -89.947992      29207.0    Stoddard        29.0         MO   \n",
       "1045487  -89.947992      29207.0    Stoddard        29.0         MO   \n",
       "1045488  -89.947992      29207.0    Stoddard        29.0         MO   \n",
       "1045508  -89.947992      29207.0    Stoddard        29.0         MO   \n",
       "1045652  -89.947992      29207.0    Stoddard        29.0         MO   \n",
       "\n",
       "        state_name  weather  \n",
       "711          Idaho     47.0  \n",
       "712          Idaho     47.0  \n",
       "713          Idaho     47.0  \n",
       "714          Idaho     47.0  \n",
       "715          Idaho     47.0  \n",
       "...            ...      ...  \n",
       "1045394   Missouri     52.0  \n",
       "1045487   Missouri     52.0  \n",
       "1045488   Missouri     52.0  \n",
       "1045508   Missouri     52.0  \n",
       "1045652   Missouri     52.0  \n",
       "\n",
       "[1545 rows x 26 columns]"
      ]
     },
     "execution_count": 20,
     "metadata": {},
     "output_type": "execute_result"
    }
   ],
   "source": [
    "df[df['title_status'].isnull()]"
   ]
  },
  {
   "cell_type": "markdown",
   "metadata": {},
   "source": [
    "Let's compare 'make' between two groups in 'title_status': notnull vs. isnull"
   ]
  },
  {
   "cell_type": "code",
   "execution_count": 22,
   "metadata": {},
   "outputs": [
    {
     "data": {
      "text/plain": [
       "1500                        13871\n",
       "f-150                       12992\n",
       "silverado 1500               8658\n",
       "2500                         8065\n",
       "silverado                    7976\n",
       "                            ...  \n",
       "altima 4dr sdn i4 2.5 sr        1\n",
       "1990 Camaro                     1\n",
       "kodiak c-70                     1\n",
       "escape hybrid 2005              1\n",
       "nash 400 deluxe                 1\n",
       "Name: make, Length: 75522, dtype: int64"
      ]
     },
     "execution_count": 22,
     "metadata": {},
     "output_type": "execute_result"
    }
   ],
   "source": [
    "#df['make'][df['title_status'].notnull()].value_counts().plot.bar(title='makes whose title_status is NOT null')\n",
    "df['make'][df['title_status'].notnull()].value_counts()\n",
    "#plt.savefig('makes whose title_status is NOT null.png')"
   ]
  },
  {
   "cell_type": "code",
   "execution_count": 23,
   "metadata": {},
   "outputs": [
    {
     "data": {
      "text/plain": [
       "corolla                             16\n",
       "civic                               15\n",
       "focus                               13\n",
       "accord                              13\n",
       "impreza                             12\n",
       "                                    ..\n",
       "dakota slt                           1\n",
       "wrangler x 6 speed manual            1\n",
       "sienna fwd                           1\n",
       "equinox ls 2wd 5-speed automatic     1\n",
       "lacrosse                             1\n",
       "Name: make, Length: 725, dtype: int64"
      ]
     },
     "execution_count": 23,
     "metadata": {},
     "output_type": "execute_result"
    }
   ],
   "source": [
    "#df['make'][df['title_status'].isnull()].value_counts().plot.bar(title='makes whose title_status is null')\n",
    "df['make'][df['title_status'].isnull()].value_counts()\n",
    "#plt.savefig('makes whose title_status is null.png')"
   ]
  },
  {
   "cell_type": "markdown",
   "metadata": {},
   "source": [
    "As seen above, top 'makes' of isnull in 'title_status' seem small sedan or Japanese brands unlike top 'makes' of notnull in 'title_status'."
   ]
  },
  {
   "cell_type": "markdown",
   "metadata": {},
   "source": [
    "Let's compare 'manufacturer' between two groups in 'title_status': notnull vs. isnull"
   ]
  },
  {
   "cell_type": "code",
   "execution_count": 24,
   "metadata": {},
   "outputs": [
    {
     "data": {
      "image/png": "[encoded data removed]",
      "text/plain": [
       "<Figure size 432x288 with 1 Axes>"
      ]
     },
     "metadata": {
      "needs_background": "light"
     },
     "output_type": "display_data"
    }
   ],
   "source": [
    "((df['manufacturer'][df['title_status'].notnull()].value_counts()/len(df['manufacturer'][df['title_status'].notnull()])).astype(float)*100).plot.bar(title='manufacturers whose title_status is not NaN');\n",
    "plt.savefig('manufacturers whose title_status is not null')"
   ]
  },
  {
   "cell_type": "code",
   "execution_count": 25,
   "metadata": {},
   "outputs": [
    {
     "data": {
      "image/png": "[encoded data removed]",
      "text/plain": [
       "<Figure size 432x288 with 1 Axes>"
      ]
     },
     "metadata": {
      "needs_background": "light"
     },
     "output_type": "display_data"
    }
   ],
   "source": [
    "((df['manufacturer'][df['title_status'].isnull()].value_counts()/len(df['manufacturer'][df['title_status'].isnull()])).astype(float)*100).plot.bar(title='manufacturers whose title_status is NaN');\n",
    "plt.savefig('manufacturers whose title_status is null')"
   ]
  },
  {
   "cell_type": "markdown",
   "metadata": {},
   "source": [
    "As seen above, there seems no obvious correlation with notnull and isnull of 'title_status' regarding 'make' and 'manufacturer'."
   ]
  },
  {
   "cell_type": "markdown",
   "metadata": {},
   "source": [
    "Let's compare 'type' between two groups in 'title_status': notnull vs. isnull"
   ]
  },
  {
   "cell_type": "code",
   "execution_count": 27,
   "metadata": {},
   "outputs": [
    {
     "data": {
      "image/png": "[encoded data removed]",
      "text/plain": [
       "<Figure size 432x288 with 1 Axes>"
      ]
     },
     "metadata": {
      "needs_background": "light"
     },
     "output_type": "display_data"
    }
   ],
   "source": [
    "((df['type'][df['title_status'].notnull()].value_counts()/len(df['type'][df['title_status'].notnull()])).astype(float)*100).plot.bar(title='types whose title_status is NOT null');\n",
    "plt.savefig('types whose title_status is NOT null')"
   ]
  },
  {
   "cell_type": "code",
   "execution_count": 28,
   "metadata": {},
   "outputs": [
    {
     "data": {
      "image/png": "[encoded data removed]",
      "text/plain": [
       "<Figure size 432x288 with 1 Axes>"
      ]
     },
     "metadata": {
      "needs_background": "light"
     },
     "output_type": "display_data"
    }
   ],
   "source": [
    "((df['type'][df['title_status'].isnull()].value_counts()/len(df['type'][df['title_status'].isnull()])).astype(float)*100).plot.bar(title='types whose title_status is null');\n",
    "plt.savefig('types whose title_status is null')"
   ]
  },
  {
   "cell_type": "markdown",
   "metadata": {},
   "source": [
    "Let's leave rows with null value in 'title_status' in that null value of 'title_status' can be ignorable."
   ]
  },
  {
   "cell_type": "markdown",
   "metadata": {},
   "source": [
    "Let's look into 'trasmission' by value_counts()."
   ]
  },
  {
   "cell_type": "code",
   "execution_count": 34,
   "metadata": {},
   "outputs": [
    {
     "data": {
      "image/png": "[encoded data removed]",
      "text/plain": [
       "<Figure size 432x288 with 1 Axes>"
      ]
     },
     "metadata": {
      "needs_background": "light"
     },
     "output_type": "display_data"
    }
   ],
   "source": [
    "df['transmission'].value_counts().plot.bar(title='value counts of transmission');\n",
    "plt.savefig('value counts of transmission')"
   ]
  },
  {
   "cell_type": "markdown",
   "metadata": {},
   "source": [
    "Now let's take a look at rows whose 'transmission' value is null."
   ]
  },
  {
   "cell_type": "code",
   "execution_count": 30,
   "metadata": {},
   "outputs": [
    {
     "data": {
      "text/html": [
       "<div>\n",
       "<style scoped>\n",
       "    .dataframe tbody tr th:only-of-type {\n",
       "        vertical-align: middle;\n",
       "    }\n",
       "\n",
       "    .dataframe tbody tr th {\n",
       "        vertical-align: top;\n",
       "    }\n",
       "\n",
       "    .dataframe thead th {\n",
       "        text-align: right;\n",
       "    }\n",
       "</style>\n",
       "<table border=\"1\" class=\"dataframe\">\n",
       "  <thead>\n",
       "    <tr style=\"text-align: right;\">\n",
       "      <th></th>\n",
       "      <th>url</th>\n",
       "      <th>city</th>\n",
       "      <th>price</th>\n",
       "      <th>year</th>\n",
       "      <th>manufacturer</th>\n",
       "      <th>make</th>\n",
       "      <th>condition</th>\n",
       "      <th>cylinders</th>\n",
       "      <th>fuel</th>\n",
       "      <th>odometer</th>\n",
       "      <th>title_status</th>\n",
       "      <th>transmission</th>\n",
       "      <th>vin</th>\n",
       "      <th>drive</th>\n",
       "      <th>size</th>\n",
       "      <th>type</th>\n",
       "      <th>paint_color</th>\n",
       "      <th>image_url</th>\n",
       "      <th>lat</th>\n",
       "      <th>long</th>\n",
       "      <th>county_fips</th>\n",
       "      <th>county_name</th>\n",
       "      <th>state_fips</th>\n",
       "      <th>state_code</th>\n",
       "      <th>state_name</th>\n",
       "      <th>weather</th>\n",
       "    </tr>\n",
       "  </thead>\n",
       "  <tbody>\n",
       "    <tr>\n",
       "      <th>7</th>\n",
       "      <td>https://marshall.craigslist.org/ctd/d/2008-bmw...</td>\n",
       "      <td>marshall</td>\n",
       "      <td>3900</td>\n",
       "      <td>2008</td>\n",
       "      <td>bmw</td>\n",
       "      <td>3 series</td>\n",
       "      <td>NaN</td>\n",
       "      <td>NaN</td>\n",
       "      <td>gas</td>\n",
       "      <td>0.0</td>\n",
       "      <td>clean</td>\n",
       "      <td>NaN</td>\n",
       "      <td>WBAVA37508NL47474</td>\n",
       "      <td>NaN</td>\n",
       "      <td>NaN</td>\n",
       "      <td>NaN</td>\n",
       "      <td>NaN</td>\n",
       "      <td>https://images.craigslist.org/00202_8ciATrWst3...</td>\n",
       "      <td>41.622572</td>\n",
       "      <td>-87.632656</td>\n",
       "      <td>17031.0</td>\n",
       "      <td>Cook</td>\n",
       "      <td>17.0</td>\n",
       "      <td>IL</td>\n",
       "      <td>Illinois</td>\n",
       "      <td>48.0</td>\n",
       "    </tr>\n",
       "    <tr>\n",
       "      <th>2079</th>\n",
       "      <td>https://buffalo.craigslist.org/ctd/d/2008-bmw-...</td>\n",
       "      <td>buffalo</td>\n",
       "      <td>8995</td>\n",
       "      <td>2008</td>\n",
       "      <td>bmw</td>\n",
       "      <td>328xi</td>\n",
       "      <td>NaN</td>\n",
       "      <td>NaN</td>\n",
       "      <td>gas</td>\n",
       "      <td>91340.0</td>\n",
       "      <td>clean</td>\n",
       "      <td>NaN</td>\n",
       "      <td>WBAVC93508KZ72509</td>\n",
       "      <td>NaN</td>\n",
       "      <td>compact</td>\n",
       "      <td>sedan</td>\n",
       "      <td>black</td>\n",
       "      <td>https://images.craigslist.org/01313_blKOGJyXhB...</td>\n",
       "      <td>42.863917</td>\n",
       "      <td>-78.754393</td>\n",
       "      <td>36029.0</td>\n",
       "      <td>Erie</td>\n",
       "      <td>36.0</td>\n",
       "      <td>NY</td>\n",
       "      <td>New York</td>\n",
       "      <td>53.0</td>\n",
       "    </tr>\n",
       "    <tr>\n",
       "      <th>2264</th>\n",
       "      <td>https://providence.craigslist.org/ctd/d/2012-f...</td>\n",
       "      <td>providence</td>\n",
       "      <td>6995</td>\n",
       "      <td>2012</td>\n",
       "      <td>ford</td>\n",
       "      <td>fiesta</td>\n",
       "      <td>NaN</td>\n",
       "      <td>NaN</td>\n",
       "      <td>other</td>\n",
       "      <td>73002.0</td>\n",
       "      <td>clean</td>\n",
       "      <td>NaN</td>\n",
       "      <td>3FADP4FJXCM183774</td>\n",
       "      <td>NaN</td>\n",
       "      <td>sub-compact</td>\n",
       "      <td>hatchback</td>\n",
       "      <td>black</td>\n",
       "      <td>https://images.craigslist.org/00p0p_1E1CnNRAjU...</td>\n",
       "      <td>41.868090</td>\n",
       "      <td>-71.509330</td>\n",
       "      <td>44007.0</td>\n",
       "      <td>Providence</td>\n",
       "      <td>44.0</td>\n",
       "      <td>RI</td>\n",
       "      <td>Rhode Island</td>\n",
       "      <td>49.0</td>\n",
       "    </tr>\n",
       "    <tr>\n",
       "      <th>2402</th>\n",
       "      <td>https://providence.craigslist.org/ctd/d/2006-f...</td>\n",
       "      <td>providence</td>\n",
       "      <td>32990</td>\n",
       "      <td>2006</td>\n",
       "      <td>ford</td>\n",
       "      <td>f-550</td>\n",
       "      <td>NaN</td>\n",
       "      <td>NaN</td>\n",
       "      <td>diesel</td>\n",
       "      <td>103939.0</td>\n",
       "      <td>clean</td>\n",
       "      <td>NaN</td>\n",
       "      <td>1FDAF57P66ED20417</td>\n",
       "      <td>4wd</td>\n",
       "      <td>full-size</td>\n",
       "      <td>other</td>\n",
       "      <td>white</td>\n",
       "      <td>https://images.craigslist.org/00000_eHkL6uPf3G...</td>\n",
       "      <td>42.834977</td>\n",
       "      <td>-71.107791</td>\n",
       "      <td>33015.0</td>\n",
       "      <td>Rockingham</td>\n",
       "      <td>33.0</td>\n",
       "      <td>NH</td>\n",
       "      <td>New Hampshire</td>\n",
       "      <td>43.0</td>\n",
       "    </tr>\n",
       "    <tr>\n",
       "      <th>2474</th>\n",
       "      <td>https://daytona.craigslist.org/ctd/d/2012-merc...</td>\n",
       "      <td>daytona</td>\n",
       "      <td>21995</td>\n",
       "      <td>2012</td>\n",
       "      <td>mercedes-benz</td>\n",
       "      <td>e-class</td>\n",
       "      <td>NaN</td>\n",
       "      <td>NaN</td>\n",
       "      <td>gas</td>\n",
       "      <td>NaN</td>\n",
       "      <td>clean</td>\n",
       "      <td>NaN</td>\n",
       "      <td>WDDHF8JB6CA552543</td>\n",
       "      <td>NaN</td>\n",
       "      <td>NaN</td>\n",
       "      <td>sedan</td>\n",
       "      <td>black</td>\n",
       "      <td>https://images.craigslist.org/00g0g_bQb8OB23qW...</td>\n",
       "      <td>28.424030</td>\n",
       "      <td>-81.404090</td>\n",
       "      <td>12095.0</td>\n",
       "      <td>Orange</td>\n",
       "      <td>12.0</td>\n",
       "      <td>FL</td>\n",
       "      <td>Florida</td>\n",
       "      <td>65.0</td>\n",
       "    </tr>\n",
       "    <tr>\n",
       "      <th>...</th>\n",
       "      <td>...</td>\n",
       "      <td>...</td>\n",
       "      <td>...</td>\n",
       "      <td>...</td>\n",
       "      <td>...</td>\n",
       "      <td>...</td>\n",
       "      <td>...</td>\n",
       "      <td>...</td>\n",
       "      <td>...</td>\n",
       "      <td>...</td>\n",
       "      <td>...</td>\n",
       "      <td>...</td>\n",
       "      <td>...</td>\n",
       "      <td>...</td>\n",
       "      <td>...</td>\n",
       "      <td>...</td>\n",
       "      <td>...</td>\n",
       "      <td>...</td>\n",
       "      <td>...</td>\n",
       "      <td>...</td>\n",
       "      <td>...</td>\n",
       "      <td>...</td>\n",
       "      <td>...</td>\n",
       "      <td>...</td>\n",
       "      <td>...</td>\n",
       "      <td>...</td>\n",
       "    </tr>\n",
       "    <tr>\n",
       "      <th>1048900</th>\n",
       "      <td>https://topeka.craigslist.org/ctd/d/2015-gmc-y...</td>\n",
       "      <td>topeka</td>\n",
       "      <td>38995</td>\n",
       "      <td>2015</td>\n",
       "      <td>gmc</td>\n",
       "      <td>yukon</td>\n",
       "      <td>NaN</td>\n",
       "      <td>NaN</td>\n",
       "      <td>NaN</td>\n",
       "      <td>71080.0</td>\n",
       "      <td>clean</td>\n",
       "      <td>NaN</td>\n",
       "      <td>1GKS2CKJXFR174578</td>\n",
       "      <td>NaN</td>\n",
       "      <td>NaN</td>\n",
       "      <td>NaN</td>\n",
       "      <td>NaN</td>\n",
       "      <td>https://images.craigslist.org/00z0z_2z0Jj7eIQL...</td>\n",
       "      <td>38.641900</td>\n",
       "      <td>-94.328500</td>\n",
       "      <td>29037.0</td>\n",
       "      <td>Cass/Van Buren</td>\n",
       "      <td>29.0</td>\n",
       "      <td>MO</td>\n",
       "      <td>Missouri</td>\n",
       "      <td>52.0</td>\n",
       "    </tr>\n",
       "    <tr>\n",
       "      <th>1048906</th>\n",
       "      <td>https://topeka.craigslist.org/ctd/d/2013-ford-...</td>\n",
       "      <td>topeka</td>\n",
       "      <td>38995</td>\n",
       "      <td>2013</td>\n",
       "      <td>ford</td>\n",
       "      <td>f350 super duty crew cab</td>\n",
       "      <td>NaN</td>\n",
       "      <td>NaN</td>\n",
       "      <td>NaN</td>\n",
       "      <td>98741.0</td>\n",
       "      <td>clean</td>\n",
       "      <td>NaN</td>\n",
       "      <td>1FT8W3DT0DEB13074</td>\n",
       "      <td>NaN</td>\n",
       "      <td>NaN</td>\n",
       "      <td>NaN</td>\n",
       "      <td>NaN</td>\n",
       "      <td>https://images.craigslist.org/00c0c_9Pwfu3Xd0R...</td>\n",
       "      <td>38.641900</td>\n",
       "      <td>-94.328500</td>\n",
       "      <td>29037.0</td>\n",
       "      <td>Cass/Van Buren</td>\n",
       "      <td>29.0</td>\n",
       "      <td>MO</td>\n",
       "      <td>Missouri</td>\n",
       "      <td>52.0</td>\n",
       "    </tr>\n",
       "    <tr>\n",
       "      <th>1048907</th>\n",
       "      <td>https://topeka.craigslist.org/ctd/d/2015-ford-...</td>\n",
       "      <td>topeka</td>\n",
       "      <td>22861</td>\n",
       "      <td>2015</td>\n",
       "      <td>ford</td>\n",
       "      <td>explorer</td>\n",
       "      <td>NaN</td>\n",
       "      <td>NaN</td>\n",
       "      <td>NaN</td>\n",
       "      <td>91340.0</td>\n",
       "      <td>clean</td>\n",
       "      <td>NaN</td>\n",
       "      <td>1FM5K8F86FGA95669</td>\n",
       "      <td>NaN</td>\n",
       "      <td>NaN</td>\n",
       "      <td>NaN</td>\n",
       "      <td>NaN</td>\n",
       "      <td>https://images.craigslist.org/00B0B_7WFdpNNUMx...</td>\n",
       "      <td>38.641900</td>\n",
       "      <td>-94.328500</td>\n",
       "      <td>29037.0</td>\n",
       "      <td>Cass/Van Buren</td>\n",
       "      <td>29.0</td>\n",
       "      <td>MO</td>\n",
       "      <td>Missouri</td>\n",
       "      <td>52.0</td>\n",
       "    </tr>\n",
       "    <tr>\n",
       "      <th>1048908</th>\n",
       "      <td>https://topeka.craigslist.org/ctd/d/2013-dodge...</td>\n",
       "      <td>topeka</td>\n",
       "      <td>23335</td>\n",
       "      <td>2013</td>\n",
       "      <td>dodge</td>\n",
       "      <td>durango</td>\n",
       "      <td>NaN</td>\n",
       "      <td>NaN</td>\n",
       "      <td>NaN</td>\n",
       "      <td>88117.0</td>\n",
       "      <td>clean</td>\n",
       "      <td>NaN</td>\n",
       "      <td>1C4SDJCT9DC559544</td>\n",
       "      <td>NaN</td>\n",
       "      <td>NaN</td>\n",
       "      <td>NaN</td>\n",
       "      <td>NaN</td>\n",
       "      <td>https://images.craigslist.org/00w0w_iH2JMTzlGe...</td>\n",
       "      <td>38.641900</td>\n",
       "      <td>-94.328500</td>\n",
       "      <td>29037.0</td>\n",
       "      <td>Cass/Van Buren</td>\n",
       "      <td>29.0</td>\n",
       "      <td>MO</td>\n",
       "      <td>Missouri</td>\n",
       "      <td>52.0</td>\n",
       "    </tr>\n",
       "    <tr>\n",
       "      <th>1048916</th>\n",
       "      <td>https://topeka.craigslist.org/ctd/d/2014-infin...</td>\n",
       "      <td>topeka</td>\n",
       "      <td>31883</td>\n",
       "      <td>2014</td>\n",
       "      <td>infiniti</td>\n",
       "      <td>qx80</td>\n",
       "      <td>NaN</td>\n",
       "      <td>NaN</td>\n",
       "      <td>NaN</td>\n",
       "      <td>91964.0</td>\n",
       "      <td>clean</td>\n",
       "      <td>NaN</td>\n",
       "      <td>JN8AZ2NE2E9063120</td>\n",
       "      <td>NaN</td>\n",
       "      <td>NaN</td>\n",
       "      <td>NaN</td>\n",
       "      <td>NaN</td>\n",
       "      <td>https://images.craigslist.org/00404_62V1mFvNhw...</td>\n",
       "      <td>38.641900</td>\n",
       "      <td>-94.328500</td>\n",
       "      <td>29037.0</td>\n",
       "      <td>Cass/Van Buren</td>\n",
       "      <td>29.0</td>\n",
       "      <td>MO</td>\n",
       "      <td>Missouri</td>\n",
       "      <td>52.0</td>\n",
       "    </tr>\n",
       "  </tbody>\n",
       "</table>\n",
       "<p>5816 rows × 26 columns</p>\n",
       "</div>"
      ],
      "text/plain": [
       "                                                       url        city  price  \\\n",
       "7        https://marshall.craigslist.org/ctd/d/2008-bmw...    marshall   3900   \n",
       "2079     https://buffalo.craigslist.org/ctd/d/2008-bmw-...     buffalo   8995   \n",
       "2264     https://providence.craigslist.org/ctd/d/2012-f...  providence   6995   \n",
       "2402     https://providence.craigslist.org/ctd/d/2006-f...  providence  32990   \n",
       "2474     https://daytona.craigslist.org/ctd/d/2012-merc...     daytona  21995   \n",
       "...                                                    ...         ...    ...   \n",
       "1048900  https://topeka.craigslist.org/ctd/d/2015-gmc-y...      topeka  38995   \n",
       "1048906  https://topeka.craigslist.org/ctd/d/2013-ford-...      topeka  38995   \n",
       "1048907  https://topeka.craigslist.org/ctd/d/2015-ford-...      topeka  22861   \n",
       "1048908  https://topeka.craigslist.org/ctd/d/2013-dodge...      topeka  23335   \n",
       "1048916  https://topeka.craigslist.org/ctd/d/2014-infin...      topeka  31883   \n",
       "\n",
       "         year   manufacturer                      make condition cylinders  \\\n",
       "7        2008            bmw                  3 series       NaN       NaN   \n",
       "2079     2008            bmw                     328xi       NaN       NaN   \n",
       "2264     2012           ford                    fiesta       NaN       NaN   \n",
       "2402     2006           ford                     f-550       NaN       NaN   \n",
       "2474     2012  mercedes-benz                   e-class       NaN       NaN   \n",
       "...       ...            ...                       ...       ...       ...   \n",
       "1048900  2015            gmc                     yukon       NaN       NaN   \n",
       "1048906  2013           ford  f350 super duty crew cab       NaN       NaN   \n",
       "1048907  2015           ford                  explorer       NaN       NaN   \n",
       "1048908  2013          dodge                   durango       NaN       NaN   \n",
       "1048916  2014       infiniti                      qx80       NaN       NaN   \n",
       "\n",
       "           fuel  odometer title_status transmission                vin drive  \\\n",
       "7           gas       0.0        clean          NaN  WBAVA37508NL47474   NaN   \n",
       "2079        gas   91340.0        clean          NaN  WBAVC93508KZ72509   NaN   \n",
       "2264      other   73002.0        clean          NaN  3FADP4FJXCM183774   NaN   \n",
       "2402     diesel  103939.0        clean          NaN  1FDAF57P66ED20417   4wd   \n",
       "2474        gas       NaN        clean          NaN  WDDHF8JB6CA552543   NaN   \n",
       "...         ...       ...          ...          ...                ...   ...   \n",
       "1048900     NaN   71080.0        clean          NaN  1GKS2CKJXFR174578   NaN   \n",
       "1048906     NaN   98741.0        clean          NaN  1FT8W3DT0DEB13074   NaN   \n",
       "1048907     NaN   91340.0        clean          NaN  1FM5K8F86FGA95669   NaN   \n",
       "1048908     NaN   88117.0        clean          NaN  1C4SDJCT9DC559544   NaN   \n",
       "1048916     NaN   91964.0        clean          NaN  JN8AZ2NE2E9063120   NaN   \n",
       "\n",
       "                size       type paint_color  \\\n",
       "7                NaN        NaN         NaN   \n",
       "2079         compact      sedan       black   \n",
       "2264     sub-compact  hatchback       black   \n",
       "2402       full-size      other       white   \n",
       "2474             NaN      sedan       black   \n",
       "...              ...        ...         ...   \n",
       "1048900          NaN        NaN         NaN   \n",
       "1048906          NaN        NaN         NaN   \n",
       "1048907          NaN        NaN         NaN   \n",
       "1048908          NaN        NaN         NaN   \n",
       "1048916          NaN        NaN         NaN   \n",
       "\n",
       "                                                 image_url        lat  \\\n",
       "7        https://images.craigslist.org/00202_8ciATrWst3...  41.622572   \n",
       "2079     https://images.craigslist.org/01313_blKOGJyXhB...  42.863917   \n",
       "2264     https://images.craigslist.org/00p0p_1E1CnNRAjU...  41.868090   \n",
       "2402     https://images.craigslist.org/00000_eHkL6uPf3G...  42.834977   \n",
       "2474     https://images.craigslist.org/00g0g_bQb8OB23qW...  28.424030   \n",
       "...                                                    ...        ...   \n",
       "1048900  https://images.craigslist.org/00z0z_2z0Jj7eIQL...  38.641900   \n",
       "1048906  https://images.craigslist.org/00c0c_9Pwfu3Xd0R...  38.641900   \n",
       "1048907  https://images.craigslist.org/00B0B_7WFdpNNUMx...  38.641900   \n",
       "1048908  https://images.craigslist.org/00w0w_iH2JMTzlGe...  38.641900   \n",
       "1048916  https://images.craigslist.org/00404_62V1mFvNhw...  38.641900   \n",
       "\n",
       "              long  county_fips     county_name  state_fips state_code  \\\n",
       "7       -87.632656      17031.0            Cook        17.0         IL   \n",
       "2079    -78.754393      36029.0            Erie        36.0         NY   \n",
       "2264    -71.509330      44007.0      Providence        44.0         RI   \n",
       "2402    -71.107791      33015.0      Rockingham        33.0         NH   \n",
       "2474    -81.404090      12095.0          Orange        12.0         FL   \n",
       "...            ...          ...             ...         ...        ...   \n",
       "1048900 -94.328500      29037.0  Cass/Van Buren        29.0         MO   \n",
       "1048906 -94.328500      29037.0  Cass/Van Buren        29.0         MO   \n",
       "1048907 -94.328500      29037.0  Cass/Van Buren        29.0         MO   \n",
       "1048908 -94.328500      29037.0  Cass/Van Buren        29.0         MO   \n",
       "1048916 -94.328500      29037.0  Cass/Van Buren        29.0         MO   \n",
       "\n",
       "            state_name  weather  \n",
       "7             Illinois     48.0  \n",
       "2079          New York     53.0  \n",
       "2264      Rhode Island     49.0  \n",
       "2402     New Hampshire     43.0  \n",
       "2474           Florida     65.0  \n",
       "...                ...      ...  \n",
       "1048900       Missouri     52.0  \n",
       "1048906       Missouri     52.0  \n",
       "1048907       Missouri     52.0  \n",
       "1048908       Missouri     52.0  \n",
       "1048916       Missouri     52.0  \n",
       "\n",
       "[5816 rows x 26 columns]"
      ]
     },
     "execution_count": 30,
     "metadata": {},
     "output_type": "execute_result"
    }
   ],
   "source": [
    "df[df['transmission'].isnull()]"
   ]
  },
  {
   "cell_type": "markdown",
   "metadata": {},
   "source": [
    "Let's compare 'make' between two groups in 'transmission': notnull vs. isnull"
   ]
  },
  {
   "cell_type": "code",
   "execution_count": 32,
   "metadata": {},
   "outputs": [
    {
     "data": {
      "text/plain": [
       "1500                           13850\n",
       "f-150                          12902\n",
       "silverado 1500                  8661\n",
       "2500                            8055\n",
       "silverado                       7872\n",
       "                               ...  \n",
       "1500 express cargo van             1\n",
       "cab truck                          1\n",
       "lesabre limited v6 3.              1\n",
       "yukon denali xl 4x4 gas suv        1\n",
       "nash 400 deluxe                    1\n",
       "Name: make, Length: 75438, dtype: int64"
      ]
     },
     "execution_count": 32,
     "metadata": {},
     "output_type": "execute_result"
    }
   ],
   "source": [
    "df['make'][df['transmission'].notnull()].value_counts()"
   ]
  },
  {
   "cell_type": "code",
   "execution_count": 33,
   "metadata": {},
   "outputs": [
    {
     "data": {
      "text/plain": [
       "altima             255\n",
       "accord             149\n",
       "wrangler           126\n",
       "civic              124\n",
       "silverado          114\n",
       "                  ... \n",
       "1500 4x4             1\n",
       "fastback type 3      1\n",
       "camaro lt rs         1\n",
       "e350s4 wagon         1\n",
       "280zx                1\n",
       "Name: make, Length: 994, dtype: int64"
      ]
     },
     "execution_count": 33,
     "metadata": {},
     "output_type": "execute_result"
    }
   ],
   "source": [
    "df['make'][df['transmission'].isnull()].value_counts()"
   ]
  },
  {
   "cell_type": "markdown",
   "metadata": {},
   "source": [
    "Let's keep rows with null value of 'transmission' because of the following reasons:\n",
    "\n",
    "(1) Null values in 'transmission' occupies insignificant portion at below than 1 %.\n",
    "\n",
    "(2) Given such other feature information as 'make', 'manufacturer', or 'type',  it is not available to assume which vehicle should be automatic or manual."
   ]
  },
  {
   "cell_type": "markdown",
   "metadata": {},
   "source": [
    "Let's look into 'title_status' by value_counts()."
   ]
  },
  {
   "cell_type": "code",
   "execution_count": 35,
   "metadata": {},
   "outputs": [
    {
     "data": {
      "image/png": "[encoded data removed]",
      "text/plain": [
       "<Figure size 432x288 with 1 Axes>"
      ]
     },
     "metadata": {
      "needs_background": "light"
     },
     "output_type": "display_data"
    }
   ],
   "source": [
    "df['fuel'].value_counts().plot.bar(title='value counts of fuel');\n",
    "plt.savefig('value counts of fuel')"
   ]
  },
  {
   "cell_type": "markdown",
   "metadata": {},
   "source": [
    "Let's compare 'make' between two groups in 'transmission': notnull vs. isnull"
   ]
  },
  {
   "cell_type": "code",
   "execution_count": 37,
   "metadata": {},
   "outputs": [
    {
     "data": {
      "text/plain": [
       "1500               13819\n",
       "f-150              12759\n",
       "silverado 1500      8398\n",
       "2500                8007\n",
       "silverado           7972\n",
       "                   ...  \n",
       "41 willie's            1\n",
       "430 l s                1\n",
       "avalange               1\n",
       "Kayot 24'              1\n",
       "nash 400 deluxe        1\n",
       "Name: make, Length: 74616, dtype: int64"
      ]
     },
     "execution_count": 37,
     "metadata": {},
     "output_type": "execute_result"
    }
   ],
   "source": [
    "df['make'][df['fuel'].notnull()].value_counts()"
   ]
  },
  {
   "cell_type": "code",
   "execution_count": 38,
   "metadata": {},
   "outputs": [
    {
     "data": {
      "text/plain": [
       "silverado 1500                          264\n",
       "f-150                                   234\n",
       "tundra                                  115\n",
       "tahoe                                    91\n",
       "sierra 1500                              76\n",
       "                                       ... \n",
       "escape xlt 2wd 2.5l                       1\n",
       "fuison                                    1\n",
       "econoline cargo van e-150 commercial      1\n",
       "cx-5 fwd 4dr auto grand touring           1\n",
       "c-hr xle premium fwd (natl)               1\n",
       "Name: make, Length: 1918, dtype: int64"
      ]
     },
     "execution_count": 38,
     "metadata": {},
     "output_type": "execute_result"
    }
   ],
   "source": [
    "df['make'][df['fuel'].isnull()].value_counts()"
   ]
  },
  {
   "cell_type": "markdown",
   "metadata": {},
   "source": [
    "As seen above, it is also difficult to judge true 'fuel' types for rows whose 'fuel' is null value.  Thus, let's keep 'fuel' as it is because of the following reasons:\n",
    "\n",
    "(1) Null values in 'transmission' occupies insignificant portion at below than 1 %.\n",
    "\n",
    "(2) Given such other feature information as 'make', 'manufacturer', or 'type', it is not available to assume which vehicle should be automatic or manual."
   ]
  },
  {
   "cell_type": "code",
   "execution_count": 40,
   "metadata": {},
   "outputs": [
    {
     "data": {
      "image/png": "[encoded data removed]",
      "text/plain": [
       "<Figure size 432x288 with 1 Axes>"
      ]
     },
     "metadata": {
      "needs_background": "light"
     },
     "output_type": "display_data"
    }
   ],
   "source": [
    "(((df.isnull().sum()/len(df)).sort_values(ascending = False)*100).astype(float)).plot.bar(title='null % per feature');"
   ]
  },
  {
   "cell_type": "markdown",
   "metadata": {},
   "source": [
    "Let's drop rows whose 'make' value is null in that null value of 'make' can not correlation with 'price'."
   ]
  },
  {
   "cell_type": "code",
   "execution_count": 41,
   "metadata": {},
   "outputs": [],
   "source": [
    "df.drop(df[df['make'].isnull()].index, inplace=True)"
   ]
  },
  {
   "cell_type": "markdown",
   "metadata": {},
   "source": [
    "Let's drop 'odometer' whose value is null."
   ]
  },
  {
   "cell_type": "code",
   "execution_count": 42,
   "metadata": {},
   "outputs": [],
   "source": [
    "df.drop(df[df['odometer'].isnull()].index, inplace=True)"
   ]
  },
  {
   "cell_type": "code",
   "execution_count": 43,
   "metadata": {},
   "outputs": [
    {
     "data": {
      "image/png": "[encoded data removed]",
      "text/plain": [
       "<Figure size 432x288 with 1 Axes>"
      ]
     },
     "metadata": {
      "needs_background": "light"
     },
     "output_type": "display_data"
    }
   ],
   "source": [
    "(((df.isnull().sum()/len(df)).sort_values(ascending = False)*100).astype(float)).plot.bar(title='null % per feature');"
   ]
  },
  {
   "cell_type": "code",
   "execution_count": null,
   "metadata": {},
   "outputs": [],
   "source": []
  },
  {
   "cell_type": "markdown",
   "metadata": {},
   "source": [
    "Let's take a look into such geographical information as 'lat' and 'long' whose 'county_fips' value is null."
   ]
  },
  {
   "cell_type": "code",
   "execution_count": 44,
   "metadata": {},
   "outputs": [
    {
     "data": {
      "text/html": [
       "<div>\n",
       "<style scoped>\n",
       "    .dataframe tbody tr th:only-of-type {\n",
       "        vertical-align: middle;\n",
       "    }\n",
       "\n",
       "    .dataframe tbody tr th {\n",
       "        vertical-align: top;\n",
       "    }\n",
       "\n",
       "    .dataframe thead th {\n",
       "        text-align: right;\n",
       "    }\n",
       "</style>\n",
       "<table border=\"1\" class=\"dataframe\">\n",
       "  <thead>\n",
       "    <tr style=\"text-align: right;\">\n",
       "      <th></th>\n",
       "      <th>lat</th>\n",
       "      <th>long</th>\n",
       "    </tr>\n",
       "  </thead>\n",
       "  <tbody>\n",
       "    <tr>\n",
       "      <th>9</th>\n",
       "      <td>46.514191</td>\n",
       "      <td>-84.291307</td>\n",
       "    </tr>\n",
       "    <tr>\n",
       "      <th>10</th>\n",
       "      <td>46.497529</td>\n",
       "      <td>-84.467464</td>\n",
       "    </tr>\n",
       "    <tr>\n",
       "      <th>11</th>\n",
       "      <td>46.497529</td>\n",
       "      <td>-84.467464</td>\n",
       "    </tr>\n",
       "    <tr>\n",
       "      <th>12</th>\n",
       "      <td>46.517791</td>\n",
       "      <td>-84.342291</td>\n",
       "    </tr>\n",
       "    <tr>\n",
       "      <th>14</th>\n",
       "      <td>46.512332</td>\n",
       "      <td>-84.252914</td>\n",
       "    </tr>\n",
       "    <tr>\n",
       "      <th>...</th>\n",
       "      <td>...</td>\n",
       "      <td>...</td>\n",
       "    </tr>\n",
       "    <tr>\n",
       "      <th>386911</th>\n",
       "      <td>49.060585</td>\n",
       "      <td>-122.381825</td>\n",
       "    </tr>\n",
       "    <tr>\n",
       "      <th>386912</th>\n",
       "      <td>49.060585</td>\n",
       "      <td>-122.381825</td>\n",
       "    </tr>\n",
       "    <tr>\n",
       "      <th>386913</th>\n",
       "      <td>49.206149</td>\n",
       "      <td>-122.878196</td>\n",
       "    </tr>\n",
       "    <tr>\n",
       "      <th>386915</th>\n",
       "      <td>49.206149</td>\n",
       "      <td>-122.878196</td>\n",
       "    </tr>\n",
       "    <tr>\n",
       "      <th>386916</th>\n",
       "      <td>52.140620</td>\n",
       "      <td>-122.152208</td>\n",
       "    </tr>\n",
       "  </tbody>\n",
       "</table>\n",
       "<p>44096 rows × 2 columns</p>\n",
       "</div>"
      ],
      "text/plain": [
       "              lat        long\n",
       "9       46.514191  -84.291307\n",
       "10      46.497529  -84.467464\n",
       "11      46.497529  -84.467464\n",
       "12      46.517791  -84.342291\n",
       "14      46.512332  -84.252914\n",
       "...           ...         ...\n",
       "386911  49.060585 -122.381825\n",
       "386912  49.060585 -122.381825\n",
       "386913  49.206149 -122.878196\n",
       "386915  49.206149 -122.878196\n",
       "386916  52.140620 -122.152208\n",
       "\n",
       "[44096 rows x 2 columns]"
      ]
     },
     "execution_count": 44,
     "metadata": {},
     "output_type": "execute_result"
    }
   ],
   "source": [
    "df[['lat', 'long']][df['county_fips'].isnull()]"
   ]
  },
  {
   "cell_type": "markdown",
   "metadata": {},
   "source": [
    "Let's trace back to find real location with 'lat' and 'long' information."
   ]
  },
  {
   "cell_type": "code",
   "execution_count": 45,
   "metadata": {},
   "outputs": [
    {
     "name": "stdout",
     "output_type": "stream",
     "text": [
      "Loading formatted geocoded file...\n"
     ]
    },
    {
     "data": {
      "text/html": [
       "<div>\n",
       "<style scoped>\n",
       "    .dataframe tbody tr th:only-of-type {\n",
       "        vertical-align: middle;\n",
       "    }\n",
       "\n",
       "    .dataframe tbody tr th {\n",
       "        vertical-align: top;\n",
       "    }\n",
       "\n",
       "    .dataframe thead th {\n",
       "        text-align: right;\n",
       "    }\n",
       "</style>\n",
       "<table border=\"1\" class=\"dataframe\">\n",
       "  <thead>\n",
       "    <tr style=\"text-align: right;\">\n",
       "      <th></th>\n",
       "      <th>url</th>\n",
       "      <th>city</th>\n",
       "      <th>price</th>\n",
       "      <th>year</th>\n",
       "      <th>manufacturer</th>\n",
       "      <th>make</th>\n",
       "      <th>condition</th>\n",
       "      <th>cylinders</th>\n",
       "      <th>fuel</th>\n",
       "      <th>odometer</th>\n",
       "      <th>title_status</th>\n",
       "      <th>transmission</th>\n",
       "      <th>vin</th>\n",
       "      <th>drive</th>\n",
       "      <th>size</th>\n",
       "      <th>type</th>\n",
       "      <th>paint_color</th>\n",
       "      <th>image_url</th>\n",
       "      <th>lat</th>\n",
       "      <th>long</th>\n",
       "      <th>county_fips</th>\n",
       "      <th>county_name</th>\n",
       "      <th>state_fips</th>\n",
       "      <th>state_code</th>\n",
       "      <th>state_name</th>\n",
       "      <th>weather</th>\n",
       "      <th>city1</th>\n",
       "      <th>state</th>\n",
       "      <th>county</th>\n",
       "    </tr>\n",
       "  </thead>\n",
       "  <tbody>\n",
       "    <tr>\n",
       "      <th>0</th>\n",
       "      <td>https://marshall.craigslist.org/cto/d/2010-dod...</td>\n",
       "      <td>marshall</td>\n",
       "      <td>11900</td>\n",
       "      <td>2010</td>\n",
       "      <td>dodge</td>\n",
       "      <td>challenger se</td>\n",
       "      <td>good</td>\n",
       "      <td>6 cylinders</td>\n",
       "      <td>gas</td>\n",
       "      <td>43600.0</td>\n",
       "      <td>clean</td>\n",
       "      <td>automatic</td>\n",
       "      <td>NaN</td>\n",
       "      <td>rwd</td>\n",
       "      <td>NaN</td>\n",
       "      <td>coupe</td>\n",
       "      <td>red</td>\n",
       "      <td>https://images.craigslist.org/00i0i_2ggH1eKDNK...</td>\n",
       "      <td>43.477500</td>\n",
       "      <td>-96.704100</td>\n",
       "      <td>46083.0</td>\n",
       "      <td>Lincoln</td>\n",
       "      <td>46.0</td>\n",
       "      <td>SD</td>\n",
       "      <td>South Dakota</td>\n",
       "      <td>38.0</td>\n",
       "      <td>Harrisburg</td>\n",
       "      <td>South Dakota</td>\n",
       "      <td>Lincoln County</td>\n",
       "    </tr>\n",
       "    <tr>\n",
       "      <th>3</th>\n",
       "      <td>https://marshall.craigslist.org/cto/d/ford-tau...</td>\n",
       "      <td>marshall</td>\n",
       "      <td>2800</td>\n",
       "      <td>2004</td>\n",
       "      <td>ford</td>\n",
       "      <td>taurus</td>\n",
       "      <td>good</td>\n",
       "      <td>6 cylinders</td>\n",
       "      <td>gas</td>\n",
       "      <td>168591.0</td>\n",
       "      <td>clean</td>\n",
       "      <td>automatic</td>\n",
       "      <td>1FAFP55UO4G113464</td>\n",
       "      <td>fwd</td>\n",
       "      <td>full-size</td>\n",
       "      <td>sedan</td>\n",
       "      <td>grey</td>\n",
       "      <td>https://images.craigslist.org/00L0L_5HUR1nQjt8...</td>\n",
       "      <td>43.284500</td>\n",
       "      <td>-95.593000</td>\n",
       "      <td>19143.0</td>\n",
       "      <td>Osceola</td>\n",
       "      <td>19.0</td>\n",
       "      <td>IA</td>\n",
       "      <td>Iowa</td>\n",
       "      <td>47.0</td>\n",
       "      <td>Sanborn</td>\n",
       "      <td>Iowa</td>\n",
       "      <td>O'Brien County</td>\n",
       "    </tr>\n",
       "    <tr>\n",
       "      <th>4</th>\n",
       "      <td>https://marshall.craigslist.org/cto/d/2001-gra...</td>\n",
       "      <td>marshall</td>\n",
       "      <td>400</td>\n",
       "      <td>2001</td>\n",
       "      <td>NaN</td>\n",
       "      <td>2001 Grand Prix</td>\n",
       "      <td>NaN</td>\n",
       "      <td>NaN</td>\n",
       "      <td>gas</td>\n",
       "      <td>217000.0</td>\n",
       "      <td>clean</td>\n",
       "      <td>automatic</td>\n",
       "      <td>NaN</td>\n",
       "      <td>NaN</td>\n",
       "      <td>NaN</td>\n",
       "      <td>NaN</td>\n",
       "      <td>NaN</td>\n",
       "      <td>https://images.craigslist.org/00n0n_bJJ1XnonSG...</td>\n",
       "      <td>43.026100</td>\n",
       "      <td>-94.406400</td>\n",
       "      <td>19109.0</td>\n",
       "      <td>Kossuth</td>\n",
       "      <td>19.0</td>\n",
       "      <td>IA</td>\n",
       "      <td>Iowa</td>\n",
       "      <td>47.0</td>\n",
       "      <td>Algona</td>\n",
       "      <td>Iowa</td>\n",
       "      <td>Kossuth County</td>\n",
       "    </tr>\n",
       "    <tr>\n",
       "      <th>5</th>\n",
       "      <td>https://marshall.craigslist.org/ctd/d/2007-gmc...</td>\n",
       "      <td>marshall</td>\n",
       "      <td>9900</td>\n",
       "      <td>2007</td>\n",
       "      <td>gmc</td>\n",
       "      <td>yukon</td>\n",
       "      <td>good</td>\n",
       "      <td>8 cylinders</td>\n",
       "      <td>gas</td>\n",
       "      <td>169000.0</td>\n",
       "      <td>clean</td>\n",
       "      <td>automatic</td>\n",
       "      <td>NaN</td>\n",
       "      <td>4wd</td>\n",
       "      <td>NaN</td>\n",
       "      <td>NaN</td>\n",
       "      <td>NaN</td>\n",
       "      <td>https://images.craigslist.org/00T0T_hFLz9hAHi0...</td>\n",
       "      <td>43.328149</td>\n",
       "      <td>-96.774445</td>\n",
       "      <td>46083.0</td>\n",
       "      <td>Lincoln</td>\n",
       "      <td>46.0</td>\n",
       "      <td>SD</td>\n",
       "      <td>South Dakota</td>\n",
       "      <td>38.0</td>\n",
       "      <td>Lennox</td>\n",
       "      <td>South Dakota</td>\n",
       "      <td>Lincoln County</td>\n",
       "    </tr>\n",
       "    <tr>\n",
       "      <th>6</th>\n",
       "      <td>https://marshall.craigslist.org/cto/d/2015-jee...</td>\n",
       "      <td>marshall</td>\n",
       "      <td>12500</td>\n",
       "      <td>2015</td>\n",
       "      <td>jeep</td>\n",
       "      <td>patriot high altitude</td>\n",
       "      <td>like new</td>\n",
       "      <td>4 cylinders</td>\n",
       "      <td>gas</td>\n",
       "      <td>39500.0</td>\n",
       "      <td>rebuilt</td>\n",
       "      <td>automatic</td>\n",
       "      <td>NaN</td>\n",
       "      <td>4wd</td>\n",
       "      <td>sub-compact</td>\n",
       "      <td>SUV</td>\n",
       "      <td>grey</td>\n",
       "      <td>https://images.craigslist.org/00404_RsUm4vwrGV...</td>\n",
       "      <td>43.548600</td>\n",
       "      <td>-96.633200</td>\n",
       "      <td>46099.0</td>\n",
       "      <td>Minnehaha</td>\n",
       "      <td>46.0</td>\n",
       "      <td>SD</td>\n",
       "      <td>South Dakota</td>\n",
       "      <td>38.0</td>\n",
       "      <td>Sioux Falls</td>\n",
       "      <td>South Dakota</td>\n",
       "      <td>Minnehaha County</td>\n",
       "    </tr>\n",
       "  </tbody>\n",
       "</table>\n",
       "</div>"
      ],
      "text/plain": [
       "                                                 url      city  price  year  \\\n",
       "0  https://marshall.craigslist.org/cto/d/2010-dod...  marshall  11900  2010   \n",
       "3  https://marshall.craigslist.org/cto/d/ford-tau...  marshall   2800  2004   \n",
       "4  https://marshall.craigslist.org/cto/d/2001-gra...  marshall    400  2001   \n",
       "5  https://marshall.craigslist.org/ctd/d/2007-gmc...  marshall   9900  2007   \n",
       "6  https://marshall.craigslist.org/cto/d/2015-jee...  marshall  12500  2015   \n",
       "\n",
       "  manufacturer                   make condition    cylinders fuel  odometer  \\\n",
       "0        dodge          challenger se      good  6 cylinders  gas   43600.0   \n",
       "3         ford                 taurus      good  6 cylinders  gas  168591.0   \n",
       "4          NaN        2001 Grand Prix       NaN          NaN  gas  217000.0   \n",
       "5          gmc                  yukon      good  8 cylinders  gas  169000.0   \n",
       "6         jeep  patriot high altitude  like new  4 cylinders  gas   39500.0   \n",
       "\n",
       "  title_status transmission                vin drive         size   type  \\\n",
       "0        clean    automatic                NaN   rwd          NaN  coupe   \n",
       "3        clean    automatic  1FAFP55UO4G113464   fwd    full-size  sedan   \n",
       "4        clean    automatic                NaN   NaN          NaN    NaN   \n",
       "5        clean    automatic                NaN   4wd          NaN    NaN   \n",
       "6      rebuilt    automatic                NaN   4wd  sub-compact    SUV   \n",
       "\n",
       "  paint_color                                          image_url        lat  \\\n",
       "0         red  https://images.craigslist.org/00i0i_2ggH1eKDNK...  43.477500   \n",
       "3        grey  https://images.craigslist.org/00L0L_5HUR1nQjt8...  43.284500   \n",
       "4         NaN  https://images.craigslist.org/00n0n_bJJ1XnonSG...  43.026100   \n",
       "5         NaN  https://images.craigslist.org/00T0T_hFLz9hAHi0...  43.328149   \n",
       "6        grey  https://images.craigslist.org/00404_RsUm4vwrGV...  43.548600   \n",
       "\n",
       "        long  county_fips county_name  state_fips state_code    state_name  \\\n",
       "0 -96.704100      46083.0     Lincoln        46.0         SD  South Dakota   \n",
       "3 -95.593000      19143.0     Osceola        19.0         IA          Iowa   \n",
       "4 -94.406400      19109.0     Kossuth        19.0         IA          Iowa   \n",
       "5 -96.774445      46083.0     Lincoln        46.0         SD  South Dakota   \n",
       "6 -96.633200      46099.0   Minnehaha        46.0         SD  South Dakota   \n",
       "\n",
       "   weather        city1         state            county  \n",
       "0     38.0   Harrisburg  South Dakota    Lincoln County  \n",
       "3     47.0      Sanborn          Iowa    O'Brien County  \n",
       "4     47.0       Algona          Iowa    Kossuth County  \n",
       "5     38.0       Lennox  South Dakota    Lincoln County  \n",
       "6     38.0  Sioux Falls  South Dakota  Minnehaha County  "
      ]
     },
     "execution_count": 45,
     "metadata": {},
     "output_type": "execute_result"
    }
   ],
   "source": [
    "import reverse_geocoder as rg \n",
    "import pprint \n",
    "\n",
    "def reverseGeocode(coordinates): \n",
    "    result = rg.search(coordinates)\n",
    "    return (result)\n",
    "\n",
    "if __name__==\"__main__\": \n",
    "\n",
    "    coordinates =list(zip(df['lat'],df['long'])) # generates pair of (lat,long)\n",
    "    data = reverseGeocode(coordinates)\n",
    "\n",
    "    df['city1'] = [i['name'] for i in data]\n",
    "    df['state'] = [i['admin1'] for i in data]\n",
    "    df['county'] = [i['admin2'] for i in data]\n",
    "\n",
    "df.head()"
   ]
  },
  {
   "cell_type": "markdown",
   "metadata": {},
   "source": [
    "Let's compare: 'city' vs. 'city1' and 'state_name' vs. 'state'."
   ]
  },
  {
   "cell_type": "code",
   "execution_count": 46,
   "metadata": {},
   "outputs": [
    {
     "data": {
      "text/html": [
       "<div>\n",
       "<style scoped>\n",
       "    .dataframe tbody tr th:only-of-type {\n",
       "        vertical-align: middle;\n",
       "    }\n",
       "\n",
       "    .dataframe tbody tr th {\n",
       "        vertical-align: top;\n",
       "    }\n",
       "\n",
       "    .dataframe thead th {\n",
       "        text-align: right;\n",
       "    }\n",
       "</style>\n",
       "<table border=\"1\" class=\"dataframe\">\n",
       "  <thead>\n",
       "    <tr style=\"text-align: right;\">\n",
       "      <th></th>\n",
       "      <th>city</th>\n",
       "      <th>city1</th>\n",
       "      <th>state_name</th>\n",
       "      <th>state</th>\n",
       "    </tr>\n",
       "  </thead>\n",
       "  <tbody>\n",
       "    <tr>\n",
       "      <th>0</th>\n",
       "      <td>marshall</td>\n",
       "      <td>Harrisburg</td>\n",
       "      <td>South Dakota</td>\n",
       "      <td>South Dakota</td>\n",
       "    </tr>\n",
       "    <tr>\n",
       "      <th>3</th>\n",
       "      <td>marshall</td>\n",
       "      <td>Sanborn</td>\n",
       "      <td>Iowa</td>\n",
       "      <td>Iowa</td>\n",
       "    </tr>\n",
       "    <tr>\n",
       "      <th>4</th>\n",
       "      <td>marshall</td>\n",
       "      <td>Algona</td>\n",
       "      <td>Iowa</td>\n",
       "      <td>Iowa</td>\n",
       "    </tr>\n",
       "    <tr>\n",
       "      <th>5</th>\n",
       "      <td>marshall</td>\n",
       "      <td>Lennox</td>\n",
       "      <td>South Dakota</td>\n",
       "      <td>South Dakota</td>\n",
       "    </tr>\n",
       "    <tr>\n",
       "      <th>6</th>\n",
       "      <td>marshall</td>\n",
       "      <td>Sioux Falls</td>\n",
       "      <td>South Dakota</td>\n",
       "      <td>South Dakota</td>\n",
       "    </tr>\n",
       "    <tr>\n",
       "      <th>...</th>\n",
       "      <td>...</td>\n",
       "      <td>...</td>\n",
       "      <td>...</td>\n",
       "      <td>...</td>\n",
       "    </tr>\n",
       "    <tr>\n",
       "      <th>1049187</th>\n",
       "      <td>topeka</td>\n",
       "      <td>Harrisonville</td>\n",
       "      <td>Missouri</td>\n",
       "      <td>Missouri</td>\n",
       "    </tr>\n",
       "    <tr>\n",
       "      <th>1049189</th>\n",
       "      <td>topeka</td>\n",
       "      <td>Harrisonville</td>\n",
       "      <td>Missouri</td>\n",
       "      <td>Missouri</td>\n",
       "    </tr>\n",
       "    <tr>\n",
       "      <th>1049193</th>\n",
       "      <td>topeka</td>\n",
       "      <td>Harrisonville</td>\n",
       "      <td>Missouri</td>\n",
       "      <td>Missouri</td>\n",
       "    </tr>\n",
       "    <tr>\n",
       "      <th>1049197</th>\n",
       "      <td>jacksonville</td>\n",
       "      <td>Bel-Nor</td>\n",
       "      <td>Missouri</td>\n",
       "      <td>Missouri</td>\n",
       "    </tr>\n",
       "    <tr>\n",
       "      <th>1049198</th>\n",
       "      <td>quadcities</td>\n",
       "      <td>Moscow Mills</td>\n",
       "      <td>Missouri</td>\n",
       "      <td>Missouri</td>\n",
       "    </tr>\n",
       "  </tbody>\n",
       "</table>\n",
       "<p>688855 rows × 4 columns</p>\n",
       "</div>"
      ],
      "text/plain": [
       "                 city          city1    state_name         state\n",
       "0            marshall     Harrisburg  South Dakota  South Dakota\n",
       "3            marshall        Sanborn          Iowa          Iowa\n",
       "4            marshall         Algona          Iowa          Iowa\n",
       "5            marshall         Lennox  South Dakota  South Dakota\n",
       "6            marshall    Sioux Falls  South Dakota  South Dakota\n",
       "...               ...            ...           ...           ...\n",
       "1049187        topeka  Harrisonville      Missouri      Missouri\n",
       "1049189        topeka  Harrisonville      Missouri      Missouri\n",
       "1049193        topeka  Harrisonville      Missouri      Missouri\n",
       "1049197  jacksonville        Bel-Nor      Missouri      Missouri\n",
       "1049198    quadcities   Moscow Mills      Missouri      Missouri\n",
       "\n",
       "[688855 rows x 4 columns]"
      ]
     },
     "execution_count": 46,
     "metadata": {},
     "output_type": "execute_result"
    }
   ],
   "source": [
    "df[['city','city1','state_name','state']]"
   ]
  },
  {
   "cell_type": "markdown",
   "metadata": {},
   "source": [
    "Let's check null values in 'city1' and 'state'."
   ]
  },
  {
   "cell_type": "code",
   "execution_count": 47,
   "metadata": {},
   "outputs": [
    {
     "data": {
      "text/html": [
       "<div>\n",
       "<style scoped>\n",
       "    .dataframe tbody tr th:only-of-type {\n",
       "        vertical-align: middle;\n",
       "    }\n",
       "\n",
       "    .dataframe tbody tr th {\n",
       "        vertical-align: top;\n",
       "    }\n",
       "\n",
       "    .dataframe thead th {\n",
       "        text-align: right;\n",
       "    }\n",
       "</style>\n",
       "<table border=\"1\" class=\"dataframe\">\n",
       "  <thead>\n",
       "    <tr style=\"text-align: right;\">\n",
       "      <th></th>\n",
       "      <th>city</th>\n",
       "      <th>state_name</th>\n",
       "    </tr>\n",
       "  </thead>\n",
       "  <tbody>\n",
       "  </tbody>\n",
       "</table>\n",
       "</div>"
      ],
      "text/plain": [
       "Empty DataFrame\n",
       "Columns: [city, state_name]\n",
       "Index: []"
      ]
     },
     "execution_count": 47,
     "metadata": {},
     "output_type": "execute_result"
    }
   ],
   "source": [
    "df[['city', 'state_name']][df['city1'].isnull()]"
   ]
  },
  {
   "cell_type": "code",
   "execution_count": 48,
   "metadata": {},
   "outputs": [
    {
     "data": {
      "text/html": [
       "<div>\n",
       "<style scoped>\n",
       "    .dataframe tbody tr th:only-of-type {\n",
       "        vertical-align: middle;\n",
       "    }\n",
       "\n",
       "    .dataframe tbody tr th {\n",
       "        vertical-align: top;\n",
       "    }\n",
       "\n",
       "    .dataframe thead th {\n",
       "        text-align: right;\n",
       "    }\n",
       "</style>\n",
       "<table border=\"1\" class=\"dataframe\">\n",
       "  <thead>\n",
       "    <tr style=\"text-align: right;\">\n",
       "      <th></th>\n",
       "      <th>city</th>\n",
       "      <th>state_name</th>\n",
       "    </tr>\n",
       "  </thead>\n",
       "  <tbody>\n",
       "  </tbody>\n",
       "</table>\n",
       "</div>"
      ],
      "text/plain": [
       "Empty DataFrame\n",
       "Columns: [city, state_name]\n",
       "Index: []"
      ]
     },
     "execution_count": 48,
     "metadata": {},
     "output_type": "execute_result"
    }
   ],
   "source": [
    "df[['city', 'state_name']][df['state'].isnull()]"
   ]
  },
  {
   "cell_type": "markdown",
   "metadata": {},
   "source": [
    "Let's check different values of rows between 'city' and 'city1'."
   ]
  },
  {
   "cell_type": "code",
   "execution_count": 49,
   "metadata": {},
   "outputs": [
    {
     "data": {
      "text/html": [
       "<div>\n",
       "<style scoped>\n",
       "    .dataframe tbody tr th:only-of-type {\n",
       "        vertical-align: middle;\n",
       "    }\n",
       "\n",
       "    .dataframe tbody tr th {\n",
       "        vertical-align: top;\n",
       "    }\n",
       "\n",
       "    .dataframe thead th {\n",
       "        text-align: right;\n",
       "    }\n",
       "</style>\n",
       "<table border=\"1\" class=\"dataframe\">\n",
       "  <thead>\n",
       "    <tr style=\"text-align: right;\">\n",
       "      <th></th>\n",
       "      <th>city</th>\n",
       "      <th>city1</th>\n",
       "      <th>state_name</th>\n",
       "      <th>state</th>\n",
       "    </tr>\n",
       "  </thead>\n",
       "  <tbody>\n",
       "    <tr>\n",
       "      <th>0</th>\n",
       "      <td>marshall</td>\n",
       "      <td>Harrisburg</td>\n",
       "      <td>South Dakota</td>\n",
       "      <td>South Dakota</td>\n",
       "    </tr>\n",
       "    <tr>\n",
       "      <th>3</th>\n",
       "      <td>marshall</td>\n",
       "      <td>Sanborn</td>\n",
       "      <td>Iowa</td>\n",
       "      <td>Iowa</td>\n",
       "    </tr>\n",
       "    <tr>\n",
       "      <th>4</th>\n",
       "      <td>marshall</td>\n",
       "      <td>Algona</td>\n",
       "      <td>Iowa</td>\n",
       "      <td>Iowa</td>\n",
       "    </tr>\n",
       "    <tr>\n",
       "      <th>5</th>\n",
       "      <td>marshall</td>\n",
       "      <td>Lennox</td>\n",
       "      <td>South Dakota</td>\n",
       "      <td>South Dakota</td>\n",
       "    </tr>\n",
       "    <tr>\n",
       "      <th>6</th>\n",
       "      <td>marshall</td>\n",
       "      <td>Sioux Falls</td>\n",
       "      <td>South Dakota</td>\n",
       "      <td>South Dakota</td>\n",
       "    </tr>\n",
       "    <tr>\n",
       "      <th>...</th>\n",
       "      <td>...</td>\n",
       "      <td>...</td>\n",
       "      <td>...</td>\n",
       "      <td>...</td>\n",
       "    </tr>\n",
       "    <tr>\n",
       "      <th>1049187</th>\n",
       "      <td>topeka</td>\n",
       "      <td>Harrisonville</td>\n",
       "      <td>Missouri</td>\n",
       "      <td>Missouri</td>\n",
       "    </tr>\n",
       "    <tr>\n",
       "      <th>1049189</th>\n",
       "      <td>topeka</td>\n",
       "      <td>Harrisonville</td>\n",
       "      <td>Missouri</td>\n",
       "      <td>Missouri</td>\n",
       "    </tr>\n",
       "    <tr>\n",
       "      <th>1049193</th>\n",
       "      <td>topeka</td>\n",
       "      <td>Harrisonville</td>\n",
       "      <td>Missouri</td>\n",
       "      <td>Missouri</td>\n",
       "    </tr>\n",
       "    <tr>\n",
       "      <th>1049197</th>\n",
       "      <td>jacksonville</td>\n",
       "      <td>Bel-Nor</td>\n",
       "      <td>Missouri</td>\n",
       "      <td>Missouri</td>\n",
       "    </tr>\n",
       "    <tr>\n",
       "      <th>1049198</th>\n",
       "      <td>quadcities</td>\n",
       "      <td>Moscow Mills</td>\n",
       "      <td>Missouri</td>\n",
       "      <td>Missouri</td>\n",
       "    </tr>\n",
       "  </tbody>\n",
       "</table>\n",
       "<p>688855 rows × 4 columns</p>\n",
       "</div>"
      ],
      "text/plain": [
       "                 city          city1    state_name         state\n",
       "0            marshall     Harrisburg  South Dakota  South Dakota\n",
       "3            marshall        Sanborn          Iowa          Iowa\n",
       "4            marshall         Algona          Iowa          Iowa\n",
       "5            marshall         Lennox  South Dakota  South Dakota\n",
       "6            marshall    Sioux Falls  South Dakota  South Dakota\n",
       "...               ...            ...           ...           ...\n",
       "1049187        topeka  Harrisonville      Missouri      Missouri\n",
       "1049189        topeka  Harrisonville      Missouri      Missouri\n",
       "1049193        topeka  Harrisonville      Missouri      Missouri\n",
       "1049197  jacksonville        Bel-Nor      Missouri      Missouri\n",
       "1049198    quadcities   Moscow Mills      Missouri      Missouri\n",
       "\n",
       "[688855 rows x 4 columns]"
      ]
     },
     "execution_count": 49,
     "metadata": {},
     "output_type": "execute_result"
    }
   ],
   "source": [
    "df[['city','city1','state_name','state']][df['city'] != df['city1']]"
   ]
  },
  {
   "cell_type": "markdown",
   "metadata": {},
   "source": [
    "Let's check different values of rows between 'state_name' and 'state'."
   ]
  },
  {
   "cell_type": "code",
   "execution_count": 50,
   "metadata": {},
   "outputs": [
    {
     "data": {
      "text/html": [
       "<div>\n",
       "<style scoped>\n",
       "    .dataframe tbody tr th:only-of-type {\n",
       "        vertical-align: middle;\n",
       "    }\n",
       "\n",
       "    .dataframe tbody tr th {\n",
       "        vertical-align: top;\n",
       "    }\n",
       "\n",
       "    .dataframe thead th {\n",
       "        text-align: right;\n",
       "    }\n",
       "</style>\n",
       "<table border=\"1\" class=\"dataframe\">\n",
       "  <thead>\n",
       "    <tr style=\"text-align: right;\">\n",
       "      <th></th>\n",
       "      <th>city</th>\n",
       "      <th>city1</th>\n",
       "      <th>state_name</th>\n",
       "      <th>state</th>\n",
       "    </tr>\n",
       "  </thead>\n",
       "  <tbody>\n",
       "    <tr>\n",
       "      <th>9</th>\n",
       "      <td>soo</td>\n",
       "      <td>Sault Ste. Marie</td>\n",
       "      <td>FAILED</td>\n",
       "      <td>Ontario</td>\n",
       "    </tr>\n",
       "    <tr>\n",
       "      <th>10</th>\n",
       "      <td>soo</td>\n",
       "      <td>Sault Ste. Marie</td>\n",
       "      <td>FAILED</td>\n",
       "      <td>Michigan</td>\n",
       "    </tr>\n",
       "    <tr>\n",
       "      <th>11</th>\n",
       "      <td>soo</td>\n",
       "      <td>Sault Ste. Marie</td>\n",
       "      <td>FAILED</td>\n",
       "      <td>Michigan</td>\n",
       "    </tr>\n",
       "    <tr>\n",
       "      <th>12</th>\n",
       "      <td>soo</td>\n",
       "      <td>Sault Ste. Marie</td>\n",
       "      <td>FAILED</td>\n",
       "      <td>Ontario</td>\n",
       "    </tr>\n",
       "    <tr>\n",
       "      <th>14</th>\n",
       "      <td>soo</td>\n",
       "      <td>Sault Ste. Marie</td>\n",
       "      <td>FAILED</td>\n",
       "      <td>Ontario</td>\n",
       "    </tr>\n",
       "    <tr>\n",
       "      <th>...</th>\n",
       "      <td>...</td>\n",
       "      <td>...</td>\n",
       "      <td>...</td>\n",
       "      <td>...</td>\n",
       "    </tr>\n",
       "    <tr>\n",
       "      <th>1044627</th>\n",
       "      <td>springfield</td>\n",
       "      <td>Galena</td>\n",
       "      <td>Missouri</td>\n",
       "      <td>Kansas</td>\n",
       "    </tr>\n",
       "    <tr>\n",
       "      <th>1044798</th>\n",
       "      <td>springfield</td>\n",
       "      <td>Bella Vista</td>\n",
       "      <td>Missouri</td>\n",
       "      <td>Arkansas</td>\n",
       "    </tr>\n",
       "    <tr>\n",
       "      <th>1046452</th>\n",
       "      <td>columbiamo</td>\n",
       "      <td>Leawood</td>\n",
       "      <td>Missouri</td>\n",
       "      <td>Kansas</td>\n",
       "    </tr>\n",
       "    <tr>\n",
       "      <th>1046913</th>\n",
       "      <td>columbiamo</td>\n",
       "      <td>Mission Hills</td>\n",
       "      <td>Missouri</td>\n",
       "      <td>Kansas</td>\n",
       "    </tr>\n",
       "    <tr>\n",
       "      <th>1048840</th>\n",
       "      <td>topeka</td>\n",
       "      <td>Leawood</td>\n",
       "      <td>Missouri</td>\n",
       "      <td>Kansas</td>\n",
       "    </tr>\n",
       "  </tbody>\n",
       "</table>\n",
       "<p>50205 rows × 4 columns</p>\n",
       "</div>"
      ],
      "text/plain": [
       "                city             city1 state_name     state\n",
       "9                soo  Sault Ste. Marie     FAILED   Ontario\n",
       "10               soo  Sault Ste. Marie     FAILED  Michigan\n",
       "11               soo  Sault Ste. Marie     FAILED  Michigan\n",
       "12               soo  Sault Ste. Marie     FAILED   Ontario\n",
       "14               soo  Sault Ste. Marie     FAILED   Ontario\n",
       "...              ...               ...        ...       ...\n",
       "1044627  springfield            Galena   Missouri    Kansas\n",
       "1044798  springfield       Bella Vista   Missouri  Arkansas\n",
       "1046452   columbiamo           Leawood   Missouri    Kansas\n",
       "1046913   columbiamo     Mission Hills   Missouri    Kansas\n",
       "1048840       topeka           Leawood   Missouri    Kansas\n",
       "\n",
       "[50205 rows x 4 columns]"
      ]
     },
     "execution_count": 50,
     "metadata": {},
     "output_type": "execute_result"
    }
   ],
   "source": [
    "df[['city','city1','state_name','state']][df['state_name'] != df['state']]"
   ]
  },
  {
   "cell_type": "markdown",
   "metadata": {},
   "source": [
    "Let's drop 'city', 'state_name' and other unnecessary columns."
   ]
  },
  {
   "cell_type": "code",
   "execution_count": 51,
   "metadata": {},
   "outputs": [
    {
     "data": {
      "text/html": [
       "<div>\n",
       "<style scoped>\n",
       "    .dataframe tbody tr th:only-of-type {\n",
       "        vertical-align: middle;\n",
       "    }\n",
       "\n",
       "    .dataframe tbody tr th {\n",
       "        vertical-align: top;\n",
       "    }\n",
       "\n",
       "    .dataframe thead th {\n",
       "        text-align: right;\n",
       "    }\n",
       "</style>\n",
       "<table border=\"1\" class=\"dataframe\">\n",
       "  <thead>\n",
       "    <tr style=\"text-align: right;\">\n",
       "      <th></th>\n",
       "      <th>url</th>\n",
       "      <th>city</th>\n",
       "      <th>price</th>\n",
       "      <th>year</th>\n",
       "      <th>manufacturer</th>\n",
       "      <th>make</th>\n",
       "      <th>condition</th>\n",
       "      <th>cylinders</th>\n",
       "      <th>fuel</th>\n",
       "      <th>odometer</th>\n",
       "      <th>title_status</th>\n",
       "      <th>transmission</th>\n",
       "      <th>vin</th>\n",
       "      <th>drive</th>\n",
       "      <th>size</th>\n",
       "      <th>type</th>\n",
       "      <th>paint_color</th>\n",
       "      <th>image_url</th>\n",
       "      <th>lat</th>\n",
       "      <th>long</th>\n",
       "      <th>county_fips</th>\n",
       "      <th>county_name</th>\n",
       "      <th>state_fips</th>\n",
       "      <th>state_code</th>\n",
       "      <th>state_name</th>\n",
       "      <th>weather</th>\n",
       "      <th>city1</th>\n",
       "      <th>state</th>\n",
       "      <th>county</th>\n",
       "    </tr>\n",
       "  </thead>\n",
       "  <tbody>\n",
       "    <tr>\n",
       "      <th>0</th>\n",
       "      <td>https://marshall.craigslist.org/cto/d/2010-dod...</td>\n",
       "      <td>marshall</td>\n",
       "      <td>11900</td>\n",
       "      <td>2010</td>\n",
       "      <td>dodge</td>\n",
       "      <td>challenger se</td>\n",
       "      <td>good</td>\n",
       "      <td>6 cylinders</td>\n",
       "      <td>gas</td>\n",
       "      <td>43600.0</td>\n",
       "      <td>clean</td>\n",
       "      <td>automatic</td>\n",
       "      <td>NaN</td>\n",
       "      <td>rwd</td>\n",
       "      <td>NaN</td>\n",
       "      <td>coupe</td>\n",
       "      <td>red</td>\n",
       "      <td>https://images.craigslist.org/00i0i_2ggH1eKDNK...</td>\n",
       "      <td>43.477500</td>\n",
       "      <td>-96.704100</td>\n",
       "      <td>46083.0</td>\n",
       "      <td>Lincoln</td>\n",
       "      <td>46.0</td>\n",
       "      <td>SD</td>\n",
       "      <td>South Dakota</td>\n",
       "      <td>38.0</td>\n",
       "      <td>Harrisburg</td>\n",
       "      <td>South Dakota</td>\n",
       "      <td>Lincoln County</td>\n",
       "    </tr>\n",
       "    <tr>\n",
       "      <th>3</th>\n",
       "      <td>https://marshall.craigslist.org/cto/d/ford-tau...</td>\n",
       "      <td>marshall</td>\n",
       "      <td>2800</td>\n",
       "      <td>2004</td>\n",
       "      <td>ford</td>\n",
       "      <td>taurus</td>\n",
       "      <td>good</td>\n",
       "      <td>6 cylinders</td>\n",
       "      <td>gas</td>\n",
       "      <td>168591.0</td>\n",
       "      <td>clean</td>\n",
       "      <td>automatic</td>\n",
       "      <td>1FAFP55UO4G113464</td>\n",
       "      <td>fwd</td>\n",
       "      <td>full-size</td>\n",
       "      <td>sedan</td>\n",
       "      <td>grey</td>\n",
       "      <td>https://images.craigslist.org/00L0L_5HUR1nQjt8...</td>\n",
       "      <td>43.284500</td>\n",
       "      <td>-95.593000</td>\n",
       "      <td>19143.0</td>\n",
       "      <td>Osceola</td>\n",
       "      <td>19.0</td>\n",
       "      <td>IA</td>\n",
       "      <td>Iowa</td>\n",
       "      <td>47.0</td>\n",
       "      <td>Sanborn</td>\n",
       "      <td>Iowa</td>\n",
       "      <td>O'Brien County</td>\n",
       "    </tr>\n",
       "    <tr>\n",
       "      <th>4</th>\n",
       "      <td>https://marshall.craigslist.org/cto/d/2001-gra...</td>\n",
       "      <td>marshall</td>\n",
       "      <td>400</td>\n",
       "      <td>2001</td>\n",
       "      <td>NaN</td>\n",
       "      <td>2001 Grand Prix</td>\n",
       "      <td>NaN</td>\n",
       "      <td>NaN</td>\n",
       "      <td>gas</td>\n",
       "      <td>217000.0</td>\n",
       "      <td>clean</td>\n",
       "      <td>automatic</td>\n",
       "      <td>NaN</td>\n",
       "      <td>NaN</td>\n",
       "      <td>NaN</td>\n",
       "      <td>NaN</td>\n",
       "      <td>NaN</td>\n",
       "      <td>https://images.craigslist.org/00n0n_bJJ1XnonSG...</td>\n",
       "      <td>43.026100</td>\n",
       "      <td>-94.406400</td>\n",
       "      <td>19109.0</td>\n",
       "      <td>Kossuth</td>\n",
       "      <td>19.0</td>\n",
       "      <td>IA</td>\n",
       "      <td>Iowa</td>\n",
       "      <td>47.0</td>\n",
       "      <td>Algona</td>\n",
       "      <td>Iowa</td>\n",
       "      <td>Kossuth County</td>\n",
       "    </tr>\n",
       "    <tr>\n",
       "      <th>5</th>\n",
       "      <td>https://marshall.craigslist.org/ctd/d/2007-gmc...</td>\n",
       "      <td>marshall</td>\n",
       "      <td>9900</td>\n",
       "      <td>2007</td>\n",
       "      <td>gmc</td>\n",
       "      <td>yukon</td>\n",
       "      <td>good</td>\n",
       "      <td>8 cylinders</td>\n",
       "      <td>gas</td>\n",
       "      <td>169000.0</td>\n",
       "      <td>clean</td>\n",
       "      <td>automatic</td>\n",
       "      <td>NaN</td>\n",
       "      <td>4wd</td>\n",
       "      <td>NaN</td>\n",
       "      <td>NaN</td>\n",
       "      <td>NaN</td>\n",
       "      <td>https://images.craigslist.org/00T0T_hFLz9hAHi0...</td>\n",
       "      <td>43.328149</td>\n",
       "      <td>-96.774445</td>\n",
       "      <td>46083.0</td>\n",
       "      <td>Lincoln</td>\n",
       "      <td>46.0</td>\n",
       "      <td>SD</td>\n",
       "      <td>South Dakota</td>\n",
       "      <td>38.0</td>\n",
       "      <td>Lennox</td>\n",
       "      <td>South Dakota</td>\n",
       "      <td>Lincoln County</td>\n",
       "    </tr>\n",
       "    <tr>\n",
       "      <th>6</th>\n",
       "      <td>https://marshall.craigslist.org/cto/d/2015-jee...</td>\n",
       "      <td>marshall</td>\n",
       "      <td>12500</td>\n",
       "      <td>2015</td>\n",
       "      <td>jeep</td>\n",
       "      <td>patriot high altitude</td>\n",
       "      <td>like new</td>\n",
       "      <td>4 cylinders</td>\n",
       "      <td>gas</td>\n",
       "      <td>39500.0</td>\n",
       "      <td>rebuilt</td>\n",
       "      <td>automatic</td>\n",
       "      <td>NaN</td>\n",
       "      <td>4wd</td>\n",
       "      <td>sub-compact</td>\n",
       "      <td>SUV</td>\n",
       "      <td>grey</td>\n",
       "      <td>https://images.craigslist.org/00404_RsUm4vwrGV...</td>\n",
       "      <td>43.548600</td>\n",
       "      <td>-96.633200</td>\n",
       "      <td>46099.0</td>\n",
       "      <td>Minnehaha</td>\n",
       "      <td>46.0</td>\n",
       "      <td>SD</td>\n",
       "      <td>South Dakota</td>\n",
       "      <td>38.0</td>\n",
       "      <td>Sioux Falls</td>\n",
       "      <td>South Dakota</td>\n",
       "      <td>Minnehaha County</td>\n",
       "    </tr>\n",
       "  </tbody>\n",
       "</table>\n",
       "</div>"
      ],
      "text/plain": [
       "                                                 url      city  price  year  \\\n",
       "0  https://marshall.craigslist.org/cto/d/2010-dod...  marshall  11900  2010   \n",
       "3  https://marshall.craigslist.org/cto/d/ford-tau...  marshall   2800  2004   \n",
       "4  https://marshall.craigslist.org/cto/d/2001-gra...  marshall    400  2001   \n",
       "5  https://marshall.craigslist.org/ctd/d/2007-gmc...  marshall   9900  2007   \n",
       "6  https://marshall.craigslist.org/cto/d/2015-jee...  marshall  12500  2015   \n",
       "\n",
       "  manufacturer                   make condition    cylinders fuel  odometer  \\\n",
       "0        dodge          challenger se      good  6 cylinders  gas   43600.0   \n",
       "3         ford                 taurus      good  6 cylinders  gas  168591.0   \n",
       "4          NaN        2001 Grand Prix       NaN          NaN  gas  217000.0   \n",
       "5          gmc                  yukon      good  8 cylinders  gas  169000.0   \n",
       "6         jeep  patriot high altitude  like new  4 cylinders  gas   39500.0   \n",
       "\n",
       "  title_status transmission                vin drive         size   type  \\\n",
       "0        clean    automatic                NaN   rwd          NaN  coupe   \n",
       "3        clean    automatic  1FAFP55UO4G113464   fwd    full-size  sedan   \n",
       "4        clean    automatic                NaN   NaN          NaN    NaN   \n",
       "5        clean    automatic                NaN   4wd          NaN    NaN   \n",
       "6      rebuilt    automatic                NaN   4wd  sub-compact    SUV   \n",
       "\n",
       "  paint_color                                          image_url        lat  \\\n",
       "0         red  https://images.craigslist.org/00i0i_2ggH1eKDNK...  43.477500   \n",
       "3        grey  https://images.craigslist.org/00L0L_5HUR1nQjt8...  43.284500   \n",
       "4         NaN  https://images.craigslist.org/00n0n_bJJ1XnonSG...  43.026100   \n",
       "5         NaN  https://images.craigslist.org/00T0T_hFLz9hAHi0...  43.328149   \n",
       "6        grey  https://images.craigslist.org/00404_RsUm4vwrGV...  43.548600   \n",
       "\n",
       "        long  county_fips county_name  state_fips state_code    state_name  \\\n",
       "0 -96.704100      46083.0     Lincoln        46.0         SD  South Dakota   \n",
       "3 -95.593000      19143.0     Osceola        19.0         IA          Iowa   \n",
       "4 -94.406400      19109.0     Kossuth        19.0         IA          Iowa   \n",
       "5 -96.774445      46083.0     Lincoln        46.0         SD  South Dakota   \n",
       "6 -96.633200      46099.0   Minnehaha        46.0         SD  South Dakota   \n",
       "\n",
       "   weather        city1         state            county  \n",
       "0     38.0   Harrisburg  South Dakota    Lincoln County  \n",
       "3     47.0      Sanborn          Iowa    O'Brien County  \n",
       "4     47.0       Algona          Iowa    Kossuth County  \n",
       "5     38.0       Lennox  South Dakota    Lincoln County  \n",
       "6     38.0  Sioux Falls  South Dakota  Minnehaha County  "
      ]
     },
     "execution_count": 51,
     "metadata": {},
     "output_type": "execute_result"
    }
   ],
   "source": [
    "df.head()"
   ]
  },
  {
   "cell_type": "code",
   "execution_count": 52,
   "metadata": {},
   "outputs": [],
   "source": [
    "df.drop(['url','city', 'state_name','vin', 'paint_color', 'image_url',\n",
    "        'lat', 'long', 'county_fips', 'county_name',\n",
    "        'state_fips', 'state_code', 'state_name'], axis = 1, inplace=True)"
   ]
  },
  {
   "cell_type": "markdown",
   "metadata": {},
   "source": [
    "Let's replace column name, 'city1' to 'city'."
   ]
  },
  {
   "cell_type": "code",
   "execution_count": 53,
   "metadata": {},
   "outputs": [],
   "source": [
    "df = df.rename(columns = {\"city1\":\"city\"}) "
   ]
  },
  {
   "cell_type": "code",
   "execution_count": 54,
   "metadata": {},
   "outputs": [
    {
     "data": {
      "text/plain": [
       "Index(['price', 'year', 'manufacturer', 'make', 'condition', 'cylinders',\n",
       "       'fuel', 'odometer', 'title_status', 'transmission', 'drive', 'size',\n",
       "       'type', 'weather', 'city', 'state', 'county'],\n",
       "      dtype='object')"
      ]
     },
     "execution_count": 54,
     "metadata": {},
     "output_type": "execute_result"
    }
   ],
   "source": [
    "df.columns"
   ]
  },
  {
   "cell_type": "code",
   "execution_count": 55,
   "metadata": {},
   "outputs": [
    {
     "data": {
      "text/plain": [
       "size            59.263851\n",
       "condition       33.140501\n",
       "cylinders       29.901213\n",
       "type            26.380733\n",
       "drive           24.958518\n",
       "weather          6.437059\n",
       "manufacturer     5.441348\n",
       "fuel             0.724390\n",
       "transmission     0.614208\n",
       "title_status     0.060680\n",
       "year             0.000000\n",
       "make             0.000000\n",
       "county           0.000000\n",
       "odometer         0.000000\n",
       "state            0.000000\n",
       "city             0.000000\n",
       "price            0.000000\n",
       "dtype: float64"
      ]
     },
     "execution_count": 55,
     "metadata": {},
     "output_type": "execute_result"
    }
   ],
   "source": [
    "((df.isnull().sum()/len(df)).sort_values(ascending = False)*100).astype(float)"
   ]
  },
  {
   "cell_type": "markdown",
   "metadata": {},
   "source": [
    "Let's do value_counts on 'make'."
   ]
  },
  {
   "cell_type": "code",
   "execution_count": 56,
   "metadata": {},
   "outputs": [
    {
     "data": {
      "text/plain": [
       "f-150                        10470\n",
       "1500                          9160\n",
       "silverado 1500                7312\n",
       "2500                          5198\n",
       "silverado                     5077\n",
       "                             ...  \n",
       "Renault Caravelle                1\n",
       "a4 3.0l quattro cabriolet        1\n",
       "SILVERADO 1500                   1\n",
       "F150 Latiat 4x4 crewcab          1\n",
       "Porsche BOXSTER                  1\n",
       "Name: make, Length: 50193, dtype: int64"
      ]
     },
     "execution_count": 56,
     "metadata": {},
     "output_type": "execute_result"
    }
   ],
   "source": [
    "df['make'].value_counts()"
   ]
  },
  {
   "cell_type": "code",
   "execution_count": 57,
   "metadata": {},
   "outputs": [],
   "source": [
    "df['manufacturer'] = df['manufacturer'].str.lower() \n",
    "df['make'] = df['make'].str.lower() \n",
    "df['condition'] = df['condition'].str.lower() \n",
    "df['cylinders'] = df['cylinders'].str.lower() \n",
    "df['fuel'] = df['fuel'].str.lower() \n",
    "df['title_status'] = df['title_status'].str.lower() \n",
    "df['transmission'] = df['transmission'].str.lower() \n",
    "df['drive'] = df['drive'].str.lower() \n",
    "df['size'] = df['size'].str.lower() \n",
    "df['type'] = df['type'].str.lower() "
   ]
  },
  {
   "cell_type": "code",
   "execution_count": null,
   "metadata": {},
   "outputs": [],
   "source": []
  },
  {
   "cell_type": "code",
   "execution_count": null,
   "metadata": {},
   "outputs": [],
   "source": []
  },
  {
   "cell_type": "markdown",
   "metadata": {},
   "source": [
    "Let's import another dataset to fill up the above null values in 'type'."
   ]
  },
  {
   "cell_type": "code",
   "execution_count": 58,
   "metadata": {},
   "outputs": [
    {
     "data": {
      "text/html": [
       "<div>\n",
       "<style scoped>\n",
       "    .dataframe tbody tr th:only-of-type {\n",
       "        vertical-align: middle;\n",
       "    }\n",
       "\n",
       "    .dataframe tbody tr th {\n",
       "        vertical-align: top;\n",
       "    }\n",
       "\n",
       "    .dataframe thead th {\n",
       "        text-align: right;\n",
       "    }\n",
       "</style>\n",
       "<table border=\"1\" class=\"dataframe\">\n",
       "  <thead>\n",
       "    <tr style=\"text-align: right;\">\n",
       "      <th></th>\n",
       "      <th>cylinders</th>\n",
       "      <th>drive</th>\n",
       "      <th>fuelType</th>\n",
       "      <th>make</th>\n",
       "      <th>model</th>\n",
       "      <th>trany</th>\n",
       "      <th>VClass</th>\n",
       "      <th>year</th>\n",
       "      <th>youSaveSpend</th>\n",
       "    </tr>\n",
       "  </thead>\n",
       "  <tbody>\n",
       "    <tr>\n",
       "      <th>0</th>\n",
       "      <td>4.0</td>\n",
       "      <td>Rear-Wheel Drive</td>\n",
       "      <td>Regular</td>\n",
       "      <td>Alfa Romeo</td>\n",
       "      <td>Spider Veloce 2000</td>\n",
       "      <td>Manual 5-spd</td>\n",
       "      <td>Two Seaters</td>\n",
       "      <td>1985</td>\n",
       "      <td>-1750</td>\n",
       "    </tr>\n",
       "    <tr>\n",
       "      <th>1</th>\n",
       "      <td>12.0</td>\n",
       "      <td>Rear-Wheel Drive</td>\n",
       "      <td>Regular</td>\n",
       "      <td>Ferrari</td>\n",
       "      <td>Testarossa</td>\n",
       "      <td>Manual 5-spd</td>\n",
       "      <td>Two Seaters</td>\n",
       "      <td>1985</td>\n",
       "      <td>-8750</td>\n",
       "    </tr>\n",
       "    <tr>\n",
       "      <th>2</th>\n",
       "      <td>4.0</td>\n",
       "      <td>Front-Wheel Drive</td>\n",
       "      <td>Regular</td>\n",
       "      <td>Dodge</td>\n",
       "      <td>Charger</td>\n",
       "      <td>Manual 5-spd</td>\n",
       "      <td>Subcompact Cars</td>\n",
       "      <td>1985</td>\n",
       "      <td>0</td>\n",
       "    </tr>\n",
       "    <tr>\n",
       "      <th>3</th>\n",
       "      <td>8.0</td>\n",
       "      <td>Rear-Wheel Drive</td>\n",
       "      <td>Regular</td>\n",
       "      <td>Dodge</td>\n",
       "      <td>B150/B250 Wagon 2WD</td>\n",
       "      <td>Automatic 3-spd</td>\n",
       "      <td>Vans</td>\n",
       "      <td>1985</td>\n",
       "      <td>-8750</td>\n",
       "    </tr>\n",
       "    <tr>\n",
       "      <th>4</th>\n",
       "      <td>4.0</td>\n",
       "      <td>4-Wheel or All-Wheel Drive</td>\n",
       "      <td>Premium</td>\n",
       "      <td>Subaru</td>\n",
       "      <td>Legacy AWD Turbo</td>\n",
       "      <td>Manual 5-spd</td>\n",
       "      <td>Compact Cars</td>\n",
       "      <td>1993</td>\n",
       "      <td>-5250</td>\n",
       "    </tr>\n",
       "  </tbody>\n",
       "</table>\n",
       "</div>"
      ],
      "text/plain": [
       "   cylinders                       drive fuelType        make  \\\n",
       "0        4.0            Rear-Wheel Drive  Regular  Alfa Romeo   \n",
       "1       12.0            Rear-Wheel Drive  Regular     Ferrari   \n",
       "2        4.0           Front-Wheel Drive  Regular       Dodge   \n",
       "3        8.0            Rear-Wheel Drive  Regular       Dodge   \n",
       "4        4.0  4-Wheel or All-Wheel Drive  Premium      Subaru   \n",
       "\n",
       "                 model            trany           VClass  year  youSaveSpend  \n",
       "0   Spider Veloce 2000     Manual 5-spd      Two Seaters  1985         -1750  \n",
       "1           Testarossa     Manual 5-spd      Two Seaters  1985         -8750  \n",
       "2              Charger     Manual 5-spd  Subcompact Cars  1985             0  \n",
       "3  B150/B250 Wagon 2WD  Automatic 3-spd             Vans  1985         -8750  \n",
       "4     Legacy AWD Turbo     Manual 5-spd     Compact Cars  1993         -5250  "
      ]
     },
     "execution_count": 58,
     "metadata": {},
     "output_type": "execute_result"
    }
   ],
   "source": [
    "df_fuel = pd.read_csv(\"vehicles.csv\", usecols = ['cylinders','drive',\n",
    "                                                 'youSaveSpend','fuelType',\n",
    "                                                 'make','model','trany','VClass',\n",
    "                                                 'year'])\n",
    "df_fuel.head()"
   ]
  },
  {
   "cell_type": "markdown",
   "metadata": {},
   "source": [
    "In order to join the two datasets, let's make df_fuel's data compatible to df."
   ]
  },
  {
   "cell_type": "code",
   "execution_count": 59,
   "metadata": {},
   "outputs": [],
   "source": [
    "df_fuel['drive']=df_fuel['drive'].str.lower()\n",
    "df_fuel['fuelType']=df_fuel['fuelType'].str.lower()\n",
    "df_fuel['make']=df_fuel['make'].str.lower()\n",
    "df_fuel['model']=df_fuel['model'].str.lower()\n",
    "df_fuel['trany']=df_fuel['trany'].str.lower()\n",
    "df_fuel['VClass']=df_fuel['VClass'].str.lower()"
   ]
  },
  {
   "cell_type": "markdown",
   "metadata": {},
   "source": [
    "Let's replace column name, 'make' to 'manufacturer1' and 'model' to ' make1' in df_fuel."
   ]
  },
  {
   "cell_type": "code",
   "execution_count": 60,
   "metadata": {},
   "outputs": [
    {
     "data": {
      "text/plain": [
       "Index(['cylinders', 'drive', 'fuelType', 'manufacturer', 'make', 'trany',\n",
       "       'VClass', 'year', 'youSaveSpend'],\n",
       "      dtype='object')"
      ]
     },
     "execution_count": 60,
     "metadata": {},
     "output_type": "execute_result"
    }
   ],
   "source": [
    "df_fuel = df_fuel.rename(columns = {\"make\":\"manufacturer\", \"model\":\"make\"}) \n",
    "df_fuel.columns"
   ]
  },
  {
   "cell_type": "markdown",
   "metadata": {},
   "source": [
    "Let's make all values of 'cylinders' from both 'df' and 'df_fuel' compatible to each other."
   ]
  },
  {
   "cell_type": "code",
   "execution_count": 62,
   "metadata": {},
   "outputs": [
    {
     "data": {
      "image/png": "[encoded data removed]",
      "text/plain": [
       "<Figure size 432x288 with 1 Axes>"
      ]
     },
     "metadata": {
      "needs_background": "light"
     },
     "output_type": "display_data"
    }
   ],
   "source": [
    "df['cylinders'].value_counts().plot.bar(title='value counts of cylinders');\n",
    "plt.savefig('value counts of cylinders')"
   ]
  },
  {
   "cell_type": "code",
   "execution_count": 63,
   "metadata": {},
   "outputs": [
    {
     "data": {
      "image/png": "[encoded data removed]",
      "text/plain": [
       "<Figure size 432x288 with 1 Axes>"
      ]
     },
     "metadata": {
      "needs_background": "light"
     },
     "output_type": "display_data"
    }
   ],
   "source": [
    "df_fuel['cylinders'].value_counts().plot.bar(title='value counts of cylinders');"
   ]
  },
  {
   "cell_type": "code",
   "execution_count": 64,
   "metadata": {},
   "outputs": [
    {
     "data": {
      "text/plain": [
       "str"
      ]
     },
     "execution_count": 64,
     "metadata": {},
     "output_type": "execute_result"
    }
   ],
   "source": [
    "type(df['cylinders'][0])"
   ]
  },
  {
   "cell_type": "code",
   "execution_count": 65,
   "metadata": {},
   "outputs": [
    {
     "data": {
      "text/plain": [
       "numpy.float64"
      ]
     },
     "execution_count": 65,
     "metadata": {},
     "output_type": "execute_result"
    }
   ],
   "source": [
    "type(df_fuel['cylinders'][0])"
   ]
  },
  {
   "cell_type": "code",
   "execution_count": 66,
   "metadata": {},
   "outputs": [
    {
     "data": {
      "text/plain": [
       "0     223701\n",
       "6     172569\n",
       "4     144227\n",
       "8     139814\n",
       "5       5055\n",
       "10      2211\n",
       "3        854\n",
       "12       424\n",
       "Name: cylinders, dtype: int64"
      ]
     },
     "execution_count": 66,
     "metadata": {},
     "output_type": "execute_result"
    }
   ],
   "source": [
    "df['cylinders'].replace(to_replace =\"other\", value='0', inplace=True)\n",
    "df['cylinders'] = df['cylinders'].str.extract('(\\d+)')\n",
    "df['cylinders'].fillna(0, inplace=True)\n",
    "df['cylinders'] = df['cylinders'].astype(int)\n",
    "df['cylinders'].value_counts()"
   ]
  },
  {
   "cell_type": "code",
   "execution_count": 67,
   "metadata": {},
   "outputs": [
    {
     "data": {
      "text/plain": [
       "4     16549\n",
       "6     14672\n",
       "8      9089\n",
       "5       773\n",
       "12      656\n",
       "3       312\n",
       "0       244\n",
       "10      177\n",
       "2        61\n",
       "16       12\n",
       "Name: cylinders, dtype: int64"
      ]
     },
     "execution_count": 67,
     "metadata": {},
     "output_type": "execute_result"
    }
   ],
   "source": [
    "df_fuel['cylinders'].fillna(0, inplace=True)\n",
    "df_fuel['cylinders'] = df_fuel['cylinders'].astype(int)\n",
    "df_fuel['cylinders'].value_counts()"
   ]
  },
  {
   "cell_type": "markdown",
   "metadata": {},
   "source": [
    "Let's compare 'drive' and make them compatible."
   ]
  },
  {
   "cell_type": "code",
   "execution_count": 68,
   "metadata": {
    "scrolled": true
   },
   "outputs": [
    {
     "data": {
      "text/plain": [
       "front-wheel drive             14582\n",
       "rear-wheel drive              14185\n",
       "4-wheel or all-wheel drive     6648\n",
       "all-wheel drive                3483\n",
       "4-wheel drive                  1666\n",
       "2-wheel drive                   507\n",
       "part-time 4-wheel drive         288\n",
       "Name: drive, dtype: int64"
      ]
     },
     "execution_count": 68,
     "metadata": {},
     "output_type": "execute_result"
    }
   ],
   "source": [
    "df_fuel['drive'].value_counts()"
   ]
  },
  {
   "cell_type": "code",
   "execution_count": 69,
   "metadata": {
    "scrolled": false
   },
   "outputs": [
    {
     "data": {
      "text/plain": [
       "4wd    223650\n",
       "fwd    186644\n",
       "rwd    106633\n",
       "Name: drive, dtype: int64"
      ]
     },
     "execution_count": 69,
     "metadata": {},
     "output_type": "execute_result"
    }
   ],
   "source": [
    "df['drive'].value_counts()"
   ]
  },
  {
   "cell_type": "code",
   "execution_count": 70,
   "metadata": {},
   "outputs": [
    {
     "data": {
      "text/plain": [
       "fwd    14582\n",
       "rwd    14185\n",
       "4wd    12085\n",
       "2wd      507\n",
       "Name: drive, dtype: int64"
      ]
     },
     "execution_count": 70,
     "metadata": {},
     "output_type": "execute_result"
    }
   ],
   "source": [
    "df_fuel['drive'].replace(to_replace =\"front-wheel drive\", value='fwd', inplace=True)\n",
    "df_fuel['drive'].replace(to_replace =\"rear-wheel drive\", value='rwd', inplace=True)\n",
    "df_fuel['drive'].replace(to_replace =\"4-wheel or all-wheel drive\", value='4wd', inplace=True)\n",
    "df_fuel['drive'].replace(to_replace =\"all-wheel drive\", value='4wd', inplace=True)\n",
    "df_fuel['drive'].replace(to_replace =\"4-wheel drive\", value='4wd', inplace=True)\n",
    "df_fuel['drive'].replace(to_replace =\"2-wheel drive\", value='2wd', inplace=True)\n",
    "df_fuel['drive'].replace(to_replace =\"part-time 4-wheel drive\", value='4wd', inplace=True)\n",
    "df_fuel['drive'].value_counts()"
   ]
  },
  {
   "cell_type": "markdown",
   "metadata": {},
   "source": [
    "Let's compare 'transmission' and make them compatible."
   ]
  },
  {
   "cell_type": "code",
   "execution_count": 71,
   "metadata": {
    "scrolled": false
   },
   "outputs": [
    {
     "data": {
      "text/plain": [
       "automatic    604066\n",
       "manual        66765\n",
       "other         13793\n",
       "Name: transmission, dtype: int64"
      ]
     },
     "execution_count": 71,
     "metadata": {},
     "output_type": "execute_result"
    }
   ],
   "source": [
    "df['transmission'].value_counts()"
   ]
  },
  {
   "cell_type": "code",
   "execution_count": 72,
   "metadata": {
    "scrolled": true
   },
   "outputs": [
    {
     "data": {
      "text/plain": [
       "automatic 4-spd                     11048\n",
       "manual 5-spd                         8373\n",
       "automatic (s6)                       3199\n",
       "automatic 3-spd                      3151\n",
       "manual 6-spd                         2849\n",
       "automatic 5-spd                      2203\n",
       "automatic (s8)                       2024\n",
       "automatic 6-spd                      1688\n",
       "manual 4-spd                         1483\n",
       "automatic (variable gear ratios)      899\n",
       "automatic (s5)                        836\n",
       "automatic 7-spd                       748\n",
       "automatic 8-spd                       530\n",
       "automatic (am-s7)                     507\n",
       "automatic 9-spd                       410\n",
       "automatic (s7)                        343\n",
       "automatic (am7)                       272\n",
       "automatic (a1)                        240\n",
       "automatic (s4)                        233\n",
       "automatic (av-s6)                     228\n",
       "automatic (s10)                       197\n",
       "automatic (av-s7)                     164\n",
       "automatic (am6)                       160\n",
       "automatic (am-s6)                     121\n",
       "manual 7-spd                          120\n",
       "automatic (s9)                        117\n",
       "automatic (am-s8)                      93\n",
       "manual 3-spd                           77\n",
       "automatic (av-s8)                      73\n",
       "automatic 10-spd                       68\n",
       "automatic (av-s10)                     20\n",
       "manual 4-spd doubled                   17\n",
       "automatic (am5)                        14\n",
       "automatic (am8)                        14\n",
       "automatic (am-s9)                       4\n",
       "automatic (a2)                          3\n",
       "automatic (l4)                          2\n",
       "automatic (av-s1)                       2\n",
       "automatic (am-s10)                      2\n",
       "automatic (l3)                          2\n",
       "Name: trany, dtype: int64"
      ]
     },
     "execution_count": 72,
     "metadata": {},
     "output_type": "execute_result"
    }
   ],
   "source": [
    "df_fuel['trany'].value_counts()"
   ]
  },
  {
   "cell_type": "code",
   "execution_count": 73,
   "metadata": {},
   "outputs": [],
   "source": [
    "df_fuel['transmission'] = df_fuel['trany']"
   ]
  },
  {
   "cell_type": "code",
   "execution_count": 74,
   "metadata": {},
   "outputs": [
    {
     "data": {
      "text/plain": [
       "automatic    29615\n",
       "manual       12919\n",
       "other           11\n",
       "Name: transmission, dtype: int64"
      ]
     },
     "execution_count": 74,
     "metadata": {},
     "output_type": "execute_result"
    }
   ],
   "source": [
    "df_fuel['transmission'].fillna('other', inplace=True)\n",
    "df_fuel.loc[df_fuel['trany'].str.contains('automatic', na=False),'transmission']='automatic'   \n",
    "df_fuel.loc[df_fuel['trany'].str.contains('manual', na=False),'transmission']='manual'   \n",
    "df_fuel['transmission'].value_counts()"
   ]
  },
  {
   "cell_type": "markdown",
   "metadata": {},
   "source": [
    "Let's compare 'fuel' and make them compatible."
   ]
  },
  {
   "cell_type": "code",
   "execution_count": 75,
   "metadata": {},
   "outputs": [
    {
     "data": {
      "text/plain": [
       "gas         607816\n",
       "diesel       47593\n",
       "other        21766\n",
       "hybrid        5572\n",
       "electric      1118\n",
       "Name: fuel, dtype: int64"
      ]
     },
     "execution_count": 75,
     "metadata": {},
     "output_type": "execute_result"
    }
   ],
   "source": [
    "df['fuel'].value_counts()"
   ]
  },
  {
   "cell_type": "code",
   "execution_count": 76,
   "metadata": {},
   "outputs": [
    {
     "data": {
      "text/plain": [
       "regular                        27009\n",
       "premium                        12225\n",
       "gasoline or e85                 1339\n",
       "diesel                          1209\n",
       "electricity                      241\n",
       "premium or e85                   127\n",
       "midgrade                         118\n",
       "premium and electricity           80\n",
       "cng                               60\n",
       "regular gas and electricity       54\n",
       "premium gas or electricity        51\n",
       "gasoline or natural gas           20\n",
       "gasoline or propane                8\n",
       "regular gas or electricity         4\n",
       "Name: fuelType, dtype: int64"
      ]
     },
     "execution_count": 76,
     "metadata": {},
     "output_type": "execute_result"
    }
   ],
   "source": [
    "df_fuel['fuelType'].value_counts()"
   ]
  },
  {
   "cell_type": "code",
   "execution_count": 77,
   "metadata": {},
   "outputs": [
    {
     "data": {
      "text/plain": [
       "gas         40846\n",
       "diesel       1209\n",
       "electric      241\n",
       "hybrid        189\n",
       "other          60\n",
       "Name: fuel, dtype: int64"
      ]
     },
     "execution_count": 77,
     "metadata": {},
     "output_type": "execute_result"
    }
   ],
   "source": [
    "df_fuel['fuel'] = df_fuel['fuelType']\n",
    "df_fuel['fuel'].fillna('other', inplace=True)\n",
    "df_fuel.loc[df_fuel['fuelType'] == 'regular','fuel']='gas'   \n",
    "df_fuel.loc[df_fuel['fuelType'] == 'premium','fuel']='gas'   \n",
    "df_fuel.loc[df_fuel['fuelType'] == 'gasoline or e85','fuel']='gas'   \n",
    "df_fuel.loc[df_fuel['fuelType'] == 'electricity','fuel']='electric'   \n",
    "df_fuel.loc[df_fuel['fuelType'] == 'premium or e85','fuel']='gas'   \n",
    "df_fuel.loc[df_fuel['fuelType'] == 'midgrade','fuel']='gas' \n",
    "df_fuel.loc[df_fuel['fuelType'] == 'premium and electricity','fuel']='hybrid' \n",
    "df_fuel.loc[df_fuel['fuelType'] == 'cng','fuel']='other' \n",
    "df_fuel.loc[df_fuel['fuelType'] == 'regular gas and electricity','fuel']='hybrid' \n",
    "df_fuel.loc[df_fuel['fuelType'] == 'premium gas or electricity','fuel']='hybrid'\n",
    "df_fuel.loc[df_fuel['fuelType'] == 'gasoline or natural gas','fuel']='gas'\n",
    "df_fuel.loc[df_fuel['fuelType'] == 'gasoline or propane','fuel']='gas'\n",
    "df_fuel.loc[df_fuel['fuelType'] == 'regular gas or electricity','fuel']='hybrid'\n",
    "df_fuel['fuel'].value_counts()"
   ]
  },
  {
   "cell_type": "markdown",
   "metadata": {},
   "source": [
    "Let's compare 'manufacturer' and make them compatible."
   ]
  },
  {
   "cell_type": "code",
   "execution_count": 78,
   "metadata": {},
   "outputs": [
    {
     "data": {
      "text/plain": [
       "ford               117169\n",
       "chevrolet           85862\n",
       "toyota              51485\n",
       "honda               37972\n",
       "nissan              32710\n",
       "jeep                31476\n",
       "dodge               29944\n",
       "gmc                 29548\n",
       "ram                 23000\n",
       "bmw                 19640\n",
       "hyundai             14950\n",
       "subaru              14763\n",
       "volkswagen          14422\n",
       "chrysler            13063\n",
       "mercedes-benz       11930\n",
       "chevy               11347\n",
       "kia                 11136\n",
       "mazda               10285\n",
       "cadillac            10112\n",
       "lexus                9234\n",
       "buick                9205\n",
       "pontiac              7664\n",
       "acura                7375\n",
       "audi                 7133\n",
       "lincoln              5295\n",
       "infiniti             5189\n",
       "volvo                4627\n",
       "mitsubishi           4338\n",
       "mercury              3813\n",
       "saturn               3613\n",
       "mini                 3066\n",
       "mercedes             2774\n",
       "rover                2120\n",
       "jaguar               1697\n",
       "vw                   1395\n",
       "fiat                  872\n",
       "harley-davidson       218\n",
       "infinity              189\n",
       "chev                  188\n",
       "ferrari               140\n",
       "datsun                118\n",
       "harley                 78\n",
       "alfa-romeo             53\n",
       "porche                 38\n",
       "alfa                   33\n",
       "aston                  32\n",
       "aston-martin           31\n",
       "land rover             19\n",
       "landrover               8\n",
       "mercedesbenz            1\n",
       "morgan                  1\n",
       "hennessey               1\n",
       "Name: manufacturer, dtype: int64"
      ]
     },
     "execution_count": 78,
     "metadata": {},
     "output_type": "execute_result"
    }
   ],
   "source": [
    "df['manufacturer'].value_counts()"
   ]
  },
  {
   "cell_type": "code",
   "execution_count": 79,
   "metadata": {},
   "outputs": [
    {
     "data": {
      "text/plain": [
       "chevrolet                             4115\n",
       "ford                                  3436\n",
       "dodge                                 2608\n",
       "gmc                                   2564\n",
       "toyota                                2141\n",
       "bmw                                   2078\n",
       "mercedes-benz                         1634\n",
       "nissan                                1503\n",
       "volkswagen                            1208\n",
       "porsche                               1117\n",
       "mitsubishi                            1081\n",
       "audi                                  1056\n",
       "honda                                 1051\n",
       "mazda                                 1032\n",
       "jeep                                   971\n",
       "subaru                                 924\n",
       "pontiac                                893\n",
       "volvo                                  848\n",
       "hyundai                                819\n",
       "chrysler                               732\n",
       "buick                                  683\n",
       "kia                                    653\n",
       "cadillac                               612\n",
       "mercury                                609\n",
       "lexus                                  540\n",
       "plymouth                               526\n",
       "suzuki                                 515\n",
       "jaguar                                 477\n",
       "oldsmobile                             462\n",
       "mini                                   449\n",
       "isuzu                                  434\n",
       "saab                                   432\n",
       "infiniti                               430\n",
       "lincoln                                368\n",
       "acura                                  359\n",
       "saturn                                 278\n",
       "ferrari                                243\n",
       "land rover                             232\n",
       "rolls-royce                            202\n",
       "eagle                                  161\n",
       "aston martin                           158\n",
       "geo                                    147\n",
       "maserati                               146\n",
       "bentley                                137\n",
       "lamborghini                            135\n",
       "peugeot                                 98\n",
       "tesla                                   97\n",
       "ram                                     95\n",
       "scion                                   84\n",
       "fiat                                    75\n",
       "alfa romeo                              69\n",
       "roush performance                       67\n",
       "daewoo                                  67\n",
       "lotus                                   63\n",
       "genesis                                 60\n",
       "renault                                 56\n",
       "smart                                   38\n",
       "j.k. motors                             36\n",
       "mclaren automotive                      36\n",
       "wallace environmental                   32\n",
       "maybach                                 31\n",
       "american motors corporation             27\n",
       "hummer                                  19\n",
       "daihatsu                                17\n",
       "cx automotive                           17\n",
       "merkur                                  14\n",
       "federal coach                           14\n",
       "spyker                                  13\n",
       "import trade services                   13\n",
       "bugatti                                 12\n",
       "sterling                                12\n",
       "dabryan coach builders inc               9\n",
       "yugo                                     8\n",
       "byd                                      7\n",
       "bertone                                  7\n",
       "mcevoy motors                            6\n",
       "tecstar, lp                              6\n",
       "am general                               6\n",
       "pininfarina                              6\n",
       "saleen performance                       5\n",
       "bitter gmbh and co. kg                   5\n",
       "saleen                                   5\n",
       "vpg                                      5\n",
       "texas coach company                      4\n",
       "panther car company limited              4\n",
       "mobility ventures llc                    4\n",
       "bill dovell motor car company            4\n",
       "vector                                   4\n",
       "tvr engineering ltd                      4\n",
       "autokraft limited                        4\n",
       "kenyon corporation of america            4\n",
       "grumman olson                            4\n",
       "bmw alpina                               3\n",
       "karma                                    3\n",
       "consulier industries inc                 3\n",
       "pagani                                   3\n",
       "evans automobiles                        3\n",
       "ruf automobile gmbh                      3\n",
       "morgan                                   3\n",
       "dacia                                    3\n",
       "srt                                      2\n",
       "ruf automobile                           2\n",
       "avanti motor corporation                 2\n",
       "red shift ltd.                           2\n",
       "laforza automobile inc                   2\n",
       "quantum technologies                     2\n",
       "azure dynamics                           2\n",
       "pas, inc                                 2\n",
       "coda automotive                          2\n",
       "pas inc - gmc                            2\n",
       "ccc engineering                          2\n",
       "london coach co inc                      1\n",
       "qvale                                    1\n",
       "polestar automotive usa inc.             1\n",
       "panoz auto-development                   1\n",
       "asc incorporated                         1\n",
       "goldacre                                 1\n",
       "general motors                           1\n",
       "volga associated automobile              1\n",
       "jba motorcars, inc.                      1\n",
       "koenigsegg                               1\n",
       "aurora cars ltd                          1\n",
       "s and s coach company  e.p. dutton       1\n",
       "mahindra                                 1\n",
       "vixen motor company                      1\n",
       "grumman allied industries                1\n",
       "e. p. dutton, inc.                       1\n",
       "london taxi                              1\n",
       "import foreign auto sales inc            1\n",
       "sti                                      1\n",
       "shelby                                   1\n",
       "panos                                    1\n",
       "environmental rsch and devp corp         1\n",
       "excalibur autos                          1\n",
       "fisker                                   1\n",
       "isis imports ltd                         1\n",
       "lambda control systems                   1\n",
       "superior coaches div e.p. dutton         1\n",
       "Name: manufacturer, dtype: int64"
      ]
     },
     "execution_count": 79,
     "metadata": {},
     "output_type": "execute_result"
    }
   ],
   "source": [
    "df_fuel['manufacturer'].value_counts()"
   ]
  },
  {
   "cell_type": "code",
   "execution_count": 80,
   "metadata": {},
   "outputs": [],
   "source": [
    "df['manufacturer'].replace(to_replace=\"vw\",value=\"volkswagen\",inplace=True)\n",
    "df['manufacturer'].replace(to_replace=\"mercedes\",value=\"mercedes-benz\",inplace=True)\n",
    "df['manufacturer'].replace(to_replace=\"mercedesbenz\",value=\"mercedes-benz\",inplace=True)\n",
    "df['manufacturer'].replace(to_replace=\"infinity\",value=\"infiniti\",inplace=True)\n",
    "df['manufacturer'].replace(to_replace=\"landrover\",value=\"land rover\",inplace=True)\n",
    "df['manufacturer'].replace(to_replace=\"rover\",value=\"land rover\",inplace=True)\n",
    "df['manufacturer'].replace(to_replace=\"harley\",value=\"harley-davidson\",inplace=True)\n",
    "df['manufacturer'].replace(to_replace=\"alfa\",value=\"alfa romeo\",inplace=True)\n",
    "df['manufacturer'].replace(to_replace=\"aston\",value=\"aston-martin\",inplace=True)\n",
    "df.drop_duplicates(inplace=True)"
   ]
  },
  {
   "cell_type": "code",
   "execution_count": 81,
   "metadata": {},
   "outputs": [],
   "source": [
    "df_fuel.drop_duplicates(inplace=True)"
   ]
  },
  {
   "cell_type": "markdown",
   "metadata": {},
   "source": [
    "Let's join two datasets by 'make', 'cylinder', 'drive', 'transmission', and 'year'."
   ]
  },
  {
   "cell_type": "code",
   "execution_count": 82,
   "metadata": {},
   "outputs": [
    {
     "name": "stdout",
     "output_type": "stream",
     "text": [
      "<class 'pandas.core.frame.DataFrame'>\n",
      "Int64Index: 523667 entries, 0 to 1049198\n",
      "Data columns (total 17 columns):\n",
      " #   Column        Non-Null Count   Dtype  \n",
      "---  ------        --------------   -----  \n",
      " 0   price         523667 non-null  object \n",
      " 1   year          523667 non-null  object \n",
      " 2   manufacturer  492516 non-null  object \n",
      " 3   make          523667 non-null  object \n",
      " 4   condition     372562 non-null  object \n",
      " 5   cylinders     523667 non-null  int32  \n",
      " 6   fuel          520473 non-null  object \n",
      " 7   odometer      523667 non-null  float64\n",
      " 8   title_status  523358 non-null  object \n",
      " 9   transmission  521155 non-null  object \n",
      " 10  drive         394294 non-null  object \n",
      " 11  size          226984 non-null  object \n",
      " 12  type          381127 non-null  object \n",
      " 13  weather       497443 non-null  float64\n",
      " 14  city          523667 non-null  object \n",
      " 15  state         523667 non-null  object \n",
      " 16  county        523667 non-null  object \n",
      "dtypes: float64(2), int32(1), object(14)\n",
      "memory usage: 69.9+ MB\n"
     ]
    }
   ],
   "source": [
    "df.info()"
   ]
  },
  {
   "cell_type": "code",
   "execution_count": 83,
   "metadata": {},
   "outputs": [
    {
     "name": "stdout",
     "output_type": "stream",
     "text": [
      "<class 'pandas.core.frame.DataFrame'>\n",
      "Int64Index: 40214 entries, 0 to 42544\n",
      "Data columns (total 11 columns):\n",
      " #   Column        Non-Null Count  Dtype \n",
      "---  ------        --------------  ----- \n",
      " 0   cylinders     40214 non-null  int32 \n",
      " 1   drive         39434 non-null  object\n",
      " 2   fuelType      40214 non-null  object\n",
      " 3   manufacturer  40214 non-null  object\n",
      " 4   make          40214 non-null  object\n",
      " 5   trany         40203 non-null  object\n",
      " 6   VClass        40214 non-null  object\n",
      " 7   year          40214 non-null  int64 \n",
      " 8   youSaveSpend  40214 non-null  int64 \n",
      " 9   transmission  40214 non-null  object\n",
      " 10  fuel          40214 non-null  object\n",
      "dtypes: int32(1), int64(2), object(8)\n",
      "memory usage: 3.5+ MB\n"
     ]
    }
   ],
   "source": [
    "df_fuel.info()"
   ]
  },
  {
   "cell_type": "markdown",
   "metadata": {},
   "source": [
    "Now let's drop such columns as 'fuelTpe' and 'trany'"
   ]
  },
  {
   "cell_type": "code",
   "execution_count": 84,
   "metadata": {},
   "outputs": [],
   "source": [
    "df_fuel.drop(['fuelType','trany'], axis = 1, inplace=True)"
   ]
  },
  {
   "cell_type": "markdown",
   "metadata": {},
   "source": [
    "Now merge!"
   ]
  },
  {
   "cell_type": "code",
   "execution_count": 85,
   "metadata": {},
   "outputs": [],
   "source": [
    "df = df.merge(df_fuel, how='left', on=[\"make\",'manufacturer',\"cylinders\",'drive','transmission','year','fuel'])"
   ]
  },
  {
   "cell_type": "code",
   "execution_count": 86,
   "metadata": {},
   "outputs": [
    {
     "name": "stdout",
     "output_type": "stream",
     "text": [
      "<class 'pandas.core.frame.DataFrame'>\n",
      "Int64Index: 546530 entries, 0 to 546529\n",
      "Data columns (total 19 columns):\n",
      " #   Column        Non-Null Count   Dtype  \n",
      "---  ------        --------------   -----  \n",
      " 0   price         546530 non-null  object \n",
      " 1   year          546530 non-null  object \n",
      " 2   manufacturer  515379 non-null  object \n",
      " 3   make          546530 non-null  object \n",
      " 4   condition     390719 non-null  object \n",
      " 5   cylinders     546530 non-null  int32  \n",
      " 6   fuel          543336 non-null  object \n",
      " 7   odometer      546530 non-null  float64\n",
      " 8   title_status  546208 non-null  object \n",
      " 9   transmission  544018 non-null  object \n",
      " 10  drive         417147 non-null  object \n",
      " 11  size          240011 non-null  object \n",
      " 12  type          400799 non-null  object \n",
      " 13  weather       519112 non-null  float64\n",
      " 14  city          546530 non-null  object \n",
      " 15  state         546530 non-null  object \n",
      " 16  county        546530 non-null  object \n",
      " 17  VClass        77363 non-null   object \n",
      " 18  youSaveSpend  77363 non-null   float64\n",
      "dtypes: float64(3), int32(1), object(15)\n",
      "memory usage: 81.3+ MB\n"
     ]
    }
   ],
   "source": [
    "df.info()"
   ]
  },
  {
   "cell_type": "markdown",
   "metadata": {},
   "source": [
    "Let's fill in null value of 'manufacturer' with the majority manufacturer value in 'manufacturer'."
   ]
  },
  {
   "cell_type": "code",
   "execution_count": 87,
   "metadata": {},
   "outputs": [
    {
     "data": {
      "text/plain": [
       "scion tc                     487\n",
       "hummer h3                    331\n",
       "scion xb                     309\n",
       "hummer h2                    284\n",
       "porsche cayenne              228\n",
       "                            ... \n",
       "chryslerchr sebring conv.      1\n",
       "98 corvette                    1\n",
       "stewart & stevenson m1093      1\n",
       "s10-pickup, rat                1\n",
       "saab arc 95                    1\n",
       "Name: make, Length: 12654, dtype: int64"
      ]
     },
     "execution_count": 87,
     "metadata": {},
     "output_type": "execute_result"
    }
   ],
   "source": [
    "df['make'][df['manufacturer'].isnull()].value_counts()"
   ]
  },
  {
   "cell_type": "code",
   "execution_count": 88,
   "metadata": {},
   "outputs": [
    {
     "name": "stderr",
     "output_type": "stream",
     "text": [
      " 15%|█▍        | 1896/12655 [19:22<3:07:00,  1.04s/it]C:\\Users\\danie\\Anaconda\\lib\\site-packages\\pandas\\core\\strings.py:2001: UserWarning: This pattern has match groups. To actually get the groups, use str.extract.\n",
      "  return func(self, *args, **kwargs)\n",
      "100%|██████████| 12655/12655 [2:11:16<00:00,  1.61it/s]    \n"
     ]
    }
   ],
   "source": [
    "i=0\n",
    "a = df['make'][df['manufacturer'].isnull()].value_counts().index\n",
    "  \n",
    "for i in tqdm(range(0,12655)):\n",
    "    \n",
    "    try:\n",
    "        df.loc[((df['make'].str.contains(a[i]))\n",
    "                & (df['manufacturer'].isnull())),'manufacturer']=df['manufacturer'][df['make'].str.contains(a[i])].value_counts().index[0]\n",
    "        \n",
    "    except:\n",
    "        pass"
   ]
  },
  {
   "cell_type": "code",
   "execution_count": 89,
   "metadata": {},
   "outputs": [
    {
     "data": {
      "text/plain": [
       "Series([], Name: make, dtype: int64)"
      ]
     },
     "execution_count": 89,
     "metadata": {},
     "output_type": "execute_result"
    }
   ],
   "source": [
    "df['make'][df['manufacturer'].isnull()].value_counts()"
   ]
  },
  {
   "cell_type": "code",
   "execution_count": 90,
   "metadata": {
    "scrolled": true
   },
   "outputs": [
    {
     "data": {
      "text/plain": [
       "youSaveSpend    85.844693\n",
       "VClass          85.844693\n",
       "size            56.084570\n",
       "condition       28.509139\n",
       "type            26.664776\n",
       "drive           23.673540\n",
       "weather          5.016742\n",
       "fuel             0.584414\n",
       "transmission     0.459627\n",
       "title_status     0.058917\n",
       "city             0.000000\n",
       "odometer         0.000000\n",
       "state            0.000000\n",
       "cylinders        0.000000\n",
       "county           0.000000\n",
       "make             0.000000\n",
       "manufacturer     0.000000\n",
       "year             0.000000\n",
       "price            0.000000\n",
       "dtype: float64"
      ]
     },
     "execution_count": 90,
     "metadata": {},
     "output_type": "execute_result"
    }
   ],
   "source": [
    "((df.isnull().sum()/len(df)).sort_values(ascending = False)*100).astype(float)"
   ]
  },
  {
   "cell_type": "markdown",
   "metadata": {},
   "source": [
    "Let's fill in 'transmission'"
   ]
  },
  {
   "cell_type": "code",
   "execution_count": 91,
   "metadata": {},
   "outputs": [
    {
     "data": {
      "text/plain": [
       "altima                 149\n",
       "accord                  88\n",
       "civic                   73\n",
       "rogue                   67\n",
       "sentra                  56\n",
       "                      ... \n",
       "mkz hybrid 4d sedan      1\n",
       "accord lx cvt sedan      1\n",
       "sentra 2.0               1\n",
       "mirage                   1\n",
       "mercedez ml320           1\n",
       "Name: make, Length: 539, dtype: int64"
      ]
     },
     "execution_count": 91,
     "metadata": {},
     "output_type": "execute_result"
    }
   ],
   "source": [
    "df['make'][df['transmission'].isnull()].value_counts()"
   ]
  },
  {
   "cell_type": "code",
   "execution_count": 92,
   "metadata": {},
   "outputs": [
    {
     "name": "stderr",
     "output_type": "stream",
     "text": [
      "100%|██████████| 540/540 [03:32<00:00,  2.54it/s]\n"
     ]
    }
   ],
   "source": [
    "i=0\n",
    "a = df['make'][df['transmission'].isnull()].value_counts().index\n",
    "  \n",
    "for i in tqdm(range(0,540)):\n",
    "    try:\n",
    "        df.loc[((df['make'].str.contains(a[i]))\n",
    "                & (df['transmission'].isnull())),'transmission']=df['transmission'][df['make'].str.contains(a[i])].value_counts().index[0]\n",
    "        \n",
    "    except:\n",
    "        pass"
   ]
  },
  {
   "cell_type": "code",
   "execution_count": 93,
   "metadata": {},
   "outputs": [
    {
     "data": {
      "text/plain": [
       "gl1800/gold wing                    2\n",
       "davidson softail standard           1\n",
       "ducati streetfighter (sft)          1\n",
       "kawasaki klr 650                    1\n",
       "davidson cvo fat boy                1\n",
       "a6 4.2 quattro s-line               1\n",
       "f450 4x4 crew cab                   1\n",
       "jcw coupe                           1\n",
       "vt750c2                             1\n",
       "f450 regular cab                    1\n",
       "xt5 premium luxury awd              1\n",
       "davidson dyna low rider             1\n",
       "travel lite, inc. travel lite, i    1\n",
       "jayco jay feather                   1\n",
       "Name: make, dtype: int64"
      ]
     },
     "execution_count": 93,
     "metadata": {},
     "output_type": "execute_result"
    }
   ],
   "source": [
    "df['make'][df['transmission'].isnull()].value_counts()"
   ]
  },
  {
   "cell_type": "markdown",
   "metadata": {},
   "source": [
    "The above 14 'makes'' 'transmissions' are not identified."
   ]
  },
  {
   "cell_type": "code",
   "execution_count": null,
   "metadata": {},
   "outputs": [],
   "source": []
  },
  {
   "cell_type": "code",
   "execution_count": null,
   "metadata": {},
   "outputs": [],
   "source": []
  },
  {
   "cell_type": "code",
   "execution_count": null,
   "metadata": {},
   "outputs": [],
   "source": []
  },
  {
   "cell_type": "markdown",
   "metadata": {},
   "source": [
    "Let's fill in 'fuel'"
   ]
  },
  {
   "cell_type": "code",
   "execution_count": 94,
   "metadata": {},
   "outputs": [
    {
     "data": {
      "text/plain": [
       "silverado 1500                             138\n",
       "f-150                                      124\n",
       "tahoe                                       74\n",
       "tundra                                      72\n",
       "sierra 1500                                 46\n",
       "                                          ... \n",
       "explorer 4wd 4dr sport                       1\n",
       "5-series 535xi 6-speed automatic             1\n",
       "3 series 4dr sdn 335i rwd south africa       1\n",
       "f-150 king ranch 4wd supercrew 5.5' box      1\n",
       "international                                1\n",
       "Name: make, Length: 1424, dtype: int64"
      ]
     },
     "execution_count": 94,
     "metadata": {},
     "output_type": "execute_result"
    }
   ],
   "source": [
    "df['make'][df['fuel'].isnull()].value_counts()"
   ]
  },
  {
   "cell_type": "code",
   "execution_count": 95,
   "metadata": {},
   "outputs": [
    {
     "name": "stderr",
     "output_type": "stream",
     "text": [
      "100%|██████████| 1425/1425 [07:53<00:00,  3.01it/s]\n"
     ]
    }
   ],
   "source": [
    "i=0\n",
    "a = df['make'][df['fuel'].isnull()].value_counts().index\n",
    "  \n",
    "for i in tqdm(range(0,1425)):\n",
    "    try:\n",
    "        df.loc[((df['make'].str.contains(a[i]))\n",
    "                & (df['fuel'].isnull())),'fuel']=df['fuel'][df['make'].str.contains(a[i])].value_counts().index[0]\n",
    "        \n",
    "    except:\n",
    "        pass"
   ]
  },
  {
   "cell_type": "code",
   "execution_count": 96,
   "metadata": {},
   "outputs": [
    {
     "name": "stdout",
     "output_type": "stream",
     "text": [
      "srt viper 2dr cpe gts                                6\n",
      "q5 quattro 4dr 2.0t premium plus                     4\n",
      "cargo van 119\" wb tradesman                          4\n",
      "x5 m awd 4dr                                         3\n",
      "a4 4dr sdn auto quattro 2.0t premium plus            3\n",
      "cx-9 awd 4dr grand touring                           2\n",
      "r8 2dr cpe 5.2l man quattro                          2\n",
      "slk-class slk280                                     2\n",
      "sentra 4dr sdn i4 cvt 2.0 sl                         2\n",
      "renault lesharo                                      2\n",
      "aura 4dr sdn xe                                      2\n",
      "vibe 4dr hb                                          2\n",
      "vespa 250                                            2\n",
      "navigator 4x4 select                                 2\n",
      "cc 4dr sdn dsg sport                                 2\n",
      "sentra 4dr sdn i4 cvt s                              2\n",
      "porsche panamera 4dr hb 4s                           2\n",
      "century 4dr sdn custom                               2\n",
      "q7 quattro 4dr 4.2l premium                          2\n",
      "edge awd 4dr sel                                     2\n",
      "eclipse 2dr conv spyder gt sportronic                2\n",
      "cla-class 4dr sdn cla 250 fwd                        2\n",
      "xf 4dr sdn i4 rwd                                    1\n",
      "scion ia 4dr sdn auto (natl)                         1\n",
      "x-type 2.5 5-speed automatic                         1\n",
      "expedition 2wd 4dr xlt                               1\n",
      "sentra 4dr sdn i4 manual se-r spec v *late avail*    1\n",
      "veloster turbo dual clutch                           1\n",
      "outlander sport 2wd 4dr cvt 2.4 es                   1\n",
      "a6 4.2 quattro s-line                                1\n",
      "7 series 4dr sdn 750li rwd                           1\n",
      "gx 470 sport utility 5-speed automatic               1\n",
      "crosstour 2wd i4 5dr ex-l                            1\n",
      "milan v6 6-speed automatic                           1\n",
      "5 series 4dr sdn 525i rwd                            1\n",
      "victory ness jackpot - no data                       1\n",
      "mkc black label fwd                                  1\n",
      "suzuki forenza s                                     1\n",
      "5 series 4dr sdn 528i rwd                            1\n",
      "reatta 2dr convertible                               1\n",
      "s-class s550 sedan                                   1\n",
      "s60 inscription 4dr sdn t5 drive-e premier fwd       1\n",
      "suzuki equator 2wd crew cab v6 auto sport            1\n",
      "edge fwd 4dr sel plus                                1\n",
      "eclipse gs 4-speed automatic                         1\n",
      "porsche cayman 2dr cpe                               1\n",
      "roadmaster 4dr wagon estate                          1\n",
      "srt-10 4dr quad cab 140.5\" wb                        1\n",
      "outlander sport 2wd 4dr cvt es                       1\n",
      "element 2wd 5dr auto ex                              1\n",
      "scion tc 2dr hb man (natl)                           1\n",
      "caravan 4dr grand es 119\" wb                         1\n",
      "xc90 fwd 4dr i6 w/snrf                               1\n",
      "mkx fwd 4dr                                          1\n",
      "7-series 750i 6-speed automatic                      1\n",
      "c-hr xle premium fwd (natl)                          1\n",
      "amanti 4dr sdn auto                                  1\n",
      "expedition max limited 4x4                           1\n",
      "mack rd68 fuel oil tanker                            1\n",
      "outlander se s-awc                                   1\n",
      "f-450 sd supercab 2wd drw no data                    1\n",
      "i8 2dr cpe                                           1\n",
      "612 scaglietti 2dr cpe                               1\n",
      "thomas -cummins diesel                               1\n",
      "sentra 4dr sdn i4 cvt sl                             1\n",
      "versa 5dr hb i4 auto 1.8 s                           1\n",
      "sedona lx 6-speed automatic                          1\n",
      "evoque 2dr cpe dynamic premium                       1\n",
      "porsche macan awd 4dr s                              1\n",
      "low cab                                              1\n",
      "golf 1.8t 4-door s manual                            1\n",
      "outlander 2wd 4dr se                                 1\n",
      "w55042                                               1\n",
      "viper 2dr rt/10 convertible                          1\n",
      "q50 4dr sdn rwd                                      1\n",
      "c70 2dr conv auto                                    1\n",
      "maserati ghibli 4dr sdn                              1\n",
      "davidson fxstd                                       1\n",
      "sl sl2 auto                                          1\n",
      "cobalt 2dr cpe lt w/1lt                              1\n",
      "vue 4dr fwd auto v6                                  1\n",
      "xj 4dr sdn xjl portfolio rwd                         1\n",
      "vrscdx                                               1\n",
      "vt750c2                                              1\n",
      "mx-5 miata 2dr conv prht man touring                 1\n",
      "scion xd 5dr hb auto (natl)                          1\n",
      "porsche macan s awd                                  1\n",
      "caliber 4dr hb express                               1\n",
      "sentra 4dr sdn i4 cvt 2.0 sl fe+                     1\n",
      "5 series 4dr sdn 550i rwd                            1\n",
      "opel manta                                           1\n",
      "4 series 2dr cpe 428i rwd                            1\n",
      "oldsmobile 88 royale 4dr sedan                       1\n",
      "s-class s550 4matic sedan                            1\n",
      "a6 4dr sdn 2.7t quattro auto                         1\n",
      "sentra sr turbo cvt                                  1\n",
      "big dog k9 protohype                                 1\n",
      "porsche boxster 2dr roadster spyder                  1\n",
      "b9 tribeca awd 4dr 5-pass ltd beige int              1\n",
      "s80 4dr sdn t6 platinum                              1\n",
      "lancer 4dr sdn cvt se awd                            1\n",
      "caravan 4dr grand sxt                                1\n",
      "avalon hybrid 4dr sdn xle touring (natl)             1\n",
      "routan 4dr wgn sel w/rse & navigation                1\n",
      "cube 5dr wgn i4 cvt 1.8 s                            1\n",
      "yahamaha kodiak                                      1\n",
      "xts 4dr sdn luxury collection fwd                    1\n",
      "a4 4dr sdn cvt 2.0t fronttrak prem                   1\n",
      "cc 4dr dsg sport pzev                                1\n",
      "rv low miles ru                                      1\n",
      "maserati quattroporte 4dr sdn quattroporte           1\n",
      "avalon 4dr sdn xle touring (natl)                    1\n",
      "porsche 911 2dr cpe carrera s                        1\n",
      "xc70 4dr wgn                                         1\n",
      "ilx 4dr sdn w/acurawatch plus pkg                    1\n",
      "s40 4dr sdn 2.5t r-design awd                        1\n",
      "hd soft tail classic                                 1\n",
      "evoque 5dr hb pure                                   1\n",
      "forest river rv continental carg                     1\n",
      "econoline e250 van                                   1\n",
      "outlander 2wd 4dr es                                 1\n",
      "s8 4dr sdn                                           1\n",
      "a4 4dr sdn auto quattro 2.0t premium                 1\n",
      "evoque 5dr hb pure plus                              1\n",
      "porsche panamera turbo awd                           1\n",
      "rl 4dr sdn                                           1\n",
      "sentra sv cvt                                        1\n",
      "night train                                          1\n",
      "gli 4dr sdn dsg autobahn pzev                        1\n",
      "cobalt 2dr cpe ss supercharged                       1\n",
      "sentra 4dr sdn i4 cvt sv                             1\n",
      "matrix 5dr wgn auto s awd (natl)                     1\n",
      "tt 2dr roadster quattro 6-spd                        1\n",
      "porsche cayenne awd 4dr diesel                       1\n",
      "x1 awd 4dr xdrive28i                                 1\n",
      "cc 4dr sdn lux limited                               1\n",
      "porsche cayenne platinum edition awd                 1\n",
      "s7 4dr hb prestige                                   1\n",
      "insight 5dr cvt ex                                   1\n",
      "scion fr-s 2dr cpe man (natl)                        1\n",
      "accent 4dr sdn auto se                               1\n",
      "vue fwd 4dr v6 xr                                    1\n",
      "Name: make, dtype: int64\n",
      "142\n"
     ]
    }
   ],
   "source": [
    "print(df['make'][df['fuel'].isnull()].value_counts())\n",
    "print(len(df['make'][df['fuel'].isnull()].value_counts()))"
   ]
  },
  {
   "cell_type": "markdown",
   "metadata": {},
   "source": [
    "The above 142 'makes'' 'fuel' are not identified."
   ]
  },
  {
   "cell_type": "code",
   "execution_count": null,
   "metadata": {},
   "outputs": [],
   "source": []
  },
  {
   "cell_type": "code",
   "execution_count": 97,
   "metadata": {},
   "outputs": [
    {
     "data": {
      "text/plain": [
       "youSaveSpend    85.844693\n",
       "VClass          85.844693\n",
       "size            56.084570\n",
       "condition       28.509139\n",
       "type            26.664776\n",
       "drive           23.673540\n",
       "weather          5.016742\n",
       "title_status     0.058917\n",
       "fuel             0.031837\n",
       "transmission     0.002745\n",
       "city             0.000000\n",
       "odometer         0.000000\n",
       "state            0.000000\n",
       "cylinders        0.000000\n",
       "county           0.000000\n",
       "make             0.000000\n",
       "manufacturer     0.000000\n",
       "year             0.000000\n",
       "price            0.000000\n",
       "dtype: float64"
      ]
     },
     "execution_count": 97,
     "metadata": {},
     "output_type": "execute_result"
    }
   ],
   "source": [
    "((df.isnull().sum()/len(df)).sort_values(ascending = False)*100).astype(float)"
   ]
  },
  {
   "cell_type": "code",
   "execution_count": null,
   "metadata": {},
   "outputs": [],
   "source": []
  },
  {
   "cell_type": "markdown",
   "metadata": {},
   "source": [
    "Let's fill in 'drive'."
   ]
  },
  {
   "cell_type": "code",
   "execution_count": 98,
   "metadata": {},
   "outputs": [
    {
     "data": {
      "text/plain": [
       "civic                          1300\n",
       "accord                         1227\n",
       "1500                           1178\n",
       "mustang                        1029\n",
       "f-150                           967\n",
       "                               ... \n",
       "lt                                1\n",
       "f-350 diesel 7.3l lariat cr       1\n",
       "foed e 350                        1\n",
       "vue xr awd                        1\n",
       "wrx sti awd 4dr sedan             1\n",
       "Name: make, Length: 16037, dtype: int64"
      ]
     },
     "execution_count": 98,
     "metadata": {},
     "output_type": "execute_result"
    }
   ],
   "source": [
    "df['make'][df['drive'].isnull()].value_counts()"
   ]
  },
  {
   "cell_type": "code",
   "execution_count": 99,
   "metadata": {},
   "outputs": [
    {
     "name": "stderr",
     "output_type": "stream",
     "text": [
      "100%|██████████| 16038/16038 [1:40:58<00:00,  2.65it/s]\n"
     ]
    }
   ],
   "source": [
    "i=0\n",
    "a = df['make'][df['drive'].isnull()].value_counts().index\n",
    "  \n",
    "for i in tqdm(range(0,16038)):\n",
    "    try:\n",
    "        df.loc[((df['make'].str.contains(a[i]))\n",
    "                & (df['drive'].isnull())),'drive']=df['drive'][df['make'].str.contains(a[i])].value_counts().index[0]\n",
    "        \n",
    "    except:\n",
    "        pass"
   ]
  },
  {
   "cell_type": "code",
   "execution_count": 100,
   "metadata": {},
   "outputs": [
    {
     "name": "stdout",
     "output_type": "stream",
     "text": [
      "Series([], Name: make, dtype: int64)\n",
      "0\n"
     ]
    }
   ],
   "source": [
    "print(df['make'][df['drive'].isnull()].value_counts())\n",
    "print(len(df['make'][df['drive'].isnull()].value_counts()))"
   ]
  },
  {
   "cell_type": "code",
   "execution_count": null,
   "metadata": {},
   "outputs": [],
   "source": []
  },
  {
   "cell_type": "code",
   "execution_count": 101,
   "metadata": {},
   "outputs": [
    {
     "data": {
      "text/plain": [
       "youSaveSpend    85.844693\n",
       "VClass          85.844693\n",
       "size            56.084570\n",
       "condition       28.509139\n",
       "type            26.664776\n",
       "weather          5.016742\n",
       "title_status     0.058917\n",
       "fuel             0.031837\n",
       "transmission     0.002745\n",
       "drive            0.000000\n",
       "city             0.000000\n",
       "odometer         0.000000\n",
       "state            0.000000\n",
       "cylinders        0.000000\n",
       "county           0.000000\n",
       "make             0.000000\n",
       "manufacturer     0.000000\n",
       "year             0.000000\n",
       "price            0.000000\n",
       "dtype: float64"
      ]
     },
     "execution_count": 101,
     "metadata": {},
     "output_type": "execute_result"
    }
   ],
   "source": [
    "((df.isnull().sum()/len(df)).sort_values(ascending = False)*100).astype(float)"
   ]
  },
  {
   "cell_type": "markdown",
   "metadata": {},
   "source": [
    "Let's fill in 'type'."
   ]
  },
  {
   "cell_type": "code",
   "execution_count": 102,
   "metadata": {},
   "outputs": [
    {
     "data": {
      "text/plain": [
       "1500                  1810\n",
       "f-150                 1628\n",
       "civic                 1559\n",
       "silverado 1500        1326\n",
       "wrangler              1293\n",
       "                      ... \n",
       "e-class e 63 amg         1\n",
       "rogue awd sl sulev       1\n",
       "s40 t5 awd               1\n",
       "expedition`1             1\n",
       "yamaha tw200             1\n",
       "Name: make, Length: 16621, dtype: int64"
      ]
     },
     "execution_count": 102,
     "metadata": {},
     "output_type": "execute_result"
    }
   ],
   "source": [
    "df['make'][df['type'].isnull()].value_counts()"
   ]
  },
  {
   "cell_type": "code",
   "execution_count": 103,
   "metadata": {},
   "outputs": [
    {
     "name": "stderr",
     "output_type": "stream",
     "text": [
      "100%|██████████| 16622/16622 [1:43:20<00:00,  2.68it/s]\n"
     ]
    }
   ],
   "source": [
    "i=0\n",
    "a = df['make'][df['type'].isnull()].value_counts().index\n",
    "  \n",
    "for i in tqdm(range(0,16622)):\n",
    "    try:\n",
    "        df.loc[((df['make'].str.contains(a[i]))\n",
    "                & (df['type'].isnull())),'type']=df['type'][df['make'].str.contains(a[i])].value_counts().index[0]\n",
    "        \n",
    "    except:\n",
    "        pass"
   ]
  },
  {
   "cell_type": "code",
   "execution_count": 104,
   "metadata": {},
   "outputs": [
    {
     "name": "stdout",
     "output_type": "stream",
     "text": [
      "Series([], Name: make, dtype: int64)\n",
      "0\n"
     ]
    }
   ],
   "source": [
    "print(df['make'][df['type'].isnull()].value_counts())\n",
    "print(len(df['make'][df['type'].isnull()].value_counts()))"
   ]
  },
  {
   "cell_type": "code",
   "execution_count": 105,
   "metadata": {},
   "outputs": [
    {
     "data": {
      "text/plain": [
       "youSaveSpend    85.844693\n",
       "VClass          85.844693\n",
       "size            56.084570\n",
       "condition       28.509139\n",
       "weather          5.016742\n",
       "title_status     0.058917\n",
       "fuel             0.031837\n",
       "transmission     0.002745\n",
       "drive            0.000000\n",
       "type             0.000000\n",
       "city             0.000000\n",
       "odometer         0.000000\n",
       "state            0.000000\n",
       "cylinders        0.000000\n",
       "county           0.000000\n",
       "make             0.000000\n",
       "manufacturer     0.000000\n",
       "year             0.000000\n",
       "price            0.000000\n",
       "dtype: float64"
      ]
     },
     "execution_count": 105,
     "metadata": {},
     "output_type": "execute_result"
    }
   ],
   "source": [
    "((df.isnull().sum()/len(df)).sort_values(ascending = False)*100).astype(float)"
   ]
  },
  {
   "cell_type": "markdown",
   "metadata": {},
   "source": [
    "Let's fill in 'size'."
   ]
  },
  {
   "cell_type": "code",
   "execution_count": 106,
   "metadata": {},
   "outputs": [
    {
     "data": {
      "text/plain": [
       "f-150                             4310\n",
       "1500                              3773\n",
       "silverado 1500                    2947\n",
       "civic                             2737\n",
       "accord                            2457\n",
       "                                  ... \n",
       "gmcsierra 3500hd                     1\n",
       "charger sxt 4d sedan automatic       1\n",
       "2001volvo s80                        1\n",
       "santa fe v6 *3.3lit*3row             1\n",
       "versa sedan sv automatic             1\n",
       "Name: make, Length: 29205, dtype: int64"
      ]
     },
     "execution_count": 106,
     "metadata": {},
     "output_type": "execute_result"
    }
   ],
   "source": [
    "df['make'][df['size'].isnull()].value_counts()"
   ]
  },
  {
   "cell_type": "code",
   "execution_count": 107,
   "metadata": {},
   "outputs": [
    {
     "name": "stderr",
     "output_type": "stream",
     "text": [
      "100%|██████████| 29206/29206 [2:58:29<00:00,  2.73it/s]  \n"
     ]
    }
   ],
   "source": [
    "i=0\n",
    "a = df['make'][df['size'].isnull()].value_counts().index\n",
    "  \n",
    "for i in tqdm(range(0,29206)):\n",
    "    try:\n",
    "        df.loc[((df['make'].str.contains(a[i]))\n",
    "                & (df['size'].isnull())),'size']=df['size'][df['make'].str.contains(a[i])].value_counts().index[0]\n",
    "        \n",
    "    except:\n",
    "        pass"
   ]
  },
  {
   "cell_type": "code",
   "execution_count": 108,
   "metadata": {},
   "outputs": [
    {
     "name": "stdout",
     "output_type": "stream",
     "text": [
      "Series([], Name: make, dtype: int64)\n",
      "0\n"
     ]
    }
   ],
   "source": [
    "print(df['make'][df['size'].isnull()].value_counts())\n",
    "print(len(df['make'][df['size'].isnull()].value_counts()))"
   ]
  },
  {
   "cell_type": "code",
   "execution_count": null,
   "metadata": {},
   "outputs": [],
   "source": []
  },
  {
   "cell_type": "markdown",
   "metadata": {},
   "source": [
    "Let's fill in 'VClass'."
   ]
  },
  {
   "cell_type": "code",
   "execution_count": 109,
   "metadata": {},
   "outputs": [
    {
     "data": {
      "text/plain": [
       "1500                          6965\n",
       "f-150                         6890\n",
       "silverado 1500                4938\n",
       "2500                          3746\n",
       "escape                        3381\n",
       "                              ... \n",
       "3500hd quad cab diesel           1\n",
       "blazer 4x4 s10                   1\n",
       "08 porsche cayenne               1\n",
       "liberty 2wd                      1\n",
       "1500 2dr reg cab 119 wb 4w       1\n",
       "Name: make, Length: 46811, dtype: int64"
      ]
     },
     "execution_count": 109,
     "metadata": {},
     "output_type": "execute_result"
    }
   ],
   "source": [
    "df['make'][df['VClass'].isnull()].value_counts()"
   ]
  },
  {
   "cell_type": "code",
   "execution_count": 110,
   "metadata": {},
   "outputs": [
    {
     "name": "stderr",
     "output_type": "stream",
     "text": [
      "100%|██████████| 46812/46812 [4:46:58<00:00,  2.72it/s]  \n"
     ]
    }
   ],
   "source": [
    "i=0\n",
    "a = df['make'][df['VClass'].isnull()].value_counts().index\n",
    "  \n",
    "for i in tqdm(range(0,46812)):\n",
    "    try:\n",
    "        df.loc[((df['make'].str.contains(a[i]))\n",
    "                & (df['VClass'].isnull())),'VClass']=df['VClass'][df['make'].str.contains(a[i])].value_counts().index[0]\n",
    "        \n",
    "    except:\n",
    "        pass"
   ]
  },
  {
   "cell_type": "code",
   "execution_count": 111,
   "metadata": {},
   "outputs": [
    {
     "name": "stdout",
     "output_type": "stream",
     "text": [
      "Series([], Name: make, dtype: int64)\n",
      "0\n"
     ]
    }
   ],
   "source": [
    "print(df['make'][df['VClass'].isnull()].value_counts())\n",
    "print(len(df['make'][df['VClass'].isnull()].value_counts()))"
   ]
  },
  {
   "cell_type": "code",
   "execution_count": 112,
   "metadata": {},
   "outputs": [
    {
     "data": {
      "text/plain": [
       "youSaveSpend    85.844693\n",
       "condition       28.509139\n",
       "weather          5.016742\n",
       "title_status     0.058917\n",
       "fuel             0.031837\n",
       "transmission     0.002745\n",
       "type             0.000000\n",
       "size             0.000000\n",
       "drive            0.000000\n",
       "VClass           0.000000\n",
       "city             0.000000\n",
       "odometer         0.000000\n",
       "state            0.000000\n",
       "cylinders        0.000000\n",
       "county           0.000000\n",
       "make             0.000000\n",
       "manufacturer     0.000000\n",
       "year             0.000000\n",
       "price            0.000000\n",
       "dtype: float64"
      ]
     },
     "execution_count": 112,
     "metadata": {},
     "output_type": "execute_result"
    }
   ],
   "source": [
    "((df.isnull().sum()/len(df)).sort_values(ascending = False)*100).astype(float)"
   ]
  },
  {
   "cell_type": "markdown",
   "metadata": {},
   "source": [
    "In order to fill in weather, let's make another column 'loc' which combines 'city', 'county', and 'state'."
   ]
  },
  {
   "cell_type": "code",
   "execution_count": 113,
   "metadata": {},
   "outputs": [],
   "source": [
    "df['loc'] = df['city'] + df['county'] + df['state']"
   ]
  },
  {
   "cell_type": "markdown",
   "metadata": {},
   "source": [
    "Let's fill in 'weather' by 'loc'."
   ]
  },
  {
   "cell_type": "code",
   "execution_count": 114,
   "metadata": {},
   "outputs": [
    {
     "data": {
      "text/plain": [
       "New WestminsterBritish Columbia        2682\n",
       "LangleyBritish Columbia                1845\n",
       "SurreyBritish Columbia                 1728\n",
       "CourtenayBritish Columbia              1599\n",
       "RichmondBritish Columbia               1360\n",
       "                                       ... \n",
       "PattersonSaint Mary ParishLouisiana       1\n",
       "HanoverOntario                            1\n",
       "YellowknifeNorthwest Territories          1\n",
       "WetaskiwinAlberta                         1\n",
       "OvacikMersin                              1\n",
       "Name: loc, Length: 513, dtype: int64"
      ]
     },
     "execution_count": 114,
     "metadata": {},
     "output_type": "execute_result"
    }
   ],
   "source": [
    "df['loc'][df['weather'].isnull()].value_counts()"
   ]
  },
  {
   "cell_type": "code",
   "execution_count": 115,
   "metadata": {
    "scrolled": true
   },
   "outputs": [
    {
     "name": "stderr",
     "output_type": "stream",
     "text": [
      "100%|██████████| 514/514 [01:42<00:00,  5.00it/s]\n"
     ]
    }
   ],
   "source": [
    "i=0\n",
    "a = df['loc'][df['weather'].isnull()].value_counts().index\n",
    "  \n",
    "for i in tqdm(range(0,514)):\n",
    "    try:\n",
    "        df.loc[((df['loc'].str.contains(a[i]))\n",
    "                & (df['weather'].isnull())),'weather']=df['weather'][df['loc'].str.contains(a[i])].value_counts().index[0]\n",
    "        \n",
    "    except:\n",
    "        pass"
   ]
  },
  {
   "cell_type": "code",
   "execution_count": 116,
   "metadata": {
    "scrolled": true
   },
   "outputs": [
    {
     "data": {
      "text/plain": [
       "New WestminsterBritish Columbia                                           2682\n",
       "LangleyBritish Columbia                                                   1845\n",
       "SurreyBritish Columbia                                                    1728\n",
       "CourtenayBritish Columbia                                                 1599\n",
       "RichmondBritish Columbia                                                  1360\n",
       "VancouverBritish Columbia                                                 1306\n",
       "North VancouverFraser Valley Regional DistrictBritish Columbia            1218\n",
       "BurnabyBritish Columbia                                                   1153\n",
       "Port MoodyBritish Columbia                                                1002\n",
       "NanaimoBritish Columbia                                                    949\n",
       "Campbell RiverBritish Columbia                                             894\n",
       "VictoriaBritish Columbia                                                   729\n",
       "LadnerBritish Columbia                                                     658\n",
       "AldergroveBritish Columbia                                                 576\n",
       "ParksvilleRegional District of NanaimoBritish Columbia                     444\n",
       "DeltaBritish Columbia                                                      419\n",
       "West EndBritish Columbia                                                   418\n",
       "CoquitlamBritish Columbia                                                  383\n",
       "ScarboroughOntario                                                         368\n",
       "KelownaBritish Columbia                                                    340\n",
       "AbbotsfordBritish Columbia                                                 310\n",
       "ChilliwackFraser Valley Regional DistrictBritish Columbia                  294\n",
       "ConcordOntario                                                             284\n",
       "TorontoOntario                                                             280\n",
       "White RockGreater Vancouver Regional DistrictBritish Columbia              264\n",
       "EtobicokeOntario                                                           200\n",
       "BramptonOntario                                                            193\n",
       "SecheltSunshine Coast Regional DistrictBritish Columbia                    189\n",
       "AjaxOntario                                                                177\n",
       "KamloopsBritish Columbia                                                   169\n",
       "Walnut GroveBritish Columbia                                               167\n",
       "Maple RidgeBritish Columbia                                                159\n",
       "CalgaryAlberta                                                             149\n",
       "GibsonsSunshine Coast Regional DistrictBritish Columbia                    133\n",
       "OshawaOntario                                                              131\n",
       "PentictonBritish Columbia                                                  109\n",
       "Pitt MeadowsBritish Columbia                                               108\n",
       "Lions BayGreater Vancouver Regional DistrictBritish Columbia               101\n",
       "MississaugaOntario                                                          97\n",
       "West KelownaBritish Columbia                                                89\n",
       "Port AlberniBritish Columbia                                                89\n",
       "TofinoRegional District of Alberni-ClayoquotBritish Columbia                89\n",
       "CranbrookBritish Columbia                                                   86\n",
       "WhistlerBritish Columbia                                                    79\n",
       "EdmontonAlberta                                                             79\n",
       "VernonRegional District of North OkanaganBritish Columbia                   77\n",
       "Oak BayBritish Columbia                                                     76\n",
       "AgassizBritish Columbia                                                     69\n",
       "DuncanBritish Columbia                                                      69\n",
       "Salmon ArmBritish Columbia                                                  68\n",
       "VaughanOntario                                                              65\n",
       "North SaanichBritish Columbia                                               59\n",
       "LadysmithCowichan Valley Regional DistrictBritish Columbia                  58\n",
       "HamiltonOntario                                                             54\n",
       "CumberlandBritish Columbia                                                  54\n",
       "Powell RiverPowell River Regional DistrictBritish Columbia                  53\n",
       "ColwoodBritish Columbia                                                     53\n",
       "MarkhamOntario                                                              52\n",
       "WillowdaleOntario                                                           51\n",
       "OsoyoosBritish Columbia                                                     49\n",
       "Richmond HillYorkOntario                                                    49\n",
       "West VancouverBritish Columbia                                              46\n",
       "LangfordBritish Columbia                                                    44\n",
       "Prince GeorgeBritish Columbia                                               37\n",
       "WinnipegManitoba                                                            35\n",
       "NewmarketOntario                                                            34\n",
       "Edinburgh of the Seven SeasTristan da Cunha                                 31\n",
       "North CowichanBritish Columbia                                              30\n",
       "MiltonHaltonOntario                                                         30\n",
       "Capitol HeightsPrince George's CountyMaryland                               30\n",
       "Bowen IslandGreater Vancouver Regional DistrictBritish Columbia             30\n",
       "OliverBritish Columbia                                                      29\n",
       "Cache CreekBritish Columbia                                                 28\n",
       "Williams LakeBritish Columbia                                               28\n",
       "CastlegarBritish Columbia                                                   25\n",
       "BurlingtonOntario                                                           25\n",
       "OakvilleOntario                                                             22\n",
       "NelsonBritish Columbia                                                      22\n",
       "North YorkOntario                                                           21\n",
       "Puerto VillamilCanton IsabelaGalapagos                                      21\n",
       "Los AchotesZihuatanejo de AzuetaGuerrero                                    20\n",
       "IngersollOntario                                                            19\n",
       "AnmoreGreater Vancouver Regional DistrictBritish Columbia                   19\n",
       "PeachlandBritish Columbia                                                   18\n",
       "SaskatoonSaskatchewan                                                       16\n",
       "HalifaxNova Scotia                                                          16\n",
       "Belleair BeachPinellas CountyFlorida                                        16\n",
       "ChaseBritish Columbia                                                       16\n",
       "ChestermereAlberta                                                          15\n",
       "SummerlandBritish Columbia                                                  15\n",
       "Gjoa HavenNunavut                                                           15\n",
       "ThompsonManitoba                                                            14\n",
       "LumbyBritish Columbia                                                       14\n",
       "WhitehorseYukon                                                             14\n",
       "San PatricioJalisco                                                         13\n",
       "Grytviken                                                                   13\n",
       "PembertonBritish Columbia                                                   12\n",
       "MerrittBritish Columbia                                                     12\n",
       "Thunder BayThunder Bay DistrictOntario                                      12\n",
       "St. AlbertAlberta                                                           12\n",
       "Ostrov Paskhi                                                               12\n",
       "KitchenerOntario                                                            12\n",
       "ArmstrongBritish Columbia                                                   11\n",
       "TrailBritish Columbia                                                       10\n",
       "JamestownSaint Helena                                                       10\n",
       "TaberAlberta                                                                10\n",
       "Telchac PuertoYucatan                                                       10\n",
       "OttawaOntario                                                               10\n",
       "GlassmanorPrince George's CountyMaryland                                    10\n",
       "SelkirkManitoba                                                             10\n",
       "Hanga RoaValparaiso                                                          9\n",
       "KodiakKodiak Island BoroughAlaska                                            9\n",
       "PickeringOntario                                                             9\n",
       "RevelstokeBritish Columbia                                                   9\n",
       "OmemeeOntario                                                                8\n",
       "Lake CowichanBritish Columbia                                                8\n",
       "Bradford West GwillimburyOntario                                             8\n",
       "BarrieOntario                                                                8\n",
       "Sherwood ParkAlberta                                                         8\n",
       "BanffAlberta                                                                 7\n",
       "Brisas de ZicatelaSanta Maria ColotepecOaxaca                                7\n",
       "LethbridgeAlberta                                                            7\n",
       "Bells CornersOntario                                                         7\n",
       "LondonOntario                                                                7\n",
       "PeterboroughOntario                                                          7\n",
       "GuelphWellington CountyOntario                                               7\n",
       "WellandOntario                                                               7\n",
       "MetchosinBritish Columbia                                                    7\n",
       "ChillumPrince George's CountyMaryland                                        6\n",
       "BeaumontAlberta                                                              6\n",
       "WaterlooOntario                                                              6\n",
       "QuesnelBritish Columbia                                                      6\n",
       "RosslandBritish Columbia                                                     6\n",
       "UclueletRegional District of Alberni-ClayoquotBritish Columbia               6\n",
       "HeadingleyManitoba                                                           6\n",
       "KitimatBritish Columbia                                                      6\n",
       "Rankin InletNunavut                                                          6\n",
       "EnderbyBritish Columbia                                                      5\n",
       "Red DeerAlberta                                                              5\n",
       "AmherstburgOntario                                                           5\n",
       "HopeBritish Columbia                                                         5\n",
       "GimliManitoba                                                                5\n",
       "Logan LakeBritish Columbia                                                   5\n",
       "Hillcrest HeightsPrince George's CountyMaryland                              5\n",
       "Ciudad JuarezChihuahua                                                       4\n",
       "St. CatharinesRegional Municipality of NiagaraOntario                        4\n",
       "AximWestern                                                                  4\n",
       "OrangevilleOntario                                                           4\n",
       "Atuona                                                                       4\n",
       "Friendship VillageMontgomery CountyMaryland                                  4\n",
       "San Andres Playa Encantada (El Podrido)Acapulco de JuarezGuerrero            4\n",
       "SicamousBritish Columbia                                                     4\n",
       "BrantfordOntario                                                             4\n",
       "DartmouthNova Scotia                                                         4\n",
       "KingstonOntario                                                              4\n",
       "AirdrieAlberta                                                               4\n",
       "OkanaganBritish Columbia                                                     4\n",
       "Fort McMurrayAlberta                                                         3\n",
       "AngusOntario                                                                 3\n",
       "HoustonBritish Columbia                                                      3\n",
       "BellevilleOntario                                                            3\n",
       "OleshnykVynohradiv RaionZakarpattia                                          3\n",
       "EldoradoDepartamento de EldoradoMisiones                                     3\n",
       "Puerto Baquerizo MorenoGalapagos                                             3\n",
       "Santa Maria TonamecaOaxaca                                                   3\n",
       "Grand-LahouLagunes                                                           3\n",
       "St. John'sNewfoundland and Labrador                                          3\n",
       "Niagara FallsOntario                                                         3\n",
       "NakuspBritish Columbia                                                       3\n",
       "ThoroldOntario                                                               3\n",
       "Chevy Chase VillageMontgomery CountyMaryland                                 3\n",
       "KentvilleKings CountyNova Scotia                                             3\n",
       "WaitangiChatham Islands                                                      3\n",
       "MonctonNew Brunswick                                                         3\n",
       "ReginaSaskatchewan                                                           3\n",
       "MonroviaMontserrado                                                          3\n",
       "CollingwoodOntario                                                           3\n",
       "Villa RotariaTecpan de GaleanaGuerrero                                       3\n",
       "Palma SolaAlto Lucero de Gutierrez BarriosVeracruz                           3\n",
       "CambridgeOntario                                                             3\n",
       "WestlockAlberta                                                              3\n",
       "Puerto NatalesMagallanes                                                     3\n",
       "IxtapaGuerrero                                                               3\n",
       "DelawareOntario                                                              3\n",
       "KimberleyRegional District of East KootenayBritish Columbia                  3\n",
       "Burns LakeBritish Columbia                                                   3\n",
       "InnisfilOntario                                                              3\n",
       "LeducAlberta                                                                 3\n",
       "Moose JawSaskatchewan                                                        3\n",
       "CanmoreAlberta                                                               3\n",
       "Red LakeOntario                                                              3\n",
       "KeswickOntario                                                               3\n",
       "GatineauOutaouaisQuebec                                                      3\n",
       "AncasterOntario                                                              3\n",
       "CobourgOntario                                                               3\n",
       "PenholdAlberta                                                               2\n",
       "TerraceBritish Columbia                                                      2\n",
       "Dorp RinconBonaire                                                           2\n",
       "Fort SaskatchewanAlberta                                                     2\n",
       "Port Saint JoeGulf CountyFlorida                                             2\n",
       "FernieBritish Columbia                                                       2\n",
       "Fairmount HeightsPrince George's CountyMaryland                              2\n",
       "Stony PlainAlberta                                                           2\n",
       "CoalhurstAlberta                                                             2\n",
       "SmithersBritish Columbia                                                     2\n",
       "Arraial do CaboArraial Do CaboRio de Janeiro                                 2\n",
       "CrossfieldAlberta                                                            2\n",
       "InvermereBritish Columbia                                                    2\n",
       "AnlogaVolta                                                                  2\n",
       "Santo Domingo ArmentaSanto Domingo ArmentaOaxaca                             2\n",
       "NivervilleManitoba                                                           2\n",
       "OkotoksAlberta                                                               2\n",
       "Les CoteauxMonteregieQuebec                                                  2\n",
       "Heroica MatamorosMatamorosTamaulipas                                         2\n",
       "StrathmoreAlberta                                                            2\n",
       "Spruce GroveAlberta                                                          2\n",
       "ImurisImurisSonora                                                           2\n",
       "ChinguettiAdrar                                                              2\n",
       "Jeffrey's BayCacadu District MunicipalityEastern Cape                        2\n",
       "AscensionSanta Cruz                                                          2\n",
       "OrilliaOntario                                                               2\n",
       "Rocky Mountain HouseAlberta                                                  2\n",
       "Las HiguerillasMatamorosTamaulipas                                           2\n",
       "Rio LagartosYucatan                                                          2\n",
       "StratfordOntario                                                             2\n",
       "BuchananGrand Bassa                                                          2\n",
       "Santiago de CaoAscopeLa Libertad                                             2\n",
       "Quinte WestOntario                                                           2\n",
       "Medicine HatAlberta                                                          2\n",
       "BracebridgeOntario                                                           2\n",
       "HamiltonHamilton city                                                        2\n",
       "SkateparkOntario                                                             2\n",
       "AshcroftThompson-Nicola Regional DistrictBritish Columbia                    2\n",
       "UshuaiaTierra del Fuego                                                      2\n",
       "LillooetBritish Columbia                                                     2\n",
       "Dawson CreekPeace River Regional DistrictBritish Columbia                    2\n",
       "Pincher CreekAlberta                                                         2\n",
       "Greater NapaneeOntario                                                       2\n",
       "Jasper Park LodgeAlberta                                                     2\n",
       "OxbowSaskatchewan                                                            2\n",
       "Vinas del SolMexicaliBaja California                                         2\n",
       "Corner BrookNewfoundland and Labrador                                        2\n",
       "Doctor Domingo ChanonaVillafloresChiapas                                     2\n",
       "East LondonBuffalo City Metropolitan MunicipalityEastern Cape                2\n",
       "NantonAlberta                                                                2\n",
       "CanutamaCanutamaAmazonas                                                     2\n",
       "Doctor ArroyoNuevo Leon                                                      2\n",
       "La ReformaNuevo Leon                                                         2\n",
       "Carleton PlaceOntario                                                        2\n",
       "Coahuayana ViejoMichoacan                                                    2\n",
       "Cole HarbourNova Scotia                                                      2\n",
       "Villa MorelosComonduBaja California Sur                                      2\n",
       "CasselmanOntario                                                             2\n",
       "Sao Joao da BarraSao Joao Da BarraRio de Janeiro                             2\n",
       "LloydminsterSaskatchewan                                                     2\n",
       "MinnedosaManitoba                                                            2\n",
       "HermanusOverberg District MunicipalityWestern Cape                           1\n",
       "El Barrancon del Tio Blas (El Barrancon)San FernandoTamaulipas               1\n",
       "ChesterNova Scotia                                                           1\n",
       "LodjaKasai-Oriental                                                          1\n",
       "MidlandOntario                                                               1\n",
       "BeylaBeyla PrefectureNzerekore                                               1\n",
       "GrindavikSouthern Peninsula                                                  1\n",
       "GashuaYobe                                                                   1\n",
       "MatagamiNord-du-QuebecQuebec                                                 1\n",
       "MetapanSanta Ana                                                             1\n",
       "Ciudad AcunaCoahuila                                                         1\n",
       "CarberryManitoba                                                             1\n",
       "AntofagastaProvincia de AntofagastaAntofagasta                               1\n",
       "AntigonishNova Scotia                                                        1\n",
       "GrockaBelgradeCentral Serbia                                                 1\n",
       "Metlili ChaambaGhardaia                                                      1\n",
       "General Lazaro Cardenas (El Colorado)El MarquesQueretaro                     1\n",
       "Ain SefraWilaya de Naama                                                     1\n",
       "YarmouthNova Scotia                                                          1\n",
       "MalpicaProvincia da CorunaGalicia                                            1\n",
       "KapuskasingOntario                                                           1\n",
       "Vega de AlatorreVeracruz                                                     1\n",
       "North BattlefordSaskatchewan                                                 1\n",
       "El CastilloGuanajuato                                                        1\n",
       "HuntsvilleOntario                                                            1\n",
       "Rio GallegosSanta Cruz                                                       1\n",
       "BassanoAlberta                                                               1\n",
       "CrucecitaSanta Maria HuatulcoOaxaca                                          1\n",
       "Santa AnitaPlayas de RosaritoBaja California                                 1\n",
       "Elliot LakeOntario                                                           1\n",
       "AutazesAutazesAmazonas                                                       1\n",
       "HancevilleBritish Columbia                                                   1\n",
       "BiankoumaDix-Huit Montagnes                                                  1\n",
       "Grosse Pointe FarmsWayne CountyMichigan                                      1\n",
       "ElkfordBritish Columbia                                                      1\n",
       "AjdabiyaSha`biyat al Wahat                                                   1\n",
       "SarniaLambton CountyOntario                                                  1\n",
       "Nicolas BravoQuintana Roo                                                    1\n",
       "Owen SoundOntario                                                            1\n",
       "TasiilaqSermersooq                                                           1\n",
       "Port AlfredCacadu District MunicipalityEastern Cape                          1\n",
       "SparwoodBritish Columbia                                                     1\n",
       "YendiYendiNorthern                                                           1\n",
       "San Mateo del MarOaxaca                                                      1\n",
       "BredasdorpOverberg District MunicipalityWestern Cape                         1\n",
       "SpringhillNova Scotia                                                        1\n",
       "High RiverAlberta                                                            1\n",
       "Mount PearlNewfoundland and Labrador                                         1\n",
       "Clarence-RocklandOntario                                                     1\n",
       "IllapelProvincia de ChoapaCoquimbo                                           1\n",
       "Silver HillPrince George's CountyMaryland                                    1\n",
       "Cabo San LucasBaja California Sur                                            1\n",
       "BluewaterOntario                                                             1\n",
       "CoquimboProvincia de ElquiCoquimbo                                           1\n",
       "SanibelLee CountyFlorida                                                     1\n",
       "DigbyNova Scotia                                                             1\n",
       "TofieldAlberta                                                               1\n",
       "SeadriftCalhoun CountyTexas                                                  1\n",
       "Emiliano Zapata (El Ranchito)CihuatlanJalisco                                1\n",
       "PictouNova Scotia                                                            1\n",
       "AncudProvincia de ChiloeLos Lagos                                            1\n",
       "FurnasPovoacaoAzores                                                         1\n",
       "Grand-PopoMono                                                               1\n",
       "FrederictonNew Brunswick                                                     1\n",
       "Villa CanalesGuatemala                                                       1\n",
       "South HuronOntario                                                           1\n",
       "Indian HeadSaskatchewan                                                      1\n",
       "GananoqueOntario                                                             1\n",
       "Swift CurrentSaskatchewan                                                    1\n",
       "Gueltat ZemmourBoujdourLaayoune-Boujdour-Sakia El Hamra                      1\n",
       "Savannah BightBay Islands                                                    1\n",
       "Montreal-EstQuebec                                                           1\n",
       "San Pedro PochutlaOaxaca                                                     1\n",
       "San JeronimitoGuerrero                                                       1\n",
       "SoderforsLycksele KommunVaesterbotten                                        1\n",
       "OutlookSaskatchewan                                                          1\n",
       "Governador ValadaresGovernador ValadaresMinas Gerais                         1\n",
       "Isles of ScillyIsles of ScillyEngland                                        1\n",
       "MosulNinawa                                                                  1\n",
       "Atltzayanca de HidalgoTlaxcala                                               1\n",
       "AtikokanRainy River DistrictOntario                                          1\n",
       "VanderhoofBritish Columbia                                                   1\n",
       "CodringtonBarbuda                                                            1\n",
       "Sylvan LakeAlberta                                                           1\n",
       "Grand-BassamSud-Comoe                                                        1\n",
       "Drayton ValleyAlberta                                                        1\n",
       "El AradorSan Lorenzo TexmelucanOaxaca                                        1\n",
       "PaulhaguetDepartement de la Haute-LoireAuvergne                              1\n",
       "Rikitea                                                                      1\n",
       "VigrestadHaRogaland                                                          1\n",
       "Kamin'-Kashyrs'kyyVolyn                                                      1\n",
       "DevonAlberta                                                                 1\n",
       "BenafigosProvincia de CastelloValencia                                       1\n",
       "Port ElizabethNelson Mandela Bay Metropolitan MunicipalityEastern Cape       1\n",
       "MarathonOntario                                                              1\n",
       "WarmanSaskatchewan                                                           1\n",
       "ChelaMunicipio LonduimbaliHuambo                                             1\n",
       "North Beach HavenOcean CountyNew Jersey                                      1\n",
       "Barranca de Otates (Barranca de Otatan)Zacoalco de TorresJalisco             1\n",
       "Jimenez del TeulJimenez del TeulZacatecas                                    1\n",
       "GreenstoneOntario                                                            1\n",
       "Lazaro Cardenas (Rancho Grande)FresnilloZacatecas                            1\n",
       "GoldenBritish Columbia                                                       1\n",
       "Masons BayAcklins                                                            1\n",
       "OmiaProvincia de Rodriguez de MendozaAmazonas                                1\n",
       "Greater SudburyOntario                                                       1\n",
       "Meadow LakeSaskatchewan                                                      1\n",
       "PueblaBaja California                                                        1\n",
       "VicamSonora                                                                  1\n",
       "TeraTillaberi                                                                1\n",
       "FisterraProvincia da CorunaGalicia                                           1\n",
       "Marsh HarbourCentral Abaco                                                   1\n",
       "Colmar ManorPrince George's CountyMaryland                                   1\n",
       "LuandaLuanda                                                                 1\n",
       "Grande CacheAlberta                                                          1\n",
       "GharyanSha`biyat al Jabal al Gharbi                                          1\n",
       "DrydenOntario                                                                1\n",
       "LagunaLagunaSanta Catarina                                                   1\n",
       "ChonchiProvincia de ChiloeLos Lagos                                          1\n",
       "Los OlivosJilotlan de los DoloresJalisco                                     1\n",
       "MexicaliMexicaliBaja California                                              1\n",
       "HamptonNew Brunswick                                                         1\n",
       "DrummondvilleCentre-du-QuebecQuebec                                          1\n",
       "Cooper's TownNorth Abaco                                                     1\n",
       "Acatlan de OsorioPuebla                                                      1\n",
       "WembleyAlberta                                                               1\n",
       "Parque Industrial Ciudad MitrasGarciaNuevo Leon                              1\n",
       "CochraneAlberta                                                              1\n",
       "SouthamptonSuffolk CountyNew York                                            1\n",
       "EastpointFranklin CountyFlorida                                              1\n",
       "Ignacio AllendeChiapa de CorzoChiapas                                        1\n",
       "El CoronilProvincia de SevillaAndalusia                                      1\n",
       "Sagua la GrandeVilla Clara                                                   1\n",
       "Fort St. JohnBritish Columbia                                                1\n",
       "La RongeSaskatchewan                                                         1\n",
       "LacombeAlberta                                                               1\n",
       "DieppeNew Brunswick                                                          1\n",
       "Vamos TamaulipasReynosaTamaulipas                                            1\n",
       "Luis Rodriguez (El Vergel)EnsenadaBaja California                            1\n",
       "MorinvilleAlberta                                                            1\n",
       "Slave LakeAlberta                                                            1\n",
       "TobermoryOntario                                                             1\n",
       "Nuevo ProgresoTamaulipas                                                     1\n",
       "Vila Nova SintraBrava                                                        1\n",
       "RaymondvilleWillacy CountyTexas                                              1\n",
       "SerusaRiau                                                                   1\n",
       "GreenwoodNova Scotia                                                         1\n",
       "Cockburn Town                                                                1\n",
       "Seaside ParkOcean CountyNew Jersey                                           1\n",
       "Conception Bay SouthNewfoundland and Labrador                                1\n",
       "UxbridgeOntario                                                              1\n",
       "LewisporteNewfoundland and Labrador                                          1\n",
       "Palmeiras de GoiasPalmeiras De GoiasGoias                                    1\n",
       "Black DiamondAlberta                                                         1\n",
       "Smiths FallsLanark CountyOntario                                             1\n",
       "HentiesbaaiErongo                                                            1\n",
       "KreiensenLower Saxony                                                        1\n",
       "GamboNewfoundland and Labrador                                               1\n",
       "El CenizoWebb CountyTexas                                                    1\n",
       "SisalHunucmaYucatan                                                          1\n",
       "TaiohaeIles Marquises                                                        1\n",
       "HanoverOntario                                                               1\n",
       "YellowknifeNorthwest Territories                                             1\n",
       "WetaskiwinAlberta                                                            1\n",
       "ChampericoMunicipio de ChampericoRetalhuleu                                  1\n",
       "Sector H TresSanta Maria HuatulcoOaxaca                                      1\n",
       "Saint-LaurentQuebec                                                          1\n",
       "ManzanilloManzanilloColima                                                   1\n",
       "UummannaqQaasuitsup                                                          1\n",
       "GaoGao                                                                       1\n",
       "El SauzalBaja California                                                     1\n",
       "Villa AltagraciaSan Cristobal                                                1\n",
       "Punta CanaSan Juan                                                           1\n",
       "RequenaProvincia de RequenaLoreto                                            1\n",
       "EsmeraldasEsmeraldas                                                         1\n",
       "Remire-MontjolyGuyaneGuyane                                                  1\n",
       "KugluktukNunavut                                                             1\n",
       "San Juan de MarconaProvincia de NazcaIca                                     1\n",
       "OvacikMersin                                                                 1\n",
       "Name: loc, dtype: int64"
      ]
     },
     "execution_count": 116,
     "metadata": {},
     "output_type": "execute_result"
    }
   ],
   "source": [
    "df['loc'][df['weather'].isnull()].value_counts()"
   ]
  },
  {
   "cell_type": "markdown",
   "metadata": {},
   "source": [
    "In order to fill in the remaining weather, let's make another column 'loc1' which combines 'county' and 'state'."
   ]
  },
  {
   "cell_type": "code",
   "execution_count": 117,
   "metadata": {},
   "outputs": [],
   "source": [
    "df['loc1'] = df['city'] + df['county'] + df['state']"
   ]
  },
  {
   "cell_type": "code",
   "execution_count": 118,
   "metadata": {},
   "outputs": [
    {
     "name": "stdout",
     "output_type": "stream",
     "text": [
      "New WestminsterBritish Columbia                                           2682\n",
      "LangleyBritish Columbia                                                   1845\n",
      "SurreyBritish Columbia                                                    1728\n",
      "CourtenayBritish Columbia                                                 1599\n",
      "RichmondBritish Columbia                                                  1360\n",
      "VancouverBritish Columbia                                                 1306\n",
      "North VancouverFraser Valley Regional DistrictBritish Columbia            1218\n",
      "BurnabyBritish Columbia                                                   1153\n",
      "Port MoodyBritish Columbia                                                1002\n",
      "NanaimoBritish Columbia                                                    949\n",
      "Campbell RiverBritish Columbia                                             894\n",
      "VictoriaBritish Columbia                                                   729\n",
      "LadnerBritish Columbia                                                     658\n",
      "AldergroveBritish Columbia                                                 576\n",
      "ParksvilleRegional District of NanaimoBritish Columbia                     444\n",
      "DeltaBritish Columbia                                                      419\n",
      "West EndBritish Columbia                                                   418\n",
      "CoquitlamBritish Columbia                                                  383\n",
      "ScarboroughOntario                                                         368\n",
      "KelownaBritish Columbia                                                    340\n",
      "AbbotsfordBritish Columbia                                                 310\n",
      "ChilliwackFraser Valley Regional DistrictBritish Columbia                  294\n",
      "ConcordOntario                                                             284\n",
      "TorontoOntario                                                             280\n",
      "White RockGreater Vancouver Regional DistrictBritish Columbia              264\n",
      "EtobicokeOntario                                                           200\n",
      "BramptonOntario                                                            193\n",
      "SecheltSunshine Coast Regional DistrictBritish Columbia                    189\n",
      "AjaxOntario                                                                177\n",
      "KamloopsBritish Columbia                                                   169\n",
      "Walnut GroveBritish Columbia                                               167\n",
      "Maple RidgeBritish Columbia                                                159\n",
      "CalgaryAlberta                                                             149\n",
      "GibsonsSunshine Coast Regional DistrictBritish Columbia                    133\n",
      "OshawaOntario                                                              131\n",
      "PentictonBritish Columbia                                                  109\n",
      "Pitt MeadowsBritish Columbia                                               108\n",
      "Lions BayGreater Vancouver Regional DistrictBritish Columbia               101\n",
      "MississaugaOntario                                                          97\n",
      "West KelownaBritish Columbia                                                89\n",
      "Port AlberniBritish Columbia                                                89\n",
      "TofinoRegional District of Alberni-ClayoquotBritish Columbia                89\n",
      "CranbrookBritish Columbia                                                   86\n",
      "WhistlerBritish Columbia                                                    79\n",
      "EdmontonAlberta                                                             79\n",
      "VernonRegional District of North OkanaganBritish Columbia                   77\n",
      "Oak BayBritish Columbia                                                     76\n",
      "AgassizBritish Columbia                                                     69\n",
      "DuncanBritish Columbia                                                      69\n",
      "Salmon ArmBritish Columbia                                                  68\n",
      "VaughanOntario                                                              65\n",
      "North SaanichBritish Columbia                                               59\n",
      "LadysmithCowichan Valley Regional DistrictBritish Columbia                  58\n",
      "HamiltonOntario                                                             54\n",
      "CumberlandBritish Columbia                                                  54\n",
      "Powell RiverPowell River Regional DistrictBritish Columbia                  53\n",
      "ColwoodBritish Columbia                                                     53\n",
      "MarkhamOntario                                                              52\n",
      "WillowdaleOntario                                                           51\n",
      "OsoyoosBritish Columbia                                                     49\n",
      "Richmond HillYorkOntario                                                    49\n",
      "West VancouverBritish Columbia                                              46\n",
      "LangfordBritish Columbia                                                    44\n",
      "Prince GeorgeBritish Columbia                                               37\n",
      "WinnipegManitoba                                                            35\n",
      "NewmarketOntario                                                            34\n",
      "Edinburgh of the Seven SeasTristan da Cunha                                 31\n",
      "North CowichanBritish Columbia                                              30\n",
      "MiltonHaltonOntario                                                         30\n",
      "Capitol HeightsPrince George's CountyMaryland                               30\n",
      "Bowen IslandGreater Vancouver Regional DistrictBritish Columbia             30\n",
      "OliverBritish Columbia                                                      29\n",
      "Cache CreekBritish Columbia                                                 28\n",
      "Williams LakeBritish Columbia                                               28\n",
      "CastlegarBritish Columbia                                                   25\n",
      "BurlingtonOntario                                                           25\n",
      "OakvilleOntario                                                             22\n",
      "NelsonBritish Columbia                                                      22\n",
      "North YorkOntario                                                           21\n",
      "Puerto VillamilCanton IsabelaGalapagos                                      21\n",
      "Los AchotesZihuatanejo de AzuetaGuerrero                                    20\n",
      "IngersollOntario                                                            19\n",
      "AnmoreGreater Vancouver Regional DistrictBritish Columbia                   19\n",
      "PeachlandBritish Columbia                                                   18\n",
      "SaskatoonSaskatchewan                                                       16\n",
      "HalifaxNova Scotia                                                          16\n",
      "Belleair BeachPinellas CountyFlorida                                        16\n",
      "ChaseBritish Columbia                                                       16\n",
      "ChestermereAlberta                                                          15\n",
      "SummerlandBritish Columbia                                                  15\n",
      "Gjoa HavenNunavut                                                           15\n",
      "ThompsonManitoba                                                            14\n",
      "LumbyBritish Columbia                                                       14\n",
      "WhitehorseYukon                                                             14\n",
      "San PatricioJalisco                                                         13\n",
      "Grytviken                                                                   13\n",
      "PembertonBritish Columbia                                                   12\n",
      "MerrittBritish Columbia                                                     12\n",
      "Thunder BayThunder Bay DistrictOntario                                      12\n",
      "St. AlbertAlberta                                                           12\n",
      "Ostrov Paskhi                                                               12\n",
      "KitchenerOntario                                                            12\n",
      "ArmstrongBritish Columbia                                                   11\n",
      "TrailBritish Columbia                                                       10\n",
      "JamestownSaint Helena                                                       10\n",
      "TaberAlberta                                                                10\n",
      "Telchac PuertoYucatan                                                       10\n",
      "OttawaOntario                                                               10\n",
      "GlassmanorPrince George's CountyMaryland                                    10\n",
      "SelkirkManitoba                                                             10\n",
      "Hanga RoaValparaiso                                                          9\n",
      "KodiakKodiak Island BoroughAlaska                                            9\n",
      "PickeringOntario                                                             9\n",
      "RevelstokeBritish Columbia                                                   9\n",
      "OmemeeOntario                                                                8\n",
      "Lake CowichanBritish Columbia                                                8\n",
      "Bradford West GwillimburyOntario                                             8\n",
      "BarrieOntario                                                                8\n",
      "Sherwood ParkAlberta                                                         8\n",
      "BanffAlberta                                                                 7\n",
      "Brisas de ZicatelaSanta Maria ColotepecOaxaca                                7\n",
      "LethbridgeAlberta                                                            7\n",
      "Bells CornersOntario                                                         7\n",
      "LondonOntario                                                                7\n",
      "PeterboroughOntario                                                          7\n",
      "GuelphWellington CountyOntario                                               7\n",
      "WellandOntario                                                               7\n",
      "MetchosinBritish Columbia                                                    7\n",
      "ChillumPrince George's CountyMaryland                                        6\n",
      "BeaumontAlberta                                                              6\n",
      "WaterlooOntario                                                              6\n",
      "QuesnelBritish Columbia                                                      6\n",
      "RosslandBritish Columbia                                                     6\n",
      "UclueletRegional District of Alberni-ClayoquotBritish Columbia               6\n",
      "HeadingleyManitoba                                                           6\n",
      "KitimatBritish Columbia                                                      6\n",
      "Rankin InletNunavut                                                          6\n",
      "EnderbyBritish Columbia                                                      5\n",
      "Red DeerAlberta                                                              5\n",
      "AmherstburgOntario                                                           5\n",
      "HopeBritish Columbia                                                         5\n",
      "GimliManitoba                                                                5\n",
      "Logan LakeBritish Columbia                                                   5\n",
      "Hillcrest HeightsPrince George's CountyMaryland                              5\n",
      "Ciudad JuarezChihuahua                                                       4\n",
      "St. CatharinesRegional Municipality of NiagaraOntario                        4\n",
      "AximWestern                                                                  4\n",
      "OrangevilleOntario                                                           4\n",
      "Atuona                                                                       4\n",
      "Friendship VillageMontgomery CountyMaryland                                  4\n",
      "San Andres Playa Encantada (El Podrido)Acapulco de JuarezGuerrero            4\n",
      "SicamousBritish Columbia                                                     4\n",
      "BrantfordOntario                                                             4\n",
      "DartmouthNova Scotia                                                         4\n",
      "KingstonOntario                                                              4\n",
      "AirdrieAlberta                                                               4\n",
      "OkanaganBritish Columbia                                                     4\n",
      "Fort McMurrayAlberta                                                         3\n",
      "AngusOntario                                                                 3\n",
      "HoustonBritish Columbia                                                      3\n",
      "BellevilleOntario                                                            3\n",
      "OleshnykVynohradiv RaionZakarpattia                                          3\n",
      "EldoradoDepartamento de EldoradoMisiones                                     3\n",
      "Puerto Baquerizo MorenoGalapagos                                             3\n",
      "Santa Maria TonamecaOaxaca                                                   3\n",
      "Grand-LahouLagunes                                                           3\n",
      "St. John'sNewfoundland and Labrador                                          3\n",
      "Niagara FallsOntario                                                         3\n",
      "NakuspBritish Columbia                                                       3\n",
      "ThoroldOntario                                                               3\n",
      "Chevy Chase VillageMontgomery CountyMaryland                                 3\n",
      "KentvilleKings CountyNova Scotia                                             3\n",
      "WaitangiChatham Islands                                                      3\n",
      "MonctonNew Brunswick                                                         3\n",
      "ReginaSaskatchewan                                                           3\n",
      "MonroviaMontserrado                                                          3\n",
      "CollingwoodOntario                                                           3\n",
      "Villa RotariaTecpan de GaleanaGuerrero                                       3\n",
      "Palma SolaAlto Lucero de Gutierrez BarriosVeracruz                           3\n",
      "CambridgeOntario                                                             3\n",
      "WestlockAlberta                                                              3\n",
      "Puerto NatalesMagallanes                                                     3\n",
      "IxtapaGuerrero                                                               3\n",
      "DelawareOntario                                                              3\n",
      "KimberleyRegional District of East KootenayBritish Columbia                  3\n",
      "Burns LakeBritish Columbia                                                   3\n",
      "InnisfilOntario                                                              3\n",
      "LeducAlberta                                                                 3\n",
      "Moose JawSaskatchewan                                                        3\n",
      "CanmoreAlberta                                                               3\n",
      "Red LakeOntario                                                              3\n",
      "KeswickOntario                                                               3\n",
      "GatineauOutaouaisQuebec                                                      3\n",
      "AncasterOntario                                                              3\n",
      "CobourgOntario                                                               3\n",
      "PenholdAlberta                                                               2\n",
      "TerraceBritish Columbia                                                      2\n",
      "Dorp RinconBonaire                                                           2\n",
      "Fort SaskatchewanAlberta                                                     2\n",
      "Port Saint JoeGulf CountyFlorida                                             2\n",
      "FernieBritish Columbia                                                       2\n",
      "Fairmount HeightsPrince George's CountyMaryland                              2\n",
      "Stony PlainAlberta                                                           2\n",
      "CoalhurstAlberta                                                             2\n",
      "SmithersBritish Columbia                                                     2\n",
      "Arraial do CaboArraial Do CaboRio de Janeiro                                 2\n",
      "CrossfieldAlberta                                                            2\n",
      "InvermereBritish Columbia                                                    2\n",
      "AnlogaVolta                                                                  2\n",
      "Santo Domingo ArmentaSanto Domingo ArmentaOaxaca                             2\n",
      "NivervilleManitoba                                                           2\n",
      "OkotoksAlberta                                                               2\n",
      "Les CoteauxMonteregieQuebec                                                  2\n",
      "Heroica MatamorosMatamorosTamaulipas                                         2\n",
      "StrathmoreAlberta                                                            2\n",
      "Spruce GroveAlberta                                                          2\n",
      "ImurisImurisSonora                                                           2\n",
      "ChinguettiAdrar                                                              2\n",
      "Jeffrey's BayCacadu District MunicipalityEastern Cape                        2\n",
      "AscensionSanta Cruz                                                          2\n",
      "OrilliaOntario                                                               2\n",
      "Rocky Mountain HouseAlberta                                                  2\n",
      "Las HiguerillasMatamorosTamaulipas                                           2\n",
      "Rio LagartosYucatan                                                          2\n",
      "StratfordOntario                                                             2\n",
      "BuchananGrand Bassa                                                          2\n",
      "Santiago de CaoAscopeLa Libertad                                             2\n",
      "Quinte WestOntario                                                           2\n",
      "Medicine HatAlberta                                                          2\n",
      "BracebridgeOntario                                                           2\n",
      "HamiltonHamilton city                                                        2\n",
      "SkateparkOntario                                                             2\n",
      "AshcroftThompson-Nicola Regional DistrictBritish Columbia                    2\n",
      "UshuaiaTierra del Fuego                                                      2\n",
      "LillooetBritish Columbia                                                     2\n",
      "Dawson CreekPeace River Regional DistrictBritish Columbia                    2\n",
      "Pincher CreekAlberta                                                         2\n",
      "Greater NapaneeOntario                                                       2\n",
      "Jasper Park LodgeAlberta                                                     2\n",
      "OxbowSaskatchewan                                                            2\n",
      "Vinas del SolMexicaliBaja California                                         2\n",
      "Corner BrookNewfoundland and Labrador                                        2\n",
      "Doctor Domingo ChanonaVillafloresChiapas                                     2\n",
      "East LondonBuffalo City Metropolitan MunicipalityEastern Cape                2\n",
      "NantonAlberta                                                                2\n",
      "CanutamaCanutamaAmazonas                                                     2\n",
      "Doctor ArroyoNuevo Leon                                                      2\n",
      "La ReformaNuevo Leon                                                         2\n",
      "Carleton PlaceOntario                                                        2\n",
      "Coahuayana ViejoMichoacan                                                    2\n",
      "Cole HarbourNova Scotia                                                      2\n",
      "Villa MorelosComonduBaja California Sur                                      2\n",
      "CasselmanOntario                                                             2\n",
      "Sao Joao da BarraSao Joao Da BarraRio de Janeiro                             2\n",
      "LloydminsterSaskatchewan                                                     2\n",
      "MinnedosaManitoba                                                            2\n",
      "HermanusOverberg District MunicipalityWestern Cape                           1\n",
      "El Barrancon del Tio Blas (El Barrancon)San FernandoTamaulipas               1\n",
      "ChesterNova Scotia                                                           1\n",
      "LodjaKasai-Oriental                                                          1\n",
      "MidlandOntario                                                               1\n",
      "BeylaBeyla PrefectureNzerekore                                               1\n",
      "GrindavikSouthern Peninsula                                                  1\n",
      "GashuaYobe                                                                   1\n",
      "MatagamiNord-du-QuebecQuebec                                                 1\n",
      "MetapanSanta Ana                                                             1\n",
      "Ciudad AcunaCoahuila                                                         1\n",
      "CarberryManitoba                                                             1\n",
      "AntofagastaProvincia de AntofagastaAntofagasta                               1\n",
      "AntigonishNova Scotia                                                        1\n",
      "GrockaBelgradeCentral Serbia                                                 1\n",
      "Metlili ChaambaGhardaia                                                      1\n",
      "General Lazaro Cardenas (El Colorado)El MarquesQueretaro                     1\n",
      "Ain SefraWilaya de Naama                                                     1\n",
      "YarmouthNova Scotia                                                          1\n",
      "MalpicaProvincia da CorunaGalicia                                            1\n",
      "KapuskasingOntario                                                           1\n",
      "Vega de AlatorreVeracruz                                                     1\n",
      "North BattlefordSaskatchewan                                                 1\n",
      "El CastilloGuanajuato                                                        1\n",
      "HuntsvilleOntario                                                            1\n",
      "Rio GallegosSanta Cruz                                                       1\n",
      "BassanoAlberta                                                               1\n",
      "CrucecitaSanta Maria HuatulcoOaxaca                                          1\n",
      "Santa AnitaPlayas de RosaritoBaja California                                 1\n",
      "Elliot LakeOntario                                                           1\n",
      "AutazesAutazesAmazonas                                                       1\n",
      "HancevilleBritish Columbia                                                   1\n",
      "BiankoumaDix-Huit Montagnes                                                  1\n",
      "Grosse Pointe FarmsWayne CountyMichigan                                      1\n",
      "ElkfordBritish Columbia                                                      1\n",
      "AjdabiyaSha`biyat al Wahat                                                   1\n",
      "SarniaLambton CountyOntario                                                  1\n",
      "Nicolas BravoQuintana Roo                                                    1\n",
      "Owen SoundOntario                                                            1\n",
      "TasiilaqSermersooq                                                           1\n",
      "Port AlfredCacadu District MunicipalityEastern Cape                          1\n",
      "SparwoodBritish Columbia                                                     1\n",
      "YendiYendiNorthern                                                           1\n",
      "San Mateo del MarOaxaca                                                      1\n",
      "BredasdorpOverberg District MunicipalityWestern Cape                         1\n",
      "SpringhillNova Scotia                                                        1\n",
      "High RiverAlberta                                                            1\n",
      "Mount PearlNewfoundland and Labrador                                         1\n",
      "Clarence-RocklandOntario                                                     1\n",
      "IllapelProvincia de ChoapaCoquimbo                                           1\n",
      "Silver HillPrince George's CountyMaryland                                    1\n",
      "Cabo San LucasBaja California Sur                                            1\n",
      "BluewaterOntario                                                             1\n",
      "CoquimboProvincia de ElquiCoquimbo                                           1\n",
      "SanibelLee CountyFlorida                                                     1\n",
      "DigbyNova Scotia                                                             1\n",
      "TofieldAlberta                                                               1\n",
      "SeadriftCalhoun CountyTexas                                                  1\n",
      "Emiliano Zapata (El Ranchito)CihuatlanJalisco                                1\n",
      "PictouNova Scotia                                                            1\n",
      "AncudProvincia de ChiloeLos Lagos                                            1\n",
      "FurnasPovoacaoAzores                                                         1\n",
      "Grand-PopoMono                                                               1\n",
      "FrederictonNew Brunswick                                                     1\n",
      "Villa CanalesGuatemala                                                       1\n",
      "South HuronOntario                                                           1\n",
      "Indian HeadSaskatchewan                                                      1\n",
      "GananoqueOntario                                                             1\n",
      "Swift CurrentSaskatchewan                                                    1\n",
      "Gueltat ZemmourBoujdourLaayoune-Boujdour-Sakia El Hamra                      1\n",
      "Savannah BightBay Islands                                                    1\n",
      "Montreal-EstQuebec                                                           1\n",
      "San Pedro PochutlaOaxaca                                                     1\n",
      "San JeronimitoGuerrero                                                       1\n",
      "SoderforsLycksele KommunVaesterbotten                                        1\n",
      "OutlookSaskatchewan                                                          1\n",
      "Governador ValadaresGovernador ValadaresMinas Gerais                         1\n",
      "Isles of ScillyIsles of ScillyEngland                                        1\n",
      "MosulNinawa                                                                  1\n",
      "Atltzayanca de HidalgoTlaxcala                                               1\n",
      "AtikokanRainy River DistrictOntario                                          1\n",
      "VanderhoofBritish Columbia                                                   1\n",
      "CodringtonBarbuda                                                            1\n",
      "Sylvan LakeAlberta                                                           1\n",
      "Grand-BassamSud-Comoe                                                        1\n",
      "Drayton ValleyAlberta                                                        1\n",
      "El AradorSan Lorenzo TexmelucanOaxaca                                        1\n",
      "PaulhaguetDepartement de la Haute-LoireAuvergne                              1\n",
      "Rikitea                                                                      1\n",
      "VigrestadHaRogaland                                                          1\n",
      "Kamin'-Kashyrs'kyyVolyn                                                      1\n",
      "DevonAlberta                                                                 1\n",
      "BenafigosProvincia de CastelloValencia                                       1\n",
      "Port ElizabethNelson Mandela Bay Metropolitan MunicipalityEastern Cape       1\n",
      "MarathonOntario                                                              1\n",
      "WarmanSaskatchewan                                                           1\n",
      "ChelaMunicipio LonduimbaliHuambo                                             1\n",
      "North Beach HavenOcean CountyNew Jersey                                      1\n",
      "Barranca de Otates (Barranca de Otatan)Zacoalco de TorresJalisco             1\n",
      "Jimenez del TeulJimenez del TeulZacatecas                                    1\n",
      "GreenstoneOntario                                                            1\n",
      "Lazaro Cardenas (Rancho Grande)FresnilloZacatecas                            1\n",
      "GoldenBritish Columbia                                                       1\n",
      "Masons BayAcklins                                                            1\n",
      "OmiaProvincia de Rodriguez de MendozaAmazonas                                1\n",
      "Greater SudburyOntario                                                       1\n",
      "Meadow LakeSaskatchewan                                                      1\n",
      "PueblaBaja California                                                        1\n",
      "VicamSonora                                                                  1\n",
      "TeraTillaberi                                                                1\n",
      "FisterraProvincia da CorunaGalicia                                           1\n",
      "Marsh HarbourCentral Abaco                                                   1\n",
      "Colmar ManorPrince George's CountyMaryland                                   1\n",
      "LuandaLuanda                                                                 1\n",
      "Grande CacheAlberta                                                          1\n",
      "GharyanSha`biyat al Jabal al Gharbi                                          1\n",
      "DrydenOntario                                                                1\n",
      "LagunaLagunaSanta Catarina                                                   1\n",
      "ChonchiProvincia de ChiloeLos Lagos                                          1\n",
      "Los OlivosJilotlan de los DoloresJalisco                                     1\n",
      "MexicaliMexicaliBaja California                                              1\n",
      "HamptonNew Brunswick                                                         1\n",
      "DrummondvilleCentre-du-QuebecQuebec                                          1\n",
      "Cooper's TownNorth Abaco                                                     1\n",
      "Acatlan de OsorioPuebla                                                      1\n",
      "WembleyAlberta                                                               1\n",
      "Parque Industrial Ciudad MitrasGarciaNuevo Leon                              1\n",
      "CochraneAlberta                                                              1\n",
      "SouthamptonSuffolk CountyNew York                                            1\n",
      "EastpointFranklin CountyFlorida                                              1\n",
      "Ignacio AllendeChiapa de CorzoChiapas                                        1\n",
      "El CoronilProvincia de SevillaAndalusia                                      1\n",
      "Sagua la GrandeVilla Clara                                                   1\n",
      "Fort St. JohnBritish Columbia                                                1\n",
      "La RongeSaskatchewan                                                         1\n",
      "LacombeAlberta                                                               1\n",
      "DieppeNew Brunswick                                                          1\n",
      "Vamos TamaulipasReynosaTamaulipas                                            1\n",
      "Luis Rodriguez (El Vergel)EnsenadaBaja California                            1\n",
      "MorinvilleAlberta                                                            1\n",
      "Slave LakeAlberta                                                            1\n",
      "TobermoryOntario                                                             1\n",
      "Nuevo ProgresoTamaulipas                                                     1\n",
      "Vila Nova SintraBrava                                                        1\n",
      "RaymondvilleWillacy CountyTexas                                              1\n",
      "SerusaRiau                                                                   1\n",
      "GreenwoodNova Scotia                                                         1\n",
      "Cockburn Town                                                                1\n",
      "Seaside ParkOcean CountyNew Jersey                                           1\n",
      "Conception Bay SouthNewfoundland and Labrador                                1\n",
      "UxbridgeOntario                                                              1\n",
      "LewisporteNewfoundland and Labrador                                          1\n",
      "Palmeiras de GoiasPalmeiras De GoiasGoias                                    1\n",
      "Black DiamondAlberta                                                         1\n",
      "Smiths FallsLanark CountyOntario                                             1\n",
      "HentiesbaaiErongo                                                            1\n",
      "KreiensenLower Saxony                                                        1\n",
      "GamboNewfoundland and Labrador                                               1\n",
      "El CenizoWebb CountyTexas                                                    1\n",
      "SisalHunucmaYucatan                                                          1\n",
      "TaiohaeIles Marquises                                                        1\n",
      "HanoverOntario                                                               1\n",
      "YellowknifeNorthwest Territories                                             1\n",
      "WetaskiwinAlberta                                                            1\n",
      "ChampericoMunicipio de ChampericoRetalhuleu                                  1\n",
      "Sector H TresSanta Maria HuatulcoOaxaca                                      1\n",
      "Saint-LaurentQuebec                                                          1\n",
      "ManzanilloManzanilloColima                                                   1\n",
      "UummannaqQaasuitsup                                                          1\n",
      "GaoGao                                                                       1\n",
      "El SauzalBaja California                                                     1\n",
      "Villa AltagraciaSan Cristobal                                                1\n",
      "Punta CanaSan Juan                                                           1\n",
      "RequenaProvincia de RequenaLoreto                                            1\n",
      "EsmeraldasEsmeraldas                                                         1\n",
      "Remire-MontjolyGuyaneGuyane                                                  1\n",
      "KugluktukNunavut                                                             1\n",
      "San Juan de MarconaProvincia de NazcaIca                                     1\n",
      "OvacikMersin                                                                 1\n",
      "Name: loc1, dtype: int64\n",
      "435\n"
     ]
    }
   ],
   "source": [
    "print(df['loc1'][df['weather'].isnull()].value_counts())\n",
    "print(len(df['loc1'][df['weather'].isnull()].value_counts()))"
   ]
  },
  {
   "cell_type": "code",
   "execution_count": 119,
   "metadata": {},
   "outputs": [
    {
     "name": "stderr",
     "output_type": "stream",
     "text": [
      "100%|██████████| 454/454 [01:16<00:00,  5.95it/s]\n"
     ]
    }
   ],
   "source": [
    "i=0\n",
    "a = df['loc1'][df['weather'].isnull()].value_counts().index\n",
    "  \n",
    "for i in tqdm(range(0,454)):\n",
    "    try:\n",
    "        df.loc[((df['loc1'].str.contains(a[i]))\n",
    "                & (df['weather'].isnull())),'weather']=df['weather'][df['loc1'].str.contains(a[i])].value_counts().index[0]\n",
    "        \n",
    "    except:\n",
    "        pass"
   ]
  },
  {
   "cell_type": "code",
   "execution_count": 120,
   "metadata": {},
   "outputs": [
    {
     "name": "stdout",
     "output_type": "stream",
     "text": [
      "New WestminsterBritish Columbia                                           2682\n",
      "LangleyBritish Columbia                                                   1845\n",
      "SurreyBritish Columbia                                                    1728\n",
      "CourtenayBritish Columbia                                                 1599\n",
      "RichmondBritish Columbia                                                  1360\n",
      "VancouverBritish Columbia                                                 1306\n",
      "North VancouverFraser Valley Regional DistrictBritish Columbia            1218\n",
      "BurnabyBritish Columbia                                                   1153\n",
      "Port MoodyBritish Columbia                                                1002\n",
      "NanaimoBritish Columbia                                                    949\n",
      "Campbell RiverBritish Columbia                                             894\n",
      "VictoriaBritish Columbia                                                   729\n",
      "LadnerBritish Columbia                                                     658\n",
      "AldergroveBritish Columbia                                                 576\n",
      "ParksvilleRegional District of NanaimoBritish Columbia                     444\n",
      "DeltaBritish Columbia                                                      419\n",
      "West EndBritish Columbia                                                   418\n",
      "CoquitlamBritish Columbia                                                  383\n",
      "ScarboroughOntario                                                         368\n",
      "KelownaBritish Columbia                                                    340\n",
      "AbbotsfordBritish Columbia                                                 310\n",
      "ChilliwackFraser Valley Regional DistrictBritish Columbia                  294\n",
      "ConcordOntario                                                             284\n",
      "TorontoOntario                                                             280\n",
      "White RockGreater Vancouver Regional DistrictBritish Columbia              264\n",
      "EtobicokeOntario                                                           200\n",
      "BramptonOntario                                                            193\n",
      "SecheltSunshine Coast Regional DistrictBritish Columbia                    189\n",
      "AjaxOntario                                                                177\n",
      "KamloopsBritish Columbia                                                   169\n",
      "Walnut GroveBritish Columbia                                               167\n",
      "Maple RidgeBritish Columbia                                                159\n",
      "CalgaryAlberta                                                             149\n",
      "GibsonsSunshine Coast Regional DistrictBritish Columbia                    133\n",
      "OshawaOntario                                                              131\n",
      "PentictonBritish Columbia                                                  109\n",
      "Pitt MeadowsBritish Columbia                                               108\n",
      "Lions BayGreater Vancouver Regional DistrictBritish Columbia               101\n",
      "MississaugaOntario                                                          97\n",
      "West KelownaBritish Columbia                                                89\n",
      "Port AlberniBritish Columbia                                                89\n",
      "TofinoRegional District of Alberni-ClayoquotBritish Columbia                89\n",
      "CranbrookBritish Columbia                                                   86\n",
      "WhistlerBritish Columbia                                                    79\n",
      "EdmontonAlberta                                                             79\n",
      "VernonRegional District of North OkanaganBritish Columbia                   77\n",
      "Oak BayBritish Columbia                                                     76\n",
      "AgassizBritish Columbia                                                     69\n",
      "DuncanBritish Columbia                                                      69\n",
      "Salmon ArmBritish Columbia                                                  68\n",
      "VaughanOntario                                                              65\n",
      "North SaanichBritish Columbia                                               59\n",
      "LadysmithCowichan Valley Regional DistrictBritish Columbia                  58\n",
      "HamiltonOntario                                                             54\n",
      "CumberlandBritish Columbia                                                  54\n",
      "Powell RiverPowell River Regional DistrictBritish Columbia                  53\n",
      "ColwoodBritish Columbia                                                     53\n",
      "MarkhamOntario                                                              52\n",
      "WillowdaleOntario                                                           51\n",
      "OsoyoosBritish Columbia                                                     49\n",
      "Richmond HillYorkOntario                                                    49\n",
      "West VancouverBritish Columbia                                              46\n",
      "LangfordBritish Columbia                                                    44\n",
      "Prince GeorgeBritish Columbia                                               37\n",
      "WinnipegManitoba                                                            35\n",
      "NewmarketOntario                                                            34\n",
      "Edinburgh of the Seven SeasTristan da Cunha                                 31\n",
      "North CowichanBritish Columbia                                              30\n",
      "MiltonHaltonOntario                                                         30\n",
      "Capitol HeightsPrince George's CountyMaryland                               30\n",
      "Bowen IslandGreater Vancouver Regional DistrictBritish Columbia             30\n",
      "OliverBritish Columbia                                                      29\n",
      "Cache CreekBritish Columbia                                                 28\n",
      "Williams LakeBritish Columbia                                               28\n",
      "CastlegarBritish Columbia                                                   25\n",
      "BurlingtonOntario                                                           25\n",
      "OakvilleOntario                                                             22\n",
      "NelsonBritish Columbia                                                      22\n",
      "North YorkOntario                                                           21\n",
      "Puerto VillamilCanton IsabelaGalapagos                                      21\n",
      "Los AchotesZihuatanejo de AzuetaGuerrero                                    20\n",
      "IngersollOntario                                                            19\n",
      "AnmoreGreater Vancouver Regional DistrictBritish Columbia                   19\n",
      "PeachlandBritish Columbia                                                   18\n",
      "SaskatoonSaskatchewan                                                       16\n",
      "HalifaxNova Scotia                                                          16\n",
      "Belleair BeachPinellas CountyFlorida                                        16\n",
      "ChaseBritish Columbia                                                       16\n",
      "ChestermereAlberta                                                          15\n",
      "SummerlandBritish Columbia                                                  15\n",
      "Gjoa HavenNunavut                                                           15\n",
      "ThompsonManitoba                                                            14\n",
      "LumbyBritish Columbia                                                       14\n",
      "WhitehorseYukon                                                             14\n",
      "San PatricioJalisco                                                         13\n",
      "Grytviken                                                                   13\n",
      "PembertonBritish Columbia                                                   12\n",
      "MerrittBritish Columbia                                                     12\n",
      "Thunder BayThunder Bay DistrictOntario                                      12\n",
      "St. AlbertAlberta                                                           12\n",
      "Ostrov Paskhi                                                               12\n",
      "KitchenerOntario                                                            12\n",
      "ArmstrongBritish Columbia                                                   11\n",
      "TrailBritish Columbia                                                       10\n",
      "JamestownSaint Helena                                                       10\n",
      "TaberAlberta                                                                10\n",
      "Telchac PuertoYucatan                                                       10\n",
      "OttawaOntario                                                               10\n",
      "GlassmanorPrince George's CountyMaryland                                    10\n",
      "SelkirkManitoba                                                             10\n",
      "Hanga RoaValparaiso                                                          9\n",
      "KodiakKodiak Island BoroughAlaska                                            9\n",
      "PickeringOntario                                                             9\n",
      "RevelstokeBritish Columbia                                                   9\n",
      "OmemeeOntario                                                                8\n",
      "Lake CowichanBritish Columbia                                                8\n",
      "Bradford West GwillimburyOntario                                             8\n",
      "BarrieOntario                                                                8\n",
      "Sherwood ParkAlberta                                                         8\n",
      "BanffAlberta                                                                 7\n",
      "Brisas de ZicatelaSanta Maria ColotepecOaxaca                                7\n",
      "LethbridgeAlberta                                                            7\n",
      "Bells CornersOntario                                                         7\n",
      "LondonOntario                                                                7\n",
      "PeterboroughOntario                                                          7\n",
      "GuelphWellington CountyOntario                                               7\n",
      "WellandOntario                                                               7\n",
      "MetchosinBritish Columbia                                                    7\n",
      "ChillumPrince George's CountyMaryland                                        6\n",
      "BeaumontAlberta                                                              6\n",
      "WaterlooOntario                                                              6\n",
      "QuesnelBritish Columbia                                                      6\n",
      "RosslandBritish Columbia                                                     6\n",
      "UclueletRegional District of Alberni-ClayoquotBritish Columbia               6\n",
      "HeadingleyManitoba                                                           6\n",
      "KitimatBritish Columbia                                                      6\n",
      "Rankin InletNunavut                                                          6\n",
      "EnderbyBritish Columbia                                                      5\n",
      "Red DeerAlberta                                                              5\n",
      "AmherstburgOntario                                                           5\n",
      "HopeBritish Columbia                                                         5\n",
      "GimliManitoba                                                                5\n",
      "Logan LakeBritish Columbia                                                   5\n",
      "Hillcrest HeightsPrince George's CountyMaryland                              5\n",
      "Ciudad JuarezChihuahua                                                       4\n",
      "St. CatharinesRegional Municipality of NiagaraOntario                        4\n",
      "AximWestern                                                                  4\n",
      "OrangevilleOntario                                                           4\n",
      "Atuona                                                                       4\n",
      "Friendship VillageMontgomery CountyMaryland                                  4\n",
      "San Andres Playa Encantada (El Podrido)Acapulco de JuarezGuerrero            4\n",
      "SicamousBritish Columbia                                                     4\n",
      "BrantfordOntario                                                             4\n",
      "DartmouthNova Scotia                                                         4\n",
      "KingstonOntario                                                              4\n",
      "AirdrieAlberta                                                               4\n",
      "OkanaganBritish Columbia                                                     4\n",
      "Fort McMurrayAlberta                                                         3\n",
      "AngusOntario                                                                 3\n",
      "HoustonBritish Columbia                                                      3\n",
      "BellevilleOntario                                                            3\n",
      "OleshnykVynohradiv RaionZakarpattia                                          3\n",
      "EldoradoDepartamento de EldoradoMisiones                                     3\n",
      "Puerto Baquerizo MorenoGalapagos                                             3\n",
      "Santa Maria TonamecaOaxaca                                                   3\n",
      "Grand-LahouLagunes                                                           3\n",
      "St. John'sNewfoundland and Labrador                                          3\n",
      "Niagara FallsOntario                                                         3\n",
      "NakuspBritish Columbia                                                       3\n",
      "ThoroldOntario                                                               3\n",
      "Chevy Chase VillageMontgomery CountyMaryland                                 3\n",
      "KentvilleKings CountyNova Scotia                                             3\n",
      "WaitangiChatham Islands                                                      3\n",
      "MonctonNew Brunswick                                                         3\n",
      "ReginaSaskatchewan                                                           3\n",
      "MonroviaMontserrado                                                          3\n",
      "CollingwoodOntario                                                           3\n",
      "Villa RotariaTecpan de GaleanaGuerrero                                       3\n",
      "Palma SolaAlto Lucero de Gutierrez BarriosVeracruz                           3\n",
      "CambridgeOntario                                                             3\n",
      "WestlockAlberta                                                              3\n",
      "Puerto NatalesMagallanes                                                     3\n",
      "IxtapaGuerrero                                                               3\n",
      "DelawareOntario                                                              3\n",
      "KimberleyRegional District of East KootenayBritish Columbia                  3\n",
      "Burns LakeBritish Columbia                                                   3\n",
      "InnisfilOntario                                                              3\n",
      "LeducAlberta                                                                 3\n",
      "Moose JawSaskatchewan                                                        3\n",
      "CanmoreAlberta                                                               3\n",
      "Red LakeOntario                                                              3\n",
      "KeswickOntario                                                               3\n",
      "GatineauOutaouaisQuebec                                                      3\n",
      "AncasterOntario                                                              3\n",
      "CobourgOntario                                                               3\n",
      "PenholdAlberta                                                               2\n",
      "TerraceBritish Columbia                                                      2\n",
      "Dorp RinconBonaire                                                           2\n",
      "Fort SaskatchewanAlberta                                                     2\n",
      "Port Saint JoeGulf CountyFlorida                                             2\n",
      "FernieBritish Columbia                                                       2\n",
      "Fairmount HeightsPrince George's CountyMaryland                              2\n",
      "Stony PlainAlberta                                                           2\n",
      "CoalhurstAlberta                                                             2\n",
      "SmithersBritish Columbia                                                     2\n",
      "Arraial do CaboArraial Do CaboRio de Janeiro                                 2\n",
      "CrossfieldAlberta                                                            2\n",
      "InvermereBritish Columbia                                                    2\n",
      "AnlogaVolta                                                                  2\n",
      "Santo Domingo ArmentaSanto Domingo ArmentaOaxaca                             2\n",
      "NivervilleManitoba                                                           2\n",
      "OkotoksAlberta                                                               2\n",
      "Les CoteauxMonteregieQuebec                                                  2\n",
      "Heroica MatamorosMatamorosTamaulipas                                         2\n",
      "StrathmoreAlberta                                                            2\n",
      "Spruce GroveAlberta                                                          2\n",
      "ImurisImurisSonora                                                           2\n",
      "ChinguettiAdrar                                                              2\n",
      "Jeffrey's BayCacadu District MunicipalityEastern Cape                        2\n",
      "AscensionSanta Cruz                                                          2\n",
      "OrilliaOntario                                                               2\n",
      "Rocky Mountain HouseAlberta                                                  2\n",
      "Las HiguerillasMatamorosTamaulipas                                           2\n",
      "Rio LagartosYucatan                                                          2\n",
      "StratfordOntario                                                             2\n",
      "BuchananGrand Bassa                                                          2\n",
      "Santiago de CaoAscopeLa Libertad                                             2\n",
      "Quinte WestOntario                                                           2\n",
      "Medicine HatAlberta                                                          2\n",
      "BracebridgeOntario                                                           2\n",
      "HamiltonHamilton city                                                        2\n",
      "SkateparkOntario                                                             2\n",
      "AshcroftThompson-Nicola Regional DistrictBritish Columbia                    2\n",
      "UshuaiaTierra del Fuego                                                      2\n",
      "LillooetBritish Columbia                                                     2\n",
      "Dawson CreekPeace River Regional DistrictBritish Columbia                    2\n",
      "Pincher CreekAlberta                                                         2\n",
      "Greater NapaneeOntario                                                       2\n",
      "Jasper Park LodgeAlberta                                                     2\n",
      "OxbowSaskatchewan                                                            2\n",
      "Vinas del SolMexicaliBaja California                                         2\n",
      "Corner BrookNewfoundland and Labrador                                        2\n",
      "Doctor Domingo ChanonaVillafloresChiapas                                     2\n",
      "East LondonBuffalo City Metropolitan MunicipalityEastern Cape                2\n",
      "NantonAlberta                                                                2\n",
      "CanutamaCanutamaAmazonas                                                     2\n",
      "Doctor ArroyoNuevo Leon                                                      2\n",
      "La ReformaNuevo Leon                                                         2\n",
      "Carleton PlaceOntario                                                        2\n",
      "Coahuayana ViejoMichoacan                                                    2\n",
      "Cole HarbourNova Scotia                                                      2\n",
      "Villa MorelosComonduBaja California Sur                                      2\n",
      "CasselmanOntario                                                             2\n",
      "Sao Joao da BarraSao Joao Da BarraRio de Janeiro                             2\n",
      "LloydminsterSaskatchewan                                                     2\n",
      "MinnedosaManitoba                                                            2\n",
      "HermanusOverberg District MunicipalityWestern Cape                           1\n",
      "El Barrancon del Tio Blas (El Barrancon)San FernandoTamaulipas               1\n",
      "ChesterNova Scotia                                                           1\n",
      "LodjaKasai-Oriental                                                          1\n",
      "MidlandOntario                                                               1\n",
      "BeylaBeyla PrefectureNzerekore                                               1\n",
      "GrindavikSouthern Peninsula                                                  1\n",
      "GashuaYobe                                                                   1\n",
      "MatagamiNord-du-QuebecQuebec                                                 1\n",
      "MetapanSanta Ana                                                             1\n",
      "Ciudad AcunaCoahuila                                                         1\n",
      "CarberryManitoba                                                             1\n",
      "AntofagastaProvincia de AntofagastaAntofagasta                               1\n",
      "AntigonishNova Scotia                                                        1\n",
      "GrockaBelgradeCentral Serbia                                                 1\n",
      "Metlili ChaambaGhardaia                                                      1\n",
      "General Lazaro Cardenas (El Colorado)El MarquesQueretaro                     1\n",
      "Ain SefraWilaya de Naama                                                     1\n",
      "YarmouthNova Scotia                                                          1\n",
      "MalpicaProvincia da CorunaGalicia                                            1\n",
      "KapuskasingOntario                                                           1\n",
      "Vega de AlatorreVeracruz                                                     1\n",
      "North BattlefordSaskatchewan                                                 1\n",
      "El CastilloGuanajuato                                                        1\n",
      "HuntsvilleOntario                                                            1\n",
      "Rio GallegosSanta Cruz                                                       1\n",
      "BassanoAlberta                                                               1\n",
      "CrucecitaSanta Maria HuatulcoOaxaca                                          1\n",
      "Santa AnitaPlayas de RosaritoBaja California                                 1\n",
      "Elliot LakeOntario                                                           1\n",
      "AutazesAutazesAmazonas                                                       1\n",
      "HancevilleBritish Columbia                                                   1\n",
      "BiankoumaDix-Huit Montagnes                                                  1\n",
      "Grosse Pointe FarmsWayne CountyMichigan                                      1\n",
      "ElkfordBritish Columbia                                                      1\n",
      "AjdabiyaSha`biyat al Wahat                                                   1\n",
      "SarniaLambton CountyOntario                                                  1\n",
      "Nicolas BravoQuintana Roo                                                    1\n",
      "Owen SoundOntario                                                            1\n",
      "TasiilaqSermersooq                                                           1\n",
      "Port AlfredCacadu District MunicipalityEastern Cape                          1\n",
      "SparwoodBritish Columbia                                                     1\n",
      "YendiYendiNorthern                                                           1\n",
      "San Mateo del MarOaxaca                                                      1\n",
      "BredasdorpOverberg District MunicipalityWestern Cape                         1\n",
      "SpringhillNova Scotia                                                        1\n",
      "High RiverAlberta                                                            1\n",
      "Mount PearlNewfoundland and Labrador                                         1\n",
      "Clarence-RocklandOntario                                                     1\n",
      "IllapelProvincia de ChoapaCoquimbo                                           1\n",
      "Silver HillPrince George's CountyMaryland                                    1\n",
      "Cabo San LucasBaja California Sur                                            1\n",
      "BluewaterOntario                                                             1\n",
      "CoquimboProvincia de ElquiCoquimbo                                           1\n",
      "SanibelLee CountyFlorida                                                     1\n",
      "DigbyNova Scotia                                                             1\n",
      "TofieldAlberta                                                               1\n",
      "SeadriftCalhoun CountyTexas                                                  1\n",
      "Emiliano Zapata (El Ranchito)CihuatlanJalisco                                1\n",
      "PictouNova Scotia                                                            1\n",
      "AncudProvincia de ChiloeLos Lagos                                            1\n",
      "FurnasPovoacaoAzores                                                         1\n",
      "Grand-PopoMono                                                               1\n",
      "FrederictonNew Brunswick                                                     1\n",
      "Villa CanalesGuatemala                                                       1\n",
      "South HuronOntario                                                           1\n",
      "Indian HeadSaskatchewan                                                      1\n",
      "GananoqueOntario                                                             1\n",
      "Swift CurrentSaskatchewan                                                    1\n",
      "Gueltat ZemmourBoujdourLaayoune-Boujdour-Sakia El Hamra                      1\n",
      "Savannah BightBay Islands                                                    1\n",
      "Montreal-EstQuebec                                                           1\n",
      "San Pedro PochutlaOaxaca                                                     1\n",
      "San JeronimitoGuerrero                                                       1\n",
      "SoderforsLycksele KommunVaesterbotten                                        1\n",
      "OutlookSaskatchewan                                                          1\n",
      "Governador ValadaresGovernador ValadaresMinas Gerais                         1\n",
      "Isles of ScillyIsles of ScillyEngland                                        1\n",
      "MosulNinawa                                                                  1\n",
      "Atltzayanca de HidalgoTlaxcala                                               1\n",
      "AtikokanRainy River DistrictOntario                                          1\n",
      "VanderhoofBritish Columbia                                                   1\n",
      "CodringtonBarbuda                                                            1\n",
      "Sylvan LakeAlberta                                                           1\n",
      "Grand-BassamSud-Comoe                                                        1\n",
      "Drayton ValleyAlberta                                                        1\n",
      "El AradorSan Lorenzo TexmelucanOaxaca                                        1\n",
      "PaulhaguetDepartement de la Haute-LoireAuvergne                              1\n",
      "Rikitea                                                                      1\n",
      "VigrestadHaRogaland                                                          1\n",
      "Kamin'-Kashyrs'kyyVolyn                                                      1\n",
      "DevonAlberta                                                                 1\n",
      "BenafigosProvincia de CastelloValencia                                       1\n",
      "Port ElizabethNelson Mandela Bay Metropolitan MunicipalityEastern Cape       1\n",
      "MarathonOntario                                                              1\n",
      "WarmanSaskatchewan                                                           1\n",
      "ChelaMunicipio LonduimbaliHuambo                                             1\n",
      "North Beach HavenOcean CountyNew Jersey                                      1\n",
      "Barranca de Otates (Barranca de Otatan)Zacoalco de TorresJalisco             1\n",
      "Jimenez del TeulJimenez del TeulZacatecas                                    1\n",
      "GreenstoneOntario                                                            1\n",
      "Lazaro Cardenas (Rancho Grande)FresnilloZacatecas                            1\n",
      "GoldenBritish Columbia                                                       1\n",
      "Masons BayAcklins                                                            1\n",
      "OmiaProvincia de Rodriguez de MendozaAmazonas                                1\n",
      "Greater SudburyOntario                                                       1\n",
      "Meadow LakeSaskatchewan                                                      1\n",
      "PueblaBaja California                                                        1\n",
      "VicamSonora                                                                  1\n",
      "TeraTillaberi                                                                1\n",
      "FisterraProvincia da CorunaGalicia                                           1\n",
      "Marsh HarbourCentral Abaco                                                   1\n",
      "Colmar ManorPrince George's CountyMaryland                                   1\n",
      "LuandaLuanda                                                                 1\n",
      "Grande CacheAlberta                                                          1\n",
      "GharyanSha`biyat al Jabal al Gharbi                                          1\n",
      "DrydenOntario                                                                1\n",
      "LagunaLagunaSanta Catarina                                                   1\n",
      "ChonchiProvincia de ChiloeLos Lagos                                          1\n",
      "Los OlivosJilotlan de los DoloresJalisco                                     1\n",
      "MexicaliMexicaliBaja California                                              1\n",
      "HamptonNew Brunswick                                                         1\n",
      "DrummondvilleCentre-du-QuebecQuebec                                          1\n",
      "Cooper's TownNorth Abaco                                                     1\n",
      "Acatlan de OsorioPuebla                                                      1\n",
      "WembleyAlberta                                                               1\n",
      "Parque Industrial Ciudad MitrasGarciaNuevo Leon                              1\n",
      "CochraneAlberta                                                              1\n",
      "SouthamptonSuffolk CountyNew York                                            1\n",
      "EastpointFranklin CountyFlorida                                              1\n",
      "Ignacio AllendeChiapa de CorzoChiapas                                        1\n",
      "El CoronilProvincia de SevillaAndalusia                                      1\n",
      "Sagua la GrandeVilla Clara                                                   1\n",
      "Fort St. JohnBritish Columbia                                                1\n",
      "La RongeSaskatchewan                                                         1\n",
      "LacombeAlberta                                                               1\n",
      "DieppeNew Brunswick                                                          1\n",
      "Vamos TamaulipasReynosaTamaulipas                                            1\n",
      "Luis Rodriguez (El Vergel)EnsenadaBaja California                            1\n",
      "MorinvilleAlberta                                                            1\n",
      "Slave LakeAlberta                                                            1\n",
      "TobermoryOntario                                                             1\n",
      "Nuevo ProgresoTamaulipas                                                     1\n",
      "Vila Nova SintraBrava                                                        1\n",
      "RaymondvilleWillacy CountyTexas                                              1\n",
      "SerusaRiau                                                                   1\n",
      "GreenwoodNova Scotia                                                         1\n",
      "Cockburn Town                                                                1\n",
      "Seaside ParkOcean CountyNew Jersey                                           1\n",
      "Conception Bay SouthNewfoundland and Labrador                                1\n",
      "UxbridgeOntario                                                              1\n",
      "LewisporteNewfoundland and Labrador                                          1\n",
      "Palmeiras de GoiasPalmeiras De GoiasGoias                                    1\n",
      "Black DiamondAlberta                                                         1\n",
      "Smiths FallsLanark CountyOntario                                             1\n",
      "HentiesbaaiErongo                                                            1\n",
      "KreiensenLower Saxony                                                        1\n",
      "GamboNewfoundland and Labrador                                               1\n",
      "El CenizoWebb CountyTexas                                                    1\n",
      "SisalHunucmaYucatan                                                          1\n",
      "TaiohaeIles Marquises                                                        1\n",
      "HanoverOntario                                                               1\n",
      "YellowknifeNorthwest Territories                                             1\n",
      "WetaskiwinAlberta                                                            1\n",
      "ChampericoMunicipio de ChampericoRetalhuleu                                  1\n",
      "Sector H TresSanta Maria HuatulcoOaxaca                                      1\n",
      "Saint-LaurentQuebec                                                          1\n",
      "ManzanilloManzanilloColima                                                   1\n",
      "UummannaqQaasuitsup                                                          1\n",
      "GaoGao                                                                       1\n",
      "El SauzalBaja California                                                     1\n",
      "Villa AltagraciaSan Cristobal                                                1\n",
      "Punta CanaSan Juan                                                           1\n",
      "RequenaProvincia de RequenaLoreto                                            1\n",
      "EsmeraldasEsmeraldas                                                         1\n",
      "Remire-MontjolyGuyaneGuyane                                                  1\n",
      "KugluktukNunavut                                                             1\n",
      "San Juan de MarconaProvincia de NazcaIca                                     1\n",
      "OvacikMersin                                                                 1\n",
      "Name: loc1, dtype: int64\n",
      "435\n"
     ]
    }
   ],
   "source": [
    "print(df['loc1'][df['weather'].isnull()].value_counts())\n",
    "print(len(df['loc1'][df['weather'].isnull()].value_counts()))"
   ]
  },
  {
   "cell_type": "markdown",
   "metadata": {},
   "source": [
    "In order to fill in the remaining null-valued weather, let's fill in the remaining by 'state'."
   ]
  },
  {
   "cell_type": "code",
   "execution_count": 121,
   "metadata": {},
   "outputs": [
    {
     "name": "stderr",
     "output_type": "stream",
     "text": [
      "100%|██████████| 454/454 [00:43<00:00, 10.40it/s]\n"
     ]
    }
   ],
   "source": [
    "i=0\n",
    "a = df['state'][df['weather'].isnull()].value_counts().index\n",
    "  \n",
    "for i in tqdm(range(0,454)):\n",
    "    try:\n",
    "        df.loc[((df['state'].str.contains(a[i]))\n",
    "                & (df['weather'].isnull())),'weather']=df['weather'][df['state'].str.contains(a[i])].value_counts().index[0]\n",
    "        \n",
    "    except:\n",
    "        pass"
   ]
  },
  {
   "cell_type": "code",
   "execution_count": 122,
   "metadata": {},
   "outputs": [
    {
     "name": "stdout",
     "output_type": "stream",
     "text": [
      "Series([], Name: state, dtype: int64)\n",
      "0\n"
     ]
    }
   ],
   "source": [
    "print(df['state'][df['weather'].isnull()].value_counts())\n",
    "print(len(df['state'][df['weather'].isnull()].value_counts()))"
   ]
  },
  {
   "cell_type": "code",
   "execution_count": null,
   "metadata": {},
   "outputs": [],
   "source": []
  },
  {
   "cell_type": "markdown",
   "metadata": {},
   "source": [
    "Let's fill in 'youSaveSpend'."
   ]
  },
  {
   "cell_type": "code",
   "execution_count": 123,
   "metadata": {},
   "outputs": [
    {
     "data": {
      "text/plain": [
       "1500                          6965\n",
       "f-150                         6890\n",
       "silverado 1500                4938\n",
       "2500                          3746\n",
       "escape                        3381\n",
       "                              ... \n",
       "3500hd quad cab diesel           1\n",
       "blazer 4x4 s10                   1\n",
       "08 porsche cayenne               1\n",
       "liberty 2wd                      1\n",
       "1500 2dr reg cab 119 wb 4w       1\n",
       "Name: make, Length: 46811, dtype: int64"
      ]
     },
     "execution_count": 123,
     "metadata": {},
     "output_type": "execute_result"
    }
   ],
   "source": [
    "df['make'][df['youSaveSpend'].isnull()].value_counts()"
   ]
  },
  {
   "cell_type": "code",
   "execution_count": 124,
   "metadata": {},
   "outputs": [
    {
     "name": "stderr",
     "output_type": "stream",
     "text": [
      "100%|██████████| 46812/46812 [13:22:56<00:00,  1.03s/it]       \n"
     ]
    }
   ],
   "source": [
    "i=0\n",
    "a = df['make'][df['youSaveSpend'].isnull()].value_counts().index\n",
    "  \n",
    "for i in tqdm(range(0,46812)):\n",
    "    try:\n",
    "        df.loc[((df['make'].str.contains(a[i]))\n",
    "                & (df['youSaveSpend'].isnull())),'youSaveSpend']=df['youSaveSpend'][df['make'].str.contains(a[i])].value_counts().index[0]\n",
    "        \n",
    "    except:\n",
    "        pass"
   ]
  },
  {
   "cell_type": "code",
   "execution_count": 125,
   "metadata": {},
   "outputs": [
    {
     "name": "stdout",
     "output_type": "stream",
     "text": [
      "Series([], Name: make, dtype: int64)\n",
      "0\n"
     ]
    }
   ],
   "source": [
    "print(df['make'][df['youSaveSpend'].isnull()].value_counts())\n",
    "print(len(df['make'][df['youSaveSpend'].isnull()].value_counts()))"
   ]
  },
  {
   "cell_type": "code",
   "execution_count": 126,
   "metadata": {},
   "outputs": [
    {
     "data": {
      "text/plain": [
       "condition       28.509139\n",
       "title_status     0.058917\n",
       "fuel             0.031837\n",
       "transmission     0.002745\n",
       "loc1             0.000000\n",
       "year             0.000000\n",
       "manufacturer     0.000000\n",
       "make             0.000000\n",
       "cylinders        0.000000\n",
       "odometer         0.000000\n",
       "drive            0.000000\n",
       "loc              0.000000\n",
       "size             0.000000\n",
       "type             0.000000\n",
       "weather          0.000000\n",
       "city             0.000000\n",
       "state            0.000000\n",
       "county           0.000000\n",
       "VClass           0.000000\n",
       "youSaveSpend     0.000000\n",
       "price            0.000000\n",
       "dtype: float64"
      ]
     },
     "execution_count": 126,
     "metadata": {},
     "output_type": "execute_result"
    }
   ],
   "source": [
    "((df.isnull().sum()/len(df)).sort_values(ascending = False)*100).astype(float)"
   ]
  },
  {
   "cell_type": "markdown",
   "metadata": {},
   "source": [
    "Let's look into 'condition' and 'title_status' closely."
   ]
  },
  {
   "cell_type": "code",
   "execution_count": 127,
   "metadata": {},
   "outputs": [
    {
     "data": {
      "text/plain": [
       "excellent    166873\n",
       "good         151077\n",
       "like new      41487\n",
       "fair          26848\n",
       "new            2424\n",
       "salvage        2010\n",
       "Name: condition, dtype: int64"
      ]
     },
     "execution_count": 127,
     "metadata": {},
     "output_type": "execute_result"
    }
   ],
   "source": [
    "df['condition'].value_counts()"
   ]
  },
  {
   "cell_type": "code",
   "execution_count": 128,
   "metadata": {},
   "outputs": [
    {
     "data": {
      "text/plain": [
       "clean         507837\n",
       "rebuilt        16631\n",
       "salvage        11986\n",
       "lien            7968\n",
       "missing         1267\n",
       "parts only       519\n",
       "Name: title_status, dtype: int64"
      ]
     },
     "execution_count": 128,
     "metadata": {},
     "output_type": "execute_result"
    }
   ],
   "source": [
    "df['title_status'].value_counts()"
   ]
  },
  {
   "cell_type": "code",
   "execution_count": 129,
   "metadata": {},
   "outputs": [
    {
     "data": {
      "text/plain": [
       "clean         154130\n",
       "rebuilt         6011\n",
       "lien            3383\n",
       "salvage         3226\n",
       "missing           93\n",
       "parts only        30\n",
       "Name: title_status, dtype: int64"
      ]
     },
     "execution_count": 129,
     "metadata": {},
     "output_type": "execute_result"
    }
   ],
   "source": [
    "df['title_status'][df['condition']=='excellent'].value_counts()"
   ]
  },
  {
   "cell_type": "code",
   "execution_count": 130,
   "metadata": {},
   "outputs": [
    {
     "data": {
      "text/plain": [
       "clean         140491\n",
       "rebuilt         4322\n",
       "salvage         3536\n",
       "lien            2178\n",
       "missing          430\n",
       "parts only       118\n",
       "Name: title_status, dtype: int64"
      ]
     },
     "execution_count": 130,
     "metadata": {},
     "output_type": "execute_result"
    }
   ],
   "source": [
    "df['title_status'][df['condition']=='good'].value_counts()"
   ]
  },
  {
   "cell_type": "code",
   "execution_count": 131,
   "metadata": {},
   "outputs": [
    {
     "data": {
      "text/plain": [
       "clean         36530\n",
       "rebuilt        2395\n",
       "lien           1329\n",
       "salvage        1191\n",
       "missing          32\n",
       "parts only       10\n",
       "Name: title_status, dtype: int64"
      ]
     },
     "execution_count": 131,
     "metadata": {},
     "output_type": "execute_result"
    }
   ],
   "source": [
    "df['title_status'][df['condition']=='like new'].value_counts()"
   ]
  },
  {
   "cell_type": "code",
   "execution_count": 132,
   "metadata": {},
   "outputs": [
    {
     "data": {
      "text/plain": [
       "clean         24738\n",
       "salvage         794\n",
       "rebuilt         597\n",
       "missing         410\n",
       "lien            216\n",
       "parts only       93\n",
       "Name: title_status, dtype: int64"
      ]
     },
     "execution_count": 132,
     "metadata": {},
     "output_type": "execute_result"
    }
   ],
   "source": [
    "df['title_status'][df['condition']=='fair'].value_counts()"
   ]
  },
  {
   "cell_type": "code",
   "execution_count": 133,
   "metadata": {},
   "outputs": [
    {
     "data": {
      "text/plain": [
       "clean         2143\n",
       "lien           113\n",
       "rebuilt         92\n",
       "salvage         68\n",
       "parts only       6\n",
       "missing          2\n",
       "Name: title_status, dtype: int64"
      ]
     },
     "execution_count": 133,
     "metadata": {},
     "output_type": "execute_result"
    }
   ],
   "source": [
    "df['title_status'][df['condition']=='new'].value_counts()"
   ]
  },
  {
   "cell_type": "code",
   "execution_count": 134,
   "metadata": {},
   "outputs": [
    {
     "data": {
      "text/plain": [
       "salvage       865\n",
       "clean         833\n",
       "parts only    129\n",
       "missing        91\n",
       "rebuilt        79\n",
       "lien           13\n",
       "Name: title_status, dtype: int64"
      ]
     },
     "execution_count": 134,
     "metadata": {},
     "output_type": "execute_result"
    }
   ],
   "source": [
    "df['title_status'][df['condition']=='salvage'].value_counts()"
   ]
  },
  {
   "cell_type": "code",
   "execution_count": 135,
   "metadata": {},
   "outputs": [
    {
     "data": {
      "text/plain": [
       "excellent    154130\n",
       "good         140491\n",
       "like new      36530\n",
       "fair          24738\n",
       "new            2143\n",
       "salvage         833\n",
       "Name: condition, dtype: int64"
      ]
     },
     "execution_count": 135,
     "metadata": {},
     "output_type": "execute_result"
    }
   ],
   "source": [
    "df['condition'][df['title_status']=='clean'].value_counts()"
   ]
  },
  {
   "cell_type": "code",
   "execution_count": 136,
   "metadata": {},
   "outputs": [
    {
     "data": {
      "text/plain": [
       "excellent    6011\n",
       "good         4322\n",
       "like new     2395\n",
       "fair          597\n",
       "new            92\n",
       "salvage        79\n",
       "Name: condition, dtype: int64"
      ]
     },
     "execution_count": 136,
     "metadata": {},
     "output_type": "execute_result"
    }
   ],
   "source": [
    "df['condition'][df['title_status']=='rebuilt'].value_counts()"
   ]
  },
  {
   "cell_type": "code",
   "execution_count": 137,
   "metadata": {},
   "outputs": [
    {
     "data": {
      "text/plain": [
       "good         3536\n",
       "excellent    3226\n",
       "like new     1191\n",
       "salvage       865\n",
       "fair          794\n",
       "new            68\n",
       "Name: condition, dtype: int64"
      ]
     },
     "execution_count": 137,
     "metadata": {},
     "output_type": "execute_result"
    }
   ],
   "source": [
    "df['condition'][df['title_status']=='salvage'].value_counts()"
   ]
  },
  {
   "cell_type": "code",
   "execution_count": 138,
   "metadata": {},
   "outputs": [
    {
     "data": {
      "text/plain": [
       "excellent    3383\n",
       "good         2178\n",
       "like new     1329\n",
       "fair          216\n",
       "new           113\n",
       "salvage        13\n",
       "Name: condition, dtype: int64"
      ]
     },
     "execution_count": 138,
     "metadata": {},
     "output_type": "execute_result"
    }
   ],
   "source": [
    "df['condition'][df['title_status']=='lien'].value_counts()"
   ]
  },
  {
   "cell_type": "code",
   "execution_count": 139,
   "metadata": {},
   "outputs": [
    {
     "data": {
      "text/plain": [
       "good         430\n",
       "fair         410\n",
       "excellent     93\n",
       "salvage       91\n",
       "like new      32\n",
       "new            2\n",
       "Name: condition, dtype: int64"
      ]
     },
     "execution_count": 139,
     "metadata": {},
     "output_type": "execute_result"
    }
   ],
   "source": [
    "df['condition'][df['title_status']=='missing'].value_counts()"
   ]
  },
  {
   "cell_type": "code",
   "execution_count": 140,
   "metadata": {},
   "outputs": [
    {
     "data": {
      "text/plain": [
       "salvage      129\n",
       "good         118\n",
       "fair          93\n",
       "excellent     30\n",
       "like new      10\n",
       "new            6\n",
       "Name: condition, dtype: int64"
      ]
     },
     "execution_count": 140,
     "metadata": {},
     "output_type": "execute_result"
    }
   ],
   "source": [
    "df['condition'][df['title_status']=='parts only'].value_counts()"
   ]
  },
  {
   "cell_type": "markdown",
   "metadata": {},
   "source": [
    "Let's drop 'condition' because all values in 'condition' are based on very subjective opinion from sellers."
   ]
  },
  {
   "cell_type": "code",
   "execution_count": 141,
   "metadata": {},
   "outputs": [],
   "source": [
    "df.drop(['condition'], axis = 1, inplace=True)"
   ]
  },
  {
   "cell_type": "markdown",
   "metadata": {},
   "source": [
    "Let's add a new feature, 'usage_yr'."
   ]
  },
  {
   "cell_type": "code",
   "execution_count": 142,
   "metadata": {},
   "outputs": [],
   "source": [
    "df['year']=df['year'].astype(int)"
   ]
  },
  {
   "cell_type": "code",
   "execution_count": 143,
   "metadata": {},
   "outputs": [
    {
     "data": {
      "text/plain": [
       "2019"
      ]
     },
     "execution_count": 143,
     "metadata": {},
     "output_type": "execute_result"
    }
   ],
   "source": [
    "df['year'].max()"
   ]
  },
  {
   "cell_type": "code",
   "execution_count": 144,
   "metadata": {},
   "outputs": [
    {
     "data": {
      "text/html": [
       "<div>\n",
       "<style scoped>\n",
       "    .dataframe tbody tr th:only-of-type {\n",
       "        vertical-align: middle;\n",
       "    }\n",
       "\n",
       "    .dataframe tbody tr th {\n",
       "        vertical-align: top;\n",
       "    }\n",
       "\n",
       "    .dataframe thead th {\n",
       "        text-align: right;\n",
       "    }\n",
       "</style>\n",
       "<table border=\"1\" class=\"dataframe\">\n",
       "  <thead>\n",
       "    <tr style=\"text-align: right;\">\n",
       "      <th></th>\n",
       "      <th>price</th>\n",
       "      <th>year</th>\n",
       "      <th>manufacturer</th>\n",
       "      <th>make</th>\n",
       "      <th>cylinders</th>\n",
       "      <th>fuel</th>\n",
       "      <th>odometer</th>\n",
       "      <th>title_status</th>\n",
       "      <th>transmission</th>\n",
       "      <th>drive</th>\n",
       "      <th>size</th>\n",
       "      <th>type</th>\n",
       "      <th>weather</th>\n",
       "      <th>city</th>\n",
       "      <th>state</th>\n",
       "      <th>county</th>\n",
       "      <th>VClass</th>\n",
       "      <th>youSaveSpend</th>\n",
       "      <th>loc</th>\n",
       "      <th>loc1</th>\n",
       "      <th>usage_yr</th>\n",
       "    </tr>\n",
       "  </thead>\n",
       "  <tbody>\n",
       "    <tr>\n",
       "      <th>0</th>\n",
       "      <td>11900</td>\n",
       "      <td>2010</td>\n",
       "      <td>dodge</td>\n",
       "      <td>challenger se</td>\n",
       "      <td>6</td>\n",
       "      <td>gas</td>\n",
       "      <td>43600.0</td>\n",
       "      <td>clean</td>\n",
       "      <td>automatic</td>\n",
       "      <td>rwd</td>\n",
       "      <td>full-size</td>\n",
       "      <td>coupe</td>\n",
       "      <td>38.0</td>\n",
       "      <td>Harrisburg</td>\n",
       "      <td>South Dakota</td>\n",
       "      <td>Lincoln County</td>\n",
       "      <td>midsize cars</td>\n",
       "      <td>-5750.0</td>\n",
       "      <td>HarrisburgLincoln CountySouth Dakota</td>\n",
       "      <td>HarrisburgLincoln CountySouth Dakota</td>\n",
       "      <td>9</td>\n",
       "    </tr>\n",
       "    <tr>\n",
       "      <th>1</th>\n",
       "      <td>2800</td>\n",
       "      <td>2004</td>\n",
       "      <td>ford</td>\n",
       "      <td>taurus</td>\n",
       "      <td>6</td>\n",
       "      <td>gas</td>\n",
       "      <td>168591.0</td>\n",
       "      <td>clean</td>\n",
       "      <td>automatic</td>\n",
       "      <td>fwd</td>\n",
       "      <td>full-size</td>\n",
       "      <td>sedan</td>\n",
       "      <td>47.0</td>\n",
       "      <td>Sanborn</td>\n",
       "      <td>Iowa</td>\n",
       "      <td>O'Brien County</td>\n",
       "      <td>large cars</td>\n",
       "      <td>-2250.0</td>\n",
       "      <td>SanbornO'Brien CountyIowa</td>\n",
       "      <td>SanbornO'Brien CountyIowa</td>\n",
       "      <td>15</td>\n",
       "    </tr>\n",
       "    <tr>\n",
       "      <th>2</th>\n",
       "      <td>2800</td>\n",
       "      <td>2004</td>\n",
       "      <td>ford</td>\n",
       "      <td>taurus</td>\n",
       "      <td>6</td>\n",
       "      <td>gas</td>\n",
       "      <td>168591.0</td>\n",
       "      <td>clean</td>\n",
       "      <td>automatic</td>\n",
       "      <td>fwd</td>\n",
       "      <td>full-size</td>\n",
       "      <td>sedan</td>\n",
       "      <td>47.0</td>\n",
       "      <td>Sanborn</td>\n",
       "      <td>Iowa</td>\n",
       "      <td>O'Brien County</td>\n",
       "      <td>large cars</td>\n",
       "      <td>-2250.0</td>\n",
       "      <td>SanbornO'Brien CountyIowa</td>\n",
       "      <td>SanbornO'Brien CountyIowa</td>\n",
       "      <td>15</td>\n",
       "    </tr>\n",
       "    <tr>\n",
       "      <th>3</th>\n",
       "      <td>400</td>\n",
       "      <td>2001</td>\n",
       "      <td>pontiac</td>\n",
       "      <td>2001 grand prix</td>\n",
       "      <td>0</td>\n",
       "      <td>gas</td>\n",
       "      <td>217000.0</td>\n",
       "      <td>clean</td>\n",
       "      <td>automatic</td>\n",
       "      <td>fwd</td>\n",
       "      <td>full-size</td>\n",
       "      <td>sedan</td>\n",
       "      <td>47.0</td>\n",
       "      <td>Algona</td>\n",
       "      <td>Iowa</td>\n",
       "      <td>Kossuth County</td>\n",
       "      <td>midsize cars</td>\n",
       "      <td>-1750.0</td>\n",
       "      <td>AlgonaKossuth CountyIowa</td>\n",
       "      <td>AlgonaKossuth CountyIowa</td>\n",
       "      <td>18</td>\n",
       "    </tr>\n",
       "    <tr>\n",
       "      <th>4</th>\n",
       "      <td>9900</td>\n",
       "      <td>2007</td>\n",
       "      <td>gmc</td>\n",
       "      <td>yukon</td>\n",
       "      <td>8</td>\n",
       "      <td>gas</td>\n",
       "      <td>169000.0</td>\n",
       "      <td>clean</td>\n",
       "      <td>automatic</td>\n",
       "      <td>4wd</td>\n",
       "      <td>full-size</td>\n",
       "      <td>suv</td>\n",
       "      <td>38.0</td>\n",
       "      <td>Lennox</td>\n",
       "      <td>South Dakota</td>\n",
       "      <td>Lincoln County</td>\n",
       "      <td>standard pickup trucks 4wd</td>\n",
       "      <td>-5000.0</td>\n",
       "      <td>LennoxLincoln CountySouth Dakota</td>\n",
       "      <td>LennoxLincoln CountySouth Dakota</td>\n",
       "      <td>12</td>\n",
       "    </tr>\n",
       "  </tbody>\n",
       "</table>\n",
       "</div>"
      ],
      "text/plain": [
       "   price  year manufacturer             make  cylinders fuel  odometer  \\\n",
       "0  11900  2010        dodge    challenger se          6  gas   43600.0   \n",
       "1   2800  2004         ford           taurus          6  gas  168591.0   \n",
       "2   2800  2004         ford           taurus          6  gas  168591.0   \n",
       "3    400  2001      pontiac  2001 grand prix          0  gas  217000.0   \n",
       "4   9900  2007          gmc            yukon          8  gas  169000.0   \n",
       "\n",
       "  title_status transmission drive       size   type  weather        city  \\\n",
       "0        clean    automatic   rwd  full-size  coupe     38.0  Harrisburg   \n",
       "1        clean    automatic   fwd  full-size  sedan     47.0     Sanborn   \n",
       "2        clean    automatic   fwd  full-size  sedan     47.0     Sanborn   \n",
       "3        clean    automatic   fwd  full-size  sedan     47.0      Algona   \n",
       "4        clean    automatic   4wd  full-size    suv     38.0      Lennox   \n",
       "\n",
       "          state          county                      VClass  youSaveSpend  \\\n",
       "0  South Dakota  Lincoln County                midsize cars       -5750.0   \n",
       "1          Iowa  O'Brien County                  large cars       -2250.0   \n",
       "2          Iowa  O'Brien County                  large cars       -2250.0   \n",
       "3          Iowa  Kossuth County                midsize cars       -1750.0   \n",
       "4  South Dakota  Lincoln County  standard pickup trucks 4wd       -5000.0   \n",
       "\n",
       "                                    loc                                  loc1  \\\n",
       "0  HarrisburgLincoln CountySouth Dakota  HarrisburgLincoln CountySouth Dakota   \n",
       "1             SanbornO'Brien CountyIowa             SanbornO'Brien CountyIowa   \n",
       "2             SanbornO'Brien CountyIowa             SanbornO'Brien CountyIowa   \n",
       "3              AlgonaKossuth CountyIowa              AlgonaKossuth CountyIowa   \n",
       "4      LennoxLincoln CountySouth Dakota      LennoxLincoln CountySouth Dakota   \n",
       "\n",
       "   usage_yr  \n",
       "0         9  \n",
       "1        15  \n",
       "2        15  \n",
       "3        18  \n",
       "4        12  "
      ]
     },
     "execution_count": 144,
     "metadata": {},
     "output_type": "execute_result"
    }
   ],
   "source": [
    "df['usage_yr']=df['year'].max()-df['year']\n",
    "df.head()"
   ]
  },
  {
   "cell_type": "markdown",
   "metadata": {},
   "source": [
    "Let's drop another unnecessary columns such as 'loc' and 'loc1'."
   ]
  },
  {
   "cell_type": "code",
   "execution_count": 145,
   "metadata": {},
   "outputs": [],
   "source": [
    "df.drop(['loc'], axis = 1, inplace=True)"
   ]
  },
  {
   "cell_type": "code",
   "execution_count": 146,
   "metadata": {},
   "outputs": [],
   "source": [
    "df.drop(['loc1'], axis = 1, inplace=True)"
   ]
  },
  {
   "cell_type": "code",
   "execution_count": 147,
   "metadata": {},
   "outputs": [
    {
     "data": {
      "text/html": [
       "<div>\n",
       "<style scoped>\n",
       "    .dataframe tbody tr th:only-of-type {\n",
       "        vertical-align: middle;\n",
       "    }\n",
       "\n",
       "    .dataframe tbody tr th {\n",
       "        vertical-align: top;\n",
       "    }\n",
       "\n",
       "    .dataframe thead th {\n",
       "        text-align: right;\n",
       "    }\n",
       "</style>\n",
       "<table border=\"1\" class=\"dataframe\">\n",
       "  <thead>\n",
       "    <tr style=\"text-align: right;\">\n",
       "      <th></th>\n",
       "      <th>price</th>\n",
       "      <th>year</th>\n",
       "      <th>manufacturer</th>\n",
       "      <th>make</th>\n",
       "      <th>cylinders</th>\n",
       "      <th>fuel</th>\n",
       "      <th>odometer</th>\n",
       "      <th>title_status</th>\n",
       "      <th>transmission</th>\n",
       "      <th>drive</th>\n",
       "      <th>size</th>\n",
       "      <th>type</th>\n",
       "      <th>weather</th>\n",
       "      <th>city</th>\n",
       "      <th>state</th>\n",
       "      <th>county</th>\n",
       "      <th>VClass</th>\n",
       "      <th>youSaveSpend</th>\n",
       "      <th>usage_yr</th>\n",
       "    </tr>\n",
       "  </thead>\n",
       "  <tbody>\n",
       "    <tr>\n",
       "      <th>0</th>\n",
       "      <td>11900</td>\n",
       "      <td>2010</td>\n",
       "      <td>dodge</td>\n",
       "      <td>challenger se</td>\n",
       "      <td>6</td>\n",
       "      <td>gas</td>\n",
       "      <td>43600.0</td>\n",
       "      <td>clean</td>\n",
       "      <td>automatic</td>\n",
       "      <td>rwd</td>\n",
       "      <td>full-size</td>\n",
       "      <td>coupe</td>\n",
       "      <td>38.0</td>\n",
       "      <td>Harrisburg</td>\n",
       "      <td>South Dakota</td>\n",
       "      <td>Lincoln County</td>\n",
       "      <td>midsize cars</td>\n",
       "      <td>-5750.0</td>\n",
       "      <td>9</td>\n",
       "    </tr>\n",
       "    <tr>\n",
       "      <th>1</th>\n",
       "      <td>2800</td>\n",
       "      <td>2004</td>\n",
       "      <td>ford</td>\n",
       "      <td>taurus</td>\n",
       "      <td>6</td>\n",
       "      <td>gas</td>\n",
       "      <td>168591.0</td>\n",
       "      <td>clean</td>\n",
       "      <td>automatic</td>\n",
       "      <td>fwd</td>\n",
       "      <td>full-size</td>\n",
       "      <td>sedan</td>\n",
       "      <td>47.0</td>\n",
       "      <td>Sanborn</td>\n",
       "      <td>Iowa</td>\n",
       "      <td>O'Brien County</td>\n",
       "      <td>large cars</td>\n",
       "      <td>-2250.0</td>\n",
       "      <td>15</td>\n",
       "    </tr>\n",
       "    <tr>\n",
       "      <th>2</th>\n",
       "      <td>2800</td>\n",
       "      <td>2004</td>\n",
       "      <td>ford</td>\n",
       "      <td>taurus</td>\n",
       "      <td>6</td>\n",
       "      <td>gas</td>\n",
       "      <td>168591.0</td>\n",
       "      <td>clean</td>\n",
       "      <td>automatic</td>\n",
       "      <td>fwd</td>\n",
       "      <td>full-size</td>\n",
       "      <td>sedan</td>\n",
       "      <td>47.0</td>\n",
       "      <td>Sanborn</td>\n",
       "      <td>Iowa</td>\n",
       "      <td>O'Brien County</td>\n",
       "      <td>large cars</td>\n",
       "      <td>-2250.0</td>\n",
       "      <td>15</td>\n",
       "    </tr>\n",
       "    <tr>\n",
       "      <th>3</th>\n",
       "      <td>400</td>\n",
       "      <td>2001</td>\n",
       "      <td>pontiac</td>\n",
       "      <td>2001 grand prix</td>\n",
       "      <td>0</td>\n",
       "      <td>gas</td>\n",
       "      <td>217000.0</td>\n",
       "      <td>clean</td>\n",
       "      <td>automatic</td>\n",
       "      <td>fwd</td>\n",
       "      <td>full-size</td>\n",
       "      <td>sedan</td>\n",
       "      <td>47.0</td>\n",
       "      <td>Algona</td>\n",
       "      <td>Iowa</td>\n",
       "      <td>Kossuth County</td>\n",
       "      <td>midsize cars</td>\n",
       "      <td>-1750.0</td>\n",
       "      <td>18</td>\n",
       "    </tr>\n",
       "    <tr>\n",
       "      <th>4</th>\n",
       "      <td>9900</td>\n",
       "      <td>2007</td>\n",
       "      <td>gmc</td>\n",
       "      <td>yukon</td>\n",
       "      <td>8</td>\n",
       "      <td>gas</td>\n",
       "      <td>169000.0</td>\n",
       "      <td>clean</td>\n",
       "      <td>automatic</td>\n",
       "      <td>4wd</td>\n",
       "      <td>full-size</td>\n",
       "      <td>suv</td>\n",
       "      <td>38.0</td>\n",
       "      <td>Lennox</td>\n",
       "      <td>South Dakota</td>\n",
       "      <td>Lincoln County</td>\n",
       "      <td>standard pickup trucks 4wd</td>\n",
       "      <td>-5000.0</td>\n",
       "      <td>12</td>\n",
       "    </tr>\n",
       "  </tbody>\n",
       "</table>\n",
       "</div>"
      ],
      "text/plain": [
       "   price  year manufacturer             make  cylinders fuel  odometer  \\\n",
       "0  11900  2010        dodge    challenger se          6  gas   43600.0   \n",
       "1   2800  2004         ford           taurus          6  gas  168591.0   \n",
       "2   2800  2004         ford           taurus          6  gas  168591.0   \n",
       "3    400  2001      pontiac  2001 grand prix          0  gas  217000.0   \n",
       "4   9900  2007          gmc            yukon          8  gas  169000.0   \n",
       "\n",
       "  title_status transmission drive       size   type  weather        city  \\\n",
       "0        clean    automatic   rwd  full-size  coupe     38.0  Harrisburg   \n",
       "1        clean    automatic   fwd  full-size  sedan     47.0     Sanborn   \n",
       "2        clean    automatic   fwd  full-size  sedan     47.0     Sanborn   \n",
       "3        clean    automatic   fwd  full-size  sedan     47.0      Algona   \n",
       "4        clean    automatic   4wd  full-size    suv     38.0      Lennox   \n",
       "\n",
       "          state          county                      VClass  youSaveSpend  \\\n",
       "0  South Dakota  Lincoln County                midsize cars       -5750.0   \n",
       "1          Iowa  O'Brien County                  large cars       -2250.0   \n",
       "2          Iowa  O'Brien County                  large cars       -2250.0   \n",
       "3          Iowa  Kossuth County                midsize cars       -1750.0   \n",
       "4  South Dakota  Lincoln County  standard pickup trucks 4wd       -5000.0   \n",
       "\n",
       "   usage_yr  \n",
       "0         9  \n",
       "1        15  \n",
       "2        15  \n",
       "3        18  \n",
       "4        12  "
      ]
     },
     "execution_count": 147,
     "metadata": {},
     "output_type": "execute_result"
    }
   ],
   "source": [
    "df.head()"
   ]
  },
  {
   "cell_type": "markdown",
   "metadata": {},
   "source": [
    "Let's drop any rows with null values."
   ]
  },
  {
   "cell_type": "code",
   "execution_count": 148,
   "metadata": {},
   "outputs": [
    {
     "data": {
      "text/plain": [
       "title_status    0.058917\n",
       "fuel            0.031837\n",
       "transmission    0.002745\n",
       "usage_yr        0.000000\n",
       "year            0.000000\n",
       "manufacturer    0.000000\n",
       "make            0.000000\n",
       "cylinders       0.000000\n",
       "odometer        0.000000\n",
       "drive           0.000000\n",
       "youSaveSpend    0.000000\n",
       "size            0.000000\n",
       "type            0.000000\n",
       "weather         0.000000\n",
       "city            0.000000\n",
       "state           0.000000\n",
       "county          0.000000\n",
       "VClass          0.000000\n",
       "price           0.000000\n",
       "dtype: float64"
      ]
     },
     "execution_count": 148,
     "metadata": {},
     "output_type": "execute_result"
    }
   ],
   "source": [
    "((df.isnull().sum()/len(df)).sort_values(ascending = False)*100).astype(float)"
   ]
  },
  {
   "cell_type": "code",
   "execution_count": 149,
   "metadata": {},
   "outputs": [
    {
     "data": {
      "text/plain": [
       "title_status    0.057656\n",
       "usage_yr        0.000000\n",
       "transmission    0.000000\n",
       "year            0.000000\n",
       "manufacturer    0.000000\n",
       "make            0.000000\n",
       "cylinders       0.000000\n",
       "fuel            0.000000\n",
       "odometer        0.000000\n",
       "drive           0.000000\n",
       "youSaveSpend    0.000000\n",
       "size            0.000000\n",
       "type            0.000000\n",
       "weather         0.000000\n",
       "city            0.000000\n",
       "state           0.000000\n",
       "county          0.000000\n",
       "VClass          0.000000\n",
       "price           0.000000\n",
       "dtype: float64"
      ]
     },
     "execution_count": 149,
     "metadata": {},
     "output_type": "execute_result"
    }
   ],
   "source": [
    "df.drop(df[df['fuel'].isnull()].index, inplace=True)\n",
    "df.drop(df[df['transmission'].isnull()].index, inplace=True)\n",
    "((df.isnull().sum()/len(df)).sort_values(ascending = False)*100).astype(float)"
   ]
  },
  {
   "cell_type": "code",
   "execution_count": 150,
   "metadata": {},
   "outputs": [
    {
     "data": {
      "text/html": [
       "<div>\n",
       "<style scoped>\n",
       "    .dataframe tbody tr th:only-of-type {\n",
       "        vertical-align: middle;\n",
       "    }\n",
       "\n",
       "    .dataframe tbody tr th {\n",
       "        vertical-align: top;\n",
       "    }\n",
       "\n",
       "    .dataframe thead th {\n",
       "        text-align: right;\n",
       "    }\n",
       "</style>\n",
       "<table border=\"1\" class=\"dataframe\">\n",
       "  <thead>\n",
       "    <tr style=\"text-align: right;\">\n",
       "      <th></th>\n",
       "      <th>price</th>\n",
       "      <th>year</th>\n",
       "      <th>manufacturer</th>\n",
       "      <th>make</th>\n",
       "      <th>cylinders</th>\n",
       "      <th>fuel</th>\n",
       "      <th>odometer</th>\n",
       "      <th>title_status</th>\n",
       "      <th>transmission</th>\n",
       "      <th>drive</th>\n",
       "      <th>size</th>\n",
       "      <th>type</th>\n",
       "      <th>weather</th>\n",
       "      <th>city</th>\n",
       "      <th>state</th>\n",
       "      <th>county</th>\n",
       "      <th>VClass</th>\n",
       "      <th>youSaveSpend</th>\n",
       "      <th>usage_yr</th>\n",
       "    </tr>\n",
       "  </thead>\n",
       "  <tbody>\n",
       "    <tr>\n",
       "      <th>0</th>\n",
       "      <td>11900</td>\n",
       "      <td>2010</td>\n",
       "      <td>dodge</td>\n",
       "      <td>challenger se</td>\n",
       "      <td>6</td>\n",
       "      <td>gas</td>\n",
       "      <td>43600.0</td>\n",
       "      <td>clean</td>\n",
       "      <td>automatic</td>\n",
       "      <td>rwd</td>\n",
       "      <td>full-size</td>\n",
       "      <td>coupe</td>\n",
       "      <td>38.0</td>\n",
       "      <td>Harrisburg</td>\n",
       "      <td>South Dakota</td>\n",
       "      <td>Lincoln County</td>\n",
       "      <td>midsize cars</td>\n",
       "      <td>-5750.0</td>\n",
       "      <td>9</td>\n",
       "    </tr>\n",
       "    <tr>\n",
       "      <th>1</th>\n",
       "      <td>2800</td>\n",
       "      <td>2004</td>\n",
       "      <td>ford</td>\n",
       "      <td>taurus</td>\n",
       "      <td>6</td>\n",
       "      <td>gas</td>\n",
       "      <td>168591.0</td>\n",
       "      <td>clean</td>\n",
       "      <td>automatic</td>\n",
       "      <td>fwd</td>\n",
       "      <td>full-size</td>\n",
       "      <td>sedan</td>\n",
       "      <td>47.0</td>\n",
       "      <td>Sanborn</td>\n",
       "      <td>Iowa</td>\n",
       "      <td>O'Brien County</td>\n",
       "      <td>large cars</td>\n",
       "      <td>-2250.0</td>\n",
       "      <td>15</td>\n",
       "    </tr>\n",
       "    <tr>\n",
       "      <th>2</th>\n",
       "      <td>2800</td>\n",
       "      <td>2004</td>\n",
       "      <td>ford</td>\n",
       "      <td>taurus</td>\n",
       "      <td>6</td>\n",
       "      <td>gas</td>\n",
       "      <td>168591.0</td>\n",
       "      <td>clean</td>\n",
       "      <td>automatic</td>\n",
       "      <td>fwd</td>\n",
       "      <td>full-size</td>\n",
       "      <td>sedan</td>\n",
       "      <td>47.0</td>\n",
       "      <td>Sanborn</td>\n",
       "      <td>Iowa</td>\n",
       "      <td>O'Brien County</td>\n",
       "      <td>large cars</td>\n",
       "      <td>-2250.0</td>\n",
       "      <td>15</td>\n",
       "    </tr>\n",
       "    <tr>\n",
       "      <th>3</th>\n",
       "      <td>400</td>\n",
       "      <td>2001</td>\n",
       "      <td>pontiac</td>\n",
       "      <td>2001 grand prix</td>\n",
       "      <td>0</td>\n",
       "      <td>gas</td>\n",
       "      <td>217000.0</td>\n",
       "      <td>clean</td>\n",
       "      <td>automatic</td>\n",
       "      <td>fwd</td>\n",
       "      <td>full-size</td>\n",
       "      <td>sedan</td>\n",
       "      <td>47.0</td>\n",
       "      <td>Algona</td>\n",
       "      <td>Iowa</td>\n",
       "      <td>Kossuth County</td>\n",
       "      <td>midsize cars</td>\n",
       "      <td>-1750.0</td>\n",
       "      <td>18</td>\n",
       "    </tr>\n",
       "    <tr>\n",
       "      <th>4</th>\n",
       "      <td>9900</td>\n",
       "      <td>2007</td>\n",
       "      <td>gmc</td>\n",
       "      <td>yukon</td>\n",
       "      <td>8</td>\n",
       "      <td>gas</td>\n",
       "      <td>169000.0</td>\n",
       "      <td>clean</td>\n",
       "      <td>automatic</td>\n",
       "      <td>4wd</td>\n",
       "      <td>full-size</td>\n",
       "      <td>suv</td>\n",
       "      <td>38.0</td>\n",
       "      <td>Lennox</td>\n",
       "      <td>South Dakota</td>\n",
       "      <td>Lincoln County</td>\n",
       "      <td>standard pickup trucks 4wd</td>\n",
       "      <td>-5000.0</td>\n",
       "      <td>12</td>\n",
       "    </tr>\n",
       "  </tbody>\n",
       "</table>\n",
       "</div>"
      ],
      "text/plain": [
       "   price  year manufacturer             make  cylinders fuel  odometer  \\\n",
       "0  11900  2010        dodge    challenger se          6  gas   43600.0   \n",
       "1   2800  2004         ford           taurus          6  gas  168591.0   \n",
       "2   2800  2004         ford           taurus          6  gas  168591.0   \n",
       "3    400  2001      pontiac  2001 grand prix          0  gas  217000.0   \n",
       "4   9900  2007          gmc            yukon          8  gas  169000.0   \n",
       "\n",
       "  title_status transmission drive       size   type  weather        city  \\\n",
       "0        clean    automatic   rwd  full-size  coupe     38.0  Harrisburg   \n",
       "1        clean    automatic   fwd  full-size  sedan     47.0     Sanborn   \n",
       "2        clean    automatic   fwd  full-size  sedan     47.0     Sanborn   \n",
       "3        clean    automatic   fwd  full-size  sedan     47.0      Algona   \n",
       "4        clean    automatic   4wd  full-size    suv     38.0      Lennox   \n",
       "\n",
       "          state          county                      VClass  youSaveSpend  \\\n",
       "0  South Dakota  Lincoln County                midsize cars       -5750.0   \n",
       "1          Iowa  O'Brien County                  large cars       -2250.0   \n",
       "2          Iowa  O'Brien County                  large cars       -2250.0   \n",
       "3          Iowa  Kossuth County                midsize cars       -1750.0   \n",
       "4  South Dakota  Lincoln County  standard pickup trucks 4wd       -5000.0   \n",
       "\n",
       "   usage_yr  \n",
       "0         9  \n",
       "1        15  \n",
       "2        15  \n",
       "3        18  \n",
       "4        12  "
      ]
     },
     "execution_count": 150,
     "metadata": {},
     "output_type": "execute_result"
    }
   ],
   "source": [
    "df.head()"
   ]
  },
  {
   "cell_type": "code",
   "execution_count": 151,
   "metadata": {},
   "outputs": [
    {
     "name": "stdout",
     "output_type": "stream",
     "text": [
      "<class 'pandas.core.frame.DataFrame'>\n",
      "Int64Index: 546343 entries, 0 to 546529\n",
      "Data columns (total 19 columns):\n",
      " #   Column        Non-Null Count   Dtype  \n",
      "---  ------        --------------   -----  \n",
      " 0   price         546343 non-null  object \n",
      " 1   year          546343 non-null  int32  \n",
      " 2   manufacturer  546343 non-null  object \n",
      " 3   make          546343 non-null  object \n",
      " 4   cylinders     546343 non-null  int32  \n",
      " 5   fuel          546343 non-null  object \n",
      " 6   odometer      546343 non-null  float64\n",
      " 7   title_status  546028 non-null  object \n",
      " 8   transmission  546343 non-null  object \n",
      " 9   drive         546343 non-null  object \n",
      " 10  size          546343 non-null  object \n",
      " 11  type          546343 non-null  object \n",
      " 12  weather       546343 non-null  float64\n",
      " 13  city          546343 non-null  object \n",
      " 14  state         546343 non-null  object \n",
      " 15  county        546343 non-null  object \n",
      " 16  VClass        546343 non-null  object \n",
      " 17  youSaveSpend  546343 non-null  float64\n",
      " 18  usage_yr      546343 non-null  int32  \n",
      "dtypes: float64(3), int32(3), object(13)\n",
      "memory usage: 77.1+ MB\n"
     ]
    }
   ],
   "source": [
    "df.info()"
   ]
  },
  {
   "cell_type": "code",
   "execution_count": 152,
   "metadata": {},
   "outputs": [
    {
     "data": {
      "text/html": [
       "<div>\n",
       "<style scoped>\n",
       "    .dataframe tbody tr th:only-of-type {\n",
       "        vertical-align: middle;\n",
       "    }\n",
       "\n",
       "    .dataframe tbody tr th {\n",
       "        vertical-align: top;\n",
       "    }\n",
       "\n",
       "    .dataframe thead th {\n",
       "        text-align: right;\n",
       "    }\n",
       "</style>\n",
       "<table border=\"1\" class=\"dataframe\">\n",
       "  <thead>\n",
       "    <tr style=\"text-align: right;\">\n",
       "      <th></th>\n",
       "      <th>price</th>\n",
       "      <th>year</th>\n",
       "      <th>manufacturer</th>\n",
       "      <th>make</th>\n",
       "      <th>cylinders</th>\n",
       "      <th>fuel</th>\n",
       "      <th>odometer</th>\n",
       "      <th>title_status</th>\n",
       "      <th>transmission</th>\n",
       "      <th>drive</th>\n",
       "      <th>size</th>\n",
       "      <th>type</th>\n",
       "      <th>weather</th>\n",
       "      <th>city</th>\n",
       "      <th>state</th>\n",
       "      <th>county</th>\n",
       "      <th>VClass</th>\n",
       "      <th>youSaveSpend</th>\n",
       "      <th>usage_yr</th>\n",
       "    </tr>\n",
       "  </thead>\n",
       "  <tbody>\n",
       "    <tr>\n",
       "      <th>546525</th>\n",
       "      <td>25786</td>\n",
       "      <td>2014</td>\n",
       "      <td>chevrolet</td>\n",
       "      <td>silverado 1500</td>\n",
       "      <td>8</td>\n",
       "      <td>gas</td>\n",
       "      <td>55286.0</td>\n",
       "      <td>clean</td>\n",
       "      <td>automatic</td>\n",
       "      <td>4wd</td>\n",
       "      <td>full-size</td>\n",
       "      <td>pickup</td>\n",
       "      <td>52.0</td>\n",
       "      <td>Harrisonville</td>\n",
       "      <td>Missouri</td>\n",
       "      <td>Cass County</td>\n",
       "      <td>standard pickup trucks 4wd</td>\n",
       "      <td>-5000.0</td>\n",
       "      <td>5</td>\n",
       "    </tr>\n",
       "    <tr>\n",
       "      <th>546526</th>\n",
       "      <td>28991</td>\n",
       "      <td>2015</td>\n",
       "      <td>ford</td>\n",
       "      <td>f150 supercrew cab</td>\n",
       "      <td>6</td>\n",
       "      <td>gas</td>\n",
       "      <td>105123.0</td>\n",
       "      <td>clean</td>\n",
       "      <td>automatic</td>\n",
       "      <td>4wd</td>\n",
       "      <td>full-size</td>\n",
       "      <td>pickup</td>\n",
       "      <td>52.0</td>\n",
       "      <td>Harrisonville</td>\n",
       "      <td>Missouri</td>\n",
       "      <td>Cass County</td>\n",
       "      <td>compact cars</td>\n",
       "      <td>-1750.0</td>\n",
       "      <td>4</td>\n",
       "    </tr>\n",
       "    <tr>\n",
       "      <th>546527</th>\n",
       "      <td>25995</td>\n",
       "      <td>2015</td>\n",
       "      <td>ford</td>\n",
       "      <td>f150 supercrew cab</td>\n",
       "      <td>8</td>\n",
       "      <td>other</td>\n",
       "      <td>108142.0</td>\n",
       "      <td>clean</td>\n",
       "      <td>automatic</td>\n",
       "      <td>4wd</td>\n",
       "      <td>full-size</td>\n",
       "      <td>pickup</td>\n",
       "      <td>52.0</td>\n",
       "      <td>Harrisonville</td>\n",
       "      <td>Missouri</td>\n",
       "      <td>Cass County</td>\n",
       "      <td>compact cars</td>\n",
       "      <td>-1750.0</td>\n",
       "      <td>4</td>\n",
       "    </tr>\n",
       "    <tr>\n",
       "      <th>546528</th>\n",
       "      <td>40000</td>\n",
       "      <td>2006</td>\n",
       "      <td>ford</td>\n",
       "      <td>sterling</td>\n",
       "      <td>0</td>\n",
       "      <td>diesel</td>\n",
       "      <td>350000.0</td>\n",
       "      <td>clean</td>\n",
       "      <td>manual</td>\n",
       "      <td>fwd</td>\n",
       "      <td>full-size</td>\n",
       "      <td>truck</td>\n",
       "      <td>52.0</td>\n",
       "      <td>Bel-Nor</td>\n",
       "      <td>Missouri</td>\n",
       "      <td>Saint Louis County</td>\n",
       "      <td>midsize cars</td>\n",
       "      <td>-1500.0</td>\n",
       "      <td>13</td>\n",
       "    </tr>\n",
       "    <tr>\n",
       "      <th>546529</th>\n",
       "      <td>6995</td>\n",
       "      <td>2007</td>\n",
       "      <td>ram</td>\n",
       "      <td>1500</td>\n",
       "      <td>0</td>\n",
       "      <td>gas</td>\n",
       "      <td>197936.0</td>\n",
       "      <td>clean</td>\n",
       "      <td>manual</td>\n",
       "      <td>4wd</td>\n",
       "      <td>full-size</td>\n",
       "      <td>truck</td>\n",
       "      <td>52.0</td>\n",
       "      <td>Moscow Mills</td>\n",
       "      <td>Missouri</td>\n",
       "      <td>Lincoln County</td>\n",
       "      <td>standard pickup trucks 4wd</td>\n",
       "      <td>-5000.0</td>\n",
       "      <td>12</td>\n",
       "    </tr>\n",
       "  </tbody>\n",
       "</table>\n",
       "</div>"
      ],
      "text/plain": [
       "        price  year manufacturer                make  cylinders    fuel  \\\n",
       "546525  25786  2014    chevrolet      silverado 1500          8     gas   \n",
       "546526  28991  2015         ford  f150 supercrew cab          6     gas   \n",
       "546527  25995  2015         ford  f150 supercrew cab          8   other   \n",
       "546528  40000  2006         ford            sterling          0  diesel   \n",
       "546529   6995  2007          ram                1500          0     gas   \n",
       "\n",
       "        odometer title_status transmission drive       size    type  weather  \\\n",
       "546525   55286.0        clean    automatic   4wd  full-size  pickup     52.0   \n",
       "546526  105123.0        clean    automatic   4wd  full-size  pickup     52.0   \n",
       "546527  108142.0        clean    automatic   4wd  full-size  pickup     52.0   \n",
       "546528  350000.0        clean       manual   fwd  full-size   truck     52.0   \n",
       "546529  197936.0        clean       manual   4wd  full-size   truck     52.0   \n",
       "\n",
       "                 city     state              county  \\\n",
       "546525  Harrisonville  Missouri         Cass County   \n",
       "546526  Harrisonville  Missouri         Cass County   \n",
       "546527  Harrisonville  Missouri         Cass County   \n",
       "546528        Bel-Nor  Missouri  Saint Louis County   \n",
       "546529   Moscow Mills  Missouri      Lincoln County   \n",
       "\n",
       "                            VClass  youSaveSpend  usage_yr  \n",
       "546525  standard pickup trucks 4wd       -5000.0         5  \n",
       "546526                compact cars       -1750.0         4  \n",
       "546527                compact cars       -1750.0         4  \n",
       "546528                midsize cars       -1500.0        13  \n",
       "546529  standard pickup trucks 4wd       -5000.0        12  "
      ]
     },
     "execution_count": 152,
     "metadata": {},
     "output_type": "execute_result"
    }
   ],
   "source": [
    "df.tail()"
   ]
  },
  {
   "cell_type": "code",
   "execution_count": 153,
   "metadata": {
    "scrolled": false
   },
   "outputs": [
    {
     "data": {
      "text/html": [
       "<div>\n",
       "<style scoped>\n",
       "    .dataframe tbody tr th:only-of-type {\n",
       "        vertical-align: middle;\n",
       "    }\n",
       "\n",
       "    .dataframe tbody tr th {\n",
       "        vertical-align: top;\n",
       "    }\n",
       "\n",
       "    .dataframe thead th {\n",
       "        text-align: right;\n",
       "    }\n",
       "</style>\n",
       "<table border=\"1\" class=\"dataframe\">\n",
       "  <thead>\n",
       "    <tr style=\"text-align: right;\">\n",
       "      <th></th>\n",
       "      <th>year</th>\n",
       "      <th>cylinders</th>\n",
       "      <th>odometer</th>\n",
       "      <th>weather</th>\n",
       "      <th>youSaveSpend</th>\n",
       "      <th>usage_yr</th>\n",
       "    </tr>\n",
       "  </thead>\n",
       "  <tbody>\n",
       "    <tr>\n",
       "      <th>count</th>\n",
       "      <td>546343.000000</td>\n",
       "      <td>546343.000000</td>\n",
       "      <td>5.463430e+05</td>\n",
       "      <td>546343.000000</td>\n",
       "      <td>546343.000000</td>\n",
       "      <td>546343.000000</td>\n",
       "    </tr>\n",
       "    <tr>\n",
       "      <th>mean</th>\n",
       "      <td>2006.752546</td>\n",
       "      <td>4.234631</td>\n",
       "      <td>1.163974e+05</td>\n",
       "      <td>51.721433</td>\n",
       "      <td>-2626.164333</td>\n",
       "      <td>12.247454</td>\n",
       "    </tr>\n",
       "    <tr>\n",
       "      <th>std</th>\n",
       "      <td>9.018514</td>\n",
       "      <td>2.999897</td>\n",
       "      <td>1.393079e+05</td>\n",
       "      <td>8.833016</td>\n",
       "      <td>2075.478140</td>\n",
       "      <td>9.018514</td>\n",
       "    </tr>\n",
       "    <tr>\n",
       "      <th>min</th>\n",
       "      <td>1900.000000</td>\n",
       "      <td>0.000000</td>\n",
       "      <td>0.000000e+00</td>\n",
       "      <td>29.000000</td>\n",
       "      <td>-13250.000000</td>\n",
       "      <td>0.000000</td>\n",
       "    </tr>\n",
       "    <tr>\n",
       "      <th>25%</th>\n",
       "      <td>2003.000000</td>\n",
       "      <td>0.000000</td>\n",
       "      <td>5.859950e+04</td>\n",
       "      <td>45.000000</td>\n",
       "      <td>-5000.000000</td>\n",
       "      <td>6.000000</td>\n",
       "    </tr>\n",
       "    <tr>\n",
       "      <th>50%</th>\n",
       "      <td>2008.000000</td>\n",
       "      <td>4.000000</td>\n",
       "      <td>1.098150e+05</td>\n",
       "      <td>51.000000</td>\n",
       "      <td>-1750.000000</td>\n",
       "      <td>11.000000</td>\n",
       "    </tr>\n",
       "    <tr>\n",
       "      <th>75%</th>\n",
       "      <td>2013.000000</td>\n",
       "      <td>6.000000</td>\n",
       "      <td>1.560000e+05</td>\n",
       "      <td>59.000000</td>\n",
       "      <td>-1000.000000</td>\n",
       "      <td>16.000000</td>\n",
       "    </tr>\n",
       "    <tr>\n",
       "      <th>max</th>\n",
       "      <td>2019.000000</td>\n",
       "      <td>12.000000</td>\n",
       "      <td>1.000000e+07</td>\n",
       "      <td>79.000000</td>\n",
       "      <td>3250.000000</td>\n",
       "      <td>119.000000</td>\n",
       "    </tr>\n",
       "  </tbody>\n",
       "</table>\n",
       "</div>"
      ],
      "text/plain": [
       "                year      cylinders      odometer        weather  \\\n",
       "count  546343.000000  546343.000000  5.463430e+05  546343.000000   \n",
       "mean     2006.752546       4.234631  1.163974e+05      51.721433   \n",
       "std         9.018514       2.999897  1.393079e+05       8.833016   \n",
       "min      1900.000000       0.000000  0.000000e+00      29.000000   \n",
       "25%      2003.000000       0.000000  5.859950e+04      45.000000   \n",
       "50%      2008.000000       4.000000  1.098150e+05      51.000000   \n",
       "75%      2013.000000       6.000000  1.560000e+05      59.000000   \n",
       "max      2019.000000      12.000000  1.000000e+07      79.000000   \n",
       "\n",
       "        youSaveSpend       usage_yr  \n",
       "count  546343.000000  546343.000000  \n",
       "mean    -2626.164333      12.247454  \n",
       "std      2075.478140       9.018514  \n",
       "min    -13250.000000       0.000000  \n",
       "25%     -5000.000000       6.000000  \n",
       "50%     -1750.000000      11.000000  \n",
       "75%     -1000.000000      16.000000  \n",
       "max      3250.000000     119.000000  "
      ]
     },
     "execution_count": 153,
     "metadata": {},
     "output_type": "execute_result"
    }
   ],
   "source": [
    "df.describe()"
   ]
  },
  {
   "cell_type": "markdown",
   "metadata": {},
   "source": [
    "Let's add Region and Division by 'state'."
   ]
  },
  {
   "cell_type": "code",
   "execution_count": 154,
   "metadata": {},
   "outputs": [
    {
     "data": {
      "text/html": [
       "<div>\n",
       "<style scoped>\n",
       "    .dataframe tbody tr th:only-of-type {\n",
       "        vertical-align: middle;\n",
       "    }\n",
       "\n",
       "    .dataframe tbody tr th {\n",
       "        vertical-align: top;\n",
       "    }\n",
       "\n",
       "    .dataframe thead th {\n",
       "        text-align: right;\n",
       "    }\n",
       "</style>\n",
       "<table border=\"1\" class=\"dataframe\">\n",
       "  <thead>\n",
       "    <tr style=\"text-align: right;\">\n",
       "      <th></th>\n",
       "      <th>State</th>\n",
       "      <th>State Code</th>\n",
       "      <th>Region</th>\n",
       "      <th>Division</th>\n",
       "    </tr>\n",
       "  </thead>\n",
       "  <tbody>\n",
       "    <tr>\n",
       "      <th>0</th>\n",
       "      <td>Alaska</td>\n",
       "      <td>AK</td>\n",
       "      <td>West</td>\n",
       "      <td>Pacific</td>\n",
       "    </tr>\n",
       "    <tr>\n",
       "      <th>1</th>\n",
       "      <td>Alabama</td>\n",
       "      <td>AL</td>\n",
       "      <td>South</td>\n",
       "      <td>East South Central</td>\n",
       "    </tr>\n",
       "    <tr>\n",
       "      <th>2</th>\n",
       "      <td>Arkansas</td>\n",
       "      <td>AR</td>\n",
       "      <td>South</td>\n",
       "      <td>West South Central</td>\n",
       "    </tr>\n",
       "    <tr>\n",
       "      <th>3</th>\n",
       "      <td>Arizona</td>\n",
       "      <td>AZ</td>\n",
       "      <td>West</td>\n",
       "      <td>Mountain</td>\n",
       "    </tr>\n",
       "    <tr>\n",
       "      <th>4</th>\n",
       "      <td>California</td>\n",
       "      <td>CA</td>\n",
       "      <td>West</td>\n",
       "      <td>Pacific</td>\n",
       "    </tr>\n",
       "  </tbody>\n",
       "</table>\n",
       "</div>"
      ],
      "text/plain": [
       "        State State Code Region            Division\n",
       "0      Alaska         AK   West             Pacific\n",
       "1     Alabama         AL  South  East South Central\n",
       "2    Arkansas         AR  South  West South Central\n",
       "3     Arizona         AZ   West            Mountain\n",
       "4  California         CA   West             Pacific"
      ]
     },
     "execution_count": 154,
     "metadata": {},
     "output_type": "execute_result"
    }
   ],
   "source": [
    "region_df= pd.read_csv(\"datasets_31195_39789_states.csv\")\n",
    "region_df.head()"
   ]
  },
  {
   "cell_type": "markdown",
   "metadata": {},
   "source": [
    "Let's change the column as lowercase."
   ]
  },
  {
   "cell_type": "code",
   "execution_count": 155,
   "metadata": {},
   "outputs": [],
   "source": [
    "region_df = region_df.rename(columns = {\"State\":\"state\", \"State Code\":\"state_code\",\n",
    "                                        \"Region\":\"region\",\"Division\":\"division\"}) "
   ]
  },
  {
   "cell_type": "markdown",
   "metadata": {},
   "source": [
    "Let's do a left-join by 'state'."
   ]
  },
  {
   "cell_type": "code",
   "execution_count": 156,
   "metadata": {},
   "outputs": [
    {
     "data": {
      "text/html": [
       "<div>\n",
       "<style scoped>\n",
       "    .dataframe tbody tr th:only-of-type {\n",
       "        vertical-align: middle;\n",
       "    }\n",
       "\n",
       "    .dataframe tbody tr th {\n",
       "        vertical-align: top;\n",
       "    }\n",
       "\n",
       "    .dataframe thead th {\n",
       "        text-align: right;\n",
       "    }\n",
       "</style>\n",
       "<table border=\"1\" class=\"dataframe\">\n",
       "  <thead>\n",
       "    <tr style=\"text-align: right;\">\n",
       "      <th></th>\n",
       "      <th>price</th>\n",
       "      <th>year</th>\n",
       "      <th>manufacturer</th>\n",
       "      <th>make</th>\n",
       "      <th>cylinders</th>\n",
       "      <th>fuel</th>\n",
       "      <th>odometer</th>\n",
       "      <th>title_status</th>\n",
       "      <th>transmission</th>\n",
       "      <th>drive</th>\n",
       "      <th>size</th>\n",
       "      <th>type</th>\n",
       "      <th>weather</th>\n",
       "      <th>city</th>\n",
       "      <th>state</th>\n",
       "      <th>county</th>\n",
       "      <th>VClass</th>\n",
       "      <th>youSaveSpend</th>\n",
       "      <th>usage_yr</th>\n",
       "      <th>state_code</th>\n",
       "      <th>region</th>\n",
       "      <th>division</th>\n",
       "    </tr>\n",
       "  </thead>\n",
       "  <tbody>\n",
       "    <tr>\n",
       "      <th>0</th>\n",
       "      <td>11900</td>\n",
       "      <td>2010</td>\n",
       "      <td>dodge</td>\n",
       "      <td>challenger se</td>\n",
       "      <td>6</td>\n",
       "      <td>gas</td>\n",
       "      <td>43600.0</td>\n",
       "      <td>clean</td>\n",
       "      <td>automatic</td>\n",
       "      <td>rwd</td>\n",
       "      <td>full-size</td>\n",
       "      <td>coupe</td>\n",
       "      <td>38.0</td>\n",
       "      <td>Harrisburg</td>\n",
       "      <td>South Dakota</td>\n",
       "      <td>Lincoln County</td>\n",
       "      <td>midsize cars</td>\n",
       "      <td>-5750.0</td>\n",
       "      <td>9</td>\n",
       "      <td>SD</td>\n",
       "      <td>Midwest</td>\n",
       "      <td>West North Central</td>\n",
       "    </tr>\n",
       "    <tr>\n",
       "      <th>1</th>\n",
       "      <td>2800</td>\n",
       "      <td>2004</td>\n",
       "      <td>ford</td>\n",
       "      <td>taurus</td>\n",
       "      <td>6</td>\n",
       "      <td>gas</td>\n",
       "      <td>168591.0</td>\n",
       "      <td>clean</td>\n",
       "      <td>automatic</td>\n",
       "      <td>fwd</td>\n",
       "      <td>full-size</td>\n",
       "      <td>sedan</td>\n",
       "      <td>47.0</td>\n",
       "      <td>Sanborn</td>\n",
       "      <td>Iowa</td>\n",
       "      <td>O'Brien County</td>\n",
       "      <td>large cars</td>\n",
       "      <td>-2250.0</td>\n",
       "      <td>15</td>\n",
       "      <td>IA</td>\n",
       "      <td>Midwest</td>\n",
       "      <td>West North Central</td>\n",
       "    </tr>\n",
       "    <tr>\n",
       "      <th>2</th>\n",
       "      <td>2800</td>\n",
       "      <td>2004</td>\n",
       "      <td>ford</td>\n",
       "      <td>taurus</td>\n",
       "      <td>6</td>\n",
       "      <td>gas</td>\n",
       "      <td>168591.0</td>\n",
       "      <td>clean</td>\n",
       "      <td>automatic</td>\n",
       "      <td>fwd</td>\n",
       "      <td>full-size</td>\n",
       "      <td>sedan</td>\n",
       "      <td>47.0</td>\n",
       "      <td>Sanborn</td>\n",
       "      <td>Iowa</td>\n",
       "      <td>O'Brien County</td>\n",
       "      <td>large cars</td>\n",
       "      <td>-2250.0</td>\n",
       "      <td>15</td>\n",
       "      <td>IA</td>\n",
       "      <td>Midwest</td>\n",
       "      <td>West North Central</td>\n",
       "    </tr>\n",
       "    <tr>\n",
       "      <th>3</th>\n",
       "      <td>400</td>\n",
       "      <td>2001</td>\n",
       "      <td>pontiac</td>\n",
       "      <td>2001 grand prix</td>\n",
       "      <td>0</td>\n",
       "      <td>gas</td>\n",
       "      <td>217000.0</td>\n",
       "      <td>clean</td>\n",
       "      <td>automatic</td>\n",
       "      <td>fwd</td>\n",
       "      <td>full-size</td>\n",
       "      <td>sedan</td>\n",
       "      <td>47.0</td>\n",
       "      <td>Algona</td>\n",
       "      <td>Iowa</td>\n",
       "      <td>Kossuth County</td>\n",
       "      <td>midsize cars</td>\n",
       "      <td>-1750.0</td>\n",
       "      <td>18</td>\n",
       "      <td>IA</td>\n",
       "      <td>Midwest</td>\n",
       "      <td>West North Central</td>\n",
       "    </tr>\n",
       "    <tr>\n",
       "      <th>4</th>\n",
       "      <td>9900</td>\n",
       "      <td>2007</td>\n",
       "      <td>gmc</td>\n",
       "      <td>yukon</td>\n",
       "      <td>8</td>\n",
       "      <td>gas</td>\n",
       "      <td>169000.0</td>\n",
       "      <td>clean</td>\n",
       "      <td>automatic</td>\n",
       "      <td>4wd</td>\n",
       "      <td>full-size</td>\n",
       "      <td>suv</td>\n",
       "      <td>38.0</td>\n",
       "      <td>Lennox</td>\n",
       "      <td>South Dakota</td>\n",
       "      <td>Lincoln County</td>\n",
       "      <td>standard pickup trucks 4wd</td>\n",
       "      <td>-5000.0</td>\n",
       "      <td>12</td>\n",
       "      <td>SD</td>\n",
       "      <td>Midwest</td>\n",
       "      <td>West North Central</td>\n",
       "    </tr>\n",
       "  </tbody>\n",
       "</table>\n",
       "</div>"
      ],
      "text/plain": [
       "   price  year manufacturer             make  cylinders fuel  odometer  \\\n",
       "0  11900  2010        dodge    challenger se          6  gas   43600.0   \n",
       "1   2800  2004         ford           taurus          6  gas  168591.0   \n",
       "2   2800  2004         ford           taurus          6  gas  168591.0   \n",
       "3    400  2001      pontiac  2001 grand prix          0  gas  217000.0   \n",
       "4   9900  2007          gmc            yukon          8  gas  169000.0   \n",
       "\n",
       "  title_status transmission drive       size   type  weather        city  \\\n",
       "0        clean    automatic   rwd  full-size  coupe     38.0  Harrisburg   \n",
       "1        clean    automatic   fwd  full-size  sedan     47.0     Sanborn   \n",
       "2        clean    automatic   fwd  full-size  sedan     47.0     Sanborn   \n",
       "3        clean    automatic   fwd  full-size  sedan     47.0      Algona   \n",
       "4        clean    automatic   4wd  full-size    suv     38.0      Lennox   \n",
       "\n",
       "          state          county                      VClass  youSaveSpend  \\\n",
       "0  South Dakota  Lincoln County                midsize cars       -5750.0   \n",
       "1          Iowa  O'Brien County                  large cars       -2250.0   \n",
       "2          Iowa  O'Brien County                  large cars       -2250.0   \n",
       "3          Iowa  Kossuth County                midsize cars       -1750.0   \n",
       "4  South Dakota  Lincoln County  standard pickup trucks 4wd       -5000.0   \n",
       "\n",
       "   usage_yr state_code   region            division  \n",
       "0         9         SD  Midwest  West North Central  \n",
       "1        15         IA  Midwest  West North Central  \n",
       "2        15         IA  Midwest  West North Central  \n",
       "3        18         IA  Midwest  West North Central  \n",
       "4        12         SD  Midwest  West North Central  "
      ]
     },
     "execution_count": 156,
     "metadata": {},
     "output_type": "execute_result"
    }
   ],
   "source": [
    "df = df.merge(region_df, how='left', on=['state'])\n",
    "df.head()"
   ]
  },
  {
   "cell_type": "markdown",
   "metadata": {},
   "source": [
    "Let's check 'state' which null values in 'region' or 'division'."
   ]
  },
  {
   "cell_type": "code",
   "execution_count": 157,
   "metadata": {},
   "outputs": [
    {
     "data": {
      "text/plain": [
       "British Columbia                    23506\n",
       "Ontario                              2466\n",
       "Alberta                               354\n",
       "Baja California                       132\n",
       "Manitoba                               88\n",
       "Washington, D.C.                       78\n",
       "                                       38\n",
       "Saskatchewan                           33\n",
       "Nova Scotia                            32\n",
       "Guerrero                               31\n",
       "Tristan da Cunha                       31\n",
       "Galapagos                              24\n",
       "Nunavut                                22\n",
       "Oaxaca                                 17\n",
       "Jalisco                                16\n",
       "Yukon                                  14\n",
       "Quebec                                 13\n",
       "Yucatan                                13\n",
       "Saint Helena                           10\n",
       "Sonora                                  9\n",
       "Valparaiso                              9\n",
       "New Brunswick                           9\n",
       "Newfoundland and Labrador               9\n",
       "Tamaulipas                              7\n",
       "Eastern Cape                            6\n",
       "Nuevo Leon                              5\n",
       "Western                                 4\n",
       "Chihuahua                               4\n",
       "Amazonas                                4\n",
       "Veracruz                                4\n",
       "Rio de Janeiro                          4\n",
       "Montserrado                             3\n",
       "Misiones                                3\n",
       "Baja California Sur                     3\n",
       "Chiapas                                 3\n",
       "Santa Cruz                              3\n",
       "Magallanes                              3\n",
       "Lagunes                                 3\n",
       "Zakarpattia                             3\n",
       "Chatham Islands                         3\n",
       "Michoacan                               2\n",
       "Galicia                                 2\n",
       "Adrar                                   2\n",
       "Los Lagos                               2\n",
       "La Libertad                             2\n",
       "Zacatecas                               2\n",
       "Coahuila                                2\n",
       "Coquimbo                                2\n",
       "Western Cape                            2\n",
       "Bonaire                                 2\n",
       "Tierra del Fuego                        2\n",
       "Volta                                   2\n",
       "Grand Bassa                             2\n",
       "Hamilton city                           2\n",
       "Guanajuato                              1\n",
       "Bay Islands                             1\n",
       "Santa Catarina                          1\n",
       "Guyane                                  1\n",
       "Sud-Comoe                               1\n",
       "Sha`biyat al Jabal al Gharbi            1\n",
       "Southern Peninsula                      1\n",
       "Andalusia                               1\n",
       "Rogaland                                1\n",
       "Esmeraldas                              1\n",
       "Mono                                    1\n",
       "Loreto                                  1\n",
       "Sha`biyat al Wahat                      1\n",
       "Quintana Roo                            1\n",
       "Goias                                   1\n",
       "San Juan                                1\n",
       "Acklins                                 1\n",
       "North Abaco                             1\n",
       "Tlaxcala                                1\n",
       "Colima                                  1\n",
       "Puebla                                  1\n",
       "England                                 1\n",
       "Central Abaco                           1\n",
       "Wilaya de Naama                         1\n",
       "Nzerekore                               1\n",
       "Lower Saxony                            1\n",
       "Queretaro                               1\n",
       "Brava                                   1\n",
       "Santa Ana                               1\n",
       "Iles Marquises                          1\n",
       "Mersin                                  1\n",
       "Barbuda                                 1\n",
       "Yobe                                    1\n",
       "San Cristobal                           1\n",
       "Riau                                    1\n",
       "Sermersooq                              1\n",
       "Tillaberi                               1\n",
       "Vaesterbotten                           1\n",
       "Guatemala                               1\n",
       "Huambo                                  1\n",
       "Kasai-Oriental                          1\n",
       "Luanda                                  1\n",
       "Antofagasta                             1\n",
       "Northwest Territories                   1\n",
       "Dix-Huit Montagnes                      1\n",
       "Azores                                  1\n",
       "Northern                                1\n",
       "Minas Gerais                            1\n",
       "Laayoune-Boujdour-Sakia El Hamra        1\n",
       "Retalhuleu                              1\n",
       "Gao                                     1\n",
       "Central Serbia                          1\n",
       "Erongo                                  1\n",
       "Auvergne                                1\n",
       "Villa Clara                             1\n",
       "Valencia                                1\n",
       "Ghardaia                                1\n",
       "Volyn                                   1\n",
       "Qaasuitsup                              1\n",
       "Ninawa                                  1\n",
       "Ica                                     1\n",
       "Name: state, dtype: int64"
      ]
     },
     "execution_count": 157,
     "metadata": {},
     "output_type": "execute_result"
    }
   ],
   "source": [
    "df['state'][df['region'].isnull()].value_counts()"
   ]
  },
  {
   "cell_type": "markdown",
   "metadata": {},
   "source": [
    "Let's check 'state' which null values in 'region' or 'division'."
   ]
  },
  {
   "cell_type": "code",
   "execution_count": 158,
   "metadata": {},
   "outputs": [
    {
     "data": {
      "text/plain": [
       "British Columbia                    23506\n",
       "Ontario                              2466\n",
       "Alberta                               354\n",
       "Baja California                       132\n",
       "Manitoba                               88\n",
       "Washington, D.C.                       78\n",
       "                                       38\n",
       "Saskatchewan                           33\n",
       "Nova Scotia                            32\n",
       "Guerrero                               31\n",
       "Tristan da Cunha                       31\n",
       "Galapagos                              24\n",
       "Nunavut                                22\n",
       "Oaxaca                                 17\n",
       "Jalisco                                16\n",
       "Yukon                                  14\n",
       "Quebec                                 13\n",
       "Yucatan                                13\n",
       "Saint Helena                           10\n",
       "Sonora                                  9\n",
       "Valparaiso                              9\n",
       "New Brunswick                           9\n",
       "Newfoundland and Labrador               9\n",
       "Tamaulipas                              7\n",
       "Eastern Cape                            6\n",
       "Nuevo Leon                              5\n",
       "Western                                 4\n",
       "Chihuahua                               4\n",
       "Amazonas                                4\n",
       "Veracruz                                4\n",
       "Rio de Janeiro                          4\n",
       "Montserrado                             3\n",
       "Misiones                                3\n",
       "Baja California Sur                     3\n",
       "Chiapas                                 3\n",
       "Santa Cruz                              3\n",
       "Magallanes                              3\n",
       "Lagunes                                 3\n",
       "Zakarpattia                             3\n",
       "Chatham Islands                         3\n",
       "Michoacan                               2\n",
       "Galicia                                 2\n",
       "Adrar                                   2\n",
       "Los Lagos                               2\n",
       "La Libertad                             2\n",
       "Zacatecas                               2\n",
       "Coahuila                                2\n",
       "Coquimbo                                2\n",
       "Western Cape                            2\n",
       "Bonaire                                 2\n",
       "Tierra del Fuego                        2\n",
       "Volta                                   2\n",
       "Grand Bassa                             2\n",
       "Hamilton city                           2\n",
       "Guanajuato                              1\n",
       "Bay Islands                             1\n",
       "Santa Catarina                          1\n",
       "Guyane                                  1\n",
       "Sud-Comoe                               1\n",
       "Sha`biyat al Jabal al Gharbi            1\n",
       "Southern Peninsula                      1\n",
       "Andalusia                               1\n",
       "Rogaland                                1\n",
       "Esmeraldas                              1\n",
       "Mono                                    1\n",
       "Loreto                                  1\n",
       "Sha`biyat al Wahat                      1\n",
       "Quintana Roo                            1\n",
       "Goias                                   1\n",
       "San Juan                                1\n",
       "Acklins                                 1\n",
       "North Abaco                             1\n",
       "Tlaxcala                                1\n",
       "Colima                                  1\n",
       "Puebla                                  1\n",
       "England                                 1\n",
       "Central Abaco                           1\n",
       "Wilaya de Naama                         1\n",
       "Nzerekore                               1\n",
       "Lower Saxony                            1\n",
       "Queretaro                               1\n",
       "Brava                                   1\n",
       "Santa Ana                               1\n",
       "Iles Marquises                          1\n",
       "Mersin                                  1\n",
       "Barbuda                                 1\n",
       "Yobe                                    1\n",
       "San Cristobal                           1\n",
       "Riau                                    1\n",
       "Sermersooq                              1\n",
       "Tillaberi                               1\n",
       "Vaesterbotten                           1\n",
       "Guatemala                               1\n",
       "Huambo                                  1\n",
       "Kasai-Oriental                          1\n",
       "Luanda                                  1\n",
       "Antofagasta                             1\n",
       "Northwest Territories                   1\n",
       "Dix-Huit Montagnes                      1\n",
       "Azores                                  1\n",
       "Northern                                1\n",
       "Minas Gerais                            1\n",
       "Laayoune-Boujdour-Sakia El Hamra        1\n",
       "Retalhuleu                              1\n",
       "Gao                                     1\n",
       "Central Serbia                          1\n",
       "Erongo                                  1\n",
       "Auvergne                                1\n",
       "Villa Clara                             1\n",
       "Valencia                                1\n",
       "Ghardaia                                1\n",
       "Volyn                                   1\n",
       "Qaasuitsup                              1\n",
       "Ninawa                                  1\n",
       "Ica                                     1\n",
       "Name: state, dtype: int64"
      ]
     },
     "execution_count": 158,
     "metadata": {},
     "output_type": "execute_result"
    }
   ],
   "source": [
    "df['state'][df['region'].isnull()].value_counts()"
   ]
  },
  {
   "cell_type": "markdown",
   "metadata": {},
   "source": [
    "Let's fill in 'Washington, D.C.''s 'state_code' as 'DC', 'region' as 'South', and 'division' as 'South Atlantic'."
   ]
  },
  {
   "cell_type": "code",
   "execution_count": 159,
   "metadata": {},
   "outputs": [
    {
     "data": {
      "text/html": [
       "<div>\n",
       "<style scoped>\n",
       "    .dataframe tbody tr th:only-of-type {\n",
       "        vertical-align: middle;\n",
       "    }\n",
       "\n",
       "    .dataframe tbody tr th {\n",
       "        vertical-align: top;\n",
       "    }\n",
       "\n",
       "    .dataframe thead th {\n",
       "        text-align: right;\n",
       "    }\n",
       "</style>\n",
       "<table border=\"1\" class=\"dataframe\">\n",
       "  <thead>\n",
       "    <tr style=\"text-align: right;\">\n",
       "      <th></th>\n",
       "      <th>state</th>\n",
       "      <th>state_code</th>\n",
       "      <th>region</th>\n",
       "      <th>division</th>\n",
       "    </tr>\n",
       "  </thead>\n",
       "  <tbody>\n",
       "    <tr>\n",
       "      <th>7</th>\n",
       "      <td>District of Columbia</td>\n",
       "      <td>DC</td>\n",
       "      <td>South</td>\n",
       "      <td>South Atlantic</td>\n",
       "    </tr>\n",
       "  </tbody>\n",
       "</table>\n",
       "</div>"
      ],
      "text/plain": [
       "                  state state_code region        division\n",
       "7  District of Columbia         DC  South  South Atlantic"
      ]
     },
     "execution_count": 159,
     "metadata": {},
     "output_type": "execute_result"
    }
   ],
   "source": [
    "region_df[region_df['state_code']=='DC']"
   ]
  },
  {
   "cell_type": "code",
   "execution_count": 160,
   "metadata": {},
   "outputs": [],
   "source": [
    "# US\n",
    "df.loc[df['state'] == 'Washington, D.C.','state_code']='DC'   \n",
    "df.loc[df['state'] == 'Washington, D.C.','region']='South'   \n",
    "df.loc[df['state'] == 'Washington, D.C.','division']='South Atlantic'   "
   ]
  },
  {
   "cell_type": "code",
   "execution_count": 161,
   "metadata": {},
   "outputs": [
    {
     "data": {
      "text/plain": [
       "division        4.947441\n",
       "state_code      4.947441\n",
       "region          4.947441\n",
       "title_status    0.057656\n",
       "drive           0.000000\n",
       "year            0.000000\n",
       "manufacturer    0.000000\n",
       "make            0.000000\n",
       "cylinders       0.000000\n",
       "fuel            0.000000\n",
       "odometer        0.000000\n",
       "transmission    0.000000\n",
       "size            0.000000\n",
       "type            0.000000\n",
       "weather         0.000000\n",
       "city            0.000000\n",
       "state           0.000000\n",
       "county          0.000000\n",
       "VClass          0.000000\n",
       "youSaveSpend    0.000000\n",
       "usage_yr        0.000000\n",
       "price           0.000000\n",
       "dtype: float64"
      ]
     },
     "execution_count": 161,
     "metadata": {},
     "output_type": "execute_result"
    }
   ],
   "source": [
    "((df.isnull().sum()/len(df)).sort_values(ascending = False)*100).astype(float)"
   ]
  },
  {
   "cell_type": "markdown",
   "metadata": {},
   "source": [
    "Let's drop rows with null values. I will concentrate of the US information only."
   ]
  },
  {
   "cell_type": "code",
   "execution_count": 162,
   "metadata": {},
   "outputs": [
    {
     "data": {
      "text/plain": [
       "title_status    0.060657\n",
       "division        0.000000\n",
       "region          0.000000\n",
       "year            0.000000\n",
       "manufacturer    0.000000\n",
       "make            0.000000\n",
       "cylinders       0.000000\n",
       "fuel            0.000000\n",
       "odometer        0.000000\n",
       "transmission    0.000000\n",
       "drive           0.000000\n",
       "size            0.000000\n",
       "type            0.000000\n",
       "weather         0.000000\n",
       "city            0.000000\n",
       "state           0.000000\n",
       "county          0.000000\n",
       "VClass          0.000000\n",
       "youSaveSpend    0.000000\n",
       "usage_yr        0.000000\n",
       "state_code      0.000000\n",
       "price           0.000000\n",
       "dtype: float64"
      ]
     },
     "execution_count": 162,
     "metadata": {},
     "output_type": "execute_result"
    }
   ],
   "source": [
    "df.drop(df[df['region'].isnull()].index, inplace=True)\n",
    "df.drop(df[df['make'].isnull()].index, inplace=True)\n",
    "((df.isnull().sum()/len(df)).sort_values(ascending = False)*100).astype(float)"
   ]
  },
  {
   "cell_type": "code",
   "execution_count": 163,
   "metadata": {},
   "outputs": [
    {
     "data": {
      "text/plain": [
       "Series([], Name: state, dtype: int64)"
      ]
     },
     "execution_count": 163,
     "metadata": {},
     "output_type": "execute_result"
    }
   ],
   "source": [
    "df['state'][df['county'].isnull()].value_counts()"
   ]
  },
  {
   "cell_type": "code",
   "execution_count": 164,
   "metadata": {},
   "outputs": [
    {
     "data": {
      "text/plain": [
       "    78\n",
       "Name: county, dtype: int64"
      ]
     },
     "execution_count": 164,
     "metadata": {},
     "output_type": "execute_result"
    }
   ],
   "source": [
    "df['county'][df['state_code']=='DC'].value_counts()"
   ]
  },
  {
   "cell_type": "code",
   "execution_count": 165,
   "metadata": {},
   "outputs": [
    {
     "data": {
      "text/plain": [
       "Bridgeport            285\n",
       "Rome                  220\n",
       "Bensonhurst           148\n",
       "Utica                 134\n",
       "Binghamton            125\n",
       "                     ... \n",
       "East Hills              1\n",
       "Shortsville             1\n",
       "Youngstown              1\n",
       "Washington Heights      1\n",
       "Avon                    1\n",
       "Name: city, Length: 712, dtype: int64"
      ]
     },
     "execution_count": 165,
     "metadata": {},
     "output_type": "execute_result"
    }
   ],
   "source": [
    "df['city'][(df['county'].notnull())\n",
    "                   & (df['state']=='New York')].value_counts()"
   ]
  },
  {
   "cell_type": "code",
   "execution_count": 166,
   "metadata": {},
   "outputs": [
    {
     "data": {
      "text/plain": [
       "    30\n",
       "Name: county, dtype: int64"
      ]
     },
     "execution_count": 166,
     "metadata": {},
     "output_type": "execute_result"
    }
   ],
   "source": [
    "df['county'][df['city']=='New York City'].value_counts()"
   ]
  },
  {
   "cell_type": "markdown",
   "metadata": {},
   "source": [
    "Let's drop 'county' in that 'city' and 'state' are enough location information."
   ]
  },
  {
   "cell_type": "code",
   "execution_count": 167,
   "metadata": {},
   "outputs": [],
   "source": [
    "df.drop(['county'], axis = 1, inplace=True)"
   ]
  },
  {
   "cell_type": "code",
   "execution_count": 168,
   "metadata": {},
   "outputs": [
    {
     "data": {
      "text/plain": [
       "sedan          167865\n",
       "suv            120564\n",
       "truck           68085\n",
       "pickup          47165\n",
       "coupe           35638\n",
       "hatchback       19538\n",
       "mini-van        14143\n",
       "convertible     12791\n",
       "wagon           12329\n",
       "van             10009\n",
       "other            8903\n",
       "offroad          1721\n",
       "bus               562\n",
       "Name: type, dtype: int64"
      ]
     },
     "execution_count": 168,
     "metadata": {},
     "output_type": "execute_result"
    }
   ],
   "source": [
    "df['type'].value_counts()"
   ]
  },
  {
   "cell_type": "code",
   "execution_count": 169,
   "metadata": {},
   "outputs": [
    {
     "data": {
      "text/plain": [
       "sport utility vehicle - 4wd           91117\n",
       "standard pickup trucks 4wd            90627\n",
       "midsize cars                          89866\n",
       "compact cars                          57468\n",
       "standard pickup trucks                53800\n",
       "large cars                            35246\n",
       "subcompact cars                       26692\n",
       "minivan - 2wd                         17215\n",
       "standard pickup trucks 2wd            14889\n",
       "small sport utility vehicle 4wd       11031\n",
       "two seaters                            7111\n",
       "small sport utility vehicle 2wd        6780\n",
       "small station wagons                   4752\n",
       "sport utility vehicle - 2wd            4465\n",
       "minicompact cars                       2586\n",
       "minivan - 4wd                          2387\n",
       "small pickup trucks 4wd                1374\n",
       "special purpose vehicle 2wd             890\n",
       "midsize station wagons                  294\n",
       "standard sport utility vehicle 4wd      293\n",
       "special purpose vehicles                200\n",
       "vans                                    101\n",
       "midsize-large station wagons             46\n",
       "special purpose vehicle 4wd              30\n",
       "standard sport utility vehicle 2wd       29\n",
       "small pickup trucks                      17\n",
       "vans, passenger type                      6\n",
       "small pickup trucks 2wd                   1\n",
       "Name: VClass, dtype: int64"
      ]
     },
     "execution_count": 169,
     "metadata": {},
     "output_type": "execute_result"
    }
   ],
   "source": [
    "df['VClass'].value_counts()"
   ]
  },
  {
   "cell_type": "markdown",
   "metadata": {},
   "source": [
    "Let's drop 'type', and instead 'VClass' can give more specific information of vehicles."
   ]
  },
  {
   "cell_type": "code",
   "execution_count": 170,
   "metadata": {},
   "outputs": [],
   "source": [
    "df.drop(['type'], axis = 1, inplace=True)"
   ]
  },
  {
   "cell_type": "code",
   "execution_count": 171,
   "metadata": {},
   "outputs": [
    {
     "name": "stdout",
     "output_type": "stream",
     "text": [
      "<class 'pandas.core.frame.DataFrame'>\n",
      "Int64Index: 519313 entries, 0 to 546342\n",
      "Data columns (total 20 columns):\n",
      " #   Column        Non-Null Count   Dtype  \n",
      "---  ------        --------------   -----  \n",
      " 0   price         519313 non-null  object \n",
      " 1   year          519313 non-null  int32  \n",
      " 2   manufacturer  519313 non-null  object \n",
      " 3   make          519313 non-null  object \n",
      " 4   cylinders     519313 non-null  int32  \n",
      " 5   fuel          519313 non-null  object \n",
      " 6   odometer      519313 non-null  float64\n",
      " 7   title_status  518998 non-null  object \n",
      " 8   transmission  519313 non-null  object \n",
      " 9   drive         519313 non-null  object \n",
      " 10  size          519313 non-null  object \n",
      " 11  weather       519313 non-null  float64\n",
      " 12  city          519313 non-null  object \n",
      " 13  state         519313 non-null  object \n",
      " 14  VClass        519313 non-null  object \n",
      " 15  youSaveSpend  519313 non-null  float64\n",
      " 16  usage_yr      519313 non-null  int32  \n",
      " 17  state_code    519313 non-null  object \n",
      " 18  region        519313 non-null  object \n",
      " 19  division      519313 non-null  object \n",
      "dtypes: float64(3), int32(3), object(14)\n",
      "memory usage: 97.3+ MB\n"
     ]
    }
   ],
   "source": [
    "df.info()"
   ]
  },
  {
   "cell_type": "code",
   "execution_count": 172,
   "metadata": {},
   "outputs": [],
   "source": [
    "df['weather'] = df['weather'].astype(int)\n",
    "df['youSaveSpend'] = df['youSaveSpend'].astype(int)"
   ]
  },
  {
   "cell_type": "code",
   "execution_count": 173,
   "metadata": {},
   "outputs": [
    {
     "data": {
      "text/plain": [
       "sport utility vehicle - 4wd           91117\n",
       "standard pickup trucks 4wd            90627\n",
       "midsize cars                          89866\n",
       "compact cars                          57468\n",
       "standard pickup trucks                53800\n",
       "large cars                            35246\n",
       "subcompact cars                       26692\n",
       "minivan - 2wd                         17215\n",
       "standard pickup trucks 2wd            14889\n",
       "small sport utility vehicle 4wd       11031\n",
       "two seaters                            7111\n",
       "small sport utility vehicle 2wd        6780\n",
       "small station wagons                   4752\n",
       "sport utility vehicle - 2wd            4465\n",
       "minicompact cars                       2586\n",
       "minivan - 4wd                          2387\n",
       "small pickup trucks 4wd                1374\n",
       "special purpose vehicle 2wd             890\n",
       "midsize station wagons                  294\n",
       "standard sport utility vehicle 4wd      293\n",
       "special purpose vehicles                200\n",
       "vans                                    101\n",
       "midsize-large station wagons             46\n",
       "special purpose vehicle 4wd              30\n",
       "standard sport utility vehicle 2wd       29\n",
       "small pickup trucks                      17\n",
       "vans, passenger type                      6\n",
       "small pickup trucks 2wd                   1\n",
       "Name: VClass, dtype: int64"
      ]
     },
     "execution_count": 173,
     "metadata": {},
     "output_type": "execute_result"
    }
   ],
   "source": [
    "df['VClass'].value_counts()"
   ]
  },
  {
   "cell_type": "code",
   "execution_count": 174,
   "metadata": {},
   "outputs": [
    {
     "data": {
      "text/plain": [
       "full-size      268524\n",
       "mid-size       168435\n",
       "compact         77624\n",
       "sub-compact      4730\n",
       "Name: size, dtype: int64"
      ]
     },
     "execution_count": 174,
     "metadata": {},
     "output_type": "execute_result"
    }
   ],
   "source": [
    "df['size'].value_counts()"
   ]
  },
  {
   "cell_type": "markdown",
   "metadata": {},
   "source": [
    "Let's drop 'size' because 'VClass' replace it."
   ]
  },
  {
   "cell_type": "code",
   "execution_count": 175,
   "metadata": {},
   "outputs": [],
   "source": [
    "df.drop(['size'], axis = 1, inplace=True)"
   ]
  },
  {
   "cell_type": "code",
   "execution_count": 176,
   "metadata": {},
   "outputs": [
    {
     "name": "stdout",
     "output_type": "stream",
     "text": [
      "<class 'pandas.core.frame.DataFrame'>\n",
      "Int64Index: 519313 entries, 0 to 546342\n",
      "Data columns (total 19 columns):\n",
      " #   Column        Non-Null Count   Dtype  \n",
      "---  ------        --------------   -----  \n",
      " 0   price         519313 non-null  object \n",
      " 1   year          519313 non-null  int32  \n",
      " 2   manufacturer  519313 non-null  object \n",
      " 3   make          519313 non-null  object \n",
      " 4   cylinders     519313 non-null  int32  \n",
      " 5   fuel          519313 non-null  object \n",
      " 6   odometer      519313 non-null  float64\n",
      " 7   title_status  518998 non-null  object \n",
      " 8   transmission  519313 non-null  object \n",
      " 9   drive         519313 non-null  object \n",
      " 10  weather       519313 non-null  int32  \n",
      " 11  city          519313 non-null  object \n",
      " 12  state         519313 non-null  object \n",
      " 13  VClass        519313 non-null  object \n",
      " 14  youSaveSpend  519313 non-null  int32  \n",
      " 15  usage_yr      519313 non-null  int32  \n",
      " 16  state_code    519313 non-null  object \n",
      " 17  region        519313 non-null  object \n",
      " 18  division      519313 non-null  object \n",
      "dtypes: float64(1), int32(5), object(13)\n",
      "memory usage: 89.3+ MB\n"
     ]
    }
   ],
   "source": [
    "df.info()"
   ]
  },
  {
   "cell_type": "markdown",
   "metadata": {},
   "source": [
    "Let's drop some features in order to make the dataset lighter."
   ]
  },
  {
   "cell_type": "code",
   "execution_count": 177,
   "metadata": {},
   "outputs": [],
   "source": [
    "#df.drop(['division'], axis = 1, inplace=True)\n",
    "df.drop(['state_code'], axis = 1, inplace=True)\n",
    "df.drop(['state'], axis = 1, inplace=True)\n",
    "df.drop(['city'], axis = 1, inplace=True)\n",
    "#df.drop(['manufacturer'], axis = 1, inplace=True)\n",
    "df.drop(['make'], axis = 1, inplace=True)\n",
    "df.drop(['year'], axis = 1, inplace=True)"
   ]
  },
  {
   "cell_type": "code",
   "execution_count": null,
   "metadata": {},
   "outputs": [],
   "source": []
  },
  {
   "cell_type": "code",
   "execution_count": null,
   "metadata": {},
   "outputs": [],
   "source": []
  },
  {
   "cell_type": "code",
   "execution_count": null,
   "metadata": {},
   "outputs": [],
   "source": []
  },
  {
   "cell_type": "code",
   "execution_count": null,
   "metadata": {},
   "outputs": [],
   "source": []
  },
  {
   "cell_type": "code",
   "execution_count": null,
   "metadata": {},
   "outputs": [],
   "source": []
  },
  {
   "cell_type": "code",
   "execution_count": 178,
   "metadata": {},
   "outputs": [],
   "source": [
    "df.to_csv('UsedCarSellingInfoCraigslist_Normalized.csv') "
   ]
  },
  {
   "cell_type": "markdown",
   "metadata": {
    "scrolled": true
   },
   "source": [
    "df['usage_yr'].hist()"
   ]
  },
  {
   "cell_type": "markdown",
   "metadata": {},
   "source": [
    "df['price']=df['price'].astype(int)"
   ]
  },
  {
   "cell_type": "markdown",
   "metadata": {},
   "source": [
    "df['odometer']=df['odometer'].astype(int)"
   ]
  },
  {
   "cell_type": "markdown",
   "metadata": {
    "scrolled": true
   },
   "source": [
    "df['weather']=df['weather'].astype(float)"
   ]
  },
  {
   "cell_type": "markdown",
   "metadata": {},
   "source": [
    "df['weather'].hist()"
   ]
  },
  {
   "cell_type": "markdown",
   "metadata": {},
   "source": [
    "df['odometer'].hist()"
   ]
  },
  {
   "cell_type": "markdown",
   "metadata": {},
   "source": [
    "df['make'][df['odometer']==0].value_counts()"
   ]
  },
  {
   "cell_type": "markdown",
   "metadata": {},
   "source": [
    "df['title_status'][df['odometer']==0].value_counts()"
   ]
  },
  {
   "cell_type": "code",
   "execution_count": null,
   "metadata": {},
   "outputs": [],
   "source": []
  },
  {
   "cell_type": "code",
   "execution_count": null,
   "metadata": {},
   "outputs": [],
   "source": []
  },
  {
   "cell_type": "code",
   "execution_count": null,
   "metadata": {},
   "outputs": [],
   "source": []
  },
  {
   "cell_type": "markdown",
   "metadata": {},
   "source": [
    "import seaborn as sns\n",
    "corr = df.corr()\n",
    "ax = sns.heatmap(\n",
    "    corr, \n",
    "    vmin=-1, vmax=1, center=0,\n",
    "    cmap=sns.diverging_palette(20, 220, n=200),\n",
    "    square=True\n",
    ")\n",
    "ax.set_xticklabels(\n",
    "    ax.get_xticklabels(),\n",
    "    rotation=45,\n",
    "    horizontalalignment='right'\n",
    ");"
   ]
  },
  {
   "cell_type": "code",
   "execution_count": null,
   "metadata": {},
   "outputs": [],
   "source": []
  },
  {
   "cell_type": "code",
   "execution_count": null,
   "metadata": {},
   "outputs": [],
   "source": []
  },
  {
   "cell_type": "code",
   "execution_count": null,
   "metadata": {},
   "outputs": [],
   "source": []
  },
  {
   "cell_type": "code",
   "execution_count": null,
   "metadata": {},
   "outputs": [],
   "source": []
  },
  {
   "cell_type": "code",
   "execution_count": null,
   "metadata": {},
   "outputs": [],
   "source": []
  },
  {
   "cell_type": "code",
   "execution_count": null,
   "metadata": {},
   "outputs": [],
   "source": []
  },
  {
   "cell_type": "code",
   "execution_count": null,
   "metadata": {},
   "outputs": [],
   "source": []
  },
  {
   "cell_type": "code",
   "execution_count": null,
   "metadata": {},
   "outputs": [],
   "source": []
  },
  {
   "cell_type": "code",
   "execution_count": null,
   "metadata": {},
   "outputs": [],
   "source": []
  },
  {
   "cell_type": "code",
   "execution_count": null,
   "metadata": {},
   "outputs": [],
   "source": []
  },
  {
   "cell_type": "code",
   "execution_count": null,
   "metadata": {},
   "outputs": [],
   "source": []
  },
  {
   "cell_type": "code",
   "execution_count": null,
   "metadata": {},
   "outputs": [],
   "source": []
  },
  {
   "cell_type": "code",
   "execution_count": null,
   "metadata": {},
   "outputs": [],
   "source": []
  },
  {
   "cell_type": "code",
   "execution_count": null,
   "metadata": {},
   "outputs": [],
   "source": []
  },
  {
   "cell_type": "code",
   "execution_count": null,
   "metadata": {},
   "outputs": [],
   "source": []
  },
  {
   "cell_type": "code",
   "execution_count": null,
   "metadata": {},
   "outputs": [],
   "source": []
  },
  {
   "cell_type": "code",
   "execution_count": null,
   "metadata": {},
   "outputs": [],
   "source": []
  },
  {
   "cell_type": "code",
   "execution_count": null,
   "metadata": {},
   "outputs": [],
   "source": []
  }
 ],
 "metadata": {
  "kernelspec": {
   "display_name": "Python 3",
   "language": "python",
   "name": "python3"
  },
  "language_info": {
   "codemirror_mode": {
    "name": "ipython",
    "version": 3
   },
   "file_extension": ".py",
   "mimetype": "text/x-python",
   "name": "python",
   "nbconvert_exporter": "python",
   "pygments_lexer": "ipython3",
   "version": "3.7.9"
  }
 },
 "nbformat": 4,
 "nbformat_minor": 2
}
