{
 "cells": [
  {
   "cell_type": "markdown",
   "metadata": {},
   "source": [
    "# Import Data (csv file)"
   ]
  },
  {
   "cell_type": "code",
   "execution_count": 1,
   "metadata": {},
   "outputs": [
    {
     "name": "stderr",
     "output_type": "stream",
     "text": [
      "C:\\Users\\danie\\Anaconda\\lib\\site-packages\\IPython\\core\\interactiveshell.py:3063: DtypeWarning: Columns (2,3) have mixed types.Specify dtype option on import or set low_memory=False.\n",
      "  interactivity=interactivity, compiler=compiler, result=result)\n"
     ]
    }
   ],
   "source": [
    "import pandas as pd\n",
    "import numpy as np\n",
    "import time\n",
    "pd.set_option('display.max_rows', 500)\n",
    "pd.set_option('display.max_columns', 500)\n",
    "\n",
    "df = pd.read_csv(\"craigslistVehiclesFull.csv\", encoding='latin-1')"
   ]
  },
  {
   "cell_type": "markdown",
   "metadata": {},
   "source": [
    "# Inspect Data"
   ]
  },
  {
   "cell_type": "code",
   "execution_count": 2,
   "metadata": {},
   "outputs": [
    {
     "data": {
      "text/html": [
       "<div>\n",
       "<style scoped>\n",
       "    .dataframe tbody tr th:only-of-type {\n",
       "        vertical-align: middle;\n",
       "    }\n",
       "\n",
       "    .dataframe tbody tr th {\n",
       "        vertical-align: top;\n",
       "    }\n",
       "\n",
       "    .dataframe thead th {\n",
       "        text-align: right;\n",
       "    }\n",
       "</style>\n",
       "<table border=\"1\" class=\"dataframe\">\n",
       "  <thead>\n",
       "    <tr style=\"text-align: right;\">\n",
       "      <th></th>\n",
       "      <th>url</th>\n",
       "      <th>city</th>\n",
       "      <th>price</th>\n",
       "      <th>year</th>\n",
       "      <th>manufacturer</th>\n",
       "      <th>make</th>\n",
       "      <th>condition</th>\n",
       "      <th>cylinders</th>\n",
       "      <th>fuel</th>\n",
       "      <th>odometer</th>\n",
       "      <th>title_status</th>\n",
       "      <th>transmission</th>\n",
       "      <th>vin</th>\n",
       "      <th>drive</th>\n",
       "      <th>size</th>\n",
       "      <th>type</th>\n",
       "      <th>paint_color</th>\n",
       "      <th>image_url</th>\n",
       "      <th>lat</th>\n",
       "      <th>long</th>\n",
       "      <th>county_fips</th>\n",
       "      <th>county_name</th>\n",
       "      <th>state_fips</th>\n",
       "      <th>state_code</th>\n",
       "      <th>state_name</th>\n",
       "      <th>weather</th>\n",
       "    </tr>\n",
       "  </thead>\n",
       "  <tbody>\n",
       "    <tr>\n",
       "      <th>0</th>\n",
       "      <td>https://marshall.craigslist.org/cto/d/2010-dod...</td>\n",
       "      <td>marshall</td>\n",
       "      <td>11900</td>\n",
       "      <td>2010</td>\n",
       "      <td>dodge</td>\n",
       "      <td>challenger se</td>\n",
       "      <td>good</td>\n",
       "      <td>6 cylinders</td>\n",
       "      <td>gas</td>\n",
       "      <td>43600.0</td>\n",
       "      <td>clean</td>\n",
       "      <td>automatic</td>\n",
       "      <td>NaN</td>\n",
       "      <td>rwd</td>\n",
       "      <td>NaN</td>\n",
       "      <td>coupe</td>\n",
       "      <td>red</td>\n",
       "      <td>https://images.craigslist.org/00i0i_2ggH1eKDNK...</td>\n",
       "      <td>43.4775</td>\n",
       "      <td>-96.7041</td>\n",
       "      <td>46083.0</td>\n",
       "      <td>Lincoln</td>\n",
       "      <td>46.0</td>\n",
       "      <td>SD</td>\n",
       "      <td>South Dakota</td>\n",
       "      <td>38.0</td>\n",
       "    </tr>\n",
       "    <tr>\n",
       "      <th>1</th>\n",
       "      <td>https://marshall.craigslist.org/cto/d/fleetwoo...</td>\n",
       "      <td>marshall</td>\n",
       "      <td>1515</td>\n",
       "      <td>1999</td>\n",
       "      <td>NaN</td>\n",
       "      <td>fleetwood</td>\n",
       "      <td>NaN</td>\n",
       "      <td>NaN</td>\n",
       "      <td>gas</td>\n",
       "      <td>NaN</td>\n",
       "      <td>clean</td>\n",
       "      <td>other</td>\n",
       "      <td>NaN</td>\n",
       "      <td>NaN</td>\n",
       "      <td>NaN</td>\n",
       "      <td>NaN</td>\n",
       "      <td>NaN</td>\n",
       "      <td>https://images.craigslist.org/00M0M_irjh7SjEcU...</td>\n",
       "      <td>44.7612</td>\n",
       "      <td>-96.6907</td>\n",
       "      <td>46039.0</td>\n",
       "      <td>Deuel</td>\n",
       "      <td>46.0</td>\n",
       "      <td>SD</td>\n",
       "      <td>South Dakota</td>\n",
       "      <td>38.0</td>\n",
       "    </tr>\n",
       "    <tr>\n",
       "      <th>2</th>\n",
       "      <td>https://marshall.craigslist.org/cto/d/2008-for...</td>\n",
       "      <td>marshall</td>\n",
       "      <td>17550</td>\n",
       "      <td>2008</td>\n",
       "      <td>ford</td>\n",
       "      <td>f-150</td>\n",
       "      <td>NaN</td>\n",
       "      <td>NaN</td>\n",
       "      <td>gas</td>\n",
       "      <td>NaN</td>\n",
       "      <td>clean</td>\n",
       "      <td>automatic</td>\n",
       "      <td>NaN</td>\n",
       "      <td>NaN</td>\n",
       "      <td>NaN</td>\n",
       "      <td>NaN</td>\n",
       "      <td>NaN</td>\n",
       "      <td>https://images.craigslist.org/00s0s_eL2XFhEUcx...</td>\n",
       "      <td>44.1415</td>\n",
       "      <td>-103.2052</td>\n",
       "      <td>46093.0</td>\n",
       "      <td>Meade</td>\n",
       "      <td>46.0</td>\n",
       "      <td>SD</td>\n",
       "      <td>South Dakota</td>\n",
       "      <td>38.0</td>\n",
       "    </tr>\n",
       "    <tr>\n",
       "      <th>3</th>\n",
       "      <td>https://marshall.craigslist.org/cto/d/ford-tau...</td>\n",
       "      <td>marshall</td>\n",
       "      <td>2800</td>\n",
       "      <td>2004</td>\n",
       "      <td>ford</td>\n",
       "      <td>taurus</td>\n",
       "      <td>good</td>\n",
       "      <td>6 cylinders</td>\n",
       "      <td>gas</td>\n",
       "      <td>168591.0</td>\n",
       "      <td>clean</td>\n",
       "      <td>automatic</td>\n",
       "      <td>1FAFP55UO4G113464</td>\n",
       "      <td>fwd</td>\n",
       "      <td>full-size</td>\n",
       "      <td>sedan</td>\n",
       "      <td>grey</td>\n",
       "      <td>https://images.craigslist.org/00L0L_5HUR1nQjt8...</td>\n",
       "      <td>43.2845</td>\n",
       "      <td>-95.5930</td>\n",
       "      <td>19143.0</td>\n",
       "      <td>Osceola</td>\n",
       "      <td>19.0</td>\n",
       "      <td>IA</td>\n",
       "      <td>Iowa</td>\n",
       "      <td>47.0</td>\n",
       "    </tr>\n",
       "    <tr>\n",
       "      <th>4</th>\n",
       "      <td>https://marshall.craigslist.org/cto/d/2001-gra...</td>\n",
       "      <td>marshall</td>\n",
       "      <td>400</td>\n",
       "      <td>2001</td>\n",
       "      <td>NaN</td>\n",
       "      <td>2001 Grand Prix</td>\n",
       "      <td>NaN</td>\n",
       "      <td>NaN</td>\n",
       "      <td>gas</td>\n",
       "      <td>217000.0</td>\n",
       "      <td>clean</td>\n",
       "      <td>automatic</td>\n",
       "      <td>NaN</td>\n",
       "      <td>NaN</td>\n",
       "      <td>NaN</td>\n",
       "      <td>NaN</td>\n",
       "      <td>NaN</td>\n",
       "      <td>https://images.craigslist.org/00n0n_bJJ1XnonSG...</td>\n",
       "      <td>43.0261</td>\n",
       "      <td>-94.4064</td>\n",
       "      <td>19109.0</td>\n",
       "      <td>Kossuth</td>\n",
       "      <td>19.0</td>\n",
       "      <td>IA</td>\n",
       "      <td>Iowa</td>\n",
       "      <td>47.0</td>\n",
       "    </tr>\n",
       "  </tbody>\n",
       "</table>\n",
       "</div>"
      ],
      "text/plain": [
       "                                                 url      city  price  year  \\\n",
       "0  https://marshall.craigslist.org/cto/d/2010-dod...  marshall  11900  2010   \n",
       "1  https://marshall.craigslist.org/cto/d/fleetwoo...  marshall   1515  1999   \n",
       "2  https://marshall.craigslist.org/cto/d/2008-for...  marshall  17550  2008   \n",
       "3  https://marshall.craigslist.org/cto/d/ford-tau...  marshall   2800  2004   \n",
       "4  https://marshall.craigslist.org/cto/d/2001-gra...  marshall    400  2001   \n",
       "\n",
       "  manufacturer             make condition    cylinders fuel  odometer  \\\n",
       "0        dodge    challenger se      good  6 cylinders  gas   43600.0   \n",
       "1          NaN        fleetwood       NaN          NaN  gas       NaN   \n",
       "2         ford            f-150       NaN          NaN  gas       NaN   \n",
       "3         ford           taurus      good  6 cylinders  gas  168591.0   \n",
       "4          NaN  2001 Grand Prix       NaN          NaN  gas  217000.0   \n",
       "\n",
       "  title_status transmission                vin drive       size   type  \\\n",
       "0        clean    automatic                NaN   rwd        NaN  coupe   \n",
       "1        clean        other                NaN   NaN        NaN    NaN   \n",
       "2        clean    automatic                NaN   NaN        NaN    NaN   \n",
       "3        clean    automatic  1FAFP55UO4G113464   fwd  full-size  sedan   \n",
       "4        clean    automatic                NaN   NaN        NaN    NaN   \n",
       "\n",
       "  paint_color                                          image_url      lat  \\\n",
       "0         red  https://images.craigslist.org/00i0i_2ggH1eKDNK...  43.4775   \n",
       "1         NaN  https://images.craigslist.org/00M0M_irjh7SjEcU...  44.7612   \n",
       "2         NaN  https://images.craigslist.org/00s0s_eL2XFhEUcx...  44.1415   \n",
       "3        grey  https://images.craigslist.org/00L0L_5HUR1nQjt8...  43.2845   \n",
       "4         NaN  https://images.craigslist.org/00n0n_bJJ1XnonSG...  43.0261   \n",
       "\n",
       "       long  county_fips county_name  state_fips state_code    state_name  \\\n",
       "0  -96.7041      46083.0     Lincoln        46.0         SD  South Dakota   \n",
       "1  -96.6907      46039.0       Deuel        46.0         SD  South Dakota   \n",
       "2 -103.2052      46093.0       Meade        46.0         SD  South Dakota   \n",
       "3  -95.5930      19143.0     Osceola        19.0         IA          Iowa   \n",
       "4  -94.4064      19109.0     Kossuth        19.0         IA          Iowa   \n",
       "\n",
       "   weather  \n",
       "0     38.0  \n",
       "1     38.0  \n",
       "2     38.0  \n",
       "3     47.0  \n",
       "4     47.0  "
      ]
     },
     "execution_count": 2,
     "metadata": {},
     "output_type": "execute_result"
    }
   ],
   "source": [
    "df.head()"
   ]
  },
  {
   "cell_type": "code",
   "execution_count": 3,
   "metadata": {},
   "outputs": [
    {
     "data": {
      "text/html": [
       "<div>\n",
       "<style scoped>\n",
       "    .dataframe tbody tr th:only-of-type {\n",
       "        vertical-align: middle;\n",
       "    }\n",
       "\n",
       "    .dataframe tbody tr th {\n",
       "        vertical-align: top;\n",
       "    }\n",
       "\n",
       "    .dataframe thead th {\n",
       "        text-align: right;\n",
       "    }\n",
       "</style>\n",
       "<table border=\"1\" class=\"dataframe\">\n",
       "  <thead>\n",
       "    <tr style=\"text-align: right;\">\n",
       "      <th></th>\n",
       "      <th>url</th>\n",
       "      <th>city</th>\n",
       "      <th>price</th>\n",
       "      <th>year</th>\n",
       "      <th>manufacturer</th>\n",
       "      <th>make</th>\n",
       "      <th>condition</th>\n",
       "      <th>cylinders</th>\n",
       "      <th>fuel</th>\n",
       "      <th>odometer</th>\n",
       "      <th>title_status</th>\n",
       "      <th>transmission</th>\n",
       "      <th>vin</th>\n",
       "      <th>drive</th>\n",
       "      <th>size</th>\n",
       "      <th>type</th>\n",
       "      <th>paint_color</th>\n",
       "      <th>image_url</th>\n",
       "      <th>lat</th>\n",
       "      <th>long</th>\n",
       "      <th>county_fips</th>\n",
       "      <th>county_name</th>\n",
       "      <th>state_fips</th>\n",
       "      <th>state_code</th>\n",
       "      <th>state_name</th>\n",
       "      <th>weather</th>\n",
       "    </tr>\n",
       "  </thead>\n",
       "  <tbody>\n",
       "    <tr>\n",
       "      <th>1049195</th>\n",
       "      <td>https://topeka.craigslist.org/ctd/d/2006-chevr...</td>\n",
       "      <td>topeka</td>\n",
       "      <td>7995</td>\n",
       "      <td>2006</td>\n",
       "      <td>chevrolet</td>\n",
       "      <td>silverado 2500 hd crew</td>\n",
       "      <td>NaN</td>\n",
       "      <td>NaN</td>\n",
       "      <td>gas</td>\n",
       "      <td>NaN</td>\n",
       "      <td>clean</td>\n",
       "      <td>automatic</td>\n",
       "      <td>1GCHC23U06F138406</td>\n",
       "      <td>NaN</td>\n",
       "      <td>NaN</td>\n",
       "      <td>NaN</td>\n",
       "      <td>NaN</td>\n",
       "      <td>https://images.craigslist.org/00A0A_l1r21OrSdJ...</td>\n",
       "      <td>38.6419</td>\n",
       "      <td>-94.3285</td>\n",
       "      <td>29037.0</td>\n",
       "      <td>Cass/Van Buren</td>\n",
       "      <td>29.0</td>\n",
       "      <td>MO</td>\n",
       "      <td>Missouri</td>\n",
       "      <td>52.0</td>\n",
       "    </tr>\n",
       "    <tr>\n",
       "      <th>1049196</th>\n",
       "      <td>https://westky.craigslist.org/cto/d/2008-acura...</td>\n",
       "      <td>westky</td>\n",
       "      <td>10900</td>\n",
       "      <td>2008</td>\n",
       "      <td>acura</td>\n",
       "      <td>tl</td>\n",
       "      <td>NaN</td>\n",
       "      <td>NaN</td>\n",
       "      <td>gas</td>\n",
       "      <td>NaN</td>\n",
       "      <td>clean</td>\n",
       "      <td>automatic</td>\n",
       "      <td>NaN</td>\n",
       "      <td>NaN</td>\n",
       "      <td>NaN</td>\n",
       "      <td>NaN</td>\n",
       "      <td>NaN</td>\n",
       "      <td>https://images.craigslist.org/00606_hGCTgk1rVL...</td>\n",
       "      <td>37.3879</td>\n",
       "      <td>-89.6519</td>\n",
       "      <td>29031.0</td>\n",
       "      <td>Cape Girardeau</td>\n",
       "      <td>29.0</td>\n",
       "      <td>MO</td>\n",
       "      <td>Missouri</td>\n",
       "      <td>52.0</td>\n",
       "    </tr>\n",
       "    <tr>\n",
       "      <th>1049197</th>\n",
       "      <td>https://jacksonville.craigslist.org/cto/d/dump...</td>\n",
       "      <td>jacksonville</td>\n",
       "      <td>40000</td>\n",
       "      <td>2006</td>\n",
       "      <td>ford</td>\n",
       "      <td>sterling</td>\n",
       "      <td>excellent</td>\n",
       "      <td>other</td>\n",
       "      <td>diesel</td>\n",
       "      <td>350000.0</td>\n",
       "      <td>clean</td>\n",
       "      <td>manual</td>\n",
       "      <td>NaN</td>\n",
       "      <td>NaN</td>\n",
       "      <td>full-size</td>\n",
       "      <td>truck</td>\n",
       "      <td>red</td>\n",
       "      <td>https://images.craigslist.org/00f0f_gohYgKDsQZ...</td>\n",
       "      <td>38.7071</td>\n",
       "      <td>-90.3055</td>\n",
       "      <td>29189.0</td>\n",
       "      <td>St. Louis</td>\n",
       "      <td>29.0</td>\n",
       "      <td>MO</td>\n",
       "      <td>Missouri</td>\n",
       "      <td>52.0</td>\n",
       "    </tr>\n",
       "    <tr>\n",
       "      <th>1049198</th>\n",
       "      <td>https://quadcities.craigslist.org/ctd/d/sweet-...</td>\n",
       "      <td>quadcities</td>\n",
       "      <td>6995</td>\n",
       "      <td>2007</td>\n",
       "      <td>ram</td>\n",
       "      <td>1500</td>\n",
       "      <td>NaN</td>\n",
       "      <td>NaN</td>\n",
       "      <td>gas</td>\n",
       "      <td>197936.0</td>\n",
       "      <td>clean</td>\n",
       "      <td>manual</td>\n",
       "      <td>1D7HU18227S220778</td>\n",
       "      <td>NaN</td>\n",
       "      <td>NaN</td>\n",
       "      <td>NaN</td>\n",
       "      <td>NaN</td>\n",
       "      <td>https://images.craigslist.org/00k0k_6qBvHCzjn2...</td>\n",
       "      <td>38.9482</td>\n",
       "      <td>-90.9138</td>\n",
       "      <td>29113.0</td>\n",
       "      <td>Lincoln</td>\n",
       "      <td>29.0</td>\n",
       "      <td>MO</td>\n",
       "      <td>Missouri</td>\n",
       "      <td>52.0</td>\n",
       "    </tr>\n",
       "    <tr>\n",
       "      <th>1049199</th>\n",
       "      <td>https://quadcities.craigslist.org/cto/d/04-gmc...</td>\n",
       "      <td>quadcities</td>\n",
       "      <td>12345</td>\n",
       "      <td>2004</td>\n",
       "      <td>gmc</td>\n",
       "      <td>canyon yz450</td>\n",
       "      <td>NaN</td>\n",
       "      <td>5 cylinders</td>\n",
       "      <td>gas</td>\n",
       "      <td>NaN</td>\n",
       "      <td>clean</td>\n",
       "      <td>automatic</td>\n",
       "      <td>NaN</td>\n",
       "      <td>NaN</td>\n",
       "      <td>NaN</td>\n",
       "      <td>NaN</td>\n",
       "      <td>NaN</td>\n",
       "      <td>https://images.craigslist.org/00y0y_g0Nj6JXaie...</td>\n",
       "      <td>40.4619</td>\n",
       "      <td>-92.1851</td>\n",
       "      <td>29199.0</td>\n",
       "      <td>Scotland</td>\n",
       "      <td>29.0</td>\n",
       "      <td>MO</td>\n",
       "      <td>Missouri</td>\n",
       "      <td>52.0</td>\n",
       "    </tr>\n",
       "  </tbody>\n",
       "</table>\n",
       "</div>"
      ],
      "text/plain": [
       "                                                       url          city  \\\n",
       "1049195  https://topeka.craigslist.org/ctd/d/2006-chevr...        topeka   \n",
       "1049196  https://westky.craigslist.org/cto/d/2008-acura...        westky   \n",
       "1049197  https://jacksonville.craigslist.org/cto/d/dump...  jacksonville   \n",
       "1049198  https://quadcities.craigslist.org/ctd/d/sweet-...    quadcities   \n",
       "1049199  https://quadcities.craigslist.org/cto/d/04-gmc...    quadcities   \n",
       "\n",
       "         price  year manufacturer                    make  condition  \\\n",
       "1049195   7995  2006    chevrolet  silverado 2500 hd crew        NaN   \n",
       "1049196  10900  2008        acura                      tl        NaN   \n",
       "1049197  40000  2006         ford                sterling  excellent   \n",
       "1049198   6995  2007          ram                    1500        NaN   \n",
       "1049199  12345  2004          gmc            canyon yz450        NaN   \n",
       "\n",
       "           cylinders    fuel  odometer title_status transmission  \\\n",
       "1049195          NaN     gas       NaN        clean    automatic   \n",
       "1049196          NaN     gas       NaN        clean    automatic   \n",
       "1049197        other  diesel  350000.0        clean       manual   \n",
       "1049198          NaN     gas  197936.0        clean       manual   \n",
       "1049199  5 cylinders     gas       NaN        clean    automatic   \n",
       "\n",
       "                       vin drive       size   type paint_color  \\\n",
       "1049195  1GCHC23U06F138406   NaN        NaN    NaN         NaN   \n",
       "1049196                NaN   NaN        NaN    NaN         NaN   \n",
       "1049197                NaN   NaN  full-size  truck         red   \n",
       "1049198  1D7HU18227S220778   NaN        NaN    NaN         NaN   \n",
       "1049199                NaN   NaN        NaN    NaN         NaN   \n",
       "\n",
       "                                                 image_url      lat     long  \\\n",
       "1049195  https://images.craigslist.org/00A0A_l1r21OrSdJ...  38.6419 -94.3285   \n",
       "1049196  https://images.craigslist.org/00606_hGCTgk1rVL...  37.3879 -89.6519   \n",
       "1049197  https://images.craigslist.org/00f0f_gohYgKDsQZ...  38.7071 -90.3055   \n",
       "1049198  https://images.craigslist.org/00k0k_6qBvHCzjn2...  38.9482 -90.9138   \n",
       "1049199  https://images.craigslist.org/00y0y_g0Nj6JXaie...  40.4619 -92.1851   \n",
       "\n",
       "         county_fips     county_name  state_fips state_code state_name  \\\n",
       "1049195      29037.0  Cass/Van Buren        29.0         MO   Missouri   \n",
       "1049196      29031.0  Cape Girardeau        29.0         MO   Missouri   \n",
       "1049197      29189.0       St. Louis        29.0         MO   Missouri   \n",
       "1049198      29113.0         Lincoln        29.0         MO   Missouri   \n",
       "1049199      29199.0        Scotland        29.0         MO   Missouri   \n",
       "\n",
       "         weather  \n",
       "1049195     52.0  \n",
       "1049196     52.0  \n",
       "1049197     52.0  \n",
       "1049198     52.0  \n",
       "1049199     52.0  "
      ]
     },
     "execution_count": 3,
     "metadata": {},
     "output_type": "execute_result"
    }
   ],
   "source": [
    "df.tail()"
   ]
  },
  {
   "cell_type": "code",
   "execution_count": 4,
   "metadata": {},
   "outputs": [
    {
     "data": {
      "text/plain": [
       "Index(['url', 'city', 'price', 'year', 'manufacturer', 'make', 'condition',\n",
       "       'cylinders', 'fuel', 'odometer', 'title_status', 'transmission', 'vin',\n",
       "       'drive', 'size', 'type', 'paint_color', 'image_url', 'lat', 'long',\n",
       "       'county_fips', 'county_name', 'state_fips', 'state_code', 'state_name',\n",
       "       'weather'],\n",
       "      dtype='object')"
      ]
     },
     "execution_count": 4,
     "metadata": {},
     "output_type": "execute_result"
    }
   ],
   "source": [
    "df.columns"
   ]
  },
  {
   "cell_type": "code",
   "execution_count": 5,
   "metadata": {},
   "outputs": [
    {
     "name": "stdout",
     "output_type": "stream",
     "text": [
      "<class 'pandas.core.frame.DataFrame'>\n",
      "RangeIndex: 1049200 entries, 0 to 1049199\n",
      "Data columns (total 26 columns):\n",
      " #   Column        Non-Null Count    Dtype  \n",
      "---  ------        --------------    -----  \n",
      " 0   url           1049199 non-null  object \n",
      " 1   city          1048559 non-null  object \n",
      " 2   price         1048535 non-null  object \n",
      " 3   year          1047014 non-null  object \n",
      " 4   manufacturer  964568 non-null   object \n",
      " 5   make          1005318 non-null  object \n",
      " 6   condition     615062 non-null   object \n",
      " 7   cylinders     621193 non-null   object \n",
      " 8   fuel          1042054 non-null  object \n",
      " 9   odometer      705601 non-null   float64\n",
      " 10  title_status  1046971 non-null  object \n",
      " 11  transmission  1042699 non-null  object \n",
      " 12  vin           367156 non-null   object \n",
      " 13  drive         645697 non-null   object \n",
      " 14  size          358029 non-null   object \n",
      " 15  type          614919 non-null   object \n",
      " 16  paint_color   617962 non-null   object \n",
      " 17  image_url     1048519 non-null  object \n",
      " 18  lat           1048519 non-null  float64\n",
      " 19  long          1048519 non-null  float64\n",
      " 20  county_fips   990178 non-null   float64\n",
      " 21  county_name   990178 non-null   object \n",
      " 22  state_fips    990178 non-null   float64\n",
      " 23  state_code    990178 non-null   object \n",
      " 24  state_name    1048519 non-null  object \n",
      " 25  weather       989582 non-null   float64\n",
      "dtypes: float64(6), object(20)\n",
      "memory usage: 208.1+ MB\n"
     ]
    }
   ],
   "source": [
    "df.info()"
   ]
  },
  {
   "cell_type": "code",
   "execution_count": 6,
   "metadata": {},
   "outputs": [
    {
     "data": {
      "text/html": [
       "<div>\n",
       "<style scoped>\n",
       "    .dataframe tbody tr th:only-of-type {\n",
       "        vertical-align: middle;\n",
       "    }\n",
       "\n",
       "    .dataframe tbody tr th {\n",
       "        vertical-align: top;\n",
       "    }\n",
       "\n",
       "    .dataframe thead th {\n",
       "        text-align: right;\n",
       "    }\n",
       "</style>\n",
       "<table border=\"1\" class=\"dataframe\">\n",
       "  <thead>\n",
       "    <tr style=\"text-align: right;\">\n",
       "      <th></th>\n",
       "      <th>odometer</th>\n",
       "      <th>lat</th>\n",
       "      <th>long</th>\n",
       "      <th>county_fips</th>\n",
       "      <th>state_fips</th>\n",
       "      <th>weather</th>\n",
       "    </tr>\n",
       "  </thead>\n",
       "  <tbody>\n",
       "    <tr>\n",
       "      <th>count</th>\n",
       "      <td>7.056010e+05</td>\n",
       "      <td>1.048519e+06</td>\n",
       "      <td>1.048519e+06</td>\n",
       "      <td>990178.000000</td>\n",
       "      <td>990178.000000</td>\n",
       "      <td>989582.000000</td>\n",
       "    </tr>\n",
       "    <tr>\n",
       "      <th>mean</th>\n",
       "      <td>1.138255e+05</td>\n",
       "      <td>3.967305e+01</td>\n",
       "      <td>-9.609864e+01</td>\n",
       "      <td>24775.443619</td>\n",
       "      <td>24.704956</td>\n",
       "      <td>53.022543</td>\n",
       "    </tr>\n",
       "    <tr>\n",
       "      <th>std</th>\n",
       "      <td>1.316380e+05</td>\n",
       "      <td>5.692429e+00</td>\n",
       "      <td>1.860790e+01</td>\n",
       "      <td>15579.137290</td>\n",
       "      <td>15.569437</td>\n",
       "      <td>7.605096</td>\n",
       "    </tr>\n",
       "    <tr>\n",
       "      <th>min</th>\n",
       "      <td>0.000000e+00</td>\n",
       "      <td>-8.481005e+01</td>\n",
       "      <td>-1.000000e+03</td>\n",
       "      <td>1001.000000</td>\n",
       "      <td>1.000000</td>\n",
       "      <td>29.000000</td>\n",
       "    </tr>\n",
       "    <tr>\n",
       "      <th>25%</th>\n",
       "      <td>5.800000e+04</td>\n",
       "      <td>3.551126e+01</td>\n",
       "      <td>-1.171445e+02</td>\n",
       "      <td>8005.000000</td>\n",
       "      <td>8.000000</td>\n",
       "      <td>48.000000</td>\n",
       "    </tr>\n",
       "    <tr>\n",
       "      <th>50%</th>\n",
       "      <td>1.070260e+05</td>\n",
       "      <td>3.990460e+01</td>\n",
       "      <td>-9.041660e+01</td>\n",
       "      <td>26055.000000</td>\n",
       "      <td>26.000000</td>\n",
       "      <td>52.000000</td>\n",
       "    </tr>\n",
       "    <tr>\n",
       "      <th>75%</th>\n",
       "      <td>1.530000e+05</td>\n",
       "      <td>4.267304e+01</td>\n",
       "      <td>-8.154935e+01</td>\n",
       "      <td>39151.000000</td>\n",
       "      <td>39.000000</td>\n",
       "      <td>59.000000</td>\n",
       "    </tr>\n",
       "    <tr>\n",
       "      <th>max</th>\n",
       "      <td>1.000000e+07</td>\n",
       "      <td>9.000000e+01</td>\n",
       "      <td>1.397061e+02</td>\n",
       "      <td>56045.000000</td>\n",
       "      <td>56.000000</td>\n",
       "      <td>79.000000</td>\n",
       "    </tr>\n",
       "  </tbody>\n",
       "</table>\n",
       "</div>"
      ],
      "text/plain": [
       "           odometer           lat          long    county_fips     state_fips  \\\n",
       "count  7.056010e+05  1.048519e+06  1.048519e+06  990178.000000  990178.000000   \n",
       "mean   1.138255e+05  3.967305e+01 -9.609864e+01   24775.443619      24.704956   \n",
       "std    1.316380e+05  5.692429e+00  1.860790e+01   15579.137290      15.569437   \n",
       "min    0.000000e+00 -8.481005e+01 -1.000000e+03    1001.000000       1.000000   \n",
       "25%    5.800000e+04  3.551126e+01 -1.171445e+02    8005.000000       8.000000   \n",
       "50%    1.070260e+05  3.990460e+01 -9.041660e+01   26055.000000      26.000000   \n",
       "75%    1.530000e+05  4.267304e+01 -8.154935e+01   39151.000000      39.000000   \n",
       "max    1.000000e+07  9.000000e+01  1.397061e+02   56045.000000      56.000000   \n",
       "\n",
       "             weather  \n",
       "count  989582.000000  \n",
       "mean       53.022543  \n",
       "std         7.605096  \n",
       "min        29.000000  \n",
       "25%        48.000000  \n",
       "50%        52.000000  \n",
       "75%        59.000000  \n",
       "max        79.000000  "
      ]
     },
     "execution_count": 6,
     "metadata": {},
     "output_type": "execute_result"
    }
   ],
   "source": [
    "df.describe()"
   ]
  },
  {
   "cell_type": "code",
   "execution_count": 7,
   "metadata": {},
   "outputs": [],
   "source": [
    "df.drop_duplicates(inplace=True)"
   ]
  },
  {
   "cell_type": "code",
   "execution_count": 8,
   "metadata": {},
   "outputs": [
    {
     "name": "stdout",
     "output_type": "stream",
     "text": [
      "<class 'pandas.core.frame.DataFrame'>\n",
      "Int64Index: 1048636 entries, 0 to 1049199\n",
      "Data columns (total 26 columns):\n",
      " #   Column        Non-Null Count    Dtype  \n",
      "---  ------        --------------    -----  \n",
      " 0   url           1048635 non-null  object \n",
      " 1   city          1048559 non-null  object \n",
      " 2   price         1048535 non-null  object \n",
      " 3   year          1047014 non-null  object \n",
      " 4   manufacturer  964568 non-null   object \n",
      " 5   make          1005318 non-null  object \n",
      " 6   condition     615062 non-null   object \n",
      " 7   cylinders     621193 non-null   object \n",
      " 8   fuel          1042054 non-null  object \n",
      " 9   odometer      705601 non-null   float64\n",
      " 10  title_status  1046971 non-null  object \n",
      " 11  transmission  1042699 non-null  object \n",
      " 12  vin           367156 non-null   object \n",
      " 13  drive         645697 non-null   object \n",
      " 14  size          358029 non-null   object \n",
      " 15  type          614919 non-null   object \n",
      " 16  paint_color   617962 non-null   object \n",
      " 17  image_url     1048519 non-null  object \n",
      " 18  lat           1048519 non-null  float64\n",
      " 19  long          1048519 non-null  float64\n",
      " 20  county_fips   990178 non-null   float64\n",
      " 21  county_name   990178 non-null   object \n",
      " 22  state_fips    990178 non-null   float64\n",
      " 23  state_code    990178 non-null   object \n",
      " 24  state_name    1048519 non-null  object \n",
      " 25  weather       989582 non-null   float64\n",
      "dtypes: float64(6), object(20)\n",
      "memory usage: 216.0+ MB\n"
     ]
    }
   ],
   "source": [
    "df.info()"
   ]
  },
  {
   "cell_type": "code",
   "execution_count": 9,
   "metadata": {},
   "outputs": [
    {
     "data": {
      "text/html": [
       "<div>\n",
       "<style scoped>\n",
       "    .dataframe tbody tr th:only-of-type {\n",
       "        vertical-align: middle;\n",
       "    }\n",
       "\n",
       "    .dataframe tbody tr th {\n",
       "        vertical-align: top;\n",
       "    }\n",
       "\n",
       "    .dataframe thead th {\n",
       "        text-align: right;\n",
       "    }\n",
       "</style>\n",
       "<table border=\"1\" class=\"dataframe\">\n",
       "  <thead>\n",
       "    <tr style=\"text-align: right;\">\n",
       "      <th></th>\n",
       "      <th>odometer</th>\n",
       "      <th>lat</th>\n",
       "      <th>long</th>\n",
       "      <th>county_fips</th>\n",
       "      <th>state_fips</th>\n",
       "      <th>weather</th>\n",
       "    </tr>\n",
       "  </thead>\n",
       "  <tbody>\n",
       "    <tr>\n",
       "      <th>count</th>\n",
       "      <td>7.056010e+05</td>\n",
       "      <td>1.048519e+06</td>\n",
       "      <td>1.048519e+06</td>\n",
       "      <td>990178.000000</td>\n",
       "      <td>990178.000000</td>\n",
       "      <td>989582.000000</td>\n",
       "    </tr>\n",
       "    <tr>\n",
       "      <th>mean</th>\n",
       "      <td>1.138255e+05</td>\n",
       "      <td>3.967305e+01</td>\n",
       "      <td>-9.609864e+01</td>\n",
       "      <td>24775.443619</td>\n",
       "      <td>24.704956</td>\n",
       "      <td>53.022543</td>\n",
       "    </tr>\n",
       "    <tr>\n",
       "      <th>std</th>\n",
       "      <td>1.316380e+05</td>\n",
       "      <td>5.692429e+00</td>\n",
       "      <td>1.860790e+01</td>\n",
       "      <td>15579.137290</td>\n",
       "      <td>15.569437</td>\n",
       "      <td>7.605096</td>\n",
       "    </tr>\n",
       "    <tr>\n",
       "      <th>min</th>\n",
       "      <td>0.000000e+00</td>\n",
       "      <td>-8.481005e+01</td>\n",
       "      <td>-1.000000e+03</td>\n",
       "      <td>1001.000000</td>\n",
       "      <td>1.000000</td>\n",
       "      <td>29.000000</td>\n",
       "    </tr>\n",
       "    <tr>\n",
       "      <th>25%</th>\n",
       "      <td>5.800000e+04</td>\n",
       "      <td>3.551126e+01</td>\n",
       "      <td>-1.171445e+02</td>\n",
       "      <td>8005.000000</td>\n",
       "      <td>8.000000</td>\n",
       "      <td>48.000000</td>\n",
       "    </tr>\n",
       "    <tr>\n",
       "      <th>50%</th>\n",
       "      <td>1.070260e+05</td>\n",
       "      <td>3.990460e+01</td>\n",
       "      <td>-9.041660e+01</td>\n",
       "      <td>26055.000000</td>\n",
       "      <td>26.000000</td>\n",
       "      <td>52.000000</td>\n",
       "    </tr>\n",
       "    <tr>\n",
       "      <th>75%</th>\n",
       "      <td>1.530000e+05</td>\n",
       "      <td>4.267304e+01</td>\n",
       "      <td>-8.154935e+01</td>\n",
       "      <td>39151.000000</td>\n",
       "      <td>39.000000</td>\n",
       "      <td>59.000000</td>\n",
       "    </tr>\n",
       "    <tr>\n",
       "      <th>max</th>\n",
       "      <td>1.000000e+07</td>\n",
       "      <td>9.000000e+01</td>\n",
       "      <td>1.397061e+02</td>\n",
       "      <td>56045.000000</td>\n",
       "      <td>56.000000</td>\n",
       "      <td>79.000000</td>\n",
       "    </tr>\n",
       "  </tbody>\n",
       "</table>\n",
       "</div>"
      ],
      "text/plain": [
       "           odometer           lat          long    county_fips     state_fips  \\\n",
       "count  7.056010e+05  1.048519e+06  1.048519e+06  990178.000000  990178.000000   \n",
       "mean   1.138255e+05  3.967305e+01 -9.609864e+01   24775.443619      24.704956   \n",
       "std    1.316380e+05  5.692429e+00  1.860790e+01   15579.137290      15.569437   \n",
       "min    0.000000e+00 -8.481005e+01 -1.000000e+03    1001.000000       1.000000   \n",
       "25%    5.800000e+04  3.551126e+01 -1.171445e+02    8005.000000       8.000000   \n",
       "50%    1.070260e+05  3.990460e+01 -9.041660e+01   26055.000000      26.000000   \n",
       "75%    1.530000e+05  4.267304e+01 -8.154935e+01   39151.000000      39.000000   \n",
       "max    1.000000e+07  9.000000e+01  1.397061e+02   56045.000000      56.000000   \n",
       "\n",
       "             weather  \n",
       "count  989582.000000  \n",
       "mean       53.022543  \n",
       "std         7.605096  \n",
       "min        29.000000  \n",
       "25%        48.000000  \n",
       "50%        52.000000  \n",
       "75%        59.000000  \n",
       "max        79.000000  "
      ]
     },
     "execution_count": 9,
     "metadata": {},
     "output_type": "execute_result"
    }
   ],
   "source": [
    "df.describe()"
   ]
  },
  {
   "cell_type": "markdown",
   "metadata": {},
   "source": [
    "There seem too many NaN in the data set.  So let's figure out how much NaN\n",
    "occupies in individual columns."
   ]
  },
  {
   "cell_type": "code",
   "execution_count": 10,
   "metadata": {},
   "outputs": [
    {
     "data": {
      "text/plain": [
       "size            65.857647\n",
       "vin             64.987279\n",
       "type            41.360110\n",
       "condition       41.346473\n",
       "paint_color     41.069923\n",
       "cylinders       40.761809\n",
       "drive           38.425059\n",
       "odometer        32.712495\n",
       "manufacturer     8.016891\n",
       "weather          5.631506\n",
       "county_fips      5.574670\n",
       "county_name      5.574670\n",
       "state_fips       5.574670\n",
       "state_code       5.574670\n",
       "make             4.130890\n",
       "fuel             0.627673\n",
       "transmission     0.566164\n",
       "title_status     0.158778\n",
       "year             0.154677\n",
       "image_url        0.011157\n",
       "lat              0.011157\n",
       "long             0.011157\n",
       "state_name       0.011157\n",
       "price            0.009632\n",
       "city             0.007343\n",
       "url              0.000095\n",
       "dtype: float64"
      ]
     },
     "execution_count": 10,
     "metadata": {},
     "output_type": "execute_result"
    }
   ],
   "source": [
    "((df.isnull().sum()/len(df)).sort_values(ascending = False)*100).astype(float)"
   ]
  },
  {
   "cell_type": "markdown",
   "metadata": {},
   "source": [
    "Let's drop rows with 'price' whose value is null."
   ]
  },
  {
   "cell_type": "code",
   "execution_count": 11,
   "metadata": {},
   "outputs": [],
   "source": [
    "df.drop(df[df['price'].isnull()].index, inplace=True)"
   ]
  },
  {
   "cell_type": "code",
   "execution_count": 12,
   "metadata": {},
   "outputs": [
    {
     "data": {
      "text/plain": [
       "size            65.854359\n",
       "vin             64.983906\n",
       "type            41.354461\n",
       "condition       41.340823\n",
       "paint_color     41.064247\n",
       "cylinders       40.756103\n",
       "drive           38.419128\n",
       "odometer        32.706014\n",
       "manufacturer     8.008030\n",
       "weather          5.622416\n",
       "county_fips      5.565575\n",
       "county_name      5.565575\n",
       "state_fips       5.565575\n",
       "state_code       5.565575\n",
       "make             4.121655\n",
       "fuel             0.618100\n",
       "transmission     0.556586\n",
       "title_status     0.149160\n",
       "year             0.145060\n",
       "image_url        0.001526\n",
       "lat              0.001526\n",
       "long             0.001526\n",
       "state_name       0.001526\n",
       "price            0.000000\n",
       "city             0.000000\n",
       "url              0.000000\n",
       "dtype: float64"
      ]
     },
     "execution_count": 12,
     "metadata": {},
     "output_type": "execute_result"
    }
   ],
   "source": [
    "((df.isnull().sum()/len(df)).sort_values(ascending = False)*100).astype(float)"
   ]
  },
  {
   "cell_type": "markdown",
   "metadata": {},
   "source": [
    "Let's drop rows with 'lat' whose value is null because null value of either 'lat' or 'long' cannot give you correlatable geographical information. "
   ]
  },
  {
   "cell_type": "code",
   "execution_count": 13,
   "metadata": {},
   "outputs": [],
   "source": [
    "df.drop(df[df['lat'].isnull()].index, inplace=True)"
   ]
  },
  {
   "cell_type": "code",
   "execution_count": 14,
   "metadata": {},
   "outputs": [
    {
     "data": {
      "text/plain": [
       "size            65.853838\n",
       "vin             64.983372\n",
       "type            41.353566\n",
       "condition       41.340023\n",
       "paint_color     41.063347\n",
       "cylinders       40.755199\n",
       "drive           38.418188\n",
       "odometer        32.704987\n",
       "manufacturer     8.006913\n",
       "weather          5.620976\n",
       "county_fips      5.564134\n",
       "county_name      5.564134\n",
       "state_fips       5.564134\n",
       "state_code       5.564134\n",
       "make             4.120383\n",
       "fuel             0.616584\n",
       "transmission     0.555069\n",
       "title_status     0.147637\n",
       "year             0.143917\n",
       "image_url        0.000000\n",
       "lat              0.000000\n",
       "long             0.000000\n",
       "state_name       0.000000\n",
       "price            0.000000\n",
       "city             0.000000\n",
       "url              0.000000\n",
       "dtype: float64"
      ]
     },
     "execution_count": 14,
     "metadata": {},
     "output_type": "execute_result"
    }
   ],
   "source": [
    "((df.isnull().sum()/len(df)).sort_values(ascending = False)*100).astype(float)"
   ]
  },
  {
   "cell_type": "markdown",
   "metadata": {},
   "source": [
    "Let's look into rows whose 'year' is null."
   ]
  },
  {
   "cell_type": "code",
   "execution_count": 15,
   "metadata": {},
   "outputs": [
    {
     "data": {
      "text/html": [
       "<div>\n",
       "<style scoped>\n",
       "    .dataframe tbody tr th:only-of-type {\n",
       "        vertical-align: middle;\n",
       "    }\n",
       "\n",
       "    .dataframe tbody tr th {\n",
       "        vertical-align: top;\n",
       "    }\n",
       "\n",
       "    .dataframe thead th {\n",
       "        text-align: right;\n",
       "    }\n",
       "</style>\n",
       "<table border=\"1\" class=\"dataframe\">\n",
       "  <thead>\n",
       "    <tr style=\"text-align: right;\">\n",
       "      <th></th>\n",
       "      <th>url</th>\n",
       "      <th>city</th>\n",
       "      <th>price</th>\n",
       "      <th>year</th>\n",
       "      <th>manufacturer</th>\n",
       "      <th>make</th>\n",
       "      <th>condition</th>\n",
       "      <th>cylinders</th>\n",
       "      <th>fuel</th>\n",
       "      <th>odometer</th>\n",
       "      <th>title_status</th>\n",
       "      <th>transmission</th>\n",
       "      <th>vin</th>\n",
       "      <th>drive</th>\n",
       "      <th>size</th>\n",
       "      <th>type</th>\n",
       "      <th>paint_color</th>\n",
       "      <th>image_url</th>\n",
       "      <th>lat</th>\n",
       "      <th>long</th>\n",
       "      <th>county_fips</th>\n",
       "      <th>county_name</th>\n",
       "      <th>state_fips</th>\n",
       "      <th>state_code</th>\n",
       "      <th>state_name</th>\n",
       "      <th>weather</th>\n",
       "    </tr>\n",
       "  </thead>\n",
       "  <tbody>\n",
       "    <tr>\n",
       "      <th>1652</th>\n",
       "      <td>https://galveston.craigslist.org/cto/d/2014-ni...</td>\n",
       "      <td>galveston</td>\n",
       "      <td>2900</td>\n",
       "      <td>NaN</td>\n",
       "      <td>NaN</td>\n",
       "      <td>soacrizcd</td>\n",
       "      <td>NaN</td>\n",
       "      <td>NaN</td>\n",
       "      <td>gas</td>\n",
       "      <td>NaN</td>\n",
       "      <td>clean</td>\n",
       "      <td>automatic</td>\n",
       "      <td>NaN</td>\n",
       "      <td>NaN</td>\n",
       "      <td>NaN</td>\n",
       "      <td>NaN</td>\n",
       "      <td>NaN</td>\n",
       "      <td>https://images.craigslist.org/00M0M_jkpAqq0f3A...</td>\n",
       "      <td>29.395588</td>\n",
       "      <td>-94.936825</td>\n",
       "      <td>48167.0</td>\n",
       "      <td>Galveston</td>\n",
       "      <td>48.0</td>\n",
       "      <td>TX</td>\n",
       "      <td>Texas</td>\n",
       "      <td>67.0</td>\n",
       "    </tr>\n",
       "    <tr>\n",
       "      <th>7092</th>\n",
       "      <td>https://saltlakecity.craigslist.org/cto/d/2014...</td>\n",
       "      <td>saltlakecity</td>\n",
       "      <td>2900</td>\n",
       "      <td>NaN</td>\n",
       "      <td>NaN</td>\n",
       "      <td>pcrqno</td>\n",
       "      <td>NaN</td>\n",
       "      <td>NaN</td>\n",
       "      <td>gas</td>\n",
       "      <td>NaN</td>\n",
       "      <td>clean</td>\n",
       "      <td>automatic</td>\n",
       "      <td>NaN</td>\n",
       "      <td>NaN</td>\n",
       "      <td>NaN</td>\n",
       "      <td>NaN</td>\n",
       "      <td>NaN</td>\n",
       "      <td>https://images.craigslist.org/00j0j_kNH7SuxV2u...</td>\n",
       "      <td>42.712053</td>\n",
       "      <td>-111.620163</td>\n",
       "      <td>16029.0</td>\n",
       "      <td>Caribou</td>\n",
       "      <td>16.0</td>\n",
       "      <td>ID</td>\n",
       "      <td>Idaho</td>\n",
       "      <td>47.0</td>\n",
       "    </tr>\n",
       "    <tr>\n",
       "      <th>8555</th>\n",
       "      <td>https://memphis.craigslist.org/ctd/d/2018-toyo...</td>\n",
       "      <td>memphis</td>\n",
       "      <td>21842</td>\n",
       "      <td>NaN</td>\n",
       "      <td>NaN</td>\n",
       "      <td>a Camry</td>\n",
       "      <td>NaN</td>\n",
       "      <td>4 cylinders</td>\n",
       "      <td>gas</td>\n",
       "      <td>11312.0</td>\n",
       "      <td>clean</td>\n",
       "      <td>automatic</td>\n",
       "      <td>JTNB11HK6J3001862</td>\n",
       "      <td>fwd</td>\n",
       "      <td>NaN</td>\n",
       "      <td>sedan</td>\n",
       "      <td>white</td>\n",
       "      <td>https://images.craigslist.org/00i0i_cMyXBfkKdq...</td>\n",
       "      <td>35.186081</td>\n",
       "      <td>-89.794496</td>\n",
       "      <td>47157.0</td>\n",
       "      <td>Shelby</td>\n",
       "      <td>47.0</td>\n",
       "      <td>TN</td>\n",
       "      <td>Tennessee</td>\n",
       "      <td>59.0</td>\n",
       "    </tr>\n",
       "    <tr>\n",
       "      <th>8641</th>\n",
       "      <td>https://memphis.craigslist.org/ctd/d/2018-toyo...</td>\n",
       "      <td>memphis</td>\n",
       "      <td>21980</td>\n",
       "      <td>NaN</td>\n",
       "      <td>NaN</td>\n",
       "      <td>a RAV4</td>\n",
       "      <td>NaN</td>\n",
       "      <td>4 cylinders</td>\n",
       "      <td>gas</td>\n",
       "      <td>40810.0</td>\n",
       "      <td>clean</td>\n",
       "      <td>automatic</td>\n",
       "      <td>2T3WFREV4JW405860</td>\n",
       "      <td>fwd</td>\n",
       "      <td>NaN</td>\n",
       "      <td>SUV</td>\n",
       "      <td>grey</td>\n",
       "      <td>https://images.craigslist.org/00H0H_jegqUW8uIS...</td>\n",
       "      <td>35.186081</td>\n",
       "      <td>-89.794496</td>\n",
       "      <td>47157.0</td>\n",
       "      <td>Shelby</td>\n",
       "      <td>47.0</td>\n",
       "      <td>TN</td>\n",
       "      <td>Tennessee</td>\n",
       "      <td>59.0</td>\n",
       "    </tr>\n",
       "    <tr>\n",
       "      <th>12831</th>\n",
       "      <td>https://elko.craigslist.org/ctd/d/2018-nissan-...</td>\n",
       "      <td>elko</td>\n",
       "      <td>60900</td>\n",
       "      <td>NaN</td>\n",
       "      <td>NaN</td>\n",
       "      <td>n Titan XD</td>\n",
       "      <td>NaN</td>\n",
       "      <td>8 cylinders</td>\n",
       "      <td>diesel</td>\n",
       "      <td>354.0</td>\n",
       "      <td>clean</td>\n",
       "      <td>automatic</td>\n",
       "      <td>1N6BA1F46JN521781</td>\n",
       "      <td>4wd</td>\n",
       "      <td>NaN</td>\n",
       "      <td>pickup</td>\n",
       "      <td>black</td>\n",
       "      <td>https://images.craigslist.org/01313_a9b4VDVItM...</td>\n",
       "      <td>40.362248</td>\n",
       "      <td>-111.785947</td>\n",
       "      <td>49049.0</td>\n",
       "      <td>Utah</td>\n",
       "      <td>49.0</td>\n",
       "      <td>UT</td>\n",
       "      <td>Utah</td>\n",
       "      <td>50.0</td>\n",
       "    </tr>\n",
       "    <tr>\n",
       "      <th>...</th>\n",
       "      <td>...</td>\n",
       "      <td>...</td>\n",
       "      <td>...</td>\n",
       "      <td>...</td>\n",
       "      <td>...</td>\n",
       "      <td>...</td>\n",
       "      <td>...</td>\n",
       "      <td>...</td>\n",
       "      <td>...</td>\n",
       "      <td>...</td>\n",
       "      <td>...</td>\n",
       "      <td>...</td>\n",
       "      <td>...</td>\n",
       "      <td>...</td>\n",
       "      <td>...</td>\n",
       "      <td>...</td>\n",
       "      <td>...</td>\n",
       "      <td>...</td>\n",
       "      <td>...</td>\n",
       "      <td>...</td>\n",
       "      <td>...</td>\n",
       "      <td>...</td>\n",
       "      <td>...</td>\n",
       "      <td>...</td>\n",
       "      <td>...</td>\n",
       "      <td>...</td>\n",
       "    </tr>\n",
       "    <tr>\n",
       "      <th>987780</th>\n",
       "      <td>https://minneapolis.craigslist.org/hnp/ctd/d/2...</td>\n",
       "      <td>minneapolis</td>\n",
       "      <td>29498</td>\n",
       "      <td>NaN</td>\n",
       "      <td>NaN</td>\n",
       "      <td>Clarity Plug-In Hybrid</td>\n",
       "      <td>NaN</td>\n",
       "      <td>4 cylinders</td>\n",
       "      <td>gas</td>\n",
       "      <td>2698.0</td>\n",
       "      <td>clean</td>\n",
       "      <td>automatic</td>\n",
       "      <td>JHMZC5F14JC008709</td>\n",
       "      <td>fwd</td>\n",
       "      <td>NaN</td>\n",
       "      <td>sedan</td>\n",
       "      <td>white</td>\n",
       "      <td>https://images.craigslist.org/00S0S_8Pp7R5N00D...</td>\n",
       "      <td>44.863287</td>\n",
       "      <td>-93.285342</td>\n",
       "      <td>27053.0</td>\n",
       "      <td>Hennepin</td>\n",
       "      <td>27.0</td>\n",
       "      <td>MN</td>\n",
       "      <td>Minnesota</td>\n",
       "      <td>43.0</td>\n",
       "    </tr>\n",
       "    <tr>\n",
       "      <th>994185</th>\n",
       "      <td>https://myrtlebeach.craigslist.org/cto/d/impal...</td>\n",
       "      <td>myrtlebeach</td>\n",
       "      <td>2900</td>\n",
       "      <td>NaN</td>\n",
       "      <td>NaN</td>\n",
       "      <td>ymmefqxhn</td>\n",
       "      <td>NaN</td>\n",
       "      <td>NaN</td>\n",
       "      <td>gas</td>\n",
       "      <td>NaN</td>\n",
       "      <td>clean</td>\n",
       "      <td>automatic</td>\n",
       "      <td>NaN</td>\n",
       "      <td>NaN</td>\n",
       "      <td>NaN</td>\n",
       "      <td>NaN</td>\n",
       "      <td>NaN</td>\n",
       "      <td>https://images.craigslist.org/00B0B_icXTx8yDAK...</td>\n",
       "      <td>33.803125</td>\n",
       "      <td>-78.837776</td>\n",
       "      <td>45051.0</td>\n",
       "      <td>Horry</td>\n",
       "      <td>45.0</td>\n",
       "      <td>SC</td>\n",
       "      <td>South Carolina</td>\n",
       "      <td>60.0</td>\n",
       "    </tr>\n",
       "    <tr>\n",
       "      <th>997789</th>\n",
       "      <td>https://asheville.craigslist.org/cto/d/2010-fo...</td>\n",
       "      <td>asheville</td>\n",
       "      <td>12500</td>\n",
       "      <td>NaN</td>\n",
       "      <td>ford</td>\n",
       "      <td>f150</td>\n",
       "      <td>excellent</td>\n",
       "      <td>8 cylinders</td>\n",
       "      <td>gas</td>\n",
       "      <td>99000.0</td>\n",
       "      <td>rebuilt</td>\n",
       "      <td>automatic</td>\n",
       "      <td>NaN</td>\n",
       "      <td>rwd</td>\n",
       "      <td>NaN</td>\n",
       "      <td>pickup</td>\n",
       "      <td>red</td>\n",
       "      <td>https://images.craigslist.org/00H0H_hLRfMrTPKO...</td>\n",
       "      <td>34.776458</td>\n",
       "      <td>-82.391206</td>\n",
       "      <td>45045.0</td>\n",
       "      <td>Greenville</td>\n",
       "      <td>45.0</td>\n",
       "      <td>SC</td>\n",
       "      <td>South Carolina</td>\n",
       "      <td>60.0</td>\n",
       "    </tr>\n",
       "    <tr>\n",
       "      <th>997790</th>\n",
       "      <td>https://asheville.craigslist.org/cto/d/2008-fo...</td>\n",
       "      <td>asheville</td>\n",
       "      <td>8300</td>\n",
       "      <td>NaN</td>\n",
       "      <td>ford</td>\n",
       "      <td>ranger xlt</td>\n",
       "      <td>NaN</td>\n",
       "      <td>6 cylinders</td>\n",
       "      <td>gas</td>\n",
       "      <td>121455.0</td>\n",
       "      <td>clean</td>\n",
       "      <td>automatic</td>\n",
       "      <td>NaN</td>\n",
       "      <td>4wd</td>\n",
       "      <td>mid-size</td>\n",
       "      <td>truck</td>\n",
       "      <td>white</td>\n",
       "      <td>https://images.craigslist.org/00r0r_6FYgE8j05R...</td>\n",
       "      <td>34.757900</td>\n",
       "      <td>-82.044700</td>\n",
       "      <td>45083.0</td>\n",
       "      <td>Spartanburg</td>\n",
       "      <td>45.0</td>\n",
       "      <td>SC</td>\n",
       "      <td>South Carolina</td>\n",
       "      <td>60.0</td>\n",
       "    </tr>\n",
       "    <tr>\n",
       "      <th>1009673</th>\n",
       "      <td>https://columbia.craigslist.org/cto/d/2009-hon...</td>\n",
       "      <td>columbia</td>\n",
       "      <td>2900</td>\n",
       "      <td>NaN</td>\n",
       "      <td>NaN</td>\n",
       "      <td>sjphygdhbtq</td>\n",
       "      <td>NaN</td>\n",
       "      <td>NaN</td>\n",
       "      <td>gas</td>\n",
       "      <td>NaN</td>\n",
       "      <td>clean</td>\n",
       "      <td>automatic</td>\n",
       "      <td>NaN</td>\n",
       "      <td>NaN</td>\n",
       "      <td>NaN</td>\n",
       "      <td>NaN</td>\n",
       "      <td>NaN</td>\n",
       "      <td>https://images.craigslist.org/00B0B_icXTx8yDAK...</td>\n",
       "      <td>33.996344</td>\n",
       "      <td>-81.100412</td>\n",
       "      <td>45063.0</td>\n",
       "      <td>Lexington</td>\n",
       "      <td>45.0</td>\n",
       "      <td>SC</td>\n",
       "      <td>South Carolina</td>\n",
       "      <td>60.0</td>\n",
       "    </tr>\n",
       "  </tbody>\n",
       "</table>\n",
       "<p>1509 rows × 26 columns</p>\n",
       "</div>"
      ],
      "text/plain": [
       "                                                       url          city  \\\n",
       "1652     https://galveston.craigslist.org/cto/d/2014-ni...     galveston   \n",
       "7092     https://saltlakecity.craigslist.org/cto/d/2014...  saltlakecity   \n",
       "8555     https://memphis.craigslist.org/ctd/d/2018-toyo...       memphis   \n",
       "8641     https://memphis.craigslist.org/ctd/d/2018-toyo...       memphis   \n",
       "12831    https://elko.craigslist.org/ctd/d/2018-nissan-...          elko   \n",
       "...                                                    ...           ...   \n",
       "987780   https://minneapolis.craigslist.org/hnp/ctd/d/2...   minneapolis   \n",
       "994185   https://myrtlebeach.craigslist.org/cto/d/impal...   myrtlebeach   \n",
       "997789   https://asheville.craigslist.org/cto/d/2010-fo...     asheville   \n",
       "997790   https://asheville.craigslist.org/cto/d/2008-fo...     asheville   \n",
       "1009673  https://columbia.craigslist.org/cto/d/2009-hon...      columbia   \n",
       "\n",
       "         price year manufacturer                    make  condition  \\\n",
       "1652      2900  NaN          NaN               soacrizcd        NaN   \n",
       "7092      2900  NaN          NaN                  pcrqno        NaN   \n",
       "8555     21842  NaN          NaN                 a Camry        NaN   \n",
       "8641     21980  NaN          NaN                  a RAV4        NaN   \n",
       "12831    60900  NaN          NaN              n Titan XD        NaN   \n",
       "...        ...  ...          ...                     ...        ...   \n",
       "987780   29498  NaN          NaN  Clarity Plug-In Hybrid        NaN   \n",
       "994185    2900  NaN          NaN               ymmefqxhn        NaN   \n",
       "997789   12500  NaN         ford                    f150  excellent   \n",
       "997790    8300  NaN         ford              ranger xlt        NaN   \n",
       "1009673   2900  NaN          NaN             sjphygdhbtq        NaN   \n",
       "\n",
       "           cylinders    fuel  odometer title_status transmission  \\\n",
       "1652             NaN     gas       NaN        clean    automatic   \n",
       "7092             NaN     gas       NaN        clean    automatic   \n",
       "8555     4 cylinders     gas   11312.0        clean    automatic   \n",
       "8641     4 cylinders     gas   40810.0        clean    automatic   \n",
       "12831    8 cylinders  diesel     354.0        clean    automatic   \n",
       "...              ...     ...       ...          ...          ...   \n",
       "987780   4 cylinders     gas    2698.0        clean    automatic   \n",
       "994185           NaN     gas       NaN        clean    automatic   \n",
       "997789   8 cylinders     gas   99000.0      rebuilt    automatic   \n",
       "997790   6 cylinders     gas  121455.0        clean    automatic   \n",
       "1009673          NaN     gas       NaN        clean    automatic   \n",
       "\n",
       "                       vin drive      size    type paint_color  \\\n",
       "1652                   NaN   NaN       NaN     NaN         NaN   \n",
       "7092                   NaN   NaN       NaN     NaN         NaN   \n",
       "8555     JTNB11HK6J3001862   fwd       NaN   sedan       white   \n",
       "8641     2T3WFREV4JW405860   fwd       NaN     SUV        grey   \n",
       "12831    1N6BA1F46JN521781   4wd       NaN  pickup       black   \n",
       "...                    ...   ...       ...     ...         ...   \n",
       "987780   JHMZC5F14JC008709   fwd       NaN   sedan       white   \n",
       "994185                 NaN   NaN       NaN     NaN         NaN   \n",
       "997789                 NaN   rwd       NaN  pickup         red   \n",
       "997790                 NaN   4wd  mid-size   truck       white   \n",
       "1009673                NaN   NaN       NaN     NaN         NaN   \n",
       "\n",
       "                                                 image_url        lat  \\\n",
       "1652     https://images.craigslist.org/00M0M_jkpAqq0f3A...  29.395588   \n",
       "7092     https://images.craigslist.org/00j0j_kNH7SuxV2u...  42.712053   \n",
       "8555     https://images.craigslist.org/00i0i_cMyXBfkKdq...  35.186081   \n",
       "8641     https://images.craigslist.org/00H0H_jegqUW8uIS...  35.186081   \n",
       "12831    https://images.craigslist.org/01313_a9b4VDVItM...  40.362248   \n",
       "...                                                    ...        ...   \n",
       "987780   https://images.craigslist.org/00S0S_8Pp7R5N00D...  44.863287   \n",
       "994185   https://images.craigslist.org/00B0B_icXTx8yDAK...  33.803125   \n",
       "997789   https://images.craigslist.org/00H0H_hLRfMrTPKO...  34.776458   \n",
       "997790   https://images.craigslist.org/00r0r_6FYgE8j05R...  34.757900   \n",
       "1009673  https://images.craigslist.org/00B0B_icXTx8yDAK...  33.996344   \n",
       "\n",
       "               long  county_fips  county_name  state_fips state_code  \\\n",
       "1652     -94.936825      48167.0    Galveston        48.0         TX   \n",
       "7092    -111.620163      16029.0      Caribou        16.0         ID   \n",
       "8555     -89.794496      47157.0       Shelby        47.0         TN   \n",
       "8641     -89.794496      47157.0       Shelby        47.0         TN   \n",
       "12831   -111.785947      49049.0         Utah        49.0         UT   \n",
       "...             ...          ...          ...         ...        ...   \n",
       "987780   -93.285342      27053.0     Hennepin        27.0         MN   \n",
       "994185   -78.837776      45051.0        Horry        45.0         SC   \n",
       "997789   -82.391206      45045.0   Greenville        45.0         SC   \n",
       "997790   -82.044700      45083.0  Spartanburg        45.0         SC   \n",
       "1009673  -81.100412      45063.0    Lexington        45.0         SC   \n",
       "\n",
       "             state_name  weather  \n",
       "1652              Texas     67.0  \n",
       "7092              Idaho     47.0  \n",
       "8555          Tennessee     59.0  \n",
       "8641          Tennessee     59.0  \n",
       "12831              Utah     50.0  \n",
       "...                 ...      ...  \n",
       "987780        Minnesota     43.0  \n",
       "994185   South Carolina     60.0  \n",
       "997789   South Carolina     60.0  \n",
       "997790   South Carolina     60.0  \n",
       "1009673  South Carolina     60.0  \n",
       "\n",
       "[1509 rows x 26 columns]"
      ]
     },
     "execution_count": 15,
     "metadata": {},
     "output_type": "execute_result"
    }
   ],
   "source": [
    "df[df['year'].isnull()]"
   ]
  },
  {
   "cell_type": "markdown",
   "metadata": {},
   "source": [
    "Drop rows whose 'year' value is null in that it is not possible to find correlation between 'price' and 'unidentified year of use', which is null value in year."
   ]
  },
  {
   "cell_type": "code",
   "execution_count": 16,
   "metadata": {},
   "outputs": [],
   "source": [
    "df.drop(df[df['year'].isnull()].index, inplace=True)"
   ]
  },
  {
   "cell_type": "code",
   "execution_count": 17,
   "metadata": {},
   "outputs": [
    {
     "data": {
      "text/plain": [
       "size            65.833660\n",
       "vin             65.002149\n",
       "type            41.363597\n",
       "condition       41.311162\n",
       "paint_color     41.070286\n",
       "cylinders       40.759592\n",
       "drive           38.422174\n",
       "odometer        32.708952\n",
       "manufacturer     7.973276\n",
       "weather          5.628695\n",
       "county_fips      5.571771\n",
       "county_name      5.571771\n",
       "state_fips       5.571771\n",
       "state_code       5.571771\n",
       "make             4.120878\n",
       "fuel             0.607253\n",
       "transmission     0.555487\n",
       "title_status     0.147563\n",
       "image_url        0.000000\n",
       "lat              0.000000\n",
       "long             0.000000\n",
       "state_name       0.000000\n",
       "year             0.000000\n",
       "price            0.000000\n",
       "city             0.000000\n",
       "url              0.000000\n",
       "dtype: float64"
      ]
     },
     "execution_count": 17,
     "metadata": {},
     "output_type": "execute_result"
    }
   ],
   "source": [
    "((df.isnull().sum()/len(df)).sort_values(ascending = False)*100).astype(float)"
   ]
  },
  {
   "cell_type": "markdown",
   "metadata": {},
   "source": [
    "Let's look into 'title_status' by value_counts()."
   ]
  },
  {
   "cell_type": "code",
   "execution_count": 18,
   "metadata": {},
   "outputs": [
    {
     "data": {
      "text/plain": [
       "clean         971924\n",
       "rebuilt        27973\n",
       "salvage        22992\n",
       "lien           12384\n",
       "missing         7103\n",
       "parts only      3089\n",
       "Name: title_status, dtype: int64"
      ]
     },
     "execution_count": 18,
     "metadata": {},
     "output_type": "execute_result"
    }
   ],
   "source": [
    "df['title_status'].value_counts()"
   ]
  },
  {
   "cell_type": "markdown",
   "metadata": {},
   "source": [
    "Now let's take a look at rows whose 'title_status' value is null."
   ]
  },
  {
   "cell_type": "code",
   "execution_count": 19,
   "metadata": {
    "scrolled": true
   },
   "outputs": [
    {
     "data": {
      "text/html": [
       "<div>\n",
       "<style scoped>\n",
       "    .dataframe tbody tr th:only-of-type {\n",
       "        vertical-align: middle;\n",
       "    }\n",
       "\n",
       "    .dataframe tbody tr th {\n",
       "        vertical-align: top;\n",
       "    }\n",
       "\n",
       "    .dataframe thead th {\n",
       "        text-align: right;\n",
       "    }\n",
       "</style>\n",
       "<table border=\"1\" class=\"dataframe\">\n",
       "  <thead>\n",
       "    <tr style=\"text-align: right;\">\n",
       "      <th></th>\n",
       "      <th>url</th>\n",
       "      <th>city</th>\n",
       "      <th>price</th>\n",
       "      <th>year</th>\n",
       "      <th>manufacturer</th>\n",
       "      <th>make</th>\n",
       "      <th>condition</th>\n",
       "      <th>cylinders</th>\n",
       "      <th>fuel</th>\n",
       "      <th>odometer</th>\n",
       "      <th>title_status</th>\n",
       "      <th>transmission</th>\n",
       "      <th>vin</th>\n",
       "      <th>drive</th>\n",
       "      <th>size</th>\n",
       "      <th>type</th>\n",
       "      <th>paint_color</th>\n",
       "      <th>image_url</th>\n",
       "      <th>lat</th>\n",
       "      <th>long</th>\n",
       "      <th>county_fips</th>\n",
       "      <th>county_name</th>\n",
       "      <th>state_fips</th>\n",
       "      <th>state_code</th>\n",
       "      <th>state_name</th>\n",
       "      <th>weather</th>\n",
       "    </tr>\n",
       "  </thead>\n",
       "  <tbody>\n",
       "    <tr>\n",
       "      <th>711</th>\n",
       "      <td>https://ogden.craigslist.org/ctd/d/1998-volksw...</td>\n",
       "      <td>ogden</td>\n",
       "      <td>3199</td>\n",
       "      <td>1998</td>\n",
       "      <td>volkswagen</td>\n",
       "      <td>gti</td>\n",
       "      <td>NaN</td>\n",
       "      <td>NaN</td>\n",
       "      <td>NaN</td>\n",
       "      <td>129718.0</td>\n",
       "      <td>NaN</td>\n",
       "      <td>automatic</td>\n",
       "      <td>3VWDA81H2WM219546</td>\n",
       "      <td>NaN</td>\n",
       "      <td>NaN</td>\n",
       "      <td>hatchback</td>\n",
       "      <td>yellow</td>\n",
       "      <td>https://images.craigslist.org/00808_2ImZMc17NN...</td>\n",
       "      <td>43.618808</td>\n",
       "      <td>-116.307269</td>\n",
       "      <td>16001.0</td>\n",
       "      <td>Ada</td>\n",
       "      <td>16.0</td>\n",
       "      <td>ID</td>\n",
       "      <td>Idaho</td>\n",
       "      <td>47.0</td>\n",
       "    </tr>\n",
       "    <tr>\n",
       "      <th>712</th>\n",
       "      <td>https://ogden.craigslist.org/ctd/d/2013-toyota...</td>\n",
       "      <td>ogden</td>\n",
       "      <td>20399</td>\n",
       "      <td>2013</td>\n",
       "      <td>toyota</td>\n",
       "      <td>tacoma</td>\n",
       "      <td>NaN</td>\n",
       "      <td>NaN</td>\n",
       "      <td>NaN</td>\n",
       "      <td>52992.0</td>\n",
       "      <td>NaN</td>\n",
       "      <td>automatic</td>\n",
       "      <td>3TMJU4GN9DM148846</td>\n",
       "      <td>NaN</td>\n",
       "      <td>NaN</td>\n",
       "      <td>NaN</td>\n",
       "      <td>NaN</td>\n",
       "      <td>https://images.craigslist.org/00808_2XBEsB5t2F...</td>\n",
       "      <td>43.618808</td>\n",
       "      <td>-116.307269</td>\n",
       "      <td>16001.0</td>\n",
       "      <td>Ada</td>\n",
       "      <td>16.0</td>\n",
       "      <td>ID</td>\n",
       "      <td>Idaho</td>\n",
       "      <td>47.0</td>\n",
       "    </tr>\n",
       "    <tr>\n",
       "      <th>713</th>\n",
       "      <td>https://ogden.craigslist.org/ctd/d/2008-toyota...</td>\n",
       "      <td>ogden</td>\n",
       "      <td>13222</td>\n",
       "      <td>2008</td>\n",
       "      <td>toyota</td>\n",
       "      <td>tacoma</td>\n",
       "      <td>NaN</td>\n",
       "      <td>NaN</td>\n",
       "      <td>NaN</td>\n",
       "      <td>140879.0</td>\n",
       "      <td>NaN</td>\n",
       "      <td>manual</td>\n",
       "      <td>5TEUX42N68Z500012</td>\n",
       "      <td>NaN</td>\n",
       "      <td>NaN</td>\n",
       "      <td>NaN</td>\n",
       "      <td>silver</td>\n",
       "      <td>https://images.craigslist.org/01515_aH1Ax3xNny...</td>\n",
       "      <td>43.618808</td>\n",
       "      <td>-116.307269</td>\n",
       "      <td>16001.0</td>\n",
       "      <td>Ada</td>\n",
       "      <td>16.0</td>\n",
       "      <td>ID</td>\n",
       "      <td>Idaho</td>\n",
       "      <td>47.0</td>\n",
       "    </tr>\n",
       "    <tr>\n",
       "      <th>714</th>\n",
       "      <td>https://ogden.craigslist.org/ctd/d/2004-toyota...</td>\n",
       "      <td>ogden</td>\n",
       "      <td>5935</td>\n",
       "      <td>2004</td>\n",
       "      <td>toyota</td>\n",
       "      <td>prius</td>\n",
       "      <td>NaN</td>\n",
       "      <td>NaN</td>\n",
       "      <td>NaN</td>\n",
       "      <td>144741.0</td>\n",
       "      <td>NaN</td>\n",
       "      <td>other</td>\n",
       "      <td>JTDKB20U140078987</td>\n",
       "      <td>NaN</td>\n",
       "      <td>NaN</td>\n",
       "      <td>sedan</td>\n",
       "      <td>NaN</td>\n",
       "      <td>https://images.craigslist.org/01414_g2F53ObEcr...</td>\n",
       "      <td>43.618808</td>\n",
       "      <td>-116.307269</td>\n",
       "      <td>16001.0</td>\n",
       "      <td>Ada</td>\n",
       "      <td>16.0</td>\n",
       "      <td>ID</td>\n",
       "      <td>Idaho</td>\n",
       "      <td>47.0</td>\n",
       "    </tr>\n",
       "    <tr>\n",
       "      <th>715</th>\n",
       "      <td>https://ogden.craigslist.org/ctd/d/2007-toyota...</td>\n",
       "      <td>ogden</td>\n",
       "      <td>6841</td>\n",
       "      <td>2007</td>\n",
       "      <td>toyota</td>\n",
       "      <td>camry</td>\n",
       "      <td>NaN</td>\n",
       "      <td>NaN</td>\n",
       "      <td>NaN</td>\n",
       "      <td>141026.0</td>\n",
       "      <td>NaN</td>\n",
       "      <td>automatic</td>\n",
       "      <td>4T1BE46KX7U514026</td>\n",
       "      <td>NaN</td>\n",
       "      <td>NaN</td>\n",
       "      <td>sedan</td>\n",
       "      <td>white</td>\n",
       "      <td>https://images.craigslist.org/01515_cLa189rIx6...</td>\n",
       "      <td>43.618808</td>\n",
       "      <td>-116.307269</td>\n",
       "      <td>16001.0</td>\n",
       "      <td>Ada</td>\n",
       "      <td>16.0</td>\n",
       "      <td>ID</td>\n",
       "      <td>Idaho</td>\n",
       "      <td>47.0</td>\n",
       "    </tr>\n",
       "    <tr>\n",
       "      <th>...</th>\n",
       "      <td>...</td>\n",
       "      <td>...</td>\n",
       "      <td>...</td>\n",
       "      <td>...</td>\n",
       "      <td>...</td>\n",
       "      <td>...</td>\n",
       "      <td>...</td>\n",
       "      <td>...</td>\n",
       "      <td>...</td>\n",
       "      <td>...</td>\n",
       "      <td>...</td>\n",
       "      <td>...</td>\n",
       "      <td>...</td>\n",
       "      <td>...</td>\n",
       "      <td>...</td>\n",
       "      <td>...</td>\n",
       "      <td>...</td>\n",
       "      <td>...</td>\n",
       "      <td>...</td>\n",
       "      <td>...</td>\n",
       "      <td>...</td>\n",
       "      <td>...</td>\n",
       "      <td>...</td>\n",
       "      <td>...</td>\n",
       "      <td>...</td>\n",
       "      <td>...</td>\n",
       "    </tr>\n",
       "    <tr>\n",
       "      <th>1045394</th>\n",
       "      <td>https://semo.craigslist.org/ctd/d/2014-chevrol...</td>\n",
       "      <td>semo</td>\n",
       "      <td>6900</td>\n",
       "      <td>2014</td>\n",
       "      <td>chevrolet</td>\n",
       "      <td>malibu 2lt 6-speed automatic</td>\n",
       "      <td>NaN</td>\n",
       "      <td>NaN</td>\n",
       "      <td>NaN</td>\n",
       "      <td>132000.0</td>\n",
       "      <td>NaN</td>\n",
       "      <td>automatic</td>\n",
       "      <td>1G11E5SL9EF202049</td>\n",
       "      <td>fwd</td>\n",
       "      <td>NaN</td>\n",
       "      <td>sedan</td>\n",
       "      <td>NaN</td>\n",
       "      <td>https://images.craigslist.org/00G0G_cW6uE5uofp...</td>\n",
       "      <td>36.803618</td>\n",
       "      <td>-89.947992</td>\n",
       "      <td>29207.0</td>\n",
       "      <td>Stoddard</td>\n",
       "      <td>29.0</td>\n",
       "      <td>MO</td>\n",
       "      <td>Missouri</td>\n",
       "      <td>52.0</td>\n",
       "    </tr>\n",
       "    <tr>\n",
       "      <th>1045487</th>\n",
       "      <td>https://semo.craigslist.org/ctd/d/2011-nissan-...</td>\n",
       "      <td>semo</td>\n",
       "      <td>8400</td>\n",
       "      <td>2011</td>\n",
       "      <td>nissan</td>\n",
       "      <td>pathfinder</td>\n",
       "      <td>NaN</td>\n",
       "      <td>NaN</td>\n",
       "      <td>NaN</td>\n",
       "      <td>155000.0</td>\n",
       "      <td>NaN</td>\n",
       "      <td>NaN</td>\n",
       "      <td>5N1AR1NB6BC619094</td>\n",
       "      <td>NaN</td>\n",
       "      <td>NaN</td>\n",
       "      <td>NaN</td>\n",
       "      <td>NaN</td>\n",
       "      <td>https://images.craigslist.org/01010_hmfyzv5eeP...</td>\n",
       "      <td>36.803618</td>\n",
       "      <td>-89.947992</td>\n",
       "      <td>29207.0</td>\n",
       "      <td>Stoddard</td>\n",
       "      <td>29.0</td>\n",
       "      <td>MO</td>\n",
       "      <td>Missouri</td>\n",
       "      <td>52.0</td>\n",
       "    </tr>\n",
       "    <tr>\n",
       "      <th>1045488</th>\n",
       "      <td>https://semo.craigslist.org/ctd/d/1994-ford-mu...</td>\n",
       "      <td>semo</td>\n",
       "      <td>2600</td>\n",
       "      <td>1994</td>\n",
       "      <td>ford</td>\n",
       "      <td>mustang</td>\n",
       "      <td>NaN</td>\n",
       "      <td>NaN</td>\n",
       "      <td>NaN</td>\n",
       "      <td>103000.0</td>\n",
       "      <td>NaN</td>\n",
       "      <td>automatic</td>\n",
       "      <td>1FALP4442RF143397</td>\n",
       "      <td>NaN</td>\n",
       "      <td>NaN</td>\n",
       "      <td>NaN</td>\n",
       "      <td>NaN</td>\n",
       "      <td>https://images.craigslist.org/00z0z_cq55h65fNm...</td>\n",
       "      <td>36.803618</td>\n",
       "      <td>-89.947992</td>\n",
       "      <td>29207.0</td>\n",
       "      <td>Stoddard</td>\n",
       "      <td>29.0</td>\n",
       "      <td>MO</td>\n",
       "      <td>Missouri</td>\n",
       "      <td>52.0</td>\n",
       "    </tr>\n",
       "    <tr>\n",
       "      <th>1045508</th>\n",
       "      <td>https://semo.craigslist.org/ctd/d/2008-ford-fo...</td>\n",
       "      <td>semo</td>\n",
       "      <td>3600</td>\n",
       "      <td>2008</td>\n",
       "      <td>ford</td>\n",
       "      <td>focus</td>\n",
       "      <td>NaN</td>\n",
       "      <td>NaN</td>\n",
       "      <td>gas</td>\n",
       "      <td>92057.0</td>\n",
       "      <td>NaN</td>\n",
       "      <td>manual</td>\n",
       "      <td>1FAHP34N88W273112</td>\n",
       "      <td>fwd</td>\n",
       "      <td>NaN</td>\n",
       "      <td>NaN</td>\n",
       "      <td>NaN</td>\n",
       "      <td>https://images.craigslist.org/00909_k9GKIpl66y...</td>\n",
       "      <td>36.803618</td>\n",
       "      <td>-89.947992</td>\n",
       "      <td>29207.0</td>\n",
       "      <td>Stoddard</td>\n",
       "      <td>29.0</td>\n",
       "      <td>MO</td>\n",
       "      <td>Missouri</td>\n",
       "      <td>52.0</td>\n",
       "    </tr>\n",
       "    <tr>\n",
       "      <th>1045652</th>\n",
       "      <td>https://semo.craigslist.org/ctd/d/1994-ford-mu...</td>\n",
       "      <td>semo</td>\n",
       "      <td>2600</td>\n",
       "      <td>1994</td>\n",
       "      <td>ford</td>\n",
       "      <td>mustang</td>\n",
       "      <td>NaN</td>\n",
       "      <td>NaN</td>\n",
       "      <td>NaN</td>\n",
       "      <td>103000.0</td>\n",
       "      <td>NaN</td>\n",
       "      <td>automatic</td>\n",
       "      <td>1FALP4442RF143397</td>\n",
       "      <td>NaN</td>\n",
       "      <td>NaN</td>\n",
       "      <td>NaN</td>\n",
       "      <td>NaN</td>\n",
       "      <td>https://images.craigslist.org/00z0z_cq55h65fNm...</td>\n",
       "      <td>36.803618</td>\n",
       "      <td>-89.947992</td>\n",
       "      <td>29207.0</td>\n",
       "      <td>Stoddard</td>\n",
       "      <td>29.0</td>\n",
       "      <td>MO</td>\n",
       "      <td>Missouri</td>\n",
       "      <td>52.0</td>\n",
       "    </tr>\n",
       "  </tbody>\n",
       "</table>\n",
       "<p>1545 rows × 26 columns</p>\n",
       "</div>"
      ],
      "text/plain": [
       "                                                       url   city  price  \\\n",
       "711      https://ogden.craigslist.org/ctd/d/1998-volksw...  ogden   3199   \n",
       "712      https://ogden.craigslist.org/ctd/d/2013-toyota...  ogden  20399   \n",
       "713      https://ogden.craigslist.org/ctd/d/2008-toyota...  ogden  13222   \n",
       "714      https://ogden.craigslist.org/ctd/d/2004-toyota...  ogden   5935   \n",
       "715      https://ogden.craigslist.org/ctd/d/2007-toyota...  ogden   6841   \n",
       "...                                                    ...    ...    ...   \n",
       "1045394  https://semo.craigslist.org/ctd/d/2014-chevrol...   semo   6900   \n",
       "1045487  https://semo.craigslist.org/ctd/d/2011-nissan-...   semo   8400   \n",
       "1045488  https://semo.craigslist.org/ctd/d/1994-ford-mu...   semo   2600   \n",
       "1045508  https://semo.craigslist.org/ctd/d/2008-ford-fo...   semo   3600   \n",
       "1045652  https://semo.craigslist.org/ctd/d/1994-ford-mu...   semo   2600   \n",
       "\n",
       "         year manufacturer                          make condition cylinders  \\\n",
       "711      1998   volkswagen                           gti       NaN       NaN   \n",
       "712      2013       toyota                        tacoma       NaN       NaN   \n",
       "713      2008       toyota                        tacoma       NaN       NaN   \n",
       "714      2004       toyota                         prius       NaN       NaN   \n",
       "715      2007       toyota                         camry       NaN       NaN   \n",
       "...       ...          ...                           ...       ...       ...   \n",
       "1045394  2014    chevrolet  malibu 2lt 6-speed automatic       NaN       NaN   \n",
       "1045487  2011       nissan                    pathfinder       NaN       NaN   \n",
       "1045488  1994         ford                       mustang       NaN       NaN   \n",
       "1045508  2008         ford                         focus       NaN       NaN   \n",
       "1045652  1994         ford                       mustang       NaN       NaN   \n",
       "\n",
       "        fuel  odometer title_status transmission                vin drive  \\\n",
       "711      NaN  129718.0          NaN    automatic  3VWDA81H2WM219546   NaN   \n",
       "712      NaN   52992.0          NaN    automatic  3TMJU4GN9DM148846   NaN   \n",
       "713      NaN  140879.0          NaN       manual  5TEUX42N68Z500012   NaN   \n",
       "714      NaN  144741.0          NaN        other  JTDKB20U140078987   NaN   \n",
       "715      NaN  141026.0          NaN    automatic  4T1BE46KX7U514026   NaN   \n",
       "...      ...       ...          ...          ...                ...   ...   \n",
       "1045394  NaN  132000.0          NaN    automatic  1G11E5SL9EF202049   fwd   \n",
       "1045487  NaN  155000.0          NaN          NaN  5N1AR1NB6BC619094   NaN   \n",
       "1045488  NaN  103000.0          NaN    automatic  1FALP4442RF143397   NaN   \n",
       "1045508  gas   92057.0          NaN       manual  1FAHP34N88W273112   fwd   \n",
       "1045652  NaN  103000.0          NaN    automatic  1FALP4442RF143397   NaN   \n",
       "\n",
       "        size       type paint_color  \\\n",
       "711      NaN  hatchback      yellow   \n",
       "712      NaN        NaN         NaN   \n",
       "713      NaN        NaN      silver   \n",
       "714      NaN      sedan         NaN   \n",
       "715      NaN      sedan       white   \n",
       "...      ...        ...         ...   \n",
       "1045394  NaN      sedan         NaN   \n",
       "1045487  NaN        NaN         NaN   \n",
       "1045488  NaN        NaN         NaN   \n",
       "1045508  NaN        NaN         NaN   \n",
       "1045652  NaN        NaN         NaN   \n",
       "\n",
       "                                                 image_url        lat  \\\n",
       "711      https://images.craigslist.org/00808_2ImZMc17NN...  43.618808   \n",
       "712      https://images.craigslist.org/00808_2XBEsB5t2F...  43.618808   \n",
       "713      https://images.craigslist.org/01515_aH1Ax3xNny...  43.618808   \n",
       "714      https://images.craigslist.org/01414_g2F53ObEcr...  43.618808   \n",
       "715      https://images.craigslist.org/01515_cLa189rIx6...  43.618808   \n",
       "...                                                    ...        ...   \n",
       "1045394  https://images.craigslist.org/00G0G_cW6uE5uofp...  36.803618   \n",
       "1045487  https://images.craigslist.org/01010_hmfyzv5eeP...  36.803618   \n",
       "1045488  https://images.craigslist.org/00z0z_cq55h65fNm...  36.803618   \n",
       "1045508  https://images.craigslist.org/00909_k9GKIpl66y...  36.803618   \n",
       "1045652  https://images.craigslist.org/00z0z_cq55h65fNm...  36.803618   \n",
       "\n",
       "               long  county_fips county_name  state_fips state_code  \\\n",
       "711     -116.307269      16001.0         Ada        16.0         ID   \n",
       "712     -116.307269      16001.0         Ada        16.0         ID   \n",
       "713     -116.307269      16001.0         Ada        16.0         ID   \n",
       "714     -116.307269      16001.0         Ada        16.0         ID   \n",
       "715     -116.307269      16001.0         Ada        16.0         ID   \n",
       "...             ...          ...         ...         ...        ...   \n",
       "1045394  -89.947992      29207.0    Stoddard        29.0         MO   \n",
       "1045487  -89.947992      29207.0    Stoddard        29.0         MO   \n",
       "1045488  -89.947992      29207.0    Stoddard        29.0         MO   \n",
       "1045508  -89.947992      29207.0    Stoddard        29.0         MO   \n",
       "1045652  -89.947992      29207.0    Stoddard        29.0         MO   \n",
       "\n",
       "        state_name  weather  \n",
       "711          Idaho     47.0  \n",
       "712          Idaho     47.0  \n",
       "713          Idaho     47.0  \n",
       "714          Idaho     47.0  \n",
       "715          Idaho     47.0  \n",
       "...            ...      ...  \n",
       "1045394   Missouri     52.0  \n",
       "1045487   Missouri     52.0  \n",
       "1045488   Missouri     52.0  \n",
       "1045508   Missouri     52.0  \n",
       "1045652   Missouri     52.0  \n",
       "\n",
       "[1545 rows x 26 columns]"
      ]
     },
     "execution_count": 19,
     "metadata": {},
     "output_type": "execute_result"
    }
   ],
   "source": [
    "df[df['title_status'].isnull()]"
   ]
  },
  {
   "cell_type": "markdown",
   "metadata": {},
   "source": [
    "Let's compare 'make' between two groups in 'title_status': notnull vs. isnull"
   ]
  },
  {
   "cell_type": "code",
   "execution_count": 20,
   "metadata": {},
   "outputs": [
    {
     "data": {
      "text/plain": [
       "1500                       13871\n",
       "f-150                      12992\n",
       "silverado 1500              8658\n",
       "2500                        8065\n",
       "silverado                   7976\n",
       "                           ...  \n",
       "Saab 900 SE Convertible        1\n",
       "f150 xlt lariot                1\n",
       "f350 flat bed v8 gas           1\n",
       "Maserati Levante               1\n",
       "clk 430 cabriolet              1\n",
       "Name: make, Length: 75522, dtype: int64"
      ]
     },
     "execution_count": 20,
     "metadata": {},
     "output_type": "execute_result"
    }
   ],
   "source": [
    "df['make'][df['title_status'].notnull()].value_counts()"
   ]
  },
  {
   "cell_type": "code",
   "execution_count": 21,
   "metadata": {},
   "outputs": [
    {
     "data": {
      "text/plain": [
       "corolla                              16\n",
       "civic                                15\n",
       "focus                                13\n",
       "accord                               13\n",
       "tundra                               12\n",
       "                                     ..\n",
       "forester 2.5i premium                 1\n",
       "f-550                                 1\n",
       "ml350                                 1\n",
       "silverado 2500hd lt1 ext. cab 2wd     1\n",
       "hyudai elantra                        1\n",
       "Name: make, Length: 725, dtype: int64"
      ]
     },
     "execution_count": 21,
     "metadata": {},
     "output_type": "execute_result"
    }
   ],
   "source": [
    "df['make'][df['title_status'].isnull()].value_counts()"
   ]
  },
  {
   "cell_type": "markdown",
   "metadata": {},
   "source": [
    "As seen above, top 'makes' of isnull in 'title_status' seem small sedan or Japanese brands unlike top 'makes' of notnull in 'title_status'."
   ]
  },
  {
   "cell_type": "markdown",
   "metadata": {},
   "source": [
    "Let's compare 'manufacturer' between two groups in 'title_status': notnull vs. isnull"
   ]
  },
  {
   "cell_type": "code",
   "execution_count": 22,
   "metadata": {},
   "outputs": [
    {
     "data": {
      "text/plain": [
       "ford               16.862927\n",
       "chevrolet          12.683734\n",
       "toyota              6.828827\n",
       "honda               5.282434\n",
       "nissan              4.430564\n",
       "dodge               4.402443\n",
       "jeep                4.388000\n",
       "gmc                 4.172115\n",
       "ram                 3.315176\n",
       "bmw                 2.565270\n",
       "chevy               2.353498\n",
       "volkswagen          2.003223\n",
       "subaru              1.839660\n",
       "hyundai             1.810295\n",
       "chrysler            1.761322\n",
       "mercedes-benz       1.472264\n",
       "cadillac            1.447012\n",
       "kia                 1.401482\n",
       "mazda               1.366952\n",
       "buick               1.325726\n",
       "pontiac             1.287752\n",
       "lexus               1.178040\n",
       "acura               1.099989\n",
       "audi                0.928486\n",
       "lincoln             0.737758\n",
       "infiniti            0.671758\n",
       "volvo               0.667550\n",
       "mitsubishi          0.613890\n",
       "mercury             0.587107\n",
       "saturn              0.537273\n",
       "mercedes            0.415987\n",
       "mini                0.391309\n",
       "rover               0.344823\n",
       "vw                  0.267823\n",
       "jaguar              0.248406\n",
       "fiat                0.117460\n",
       "chev                0.049356\n",
       "datsun              0.039121\n",
       "harley-davidson     0.033669\n",
       "infinity            0.029461\n",
       "ferrari             0.016356\n",
       "harley              0.013869\n",
       "alfa-romeo          0.008704\n",
       "porche              0.006217\n",
       "alfa                0.004878\n",
       "land rover          0.003539\n",
       "aston               0.003348\n",
       "aston-martin        0.003348\n",
       "landrover           0.001626\n",
       "morgan              0.000765\n",
       "mercedesbenz        0.000383\n",
       "noble               0.000191\n",
       "hennessey           0.000096\n",
       "Name: manufacturer, dtype: float64"
      ]
     },
     "execution_count": 22,
     "metadata": {},
     "output_type": "execute_result"
    }
   ],
   "source": [
    "(df['manufacturer'][df['title_status'].notnull()].value_counts()/len(df['manufacturer'][df['title_status'].notnull()])).astype(float)*100"
   ]
  },
  {
   "cell_type": "code",
   "execution_count": 23,
   "metadata": {},
   "outputs": [
    {
     "data": {
      "text/plain": [
       "ford             10.161812\n",
       "honda             9.126214\n",
       "toyota            9.126214\n",
       "chevrolet         7.702265\n",
       "nissan            6.343042\n",
       "mazda             4.854369\n",
       "hyundai           4.789644\n",
       "dodge             4.012945\n",
       "subaru            3.754045\n",
       "bmw               3.495146\n",
       "volkswagen        3.495146\n",
       "kia               2.977346\n",
       "jeep              2.653722\n",
       "mercedes-benz     2.394822\n",
       "chrysler          2.006472\n",
       "pontiac           1.941748\n",
       "infiniti          1.618123\n",
       "acura             1.553398\n",
       "gmc               1.423948\n",
       "lexus             1.359223\n",
       "audi              1.229773\n",
       "mitsubishi        1.100324\n",
       "mercedes          1.035599\n",
       "ram               0.841424\n",
       "mercury           0.841424\n",
       "volvo             0.841424\n",
       "cadillac          0.647249\n",
       "buick             0.582524\n",
       "mini              0.517799\n",
       "jaguar            0.453074\n",
       "fiat              0.388350\n",
       "rover             0.323625\n",
       "saturn            0.323625\n",
       "lincoln           0.258900\n",
       "vw                0.194175\n",
       "Name: manufacturer, dtype: float64"
      ]
     },
     "execution_count": 23,
     "metadata": {},
     "output_type": "execute_result"
    }
   ],
   "source": [
    "(df['manufacturer'][df['title_status'].isnull()].value_counts()/len(df['manufacturer'][df['title_status'].isnull()])).astype(float)*100"
   ]
  },
  {
   "cell_type": "markdown",
   "metadata": {},
   "source": [
    "As seen above, there seems no obvious correlation with notnull and isnull of 'title_status' regarding 'make' and 'manufacturer'."
   ]
  },
  {
   "cell_type": "markdown",
   "metadata": {},
   "source": [
    "Let's compare 'type' between two groups in 'title_status': notnull vs. isnull"
   ]
  },
  {
   "cell_type": "code",
   "execution_count": 24,
   "metadata": {},
   "outputs": [
    {
     "data": {
      "text/plain": [
       "sedan          15.377464\n",
       "SUV            14.046286\n",
       "truck           7.513307\n",
       "pickup          7.161694\n",
       "coupe           4.200332\n",
       "hatchback       2.254882\n",
       "convertible     1.785043\n",
       "wagon           1.595271\n",
       "van             1.466429\n",
       "mini-van        1.448829\n",
       "other           1.429890\n",
       "offroad         0.308953\n",
       "bus             0.114399\n",
       "Name: type, dtype: float64"
      ]
     },
     "execution_count": 24,
     "metadata": {},
     "output_type": "execute_result"
    }
   ],
   "source": [
    "(df['type'][df['title_status'].notnull()].value_counts()/len(df['type'][df['title_status'].notnull()])).astype(float)*100"
   ]
  },
  {
   "cell_type": "code",
   "execution_count": 25,
   "metadata": {},
   "outputs": [
    {
     "data": {
      "text/plain": [
       "sedan          5.177994\n",
       "SUV            3.948220\n",
       "pickup         1.941748\n",
       "coupe          0.711974\n",
       "van            0.711974\n",
       "hatchback      0.582524\n",
       "wagon          0.388350\n",
       "convertible    0.194175\n",
       "mini-van       0.064725\n",
       "Name: type, dtype: float64"
      ]
     },
     "execution_count": 25,
     "metadata": {},
     "output_type": "execute_result"
    }
   ],
   "source": [
    "(df['type'][df['title_status'].isnull()].value_counts()/len(df['type'][df['title_status'].isnull()])).astype(float)*100"
   ]
  },
  {
   "cell_type": "markdown",
   "metadata": {},
   "source": [
    "Let's leave rows with null value in 'title_status' in that null value of 'title_status' can be ignorable."
   ]
  },
  {
   "cell_type": "markdown",
   "metadata": {},
   "source": [
    "Let's look into 'trasmission' by value_counts()."
   ]
  },
  {
   "cell_type": "code",
   "execution_count": 26,
   "metadata": {},
   "outputs": [
    {
     "data": {
      "text/plain": [
       "automatic    892959\n",
       "manual       125469\n",
       "other         22766\n",
       "Name: transmission, dtype: int64"
      ]
     },
     "execution_count": 26,
     "metadata": {},
     "output_type": "execute_result"
    }
   ],
   "source": [
    "df['transmission'].value_counts()"
   ]
  },
  {
   "cell_type": "markdown",
   "metadata": {},
   "source": [
    "Now let's take a look at rows whose 'transmission' value is null."
   ]
  },
  {
   "cell_type": "code",
   "execution_count": 27,
   "metadata": {},
   "outputs": [
    {
     "data": {
      "text/html": [
       "<div>\n",
       "<style scoped>\n",
       "    .dataframe tbody tr th:only-of-type {\n",
       "        vertical-align: middle;\n",
       "    }\n",
       "\n",
       "    .dataframe tbody tr th {\n",
       "        vertical-align: top;\n",
       "    }\n",
       "\n",
       "    .dataframe thead th {\n",
       "        text-align: right;\n",
       "    }\n",
       "</style>\n",
       "<table border=\"1\" class=\"dataframe\">\n",
       "  <thead>\n",
       "    <tr style=\"text-align: right;\">\n",
       "      <th></th>\n",
       "      <th>url</th>\n",
       "      <th>city</th>\n",
       "      <th>price</th>\n",
       "      <th>year</th>\n",
       "      <th>manufacturer</th>\n",
       "      <th>make</th>\n",
       "      <th>condition</th>\n",
       "      <th>cylinders</th>\n",
       "      <th>fuel</th>\n",
       "      <th>odometer</th>\n",
       "      <th>title_status</th>\n",
       "      <th>transmission</th>\n",
       "      <th>vin</th>\n",
       "      <th>drive</th>\n",
       "      <th>size</th>\n",
       "      <th>type</th>\n",
       "      <th>paint_color</th>\n",
       "      <th>image_url</th>\n",
       "      <th>lat</th>\n",
       "      <th>long</th>\n",
       "      <th>county_fips</th>\n",
       "      <th>county_name</th>\n",
       "      <th>state_fips</th>\n",
       "      <th>state_code</th>\n",
       "      <th>state_name</th>\n",
       "      <th>weather</th>\n",
       "    </tr>\n",
       "  </thead>\n",
       "  <tbody>\n",
       "    <tr>\n",
       "      <th>7</th>\n",
       "      <td>https://marshall.craigslist.org/ctd/d/2008-bmw...</td>\n",
       "      <td>marshall</td>\n",
       "      <td>3900</td>\n",
       "      <td>2008</td>\n",
       "      <td>bmw</td>\n",
       "      <td>3 series</td>\n",
       "      <td>NaN</td>\n",
       "      <td>NaN</td>\n",
       "      <td>gas</td>\n",
       "      <td>0.0</td>\n",
       "      <td>clean</td>\n",
       "      <td>NaN</td>\n",
       "      <td>WBAVA37508NL47474</td>\n",
       "      <td>NaN</td>\n",
       "      <td>NaN</td>\n",
       "      <td>NaN</td>\n",
       "      <td>NaN</td>\n",
       "      <td>https://images.craigslist.org/00202_8ciATrWst3...</td>\n",
       "      <td>41.622572</td>\n",
       "      <td>-87.632656</td>\n",
       "      <td>17031.0</td>\n",
       "      <td>Cook</td>\n",
       "      <td>17.0</td>\n",
       "      <td>IL</td>\n",
       "      <td>Illinois</td>\n",
       "      <td>48.0</td>\n",
       "    </tr>\n",
       "    <tr>\n",
       "      <th>2079</th>\n",
       "      <td>https://buffalo.craigslist.org/ctd/d/2008-bmw-...</td>\n",
       "      <td>buffalo</td>\n",
       "      <td>8995</td>\n",
       "      <td>2008</td>\n",
       "      <td>bmw</td>\n",
       "      <td>328xi</td>\n",
       "      <td>NaN</td>\n",
       "      <td>NaN</td>\n",
       "      <td>gas</td>\n",
       "      <td>91340.0</td>\n",
       "      <td>clean</td>\n",
       "      <td>NaN</td>\n",
       "      <td>WBAVC93508KZ72509</td>\n",
       "      <td>NaN</td>\n",
       "      <td>compact</td>\n",
       "      <td>sedan</td>\n",
       "      <td>black</td>\n",
       "      <td>https://images.craigslist.org/01313_blKOGJyXhB...</td>\n",
       "      <td>42.863917</td>\n",
       "      <td>-78.754393</td>\n",
       "      <td>36029.0</td>\n",
       "      <td>Erie</td>\n",
       "      <td>36.0</td>\n",
       "      <td>NY</td>\n",
       "      <td>New York</td>\n",
       "      <td>53.0</td>\n",
       "    </tr>\n",
       "    <tr>\n",
       "      <th>2264</th>\n",
       "      <td>https://providence.craigslist.org/ctd/d/2012-f...</td>\n",
       "      <td>providence</td>\n",
       "      <td>6995</td>\n",
       "      <td>2012</td>\n",
       "      <td>ford</td>\n",
       "      <td>fiesta</td>\n",
       "      <td>NaN</td>\n",
       "      <td>NaN</td>\n",
       "      <td>other</td>\n",
       "      <td>73002.0</td>\n",
       "      <td>clean</td>\n",
       "      <td>NaN</td>\n",
       "      <td>3FADP4FJXCM183774</td>\n",
       "      <td>NaN</td>\n",
       "      <td>sub-compact</td>\n",
       "      <td>hatchback</td>\n",
       "      <td>black</td>\n",
       "      <td>https://images.craigslist.org/00p0p_1E1CnNRAjU...</td>\n",
       "      <td>41.868090</td>\n",
       "      <td>-71.509330</td>\n",
       "      <td>44007.0</td>\n",
       "      <td>Providence</td>\n",
       "      <td>44.0</td>\n",
       "      <td>RI</td>\n",
       "      <td>Rhode Island</td>\n",
       "      <td>49.0</td>\n",
       "    </tr>\n",
       "    <tr>\n",
       "      <th>2402</th>\n",
       "      <td>https://providence.craigslist.org/ctd/d/2006-f...</td>\n",
       "      <td>providence</td>\n",
       "      <td>32990</td>\n",
       "      <td>2006</td>\n",
       "      <td>ford</td>\n",
       "      <td>f-550</td>\n",
       "      <td>NaN</td>\n",
       "      <td>NaN</td>\n",
       "      <td>diesel</td>\n",
       "      <td>103939.0</td>\n",
       "      <td>clean</td>\n",
       "      <td>NaN</td>\n",
       "      <td>1FDAF57P66ED20417</td>\n",
       "      <td>4wd</td>\n",
       "      <td>full-size</td>\n",
       "      <td>other</td>\n",
       "      <td>white</td>\n",
       "      <td>https://images.craigslist.org/00000_eHkL6uPf3G...</td>\n",
       "      <td>42.834977</td>\n",
       "      <td>-71.107791</td>\n",
       "      <td>33015.0</td>\n",
       "      <td>Rockingham</td>\n",
       "      <td>33.0</td>\n",
       "      <td>NH</td>\n",
       "      <td>New Hampshire</td>\n",
       "      <td>43.0</td>\n",
       "    </tr>\n",
       "    <tr>\n",
       "      <th>2474</th>\n",
       "      <td>https://daytona.craigslist.org/ctd/d/2012-merc...</td>\n",
       "      <td>daytona</td>\n",
       "      <td>21995</td>\n",
       "      <td>2012</td>\n",
       "      <td>mercedes-benz</td>\n",
       "      <td>e-class</td>\n",
       "      <td>NaN</td>\n",
       "      <td>NaN</td>\n",
       "      <td>gas</td>\n",
       "      <td>NaN</td>\n",
       "      <td>clean</td>\n",
       "      <td>NaN</td>\n",
       "      <td>WDDHF8JB6CA552543</td>\n",
       "      <td>NaN</td>\n",
       "      <td>NaN</td>\n",
       "      <td>sedan</td>\n",
       "      <td>black</td>\n",
       "      <td>https://images.craigslist.org/00g0g_bQb8OB23qW...</td>\n",
       "      <td>28.424030</td>\n",
       "      <td>-81.404090</td>\n",
       "      <td>12095.0</td>\n",
       "      <td>Orange</td>\n",
       "      <td>12.0</td>\n",
       "      <td>FL</td>\n",
       "      <td>Florida</td>\n",
       "      <td>65.0</td>\n",
       "    </tr>\n",
       "    <tr>\n",
       "      <th>...</th>\n",
       "      <td>...</td>\n",
       "      <td>...</td>\n",
       "      <td>...</td>\n",
       "      <td>...</td>\n",
       "      <td>...</td>\n",
       "      <td>...</td>\n",
       "      <td>...</td>\n",
       "      <td>...</td>\n",
       "      <td>...</td>\n",
       "      <td>...</td>\n",
       "      <td>...</td>\n",
       "      <td>...</td>\n",
       "      <td>...</td>\n",
       "      <td>...</td>\n",
       "      <td>...</td>\n",
       "      <td>...</td>\n",
       "      <td>...</td>\n",
       "      <td>...</td>\n",
       "      <td>...</td>\n",
       "      <td>...</td>\n",
       "      <td>...</td>\n",
       "      <td>...</td>\n",
       "      <td>...</td>\n",
       "      <td>...</td>\n",
       "      <td>...</td>\n",
       "      <td>...</td>\n",
       "    </tr>\n",
       "    <tr>\n",
       "      <th>1048900</th>\n",
       "      <td>https://topeka.craigslist.org/ctd/d/2015-gmc-y...</td>\n",
       "      <td>topeka</td>\n",
       "      <td>38995</td>\n",
       "      <td>2015</td>\n",
       "      <td>gmc</td>\n",
       "      <td>yukon</td>\n",
       "      <td>NaN</td>\n",
       "      <td>NaN</td>\n",
       "      <td>NaN</td>\n",
       "      <td>71080.0</td>\n",
       "      <td>clean</td>\n",
       "      <td>NaN</td>\n",
       "      <td>1GKS2CKJXFR174578</td>\n",
       "      <td>NaN</td>\n",
       "      <td>NaN</td>\n",
       "      <td>NaN</td>\n",
       "      <td>NaN</td>\n",
       "      <td>https://images.craigslist.org/00z0z_2z0Jj7eIQL...</td>\n",
       "      <td>38.641900</td>\n",
       "      <td>-94.328500</td>\n",
       "      <td>29037.0</td>\n",
       "      <td>Cass/Van Buren</td>\n",
       "      <td>29.0</td>\n",
       "      <td>MO</td>\n",
       "      <td>Missouri</td>\n",
       "      <td>52.0</td>\n",
       "    </tr>\n",
       "    <tr>\n",
       "      <th>1048906</th>\n",
       "      <td>https://topeka.craigslist.org/ctd/d/2013-ford-...</td>\n",
       "      <td>topeka</td>\n",
       "      <td>38995</td>\n",
       "      <td>2013</td>\n",
       "      <td>ford</td>\n",
       "      <td>f350 super duty crew cab</td>\n",
       "      <td>NaN</td>\n",
       "      <td>NaN</td>\n",
       "      <td>NaN</td>\n",
       "      <td>98741.0</td>\n",
       "      <td>clean</td>\n",
       "      <td>NaN</td>\n",
       "      <td>1FT8W3DT0DEB13074</td>\n",
       "      <td>NaN</td>\n",
       "      <td>NaN</td>\n",
       "      <td>NaN</td>\n",
       "      <td>NaN</td>\n",
       "      <td>https://images.craigslist.org/00c0c_9Pwfu3Xd0R...</td>\n",
       "      <td>38.641900</td>\n",
       "      <td>-94.328500</td>\n",
       "      <td>29037.0</td>\n",
       "      <td>Cass/Van Buren</td>\n",
       "      <td>29.0</td>\n",
       "      <td>MO</td>\n",
       "      <td>Missouri</td>\n",
       "      <td>52.0</td>\n",
       "    </tr>\n",
       "    <tr>\n",
       "      <th>1048907</th>\n",
       "      <td>https://topeka.craigslist.org/ctd/d/2015-ford-...</td>\n",
       "      <td>topeka</td>\n",
       "      <td>22861</td>\n",
       "      <td>2015</td>\n",
       "      <td>ford</td>\n",
       "      <td>explorer</td>\n",
       "      <td>NaN</td>\n",
       "      <td>NaN</td>\n",
       "      <td>NaN</td>\n",
       "      <td>91340.0</td>\n",
       "      <td>clean</td>\n",
       "      <td>NaN</td>\n",
       "      <td>1FM5K8F86FGA95669</td>\n",
       "      <td>NaN</td>\n",
       "      <td>NaN</td>\n",
       "      <td>NaN</td>\n",
       "      <td>NaN</td>\n",
       "      <td>https://images.craigslist.org/00B0B_7WFdpNNUMx...</td>\n",
       "      <td>38.641900</td>\n",
       "      <td>-94.328500</td>\n",
       "      <td>29037.0</td>\n",
       "      <td>Cass/Van Buren</td>\n",
       "      <td>29.0</td>\n",
       "      <td>MO</td>\n",
       "      <td>Missouri</td>\n",
       "      <td>52.0</td>\n",
       "    </tr>\n",
       "    <tr>\n",
       "      <th>1048908</th>\n",
       "      <td>https://topeka.craigslist.org/ctd/d/2013-dodge...</td>\n",
       "      <td>topeka</td>\n",
       "      <td>23335</td>\n",
       "      <td>2013</td>\n",
       "      <td>dodge</td>\n",
       "      <td>durango</td>\n",
       "      <td>NaN</td>\n",
       "      <td>NaN</td>\n",
       "      <td>NaN</td>\n",
       "      <td>88117.0</td>\n",
       "      <td>clean</td>\n",
       "      <td>NaN</td>\n",
       "      <td>1C4SDJCT9DC559544</td>\n",
       "      <td>NaN</td>\n",
       "      <td>NaN</td>\n",
       "      <td>NaN</td>\n",
       "      <td>NaN</td>\n",
       "      <td>https://images.craigslist.org/00w0w_iH2JMTzlGe...</td>\n",
       "      <td>38.641900</td>\n",
       "      <td>-94.328500</td>\n",
       "      <td>29037.0</td>\n",
       "      <td>Cass/Van Buren</td>\n",
       "      <td>29.0</td>\n",
       "      <td>MO</td>\n",
       "      <td>Missouri</td>\n",
       "      <td>52.0</td>\n",
       "    </tr>\n",
       "    <tr>\n",
       "      <th>1048916</th>\n",
       "      <td>https://topeka.craigslist.org/ctd/d/2014-infin...</td>\n",
       "      <td>topeka</td>\n",
       "      <td>31883</td>\n",
       "      <td>2014</td>\n",
       "      <td>infiniti</td>\n",
       "      <td>qx80</td>\n",
       "      <td>NaN</td>\n",
       "      <td>NaN</td>\n",
       "      <td>NaN</td>\n",
       "      <td>91964.0</td>\n",
       "      <td>clean</td>\n",
       "      <td>NaN</td>\n",
       "      <td>JN8AZ2NE2E9063120</td>\n",
       "      <td>NaN</td>\n",
       "      <td>NaN</td>\n",
       "      <td>NaN</td>\n",
       "      <td>NaN</td>\n",
       "      <td>https://images.craigslist.org/00404_62V1mFvNhw...</td>\n",
       "      <td>38.641900</td>\n",
       "      <td>-94.328500</td>\n",
       "      <td>29037.0</td>\n",
       "      <td>Cass/Van Buren</td>\n",
       "      <td>29.0</td>\n",
       "      <td>MO</td>\n",
       "      <td>Missouri</td>\n",
       "      <td>52.0</td>\n",
       "    </tr>\n",
       "  </tbody>\n",
       "</table>\n",
       "<p>5816 rows × 26 columns</p>\n",
       "</div>"
      ],
      "text/plain": [
       "                                                       url        city  price  \\\n",
       "7        https://marshall.craigslist.org/ctd/d/2008-bmw...    marshall   3900   \n",
       "2079     https://buffalo.craigslist.org/ctd/d/2008-bmw-...     buffalo   8995   \n",
       "2264     https://providence.craigslist.org/ctd/d/2012-f...  providence   6995   \n",
       "2402     https://providence.craigslist.org/ctd/d/2006-f...  providence  32990   \n",
       "2474     https://daytona.craigslist.org/ctd/d/2012-merc...     daytona  21995   \n",
       "...                                                    ...         ...    ...   \n",
       "1048900  https://topeka.craigslist.org/ctd/d/2015-gmc-y...      topeka  38995   \n",
       "1048906  https://topeka.craigslist.org/ctd/d/2013-ford-...      topeka  38995   \n",
       "1048907  https://topeka.craigslist.org/ctd/d/2015-ford-...      topeka  22861   \n",
       "1048908  https://topeka.craigslist.org/ctd/d/2013-dodge...      topeka  23335   \n",
       "1048916  https://topeka.craigslist.org/ctd/d/2014-infin...      topeka  31883   \n",
       "\n",
       "         year   manufacturer                      make condition cylinders  \\\n",
       "7        2008            bmw                  3 series       NaN       NaN   \n",
       "2079     2008            bmw                     328xi       NaN       NaN   \n",
       "2264     2012           ford                    fiesta       NaN       NaN   \n",
       "2402     2006           ford                     f-550       NaN       NaN   \n",
       "2474     2012  mercedes-benz                   e-class       NaN       NaN   \n",
       "...       ...            ...                       ...       ...       ...   \n",
       "1048900  2015            gmc                     yukon       NaN       NaN   \n",
       "1048906  2013           ford  f350 super duty crew cab       NaN       NaN   \n",
       "1048907  2015           ford                  explorer       NaN       NaN   \n",
       "1048908  2013          dodge                   durango       NaN       NaN   \n",
       "1048916  2014       infiniti                      qx80       NaN       NaN   \n",
       "\n",
       "           fuel  odometer title_status transmission                vin drive  \\\n",
       "7           gas       0.0        clean          NaN  WBAVA37508NL47474   NaN   \n",
       "2079        gas   91340.0        clean          NaN  WBAVC93508KZ72509   NaN   \n",
       "2264      other   73002.0        clean          NaN  3FADP4FJXCM183774   NaN   \n",
       "2402     diesel  103939.0        clean          NaN  1FDAF57P66ED20417   4wd   \n",
       "2474        gas       NaN        clean          NaN  WDDHF8JB6CA552543   NaN   \n",
       "...         ...       ...          ...          ...                ...   ...   \n",
       "1048900     NaN   71080.0        clean          NaN  1GKS2CKJXFR174578   NaN   \n",
       "1048906     NaN   98741.0        clean          NaN  1FT8W3DT0DEB13074   NaN   \n",
       "1048907     NaN   91340.0        clean          NaN  1FM5K8F86FGA95669   NaN   \n",
       "1048908     NaN   88117.0        clean          NaN  1C4SDJCT9DC559544   NaN   \n",
       "1048916     NaN   91964.0        clean          NaN  JN8AZ2NE2E9063120   NaN   \n",
       "\n",
       "                size       type paint_color  \\\n",
       "7                NaN        NaN         NaN   \n",
       "2079         compact      sedan       black   \n",
       "2264     sub-compact  hatchback       black   \n",
       "2402       full-size      other       white   \n",
       "2474             NaN      sedan       black   \n",
       "...              ...        ...         ...   \n",
       "1048900          NaN        NaN         NaN   \n",
       "1048906          NaN        NaN         NaN   \n",
       "1048907          NaN        NaN         NaN   \n",
       "1048908          NaN        NaN         NaN   \n",
       "1048916          NaN        NaN         NaN   \n",
       "\n",
       "                                                 image_url        lat  \\\n",
       "7        https://images.craigslist.org/00202_8ciATrWst3...  41.622572   \n",
       "2079     https://images.craigslist.org/01313_blKOGJyXhB...  42.863917   \n",
       "2264     https://images.craigslist.org/00p0p_1E1CnNRAjU...  41.868090   \n",
       "2402     https://images.craigslist.org/00000_eHkL6uPf3G...  42.834977   \n",
       "2474     https://images.craigslist.org/00g0g_bQb8OB23qW...  28.424030   \n",
       "...                                                    ...        ...   \n",
       "1048900  https://images.craigslist.org/00z0z_2z0Jj7eIQL...  38.641900   \n",
       "1048906  https://images.craigslist.org/00c0c_9Pwfu3Xd0R...  38.641900   \n",
       "1048907  https://images.craigslist.org/00B0B_7WFdpNNUMx...  38.641900   \n",
       "1048908  https://images.craigslist.org/00w0w_iH2JMTzlGe...  38.641900   \n",
       "1048916  https://images.craigslist.org/00404_62V1mFvNhw...  38.641900   \n",
       "\n",
       "              long  county_fips     county_name  state_fips state_code  \\\n",
       "7       -87.632656      17031.0            Cook        17.0         IL   \n",
       "2079    -78.754393      36029.0            Erie        36.0         NY   \n",
       "2264    -71.509330      44007.0      Providence        44.0         RI   \n",
       "2402    -71.107791      33015.0      Rockingham        33.0         NH   \n",
       "2474    -81.404090      12095.0          Orange        12.0         FL   \n",
       "...            ...          ...             ...         ...        ...   \n",
       "1048900 -94.328500      29037.0  Cass/Van Buren        29.0         MO   \n",
       "1048906 -94.328500      29037.0  Cass/Van Buren        29.0         MO   \n",
       "1048907 -94.328500      29037.0  Cass/Van Buren        29.0         MO   \n",
       "1048908 -94.328500      29037.0  Cass/Van Buren        29.0         MO   \n",
       "1048916 -94.328500      29037.0  Cass/Van Buren        29.0         MO   \n",
       "\n",
       "            state_name  weather  \n",
       "7             Illinois     48.0  \n",
       "2079          New York     53.0  \n",
       "2264      Rhode Island     49.0  \n",
       "2402     New Hampshire     43.0  \n",
       "2474           Florida     65.0  \n",
       "...                ...      ...  \n",
       "1048900       Missouri     52.0  \n",
       "1048906       Missouri     52.0  \n",
       "1048907       Missouri     52.0  \n",
       "1048908       Missouri     52.0  \n",
       "1048916       Missouri     52.0  \n",
       "\n",
       "[5816 rows x 26 columns]"
      ]
     },
     "execution_count": 27,
     "metadata": {},
     "output_type": "execute_result"
    }
   ],
   "source": [
    "df[df['transmission'].isnull()]"
   ]
  },
  {
   "cell_type": "markdown",
   "metadata": {},
   "source": [
    "Let's compare 'make' between two groups in 'transmission': notnull vs. isnull"
   ]
  },
  {
   "cell_type": "code",
   "execution_count": 28,
   "metadata": {},
   "outputs": [
    {
     "data": {
      "text/plain": [
       "1500                 13850\n",
       "f-150                12902\n",
       "silverado 1500        8661\n",
       "2500                  8055\n",
       "silverado             7872\n",
       "                     ...  \n",
       "altima 2.5 liters        1\n",
       "Bricklin                 1\n",
       "dx xtra cab              1\n",
       "ki ario                  1\n",
       "clk 430 cabriolet        1\n",
       "Name: make, Length: 75438, dtype: int64"
      ]
     },
     "execution_count": 28,
     "metadata": {},
     "output_type": "execute_result"
    }
   ],
   "source": [
    "df['make'][df['transmission'].notnull()].value_counts()"
   ]
  },
  {
   "cell_type": "code",
   "execution_count": 29,
   "metadata": {},
   "outputs": [
    {
     "data": {
      "text/plain": [
       "altima            255\n",
       "accord            149\n",
       "wrangler          126\n",
       "civic             124\n",
       "silverado         114\n",
       "                 ... \n",
       "amanti              1\n",
       "astro               1\n",
       "nx 300h             1\n",
       "benz                1\n",
       "hyudai elantra      1\n",
       "Name: make, Length: 994, dtype: int64"
      ]
     },
     "execution_count": 29,
     "metadata": {},
     "output_type": "execute_result"
    }
   ],
   "source": [
    "df['make'][df['transmission'].isnull()].value_counts()"
   ]
  },
  {
   "cell_type": "markdown",
   "metadata": {},
   "source": [
    "Let's keep rows with null value of 'transmission' because of the following reasons:\n",
    "\n",
    "(1) Null values in 'transmission' occupies insignificant portion at below than 1 %.\n",
    "\n",
    "(2) Given such other feature information as 'make', 'manufacturer', or 'type',  it is not available to assume which vehicle should be automatic or manual."
   ]
  },
  {
   "cell_type": "markdown",
   "metadata": {},
   "source": [
    "Let's look into 'title_status' by value_counts()."
   ]
  },
  {
   "cell_type": "code",
   "execution_count": 30,
   "metadata": {},
   "outputs": [
    {
     "data": {
      "text/plain": [
       "gas         928604\n",
       "diesel       75518\n",
       "other        27766\n",
       "hybrid        7055\n",
       "electric      1709\n",
       "Name: fuel, dtype: int64"
      ]
     },
     "execution_count": 30,
     "metadata": {},
     "output_type": "execute_result"
    }
   ],
   "source": [
    "df['fuel'].value_counts()"
   ]
  },
  {
   "cell_type": "markdown",
   "metadata": {},
   "source": [
    "Let's compare 'make' between two groups in 'transmission': notnull vs. isnull"
   ]
  },
  {
   "cell_type": "code",
   "execution_count": 31,
   "metadata": {},
   "outputs": [
    {
     "data": {
      "text/plain": [
       "1500                          13819\n",
       "f-150                         12759\n",
       "silverado 1500                 8398\n",
       "2500                           8007\n",
       "silverado                      7972\n",
       "                              ...  \n",
       "ion 2000                          1\n",
       "Silverado 1500 taken great        1\n",
       "Hyunday XG 350L                   1\n",
       "WILLYS JEEPSTER                   1\n",
       "clk 430 cabriolet                 1\n",
       "Name: make, Length: 74616, dtype: int64"
      ]
     },
     "execution_count": 31,
     "metadata": {},
     "output_type": "execute_result"
    }
   ],
   "source": [
    "df['make'][df['fuel'].notnull()].value_counts()"
   ]
  },
  {
   "cell_type": "code",
   "execution_count": 32,
   "metadata": {},
   "outputs": [
    {
     "data": {
      "text/plain": [
       "silverado 1500               264\n",
       "f-150                        234\n",
       "tundra                       115\n",
       "tahoe                         91\n",
       "sierra 1500                   76\n",
       "                            ... \n",
       "protege 5                      1\n",
       "Hustler Raptor 52\"             1\n",
       "3 series 4dr sdn 320i rwd      1\n",
       "sentra 1.8 s                   1\n",
       "prius 5dr hb three (natl)      1\n",
       "Name: make, Length: 1918, dtype: int64"
      ]
     },
     "execution_count": 32,
     "metadata": {},
     "output_type": "execute_result"
    }
   ],
   "source": [
    "df['make'][df['fuel'].isnull()].value_counts()"
   ]
  },
  {
   "cell_type": "markdown",
   "metadata": {},
   "source": [
    "As seen above, it is also difficult to judge true 'fuel' types for rows whose 'fuel' is null value.  Thus, let's keep 'fuel' as it is because of the following reasons:\n",
    "\n",
    "(1) Null values in 'transmission' occupies insignificant portion at below than 1 %.\n",
    "\n",
    "(2) Given such other feature information as 'make', 'manufacturer', or 'type', it is not available to assume which vehicle should be automatic or manual."
   ]
  },
  {
   "cell_type": "code",
   "execution_count": 33,
   "metadata": {},
   "outputs": [
    {
     "data": {
      "text/plain": [
       "size            65.833660\n",
       "vin             65.002149\n",
       "type            41.363597\n",
       "condition       41.311162\n",
       "paint_color     41.070286\n",
       "cylinders       40.759592\n",
       "drive           38.422174\n",
       "odometer        32.708952\n",
       "manufacturer     7.973276\n",
       "weather          5.628695\n",
       "county_fips      5.571771\n",
       "county_name      5.571771\n",
       "state_fips       5.571771\n",
       "state_code       5.571771\n",
       "make             4.120878\n",
       "fuel             0.607253\n",
       "transmission     0.555487\n",
       "title_status     0.147563\n",
       "image_url        0.000000\n",
       "lat              0.000000\n",
       "long             0.000000\n",
       "state_name       0.000000\n",
       "year             0.000000\n",
       "price            0.000000\n",
       "city             0.000000\n",
       "url              0.000000\n",
       "dtype: float64"
      ]
     },
     "execution_count": 33,
     "metadata": {},
     "output_type": "execute_result"
    }
   ],
   "source": [
    "((df.isnull().sum()/len(df)).sort_values(ascending = False)*100).astype(float)"
   ]
  },
  {
   "cell_type": "markdown",
   "metadata": {},
   "source": [
    "Let's drop rows whose 'make' value is null in that null value of 'make' can not correlation with 'price'."
   ]
  },
  {
   "cell_type": "code",
   "execution_count": 34,
   "metadata": {},
   "outputs": [],
   "source": [
    "df.drop(df[df['make'].isnull()].index, inplace=True)"
   ]
  },
  {
   "cell_type": "markdown",
   "metadata": {},
   "source": [
    "Let's drop 'odometer' whose value is null."
   ]
  },
  {
   "cell_type": "code",
   "execution_count": 35,
   "metadata": {},
   "outputs": [],
   "source": [
    "df.drop(df[df['odometer'].isnull()].index, inplace=True)"
   ]
  },
  {
   "cell_type": "code",
   "execution_count": 36,
   "metadata": {},
   "outputs": [
    {
     "data": {
      "text/plain": [
       "size            59.263851\n",
       "vin             50.058866\n",
       "condition       33.140501\n",
       "cylinders       29.901213\n",
       "paint_color     28.069913\n",
       "type            26.380733\n",
       "drive           24.958518\n",
       "weather          6.437059\n",
       "county_fips      6.401347\n",
       "county_name      6.401347\n",
       "state_fips       6.401347\n",
       "state_code       6.401347\n",
       "manufacturer     5.441348\n",
       "fuel             0.724390\n",
       "transmission     0.614208\n",
       "title_status     0.060680\n",
       "make             0.000000\n",
       "city             0.000000\n",
       "price            0.000000\n",
       "year             0.000000\n",
       "image_url        0.000000\n",
       "lat              0.000000\n",
       "odometer         0.000000\n",
       "state_name       0.000000\n",
       "long             0.000000\n",
       "url              0.000000\n",
       "dtype: float64"
      ]
     },
     "execution_count": 36,
     "metadata": {},
     "output_type": "execute_result"
    }
   ],
   "source": [
    "((df.isnull().sum()/len(df)).sort_values(ascending = False)*100).astype(float)"
   ]
  },
  {
   "cell_type": "code",
   "execution_count": null,
   "metadata": {},
   "outputs": [],
   "source": []
  },
  {
   "cell_type": "markdown",
   "metadata": {},
   "source": [
    "Let's take a look into such geographical information as 'lat' and 'long' whose 'county_fips' value is null."
   ]
  },
  {
   "cell_type": "code",
   "execution_count": 37,
   "metadata": {},
   "outputs": [
    {
     "data": {
      "text/html": [
       "<div>\n",
       "<style scoped>\n",
       "    .dataframe tbody tr th:only-of-type {\n",
       "        vertical-align: middle;\n",
       "    }\n",
       "\n",
       "    .dataframe tbody tr th {\n",
       "        vertical-align: top;\n",
       "    }\n",
       "\n",
       "    .dataframe thead th {\n",
       "        text-align: right;\n",
       "    }\n",
       "</style>\n",
       "<table border=\"1\" class=\"dataframe\">\n",
       "  <thead>\n",
       "    <tr style=\"text-align: right;\">\n",
       "      <th></th>\n",
       "      <th>lat</th>\n",
       "      <th>long</th>\n",
       "    </tr>\n",
       "  </thead>\n",
       "  <tbody>\n",
       "    <tr>\n",
       "      <th>9</th>\n",
       "      <td>46.514191</td>\n",
       "      <td>-84.291307</td>\n",
       "    </tr>\n",
       "    <tr>\n",
       "      <th>10</th>\n",
       "      <td>46.497529</td>\n",
       "      <td>-84.467464</td>\n",
       "    </tr>\n",
       "    <tr>\n",
       "      <th>11</th>\n",
       "      <td>46.497529</td>\n",
       "      <td>-84.467464</td>\n",
       "    </tr>\n",
       "    <tr>\n",
       "      <th>12</th>\n",
       "      <td>46.517791</td>\n",
       "      <td>-84.342291</td>\n",
       "    </tr>\n",
       "    <tr>\n",
       "      <th>14</th>\n",
       "      <td>46.512332</td>\n",
       "      <td>-84.252914</td>\n",
       "    </tr>\n",
       "    <tr>\n",
       "      <th>...</th>\n",
       "      <td>...</td>\n",
       "      <td>...</td>\n",
       "    </tr>\n",
       "    <tr>\n",
       "      <th>386911</th>\n",
       "      <td>49.060585</td>\n",
       "      <td>-122.381825</td>\n",
       "    </tr>\n",
       "    <tr>\n",
       "      <th>386912</th>\n",
       "      <td>49.060585</td>\n",
       "      <td>-122.381825</td>\n",
       "    </tr>\n",
       "    <tr>\n",
       "      <th>386913</th>\n",
       "      <td>49.206149</td>\n",
       "      <td>-122.878196</td>\n",
       "    </tr>\n",
       "    <tr>\n",
       "      <th>386915</th>\n",
       "      <td>49.206149</td>\n",
       "      <td>-122.878196</td>\n",
       "    </tr>\n",
       "    <tr>\n",
       "      <th>386916</th>\n",
       "      <td>52.140620</td>\n",
       "      <td>-122.152208</td>\n",
       "    </tr>\n",
       "  </tbody>\n",
       "</table>\n",
       "<p>44096 rows × 2 columns</p>\n",
       "</div>"
      ],
      "text/plain": [
       "              lat        long\n",
       "9       46.514191  -84.291307\n",
       "10      46.497529  -84.467464\n",
       "11      46.497529  -84.467464\n",
       "12      46.517791  -84.342291\n",
       "14      46.512332  -84.252914\n",
       "...           ...         ...\n",
       "386911  49.060585 -122.381825\n",
       "386912  49.060585 -122.381825\n",
       "386913  49.206149 -122.878196\n",
       "386915  49.206149 -122.878196\n",
       "386916  52.140620 -122.152208\n",
       "\n",
       "[44096 rows x 2 columns]"
      ]
     },
     "execution_count": 37,
     "metadata": {},
     "output_type": "execute_result"
    }
   ],
   "source": [
    "df[['lat', 'long']][df['county_fips'].isnull()]"
   ]
  },
  {
   "cell_type": "markdown",
   "metadata": {},
   "source": [
    "Let's trace back to find real location with 'lat' and 'long' information."
   ]
  },
  {
   "cell_type": "code",
   "execution_count": 38,
   "metadata": {},
   "outputs": [
    {
     "name": "stdout",
     "output_type": "stream",
     "text": [
      "Loading formatted geocoded file...\n"
     ]
    },
    {
     "data": {
      "text/html": [
       "<div>\n",
       "<style scoped>\n",
       "    .dataframe tbody tr th:only-of-type {\n",
       "        vertical-align: middle;\n",
       "    }\n",
       "\n",
       "    .dataframe tbody tr th {\n",
       "        vertical-align: top;\n",
       "    }\n",
       "\n",
       "    .dataframe thead th {\n",
       "        text-align: right;\n",
       "    }\n",
       "</style>\n",
       "<table border=\"1\" class=\"dataframe\">\n",
       "  <thead>\n",
       "    <tr style=\"text-align: right;\">\n",
       "      <th></th>\n",
       "      <th>url</th>\n",
       "      <th>city</th>\n",
       "      <th>price</th>\n",
       "      <th>year</th>\n",
       "      <th>manufacturer</th>\n",
       "      <th>make</th>\n",
       "      <th>condition</th>\n",
       "      <th>cylinders</th>\n",
       "      <th>fuel</th>\n",
       "      <th>odometer</th>\n",
       "      <th>title_status</th>\n",
       "      <th>transmission</th>\n",
       "      <th>vin</th>\n",
       "      <th>drive</th>\n",
       "      <th>size</th>\n",
       "      <th>type</th>\n",
       "      <th>paint_color</th>\n",
       "      <th>image_url</th>\n",
       "      <th>lat</th>\n",
       "      <th>long</th>\n",
       "      <th>county_fips</th>\n",
       "      <th>county_name</th>\n",
       "      <th>state_fips</th>\n",
       "      <th>state_code</th>\n",
       "      <th>state_name</th>\n",
       "      <th>weather</th>\n",
       "      <th>city1</th>\n",
       "      <th>state</th>\n",
       "      <th>county</th>\n",
       "    </tr>\n",
       "  </thead>\n",
       "  <tbody>\n",
       "    <tr>\n",
       "      <th>0</th>\n",
       "      <td>https://marshall.craigslist.org/cto/d/2010-dod...</td>\n",
       "      <td>marshall</td>\n",
       "      <td>11900</td>\n",
       "      <td>2010</td>\n",
       "      <td>dodge</td>\n",
       "      <td>challenger se</td>\n",
       "      <td>good</td>\n",
       "      <td>6 cylinders</td>\n",
       "      <td>gas</td>\n",
       "      <td>43600.0</td>\n",
       "      <td>clean</td>\n",
       "      <td>automatic</td>\n",
       "      <td>NaN</td>\n",
       "      <td>rwd</td>\n",
       "      <td>NaN</td>\n",
       "      <td>coupe</td>\n",
       "      <td>red</td>\n",
       "      <td>https://images.craigslist.org/00i0i_2ggH1eKDNK...</td>\n",
       "      <td>43.477500</td>\n",
       "      <td>-96.704100</td>\n",
       "      <td>46083.0</td>\n",
       "      <td>Lincoln</td>\n",
       "      <td>46.0</td>\n",
       "      <td>SD</td>\n",
       "      <td>South Dakota</td>\n",
       "      <td>38.0</td>\n",
       "      <td>Harrisburg</td>\n",
       "      <td>South Dakota</td>\n",
       "      <td>Lincoln County</td>\n",
       "    </tr>\n",
       "    <tr>\n",
       "      <th>3</th>\n",
       "      <td>https://marshall.craigslist.org/cto/d/ford-tau...</td>\n",
       "      <td>marshall</td>\n",
       "      <td>2800</td>\n",
       "      <td>2004</td>\n",
       "      <td>ford</td>\n",
       "      <td>taurus</td>\n",
       "      <td>good</td>\n",
       "      <td>6 cylinders</td>\n",
       "      <td>gas</td>\n",
       "      <td>168591.0</td>\n",
       "      <td>clean</td>\n",
       "      <td>automatic</td>\n",
       "      <td>1FAFP55UO4G113464</td>\n",
       "      <td>fwd</td>\n",
       "      <td>full-size</td>\n",
       "      <td>sedan</td>\n",
       "      <td>grey</td>\n",
       "      <td>https://images.craigslist.org/00L0L_5HUR1nQjt8...</td>\n",
       "      <td>43.284500</td>\n",
       "      <td>-95.593000</td>\n",
       "      <td>19143.0</td>\n",
       "      <td>Osceola</td>\n",
       "      <td>19.0</td>\n",
       "      <td>IA</td>\n",
       "      <td>Iowa</td>\n",
       "      <td>47.0</td>\n",
       "      <td>Sanborn</td>\n",
       "      <td>Iowa</td>\n",
       "      <td>O'Brien County</td>\n",
       "    </tr>\n",
       "    <tr>\n",
       "      <th>4</th>\n",
       "      <td>https://marshall.craigslist.org/cto/d/2001-gra...</td>\n",
       "      <td>marshall</td>\n",
       "      <td>400</td>\n",
       "      <td>2001</td>\n",
       "      <td>NaN</td>\n",
       "      <td>2001 Grand Prix</td>\n",
       "      <td>NaN</td>\n",
       "      <td>NaN</td>\n",
       "      <td>gas</td>\n",
       "      <td>217000.0</td>\n",
       "      <td>clean</td>\n",
       "      <td>automatic</td>\n",
       "      <td>NaN</td>\n",
       "      <td>NaN</td>\n",
       "      <td>NaN</td>\n",
       "      <td>NaN</td>\n",
       "      <td>NaN</td>\n",
       "      <td>https://images.craigslist.org/00n0n_bJJ1XnonSG...</td>\n",
       "      <td>43.026100</td>\n",
       "      <td>-94.406400</td>\n",
       "      <td>19109.0</td>\n",
       "      <td>Kossuth</td>\n",
       "      <td>19.0</td>\n",
       "      <td>IA</td>\n",
       "      <td>Iowa</td>\n",
       "      <td>47.0</td>\n",
       "      <td>Algona</td>\n",
       "      <td>Iowa</td>\n",
       "      <td>Kossuth County</td>\n",
       "    </tr>\n",
       "    <tr>\n",
       "      <th>5</th>\n",
       "      <td>https://marshall.craigslist.org/ctd/d/2007-gmc...</td>\n",
       "      <td>marshall</td>\n",
       "      <td>9900</td>\n",
       "      <td>2007</td>\n",
       "      <td>gmc</td>\n",
       "      <td>yukon</td>\n",
       "      <td>good</td>\n",
       "      <td>8 cylinders</td>\n",
       "      <td>gas</td>\n",
       "      <td>169000.0</td>\n",
       "      <td>clean</td>\n",
       "      <td>automatic</td>\n",
       "      <td>NaN</td>\n",
       "      <td>4wd</td>\n",
       "      <td>NaN</td>\n",
       "      <td>NaN</td>\n",
       "      <td>NaN</td>\n",
       "      <td>https://images.craigslist.org/00T0T_hFLz9hAHi0...</td>\n",
       "      <td>43.328149</td>\n",
       "      <td>-96.774445</td>\n",
       "      <td>46083.0</td>\n",
       "      <td>Lincoln</td>\n",
       "      <td>46.0</td>\n",
       "      <td>SD</td>\n",
       "      <td>South Dakota</td>\n",
       "      <td>38.0</td>\n",
       "      <td>Lennox</td>\n",
       "      <td>South Dakota</td>\n",
       "      <td>Lincoln County</td>\n",
       "    </tr>\n",
       "    <tr>\n",
       "      <th>6</th>\n",
       "      <td>https://marshall.craigslist.org/cto/d/2015-jee...</td>\n",
       "      <td>marshall</td>\n",
       "      <td>12500</td>\n",
       "      <td>2015</td>\n",
       "      <td>jeep</td>\n",
       "      <td>patriot high altitude</td>\n",
       "      <td>like new</td>\n",
       "      <td>4 cylinders</td>\n",
       "      <td>gas</td>\n",
       "      <td>39500.0</td>\n",
       "      <td>rebuilt</td>\n",
       "      <td>automatic</td>\n",
       "      <td>NaN</td>\n",
       "      <td>4wd</td>\n",
       "      <td>sub-compact</td>\n",
       "      <td>SUV</td>\n",
       "      <td>grey</td>\n",
       "      <td>https://images.craigslist.org/00404_RsUm4vwrGV...</td>\n",
       "      <td>43.548600</td>\n",
       "      <td>-96.633200</td>\n",
       "      <td>46099.0</td>\n",
       "      <td>Minnehaha</td>\n",
       "      <td>46.0</td>\n",
       "      <td>SD</td>\n",
       "      <td>South Dakota</td>\n",
       "      <td>38.0</td>\n",
       "      <td>Sioux Falls</td>\n",
       "      <td>South Dakota</td>\n",
       "      <td>Minnehaha County</td>\n",
       "    </tr>\n",
       "  </tbody>\n",
       "</table>\n",
       "</div>"
      ],
      "text/plain": [
       "                                                 url      city  price  year  \\\n",
       "0  https://marshall.craigslist.org/cto/d/2010-dod...  marshall  11900  2010   \n",
       "3  https://marshall.craigslist.org/cto/d/ford-tau...  marshall   2800  2004   \n",
       "4  https://marshall.craigslist.org/cto/d/2001-gra...  marshall    400  2001   \n",
       "5  https://marshall.craigslist.org/ctd/d/2007-gmc...  marshall   9900  2007   \n",
       "6  https://marshall.craigslist.org/cto/d/2015-jee...  marshall  12500  2015   \n",
       "\n",
       "  manufacturer                   make condition    cylinders fuel  odometer  \\\n",
       "0        dodge          challenger se      good  6 cylinders  gas   43600.0   \n",
       "3         ford                 taurus      good  6 cylinders  gas  168591.0   \n",
       "4          NaN        2001 Grand Prix       NaN          NaN  gas  217000.0   \n",
       "5          gmc                  yukon      good  8 cylinders  gas  169000.0   \n",
       "6         jeep  patriot high altitude  like new  4 cylinders  gas   39500.0   \n",
       "\n",
       "  title_status transmission                vin drive         size   type  \\\n",
       "0        clean    automatic                NaN   rwd          NaN  coupe   \n",
       "3        clean    automatic  1FAFP55UO4G113464   fwd    full-size  sedan   \n",
       "4        clean    automatic                NaN   NaN          NaN    NaN   \n",
       "5        clean    automatic                NaN   4wd          NaN    NaN   \n",
       "6      rebuilt    automatic                NaN   4wd  sub-compact    SUV   \n",
       "\n",
       "  paint_color                                          image_url        lat  \\\n",
       "0         red  https://images.craigslist.org/00i0i_2ggH1eKDNK...  43.477500   \n",
       "3        grey  https://images.craigslist.org/00L0L_5HUR1nQjt8...  43.284500   \n",
       "4         NaN  https://images.craigslist.org/00n0n_bJJ1XnonSG...  43.026100   \n",
       "5         NaN  https://images.craigslist.org/00T0T_hFLz9hAHi0...  43.328149   \n",
       "6        grey  https://images.craigslist.org/00404_RsUm4vwrGV...  43.548600   \n",
       "\n",
       "        long  county_fips county_name  state_fips state_code    state_name  \\\n",
       "0 -96.704100      46083.0     Lincoln        46.0         SD  South Dakota   \n",
       "3 -95.593000      19143.0     Osceola        19.0         IA          Iowa   \n",
       "4 -94.406400      19109.0     Kossuth        19.0         IA          Iowa   \n",
       "5 -96.774445      46083.0     Lincoln        46.0         SD  South Dakota   \n",
       "6 -96.633200      46099.0   Minnehaha        46.0         SD  South Dakota   \n",
       "\n",
       "   weather        city1         state            county  \n",
       "0     38.0   Harrisburg  South Dakota    Lincoln County  \n",
       "3     47.0      Sanborn          Iowa    O'Brien County  \n",
       "4     47.0       Algona          Iowa    Kossuth County  \n",
       "5     38.0       Lennox  South Dakota    Lincoln County  \n",
       "6     38.0  Sioux Falls  South Dakota  Minnehaha County  "
      ]
     },
     "execution_count": 38,
     "metadata": {},
     "output_type": "execute_result"
    }
   ],
   "source": [
    "import reverse_geocoder as rg \n",
    "import pprint \n",
    "\n",
    "def reverseGeocode(coordinates): \n",
    "    result = rg.search(coordinates)\n",
    "    return (result)\n",
    "\n",
    "if __name__==\"__main__\": \n",
    "\n",
    "    coordinates =list(zip(df['lat'],df['long'])) # generates pair of (lat,long)\n",
    "    data = reverseGeocode(coordinates)\n",
    "\n",
    "    df['city1'] = [i['name'] for i in data]\n",
    "    df['state'] = [i['admin1'] for i in data]\n",
    "    df['county'] = [i['admin2'] for i in data]\n",
    "\n",
    "df.head()"
   ]
  },
  {
   "cell_type": "markdown",
   "metadata": {},
   "source": [
    "Let's compare: 'city' vs. 'city1' and 'state_name' vs. 'state'."
   ]
  },
  {
   "cell_type": "code",
   "execution_count": 39,
   "metadata": {},
   "outputs": [
    {
     "data": {
      "text/html": [
       "<div>\n",
       "<style scoped>\n",
       "    .dataframe tbody tr th:only-of-type {\n",
       "        vertical-align: middle;\n",
       "    }\n",
       "\n",
       "    .dataframe tbody tr th {\n",
       "        vertical-align: top;\n",
       "    }\n",
       "\n",
       "    .dataframe thead th {\n",
       "        text-align: right;\n",
       "    }\n",
       "</style>\n",
       "<table border=\"1\" class=\"dataframe\">\n",
       "  <thead>\n",
       "    <tr style=\"text-align: right;\">\n",
       "      <th></th>\n",
       "      <th>city</th>\n",
       "      <th>city1</th>\n",
       "      <th>state_name</th>\n",
       "      <th>state</th>\n",
       "    </tr>\n",
       "  </thead>\n",
       "  <tbody>\n",
       "    <tr>\n",
       "      <th>0</th>\n",
       "      <td>marshall</td>\n",
       "      <td>Harrisburg</td>\n",
       "      <td>South Dakota</td>\n",
       "      <td>South Dakota</td>\n",
       "    </tr>\n",
       "    <tr>\n",
       "      <th>3</th>\n",
       "      <td>marshall</td>\n",
       "      <td>Sanborn</td>\n",
       "      <td>Iowa</td>\n",
       "      <td>Iowa</td>\n",
       "    </tr>\n",
       "    <tr>\n",
       "      <th>4</th>\n",
       "      <td>marshall</td>\n",
       "      <td>Algona</td>\n",
       "      <td>Iowa</td>\n",
       "      <td>Iowa</td>\n",
       "    </tr>\n",
       "    <tr>\n",
       "      <th>5</th>\n",
       "      <td>marshall</td>\n",
       "      <td>Lennox</td>\n",
       "      <td>South Dakota</td>\n",
       "      <td>South Dakota</td>\n",
       "    </tr>\n",
       "    <tr>\n",
       "      <th>6</th>\n",
       "      <td>marshall</td>\n",
       "      <td>Sioux Falls</td>\n",
       "      <td>South Dakota</td>\n",
       "      <td>South Dakota</td>\n",
       "    </tr>\n",
       "    <tr>\n",
       "      <th>...</th>\n",
       "      <td>...</td>\n",
       "      <td>...</td>\n",
       "      <td>...</td>\n",
       "      <td>...</td>\n",
       "    </tr>\n",
       "    <tr>\n",
       "      <th>1049187</th>\n",
       "      <td>topeka</td>\n",
       "      <td>Harrisonville</td>\n",
       "      <td>Missouri</td>\n",
       "      <td>Missouri</td>\n",
       "    </tr>\n",
       "    <tr>\n",
       "      <th>1049189</th>\n",
       "      <td>topeka</td>\n",
       "      <td>Harrisonville</td>\n",
       "      <td>Missouri</td>\n",
       "      <td>Missouri</td>\n",
       "    </tr>\n",
       "    <tr>\n",
       "      <th>1049193</th>\n",
       "      <td>topeka</td>\n",
       "      <td>Harrisonville</td>\n",
       "      <td>Missouri</td>\n",
       "      <td>Missouri</td>\n",
       "    </tr>\n",
       "    <tr>\n",
       "      <th>1049197</th>\n",
       "      <td>jacksonville</td>\n",
       "      <td>Bel-Nor</td>\n",
       "      <td>Missouri</td>\n",
       "      <td>Missouri</td>\n",
       "    </tr>\n",
       "    <tr>\n",
       "      <th>1049198</th>\n",
       "      <td>quadcities</td>\n",
       "      <td>Moscow Mills</td>\n",
       "      <td>Missouri</td>\n",
       "      <td>Missouri</td>\n",
       "    </tr>\n",
       "  </tbody>\n",
       "</table>\n",
       "<p>688855 rows × 4 columns</p>\n",
       "</div>"
      ],
      "text/plain": [
       "                 city          city1    state_name         state\n",
       "0            marshall     Harrisburg  South Dakota  South Dakota\n",
       "3            marshall        Sanborn          Iowa          Iowa\n",
       "4            marshall         Algona          Iowa          Iowa\n",
       "5            marshall         Lennox  South Dakota  South Dakota\n",
       "6            marshall    Sioux Falls  South Dakota  South Dakota\n",
       "...               ...            ...           ...           ...\n",
       "1049187        topeka  Harrisonville      Missouri      Missouri\n",
       "1049189        topeka  Harrisonville      Missouri      Missouri\n",
       "1049193        topeka  Harrisonville      Missouri      Missouri\n",
       "1049197  jacksonville        Bel-Nor      Missouri      Missouri\n",
       "1049198    quadcities   Moscow Mills      Missouri      Missouri\n",
       "\n",
       "[688855 rows x 4 columns]"
      ]
     },
     "execution_count": 39,
     "metadata": {},
     "output_type": "execute_result"
    }
   ],
   "source": [
    "df[['city','city1','state_name','state']]"
   ]
  },
  {
   "cell_type": "markdown",
   "metadata": {},
   "source": [
    "Let's check null values in 'city1' and 'state'."
   ]
  },
  {
   "cell_type": "code",
   "execution_count": 40,
   "metadata": {},
   "outputs": [
    {
     "data": {
      "text/html": [
       "<div>\n",
       "<style scoped>\n",
       "    .dataframe tbody tr th:only-of-type {\n",
       "        vertical-align: middle;\n",
       "    }\n",
       "\n",
       "    .dataframe tbody tr th {\n",
       "        vertical-align: top;\n",
       "    }\n",
       "\n",
       "    .dataframe thead th {\n",
       "        text-align: right;\n",
       "    }\n",
       "</style>\n",
       "<table border=\"1\" class=\"dataframe\">\n",
       "  <thead>\n",
       "    <tr style=\"text-align: right;\">\n",
       "      <th></th>\n",
       "      <th>city</th>\n",
       "      <th>state_name</th>\n",
       "    </tr>\n",
       "  </thead>\n",
       "  <tbody>\n",
       "  </tbody>\n",
       "</table>\n",
       "</div>"
      ],
      "text/plain": [
       "Empty DataFrame\n",
       "Columns: [city, state_name]\n",
       "Index: []"
      ]
     },
     "execution_count": 40,
     "metadata": {},
     "output_type": "execute_result"
    }
   ],
   "source": [
    "df[['city', 'state_name']][df['city1'].isnull()]"
   ]
  },
  {
   "cell_type": "code",
   "execution_count": 41,
   "metadata": {},
   "outputs": [
    {
     "data": {
      "text/html": [
       "<div>\n",
       "<style scoped>\n",
       "    .dataframe tbody tr th:only-of-type {\n",
       "        vertical-align: middle;\n",
       "    }\n",
       "\n",
       "    .dataframe tbody tr th {\n",
       "        vertical-align: top;\n",
       "    }\n",
       "\n",
       "    .dataframe thead th {\n",
       "        text-align: right;\n",
       "    }\n",
       "</style>\n",
       "<table border=\"1\" class=\"dataframe\">\n",
       "  <thead>\n",
       "    <tr style=\"text-align: right;\">\n",
       "      <th></th>\n",
       "      <th>city</th>\n",
       "      <th>state_name</th>\n",
       "    </tr>\n",
       "  </thead>\n",
       "  <tbody>\n",
       "  </tbody>\n",
       "</table>\n",
       "</div>"
      ],
      "text/plain": [
       "Empty DataFrame\n",
       "Columns: [city, state_name]\n",
       "Index: []"
      ]
     },
     "execution_count": 41,
     "metadata": {},
     "output_type": "execute_result"
    }
   ],
   "source": [
    "df[['city', 'state_name']][df['state'].isnull()]"
   ]
  },
  {
   "cell_type": "markdown",
   "metadata": {},
   "source": [
    "Let's check different values of rows between 'city' and 'city1'."
   ]
  },
  {
   "cell_type": "code",
   "execution_count": 42,
   "metadata": {},
   "outputs": [
    {
     "data": {
      "text/html": [
       "<div>\n",
       "<style scoped>\n",
       "    .dataframe tbody tr th:only-of-type {\n",
       "        vertical-align: middle;\n",
       "    }\n",
       "\n",
       "    .dataframe tbody tr th {\n",
       "        vertical-align: top;\n",
       "    }\n",
       "\n",
       "    .dataframe thead th {\n",
       "        text-align: right;\n",
       "    }\n",
       "</style>\n",
       "<table border=\"1\" class=\"dataframe\">\n",
       "  <thead>\n",
       "    <tr style=\"text-align: right;\">\n",
       "      <th></th>\n",
       "      <th>city</th>\n",
       "      <th>city1</th>\n",
       "      <th>state_name</th>\n",
       "      <th>state</th>\n",
       "    </tr>\n",
       "  </thead>\n",
       "  <tbody>\n",
       "    <tr>\n",
       "      <th>0</th>\n",
       "      <td>marshall</td>\n",
       "      <td>Harrisburg</td>\n",
       "      <td>South Dakota</td>\n",
       "      <td>South Dakota</td>\n",
       "    </tr>\n",
       "    <tr>\n",
       "      <th>3</th>\n",
       "      <td>marshall</td>\n",
       "      <td>Sanborn</td>\n",
       "      <td>Iowa</td>\n",
       "      <td>Iowa</td>\n",
       "    </tr>\n",
       "    <tr>\n",
       "      <th>4</th>\n",
       "      <td>marshall</td>\n",
       "      <td>Algona</td>\n",
       "      <td>Iowa</td>\n",
       "      <td>Iowa</td>\n",
       "    </tr>\n",
       "    <tr>\n",
       "      <th>5</th>\n",
       "      <td>marshall</td>\n",
       "      <td>Lennox</td>\n",
       "      <td>South Dakota</td>\n",
       "      <td>South Dakota</td>\n",
       "    </tr>\n",
       "    <tr>\n",
       "      <th>6</th>\n",
       "      <td>marshall</td>\n",
       "      <td>Sioux Falls</td>\n",
       "      <td>South Dakota</td>\n",
       "      <td>South Dakota</td>\n",
       "    </tr>\n",
       "    <tr>\n",
       "      <th>...</th>\n",
       "      <td>...</td>\n",
       "      <td>...</td>\n",
       "      <td>...</td>\n",
       "      <td>...</td>\n",
       "    </tr>\n",
       "    <tr>\n",
       "      <th>1049187</th>\n",
       "      <td>topeka</td>\n",
       "      <td>Harrisonville</td>\n",
       "      <td>Missouri</td>\n",
       "      <td>Missouri</td>\n",
       "    </tr>\n",
       "    <tr>\n",
       "      <th>1049189</th>\n",
       "      <td>topeka</td>\n",
       "      <td>Harrisonville</td>\n",
       "      <td>Missouri</td>\n",
       "      <td>Missouri</td>\n",
       "    </tr>\n",
       "    <tr>\n",
       "      <th>1049193</th>\n",
       "      <td>topeka</td>\n",
       "      <td>Harrisonville</td>\n",
       "      <td>Missouri</td>\n",
       "      <td>Missouri</td>\n",
       "    </tr>\n",
       "    <tr>\n",
       "      <th>1049197</th>\n",
       "      <td>jacksonville</td>\n",
       "      <td>Bel-Nor</td>\n",
       "      <td>Missouri</td>\n",
       "      <td>Missouri</td>\n",
       "    </tr>\n",
       "    <tr>\n",
       "      <th>1049198</th>\n",
       "      <td>quadcities</td>\n",
       "      <td>Moscow Mills</td>\n",
       "      <td>Missouri</td>\n",
       "      <td>Missouri</td>\n",
       "    </tr>\n",
       "  </tbody>\n",
       "</table>\n",
       "<p>688855 rows × 4 columns</p>\n",
       "</div>"
      ],
      "text/plain": [
       "                 city          city1    state_name         state\n",
       "0            marshall     Harrisburg  South Dakota  South Dakota\n",
       "3            marshall        Sanborn          Iowa          Iowa\n",
       "4            marshall         Algona          Iowa          Iowa\n",
       "5            marshall         Lennox  South Dakota  South Dakota\n",
       "6            marshall    Sioux Falls  South Dakota  South Dakota\n",
       "...               ...            ...           ...           ...\n",
       "1049187        topeka  Harrisonville      Missouri      Missouri\n",
       "1049189        topeka  Harrisonville      Missouri      Missouri\n",
       "1049193        topeka  Harrisonville      Missouri      Missouri\n",
       "1049197  jacksonville        Bel-Nor      Missouri      Missouri\n",
       "1049198    quadcities   Moscow Mills      Missouri      Missouri\n",
       "\n",
       "[688855 rows x 4 columns]"
      ]
     },
     "execution_count": 42,
     "metadata": {},
     "output_type": "execute_result"
    }
   ],
   "source": [
    "df[['city','city1','state_name','state']][df['city'] != df['city1']]"
   ]
  },
  {
   "cell_type": "markdown",
   "metadata": {},
   "source": [
    "Let's check different values of rows between 'state_name' and 'state'."
   ]
  },
  {
   "cell_type": "code",
   "execution_count": 43,
   "metadata": {},
   "outputs": [
    {
     "data": {
      "text/html": [
       "<div>\n",
       "<style scoped>\n",
       "    .dataframe tbody tr th:only-of-type {\n",
       "        vertical-align: middle;\n",
       "    }\n",
       "\n",
       "    .dataframe tbody tr th {\n",
       "        vertical-align: top;\n",
       "    }\n",
       "\n",
       "    .dataframe thead th {\n",
       "        text-align: right;\n",
       "    }\n",
       "</style>\n",
       "<table border=\"1\" class=\"dataframe\">\n",
       "  <thead>\n",
       "    <tr style=\"text-align: right;\">\n",
       "      <th></th>\n",
       "      <th>city</th>\n",
       "      <th>city1</th>\n",
       "      <th>state_name</th>\n",
       "      <th>state</th>\n",
       "    </tr>\n",
       "  </thead>\n",
       "  <tbody>\n",
       "    <tr>\n",
       "      <th>9</th>\n",
       "      <td>soo</td>\n",
       "      <td>Sault Ste. Marie</td>\n",
       "      <td>FAILED</td>\n",
       "      <td>Ontario</td>\n",
       "    </tr>\n",
       "    <tr>\n",
       "      <th>10</th>\n",
       "      <td>soo</td>\n",
       "      <td>Sault Ste. Marie</td>\n",
       "      <td>FAILED</td>\n",
       "      <td>Michigan</td>\n",
       "    </tr>\n",
       "    <tr>\n",
       "      <th>11</th>\n",
       "      <td>soo</td>\n",
       "      <td>Sault Ste. Marie</td>\n",
       "      <td>FAILED</td>\n",
       "      <td>Michigan</td>\n",
       "    </tr>\n",
       "    <tr>\n",
       "      <th>12</th>\n",
       "      <td>soo</td>\n",
       "      <td>Sault Ste. Marie</td>\n",
       "      <td>FAILED</td>\n",
       "      <td>Ontario</td>\n",
       "    </tr>\n",
       "    <tr>\n",
       "      <th>14</th>\n",
       "      <td>soo</td>\n",
       "      <td>Sault Ste. Marie</td>\n",
       "      <td>FAILED</td>\n",
       "      <td>Ontario</td>\n",
       "    </tr>\n",
       "    <tr>\n",
       "      <th>...</th>\n",
       "      <td>...</td>\n",
       "      <td>...</td>\n",
       "      <td>...</td>\n",
       "      <td>...</td>\n",
       "    </tr>\n",
       "    <tr>\n",
       "      <th>1044627</th>\n",
       "      <td>springfield</td>\n",
       "      <td>Galena</td>\n",
       "      <td>Missouri</td>\n",
       "      <td>Kansas</td>\n",
       "    </tr>\n",
       "    <tr>\n",
       "      <th>1044798</th>\n",
       "      <td>springfield</td>\n",
       "      <td>Bella Vista</td>\n",
       "      <td>Missouri</td>\n",
       "      <td>Arkansas</td>\n",
       "    </tr>\n",
       "    <tr>\n",
       "      <th>1046452</th>\n",
       "      <td>columbiamo</td>\n",
       "      <td>Leawood</td>\n",
       "      <td>Missouri</td>\n",
       "      <td>Kansas</td>\n",
       "    </tr>\n",
       "    <tr>\n",
       "      <th>1046913</th>\n",
       "      <td>columbiamo</td>\n",
       "      <td>Mission Hills</td>\n",
       "      <td>Missouri</td>\n",
       "      <td>Kansas</td>\n",
       "    </tr>\n",
       "    <tr>\n",
       "      <th>1048840</th>\n",
       "      <td>topeka</td>\n",
       "      <td>Leawood</td>\n",
       "      <td>Missouri</td>\n",
       "      <td>Kansas</td>\n",
       "    </tr>\n",
       "  </tbody>\n",
       "</table>\n",
       "<p>50205 rows × 4 columns</p>\n",
       "</div>"
      ],
      "text/plain": [
       "                city             city1 state_name     state\n",
       "9                soo  Sault Ste. Marie     FAILED   Ontario\n",
       "10               soo  Sault Ste. Marie     FAILED  Michigan\n",
       "11               soo  Sault Ste. Marie     FAILED  Michigan\n",
       "12               soo  Sault Ste. Marie     FAILED   Ontario\n",
       "14               soo  Sault Ste. Marie     FAILED   Ontario\n",
       "...              ...               ...        ...       ...\n",
       "1044627  springfield            Galena   Missouri    Kansas\n",
       "1044798  springfield       Bella Vista   Missouri  Arkansas\n",
       "1046452   columbiamo           Leawood   Missouri    Kansas\n",
       "1046913   columbiamo     Mission Hills   Missouri    Kansas\n",
       "1048840       topeka           Leawood   Missouri    Kansas\n",
       "\n",
       "[50205 rows x 4 columns]"
      ]
     },
     "execution_count": 43,
     "metadata": {},
     "output_type": "execute_result"
    }
   ],
   "source": [
    "df[['city','city1','state_name','state']][df['state_name'] != df['state']]"
   ]
  },
  {
   "cell_type": "markdown",
   "metadata": {},
   "source": [
    "Let's drop 'city', 'state_name' and other unnecessary columns."
   ]
  },
  {
   "cell_type": "code",
   "execution_count": 44,
   "metadata": {},
   "outputs": [
    {
     "data": {
      "text/html": [
       "<div>\n",
       "<style scoped>\n",
       "    .dataframe tbody tr th:only-of-type {\n",
       "        vertical-align: middle;\n",
       "    }\n",
       "\n",
       "    .dataframe tbody tr th {\n",
       "        vertical-align: top;\n",
       "    }\n",
       "\n",
       "    .dataframe thead th {\n",
       "        text-align: right;\n",
       "    }\n",
       "</style>\n",
       "<table border=\"1\" class=\"dataframe\">\n",
       "  <thead>\n",
       "    <tr style=\"text-align: right;\">\n",
       "      <th></th>\n",
       "      <th>url</th>\n",
       "      <th>city</th>\n",
       "      <th>price</th>\n",
       "      <th>year</th>\n",
       "      <th>manufacturer</th>\n",
       "      <th>make</th>\n",
       "      <th>condition</th>\n",
       "      <th>cylinders</th>\n",
       "      <th>fuel</th>\n",
       "      <th>odometer</th>\n",
       "      <th>title_status</th>\n",
       "      <th>transmission</th>\n",
       "      <th>vin</th>\n",
       "      <th>drive</th>\n",
       "      <th>size</th>\n",
       "      <th>type</th>\n",
       "      <th>paint_color</th>\n",
       "      <th>image_url</th>\n",
       "      <th>lat</th>\n",
       "      <th>long</th>\n",
       "      <th>county_fips</th>\n",
       "      <th>county_name</th>\n",
       "      <th>state_fips</th>\n",
       "      <th>state_code</th>\n",
       "      <th>state_name</th>\n",
       "      <th>weather</th>\n",
       "      <th>city1</th>\n",
       "      <th>state</th>\n",
       "      <th>county</th>\n",
       "    </tr>\n",
       "  </thead>\n",
       "  <tbody>\n",
       "    <tr>\n",
       "      <th>0</th>\n",
       "      <td>https://marshall.craigslist.org/cto/d/2010-dod...</td>\n",
       "      <td>marshall</td>\n",
       "      <td>11900</td>\n",
       "      <td>2010</td>\n",
       "      <td>dodge</td>\n",
       "      <td>challenger se</td>\n",
       "      <td>good</td>\n",
       "      <td>6 cylinders</td>\n",
       "      <td>gas</td>\n",
       "      <td>43600.0</td>\n",
       "      <td>clean</td>\n",
       "      <td>automatic</td>\n",
       "      <td>NaN</td>\n",
       "      <td>rwd</td>\n",
       "      <td>NaN</td>\n",
       "      <td>coupe</td>\n",
       "      <td>red</td>\n",
       "      <td>https://images.craigslist.org/00i0i_2ggH1eKDNK...</td>\n",
       "      <td>43.477500</td>\n",
       "      <td>-96.704100</td>\n",
       "      <td>46083.0</td>\n",
       "      <td>Lincoln</td>\n",
       "      <td>46.0</td>\n",
       "      <td>SD</td>\n",
       "      <td>South Dakota</td>\n",
       "      <td>38.0</td>\n",
       "      <td>Harrisburg</td>\n",
       "      <td>South Dakota</td>\n",
       "      <td>Lincoln County</td>\n",
       "    </tr>\n",
       "    <tr>\n",
       "      <th>3</th>\n",
       "      <td>https://marshall.craigslist.org/cto/d/ford-tau...</td>\n",
       "      <td>marshall</td>\n",
       "      <td>2800</td>\n",
       "      <td>2004</td>\n",
       "      <td>ford</td>\n",
       "      <td>taurus</td>\n",
       "      <td>good</td>\n",
       "      <td>6 cylinders</td>\n",
       "      <td>gas</td>\n",
       "      <td>168591.0</td>\n",
       "      <td>clean</td>\n",
       "      <td>automatic</td>\n",
       "      <td>1FAFP55UO4G113464</td>\n",
       "      <td>fwd</td>\n",
       "      <td>full-size</td>\n",
       "      <td>sedan</td>\n",
       "      <td>grey</td>\n",
       "      <td>https://images.craigslist.org/00L0L_5HUR1nQjt8...</td>\n",
       "      <td>43.284500</td>\n",
       "      <td>-95.593000</td>\n",
       "      <td>19143.0</td>\n",
       "      <td>Osceola</td>\n",
       "      <td>19.0</td>\n",
       "      <td>IA</td>\n",
       "      <td>Iowa</td>\n",
       "      <td>47.0</td>\n",
       "      <td>Sanborn</td>\n",
       "      <td>Iowa</td>\n",
       "      <td>O'Brien County</td>\n",
       "    </tr>\n",
       "    <tr>\n",
       "      <th>4</th>\n",
       "      <td>https://marshall.craigslist.org/cto/d/2001-gra...</td>\n",
       "      <td>marshall</td>\n",
       "      <td>400</td>\n",
       "      <td>2001</td>\n",
       "      <td>NaN</td>\n",
       "      <td>2001 Grand Prix</td>\n",
       "      <td>NaN</td>\n",
       "      <td>NaN</td>\n",
       "      <td>gas</td>\n",
       "      <td>217000.0</td>\n",
       "      <td>clean</td>\n",
       "      <td>automatic</td>\n",
       "      <td>NaN</td>\n",
       "      <td>NaN</td>\n",
       "      <td>NaN</td>\n",
       "      <td>NaN</td>\n",
       "      <td>NaN</td>\n",
       "      <td>https://images.craigslist.org/00n0n_bJJ1XnonSG...</td>\n",
       "      <td>43.026100</td>\n",
       "      <td>-94.406400</td>\n",
       "      <td>19109.0</td>\n",
       "      <td>Kossuth</td>\n",
       "      <td>19.0</td>\n",
       "      <td>IA</td>\n",
       "      <td>Iowa</td>\n",
       "      <td>47.0</td>\n",
       "      <td>Algona</td>\n",
       "      <td>Iowa</td>\n",
       "      <td>Kossuth County</td>\n",
       "    </tr>\n",
       "    <tr>\n",
       "      <th>5</th>\n",
       "      <td>https://marshall.craigslist.org/ctd/d/2007-gmc...</td>\n",
       "      <td>marshall</td>\n",
       "      <td>9900</td>\n",
       "      <td>2007</td>\n",
       "      <td>gmc</td>\n",
       "      <td>yukon</td>\n",
       "      <td>good</td>\n",
       "      <td>8 cylinders</td>\n",
       "      <td>gas</td>\n",
       "      <td>169000.0</td>\n",
       "      <td>clean</td>\n",
       "      <td>automatic</td>\n",
       "      <td>NaN</td>\n",
       "      <td>4wd</td>\n",
       "      <td>NaN</td>\n",
       "      <td>NaN</td>\n",
       "      <td>NaN</td>\n",
       "      <td>https://images.craigslist.org/00T0T_hFLz9hAHi0...</td>\n",
       "      <td>43.328149</td>\n",
       "      <td>-96.774445</td>\n",
       "      <td>46083.0</td>\n",
       "      <td>Lincoln</td>\n",
       "      <td>46.0</td>\n",
       "      <td>SD</td>\n",
       "      <td>South Dakota</td>\n",
       "      <td>38.0</td>\n",
       "      <td>Lennox</td>\n",
       "      <td>South Dakota</td>\n",
       "      <td>Lincoln County</td>\n",
       "    </tr>\n",
       "    <tr>\n",
       "      <th>6</th>\n",
       "      <td>https://marshall.craigslist.org/cto/d/2015-jee...</td>\n",
       "      <td>marshall</td>\n",
       "      <td>12500</td>\n",
       "      <td>2015</td>\n",
       "      <td>jeep</td>\n",
       "      <td>patriot high altitude</td>\n",
       "      <td>like new</td>\n",
       "      <td>4 cylinders</td>\n",
       "      <td>gas</td>\n",
       "      <td>39500.0</td>\n",
       "      <td>rebuilt</td>\n",
       "      <td>automatic</td>\n",
       "      <td>NaN</td>\n",
       "      <td>4wd</td>\n",
       "      <td>sub-compact</td>\n",
       "      <td>SUV</td>\n",
       "      <td>grey</td>\n",
       "      <td>https://images.craigslist.org/00404_RsUm4vwrGV...</td>\n",
       "      <td>43.548600</td>\n",
       "      <td>-96.633200</td>\n",
       "      <td>46099.0</td>\n",
       "      <td>Minnehaha</td>\n",
       "      <td>46.0</td>\n",
       "      <td>SD</td>\n",
       "      <td>South Dakota</td>\n",
       "      <td>38.0</td>\n",
       "      <td>Sioux Falls</td>\n",
       "      <td>South Dakota</td>\n",
       "      <td>Minnehaha County</td>\n",
       "    </tr>\n",
       "  </tbody>\n",
       "</table>\n",
       "</div>"
      ],
      "text/plain": [
       "                                                 url      city  price  year  \\\n",
       "0  https://marshall.craigslist.org/cto/d/2010-dod...  marshall  11900  2010   \n",
       "3  https://marshall.craigslist.org/cto/d/ford-tau...  marshall   2800  2004   \n",
       "4  https://marshall.craigslist.org/cto/d/2001-gra...  marshall    400  2001   \n",
       "5  https://marshall.craigslist.org/ctd/d/2007-gmc...  marshall   9900  2007   \n",
       "6  https://marshall.craigslist.org/cto/d/2015-jee...  marshall  12500  2015   \n",
       "\n",
       "  manufacturer                   make condition    cylinders fuel  odometer  \\\n",
       "0        dodge          challenger se      good  6 cylinders  gas   43600.0   \n",
       "3         ford                 taurus      good  6 cylinders  gas  168591.0   \n",
       "4          NaN        2001 Grand Prix       NaN          NaN  gas  217000.0   \n",
       "5          gmc                  yukon      good  8 cylinders  gas  169000.0   \n",
       "6         jeep  patriot high altitude  like new  4 cylinders  gas   39500.0   \n",
       "\n",
       "  title_status transmission                vin drive         size   type  \\\n",
       "0        clean    automatic                NaN   rwd          NaN  coupe   \n",
       "3        clean    automatic  1FAFP55UO4G113464   fwd    full-size  sedan   \n",
       "4        clean    automatic                NaN   NaN          NaN    NaN   \n",
       "5        clean    automatic                NaN   4wd          NaN    NaN   \n",
       "6      rebuilt    automatic                NaN   4wd  sub-compact    SUV   \n",
       "\n",
       "  paint_color                                          image_url        lat  \\\n",
       "0         red  https://images.craigslist.org/00i0i_2ggH1eKDNK...  43.477500   \n",
       "3        grey  https://images.craigslist.org/00L0L_5HUR1nQjt8...  43.284500   \n",
       "4         NaN  https://images.craigslist.org/00n0n_bJJ1XnonSG...  43.026100   \n",
       "5         NaN  https://images.craigslist.org/00T0T_hFLz9hAHi0...  43.328149   \n",
       "6        grey  https://images.craigslist.org/00404_RsUm4vwrGV...  43.548600   \n",
       "\n",
       "        long  county_fips county_name  state_fips state_code    state_name  \\\n",
       "0 -96.704100      46083.0     Lincoln        46.0         SD  South Dakota   \n",
       "3 -95.593000      19143.0     Osceola        19.0         IA          Iowa   \n",
       "4 -94.406400      19109.0     Kossuth        19.0         IA          Iowa   \n",
       "5 -96.774445      46083.0     Lincoln        46.0         SD  South Dakota   \n",
       "6 -96.633200      46099.0   Minnehaha        46.0         SD  South Dakota   \n",
       "\n",
       "   weather        city1         state            county  \n",
       "0     38.0   Harrisburg  South Dakota    Lincoln County  \n",
       "3     47.0      Sanborn          Iowa    O'Brien County  \n",
       "4     47.0       Algona          Iowa    Kossuth County  \n",
       "5     38.0       Lennox  South Dakota    Lincoln County  \n",
       "6     38.0  Sioux Falls  South Dakota  Minnehaha County  "
      ]
     },
     "execution_count": 44,
     "metadata": {},
     "output_type": "execute_result"
    }
   ],
   "source": [
    "df.head()"
   ]
  },
  {
   "cell_type": "code",
   "execution_count": 45,
   "metadata": {},
   "outputs": [],
   "source": [
    "df.drop(['url','city', 'state_name','vin', 'paint_color', 'image_url',\n",
    "        'lat', 'long', 'county_fips', 'county_name',\n",
    "        'state_fips', 'state_code', 'state_name'], axis = 1, inplace=True)"
   ]
  },
  {
   "cell_type": "markdown",
   "metadata": {},
   "source": [
    "Let's replace column name, 'city1' to 'city'."
   ]
  },
  {
   "cell_type": "code",
   "execution_count": 46,
   "metadata": {},
   "outputs": [],
   "source": [
    "df = df.rename(columns = {\"city1\":\"city\"}) "
   ]
  },
  {
   "cell_type": "code",
   "execution_count": 47,
   "metadata": {},
   "outputs": [
    {
     "data": {
      "text/plain": [
       "Index(['price', 'year', 'manufacturer', 'make', 'condition', 'cylinders',\n",
       "       'fuel', 'odometer', 'title_status', 'transmission', 'drive', 'size',\n",
       "       'type', 'weather', 'city', 'state', 'county'],\n",
       "      dtype='object')"
      ]
     },
     "execution_count": 47,
     "metadata": {},
     "output_type": "execute_result"
    }
   ],
   "source": [
    "df.columns"
   ]
  },
  {
   "cell_type": "code",
   "execution_count": 48,
   "metadata": {},
   "outputs": [
    {
     "data": {
      "text/plain": [
       "size            59.263851\n",
       "condition       33.140501\n",
       "cylinders       29.901213\n",
       "type            26.380733\n",
       "drive           24.958518\n",
       "weather          6.437059\n",
       "manufacturer     5.441348\n",
       "fuel             0.724390\n",
       "transmission     0.614208\n",
       "title_status     0.060680\n",
       "year             0.000000\n",
       "make             0.000000\n",
       "county           0.000000\n",
       "odometer         0.000000\n",
       "state            0.000000\n",
       "city             0.000000\n",
       "price            0.000000\n",
       "dtype: float64"
      ]
     },
     "execution_count": 48,
     "metadata": {},
     "output_type": "execute_result"
    }
   ],
   "source": [
    "((df.isnull().sum()/len(df)).sort_values(ascending = False)*100).astype(float)"
   ]
  },
  {
   "cell_type": "markdown",
   "metadata": {},
   "source": [
    "Let's do value_counts on 'make'."
   ]
  },
  {
   "cell_type": "code",
   "execution_count": 49,
   "metadata": {},
   "outputs": [
    {
     "data": {
      "text/plain": [
       "f-150                 10470\n",
       "1500                   9160\n",
       "silverado 1500         7312\n",
       "2500                   5198\n",
       "silverado              5077\n",
       "                      ...  \n",
       "2006 z06                  1\n",
       "1500 silverado 4wd        1\n",
       "Grandpre                  1\n",
       "3500hd ltz                1\n",
       "clk 430 cabriolet         1\n",
       "Name: make, Length: 50193, dtype: int64"
      ]
     },
     "execution_count": 49,
     "metadata": {},
     "output_type": "execute_result"
    }
   ],
   "source": [
    "df['make'].value_counts()"
   ]
  },
  {
   "cell_type": "code",
   "execution_count": 50,
   "metadata": {},
   "outputs": [],
   "source": [
    "df['manufacturer'] = df['manufacturer'].str.lower() \n",
    "df['make'] = df['make'].str.lower() \n",
    "df['condition'] = df['condition'].str.lower() \n",
    "df['cylinders'] = df['cylinders'].str.lower() \n",
    "df['fuel'] = df['fuel'].str.lower() \n",
    "df['title_status'] = df['title_status'].str.lower() \n",
    "df['transmission'] = df['transmission'].str.lower() \n",
    "df['drive'] = df['drive'].str.lower() \n",
    "df['size'] = df['size'].str.lower() \n",
    "df['type'] = df['type'].str.lower() "
   ]
  },
  {
   "cell_type": "code",
   "execution_count": null,
   "metadata": {},
   "outputs": [],
   "source": []
  },
  {
   "cell_type": "code",
   "execution_count": null,
   "metadata": {},
   "outputs": [],
   "source": []
  },
  {
   "cell_type": "markdown",
   "metadata": {},
   "source": [
    "Let's import another dataset to fill up the above null values in 'type'."
   ]
  },
  {
   "cell_type": "code",
   "execution_count": 51,
   "metadata": {},
   "outputs": [
    {
     "data": {
      "text/html": [
       "<div>\n",
       "<style scoped>\n",
       "    .dataframe tbody tr th:only-of-type {\n",
       "        vertical-align: middle;\n",
       "    }\n",
       "\n",
       "    .dataframe tbody tr th {\n",
       "        vertical-align: top;\n",
       "    }\n",
       "\n",
       "    .dataframe thead th {\n",
       "        text-align: right;\n",
       "    }\n",
       "</style>\n",
       "<table border=\"1\" class=\"dataframe\">\n",
       "  <thead>\n",
       "    <tr style=\"text-align: right;\">\n",
       "      <th></th>\n",
       "      <th>cylinders</th>\n",
       "      <th>drive</th>\n",
       "      <th>fuelType</th>\n",
       "      <th>make</th>\n",
       "      <th>model</th>\n",
       "      <th>trany</th>\n",
       "      <th>VClass</th>\n",
       "      <th>year</th>\n",
       "      <th>youSaveSpend</th>\n",
       "    </tr>\n",
       "  </thead>\n",
       "  <tbody>\n",
       "    <tr>\n",
       "      <th>0</th>\n",
       "      <td>4.0</td>\n",
       "      <td>Rear-Wheel Drive</td>\n",
       "      <td>Regular</td>\n",
       "      <td>Alfa Romeo</td>\n",
       "      <td>Spider Veloce 2000</td>\n",
       "      <td>Manual 5-spd</td>\n",
       "      <td>Two Seaters</td>\n",
       "      <td>1985</td>\n",
       "      <td>-1750</td>\n",
       "    </tr>\n",
       "    <tr>\n",
       "      <th>1</th>\n",
       "      <td>12.0</td>\n",
       "      <td>Rear-Wheel Drive</td>\n",
       "      <td>Regular</td>\n",
       "      <td>Ferrari</td>\n",
       "      <td>Testarossa</td>\n",
       "      <td>Manual 5-spd</td>\n",
       "      <td>Two Seaters</td>\n",
       "      <td>1985</td>\n",
       "      <td>-8750</td>\n",
       "    </tr>\n",
       "    <tr>\n",
       "      <th>2</th>\n",
       "      <td>4.0</td>\n",
       "      <td>Front-Wheel Drive</td>\n",
       "      <td>Regular</td>\n",
       "      <td>Dodge</td>\n",
       "      <td>Charger</td>\n",
       "      <td>Manual 5-spd</td>\n",
       "      <td>Subcompact Cars</td>\n",
       "      <td>1985</td>\n",
       "      <td>0</td>\n",
       "    </tr>\n",
       "    <tr>\n",
       "      <th>3</th>\n",
       "      <td>8.0</td>\n",
       "      <td>Rear-Wheel Drive</td>\n",
       "      <td>Regular</td>\n",
       "      <td>Dodge</td>\n",
       "      <td>B150/B250 Wagon 2WD</td>\n",
       "      <td>Automatic 3-spd</td>\n",
       "      <td>Vans</td>\n",
       "      <td>1985</td>\n",
       "      <td>-8750</td>\n",
       "    </tr>\n",
       "    <tr>\n",
       "      <th>4</th>\n",
       "      <td>4.0</td>\n",
       "      <td>4-Wheel or All-Wheel Drive</td>\n",
       "      <td>Premium</td>\n",
       "      <td>Subaru</td>\n",
       "      <td>Legacy AWD Turbo</td>\n",
       "      <td>Manual 5-spd</td>\n",
       "      <td>Compact Cars</td>\n",
       "      <td>1993</td>\n",
       "      <td>-5250</td>\n",
       "    </tr>\n",
       "  </tbody>\n",
       "</table>\n",
       "</div>"
      ],
      "text/plain": [
       "   cylinders                       drive fuelType        make  \\\n",
       "0        4.0            Rear-Wheel Drive  Regular  Alfa Romeo   \n",
       "1       12.0            Rear-Wheel Drive  Regular     Ferrari   \n",
       "2        4.0           Front-Wheel Drive  Regular       Dodge   \n",
       "3        8.0            Rear-Wheel Drive  Regular       Dodge   \n",
       "4        4.0  4-Wheel or All-Wheel Drive  Premium      Subaru   \n",
       "\n",
       "                 model            trany           VClass  year  youSaveSpend  \n",
       "0   Spider Veloce 2000     Manual 5-spd      Two Seaters  1985         -1750  \n",
       "1           Testarossa     Manual 5-spd      Two Seaters  1985         -8750  \n",
       "2              Charger     Manual 5-spd  Subcompact Cars  1985             0  \n",
       "3  B150/B250 Wagon 2WD  Automatic 3-spd             Vans  1985         -8750  \n",
       "4     Legacy AWD Turbo     Manual 5-spd     Compact Cars  1993         -5250  "
      ]
     },
     "execution_count": 51,
     "metadata": {},
     "output_type": "execute_result"
    }
   ],
   "source": [
    "df_fuel = pd.read_csv(\"vehicles.csv\", usecols = ['cylinders','drive',\n",
    "                                                 'youSaveSpend','fuelType',\n",
    "                                                 'make','model','trany','VClass',\n",
    "                                                 'year'])\n",
    "df_fuel.head()"
   ]
  },
  {
   "cell_type": "markdown",
   "metadata": {},
   "source": [
    "In order to join the two datasets, let's make df_fuel's data compatible to df."
   ]
  },
  {
   "cell_type": "code",
   "execution_count": 52,
   "metadata": {},
   "outputs": [],
   "source": [
    "df_fuel['drive']=df_fuel['drive'].str.lower()\n",
    "df_fuel['fuelType']=df_fuel['fuelType'].str.lower()\n",
    "df_fuel['make']=df_fuel['make'].str.lower()\n",
    "df_fuel['model']=df_fuel['model'].str.lower()\n",
    "df_fuel['trany']=df_fuel['trany'].str.lower()\n",
    "df_fuel['VClass']=df_fuel['VClass'].str.lower()"
   ]
  },
  {
   "cell_type": "markdown",
   "metadata": {},
   "source": [
    "Let's replace column name, 'make' to 'manufacturer1' and 'model' to ' make1' in df_fuel."
   ]
  },
  {
   "cell_type": "code",
   "execution_count": 53,
   "metadata": {},
   "outputs": [
    {
     "data": {
      "text/plain": [
       "Index(['cylinders', 'drive', 'fuelType', 'manufacturer', 'make', 'trany',\n",
       "       'VClass', 'year', 'youSaveSpend'],\n",
       "      dtype='object')"
      ]
     },
     "execution_count": 53,
     "metadata": {},
     "output_type": "execute_result"
    }
   ],
   "source": [
    "df_fuel = df_fuel.rename(columns = {\"make\":\"manufacturer\", \"model\":\"make\"}) \n",
    "df_fuel.columns"
   ]
  },
  {
   "cell_type": "markdown",
   "metadata": {},
   "source": [
    "Let's make all values of 'cylinders' from both 'df' and 'df_fuel' compatible to each other."
   ]
  },
  {
   "cell_type": "code",
   "execution_count": 54,
   "metadata": {},
   "outputs": [
    {
     "data": {
      "text/plain": [
       "6 cylinders     172569\n",
       "4 cylinders     144227\n",
       "8 cylinders     139814\n",
       "other            17725\n",
       "5 cylinders       5055\n",
       "10 cylinders      2211\n",
       "3 cylinders        854\n",
       "12 cylinders       424\n",
       "Name: cylinders, dtype: int64"
      ]
     },
     "execution_count": 54,
     "metadata": {},
     "output_type": "execute_result"
    }
   ],
   "source": [
    "df['cylinders'].value_counts()"
   ]
  },
  {
   "cell_type": "code",
   "execution_count": 55,
   "metadata": {},
   "outputs": [
    {
     "data": {
      "text/plain": [
       "4.0     16549\n",
       "6.0     14672\n",
       "8.0      9089\n",
       "5.0       773\n",
       "12.0      656\n",
       "3.0       312\n",
       "10.0      177\n",
       "2.0        61\n",
       "16.0       12\n",
       "Name: cylinders, dtype: int64"
      ]
     },
     "execution_count": 55,
     "metadata": {},
     "output_type": "execute_result"
    }
   ],
   "source": [
    "df_fuel['cylinders'].value_counts()"
   ]
  },
  {
   "cell_type": "code",
   "execution_count": 56,
   "metadata": {},
   "outputs": [
    {
     "data": {
      "text/plain": [
       "str"
      ]
     },
     "execution_count": 56,
     "metadata": {},
     "output_type": "execute_result"
    }
   ],
   "source": [
    "type(df['cylinders'][0])"
   ]
  },
  {
   "cell_type": "code",
   "execution_count": 57,
   "metadata": {},
   "outputs": [
    {
     "data": {
      "text/plain": [
       "numpy.float64"
      ]
     },
     "execution_count": 57,
     "metadata": {},
     "output_type": "execute_result"
    }
   ],
   "source": [
    "type(df_fuel['cylinders'][0])"
   ]
  },
  {
   "cell_type": "code",
   "execution_count": 58,
   "metadata": {},
   "outputs": [
    {
     "data": {
      "text/plain": [
       "0     223701\n",
       "6     172569\n",
       "4     144227\n",
       "8     139814\n",
       "5       5055\n",
       "10      2211\n",
       "3        854\n",
       "12       424\n",
       "Name: cylinders, dtype: int64"
      ]
     },
     "execution_count": 58,
     "metadata": {},
     "output_type": "execute_result"
    }
   ],
   "source": [
    "df['cylinders'].replace(to_replace =\"other\", value='0', inplace=True)\n",
    "df['cylinders'] = df['cylinders'].str.extract('(\\d+)')\n",
    "df['cylinders'].fillna(0, inplace=True)\n",
    "df['cylinders'] = df['cylinders'].astype(int)\n",
    "df['cylinders'].value_counts()"
   ]
  },
  {
   "cell_type": "code",
   "execution_count": 59,
   "metadata": {},
   "outputs": [
    {
     "data": {
      "text/plain": [
       "4     16549\n",
       "6     14672\n",
       "8      9089\n",
       "5       773\n",
       "12      656\n",
       "3       312\n",
       "0       244\n",
       "10      177\n",
       "2        61\n",
       "16       12\n",
       "Name: cylinders, dtype: int64"
      ]
     },
     "execution_count": 59,
     "metadata": {},
     "output_type": "execute_result"
    }
   ],
   "source": [
    "df_fuel['cylinders'].fillna(0, inplace=True)\n",
    "df_fuel['cylinders'] = df_fuel['cylinders'].astype(int)\n",
    "df_fuel['cylinders'].value_counts()"
   ]
  },
  {
   "cell_type": "markdown",
   "metadata": {},
   "source": [
    "Let's compare 'drive' and make them compatible."
   ]
  },
  {
   "cell_type": "code",
   "execution_count": 60,
   "metadata": {
    "scrolled": true
   },
   "outputs": [
    {
     "data": {
      "text/plain": [
       "front-wheel drive             14582\n",
       "rear-wheel drive              14185\n",
       "4-wheel or all-wheel drive     6648\n",
       "all-wheel drive                3483\n",
       "4-wheel drive                  1666\n",
       "2-wheel drive                   507\n",
       "part-time 4-wheel drive         288\n",
       "Name: drive, dtype: int64"
      ]
     },
     "execution_count": 60,
     "metadata": {},
     "output_type": "execute_result"
    }
   ],
   "source": [
    "df_fuel['drive'].value_counts()"
   ]
  },
  {
   "cell_type": "code",
   "execution_count": 61,
   "metadata": {
    "scrolled": false
   },
   "outputs": [
    {
     "data": {
      "text/plain": [
       "4wd    223650\n",
       "fwd    186644\n",
       "rwd    106633\n",
       "Name: drive, dtype: int64"
      ]
     },
     "execution_count": 61,
     "metadata": {},
     "output_type": "execute_result"
    }
   ],
   "source": [
    "df['drive'].value_counts()"
   ]
  },
  {
   "cell_type": "code",
   "execution_count": 62,
   "metadata": {},
   "outputs": [
    {
     "data": {
      "text/plain": [
       "fwd    14582\n",
       "rwd    14185\n",
       "4wd    12085\n",
       "2wd      507\n",
       "Name: drive, dtype: int64"
      ]
     },
     "execution_count": 62,
     "metadata": {},
     "output_type": "execute_result"
    }
   ],
   "source": [
    "df_fuel['drive'].replace(to_replace =\"front-wheel drive\", value='fwd', inplace=True)\n",
    "df_fuel['drive'].replace(to_replace =\"rear-wheel drive\", value='rwd', inplace=True)\n",
    "df_fuel['drive'].replace(to_replace =\"4-wheel or all-wheel drive\", value='4wd', inplace=True)\n",
    "df_fuel['drive'].replace(to_replace =\"all-wheel drive\", value='4wd', inplace=True)\n",
    "df_fuel['drive'].replace(to_replace =\"4-wheel drive\", value='4wd', inplace=True)\n",
    "df_fuel['drive'].replace(to_replace =\"2-wheel drive\", value='2wd', inplace=True)\n",
    "df_fuel['drive'].replace(to_replace =\"part-time 4-wheel drive\", value='4wd', inplace=True)\n",
    "df_fuel['drive'].value_counts()"
   ]
  },
  {
   "cell_type": "markdown",
   "metadata": {},
   "source": [
    "Let's compare 'transmission' and make them compatible."
   ]
  },
  {
   "cell_type": "code",
   "execution_count": 63,
   "metadata": {
    "scrolled": false
   },
   "outputs": [
    {
     "data": {
      "text/plain": [
       "automatic    604066\n",
       "manual        66765\n",
       "other         13793\n",
       "Name: transmission, dtype: int64"
      ]
     },
     "execution_count": 63,
     "metadata": {},
     "output_type": "execute_result"
    }
   ],
   "source": [
    "df['transmission'].value_counts()"
   ]
  },
  {
   "cell_type": "code",
   "execution_count": 64,
   "metadata": {
    "scrolled": true
   },
   "outputs": [
    {
     "data": {
      "text/plain": [
       "automatic 4-spd                     11048\n",
       "manual 5-spd                         8373\n",
       "automatic (s6)                       3199\n",
       "automatic 3-spd                      3151\n",
       "manual 6-spd                         2849\n",
       "automatic 5-spd                      2203\n",
       "automatic (s8)                       2024\n",
       "automatic 6-spd                      1688\n",
       "manual 4-spd                         1483\n",
       "automatic (variable gear ratios)      899\n",
       "automatic (s5)                        836\n",
       "automatic 7-spd                       748\n",
       "automatic 8-spd                       530\n",
       "automatic (am-s7)                     507\n",
       "automatic 9-spd                       410\n",
       "automatic (s7)                        343\n",
       "automatic (am7)                       272\n",
       "automatic (a1)                        240\n",
       "automatic (s4)                        233\n",
       "automatic (av-s6)                     228\n",
       "automatic (s10)                       197\n",
       "automatic (av-s7)                     164\n",
       "automatic (am6)                       160\n",
       "automatic (am-s6)                     121\n",
       "manual 7-spd                          120\n",
       "automatic (s9)                        117\n",
       "automatic (am-s8)                      93\n",
       "manual 3-spd                           77\n",
       "automatic (av-s8)                      73\n",
       "automatic 10-spd                       68\n",
       "automatic (av-s10)                     20\n",
       "manual 4-spd doubled                   17\n",
       "automatic (am5)                        14\n",
       "automatic (am8)                        14\n",
       "automatic (am-s9)                       4\n",
       "automatic (a2)                          3\n",
       "automatic (am-s10)                      2\n",
       "automatic (l3)                          2\n",
       "automatic (l4)                          2\n",
       "automatic (av-s1)                       2\n",
       "Name: trany, dtype: int64"
      ]
     },
     "execution_count": 64,
     "metadata": {},
     "output_type": "execute_result"
    }
   ],
   "source": [
    "df_fuel['trany'].value_counts()"
   ]
  },
  {
   "cell_type": "code",
   "execution_count": 65,
   "metadata": {},
   "outputs": [],
   "source": [
    "df_fuel['transmission'] = df_fuel['trany']"
   ]
  },
  {
   "cell_type": "code",
   "execution_count": 66,
   "metadata": {},
   "outputs": [
    {
     "data": {
      "text/plain": [
       "automatic    29615\n",
       "manual       12919\n",
       "other           11\n",
       "Name: transmission, dtype: int64"
      ]
     },
     "execution_count": 66,
     "metadata": {},
     "output_type": "execute_result"
    }
   ],
   "source": [
    "df_fuel['transmission'].fillna('other', inplace=True)\n",
    "df_fuel.loc[df_fuel['trany'].str.contains('automatic', na=False),'transmission']='automatic'   \n",
    "df_fuel.loc[df_fuel['trany'].str.contains('manual', na=False),'transmission']='manual'   \n",
    "df_fuel['transmission'].value_counts()"
   ]
  },
  {
   "cell_type": "markdown",
   "metadata": {},
   "source": [
    "Let's compare 'fuel' and make them compatible."
   ]
  },
  {
   "cell_type": "code",
   "execution_count": 67,
   "metadata": {},
   "outputs": [
    {
     "data": {
      "text/plain": [
       "gas         607816\n",
       "diesel       47593\n",
       "other        21766\n",
       "hybrid        5572\n",
       "electric      1118\n",
       "Name: fuel, dtype: int64"
      ]
     },
     "execution_count": 67,
     "metadata": {},
     "output_type": "execute_result"
    }
   ],
   "source": [
    "df['fuel'].value_counts()"
   ]
  },
  {
   "cell_type": "code",
   "execution_count": 68,
   "metadata": {},
   "outputs": [
    {
     "data": {
      "text/plain": [
       "regular                        27009\n",
       "premium                        12225\n",
       "gasoline or e85                 1339\n",
       "diesel                          1209\n",
       "electricity                      241\n",
       "premium or e85                   127\n",
       "midgrade                         118\n",
       "premium and electricity           80\n",
       "cng                               60\n",
       "regular gas and electricity       54\n",
       "premium gas or electricity        51\n",
       "gasoline or natural gas           20\n",
       "gasoline or propane                8\n",
       "regular gas or electricity         4\n",
       "Name: fuelType, dtype: int64"
      ]
     },
     "execution_count": 68,
     "metadata": {},
     "output_type": "execute_result"
    }
   ],
   "source": [
    "df_fuel['fuelType'].value_counts()"
   ]
  },
  {
   "cell_type": "code",
   "execution_count": 69,
   "metadata": {},
   "outputs": [
    {
     "data": {
      "text/plain": [
       "gas         40846\n",
       "diesel       1209\n",
       "electric      241\n",
       "hybrid        189\n",
       "other          60\n",
       "Name: fuel, dtype: int64"
      ]
     },
     "execution_count": 69,
     "metadata": {},
     "output_type": "execute_result"
    }
   ],
   "source": [
    "df_fuel['fuel'] = df_fuel['fuelType']\n",
    "df_fuel['fuel'].fillna('other', inplace=True)\n",
    "df_fuel.loc[df_fuel['fuelType'] == 'regular','fuel']='gas'   \n",
    "df_fuel.loc[df_fuel['fuelType'] == 'premium','fuel']='gas'   \n",
    "df_fuel.loc[df_fuel['fuelType'] == 'gasoline or e85','fuel']='gas'   \n",
    "df_fuel.loc[df_fuel['fuelType'] == 'electricity','fuel']='electric'   \n",
    "df_fuel.loc[df_fuel['fuelType'] == 'premium or e85','fuel']='gas'   \n",
    "df_fuel.loc[df_fuel['fuelType'] == 'midgrade','fuel']='gas' \n",
    "df_fuel.loc[df_fuel['fuelType'] == 'premium and electricity','fuel']='hybrid' \n",
    "df_fuel.loc[df_fuel['fuelType'] == 'cng','fuel']='other' \n",
    "df_fuel.loc[df_fuel['fuelType'] == 'regular gas and electricity','fuel']='hybrid' \n",
    "df_fuel.loc[df_fuel['fuelType'] == 'premium gas or electricity','fuel']='hybrid'\n",
    "df_fuel.loc[df_fuel['fuelType'] == 'gasoline or natural gas','fuel']='gas'\n",
    "df_fuel.loc[df_fuel['fuelType'] == 'gasoline or propane','fuel']='gas'\n",
    "df_fuel.loc[df_fuel['fuelType'] == 'regular gas or electricity','fuel']='hybrid'\n",
    "df_fuel['fuel'].value_counts()"
   ]
  },
  {
   "cell_type": "markdown",
   "metadata": {},
   "source": [
    "Let's compare 'manufacturer' and make them compatible."
   ]
  },
  {
   "cell_type": "code",
   "execution_count": 70,
   "metadata": {},
   "outputs": [
    {
     "data": {
      "text/plain": [
       "ford               117169\n",
       "chevrolet           85862\n",
       "toyota              51485\n",
       "honda               37972\n",
       "nissan              32710\n",
       "jeep                31476\n",
       "dodge               29944\n",
       "gmc                 29548\n",
       "ram                 23000\n",
       "bmw                 19640\n",
       "hyundai             14950\n",
       "subaru              14763\n",
       "volkswagen          14422\n",
       "chrysler            13063\n",
       "mercedes-benz       11930\n",
       "chevy               11347\n",
       "kia                 11136\n",
       "mazda               10285\n",
       "cadillac            10112\n",
       "lexus                9234\n",
       "buick                9205\n",
       "pontiac              7664\n",
       "acura                7375\n",
       "audi                 7133\n",
       "lincoln              5295\n",
       "infiniti             5189\n",
       "volvo                4627\n",
       "mitsubishi           4338\n",
       "mercury              3813\n",
       "saturn               3613\n",
       "mini                 3066\n",
       "mercedes             2774\n",
       "rover                2120\n",
       "jaguar               1697\n",
       "vw                   1395\n",
       "fiat                  872\n",
       "harley-davidson       218\n",
       "infinity              189\n",
       "chev                  188\n",
       "ferrari               140\n",
       "datsun                118\n",
       "harley                 78\n",
       "alfa-romeo             53\n",
       "porche                 38\n",
       "alfa                   33\n",
       "aston                  32\n",
       "aston-martin           31\n",
       "land rover             19\n",
       "landrover               8\n",
       "morgan                  1\n",
       "hennessey               1\n",
       "mercedesbenz            1\n",
       "Name: manufacturer, dtype: int64"
      ]
     },
     "execution_count": 70,
     "metadata": {},
     "output_type": "execute_result"
    }
   ],
   "source": [
    "df['manufacturer'].value_counts()"
   ]
  },
  {
   "cell_type": "code",
   "execution_count": 71,
   "metadata": {},
   "outputs": [
    {
     "data": {
      "text/plain": [
       "chevrolet                             4115\n",
       "ford                                  3436\n",
       "dodge                                 2608\n",
       "gmc                                   2564\n",
       "toyota                                2141\n",
       "bmw                                   2078\n",
       "mercedes-benz                         1634\n",
       "nissan                                1503\n",
       "volkswagen                            1208\n",
       "porsche                               1117\n",
       "mitsubishi                            1081\n",
       "audi                                  1056\n",
       "honda                                 1051\n",
       "mazda                                 1032\n",
       "jeep                                   971\n",
       "subaru                                 924\n",
       "pontiac                                893\n",
       "volvo                                  848\n",
       "hyundai                                819\n",
       "chrysler                               732\n",
       "buick                                  683\n",
       "kia                                    653\n",
       "cadillac                               612\n",
       "mercury                                609\n",
       "lexus                                  540\n",
       "plymouth                               526\n",
       "suzuki                                 515\n",
       "jaguar                                 477\n",
       "oldsmobile                             462\n",
       "mini                                   449\n",
       "isuzu                                  434\n",
       "saab                                   432\n",
       "infiniti                               430\n",
       "lincoln                                368\n",
       "acura                                  359\n",
       "saturn                                 278\n",
       "ferrari                                243\n",
       "land rover                             232\n",
       "rolls-royce                            202\n",
       "eagle                                  161\n",
       "aston martin                           158\n",
       "geo                                    147\n",
       "maserati                               146\n",
       "bentley                                137\n",
       "lamborghini                            135\n",
       "peugeot                                 98\n",
       "tesla                                   97\n",
       "ram                                     95\n",
       "scion                                   84\n",
       "fiat                                    75\n",
       "alfa romeo                              69\n",
       "daewoo                                  67\n",
       "roush performance                       67\n",
       "lotus                                   63\n",
       "genesis                                 60\n",
       "renault                                 56\n",
       "smart                                   38\n",
       "j.k. motors                             36\n",
       "mclaren automotive                      36\n",
       "wallace environmental                   32\n",
       "maybach                                 31\n",
       "american motors corporation             27\n",
       "hummer                                  19\n",
       "daihatsu                                17\n",
       "cx automotive                           17\n",
       "federal coach                           14\n",
       "merkur                                  14\n",
       "import trade services                   13\n",
       "spyker                                  13\n",
       "sterling                                12\n",
       "bugatti                                 12\n",
       "dabryan coach builders inc               9\n",
       "yugo                                     8\n",
       "bertone                                  7\n",
       "byd                                      7\n",
       "am general                               6\n",
       "pininfarina                              6\n",
       "mcevoy motors                            6\n",
       "tecstar, lp                              6\n",
       "vpg                                      5\n",
       "saleen                                   5\n",
       "saleen performance                       5\n",
       "bitter gmbh and co. kg                   5\n",
       "vector                                   4\n",
       "kenyon corporation of america            4\n",
       "autokraft limited                        4\n",
       "mobility ventures llc                    4\n",
       "tvr engineering ltd                      4\n",
       "grumman olson                            4\n",
       "panther car company limited              4\n",
       "texas coach company                      4\n",
       "bill dovell motor car company            4\n",
       "ruf automobile gmbh                      3\n",
       "consulier industries inc                 3\n",
       "morgan                                   3\n",
       "bmw alpina                               3\n",
       "evans automobiles                        3\n",
       "dacia                                    3\n",
       "karma                                    3\n",
       "pagani                                   3\n",
       "coda automotive                          2\n",
       "red shift ltd.                           2\n",
       "srt                                      2\n",
       "avanti motor corporation                 2\n",
       "pas, inc                                 2\n",
       "azure dynamics                           2\n",
       "pas inc - gmc                            2\n",
       "laforza automobile inc                   2\n",
       "quantum technologies                     2\n",
       "ruf automobile                           2\n",
       "ccc engineering                          2\n",
       "excalibur autos                          1\n",
       "panoz auto-development                   1\n",
       "fisker                                   1\n",
       "lambda control systems                   1\n",
       "s and s coach company  e.p. dutton       1\n",
       "volga associated automobile              1\n",
       "goldacre                                 1\n",
       "london taxi                              1\n",
       "jba motorcars, inc.                      1\n",
       "polestar automotive usa inc.             1\n",
       "vixen motor company                      1\n",
       "shelby                                   1\n",
       "london coach co inc                      1\n",
       "e. p. dutton, inc.                       1\n",
       "general motors                           1\n",
       "mahindra                                 1\n",
       "isis imports ltd                         1\n",
       "aurora cars ltd                          1\n",
       "import foreign auto sales inc            1\n",
       "grumman allied industries                1\n",
       "asc incorporated                         1\n",
       "koenigsegg                               1\n",
       "qvale                                    1\n",
       "environmental rsch and devp corp         1\n",
       "superior coaches div e.p. dutton         1\n",
       "panos                                    1\n",
       "sti                                      1\n",
       "Name: manufacturer, dtype: int64"
      ]
     },
     "execution_count": 71,
     "metadata": {},
     "output_type": "execute_result"
    }
   ],
   "source": [
    "df_fuel['manufacturer'].value_counts()"
   ]
  },
  {
   "cell_type": "code",
   "execution_count": 72,
   "metadata": {},
   "outputs": [],
   "source": [
    "df['manufacturer'].replace(to_replace=\"vw\",value=\"volkswagen\",inplace=True)\n",
    "df['manufacturer'].replace(to_replace=\"mercedes\",value=\"mercedes-benz\",inplace=True)\n",
    "df['manufacturer'].replace(to_replace=\"mercedesbenz\",value=\"mercedes-benz\",inplace=True)\n",
    "df['manufacturer'].replace(to_replace=\"infinity\",value=\"infiniti\",inplace=True)\n",
    "df['manufacturer'].replace(to_replace=\"landrover\",value=\"land rover\",inplace=True)\n",
    "df['manufacturer'].replace(to_replace=\"rover\",value=\"land rover\",inplace=True)\n",
    "df['manufacturer'].replace(to_replace=\"harley\",value=\"harley-davidson\",inplace=True)\n",
    "df['manufacturer'].replace(to_replace=\"alfa\",value=\"alfa romeo\",inplace=True)\n",
    "df['manufacturer'].replace(to_replace=\"aston\",value=\"aston-martin\",inplace=True)\n",
    "df.drop_duplicates(inplace=True)"
   ]
  },
  {
   "cell_type": "code",
   "execution_count": 73,
   "metadata": {},
   "outputs": [],
   "source": [
    "df_fuel.drop_duplicates(inplace=True)"
   ]
  },
  {
   "cell_type": "markdown",
   "metadata": {},
   "source": [
    "Let's join two datasets by 'make', 'cylinder', 'drive', 'transmission', and 'year'."
   ]
  },
  {
   "cell_type": "code",
   "execution_count": 74,
   "metadata": {},
   "outputs": [
    {
     "name": "stdout",
     "output_type": "stream",
     "text": [
      "<class 'pandas.core.frame.DataFrame'>\n",
      "Int64Index: 523667 entries, 0 to 1049198\n",
      "Data columns (total 17 columns):\n",
      " #   Column        Non-Null Count   Dtype  \n",
      "---  ------        --------------   -----  \n",
      " 0   price         523667 non-null  object \n",
      " 1   year          523667 non-null  object \n",
      " 2   manufacturer  492516 non-null  object \n",
      " 3   make          523667 non-null  object \n",
      " 4   condition     372562 non-null  object \n",
      " 5   cylinders     523667 non-null  int32  \n",
      " 6   fuel          520473 non-null  object \n",
      " 7   odometer      523667 non-null  float64\n",
      " 8   title_status  523358 non-null  object \n",
      " 9   transmission  521155 non-null  object \n",
      " 10  drive         394294 non-null  object \n",
      " 11  size          226984 non-null  object \n",
      " 12  type          381127 non-null  object \n",
      " 13  weather       497443 non-null  float64\n",
      " 14  city          523667 non-null  object \n",
      " 15  state         523667 non-null  object \n",
      " 16  county        523667 non-null  object \n",
      "dtypes: float64(2), int32(1), object(14)\n",
      "memory usage: 69.9+ MB\n"
     ]
    }
   ],
   "source": [
    "df.info()"
   ]
  },
  {
   "cell_type": "code",
   "execution_count": 75,
   "metadata": {},
   "outputs": [
    {
     "name": "stdout",
     "output_type": "stream",
     "text": [
      "<class 'pandas.core.frame.DataFrame'>\n",
      "Int64Index: 40214 entries, 0 to 42544\n",
      "Data columns (total 11 columns):\n",
      " #   Column        Non-Null Count  Dtype \n",
      "---  ------        --------------  ----- \n",
      " 0   cylinders     40214 non-null  int32 \n",
      " 1   drive         39434 non-null  object\n",
      " 2   fuelType      40214 non-null  object\n",
      " 3   manufacturer  40214 non-null  object\n",
      " 4   make          40214 non-null  object\n",
      " 5   trany         40203 non-null  object\n",
      " 6   VClass        40214 non-null  object\n",
      " 7   year          40214 non-null  int64 \n",
      " 8   youSaveSpend  40214 non-null  int64 \n",
      " 9   transmission  40214 non-null  object\n",
      " 10  fuel          40214 non-null  object\n",
      "dtypes: int32(1), int64(2), object(8)\n",
      "memory usage: 3.5+ MB\n"
     ]
    }
   ],
   "source": [
    "df_fuel.info()"
   ]
  },
  {
   "cell_type": "markdown",
   "metadata": {},
   "source": [
    "Now let's drop such columns as 'fuelTpe' and 'trany'"
   ]
  },
  {
   "cell_type": "code",
   "execution_count": 76,
   "metadata": {},
   "outputs": [],
   "source": [
    "df_fuel.drop(['fuelType','trany'], axis = 1, inplace=True)"
   ]
  },
  {
   "cell_type": "markdown",
   "metadata": {},
   "source": [
    "Now merge!"
   ]
  },
  {
   "cell_type": "code",
   "execution_count": 77,
   "metadata": {},
   "outputs": [],
   "source": [
    "df = df.merge(df_fuel, how='left', on=[\"make\",'manufacturer',\"cylinders\",'drive','transmission','year','fuel'])"
   ]
  },
  {
   "cell_type": "code",
   "execution_count": 78,
   "metadata": {},
   "outputs": [
    {
     "name": "stdout",
     "output_type": "stream",
     "text": [
      "<class 'pandas.core.frame.DataFrame'>\n",
      "Int64Index: 546530 entries, 0 to 546529\n",
      "Data columns (total 19 columns):\n",
      " #   Column        Non-Null Count   Dtype  \n",
      "---  ------        --------------   -----  \n",
      " 0   price         546530 non-null  object \n",
      " 1   year          546530 non-null  object \n",
      " 2   manufacturer  515379 non-null  object \n",
      " 3   make          546530 non-null  object \n",
      " 4   condition     390719 non-null  object \n",
      " 5   cylinders     546530 non-null  int32  \n",
      " 6   fuel          543336 non-null  object \n",
      " 7   odometer      546530 non-null  float64\n",
      " 8   title_status  546208 non-null  object \n",
      " 9   transmission  544018 non-null  object \n",
      " 10  drive         417147 non-null  object \n",
      " 11  size          240011 non-null  object \n",
      " 12  type          400799 non-null  object \n",
      " 13  weather       519112 non-null  float64\n",
      " 14  city          546530 non-null  object \n",
      " 15  state         546530 non-null  object \n",
      " 16  county        546530 non-null  object \n",
      " 17  VClass        77363 non-null   object \n",
      " 18  youSaveSpend  77363 non-null   float64\n",
      "dtypes: float64(3), int32(1), object(15)\n",
      "memory usage: 81.3+ MB\n"
     ]
    }
   ],
   "source": [
    "df.info()"
   ]
  },
  {
   "cell_type": "markdown",
   "metadata": {},
   "source": [
    "Let's fill in null value of 'manufacturer' with the majority manufacturer value in 'manufacturer'."
   ]
  },
  {
   "cell_type": "code",
   "execution_count": 79,
   "metadata": {},
   "outputs": [],
   "source": [
    "i=0\n",
    "a = df['make'][df['manufacturer'].isnull()].value_counts().index\n",
    "  \n",
    "for i in range(0,500):\n",
    "    try:\n",
    "        df.loc[((df['make'].str.contains(a[i]))\n",
    "                & (df['manufacturer'].isnull())),'manufacturer']=df['manufacturer'][df['make'].str.contains(a[i])].value_counts().index[0]\n",
    "        \n",
    "    except:\n",
    "        pass"
   ]
  },
  {
   "cell_type": "code",
   "execution_count": 80,
   "metadata": {},
   "outputs": [
    {
     "data": {
      "text/plain": [
       "cadilac cts          129\n",
       "tesla model s        107\n",
       "hyudai elantra       102\n",
       "cadilac escalade      66\n",
       "maserati ghibli       51\n",
       "                    ... \n",
       "chevrolet.             1\n",
       "09 hhr panel           1\n",
       "cheverlet equinox      1\n",
       "long van               1\n",
       "magliner ramp          1\n",
       "Name: make, Length: 6004, dtype: int64"
      ]
     },
     "execution_count": 80,
     "metadata": {},
     "output_type": "execute_result"
    }
   ],
   "source": [
    "df['make'][df['manufacturer'].isnull()].value_counts()"
   ]
  },
  {
   "cell_type": "code",
   "execution_count": 81,
   "metadata": {},
   "outputs": [],
   "source": [
    "i=0\n",
    "a = df['make'][df['manufacturer'].isnull()].value_counts().index\n",
    "  \n",
    "for i in range(0,500):\n",
    "    try:\n",
    "        df.loc[((df['make'].str.contains(a[i]))\n",
    "                & (df['manufacturer'].isnull())),'manufacturer']=df['manufacturer'][df['make'].str.contains(a[i])].value_counts().index[0]\n",
    "        \n",
    "    except:\n",
    "        pass"
   ]
  },
  {
   "cell_type": "code",
   "execution_count": 82,
   "metadata": {},
   "outputs": [
    {
     "data": {
      "text/plain": [
       "olds 88                  23\n",
       "mg b                     20\n",
       "triumph tr7              13\n",
       "volkwagen passat         12\n",
       "nash metropolitan        11\n",
       "                         ..\n",
       "1926 sayers & scovill     1\n",
       "dodgedrxx                 1\n",
       "2.3cl                     1\n",
       "factory                   1\n",
       "1963 fairlane             1\n",
       "Name: make, Length: 1908, dtype: int64"
      ]
     },
     "execution_count": 82,
     "metadata": {},
     "output_type": "execute_result"
    }
   ],
   "source": [
    "df['make'][df['manufacturer'].isnull()].value_counts()"
   ]
  },
  {
   "cell_type": "code",
   "execution_count": 83,
   "metadata": {},
   "outputs": [
    {
     "name": "stderr",
     "output_type": "stream",
     "text": [
      "C:\\Users\\danie\\Anaconda\\lib\\site-packages\\pandas\\core\\strings.py:1954: UserWarning: This pattern has match groups. To actually get the groups, use str.extract.\n",
      "  return func(self, *args, **kwargs)\n"
     ]
    }
   ],
   "source": [
    "i=0\n",
    "a = df['make'][df['manufacturer'].isnull()].value_counts().index\n",
    "  \n",
    "for i in range(0,500):\n",
    "    try:\n",
    "        df.loc[((df['make'].str.contains(a[i]))\n",
    "                & (df['manufacturer'].isnull())),'manufacturer']=df['manufacturer'][df['make'].str.contains(a[i])].value_counts().index[0]\n",
    "        \n",
    "    except:\n",
    "        pass"
   ]
  },
  {
   "cell_type": "code",
   "execution_count": 84,
   "metadata": {},
   "outputs": [
    {
     "data": {
      "text/plain": [
       "Series([], Name: make, dtype: int64)"
      ]
     },
     "execution_count": 84,
     "metadata": {},
     "output_type": "execute_result"
    }
   ],
   "source": [
    "df['make'][df['manufacturer'].isnull()].value_counts()"
   ]
  },
  {
   "cell_type": "code",
   "execution_count": 85,
   "metadata": {
    "scrolled": true
   },
   "outputs": [
    {
     "data": {
      "text/plain": [
       "youSaveSpend    85.844693\n",
       "VClass          85.844693\n",
       "size            56.084570\n",
       "condition       28.509139\n",
       "type            26.664776\n",
       "drive           23.673540\n",
       "weather          5.016742\n",
       "fuel             0.584414\n",
       "transmission     0.459627\n",
       "title_status     0.058917\n",
       "city             0.000000\n",
       "odometer         0.000000\n",
       "state            0.000000\n",
       "cylinders        0.000000\n",
       "county           0.000000\n",
       "make             0.000000\n",
       "manufacturer     0.000000\n",
       "year             0.000000\n",
       "price            0.000000\n",
       "dtype: float64"
      ]
     },
     "execution_count": 85,
     "metadata": {},
     "output_type": "execute_result"
    }
   ],
   "source": [
    "((df.isnull().sum()/len(df)).sort_values(ascending = False)*100).astype(float)"
   ]
  },
  {
   "cell_type": "markdown",
   "metadata": {},
   "source": [
    "Let's fill in 'transmission'"
   ]
  },
  {
   "cell_type": "code",
   "execution_count": 90,
   "metadata": {},
   "outputs": [],
   "source": [
    "i=0\n",
    "a = df['make'][df['transmission'].isnull()].value_counts().index\n",
    "  \n",
    "for i in range(0,500):\n",
    "    try:\n",
    "        df.loc[((df['make'].str.contains(a[i]))\n",
    "                & (df['transmission'].isnull())),'transmission']=df['transmission'][df['make'].str.contains(a[i])].value_counts().index[0]\n",
    "        \n",
    "    except:\n",
    "        pass"
   ]
  },
  {
   "cell_type": "code",
   "execution_count": 91,
   "metadata": {},
   "outputs": [
    {
     "data": {
      "text/plain": [
       "gl1800/gold wing                    2\n",
       "f450 regular cab                    1\n",
       "jayco jay feather                   1\n",
       "davidson cvo fat boy                1\n",
       "davidson dyna low rider             1\n",
       "kawasaki klr 650                    1\n",
       "travel lite, inc. travel lite, i    1\n",
       "xt5 premium luxury awd              1\n",
       "f450 4x4 crew cab                   1\n",
       "a6 4.2 quattro s-line               1\n",
       "davidson softail standard           1\n",
       "vt750c2                             1\n",
       "ducati streetfighter (sft)          1\n",
       "jcw coupe                           1\n",
       "Name: make, dtype: int64"
      ]
     },
     "execution_count": 91,
     "metadata": {},
     "output_type": "execute_result"
    }
   ],
   "source": [
    "df['make'][df['transmission'].isnull()].value_counts()"
   ]
  },
  {
   "cell_type": "code",
   "execution_count": 92,
   "metadata": {},
   "outputs": [],
   "source": [
    "i=0\n",
    "a = df['make'][df['transmission'].isnull()].value_counts().index\n",
    "  \n",
    "for i in range(0,500):\n",
    "    try:\n",
    "        df.loc[((df['make'].str.contains(a[i]))\n",
    "                & (df['transmission'].isnull())),'transmission']=df['transmission'][df['make'].str.contains(a[i])].value_counts().index[0]\n",
    "        \n",
    "    except:\n",
    "        pass"
   ]
  },
  {
   "cell_type": "code",
   "execution_count": 93,
   "metadata": {},
   "outputs": [
    {
     "data": {
      "text/plain": [
       "gl1800/gold wing                    2\n",
       "f450 regular cab                    1\n",
       "jayco jay feather                   1\n",
       "davidson cvo fat boy                1\n",
       "davidson dyna low rider             1\n",
       "kawasaki klr 650                    1\n",
       "travel lite, inc. travel lite, i    1\n",
       "xt5 premium luxury awd              1\n",
       "f450 4x4 crew cab                   1\n",
       "a6 4.2 quattro s-line               1\n",
       "davidson softail standard           1\n",
       "vt750c2                             1\n",
       "ducati streetfighter (sft)          1\n",
       "jcw coupe                           1\n",
       "Name: make, dtype: int64"
      ]
     },
     "execution_count": 93,
     "metadata": {},
     "output_type": "execute_result"
    }
   ],
   "source": [
    "df['make'][df['transmission'].isnull()].value_counts()"
   ]
  },
  {
   "cell_type": "markdown",
   "metadata": {},
   "source": [
    "As seen above, the remaining list of 'make' whose 'transmission' is null-valued is not identifiable."
   ]
  },
  {
   "cell_type": "code",
   "execution_count": null,
   "metadata": {},
   "outputs": [],
   "source": []
  },
  {
   "cell_type": "code",
   "execution_count": null,
   "metadata": {},
   "outputs": [],
   "source": []
  },
  {
   "cell_type": "code",
   "execution_count": null,
   "metadata": {},
   "outputs": [],
   "source": []
  },
  {
   "cell_type": "code",
   "execution_count": null,
   "metadata": {},
   "outputs": [],
   "source": []
  },
  {
   "cell_type": "markdown",
   "metadata": {},
   "source": [
    "Let's fill in 'fuel'"
   ]
  },
  {
   "cell_type": "code",
   "execution_count": 96,
   "metadata": {},
   "outputs": [],
   "source": [
    "i=0\n",
    "a = df['make'][df['fuel'].isnull()].value_counts().index\n",
    "  \n",
    "for i in range(0,500):\n",
    "    try:\n",
    "        df.loc[((df['make'].str.contains(a[i]))\n",
    "                & (df['fuel'].isnull())),'fuel']=df['fuel'][df['make'].str.contains(a[i])].value_counts().index[0]\n",
    "        \n",
    "    except:\n",
    "        pass"
   ]
  },
  {
   "cell_type": "code",
   "execution_count": 101,
   "metadata": {},
   "outputs": [
    {
     "name": "stdout",
     "output_type": "stream",
     "text": [
      "srt viper 2dr cpe gts                                6\n",
      "q5 quattro 4dr 2.0t premium plus                     4\n",
      "cargo van 119\" wb tradesman                          4\n",
      "x5 m awd 4dr                                         3\n",
      "a4 4dr sdn auto quattro 2.0t premium plus            3\n",
      "cc 4dr sdn dsg sport                                 2\n",
      "renault lesharo                                      2\n",
      "cla-class 4dr sdn cla 250 fwd                        2\n",
      "edge awd 4dr sel                                     2\n",
      "r8 2dr cpe 5.2l man quattro                          2\n",
      "q7 quattro 4dr 4.2l premium                          2\n",
      "sentra 4dr sdn i4 cvt s                              2\n",
      "slk-class slk280                                     2\n",
      "vespa 250                                            2\n",
      "aura 4dr sdn xe                                      2\n",
      "century 4dr sdn custom                               2\n",
      "sentra 4dr sdn i4 cvt 2.0 sl                         2\n",
      "eclipse 2dr conv spyder gt sportronic                2\n",
      "porsche panamera 4dr hb 4s                           2\n",
      "cx-9 awd 4dr grand touring                           2\n",
      "vibe 4dr hb                                          2\n",
      "navigator 4x4 select                                 2\n",
      "c-hr xle premium fwd (natl)                          1\n",
      "scion tc 2dr hb man (natl)                           1\n",
      "7 series 4dr sdn 750li rwd                           1\n",
      "eclipse gs 4-speed automatic                         1\n",
      "cube 5dr wgn i4 cvt 1.8 s                            1\n",
      "porsche macan awd 4dr s                              1\n",
      "thomas -cummins diesel                               1\n",
      "5 series 4dr sdn 525i rwd                            1\n",
      "sentra 4dr sdn i4 cvt 2.0 sl fe+                     1\n",
      "4 series 2dr cpe 428i rwd                            1\n",
      "matrix 5dr wgn auto s awd (natl)                     1\n",
      "a6 4dr sdn 2.7t quattro auto                         1\n",
      "x-type 2.5 5-speed automatic                         1\n",
      "cobalt 2dr cpe lt w/1lt                              1\n",
      "scion ia 4dr sdn auto (natl)                         1\n",
      "vrscdx                                               1\n",
      "vt750c2                                              1\n",
      "5 series 4dr sdn 550i rwd                            1\n",
      "s80 4dr sdn t6 platinum                              1\n",
      "hd soft tail classic                                 1\n",
      "golf 1.8t 4-door s manual                            1\n",
      "mkc black label fwd                                  1\n",
      "cobalt 2dr cpe ss supercharged                       1\n",
      "c70 2dr conv auto                                    1\n",
      "evoque 5dr hb pure                                   1\n",
      "milan v6 6-speed automatic                           1\n",
      "porsche boxster 2dr roadster spyder                  1\n",
      "porsche 911 2dr cpe carrera s                        1\n",
      "sentra sv cvt                                        1\n",
      "avalon hybrid 4dr sdn xle touring (natl)             1\n",
      "sentra 4dr sdn i4 manual se-r spec v *late avail*    1\n",
      "low cab                                              1\n",
      "victory ness jackpot - no data                       1\n",
      "612 scaglietti 2dr cpe                               1\n",
      "s7 4dr hb prestige                                   1\n",
      "scion xd 5dr hb auto (natl)                          1\n",
      "xc90 fwd 4dr i6 w/snrf                               1\n",
      "porsche cayenne platinum edition awd                 1\n",
      "roadmaster 4dr wagon estate                          1\n",
      "sl sl2 auto                                          1\n",
      "vue 4dr fwd auto v6                                  1\n",
      "s60 inscription 4dr sdn t5 drive-e premier fwd       1\n",
      "s-class s550 4matic sedan                            1\n",
      "tt 2dr roadster quattro 6-spd                        1\n",
      "viper 2dr rt/10 convertible                          1\n",
      "crosstour 2wd i4 5dr ex-l                            1\n",
      "avalon 4dr sdn xle touring (natl)                    1\n",
      "outlander se s-awc                                   1\n",
      "veloster turbo dual clutch                           1\n",
      "cc 4dr dsg sport pzev                                1\n",
      "opel manta                                           1\n",
      "expedition 2wd 4dr xlt                               1\n",
      "caravan 4dr grand sxt                                1\n",
      "mack rd68 fuel oil tanker                            1\n",
      "i8 2dr cpe                                           1\n",
      "forest river rv continental carg                     1\n",
      "reatta 2dr convertible                               1\n",
      "porsche cayman 2dr cpe                               1\n",
      "yahamaha kodiak                                      1\n",
      "big dog k9 protohype                                 1\n",
      "f-450 sd supercab 2wd drw no data                    1\n",
      "rl 4dr sdn                                           1\n",
      "accent 4dr sdn auto se                               1\n",
      "a4 4dr sdn auto quattro 2.0t premium                 1\n",
      "evoque 2dr cpe dynamic premium                       1\n",
      "mkx fwd 4dr                                          1\n",
      "outlander 2wd 4dr se                                 1\n",
      "night train                                          1\n",
      "sentra 4dr sdn i4 cvt sv                             1\n",
      "xc70 4dr wgn                                         1\n",
      "b9 tribeca awd 4dr 5-pass ltd beige int              1\n",
      "porsche macan s awd                                  1\n",
      "expedition max limited 4x4                           1\n",
      "5 series 4dr sdn 528i rwd                            1\n",
      "evoque 5dr hb pure plus                              1\n",
      "a4 4dr sdn cvt 2.0t fronttrak prem                   1\n",
      "porsche cayenne awd 4dr diesel                       1\n",
      "srt-10 4dr quad cab 140.5\" wb                        1\n",
      "insight 5dr cvt ex                                   1\n",
      "ilx 4dr sdn w/acurawatch plus pkg                    1\n",
      "outlander sport 2wd 4dr cvt es                       1\n",
      "s-class s550 sedan                                   1\n",
      "maserati quattroporte 4dr sdn quattroporte           1\n",
      "7-series 750i 6-speed automatic                      1\n",
      "s8 4dr sdn                                           1\n",
      "outlander 2wd 4dr es                                 1\n",
      "edge fwd 4dr sel plus                                1\n",
      "lancer 4dr sdn cvt se awd                            1\n",
      "element 2wd 5dr auto ex                              1\n",
      "econoline e250 van                                   1\n",
      "w55042                                               1\n",
      "cc 4dr sdn lux limited                               1\n",
      "sentra 4dr sdn i4 cvt sl                             1\n",
      "davidson fxstd                                       1\n",
      "caliber 4dr hb express                               1\n",
      "mx-5 miata 2dr conv prht man touring                 1\n",
      "caravan 4dr grand es 119\" wb                         1\n",
      "s40 4dr sdn 2.5t r-design awd                        1\n",
      "rv low miles ru                                      1\n",
      "oldsmobile 88 royale 4dr sedan                       1\n",
      "xf 4dr sdn i4 rwd                                    1\n",
      "suzuki equator 2wd crew cab v6 auto sport            1\n",
      "amanti 4dr sdn auto                                  1\n",
      "x1 awd 4dr xdrive28i                                 1\n",
      "a6 4.2 quattro s-line                                1\n",
      "versa 5dr hb i4 auto 1.8 s                           1\n",
      "vue fwd 4dr v6 xr                                    1\n",
      "gli 4dr sdn dsg autobahn pzev                        1\n",
      "sedona lx 6-speed automatic                          1\n",
      "sentra sr turbo cvt                                  1\n",
      "porsche panamera turbo awd                           1\n",
      "suzuki forenza s                                     1\n",
      "outlander sport 2wd 4dr cvt 2.4 es                   1\n",
      "q50 4dr sdn rwd                                      1\n",
      "routan 4dr wgn sel w/rse & navigation                1\n",
      "maserati ghibli 4dr sdn                              1\n",
      "xts 4dr sdn luxury collection fwd                    1\n",
      "gx 470 sport utility 5-speed automatic               1\n",
      "xj 4dr sdn xjl portfolio rwd                         1\n",
      "scion fr-s 2dr cpe man (natl)                        1\n",
      "Name: make, dtype: int64\n",
      "142\n"
     ]
    }
   ],
   "source": [
    "print(df['make'][df['fuel'].isnull()].value_counts())\n",
    "print(len(df['make'][df['fuel'].isnull()].value_counts()))"
   ]
  },
  {
   "cell_type": "code",
   "execution_count": 98,
   "metadata": {},
   "outputs": [],
   "source": [
    "i=0\n",
    "a = df['make'][df['fuel'].isnull()].value_counts().index\n",
    "  \n",
    "for i in range(0,500):\n",
    "    try:\n",
    "        df.loc[((df['make'].str.contains(a[i]))\n",
    "                & (df['fuel'].isnull())),'fuel']=df['fuel'][df['make'].str.contains(a[i])].value_counts().index[0]\n",
    "        \n",
    "    except:\n",
    "        pass"
   ]
  },
  {
   "cell_type": "code",
   "execution_count": 102,
   "metadata": {},
   "outputs": [
    {
     "name": "stdout",
     "output_type": "stream",
     "text": [
      "srt viper 2dr cpe gts                                6\n",
      "q5 quattro 4dr 2.0t premium plus                     4\n",
      "cargo van 119\" wb tradesman                          4\n",
      "x5 m awd 4dr                                         3\n",
      "a4 4dr sdn auto quattro 2.0t premium plus            3\n",
      "cc 4dr sdn dsg sport                                 2\n",
      "renault lesharo                                      2\n",
      "cla-class 4dr sdn cla 250 fwd                        2\n",
      "edge awd 4dr sel                                     2\n",
      "r8 2dr cpe 5.2l man quattro                          2\n",
      "q7 quattro 4dr 4.2l premium                          2\n",
      "sentra 4dr sdn i4 cvt s                              2\n",
      "slk-class slk280                                     2\n",
      "vespa 250                                            2\n",
      "aura 4dr sdn xe                                      2\n",
      "century 4dr sdn custom                               2\n",
      "sentra 4dr sdn i4 cvt 2.0 sl                         2\n",
      "eclipse 2dr conv spyder gt sportronic                2\n",
      "porsche panamera 4dr hb 4s                           2\n",
      "cx-9 awd 4dr grand touring                           2\n",
      "vibe 4dr hb                                          2\n",
      "navigator 4x4 select                                 2\n",
      "c-hr xle premium fwd (natl)                          1\n",
      "scion tc 2dr hb man (natl)                           1\n",
      "7 series 4dr sdn 750li rwd                           1\n",
      "eclipse gs 4-speed automatic                         1\n",
      "cube 5dr wgn i4 cvt 1.8 s                            1\n",
      "porsche macan awd 4dr s                              1\n",
      "thomas -cummins diesel                               1\n",
      "5 series 4dr sdn 525i rwd                            1\n",
      "sentra 4dr sdn i4 cvt 2.0 sl fe+                     1\n",
      "4 series 2dr cpe 428i rwd                            1\n",
      "matrix 5dr wgn auto s awd (natl)                     1\n",
      "a6 4dr sdn 2.7t quattro auto                         1\n",
      "x-type 2.5 5-speed automatic                         1\n",
      "cobalt 2dr cpe lt w/1lt                              1\n",
      "scion ia 4dr sdn auto (natl)                         1\n",
      "vrscdx                                               1\n",
      "vt750c2                                              1\n",
      "5 series 4dr sdn 550i rwd                            1\n",
      "s80 4dr sdn t6 platinum                              1\n",
      "hd soft tail classic                                 1\n",
      "golf 1.8t 4-door s manual                            1\n",
      "mkc black label fwd                                  1\n",
      "cobalt 2dr cpe ss supercharged                       1\n",
      "c70 2dr conv auto                                    1\n",
      "evoque 5dr hb pure                                   1\n",
      "milan v6 6-speed automatic                           1\n",
      "porsche boxster 2dr roadster spyder                  1\n",
      "porsche 911 2dr cpe carrera s                        1\n",
      "sentra sv cvt                                        1\n",
      "avalon hybrid 4dr sdn xle touring (natl)             1\n",
      "sentra 4dr sdn i4 manual se-r spec v *late avail*    1\n",
      "low cab                                              1\n",
      "victory ness jackpot - no data                       1\n",
      "612 scaglietti 2dr cpe                               1\n",
      "s7 4dr hb prestige                                   1\n",
      "scion xd 5dr hb auto (natl)                          1\n",
      "xc90 fwd 4dr i6 w/snrf                               1\n",
      "porsche cayenne platinum edition awd                 1\n",
      "roadmaster 4dr wagon estate                          1\n",
      "sl sl2 auto                                          1\n",
      "vue 4dr fwd auto v6                                  1\n",
      "s60 inscription 4dr sdn t5 drive-e premier fwd       1\n",
      "s-class s550 4matic sedan                            1\n",
      "tt 2dr roadster quattro 6-spd                        1\n",
      "viper 2dr rt/10 convertible                          1\n",
      "crosstour 2wd i4 5dr ex-l                            1\n",
      "avalon 4dr sdn xle touring (natl)                    1\n",
      "outlander se s-awc                                   1\n",
      "veloster turbo dual clutch                           1\n",
      "cc 4dr dsg sport pzev                                1\n",
      "opel manta                                           1\n",
      "expedition 2wd 4dr xlt                               1\n",
      "caravan 4dr grand sxt                                1\n",
      "mack rd68 fuel oil tanker                            1\n",
      "i8 2dr cpe                                           1\n",
      "forest river rv continental carg                     1\n",
      "reatta 2dr convertible                               1\n",
      "porsche cayman 2dr cpe                               1\n",
      "yahamaha kodiak                                      1\n",
      "big dog k9 protohype                                 1\n",
      "f-450 sd supercab 2wd drw no data                    1\n",
      "rl 4dr sdn                                           1\n",
      "accent 4dr sdn auto se                               1\n",
      "a4 4dr sdn auto quattro 2.0t premium                 1\n",
      "evoque 2dr cpe dynamic premium                       1\n",
      "mkx fwd 4dr                                          1\n",
      "outlander 2wd 4dr se                                 1\n",
      "night train                                          1\n",
      "sentra 4dr sdn i4 cvt sv                             1\n",
      "xc70 4dr wgn                                         1\n",
      "b9 tribeca awd 4dr 5-pass ltd beige int              1\n",
      "porsche macan s awd                                  1\n",
      "expedition max limited 4x4                           1\n",
      "5 series 4dr sdn 528i rwd                            1\n",
      "evoque 5dr hb pure plus                              1\n",
      "a4 4dr sdn cvt 2.0t fronttrak prem                   1\n",
      "porsche cayenne awd 4dr diesel                       1\n",
      "srt-10 4dr quad cab 140.5\" wb                        1\n",
      "insight 5dr cvt ex                                   1\n",
      "ilx 4dr sdn w/acurawatch plus pkg                    1\n",
      "outlander sport 2wd 4dr cvt es                       1\n",
      "s-class s550 sedan                                   1\n",
      "maserati quattroporte 4dr sdn quattroporte           1\n",
      "7-series 750i 6-speed automatic                      1\n",
      "s8 4dr sdn                                           1\n",
      "outlander 2wd 4dr es                                 1\n",
      "edge fwd 4dr sel plus                                1\n",
      "lancer 4dr sdn cvt se awd                            1\n",
      "element 2wd 5dr auto ex                              1\n",
      "econoline e250 van                                   1\n",
      "w55042                                               1\n",
      "cc 4dr sdn lux limited                               1\n",
      "sentra 4dr sdn i4 cvt sl                             1\n",
      "davidson fxstd                                       1\n",
      "caliber 4dr hb express                               1\n",
      "mx-5 miata 2dr conv prht man touring                 1\n",
      "caravan 4dr grand es 119\" wb                         1\n",
      "s40 4dr sdn 2.5t r-design awd                        1\n",
      "rv low miles ru                                      1\n",
      "oldsmobile 88 royale 4dr sedan                       1\n",
      "xf 4dr sdn i4 rwd                                    1\n",
      "suzuki equator 2wd crew cab v6 auto sport            1\n",
      "amanti 4dr sdn auto                                  1\n",
      "x1 awd 4dr xdrive28i                                 1\n",
      "a6 4.2 quattro s-line                                1\n",
      "versa 5dr hb i4 auto 1.8 s                           1\n",
      "vue fwd 4dr v6 xr                                    1\n",
      "gli 4dr sdn dsg autobahn pzev                        1\n",
      "sedona lx 6-speed automatic                          1\n",
      "sentra sr turbo cvt                                  1\n",
      "porsche panamera turbo awd                           1\n",
      "suzuki forenza s                                     1\n",
      "outlander sport 2wd 4dr cvt 2.4 es                   1\n",
      "q50 4dr sdn rwd                                      1\n",
      "routan 4dr wgn sel w/rse & navigation                1\n",
      "maserati ghibli 4dr sdn                              1\n",
      "xts 4dr sdn luxury collection fwd                    1\n",
      "gx 470 sport utility 5-speed automatic               1\n",
      "xj 4dr sdn xjl portfolio rwd                         1\n",
      "scion fr-s 2dr cpe man (natl)                        1\n",
      "Name: make, dtype: int64\n",
      "142\n"
     ]
    }
   ],
   "source": [
    "print(df['make'][df['fuel'].isnull()].value_counts())\n",
    "print(len(df['make'][df['fuel'].isnull()].value_counts()))"
   ]
  },
  {
   "cell_type": "code",
   "execution_count": null,
   "metadata": {},
   "outputs": [],
   "source": []
  },
  {
   "cell_type": "code",
   "execution_count": 103,
   "metadata": {},
   "outputs": [
    {
     "data": {
      "text/plain": [
       "youSaveSpend    85.844693\n",
       "VClass          85.844693\n",
       "size            56.084570\n",
       "condition       28.509139\n",
       "type            26.664776\n",
       "drive           23.673540\n",
       "weather          5.016742\n",
       "title_status     0.058917\n",
       "fuel             0.031837\n",
       "transmission     0.002745\n",
       "city             0.000000\n",
       "odometer         0.000000\n",
       "state            0.000000\n",
       "cylinders        0.000000\n",
       "county           0.000000\n",
       "make             0.000000\n",
       "manufacturer     0.000000\n",
       "year             0.000000\n",
       "price            0.000000\n",
       "dtype: float64"
      ]
     },
     "execution_count": 103,
     "metadata": {},
     "output_type": "execute_result"
    }
   ],
   "source": [
    "((df.isnull().sum()/len(df)).sort_values(ascending = False)*100).astype(float)"
   ]
  },
  {
   "cell_type": "code",
   "execution_count": null,
   "metadata": {},
   "outputs": [],
   "source": []
  },
  {
   "cell_type": "markdown",
   "metadata": {},
   "source": [
    "Let's fill in 'drive'."
   ]
  },
  {
   "cell_type": "code",
   "execution_count": 104,
   "metadata": {},
   "outputs": [],
   "source": [
    "i=0\n",
    "a = df['make'][df['drive'].isnull()].value_counts().index\n",
    "  \n",
    "for i in range(0,500):\n",
    "    try:\n",
    "        df.loc[((df['make'].str.contains(a[i]))\n",
    "                & (df['drive'].isnull())),'drive']=df['drive'][df['make'].str.contains(a[i])].value_counts().index[0]\n",
    "        \n",
    "    except:\n",
    "        pass"
   ]
  },
  {
   "cell_type": "code",
   "execution_count": 105,
   "metadata": {},
   "outputs": [
    {
     "name": "stdout",
     "output_type": "stream",
     "text": [
      "caprice                  43\n",
      "prelude                  43\n",
      "windstar                 43\n",
      "land cruiser             40\n",
      "solara                   40\n",
      "                         ..\n",
      "touraeg                   1\n",
      "geo tracket               1\n",
      "oldsmobile hurst/olds     1\n",
      "gladiator g20             1\n",
      "magliner ramp             1\n",
      "Name: make, Length: 3180, dtype: int64\n",
      "3180\n"
     ]
    }
   ],
   "source": [
    "print(df['make'][df['drive'].isnull()].value_counts())\n",
    "print(len(df['make'][df['drive'].isnull()].value_counts()))"
   ]
  },
  {
   "cell_type": "code",
   "execution_count": 106,
   "metadata": {},
   "outputs": [],
   "source": [
    "i=0\n",
    "a = df['make'][df['drive'].isnull()].value_counts().index\n",
    "  \n",
    "for i in range(0,500):\n",
    "    try:\n",
    "        df.loc[((df['make'].str.contains(a[i]))\n",
    "                & (df['drive'].isnull())),'drive']=df['drive'][df['make'].str.contains(a[i])].value_counts().index[0]\n",
    "        \n",
    "    except:\n",
    "        pass"
   ]
  },
  {
   "cell_type": "code",
   "execution_count": 107,
   "metadata": {},
   "outputs": [
    {
     "name": "stdout",
     "output_type": "stream",
     "text": [
      "winnebago brave    6\n",
      "1989               4\n",
      "galaxy             4\n",
      "tibur????n         4\n",
      "xlt                4\n",
      "                  ..\n",
      "wrecker            1\n",
      "th                 1\n",
      "town&country       1\n",
      "pathfiner          1\n",
      "hyndai             1\n",
      "Name: make, Length: 540, dtype: int64\n",
      "540\n"
     ]
    }
   ],
   "source": [
    "print(df['make'][df['drive'].isnull()].value_counts())\n",
    "print(len(df['make'][df['drive'].isnull()].value_counts()))"
   ]
  },
  {
   "cell_type": "code",
   "execution_count": 108,
   "metadata": {},
   "outputs": [],
   "source": [
    "i=0\n",
    "a = df['make'][df['drive'].isnull()].value_counts().index\n",
    "  \n",
    "for i in range(0,500):\n",
    "    try:\n",
    "        df.loc[((df['make'].str.contains(a[i]))\n",
    "                & (df['drive'].isnull())),'drive']=df['drive'][df['make'].str.contains(a[i])].value_counts().index[0]\n",
    "        \n",
    "    except:\n",
    "        pass"
   ]
  },
  {
   "cell_type": "code",
   "execution_count": 109,
   "metadata": {},
   "outputs": [
    {
     "name": "stdout",
     "output_type": "stream",
     "text": [
      "Series([], Name: make, dtype: int64)\n",
      "0\n"
     ]
    }
   ],
   "source": [
    "print(df['make'][df['drive'].isnull()].value_counts())\n",
    "print(len(df['make'][df['drive'].isnull()].value_counts()))"
   ]
  },
  {
   "cell_type": "code",
   "execution_count": null,
   "metadata": {},
   "outputs": [],
   "source": []
  },
  {
   "cell_type": "code",
   "execution_count": 110,
   "metadata": {},
   "outputs": [
    {
     "data": {
      "text/plain": [
       "youSaveSpend    85.844693\n",
       "VClass          85.844693\n",
       "size            56.084570\n",
       "condition       28.509139\n",
       "type            26.664776\n",
       "weather          5.016742\n",
       "title_status     0.058917\n",
       "fuel             0.031837\n",
       "transmission     0.002745\n",
       "drive            0.000000\n",
       "city             0.000000\n",
       "odometer         0.000000\n",
       "state            0.000000\n",
       "cylinders        0.000000\n",
       "county           0.000000\n",
       "make             0.000000\n",
       "manufacturer     0.000000\n",
       "year             0.000000\n",
       "price            0.000000\n",
       "dtype: float64"
      ]
     },
     "execution_count": 110,
     "metadata": {},
     "output_type": "execute_result"
    }
   ],
   "source": [
    "((df.isnull().sum()/len(df)).sort_values(ascending = False)*100).astype(float)"
   ]
  },
  {
   "cell_type": "markdown",
   "metadata": {},
   "source": [
    "Let's fill in 'type'."
   ]
  },
  {
   "cell_type": "code",
   "execution_count": 111,
   "metadata": {},
   "outputs": [],
   "source": [
    "i=0\n",
    "a = df['make'][df['type'].isnull()].value_counts().index\n",
    "  \n",
    "for i in range(0,500):\n",
    "    try:\n",
    "        df.loc[((df['make'].str.contains(a[i]))\n",
    "                & (df['type'].isnull())),'type']=df['type'][df['make'].str.contains(a[i])].value_counts().index[0]\n",
    "        \n",
    "    except:\n",
    "        pass"
   ]
  },
  {
   "cell_type": "code",
   "execution_count": 112,
   "metadata": {},
   "outputs": [
    {
     "name": "stdout",
     "output_type": "stream",
     "text": [
      "Series([], Name: make, dtype: int64)\n",
      "0\n"
     ]
    }
   ],
   "source": [
    "print(df['make'][df['drive'].isnull()].value_counts())\n",
    "print(len(df['make'][df['drive'].isnull()].value_counts()))"
   ]
  },
  {
   "cell_type": "code",
   "execution_count": 113,
   "metadata": {},
   "outputs": [
    {
     "data": {
      "text/plain": [
       "youSaveSpend    85.844693\n",
       "VClass          85.844693\n",
       "size            56.084570\n",
       "condition       28.509139\n",
       "weather          5.016742\n",
       "type             2.170970\n",
       "title_status     0.058917\n",
       "fuel             0.031837\n",
       "transmission     0.002745\n",
       "drive            0.000000\n",
       "city             0.000000\n",
       "odometer         0.000000\n",
       "state            0.000000\n",
       "cylinders        0.000000\n",
       "county           0.000000\n",
       "make             0.000000\n",
       "manufacturer     0.000000\n",
       "year             0.000000\n",
       "price            0.000000\n",
       "dtype: float64"
      ]
     },
     "execution_count": 113,
     "metadata": {},
     "output_type": "execute_result"
    }
   ],
   "source": [
    "((df.isnull().sum()/len(df)).sort_values(ascending = False)*100).astype(float)"
   ]
  },
  {
   "cell_type": "markdown",
   "metadata": {},
   "source": [
    "Let's fill in 'size'."
   ]
  },
  {
   "cell_type": "code",
   "execution_count": 114,
   "metadata": {},
   "outputs": [],
   "source": [
    "i=0\n",
    "a = df['make'][df['size'].isnull()].value_counts().index\n",
    "  \n",
    "for i in range(0,500):\n",
    "    try:\n",
    "        df.loc[((df['make'].str.contains(a[i]))\n",
    "                & (df['size'].isnull())),'size']=df['size'][df['make'].str.contains(a[i])].value_counts().index[0]\n",
    "        \n",
    "    except:\n",
    "        pass"
   ]
  },
  {
   "cell_type": "code",
   "execution_count": 115,
   "metadata": {},
   "outputs": [
    {
     "name": "stdout",
     "output_type": "stream",
     "text": [
      "Series([], Name: make, dtype: int64)\n",
      "0\n"
     ]
    }
   ],
   "source": [
    "print(df['make'][df['drive'].isnull()].value_counts())\n",
    "print(len(df['make'][df['drive'].isnull()].value_counts()))"
   ]
  },
  {
   "cell_type": "markdown",
   "metadata": {},
   "source": [
    "Let's fill in 'VClass'."
   ]
  },
  {
   "cell_type": "code",
   "execution_count": 116,
   "metadata": {},
   "outputs": [],
   "source": [
    "i=0\n",
    "a = df['make'][df['VClass'].isnull()].value_counts().index\n",
    "  \n",
    "for i in range(0,500):\n",
    "    try:\n",
    "        df.loc[((df['make'].str.contains(a[i]))\n",
    "                & (df['VClass'].isnull())),'VClass']=df['VClass'][df['make'].str.contains(a[i])].value_counts().index[0]\n",
    "        \n",
    "    except:\n",
    "        pass"
   ]
  },
  {
   "cell_type": "code",
   "execution_count": 117,
   "metadata": {},
   "outputs": [
    {
     "name": "stdout",
     "output_type": "stream",
     "text": [
      "Series([], Name: make, dtype: int64)\n",
      "0\n"
     ]
    }
   ],
   "source": [
    "print(df['make'][df['drive'].isnull()].value_counts())\n",
    "print(len(df['make'][df['drive'].isnull()].value_counts()))"
   ]
  },
  {
   "cell_type": "code",
   "execution_count": null,
   "metadata": {},
   "outputs": [],
   "source": []
  },
  {
   "cell_type": "code",
   "execution_count": null,
   "metadata": {},
   "outputs": [],
   "source": []
  },
  {
   "cell_type": "code",
   "execution_count": null,
   "metadata": {},
   "outputs": [],
   "source": []
  },
  {
   "cell_type": "code",
   "execution_count": null,
   "metadata": {
    "scrolled": true
   },
   "outputs": [],
   "source": []
  },
  {
   "cell_type": "code",
   "execution_count": null,
   "metadata": {},
   "outputs": [],
   "source": []
  },
  {
   "cell_type": "code",
   "execution_count": null,
   "metadata": {},
   "outputs": [],
   "source": []
  },
  {
   "cell_type": "code",
   "execution_count": null,
   "metadata": {},
   "outputs": [],
   "source": []
  },
  {
   "cell_type": "code",
   "execution_count": null,
   "metadata": {
    "scrolled": true
   },
   "outputs": [],
   "source": []
  },
  {
   "cell_type": "code",
   "execution_count": null,
   "metadata": {
    "scrolled": true
   },
   "outputs": [],
   "source": []
  },
  {
   "cell_type": "code",
   "execution_count": null,
   "metadata": {},
   "outputs": [],
   "source": []
  },
  {
   "cell_type": "code",
   "execution_count": null,
   "metadata": {},
   "outputs": [],
   "source": []
  },
  {
   "cell_type": "code",
   "execution_count": null,
   "metadata": {},
   "outputs": [],
   "source": []
  },
  {
   "cell_type": "code",
   "execution_count": null,
   "metadata": {},
   "outputs": [],
   "source": []
  },
  {
   "cell_type": "code",
   "execution_count": null,
   "metadata": {},
   "outputs": [],
   "source": []
  },
  {
   "cell_type": "code",
   "execution_count": null,
   "metadata": {},
   "outputs": [],
   "source": []
  },
  {
   "cell_type": "code",
   "execution_count": null,
   "metadata": {},
   "outputs": [],
   "source": []
  },
  {
   "cell_type": "code",
   "execution_count": null,
   "metadata": {},
   "outputs": [],
   "source": []
  },
  {
   "cell_type": "code",
   "execution_count": null,
   "metadata": {},
   "outputs": [],
   "source": [
    "((df.isnull().sum()/len(df)).sort_values(ascending = False)*100).astype(float)"
   ]
  },
  {
   "cell_type": "code",
   "execution_count": null,
   "metadata": {},
   "outputs": [],
   "source": []
  },
  {
   "cell_type": "code",
   "execution_count": null,
   "metadata": {},
   "outputs": [],
   "source": []
  },
  {
   "cell_type": "code",
   "execution_count": null,
   "metadata": {},
   "outputs": [],
   "source": []
  },
  {
   "cell_type": "code",
   "execution_count": null,
   "metadata": {},
   "outputs": [],
   "source": []
  },
  {
   "cell_type": "code",
   "execution_count": null,
   "metadata": {},
   "outputs": [],
   "source": []
  },
  {
   "cell_type": "code",
   "execution_count": null,
   "metadata": {},
   "outputs": [],
   "source": []
  },
  {
   "cell_type": "code",
   "execution_count": null,
   "metadata": {},
   "outputs": [],
   "source": []
  },
  {
   "cell_type": "code",
   "execution_count": null,
   "metadata": {},
   "outputs": [],
   "source": []
  },
  {
   "cell_type": "code",
   "execution_count": null,
   "metadata": {},
   "outputs": [],
   "source": []
  },
  {
   "cell_type": "code",
   "execution_count": null,
   "metadata": {},
   "outputs": [],
   "source": []
  },
  {
   "cell_type": "code",
   "execution_count": null,
   "metadata": {},
   "outputs": [],
   "source": []
  },
  {
   "cell_type": "markdown",
   "metadata": {},
   "source": [
    "Let's take a look into 'makes' whose 'manufacturer' is null."
   ]
  },
  {
   "cell_type": "code",
   "execution_count": null,
   "metadata": {},
   "outputs": [],
   "source": [
    "df['make'][df['manufacturer'].isnull()].value_counts()"
   ]
  },
  {
   "cell_type": "code",
   "execution_count": null,
   "metadata": {},
   "outputs": [],
   "source": [
    "len(df['make'][df['manufacturer'].isnull()].value_counts())"
   ]
  },
  {
   "cell_type": "markdown",
   "metadata": {},
   "source": [
    "Let's look into 'model' whose 'manufacturer' is not null."
   ]
  },
  {
   "cell_type": "code",
   "execution_count": null,
   "metadata": {},
   "outputs": [],
   "source": [
    "df['manufacturer'][df['make']=='model'].value_counts()"
   ]
  },
  {
   "cell_type": "markdown",
   "metadata": {},
   "source": [
    "Let's delete row whose 'make' is 'model'."
   ]
  },
  {
   "cell_type": "code",
   "execution_count": null,
   "metadata": {},
   "outputs": [],
   "source": [
    "df.drop(df[df['make']=='model'].index, inplace=True)"
   ]
  },
  {
   "cell_type": "markdown",
   "metadata": {},
   "source": [
    "Let's look into 'international' whose 'manufacturer' is not null."
   ]
  },
  {
   "cell_type": "code",
   "execution_count": null,
   "metadata": {},
   "outputs": [],
   "source": [
    "df['manufacturer'][df['make']=='international'].value_counts()"
   ]
  },
  {
   "cell_type": "markdown",
   "metadata": {},
   "source": [
    "Let's delete row whose 'make' is 'international'."
   ]
  },
  {
   "cell_type": "code",
   "execution_count": null,
   "metadata": {
    "scrolled": false
   },
   "outputs": [],
   "source": [
    "df.drop(df[df['make']=='international'].index, inplace=True)"
   ]
  },
  {
   "cell_type": "code",
   "execution_count": null,
   "metadata": {},
   "outputs": [],
   "source": [
    "df['manufacturer'][df['make'].str.contains('scion')].value_counts()"
   ]
  },
  {
   "cell_type": "markdown",
   "metadata": {},
   "source": [
    "Let's replace the 'manufacturer' whose all values containing 'scion' or 'Scion' in 'make' to 'toyota'."
   ]
  },
  {
   "cell_type": "code",
   "execution_count": null,
   "metadata": {},
   "outputs": [],
   "source": [
    "df.loc[((df['make'].str.contains('scion')) & df['manufacturer'].isnull()),'manufacturer']='toyota'"
   ]
  },
  {
   "cell_type": "code",
   "execution_count": null,
   "metadata": {},
   "outputs": [],
   "source": [
    "df[['make', 'manufacturer']][df['make'].str.contains('scion')]"
   ]
  },
  {
   "cell_type": "markdown",
   "metadata": {},
   "source": [
    "Let's take a look into 'makes' whose 'manufacturer' is null again."
   ]
  },
  {
   "cell_type": "code",
   "execution_count": null,
   "metadata": {},
   "outputs": [],
   "source": [
    "#pd.set_option('display.max_rows', None)\n",
    "print(df['make'][df['manufacturer'].isnull()].value_counts())\n",
    "print(len(df['make'][df['manufacturer'].isnull()].value_counts()))"
   ]
  },
  {
   "cell_type": "markdown",
   "metadata": {},
   "source": [
    "Let's look into 'cadilac' in 'make' whose 'manufacturer' is not null."
   ]
  },
  {
   "cell_type": "code",
   "execution_count": null,
   "metadata": {},
   "outputs": [],
   "source": [
    "df[['make','manufacturer']][df['make'].str.contains('cadilac')]"
   ]
  },
  {
   "cell_type": "markdown",
   "metadata": {},
   "source": [
    "Let's fill in the null value in 'manufacturer' of 'cadilac' in 'make'."
   ]
  },
  {
   "cell_type": "code",
   "execution_count": null,
   "metadata": {},
   "outputs": [],
   "source": [
    "df.loc[df['make'].str.contains('cadilac'), 'manufacturer'] = 'cadilac'\n",
    "df[['make','manufacturer']][df['make'].str.contains('cadilac')]"
   ]
  },
  {
   "cell_type": "markdown",
   "metadata": {},
   "source": [
    "Let's look into 'manufacturer' whose all values containing 'f150' or 'f-150' in 'make'."
   ]
  },
  {
   "cell_type": "code",
   "execution_count": null,
   "metadata": {},
   "outputs": [],
   "source": [
    "df['manufacturer'][(df['make'].str.contains('f150'))\n",
    "                   | (df['make'].str.contains('f-150')) ].value_counts()"
   ]
  },
  {
   "cell_type": "code",
   "execution_count": null,
   "metadata": {},
   "outputs": [],
   "source": [
    "df['manufacturer'][(df['make'].str.contains('f150'))\n",
    "                   | (df['make'].str.contains('f-150'))\n",
    "                   & (df['manufacturer'].str.contains('ford')==False)\n",
    "                   ].value_counts()"
   ]
  },
  {
   "cell_type": "markdown",
   "metadata": {},
   "source": [
    "Let's look into detail of individual different 'f150's such as 'f-150' or 'F150'."
   ]
  },
  {
   "cell_type": "code",
   "execution_count": null,
   "metadata": {},
   "outputs": [],
   "source": [
    "df[['make', 'manufacturer']][(df['make'].str.contains('f-150'))\n",
    "                   & (df['manufacturer'].str.contains('ford')==False)]"
   ]
  },
  {
   "cell_type": "code",
   "execution_count": null,
   "metadata": {},
   "outputs": [],
   "source": [
    "df[['make','manufacturer']][(df['make'].str.contains('f150'))\n",
    "                   & (df['manufacturer'].str.contains('ford')==False)]"
   ]
  },
  {
   "cell_type": "code",
   "execution_count": null,
   "metadata": {},
   "outputs": [],
   "source": [
    "df['make'][(df['make'].str.contains('f150')) & (df['manufacturer'].isnull())].value_counts()"
   ]
  },
  {
   "cell_type": "markdown",
   "metadata": {},
   "source": [
    "Let's fill null value of 'f150''s 'manufacturer' with 'ford' because 'f150' of 'harley-davison' is actually 'harley-davison' version of 'ford f150'."
   ]
  },
  {
   "cell_type": "code",
   "execution_count": null,
   "metadata": {},
   "outputs": [],
   "source": [
    "df.loc[((df['make'].str.contains('f-150')) & (df['manufacturer'].isnull())),'manufacturer']='ford'   \n",
    "df.loc[((df['make'].str.contains('f150')) & (df['manufacturer'].isnull())),'manufacturer']='ford' "
   ]
  },
  {
   "cell_type": "code",
   "execution_count": null,
   "metadata": {},
   "outputs": [],
   "source": [
    "df['make'][(df['make'].str.contains('f150')) & (df['manufacturer'].isnull())].value_counts()"
   ]
  },
  {
   "cell_type": "markdown",
   "metadata": {},
   "source": [
    "Let's try to use for loop to expedite repeatedly instead of using while loop because it keeps stuck in 'not responding' overnight."
   ]
  },
  {
   "cell_type": "code",
   "execution_count": null,
   "metadata": {},
   "outputs": [],
   "source": [
    "#from time import perf_counter "
   ]
  },
  {
   "cell_type": "code",
   "execution_count": null,
   "metadata": {},
   "outputs": [],
   "source": [
    "i=0\n",
    "a = df['make'][df['manufacturer'].isnull()].value_counts().index\n",
    "  \n",
    "for i in range(0,500):\n",
    "    try:\n",
    "        df.loc[((df['make'].str.contains(a[i]))\n",
    "                & (df['manufacturer'].isnull())),'manufacturer']=df['manufacturer'][df['make'].str.contains(a[i])].value_counts().index[0]\n",
    "        \n",
    "    except:\n",
    "        pass"
   ]
  },
  {
   "cell_type": "code",
   "execution_count": null,
   "metadata": {},
   "outputs": [],
   "source": [
    "time.sleep(5)"
   ]
  },
  {
   "cell_type": "code",
   "execution_count": null,
   "metadata": {},
   "outputs": [],
   "source": [
    "print(df['make'][df['manufacturer'].isnull()].value_counts())\n",
    "print(len(df['make'][df['manufacturer'].isnull()].value_counts()))"
   ]
  },
  {
   "cell_type": "code",
   "execution_count": null,
   "metadata": {},
   "outputs": [],
   "source": [
    "i=0\n",
    "a = df['make'][df['manufacturer'].isnull()].value_counts().index\n",
    "  \n",
    "for i in range(0,500):\n",
    "    try:\n",
    "        df.loc[((df['make'].str.contains(a[i]))\n",
    "                & (df['manufacturer'].isnull())),'manufacturer']=df['manufacturer'][df['make'].str.contains(a[i])].value_counts().index[0]\n",
    "        \n",
    "    except:\n",
    "        pass"
   ]
  },
  {
   "cell_type": "code",
   "execution_count": null,
   "metadata": {},
   "outputs": [],
   "source": [
    "time.sleep(5)"
   ]
  },
  {
   "cell_type": "code",
   "execution_count": null,
   "metadata": {},
   "outputs": [],
   "source": [
    "print(df['make'][df['manufacturer'].isnull()].value_counts())\n",
    "print(len(df['make'][df['manufacturer'].isnull()].value_counts()))"
   ]
  },
  {
   "cell_type": "code",
   "execution_count": null,
   "metadata": {},
   "outputs": [],
   "source": [
    "df.make.value_counts()"
   ]
  },
  {
   "cell_type": "code",
   "execution_count": null,
   "metadata": {},
   "outputs": [],
   "source": [
    "df.manufacturer.value_counts()"
   ]
  },
  {
   "cell_type": "code",
   "execution_count": null,
   "metadata": {},
   "outputs": [],
   "source": [
    "df.manufacturer.isnull()"
   ]
  },
  {
   "cell_type": "code",
   "execution_count": null,
   "metadata": {},
   "outputs": [],
   "source": [
    "((df.isnull().sum()/len(df)).sort_values(ascending = False)*100).astype(float)"
   ]
  },
  {
   "cell_type": "markdown",
   "metadata": {},
   "source": [
    "'odometer' is very crucial factor to decide resale value, 'price'.\n",
    "\n",
    "Although 'odometer' null value occupies 33%, it is inevitable to delete all rows with null values in 'odometer' in that there is no way to trace back real 'odometer'."
   ]
  },
  {
   "cell_type": "code",
   "execution_count": null,
   "metadata": {},
   "outputs": [],
   "source": [
    "df.drop(df[df['odometer'].isnull()].index, inplace = True) "
   ]
  },
  {
   "cell_type": "code",
   "execution_count": null,
   "metadata": {},
   "outputs": [],
   "source": [
    "((df.isnull().sum()/len(df)).sort_values(ascending = False)*100).astype(float)"
   ]
  },
  {
   "cell_type": "markdown",
   "metadata": {},
   "source": [
    "Let's look into 'make's whose 'drive' is null."
   ]
  },
  {
   "cell_type": "code",
   "execution_count": null,
   "metadata": {},
   "outputs": [],
   "source": [
    "print(df['make'][df['drive'].isnull()].value_counts())\n",
    "print(len(df['make'][df['drive'].isnull()].value_counts()))"
   ]
  },
  {
   "cell_type": "code",
   "execution_count": null,
   "metadata": {},
   "outputs": [],
   "source": [
    "df['drive'][df['make'].str.contains('civic')].value_counts()"
   ]
  },
  {
   "cell_type": "markdown",
   "metadata": {},
   "source": [
    "Let's fill null value of 'drive' of 'civic' with the most portion, 'fwd'."
   ]
  },
  {
   "cell_type": "code",
   "execution_count": null,
   "metadata": {},
   "outputs": [],
   "source": [
    "df.loc[((df['make'].str.contains('civic'))\n",
    "        & (df['drive'].isnull())),'drive']=df['drive'][df['make'].str.contains('civic')].value_counts().index[0]"
   ]
  },
  {
   "cell_type": "markdown",
   "metadata": {},
   "source": [
    "Let's try to use another for loop to expedite repeatedly instead of using while loop because it keeps stuck in 'not responding' overnight."
   ]
  },
  {
   "cell_type": "code",
   "execution_count": null,
   "metadata": {},
   "outputs": [],
   "source": [
    "i=0\n",
    "a = df['make'][df['drive'].isnull()].value_counts().index\n",
    "  \n",
    "for i in range(0,500):\n",
    "    try:\n",
    "        df.loc[((df['make'].str.contains(a[i]))\n",
    "                & (df['drive'].isnull())),'drive']=df['drive'][df['make'].str.contains(a[i])].value_counts().index[0]\n",
    "        \n",
    "    except:\n",
    "        pass"
   ]
  },
  {
   "cell_type": "code",
   "execution_count": null,
   "metadata": {},
   "outputs": [],
   "source": [
    "time.sleep(5)"
   ]
  },
  {
   "cell_type": "code",
   "execution_count": null,
   "metadata": {},
   "outputs": [],
   "source": [
    "print(df['make'][df['drive'].isnull()].value_counts())\n",
    "print(len(df['make'][df['drive'].isnull()].value_counts()))"
   ]
  },
  {
   "cell_type": "code",
   "execution_count": null,
   "metadata": {},
   "outputs": [],
   "source": [
    "i=0\n",
    "a = df['make'][df['drive'].isnull()].value_counts().index\n",
    "  \n",
    "for i in range(0,500):\n",
    "    try:\n",
    "        df.loc[((df['make'].str.contains(a[i]))\n",
    "                & (df['drive'].isnull())),'drive']=df['drive'][df['make'].str.contains(a[i])].value_counts().index[0]\n",
    "        \n",
    "    except:\n",
    "        pass"
   ]
  },
  {
   "cell_type": "code",
   "execution_count": null,
   "metadata": {},
   "outputs": [],
   "source": [
    "time.sleep(5)"
   ]
  },
  {
   "cell_type": "code",
   "execution_count": null,
   "metadata": {},
   "outputs": [],
   "source": [
    "print(df['make'][df['drive'].isnull()].value_counts())\n",
    "print(len(df['make'][df['drive'].isnull()].value_counts()))"
   ]
  },
  {
   "cell_type": "code",
   "execution_count": null,
   "metadata": {},
   "outputs": [],
   "source": [
    "i=0\n",
    "a = df['make'][df['drive'].isnull()].value_counts().index\n",
    "  \n",
    "for i in range(0,500):\n",
    "    try:\n",
    "        df.loc[((df['make'].str.contains(a[i]))\n",
    "                & (df['drive'].isnull())),'drive']=df['drive'][df['make'].str.contains(a[i])].value_counts().index[0]\n",
    "        \n",
    "    except:\n",
    "        pass"
   ]
  },
  {
   "cell_type": "code",
   "execution_count": null,
   "metadata": {},
   "outputs": [],
   "source": [
    "time.sleep(5)"
   ]
  },
  {
   "cell_type": "code",
   "execution_count": null,
   "metadata": {},
   "outputs": [],
   "source": [
    "print(df['make'][df['drive'].isnull()].value_counts())\n",
    "print(len(df['make'][df['drive'].isnull()].value_counts()))"
   ]
  },
  {
   "cell_type": "code",
   "execution_count": null,
   "metadata": {},
   "outputs": [],
   "source": []
  },
  {
   "cell_type": "code",
   "execution_count": null,
   "metadata": {},
   "outputs": [],
   "source": [
    "((df.isnull().sum()/len(df)).sort_values(ascending = False)*100).astype(float)"
   ]
  },
  {
   "cell_type": "markdown",
   "metadata": {},
   "source": [
    "Let's look into 'make's whose 'type' is null."
   ]
  },
  {
   "cell_type": "code",
   "execution_count": null,
   "metadata": {},
   "outputs": [],
   "source": [
    "print(df['make'][df['type'].isnull()].value_counts())\n",
    "print(len(df['make'][df['type'].isnull()].value_counts()))"
   ]
  },
  {
   "cell_type": "code",
   "execution_count": null,
   "metadata": {},
   "outputs": [],
   "source": [
    "df['type'][df['make'].str.contains('1500')].value_counts()"
   ]
  },
  {
   "cell_type": "markdown",
   "metadata": {},
   "source": [
    "Let's replace all values of 'type' of '1500' with the most portion, 'truck'."
   ]
  },
  {
   "cell_type": "code",
   "execution_count": null,
   "metadata": {},
   "outputs": [],
   "source": [
    "df.loc[(df['make'].str.contains('1500')),\n",
    "       'type']=df['type'][df['make'].str.contains('1500')].value_counts().index[0]"
   ]
  },
  {
   "cell_type": "markdown",
   "metadata": {},
   "source": [
    "Let's try to use another for loop to expedite repeatedly instead of using while loop because it keeps stuck in 'not responding' overnight."
   ]
  },
  {
   "cell_type": "code",
   "execution_count": null,
   "metadata": {},
   "outputs": [],
   "source": [
    "i=0\n",
    "a = df['make'][df['type'].isnull()].value_counts().index\n",
    "  \n",
    "for i in range(0,500):\n",
    "    try:\n",
    "        df.loc[(df['make'].str.contains(a[i])),\n",
    "               'type']=df['type'][df['make'].str.contains(a[i])].value_counts().index[0]\n",
    "        \n",
    "    except:\n",
    "        pass"
   ]
  },
  {
   "cell_type": "code",
   "execution_count": null,
   "metadata": {},
   "outputs": [],
   "source": [
    "time.sleep(5)"
   ]
  },
  {
   "cell_type": "code",
   "execution_count": null,
   "metadata": {},
   "outputs": [],
   "source": [
    "print(df['make'][df['drive'].isnull()].value_counts())\n",
    "print(len(df['make'][df['drive'].isnull()].value_counts()))"
   ]
  },
  {
   "cell_type": "code",
   "execution_count": null,
   "metadata": {
    "scrolled": true
   },
   "outputs": [],
   "source": [
    "df.type.value_counts()"
   ]
  },
  {
   "cell_type": "code",
   "execution_count": null,
   "metadata": {},
   "outputs": [],
   "source": [
    "df['type'][df['make']=='1500'].value_counts()"
   ]
  },
  {
   "cell_type": "code",
   "execution_count": null,
   "metadata": {},
   "outputs": [],
   "source": []
  },
  {
   "cell_type": "code",
   "execution_count": null,
   "metadata": {},
   "outputs": [],
   "source": [
    "((df.isnull().sum()/len(df)).sort_values(ascending = False)*100).astype(float)"
   ]
  },
  {
   "cell_type": "code",
   "execution_count": null,
   "metadata": {},
   "outputs": [],
   "source": [
    "df.cylinders.value_counts()"
   ]
  },
  {
   "cell_type": "markdown",
   "metadata": {},
   "source": [
    "Let's look into 'make's whose 'cylinders' are null."
   ]
  },
  {
   "cell_type": "code",
   "execution_count": null,
   "metadata": {},
   "outputs": [],
   "source": [
    "print(df['make'][df['cylinders'].isnull()].value_counts())\n",
    "print(len(df['make'][df['cylinders'].isnull()].value_counts()))"
   ]
  },
  {
   "cell_type": "code",
   "execution_count": null,
   "metadata": {},
   "outputs": [],
   "source": [
    "df['cylinders'][df['make'].str.contains('f-150')].value_counts()"
   ]
  },
  {
   "cell_type": "markdown",
   "metadata": {},
   "source": [
    "Let's fill all values of 'cylinders' of 'f-150' with the most portion, '8 cylinders'."
   ]
  },
  {
   "cell_type": "code",
   "execution_count": null,
   "metadata": {},
   "outputs": [],
   "source": [
    "df.loc[(df['make'].str.contains('f-150')),\n",
    "       'cylinders']=df['cylinders'][df['make'].str.contains('f-150')].value_counts().index[0]"
   ]
  },
  {
   "cell_type": "markdown",
   "metadata": {},
   "source": [
    "Let's try to use another for loop to expedite repeatedly instead of using while loop because it keeps stuck in 'not responding' overnight."
   ]
  },
  {
   "cell_type": "code",
   "execution_count": null,
   "metadata": {},
   "outputs": [],
   "source": [
    "i=0\n",
    "a = df['make'][df['cylinders'].isnull()].value_counts().index\n",
    "  \n",
    "for i in range(0,500):\n",
    "    try:\n",
    "        df.loc[(df['make'].str.contains(a[i])),\n",
    "               'cylinders']=df['cylinders'][df['make'].str.contains(a[i])].value_counts().index[0]\n",
    "        \n",
    "    except:\n",
    "        pass"
   ]
  },
  {
   "cell_type": "code",
   "execution_count": null,
   "metadata": {},
   "outputs": [],
   "source": [
    "time.sleep(5)"
   ]
  },
  {
   "cell_type": "code",
   "execution_count": null,
   "metadata": {},
   "outputs": [],
   "source": [
    "print(df['make'][df['cylinders'].isnull()].value_counts())\n",
    "print(len(df['make'][df['cylinders'].isnull()].value_counts()))"
   ]
  },
  {
   "cell_type": "code",
   "execution_count": null,
   "metadata": {},
   "outputs": [],
   "source": [
    "i=0\n",
    "a = df['make'][df['cylinders'].isnull()].value_counts().index\n",
    "  \n",
    "for i in range(0,500):\n",
    "    try:\n",
    "        df.loc[(df['make'].str.contains(a[i])),\n",
    "               'cylinders']=df['cylinders'][df['make'].str.contains(a[i])].value_counts().index[0]\n",
    "        \n",
    "    except:\n",
    "        pass"
   ]
  },
  {
   "cell_type": "code",
   "execution_count": null,
   "metadata": {},
   "outputs": [],
   "source": [
    "time.sleep(5)"
   ]
  },
  {
   "cell_type": "code",
   "execution_count": null,
   "metadata": {},
   "outputs": [],
   "source": [
    "print(df['make'][df['cylinders'].isnull()].value_counts())\n",
    "print(len(df['make'][df['cylinders'].isnull()].value_counts()))"
   ]
  },
  {
   "cell_type": "code",
   "execution_count": null,
   "metadata": {},
   "outputs": [],
   "source": [
    "i=0\n",
    "a = df['make'][df['cylinders'].isnull()].value_counts().index\n",
    "  \n",
    "for i in range(0,500):\n",
    "    try:\n",
    "        df.loc[(df['make'].str.contains(a[i])),\n",
    "               'cylinders']=df['cylinders'][df['make'].str.contains(a[i])].value_counts().index[0]\n",
    "        \n",
    "    except:\n",
    "        pass"
   ]
  },
  {
   "cell_type": "code",
   "execution_count": null,
   "metadata": {},
   "outputs": [],
   "source": [
    "time.sleep(5)"
   ]
  },
  {
   "cell_type": "code",
   "execution_count": null,
   "metadata": {},
   "outputs": [],
   "source": [
    "print(df['make'][df['cylinders'].isnull()].value_counts())\n",
    "print(len(df['make'][df['cylinders'].isnull()].value_counts()))"
   ]
  },
  {
   "cell_type": "code",
   "execution_count": null,
   "metadata": {},
   "outputs": [],
   "source": []
  },
  {
   "cell_type": "code",
   "execution_count": null,
   "metadata": {},
   "outputs": [],
   "source": [
    "((df.isnull().sum()/len(df)).sort_values(ascending = False)*100).astype(float)"
   ]
  },
  {
   "cell_type": "code",
   "execution_count": null,
   "metadata": {},
   "outputs": [],
   "source": [
    "df['size'].value_counts()"
   ]
  },
  {
   "cell_type": "markdown",
   "metadata": {},
   "source": [
    "Let's look into 'make's whose 'size' is null."
   ]
  },
  {
   "cell_type": "code",
   "execution_count": null,
   "metadata": {},
   "outputs": [],
   "source": [
    "print(df['make'][df['size'].isnull()].value_counts())\n",
    "print(len(df['make'][df['size'].isnull()].value_counts()))"
   ]
  },
  {
   "cell_type": "code",
   "execution_count": null,
   "metadata": {},
   "outputs": [],
   "source": [
    "df['size'][df['make'].str.contains('f-150')].value_counts()"
   ]
  },
  {
   "cell_type": "markdown",
   "metadata": {},
   "source": [
    "Let's replace all values of 'size' of 'f-150' with the most portion, 'full-size'."
   ]
  },
  {
   "cell_type": "code",
   "execution_count": null,
   "metadata": {},
   "outputs": [],
   "source": [
    "df.loc[(df['make'].str.contains('f-150')),\n",
    "       'size']=df['size'][df['make'].str.contains('f-150')].value_counts().index[0]"
   ]
  },
  {
   "cell_type": "markdown",
   "metadata": {},
   "source": [
    "Let's try to use another for loop to expedite repeatedly instead of using while loop because it keeps stuck in 'not responding' overnight."
   ]
  },
  {
   "cell_type": "code",
   "execution_count": null,
   "metadata": {},
   "outputs": [],
   "source": [
    "i=0\n",
    "a = df['make'][df['size'].isnull()].value_counts().index\n",
    "  \n",
    "for i in range(0,500):\n",
    "    try:\n",
    "        df.loc[(df['make'].str.contains(a[i])),\n",
    "               'size']=df['size'][df['make'].str.contains(a[i])].value_counts().index[0]\n",
    "        \n",
    "    except:\n",
    "        pass"
   ]
  },
  {
   "cell_type": "code",
   "execution_count": null,
   "metadata": {},
   "outputs": [],
   "source": [
    "time.sleep(5)"
   ]
  },
  {
   "cell_type": "code",
   "execution_count": null,
   "metadata": {},
   "outputs": [],
   "source": [
    "print(df['make'][df['size'].isnull()].value_counts())\n",
    "print(len(df['make'][df['size'].isnull()].value_counts()))"
   ]
  },
  {
   "cell_type": "code",
   "execution_count": null,
   "metadata": {},
   "outputs": [],
   "source": [
    "i=0\n",
    "a = df['make'][df['size'].isnull()].value_counts().index\n",
    "  \n",
    "for i in range(0,500):\n",
    "    try:\n",
    "        df.loc[(df['make'].str.contains(a[i])),\n",
    "               'size']=df['size'][df['make'].str.contains(a[i])].value_counts().index[0]\n",
    "        \n",
    "    except:\n",
    "        pass"
   ]
  },
  {
   "cell_type": "code",
   "execution_count": null,
   "metadata": {},
   "outputs": [],
   "source": [
    "time.sleep(5)"
   ]
  },
  {
   "cell_type": "code",
   "execution_count": null,
   "metadata": {
    "scrolled": true
   },
   "outputs": [],
   "source": [
    "print(df['make'][df['size'].isnull()].value_counts())\n",
    "print(len(df['make'][df['size'].isnull()].value_counts()))"
   ]
  },
  {
   "cell_type": "code",
   "execution_count": null,
   "metadata": {},
   "outputs": [],
   "source": [
    "i=0\n",
    "a = df['make'][df['size'].isnull()].value_counts().index\n",
    "  \n",
    "for i in range(0,500):\n",
    "    try:\n",
    "        df.loc[(df['make'].str.contains(a[i])),\n",
    "               'size']=df['size'][df['make'].str.contains(a[i])].value_counts().index[0]\n",
    "        \n",
    "    except:\n",
    "        pass"
   ]
  },
  {
   "cell_type": "code",
   "execution_count": null,
   "metadata": {},
   "outputs": [],
   "source": [
    "time.sleep(5)"
   ]
  },
  {
   "cell_type": "code",
   "execution_count": null,
   "metadata": {},
   "outputs": [],
   "source": [
    "print(df['make'][df['size'].isnull()].value_counts())\n",
    "print(len(df['make'][df['size'].isnull()].value_counts()))"
   ]
  },
  {
   "cell_type": "code",
   "execution_count": null,
   "metadata": {},
   "outputs": [],
   "source": []
  },
  {
   "cell_type": "code",
   "execution_count": null,
   "metadata": {},
   "outputs": [],
   "source": [
    "((df.isnull().sum()/len(df)).sort_values(ascending = False)*100).astype(float)"
   ]
  },
  {
   "cell_type": "code",
   "execution_count": null,
   "metadata": {},
   "outputs": [],
   "source": [
    "df['condition'].value_counts()"
   ]
  },
  {
   "cell_type": "code",
   "execution_count": null,
   "metadata": {},
   "outputs": [],
   "source": [
    "df['title_status'].value_counts()"
   ]
  },
  {
   "cell_type": "code",
   "execution_count": null,
   "metadata": {},
   "outputs": [],
   "source": [
    "df['title_status'][df['condition']=='excellent'].value_counts()"
   ]
  },
  {
   "cell_type": "code",
   "execution_count": null,
   "metadata": {},
   "outputs": [],
   "source": [
    "df['title_status'][df['condition']=='good'].value_counts()"
   ]
  },
  {
   "cell_type": "code",
   "execution_count": null,
   "metadata": {},
   "outputs": [],
   "source": [
    "df['title_status'][df['condition']=='like new'].value_counts()"
   ]
  },
  {
   "cell_type": "code",
   "execution_count": null,
   "metadata": {},
   "outputs": [],
   "source": [
    "df['title_status'][df['condition']=='fair'].value_counts()"
   ]
  },
  {
   "cell_type": "code",
   "execution_count": null,
   "metadata": {},
   "outputs": [],
   "source": [
    "df['title_status'][df['condition']=='new'].value_counts()"
   ]
  },
  {
   "cell_type": "code",
   "execution_count": null,
   "metadata": {},
   "outputs": [],
   "source": [
    "df['title_status'][df['condition']=='salvage'].value_counts()"
   ]
  },
  {
   "cell_type": "code",
   "execution_count": null,
   "metadata": {},
   "outputs": [],
   "source": [
    "df['condition'][df['title_status']=='clean'].value_counts()"
   ]
  },
  {
   "cell_type": "code",
   "execution_count": null,
   "metadata": {},
   "outputs": [],
   "source": [
    "df['condition'][df['title_status']=='rebuilt'].value_counts()"
   ]
  },
  {
   "cell_type": "code",
   "execution_count": null,
   "metadata": {},
   "outputs": [],
   "source": [
    "df['condition'][df['title_status']=='salvage'].value_counts()"
   ]
  },
  {
   "cell_type": "code",
   "execution_count": null,
   "metadata": {},
   "outputs": [],
   "source": [
    "df['condition'][df['title_status']=='lien'].value_counts()"
   ]
  },
  {
   "cell_type": "code",
   "execution_count": null,
   "metadata": {},
   "outputs": [],
   "source": [
    "df['condition'][df['title_status']=='missing'].value_counts()"
   ]
  },
  {
   "cell_type": "code",
   "execution_count": null,
   "metadata": {},
   "outputs": [],
   "source": [
    "df['condition'][df['title_status']=='parts only'].value_counts()"
   ]
  },
  {
   "cell_type": "code",
   "execution_count": null,
   "metadata": {},
   "outputs": [],
   "source": [
    "df['year']=df['year'].astype(int)"
   ]
  },
  {
   "cell_type": "code",
   "execution_count": null,
   "metadata": {},
   "outputs": [],
   "source": [
    "df['year'].max()"
   ]
  },
  {
   "cell_type": "code",
   "execution_count": null,
   "metadata": {},
   "outputs": [],
   "source": [
    "df['usage_yr']=df['year'].max()-df['year']\n",
    "df.head()"
   ]
  },
  {
   "cell_type": "code",
   "execution_count": null,
   "metadata": {},
   "outputs": [],
   "source": [
    "df['usage_yr'].hist()"
   ]
  },
  {
   "cell_type": "code",
   "execution_count": null,
   "metadata": {},
   "outputs": [],
   "source": [
    "df['price']=df['price'].astype(int)"
   ]
  },
  {
   "cell_type": "code",
   "execution_count": null,
   "metadata": {},
   "outputs": [],
   "source": [
    "df['odometer']=df['odometer'].astype(int)"
   ]
  },
  {
   "cell_type": "code",
   "execution_count": null,
   "metadata": {
    "scrolled": true
   },
   "outputs": [],
   "source": [
    "df['weather']=df['weather'].astype(float)"
   ]
  },
  {
   "cell_type": "code",
   "execution_count": null,
   "metadata": {},
   "outputs": [],
   "source": [
    "df['weather'].hist()"
   ]
  },
  {
   "cell_type": "code",
   "execution_count": null,
   "metadata": {},
   "outputs": [],
   "source": [
    "df['odometer'].hist()"
   ]
  },
  {
   "cell_type": "code",
   "execution_count": null,
   "metadata": {},
   "outputs": [],
   "source": [
    "df['make'][df['odometer']==0].value_counts()"
   ]
  },
  {
   "cell_type": "code",
   "execution_count": null,
   "metadata": {},
   "outputs": [],
   "source": [
    "df['title_status'][df['odometer']==0].value_counts()"
   ]
  },
  {
   "cell_type": "code",
   "execution_count": null,
   "metadata": {},
   "outputs": [],
   "source": [
    "df['condition'][df['odometer']==0].value_counts()"
   ]
  },
  {
   "cell_type": "code",
   "execution_count": null,
   "metadata": {},
   "outputs": [],
   "source": []
  },
  {
   "cell_type": "code",
   "execution_count": null,
   "metadata": {},
   "outputs": [],
   "source": []
  },
  {
   "cell_type": "code",
   "execution_count": null,
   "metadata": {},
   "outputs": [],
   "source": []
  },
  {
   "cell_type": "code",
   "execution_count": null,
   "metadata": {},
   "outputs": [],
   "source": [
    "#pip install -U statsmodels"
   ]
  },
  {
   "cell_type": "code",
   "execution_count": null,
   "metadata": {},
   "outputs": [],
   "source": [
    "import seaborn as sns\n",
    "corr = df.corr()\n",
    "ax = sns.heatmap(\n",
    "    corr, \n",
    "    vmin=-1, vmax=1, center=0,\n",
    "    cmap=sns.diverging_palette(20, 220, n=200),\n",
    "    square=True\n",
    ")\n",
    "ax.set_xticklabels(\n",
    "    ax.get_xticklabels(),\n",
    "    rotation=45,\n",
    "    horizontalalignment='right'\n",
    ");"
   ]
  },
  {
   "cell_type": "code",
   "execution_count": null,
   "metadata": {},
   "outputs": [],
   "source": []
  },
  {
   "cell_type": "code",
   "execution_count": null,
   "metadata": {
    "scrolled": true
   },
   "outputs": [],
   "source": [
    "df['make'][df['type'].isnull()].value_counts()"
   ]
  },
  {
   "cell_type": "markdown",
   "metadata": {},
   "source": [
    "Let's import another dataset to fill up the above null values in 'type'."
   ]
  },
  {
   "cell_type": "code",
   "execution_count": null,
   "metadata": {
    "scrolled": true
   },
   "outputs": [],
   "source": [
    "#df_fuel = pd.read_csv(\"vehicles.csv\", encoding='latin-1')\n",
    "df_fuel = pd.read_csv(\"vehicles.csv\", usecols = ['cylinders','drive','eng_dscr',\n",
    "                                                 'youSaveSpend','fuelType','fuelType1',\n",
    "                                                 'make','model','trany','VClass',\n",
    "                                                 'year','atvType','fuelType2'])\n",
    "df_fuel.head()"
   ]
  },
  {
   "cell_type": "code",
   "execution_count": null,
   "metadata": {},
   "outputs": [],
   "source": [
    "df_fuel[df_fuel['model'].str.contains('montana')]"
   ]
  },
  {
   "cell_type": "code",
   "execution_count": null,
   "metadata": {},
   "outputs": [],
   "source": []
  },
  {
   "cell_type": "code",
   "execution_count": null,
   "metadata": {},
   "outputs": [],
   "source": []
  },
  {
   "cell_type": "code",
   "execution_count": null,
   "metadata": {},
   "outputs": [],
   "source": []
  },
  {
   "cell_type": "code",
   "execution_count": null,
   "metadata": {},
   "outputs": [],
   "source": []
  },
  {
   "cell_type": "code",
   "execution_count": null,
   "metadata": {},
   "outputs": [],
   "source": [
    "np.percentile(df['make'][df['type'].isnull()].value_counts(), (100-20))"
   ]
  },
  {
   "cell_type": "code",
   "execution_count": null,
   "metadata": {},
   "outputs": [],
   "source": [
    "np.percentile(df['make'][df['type'].isnull()].value_counts(), (100-10))"
   ]
  },
  {
   "cell_type": "code",
   "execution_count": null,
   "metadata": {},
   "outputs": [],
   "source": [
    "np.percentile(df['make'][df['type'].isnull()].value_counts(), (100-5))"
   ]
  },
  {
   "cell_type": "code",
   "execution_count": null,
   "metadata": {},
   "outputs": [],
   "source": [
    "np.percentile(df['make'][df['type'].isnull()].value_counts(), (100-1))"
   ]
  },
  {
   "cell_type": "code",
   "execution_count": null,
   "metadata": {},
   "outputs": [],
   "source": []
  },
  {
   "cell_type": "code",
   "execution_count": null,
   "metadata": {},
   "outputs": [],
   "source": []
  },
  {
   "cell_type": "code",
   "execution_count": null,
   "metadata": {},
   "outputs": [],
   "source": []
  },
  {
   "cell_type": "code",
   "execution_count": null,
   "metadata": {},
   "outputs": [],
   "source": []
  },
  {
   "cell_type": "code",
   "execution_count": null,
   "metadata": {},
   "outputs": [],
   "source": []
  },
  {
   "cell_type": "code",
   "execution_count": null,
   "metadata": {},
   "outputs": [],
   "source": []
  },
  {
   "cell_type": "code",
   "execution_count": null,
   "metadata": {},
   "outputs": [],
   "source": []
  },
  {
   "cell_type": "code",
   "execution_count": null,
   "metadata": {},
   "outputs": [],
   "source": []
  },
  {
   "cell_type": "code",
   "execution_count": null,
   "metadata": {},
   "outputs": [],
   "source": []
  },
  {
   "cell_type": "markdown",
   "metadata": {},
   "source": [
    "# Even in 'city', there seem possibly some errors on city names like 'cfl'.\n",
    "\n",
    "# Thus, let's bring additional data set, 'Median_Household_Income_2017.csv' in order to match this with df1 on bases of \n",
    "# 'county_fips'.\n",
    "\n",
    "df_income = pd.read_csv(\"Median_Household_Income_2017.csv\")\n",
    "df_income.tail()"
   ]
  },
  {
   "cell_type": "markdown",
   "metadata": {
    "scrolled": true
   },
   "source": [
    "# 'county_fips' from df1 and 'FIPS' from df_income look having same 5 digits except for that type of 'county_fips'\n",
    "# from df1 should be converted to integer from float.\n",
    "\n",
    "df1['county_fips']=df1['county_fips'].astype(int)\n",
    "df1['county_fips']"
   ]
  },
  {
   "cell_type": "markdown",
   "metadata": {
    "scrolled": true
   },
   "source": [
    "# Let's solve he positive or negative infinite problem.\n",
    "\n",
    "df1 = df1.replace([np.inf, -np.inf], np.nan)\n",
    "df1['county_fips']=df1['county_fips'].fillna(0)\n",
    "df1['county_fips']=df1['county_fips'].astype(int)\n",
    "df1['county_fips']"
   ]
  },
  {
   "cell_type": "markdown",
   "metadata": {},
   "source": [
    "len(df1[df1['county_fips']==0])/len(df1['county_fips'])"
   ]
  },
  {
   "cell_type": "markdown",
   "metadata": {},
   "source": [
    "df1=df1[['county_fips','price','year','manufacturer','make','condition','cylinders','fuel','odometer','title_status','transmission','drive','type','paint_color','weather']]\n",
    "df1=df1.drop_duplicates()"
   ]
  },
  {
   "cell_type": "markdown",
   "metadata": {
    "scrolled": true
   },
   "source": [
    "# Now let's change the type of df_income['FIPS'] to integer.\n",
    "\n",
    "df_income.rename(columns = {'FIPS':'county_fips'}, inplace=True)\n",
    "df_income['county_fips']=df_income['county_fips'].astype(int)\n",
    "df_income['county_fips'].value_counts()"
   ]
  },
  {
   "cell_type": "markdown",
   "metadata": {},
   "source": [
    "df_income1=df_income[['county_fips','Area_name','State','Median_Household_Income_2017','Unemployment_rate_2018','Civilian_labor_force_2018']]\n",
    "df_income1=df_income1.drop_duplicates()"
   ]
  },
  {
   "cell_type": "markdown",
   "metadata": {},
   "source": [
    "# Let's merge two data sets: df1 and df_zip\n",
    "\n",
    "df2 = pd.merge(df1,df_income1, on='county_fips', how='left')\n",
    "df2=df2.drop_duplicates()\n",
    "df2.tail()"
   ]
  },
  {
   "cell_type": "markdown",
   "metadata": {},
   "source": [
    "# Now let's bring population information.\n",
    "\n",
    "df_zip = pd.read_csv(\"uszips.csv\")\n",
    "df_zip.tail()"
   ]
  },
  {
   "cell_type": "markdown",
   "metadata": {
    "scrolled": true
   },
   "source": [
    "# Now let's normalize 'population' and 'density'.\n",
    "\n",
    "# I will add the sum of 'population' to each 'county_fips'.\n",
    "\n",
    "df2['population']=df_zip.groupby('county_fips')['population'].cumsum()\n",
    "df2.head()"
   ]
  },
  {
   "cell_type": "markdown",
   "metadata": {},
   "source": [
    "df2.tail()"
   ]
  },
  {
   "cell_type": "markdown",
   "metadata": {
    "scrolled": true
   },
   "source": [
    "df_zip['area']=df_zip.population / df_zip.density\n",
    "\n",
    "df_zip"
   ]
  },
  {
   "cell_type": "code",
   "execution_count": null,
   "metadata": {},
   "outputs": [],
   "source": [
    "# In order to add 'density' on 'county_fips', it is needed to understand how to calculate 'density'.\n",
    "\n",
    "# density = total population / total area\n",
    "\n",
    "# We already know 'density' and 'population' from 'df_zip'.\n",
    "\n",
    "# Let's calculate df_zip['area'] by dividing 'population' with 'density'."
   ]
  },
  {
   "cell_type": "markdown",
   "metadata": {},
   "source": [
    "df2['area']=df_zip.groupby('county_fips')['area'].cumsum()\n",
    "df2['density']=df2.population / df2.area\n",
    "df2.head()"
   ]
  },
  {
   "cell_type": "markdown",
   "metadata": {},
   "source": [
    "df2['year']=df2['year'].fillna(0)\n",
    "df2['year']=df2['year'].astype(int)"
   ]
  },
  {
   "cell_type": "markdown",
   "metadata": {},
   "source": [
    "df2.head()"
   ]
  },
  {
   "cell_type": "markdown",
   "metadata": {
    "scrolled": true
   },
   "source": [
    "df2['manufacturer']=df2['manufacturer'].fillna(\"UNKNOWN\")\n",
    "df2['manufacturer'].value_counts()"
   ]
  },
  {
   "cell_type": "markdown",
   "metadata": {},
   "source": [
    "df2['make']=df2['make'].fillna(\"UNKNOWN\")\n",
    "df2['make'].value_counts()"
   ]
  },
  {
   "cell_type": "markdown",
   "metadata": {
    "scrolled": true
   },
   "source": [
    "# As seen above 2 value_counts 'UNKNOWN' occupy in both columns:'manifacturer' and 'make'.\n",
    "# Let's look into them.\n",
    "\n",
    "df2.loc[(df2['manufacturer'] == 'UNKNOWN') & (df2['make'] == 'UNKNOWN'),:]"
   ]
  },
  {
   "cell_type": "markdown",
   "metadata": {
    "scrolled": true
   },
   "source": [
    "# Let's drop df2.manufacturer & df2.make whose values are UNKNOWN at the same time.\n",
    "\n",
    "df3 = df2.drop(df2[(df2['manufacturer']=='UNKNOWN') & (df2['make']=='UNKNOWN')].index)\n",
    "df3"
   ]
  },
  {
   "cell_type": "markdown",
   "metadata": {},
   "source": [
    "(df3.isnull().sum()/len(df3)).sort_values(ascending = False)"
   ]
  },
  {
   "cell_type": "markdown",
   "metadata": {
    "scrolled": true
   },
   "source": [
    "df3.county_fips.value_counts()"
   ]
  },
  {
   "cell_type": "markdown",
   "metadata": {},
   "source": [
    "# let's drop 0 value of 'county_fips' in that their portion occupies only 4%, which can be ignorable.\n",
    "\n",
    "len(df3.county_fips[df3.county_fips==0])/len(df3.county_fips)"
   ]
  },
  {
   "cell_type": "markdown",
   "metadata": {},
   "source": [
    "df3=df3.drop(df3[df3['county_fips']==0].index)\n",
    "df3"
   ]
  },
  {
   "cell_type": "markdown",
   "metadata": {},
   "source": [
    "df3.describe()"
   ]
  },
  {
   "cell_type": "markdown",
   "metadata": {},
   "source": [
    "# And, as long as you don't know what year your vehicle was made at, it is impossible to project a residual value of\n",
    "# your vehile.\n",
    "\n",
    "# So let's drop 'year' whose value is 0.\n",
    "\n",
    "len(df3[df3.year==0])/len(df3)"
   ]
  },
  {
   "cell_type": "markdown",
   "metadata": {},
   "source": [
    "df3=df3.drop(df3[df3['year']==0].index)\n",
    "df3.describe()"
   ]
  },
  {
   "cell_type": "markdown",
   "metadata": {},
   "source": [
    "df3"
   ]
  },
  {
   "cell_type": "markdown",
   "metadata": {},
   "source": [
    "(df3.isnull().sum()/len(df3)).sort_values(ascending = False)"
   ]
  },
  {
   "cell_type": "markdown",
   "metadata": {},
   "source": [
    "df3[df3.Area_name.isnull()]"
   ]
  },
  {
   "cell_type": "markdown",
   "metadata": {},
   "source": [
    "# Let's drop the above rows whose 'county_name' cannot be identified.\n",
    "\n",
    "df3=df3.drop(df3[df3['Area_name'].isnull()].index)\n",
    "(df3.isnull().sum()/len(df3)).sort_values(ascending = False)"
   ]
  },
  {
   "cell_type": "markdown",
   "metadata": {},
   "source": [
    "df3[df3.title_status.isnull()]"
   ]
  },
  {
   "cell_type": "markdown",
   "metadata": {},
   "source": [
    "df3.title_status.value_counts()"
   ]
  },
  {
   "cell_type": "markdown",
   "metadata": {},
   "source": [
    "# Let's drop 'title_status' whose values is_null.\n",
    "\n",
    "df3=df3.drop(df3[df3['title_status'].isnull()].index)\n",
    "(df3.isnull().sum()/len(df3)).sort_values(ascending = False)"
   ]
  },
  {
   "cell_type": "markdown",
   "metadata": {},
   "source": [
    "df3.condition.value_counts()"
   ]
  },
  {
   "cell_type": "markdown",
   "metadata": {},
   "source": [
    "# By comparing salvage counts (19879) from 'title_status' with salvage counts (3442) from 'condition', it is assumed that\n",
    "# salvage from 'condition' seems NOT objective in that salvage counts (19879) from 'title_status' outnumber salvage counts\n",
    "# (3442) from 'condition'.\n",
    "\n",
    "# From a commonsense point of view, used car sellers would like to overestimate their cars.\n",
    "\n",
    "# Thus, let's exclude the column, 'condition'.\n",
    "# In addtion, Null value of 'condition' occupies 39%; it is too big.\n",
    "\n",
    "df3 = df3.drop(columns=['condition'])"
   ]
  },
  {
   "cell_type": "markdown",
   "metadata": {},
   "source": [
    "df3.weather.value_counts()"
   ]
  },
  {
   "cell_type": "markdown",
   "metadata": {},
   "source": [
    "df3[df3.weather.isnull()]"
   ]
  },
  {
   "cell_type": "markdown",
   "metadata": {},
   "source": [
    "df3.county_fips[df3.weather.isnull()].value_counts()"
   ]
  },
  {
   "cell_type": "markdown",
   "metadata": {},
   "source": [
    "# All df3's 'weather' whose value is null has only one 'county_fips' value: 11001, District of Columbia.\n",
    "# So let's look into all 'weather' values from all 'county_fips', 11001 value.\n",
    "\n",
    "df3.weather[df3.county_fips == 11001].value_counts()"
   ]
  },
  {
   "cell_type": "markdown",
   "metadata": {},
   "source": [
    "# None, so let's look into other columns of 'county_fips', 11001.\n",
    "\n",
    "df3[df3.county_fips == 11001]"
   ]
  },
  {
   "cell_type": "code",
   "execution_count": null,
   "metadata": {},
   "outputs": [],
   "source": [
    "# All null value of 'weather' is information of 'county_fips', 11001, whose 'county_name' is 'District of Columbia'\n",
    "# Let's keep 'weather' whose value is null because 'weather' values  within 'Distict of Columbia' is the only one value, NaN. "
   ]
  },
  {
   "cell_type": "markdown",
   "metadata": {},
   "source": [
    "(df3.isnull().sum()/len(df3)).sort_values(ascending = False)"
   ]
  },
  {
   "cell_type": "markdown",
   "metadata": {
    "scrolled": true
   },
   "source": [
    "# 'price' seems having no problems.\n",
    "df3.price.value_counts()"
   ]
  },
  {
   "cell_type": "markdown",
   "metadata": {
    "scrolled": true
   },
   "source": [
    "# 'year' whose values are below 1900 seem not normal.\n",
    "df3.year.value_counts()"
   ]
  },
  {
   "cell_type": "markdown",
   "metadata": {},
   "source": [
    "# Let's look into information whose 'year' <1900.\n",
    "df3[df3.year<1900]"
   ]
  },
  {
   "cell_type": "markdown",
   "metadata": {
    "scrolled": true
   },
   "source": [
    "# Let's look into information whose 'year' > 1900 & 'year' < 1910.\n",
    "df3[(df3.year>1900) & (df3.year<1910)]"
   ]
  },
  {
   "cell_type": "code",
   "execution_count": null,
   "metadata": {},
   "outputs": [],
   "source": [
    "# It is better to keep 'year' information for the time being because there are too many abnormal information to be corrected."
   ]
  },
  {
   "cell_type": "markdown",
   "metadata": {
    "scrolled": true
   },
   "source": [
    "# Let's do value_counts on 'make'.\n",
    "\n",
    "df3.make.value_counts()"
   ]
  },
  {
   "cell_type": "markdown",
   "metadata": {},
   "source": [
    "#'UNKNOWN' make occupies almost 10% of total information.\n",
    "\n",
    "len(df3.make.value_counts())/len(df3)"
   ]
  },
  {
   "cell_type": "markdown",
   "metadata": {
    "scrolled": true
   },
   "source": [
    "# As long as you do not know 'make' as 'UNKNOWN', it is impossible to project resale values on it per 'make'.\n",
    "# Thus, it is better to drop 'make' whose value is 'UNKNOWN'.\n",
    "\n",
    "df3=df3.drop(df3[df3['make']=='UNKNOWN'].index)\n",
    "df3.make.value_counts()"
   ]
  },
  {
   "cell_type": "markdown",
   "metadata": {
    "scrolled": true
   },
   "source": [
    "# Let's look into 'manufacturer'.\n",
    "\n",
    "df3.manufacturer.value_counts()"
   ]
  },
  {
   "cell_type": "markdown",
   "metadata": {
    "scrolled": true
   },
   "source": [
    "# Let's look at them in alphabetical order.\n",
    "\n",
    "df_manufacturer=df3.manufacturer.drop_duplicates()\n",
    "df_manufacturer.sort_values(ascending=True)"
   ]
  },
  {
   "cell_type": "markdown",
   "metadata": {},
   "source": [
    "# There are some identical manufacturers with different names or misspelling.\n",
    "# Let's look into them and correct them.\n",
    "\n",
    "df3[df3['manufacturer']=='alfa']"
   ]
  },
  {
   "cell_type": "markdown",
   "metadata": {},
   "source": [
    "df3[df3['manufacturer']=='alfa-romeo']"
   ]
  },
  {
   "cell_type": "markdown",
   "metadata": {},
   "source": [
    "# As seen above, 'alfa' and 'alfa-romeo' seem identical.\n",
    "# Let's replace 'alfa' with 'alfa-roemo'.\n",
    "\n",
    "df3['manufacturer'].replace(to_replace=\"alfa\",value=\"alfa-roemo\",inplace=True)\n",
    "df3=df3.drop_duplicates()"
   ]
  },
  {
   "cell_type": "markdown",
   "metadata": {
    "scrolled": true
   },
   "source": [
    "# Now let's compare 'aston' with 'aston-martin'.\n",
    "df3[df3['manufacturer']=='aston']"
   ]
  },
  {
   "cell_type": "markdown",
   "metadata": {
    "scrolled": true
   },
   "source": [
    "df3[df3['manufacturer']=='aston-martin']"
   ]
  },
  {
   "cell_type": "markdown",
   "metadata": {},
   "source": [
    "# As seen above, 'aston' and 'aston-martin' seem identical.\n",
    "# Let's replace 'aston' with 'aston-martin'.\n",
    "\n",
    "df3['manufacturer'].replace(to_replace=\"aston\",value=\"aston-martin\",inplace=True)\n",
    "df3=df3.drop_duplicates()"
   ]
  },
  {
   "cell_type": "markdown",
   "metadata": {},
   "source": [
    "# Now let's compare 'harley' with 'harley-davidson'.\n",
    "df3[df3['manufacturer']=='harley']"
   ]
  },
  {
   "cell_type": "markdown",
   "metadata": {},
   "source": [
    "df3[df3['manufacturer']=='harley-davidson']"
   ]
  },
  {
   "cell_type": "markdown",
   "metadata": {},
   "source": [
    "# As seen above, 'harley' and 'harley-davidson' seem identical.\n",
    "# Let's replace 'harley' with 'harley-davidson'.\n",
    "\n",
    "df3['manufacturer'].replace(to_replace=\"harley\",value=\"harley-davidson\",inplace=True)\n",
    "df3=df3.drop_duplicates()"
   ]
  },
  {
   "cell_type": "markdown",
   "metadata": {},
   "source": [
    "# Now let's compare 'infiniti' with 'infinity'.\n",
    "df3[df3['manufacturer']=='infiniti']"
   ]
  },
  {
   "cell_type": "markdown",
   "metadata": {},
   "source": [
    "df3[df3['manufacturer']=='infinity']"
   ]
  },
  {
   "cell_type": "markdown",
   "metadata": {},
   "source": [
    "# As seen above, 'infiniti' and 'infinity' seem identical.\n",
    "# Let's replace 'infinity' with 'infiniti'.\n",
    "\n",
    "df3['manufacturer'].replace(to_replace=\"infinity\",value=\"infiniti\",inplace=True)\n",
    "df3=df3.drop_duplicates()"
   ]
  },
  {
   "cell_type": "markdown",
   "metadata": {
    "scrolled": true
   },
   "source": [
    "# Now let's compare 'land rover' and 'landrover' with 'rover'.\n",
    "df3[df3['manufacturer']=='land rover']"
   ]
  },
  {
   "cell_type": "markdown",
   "metadata": {
    "scrolled": true
   },
   "source": [
    "df3[df3['manufacturer']=='landrover']"
   ]
  },
  {
   "cell_type": "markdown",
   "metadata": {},
   "source": [
    "df3[df3['manufacturer']=='rover']"
   ]
  },
  {
   "cell_type": "markdown",
   "metadata": {},
   "source": [
    "# Although they have many kinds of 'make', their 'make' share many identical 'make' such as discovery, etc.\n",
    "# Let's replace 'landrover' and 'rover' with 'land rover'.\n",
    "\n",
    "df3['manufacturer'].replace(to_replace=\"landrover\",value=\"land rover\",inplace=True)\n",
    "df3['manufacturer'].replace(to_replace=\"rover\",value=\"land rover\",inplace=True)\n",
    "df3=df3.drop_duplicates()"
   ]
  },
  {
   "cell_type": "markdown",
   "metadata": {},
   "source": [
    "# Now let's compare 'mercedes' and 'mercedes-benz' with 'mercedesbenz'.\n",
    "df3[df3['manufacturer']=='mercedes']"
   ]
  },
  {
   "cell_type": "markdown",
   "metadata": {},
   "source": [
    "df3[df3['manufacturer']=='mercedes-benz']"
   ]
  },
  {
   "cell_type": "markdown",
   "metadata": {},
   "source": [
    "df3[df3['manufacturer']=='mercedesbenz']"
   ]
  },
  {
   "cell_type": "markdown",
   "metadata": {},
   "source": [
    "# Although they have many kinds of 'make', their 'make' share many identical 'make' such as cclass, eclass, etc.\n",
    "# Let's replace 'mercedes' and 'mercedesbenz' with 'mercedes-benz'.\n",
    "\n",
    "df3['manufacturer'].replace(to_replace=\"mercedes\",value=\"mercedes-benz\",inplace=True)\n",
    "df3['manufacturer'].replace(to_replace=\"mercedesbenz\",value=\"mercedes-benz\",inplace=True)\n",
    "df3=df3.drop_duplicates()"
   ]
  },
  {
   "cell_type": "markdown",
   "metadata": {},
   "source": [
    "# Now let's compare 'volkswagen' with 'vw'.\n",
    "df3[df3['manufacturer']=='volkswagen']"
   ]
  },
  {
   "cell_type": "markdown",
   "metadata": {},
   "source": [
    "df3[df3['manufacturer']=='vw']"
   ]
  },
  {
   "cell_type": "markdown",
   "metadata": {},
   "source": [
    "# Although they have many kinds of 'make', their 'make' share many identical 'make' such as jetta, beetle, etc.\n",
    "# Let's replace 'vw' with 'mercedes-benz'.\n",
    "\n",
    "df3['manufacturer'].replace(to_replace=\"vw\",value=\"volkswagen\",inplace=True)\n",
    "df3=df3.drop_duplicates()"
   ]
  },
  {
   "cell_type": "markdown",
   "metadata": {
    "scrolled": true
   },
   "source": [
    "# Let's make a new df for 'manufacturer' per 'make' for normalization.\n",
    "\n",
    "df3_manu=df3[['make','manufacturer']]\n",
    "df3_manu=df3_manu.drop_duplicates()\n"
   ]
  },
  {
   "cell_type": "markdown",
   "metadata": {
    "scrolled": true
   },
   "source": [
    "df3_manu=df3_manu.drop(df3_manu[df3_manu['manufacturer']=='UNKNOWN'].index)\n",
    "df3_manu=df3_manu.drop_duplicates()\n",
    "df3_manu.sort_values('make',ascending = True, inplace=True)\n",
    "df3_manu['make'].value_counts()\n",
    "df3_manu.manufacturer.value_counts()"
   ]
  },
  {
   "cell_type": "markdown",
   "metadata": {
    "scrolled": true
   },
   "source": [
    "df3_manu.make.value_counts()"
   ]
  },
  {
   "cell_type": "markdown",
   "metadata": {
    "scrolled": true
   },
   "source": [
    "# In order to normalize 'manufacturer', let's look into 'make' which have multiple counts.\n",
    "\n",
    "df3_manu['manufacturer'][df3_manu['make']=='#NAME?'].value_counts()"
   ]
  },
  {
   "cell_type": "markdown",
   "metadata": {
    "scrolled": true
   },
   "source": [
    "# As seen above, there are no multiple counts per 'manufacturer'.\n",
    "# So let's drop '#NAME?' from df3_manu.\n",
    "\n",
    "df3_manu=df3_manu.drop(df3_manu[df3_manu['make']=='#NAME?'].index)\n",
    "df3_manu.make.value_counts()"
   ]
  },
  {
   "cell_type": "markdown",
   "metadata": {
    "scrolled": true
   },
   "source": [
    "df3_manu.sort_values('make',ascending = True, inplace=True)\n",
    "df3_manu"
   ]
  },
  {
   "cell_type": "markdown",
   "metadata": {
    "scrolled": true
   },
   "source": [
    "# Likewise, let's drop all 'make' values with multiple counts in df3_manu.\n",
    "\n",
    "df3_manu=df3_manu.drop_duplicates(subset='make', keep='first')\n",
    "df3_manu.make.value_counts()"
   ]
  },
  {
   "cell_type": "markdown",
   "metadata": {},
   "source": [
    "df3"
   ]
  },
  {
   "cell_type": "markdown",
   "metadata": {},
   "source": [
    "# Now let's merge df3 and df3_manu for normalizing 'manufacturer'.\n",
    "df3 = df3.drop(columns=['manufacturer'])\n",
    "df3= pd.merge(df3, df3_manu, on='make', how='left')\n",
    "df3"
   ]
  },
  {
   "cell_type": "code",
   "execution_count": null,
   "metadata": {},
   "outputs": [],
   "source": []
  },
  {
   "cell_type": "markdown",
   "metadata": {},
   "source": [
    "# Let's reorganize 'type' of cars.\n",
    "df3.type.value_counts()"
   ]
  },
  {
   "cell_type": "markdown",
   "metadata": {
    "scrolled": true
   },
   "source": [
    "df3_type=df3[['make','type']]\n",
    "df3_type=df3_type.drop_duplicates()\n",
    "df3_type=df3_type.drop(df3_type[df3_type['type'].isnull()].index)\n",
    "df3_type=df3_type.drop(df3_type[df3_type['make']=='UNKNOWN'].index)\n",
    "df3_type"
   ]
  },
  {
   "cell_type": "markdown",
   "metadata": {
    "scrolled": true
   },
   "source": [
    "df3_type.make.value_counts()"
   ]
  },
  {
   "cell_type": "markdown",
   "metadata": {
    "scrolled": true
   },
   "source": [
    "# Let's get rid of duplicates of 'make' values in df3_type.\n",
    "df3_type.sort_values('make',ascending = True, inplace=True)\n",
    "df3_type=df3_type.drop_duplicates(subset='make', keep='first')\n",
    "df3_type.make.value_counts()"
   ]
  },
  {
   "cell_type": "markdown",
   "metadata": {},
   "source": [
    "# Now let's merge df3 and df3_manu for normalizing 'type'.\n",
    "df3 = df3.drop(columns=['type'])\n",
    "df3= pd.merge(df3, df3_type, on='make', how='left')\n",
    "df3"
   ]
  },
  {
   "cell_type": "markdown",
   "metadata": {},
   "source": [
    "# null 'type' value can be ignored:1%\n",
    "\n",
    "df3['type'].isnull().sum()/len(df3)"
   ]
  },
  {
   "cell_type": "markdown",
   "metadata": {},
   "source": [
    "# Deleting null value of 'fuel' in df3.\n",
    "\n",
    "df3=df3.drop(df3[df3['type'].isnull()].index)"
   ]
  },
  {
   "cell_type": "markdown",
   "metadata": {},
   "source": [
    "# Now let's take a look into 'transmission'.\n",
    "\n",
    "df3.transmission.value_counts()"
   ]
  },
  {
   "cell_type": "markdown",
   "metadata": {},
   "source": [
    "len(df3[df3.transmission.isnull()])/len(df3)"
   ]
  },
  {
   "cell_type": "markdown",
   "metadata": {
    "scrolled": true
   },
   "source": [
    "# It is better to drop null 'transmission' in df3 because it occupies only 0.4%\n",
    "df3=df3.drop(df3[df3['transmission'].isnull()].index)\n",
    "len(df3[df3.transmission.isnull()])/len(df3)"
   ]
  },
  {
   "cell_type": "markdown",
   "metadata": {},
   "source": [
    "(df3.isnull().sum()/len(df3)).sort_values(ascending = False)"
   ]
  },
  {
   "cell_type": "markdown",
   "metadata": {},
   "source": [
    "# It i better drop 'density', 'area','population' in that they occupies 97%.\n",
    "\n",
    "df3=df3.drop(columns=['density','area','population'])"
   ]
  },
  {
   "cell_type": "markdown",
   "metadata": {},
   "source": [
    "df3.columns"
   ]
  },
  {
   "cell_type": "markdown",
   "metadata": {},
   "source": [
    "# Let's look into 'paint_color'.\n",
    "df3.paint_color.value_counts()"
   ]
  },
  {
   "cell_type": "markdown",
   "metadata": {},
   "source": [
    "# The most color 'white' only occupies 13% while null 'paint_color' occupies 40%.\n",
    "len(df3[df3['paint_color']=='white'])/len(df3)"
   ]
  },
  {
   "cell_type": "markdown",
   "metadata": {},
   "source": [
    "# So it is better to drop 'paint_color' from df3.\n",
    "df3=df3.drop(columns=['paint_color'])\n",
    "df3.columns"
   ]
  },
  {
   "cell_type": "markdown",
   "metadata": {},
   "source": [
    "# Let's look into 'cylinder'.\n",
    "df3.cylinders.value_counts()"
   ]
  },
  {
   "cell_type": "markdown",
   "metadata": {},
   "source": [
    "# The most cylinder '6 cylinders' occupies 22% while null 'cylinder' occupies 38%.\n",
    "len(df3[df3['cylinders']=='6 cylinders'])/len(df3)"
   ]
  },
  {
   "cell_type": "markdown",
   "metadata": {},
   "source": [
    "df3_cylinders=df3[['make','cylinders']]\n",
    "df3_cylinders=df3_cylinders.drop_duplicates()"
   ]
  },
  {
   "cell_type": "markdown",
   "metadata": {
    "scrolled": true
   },
   "source": [
    "df3_cylinders=df3_cylinders.drop(df3_cylinders[df3_cylinders['cylinders'].isnull()].index)\n",
    "df3_cylinders=df3_cylinders.drop(df3_cylinders[df3_cylinders['make']=='UNKNOWN'].index)\n",
    "\n",
    "df3_cylinders.sort_values('make',ascending = True, inplace=True)\n",
    "df3_cylinders=df3_cylinders.drop_duplicates(subset='make', keep='first')\n",
    "\n",
    "df3_cylinders.make.value_counts()"
   ]
  },
  {
   "cell_type": "markdown",
   "metadata": {
    "scrolled": true
   },
   "source": [
    "df3_cylinders"
   ]
  },
  {
   "cell_type": "markdown",
   "metadata": {
    "scrolled": true
   },
   "source": [
    "df3= pd.merge(df3, df3_cylinders, on='make', how='left')\n",
    "df3"
   ]
  },
  {
   "cell_type": "markdown",
   "metadata": {
    "scrolled": true
   },
   "source": [
    "# Let's fill null values in 'cylinder_x' with values from 'cylinder_y'\n",
    "\n",
    "df3['cylinders_x'].fillna(df3['cylinders_y'], inplace=True)\n",
    "        \n",
    "\n",
    "df3['cylinders_x']"
   ]
  },
  {
   "cell_type": "markdown",
   "metadata": {},
   "source": [
    "df3=df3.drop(columns=['cylinders_y'])\n",
    "df3.rename(columns = {'cylinders_x':'cylinders'}, inplace=True)\n",
    "\n",
    "df3"
   ]
  },
  {
   "cell_type": "markdown",
   "metadata": {},
   "source": [
    "# Let's get rid of null values in 'cylinders' of df3 in that null value of 'cylinders' occupies only 5%\n",
    "# The 5% can be ignorable\n",
    "\n",
    "df3['cylinders'].isnull().sum()/len(df3)"
   ]
  },
  {
   "cell_type": "markdown",
   "metadata": {},
   "source": [
    "df3=df3.drop(df3[df3['cylinders'].isnull()].index)\n",
    "(df3.isnull().sum()/len(df3)).sort_values(ascending = False)"
   ]
  },
  {
   "cell_type": "markdown",
   "metadata": {
    "scrolled": true
   },
   "source": [
    "# Let's take a look into 'fuel' in df3.\n",
    "df3_fuel=df3[['make','fuel']]\n",
    "df3_fuel=df3_fuel.drop_duplicates()\n",
    "df3_fuel=df3_fuel.drop(df3_fuel[df3_fuel['fuel'].isnull()].index)\n",
    "df3_fuel=df3_fuel.drop(df3_fuel[df3_fuel['make']=='UNKNOWN'].index)\n",
    "\n",
    "df3_fuel.sort_values('make',ascending = True, inplace=True)\n",
    "df3_fuel=df3_fuel.drop_duplicates(subset='make', keep='first')\n",
    "\n",
    "df3_fuel.make.value_counts()"
   ]
  },
  {
   "cell_type": "markdown",
   "metadata": {},
   "source": [
    "df3= pd.merge(df3, df3_fuel, on='make', how='left')\n",
    "df3"
   ]
  },
  {
   "cell_type": "markdown",
   "metadata": {},
   "source": [
    "# Let's fill null values in 'fuel_x' with values from 'fuel_y'.\n",
    "\n",
    "df3['fuel_x'].fillna(df3['fuel_y'], inplace=True)\n",
    "df3=df3.drop(columns=['fuel_y'])\n",
    "df3.rename(columns = {'fuel_x':'fuel'}, inplace=True)\n",
    "\n",
    "df3"
   ]
  },
  {
   "cell_type": "markdown",
   "metadata": {},
   "source": [
    "# null 'fuel' value can be ignored:0.2%\n",
    "\n",
    "df3['fuel'].isnull().sum()/len(df3)"
   ]
  },
  {
   "cell_type": "markdown",
   "metadata": {},
   "source": [
    "# Deleting null value of 'fuel' in df3.\n",
    "\n",
    "df3=df3.drop(df3[df3['fuel'].isnull()].index)\n",
    "(df3.isnull().sum()/len(df3)).sort_values(ascending = False)"
   ]
  },
  {
   "cell_type": "markdown",
   "metadata": {
    "scrolled": true
   },
   "source": [
    "# Null value of 'manufacturer' still occupuies 6%.\n",
    "# In order to minimize this portion, it is needed to take a look into 'drive' information.\n",
    "# Once 'drive' information is normalized, null value of 'drive' will be dropped.\n",
    "\n",
    "df3_drive=df3[['make','drive']]\n",
    "df3_drive=df3_drive.drop_duplicates()\n",
    "df3_drive=df3_drive.drop(df3_drive[df3_drive['drive'].isnull()].index)\n",
    "df3_drive=df3_drive.drop(df3_drive[df3_drive['make'].isnull()].index)\n",
    "df3_drive=df3_drive.drop(df3_drive[df3_drive['make']=='UNKNOWN'].index)\n",
    "\n",
    "df3_drive.sort_values('make',ascending = True, inplace=True)\n",
    "df3_drive=df3_drive.drop_duplicates(subset='make', keep='first')\n",
    "\n",
    "df3_drive.make.value_counts()"
   ]
  },
  {
   "cell_type": "markdown",
   "metadata": {},
   "source": [
    "df3= pd.merge(df3, df3_drive, on='make', how='left')\n",
    "df3"
   ]
  },
  {
   "cell_type": "markdown",
   "metadata": {
    "scrolled": true
   },
   "source": [
    "# Let's fill null values in 'drive_x' with values from 'drive_y'.\n",
    "\n",
    "df3['drive_x'].fillna(df3['drive_y'], inplace=True)\n",
    "df3=df3.drop(columns=['drive_y'])\n",
    "df3.rename(columns = {'drive_x':'drive'}, inplace=True)\n",
    "\n",
    "df3"
   ]
  },
  {
   "cell_type": "markdown",
   "metadata": {},
   "source": [
    "# null 'drive' value can be ignored:0.5%\n",
    "\n",
    "df3['drive'].isnull().sum()/len(df3)"
   ]
  },
  {
   "cell_type": "markdown",
   "metadata": {},
   "source": [
    "# Dropping null value of 'drive' in df3.\n",
    "\n",
    "df3=df3.drop(df3[df3['drive'].isnull()].index)\n",
    "(df3.isnull().sum()/len(df3)).sort_values(ascending = False)"
   ]
  },
  {
   "cell_type": "markdown",
   "metadata": {},
   "source": [
    "# Null value of 'manufacturer' still occupuies 6%.\n",
    "# In order to minimize this portion more, it is needed to take a look into 'odometer' information.\n",
    "# Once 'odometer' information is normalized, null value of 'odometer' will be dropped.\n",
    "\n",
    "df3_odo=df3[['make','odometer']]\n",
    "df3_odo=df3_odo.drop_duplicates()\n",
    "df3_odo=df3_odo.drop(df3_odo[df3_odo['odometer'].isnull()].index)\n",
    "df3_odo=df3_odo.drop(df3_odo[df3_odo['make'].isnull()].index)\n",
    "df3_odo=df3_odo.drop(df3_odo[df3_odo['make']=='UNKNOWN'].index)\n",
    "\n",
    "#df3_odo.groupby(['make','odometer']).mean()\n",
    "\n",
    "df3_odo=df3_odo.groupby(['make']).mean()"
   ]
  },
  {
   "cell_type": "markdown",
   "metadata": {
    "scrolled": true
   },
   "source": [
    "df3_odo"
   ]
  },
  {
   "cell_type": "markdown",
   "metadata": {},
   "source": [
    "df3= pd.merge(df3, df3_odo, on='make', how='left')\n",
    "df3"
   ]
  },
  {
   "cell_type": "markdown",
   "metadata": {},
   "source": [
    "# Let's fill null values in 'odometer_x' with values from 'odometer_y'.\n",
    "\n",
    "df3['odometer_x'].fillna(df3['odometer_y'], inplace=True)\n",
    "df3=df3.drop(columns=['odometer_y'])\n",
    "df3.rename(columns = {'odometer_x':'odometer'}, inplace=True)\n",
    "\n",
    "df3"
   ]
  },
  {
   "cell_type": "markdown",
   "metadata": {},
   "source": [
    "# null 'odometer' value can be ignored:1%\n",
    "\n",
    "df3['odometer'].isnull().sum()/len(df3)"
   ]
  },
  {
   "cell_type": "markdown",
   "metadata": {},
   "source": [
    "# Dropping null value of 'odometer' in df3.\n",
    "\n",
    "df3=df3.drop(df3[df3['odometer'].isnull()].index)\n",
    "(df3.isnull().sum()/len(df3)).sort_values(ascending = False)"
   ]
  },
  {
   "cell_type": "markdown",
   "metadata": {},
   "source": [
    "# Now null value of 'manfacturer' reached below 5%.\n",
    "# You can drop the null value of 'manufacturer' in df3.\n",
    "df3=df3.drop(df3[df3['manufacturer'].isnull()].index)"
   ]
  },
  {
   "cell_type": "code",
   "execution_count": null,
   "metadata": {},
   "outputs": [],
   "source": []
  },
  {
   "cell_type": "code",
   "execution_count": null,
   "metadata": {},
   "outputs": [],
   "source": []
  },
  {
   "cell_type": "code",
   "execution_count": null,
   "metadata": {},
   "outputs": [],
   "source": []
  },
  {
   "cell_type": "code",
   "execution_count": null,
   "metadata": {},
   "outputs": [],
   "source": []
  },
  {
   "cell_type": "markdown",
   "metadata": {},
   "source": [
    "# EDA & VDA"
   ]
  },
  {
   "cell_type": "code",
   "execution_count": null,
   "metadata": {},
   "outputs": [],
   "source": [
    "import matplotlib.pyplot as plt\n",
    "import seaborn as sns\n",
    "%matplotlib inline"
   ]
  }
 ],
 "metadata": {
  "kernelspec": {
   "display_name": "Python 3",
   "language": "python",
   "name": "python3"
  },
  "language_info": {
   "codemirror_mode": {
    "name": "ipython",
    "version": 3
   },
   "file_extension": ".py",
   "mimetype": "text/x-python",
   "name": "python",
   "nbconvert_exporter": "python",
   "pygments_lexer": "ipython3",
   "version": "3.7.7"
  }
 },
 "nbformat": 4,
 "nbformat_minor": 2
}
