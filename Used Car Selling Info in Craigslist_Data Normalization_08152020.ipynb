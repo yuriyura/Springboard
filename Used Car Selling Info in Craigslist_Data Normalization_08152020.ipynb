{
 "cells": [
  {
   "cell_type": "markdown",
   "metadata": {},
   "source": [
    "# Import Data (csv file)"
   ]
  },
  {
   "cell_type": "code",
   "execution_count": 1,
   "metadata": {},
   "outputs": [
    {
     "name": "stderr",
     "output_type": "stream",
     "text": [
      "C:\\Users\\danie\\Anaconda\\lib\\site-packages\\IPython\\core\\interactiveshell.py:3063: DtypeWarning: Columns (2,3) have mixed types.Specify dtype option on import or set low_memory=False.\n",
      "  interactivity=interactivity, compiler=compiler, result=result)\n"
     ]
    }
   ],
   "source": [
    "import pandas as pd\n",
    "import numpy as np\n",
    "import time\n",
    "pd.set_option('display.max_rows', 500)\n",
    "pd.set_option('display.max_columns', 500)\n",
    "\n",
    "df = pd.read_csv(\"craigslistVehiclesFull.csv\", encoding='latin-1')"
   ]
  },
  {
   "cell_type": "markdown",
   "metadata": {},
   "source": [
    "# Inspect Data"
   ]
  },
  {
   "cell_type": "code",
   "execution_count": 2,
   "metadata": {},
   "outputs": [
    {
     "data": {
      "text/html": [
       "<div>\n",
       "<style scoped>\n",
       "    .dataframe tbody tr th:only-of-type {\n",
       "        vertical-align: middle;\n",
       "    }\n",
       "\n",
       "    .dataframe tbody tr th {\n",
       "        vertical-align: top;\n",
       "    }\n",
       "\n",
       "    .dataframe thead th {\n",
       "        text-align: right;\n",
       "    }\n",
       "</style>\n",
       "<table border=\"1\" class=\"dataframe\">\n",
       "  <thead>\n",
       "    <tr style=\"text-align: right;\">\n",
       "      <th></th>\n",
       "      <th>url</th>\n",
       "      <th>city</th>\n",
       "      <th>price</th>\n",
       "      <th>year</th>\n",
       "      <th>manufacturer</th>\n",
       "      <th>make</th>\n",
       "      <th>condition</th>\n",
       "      <th>cylinders</th>\n",
       "      <th>fuel</th>\n",
       "      <th>odometer</th>\n",
       "      <th>title_status</th>\n",
       "      <th>transmission</th>\n",
       "      <th>vin</th>\n",
       "      <th>drive</th>\n",
       "      <th>size</th>\n",
       "      <th>type</th>\n",
       "      <th>paint_color</th>\n",
       "      <th>image_url</th>\n",
       "      <th>lat</th>\n",
       "      <th>long</th>\n",
       "      <th>county_fips</th>\n",
       "      <th>county_name</th>\n",
       "      <th>state_fips</th>\n",
       "      <th>state_code</th>\n",
       "      <th>state_name</th>\n",
       "      <th>weather</th>\n",
       "    </tr>\n",
       "  </thead>\n",
       "  <tbody>\n",
       "    <tr>\n",
       "      <th>0</th>\n",
       "      <td>https://marshall.craigslist.org/cto/d/2010-dod...</td>\n",
       "      <td>marshall</td>\n",
       "      <td>11900</td>\n",
       "      <td>2010</td>\n",
       "      <td>dodge</td>\n",
       "      <td>challenger se</td>\n",
       "      <td>good</td>\n",
       "      <td>6 cylinders</td>\n",
       "      <td>gas</td>\n",
       "      <td>43600.0</td>\n",
       "      <td>clean</td>\n",
       "      <td>automatic</td>\n",
       "      <td>NaN</td>\n",
       "      <td>rwd</td>\n",
       "      <td>NaN</td>\n",
       "      <td>coupe</td>\n",
       "      <td>red</td>\n",
       "      <td>https://images.craigslist.org/00i0i_2ggH1eKDNK...</td>\n",
       "      <td>43.4775</td>\n",
       "      <td>-96.7041</td>\n",
       "      <td>46083.0</td>\n",
       "      <td>Lincoln</td>\n",
       "      <td>46.0</td>\n",
       "      <td>SD</td>\n",
       "      <td>South Dakota</td>\n",
       "      <td>38.0</td>\n",
       "    </tr>\n",
       "    <tr>\n",
       "      <th>1</th>\n",
       "      <td>https://marshall.craigslist.org/cto/d/fleetwoo...</td>\n",
       "      <td>marshall</td>\n",
       "      <td>1515</td>\n",
       "      <td>1999</td>\n",
       "      <td>NaN</td>\n",
       "      <td>fleetwood</td>\n",
       "      <td>NaN</td>\n",
       "      <td>NaN</td>\n",
       "      <td>gas</td>\n",
       "      <td>NaN</td>\n",
       "      <td>clean</td>\n",
       "      <td>other</td>\n",
       "      <td>NaN</td>\n",
       "      <td>NaN</td>\n",
       "      <td>NaN</td>\n",
       "      <td>NaN</td>\n",
       "      <td>NaN</td>\n",
       "      <td>https://images.craigslist.org/00M0M_irjh7SjEcU...</td>\n",
       "      <td>44.7612</td>\n",
       "      <td>-96.6907</td>\n",
       "      <td>46039.0</td>\n",
       "      <td>Deuel</td>\n",
       "      <td>46.0</td>\n",
       "      <td>SD</td>\n",
       "      <td>South Dakota</td>\n",
       "      <td>38.0</td>\n",
       "    </tr>\n",
       "    <tr>\n",
       "      <th>2</th>\n",
       "      <td>https://marshall.craigslist.org/cto/d/2008-for...</td>\n",
       "      <td>marshall</td>\n",
       "      <td>17550</td>\n",
       "      <td>2008</td>\n",
       "      <td>ford</td>\n",
       "      <td>f-150</td>\n",
       "      <td>NaN</td>\n",
       "      <td>NaN</td>\n",
       "      <td>gas</td>\n",
       "      <td>NaN</td>\n",
       "      <td>clean</td>\n",
       "      <td>automatic</td>\n",
       "      <td>NaN</td>\n",
       "      <td>NaN</td>\n",
       "      <td>NaN</td>\n",
       "      <td>NaN</td>\n",
       "      <td>NaN</td>\n",
       "      <td>https://images.craigslist.org/00s0s_eL2XFhEUcx...</td>\n",
       "      <td>44.1415</td>\n",
       "      <td>-103.2052</td>\n",
       "      <td>46093.0</td>\n",
       "      <td>Meade</td>\n",
       "      <td>46.0</td>\n",
       "      <td>SD</td>\n",
       "      <td>South Dakota</td>\n",
       "      <td>38.0</td>\n",
       "    </tr>\n",
       "    <tr>\n",
       "      <th>3</th>\n",
       "      <td>https://marshall.craigslist.org/cto/d/ford-tau...</td>\n",
       "      <td>marshall</td>\n",
       "      <td>2800</td>\n",
       "      <td>2004</td>\n",
       "      <td>ford</td>\n",
       "      <td>taurus</td>\n",
       "      <td>good</td>\n",
       "      <td>6 cylinders</td>\n",
       "      <td>gas</td>\n",
       "      <td>168591.0</td>\n",
       "      <td>clean</td>\n",
       "      <td>automatic</td>\n",
       "      <td>1FAFP55UO4G113464</td>\n",
       "      <td>fwd</td>\n",
       "      <td>full-size</td>\n",
       "      <td>sedan</td>\n",
       "      <td>grey</td>\n",
       "      <td>https://images.craigslist.org/00L0L_5HUR1nQjt8...</td>\n",
       "      <td>43.2845</td>\n",
       "      <td>-95.5930</td>\n",
       "      <td>19143.0</td>\n",
       "      <td>Osceola</td>\n",
       "      <td>19.0</td>\n",
       "      <td>IA</td>\n",
       "      <td>Iowa</td>\n",
       "      <td>47.0</td>\n",
       "    </tr>\n",
       "    <tr>\n",
       "      <th>4</th>\n",
       "      <td>https://marshall.craigslist.org/cto/d/2001-gra...</td>\n",
       "      <td>marshall</td>\n",
       "      <td>400</td>\n",
       "      <td>2001</td>\n",
       "      <td>NaN</td>\n",
       "      <td>2001 Grand Prix</td>\n",
       "      <td>NaN</td>\n",
       "      <td>NaN</td>\n",
       "      <td>gas</td>\n",
       "      <td>217000.0</td>\n",
       "      <td>clean</td>\n",
       "      <td>automatic</td>\n",
       "      <td>NaN</td>\n",
       "      <td>NaN</td>\n",
       "      <td>NaN</td>\n",
       "      <td>NaN</td>\n",
       "      <td>NaN</td>\n",
       "      <td>https://images.craigslist.org/00n0n_bJJ1XnonSG...</td>\n",
       "      <td>43.0261</td>\n",
       "      <td>-94.4064</td>\n",
       "      <td>19109.0</td>\n",
       "      <td>Kossuth</td>\n",
       "      <td>19.0</td>\n",
       "      <td>IA</td>\n",
       "      <td>Iowa</td>\n",
       "      <td>47.0</td>\n",
       "    </tr>\n",
       "  </tbody>\n",
       "</table>\n",
       "</div>"
      ],
      "text/plain": [
       "                                                 url      city  price  year  \\\n",
       "0  https://marshall.craigslist.org/cto/d/2010-dod...  marshall  11900  2010   \n",
       "1  https://marshall.craigslist.org/cto/d/fleetwoo...  marshall   1515  1999   \n",
       "2  https://marshall.craigslist.org/cto/d/2008-for...  marshall  17550  2008   \n",
       "3  https://marshall.craigslist.org/cto/d/ford-tau...  marshall   2800  2004   \n",
       "4  https://marshall.craigslist.org/cto/d/2001-gra...  marshall    400  2001   \n",
       "\n",
       "  manufacturer             make condition    cylinders fuel  odometer  \\\n",
       "0        dodge    challenger se      good  6 cylinders  gas   43600.0   \n",
       "1          NaN        fleetwood       NaN          NaN  gas       NaN   \n",
       "2         ford            f-150       NaN          NaN  gas       NaN   \n",
       "3         ford           taurus      good  6 cylinders  gas  168591.0   \n",
       "4          NaN  2001 Grand Prix       NaN          NaN  gas  217000.0   \n",
       "\n",
       "  title_status transmission                vin drive       size   type  \\\n",
       "0        clean    automatic                NaN   rwd        NaN  coupe   \n",
       "1        clean        other                NaN   NaN        NaN    NaN   \n",
       "2        clean    automatic                NaN   NaN        NaN    NaN   \n",
       "3        clean    automatic  1FAFP55UO4G113464   fwd  full-size  sedan   \n",
       "4        clean    automatic                NaN   NaN        NaN    NaN   \n",
       "\n",
       "  paint_color                                          image_url      lat  \\\n",
       "0         red  https://images.craigslist.org/00i0i_2ggH1eKDNK...  43.4775   \n",
       "1         NaN  https://images.craigslist.org/00M0M_irjh7SjEcU...  44.7612   \n",
       "2         NaN  https://images.craigslist.org/00s0s_eL2XFhEUcx...  44.1415   \n",
       "3        grey  https://images.craigslist.org/00L0L_5HUR1nQjt8...  43.2845   \n",
       "4         NaN  https://images.craigslist.org/00n0n_bJJ1XnonSG...  43.0261   \n",
       "\n",
       "       long  county_fips county_name  state_fips state_code    state_name  \\\n",
       "0  -96.7041      46083.0     Lincoln        46.0         SD  South Dakota   \n",
       "1  -96.6907      46039.0       Deuel        46.0         SD  South Dakota   \n",
       "2 -103.2052      46093.0       Meade        46.0         SD  South Dakota   \n",
       "3  -95.5930      19143.0     Osceola        19.0         IA          Iowa   \n",
       "4  -94.4064      19109.0     Kossuth        19.0         IA          Iowa   \n",
       "\n",
       "   weather  \n",
       "0     38.0  \n",
       "1     38.0  \n",
       "2     38.0  \n",
       "3     47.0  \n",
       "4     47.0  "
      ]
     },
     "execution_count": 2,
     "metadata": {},
     "output_type": "execute_result"
    }
   ],
   "source": [
    "df.head()"
   ]
  },
  {
   "cell_type": "code",
   "execution_count": 3,
   "metadata": {},
   "outputs": [
    {
     "data": {
      "text/html": [
       "<div>\n",
       "<style scoped>\n",
       "    .dataframe tbody tr th:only-of-type {\n",
       "        vertical-align: middle;\n",
       "    }\n",
       "\n",
       "    .dataframe tbody tr th {\n",
       "        vertical-align: top;\n",
       "    }\n",
       "\n",
       "    .dataframe thead th {\n",
       "        text-align: right;\n",
       "    }\n",
       "</style>\n",
       "<table border=\"1\" class=\"dataframe\">\n",
       "  <thead>\n",
       "    <tr style=\"text-align: right;\">\n",
       "      <th></th>\n",
       "      <th>url</th>\n",
       "      <th>city</th>\n",
       "      <th>price</th>\n",
       "      <th>year</th>\n",
       "      <th>manufacturer</th>\n",
       "      <th>make</th>\n",
       "      <th>condition</th>\n",
       "      <th>cylinders</th>\n",
       "      <th>fuel</th>\n",
       "      <th>odometer</th>\n",
       "      <th>title_status</th>\n",
       "      <th>transmission</th>\n",
       "      <th>vin</th>\n",
       "      <th>drive</th>\n",
       "      <th>size</th>\n",
       "      <th>type</th>\n",
       "      <th>paint_color</th>\n",
       "      <th>image_url</th>\n",
       "      <th>lat</th>\n",
       "      <th>long</th>\n",
       "      <th>county_fips</th>\n",
       "      <th>county_name</th>\n",
       "      <th>state_fips</th>\n",
       "      <th>state_code</th>\n",
       "      <th>state_name</th>\n",
       "      <th>weather</th>\n",
       "    </tr>\n",
       "  </thead>\n",
       "  <tbody>\n",
       "    <tr>\n",
       "      <th>1049195</th>\n",
       "      <td>https://topeka.craigslist.org/ctd/d/2006-chevr...</td>\n",
       "      <td>topeka</td>\n",
       "      <td>7995</td>\n",
       "      <td>2006</td>\n",
       "      <td>chevrolet</td>\n",
       "      <td>silverado 2500 hd crew</td>\n",
       "      <td>NaN</td>\n",
       "      <td>NaN</td>\n",
       "      <td>gas</td>\n",
       "      <td>NaN</td>\n",
       "      <td>clean</td>\n",
       "      <td>automatic</td>\n",
       "      <td>1GCHC23U06F138406</td>\n",
       "      <td>NaN</td>\n",
       "      <td>NaN</td>\n",
       "      <td>NaN</td>\n",
       "      <td>NaN</td>\n",
       "      <td>https://images.craigslist.org/00A0A_l1r21OrSdJ...</td>\n",
       "      <td>38.6419</td>\n",
       "      <td>-94.3285</td>\n",
       "      <td>29037.0</td>\n",
       "      <td>Cass/Van Buren</td>\n",
       "      <td>29.0</td>\n",
       "      <td>MO</td>\n",
       "      <td>Missouri</td>\n",
       "      <td>52.0</td>\n",
       "    </tr>\n",
       "    <tr>\n",
       "      <th>1049196</th>\n",
       "      <td>https://westky.craigslist.org/cto/d/2008-acura...</td>\n",
       "      <td>westky</td>\n",
       "      <td>10900</td>\n",
       "      <td>2008</td>\n",
       "      <td>acura</td>\n",
       "      <td>tl</td>\n",
       "      <td>NaN</td>\n",
       "      <td>NaN</td>\n",
       "      <td>gas</td>\n",
       "      <td>NaN</td>\n",
       "      <td>clean</td>\n",
       "      <td>automatic</td>\n",
       "      <td>NaN</td>\n",
       "      <td>NaN</td>\n",
       "      <td>NaN</td>\n",
       "      <td>NaN</td>\n",
       "      <td>NaN</td>\n",
       "      <td>https://images.craigslist.org/00606_hGCTgk1rVL...</td>\n",
       "      <td>37.3879</td>\n",
       "      <td>-89.6519</td>\n",
       "      <td>29031.0</td>\n",
       "      <td>Cape Girardeau</td>\n",
       "      <td>29.0</td>\n",
       "      <td>MO</td>\n",
       "      <td>Missouri</td>\n",
       "      <td>52.0</td>\n",
       "    </tr>\n",
       "    <tr>\n",
       "      <th>1049197</th>\n",
       "      <td>https://jacksonville.craigslist.org/cto/d/dump...</td>\n",
       "      <td>jacksonville</td>\n",
       "      <td>40000</td>\n",
       "      <td>2006</td>\n",
       "      <td>ford</td>\n",
       "      <td>sterling</td>\n",
       "      <td>excellent</td>\n",
       "      <td>other</td>\n",
       "      <td>diesel</td>\n",
       "      <td>350000.0</td>\n",
       "      <td>clean</td>\n",
       "      <td>manual</td>\n",
       "      <td>NaN</td>\n",
       "      <td>NaN</td>\n",
       "      <td>full-size</td>\n",
       "      <td>truck</td>\n",
       "      <td>red</td>\n",
       "      <td>https://images.craigslist.org/00f0f_gohYgKDsQZ...</td>\n",
       "      <td>38.7071</td>\n",
       "      <td>-90.3055</td>\n",
       "      <td>29189.0</td>\n",
       "      <td>St. Louis</td>\n",
       "      <td>29.0</td>\n",
       "      <td>MO</td>\n",
       "      <td>Missouri</td>\n",
       "      <td>52.0</td>\n",
       "    </tr>\n",
       "    <tr>\n",
       "      <th>1049198</th>\n",
       "      <td>https://quadcities.craigslist.org/ctd/d/sweet-...</td>\n",
       "      <td>quadcities</td>\n",
       "      <td>6995</td>\n",
       "      <td>2007</td>\n",
       "      <td>ram</td>\n",
       "      <td>1500</td>\n",
       "      <td>NaN</td>\n",
       "      <td>NaN</td>\n",
       "      <td>gas</td>\n",
       "      <td>197936.0</td>\n",
       "      <td>clean</td>\n",
       "      <td>manual</td>\n",
       "      <td>1D7HU18227S220778</td>\n",
       "      <td>NaN</td>\n",
       "      <td>NaN</td>\n",
       "      <td>NaN</td>\n",
       "      <td>NaN</td>\n",
       "      <td>https://images.craigslist.org/00k0k_6qBvHCzjn2...</td>\n",
       "      <td>38.9482</td>\n",
       "      <td>-90.9138</td>\n",
       "      <td>29113.0</td>\n",
       "      <td>Lincoln</td>\n",
       "      <td>29.0</td>\n",
       "      <td>MO</td>\n",
       "      <td>Missouri</td>\n",
       "      <td>52.0</td>\n",
       "    </tr>\n",
       "    <tr>\n",
       "      <th>1049199</th>\n",
       "      <td>https://quadcities.craigslist.org/cto/d/04-gmc...</td>\n",
       "      <td>quadcities</td>\n",
       "      <td>12345</td>\n",
       "      <td>2004</td>\n",
       "      <td>gmc</td>\n",
       "      <td>canyon yz450</td>\n",
       "      <td>NaN</td>\n",
       "      <td>5 cylinders</td>\n",
       "      <td>gas</td>\n",
       "      <td>NaN</td>\n",
       "      <td>clean</td>\n",
       "      <td>automatic</td>\n",
       "      <td>NaN</td>\n",
       "      <td>NaN</td>\n",
       "      <td>NaN</td>\n",
       "      <td>NaN</td>\n",
       "      <td>NaN</td>\n",
       "      <td>https://images.craigslist.org/00y0y_g0Nj6JXaie...</td>\n",
       "      <td>40.4619</td>\n",
       "      <td>-92.1851</td>\n",
       "      <td>29199.0</td>\n",
       "      <td>Scotland</td>\n",
       "      <td>29.0</td>\n",
       "      <td>MO</td>\n",
       "      <td>Missouri</td>\n",
       "      <td>52.0</td>\n",
       "    </tr>\n",
       "  </tbody>\n",
       "</table>\n",
       "</div>"
      ],
      "text/plain": [
       "                                                       url          city  \\\n",
       "1049195  https://topeka.craigslist.org/ctd/d/2006-chevr...        topeka   \n",
       "1049196  https://westky.craigslist.org/cto/d/2008-acura...        westky   \n",
       "1049197  https://jacksonville.craigslist.org/cto/d/dump...  jacksonville   \n",
       "1049198  https://quadcities.craigslist.org/ctd/d/sweet-...    quadcities   \n",
       "1049199  https://quadcities.craigslist.org/cto/d/04-gmc...    quadcities   \n",
       "\n",
       "         price  year manufacturer                    make  condition  \\\n",
       "1049195   7995  2006    chevrolet  silverado 2500 hd crew        NaN   \n",
       "1049196  10900  2008        acura                      tl        NaN   \n",
       "1049197  40000  2006         ford                sterling  excellent   \n",
       "1049198   6995  2007          ram                    1500        NaN   \n",
       "1049199  12345  2004          gmc            canyon yz450        NaN   \n",
       "\n",
       "           cylinders    fuel  odometer title_status transmission  \\\n",
       "1049195          NaN     gas       NaN        clean    automatic   \n",
       "1049196          NaN     gas       NaN        clean    automatic   \n",
       "1049197        other  diesel  350000.0        clean       manual   \n",
       "1049198          NaN     gas  197936.0        clean       manual   \n",
       "1049199  5 cylinders     gas       NaN        clean    automatic   \n",
       "\n",
       "                       vin drive       size   type paint_color  \\\n",
       "1049195  1GCHC23U06F138406   NaN        NaN    NaN         NaN   \n",
       "1049196                NaN   NaN        NaN    NaN         NaN   \n",
       "1049197                NaN   NaN  full-size  truck         red   \n",
       "1049198  1D7HU18227S220778   NaN        NaN    NaN         NaN   \n",
       "1049199                NaN   NaN        NaN    NaN         NaN   \n",
       "\n",
       "                                                 image_url      lat     long  \\\n",
       "1049195  https://images.craigslist.org/00A0A_l1r21OrSdJ...  38.6419 -94.3285   \n",
       "1049196  https://images.craigslist.org/00606_hGCTgk1rVL...  37.3879 -89.6519   \n",
       "1049197  https://images.craigslist.org/00f0f_gohYgKDsQZ...  38.7071 -90.3055   \n",
       "1049198  https://images.craigslist.org/00k0k_6qBvHCzjn2...  38.9482 -90.9138   \n",
       "1049199  https://images.craigslist.org/00y0y_g0Nj6JXaie...  40.4619 -92.1851   \n",
       "\n",
       "         county_fips     county_name  state_fips state_code state_name  \\\n",
       "1049195      29037.0  Cass/Van Buren        29.0         MO   Missouri   \n",
       "1049196      29031.0  Cape Girardeau        29.0         MO   Missouri   \n",
       "1049197      29189.0       St. Louis        29.0         MO   Missouri   \n",
       "1049198      29113.0         Lincoln        29.0         MO   Missouri   \n",
       "1049199      29199.0        Scotland        29.0         MO   Missouri   \n",
       "\n",
       "         weather  \n",
       "1049195     52.0  \n",
       "1049196     52.0  \n",
       "1049197     52.0  \n",
       "1049198     52.0  \n",
       "1049199     52.0  "
      ]
     },
     "execution_count": 3,
     "metadata": {},
     "output_type": "execute_result"
    }
   ],
   "source": [
    "df.tail()"
   ]
  },
  {
   "cell_type": "code",
   "execution_count": 4,
   "metadata": {},
   "outputs": [
    {
     "data": {
      "text/plain": [
       "Index(['url', 'city', 'price', 'year', 'manufacturer', 'make', 'condition',\n",
       "       'cylinders', 'fuel', 'odometer', 'title_status', 'transmission', 'vin',\n",
       "       'drive', 'size', 'type', 'paint_color', 'image_url', 'lat', 'long',\n",
       "       'county_fips', 'county_name', 'state_fips', 'state_code', 'state_name',\n",
       "       'weather'],\n",
       "      dtype='object')"
      ]
     },
     "execution_count": 4,
     "metadata": {},
     "output_type": "execute_result"
    }
   ],
   "source": [
    "df.columns"
   ]
  },
  {
   "cell_type": "code",
   "execution_count": 5,
   "metadata": {},
   "outputs": [
    {
     "name": "stdout",
     "output_type": "stream",
     "text": [
      "<class 'pandas.core.frame.DataFrame'>\n",
      "RangeIndex: 1049200 entries, 0 to 1049199\n",
      "Data columns (total 26 columns):\n",
      " #   Column        Non-Null Count    Dtype  \n",
      "---  ------        --------------    -----  \n",
      " 0   url           1049199 non-null  object \n",
      " 1   city          1048559 non-null  object \n",
      " 2   price         1048535 non-null  object \n",
      " 3   year          1047014 non-null  object \n",
      " 4   manufacturer  964568 non-null   object \n",
      " 5   make          1005318 non-null  object \n",
      " 6   condition     615062 non-null   object \n",
      " 7   cylinders     621193 non-null   object \n",
      " 8   fuel          1042054 non-null  object \n",
      " 9   odometer      705601 non-null   float64\n",
      " 10  title_status  1046971 non-null  object \n",
      " 11  transmission  1042699 non-null  object \n",
      " 12  vin           367156 non-null   object \n",
      " 13  drive         645697 non-null   object \n",
      " 14  size          358029 non-null   object \n",
      " 15  type          614919 non-null   object \n",
      " 16  paint_color   617962 non-null   object \n",
      " 17  image_url     1048519 non-null  object \n",
      " 18  lat           1048519 non-null  float64\n",
      " 19  long          1048519 non-null  float64\n",
      " 20  county_fips   990178 non-null   float64\n",
      " 21  county_name   990178 non-null   object \n",
      " 22  state_fips    990178 non-null   float64\n",
      " 23  state_code    990178 non-null   object \n",
      " 24  state_name    1048519 non-null  object \n",
      " 25  weather       989582 non-null   float64\n",
      "dtypes: float64(6), object(20)\n",
      "memory usage: 208.1+ MB\n"
     ]
    }
   ],
   "source": [
    "df.info()"
   ]
  },
  {
   "cell_type": "code",
   "execution_count": 6,
   "metadata": {},
   "outputs": [
    {
     "data": {
      "text/html": [
       "<div>\n",
       "<style scoped>\n",
       "    .dataframe tbody tr th:only-of-type {\n",
       "        vertical-align: middle;\n",
       "    }\n",
       "\n",
       "    .dataframe tbody tr th {\n",
       "        vertical-align: top;\n",
       "    }\n",
       "\n",
       "    .dataframe thead th {\n",
       "        text-align: right;\n",
       "    }\n",
       "</style>\n",
       "<table border=\"1\" class=\"dataframe\">\n",
       "  <thead>\n",
       "    <tr style=\"text-align: right;\">\n",
       "      <th></th>\n",
       "      <th>odometer</th>\n",
       "      <th>lat</th>\n",
       "      <th>long</th>\n",
       "      <th>county_fips</th>\n",
       "      <th>state_fips</th>\n",
       "      <th>weather</th>\n",
       "    </tr>\n",
       "  </thead>\n",
       "  <tbody>\n",
       "    <tr>\n",
       "      <th>count</th>\n",
       "      <td>7.056010e+05</td>\n",
       "      <td>1.048519e+06</td>\n",
       "      <td>1.048519e+06</td>\n",
       "      <td>990178.000000</td>\n",
       "      <td>990178.000000</td>\n",
       "      <td>989582.000000</td>\n",
       "    </tr>\n",
       "    <tr>\n",
       "      <th>mean</th>\n",
       "      <td>1.138255e+05</td>\n",
       "      <td>3.967305e+01</td>\n",
       "      <td>-9.609864e+01</td>\n",
       "      <td>24775.443619</td>\n",
       "      <td>24.704956</td>\n",
       "      <td>53.022543</td>\n",
       "    </tr>\n",
       "    <tr>\n",
       "      <th>std</th>\n",
       "      <td>1.316380e+05</td>\n",
       "      <td>5.692429e+00</td>\n",
       "      <td>1.860790e+01</td>\n",
       "      <td>15579.137290</td>\n",
       "      <td>15.569437</td>\n",
       "      <td>7.605096</td>\n",
       "    </tr>\n",
       "    <tr>\n",
       "      <th>min</th>\n",
       "      <td>0.000000e+00</td>\n",
       "      <td>-8.481005e+01</td>\n",
       "      <td>-1.000000e+03</td>\n",
       "      <td>1001.000000</td>\n",
       "      <td>1.000000</td>\n",
       "      <td>29.000000</td>\n",
       "    </tr>\n",
       "    <tr>\n",
       "      <th>25%</th>\n",
       "      <td>5.800000e+04</td>\n",
       "      <td>3.551126e+01</td>\n",
       "      <td>-1.171445e+02</td>\n",
       "      <td>8005.000000</td>\n",
       "      <td>8.000000</td>\n",
       "      <td>48.000000</td>\n",
       "    </tr>\n",
       "    <tr>\n",
       "      <th>50%</th>\n",
       "      <td>1.070260e+05</td>\n",
       "      <td>3.990460e+01</td>\n",
       "      <td>-9.041660e+01</td>\n",
       "      <td>26055.000000</td>\n",
       "      <td>26.000000</td>\n",
       "      <td>52.000000</td>\n",
       "    </tr>\n",
       "    <tr>\n",
       "      <th>75%</th>\n",
       "      <td>1.530000e+05</td>\n",
       "      <td>4.267304e+01</td>\n",
       "      <td>-8.154935e+01</td>\n",
       "      <td>39151.000000</td>\n",
       "      <td>39.000000</td>\n",
       "      <td>59.000000</td>\n",
       "    </tr>\n",
       "    <tr>\n",
       "      <th>max</th>\n",
       "      <td>1.000000e+07</td>\n",
       "      <td>9.000000e+01</td>\n",
       "      <td>1.397061e+02</td>\n",
       "      <td>56045.000000</td>\n",
       "      <td>56.000000</td>\n",
       "      <td>79.000000</td>\n",
       "    </tr>\n",
       "  </tbody>\n",
       "</table>\n",
       "</div>"
      ],
      "text/plain": [
       "           odometer           lat          long    county_fips     state_fips  \\\n",
       "count  7.056010e+05  1.048519e+06  1.048519e+06  990178.000000  990178.000000   \n",
       "mean   1.138255e+05  3.967305e+01 -9.609864e+01   24775.443619      24.704956   \n",
       "std    1.316380e+05  5.692429e+00  1.860790e+01   15579.137290      15.569437   \n",
       "min    0.000000e+00 -8.481005e+01 -1.000000e+03    1001.000000       1.000000   \n",
       "25%    5.800000e+04  3.551126e+01 -1.171445e+02    8005.000000       8.000000   \n",
       "50%    1.070260e+05  3.990460e+01 -9.041660e+01   26055.000000      26.000000   \n",
       "75%    1.530000e+05  4.267304e+01 -8.154935e+01   39151.000000      39.000000   \n",
       "max    1.000000e+07  9.000000e+01  1.397061e+02   56045.000000      56.000000   \n",
       "\n",
       "             weather  \n",
       "count  989582.000000  \n",
       "mean       53.022543  \n",
       "std         7.605096  \n",
       "min        29.000000  \n",
       "25%        48.000000  \n",
       "50%        52.000000  \n",
       "75%        59.000000  \n",
       "max        79.000000  "
      ]
     },
     "execution_count": 6,
     "metadata": {},
     "output_type": "execute_result"
    }
   ],
   "source": [
    "df.describe()"
   ]
  },
  {
   "cell_type": "code",
   "execution_count": 7,
   "metadata": {},
   "outputs": [],
   "source": [
    "df.drop_duplicates(inplace=True)"
   ]
  },
  {
   "cell_type": "code",
   "execution_count": 8,
   "metadata": {},
   "outputs": [
    {
     "name": "stdout",
     "output_type": "stream",
     "text": [
      "<class 'pandas.core.frame.DataFrame'>\n",
      "Int64Index: 1048636 entries, 0 to 1049199\n",
      "Data columns (total 26 columns):\n",
      " #   Column        Non-Null Count    Dtype  \n",
      "---  ------        --------------    -----  \n",
      " 0   url           1048635 non-null  object \n",
      " 1   city          1048559 non-null  object \n",
      " 2   price         1048535 non-null  object \n",
      " 3   year          1047014 non-null  object \n",
      " 4   manufacturer  964568 non-null   object \n",
      " 5   make          1005318 non-null  object \n",
      " 6   condition     615062 non-null   object \n",
      " 7   cylinders     621193 non-null   object \n",
      " 8   fuel          1042054 non-null  object \n",
      " 9   odometer      705601 non-null   float64\n",
      " 10  title_status  1046971 non-null  object \n",
      " 11  transmission  1042699 non-null  object \n",
      " 12  vin           367156 non-null   object \n",
      " 13  drive         645697 non-null   object \n",
      " 14  size          358029 non-null   object \n",
      " 15  type          614919 non-null   object \n",
      " 16  paint_color   617962 non-null   object \n",
      " 17  image_url     1048519 non-null  object \n",
      " 18  lat           1048519 non-null  float64\n",
      " 19  long          1048519 non-null  float64\n",
      " 20  county_fips   990178 non-null   float64\n",
      " 21  county_name   990178 non-null   object \n",
      " 22  state_fips    990178 non-null   float64\n",
      " 23  state_code    990178 non-null   object \n",
      " 24  state_name    1048519 non-null  object \n",
      " 25  weather       989582 non-null   float64\n",
      "dtypes: float64(6), object(20)\n",
      "memory usage: 216.0+ MB\n"
     ]
    }
   ],
   "source": [
    "df.info()"
   ]
  },
  {
   "cell_type": "code",
   "execution_count": 9,
   "metadata": {},
   "outputs": [
    {
     "data": {
      "text/html": [
       "<div>\n",
       "<style scoped>\n",
       "    .dataframe tbody tr th:only-of-type {\n",
       "        vertical-align: middle;\n",
       "    }\n",
       "\n",
       "    .dataframe tbody tr th {\n",
       "        vertical-align: top;\n",
       "    }\n",
       "\n",
       "    .dataframe thead th {\n",
       "        text-align: right;\n",
       "    }\n",
       "</style>\n",
       "<table border=\"1\" class=\"dataframe\">\n",
       "  <thead>\n",
       "    <tr style=\"text-align: right;\">\n",
       "      <th></th>\n",
       "      <th>odometer</th>\n",
       "      <th>lat</th>\n",
       "      <th>long</th>\n",
       "      <th>county_fips</th>\n",
       "      <th>state_fips</th>\n",
       "      <th>weather</th>\n",
       "    </tr>\n",
       "  </thead>\n",
       "  <tbody>\n",
       "    <tr>\n",
       "      <th>count</th>\n",
       "      <td>7.056010e+05</td>\n",
       "      <td>1.048519e+06</td>\n",
       "      <td>1.048519e+06</td>\n",
       "      <td>990178.000000</td>\n",
       "      <td>990178.000000</td>\n",
       "      <td>989582.000000</td>\n",
       "    </tr>\n",
       "    <tr>\n",
       "      <th>mean</th>\n",
       "      <td>1.138255e+05</td>\n",
       "      <td>3.967305e+01</td>\n",
       "      <td>-9.609864e+01</td>\n",
       "      <td>24775.443619</td>\n",
       "      <td>24.704956</td>\n",
       "      <td>53.022543</td>\n",
       "    </tr>\n",
       "    <tr>\n",
       "      <th>std</th>\n",
       "      <td>1.316380e+05</td>\n",
       "      <td>5.692429e+00</td>\n",
       "      <td>1.860790e+01</td>\n",
       "      <td>15579.137290</td>\n",
       "      <td>15.569437</td>\n",
       "      <td>7.605096</td>\n",
       "    </tr>\n",
       "    <tr>\n",
       "      <th>min</th>\n",
       "      <td>0.000000e+00</td>\n",
       "      <td>-8.481005e+01</td>\n",
       "      <td>-1.000000e+03</td>\n",
       "      <td>1001.000000</td>\n",
       "      <td>1.000000</td>\n",
       "      <td>29.000000</td>\n",
       "    </tr>\n",
       "    <tr>\n",
       "      <th>25%</th>\n",
       "      <td>5.800000e+04</td>\n",
       "      <td>3.551126e+01</td>\n",
       "      <td>-1.171445e+02</td>\n",
       "      <td>8005.000000</td>\n",
       "      <td>8.000000</td>\n",
       "      <td>48.000000</td>\n",
       "    </tr>\n",
       "    <tr>\n",
       "      <th>50%</th>\n",
       "      <td>1.070260e+05</td>\n",
       "      <td>3.990460e+01</td>\n",
       "      <td>-9.041660e+01</td>\n",
       "      <td>26055.000000</td>\n",
       "      <td>26.000000</td>\n",
       "      <td>52.000000</td>\n",
       "    </tr>\n",
       "    <tr>\n",
       "      <th>75%</th>\n",
       "      <td>1.530000e+05</td>\n",
       "      <td>4.267304e+01</td>\n",
       "      <td>-8.154935e+01</td>\n",
       "      <td>39151.000000</td>\n",
       "      <td>39.000000</td>\n",
       "      <td>59.000000</td>\n",
       "    </tr>\n",
       "    <tr>\n",
       "      <th>max</th>\n",
       "      <td>1.000000e+07</td>\n",
       "      <td>9.000000e+01</td>\n",
       "      <td>1.397061e+02</td>\n",
       "      <td>56045.000000</td>\n",
       "      <td>56.000000</td>\n",
       "      <td>79.000000</td>\n",
       "    </tr>\n",
       "  </tbody>\n",
       "</table>\n",
       "</div>"
      ],
      "text/plain": [
       "           odometer           lat          long    county_fips     state_fips  \\\n",
       "count  7.056010e+05  1.048519e+06  1.048519e+06  990178.000000  990178.000000   \n",
       "mean   1.138255e+05  3.967305e+01 -9.609864e+01   24775.443619      24.704956   \n",
       "std    1.316380e+05  5.692429e+00  1.860790e+01   15579.137290      15.569437   \n",
       "min    0.000000e+00 -8.481005e+01 -1.000000e+03    1001.000000       1.000000   \n",
       "25%    5.800000e+04  3.551126e+01 -1.171445e+02    8005.000000       8.000000   \n",
       "50%    1.070260e+05  3.990460e+01 -9.041660e+01   26055.000000      26.000000   \n",
       "75%    1.530000e+05  4.267304e+01 -8.154935e+01   39151.000000      39.000000   \n",
       "max    1.000000e+07  9.000000e+01  1.397061e+02   56045.000000      56.000000   \n",
       "\n",
       "             weather  \n",
       "count  989582.000000  \n",
       "mean       53.022543  \n",
       "std         7.605096  \n",
       "min        29.000000  \n",
       "25%        48.000000  \n",
       "50%        52.000000  \n",
       "75%        59.000000  \n",
       "max        79.000000  "
      ]
     },
     "execution_count": 9,
     "metadata": {},
     "output_type": "execute_result"
    }
   ],
   "source": [
    "df.describe()"
   ]
  },
  {
   "cell_type": "markdown",
   "metadata": {},
   "source": [
    "There seem too many NaN in the data set.  So let's figure out how much NaN\n",
    "occupies in individual columns."
   ]
  },
  {
   "cell_type": "code",
   "execution_count": 10,
   "metadata": {},
   "outputs": [
    {
     "data": {
      "text/plain": [
       "size            65.857647\n",
       "vin             64.987279\n",
       "type            41.360110\n",
       "condition       41.346473\n",
       "paint_color     41.069923\n",
       "cylinders       40.761809\n",
       "drive           38.425059\n",
       "odometer        32.712495\n",
       "manufacturer     8.016891\n",
       "weather          5.631506\n",
       "county_fips      5.574670\n",
       "county_name      5.574670\n",
       "state_fips       5.574670\n",
       "state_code       5.574670\n",
       "make             4.130890\n",
       "fuel             0.627673\n",
       "transmission     0.566164\n",
       "title_status     0.158778\n",
       "year             0.154677\n",
       "image_url        0.011157\n",
       "lat              0.011157\n",
       "long             0.011157\n",
       "state_name       0.011157\n",
       "price            0.009632\n",
       "city             0.007343\n",
       "url              0.000095\n",
       "dtype: float64"
      ]
     },
     "execution_count": 10,
     "metadata": {},
     "output_type": "execute_result"
    }
   ],
   "source": [
    "((df.isnull().sum()/len(df)).sort_values(ascending = False)*100).astype(float)"
   ]
  },
  {
   "cell_type": "markdown",
   "metadata": {},
   "source": [
    "Let's drop rows with 'price' whose value is null."
   ]
  },
  {
   "cell_type": "code",
   "execution_count": 11,
   "metadata": {},
   "outputs": [],
   "source": [
    "df.drop(df[df['price'].isnull()].index, inplace=True)"
   ]
  },
  {
   "cell_type": "code",
   "execution_count": 12,
   "metadata": {},
   "outputs": [
    {
     "data": {
      "text/plain": [
       "size            65.854359\n",
       "vin             64.983906\n",
       "type            41.354461\n",
       "condition       41.340823\n",
       "paint_color     41.064247\n",
       "cylinders       40.756103\n",
       "drive           38.419128\n",
       "odometer        32.706014\n",
       "manufacturer     8.008030\n",
       "weather          5.622416\n",
       "county_fips      5.565575\n",
       "county_name      5.565575\n",
       "state_fips       5.565575\n",
       "state_code       5.565575\n",
       "make             4.121655\n",
       "fuel             0.618100\n",
       "transmission     0.556586\n",
       "title_status     0.149160\n",
       "year             0.145060\n",
       "image_url        0.001526\n",
       "lat              0.001526\n",
       "long             0.001526\n",
       "state_name       0.001526\n",
       "price            0.000000\n",
       "city             0.000000\n",
       "url              0.000000\n",
       "dtype: float64"
      ]
     },
     "execution_count": 12,
     "metadata": {},
     "output_type": "execute_result"
    }
   ],
   "source": [
    "((df.isnull().sum()/len(df)).sort_values(ascending = False)*100).astype(float)"
   ]
  },
  {
   "cell_type": "markdown",
   "metadata": {},
   "source": [
    "Let's drop rows with 'lat' whose value is null because null value of either 'lat' or 'long' cannot give you correlatable geographical information. "
   ]
  },
  {
   "cell_type": "code",
   "execution_count": 13,
   "metadata": {},
   "outputs": [],
   "source": [
    "df.drop(df[df['lat'].isnull()].index, inplace=True)"
   ]
  },
  {
   "cell_type": "code",
   "execution_count": 14,
   "metadata": {},
   "outputs": [
    {
     "data": {
      "text/plain": [
       "size            65.853838\n",
       "vin             64.983372\n",
       "type            41.353566\n",
       "condition       41.340023\n",
       "paint_color     41.063347\n",
       "cylinders       40.755199\n",
       "drive           38.418188\n",
       "odometer        32.704987\n",
       "manufacturer     8.006913\n",
       "weather          5.620976\n",
       "county_fips      5.564134\n",
       "county_name      5.564134\n",
       "state_fips       5.564134\n",
       "state_code       5.564134\n",
       "make             4.120383\n",
       "fuel             0.616584\n",
       "transmission     0.555069\n",
       "title_status     0.147637\n",
       "year             0.143917\n",
       "image_url        0.000000\n",
       "lat              0.000000\n",
       "long             0.000000\n",
       "state_name       0.000000\n",
       "price            0.000000\n",
       "city             0.000000\n",
       "url              0.000000\n",
       "dtype: float64"
      ]
     },
     "execution_count": 14,
     "metadata": {},
     "output_type": "execute_result"
    }
   ],
   "source": [
    "((df.isnull().sum()/len(df)).sort_values(ascending = False)*100).astype(float)"
   ]
  },
  {
   "cell_type": "markdown",
   "metadata": {},
   "source": [
    "Let's look into rows whose 'year' is null."
   ]
  },
  {
   "cell_type": "code",
   "execution_count": 15,
   "metadata": {},
   "outputs": [
    {
     "data": {
      "text/html": [
       "<div>\n",
       "<style scoped>\n",
       "    .dataframe tbody tr th:only-of-type {\n",
       "        vertical-align: middle;\n",
       "    }\n",
       "\n",
       "    .dataframe tbody tr th {\n",
       "        vertical-align: top;\n",
       "    }\n",
       "\n",
       "    .dataframe thead th {\n",
       "        text-align: right;\n",
       "    }\n",
       "</style>\n",
       "<table border=\"1\" class=\"dataframe\">\n",
       "  <thead>\n",
       "    <tr style=\"text-align: right;\">\n",
       "      <th></th>\n",
       "      <th>url</th>\n",
       "      <th>city</th>\n",
       "      <th>price</th>\n",
       "      <th>year</th>\n",
       "      <th>manufacturer</th>\n",
       "      <th>make</th>\n",
       "      <th>condition</th>\n",
       "      <th>cylinders</th>\n",
       "      <th>fuel</th>\n",
       "      <th>odometer</th>\n",
       "      <th>title_status</th>\n",
       "      <th>transmission</th>\n",
       "      <th>vin</th>\n",
       "      <th>drive</th>\n",
       "      <th>size</th>\n",
       "      <th>type</th>\n",
       "      <th>paint_color</th>\n",
       "      <th>image_url</th>\n",
       "      <th>lat</th>\n",
       "      <th>long</th>\n",
       "      <th>county_fips</th>\n",
       "      <th>county_name</th>\n",
       "      <th>state_fips</th>\n",
       "      <th>state_code</th>\n",
       "      <th>state_name</th>\n",
       "      <th>weather</th>\n",
       "    </tr>\n",
       "  </thead>\n",
       "  <tbody>\n",
       "    <tr>\n",
       "      <th>1652</th>\n",
       "      <td>https://galveston.craigslist.org/cto/d/2014-ni...</td>\n",
       "      <td>galveston</td>\n",
       "      <td>2900</td>\n",
       "      <td>NaN</td>\n",
       "      <td>NaN</td>\n",
       "      <td>soacrizcd</td>\n",
       "      <td>NaN</td>\n",
       "      <td>NaN</td>\n",
       "      <td>gas</td>\n",
       "      <td>NaN</td>\n",
       "      <td>clean</td>\n",
       "      <td>automatic</td>\n",
       "      <td>NaN</td>\n",
       "      <td>NaN</td>\n",
       "      <td>NaN</td>\n",
       "      <td>NaN</td>\n",
       "      <td>NaN</td>\n",
       "      <td>https://images.craigslist.org/00M0M_jkpAqq0f3A...</td>\n",
       "      <td>29.395588</td>\n",
       "      <td>-94.936825</td>\n",
       "      <td>48167.0</td>\n",
       "      <td>Galveston</td>\n",
       "      <td>48.0</td>\n",
       "      <td>TX</td>\n",
       "      <td>Texas</td>\n",
       "      <td>67.0</td>\n",
       "    </tr>\n",
       "    <tr>\n",
       "      <th>7092</th>\n",
       "      <td>https://saltlakecity.craigslist.org/cto/d/2014...</td>\n",
       "      <td>saltlakecity</td>\n",
       "      <td>2900</td>\n",
       "      <td>NaN</td>\n",
       "      <td>NaN</td>\n",
       "      <td>pcrqno</td>\n",
       "      <td>NaN</td>\n",
       "      <td>NaN</td>\n",
       "      <td>gas</td>\n",
       "      <td>NaN</td>\n",
       "      <td>clean</td>\n",
       "      <td>automatic</td>\n",
       "      <td>NaN</td>\n",
       "      <td>NaN</td>\n",
       "      <td>NaN</td>\n",
       "      <td>NaN</td>\n",
       "      <td>NaN</td>\n",
       "      <td>https://images.craigslist.org/00j0j_kNH7SuxV2u...</td>\n",
       "      <td>42.712053</td>\n",
       "      <td>-111.620163</td>\n",
       "      <td>16029.0</td>\n",
       "      <td>Caribou</td>\n",
       "      <td>16.0</td>\n",
       "      <td>ID</td>\n",
       "      <td>Idaho</td>\n",
       "      <td>47.0</td>\n",
       "    </tr>\n",
       "    <tr>\n",
       "      <th>8555</th>\n",
       "      <td>https://memphis.craigslist.org/ctd/d/2018-toyo...</td>\n",
       "      <td>memphis</td>\n",
       "      <td>21842</td>\n",
       "      <td>NaN</td>\n",
       "      <td>NaN</td>\n",
       "      <td>a Camry</td>\n",
       "      <td>NaN</td>\n",
       "      <td>4 cylinders</td>\n",
       "      <td>gas</td>\n",
       "      <td>11312.0</td>\n",
       "      <td>clean</td>\n",
       "      <td>automatic</td>\n",
       "      <td>JTNB11HK6J3001862</td>\n",
       "      <td>fwd</td>\n",
       "      <td>NaN</td>\n",
       "      <td>sedan</td>\n",
       "      <td>white</td>\n",
       "      <td>https://images.craigslist.org/00i0i_cMyXBfkKdq...</td>\n",
       "      <td>35.186081</td>\n",
       "      <td>-89.794496</td>\n",
       "      <td>47157.0</td>\n",
       "      <td>Shelby</td>\n",
       "      <td>47.0</td>\n",
       "      <td>TN</td>\n",
       "      <td>Tennessee</td>\n",
       "      <td>59.0</td>\n",
       "    </tr>\n",
       "    <tr>\n",
       "      <th>8641</th>\n",
       "      <td>https://memphis.craigslist.org/ctd/d/2018-toyo...</td>\n",
       "      <td>memphis</td>\n",
       "      <td>21980</td>\n",
       "      <td>NaN</td>\n",
       "      <td>NaN</td>\n",
       "      <td>a RAV4</td>\n",
       "      <td>NaN</td>\n",
       "      <td>4 cylinders</td>\n",
       "      <td>gas</td>\n",
       "      <td>40810.0</td>\n",
       "      <td>clean</td>\n",
       "      <td>automatic</td>\n",
       "      <td>2T3WFREV4JW405860</td>\n",
       "      <td>fwd</td>\n",
       "      <td>NaN</td>\n",
       "      <td>SUV</td>\n",
       "      <td>grey</td>\n",
       "      <td>https://images.craigslist.org/00H0H_jegqUW8uIS...</td>\n",
       "      <td>35.186081</td>\n",
       "      <td>-89.794496</td>\n",
       "      <td>47157.0</td>\n",
       "      <td>Shelby</td>\n",
       "      <td>47.0</td>\n",
       "      <td>TN</td>\n",
       "      <td>Tennessee</td>\n",
       "      <td>59.0</td>\n",
       "    </tr>\n",
       "    <tr>\n",
       "      <th>12831</th>\n",
       "      <td>https://elko.craigslist.org/ctd/d/2018-nissan-...</td>\n",
       "      <td>elko</td>\n",
       "      <td>60900</td>\n",
       "      <td>NaN</td>\n",
       "      <td>NaN</td>\n",
       "      <td>n Titan XD</td>\n",
       "      <td>NaN</td>\n",
       "      <td>8 cylinders</td>\n",
       "      <td>diesel</td>\n",
       "      <td>354.0</td>\n",
       "      <td>clean</td>\n",
       "      <td>automatic</td>\n",
       "      <td>1N6BA1F46JN521781</td>\n",
       "      <td>4wd</td>\n",
       "      <td>NaN</td>\n",
       "      <td>pickup</td>\n",
       "      <td>black</td>\n",
       "      <td>https://images.craigslist.org/01313_a9b4VDVItM...</td>\n",
       "      <td>40.362248</td>\n",
       "      <td>-111.785947</td>\n",
       "      <td>49049.0</td>\n",
       "      <td>Utah</td>\n",
       "      <td>49.0</td>\n",
       "      <td>UT</td>\n",
       "      <td>Utah</td>\n",
       "      <td>50.0</td>\n",
       "    </tr>\n",
       "    <tr>\n",
       "      <th>...</th>\n",
       "      <td>...</td>\n",
       "      <td>...</td>\n",
       "      <td>...</td>\n",
       "      <td>...</td>\n",
       "      <td>...</td>\n",
       "      <td>...</td>\n",
       "      <td>...</td>\n",
       "      <td>...</td>\n",
       "      <td>...</td>\n",
       "      <td>...</td>\n",
       "      <td>...</td>\n",
       "      <td>...</td>\n",
       "      <td>...</td>\n",
       "      <td>...</td>\n",
       "      <td>...</td>\n",
       "      <td>...</td>\n",
       "      <td>...</td>\n",
       "      <td>...</td>\n",
       "      <td>...</td>\n",
       "      <td>...</td>\n",
       "      <td>...</td>\n",
       "      <td>...</td>\n",
       "      <td>...</td>\n",
       "      <td>...</td>\n",
       "      <td>...</td>\n",
       "      <td>...</td>\n",
       "    </tr>\n",
       "    <tr>\n",
       "      <th>987780</th>\n",
       "      <td>https://minneapolis.craigslist.org/hnp/ctd/d/2...</td>\n",
       "      <td>minneapolis</td>\n",
       "      <td>29498</td>\n",
       "      <td>NaN</td>\n",
       "      <td>NaN</td>\n",
       "      <td>Clarity Plug-In Hybrid</td>\n",
       "      <td>NaN</td>\n",
       "      <td>4 cylinders</td>\n",
       "      <td>gas</td>\n",
       "      <td>2698.0</td>\n",
       "      <td>clean</td>\n",
       "      <td>automatic</td>\n",
       "      <td>JHMZC5F14JC008709</td>\n",
       "      <td>fwd</td>\n",
       "      <td>NaN</td>\n",
       "      <td>sedan</td>\n",
       "      <td>white</td>\n",
       "      <td>https://images.craigslist.org/00S0S_8Pp7R5N00D...</td>\n",
       "      <td>44.863287</td>\n",
       "      <td>-93.285342</td>\n",
       "      <td>27053.0</td>\n",
       "      <td>Hennepin</td>\n",
       "      <td>27.0</td>\n",
       "      <td>MN</td>\n",
       "      <td>Minnesota</td>\n",
       "      <td>43.0</td>\n",
       "    </tr>\n",
       "    <tr>\n",
       "      <th>994185</th>\n",
       "      <td>https://myrtlebeach.craigslist.org/cto/d/impal...</td>\n",
       "      <td>myrtlebeach</td>\n",
       "      <td>2900</td>\n",
       "      <td>NaN</td>\n",
       "      <td>NaN</td>\n",
       "      <td>ymmefqxhn</td>\n",
       "      <td>NaN</td>\n",
       "      <td>NaN</td>\n",
       "      <td>gas</td>\n",
       "      <td>NaN</td>\n",
       "      <td>clean</td>\n",
       "      <td>automatic</td>\n",
       "      <td>NaN</td>\n",
       "      <td>NaN</td>\n",
       "      <td>NaN</td>\n",
       "      <td>NaN</td>\n",
       "      <td>NaN</td>\n",
       "      <td>https://images.craigslist.org/00B0B_icXTx8yDAK...</td>\n",
       "      <td>33.803125</td>\n",
       "      <td>-78.837776</td>\n",
       "      <td>45051.0</td>\n",
       "      <td>Horry</td>\n",
       "      <td>45.0</td>\n",
       "      <td>SC</td>\n",
       "      <td>South Carolina</td>\n",
       "      <td>60.0</td>\n",
       "    </tr>\n",
       "    <tr>\n",
       "      <th>997789</th>\n",
       "      <td>https://asheville.craigslist.org/cto/d/2010-fo...</td>\n",
       "      <td>asheville</td>\n",
       "      <td>12500</td>\n",
       "      <td>NaN</td>\n",
       "      <td>ford</td>\n",
       "      <td>f150</td>\n",
       "      <td>excellent</td>\n",
       "      <td>8 cylinders</td>\n",
       "      <td>gas</td>\n",
       "      <td>99000.0</td>\n",
       "      <td>rebuilt</td>\n",
       "      <td>automatic</td>\n",
       "      <td>NaN</td>\n",
       "      <td>rwd</td>\n",
       "      <td>NaN</td>\n",
       "      <td>pickup</td>\n",
       "      <td>red</td>\n",
       "      <td>https://images.craigslist.org/00H0H_hLRfMrTPKO...</td>\n",
       "      <td>34.776458</td>\n",
       "      <td>-82.391206</td>\n",
       "      <td>45045.0</td>\n",
       "      <td>Greenville</td>\n",
       "      <td>45.0</td>\n",
       "      <td>SC</td>\n",
       "      <td>South Carolina</td>\n",
       "      <td>60.0</td>\n",
       "    </tr>\n",
       "    <tr>\n",
       "      <th>997790</th>\n",
       "      <td>https://asheville.craigslist.org/cto/d/2008-fo...</td>\n",
       "      <td>asheville</td>\n",
       "      <td>8300</td>\n",
       "      <td>NaN</td>\n",
       "      <td>ford</td>\n",
       "      <td>ranger xlt</td>\n",
       "      <td>NaN</td>\n",
       "      <td>6 cylinders</td>\n",
       "      <td>gas</td>\n",
       "      <td>121455.0</td>\n",
       "      <td>clean</td>\n",
       "      <td>automatic</td>\n",
       "      <td>NaN</td>\n",
       "      <td>4wd</td>\n",
       "      <td>mid-size</td>\n",
       "      <td>truck</td>\n",
       "      <td>white</td>\n",
       "      <td>https://images.craigslist.org/00r0r_6FYgE8j05R...</td>\n",
       "      <td>34.757900</td>\n",
       "      <td>-82.044700</td>\n",
       "      <td>45083.0</td>\n",
       "      <td>Spartanburg</td>\n",
       "      <td>45.0</td>\n",
       "      <td>SC</td>\n",
       "      <td>South Carolina</td>\n",
       "      <td>60.0</td>\n",
       "    </tr>\n",
       "    <tr>\n",
       "      <th>1009673</th>\n",
       "      <td>https://columbia.craigslist.org/cto/d/2009-hon...</td>\n",
       "      <td>columbia</td>\n",
       "      <td>2900</td>\n",
       "      <td>NaN</td>\n",
       "      <td>NaN</td>\n",
       "      <td>sjphygdhbtq</td>\n",
       "      <td>NaN</td>\n",
       "      <td>NaN</td>\n",
       "      <td>gas</td>\n",
       "      <td>NaN</td>\n",
       "      <td>clean</td>\n",
       "      <td>automatic</td>\n",
       "      <td>NaN</td>\n",
       "      <td>NaN</td>\n",
       "      <td>NaN</td>\n",
       "      <td>NaN</td>\n",
       "      <td>NaN</td>\n",
       "      <td>https://images.craigslist.org/00B0B_icXTx8yDAK...</td>\n",
       "      <td>33.996344</td>\n",
       "      <td>-81.100412</td>\n",
       "      <td>45063.0</td>\n",
       "      <td>Lexington</td>\n",
       "      <td>45.0</td>\n",
       "      <td>SC</td>\n",
       "      <td>South Carolina</td>\n",
       "      <td>60.0</td>\n",
       "    </tr>\n",
       "  </tbody>\n",
       "</table>\n",
       "<p>1509 rows × 26 columns</p>\n",
       "</div>"
      ],
      "text/plain": [
       "                                                       url          city  \\\n",
       "1652     https://galveston.craigslist.org/cto/d/2014-ni...     galveston   \n",
       "7092     https://saltlakecity.craigslist.org/cto/d/2014...  saltlakecity   \n",
       "8555     https://memphis.craigslist.org/ctd/d/2018-toyo...       memphis   \n",
       "8641     https://memphis.craigslist.org/ctd/d/2018-toyo...       memphis   \n",
       "12831    https://elko.craigslist.org/ctd/d/2018-nissan-...          elko   \n",
       "...                                                    ...           ...   \n",
       "987780   https://minneapolis.craigslist.org/hnp/ctd/d/2...   minneapolis   \n",
       "994185   https://myrtlebeach.craigslist.org/cto/d/impal...   myrtlebeach   \n",
       "997789   https://asheville.craigslist.org/cto/d/2010-fo...     asheville   \n",
       "997790   https://asheville.craigslist.org/cto/d/2008-fo...     asheville   \n",
       "1009673  https://columbia.craigslist.org/cto/d/2009-hon...      columbia   \n",
       "\n",
       "         price year manufacturer                    make  condition  \\\n",
       "1652      2900  NaN          NaN               soacrizcd        NaN   \n",
       "7092      2900  NaN          NaN                  pcrqno        NaN   \n",
       "8555     21842  NaN          NaN                 a Camry        NaN   \n",
       "8641     21980  NaN          NaN                  a RAV4        NaN   \n",
       "12831    60900  NaN          NaN              n Titan XD        NaN   \n",
       "...        ...  ...          ...                     ...        ...   \n",
       "987780   29498  NaN          NaN  Clarity Plug-In Hybrid        NaN   \n",
       "994185    2900  NaN          NaN               ymmefqxhn        NaN   \n",
       "997789   12500  NaN         ford                    f150  excellent   \n",
       "997790    8300  NaN         ford              ranger xlt        NaN   \n",
       "1009673   2900  NaN          NaN             sjphygdhbtq        NaN   \n",
       "\n",
       "           cylinders    fuel  odometer title_status transmission  \\\n",
       "1652             NaN     gas       NaN        clean    automatic   \n",
       "7092             NaN     gas       NaN        clean    automatic   \n",
       "8555     4 cylinders     gas   11312.0        clean    automatic   \n",
       "8641     4 cylinders     gas   40810.0        clean    automatic   \n",
       "12831    8 cylinders  diesel     354.0        clean    automatic   \n",
       "...              ...     ...       ...          ...          ...   \n",
       "987780   4 cylinders     gas    2698.0        clean    automatic   \n",
       "994185           NaN     gas       NaN        clean    automatic   \n",
       "997789   8 cylinders     gas   99000.0      rebuilt    automatic   \n",
       "997790   6 cylinders     gas  121455.0        clean    automatic   \n",
       "1009673          NaN     gas       NaN        clean    automatic   \n",
       "\n",
       "                       vin drive      size    type paint_color  \\\n",
       "1652                   NaN   NaN       NaN     NaN         NaN   \n",
       "7092                   NaN   NaN       NaN     NaN         NaN   \n",
       "8555     JTNB11HK6J3001862   fwd       NaN   sedan       white   \n",
       "8641     2T3WFREV4JW405860   fwd       NaN     SUV        grey   \n",
       "12831    1N6BA1F46JN521781   4wd       NaN  pickup       black   \n",
       "...                    ...   ...       ...     ...         ...   \n",
       "987780   JHMZC5F14JC008709   fwd       NaN   sedan       white   \n",
       "994185                 NaN   NaN       NaN     NaN         NaN   \n",
       "997789                 NaN   rwd       NaN  pickup         red   \n",
       "997790                 NaN   4wd  mid-size   truck       white   \n",
       "1009673                NaN   NaN       NaN     NaN         NaN   \n",
       "\n",
       "                                                 image_url        lat  \\\n",
       "1652     https://images.craigslist.org/00M0M_jkpAqq0f3A...  29.395588   \n",
       "7092     https://images.craigslist.org/00j0j_kNH7SuxV2u...  42.712053   \n",
       "8555     https://images.craigslist.org/00i0i_cMyXBfkKdq...  35.186081   \n",
       "8641     https://images.craigslist.org/00H0H_jegqUW8uIS...  35.186081   \n",
       "12831    https://images.craigslist.org/01313_a9b4VDVItM...  40.362248   \n",
       "...                                                    ...        ...   \n",
       "987780   https://images.craigslist.org/00S0S_8Pp7R5N00D...  44.863287   \n",
       "994185   https://images.craigslist.org/00B0B_icXTx8yDAK...  33.803125   \n",
       "997789   https://images.craigslist.org/00H0H_hLRfMrTPKO...  34.776458   \n",
       "997790   https://images.craigslist.org/00r0r_6FYgE8j05R...  34.757900   \n",
       "1009673  https://images.craigslist.org/00B0B_icXTx8yDAK...  33.996344   \n",
       "\n",
       "               long  county_fips  county_name  state_fips state_code  \\\n",
       "1652     -94.936825      48167.0    Galveston        48.0         TX   \n",
       "7092    -111.620163      16029.0      Caribou        16.0         ID   \n",
       "8555     -89.794496      47157.0       Shelby        47.0         TN   \n",
       "8641     -89.794496      47157.0       Shelby        47.0         TN   \n",
       "12831   -111.785947      49049.0         Utah        49.0         UT   \n",
       "...             ...          ...          ...         ...        ...   \n",
       "987780   -93.285342      27053.0     Hennepin        27.0         MN   \n",
       "994185   -78.837776      45051.0        Horry        45.0         SC   \n",
       "997789   -82.391206      45045.0   Greenville        45.0         SC   \n",
       "997790   -82.044700      45083.0  Spartanburg        45.0         SC   \n",
       "1009673  -81.100412      45063.0    Lexington        45.0         SC   \n",
       "\n",
       "             state_name  weather  \n",
       "1652              Texas     67.0  \n",
       "7092              Idaho     47.0  \n",
       "8555          Tennessee     59.0  \n",
       "8641          Tennessee     59.0  \n",
       "12831              Utah     50.0  \n",
       "...                 ...      ...  \n",
       "987780        Minnesota     43.0  \n",
       "994185   South Carolina     60.0  \n",
       "997789   South Carolina     60.0  \n",
       "997790   South Carolina     60.0  \n",
       "1009673  South Carolina     60.0  \n",
       "\n",
       "[1509 rows x 26 columns]"
      ]
     },
     "execution_count": 15,
     "metadata": {},
     "output_type": "execute_result"
    }
   ],
   "source": [
    "df[df['year'].isnull()]"
   ]
  },
  {
   "cell_type": "markdown",
   "metadata": {},
   "source": [
    "Drop rows whose 'year' value is null in that it is not possible to find correlation between 'price' and 'unidentified year of use', which is null value in year."
   ]
  },
  {
   "cell_type": "code",
   "execution_count": 16,
   "metadata": {},
   "outputs": [],
   "source": [
    "df.drop(df[df['year'].isnull()].index, inplace=True)"
   ]
  },
  {
   "cell_type": "code",
   "execution_count": 17,
   "metadata": {},
   "outputs": [
    {
     "data": {
      "text/plain": [
       "size            65.833660\n",
       "vin             65.002149\n",
       "type            41.363597\n",
       "condition       41.311162\n",
       "paint_color     41.070286\n",
       "cylinders       40.759592\n",
       "drive           38.422174\n",
       "odometer        32.708952\n",
       "manufacturer     7.973276\n",
       "weather          5.628695\n",
       "county_fips      5.571771\n",
       "county_name      5.571771\n",
       "state_fips       5.571771\n",
       "state_code       5.571771\n",
       "make             4.120878\n",
       "fuel             0.607253\n",
       "transmission     0.555487\n",
       "title_status     0.147563\n",
       "image_url        0.000000\n",
       "lat              0.000000\n",
       "long             0.000000\n",
       "state_name       0.000000\n",
       "year             0.000000\n",
       "price            0.000000\n",
       "city             0.000000\n",
       "url              0.000000\n",
       "dtype: float64"
      ]
     },
     "execution_count": 17,
     "metadata": {},
     "output_type": "execute_result"
    }
   ],
   "source": [
    "((df.isnull().sum()/len(df)).sort_values(ascending = False)*100).astype(float)"
   ]
  },
  {
   "cell_type": "markdown",
   "metadata": {},
   "source": [
    "Let's look into 'title_status' by value_counts()."
   ]
  },
  {
   "cell_type": "code",
   "execution_count": 18,
   "metadata": {},
   "outputs": [
    {
     "data": {
      "text/plain": [
       "clean         971924\n",
       "rebuilt        27973\n",
       "salvage        22992\n",
       "lien           12384\n",
       "missing         7103\n",
       "parts only      3089\n",
       "Name: title_status, dtype: int64"
      ]
     },
     "execution_count": 18,
     "metadata": {},
     "output_type": "execute_result"
    }
   ],
   "source": [
    "df['title_status'].value_counts()"
   ]
  },
  {
   "cell_type": "markdown",
   "metadata": {},
   "source": [
    "Now let's take a look at rows whose 'title_status' value is null."
   ]
  },
  {
   "cell_type": "code",
   "execution_count": 19,
   "metadata": {
    "scrolled": true
   },
   "outputs": [
    {
     "data": {
      "text/html": [
       "<div>\n",
       "<style scoped>\n",
       "    .dataframe tbody tr th:only-of-type {\n",
       "        vertical-align: middle;\n",
       "    }\n",
       "\n",
       "    .dataframe tbody tr th {\n",
       "        vertical-align: top;\n",
       "    }\n",
       "\n",
       "    .dataframe thead th {\n",
       "        text-align: right;\n",
       "    }\n",
       "</style>\n",
       "<table border=\"1\" class=\"dataframe\">\n",
       "  <thead>\n",
       "    <tr style=\"text-align: right;\">\n",
       "      <th></th>\n",
       "      <th>url</th>\n",
       "      <th>city</th>\n",
       "      <th>price</th>\n",
       "      <th>year</th>\n",
       "      <th>manufacturer</th>\n",
       "      <th>make</th>\n",
       "      <th>condition</th>\n",
       "      <th>cylinders</th>\n",
       "      <th>fuel</th>\n",
       "      <th>odometer</th>\n",
       "      <th>title_status</th>\n",
       "      <th>transmission</th>\n",
       "      <th>vin</th>\n",
       "      <th>drive</th>\n",
       "      <th>size</th>\n",
       "      <th>type</th>\n",
       "      <th>paint_color</th>\n",
       "      <th>image_url</th>\n",
       "      <th>lat</th>\n",
       "      <th>long</th>\n",
       "      <th>county_fips</th>\n",
       "      <th>county_name</th>\n",
       "      <th>state_fips</th>\n",
       "      <th>state_code</th>\n",
       "      <th>state_name</th>\n",
       "      <th>weather</th>\n",
       "    </tr>\n",
       "  </thead>\n",
       "  <tbody>\n",
       "    <tr>\n",
       "      <th>711</th>\n",
       "      <td>https://ogden.craigslist.org/ctd/d/1998-volksw...</td>\n",
       "      <td>ogden</td>\n",
       "      <td>3199</td>\n",
       "      <td>1998</td>\n",
       "      <td>volkswagen</td>\n",
       "      <td>gti</td>\n",
       "      <td>NaN</td>\n",
       "      <td>NaN</td>\n",
       "      <td>NaN</td>\n",
       "      <td>129718.0</td>\n",
       "      <td>NaN</td>\n",
       "      <td>automatic</td>\n",
       "      <td>3VWDA81H2WM219546</td>\n",
       "      <td>NaN</td>\n",
       "      <td>NaN</td>\n",
       "      <td>hatchback</td>\n",
       "      <td>yellow</td>\n",
       "      <td>https://images.craigslist.org/00808_2ImZMc17NN...</td>\n",
       "      <td>43.618808</td>\n",
       "      <td>-116.307269</td>\n",
       "      <td>16001.0</td>\n",
       "      <td>Ada</td>\n",
       "      <td>16.0</td>\n",
       "      <td>ID</td>\n",
       "      <td>Idaho</td>\n",
       "      <td>47.0</td>\n",
       "    </tr>\n",
       "    <tr>\n",
       "      <th>712</th>\n",
       "      <td>https://ogden.craigslist.org/ctd/d/2013-toyota...</td>\n",
       "      <td>ogden</td>\n",
       "      <td>20399</td>\n",
       "      <td>2013</td>\n",
       "      <td>toyota</td>\n",
       "      <td>tacoma</td>\n",
       "      <td>NaN</td>\n",
       "      <td>NaN</td>\n",
       "      <td>NaN</td>\n",
       "      <td>52992.0</td>\n",
       "      <td>NaN</td>\n",
       "      <td>automatic</td>\n",
       "      <td>3TMJU4GN9DM148846</td>\n",
       "      <td>NaN</td>\n",
       "      <td>NaN</td>\n",
       "      <td>NaN</td>\n",
       "      <td>NaN</td>\n",
       "      <td>https://images.craigslist.org/00808_2XBEsB5t2F...</td>\n",
       "      <td>43.618808</td>\n",
       "      <td>-116.307269</td>\n",
       "      <td>16001.0</td>\n",
       "      <td>Ada</td>\n",
       "      <td>16.0</td>\n",
       "      <td>ID</td>\n",
       "      <td>Idaho</td>\n",
       "      <td>47.0</td>\n",
       "    </tr>\n",
       "    <tr>\n",
       "      <th>713</th>\n",
       "      <td>https://ogden.craigslist.org/ctd/d/2008-toyota...</td>\n",
       "      <td>ogden</td>\n",
       "      <td>13222</td>\n",
       "      <td>2008</td>\n",
       "      <td>toyota</td>\n",
       "      <td>tacoma</td>\n",
       "      <td>NaN</td>\n",
       "      <td>NaN</td>\n",
       "      <td>NaN</td>\n",
       "      <td>140879.0</td>\n",
       "      <td>NaN</td>\n",
       "      <td>manual</td>\n",
       "      <td>5TEUX42N68Z500012</td>\n",
       "      <td>NaN</td>\n",
       "      <td>NaN</td>\n",
       "      <td>NaN</td>\n",
       "      <td>silver</td>\n",
       "      <td>https://images.craigslist.org/01515_aH1Ax3xNny...</td>\n",
       "      <td>43.618808</td>\n",
       "      <td>-116.307269</td>\n",
       "      <td>16001.0</td>\n",
       "      <td>Ada</td>\n",
       "      <td>16.0</td>\n",
       "      <td>ID</td>\n",
       "      <td>Idaho</td>\n",
       "      <td>47.0</td>\n",
       "    </tr>\n",
       "    <tr>\n",
       "      <th>714</th>\n",
       "      <td>https://ogden.craigslist.org/ctd/d/2004-toyota...</td>\n",
       "      <td>ogden</td>\n",
       "      <td>5935</td>\n",
       "      <td>2004</td>\n",
       "      <td>toyota</td>\n",
       "      <td>prius</td>\n",
       "      <td>NaN</td>\n",
       "      <td>NaN</td>\n",
       "      <td>NaN</td>\n",
       "      <td>144741.0</td>\n",
       "      <td>NaN</td>\n",
       "      <td>other</td>\n",
       "      <td>JTDKB20U140078987</td>\n",
       "      <td>NaN</td>\n",
       "      <td>NaN</td>\n",
       "      <td>sedan</td>\n",
       "      <td>NaN</td>\n",
       "      <td>https://images.craigslist.org/01414_g2F53ObEcr...</td>\n",
       "      <td>43.618808</td>\n",
       "      <td>-116.307269</td>\n",
       "      <td>16001.0</td>\n",
       "      <td>Ada</td>\n",
       "      <td>16.0</td>\n",
       "      <td>ID</td>\n",
       "      <td>Idaho</td>\n",
       "      <td>47.0</td>\n",
       "    </tr>\n",
       "    <tr>\n",
       "      <th>715</th>\n",
       "      <td>https://ogden.craigslist.org/ctd/d/2007-toyota...</td>\n",
       "      <td>ogden</td>\n",
       "      <td>6841</td>\n",
       "      <td>2007</td>\n",
       "      <td>toyota</td>\n",
       "      <td>camry</td>\n",
       "      <td>NaN</td>\n",
       "      <td>NaN</td>\n",
       "      <td>NaN</td>\n",
       "      <td>141026.0</td>\n",
       "      <td>NaN</td>\n",
       "      <td>automatic</td>\n",
       "      <td>4T1BE46KX7U514026</td>\n",
       "      <td>NaN</td>\n",
       "      <td>NaN</td>\n",
       "      <td>sedan</td>\n",
       "      <td>white</td>\n",
       "      <td>https://images.craigslist.org/01515_cLa189rIx6...</td>\n",
       "      <td>43.618808</td>\n",
       "      <td>-116.307269</td>\n",
       "      <td>16001.0</td>\n",
       "      <td>Ada</td>\n",
       "      <td>16.0</td>\n",
       "      <td>ID</td>\n",
       "      <td>Idaho</td>\n",
       "      <td>47.0</td>\n",
       "    </tr>\n",
       "    <tr>\n",
       "      <th>...</th>\n",
       "      <td>...</td>\n",
       "      <td>...</td>\n",
       "      <td>...</td>\n",
       "      <td>...</td>\n",
       "      <td>...</td>\n",
       "      <td>...</td>\n",
       "      <td>...</td>\n",
       "      <td>...</td>\n",
       "      <td>...</td>\n",
       "      <td>...</td>\n",
       "      <td>...</td>\n",
       "      <td>...</td>\n",
       "      <td>...</td>\n",
       "      <td>...</td>\n",
       "      <td>...</td>\n",
       "      <td>...</td>\n",
       "      <td>...</td>\n",
       "      <td>...</td>\n",
       "      <td>...</td>\n",
       "      <td>...</td>\n",
       "      <td>...</td>\n",
       "      <td>...</td>\n",
       "      <td>...</td>\n",
       "      <td>...</td>\n",
       "      <td>...</td>\n",
       "      <td>...</td>\n",
       "    </tr>\n",
       "    <tr>\n",
       "      <th>1045394</th>\n",
       "      <td>https://semo.craigslist.org/ctd/d/2014-chevrol...</td>\n",
       "      <td>semo</td>\n",
       "      <td>6900</td>\n",
       "      <td>2014</td>\n",
       "      <td>chevrolet</td>\n",
       "      <td>malibu 2lt 6-speed automatic</td>\n",
       "      <td>NaN</td>\n",
       "      <td>NaN</td>\n",
       "      <td>NaN</td>\n",
       "      <td>132000.0</td>\n",
       "      <td>NaN</td>\n",
       "      <td>automatic</td>\n",
       "      <td>1G11E5SL9EF202049</td>\n",
       "      <td>fwd</td>\n",
       "      <td>NaN</td>\n",
       "      <td>sedan</td>\n",
       "      <td>NaN</td>\n",
       "      <td>https://images.craigslist.org/00G0G_cW6uE5uofp...</td>\n",
       "      <td>36.803618</td>\n",
       "      <td>-89.947992</td>\n",
       "      <td>29207.0</td>\n",
       "      <td>Stoddard</td>\n",
       "      <td>29.0</td>\n",
       "      <td>MO</td>\n",
       "      <td>Missouri</td>\n",
       "      <td>52.0</td>\n",
       "    </tr>\n",
       "    <tr>\n",
       "      <th>1045487</th>\n",
       "      <td>https://semo.craigslist.org/ctd/d/2011-nissan-...</td>\n",
       "      <td>semo</td>\n",
       "      <td>8400</td>\n",
       "      <td>2011</td>\n",
       "      <td>nissan</td>\n",
       "      <td>pathfinder</td>\n",
       "      <td>NaN</td>\n",
       "      <td>NaN</td>\n",
       "      <td>NaN</td>\n",
       "      <td>155000.0</td>\n",
       "      <td>NaN</td>\n",
       "      <td>NaN</td>\n",
       "      <td>5N1AR1NB6BC619094</td>\n",
       "      <td>NaN</td>\n",
       "      <td>NaN</td>\n",
       "      <td>NaN</td>\n",
       "      <td>NaN</td>\n",
       "      <td>https://images.craigslist.org/01010_hmfyzv5eeP...</td>\n",
       "      <td>36.803618</td>\n",
       "      <td>-89.947992</td>\n",
       "      <td>29207.0</td>\n",
       "      <td>Stoddard</td>\n",
       "      <td>29.0</td>\n",
       "      <td>MO</td>\n",
       "      <td>Missouri</td>\n",
       "      <td>52.0</td>\n",
       "    </tr>\n",
       "    <tr>\n",
       "      <th>1045488</th>\n",
       "      <td>https://semo.craigslist.org/ctd/d/1994-ford-mu...</td>\n",
       "      <td>semo</td>\n",
       "      <td>2600</td>\n",
       "      <td>1994</td>\n",
       "      <td>ford</td>\n",
       "      <td>mustang</td>\n",
       "      <td>NaN</td>\n",
       "      <td>NaN</td>\n",
       "      <td>NaN</td>\n",
       "      <td>103000.0</td>\n",
       "      <td>NaN</td>\n",
       "      <td>automatic</td>\n",
       "      <td>1FALP4442RF143397</td>\n",
       "      <td>NaN</td>\n",
       "      <td>NaN</td>\n",
       "      <td>NaN</td>\n",
       "      <td>NaN</td>\n",
       "      <td>https://images.craigslist.org/00z0z_cq55h65fNm...</td>\n",
       "      <td>36.803618</td>\n",
       "      <td>-89.947992</td>\n",
       "      <td>29207.0</td>\n",
       "      <td>Stoddard</td>\n",
       "      <td>29.0</td>\n",
       "      <td>MO</td>\n",
       "      <td>Missouri</td>\n",
       "      <td>52.0</td>\n",
       "    </tr>\n",
       "    <tr>\n",
       "      <th>1045508</th>\n",
       "      <td>https://semo.craigslist.org/ctd/d/2008-ford-fo...</td>\n",
       "      <td>semo</td>\n",
       "      <td>3600</td>\n",
       "      <td>2008</td>\n",
       "      <td>ford</td>\n",
       "      <td>focus</td>\n",
       "      <td>NaN</td>\n",
       "      <td>NaN</td>\n",
       "      <td>gas</td>\n",
       "      <td>92057.0</td>\n",
       "      <td>NaN</td>\n",
       "      <td>manual</td>\n",
       "      <td>1FAHP34N88W273112</td>\n",
       "      <td>fwd</td>\n",
       "      <td>NaN</td>\n",
       "      <td>NaN</td>\n",
       "      <td>NaN</td>\n",
       "      <td>https://images.craigslist.org/00909_k9GKIpl66y...</td>\n",
       "      <td>36.803618</td>\n",
       "      <td>-89.947992</td>\n",
       "      <td>29207.0</td>\n",
       "      <td>Stoddard</td>\n",
       "      <td>29.0</td>\n",
       "      <td>MO</td>\n",
       "      <td>Missouri</td>\n",
       "      <td>52.0</td>\n",
       "    </tr>\n",
       "    <tr>\n",
       "      <th>1045652</th>\n",
       "      <td>https://semo.craigslist.org/ctd/d/1994-ford-mu...</td>\n",
       "      <td>semo</td>\n",
       "      <td>2600</td>\n",
       "      <td>1994</td>\n",
       "      <td>ford</td>\n",
       "      <td>mustang</td>\n",
       "      <td>NaN</td>\n",
       "      <td>NaN</td>\n",
       "      <td>NaN</td>\n",
       "      <td>103000.0</td>\n",
       "      <td>NaN</td>\n",
       "      <td>automatic</td>\n",
       "      <td>1FALP4442RF143397</td>\n",
       "      <td>NaN</td>\n",
       "      <td>NaN</td>\n",
       "      <td>NaN</td>\n",
       "      <td>NaN</td>\n",
       "      <td>https://images.craigslist.org/00z0z_cq55h65fNm...</td>\n",
       "      <td>36.803618</td>\n",
       "      <td>-89.947992</td>\n",
       "      <td>29207.0</td>\n",
       "      <td>Stoddard</td>\n",
       "      <td>29.0</td>\n",
       "      <td>MO</td>\n",
       "      <td>Missouri</td>\n",
       "      <td>52.0</td>\n",
       "    </tr>\n",
       "  </tbody>\n",
       "</table>\n",
       "<p>1545 rows × 26 columns</p>\n",
       "</div>"
      ],
      "text/plain": [
       "                                                       url   city  price  \\\n",
       "711      https://ogden.craigslist.org/ctd/d/1998-volksw...  ogden   3199   \n",
       "712      https://ogden.craigslist.org/ctd/d/2013-toyota...  ogden  20399   \n",
       "713      https://ogden.craigslist.org/ctd/d/2008-toyota...  ogden  13222   \n",
       "714      https://ogden.craigslist.org/ctd/d/2004-toyota...  ogden   5935   \n",
       "715      https://ogden.craigslist.org/ctd/d/2007-toyota...  ogden   6841   \n",
       "...                                                    ...    ...    ...   \n",
       "1045394  https://semo.craigslist.org/ctd/d/2014-chevrol...   semo   6900   \n",
       "1045487  https://semo.craigslist.org/ctd/d/2011-nissan-...   semo   8400   \n",
       "1045488  https://semo.craigslist.org/ctd/d/1994-ford-mu...   semo   2600   \n",
       "1045508  https://semo.craigslist.org/ctd/d/2008-ford-fo...   semo   3600   \n",
       "1045652  https://semo.craigslist.org/ctd/d/1994-ford-mu...   semo   2600   \n",
       "\n",
       "         year manufacturer                          make condition cylinders  \\\n",
       "711      1998   volkswagen                           gti       NaN       NaN   \n",
       "712      2013       toyota                        tacoma       NaN       NaN   \n",
       "713      2008       toyota                        tacoma       NaN       NaN   \n",
       "714      2004       toyota                         prius       NaN       NaN   \n",
       "715      2007       toyota                         camry       NaN       NaN   \n",
       "...       ...          ...                           ...       ...       ...   \n",
       "1045394  2014    chevrolet  malibu 2lt 6-speed automatic       NaN       NaN   \n",
       "1045487  2011       nissan                    pathfinder       NaN       NaN   \n",
       "1045488  1994         ford                       mustang       NaN       NaN   \n",
       "1045508  2008         ford                         focus       NaN       NaN   \n",
       "1045652  1994         ford                       mustang       NaN       NaN   \n",
       "\n",
       "        fuel  odometer title_status transmission                vin drive  \\\n",
       "711      NaN  129718.0          NaN    automatic  3VWDA81H2WM219546   NaN   \n",
       "712      NaN   52992.0          NaN    automatic  3TMJU4GN9DM148846   NaN   \n",
       "713      NaN  140879.0          NaN       manual  5TEUX42N68Z500012   NaN   \n",
       "714      NaN  144741.0          NaN        other  JTDKB20U140078987   NaN   \n",
       "715      NaN  141026.0          NaN    automatic  4T1BE46KX7U514026   NaN   \n",
       "...      ...       ...          ...          ...                ...   ...   \n",
       "1045394  NaN  132000.0          NaN    automatic  1G11E5SL9EF202049   fwd   \n",
       "1045487  NaN  155000.0          NaN          NaN  5N1AR1NB6BC619094   NaN   \n",
       "1045488  NaN  103000.0          NaN    automatic  1FALP4442RF143397   NaN   \n",
       "1045508  gas   92057.0          NaN       manual  1FAHP34N88W273112   fwd   \n",
       "1045652  NaN  103000.0          NaN    automatic  1FALP4442RF143397   NaN   \n",
       "\n",
       "        size       type paint_color  \\\n",
       "711      NaN  hatchback      yellow   \n",
       "712      NaN        NaN         NaN   \n",
       "713      NaN        NaN      silver   \n",
       "714      NaN      sedan         NaN   \n",
       "715      NaN      sedan       white   \n",
       "...      ...        ...         ...   \n",
       "1045394  NaN      sedan         NaN   \n",
       "1045487  NaN        NaN         NaN   \n",
       "1045488  NaN        NaN         NaN   \n",
       "1045508  NaN        NaN         NaN   \n",
       "1045652  NaN        NaN         NaN   \n",
       "\n",
       "                                                 image_url        lat  \\\n",
       "711      https://images.craigslist.org/00808_2ImZMc17NN...  43.618808   \n",
       "712      https://images.craigslist.org/00808_2XBEsB5t2F...  43.618808   \n",
       "713      https://images.craigslist.org/01515_aH1Ax3xNny...  43.618808   \n",
       "714      https://images.craigslist.org/01414_g2F53ObEcr...  43.618808   \n",
       "715      https://images.craigslist.org/01515_cLa189rIx6...  43.618808   \n",
       "...                                                    ...        ...   \n",
       "1045394  https://images.craigslist.org/00G0G_cW6uE5uofp...  36.803618   \n",
       "1045487  https://images.craigslist.org/01010_hmfyzv5eeP...  36.803618   \n",
       "1045488  https://images.craigslist.org/00z0z_cq55h65fNm...  36.803618   \n",
       "1045508  https://images.craigslist.org/00909_k9GKIpl66y...  36.803618   \n",
       "1045652  https://images.craigslist.org/00z0z_cq55h65fNm...  36.803618   \n",
       "\n",
       "               long  county_fips county_name  state_fips state_code  \\\n",
       "711     -116.307269      16001.0         Ada        16.0         ID   \n",
       "712     -116.307269      16001.0         Ada        16.0         ID   \n",
       "713     -116.307269      16001.0         Ada        16.0         ID   \n",
       "714     -116.307269      16001.0         Ada        16.0         ID   \n",
       "715     -116.307269      16001.0         Ada        16.0         ID   \n",
       "...             ...          ...         ...         ...        ...   \n",
       "1045394  -89.947992      29207.0    Stoddard        29.0         MO   \n",
       "1045487  -89.947992      29207.0    Stoddard        29.0         MO   \n",
       "1045488  -89.947992      29207.0    Stoddard        29.0         MO   \n",
       "1045508  -89.947992      29207.0    Stoddard        29.0         MO   \n",
       "1045652  -89.947992      29207.0    Stoddard        29.0         MO   \n",
       "\n",
       "        state_name  weather  \n",
       "711          Idaho     47.0  \n",
       "712          Idaho     47.0  \n",
       "713          Idaho     47.0  \n",
       "714          Idaho     47.0  \n",
       "715          Idaho     47.0  \n",
       "...            ...      ...  \n",
       "1045394   Missouri     52.0  \n",
       "1045487   Missouri     52.0  \n",
       "1045488   Missouri     52.0  \n",
       "1045508   Missouri     52.0  \n",
       "1045652   Missouri     52.0  \n",
       "\n",
       "[1545 rows x 26 columns]"
      ]
     },
     "execution_count": 19,
     "metadata": {},
     "output_type": "execute_result"
    }
   ],
   "source": [
    "df[df['title_status'].isnull()]"
   ]
  },
  {
   "cell_type": "markdown",
   "metadata": {},
   "source": [
    "Let's compare 'make' between two groups in 'title_status': notnull vs. isnull"
   ]
  },
  {
   "cell_type": "code",
   "execution_count": 20,
   "metadata": {},
   "outputs": [
    {
     "data": {
      "text/plain": [
       "1500                           13871\n",
       "f-150                          12992\n",
       "silverado 1500                  8658\n",
       "2500                            8065\n",
       "silverado                       7976\n",
       "                               ...  \n",
       "volks rabbit                       1\n",
       "1997 Thunderbird                   1\n",
       "f-250 lariat camper special        1\n",
       "Hino 268 Flatbed                   1\n",
       "RAV4 Fwd 4 cylinders               1\n",
       "Name: make, Length: 75522, dtype: int64"
      ]
     },
     "execution_count": 20,
     "metadata": {},
     "output_type": "execute_result"
    }
   ],
   "source": [
    "df['make'][df['title_status'].notnull()].value_counts()"
   ]
  },
  {
   "cell_type": "code",
   "execution_count": 21,
   "metadata": {},
   "outputs": [
    {
     "data": {
      "text/plain": [
       "corolla                                            16\n",
       "civic                                              15\n",
       "focus                                              13\n",
       "accord                                             13\n",
       "impreza                                            12\n",
       "                                                   ..\n",
       "freestar                                            1\n",
       "2006                                                1\n",
       "f-350 sd xlt supercab 4wd drw 4-speed automatic     1\n",
       "f-250 sd xlt supercab long bed 4wd super clean      1\n",
       "benz ml 320 cdi                                     1\n",
       "Name: make, Length: 725, dtype: int64"
      ]
     },
     "execution_count": 21,
     "metadata": {},
     "output_type": "execute_result"
    }
   ],
   "source": [
    "df['make'][df['title_status'].isnull()].value_counts()"
   ]
  },
  {
   "cell_type": "markdown",
   "metadata": {},
   "source": [
    "As seen above, top 'makes' of isnull in 'title_status' seem small sedan or Japanese brands unlike top 'makes' of notnull in 'title_status'."
   ]
  },
  {
   "cell_type": "markdown",
   "metadata": {},
   "source": [
    "Let's compare 'manufacturer' between two groups in 'title_status': notnull vs. isnull"
   ]
  },
  {
   "cell_type": "code",
   "execution_count": 22,
   "metadata": {},
   "outputs": [
    {
     "data": {
      "text/plain": [
       "ford               16.862927\n",
       "chevrolet          12.683734\n",
       "toyota              6.828827\n",
       "honda               5.282434\n",
       "nissan              4.430564\n",
       "dodge               4.402443\n",
       "jeep                4.388000\n",
       "gmc                 4.172115\n",
       "ram                 3.315176\n",
       "bmw                 2.565270\n",
       "chevy               2.353498\n",
       "volkswagen          2.003223\n",
       "subaru              1.839660\n",
       "hyundai             1.810295\n",
       "chrysler            1.761322\n",
       "mercedes-benz       1.472264\n",
       "cadillac            1.447012\n",
       "kia                 1.401482\n",
       "mazda               1.366952\n",
       "buick               1.325726\n",
       "pontiac             1.287752\n",
       "lexus               1.178040\n",
       "acura               1.099989\n",
       "audi                0.928486\n",
       "lincoln             0.737758\n",
       "infiniti            0.671758\n",
       "volvo               0.667550\n",
       "mitsubishi          0.613890\n",
       "mercury             0.587107\n",
       "saturn              0.537273\n",
       "mercedes            0.415987\n",
       "mini                0.391309\n",
       "rover               0.344823\n",
       "vw                  0.267823\n",
       "jaguar              0.248406\n",
       "fiat                0.117460\n",
       "chev                0.049356\n",
       "datsun              0.039121\n",
       "harley-davidson     0.033669\n",
       "infinity            0.029461\n",
       "ferrari             0.016356\n",
       "harley              0.013869\n",
       "alfa-romeo          0.008704\n",
       "porche              0.006217\n",
       "alfa                0.004878\n",
       "land rover          0.003539\n",
       "aston               0.003348\n",
       "aston-martin        0.003348\n",
       "landrover           0.001626\n",
       "morgan              0.000765\n",
       "mercedesbenz        0.000383\n",
       "noble               0.000191\n",
       "hennessey           0.000096\n",
       "Name: manufacturer, dtype: float64"
      ]
     },
     "execution_count": 22,
     "metadata": {},
     "output_type": "execute_result"
    }
   ],
   "source": [
    "(df['manufacturer'][df['title_status'].notnull()].value_counts()/len(df['manufacturer'][df['title_status'].notnull()])).astype(float)*100"
   ]
  },
  {
   "cell_type": "code",
   "execution_count": 23,
   "metadata": {},
   "outputs": [
    {
     "data": {
      "text/plain": [
       "ford             10.161812\n",
       "toyota            9.126214\n",
       "honda             9.126214\n",
       "chevrolet         7.702265\n",
       "nissan            6.343042\n",
       "mazda             4.854369\n",
       "hyundai           4.789644\n",
       "dodge             4.012945\n",
       "subaru            3.754045\n",
       "bmw               3.495146\n",
       "volkswagen        3.495146\n",
       "kia               2.977346\n",
       "jeep              2.653722\n",
       "mercedes-benz     2.394822\n",
       "chrysler          2.006472\n",
       "pontiac           1.941748\n",
       "infiniti          1.618123\n",
       "acura             1.553398\n",
       "gmc               1.423948\n",
       "lexus             1.359223\n",
       "audi              1.229773\n",
       "mitsubishi        1.100324\n",
       "mercedes          1.035599\n",
       "volvo             0.841424\n",
       "mercury           0.841424\n",
       "ram               0.841424\n",
       "cadillac          0.647249\n",
       "buick             0.582524\n",
       "mini              0.517799\n",
       "jaguar            0.453074\n",
       "fiat              0.388350\n",
       "rover             0.323625\n",
       "saturn            0.323625\n",
       "lincoln           0.258900\n",
       "vw                0.194175\n",
       "Name: manufacturer, dtype: float64"
      ]
     },
     "execution_count": 23,
     "metadata": {},
     "output_type": "execute_result"
    }
   ],
   "source": [
    "(df['manufacturer'][df['title_status'].isnull()].value_counts()/len(df['manufacturer'][df['title_status'].isnull()])).astype(float)*100"
   ]
  },
  {
   "cell_type": "markdown",
   "metadata": {},
   "source": [
    "As seen above, there seems no obvious correlation with notnull and isnull of 'title_status' regarding 'make' and 'manufacturer'."
   ]
  },
  {
   "cell_type": "markdown",
   "metadata": {},
   "source": [
    "Let's compare 'type' between two groups in 'title_status': notnull vs. isnull"
   ]
  },
  {
   "cell_type": "code",
   "execution_count": 24,
   "metadata": {},
   "outputs": [
    {
     "data": {
      "text/plain": [
       "sedan          15.377464\n",
       "SUV            14.046286\n",
       "truck           7.513307\n",
       "pickup          7.161694\n",
       "coupe           4.200332\n",
       "hatchback       2.254882\n",
       "convertible     1.785043\n",
       "wagon           1.595271\n",
       "van             1.466429\n",
       "mini-van        1.448829\n",
       "other           1.429890\n",
       "offroad         0.308953\n",
       "bus             0.114399\n",
       "Name: type, dtype: float64"
      ]
     },
     "execution_count": 24,
     "metadata": {},
     "output_type": "execute_result"
    }
   ],
   "source": [
    "(df['type'][df['title_status'].notnull()].value_counts()/len(df['type'][df['title_status'].notnull()])).astype(float)*100"
   ]
  },
  {
   "cell_type": "code",
   "execution_count": 25,
   "metadata": {},
   "outputs": [
    {
     "data": {
      "text/plain": [
       "sedan          5.177994\n",
       "SUV            3.948220\n",
       "pickup         1.941748\n",
       "coupe          0.711974\n",
       "van            0.711974\n",
       "hatchback      0.582524\n",
       "wagon          0.388350\n",
       "convertible    0.194175\n",
       "mini-van       0.064725\n",
       "Name: type, dtype: float64"
      ]
     },
     "execution_count": 25,
     "metadata": {},
     "output_type": "execute_result"
    }
   ],
   "source": [
    "(df['type'][df['title_status'].isnull()].value_counts()/len(df['type'][df['title_status'].isnull()])).astype(float)*100"
   ]
  },
  {
   "cell_type": "markdown",
   "metadata": {},
   "source": [
    "Let's leave rows with null value in 'title_status' in that null value of 'title_status' can be ignorable."
   ]
  },
  {
   "cell_type": "markdown",
   "metadata": {},
   "source": [
    "Let's look into 'trasmission' by value_counts()."
   ]
  },
  {
   "cell_type": "code",
   "execution_count": 26,
   "metadata": {},
   "outputs": [
    {
     "data": {
      "text/plain": [
       "automatic    892959\n",
       "manual       125469\n",
       "other         22766\n",
       "Name: transmission, dtype: int64"
      ]
     },
     "execution_count": 26,
     "metadata": {},
     "output_type": "execute_result"
    }
   ],
   "source": [
    "df['transmission'].value_counts()"
   ]
  },
  {
   "cell_type": "markdown",
   "metadata": {},
   "source": [
    "Now let's take a look at rows whose 'transmission' value is null."
   ]
  },
  {
   "cell_type": "code",
   "execution_count": 27,
   "metadata": {},
   "outputs": [
    {
     "data": {
      "text/html": [
       "<div>\n",
       "<style scoped>\n",
       "    .dataframe tbody tr th:only-of-type {\n",
       "        vertical-align: middle;\n",
       "    }\n",
       "\n",
       "    .dataframe tbody tr th {\n",
       "        vertical-align: top;\n",
       "    }\n",
       "\n",
       "    .dataframe thead th {\n",
       "        text-align: right;\n",
       "    }\n",
       "</style>\n",
       "<table border=\"1\" class=\"dataframe\">\n",
       "  <thead>\n",
       "    <tr style=\"text-align: right;\">\n",
       "      <th></th>\n",
       "      <th>url</th>\n",
       "      <th>city</th>\n",
       "      <th>price</th>\n",
       "      <th>year</th>\n",
       "      <th>manufacturer</th>\n",
       "      <th>make</th>\n",
       "      <th>condition</th>\n",
       "      <th>cylinders</th>\n",
       "      <th>fuel</th>\n",
       "      <th>odometer</th>\n",
       "      <th>title_status</th>\n",
       "      <th>transmission</th>\n",
       "      <th>vin</th>\n",
       "      <th>drive</th>\n",
       "      <th>size</th>\n",
       "      <th>type</th>\n",
       "      <th>paint_color</th>\n",
       "      <th>image_url</th>\n",
       "      <th>lat</th>\n",
       "      <th>long</th>\n",
       "      <th>county_fips</th>\n",
       "      <th>county_name</th>\n",
       "      <th>state_fips</th>\n",
       "      <th>state_code</th>\n",
       "      <th>state_name</th>\n",
       "      <th>weather</th>\n",
       "    </tr>\n",
       "  </thead>\n",
       "  <tbody>\n",
       "    <tr>\n",
       "      <th>7</th>\n",
       "      <td>https://marshall.craigslist.org/ctd/d/2008-bmw...</td>\n",
       "      <td>marshall</td>\n",
       "      <td>3900</td>\n",
       "      <td>2008</td>\n",
       "      <td>bmw</td>\n",
       "      <td>3 series</td>\n",
       "      <td>NaN</td>\n",
       "      <td>NaN</td>\n",
       "      <td>gas</td>\n",
       "      <td>0.0</td>\n",
       "      <td>clean</td>\n",
       "      <td>NaN</td>\n",
       "      <td>WBAVA37508NL47474</td>\n",
       "      <td>NaN</td>\n",
       "      <td>NaN</td>\n",
       "      <td>NaN</td>\n",
       "      <td>NaN</td>\n",
       "      <td>https://images.craigslist.org/00202_8ciATrWst3...</td>\n",
       "      <td>41.622572</td>\n",
       "      <td>-87.632656</td>\n",
       "      <td>17031.0</td>\n",
       "      <td>Cook</td>\n",
       "      <td>17.0</td>\n",
       "      <td>IL</td>\n",
       "      <td>Illinois</td>\n",
       "      <td>48.0</td>\n",
       "    </tr>\n",
       "    <tr>\n",
       "      <th>2079</th>\n",
       "      <td>https://buffalo.craigslist.org/ctd/d/2008-bmw-...</td>\n",
       "      <td>buffalo</td>\n",
       "      <td>8995</td>\n",
       "      <td>2008</td>\n",
       "      <td>bmw</td>\n",
       "      <td>328xi</td>\n",
       "      <td>NaN</td>\n",
       "      <td>NaN</td>\n",
       "      <td>gas</td>\n",
       "      <td>91340.0</td>\n",
       "      <td>clean</td>\n",
       "      <td>NaN</td>\n",
       "      <td>WBAVC93508KZ72509</td>\n",
       "      <td>NaN</td>\n",
       "      <td>compact</td>\n",
       "      <td>sedan</td>\n",
       "      <td>black</td>\n",
       "      <td>https://images.craigslist.org/01313_blKOGJyXhB...</td>\n",
       "      <td>42.863917</td>\n",
       "      <td>-78.754393</td>\n",
       "      <td>36029.0</td>\n",
       "      <td>Erie</td>\n",
       "      <td>36.0</td>\n",
       "      <td>NY</td>\n",
       "      <td>New York</td>\n",
       "      <td>53.0</td>\n",
       "    </tr>\n",
       "    <tr>\n",
       "      <th>2264</th>\n",
       "      <td>https://providence.craigslist.org/ctd/d/2012-f...</td>\n",
       "      <td>providence</td>\n",
       "      <td>6995</td>\n",
       "      <td>2012</td>\n",
       "      <td>ford</td>\n",
       "      <td>fiesta</td>\n",
       "      <td>NaN</td>\n",
       "      <td>NaN</td>\n",
       "      <td>other</td>\n",
       "      <td>73002.0</td>\n",
       "      <td>clean</td>\n",
       "      <td>NaN</td>\n",
       "      <td>3FADP4FJXCM183774</td>\n",
       "      <td>NaN</td>\n",
       "      <td>sub-compact</td>\n",
       "      <td>hatchback</td>\n",
       "      <td>black</td>\n",
       "      <td>https://images.craigslist.org/00p0p_1E1CnNRAjU...</td>\n",
       "      <td>41.868090</td>\n",
       "      <td>-71.509330</td>\n",
       "      <td>44007.0</td>\n",
       "      <td>Providence</td>\n",
       "      <td>44.0</td>\n",
       "      <td>RI</td>\n",
       "      <td>Rhode Island</td>\n",
       "      <td>49.0</td>\n",
       "    </tr>\n",
       "    <tr>\n",
       "      <th>2402</th>\n",
       "      <td>https://providence.craigslist.org/ctd/d/2006-f...</td>\n",
       "      <td>providence</td>\n",
       "      <td>32990</td>\n",
       "      <td>2006</td>\n",
       "      <td>ford</td>\n",
       "      <td>f-550</td>\n",
       "      <td>NaN</td>\n",
       "      <td>NaN</td>\n",
       "      <td>diesel</td>\n",
       "      <td>103939.0</td>\n",
       "      <td>clean</td>\n",
       "      <td>NaN</td>\n",
       "      <td>1FDAF57P66ED20417</td>\n",
       "      <td>4wd</td>\n",
       "      <td>full-size</td>\n",
       "      <td>other</td>\n",
       "      <td>white</td>\n",
       "      <td>https://images.craigslist.org/00000_eHkL6uPf3G...</td>\n",
       "      <td>42.834977</td>\n",
       "      <td>-71.107791</td>\n",
       "      <td>33015.0</td>\n",
       "      <td>Rockingham</td>\n",
       "      <td>33.0</td>\n",
       "      <td>NH</td>\n",
       "      <td>New Hampshire</td>\n",
       "      <td>43.0</td>\n",
       "    </tr>\n",
       "    <tr>\n",
       "      <th>2474</th>\n",
       "      <td>https://daytona.craigslist.org/ctd/d/2012-merc...</td>\n",
       "      <td>daytona</td>\n",
       "      <td>21995</td>\n",
       "      <td>2012</td>\n",
       "      <td>mercedes-benz</td>\n",
       "      <td>e-class</td>\n",
       "      <td>NaN</td>\n",
       "      <td>NaN</td>\n",
       "      <td>gas</td>\n",
       "      <td>NaN</td>\n",
       "      <td>clean</td>\n",
       "      <td>NaN</td>\n",
       "      <td>WDDHF8JB6CA552543</td>\n",
       "      <td>NaN</td>\n",
       "      <td>NaN</td>\n",
       "      <td>sedan</td>\n",
       "      <td>black</td>\n",
       "      <td>https://images.craigslist.org/00g0g_bQb8OB23qW...</td>\n",
       "      <td>28.424030</td>\n",
       "      <td>-81.404090</td>\n",
       "      <td>12095.0</td>\n",
       "      <td>Orange</td>\n",
       "      <td>12.0</td>\n",
       "      <td>FL</td>\n",
       "      <td>Florida</td>\n",
       "      <td>65.0</td>\n",
       "    </tr>\n",
       "    <tr>\n",
       "      <th>...</th>\n",
       "      <td>...</td>\n",
       "      <td>...</td>\n",
       "      <td>...</td>\n",
       "      <td>...</td>\n",
       "      <td>...</td>\n",
       "      <td>...</td>\n",
       "      <td>...</td>\n",
       "      <td>...</td>\n",
       "      <td>...</td>\n",
       "      <td>...</td>\n",
       "      <td>...</td>\n",
       "      <td>...</td>\n",
       "      <td>...</td>\n",
       "      <td>...</td>\n",
       "      <td>...</td>\n",
       "      <td>...</td>\n",
       "      <td>...</td>\n",
       "      <td>...</td>\n",
       "      <td>...</td>\n",
       "      <td>...</td>\n",
       "      <td>...</td>\n",
       "      <td>...</td>\n",
       "      <td>...</td>\n",
       "      <td>...</td>\n",
       "      <td>...</td>\n",
       "      <td>...</td>\n",
       "    </tr>\n",
       "    <tr>\n",
       "      <th>1048900</th>\n",
       "      <td>https://topeka.craigslist.org/ctd/d/2015-gmc-y...</td>\n",
       "      <td>topeka</td>\n",
       "      <td>38995</td>\n",
       "      <td>2015</td>\n",
       "      <td>gmc</td>\n",
       "      <td>yukon</td>\n",
       "      <td>NaN</td>\n",
       "      <td>NaN</td>\n",
       "      <td>NaN</td>\n",
       "      <td>71080.0</td>\n",
       "      <td>clean</td>\n",
       "      <td>NaN</td>\n",
       "      <td>1GKS2CKJXFR174578</td>\n",
       "      <td>NaN</td>\n",
       "      <td>NaN</td>\n",
       "      <td>NaN</td>\n",
       "      <td>NaN</td>\n",
       "      <td>https://images.craigslist.org/00z0z_2z0Jj7eIQL...</td>\n",
       "      <td>38.641900</td>\n",
       "      <td>-94.328500</td>\n",
       "      <td>29037.0</td>\n",
       "      <td>Cass/Van Buren</td>\n",
       "      <td>29.0</td>\n",
       "      <td>MO</td>\n",
       "      <td>Missouri</td>\n",
       "      <td>52.0</td>\n",
       "    </tr>\n",
       "    <tr>\n",
       "      <th>1048906</th>\n",
       "      <td>https://topeka.craigslist.org/ctd/d/2013-ford-...</td>\n",
       "      <td>topeka</td>\n",
       "      <td>38995</td>\n",
       "      <td>2013</td>\n",
       "      <td>ford</td>\n",
       "      <td>f350 super duty crew cab</td>\n",
       "      <td>NaN</td>\n",
       "      <td>NaN</td>\n",
       "      <td>NaN</td>\n",
       "      <td>98741.0</td>\n",
       "      <td>clean</td>\n",
       "      <td>NaN</td>\n",
       "      <td>1FT8W3DT0DEB13074</td>\n",
       "      <td>NaN</td>\n",
       "      <td>NaN</td>\n",
       "      <td>NaN</td>\n",
       "      <td>NaN</td>\n",
       "      <td>https://images.craigslist.org/00c0c_9Pwfu3Xd0R...</td>\n",
       "      <td>38.641900</td>\n",
       "      <td>-94.328500</td>\n",
       "      <td>29037.0</td>\n",
       "      <td>Cass/Van Buren</td>\n",
       "      <td>29.0</td>\n",
       "      <td>MO</td>\n",
       "      <td>Missouri</td>\n",
       "      <td>52.0</td>\n",
       "    </tr>\n",
       "    <tr>\n",
       "      <th>1048907</th>\n",
       "      <td>https://topeka.craigslist.org/ctd/d/2015-ford-...</td>\n",
       "      <td>topeka</td>\n",
       "      <td>22861</td>\n",
       "      <td>2015</td>\n",
       "      <td>ford</td>\n",
       "      <td>explorer</td>\n",
       "      <td>NaN</td>\n",
       "      <td>NaN</td>\n",
       "      <td>NaN</td>\n",
       "      <td>91340.0</td>\n",
       "      <td>clean</td>\n",
       "      <td>NaN</td>\n",
       "      <td>1FM5K8F86FGA95669</td>\n",
       "      <td>NaN</td>\n",
       "      <td>NaN</td>\n",
       "      <td>NaN</td>\n",
       "      <td>NaN</td>\n",
       "      <td>https://images.craigslist.org/00B0B_7WFdpNNUMx...</td>\n",
       "      <td>38.641900</td>\n",
       "      <td>-94.328500</td>\n",
       "      <td>29037.0</td>\n",
       "      <td>Cass/Van Buren</td>\n",
       "      <td>29.0</td>\n",
       "      <td>MO</td>\n",
       "      <td>Missouri</td>\n",
       "      <td>52.0</td>\n",
       "    </tr>\n",
       "    <tr>\n",
       "      <th>1048908</th>\n",
       "      <td>https://topeka.craigslist.org/ctd/d/2013-dodge...</td>\n",
       "      <td>topeka</td>\n",
       "      <td>23335</td>\n",
       "      <td>2013</td>\n",
       "      <td>dodge</td>\n",
       "      <td>durango</td>\n",
       "      <td>NaN</td>\n",
       "      <td>NaN</td>\n",
       "      <td>NaN</td>\n",
       "      <td>88117.0</td>\n",
       "      <td>clean</td>\n",
       "      <td>NaN</td>\n",
       "      <td>1C4SDJCT9DC559544</td>\n",
       "      <td>NaN</td>\n",
       "      <td>NaN</td>\n",
       "      <td>NaN</td>\n",
       "      <td>NaN</td>\n",
       "      <td>https://images.craigslist.org/00w0w_iH2JMTzlGe...</td>\n",
       "      <td>38.641900</td>\n",
       "      <td>-94.328500</td>\n",
       "      <td>29037.0</td>\n",
       "      <td>Cass/Van Buren</td>\n",
       "      <td>29.0</td>\n",
       "      <td>MO</td>\n",
       "      <td>Missouri</td>\n",
       "      <td>52.0</td>\n",
       "    </tr>\n",
       "    <tr>\n",
       "      <th>1048916</th>\n",
       "      <td>https://topeka.craigslist.org/ctd/d/2014-infin...</td>\n",
       "      <td>topeka</td>\n",
       "      <td>31883</td>\n",
       "      <td>2014</td>\n",
       "      <td>infiniti</td>\n",
       "      <td>qx80</td>\n",
       "      <td>NaN</td>\n",
       "      <td>NaN</td>\n",
       "      <td>NaN</td>\n",
       "      <td>91964.0</td>\n",
       "      <td>clean</td>\n",
       "      <td>NaN</td>\n",
       "      <td>JN8AZ2NE2E9063120</td>\n",
       "      <td>NaN</td>\n",
       "      <td>NaN</td>\n",
       "      <td>NaN</td>\n",
       "      <td>NaN</td>\n",
       "      <td>https://images.craigslist.org/00404_62V1mFvNhw...</td>\n",
       "      <td>38.641900</td>\n",
       "      <td>-94.328500</td>\n",
       "      <td>29037.0</td>\n",
       "      <td>Cass/Van Buren</td>\n",
       "      <td>29.0</td>\n",
       "      <td>MO</td>\n",
       "      <td>Missouri</td>\n",
       "      <td>52.0</td>\n",
       "    </tr>\n",
       "  </tbody>\n",
       "</table>\n",
       "<p>5816 rows × 26 columns</p>\n",
       "</div>"
      ],
      "text/plain": [
       "                                                       url        city  price  \\\n",
       "7        https://marshall.craigslist.org/ctd/d/2008-bmw...    marshall   3900   \n",
       "2079     https://buffalo.craigslist.org/ctd/d/2008-bmw-...     buffalo   8995   \n",
       "2264     https://providence.craigslist.org/ctd/d/2012-f...  providence   6995   \n",
       "2402     https://providence.craigslist.org/ctd/d/2006-f...  providence  32990   \n",
       "2474     https://daytona.craigslist.org/ctd/d/2012-merc...     daytona  21995   \n",
       "...                                                    ...         ...    ...   \n",
       "1048900  https://topeka.craigslist.org/ctd/d/2015-gmc-y...      topeka  38995   \n",
       "1048906  https://topeka.craigslist.org/ctd/d/2013-ford-...      topeka  38995   \n",
       "1048907  https://topeka.craigslist.org/ctd/d/2015-ford-...      topeka  22861   \n",
       "1048908  https://topeka.craigslist.org/ctd/d/2013-dodge...      topeka  23335   \n",
       "1048916  https://topeka.craigslist.org/ctd/d/2014-infin...      topeka  31883   \n",
       "\n",
       "         year   manufacturer                      make condition cylinders  \\\n",
       "7        2008            bmw                  3 series       NaN       NaN   \n",
       "2079     2008            bmw                     328xi       NaN       NaN   \n",
       "2264     2012           ford                    fiesta       NaN       NaN   \n",
       "2402     2006           ford                     f-550       NaN       NaN   \n",
       "2474     2012  mercedes-benz                   e-class       NaN       NaN   \n",
       "...       ...            ...                       ...       ...       ...   \n",
       "1048900  2015            gmc                     yukon       NaN       NaN   \n",
       "1048906  2013           ford  f350 super duty crew cab       NaN       NaN   \n",
       "1048907  2015           ford                  explorer       NaN       NaN   \n",
       "1048908  2013          dodge                   durango       NaN       NaN   \n",
       "1048916  2014       infiniti                      qx80       NaN       NaN   \n",
       "\n",
       "           fuel  odometer title_status transmission                vin drive  \\\n",
       "7           gas       0.0        clean          NaN  WBAVA37508NL47474   NaN   \n",
       "2079        gas   91340.0        clean          NaN  WBAVC93508KZ72509   NaN   \n",
       "2264      other   73002.0        clean          NaN  3FADP4FJXCM183774   NaN   \n",
       "2402     diesel  103939.0        clean          NaN  1FDAF57P66ED20417   4wd   \n",
       "2474        gas       NaN        clean          NaN  WDDHF8JB6CA552543   NaN   \n",
       "...         ...       ...          ...          ...                ...   ...   \n",
       "1048900     NaN   71080.0        clean          NaN  1GKS2CKJXFR174578   NaN   \n",
       "1048906     NaN   98741.0        clean          NaN  1FT8W3DT0DEB13074   NaN   \n",
       "1048907     NaN   91340.0        clean          NaN  1FM5K8F86FGA95669   NaN   \n",
       "1048908     NaN   88117.0        clean          NaN  1C4SDJCT9DC559544   NaN   \n",
       "1048916     NaN   91964.0        clean          NaN  JN8AZ2NE2E9063120   NaN   \n",
       "\n",
       "                size       type paint_color  \\\n",
       "7                NaN        NaN         NaN   \n",
       "2079         compact      sedan       black   \n",
       "2264     sub-compact  hatchback       black   \n",
       "2402       full-size      other       white   \n",
       "2474             NaN      sedan       black   \n",
       "...              ...        ...         ...   \n",
       "1048900          NaN        NaN         NaN   \n",
       "1048906          NaN        NaN         NaN   \n",
       "1048907          NaN        NaN         NaN   \n",
       "1048908          NaN        NaN         NaN   \n",
       "1048916          NaN        NaN         NaN   \n",
       "\n",
       "                                                 image_url        lat  \\\n",
       "7        https://images.craigslist.org/00202_8ciATrWst3...  41.622572   \n",
       "2079     https://images.craigslist.org/01313_blKOGJyXhB...  42.863917   \n",
       "2264     https://images.craigslist.org/00p0p_1E1CnNRAjU...  41.868090   \n",
       "2402     https://images.craigslist.org/00000_eHkL6uPf3G...  42.834977   \n",
       "2474     https://images.craigslist.org/00g0g_bQb8OB23qW...  28.424030   \n",
       "...                                                    ...        ...   \n",
       "1048900  https://images.craigslist.org/00z0z_2z0Jj7eIQL...  38.641900   \n",
       "1048906  https://images.craigslist.org/00c0c_9Pwfu3Xd0R...  38.641900   \n",
       "1048907  https://images.craigslist.org/00B0B_7WFdpNNUMx...  38.641900   \n",
       "1048908  https://images.craigslist.org/00w0w_iH2JMTzlGe...  38.641900   \n",
       "1048916  https://images.craigslist.org/00404_62V1mFvNhw...  38.641900   \n",
       "\n",
       "              long  county_fips     county_name  state_fips state_code  \\\n",
       "7       -87.632656      17031.0            Cook        17.0         IL   \n",
       "2079    -78.754393      36029.0            Erie        36.0         NY   \n",
       "2264    -71.509330      44007.0      Providence        44.0         RI   \n",
       "2402    -71.107791      33015.0      Rockingham        33.0         NH   \n",
       "2474    -81.404090      12095.0          Orange        12.0         FL   \n",
       "...            ...          ...             ...         ...        ...   \n",
       "1048900 -94.328500      29037.0  Cass/Van Buren        29.0         MO   \n",
       "1048906 -94.328500      29037.0  Cass/Van Buren        29.0         MO   \n",
       "1048907 -94.328500      29037.0  Cass/Van Buren        29.0         MO   \n",
       "1048908 -94.328500      29037.0  Cass/Van Buren        29.0         MO   \n",
       "1048916 -94.328500      29037.0  Cass/Van Buren        29.0         MO   \n",
       "\n",
       "            state_name  weather  \n",
       "7             Illinois     48.0  \n",
       "2079          New York     53.0  \n",
       "2264      Rhode Island     49.0  \n",
       "2402     New Hampshire     43.0  \n",
       "2474           Florida     65.0  \n",
       "...                ...      ...  \n",
       "1048900       Missouri     52.0  \n",
       "1048906       Missouri     52.0  \n",
       "1048907       Missouri     52.0  \n",
       "1048908       Missouri     52.0  \n",
       "1048916       Missouri     52.0  \n",
       "\n",
       "[5816 rows x 26 columns]"
      ]
     },
     "execution_count": 27,
     "metadata": {},
     "output_type": "execute_result"
    }
   ],
   "source": [
    "df[df['transmission'].isnull()]"
   ]
  },
  {
   "cell_type": "markdown",
   "metadata": {},
   "source": [
    "Let's compare 'make' between two groups in 'transmission': notnull vs. isnull"
   ]
  },
  {
   "cell_type": "code",
   "execution_count": 28,
   "metadata": {},
   "outputs": [
    {
     "data": {
      "text/plain": [
       "1500                      13850\n",
       "f-150                     12902\n",
       "silverado 1500             8661\n",
       "2500                       8055\n",
       "silverado                  7872\n",
       "                          ...  \n",
       "Cheby trailblazer             1\n",
       "F super duty custom           1\n",
       "cargo7000                     1\n",
       "silverado 1500 ls ext.        1\n",
       "2005 F250 crewcab             1\n",
       "Name: make, Length: 75438, dtype: int64"
      ]
     },
     "execution_count": 28,
     "metadata": {},
     "output_type": "execute_result"
    }
   ],
   "source": [
    "df['make'][df['transmission'].notnull()].value_counts()"
   ]
  },
  {
   "cell_type": "code",
   "execution_count": 29,
   "metadata": {},
   "outputs": [
    {
     "data": {
      "text/plain": [
       "altima                 255\n",
       "accord                 149\n",
       "wrangler               126\n",
       "civic                  124\n",
       "silverado              114\n",
       "                      ... \n",
       "promaster                1\n",
       "sentra 2.0               1\n",
       "550i                     1\n",
       "santaf????               1\n",
       "JOHN DEERE 310G 4X4      1\n",
       "Name: make, Length: 994, dtype: int64"
      ]
     },
     "execution_count": 29,
     "metadata": {},
     "output_type": "execute_result"
    }
   ],
   "source": [
    "df['make'][df['transmission'].isnull()].value_counts()"
   ]
  },
  {
   "cell_type": "markdown",
   "metadata": {},
   "source": [
    "Let's keep rows with null value of 'transmission' because of the following reasons:\n",
    "\n",
    "(1) Null values in 'transmission' occupies insignificant portion at below than 1 %.\n",
    "\n",
    "(2) Given such other feature information as 'make', 'manufacturer', or 'type',  it is not available to assume which vehicle should be automatic or manual."
   ]
  },
  {
   "cell_type": "markdown",
   "metadata": {},
   "source": [
    "Let's look into 'title_status' by value_counts()."
   ]
  },
  {
   "cell_type": "code",
   "execution_count": 30,
   "metadata": {},
   "outputs": [
    {
     "data": {
      "text/plain": [
       "gas         928604\n",
       "diesel       75518\n",
       "other        27766\n",
       "hybrid        7055\n",
       "electric      1709\n",
       "Name: fuel, dtype: int64"
      ]
     },
     "execution_count": 30,
     "metadata": {},
     "output_type": "execute_result"
    }
   ],
   "source": [
    "df['fuel'].value_counts()"
   ]
  },
  {
   "cell_type": "markdown",
   "metadata": {},
   "source": [
    "Let's compare 'make' between two groups in 'transmission': notnull vs. isnull"
   ]
  },
  {
   "cell_type": "code",
   "execution_count": 31,
   "metadata": {},
   "outputs": [
    {
     "data": {
      "text/plain": [
       "1500                                13819\n",
       "f-150                               12759\n",
       "silverado 1500                       8398\n",
       "2500                                 8007\n",
       "silverado                            7972\n",
       "                                    ...  \n",
       "ilx tech *certified*                    1\n",
       "lucerne cxl premium                     1\n",
       "silverado 2500hd 6.6L DURAMAX           1\n",
       "Silverado Z71 Crew 4WD Automatic        1\n",
       "1981chevy s10                           1\n",
       "Name: make, Length: 74616, dtype: int64"
      ]
     },
     "execution_count": 31,
     "metadata": {},
     "output_type": "execute_result"
    }
   ],
   "source": [
    "df['make'][df['fuel'].notnull()].value_counts()"
   ]
  },
  {
   "cell_type": "code",
   "execution_count": 32,
   "metadata": {},
   "outputs": [
    {
     "data": {
      "text/plain": [
       "silverado 1500                 264\n",
       "f-150                          234\n",
       "tundra                         115\n",
       "tahoe                           91\n",
       "sierra 1500                     76\n",
       "                              ... \n",
       "taurus 4dr sdn sel fwd           1\n",
       "Porsche Macan AWD 4dr S          1\n",
       "fx35                             1\n",
       "forester 2.5i premium            1\n",
       "cooper countryman fwd 4dr s      1\n",
       "Name: make, Length: 1918, dtype: int64"
      ]
     },
     "execution_count": 32,
     "metadata": {},
     "output_type": "execute_result"
    }
   ],
   "source": [
    "df['make'][df['fuel'].isnull()].value_counts()"
   ]
  },
  {
   "cell_type": "markdown",
   "metadata": {},
   "source": [
    "As seen above, it is also difficult to judge true 'fuel' types for rows whose 'fuel' is null value.  Thus, let's keep 'fuel' as it is because of the following reasons:\n",
    "\n",
    "(1) Null values in 'transmission' occupies insignificant portion at below than 1 %.\n",
    "\n",
    "(2) Given such other feature information as 'make', 'manufacturer', or 'type', it is not available to assume which vehicle should be automatic or manual."
   ]
  },
  {
   "cell_type": "code",
   "execution_count": 33,
   "metadata": {},
   "outputs": [
    {
     "data": {
      "text/plain": [
       "size            65.833660\n",
       "vin             65.002149\n",
       "type            41.363597\n",
       "condition       41.311162\n",
       "paint_color     41.070286\n",
       "cylinders       40.759592\n",
       "drive           38.422174\n",
       "odometer        32.708952\n",
       "manufacturer     7.973276\n",
       "weather          5.628695\n",
       "county_fips      5.571771\n",
       "county_name      5.571771\n",
       "state_fips       5.571771\n",
       "state_code       5.571771\n",
       "make             4.120878\n",
       "fuel             0.607253\n",
       "transmission     0.555487\n",
       "title_status     0.147563\n",
       "image_url        0.000000\n",
       "lat              0.000000\n",
       "long             0.000000\n",
       "state_name       0.000000\n",
       "year             0.000000\n",
       "price            0.000000\n",
       "city             0.000000\n",
       "url              0.000000\n",
       "dtype: float64"
      ]
     },
     "execution_count": 33,
     "metadata": {},
     "output_type": "execute_result"
    }
   ],
   "source": [
    "((df.isnull().sum()/len(df)).sort_values(ascending = False)*100).astype(float)"
   ]
  },
  {
   "cell_type": "markdown",
   "metadata": {},
   "source": [
    "Let's drop rows whose 'make' value is null in that null value of 'make' can not correlation with 'price'."
   ]
  },
  {
   "cell_type": "code",
   "execution_count": 34,
   "metadata": {},
   "outputs": [],
   "source": [
    "df.drop(df[df['make'].isnull()].index, inplace=True)"
   ]
  },
  {
   "cell_type": "code",
   "execution_count": 35,
   "metadata": {},
   "outputs": [
    {
     "data": {
      "text/plain": [
       "size            65.443526\n",
       "vin             63.997115\n",
       "condition       40.731115\n",
       "type            40.423504\n",
       "paint_color     40.141095\n",
       "cylinders       39.954416\n",
       "drive           37.525501\n",
       "odometer        31.379649\n",
       "manufacturer     8.309393\n",
       "weather          5.721891\n",
       "county_fips      5.666007\n",
       "county_name      5.666007\n",
       "state_fips       5.666007\n",
       "state_code       5.666007\n",
       "fuel             0.631161\n",
       "transmission     0.566710\n",
       "title_status     0.152311\n",
       "image_url        0.000000\n",
       "lat              0.000000\n",
       "long             0.000000\n",
       "state_name       0.000000\n",
       "make             0.000000\n",
       "year             0.000000\n",
       "price            0.000000\n",
       "city             0.000000\n",
       "url              0.000000\n",
       "dtype: float64"
      ]
     },
     "execution_count": 35,
     "metadata": {},
     "output_type": "execute_result"
    }
   ],
   "source": [
    "((df.isnull().sum()/len(df)).sort_values(ascending = False)*100).astype(float)"
   ]
  },
  {
   "cell_type": "markdown",
   "metadata": {},
   "source": [
    "Let's take a look into such geographical information as 'lat' and 'long' whose 'county_fips' value is null."
   ]
  },
  {
   "cell_type": "code",
   "execution_count": 36,
   "metadata": {},
   "outputs": [
    {
     "data": {
      "text/html": [
       "<div>\n",
       "<style scoped>\n",
       "    .dataframe tbody tr th:only-of-type {\n",
       "        vertical-align: middle;\n",
       "    }\n",
       "\n",
       "    .dataframe tbody tr th {\n",
       "        vertical-align: top;\n",
       "    }\n",
       "\n",
       "    .dataframe thead th {\n",
       "        text-align: right;\n",
       "    }\n",
       "</style>\n",
       "<table border=\"1\" class=\"dataframe\">\n",
       "  <thead>\n",
       "    <tr style=\"text-align: right;\">\n",
       "      <th></th>\n",
       "      <th>lat</th>\n",
       "      <th>long</th>\n",
       "    </tr>\n",
       "  </thead>\n",
       "  <tbody>\n",
       "    <tr>\n",
       "      <th>8</th>\n",
       "      <td>46.509803</td>\n",
       "      <td>-84.257825</td>\n",
       "    </tr>\n",
       "    <tr>\n",
       "      <th>9</th>\n",
       "      <td>46.514191</td>\n",
       "      <td>-84.291307</td>\n",
       "    </tr>\n",
       "    <tr>\n",
       "      <th>10</th>\n",
       "      <td>46.497529</td>\n",
       "      <td>-84.467464</td>\n",
       "    </tr>\n",
       "    <tr>\n",
       "      <th>11</th>\n",
       "      <td>46.497529</td>\n",
       "      <td>-84.467464</td>\n",
       "    </tr>\n",
       "    <tr>\n",
       "      <th>12</th>\n",
       "      <td>46.517791</td>\n",
       "      <td>-84.342291</td>\n",
       "    </tr>\n",
       "    <tr>\n",
       "      <th>...</th>\n",
       "      <td>...</td>\n",
       "      <td>...</td>\n",
       "    </tr>\n",
       "    <tr>\n",
       "      <th>386914</th>\n",
       "      <td>52.128158</td>\n",
       "      <td>-121.887320</td>\n",
       "    </tr>\n",
       "    <tr>\n",
       "      <th>386915</th>\n",
       "      <td>49.206149</td>\n",
       "      <td>-122.878196</td>\n",
       "    </tr>\n",
       "    <tr>\n",
       "      <th>386916</th>\n",
       "      <td>52.140620</td>\n",
       "      <td>-122.152208</td>\n",
       "    </tr>\n",
       "    <tr>\n",
       "      <th>386940</th>\n",
       "      <td>17.193913</td>\n",
       "      <td>-100.603865</td>\n",
       "    </tr>\n",
       "    <tr>\n",
       "      <th>387058</th>\n",
       "      <td>13.606640</td>\n",
       "      <td>-87.242176</td>\n",
       "    </tr>\n",
       "  </tbody>\n",
       "</table>\n",
       "<p>56879 rows × 2 columns</p>\n",
       "</div>"
      ],
      "text/plain": [
       "              lat        long\n",
       "8       46.509803  -84.257825\n",
       "9       46.514191  -84.291307\n",
       "10      46.497529  -84.467464\n",
       "11      46.497529  -84.467464\n",
       "12      46.517791  -84.342291\n",
       "...           ...         ...\n",
       "386914  52.128158 -121.887320\n",
       "386915  49.206149 -122.878196\n",
       "386916  52.140620 -122.152208\n",
       "386940  17.193913 -100.603865\n",
       "387058  13.606640  -87.242176\n",
       "\n",
       "[56879 rows x 2 columns]"
      ]
     },
     "execution_count": 36,
     "metadata": {},
     "output_type": "execute_result"
    }
   ],
   "source": [
    "df[['lat', 'long']][df['county_fips'].isnull()]"
   ]
  },
  {
   "cell_type": "markdown",
   "metadata": {},
   "source": [
    "Let's trace back to find real location with 'lat' and 'long' information."
   ]
  },
  {
   "cell_type": "code",
   "execution_count": 37,
   "metadata": {},
   "outputs": [
    {
     "name": "stdout",
     "output_type": "stream",
     "text": [
      "Loading formatted geocoded file...\n"
     ]
    },
    {
     "data": {
      "text/html": [
       "<div>\n",
       "<style scoped>\n",
       "    .dataframe tbody tr th:only-of-type {\n",
       "        vertical-align: middle;\n",
       "    }\n",
       "\n",
       "    .dataframe tbody tr th {\n",
       "        vertical-align: top;\n",
       "    }\n",
       "\n",
       "    .dataframe thead th {\n",
       "        text-align: right;\n",
       "    }\n",
       "</style>\n",
       "<table border=\"1\" class=\"dataframe\">\n",
       "  <thead>\n",
       "    <tr style=\"text-align: right;\">\n",
       "      <th></th>\n",
       "      <th>url</th>\n",
       "      <th>city</th>\n",
       "      <th>price</th>\n",
       "      <th>year</th>\n",
       "      <th>manufacturer</th>\n",
       "      <th>make</th>\n",
       "      <th>condition</th>\n",
       "      <th>cylinders</th>\n",
       "      <th>fuel</th>\n",
       "      <th>odometer</th>\n",
       "      <th>title_status</th>\n",
       "      <th>transmission</th>\n",
       "      <th>vin</th>\n",
       "      <th>drive</th>\n",
       "      <th>size</th>\n",
       "      <th>type</th>\n",
       "      <th>paint_color</th>\n",
       "      <th>image_url</th>\n",
       "      <th>lat</th>\n",
       "      <th>long</th>\n",
       "      <th>county_fips</th>\n",
       "      <th>county_name</th>\n",
       "      <th>state_fips</th>\n",
       "      <th>state_code</th>\n",
       "      <th>state_name</th>\n",
       "      <th>weather</th>\n",
       "      <th>city1</th>\n",
       "      <th>state</th>\n",
       "      <th>county</th>\n",
       "    </tr>\n",
       "  </thead>\n",
       "  <tbody>\n",
       "    <tr>\n",
       "      <th>0</th>\n",
       "      <td>https://marshall.craigslist.org/cto/d/2010-dod...</td>\n",
       "      <td>marshall</td>\n",
       "      <td>11900</td>\n",
       "      <td>2010</td>\n",
       "      <td>dodge</td>\n",
       "      <td>challenger se</td>\n",
       "      <td>good</td>\n",
       "      <td>6 cylinders</td>\n",
       "      <td>gas</td>\n",
       "      <td>43600.0</td>\n",
       "      <td>clean</td>\n",
       "      <td>automatic</td>\n",
       "      <td>NaN</td>\n",
       "      <td>rwd</td>\n",
       "      <td>NaN</td>\n",
       "      <td>coupe</td>\n",
       "      <td>red</td>\n",
       "      <td>https://images.craigslist.org/00i0i_2ggH1eKDNK...</td>\n",
       "      <td>43.4775</td>\n",
       "      <td>-96.7041</td>\n",
       "      <td>46083.0</td>\n",
       "      <td>Lincoln</td>\n",
       "      <td>46.0</td>\n",
       "      <td>SD</td>\n",
       "      <td>South Dakota</td>\n",
       "      <td>38.0</td>\n",
       "      <td>Harrisburg</td>\n",
       "      <td>South Dakota</td>\n",
       "      <td>Lincoln County</td>\n",
       "    </tr>\n",
       "    <tr>\n",
       "      <th>1</th>\n",
       "      <td>https://marshall.craigslist.org/cto/d/fleetwoo...</td>\n",
       "      <td>marshall</td>\n",
       "      <td>1515</td>\n",
       "      <td>1999</td>\n",
       "      <td>NaN</td>\n",
       "      <td>fleetwood</td>\n",
       "      <td>NaN</td>\n",
       "      <td>NaN</td>\n",
       "      <td>gas</td>\n",
       "      <td>NaN</td>\n",
       "      <td>clean</td>\n",
       "      <td>other</td>\n",
       "      <td>NaN</td>\n",
       "      <td>NaN</td>\n",
       "      <td>NaN</td>\n",
       "      <td>NaN</td>\n",
       "      <td>NaN</td>\n",
       "      <td>https://images.craigslist.org/00M0M_irjh7SjEcU...</td>\n",
       "      <td>44.7612</td>\n",
       "      <td>-96.6907</td>\n",
       "      <td>46039.0</td>\n",
       "      <td>Deuel</td>\n",
       "      <td>46.0</td>\n",
       "      <td>SD</td>\n",
       "      <td>South Dakota</td>\n",
       "      <td>38.0</td>\n",
       "      <td>Clear Lake</td>\n",
       "      <td>South Dakota</td>\n",
       "      <td>Deuel County</td>\n",
       "    </tr>\n",
       "    <tr>\n",
       "      <th>2</th>\n",
       "      <td>https://marshall.craigslist.org/cto/d/2008-for...</td>\n",
       "      <td>marshall</td>\n",
       "      <td>17550</td>\n",
       "      <td>2008</td>\n",
       "      <td>ford</td>\n",
       "      <td>f-150</td>\n",
       "      <td>NaN</td>\n",
       "      <td>NaN</td>\n",
       "      <td>gas</td>\n",
       "      <td>NaN</td>\n",
       "      <td>clean</td>\n",
       "      <td>automatic</td>\n",
       "      <td>NaN</td>\n",
       "      <td>NaN</td>\n",
       "      <td>NaN</td>\n",
       "      <td>NaN</td>\n",
       "      <td>NaN</td>\n",
       "      <td>https://images.craigslist.org/00s0s_eL2XFhEUcx...</td>\n",
       "      <td>44.1415</td>\n",
       "      <td>-103.2052</td>\n",
       "      <td>46093.0</td>\n",
       "      <td>Meade</td>\n",
       "      <td>46.0</td>\n",
       "      <td>SD</td>\n",
       "      <td>South Dakota</td>\n",
       "      <td>38.0</td>\n",
       "      <td>Rapid City</td>\n",
       "      <td>South Dakota</td>\n",
       "      <td>Pennington County</td>\n",
       "    </tr>\n",
       "    <tr>\n",
       "      <th>3</th>\n",
       "      <td>https://marshall.craigslist.org/cto/d/ford-tau...</td>\n",
       "      <td>marshall</td>\n",
       "      <td>2800</td>\n",
       "      <td>2004</td>\n",
       "      <td>ford</td>\n",
       "      <td>taurus</td>\n",
       "      <td>good</td>\n",
       "      <td>6 cylinders</td>\n",
       "      <td>gas</td>\n",
       "      <td>168591.0</td>\n",
       "      <td>clean</td>\n",
       "      <td>automatic</td>\n",
       "      <td>1FAFP55UO4G113464</td>\n",
       "      <td>fwd</td>\n",
       "      <td>full-size</td>\n",
       "      <td>sedan</td>\n",
       "      <td>grey</td>\n",
       "      <td>https://images.craigslist.org/00L0L_5HUR1nQjt8...</td>\n",
       "      <td>43.2845</td>\n",
       "      <td>-95.5930</td>\n",
       "      <td>19143.0</td>\n",
       "      <td>Osceola</td>\n",
       "      <td>19.0</td>\n",
       "      <td>IA</td>\n",
       "      <td>Iowa</td>\n",
       "      <td>47.0</td>\n",
       "      <td>Sanborn</td>\n",
       "      <td>Iowa</td>\n",
       "      <td>O'Brien County</td>\n",
       "    </tr>\n",
       "    <tr>\n",
       "      <th>4</th>\n",
       "      <td>https://marshall.craigslist.org/cto/d/2001-gra...</td>\n",
       "      <td>marshall</td>\n",
       "      <td>400</td>\n",
       "      <td>2001</td>\n",
       "      <td>NaN</td>\n",
       "      <td>2001 Grand Prix</td>\n",
       "      <td>NaN</td>\n",
       "      <td>NaN</td>\n",
       "      <td>gas</td>\n",
       "      <td>217000.0</td>\n",
       "      <td>clean</td>\n",
       "      <td>automatic</td>\n",
       "      <td>NaN</td>\n",
       "      <td>NaN</td>\n",
       "      <td>NaN</td>\n",
       "      <td>NaN</td>\n",
       "      <td>NaN</td>\n",
       "      <td>https://images.craigslist.org/00n0n_bJJ1XnonSG...</td>\n",
       "      <td>43.0261</td>\n",
       "      <td>-94.4064</td>\n",
       "      <td>19109.0</td>\n",
       "      <td>Kossuth</td>\n",
       "      <td>19.0</td>\n",
       "      <td>IA</td>\n",
       "      <td>Iowa</td>\n",
       "      <td>47.0</td>\n",
       "      <td>Algona</td>\n",
       "      <td>Iowa</td>\n",
       "      <td>Kossuth County</td>\n",
       "    </tr>\n",
       "  </tbody>\n",
       "</table>\n",
       "</div>"
      ],
      "text/plain": [
       "                                                 url      city  price  year  \\\n",
       "0  https://marshall.craigslist.org/cto/d/2010-dod...  marshall  11900  2010   \n",
       "1  https://marshall.craigslist.org/cto/d/fleetwoo...  marshall   1515  1999   \n",
       "2  https://marshall.craigslist.org/cto/d/2008-for...  marshall  17550  2008   \n",
       "3  https://marshall.craigslist.org/cto/d/ford-tau...  marshall   2800  2004   \n",
       "4  https://marshall.craigslist.org/cto/d/2001-gra...  marshall    400  2001   \n",
       "\n",
       "  manufacturer             make condition    cylinders fuel  odometer  \\\n",
       "0        dodge    challenger se      good  6 cylinders  gas   43600.0   \n",
       "1          NaN        fleetwood       NaN          NaN  gas       NaN   \n",
       "2         ford            f-150       NaN          NaN  gas       NaN   \n",
       "3         ford           taurus      good  6 cylinders  gas  168591.0   \n",
       "4          NaN  2001 Grand Prix       NaN          NaN  gas  217000.0   \n",
       "\n",
       "  title_status transmission                vin drive       size   type  \\\n",
       "0        clean    automatic                NaN   rwd        NaN  coupe   \n",
       "1        clean        other                NaN   NaN        NaN    NaN   \n",
       "2        clean    automatic                NaN   NaN        NaN    NaN   \n",
       "3        clean    automatic  1FAFP55UO4G113464   fwd  full-size  sedan   \n",
       "4        clean    automatic                NaN   NaN        NaN    NaN   \n",
       "\n",
       "  paint_color                                          image_url      lat  \\\n",
       "0         red  https://images.craigslist.org/00i0i_2ggH1eKDNK...  43.4775   \n",
       "1         NaN  https://images.craigslist.org/00M0M_irjh7SjEcU...  44.7612   \n",
       "2         NaN  https://images.craigslist.org/00s0s_eL2XFhEUcx...  44.1415   \n",
       "3        grey  https://images.craigslist.org/00L0L_5HUR1nQjt8...  43.2845   \n",
       "4         NaN  https://images.craigslist.org/00n0n_bJJ1XnonSG...  43.0261   \n",
       "\n",
       "       long  county_fips county_name  state_fips state_code    state_name  \\\n",
       "0  -96.7041      46083.0     Lincoln        46.0         SD  South Dakota   \n",
       "1  -96.6907      46039.0       Deuel        46.0         SD  South Dakota   \n",
       "2 -103.2052      46093.0       Meade        46.0         SD  South Dakota   \n",
       "3  -95.5930      19143.0     Osceola        19.0         IA          Iowa   \n",
       "4  -94.4064      19109.0     Kossuth        19.0         IA          Iowa   \n",
       "\n",
       "   weather       city1         state             county  \n",
       "0     38.0  Harrisburg  South Dakota     Lincoln County  \n",
       "1     38.0  Clear Lake  South Dakota       Deuel County  \n",
       "2     38.0  Rapid City  South Dakota  Pennington County  \n",
       "3     47.0     Sanborn          Iowa     O'Brien County  \n",
       "4     47.0      Algona          Iowa     Kossuth County  "
      ]
     },
     "execution_count": 37,
     "metadata": {},
     "output_type": "execute_result"
    }
   ],
   "source": [
    "import reverse_geocoder as rg \n",
    "import pprint \n",
    "\n",
    "def reverseGeocode(coordinates): \n",
    "    result = rg.search(coordinates)\n",
    "    return (result)\n",
    "\n",
    "if __name__==\"__main__\": \n",
    "\n",
    "    coordinates =list(zip(df['lat'],df['long'])) # generates pair of (lat,long)\n",
    "    data = reverseGeocode(coordinates)\n",
    "\n",
    "    df['city1'] = [i['name'] for i in data]\n",
    "    df['state'] = [i['admin1'] for i in data]\n",
    "    df['county'] = [i['admin2'] for i in data]\n",
    "\n",
    "df.head()"
   ]
  },
  {
   "cell_type": "markdown",
   "metadata": {},
   "source": [
    "Let's compare: 'city' vs. 'city1' and 'state_name' vs. 'state'."
   ]
  },
  {
   "cell_type": "code",
   "execution_count": 38,
   "metadata": {},
   "outputs": [
    {
     "data": {
      "text/html": [
       "<div>\n",
       "<style scoped>\n",
       "    .dataframe tbody tr th:only-of-type {\n",
       "        vertical-align: middle;\n",
       "    }\n",
       "\n",
       "    .dataframe tbody tr th {\n",
       "        vertical-align: top;\n",
       "    }\n",
       "\n",
       "    .dataframe thead th {\n",
       "        text-align: right;\n",
       "    }\n",
       "</style>\n",
       "<table border=\"1\" class=\"dataframe\">\n",
       "  <thead>\n",
       "    <tr style=\"text-align: right;\">\n",
       "      <th></th>\n",
       "      <th>city</th>\n",
       "      <th>city1</th>\n",
       "      <th>state_name</th>\n",
       "      <th>state</th>\n",
       "    </tr>\n",
       "  </thead>\n",
       "  <tbody>\n",
       "    <tr>\n",
       "      <th>0</th>\n",
       "      <td>marshall</td>\n",
       "      <td>Harrisburg</td>\n",
       "      <td>South Dakota</td>\n",
       "      <td>South Dakota</td>\n",
       "    </tr>\n",
       "    <tr>\n",
       "      <th>1</th>\n",
       "      <td>marshall</td>\n",
       "      <td>Clear Lake</td>\n",
       "      <td>South Dakota</td>\n",
       "      <td>South Dakota</td>\n",
       "    </tr>\n",
       "    <tr>\n",
       "      <th>2</th>\n",
       "      <td>marshall</td>\n",
       "      <td>Rapid City</td>\n",
       "      <td>South Dakota</td>\n",
       "      <td>South Dakota</td>\n",
       "    </tr>\n",
       "    <tr>\n",
       "      <th>3</th>\n",
       "      <td>marshall</td>\n",
       "      <td>Sanborn</td>\n",
       "      <td>Iowa</td>\n",
       "      <td>Iowa</td>\n",
       "    </tr>\n",
       "    <tr>\n",
       "      <th>4</th>\n",
       "      <td>marshall</td>\n",
       "      <td>Algona</td>\n",
       "      <td>Iowa</td>\n",
       "      <td>Iowa</td>\n",
       "    </tr>\n",
       "    <tr>\n",
       "      <th>...</th>\n",
       "      <td>...</td>\n",
       "      <td>...</td>\n",
       "      <td>...</td>\n",
       "      <td>...</td>\n",
       "    </tr>\n",
       "    <tr>\n",
       "      <th>1049195</th>\n",
       "      <td>topeka</td>\n",
       "      <td>Harrisonville</td>\n",
       "      <td>Missouri</td>\n",
       "      <td>Missouri</td>\n",
       "    </tr>\n",
       "    <tr>\n",
       "      <th>1049196</th>\n",
       "      <td>westky</td>\n",
       "      <td>Jackson</td>\n",
       "      <td>Missouri</td>\n",
       "      <td>Missouri</td>\n",
       "    </tr>\n",
       "    <tr>\n",
       "      <th>1049197</th>\n",
       "      <td>jacksonville</td>\n",
       "      <td>Bel-Nor</td>\n",
       "      <td>Missouri</td>\n",
       "      <td>Missouri</td>\n",
       "    </tr>\n",
       "    <tr>\n",
       "      <th>1049198</th>\n",
       "      <td>quadcities</td>\n",
       "      <td>Moscow Mills</td>\n",
       "      <td>Missouri</td>\n",
       "      <td>Missouri</td>\n",
       "    </tr>\n",
       "    <tr>\n",
       "      <th>1049199</th>\n",
       "      <td>quadcities</td>\n",
       "      <td>Memphis</td>\n",
       "      <td>Missouri</td>\n",
       "      <td>Missouri</td>\n",
       "    </tr>\n",
       "  </tbody>\n",
       "</table>\n",
       "<p>1003864 rows × 4 columns</p>\n",
       "</div>"
      ],
      "text/plain": [
       "                 city          city1    state_name         state\n",
       "0            marshall     Harrisburg  South Dakota  South Dakota\n",
       "1            marshall     Clear Lake  South Dakota  South Dakota\n",
       "2            marshall     Rapid City  South Dakota  South Dakota\n",
       "3            marshall        Sanborn          Iowa          Iowa\n",
       "4            marshall         Algona          Iowa          Iowa\n",
       "...               ...            ...           ...           ...\n",
       "1049195        topeka  Harrisonville      Missouri      Missouri\n",
       "1049196        westky        Jackson      Missouri      Missouri\n",
       "1049197  jacksonville        Bel-Nor      Missouri      Missouri\n",
       "1049198    quadcities   Moscow Mills      Missouri      Missouri\n",
       "1049199    quadcities        Memphis      Missouri      Missouri\n",
       "\n",
       "[1003864 rows x 4 columns]"
      ]
     },
     "execution_count": 38,
     "metadata": {},
     "output_type": "execute_result"
    }
   ],
   "source": [
    "df[['city','city1','state_name','state']]"
   ]
  },
  {
   "cell_type": "markdown",
   "metadata": {},
   "source": [
    "Let's check null values in 'city1' and 'state'."
   ]
  },
  {
   "cell_type": "code",
   "execution_count": 39,
   "metadata": {},
   "outputs": [
    {
     "data": {
      "text/html": [
       "<div>\n",
       "<style scoped>\n",
       "    .dataframe tbody tr th:only-of-type {\n",
       "        vertical-align: middle;\n",
       "    }\n",
       "\n",
       "    .dataframe tbody tr th {\n",
       "        vertical-align: top;\n",
       "    }\n",
       "\n",
       "    .dataframe thead th {\n",
       "        text-align: right;\n",
       "    }\n",
       "</style>\n",
       "<table border=\"1\" class=\"dataframe\">\n",
       "  <thead>\n",
       "    <tr style=\"text-align: right;\">\n",
       "      <th></th>\n",
       "      <th>city</th>\n",
       "      <th>state_name</th>\n",
       "    </tr>\n",
       "  </thead>\n",
       "  <tbody>\n",
       "  </tbody>\n",
       "</table>\n",
       "</div>"
      ],
      "text/plain": [
       "Empty DataFrame\n",
       "Columns: [city, state_name]\n",
       "Index: []"
      ]
     },
     "execution_count": 39,
     "metadata": {},
     "output_type": "execute_result"
    }
   ],
   "source": [
    "df[['city', 'state_name']][df['city1'].isnull()]"
   ]
  },
  {
   "cell_type": "code",
   "execution_count": 40,
   "metadata": {},
   "outputs": [
    {
     "data": {
      "text/html": [
       "<div>\n",
       "<style scoped>\n",
       "    .dataframe tbody tr th:only-of-type {\n",
       "        vertical-align: middle;\n",
       "    }\n",
       "\n",
       "    .dataframe tbody tr th {\n",
       "        vertical-align: top;\n",
       "    }\n",
       "\n",
       "    .dataframe thead th {\n",
       "        text-align: right;\n",
       "    }\n",
       "</style>\n",
       "<table border=\"1\" class=\"dataframe\">\n",
       "  <thead>\n",
       "    <tr style=\"text-align: right;\">\n",
       "      <th></th>\n",
       "      <th>city</th>\n",
       "      <th>state_name</th>\n",
       "    </tr>\n",
       "  </thead>\n",
       "  <tbody>\n",
       "  </tbody>\n",
       "</table>\n",
       "</div>"
      ],
      "text/plain": [
       "Empty DataFrame\n",
       "Columns: [city, state_name]\n",
       "Index: []"
      ]
     },
     "execution_count": 40,
     "metadata": {},
     "output_type": "execute_result"
    }
   ],
   "source": [
    "df[['city', 'state_name']][df['state'].isnull()]"
   ]
  },
  {
   "cell_type": "markdown",
   "metadata": {},
   "source": [
    "Let's check different values of rows between 'city' and 'city1'."
   ]
  },
  {
   "cell_type": "code",
   "execution_count": 41,
   "metadata": {},
   "outputs": [
    {
     "data": {
      "text/html": [
       "<div>\n",
       "<style scoped>\n",
       "    .dataframe tbody tr th:only-of-type {\n",
       "        vertical-align: middle;\n",
       "    }\n",
       "\n",
       "    .dataframe tbody tr th {\n",
       "        vertical-align: top;\n",
       "    }\n",
       "\n",
       "    .dataframe thead th {\n",
       "        text-align: right;\n",
       "    }\n",
       "</style>\n",
       "<table border=\"1\" class=\"dataframe\">\n",
       "  <thead>\n",
       "    <tr style=\"text-align: right;\">\n",
       "      <th></th>\n",
       "      <th>city</th>\n",
       "      <th>city1</th>\n",
       "      <th>state_name</th>\n",
       "      <th>state</th>\n",
       "    </tr>\n",
       "  </thead>\n",
       "  <tbody>\n",
       "    <tr>\n",
       "      <th>0</th>\n",
       "      <td>marshall</td>\n",
       "      <td>Harrisburg</td>\n",
       "      <td>South Dakota</td>\n",
       "      <td>South Dakota</td>\n",
       "    </tr>\n",
       "    <tr>\n",
       "      <th>1</th>\n",
       "      <td>marshall</td>\n",
       "      <td>Clear Lake</td>\n",
       "      <td>South Dakota</td>\n",
       "      <td>South Dakota</td>\n",
       "    </tr>\n",
       "    <tr>\n",
       "      <th>2</th>\n",
       "      <td>marshall</td>\n",
       "      <td>Rapid City</td>\n",
       "      <td>South Dakota</td>\n",
       "      <td>South Dakota</td>\n",
       "    </tr>\n",
       "    <tr>\n",
       "      <th>3</th>\n",
       "      <td>marshall</td>\n",
       "      <td>Sanborn</td>\n",
       "      <td>Iowa</td>\n",
       "      <td>Iowa</td>\n",
       "    </tr>\n",
       "    <tr>\n",
       "      <th>4</th>\n",
       "      <td>marshall</td>\n",
       "      <td>Algona</td>\n",
       "      <td>Iowa</td>\n",
       "      <td>Iowa</td>\n",
       "    </tr>\n",
       "    <tr>\n",
       "      <th>...</th>\n",
       "      <td>...</td>\n",
       "      <td>...</td>\n",
       "      <td>...</td>\n",
       "      <td>...</td>\n",
       "    </tr>\n",
       "    <tr>\n",
       "      <th>1049195</th>\n",
       "      <td>topeka</td>\n",
       "      <td>Harrisonville</td>\n",
       "      <td>Missouri</td>\n",
       "      <td>Missouri</td>\n",
       "    </tr>\n",
       "    <tr>\n",
       "      <th>1049196</th>\n",
       "      <td>westky</td>\n",
       "      <td>Jackson</td>\n",
       "      <td>Missouri</td>\n",
       "      <td>Missouri</td>\n",
       "    </tr>\n",
       "    <tr>\n",
       "      <th>1049197</th>\n",
       "      <td>jacksonville</td>\n",
       "      <td>Bel-Nor</td>\n",
       "      <td>Missouri</td>\n",
       "      <td>Missouri</td>\n",
       "    </tr>\n",
       "    <tr>\n",
       "      <th>1049198</th>\n",
       "      <td>quadcities</td>\n",
       "      <td>Moscow Mills</td>\n",
       "      <td>Missouri</td>\n",
       "      <td>Missouri</td>\n",
       "    </tr>\n",
       "    <tr>\n",
       "      <th>1049199</th>\n",
       "      <td>quadcities</td>\n",
       "      <td>Memphis</td>\n",
       "      <td>Missouri</td>\n",
       "      <td>Missouri</td>\n",
       "    </tr>\n",
       "  </tbody>\n",
       "</table>\n",
       "<p>1003864 rows × 4 columns</p>\n",
       "</div>"
      ],
      "text/plain": [
       "                 city          city1    state_name         state\n",
       "0            marshall     Harrisburg  South Dakota  South Dakota\n",
       "1            marshall     Clear Lake  South Dakota  South Dakota\n",
       "2            marshall     Rapid City  South Dakota  South Dakota\n",
       "3            marshall        Sanborn          Iowa          Iowa\n",
       "4            marshall         Algona          Iowa          Iowa\n",
       "...               ...            ...           ...           ...\n",
       "1049195        topeka  Harrisonville      Missouri      Missouri\n",
       "1049196        westky        Jackson      Missouri      Missouri\n",
       "1049197  jacksonville        Bel-Nor      Missouri      Missouri\n",
       "1049198    quadcities   Moscow Mills      Missouri      Missouri\n",
       "1049199    quadcities        Memphis      Missouri      Missouri\n",
       "\n",
       "[1003864 rows x 4 columns]"
      ]
     },
     "execution_count": 41,
     "metadata": {},
     "output_type": "execute_result"
    }
   ],
   "source": [
    "df[['city','city1','state_name','state']][df['city'] != df['city1']]"
   ]
  },
  {
   "cell_type": "markdown",
   "metadata": {},
   "source": [
    "Let's check different values of rows between 'state_name' and 'state'."
   ]
  },
  {
   "cell_type": "code",
   "execution_count": 42,
   "metadata": {},
   "outputs": [
    {
     "data": {
      "text/html": [
       "<div>\n",
       "<style scoped>\n",
       "    .dataframe tbody tr th:only-of-type {\n",
       "        vertical-align: middle;\n",
       "    }\n",
       "\n",
       "    .dataframe tbody tr th {\n",
       "        vertical-align: top;\n",
       "    }\n",
       "\n",
       "    .dataframe thead th {\n",
       "        text-align: right;\n",
       "    }\n",
       "</style>\n",
       "<table border=\"1\" class=\"dataframe\">\n",
       "  <thead>\n",
       "    <tr style=\"text-align: right;\">\n",
       "      <th></th>\n",
       "      <th>city</th>\n",
       "      <th>city1</th>\n",
       "      <th>state_name</th>\n",
       "      <th>state</th>\n",
       "    </tr>\n",
       "  </thead>\n",
       "  <tbody>\n",
       "    <tr>\n",
       "      <th>8</th>\n",
       "      <td>soo</td>\n",
       "      <td>Sault Ste. Marie</td>\n",
       "      <td>FAILED</td>\n",
       "      <td>Ontario</td>\n",
       "    </tr>\n",
       "    <tr>\n",
       "      <th>9</th>\n",
       "      <td>soo</td>\n",
       "      <td>Sault Ste. Marie</td>\n",
       "      <td>FAILED</td>\n",
       "      <td>Ontario</td>\n",
       "    </tr>\n",
       "    <tr>\n",
       "      <th>10</th>\n",
       "      <td>soo</td>\n",
       "      <td>Sault Ste. Marie</td>\n",
       "      <td>FAILED</td>\n",
       "      <td>Michigan</td>\n",
       "    </tr>\n",
       "    <tr>\n",
       "      <th>11</th>\n",
       "      <td>soo</td>\n",
       "      <td>Sault Ste. Marie</td>\n",
       "      <td>FAILED</td>\n",
       "      <td>Michigan</td>\n",
       "    </tr>\n",
       "    <tr>\n",
       "      <th>12</th>\n",
       "      <td>soo</td>\n",
       "      <td>Sault Ste. Marie</td>\n",
       "      <td>FAILED</td>\n",
       "      <td>Ontario</td>\n",
       "    </tr>\n",
       "    <tr>\n",
       "      <th>...</th>\n",
       "      <td>...</td>\n",
       "      <td>...</td>\n",
       "      <td>...</td>\n",
       "      <td>...</td>\n",
       "    </tr>\n",
       "    <tr>\n",
       "      <th>1044798</th>\n",
       "      <td>springfield</td>\n",
       "      <td>Bella Vista</td>\n",
       "      <td>Missouri</td>\n",
       "      <td>Arkansas</td>\n",
       "    </tr>\n",
       "    <tr>\n",
       "      <th>1046452</th>\n",
       "      <td>columbiamo</td>\n",
       "      <td>Leawood</td>\n",
       "      <td>Missouri</td>\n",
       "      <td>Kansas</td>\n",
       "    </tr>\n",
       "    <tr>\n",
       "      <th>1046913</th>\n",
       "      <td>columbiamo</td>\n",
       "      <td>Mission Hills</td>\n",
       "      <td>Missouri</td>\n",
       "      <td>Kansas</td>\n",
       "    </tr>\n",
       "    <tr>\n",
       "      <th>1047948</th>\n",
       "      <td>columbiamo</td>\n",
       "      <td>Clinton</td>\n",
       "      <td>Misq\u001e",
       "mP</td>\n",
       "      <td>Missouri</td>\n",
       "    </tr>\n",
       "    <tr>\n",
       "      <th>1048840</th>\n",
       "      <td>topeka</td>\n",
       "      <td>Leawood</td>\n",
       "      <td>Missouri</td>\n",
       "      <td>Kansas</td>\n",
       "    </tr>\n",
       "  </tbody>\n",
       "</table>\n",
       "<p>66487 rows × 4 columns</p>\n",
       "</div>"
      ],
      "text/plain": [
       "                city             city1 state_name     state\n",
       "8                soo  Sault Ste. Marie     FAILED   Ontario\n",
       "9                soo  Sault Ste. Marie     FAILED   Ontario\n",
       "10               soo  Sault Ste. Marie     FAILED  Michigan\n",
       "11               soo  Sault Ste. Marie     FAILED  Michigan\n",
       "12               soo  Sault Ste. Marie     FAILED   Ontario\n",
       "...              ...               ...        ...       ...\n",
       "1044798  springfield       Bella Vista   Missouri  Arkansas\n",
       "1046452   columbiamo           Leawood   Missouri    Kansas\n",
       "1046913   columbiamo     Mission Hills   Missouri    Kansas\n",
       "1047948   columbiamo           Clinton    Misq\n",
       "mP  Missouri\n",
       "1048840       topeka           Leawood   Missouri    Kansas\n",
       "\n",
       "[66487 rows x 4 columns]"
      ]
     },
     "execution_count": 42,
     "metadata": {},
     "output_type": "execute_result"
    }
   ],
   "source": [
    "df[['city','city1','state_name','state']][df['state_name'] != df['state']]"
   ]
  },
  {
   "cell_type": "markdown",
   "metadata": {},
   "source": [
    "Let's drop 'city', 'state_name' and other unnecessary columns."
   ]
  },
  {
   "cell_type": "code",
   "execution_count": 43,
   "metadata": {},
   "outputs": [
    {
     "data": {
      "text/html": [
       "<div>\n",
       "<style scoped>\n",
       "    .dataframe tbody tr th:only-of-type {\n",
       "        vertical-align: middle;\n",
       "    }\n",
       "\n",
       "    .dataframe tbody tr th {\n",
       "        vertical-align: top;\n",
       "    }\n",
       "\n",
       "    .dataframe thead th {\n",
       "        text-align: right;\n",
       "    }\n",
       "</style>\n",
       "<table border=\"1\" class=\"dataframe\">\n",
       "  <thead>\n",
       "    <tr style=\"text-align: right;\">\n",
       "      <th></th>\n",
       "      <th>url</th>\n",
       "      <th>city</th>\n",
       "      <th>price</th>\n",
       "      <th>year</th>\n",
       "      <th>manufacturer</th>\n",
       "      <th>make</th>\n",
       "      <th>condition</th>\n",
       "      <th>cylinders</th>\n",
       "      <th>fuel</th>\n",
       "      <th>odometer</th>\n",
       "      <th>title_status</th>\n",
       "      <th>transmission</th>\n",
       "      <th>vin</th>\n",
       "      <th>drive</th>\n",
       "      <th>size</th>\n",
       "      <th>type</th>\n",
       "      <th>paint_color</th>\n",
       "      <th>image_url</th>\n",
       "      <th>lat</th>\n",
       "      <th>long</th>\n",
       "      <th>county_fips</th>\n",
       "      <th>county_name</th>\n",
       "      <th>state_fips</th>\n",
       "      <th>state_code</th>\n",
       "      <th>state_name</th>\n",
       "      <th>weather</th>\n",
       "      <th>city1</th>\n",
       "      <th>state</th>\n",
       "      <th>county</th>\n",
       "    </tr>\n",
       "  </thead>\n",
       "  <tbody>\n",
       "    <tr>\n",
       "      <th>0</th>\n",
       "      <td>https://marshall.craigslist.org/cto/d/2010-dod...</td>\n",
       "      <td>marshall</td>\n",
       "      <td>11900</td>\n",
       "      <td>2010</td>\n",
       "      <td>dodge</td>\n",
       "      <td>challenger se</td>\n",
       "      <td>good</td>\n",
       "      <td>6 cylinders</td>\n",
       "      <td>gas</td>\n",
       "      <td>43600.0</td>\n",
       "      <td>clean</td>\n",
       "      <td>automatic</td>\n",
       "      <td>NaN</td>\n",
       "      <td>rwd</td>\n",
       "      <td>NaN</td>\n",
       "      <td>coupe</td>\n",
       "      <td>red</td>\n",
       "      <td>https://images.craigslist.org/00i0i_2ggH1eKDNK...</td>\n",
       "      <td>43.4775</td>\n",
       "      <td>-96.7041</td>\n",
       "      <td>46083.0</td>\n",
       "      <td>Lincoln</td>\n",
       "      <td>46.0</td>\n",
       "      <td>SD</td>\n",
       "      <td>South Dakota</td>\n",
       "      <td>38.0</td>\n",
       "      <td>Harrisburg</td>\n",
       "      <td>South Dakota</td>\n",
       "      <td>Lincoln County</td>\n",
       "    </tr>\n",
       "    <tr>\n",
       "      <th>1</th>\n",
       "      <td>https://marshall.craigslist.org/cto/d/fleetwoo...</td>\n",
       "      <td>marshall</td>\n",
       "      <td>1515</td>\n",
       "      <td>1999</td>\n",
       "      <td>NaN</td>\n",
       "      <td>fleetwood</td>\n",
       "      <td>NaN</td>\n",
       "      <td>NaN</td>\n",
       "      <td>gas</td>\n",
       "      <td>NaN</td>\n",
       "      <td>clean</td>\n",
       "      <td>other</td>\n",
       "      <td>NaN</td>\n",
       "      <td>NaN</td>\n",
       "      <td>NaN</td>\n",
       "      <td>NaN</td>\n",
       "      <td>NaN</td>\n",
       "      <td>https://images.craigslist.org/00M0M_irjh7SjEcU...</td>\n",
       "      <td>44.7612</td>\n",
       "      <td>-96.6907</td>\n",
       "      <td>46039.0</td>\n",
       "      <td>Deuel</td>\n",
       "      <td>46.0</td>\n",
       "      <td>SD</td>\n",
       "      <td>South Dakota</td>\n",
       "      <td>38.0</td>\n",
       "      <td>Clear Lake</td>\n",
       "      <td>South Dakota</td>\n",
       "      <td>Deuel County</td>\n",
       "    </tr>\n",
       "    <tr>\n",
       "      <th>2</th>\n",
       "      <td>https://marshall.craigslist.org/cto/d/2008-for...</td>\n",
       "      <td>marshall</td>\n",
       "      <td>17550</td>\n",
       "      <td>2008</td>\n",
       "      <td>ford</td>\n",
       "      <td>f-150</td>\n",
       "      <td>NaN</td>\n",
       "      <td>NaN</td>\n",
       "      <td>gas</td>\n",
       "      <td>NaN</td>\n",
       "      <td>clean</td>\n",
       "      <td>automatic</td>\n",
       "      <td>NaN</td>\n",
       "      <td>NaN</td>\n",
       "      <td>NaN</td>\n",
       "      <td>NaN</td>\n",
       "      <td>NaN</td>\n",
       "      <td>https://images.craigslist.org/00s0s_eL2XFhEUcx...</td>\n",
       "      <td>44.1415</td>\n",
       "      <td>-103.2052</td>\n",
       "      <td>46093.0</td>\n",
       "      <td>Meade</td>\n",
       "      <td>46.0</td>\n",
       "      <td>SD</td>\n",
       "      <td>South Dakota</td>\n",
       "      <td>38.0</td>\n",
       "      <td>Rapid City</td>\n",
       "      <td>South Dakota</td>\n",
       "      <td>Pennington County</td>\n",
       "    </tr>\n",
       "    <tr>\n",
       "      <th>3</th>\n",
       "      <td>https://marshall.craigslist.org/cto/d/ford-tau...</td>\n",
       "      <td>marshall</td>\n",
       "      <td>2800</td>\n",
       "      <td>2004</td>\n",
       "      <td>ford</td>\n",
       "      <td>taurus</td>\n",
       "      <td>good</td>\n",
       "      <td>6 cylinders</td>\n",
       "      <td>gas</td>\n",
       "      <td>168591.0</td>\n",
       "      <td>clean</td>\n",
       "      <td>automatic</td>\n",
       "      <td>1FAFP55UO4G113464</td>\n",
       "      <td>fwd</td>\n",
       "      <td>full-size</td>\n",
       "      <td>sedan</td>\n",
       "      <td>grey</td>\n",
       "      <td>https://images.craigslist.org/00L0L_5HUR1nQjt8...</td>\n",
       "      <td>43.2845</td>\n",
       "      <td>-95.5930</td>\n",
       "      <td>19143.0</td>\n",
       "      <td>Osceola</td>\n",
       "      <td>19.0</td>\n",
       "      <td>IA</td>\n",
       "      <td>Iowa</td>\n",
       "      <td>47.0</td>\n",
       "      <td>Sanborn</td>\n",
       "      <td>Iowa</td>\n",
       "      <td>O'Brien County</td>\n",
       "    </tr>\n",
       "    <tr>\n",
       "      <th>4</th>\n",
       "      <td>https://marshall.craigslist.org/cto/d/2001-gra...</td>\n",
       "      <td>marshall</td>\n",
       "      <td>400</td>\n",
       "      <td>2001</td>\n",
       "      <td>NaN</td>\n",
       "      <td>2001 Grand Prix</td>\n",
       "      <td>NaN</td>\n",
       "      <td>NaN</td>\n",
       "      <td>gas</td>\n",
       "      <td>217000.0</td>\n",
       "      <td>clean</td>\n",
       "      <td>automatic</td>\n",
       "      <td>NaN</td>\n",
       "      <td>NaN</td>\n",
       "      <td>NaN</td>\n",
       "      <td>NaN</td>\n",
       "      <td>NaN</td>\n",
       "      <td>https://images.craigslist.org/00n0n_bJJ1XnonSG...</td>\n",
       "      <td>43.0261</td>\n",
       "      <td>-94.4064</td>\n",
       "      <td>19109.0</td>\n",
       "      <td>Kossuth</td>\n",
       "      <td>19.0</td>\n",
       "      <td>IA</td>\n",
       "      <td>Iowa</td>\n",
       "      <td>47.0</td>\n",
       "      <td>Algona</td>\n",
       "      <td>Iowa</td>\n",
       "      <td>Kossuth County</td>\n",
       "    </tr>\n",
       "  </tbody>\n",
       "</table>\n",
       "</div>"
      ],
      "text/plain": [
       "                                                 url      city  price  year  \\\n",
       "0  https://marshall.craigslist.org/cto/d/2010-dod...  marshall  11900  2010   \n",
       "1  https://marshall.craigslist.org/cto/d/fleetwoo...  marshall   1515  1999   \n",
       "2  https://marshall.craigslist.org/cto/d/2008-for...  marshall  17550  2008   \n",
       "3  https://marshall.craigslist.org/cto/d/ford-tau...  marshall   2800  2004   \n",
       "4  https://marshall.craigslist.org/cto/d/2001-gra...  marshall    400  2001   \n",
       "\n",
       "  manufacturer             make condition    cylinders fuel  odometer  \\\n",
       "0        dodge    challenger se      good  6 cylinders  gas   43600.0   \n",
       "1          NaN        fleetwood       NaN          NaN  gas       NaN   \n",
       "2         ford            f-150       NaN          NaN  gas       NaN   \n",
       "3         ford           taurus      good  6 cylinders  gas  168591.0   \n",
       "4          NaN  2001 Grand Prix       NaN          NaN  gas  217000.0   \n",
       "\n",
       "  title_status transmission                vin drive       size   type  \\\n",
       "0        clean    automatic                NaN   rwd        NaN  coupe   \n",
       "1        clean        other                NaN   NaN        NaN    NaN   \n",
       "2        clean    automatic                NaN   NaN        NaN    NaN   \n",
       "3        clean    automatic  1FAFP55UO4G113464   fwd  full-size  sedan   \n",
       "4        clean    automatic                NaN   NaN        NaN    NaN   \n",
       "\n",
       "  paint_color                                          image_url      lat  \\\n",
       "0         red  https://images.craigslist.org/00i0i_2ggH1eKDNK...  43.4775   \n",
       "1         NaN  https://images.craigslist.org/00M0M_irjh7SjEcU...  44.7612   \n",
       "2         NaN  https://images.craigslist.org/00s0s_eL2XFhEUcx...  44.1415   \n",
       "3        grey  https://images.craigslist.org/00L0L_5HUR1nQjt8...  43.2845   \n",
       "4         NaN  https://images.craigslist.org/00n0n_bJJ1XnonSG...  43.0261   \n",
       "\n",
       "       long  county_fips county_name  state_fips state_code    state_name  \\\n",
       "0  -96.7041      46083.0     Lincoln        46.0         SD  South Dakota   \n",
       "1  -96.6907      46039.0       Deuel        46.0         SD  South Dakota   \n",
       "2 -103.2052      46093.0       Meade        46.0         SD  South Dakota   \n",
       "3  -95.5930      19143.0     Osceola        19.0         IA          Iowa   \n",
       "4  -94.4064      19109.0     Kossuth        19.0         IA          Iowa   \n",
       "\n",
       "   weather       city1         state             county  \n",
       "0     38.0  Harrisburg  South Dakota     Lincoln County  \n",
       "1     38.0  Clear Lake  South Dakota       Deuel County  \n",
       "2     38.0  Rapid City  South Dakota  Pennington County  \n",
       "3     47.0     Sanborn          Iowa     O'Brien County  \n",
       "4     47.0      Algona          Iowa     Kossuth County  "
      ]
     },
     "execution_count": 43,
     "metadata": {},
     "output_type": "execute_result"
    }
   ],
   "source": [
    "df.head()"
   ]
  },
  {
   "cell_type": "code",
   "execution_count": 44,
   "metadata": {},
   "outputs": [],
   "source": [
    "df.drop(['url','city', 'state_name','vin', 'paint_color', 'image_url',\n",
    "        'lat', 'long', 'county_fips', 'county_name',\n",
    "        'state_fips', 'state_code', 'state_name'], axis = 1, inplace=True)"
   ]
  },
  {
   "cell_type": "markdown",
   "metadata": {},
   "source": [
    "Let's replace column name, 'city1' to 'city'."
   ]
  },
  {
   "cell_type": "code",
   "execution_count": 45,
   "metadata": {},
   "outputs": [],
   "source": [
    "df = df.rename(columns = {\"city1\":\"city\"}) "
   ]
  },
  {
   "cell_type": "code",
   "execution_count": 46,
   "metadata": {},
   "outputs": [
    {
     "data": {
      "text/plain": [
       "Index(['price', 'year', 'manufacturer', 'make', 'condition', 'cylinders',\n",
       "       'fuel', 'odometer', 'title_status', 'transmission', 'drive', 'size',\n",
       "       'type', 'weather', 'city', 'state', 'county'],\n",
       "      dtype='object')"
      ]
     },
     "execution_count": 46,
     "metadata": {},
     "output_type": "execute_result"
    }
   ],
   "source": [
    "df.columns"
   ]
  },
  {
   "cell_type": "code",
   "execution_count": 47,
   "metadata": {},
   "outputs": [
    {
     "data": {
      "text/plain": [
       "size            65.443526\n",
       "condition       40.731115\n",
       "type            40.423504\n",
       "cylinders       39.954416\n",
       "drive           37.525501\n",
       "odometer        31.379649\n",
       "manufacturer     8.309393\n",
       "weather          5.721891\n",
       "fuel             0.631161\n",
       "transmission     0.566710\n",
       "title_status     0.152311\n",
       "make             0.000000\n",
       "year             0.000000\n",
       "county           0.000000\n",
       "state            0.000000\n",
       "city             0.000000\n",
       "price            0.000000\n",
       "dtype: float64"
      ]
     },
     "execution_count": 47,
     "metadata": {},
     "output_type": "execute_result"
    }
   ],
   "source": [
    "((df.isnull().sum()/len(df)).sort_values(ascending = False)*100).astype(float)"
   ]
  },
  {
   "cell_type": "markdown",
   "metadata": {},
   "source": [
    "Let's do value_counts on 'make'."
   ]
  },
  {
   "cell_type": "code",
   "execution_count": 48,
   "metadata": {},
   "outputs": [
    {
     "data": {
      "text/plain": [
       "1500                     13875\n",
       "f-150                    12993\n",
       "silverado 1500            8662\n",
       "2500                      8066\n",
       "silverado                 7986\n",
       "                         ...  \n",
       "Nash Advanced 8 Coupe        1\n",
       "xterra pro 4 x               1\n",
       "Silverado 1500 LTZ           1\n",
       "cobra convertible            1\n",
       "1981chevy s10                1\n",
       "Name: make, Length: 75652, dtype: int64"
      ]
     },
     "execution_count": 48,
     "metadata": {},
     "output_type": "execute_result"
    }
   ],
   "source": [
    "df['make'].value_counts()"
   ]
  },
  {
   "cell_type": "markdown",
   "metadata": {},
   "source": [
    "'1500' seems have several different versions of its names.  So let's take a look at all rows having '1500' in the column, 'make'."
   ]
  },
  {
   "cell_type": "code",
   "execution_count": 49,
   "metadata": {},
   "outputs": [
    {
     "data": {
      "text/html": [
       "<div>\n",
       "<style scoped>\n",
       "    .dataframe tbody tr th:only-of-type {\n",
       "        vertical-align: middle;\n",
       "    }\n",
       "\n",
       "    .dataframe tbody tr th {\n",
       "        vertical-align: top;\n",
       "    }\n",
       "\n",
       "    .dataframe thead th {\n",
       "        text-align: right;\n",
       "    }\n",
       "</style>\n",
       "<table border=\"1\" class=\"dataframe\">\n",
       "  <thead>\n",
       "    <tr style=\"text-align: right;\">\n",
       "      <th></th>\n",
       "      <th>make</th>\n",
       "      <th>manufacturer</th>\n",
       "    </tr>\n",
       "  </thead>\n",
       "  <tbody>\n",
       "    <tr>\n",
       "      <th>17</th>\n",
       "      <td>1500 laramie</td>\n",
       "      <td>ram</td>\n",
       "    </tr>\n",
       "    <tr>\n",
       "      <th>178</th>\n",
       "      <td>sierra 1500</td>\n",
       "      <td>gmc</td>\n",
       "    </tr>\n",
       "    <tr>\n",
       "      <th>180</th>\n",
       "      <td>1500 sierra</td>\n",
       "      <td>gmc</td>\n",
       "    </tr>\n",
       "    <tr>\n",
       "      <th>193</th>\n",
       "      <td>sierra 1500</td>\n",
       "      <td>gmc</td>\n",
       "    </tr>\n",
       "    <tr>\n",
       "      <th>214</th>\n",
       "      <td>1500 sierra</td>\n",
       "      <td>gmc</td>\n",
       "    </tr>\n",
       "    <tr>\n",
       "      <th>...</th>\n",
       "      <td>...</td>\n",
       "      <td>...</td>\n",
       "    </tr>\n",
       "    <tr>\n",
       "      <th>1049182</th>\n",
       "      <td>sierra 1500 crew cab</td>\n",
       "      <td>gmc</td>\n",
       "    </tr>\n",
       "    <tr>\n",
       "      <th>1049183</th>\n",
       "      <td>1500 crew cab</td>\n",
       "      <td>ram</td>\n",
       "    </tr>\n",
       "    <tr>\n",
       "      <th>1049188</th>\n",
       "      <td>1500 crew cab</td>\n",
       "      <td>ram</td>\n",
       "    </tr>\n",
       "    <tr>\n",
       "      <th>1049191</th>\n",
       "      <td>yukon xl 1500</td>\n",
       "      <td>gmc</td>\n",
       "    </tr>\n",
       "    <tr>\n",
       "      <th>1049198</th>\n",
       "      <td>1500</td>\n",
       "      <td>ram</td>\n",
       "    </tr>\n",
       "  </tbody>\n",
       "</table>\n",
       "<p>53134 rows × 2 columns</p>\n",
       "</div>"
      ],
      "text/plain": [
       "                         make manufacturer\n",
       "17               1500 laramie          ram\n",
       "178               sierra 1500          gmc\n",
       "180               1500 sierra          gmc\n",
       "193               sierra 1500          gmc\n",
       "214               1500 sierra          gmc\n",
       "...                       ...          ...\n",
       "1049182  sierra 1500 crew cab          gmc\n",
       "1049183         1500 crew cab          ram\n",
       "1049188         1500 crew cab          ram\n",
       "1049191         yukon xl 1500          gmc\n",
       "1049198                  1500          ram\n",
       "\n",
       "[53134 rows x 2 columns]"
      ]
     },
     "execution_count": 49,
     "metadata": {},
     "output_type": "execute_result"
    }
   ],
   "source": [
    "df_1500=df[['make','manufacturer']][df['make'].str.contains('1500')]\n",
    "df_1500"
   ]
  },
  {
   "cell_type": "code",
   "execution_count": 50,
   "metadata": {},
   "outputs": [
    {
     "data": {
      "text/plain": [
       "1500                  13875\n",
       "silverado 1500         8662\n",
       "1500 silverado         4889\n",
       "sierra 1500            3082\n",
       "1500 sierra            2940\n",
       "                      ...  \n",
       "Silverado SL 1500         1\n",
       "1500 yukon xl sle         1\n",
       "rt pickup 1500            1\n",
       "1500 slt 5.7              1\n",
       "silverado 4x4 1500        1\n",
       "Name: make, Length: 2154, dtype: int64"
      ]
     },
     "execution_count": 50,
     "metadata": {},
     "output_type": "execute_result"
    }
   ],
   "source": [
    "df_1500['make'].value_counts()"
   ]
  },
  {
   "cell_type": "code",
   "execution_count": 51,
   "metadata": {},
   "outputs": [
    {
     "data": {
      "text/plain": [
       "chevrolet    22284\n",
       "ram          14681\n",
       "gmc          10939\n",
       "chevy         2633\n",
       "dodge         2022\n",
       "nissan          19\n",
       "chev            12\n",
       "ford             6\n",
       "cadillac         3\n",
       "lincoln          1\n",
       "Name: manufacturer, dtype: int64"
      ]
     },
     "execution_count": 51,
     "metadata": {},
     "output_type": "execute_result"
    }
   ],
   "source": [
    "df_1500['manufacturer'].value_counts()"
   ]
  },
  {
   "cell_type": "markdown",
   "metadata": {},
   "source": [
    "It is difficult to normalzie make containing '1500', but it will be easier to normalize 'manufacturer'; for example, from 'chevy' or 'chev' to 'chevrolet'."
   ]
  },
  {
   "cell_type": "markdown",
   "metadata": {},
   "source": [
    "Before doing this, let's make all values in the dataframe as lowercase for better data normalization."
   ]
  },
  {
   "cell_type": "code",
   "execution_count": 52,
   "metadata": {},
   "outputs": [],
   "source": [
    "df['manufacturer'] = df['manufacturer'].str.lower() \n",
    "df['make'] = df['make'].str.lower() \n",
    "df['condition'] = df['condition'].str.lower() \n",
    "df['cylinders'] = df['cylinders'].str.lower() \n",
    "df['fuel'] = df['fuel'].str.lower() \n",
    "df['title_status'] = df['title_status'].str.lower() \n",
    "df['transmission'] = df['transmission'].str.lower() \n",
    "df['drive'] = df['drive'].str.lower() \n",
    "df['size'] = df['size'].str.lower() \n",
    "df['type'] = df['type'].str.lower() "
   ]
  },
  {
   "cell_type": "code",
   "execution_count": 53,
   "metadata": {
    "scrolled": false
   },
   "outputs": [],
   "source": [
    "df['manufacturer'].replace(to_replace=\"chev\",value=\"chevrolet\",inplace=True)\n",
    "df['manufacturer'].replace(to_replace=\"chevy\",value=\"chevrolet\",inplace=True)\n",
    "df.drop_duplicates(inplace=True)"
   ]
  },
  {
   "cell_type": "code",
   "execution_count": 54,
   "metadata": {},
   "outputs": [
    {
     "data": {
      "text/plain": [
       "ford               130984\n",
       "chevrolet          115720\n",
       "toyota              55180\n",
       "honda               44109\n",
       "nissan              35685\n",
       "jeep                34932\n",
       "dodge               34496\n",
       "gmc                 30571\n",
       "ram                 20980\n",
       "bmw                 20182\n",
       "volkswagen          15300\n",
       "subaru              14974\n",
       "hyundai             14112\n",
       "chrysler            13822\n",
       "mercedes-benz       11399\n",
       "cadillac            11163\n",
       "mazda               11051\n",
       "kia                 10765\n",
       "buick               10562\n",
       "pontiac             10268\n",
       "lexus                9379\n",
       "acura                8729\n",
       "audi                 7545\n",
       "lincoln              5936\n",
       "infiniti             5350\n",
       "volvo                5248\n",
       "mitsubishi           4978\n",
       "mercury              4842\n",
       "saturn               4365\n",
       "mercedes             3819\n",
       "mini                 3186\n",
       "vw                   2300\n",
       "rover                2133\n",
       "jaguar               1999\n",
       "fiat                  872\n",
       "datsun                319\n",
       "infinity              263\n",
       "harley-davidson       230\n",
       "harley                118\n",
       "ferrari               111\n",
       "alfa-romeo             83\n",
       "porche                 51\n",
       "alfa                   44\n",
       "land rover             32\n",
       "aston-martin           27\n",
       "aston                  22\n",
       "landrover              14\n",
       "mercedesbenz            4\n",
       "morgan                  2\n",
       "noble                   1\n",
       "hennessey               1\n",
       "Name: manufacturer, dtype: int64"
      ]
     },
     "execution_count": 54,
     "metadata": {},
     "output_type": "execute_result"
    }
   ],
   "source": [
    "df['manufacturer'].value_counts()"
   ]
  },
  {
   "cell_type": "code",
   "execution_count": 55,
   "metadata": {},
   "outputs": [],
   "source": [
    "df['manufacturer'].replace(to_replace=\"vw\",value=\"volkswagen\",inplace=True)\n",
    "df.drop_duplicates(inplace=True)"
   ]
  },
  {
   "cell_type": "code",
   "execution_count": 56,
   "metadata": {},
   "outputs": [],
   "source": [
    "df['manufacturer'].replace(to_replace=\"mercedes\",value=\"mercedes-benz\",inplace=True)\n",
    "df['manufacturer'].replace(to_replace=\"mercedesbenz\",value=\"mercedes-benz\",inplace=True)\n",
    "df.drop_duplicates(inplace=True)"
   ]
  },
  {
   "cell_type": "code",
   "execution_count": 57,
   "metadata": {},
   "outputs": [],
   "source": [
    "df['manufacturer'].replace(to_replace=\"infinity\",value=\"infiniti\",inplace=True)\n",
    "df.drop_duplicates(inplace=True)"
   ]
  },
  {
   "cell_type": "markdown",
   "metadata": {},
   "source": [
    "'land rover' seems have several different versions of its names(landrover or rover). So let's make it normalized into 'land rover'."
   ]
  },
  {
   "cell_type": "code",
   "execution_count": 58,
   "metadata": {
    "scrolled": true
   },
   "outputs": [
    {
     "data": {
      "text/plain": [
       "sport                                                433\n",
       "hse                                                  182\n",
       "evoque                                               164\n",
       "discovery                                            137\n",
       "lr3                                                  104\n",
       "lr4                                                   83\n",
       "lr2                                                   73\n",
       "discovery 2                                           70\n",
       "discovery sport                                       58\n",
       "sport hse                                             56\n",
       "lr2 hse                                               47\n",
       "superchar                                             32\n",
       "lr4 hse                                               32\n",
       "defender 90                                           30\n",
       "defender                                              24\n",
       "defender 110                                          23\n",
       "freelander                                            22\n",
       "lr3 hse                                               22\n",
       "discovery ii                                          21\n",
       "discovery se                                          20\n",
       "lr3 se                                                20\n",
       "sport supercharged                                    18\n",
       "sc                                                    16\n",
       "discovery series ii                                   14\n",
       "discovery se7                                         13\n",
       "supercharged                                          12\n",
       "discovery sport hse                                   11\n",
       "hse sport                                             10\n",
       "lr3 v8 se                                             10\n",
       "4                                                     10\n",
       "classic                                                9\n",
       "sport se                                               9\n",
       "lr2 se                                                 9\n",
       "4.6                                                    8\n",
       "evoque se                                              7\n",
       "evoque pure plus                                       6\n",
       "series iii                                             6\n",
       "velar                                                  6\n",
       "4.6 hse                                                6\n",
       "evoque d                                               6\n",
       "hse 4wd                                                5\n",
       "lr4 hse lux                                            5\n",
       "series 3                                               5\n",
       "sport sc                                               5\n",
       "hse lux                                                5\n",
       "supercha                                               4\n",
       "sport sup                                              4\n",
       "sport hse lux                                          4\n",
       "range                                                  4\n",
       "sport 4wd 4dr hse lux                                  4\n",
       "p2                                                     4\n",
       "evoque dynamic                                         4\n",
       "spo                                                    4\n",
       "sport 4wd 4dr hse                                      4\n",
       "sport svr                                              3\n",
       "discovery 1                                            3\n",
       "discover                                               3\n",
       "defender d90                                           3\n",
       "defender 130                                           3\n",
       "discovery le                                           3\n",
       "series iia                                             3\n",
       "discovery ii se7                                       3\n",
       "lux                                                    3\n",
       "hse supercharged                                       3\n",
       "freelander 5-door                                      3\n",
       "109                                                    3\n",
       "lr4 hse lux edition                                    2\n",
       "4.4                                                    2\n",
       "discovery series 2                                     2\n",
       "4wd 4dr hse                                            2\n",
       "sport s/c                                              2\n",
       "sport lux                                              2\n",
       "lr2 hse awd                                            2\n",
       "sport hse luxury                                       2\n",
       "autobiogr                                              2\n",
       "lr4 hse v6 3.0l                                        2\n",
       "county                                                 2\n",
       "lr4 hse plus                                           2\n",
       "supercharged 4x4                                       2\n",
       "mhs                                                    2\n",
       "super nice                                             2\n",
       "sport hs                                               2\n",
       "series 2a                                              2\n",
       "lr4 4wd 4dr v8 lux                                     2\n",
       "discovery hse 12k mi                                   2\n",
       "sport su                                               2\n",
       "sport supercharged.                                    2\n",
       "lr 4                                                   2\n",
       "4.4 hse                                                2\n",
       "series ii                                              2\n",
       "lr2 w/ tech package                                    1\n",
       "range evoque prestige                                  1\n",
       "velar r-                                               1\n",
       "evoque pure 4d sport utility automatic                 1\n",
       "range sport                                            1\n",
       "range velar p250 base                                  1\n",
       "discovery 4d suv v6 hse automatic                      1\n",
       "series 1                                               1\n",
       "lr4 hse automatic                                      1\n",
       "range 3.0l v6                                          1\n",
       "range sport 5.0l v8                                    1\n",
       "discovery v8i se                                       1\n",
       "spt/hse/lux                                            1\n",
       "sport supercharged s                                   1\n",
       "l3 2006                                                1\n",
       "ownering                                               1\n",
       "supercharger                                           1\n",
       "mileseagenes                                           1\n",
       "lr4 4d sport utility automatic                         1\n",
       "sv autobiography                                       1\n",
       "range discovery                                        1\n",
       "lr4 hse 4x4                                            1\n",
       "defender series ii                                     1\n",
       "p38                                                    1\n",
       "lr4 - hse silver                                       1\n",
       "004 land                                               1\n",
       "santana                                                1\n",
       "le3 se                                                 1\n",
       "90                                                     1\n",
       "-                                                      1\n",
       "v8                                                     1\n",
       "range evoque se                                        1\n",
       "lr-4 xxv                                               1\n",
       "like discovery                                         1\n",
       "evoque prestige                                        1\n",
       "discovery sport hse lux automatic                      1\n",
       "frerlander se                                          1\n",
       "2000tc                                                 1\n",
       "d2                                                     1\n",
       "hse diesel                                             1\n",
       "county lwb                                             1\n",
       "101 fc series iii                                      1\n",
       "lwb                                                    1\n",
       "full size                                              1\n",
       "free lander                                            1\n",
       "lr3 v8                                                 1\n",
       "evoke                                                  1\n",
       "lr2 4x4                                                1\n",
       "discovery ii se                                        1\n",
       "discovery 2004                                         1\n",
       "3500s                                                  1\n",
       "range rove                                             1\n",
       "sport hse 4x4 4dr suv w/ luxury package automatic      1\n",
       "sport hse lux 4x4 4dr suv automatic                    1\n",
       "limited edition                                        1\n",
       "hse 4fwd                                               1\n",
       "4x4                                                    1\n",
       "hse texas edition                                      1\n",
       "discovery 2 se                                         1\n",
       "evoque pu                                              1\n",
       "series 2                                               1\n",
       "evoque 4d sav dynamic automatic                        1\n",
       "hse leath                                              1\n",
       "hse show-room cond.                                    1\n",
       "50th anniversary                                       1\n",
       "ser. 111                                               1\n",
       "discovery ii 1999                                      1\n",
       "power                                                  1\n",
       "lr 3                                                   1\n",
       "5.0 supercharged                                       1\n",
       "range evoque dynamic                                   1\n",
       "disc                                                   1\n",
       "evo                                                    1\n",
       "sport utility pack                                     1\n",
       "sd7                                                    1\n",
       "land                                                   1\n",
       "sport hse sport util                                   1\n",
       "evoque se premium                                      1\n",
       "dse                                                    1\n",
       "sport 4wd hse automatic                                1\n",
       "defender 110 lhd                                       1\n",
       "defender lr3                                           1\n",
       "4wd 4dr hse lux                                        1\n",
       "sport supper charge                                    1\n",
       "defender 90 200tdi                                     1\n",
       "lr4 hse silver edition                                 1\n",
       "sport hse td6                                          1\n",
       "lr3 4wd                                                1\n",
       "evoque j                                               1\n",
       "discovery series 1                                     1\n",
       "evoque 5dr hb pure                                     1\n",
       "evoque 5dr hb pure plus                                1\n",
       "fwdersens                                              1\n",
       "range 5.0l v8                                          1\n",
       "series lla                                             1\n",
       "evoque 2dr cpe dynamic premium                         1\n",
       "discovery sprt se*4wd                                  1\n",
       "lr3 se v8                                              1\n",
       "disco ii                                               1\n",
       "sport hse diesel                                       1\n",
       "sport v6                                               1\n",
       "evoque dy                                              1\n",
       "hse td6                                                1\n",
       "lr#                                                    1\n",
       "hse luxury                                             1\n",
       "lovrings                                               1\n",
       "lr4 hse lux le                                         1\n",
       "discovery first editi                                  1\n",
       "super                                                  1\n",
       "range sport 3.0l v6                                    1\n",
       "4.0 se                                                 1\n",
       "(range rover)                                          1\n",
       "4.0 hse                                                1\n",
       "rrc lwb                                                1\n",
       "hse / fully loaded / rear dvd monitors                 1\n",
       "lr 2                                                   1\n",
       "scroll                                                 1\n",
       "sport diesel                                           1\n",
       "apogeurian                                             1\n",
       "sport utility pkg                                      1\n",
       "spo hse                                                1\n",
       "fteelander                                             1\n",
       "evoque hse dynamic                                     1\n",
       "4.6 awd                                                1\n",
       "hse 4.6 p38                                            1\n",
       "limo                                                   1\n",
       "suv auto                                               1\n",
       "evoque co                                              1\n",
       "devender 90                                            1\n",
       "autobiography v8                                       1\n",
       "sport hse lux 4x4 4d                                   1\n",
       "sport hse * 4wd * **navi **                            1\n",
       "disovery 2                                             1\n",
       "discovery s1                                           1\n",
       "lr3 se v8 4x4                                          1\n",
       "defender santana 109                                   1\n",
       "immaculatengenes                                       1\n",
       "110                                                    1\n",
       "lr4/lr3                                                1\n",
       "109 series 3                                           1\n",
       "evoque hse                                             1\n",
       "se                                                     1\n",
       "sport supper                                           1\n",
       "lr2 hse - awd - panoramic - navi -                     1\n",
       "lr3 hse v8                                             1\n",
       "pure plus                                              1\n",
       "3500s p6                                               1\n",
       "evoque pure, 1 owner,                                  1\n",
       "vogue hse                                              1\n",
       "Name: make, dtype: int64"
      ]
     },
     "execution_count": 58,
     "metadata": {},
     "output_type": "execute_result"
    }
   ],
   "source": [
    "df['make'][df['manufacturer'] =='rover'].value_counts()"
   ]
  },
  {
   "cell_type": "code",
   "execution_count": 59,
   "metadata": {},
   "outputs": [
    {
     "data": {
      "text/plain": [
       "discovery            9\n",
       "freelander           5\n",
       "lr2                  3\n",
       "sport supercharge    2\n",
       "lr3                  2\n",
       "defender             2\n",
       "rangerover           1\n",
       "disco                1\n",
       "lr2 se               1\n",
       "rangerover sport     1\n",
       "lr4                  1\n",
       "series 2a            1\n",
       "lr3 - hse            1\n",
       "discovery ii         1\n",
       "santana              1\n",
       "Name: make, dtype: int64"
      ]
     },
     "execution_count": 59,
     "metadata": {},
     "output_type": "execute_result"
    }
   ],
   "source": [
    "df['make'][df['manufacturer'] =='land rover'].value_counts()"
   ]
  },
  {
   "cell_type": "code",
   "execution_count": 60,
   "metadata": {},
   "outputs": [
    {
     "data": {
      "text/plain": [
       "discovery            4\n",
       "lr3                  2\n",
       "freelander se        1\n",
       "safari               1\n",
       "discovery se         1\n",
       "santana              1\n",
       "sport supercharge    1\n",
       "discovery se 7       1\n",
       "discovery 2          1\n",
       "lr2                  1\n",
       "Name: make, dtype: int64"
      ]
     },
     "execution_count": 60,
     "metadata": {},
     "output_type": "execute_result"
    }
   ],
   "source": [
    "df['make'][df['manufacturer'] =='landrover'].value_counts()"
   ]
  },
  {
   "cell_type": "code",
   "execution_count": 61,
   "metadata": {},
   "outputs": [],
   "source": [
    "df['manufacturer'].replace(to_replace=\"landrover\",value=\"land rover\",inplace=True)\n",
    "df['manufacturer'].replace(to_replace=\"rover\",value=\"land rover\",inplace=True)\n",
    "df.drop_duplicates(inplace=True)"
   ]
  },
  {
   "cell_type": "code",
   "execution_count": 62,
   "metadata": {
    "scrolled": true
   },
   "outputs": [
    {
     "data": {
      "text/plain": [
       "davidson                                             77\n",
       "davidson dyna wide glide                              6\n",
       "davidson ultra classic                                5\n",
       "davidson electra glide                                5\n",
       "davidson street glide                                 4\n",
       "davidson road king                                    4\n",
       "trike                                                 4\n",
       "davidson sportster                                    4\n",
       "davidson 1200 sportster                               3\n",
       "davidson heritage softail                             3\n",
       "sportster                                             2\n",
       "fat boy                                               2\n",
       "davidson electra glide st                             2\n",
       "edition                                               2\n",
       "ultra classic                                         2\n",
       "davidson softail deluxe                               2\n",
       "davidson heritage classic                             2\n",
       "road king                                             2\n",
       "davison                                               2\n",
       "harle                                                 2\n",
       "street glide                                          2\n",
       "davidson dyna super glide                             2\n",
       "davidson s/c                                          2\n",
       "davidson fat boy                                      2\n",
       "davidson fatboy                                       2\n",
       "davidson deuce                                        1\n",
       "davidson softail custom                               1\n",
       "touring                                               1\n",
       "davidson sportster 1200 c                             1\n",
       "davidson heritag                                      1\n",
       "davidson cvo fat boy                                  1\n",
       "45cc                                                  1\n",
       "davidson fxr                                          1\n",
       "davidson f150,                                        1\n",
       "softail                                               1\n",
       "davidson 4dr supercrew 2wd styleside sb automatic     1\n",
       "davidson road king custom                             1\n",
       "davidson f150                                         1\n",
       "davidson v rod night rod                              1\n",
       "flstsb                                                1\n",
       "davidson soft tail                                    1\n",
       "flstc                                                 1\n",
       "street glide flhx                                     1\n",
       "davidson breakout                                     1\n",
       "custom street glide                                   1\n",
       "4x4                                                   1\n",
       "sportster xl50                                        1\n",
       "davidson xl1200 xl1200                                1\n",
       "davidson fxstd                                        1\n",
       "davidson ultra limited                                1\n",
       "street 750                                            1\n",
       "davidson electra glide ul                             1\n",
       "sportster sport                                       1\n",
       "davidson 883 iron                                     1\n",
       "xl883l                                                1\n",
       "4wd                                                   1\n",
       "sporster 1200                                         1\n",
       "flstfi                                                1\n",
       "davidson 4x4                                          1\n",
       "davidsoster trike                                     1\n",
       "davidson dyna                                         1\n",
       "electra glide                                         1\n",
       "davidson fltrxs road glid                             1\n",
       "heritage softail                                      1\n",
       "davidson xlt f350                                     1\n",
       "roadking                                              1\n",
       "classic                                               1\n",
       "fxstdi                                                1\n",
       "davidson flstfi fat                                   1\n",
       "davidson big dog chopper                              1\n",
       "indian                                                1\n",
       "xl 1200c                                              1\n",
       "davidson fxst                                         1\n",
       "davidson ed.                                          1\n",
       "flht                                                  1\n",
       "ironhead                                              1\n",
       "flhc                                                  1\n",
       "seventy-two                                           1\n",
       "davidson dyna low rider                               1\n",
       "davidson nightster                                    1\n",
       "davidson 1200 nightster                               1\n",
       "davidson steel glide                                  1\n",
       "night train                                           1\n",
       "davidson xl883 sportster                              1\n",
       "1200 sportster                                        1\n",
       "springer                                              1\n",
       "davidson springer fxsts                               1\n",
       "xl 1200                                               1\n",
       "davidson flhr / road king                             1\n",
       "davidson roadking classic                             1\n",
       "davidson streetglide                                  1\n",
       "davidson electra glide???????â?????????? u           1\n",
       "davidson ultra classic lo                             1\n",
       "davidson fltrxs / road gl                             1\n",
       "davidson softail standard                             1\n",
       "davidson fxdb103/street b                             1\n",
       "davidson springer                                     1\n",
       "davidson fat bob                                      1\n",
       "crew                                                  1\n",
       "fxdwg                                                 1\n",
       "davidson road king shrine                             1\n",
       "edition f-150                                         1\n",
       "davidson flstc103/heritag                             1\n",
       "davidson road glide                                   1\n",
       "4dr s                                                 1\n",
       "davidson mc ultra                                     1\n",
       "davidson flhtk                                        1\n",
       "super glide                                           1\n",
       "vrscdx                                                1\n",
       "davidson street bob                                   1\n",
       "Name: make, dtype: int64"
      ]
     },
     "execution_count": 62,
     "metadata": {},
     "output_type": "execute_result"
    }
   ],
   "source": [
    "df['make'][df['manufacturer'] =='harley-davidson'].value_counts()"
   ]
  },
  {
   "cell_type": "code",
   "execution_count": 63,
   "metadata": {
    "scrolled": true
   },
   "outputs": [
    {
     "data": {
      "text/plain": [
       "davidson                     48\n",
       "davidson road king            9\n",
       "davidson 1200 sportster       5\n",
       "davidson sportster            5\n",
       "davidson street glide         4\n",
       "davidson electra glide ul     2\n",
       "davidson fat boy              2\n",
       "davidson wide glide           2\n",
       "davidson dyna wide glide      2\n",
       "custom street glide           2\n",
       "davidson dyna                 2\n",
       "davidson electra glide        2\n",
       "street glide                  2\n",
       "davison                       2\n",
       "45cc                          1\n",
       "davidson fatboy               1\n",
       "davidson xl 1200c             1\n",
       "2002                          1\n",
       "1200                          1\n",
       "davidson ultra classic lo     1\n",
       "sportster                     1\n",
       "softail                       1\n",
       "davidson heritage softail     1\n",
       "deuce                         1\n",
       "davidson flhr / road king     1\n",
       "davidson fxstb night          1\n",
       "davidson ultra classic        1\n",
       "1200 sportster                1\n",
       "davidson/ sporster            1\n",
       "883                           1\n",
       "davidson 883 sportster        1\n",
       "davidson v rod                1\n",
       "davidson flstn 103            1\n",
       "truck                         1\n",
       "davidson f150                 1\n",
       "xl                            1\n",
       "davidson flstc103/heritag     1\n",
       "davidson electra glide st     1\n",
       "davidson softail              1\n",
       "f-150                         1\n",
       "edition                       1\n",
       "davidson jd jc                1\n",
       "davidson softail deluxe       1\n",
       "Name: make, dtype: int64"
      ]
     },
     "execution_count": 63,
     "metadata": {},
     "output_type": "execute_result"
    }
   ],
   "source": [
    "df['make'][df['manufacturer'] =='harley'].value_counts()"
   ]
  },
  {
   "cell_type": "code",
   "execution_count": 64,
   "metadata": {},
   "outputs": [],
   "source": [
    "df['manufacturer'].replace(to_replace=\"harley\",value=\"harley-davidson\",inplace=True)\n",
    "df.drop_duplicates(inplace=True)"
   ]
  },
  {
   "cell_type": "code",
   "execution_count": 65,
   "metadata": {},
   "outputs": [
    {
     "data": {
      "text/plain": [
       "romeo spider                20\n",
       "romeo                       16\n",
       "romeo spider veloce          9\n",
       "romeo spider graduate        7\n",
       "romeo spider veloce 2000     5\n",
       "romeo 164                    4\n",
       "romeo stelvio                3\n",
       "romeo milano                 2\n",
       "romeo giulia                 2\n",
       "romeo gtv6                   2\n",
       "romeo milano gold            1\n",
       "romeo stelvio titanium       1\n",
       "romeo giulia ti awd          1\n",
       "graduate                     1\n",
       "romeo giulia q4 sport        1\n",
       "romeo 4c spider              1\n",
       "romeo spider.                1\n",
       "romeo giulia gt              1\n",
       "romeo gtv-6                  1\n",
       "sprint                       1\n",
       "romeo 4c coupe               1\n",
       "romeo alfetta gtv coupe      1\n",
       "romero spider veloce         1\n",
       "Name: make, dtype: int64"
      ]
     },
     "execution_count": 65,
     "metadata": {},
     "output_type": "execute_result"
    }
   ],
   "source": [
    "df['make'][df['manufacturer'] =='alfa-romeo'].value_counts()"
   ]
  },
  {
   "cell_type": "code",
   "execution_count": 66,
   "metadata": {},
   "outputs": [
    {
     "data": {
      "text/plain": [
       "romeo spider                12\n",
       "romeo spider veloce 2000     5\n",
       "romeo spider veloce          5\n",
       "romeo spider graduate        2\n",
       "romeo                        2\n",
       "romeo giulia                 2\n",
       "romeo gtv 6                  1\n",
       "romeo race car               1\n",
       "spider                       1\n",
       "romeo stelvio titanium       1\n",
       "romeo s.p.a. stelvio         1\n",
       "romeo alfetta gtv coupe      1\n",
       "romeo 164                    1\n",
       "romeo milano                 1\n",
       "romeo stelvio                1\n",
       "romeo milano gold            1\n",
       "romeo gtv                    1\n",
       "romeo spider voloce          1\n",
       "romeo spider 2000 veloce     1\n",
       "spider convertible           1\n",
       "romeo 164ls                  1\n",
       "romero spider veloce         1\n",
       "Name: make, dtype: int64"
      ]
     },
     "execution_count": 66,
     "metadata": {},
     "output_type": "execute_result"
    }
   ],
   "source": [
    "df['make'][df['manufacturer'] =='alfa'].value_counts()"
   ]
  },
  {
   "cell_type": "code",
   "execution_count": 67,
   "metadata": {},
   "outputs": [],
   "source": [
    "df['manufacturer'].replace(to_replace=\"alfa\",value=\"alfa-romeo\",inplace=True)\n",
    "df.drop_duplicates(inplace=True)"
   ]
  },
  {
   "cell_type": "code",
   "execution_count": 68,
   "metadata": {},
   "outputs": [
    {
     "data": {
      "text/plain": [
       "martin v8 vantage      9\n",
       "martin db9             4\n",
       "martin vantage         4\n",
       "martin db7             3\n",
       "martin vantage v8 1    3\n",
       "martin vanquish        1\n",
       "martin db9 volante     1\n",
       "martin dbs             1\n",
       "martin vantage db7     1\n",
       "Name: make, dtype: int64"
      ]
     },
     "execution_count": 68,
     "metadata": {},
     "output_type": "execute_result"
    }
   ],
   "source": [
    "df['make'][df['manufacturer'] =='aston-martin'].value_counts()"
   ]
  },
  {
   "cell_type": "code",
   "execution_count": 69,
   "metadata": {},
   "outputs": [
    {
     "data": {
      "text/plain": [
       "martin db9             5\n",
       "martin v8 vantage      4\n",
       "martin db7             3\n",
       "martin vantage v8 1    2\n",
       "martin vantage         2\n",
       "martin vantage db7     1\n",
       "martin rapide          1\n",
       "martin                 1\n",
       "martin db7 vantage     1\n",
       "martin db9 volante     1\n",
       "martin vanquish s      1\n",
       "Name: make, dtype: int64"
      ]
     },
     "execution_count": 69,
     "metadata": {},
     "output_type": "execute_result"
    }
   ],
   "source": [
    "df['make'][df['manufacturer'] =='aston'].value_counts()"
   ]
  },
  {
   "cell_type": "code",
   "execution_count": 70,
   "metadata": {},
   "outputs": [],
   "source": [
    "df['manufacturer'].replace(to_replace=\"aston\",value=\"aston-martin\",inplace=True)\n",
    "df.drop_duplicates(inplace=True)"
   ]
  },
  {
   "cell_type": "code",
   "execution_count": 71,
   "metadata": {},
   "outputs": [
    {
     "data": {
      "text/plain": [
       "ford               130984\n",
       "chevrolet          115720\n",
       "toyota              55180\n",
       "honda               44109\n",
       "nissan              35685\n",
       "jeep                34932\n",
       "dodge               34496\n",
       "gmc                 30571\n",
       "ram                 20980\n",
       "bmw                 20182\n",
       "volkswagen          17415\n",
       "subaru              14974\n",
       "mercedes-benz       14935\n",
       "hyundai             14112\n",
       "chrysler            13822\n",
       "cadillac            11163\n",
       "mazda               11051\n",
       "kia                 10765\n",
       "buick               10562\n",
       "pontiac             10268\n",
       "lexus                9379\n",
       "acura                8729\n",
       "audi                 7545\n",
       "lincoln              5936\n",
       "infiniti             5590\n",
       "volvo                5248\n",
       "mitsubishi           4978\n",
       "mercury              4842\n",
       "saturn               4365\n",
       "mini                 3186\n",
       "land rover           2178\n",
       "jaguar               1999\n",
       "fiat                  872\n",
       "harley-davidson       331\n",
       "datsun                319\n",
       "alfa-romeo            113\n",
       "ferrari               111\n",
       "porche                 51\n",
       "aston-martin           47\n",
       "morgan                  2\n",
       "hennessey               1\n",
       "noble                   1\n",
       "Name: manufacturer, dtype: int64"
      ]
     },
     "execution_count": 71,
     "metadata": {},
     "output_type": "execute_result"
    }
   ],
   "source": [
    "df['manufacturer'].value_counts()"
   ]
  },
  {
   "cell_type": "code",
   "execution_count": 72,
   "metadata": {},
   "outputs": [
    {
     "data": {
      "text/plain": [
       "size            63.930755\n",
       "type            41.665556\n",
       "cylinders       38.782697\n",
       "drive           38.055700\n",
       "condition       38.023595\n",
       "odometer        33.653496\n",
       "manufacturer     8.921916\n",
       "weather          4.529229\n",
       "fuel             0.545406\n",
       "transmission     0.454166\n",
       "title_status     0.155069\n",
       "make             0.000000\n",
       "year             0.000000\n",
       "county           0.000000\n",
       "state            0.000000\n",
       "city             0.000000\n",
       "price            0.000000\n",
       "dtype: float64"
      ]
     },
     "execution_count": 72,
     "metadata": {},
     "output_type": "execute_result"
    }
   ],
   "source": [
    "((df.isnull().sum()/len(df)).sort_values(ascending = False)*100).astype(float)"
   ]
  },
  {
   "cell_type": "markdown",
   "metadata": {},
   "source": [
    "Let's take a look into 'makes' whose 'manufacturer' is null."
   ]
  },
  {
   "cell_type": "code",
   "execution_count": 73,
   "metadata": {},
   "outputs": [
    {
     "data": {
      "text/plain": [
       "scion tc               693\n",
       "international          478\n",
       "hummer h3              422\n",
       "scion xb               413\n",
       "hummer h2              364\n",
       "                      ... \n",
       "2004 jetta gli 1.8t      1\n",
       "reconstructed title      1\n",
       "97 cummins 12valve       1\n",
       "plymouth  pickup         1\n",
       "07ford focus se          1\n",
       "Name: make, Length: 26635, dtype: int64"
      ]
     },
     "execution_count": 73,
     "metadata": {},
     "output_type": "execute_result"
    }
   ],
   "source": [
    "df['make'][df['manufacturer'].isnull()].value_counts()"
   ]
  },
  {
   "cell_type": "code",
   "execution_count": 74,
   "metadata": {},
   "outputs": [
    {
     "data": {
      "text/plain": [
       "26635"
      ]
     },
     "execution_count": 74,
     "metadata": {},
     "output_type": "execute_result"
    }
   ],
   "source": [
    "len(df['make'][df['manufacturer'].isnull()].value_counts())"
   ]
  },
  {
   "cell_type": "markdown",
   "metadata": {},
   "source": [
    "Let's look into 'model' whose 'manufacturer' is not null."
   ]
  },
  {
   "cell_type": "code",
   "execution_count": 75,
   "metadata": {},
   "outputs": [
    {
     "data": {
      "text/plain": [
       "ford             4\n",
       "mercedes-benz    1\n",
       "Name: manufacturer, dtype: int64"
      ]
     },
     "execution_count": 75,
     "metadata": {},
     "output_type": "execute_result"
    }
   ],
   "source": [
    "df['manufacturer'][df['make']=='model'].value_counts()"
   ]
  },
  {
   "cell_type": "markdown",
   "metadata": {},
   "source": [
    "Let's delete row whose 'make' is 'model'."
   ]
  },
  {
   "cell_type": "code",
   "execution_count": 76,
   "metadata": {},
   "outputs": [],
   "source": [
    "df.drop(df[df['make']=='model'].index, inplace=True)"
   ]
  },
  {
   "cell_type": "markdown",
   "metadata": {},
   "source": [
    "Let's look into 'international' whose 'manufacturer' is not null."
   ]
  },
  {
   "cell_type": "code",
   "execution_count": 77,
   "metadata": {},
   "outputs": [
    {
     "data": {
      "text/plain": [
       "chevrolet    2\n",
       "ford         1\n",
       "Name: manufacturer, dtype: int64"
      ]
     },
     "execution_count": 77,
     "metadata": {},
     "output_type": "execute_result"
    }
   ],
   "source": [
    "df['manufacturer'][df['make']=='international'].value_counts()"
   ]
  },
  {
   "cell_type": "markdown",
   "metadata": {},
   "source": [
    "Let's delete row whose 'make' is 'international'."
   ]
  },
  {
   "cell_type": "code",
   "execution_count": 78,
   "metadata": {
    "scrolled": false
   },
   "outputs": [],
   "source": [
    "df.drop(df[df['make']=='international'].index, inplace=True)"
   ]
  },
  {
   "cell_type": "code",
   "execution_count": 79,
   "metadata": {},
   "outputs": [
    {
     "data": {
      "text/plain": [
       "toyota    381\n",
       "Name: manufacturer, dtype: int64"
      ]
     },
     "execution_count": 79,
     "metadata": {},
     "output_type": "execute_result"
    }
   ],
   "source": [
    "df['manufacturer'][df['make'].str.contains('scion')].value_counts()"
   ]
  },
  {
   "cell_type": "markdown",
   "metadata": {},
   "source": [
    "Let's replace the 'manufacturer' whose all values containing 'scion' or 'Scion' in 'make' to 'toyota'."
   ]
  },
  {
   "cell_type": "code",
   "execution_count": 80,
   "metadata": {},
   "outputs": [],
   "source": [
    "df.loc[((df['make'].str.contains('scion')) & df['manufacturer'].isnull()),'manufacturer']='toyota'"
   ]
  },
  {
   "cell_type": "code",
   "execution_count": 81,
   "metadata": {},
   "outputs": [
    {
     "data": {
      "text/html": [
       "<div>\n",
       "<style scoped>\n",
       "    .dataframe tbody tr th:only-of-type {\n",
       "        vertical-align: middle;\n",
       "    }\n",
       "\n",
       "    .dataframe tbody tr th {\n",
       "        vertical-align: top;\n",
       "    }\n",
       "\n",
       "    .dataframe thead th {\n",
       "        text-align: right;\n",
       "    }\n",
       "</style>\n",
       "<table border=\"1\" class=\"dataframe\">\n",
       "  <thead>\n",
       "    <tr style=\"text-align: right;\">\n",
       "      <th></th>\n",
       "      <th>make</th>\n",
       "      <th>manufacturer</th>\n",
       "    </tr>\n",
       "  </thead>\n",
       "  <tbody>\n",
       "    <tr>\n",
       "      <th>181</th>\n",
       "      <td>scion tc</td>\n",
       "      <td>toyota</td>\n",
       "    </tr>\n",
       "    <tr>\n",
       "      <th>977</th>\n",
       "      <td>scion xb</td>\n",
       "      <td>toyota</td>\n",
       "    </tr>\n",
       "    <tr>\n",
       "      <th>1583</th>\n",
       "      <td>2009 scion tc</td>\n",
       "      <td>toyota</td>\n",
       "    </tr>\n",
       "    <tr>\n",
       "      <th>1689</th>\n",
       "      <td>scion xb</td>\n",
       "      <td>toyota</td>\n",
       "    </tr>\n",
       "    <tr>\n",
       "      <th>1779</th>\n",
       "      <td>2009 scion tc</td>\n",
       "      <td>toyota</td>\n",
       "    </tr>\n",
       "    <tr>\n",
       "      <th>...</th>\n",
       "      <td>...</td>\n",
       "      <td>...</td>\n",
       "    </tr>\n",
       "    <tr>\n",
       "      <th>1046826</th>\n",
       "      <td>scion xd</td>\n",
       "      <td>toyota</td>\n",
       "    </tr>\n",
       "    <tr>\n",
       "      <th>1047787</th>\n",
       "      <td>scion xb</td>\n",
       "      <td>toyota</td>\n",
       "    </tr>\n",
       "    <tr>\n",
       "      <th>1047795</th>\n",
       "      <td>scion fr-s</td>\n",
       "      <td>toyota</td>\n",
       "    </tr>\n",
       "    <tr>\n",
       "      <th>1047882</th>\n",
       "      <td>scion xb</td>\n",
       "      <td>toyota</td>\n",
       "    </tr>\n",
       "    <tr>\n",
       "      <th>1048816</th>\n",
       "      <td>scion tc</td>\n",
       "      <td>toyota</td>\n",
       "    </tr>\n",
       "  </tbody>\n",
       "</table>\n",
       "<p>2692 rows × 2 columns</p>\n",
       "</div>"
      ],
      "text/plain": [
       "                  make manufacturer\n",
       "181           scion tc       toyota\n",
       "977           scion xb       toyota\n",
       "1583     2009 scion tc       toyota\n",
       "1689          scion xb       toyota\n",
       "1779     2009 scion tc       toyota\n",
       "...                ...          ...\n",
       "1046826       scion xd       toyota\n",
       "1047787       scion xb       toyota\n",
       "1047795     scion fr-s       toyota\n",
       "1047882       scion xb       toyota\n",
       "1048816       scion tc       toyota\n",
       "\n",
       "[2692 rows x 2 columns]"
      ]
     },
     "execution_count": 81,
     "metadata": {},
     "output_type": "execute_result"
    }
   ],
   "source": [
    "df[['make', 'manufacturer']][df['make'].str.contains('scion')]"
   ]
  },
  {
   "cell_type": "markdown",
   "metadata": {},
   "source": [
    "Let's take a look into 'makes' whose 'manufacturer' is null again."
   ]
  },
  {
   "cell_type": "code",
   "execution_count": 82,
   "metadata": {},
   "outputs": [
    {
     "name": "stdout",
     "output_type": "stream",
     "text": [
      "hummer h3              422\n",
      "hummer h2              364\n",
      "f150                   363\n",
      "porsche cayenne        281\n",
      "freightliner           275\n",
      "                      ... \n",
      "79 thunderbird           1\n",
      "02 tacoma                1\n",
      "ch silveradoevrolet      1\n",
      "eclipse gts              1\n",
      "1998 diesel jetta        1\n",
      "Name: make, Length: 26442, dtype: int64\n",
      "26442\n"
     ]
    }
   ],
   "source": [
    "#pd.set_option('display.max_rows', None)\n",
    "print(df['make'][df['manufacturer'].isnull()].value_counts())\n",
    "print(len(df['make'][df['manufacturer'].isnull()].value_counts()))"
   ]
  },
  {
   "cell_type": "markdown",
   "metadata": {},
   "source": [
    "Let's look into 'cadilac' in 'make' whose 'manufacturer' is not null."
   ]
  },
  {
   "cell_type": "code",
   "execution_count": 83,
   "metadata": {},
   "outputs": [
    {
     "data": {
      "text/html": [
       "<div>\n",
       "<style scoped>\n",
       "    .dataframe tbody tr th:only-of-type {\n",
       "        vertical-align: middle;\n",
       "    }\n",
       "\n",
       "    .dataframe tbody tr th {\n",
       "        vertical-align: top;\n",
       "    }\n",
       "\n",
       "    .dataframe thead th {\n",
       "        text-align: right;\n",
       "    }\n",
       "</style>\n",
       "<table border=\"1\" class=\"dataframe\">\n",
       "  <thead>\n",
       "    <tr style=\"text-align: right;\">\n",
       "      <th></th>\n",
       "      <th>make</th>\n",
       "      <th>manufacturer</th>\n",
       "    </tr>\n",
       "  </thead>\n",
       "  <tbody>\n",
       "    <tr>\n",
       "      <th>616</th>\n",
       "      <td>cadilac</td>\n",
       "      <td>NaN</td>\n",
       "    </tr>\n",
       "    <tr>\n",
       "      <th>4154</th>\n",
       "      <td>cadilac escalade</td>\n",
       "      <td>NaN</td>\n",
       "    </tr>\n",
       "    <tr>\n",
       "      <th>4169</th>\n",
       "      <td>cadilac cts</td>\n",
       "      <td>NaN</td>\n",
       "    </tr>\n",
       "    <tr>\n",
       "      <th>5918</th>\n",
       "      <td>cadilac seville</td>\n",
       "      <td>NaN</td>\n",
       "    </tr>\n",
       "    <tr>\n",
       "      <th>7048</th>\n",
       "      <td>cadilac deville</td>\n",
       "      <td>NaN</td>\n",
       "    </tr>\n",
       "    <tr>\n",
       "      <th>...</th>\n",
       "      <td>...</td>\n",
       "      <td>...</td>\n",
       "    </tr>\n",
       "    <tr>\n",
       "      <th>1043077</th>\n",
       "      <td>cadilac cts v</td>\n",
       "      <td>NaN</td>\n",
       "    </tr>\n",
       "    <tr>\n",
       "      <th>1043672</th>\n",
       "      <td>1995 cadilac seville</td>\n",
       "      <td>NaN</td>\n",
       "    </tr>\n",
       "    <tr>\n",
       "      <th>1043828</th>\n",
       "      <td>cadilac escalade</td>\n",
       "      <td>NaN</td>\n",
       "    </tr>\n",
       "    <tr>\n",
       "      <th>1044422</th>\n",
       "      <td>cadilac escalade</td>\n",
       "      <td>NaN</td>\n",
       "    </tr>\n",
       "    <tr>\n",
       "      <th>1045122</th>\n",
       "      <td>cadilac cts</td>\n",
       "      <td>NaN</td>\n",
       "    </tr>\n",
       "  </tbody>\n",
       "</table>\n",
       "<p>537 rows × 2 columns</p>\n",
       "</div>"
      ],
      "text/plain": [
       "                         make manufacturer\n",
       "616                   cadilac          NaN\n",
       "4154         cadilac escalade          NaN\n",
       "4169              cadilac cts          NaN\n",
       "5918          cadilac seville          NaN\n",
       "7048          cadilac deville          NaN\n",
       "...                       ...          ...\n",
       "1043077         cadilac cts v          NaN\n",
       "1043672  1995 cadilac seville          NaN\n",
       "1043828      cadilac escalade          NaN\n",
       "1044422      cadilac escalade          NaN\n",
       "1045122           cadilac cts          NaN\n",
       "\n",
       "[537 rows x 2 columns]"
      ]
     },
     "execution_count": 83,
     "metadata": {},
     "output_type": "execute_result"
    }
   ],
   "source": [
    "df[['make','manufacturer']][df['make'].str.contains('cadilac')]"
   ]
  },
  {
   "cell_type": "markdown",
   "metadata": {},
   "source": [
    "Let's fill in the null value in 'manufacturer' of 'cadilac' in 'make'."
   ]
  },
  {
   "cell_type": "code",
   "execution_count": 84,
   "metadata": {},
   "outputs": [
    {
     "data": {
      "text/html": [
       "<div>\n",
       "<style scoped>\n",
       "    .dataframe tbody tr th:only-of-type {\n",
       "        vertical-align: middle;\n",
       "    }\n",
       "\n",
       "    .dataframe tbody tr th {\n",
       "        vertical-align: top;\n",
       "    }\n",
       "\n",
       "    .dataframe thead th {\n",
       "        text-align: right;\n",
       "    }\n",
       "</style>\n",
       "<table border=\"1\" class=\"dataframe\">\n",
       "  <thead>\n",
       "    <tr style=\"text-align: right;\">\n",
       "      <th></th>\n",
       "      <th>make</th>\n",
       "      <th>manufacturer</th>\n",
       "    </tr>\n",
       "  </thead>\n",
       "  <tbody>\n",
       "    <tr>\n",
       "      <th>616</th>\n",
       "      <td>cadilac</td>\n",
       "      <td>cadilac</td>\n",
       "    </tr>\n",
       "    <tr>\n",
       "      <th>4154</th>\n",
       "      <td>cadilac escalade</td>\n",
       "      <td>cadilac</td>\n",
       "    </tr>\n",
       "    <tr>\n",
       "      <th>4169</th>\n",
       "      <td>cadilac cts</td>\n",
       "      <td>cadilac</td>\n",
       "    </tr>\n",
       "    <tr>\n",
       "      <th>5918</th>\n",
       "      <td>cadilac seville</td>\n",
       "      <td>cadilac</td>\n",
       "    </tr>\n",
       "    <tr>\n",
       "      <th>7048</th>\n",
       "      <td>cadilac deville</td>\n",
       "      <td>cadilac</td>\n",
       "    </tr>\n",
       "    <tr>\n",
       "      <th>...</th>\n",
       "      <td>...</td>\n",
       "      <td>...</td>\n",
       "    </tr>\n",
       "    <tr>\n",
       "      <th>1043077</th>\n",
       "      <td>cadilac cts v</td>\n",
       "      <td>cadilac</td>\n",
       "    </tr>\n",
       "    <tr>\n",
       "      <th>1043672</th>\n",
       "      <td>1995 cadilac seville</td>\n",
       "      <td>cadilac</td>\n",
       "    </tr>\n",
       "    <tr>\n",
       "      <th>1043828</th>\n",
       "      <td>cadilac escalade</td>\n",
       "      <td>cadilac</td>\n",
       "    </tr>\n",
       "    <tr>\n",
       "      <th>1044422</th>\n",
       "      <td>cadilac escalade</td>\n",
       "      <td>cadilac</td>\n",
       "    </tr>\n",
       "    <tr>\n",
       "      <th>1045122</th>\n",
       "      <td>cadilac cts</td>\n",
       "      <td>cadilac</td>\n",
       "    </tr>\n",
       "  </tbody>\n",
       "</table>\n",
       "<p>537 rows × 2 columns</p>\n",
       "</div>"
      ],
      "text/plain": [
       "                         make manufacturer\n",
       "616                   cadilac      cadilac\n",
       "4154         cadilac escalade      cadilac\n",
       "4169              cadilac cts      cadilac\n",
       "5918          cadilac seville      cadilac\n",
       "7048          cadilac deville      cadilac\n",
       "...                       ...          ...\n",
       "1043077         cadilac cts v      cadilac\n",
       "1043672  1995 cadilac seville      cadilac\n",
       "1043828      cadilac escalade      cadilac\n",
       "1044422      cadilac escalade      cadilac\n",
       "1045122           cadilac cts      cadilac\n",
       "\n",
       "[537 rows x 2 columns]"
      ]
     },
     "execution_count": 84,
     "metadata": {},
     "output_type": "execute_result"
    }
   ],
   "source": [
    "df.loc[df['make'].str.contains('cadilac'), 'manufacturer'] = 'cadilac'\n",
    "df[['make','manufacturer']][df['make'].str.contains('cadilac')]"
   ]
  },
  {
   "cell_type": "markdown",
   "metadata": {},
   "source": [
    "Let's look into 'manufacturer' whose all values containing 'f150' or 'f-150' in 'make'."
   ]
  },
  {
   "cell_type": "code",
   "execution_count": 85,
   "metadata": {},
   "outputs": [
    {
     "data": {
      "text/plain": [
       "ford               25034\n",
       "harley-davidson        5\n",
       "chevrolet              2\n",
       "lincoln                1\n",
       "Name: manufacturer, dtype: int64"
      ]
     },
     "execution_count": 85,
     "metadata": {},
     "output_type": "execute_result"
    }
   ],
   "source": [
    "df['manufacturer'][(df['make'].str.contains('f150'))\n",
    "                   | (df['make'].str.contains('f-150')) ].value_counts()"
   ]
  },
  {
   "cell_type": "code",
   "execution_count": 86,
   "metadata": {},
   "outputs": [
    {
     "data": {
      "text/plain": [
       "ford               11940\n",
       "harley-davidson        5\n",
       "chevrolet              2\n",
       "lincoln                1\n",
       "Name: manufacturer, dtype: int64"
      ]
     },
     "execution_count": 86,
     "metadata": {},
     "output_type": "execute_result"
    }
   ],
   "source": [
    "df['manufacturer'][(df['make'].str.contains('f150'))\n",
    "                   | (df['make'].str.contains('f-150'))\n",
    "                   & (df['manufacturer'].str.contains('ford')==False)\n",
    "                   ].value_counts()"
   ]
  },
  {
   "cell_type": "markdown",
   "metadata": {},
   "source": [
    "Let's look into detail of individual different 'f150's such as 'f-150' or 'F150'."
   ]
  },
  {
   "cell_type": "code",
   "execution_count": 87,
   "metadata": {},
   "outputs": [
    {
     "data": {
      "text/html": [
       "<div>\n",
       "<style scoped>\n",
       "    .dataframe tbody tr th:only-of-type {\n",
       "        vertical-align: middle;\n",
       "    }\n",
       "\n",
       "    .dataframe tbody tr th {\n",
       "        vertical-align: top;\n",
       "    }\n",
       "\n",
       "    .dataframe thead th {\n",
       "        text-align: right;\n",
       "    }\n",
       "</style>\n",
       "<table border=\"1\" class=\"dataframe\">\n",
       "  <thead>\n",
       "    <tr style=\"text-align: right;\">\n",
       "      <th></th>\n",
       "      <th>make</th>\n",
       "      <th>manufacturer</th>\n",
       "    </tr>\n",
       "  </thead>\n",
       "  <tbody>\n",
       "    <tr>\n",
       "      <th>499021</th>\n",
       "      <td>edition f-150</td>\n",
       "      <td>harley-davidson</td>\n",
       "    </tr>\n",
       "    <tr>\n",
       "      <th>883472</th>\n",
       "      <td>f-150</td>\n",
       "      <td>harley-davidson</td>\n",
       "    </tr>\n",
       "  </tbody>\n",
       "</table>\n",
       "</div>"
      ],
      "text/plain": [
       "                 make     manufacturer\n",
       "499021  edition f-150  harley-davidson\n",
       "883472          f-150  harley-davidson"
      ]
     },
     "execution_count": 87,
     "metadata": {},
     "output_type": "execute_result"
    }
   ],
   "source": [
    "df[['make', 'manufacturer']][(df['make'].str.contains('f-150'))\n",
    "                   & (df['manufacturer'].str.contains('ford')==False)]"
   ]
  },
  {
   "cell_type": "code",
   "execution_count": 88,
   "metadata": {},
   "outputs": [
    {
     "data": {
      "text/html": [
       "<div>\n",
       "<style scoped>\n",
       "    .dataframe tbody tr th:only-of-type {\n",
       "        vertical-align: middle;\n",
       "    }\n",
       "\n",
       "    .dataframe tbody tr th {\n",
       "        vertical-align: top;\n",
       "    }\n",
       "\n",
       "    .dataframe thead th {\n",
       "        text-align: right;\n",
       "    }\n",
       "</style>\n",
       "<table border=\"1\" class=\"dataframe\">\n",
       "  <thead>\n",
       "    <tr style=\"text-align: right;\">\n",
       "      <th></th>\n",
       "      <th>make</th>\n",
       "      <th>manufacturer</th>\n",
       "    </tr>\n",
       "  </thead>\n",
       "  <tbody>\n",
       "    <tr>\n",
       "      <th>105219</th>\n",
       "      <td>davidson f150</td>\n",
       "      <td>harley-davidson</td>\n",
       "    </tr>\n",
       "    <tr>\n",
       "      <th>419921</th>\n",
       "      <td>mark lt 4wd f150</td>\n",
       "      <td>lincoln</td>\n",
       "    </tr>\n",
       "    <tr>\n",
       "      <th>519574</th>\n",
       "      <td>davidson f150</td>\n",
       "      <td>harley-davidson</td>\n",
       "    </tr>\n",
       "    <tr>\n",
       "      <th>711896</th>\n",
       "      <td>f150</td>\n",
       "      <td>chevrolet</td>\n",
       "    </tr>\n",
       "    <tr>\n",
       "      <th>717302</th>\n",
       "      <td>davidson f150,</td>\n",
       "      <td>harley-davidson</td>\n",
       "    </tr>\n",
       "    <tr>\n",
       "      <th>899842</th>\n",
       "      <td>f150</td>\n",
       "      <td>chevrolet</td>\n",
       "    </tr>\n",
       "  </tbody>\n",
       "</table>\n",
       "</div>"
      ],
      "text/plain": [
       "                    make     manufacturer\n",
       "105219     davidson f150  harley-davidson\n",
       "419921  mark lt 4wd f150          lincoln\n",
       "519574     davidson f150  harley-davidson\n",
       "711896              f150        chevrolet\n",
       "717302    davidson f150,  harley-davidson\n",
       "899842              f150        chevrolet"
      ]
     },
     "execution_count": 88,
     "metadata": {},
     "output_type": "execute_result"
    }
   ],
   "source": [
    "df[['make','manufacturer']][(df['make'].str.contains('f150'))\n",
    "                   & (df['manufacturer'].str.contains('ford')==False)]"
   ]
  },
  {
   "cell_type": "code",
   "execution_count": 89,
   "metadata": {},
   "outputs": [
    {
     "data": {
      "text/plain": [
       "f150                                363\n",
       "f150 4x4                            171\n",
       "f150 xlt                             37\n",
       "f150 lariat                          29\n",
       "fordf150                             24\n",
       "f150 fx4                             20\n",
       "2006 f150                            13\n",
       "2001 f150                            10\n",
       "f150 king ranch                       9\n",
       "f150 xl                               8\n",
       "2002 f150                             8\n",
       "2004 f150                             8\n",
       "2000 f150                             8\n",
       "1997 f150                             7\n",
       "f150 platinum                         7\n",
       "97 f150                               6\n",
       "04 f150                               6\n",
       "for f150                              6\n",
       "2005 f150                             6\n",
       "1996 f150                             6\n",
       "2008 f150                             6\n",
       "2010 f150                             5\n",
       "1998 f150                             5\n",
       "2003 f150                             5\n",
       "1995 f150                             5\n",
       "98 f150                               5\n",
       "1994 f150                             5\n",
       "1993 f150                             4\n",
       "2007 f150                             4\n",
       "2015 f150                             4\n",
       "2012 f150                             4\n",
       "94 f150                               4\n",
       "2006 f150 stx                         4\n",
       "ford, f150                            3\n",
       "f150 stepside                         3\n",
       "93 f150                               3\n",
       "f150 xlt crew cab                     3\n",
       "f150 2wd                              3\n",
       "2014 f150                             3\n",
       "91 f150                               3\n",
       "2002 f150 v6                          2\n",
       "fordfo f150                           2\n",
       "f150 ford.                            2\n",
       "f150.                                 2\n",
       "f150 ex cab                           2\n",
       "frod f150                             2\n",
       "f150 xlt 4x4                          2\n",
       "f150 platinum 4x4                     2\n",
       "95 f150                               2\n",
       "ford,f150                             2\n",
       "2010 f150 xlt                         2\n",
       "f150 supercrew cab                    2\n",
       "1977 f150                             2\n",
       "2003 f150 super crew                  2\n",
       "f150 super crew 4x4                   2\n",
       "f150 custom                           2\n",
       "f150 ext cab 4x4                      2\n",
       "1979 f150                             2\n",
       "fors f150                             2\n",
       "2014 f150 xl 4x4 supercrew            2\n",
       "foed f150                             2\n",
       "2007 f150 pickup                      1\n",
       "f150 latiat 4x4 crewcab               1\n",
       "f150 4 door                           1\n",
       "2009 f150 4x4 super cab               1\n",
       "f150 4x4 platinum                     1\n",
       "2017 f150                             1\n",
       "f150 xlt 302aequipment                1\n",
       "frod f150 fx4                         1\n",
       "2000 f150 lariat                      1\n",
       "1997 f150 lariat                      1\n",
       "f150 lariat ext cab                   1\n",
       "f150 4x4 king ranch                   1\n",
       "4wd truck f150                        1\n",
       "f150 svt raptor                       1\n",
       "2013 f150 fx4                         1\n",
       "2004 f150 xlt super can 4 x 4         1\n",
       "f150 4x4 xlt                          1\n",
       "4 doors f150 clean title              1\n",
       "*ford* *f150* *f-150*                 1\n",
       "1997 f150 ex.cab                      1\n",
       "2002 f150 4x4                         1\n",
       "85 f150 4x4                           1\n",
       "f150 4x4 ecoboost platinum            1\n",
       "94f150                                1\n",
       "f150 xlt 4x2                          1\n",
       "f150 xlt super cab                    1\n",
       "2014 f150 svt raptor                  1\n",
       "2013 f150 crew cab                    1\n",
       "f150 lariat supercrew                 1\n",
       "fors f150 4x4                         1\n",
       "06 f150 4.6                           1\n",
       "f150 4x4 truck                        1\n",
       "f150 4x4 sxt                          1\n",
       "2007 f150 xl                          1\n",
       "f150 4 doors                          1\n",
       "f150 xt                               1\n",
       "2006 f150 4x4                         1\n",
       "2008 f150 lariat 4 x 4                1\n",
       "89 f150 xlt lariat                    1\n",
       "1996 f150 xlt                         1\n",
       "2014 f150 4x4 limited                 1\n",
       "f150ford                              1\n",
       "97f150                                1\n",
       "01 f150                               1\n",
       "2008 f150 4x4 xlt                     1\n",
       "ford-f150                             1\n",
       "2000 f150 lariat 4x4                  1\n",
       "ford. f150                            1\n",
       "2008 f150 xl                          1\n",
       "forf f150                             1\n",
       "f150 2002                             1\n",
       "2000 f150 prerunner                   1\n",
       "2006 f150 xlt                         1\n",
       "2008 f150 supercrew 4x4               1\n",
       "93 f150 pu                            1\n",
       "2013 f150 4x4                         1\n",
       "f150 ecoboost 4x4                     1\n",
       "2009 f150 supercrew platinum          1\n",
       "f150 super crew                       1\n",
       "f150 xl supre cab 2wd                 1\n",
       "xl 1/2 cab f150                       1\n",
       "2017 f150 xlt                         1\n",
       "f150cab y med                         1\n",
       "2008 f150-fx4                         1\n",
       "1987 f150                             1\n",
       "f150 lariat super crew                1\n",
       "81 f150                               1\n",
       "86 f150                               1\n",
       "2007 king ranch f150                  1\n",
       "1976 f150                             1\n",
       "03 f1504x4                            1\n",
       "2002f150                              1\n",
       "1995 f150 xl                          1\n",
       "2004 f150  stx                        1\n",
       "ford, f150, super crew cab, 4x4       1\n",
       "raptor f150                           1\n",
       "f150 ext cab                          1\n",
       "1994 f150 xlt                         1\n",
       "97  f150                              1\n",
       "2008 f150 crew cab                    1\n",
       "64 f150                               1\n",
       "f150 raptor v8                        1\n",
       "1998 f150 xlt                         1\n",
       "89 f150                               1\n",
       "2003 f150 super crew.                 1\n",
       "2008 f150 xl 5 sp                     1\n",
       "ford, f150 lariat                     1\n",
       "f150 flareside                        1\n",
       "2008   f150                           1\n",
       "2005 f150 lariat 4x4 crewcab          1\n",
       "2012 f150 lariat                      1\n",
       "1978 f150 4x4 short bed ranger        1\n",
       "1975 f150                             1\n",
       "1986 f150 xlt                         1\n",
       "2009 f150 xlt                         1\n",
       "fird f150 supercab 4x4                1\n",
       "ford, f150,  xl superduty,            1\n",
       "2005 f150 4x4 stx                     1\n",
       "f150 raptor 4wd                       1\n",
       "f150 super crew cad                   1\n",
       "2007 f150 4 door                      1\n",
       "f150 4wd eddie bauer                  1\n",
       "ford.  f150. 4x4.                     1\n",
       "f150 triton                           1\n",
       "f150 a????o 97                        1\n",
       "2004 f150 stx 4????4                  1\n",
       "1986 f150                             1\n",
       "02 f150 4x4                           1\n",
       "2000 f150xl                           1\n",
       "fors f150 super cab                   1\n",
       "ord f150                              1\n",
       "f150 stepside 4x4                     1\n",
       "f150 stx                              1\n",
       "f150 lariet                           1\n",
       "f150xl 7700                           1\n",
       "f150 4x4 super cab ranger             1\n",
       "foed f150 supercrew                   1\n",
       "f150 xl 2wd                           1\n",
       "06 f150 5.4                           1\n",
       "f150 4x4 2010                         1\n",
       "raven f150                            1\n",
       "f150 super cab xl                     1\n",
       "07 f150                               1\n",
       "2015 f150 xlt 4x4                     1\n",
       "lariat f150                           1\n",
       "05 f150                               1\n",
       "fird f150m xlt                        1\n",
       "f150 4wd v8 5.4l king ranch           1\n",
       "12 f150                               1\n",
       "1998 f150 pkp                         1\n",
       "2013 f150 crew 4x4                    1\n",
       "f150 supercrew xlt 4x4                1\n",
       "2006 fordf150 xlt                     1\n",
       "f150 supercrew fx4                    1\n",
       "f150/250                              1\n",
       "2018 f150 sport                       1\n",
       "2006 f150 super cab 4x4               1\n",
       "fird f150 regcab xlt                  1\n",
       "1977 f150 custom                      1\n",
       "06 f150                               1\n",
       "f150 crew cab                         1\n",
       "f150 4x4 screw lariat                 1\n",
       "1998 f150 pick-up                     1\n",
       "f150xl 4wd                            1\n",
       "99ford f150                           1\n",
       "2007 f150 stx                         1\n",
       "1999 f150                             1\n",
       "f150 xlt 4x4 extended cab, 5.4 l      1\n",
       "2013 f150 crew                        1\n",
       "f0rd f150                             1\n",
       "f150 xl sport                         1\n",
       "97-04 f150                            1\n",
       "f150 trailer hitch                    1\n",
       "very nice truck f150                  1\n",
       "96 f150                               1\n",
       "f150-350                              1\n",
       "2014 f150 platinum 4x4                1\n",
       "f150 lariat 5.4 triton v8             1\n",
       "2005ford f150                         1\n",
       "f150 raptor shelby                    1\n",
       "f150 trucks                           1\n",
       "94 f150 xl                            1\n",
       "f150 4x4 lariat                       1\n",
       "2006 f150 crew                        1\n",
       "f150 4/4                              1\n",
       "2006 f150 xl                          1\n",
       "f150 4x4 off road                     1\n",
       "2004  f150 4x4                        1\n",
       "1989 f150                             1\n",
       "4x4 f150 lariat crew cab              1\n",
       "forf f150 stx supercab                1\n",
       "2004.5 f150                           1\n",
       "forrd f150                            1\n",
       "1984 f150                             1\n",
       "f150 4x4 pick up                      1\n",
       "2007 f150 4x4                         1\n",
       "77 f150 custom                        1\n",
       "05 f150 lx                            1\n",
       "2012 f150 super crew                  1\n",
       "2011 f150 supercrew                   1\n",
       "2015 f150 lariat                      1\n",
       "f150 fx4 off-road                     1\n",
       "f150 xlt 4 x 4 supercrew cab          1\n",
       "ford.  f150  f250                     1\n",
       "f150 heritage                         1\n",
       "fort f150                             1\n",
       "f150 4x4 ext cab, 8ft                 1\n",
       "97   f150                             1\n",
       "frod f150 xl long bed                 1\n",
       "f150 xlt sport                        1\n",
       "f150 2015                             1\n",
       "2012 f150 larait                      1\n",
       "1992f150                              1\n",
       "f150 one owner truck                  1\n",
       "2006 f150 supercrew                   1\n",
       "2016 f150                             1\n",
       "1988 f150                             1\n",
       "ford.  f150                           1\n",
       "f150 supercab                         1\n",
       "in mint cond.f150 raptor              1\n",
       "2018 f150                             1\n",
       "95 f150 4x4 short bed                 1\n",
       "f150 sport crew cab                   1\n",
       "2012 f150 supercrew ecoboost          1\n",
       "1996 f150 obs                         1\n",
       "f150 4x4 supercab xlt                 1\n",
       "vw. blazer. f150. lincoln.            1\n",
       "f150 4 dr                             1\n",
       "2005 f150 4x4                         1\n",
       "crew cab f150                         1\n",
       "f150 raptor                           1\n",
       "frd f150 xlt                          1\n",
       "92 f150                               1\n",
       "2004 f150 lariot                      1\n",
       "2008 f150 xlt                         1\n",
       "f150 platinum ecoboost 4x4            1\n",
       "1992 f150                             1\n",
       "2014 f150 xlt 4x4                     1\n",
       "f150 ranger xlt                       1\n",
       "xlt f150 5.4 4x4                      1\n",
       "for dinner f150                       1\n",
       "fod f150 xlt                          1\n",
       "f150 lariat fx4 super crew            1\n",
       "f150 xlt off road                     1\n",
       "pick up truck f150                    1\n",
       "fordf150 lariat 4 door                1\n",
       "1991 f150                             1\n",
       "f150 fx4 4x4 ecoboost                 1\n",
       "03 f150 ext cab                       1\n",
       "2013 f150                             1\n",
       "09 f150                               1\n",
       "Name: make, dtype: int64"
      ]
     },
     "execution_count": 89,
     "metadata": {},
     "output_type": "execute_result"
    }
   ],
   "source": [
    "df['make'][(df['make'].str.contains('f150')) & (df['manufacturer'].isnull())].value_counts()"
   ]
  },
  {
   "cell_type": "markdown",
   "metadata": {},
   "source": [
    "Let's fill null value of 'f150''s 'manufacturer' with 'ford' because 'f150' of 'harley-davison' is actually 'harley-davison' version of 'ford f150'."
   ]
  },
  {
   "cell_type": "code",
   "execution_count": 90,
   "metadata": {},
   "outputs": [],
   "source": [
    "df.loc[((df['make'].str.contains('f-150')) & (df['manufacturer'].isnull())),'manufacturer']='ford'   \n",
    "df.loc[((df['make'].str.contains('f150')) & (df['manufacturer'].isnull())),'manufacturer']='ford' "
   ]
  },
  {
   "cell_type": "code",
   "execution_count": 91,
   "metadata": {},
   "outputs": [
    {
     "data": {
      "text/plain": [
       "Series([], Name: make, dtype: int64)"
      ]
     },
     "execution_count": 91,
     "metadata": {},
     "output_type": "execute_result"
    }
   ],
   "source": [
    "df['make'][(df['make'].str.contains('f150')) & (df['manufacturer'].isnull())].value_counts()"
   ]
  },
  {
   "cell_type": "markdown",
   "metadata": {},
   "source": [
    "Let's try to use for loop to expedite repeatedly instead of using while loop because it keeps stuck in 'not responding' overnight."
   ]
  },
  {
   "cell_type": "code",
   "execution_count": 92,
   "metadata": {},
   "outputs": [],
   "source": [
    "#from time import perf_counter "
   ]
  },
  {
   "cell_type": "code",
   "execution_count": 93,
   "metadata": {},
   "outputs": [],
   "source": [
    "i=0\n",
    "a = df['make'][df['manufacturer'].isnull()].value_counts().index\n",
    "  \n",
    "for i in range(0,500):\n",
    "    try:\n",
    "        df.loc[((df['make'].str.contains(a[i]))\n",
    "                & (df['manufacturer'].isnull())),'manufacturer']=df['manufacturer'][df['make'].str.contains(a[i])].value_counts().index[0]\n",
    "        \n",
    "    except:\n",
    "        pass"
   ]
  },
  {
   "cell_type": "code",
   "execution_count": 94,
   "metadata": {},
   "outputs": [],
   "source": [
    "time.sleep(5)"
   ]
  },
  {
   "cell_type": "code",
   "execution_count": 95,
   "metadata": {},
   "outputs": [
    {
     "name": "stdout",
     "output_type": "stream",
     "text": [
      "peterbilt            193\n",
      "hyudai elantra       180\n",
      "tesla model s        123\n",
      "hyndai elantra        71\n",
      "maserati ghibli       66\n",
      "                    ... \n",
      "hyudai elantra se      1\n",
      "eterbilt               1\n",
      "argo xplorer atv       1\n",
      "hubbard lake           1\n",
      "525i bnw               1\n",
      "Name: make, Length: 5090, dtype: int64\n",
      "5090\n"
     ]
    }
   ],
   "source": [
    "print(df['make'][df['manufacturer'].isnull()].value_counts())\n",
    "print(len(df['make'][df['manufacturer'].isnull()].value_counts()))"
   ]
  },
  {
   "cell_type": "code",
   "execution_count": 96,
   "metadata": {},
   "outputs": [],
   "source": [
    "i=0\n",
    "a = df['make'][df['manufacturer'].isnull()].value_counts().index\n",
    "  \n",
    "for i in range(0,500):\n",
    "    try:\n",
    "        df.loc[((df['make'].str.contains(a[i]))\n",
    "                & (df['manufacturer'].isnull())),'manufacturer']=df['manufacturer'][df['make'].str.contains(a[i])].value_counts().index[0]\n",
    "        \n",
    "    except:\n",
    "        pass"
   ]
  },
  {
   "cell_type": "code",
   "execution_count": 97,
   "metadata": {},
   "outputs": [],
   "source": [
    "time.sleep(5)"
   ]
  },
  {
   "cell_type": "code",
   "execution_count": 98,
   "metadata": {},
   "outputs": [
    {
     "name": "stdout",
     "output_type": "stream",
     "text": [
      "Series([], Name: make, dtype: int64)\n",
      "0\n"
     ]
    }
   ],
   "source": [
    "print(df['make'][df['manufacturer'].isnull()].value_counts())\n",
    "print(len(df['make'][df['manufacturer'].isnull()].value_counts()))"
   ]
  },
  {
   "cell_type": "code",
   "execution_count": 99,
   "metadata": {},
   "outputs": [
    {
     "data": {
      "text/plain": [
       "1500                 11073\n",
       "f-150                 8985\n",
       "accord                6421\n",
       "mustang               6361\n",
       "civic                 6204\n",
       "                     ...  \n",
       "2500 diesel v6 6.        1\n",
       "2003 f250 4x4            1\n",
       "mitz galant              1\n",
       "c3500 silverado          1\n",
       "best                     1\n",
       "Name: make, Length: 69250, dtype: int64"
      ]
     },
     "execution_count": 99,
     "metadata": {},
     "output_type": "execute_result"
    }
   ],
   "source": [
    "df.make.value_counts()"
   ]
  },
  {
   "cell_type": "code",
   "execution_count": 100,
   "metadata": {},
   "outputs": [
    {
     "data": {
      "text/plain": [
       "ford               157754\n",
       "chevrolet          132808\n",
       "toyota              60722\n",
       "honda               45552\n",
       "nissan              36325\n",
       "dodge               36313\n",
       "jeep                35743\n",
       "gmc                 35136\n",
       "ram                 21020\n",
       "bmw                 20224\n",
       "volkswagen          18288\n",
       "chrysler            15794\n",
       "mercedes-benz       15616\n",
       "hyundai             15029\n",
       "subaru              14994\n",
       "buick               13465\n",
       "cadillac            11411\n",
       "mazda               11236\n",
       "kia                 10765\n",
       "pontiac             10658\n",
       "lexus                9379\n",
       "acura                8748\n",
       "audi                 7545\n",
       "lincoln              5936\n",
       "infiniti             5619\n",
       "volvo                5248\n",
       "mitsubishi           5168\n",
       "mercury              4970\n",
       "saturn               4365\n",
       "jaguar               3664\n",
       "mini                 3186\n",
       "land rover           2178\n",
       "fiat                  872\n",
       "cadilac               537\n",
       "harley-davidson       331\n",
       "datsun                319\n",
       "alfa-romeo            113\n",
       "ferrari               111\n",
       "porche                 51\n",
       "aston-martin           47\n",
       "morgan                  2\n",
       "hennessey               1\n",
       "noble                   1\n",
       "Name: manufacturer, dtype: int64"
      ]
     },
     "execution_count": 100,
     "metadata": {},
     "output_type": "execute_result"
    }
   ],
   "source": [
    "df.manufacturer.value_counts()"
   ]
  },
  {
   "cell_type": "code",
   "execution_count": 101,
   "metadata": {},
   "outputs": [
    {
     "data": {
      "text/plain": [
       "0          False\n",
       "1          False\n",
       "2          False\n",
       "3          False\n",
       "4          False\n",
       "           ...  \n",
       "1049126    False\n",
       "1049196    False\n",
       "1049197    False\n",
       "1049198    False\n",
       "1049199    False\n",
       "Name: manufacturer, Length: 787244, dtype: bool"
      ]
     },
     "execution_count": 101,
     "metadata": {},
     "output_type": "execute_result"
    }
   ],
   "source": [
    "df.manufacturer.isnull()"
   ]
  },
  {
   "cell_type": "code",
   "execution_count": 102,
   "metadata": {},
   "outputs": [
    {
     "data": {
      "text/plain": [
       "size            63.909538\n",
       "type            41.631057\n",
       "cylinders       38.748850\n",
       "condition       38.027600\n",
       "drive           38.018581\n",
       "odometer        33.607624\n",
       "weather          4.495684\n",
       "fuel             0.545828\n",
       "transmission     0.454624\n",
       "title_status     0.155225\n",
       "make             0.000000\n",
       "year             0.000000\n",
       "manufacturer     0.000000\n",
       "county           0.000000\n",
       "state            0.000000\n",
       "city             0.000000\n",
       "price            0.000000\n",
       "dtype: float64"
      ]
     },
     "execution_count": 102,
     "metadata": {},
     "output_type": "execute_result"
    }
   ],
   "source": [
    "((df.isnull().sum()/len(df)).sort_values(ascending = False)*100).astype(float)"
   ]
  },
  {
   "cell_type": "markdown",
   "metadata": {},
   "source": [
    "'odometer' is very crucial factor to decide resale value, 'price'.\n",
    "\n",
    "Although 'odometer' null value occupies 33%, it is inevitable to delete all rows with null values in 'odometer' in that there is no way to trace back real 'odometer'."
   ]
  },
  {
   "cell_type": "code",
   "execution_count": 103,
   "metadata": {},
   "outputs": [],
   "source": [
    "df.drop(df[df['odometer'].isnull()].index, inplace = True) "
   ]
  },
  {
   "cell_type": "code",
   "execution_count": 104,
   "metadata": {},
   "outputs": [
    {
     "data": {
      "text/plain": [
       "size            56.660417\n",
       "condition       28.869267\n",
       "cylinders       27.709262\n",
       "type            27.198997\n",
       "drive           24.700098\n",
       "weather          5.011575\n",
       "fuel             0.611093\n",
       "transmission     0.480609\n",
       "title_status     0.059120\n",
       "year             0.000000\n",
       "manufacturer     0.000000\n",
       "make             0.000000\n",
       "county           0.000000\n",
       "odometer         0.000000\n",
       "state            0.000000\n",
       "city             0.000000\n",
       "price            0.000000\n",
       "dtype: float64"
      ]
     },
     "execution_count": 104,
     "metadata": {},
     "output_type": "execute_result"
    }
   ],
   "source": [
    "((df.isnull().sum()/len(df)).sort_values(ascending = False)*100).astype(float)"
   ]
  },
  {
   "cell_type": "markdown",
   "metadata": {},
   "source": [
    "Let's look into 'make's whose 'drive' is null."
   ]
  },
  {
   "cell_type": "code",
   "execution_count": 105,
   "metadata": {},
   "outputs": [
    {
     "name": "stdout",
     "output_type": "stream",
     "text": [
      "civic                       1300\n",
      "accord                      1227\n",
      "1500                        1173\n",
      "mustang                     1028\n",
      "f-150                        967\n",
      "                            ... \n",
      "lacrosse leather package       1\n",
      "stow n go caravan sxt          1\n",
      "cherokee north edition         1\n",
      "chrystler sybring              1\n",
      "toyata rav4                    1\n",
      "Name: make, Length: 16035, dtype: int64\n",
      "16035\n"
     ]
    }
   ],
   "source": [
    "print(df['make'][df['drive'].isnull()].value_counts())\n",
    "print(len(df['make'][df['drive'].isnull()].value_counts()))"
   ]
  },
  {
   "cell_type": "code",
   "execution_count": 106,
   "metadata": {},
   "outputs": [
    {
     "data": {
      "text/plain": [
       "fwd    6230\n",
       "rwd      66\n",
       "4wd      51\n",
       "Name: drive, dtype: int64"
      ]
     },
     "execution_count": 106,
     "metadata": {},
     "output_type": "execute_result"
    }
   ],
   "source": [
    "df['drive'][df['make'].str.contains('civic')].value_counts()"
   ]
  },
  {
   "cell_type": "markdown",
   "metadata": {},
   "source": [
    "Let's fill null value of 'drive' of 'civic' with the most portion, 'fwd'."
   ]
  },
  {
   "cell_type": "code",
   "execution_count": 107,
   "metadata": {},
   "outputs": [],
   "source": [
    "df.loc[((df['make'].str.contains('civic'))\n",
    "        & (df['drive'].isnull())),'drive']=df['drive'][df['make'].str.contains('civic')].value_counts().index[0]"
   ]
  },
  {
   "cell_type": "markdown",
   "metadata": {},
   "source": [
    "Let's try to use another for loop to expedite repeatedly instead of using while loop because it keeps stuck in 'not responding' overnight."
   ]
  },
  {
   "cell_type": "code",
   "execution_count": 108,
   "metadata": {},
   "outputs": [],
   "source": [
    "i=0\n",
    "a = df['make'][df['drive'].isnull()].value_counts().index\n",
    "  \n",
    "for i in range(0,500):\n",
    "    try:\n",
    "        df.loc[((df['make'].str.contains(a[i]))\n",
    "                & (df['drive'].isnull())),'drive']=df['drive'][df['make'].str.contains(a[i])].value_counts().index[0]\n",
    "        \n",
    "    except:\n",
    "        pass"
   ]
  },
  {
   "cell_type": "code",
   "execution_count": 109,
   "metadata": {},
   "outputs": [],
   "source": [
    "time.sleep(5)"
   ]
  },
  {
   "cell_type": "code",
   "execution_count": 110,
   "metadata": {},
   "outputs": [
    {
     "name": "stdout",
     "output_type": "stream",
     "text": [
      "caprice             42\n",
      "solara              40\n",
      "aspen               40\n",
      "land cruiser        40\n",
      "z4                  40\n",
      "                    ..\n",
      "master deluxe        1\n",
      "gem                  1\n",
      "leb                  1\n",
      "c70 convertibles     1\n",
      "cartair              1\n",
      "Name: make, Length: 3169, dtype: int64\n",
      "3169\n"
     ]
    }
   ],
   "source": [
    "print(df['make'][df['drive'].isnull()].value_counts())\n",
    "print(len(df['make'][df['drive'].isnull()].value_counts()))"
   ]
  },
  {
   "cell_type": "code",
   "execution_count": 111,
   "metadata": {},
   "outputs": [],
   "source": [
    "i=0\n",
    "a = df['make'][df['drive'].isnull()].value_counts().index\n",
    "  \n",
    "for i in range(0,500):\n",
    "    try:\n",
    "        df.loc[((df['make'].str.contains(a[i]))\n",
    "                & (df['drive'].isnull())),'drive']=df['drive'][df['make'].str.contains(a[i])].value_counts().index[0]\n",
    "        \n",
    "    except:\n",
    "        pass"
   ]
  },
  {
   "cell_type": "code",
   "execution_count": 112,
   "metadata": {},
   "outputs": [],
   "source": [
    "time.sleep(5)"
   ]
  },
  {
   "cell_type": "code",
   "execution_count": 113,
   "metadata": {},
   "outputs": [
    {
     "name": "stdout",
     "output_type": "stream",
     "text": [
      "winnebago brave    6\n",
      "chr                4\n",
      "el                 4\n",
      "rubicon            4\n",
      "colbalt            4\n",
      "                  ..\n",
      "high country       1\n",
      "bayliner trophy    1\n",
      "o                  1\n",
      "civi               1\n",
      "lacerna            1\n",
      "Name: make, Length: 549, dtype: int64\n",
      "549\n"
     ]
    }
   ],
   "source": [
    "print(df['make'][df['drive'].isnull()].value_counts())\n",
    "print(len(df['make'][df['drive'].isnull()].value_counts()))"
   ]
  },
  {
   "cell_type": "code",
   "execution_count": 114,
   "metadata": {},
   "outputs": [],
   "source": [
    "i=0\n",
    "a = df['make'][df['drive'].isnull()].value_counts().index\n",
    "  \n",
    "for i in range(0,500):\n",
    "    try:\n",
    "        df.loc[((df['make'].str.contains(a[i]))\n",
    "                & (df['drive'].isnull())),'drive']=df['drive'][df['make'].str.contains(a[i])].value_counts().index[0]\n",
    "        \n",
    "    except:\n",
    "        pass"
   ]
  },
  {
   "cell_type": "code",
   "execution_count": 115,
   "metadata": {},
   "outputs": [],
   "source": [
    "time.sleep(5)"
   ]
  },
  {
   "cell_type": "code",
   "execution_count": 116,
   "metadata": {},
   "outputs": [
    {
     "name": "stdout",
     "output_type": "stream",
     "text": [
      "Series([], Name: make, dtype: int64)\n",
      "0\n"
     ]
    }
   ],
   "source": [
    "print(df['make'][df['drive'].isnull()].value_counts())\n",
    "print(len(df['make'][df['drive'].isnull()].value_counts()))"
   ]
  },
  {
   "cell_type": "code",
   "execution_count": null,
   "metadata": {},
   "outputs": [],
   "source": []
  },
  {
   "cell_type": "code",
   "execution_count": 117,
   "metadata": {},
   "outputs": [
    {
     "data": {
      "text/plain": [
       "size            56.660417\n",
       "condition       28.869267\n",
       "cylinders       27.709262\n",
       "type            27.198997\n",
       "weather          5.011575\n",
       "fuel             0.611093\n",
       "transmission     0.480609\n",
       "title_status     0.059120\n",
       "year             0.000000\n",
       "manufacturer     0.000000\n",
       "make             0.000000\n",
       "county           0.000000\n",
       "odometer         0.000000\n",
       "state            0.000000\n",
       "drive            0.000000\n",
       "city             0.000000\n",
       "price            0.000000\n",
       "dtype: float64"
      ]
     },
     "execution_count": 117,
     "metadata": {},
     "output_type": "execute_result"
    }
   ],
   "source": [
    "((df.isnull().sum()/len(df)).sort_values(ascending = False)*100).astype(float)"
   ]
  },
  {
   "cell_type": "markdown",
   "metadata": {},
   "source": [
    "Let's look into 'make's whose 'type' is null."
   ]
  },
  {
   "cell_type": "code",
   "execution_count": 118,
   "metadata": {},
   "outputs": [
    {
     "name": "stdout",
     "output_type": "stream",
     "text": [
      "1500                   1804\n",
      "f-150                  1628\n",
      "silverado 1500         1310\n",
      "civic                  1302\n",
      "wrangler               1293\n",
      "                       ... \n",
      "f250 lariat bproof        1\n",
      "2500hd crew cab 4x4       1\n",
      "1998 isuzu rodeo          1\n",
      "sonata 4dr sdn 2.0t       1\n",
      "beetle glx 1.8t           1\n",
      "Name: make, Length: 16619, dtype: int64\n",
      "16619\n"
     ]
    }
   ],
   "source": [
    "print(df['make'][df['type'].isnull()].value_counts())\n",
    "print(len(df['make'][df['type'].isnull()].value_counts()))"
   ]
  },
  {
   "cell_type": "code",
   "execution_count": 119,
   "metadata": {},
   "outputs": [
    {
     "data": {
      "text/plain": [
       "truck          10496\n",
       "pickup          8809\n",
       "suv             1888\n",
       "van              293\n",
       "sedan            123\n",
       "other             67\n",
       "offroad           42\n",
       "convertible       29\n",
       "wagon             18\n",
       "mini-van          13\n",
       "coupe              2\n",
       "bus                1\n",
       "hatchback          1\n",
       "Name: type, dtype: int64"
      ]
     },
     "execution_count": 119,
     "metadata": {},
     "output_type": "execute_result"
    }
   ],
   "source": [
    "df['type'][df['make'].str.contains('1500')].value_counts()"
   ]
  },
  {
   "cell_type": "markdown",
   "metadata": {},
   "source": [
    "Let's replace all values of 'type' of '1500' with the most portion, 'truck'."
   ]
  },
  {
   "cell_type": "code",
   "execution_count": 120,
   "metadata": {},
   "outputs": [],
   "source": [
    "df.loc[(df['make'].str.contains('1500')),\n",
    "       'type']=df['type'][df['make'].str.contains('1500')].value_counts().index[0]"
   ]
  },
  {
   "cell_type": "markdown",
   "metadata": {},
   "source": [
    "Let's try to use another for loop to expedite repeatedly instead of using while loop because it keeps stuck in 'not responding' overnight."
   ]
  },
  {
   "cell_type": "code",
   "execution_count": 121,
   "metadata": {},
   "outputs": [],
   "source": [
    "i=0\n",
    "a = df['make'][df['type'].isnull()].value_counts().index\n",
    "  \n",
    "for i in range(0,500):\n",
    "    try:\n",
    "        df.loc[(df['make'].str.contains(a[i])),\n",
    "               'type']=df['type'][df['make'].str.contains(a[i])].value_counts().index[0]\n",
    "        \n",
    "    except:\n",
    "        pass"
   ]
  },
  {
   "cell_type": "code",
   "execution_count": 122,
   "metadata": {},
   "outputs": [],
   "source": [
    "time.sleep(5)"
   ]
  },
  {
   "cell_type": "code",
   "execution_count": 123,
   "metadata": {},
   "outputs": [
    {
     "name": "stdout",
     "output_type": "stream",
     "text": [
      "Series([], Name: make, dtype: int64)\n",
      "0\n"
     ]
    }
   ],
   "source": [
    "print(df['make'][df['drive'].isnull()].value_counts())\n",
    "print(len(df['make'][df['drive'].isnull()].value_counts()))"
   ]
  },
  {
   "cell_type": "code",
   "execution_count": 124,
   "metadata": {
    "scrolled": true
   },
   "outputs": [
    {
     "data": {
      "text/plain": [
       "sedan          165940\n",
       "truck          134980\n",
       "suv            119651\n",
       "coupe           24032\n",
       "mini-van        18528\n",
       "hatchback       17549\n",
       "pickup          16465\n",
       "wagon            5879\n",
       "convertible      4852\n",
       "van              1700\n",
       "other            1093\n",
       "offroad           259\n",
       "bus               152\n",
       "Name: type, dtype: int64"
      ]
     },
     "execution_count": 124,
     "metadata": {},
     "output_type": "execute_result"
    }
   ],
   "source": [
    "df.type.value_counts()"
   ]
  },
  {
   "cell_type": "code",
   "execution_count": 125,
   "metadata": {},
   "outputs": [
    {
     "data": {
      "text/plain": [
       "truck    6950\n",
       "Name: type, dtype: int64"
      ]
     },
     "execution_count": 125,
     "metadata": {},
     "output_type": "execute_result"
    }
   ],
   "source": [
    "df['type'][df['make']=='1500'].value_counts()"
   ]
  },
  {
   "cell_type": "code",
   "execution_count": null,
   "metadata": {},
   "outputs": [],
   "source": []
  },
  {
   "cell_type": "code",
   "execution_count": 126,
   "metadata": {},
   "outputs": [
    {
     "data": {
      "text/plain": [
       "size            56.660417\n",
       "condition       28.869267\n",
       "cylinders       27.709262\n",
       "weather          5.011575\n",
       "type             2.217460\n",
       "fuel             0.611093\n",
       "transmission     0.480609\n",
       "title_status     0.059120\n",
       "year             0.000000\n",
       "manufacturer     0.000000\n",
       "make             0.000000\n",
       "county           0.000000\n",
       "odometer         0.000000\n",
       "state            0.000000\n",
       "drive            0.000000\n",
       "city             0.000000\n",
       "price            0.000000\n",
       "dtype: float64"
      ]
     },
     "execution_count": 126,
     "metadata": {},
     "output_type": "execute_result"
    }
   ],
   "source": [
    "((df.isnull().sum()/len(df)).sort_values(ascending = False)*100).astype(float)"
   ]
  },
  {
   "cell_type": "code",
   "execution_count": 127,
   "metadata": {},
   "outputs": [
    {
     "data": {
      "text/plain": [
       "6 cylinders     136270\n",
       "4 cylinders     114081\n",
       "8 cylinders     109722\n",
       "other            10903\n",
       "5 cylinders       4042\n",
       "10 cylinders      1776\n",
       "3 cylinders        729\n",
       "12 cylinders       319\n",
       "Name: cylinders, dtype: int64"
      ]
     },
     "execution_count": 127,
     "metadata": {},
     "output_type": "execute_result"
    }
   ],
   "source": [
    "df.cylinders.value_counts()"
   ]
  },
  {
   "cell_type": "markdown",
   "metadata": {},
   "source": [
    "Let's look into 'make's whose 'cylinders' are null."
   ]
  },
  {
   "cell_type": "code",
   "execution_count": 128,
   "metadata": {},
   "outputs": [
    {
     "name": "stdout",
     "output_type": "stream",
     "text": [
      "f-150                         2324\n",
      "1500                          1784\n",
      "silverado                     1515\n",
      "silverado 1500                1273\n",
      "civic                         1174\n",
      "                              ... \n",
      "explorer 4wd v8 xlt              1\n",
      "titan 4wd crew cab               1\n",
      "fusion se hybrid / sedan /       1\n",
      "winnebago warrior                1\n",
      "toyata rav4                      1\n",
      "Name: make, Length: 18080, dtype: int64\n",
      "18080\n"
     ]
    }
   ],
   "source": [
    "print(df['make'][df['cylinders'].isnull()].value_counts())\n",
    "print(len(df['make'][df['cylinders'].isnull()].value_counts()))"
   ]
  },
  {
   "cell_type": "code",
   "execution_count": 129,
   "metadata": {},
   "outputs": [
    {
     "data": {
      "text/plain": [
       "8 cylinders     4469\n",
       "6 cylinders     2151\n",
       "other            322\n",
       "4 cylinders       14\n",
       "5 cylinders        5\n",
       "3 cylinders        2\n",
       "10 cylinders       1\n",
       "Name: cylinders, dtype: int64"
      ]
     },
     "execution_count": 129,
     "metadata": {},
     "output_type": "execute_result"
    }
   ],
   "source": [
    "df['cylinders'][df['make'].str.contains('f-150')].value_counts()"
   ]
  },
  {
   "cell_type": "markdown",
   "metadata": {},
   "source": [
    "Let's fill all values of 'cylinders' of 'f-150' with the most portion, '8 cylinders'."
   ]
  },
  {
   "cell_type": "code",
   "execution_count": 130,
   "metadata": {},
   "outputs": [],
   "source": [
    "df.loc[(df['make'].str.contains('f-150')),\n",
    "       'cylinders']=df['cylinders'][df['make'].str.contains('f-150')].value_counts().index[0]"
   ]
  },
  {
   "cell_type": "markdown",
   "metadata": {},
   "source": [
    "Let's try to use another for loop to expedite repeatedly instead of using while loop because it keeps stuck in 'not responding' overnight."
   ]
  },
  {
   "cell_type": "code",
   "execution_count": 131,
   "metadata": {},
   "outputs": [],
   "source": [
    "i=0\n",
    "a = df['make'][df['cylinders'].isnull()].value_counts().index\n",
    "  \n",
    "for i in range(0,500):\n",
    "    try:\n",
    "        df.loc[(df['make'].str.contains(a[i])),\n",
    "               'cylinders']=df['cylinders'][df['make'].str.contains(a[i])].value_counts().index[0]\n",
    "        \n",
    "    except:\n",
    "        pass"
   ]
  },
  {
   "cell_type": "code",
   "execution_count": 132,
   "metadata": {},
   "outputs": [],
   "source": [
    "time.sleep(5)"
   ]
  },
  {
   "cell_type": "code",
   "execution_count": 133,
   "metadata": {},
   "outputs": [
    {
     "name": "stdout",
     "output_type": "stream",
     "text": [
      "truck          43\n",
      "jimmy          43\n",
      "rabbit         43\n",
      "montana        43\n",
      "xf             43\n",
      "               ..\n",
      "t--bird         1\n",
      "unknown         1\n",
      "bfg             1\n",
      "scape xlt       1\n",
      "mclaren p11     1\n",
      "Name: make, Length: 2734, dtype: int64\n",
      "2734\n"
     ]
    }
   ],
   "source": [
    "print(df['make'][df['cylinders'].isnull()].value_counts())\n",
    "print(len(df['make'][df['cylinders'].isnull()].value_counts()))"
   ]
  },
  {
   "cell_type": "code",
   "execution_count": 134,
   "metadata": {},
   "outputs": [],
   "source": [
    "i=0\n",
    "a = df['make'][df['cylinders'].isnull()].value_counts().index\n",
    "  \n",
    "for i in range(0,500):\n",
    "    try:\n",
    "        df.loc[(df['make'].str.contains(a[i])),\n",
    "               'cylinders']=df['cylinders'][df['make'].str.contains(a[i])].value_counts().index[0]\n",
    "        \n",
    "    except:\n",
    "        pass"
   ]
  },
  {
   "cell_type": "code",
   "execution_count": 135,
   "metadata": {},
   "outputs": [],
   "source": [
    "time.sleep(5)"
   ]
  },
  {
   "cell_type": "code",
   "execution_count": 136,
   "metadata": {},
   "outputs": [
    {
     "name": "stdout",
     "output_type": "stream",
     "text": [
      "cruz lt                         4\n",
      "falcon                          4\n",
      "xlr                             4\n",
      "catalina                        3\n",
      "ecoline                         3\n",
      "c/v cargo                       3\n",
      "gran torino                     3\n",
      "apache                          3\n",
      "1991                            3\n",
      "tdi                             3\n",
      "1989                            3\n",
      "fh                              3\n",
      "thing                           3\n",
      "newport                         3\n",
      "vn                              3\n",
      "rivera                          3\n",
      "hrv                             3\n",
      "cruz                            3\n",
      "awd cargo                       3\n",
      "top kick                        3\n",
      "w4                              3\n",
      "defender                        3\n",
      "hybrid                          3\n",
      "crz                             3\n",
      "town &country                   3\n",
      "rv                              3\n",
      "ii                              3\n",
      "fivehundred                     3\n",
      "probe                           3\n",
      "c/v                             3\n",
      "t bucket                        3\n",
      "yj                              2\n",
      "izuzu trooper                   2\n",
      "1.8t                            2\n",
      "e                               2\n",
      "fe                              2\n",
      "corrola                         2\n",
      "tahow                           2\n",
      "four runner                     2\n",
      "galaxy                          2\n",
      "bolt                            2\n",
      "awd                             2\n",
      "toy                             2\n",
      "crew                            2\n",
      "v                               2\n",
      "grand                           2\n",
      "roadtrek                        2\n",
      "trailer                         2\n",
      "x                               2\n",
      "crane carrier                   2\n",
      "other                           2\n",
      "kw                              2\n",
      "c7h                             2\n",
      "jx8                             2\n",
      "car                             2\n",
      "caddy                           2\n",
      "blue bird                       2\n",
      "evo 8                           2\n",
      "vtx                             2\n",
      "cj 7                            2\n",
      "cargo                           2\n",
      "cx9                             2\n",
      "pop                             2\n",
      "che                             2\n",
      ". .                             2\n",
      "geo                             2\n",
      "gl                              2\n",
      "rave 4                          2\n",
      "any                             2\n",
      "bird                            2\n",
      "packard                         2\n",
      "r8                              2\n",
      "bolt ev                         2\n",
      "izuzu rodeo                     2\n",
      "84 nizzan                       2\n",
      "1999                            2\n",
      "high country                    2\n",
      "4 door                          2\n",
      "w                               2\n",
      "bendz                           2\n",
      "hiace                           2\n",
      "dully                           2\n",
      "jk                              2\n",
      "concord                         2\n",
      "typhoon                         2\n",
      "1988                            2\n",
      "xd                              2\n",
      "ventura                         2\n",
      ".                               2\n",
      "dantafe                         2\n",
      "rendevouz                       2\n",
      "king ranch                      2\n",
      "daewoo nubira                   2\n",
      "car trailer                     2\n",
      "iq                              2\n",
      "b9                              2\n",
      "rat rod                         2\n",
      "prowler                         2\n",
      "leer                            2\n",
      "beauville                       2\n",
      "cvpi                            2\n",
      "autobiogr                       2\n",
      "lariat                          2\n",
      "town and county                 2\n",
      "hilux                           2\n",
      "p/u                             2\n",
      "quad cab                        1\n",
      "gal                             1\n",
      "a 7                             1\n",
      "y                               1\n",
      "alero                           1\n",
      "big dog k9 protohype            1\n",
      "yota                            1\n",
      "di                              1\n",
      "cadilac                         1\n",
      "larait                          1\n",
      "cx 9                            1\n",
      "kodak                           1\n",
      "luv                             1\n",
      "tire                            1\n",
      "alt                             1\n",
      "town n country                  1\n",
      "wor                             1\n",
      "taho                            1\n",
      "chey                            1\n",
      "cor                             1\n",
      "rollback flatbed                1\n",
      "rockwood                        1\n",
      "loredo                          1\n",
      "binneville                      1\n",
      "arua xr                         1\n",
      "cruize lt                       1\n",
      "niro hybrid                     1\n",
      "patfinder                       1\n",
      "civiv hybrid                    1\n",
      "inteprid                        1\n",
      "d11                             1\n",
      "five                            1\n",
      "freuhaul                        1\n",
      "cj8                             1\n",
      "hard body                       1\n",
      "bentz                           1\n",
      "1994                            1\n",
      "94                              1\n",
      "corvete                         1\n",
      "pathfiner                       1\n",
      "unknown                         1\n",
      "jayco jay feather               1\n",
      "pro4/x                          1\n",
      "great dane                      1\n",
      "v w                             1\n",
      "park lane                       1\n",
      "co                              1\n",
      "1987chevy                       1\n",
      "cold a/c                        1\n",
      "zepher                          1\n",
      "granada                         1\n",
      "911 carrera                     1\n",
      "town_&_country                  1\n",
      "jag                             1\n",
      "pacfica                         1\n",
      "car port                        1\n",
      "fordoneowner                    1\n",
      "cadi                            1\n",
      "reaper                          1\n",
      "bongo                           1\n",
      "z8                              1\n",
      "liteace                         1\n",
      "ultra                           1\n",
      "laredo                          1\n",
      "grandprix                       1\n",
      "evoke                           1\n",
      "tiquan                          1\n",
      "renault                         1\n",
      "#value!                         1\n",
      "cvn                             1\n",
      "cx 7                            1\n",
      "wr                              1\n",
      "4.7                             1\n",
      "daville                         1\n",
      "ci                              1\n",
      "tubdra                          1\n",
      "ilk                             1\n",
      "thing type 181                  1\n",
      "deuce                           1\n",
      "txl                             1\n",
      "t444e                           1\n",
      "infinite                        1\n",
      "gargo                           1\n",
      "chevey                          1\n",
      "altezza                         1\n",
      "1981 lariat                     1\n",
      "c                               1\n",
      "a$                              1\n",
      "focua                           1\n",
      "ava                             1\n",
      "chevrolet. obalt                1\n",
      "adult owned                     1\n",
      "big dog                         1\n",
      "vega                            1\n",
      "lancia zagato                   1\n",
      "r/t                             1\n",
      "curt                            1\n",
      "chevi                           1\n",
      "l                               1\n",
      "five window                     1\n",
      "civc                            1\n",
      "cara                            1\n",
      "ta                              1\n",
      "grandpre                        1\n",
      "da                              1\n",
      "devil                           1\n",
      "grandcharakee                   1\n",
      "by                              1\n",
      "pajero                          1\n",
      "crb                             1\n",
      "cobolt                          1\n",
      "city                            1\n",
      "luxury 4 x 4                    1\n",
      "ezgo                            1\n",
      "lincon                          1\n",
      "low cab                         1\n",
      "rav. 4                          1\n",
      "walter                          1\n",
      "torino                          1\n",
      "chet                            1\n",
      "oneowner                        1\n",
      "thor ace                        1\n",
      "night train                     1\n",
      "ez go                           1\n",
      "courier                         1\n",
      "civc rt4wd                      1\n",
      "out look                        1\n",
      "lfc                             1\n",
      "c7h top kick                    1\n",
      "calavier                        1\n",
      "..                              1\n",
      "boxter                          1\n",
      "xv                              1\n",
      "continential                    1\n",
      "carola                          1\n",
      "orangeburg                      1\n",
      "bolt ev lt                      1\n",
      "/                               1\n",
      "juaguar                         1\n",
      "niro                            1\n",
      "peterbuilt                      1\n",
      "tj                              1\n",
      "argo xplorer atv                1\n",
      "ran                             1\n",
      "terrazza                        1\n",
      "4run                            1\n",
      "patrol                          1\n",
      "tau                             1\n",
      "le baron                        1\n",
      "coup                            1\n",
      "ri                              1\n",
      "brat                            1\n",
      "cj                              1\n",
      "durago                          1\n",
      "kona                            1\n",
      "xb                              1\n",
      "polara                          1\n",
      "are                             1\n",
      "hightop                         1\n",
      "wildcat                         1\n",
      "note                            1\n",
      "heavy half ton                  1\n",
      "tiger                           1\n",
      "land r                          1\n",
      "eqiunox                         1\n",
      "eveo                            1\n",
      "xle                             1\n",
      "flhc                            1\n",
      "xl                              1\n",
      "1984                            1\n",
      "highland                        1\n",
      "navi                            1\n",
      "lcj                             1\n",
      "f pace                          1\n",
      "fj                              1\n",
      "volkwagen                       1\n",
      "royal                           1\n",
      "od                              1\n",
      "appalachian                     1\n",
      "n/a                             1\n",
      "adacia                          1\n",
      "car hauler                      1\n",
      "ducati 749                      1\n",
      "wra                             1\n",
      "caviler                         1\n",
      "ranier cxl                      1\n",
      "#                               1\n",
      "corvetge                        1\n",
      "toyata                          1\n",
      "daewoo leganza                  1\n",
      "daily driver                    1\n",
      "th                              1\n",
      "town+and+country                1\n",
      "cob                             1\n",
      "jeta                            1\n",
      "daily drive                     1\n",
      "youkon                          1\n",
      "longhorn                        1\n",
      "litace                          1\n",
      "corona                          1\n",
      "privia                          1\n",
      "jx                              1\n",
      "town                            1\n",
      "ranch king                      1\n",
      "xc7p                            1\n",
      "b7 alpina                       1\n",
      "grandville                      1\n",
      "tucon                           1\n",
      "blurebird                       1\n",
      "acord                           1\n",
      "evo                             1\n",
      "valiant                         1\n",
      "grand hiace                     1\n",
      "trail pro trailer               1\n",
      "terrian                         1\n",
      "rotary                          1\n",
      "99                              1\n",
      "li                              1\n",
      "cal                             1\n",
      "4d chy                          1\n",
      "roque                           1\n",
      "lt                              1\n",
      "4c                              1\n",
      "crew cab                        1\n",
      "egator                          1\n",
      "packard eight                   1\n",
      "colbolt lt                      1\n",
      "hd fatboy                       1\n",
      "phoenix                         1\n",
      "tahoo                           1\n",
      "brigadier                       1\n",
      "zhp                             1\n",
      "loaded with power               1\n",
      "h&h                             1\n",
      "think city                      1\n",
      "i                               1\n",
      "highland ridge rv open range    1\n",
      "bighorn                         1\n",
      "kit car                         1\n",
      "winnebago                       1\n",
      "fully loaded with leather       1\n",
      "lucurne                         1\n",
      "caravn                          1\n",
      "rang                            1\n",
      "4wd                             1\n",
      "a                               1\n",
      "new flyer                       1\n",
      "chevt                           1\n",
      "colorando                       1\n",
      "cv                              1\n",
      "touring                         1\n",
      "xtype                           1\n",
      "rd                              1\n",
      "datona                          1\n",
      "tita                            1\n",
      "fat boy                         1\n",
      "hond                            1\n",
      "corrola le                      1\n",
      "navy                            1\n",
      "lecure                          1\n",
      "durngo                          1\n",
      "tao tao                         1\n",
      "town an country                 1\n",
      "(range rover)                   1\n",
      "towen car                       1\n",
      "bar                             1\n",
      "tiberon                         1\n",
      "inpala                          1\n",
      "boat                            1\n",
      "fury                            1\n",
      "coblat                          1\n",
      "devile                          1\n",
      "town & county                   1\n",
      "cheverolet                      1\n",
      "grand cheroke                   1\n",
      "ranier                          1\n",
      "f1                              1\n",
      "i d k                           1\n",
      "regular cab                     1\n",
      "v8 4.7                          1\n",
      "winnabago                       1\n",
      "trunda                          1\n",
      "hyaundai                        1\n",
      "corrolla                        1\n",
      "pantera                         1\n",
      "valkyrie                        1\n",
      "gue                             1\n",
      "bfg                             1\n",
      "old 88                          1\n",
      "rangwr                          1\n",
      "crane carrier low entry         1\n",
      "any car                         1\n",
      "grand touring                   1\n",
      "feville                         1\n",
      "think                           1\n",
      "jaquar                          1\n",
      "cadilalc                        1\n",
      "tu                              1\n",
      "arura                           1\n",
      "out                             1\n",
      "toyoto                          1\n",
      "ic                              1\n",
      "le                              1\n",
      "chance trolley                  1\n",
      "peugeot                         1\n",
      "goldwing                        1\n",
      "granada p                       1\n",
      "tin lizzie                      1\n",
      "x#                              1\n",
      "highcounty                      1\n",
      "1/4ton cargo                    1\n",
      "priua                           1\n",
      "qx $                            1\n",
      "prot????g????                   1\n",
      "king cab 4 dr                   1\n",
      "peterbulit                      1\n",
      "lwb                             1\n",
      "byrd                            1\n",
      "74i                             1\n",
      "bolt lt                         1\n",
      "canry                           1\n",
      "leb                             1\n",
      "99int                           1\n",
      "Name: make, dtype: int64\n",
      "429\n"
     ]
    }
   ],
   "source": [
    "print(df['make'][df['cylinders'].isnull()].value_counts())\n",
    "print(len(df['make'][df['cylinders'].isnull()].value_counts()))"
   ]
  },
  {
   "cell_type": "code",
   "execution_count": 137,
   "metadata": {},
   "outputs": [
    {
     "name": "stderr",
     "output_type": "stream",
     "text": [
      "C:\\Users\\danie\\Anaconda\\lib\\site-packages\\pandas\\core\\strings.py:1954: UserWarning: This pattern has match groups. To actually get the groups, use str.extract.\n",
      "  return func(self, *args, **kwargs)\n"
     ]
    }
   ],
   "source": [
    "i=0\n",
    "a = df['make'][df['cylinders'].isnull()].value_counts().index\n",
    "  \n",
    "for i in range(0,500):\n",
    "    try:\n",
    "        df.loc[(df['make'].str.contains(a[i])),\n",
    "               'cylinders']=df['cylinders'][df['make'].str.contains(a[i])].value_counts().index[0]\n",
    "        \n",
    "    except:\n",
    "        pass"
   ]
  },
  {
   "cell_type": "code",
   "execution_count": 138,
   "metadata": {},
   "outputs": [],
   "source": [
    "time.sleep(5)"
   ]
  },
  {
   "cell_type": "code",
   "execution_count": 139,
   "metadata": {},
   "outputs": [
    {
     "name": "stdout",
     "output_type": "stream",
     "text": [
      "Series([], Name: make, dtype: int64)\n",
      "0\n"
     ]
    }
   ],
   "source": [
    "print(df['make'][df['cylinders'].isnull()].value_counts())\n",
    "print(len(df['make'][df['cylinders'].isnull()].value_counts()))"
   ]
  },
  {
   "cell_type": "code",
   "execution_count": null,
   "metadata": {},
   "outputs": [],
   "source": []
  },
  {
   "cell_type": "code",
   "execution_count": 140,
   "metadata": {},
   "outputs": [
    {
     "data": {
      "text/plain": [
       "size            56.660417\n",
       "condition       28.869267\n",
       "weather          5.011575\n",
       "type             2.217460\n",
       "fuel             0.611093\n",
       "transmission     0.480609\n",
       "title_status     0.059120\n",
       "cylinders        0.000000\n",
       "year             0.000000\n",
       "manufacturer     0.000000\n",
       "make             0.000000\n",
       "county           0.000000\n",
       "odometer         0.000000\n",
       "state            0.000000\n",
       "drive            0.000000\n",
       "city             0.000000\n",
       "price            0.000000\n",
       "dtype: float64"
      ]
     },
     "execution_count": 140,
     "metadata": {},
     "output_type": "execute_result"
    }
   ],
   "source": [
    "((df.isnull().sum()/len(df)).sort_values(ascending = False)*100).astype(float)"
   ]
  },
  {
   "cell_type": "code",
   "execution_count": 141,
   "metadata": {},
   "outputs": [
    {
     "data": {
      "text/plain": [
       "full-size      117444\n",
       "mid-size        67542\n",
       "compact         36821\n",
       "sub-compact      4716\n",
       "Name: size, dtype: int64"
      ]
     },
     "execution_count": 141,
     "metadata": {},
     "output_type": "execute_result"
    }
   ],
   "source": [
    "df['size'].value_counts()"
   ]
  },
  {
   "cell_type": "markdown",
   "metadata": {},
   "source": [
    "Let's look into 'make's whose 'size' is null."
   ]
  },
  {
   "cell_type": "code",
   "execution_count": 142,
   "metadata": {},
   "outputs": [
    {
     "name": "stdout",
     "output_type": "stream",
     "text": [
      "f-150                        4310\n",
      "1500                         3763\n",
      "silverado 1500               2928\n",
      "wrangler                     2431\n",
      "camry                        2208\n",
      "                             ... \n",
      "nissann versa                   1\n",
      "2500 diesel cummins 6.          1\n",
      "davidson softail standard       1\n",
      "qx4 4wd                         1\n",
      "toyata rav4                     1\n",
      "Name: make, Length: 29203, dtype: int64\n",
      "29203\n"
     ]
    }
   ],
   "source": [
    "print(df['make'][df['size'].isnull()].value_counts())\n",
    "print(len(df['make'][df['size'].isnull()].value_counts()))"
   ]
  },
  {
   "cell_type": "code",
   "execution_count": 143,
   "metadata": {},
   "outputs": [
    {
     "data": {
      "text/plain": [
       "full-size    3930\n",
       "mid-size      273\n",
       "compact        13\n",
       "Name: size, dtype: int64"
      ]
     },
     "execution_count": 143,
     "metadata": {},
     "output_type": "execute_result"
    }
   ],
   "source": [
    "df['size'][df['make'].str.contains('f-150')].value_counts()"
   ]
  },
  {
   "cell_type": "markdown",
   "metadata": {},
   "source": [
    "Let's replace all values of 'size' of 'f-150' with the most portion, 'full-size'."
   ]
  },
  {
   "cell_type": "code",
   "execution_count": 144,
   "metadata": {},
   "outputs": [],
   "source": [
    "df.loc[(df['make'].str.contains('f-150')),\n",
    "       'size']=df['size'][df['make'].str.contains('f-150')].value_counts().index[0]"
   ]
  },
  {
   "cell_type": "markdown",
   "metadata": {},
   "source": [
    "Let's try to use another for loop to expedite repeatedly instead of using while loop because it keeps stuck in 'not responding' overnight."
   ]
  },
  {
   "cell_type": "code",
   "execution_count": 145,
   "metadata": {},
   "outputs": [],
   "source": [
    "i=0\n",
    "a = df['make'][df['size'].isnull()].value_counts().index\n",
    "  \n",
    "for i in range(0,500):\n",
    "    try:\n",
    "        df.loc[(df['make'].str.contains(a[i])),\n",
    "               'size']=df['size'][df['make'].str.contains(a[i])].value_counts().index[0]\n",
    "        \n",
    "    except:\n",
    "        pass"
   ]
  },
  {
   "cell_type": "code",
   "execution_count": 146,
   "metadata": {},
   "outputs": [],
   "source": [
    "time.sleep(5)"
   ]
  },
  {
   "cell_type": "code",
   "execution_count": 147,
   "metadata": {},
   "outputs": [
    {
     "name": "stdout",
     "output_type": "stream",
     "text": [
      "sunfire                    93\n",
      "five hundred               91\n",
      "rabbit                     91\n",
      "porsche 911                90\n",
      "astro                      89\n",
      "                           ..\n",
      "rainer cxl                  1\n",
      "eclispe gt                  1\n",
      "feville                     1\n",
      "ranch wagon                 1\n",
      "porsche 911 convertible     1\n",
      "Name: make, Length: 4738, dtype: int64\n",
      "4738\n"
     ]
    }
   ],
   "source": [
    "print(df['make'][df['size'].isnull()].value_counts())\n",
    "print(len(df['make'][df['size'].isnull()].value_counts()))"
   ]
  },
  {
   "cell_type": "code",
   "execution_count": 148,
   "metadata": {},
   "outputs": [],
   "source": [
    "i=0\n",
    "a = df['make'][df['size'].isnull()].value_counts().index\n",
    "  \n",
    "for i in range(0,500):\n",
    "    try:\n",
    "        df.loc[(df['make'].str.contains(a[i])),\n",
    "               'size']=df['size'][df['make'].str.contains(a[i])].value_counts().index[0]\n",
    "        \n",
    "    except:\n",
    "        pass"
   ]
  },
  {
   "cell_type": "code",
   "execution_count": 149,
   "metadata": {},
   "outputs": [],
   "source": [
    "time.sleep(5)"
   ]
  },
  {
   "cell_type": "code",
   "execution_count": 150,
   "metadata": {
    "scrolled": true
   },
   "outputs": [
    {
     "name": "stdout",
     "output_type": "stream",
     "text": [
      "wave                   8\n",
      "olds alero             8\n",
      "corsica                8\n",
      "santafe                8\n",
      "pu                     8\n",
      "                      ..\n",
      "georgie boy pursuit    1\n",
      "to                     1\n",
      "ava                    1\n",
      "power driver           1\n",
      "arura                  1\n",
      "Name: make, Length: 1170, dtype: int64\n",
      "1170\n"
     ]
    }
   ],
   "source": [
    "print(df['make'][df['size'].isnull()].value_counts())\n",
    "print(len(df['make'][df['size'].isnull()].value_counts()))"
   ]
  },
  {
   "cell_type": "code",
   "execution_count": 151,
   "metadata": {},
   "outputs": [],
   "source": [
    "i=0\n",
    "a = df['make'][df['size'].isnull()].value_counts().index\n",
    "  \n",
    "for i in range(0,500):\n",
    "    try:\n",
    "        df.loc[(df['make'].str.contains(a[i])),\n",
    "               'size']=df['size'][df['make'].str.contains(a[i])].value_counts().index[0]\n",
    "        \n",
    "    except:\n",
    "        pass"
   ]
  },
  {
   "cell_type": "code",
   "execution_count": 152,
   "metadata": {},
   "outputs": [],
   "source": [
    "time.sleep(5)"
   ]
  },
  {
   "cell_type": "code",
   "execution_count": 153,
   "metadata": {},
   "outputs": [
    {
     "name": "stdout",
     "output_type": "stream",
     "text": [
      "Series([], Name: make, dtype: int64)\n",
      "0\n"
     ]
    }
   ],
   "source": [
    "print(df['make'][df['size'].isnull()].value_counts())\n",
    "print(len(df['make'][df['size'].isnull()].value_counts()))"
   ]
  },
  {
   "cell_type": "code",
   "execution_count": null,
   "metadata": {},
   "outputs": [],
   "source": []
  },
  {
   "cell_type": "code",
   "execution_count": 154,
   "metadata": {},
   "outputs": [
    {
     "data": {
      "text/plain": [
       "condition       28.869267\n",
       "weather          5.011575\n",
       "type             2.217460\n",
       "fuel             0.611093\n",
       "transmission     0.480609\n",
       "title_status     0.059120\n",
       "year             0.000000\n",
       "manufacturer     0.000000\n",
       "make             0.000000\n",
       "cylinders        0.000000\n",
       "county           0.000000\n",
       "odometer         0.000000\n",
       "state            0.000000\n",
       "drive            0.000000\n",
       "size             0.000000\n",
       "city             0.000000\n",
       "price            0.000000\n",
       "dtype: float64"
      ]
     },
     "execution_count": 154,
     "metadata": {},
     "output_type": "execute_result"
    }
   ],
   "source": [
    "((df.isnull().sum()/len(df)).sort_values(ascending = False)*100).astype(float)"
   ]
  },
  {
   "cell_type": "code",
   "execution_count": 155,
   "metadata": {},
   "outputs": [
    {
     "data": {
      "text/plain": [
       "excellent    159048\n",
       "good         143715\n",
       "like new      39396\n",
       "fair          25403\n",
       "new            2325\n",
       "salvage        1892\n",
       "Name: condition, dtype: int64"
      ]
     },
     "execution_count": 155,
     "metadata": {},
     "output_type": "execute_result"
    }
   ],
   "source": [
    "df['condition'].value_counts()"
   ]
  },
  {
   "cell_type": "code",
   "execution_count": 156,
   "metadata": {},
   "outputs": [
    {
     "data": {
      "text/plain": [
       "clean         486173\n",
       "rebuilt        15443\n",
       "salvage        11350\n",
       "lien            7681\n",
       "missing         1224\n",
       "parts only       490\n",
       "Name: title_status, dtype: int64"
      ]
     },
     "execution_count": 156,
     "metadata": {},
     "output_type": "execute_result"
    }
   ],
   "source": [
    "df['title_status'].value_counts()"
   ]
  },
  {
   "cell_type": "code",
   "execution_count": 157,
   "metadata": {},
   "outputs": [
    {
     "data": {
      "text/plain": [
       "clean         147159\n",
       "rebuilt         5488\n",
       "lien            3261\n",
       "salvage         3025\n",
       "missing           86\n",
       "parts only        29\n",
       "Name: title_status, dtype: int64"
      ]
     },
     "execution_count": 157,
     "metadata": {},
     "output_type": "execute_result"
    }
   ],
   "source": [
    "df['title_status'][df['condition']=='excellent'].value_counts()"
   ]
  },
  {
   "cell_type": "code",
   "execution_count": 158,
   "metadata": {},
   "outputs": [
    {
     "data": {
      "text/plain": [
       "clean         133746\n",
       "rebuilt         4013\n",
       "salvage         3325\n",
       "lien            2097\n",
       "missing          419\n",
       "parts only       113\n",
       "Name: title_status, dtype: int64"
      ]
     },
     "execution_count": 158,
     "metadata": {},
     "output_type": "execute_result"
    }
   ],
   "source": [
    "df['title_status'][df['condition']=='good'].value_counts()"
   ]
  },
  {
   "cell_type": "code",
   "execution_count": 159,
   "metadata": {},
   "outputs": [
    {
     "data": {
      "text/plain": [
       "clean         34784\n",
       "rebuilt        2172\n",
       "lien           1268\n",
       "salvage        1131\n",
       "missing          31\n",
       "parts only       10\n",
       "Name: title_status, dtype: int64"
      ]
     },
     "execution_count": 159,
     "metadata": {},
     "output_type": "execute_result"
    }
   ],
   "source": [
    "df['title_status'][df['condition']=='like new'].value_counts()"
   ]
  },
  {
   "cell_type": "code",
   "execution_count": 160,
   "metadata": {},
   "outputs": [
    {
     "data": {
      "text/plain": [
       "clean         23412\n",
       "salvage         744\n",
       "rebuilt         555\n",
       "missing         395\n",
       "lien            207\n",
       "parts only       90\n",
       "Name: title_status, dtype: int64"
      ]
     },
     "execution_count": 160,
     "metadata": {},
     "output_type": "execute_result"
    }
   ],
   "source": [
    "df['title_status'][df['condition']=='fair'].value_counts()"
   ]
  },
  {
   "cell_type": "code",
   "execution_count": 161,
   "metadata": {},
   "outputs": [
    {
     "data": {
      "text/plain": [
       "clean         2064\n",
       "lien           109\n",
       "rebuilt         85\n",
       "salvage         61\n",
       "parts only       4\n",
       "missing          2\n",
       "Name: title_status, dtype: int64"
      ]
     },
     "execution_count": 161,
     "metadata": {},
     "output_type": "execute_result"
    }
   ],
   "source": [
    "df['title_status'][df['condition']=='new'].value_counts()"
   ]
  },
  {
   "cell_type": "code",
   "execution_count": 162,
   "metadata": {},
   "outputs": [
    {
     "data": {
      "text/plain": [
       "salvage       811\n",
       "clean         787\n",
       "parts only    122\n",
       "missing        86\n",
       "rebuilt        73\n",
       "lien           13\n",
       "Name: title_status, dtype: int64"
      ]
     },
     "execution_count": 162,
     "metadata": {},
     "output_type": "execute_result"
    }
   ],
   "source": [
    "df['title_status'][df['condition']=='salvage'].value_counts()"
   ]
  },
  {
   "cell_type": "code",
   "execution_count": 163,
   "metadata": {},
   "outputs": [
    {
     "data": {
      "text/plain": [
       "excellent    147159\n",
       "good         133746\n",
       "like new      34784\n",
       "fair          23412\n",
       "new            2064\n",
       "salvage         787\n",
       "Name: condition, dtype: int64"
      ]
     },
     "execution_count": 163,
     "metadata": {},
     "output_type": "execute_result"
    }
   ],
   "source": [
    "df['condition'][df['title_status']=='clean'].value_counts()"
   ]
  },
  {
   "cell_type": "code",
   "execution_count": 164,
   "metadata": {},
   "outputs": [
    {
     "data": {
      "text/plain": [
       "excellent    5488\n",
       "good         4013\n",
       "like new     2172\n",
       "fair          555\n",
       "new            85\n",
       "salvage        73\n",
       "Name: condition, dtype: int64"
      ]
     },
     "execution_count": 164,
     "metadata": {},
     "output_type": "execute_result"
    }
   ],
   "source": [
    "df['condition'][df['title_status']=='rebuilt'].value_counts()"
   ]
  },
  {
   "cell_type": "code",
   "execution_count": 165,
   "metadata": {},
   "outputs": [
    {
     "data": {
      "text/plain": [
       "good         3325\n",
       "excellent    3025\n",
       "like new     1131\n",
       "salvage       811\n",
       "fair          744\n",
       "new            61\n",
       "Name: condition, dtype: int64"
      ]
     },
     "execution_count": 165,
     "metadata": {},
     "output_type": "execute_result"
    }
   ],
   "source": [
    "df['condition'][df['title_status']=='salvage'].value_counts()"
   ]
  },
  {
   "cell_type": "code",
   "execution_count": 166,
   "metadata": {},
   "outputs": [
    {
     "data": {
      "text/plain": [
       "excellent    3261\n",
       "good         2097\n",
       "like new     1268\n",
       "fair          207\n",
       "new           109\n",
       "salvage        13\n",
       "Name: condition, dtype: int64"
      ]
     },
     "execution_count": 166,
     "metadata": {},
     "output_type": "execute_result"
    }
   ],
   "source": [
    "df['condition'][df['title_status']=='lien'].value_counts()"
   ]
  },
  {
   "cell_type": "code",
   "execution_count": 167,
   "metadata": {},
   "outputs": [
    {
     "data": {
      "text/plain": [
       "good         419\n",
       "fair         395\n",
       "salvage       86\n",
       "excellent     86\n",
       "like new      31\n",
       "new            2\n",
       "Name: condition, dtype: int64"
      ]
     },
     "execution_count": 167,
     "metadata": {},
     "output_type": "execute_result"
    }
   ],
   "source": [
    "df['condition'][df['title_status']=='missing'].value_counts()"
   ]
  },
  {
   "cell_type": "code",
   "execution_count": 168,
   "metadata": {},
   "outputs": [
    {
     "data": {
      "text/plain": [
       "salvage      122\n",
       "good         113\n",
       "fair          90\n",
       "excellent     29\n",
       "like new      10\n",
       "new            4\n",
       "Name: condition, dtype: int64"
      ]
     },
     "execution_count": 168,
     "metadata": {},
     "output_type": "execute_result"
    }
   ],
   "source": [
    "df['condition'][df['title_status']=='parts only'].value_counts()"
   ]
  },
  {
   "cell_type": "code",
   "execution_count": 169,
   "metadata": {},
   "outputs": [],
   "source": [
    "df['year']=df['year'].astype(int)"
   ]
  },
  {
   "cell_type": "code",
   "execution_count": 170,
   "metadata": {},
   "outputs": [
    {
     "data": {
      "text/plain": [
       "2019"
      ]
     },
     "execution_count": 170,
     "metadata": {},
     "output_type": "execute_result"
    }
   ],
   "source": [
    "df['year'].max()"
   ]
  },
  {
   "cell_type": "code",
   "execution_count": 171,
   "metadata": {},
   "outputs": [
    {
     "data": {
      "text/html": [
       "<div>\n",
       "<style scoped>\n",
       "    .dataframe tbody tr th:only-of-type {\n",
       "        vertical-align: middle;\n",
       "    }\n",
       "\n",
       "    .dataframe tbody tr th {\n",
       "        vertical-align: top;\n",
       "    }\n",
       "\n",
       "    .dataframe thead th {\n",
       "        text-align: right;\n",
       "    }\n",
       "</style>\n",
       "<table border=\"1\" class=\"dataframe\">\n",
       "  <thead>\n",
       "    <tr style=\"text-align: right;\">\n",
       "      <th></th>\n",
       "      <th>price</th>\n",
       "      <th>year</th>\n",
       "      <th>manufacturer</th>\n",
       "      <th>make</th>\n",
       "      <th>condition</th>\n",
       "      <th>cylinders</th>\n",
       "      <th>fuel</th>\n",
       "      <th>odometer</th>\n",
       "      <th>title_status</th>\n",
       "      <th>transmission</th>\n",
       "      <th>drive</th>\n",
       "      <th>size</th>\n",
       "      <th>type</th>\n",
       "      <th>weather</th>\n",
       "      <th>city</th>\n",
       "      <th>state</th>\n",
       "      <th>county</th>\n",
       "      <th>usage_yr</th>\n",
       "    </tr>\n",
       "  </thead>\n",
       "  <tbody>\n",
       "    <tr>\n",
       "      <th>0</th>\n",
       "      <td>11900</td>\n",
       "      <td>2010</td>\n",
       "      <td>dodge</td>\n",
       "      <td>challenger se</td>\n",
       "      <td>good</td>\n",
       "      <td>4 cylinders</td>\n",
       "      <td>gas</td>\n",
       "      <td>43600.0</td>\n",
       "      <td>clean</td>\n",
       "      <td>automatic</td>\n",
       "      <td>rwd</td>\n",
       "      <td>full-size</td>\n",
       "      <td>coupe</td>\n",
       "      <td>38.0</td>\n",
       "      <td>Harrisburg</td>\n",
       "      <td>South Dakota</td>\n",
       "      <td>Lincoln County</td>\n",
       "      <td>9</td>\n",
       "    </tr>\n",
       "    <tr>\n",
       "      <th>3</th>\n",
       "      <td>2800</td>\n",
       "      <td>2004</td>\n",
       "      <td>ford</td>\n",
       "      <td>taurus</td>\n",
       "      <td>good</td>\n",
       "      <td>4 cylinders</td>\n",
       "      <td>gas</td>\n",
       "      <td>168591.0</td>\n",
       "      <td>clean</td>\n",
       "      <td>automatic</td>\n",
       "      <td>fwd</td>\n",
       "      <td>full-size</td>\n",
       "      <td>sedan</td>\n",
       "      <td>47.0</td>\n",
       "      <td>Sanborn</td>\n",
       "      <td>Iowa</td>\n",
       "      <td>O'Brien County</td>\n",
       "      <td>15</td>\n",
       "    </tr>\n",
       "    <tr>\n",
       "      <th>4</th>\n",
       "      <td>400</td>\n",
       "      <td>2001</td>\n",
       "      <td>pontiac</td>\n",
       "      <td>2001 grand prix</td>\n",
       "      <td>NaN</td>\n",
       "      <td>4 cylinders</td>\n",
       "      <td>gas</td>\n",
       "      <td>217000.0</td>\n",
       "      <td>clean</td>\n",
       "      <td>automatic</td>\n",
       "      <td>fwd</td>\n",
       "      <td>full-size</td>\n",
       "      <td>sedan</td>\n",
       "      <td>47.0</td>\n",
       "      <td>Algona</td>\n",
       "      <td>Iowa</td>\n",
       "      <td>Kossuth County</td>\n",
       "      <td>18</td>\n",
       "    </tr>\n",
       "    <tr>\n",
       "      <th>5</th>\n",
       "      <td>9900</td>\n",
       "      <td>2007</td>\n",
       "      <td>gmc</td>\n",
       "      <td>yukon</td>\n",
       "      <td>good</td>\n",
       "      <td>4 cylinders</td>\n",
       "      <td>gas</td>\n",
       "      <td>169000.0</td>\n",
       "      <td>clean</td>\n",
       "      <td>automatic</td>\n",
       "      <td>4wd</td>\n",
       "      <td>full-size</td>\n",
       "      <td>suv</td>\n",
       "      <td>38.0</td>\n",
       "      <td>Lennox</td>\n",
       "      <td>South Dakota</td>\n",
       "      <td>Lincoln County</td>\n",
       "      <td>12</td>\n",
       "    </tr>\n",
       "    <tr>\n",
       "      <th>6</th>\n",
       "      <td>12500</td>\n",
       "      <td>2015</td>\n",
       "      <td>jeep</td>\n",
       "      <td>patriot high altitude</td>\n",
       "      <td>like new</td>\n",
       "      <td>4 cylinders</td>\n",
       "      <td>gas</td>\n",
       "      <td>39500.0</td>\n",
       "      <td>rebuilt</td>\n",
       "      <td>automatic</td>\n",
       "      <td>4wd</td>\n",
       "      <td>full-size</td>\n",
       "      <td>suv</td>\n",
       "      <td>38.0</td>\n",
       "      <td>Sioux Falls</td>\n",
       "      <td>South Dakota</td>\n",
       "      <td>Minnehaha County</td>\n",
       "      <td>4</td>\n",
       "    </tr>\n",
       "  </tbody>\n",
       "</table>\n",
       "</div>"
      ],
      "text/plain": [
       "   price  year manufacturer                   make condition    cylinders  \\\n",
       "0  11900  2010        dodge          challenger se      good  4 cylinders   \n",
       "3   2800  2004         ford                 taurus      good  4 cylinders   \n",
       "4    400  2001      pontiac        2001 grand prix       NaN  4 cylinders   \n",
       "5   9900  2007          gmc                  yukon      good  4 cylinders   \n",
       "6  12500  2015         jeep  patriot high altitude  like new  4 cylinders   \n",
       "\n",
       "  fuel  odometer title_status transmission drive       size   type  weather  \\\n",
       "0  gas   43600.0        clean    automatic   rwd  full-size  coupe     38.0   \n",
       "3  gas  168591.0        clean    automatic   fwd  full-size  sedan     47.0   \n",
       "4  gas  217000.0        clean    automatic   fwd  full-size  sedan     47.0   \n",
       "5  gas  169000.0        clean    automatic   4wd  full-size    suv     38.0   \n",
       "6  gas   39500.0      rebuilt    automatic   4wd  full-size    suv     38.0   \n",
       "\n",
       "          city         state            county  usage_yr  \n",
       "0   Harrisburg  South Dakota    Lincoln County         9  \n",
       "3      Sanborn          Iowa    O'Brien County        15  \n",
       "4       Algona          Iowa    Kossuth County        18  \n",
       "5       Lennox  South Dakota    Lincoln County        12  \n",
       "6  Sioux Falls  South Dakota  Minnehaha County         4  "
      ]
     },
     "execution_count": 171,
     "metadata": {},
     "output_type": "execute_result"
    }
   ],
   "source": [
    "df['usage_yr']=df['year'].max()-df['year']\n",
    "df.head()"
   ]
  },
  {
   "cell_type": "code",
   "execution_count": 172,
   "metadata": {},
   "outputs": [
    {
     "data": {
      "text/plain": [
       "<matplotlib.axes._subplots.AxesSubplot at 0x2c2f8677688>"
      ]
     },
     "execution_count": 172,
     "metadata": {},
     "output_type": "execute_result"
    },
    {
     "data": {
      "image/png": "[encoded data removed]",
      "text/plain": [
       "<Figure size 432x288 with 1 Axes>"
      ]
     },
     "metadata": {
      "needs_background": "light"
     },
     "output_type": "display_data"
    }
   ],
   "source": [
    "df['usage_yr'].hist()"
   ]
  },
  {
   "cell_type": "code",
   "execution_count": 173,
   "metadata": {},
   "outputs": [],
   "source": [
    "df['price']=df['price'].astype(int)"
   ]
  },
  {
   "cell_type": "code",
   "execution_count": 174,
   "metadata": {},
   "outputs": [],
   "source": [
    "df['odometer']=df['odometer'].astype(int)"
   ]
  },
  {
   "cell_type": "code",
   "execution_count": 175,
   "metadata": {
    "scrolled": true
   },
   "outputs": [],
   "source": [
    "df['weather']=df['weather'].astype(float)"
   ]
  },
  {
   "cell_type": "code",
   "execution_count": 176,
   "metadata": {},
   "outputs": [
    {
     "data": {
      "text/plain": [
       "<matplotlib.axes._subplots.AxesSubplot at 0x2c2f8de97c8>"
      ]
     },
     "execution_count": 176,
     "metadata": {},
     "output_type": "execute_result"
    },
    {
     "data": {
      "image/png": "[encoded data removed]",
      "text/plain": [
       "<Figure size 432x288 with 1 Axes>"
      ]
     },
     "metadata": {
      "needs_background": "light"
     },
     "output_type": "display_data"
    }
   ],
   "source": [
    "df['weather'].hist()"
   ]
  },
  {
   "cell_type": "code",
   "execution_count": 177,
   "metadata": {},
   "outputs": [
    {
     "data": {
      "text/plain": [
       "<matplotlib.axes._subplots.AxesSubplot at 0x2c2f8dc8a88>"
      ]
     },
     "execution_count": 177,
     "metadata": {},
     "output_type": "execute_result"
    },
    {
     "data": {
      "image/png": "[encoded data removed]",
      "text/plain": [
       "<Figure size 432x288 with 1 Axes>"
      ]
     },
     "metadata": {
      "needs_background": "light"
     },
     "output_type": "display_data"
    }
   ],
   "source": [
    "df['odometer'].hist()"
   ]
  },
  {
   "cell_type": "code",
   "execution_count": 178,
   "metadata": {},
   "outputs": [
    {
     "name": "stdout",
     "output_type": "stream",
     "text": [
      "Requirement already up-to-date: statsmodels in c:\\users\\danie\\anaconda\\lib\\site-packages (0.11.1)\n",
      "Requirement already satisfied, skipping upgrade: numpy>=1.14 in c:\\users\\danie\\anaconda\\lib\\site-packages (from statsmodels) (1.19.0)\n",
      "Requirement already satisfied, skipping upgrade: scipy>=1.0 in c:\\users\\danie\\anaconda\\lib\\site-packages (from statsmodels) (1.5.0)\n",
      "Requirement already satisfied, skipping upgrade: pandas>=0.21 in c:\\users\\danie\\anaconda\\lib\\site-packages (from statsmodels) (1.0.5)\n",
      "Requirement already satisfied, skipping upgrade: patsy>=0.5 in c:\\users\\danie\\anaconda\\lib\\site-packages (from statsmodels) (0.5.1)\n",
      "Requirement already satisfied, skipping upgrade: pytz>=2017.2 in c:\\users\\danie\\anaconda\\lib\\site-packages (from pandas>=0.21->statsmodels) (2020.1)\n",
      "Requirement already satisfied, skipping upgrade: python-dateutil>=2.6.1 in c:\\users\\danie\\anaconda\\lib\\site-packages (from pandas>=0.21->statsmodels) (2.8.1)\n",
      "Requirement already satisfied, skipping upgrade: six in c:\\users\\danie\\anaconda\\lib\\site-packages (from patsy>=0.5->statsmodels) (1.15.0)\n",
      "Note: you may need to restart the kernel to use updated packages.\n"
     ]
    }
   ],
   "source": [
    "pip install -U statsmodels"
   ]
  },
  {
   "cell_type": "code",
   "execution_count": 180,
   "metadata": {},
   "outputs": [
    {
     "data": {
      "image/png": "[encoded data removed]",
      "text/plain": [
       "<Figure size 432x288 with 2 Axes>"
      ]
     },
     "metadata": {
      "needs_background": "light"
     },
     "output_type": "display_data"
    }
   ],
   "source": [
    "import seaborn as sns\n",
    "corr = df.corr()\n",
    "ax = sns.heatmap(\n",
    "    corr, \n",
    "    vmin=-1, vmax=1, center=0,\n",
    "    cmap=sns.diverging_palette(20, 220, n=200),\n",
    "    square=True\n",
    ")\n",
    "ax.set_xticklabels(\n",
    "    ax.get_xticklabels(),\n",
    "    rotation=45,\n",
    "    horizontalalignment='right'\n",
    ");"
   ]
  },
  {
   "cell_type": "code",
   "execution_count": null,
   "metadata": {},
   "outputs": [],
   "source": []
  },
  {
   "cell_type": "code",
   "execution_count": 181,
   "metadata": {},
   "outputs": [
    {
     "data": {
      "text/plain": [
       "lumina                  46\n",
       "montana                 46\n",
       "tracker                 45\n",
       "echo                    44\n",
       "rx8                     44\n",
       "                        ..\n",
       "bonaventure              1\n",
       "montego luxury sedan     1\n",
       "studebaker president     1\n",
       "fj40 landcruiser         1\n",
       "x1 xdrive28 2.0t awd     1\n",
       "Name: make, Length: 3524, dtype: int64"
      ]
     },
     "execution_count": 181,
     "metadata": {},
     "output_type": "execute_result"
    }
   ],
   "source": [
    "df['make'][df['type'].isnull()].value_counts()"
   ]
  },
  {
   "cell_type": "code",
   "execution_count": 182,
   "metadata": {},
   "outputs": [
    {
     "data": {
      "text/plain": [
       "3.0"
      ]
     },
     "execution_count": 182,
     "metadata": {},
     "output_type": "execute_result"
    }
   ],
   "source": [
    "np.percentile(df['make'][df['type'].isnull()].value_counts(), (100-20))"
   ]
  },
  {
   "cell_type": "code",
   "execution_count": 183,
   "metadata": {},
   "outputs": [
    {
     "data": {
      "text/plain": [
       "7.0"
      ]
     },
     "execution_count": 183,
     "metadata": {},
     "output_type": "execute_result"
    }
   ],
   "source": [
    "np.percentile(df['make'][df['type'].isnull()].value_counts(), (100-10))"
   ]
  },
  {
   "cell_type": "code",
   "execution_count": 184,
   "metadata": {},
   "outputs": [
    {
     "data": {
      "text/plain": [
       "14.0"
      ]
     },
     "execution_count": 184,
     "metadata": {},
     "output_type": "execute_result"
    }
   ],
   "source": [
    "np.percentile(df['make'][df['type'].isnull()].value_counts(), (100-5))"
   ]
  },
  {
   "cell_type": "code",
   "execution_count": 185,
   "metadata": {},
   "outputs": [
    {
     "data": {
      "text/plain": [
       "34.0"
      ]
     },
     "execution_count": 185,
     "metadata": {},
     "output_type": "execute_result"
    }
   ],
   "source": [
    "np.percentile(df['make'][df['type'].isnull()].value_counts(), (100-1))"
   ]
  },
  {
   "cell_type": "code",
   "execution_count": null,
   "metadata": {},
   "outputs": [],
   "source": []
  },
  {
   "cell_type": "code",
   "execution_count": null,
   "metadata": {},
   "outputs": [],
   "source": []
  },
  {
   "cell_type": "code",
   "execution_count": null,
   "metadata": {},
   "outputs": [],
   "source": []
  },
  {
   "cell_type": "code",
   "execution_count": null,
   "metadata": {},
   "outputs": [],
   "source": []
  },
  {
   "cell_type": "code",
   "execution_count": null,
   "metadata": {},
   "outputs": [],
   "source": []
  },
  {
   "cell_type": "code",
   "execution_count": null,
   "metadata": {},
   "outputs": [],
   "source": []
  },
  {
   "cell_type": "code",
   "execution_count": null,
   "metadata": {},
   "outputs": [],
   "source": []
  },
  {
   "cell_type": "code",
   "execution_count": null,
   "metadata": {},
   "outputs": [],
   "source": []
  },
  {
   "cell_type": "code",
   "execution_count": null,
   "metadata": {},
   "outputs": [],
   "source": []
  },
  {
   "cell_type": "markdown",
   "metadata": {},
   "source": [
    "# Even in 'city', there seem possibly some errors on city names like 'cfl'.\n",
    "\n",
    "# Thus, let's bring additional data set, 'Median_Household_Income_2017.csv' in order to match this with df1 on bases of \n",
    "# 'county_fips'.\n",
    "\n",
    "df_income = pd.read_csv(\"Median_Household_Income_2017.csv\")\n",
    "df_income.tail()"
   ]
  },
  {
   "cell_type": "markdown",
   "metadata": {
    "scrolled": true
   },
   "source": [
    "# 'county_fips' from df1 and 'FIPS' from df_income look having same 5 digits except for that type of 'county_fips'\n",
    "# from df1 should be converted to integer from float.\n",
    "\n",
    "df1['county_fips']=df1['county_fips'].astype(int)\n",
    "df1['county_fips']"
   ]
  },
  {
   "cell_type": "markdown",
   "metadata": {
    "scrolled": true
   },
   "source": [
    "# Let's solve he positive or negative infinite problem.\n",
    "\n",
    "df1 = df1.replace([np.inf, -np.inf], np.nan)\n",
    "df1['county_fips']=df1['county_fips'].fillna(0)\n",
    "df1['county_fips']=df1['county_fips'].astype(int)\n",
    "df1['county_fips']"
   ]
  },
  {
   "cell_type": "markdown",
   "metadata": {},
   "source": [
    "len(df1[df1['county_fips']==0])/len(df1['county_fips'])"
   ]
  },
  {
   "cell_type": "markdown",
   "metadata": {},
   "source": [
    "df1=df1[['county_fips','price','year','manufacturer','make','condition','cylinders','fuel','odometer','title_status','transmission','drive','type','paint_color','weather']]\n",
    "df1=df1.drop_duplicates()"
   ]
  },
  {
   "cell_type": "markdown",
   "metadata": {
    "scrolled": true
   },
   "source": [
    "# Now let's change the type of df_income['FIPS'] to integer.\n",
    "\n",
    "df_income.rename(columns = {'FIPS':'county_fips'}, inplace=True)\n",
    "df_income['county_fips']=df_income['county_fips'].astype(int)\n",
    "df_income['county_fips'].value_counts()"
   ]
  },
  {
   "cell_type": "markdown",
   "metadata": {},
   "source": [
    "df_income1=df_income[['county_fips','Area_name','State','Median_Household_Income_2017','Unemployment_rate_2018','Civilian_labor_force_2018']]\n",
    "df_income1=df_income1.drop_duplicates()"
   ]
  },
  {
   "cell_type": "markdown",
   "metadata": {},
   "source": [
    "# Let's merge two data sets: df1 and df_zip\n",
    "\n",
    "df2 = pd.merge(df1,df_income1, on='county_fips', how='left')\n",
    "df2=df2.drop_duplicates()\n",
    "df2.tail()"
   ]
  },
  {
   "cell_type": "markdown",
   "metadata": {},
   "source": [
    "# Now let's bring population information.\n",
    "\n",
    "df_zip = pd.read_csv(\"uszips.csv\")\n",
    "df_zip.tail()"
   ]
  },
  {
   "cell_type": "markdown",
   "metadata": {
    "scrolled": true
   },
   "source": [
    "# Now let's normalize 'population' and 'density'.\n",
    "\n",
    "# I will add the sum of 'population' to each 'county_fips'.\n",
    "\n",
    "df2['population']=df_zip.groupby('county_fips')['population'].cumsum()\n",
    "df2.head()"
   ]
  },
  {
   "cell_type": "markdown",
   "metadata": {},
   "source": [
    "df2.tail()"
   ]
  },
  {
   "cell_type": "markdown",
   "metadata": {
    "scrolled": true
   },
   "source": [
    "df_zip['area']=df_zip.population / df_zip.density\n",
    "\n",
    "df_zip"
   ]
  },
  {
   "cell_type": "code",
   "execution_count": null,
   "metadata": {},
   "outputs": [],
   "source": [
    "# In order to add 'density' on 'county_fips', it is needed to understand how to calculate 'density'.\n",
    "\n",
    "# density = total population / total area\n",
    "\n",
    "# We already know 'density' and 'population' from 'df_zip'.\n",
    "\n",
    "# Let's calculate df_zip['area'] by dividing 'population' with 'density'."
   ]
  },
  {
   "cell_type": "markdown",
   "metadata": {},
   "source": [
    "df2['area']=df_zip.groupby('county_fips')['area'].cumsum()\n",
    "df2['density']=df2.population / df2.area\n",
    "df2.head()"
   ]
  },
  {
   "cell_type": "markdown",
   "metadata": {},
   "source": [
    "df2['year']=df2['year'].fillna(0)\n",
    "df2['year']=df2['year'].astype(int)"
   ]
  },
  {
   "cell_type": "markdown",
   "metadata": {},
   "source": [
    "df2.head()"
   ]
  },
  {
   "cell_type": "markdown",
   "metadata": {
    "scrolled": true
   },
   "source": [
    "df2['manufacturer']=df2['manufacturer'].fillna(\"UNKNOWN\")\n",
    "df2['manufacturer'].value_counts()"
   ]
  },
  {
   "cell_type": "markdown",
   "metadata": {},
   "source": [
    "df2['make']=df2['make'].fillna(\"UNKNOWN\")\n",
    "df2['make'].value_counts()"
   ]
  },
  {
   "cell_type": "markdown",
   "metadata": {
    "scrolled": true
   },
   "source": [
    "# As seen above 2 value_counts 'UNKNOWN' occupy in both columns:'manifacturer' and 'make'.\n",
    "# Let's look into them.\n",
    "\n",
    "df2.loc[(df2['manufacturer'] == 'UNKNOWN') & (df2['make'] == 'UNKNOWN'),:]"
   ]
  },
  {
   "cell_type": "markdown",
   "metadata": {
    "scrolled": true
   },
   "source": [
    "# Let's drop df2.manufacturer & df2.make whose values are UNKNOWN at the same time.\n",
    "\n",
    "df3 = df2.drop(df2[(df2['manufacturer']=='UNKNOWN') & (df2['make']=='UNKNOWN')].index)\n",
    "df3"
   ]
  },
  {
   "cell_type": "markdown",
   "metadata": {},
   "source": [
    "(df3.isnull().sum()/len(df3)).sort_values(ascending = False)"
   ]
  },
  {
   "cell_type": "markdown",
   "metadata": {
    "scrolled": true
   },
   "source": [
    "df3.county_fips.value_counts()"
   ]
  },
  {
   "cell_type": "markdown",
   "metadata": {},
   "source": [
    "# let's drop 0 value of 'county_fips' in that their portion occupies only 4%, which can be ignorable.\n",
    "\n",
    "len(df3.county_fips[df3.county_fips==0])/len(df3.county_fips)"
   ]
  },
  {
   "cell_type": "markdown",
   "metadata": {},
   "source": [
    "df3=df3.drop(df3[df3['county_fips']==0].index)\n",
    "df3"
   ]
  },
  {
   "cell_type": "markdown",
   "metadata": {},
   "source": [
    "df3.describe()"
   ]
  },
  {
   "cell_type": "markdown",
   "metadata": {},
   "source": [
    "# And, as long as you don't know what year your vehicle was made at, it is impossible to project a residual value of\n",
    "# your vehile.\n",
    "\n",
    "# So let's drop 'year' whose value is 0.\n",
    "\n",
    "len(df3[df3.year==0])/len(df3)"
   ]
  },
  {
   "cell_type": "markdown",
   "metadata": {},
   "source": [
    "df3=df3.drop(df3[df3['year']==0].index)\n",
    "df3.describe()"
   ]
  },
  {
   "cell_type": "markdown",
   "metadata": {},
   "source": [
    "df3"
   ]
  },
  {
   "cell_type": "markdown",
   "metadata": {},
   "source": [
    "(df3.isnull().sum()/len(df3)).sort_values(ascending = False)"
   ]
  },
  {
   "cell_type": "markdown",
   "metadata": {},
   "source": [
    "df3[df3.Area_name.isnull()]"
   ]
  },
  {
   "cell_type": "markdown",
   "metadata": {},
   "source": [
    "# Let's drop the above rows whose 'county_name' cannot be identified.\n",
    "\n",
    "df3=df3.drop(df3[df3['Area_name'].isnull()].index)\n",
    "(df3.isnull().sum()/len(df3)).sort_values(ascending = False)"
   ]
  },
  {
   "cell_type": "markdown",
   "metadata": {},
   "source": [
    "df3[df3.title_status.isnull()]"
   ]
  },
  {
   "cell_type": "markdown",
   "metadata": {},
   "source": [
    "df3.title_status.value_counts()"
   ]
  },
  {
   "cell_type": "markdown",
   "metadata": {},
   "source": [
    "# Let's drop 'title_status' whose values is_null.\n",
    "\n",
    "df3=df3.drop(df3[df3['title_status'].isnull()].index)\n",
    "(df3.isnull().sum()/len(df3)).sort_values(ascending = False)"
   ]
  },
  {
   "cell_type": "markdown",
   "metadata": {},
   "source": [
    "df3.condition.value_counts()"
   ]
  },
  {
   "cell_type": "markdown",
   "metadata": {},
   "source": [
    "# By comparing salvage counts (19879) from 'title_status' with salvage counts (3442) from 'condition', it is assumed that\n",
    "# salvage from 'condition' seems NOT objective in that salvage counts (19879) from 'title_status' outnumber salvage counts\n",
    "# (3442) from 'condition'.\n",
    "\n",
    "# From a commonsense point of view, used car sellers would like to overestimate their cars.\n",
    "\n",
    "# Thus, let's exclude the column, 'condition'.\n",
    "# In addtion, Null value of 'condition' occupies 39%; it is too big.\n",
    "\n",
    "df3 = df3.drop(columns=['condition'])"
   ]
  },
  {
   "cell_type": "markdown",
   "metadata": {},
   "source": [
    "df3.weather.value_counts()"
   ]
  },
  {
   "cell_type": "markdown",
   "metadata": {},
   "source": [
    "df3[df3.weather.isnull()]"
   ]
  },
  {
   "cell_type": "markdown",
   "metadata": {},
   "source": [
    "df3.county_fips[df3.weather.isnull()].value_counts()"
   ]
  },
  {
   "cell_type": "markdown",
   "metadata": {},
   "source": [
    "# All df3's 'weather' whose value is null has only one 'county_fips' value: 11001, District of Columbia.\n",
    "# So let's look into all 'weather' values from all 'county_fips', 11001 value.\n",
    "\n",
    "df3.weather[df3.county_fips == 11001].value_counts()"
   ]
  },
  {
   "cell_type": "markdown",
   "metadata": {},
   "source": [
    "# None, so let's look into other columns of 'county_fips', 11001.\n",
    "\n",
    "df3[df3.county_fips == 11001]"
   ]
  },
  {
   "cell_type": "code",
   "execution_count": null,
   "metadata": {},
   "outputs": [],
   "source": [
    "# All null value of 'weather' is information of 'county_fips', 11001, whose 'county_name' is 'District of Columbia'\n",
    "# Let's keep 'weather' whose value is null because 'weather' values  within 'Distict of Columbia' is the only one value, NaN. "
   ]
  },
  {
   "cell_type": "markdown",
   "metadata": {},
   "source": [
    "(df3.isnull().sum()/len(df3)).sort_values(ascending = False)"
   ]
  },
  {
   "cell_type": "markdown",
   "metadata": {
    "scrolled": true
   },
   "source": [
    "# 'price' seems having no problems.\n",
    "df3.price.value_counts()"
   ]
  },
  {
   "cell_type": "markdown",
   "metadata": {
    "scrolled": true
   },
   "source": [
    "# 'year' whose values are below 1900 seem not normal.\n",
    "df3.year.value_counts()"
   ]
  },
  {
   "cell_type": "markdown",
   "metadata": {},
   "source": [
    "# Let's look into information whose 'year' <1900.\n",
    "df3[df3.year<1900]"
   ]
  },
  {
   "cell_type": "markdown",
   "metadata": {
    "scrolled": true
   },
   "source": [
    "# Let's look into information whose 'year' > 1900 & 'year' < 1910.\n",
    "df3[(df3.year>1900) & (df3.year<1910)]"
   ]
  },
  {
   "cell_type": "code",
   "execution_count": null,
   "metadata": {},
   "outputs": [],
   "source": [
    "# It is better to keep 'year' information for the time being because there are too many abnormal information to be corrected."
   ]
  },
  {
   "cell_type": "markdown",
   "metadata": {
    "scrolled": true
   },
   "source": [
    "# Let's do value_counts on 'make'.\n",
    "\n",
    "df3.make.value_counts()"
   ]
  },
  {
   "cell_type": "markdown",
   "metadata": {},
   "source": [
    "#'UNKNOWN' make occupies almost 10% of total information.\n",
    "\n",
    "len(df3.make.value_counts())/len(df3)"
   ]
  },
  {
   "cell_type": "markdown",
   "metadata": {
    "scrolled": true
   },
   "source": [
    "# As long as you do not know 'make' as 'UNKNOWN', it is impossible to project resale values on it per 'make'.\n",
    "# Thus, it is better to drop 'make' whose value is 'UNKNOWN'.\n",
    "\n",
    "df3=df3.drop(df3[df3['make']=='UNKNOWN'].index)\n",
    "df3.make.value_counts()"
   ]
  },
  {
   "cell_type": "markdown",
   "metadata": {
    "scrolled": true
   },
   "source": [
    "# Let's look into 'manufacturer'.\n",
    "\n",
    "df3.manufacturer.value_counts()"
   ]
  },
  {
   "cell_type": "markdown",
   "metadata": {
    "scrolled": true
   },
   "source": [
    "# Let's look at them in alphabetical order.\n",
    "\n",
    "df_manufacturer=df3.manufacturer.drop_duplicates()\n",
    "df_manufacturer.sort_values(ascending=True)"
   ]
  },
  {
   "cell_type": "markdown",
   "metadata": {},
   "source": [
    "# There are some identical manufacturers with different names or misspelling.\n",
    "# Let's look into them and correct them.\n",
    "\n",
    "df3[df3['manufacturer']=='alfa']"
   ]
  },
  {
   "cell_type": "markdown",
   "metadata": {},
   "source": [
    "df3[df3['manufacturer']=='alfa-romeo']"
   ]
  },
  {
   "cell_type": "markdown",
   "metadata": {},
   "source": [
    "# As seen above, 'alfa' and 'alfa-romeo' seem identical.\n",
    "# Let's replace 'alfa' with 'alfa-roemo'.\n",
    "\n",
    "df3['manufacturer'].replace(to_replace=\"alfa\",value=\"alfa-roemo\",inplace=True)\n",
    "df3=df3.drop_duplicates()"
   ]
  },
  {
   "cell_type": "markdown",
   "metadata": {
    "scrolled": true
   },
   "source": [
    "# Now let's compare 'aston' with 'aston-martin'.\n",
    "df3[df3['manufacturer']=='aston']"
   ]
  },
  {
   "cell_type": "markdown",
   "metadata": {
    "scrolled": true
   },
   "source": [
    "df3[df3['manufacturer']=='aston-martin']"
   ]
  },
  {
   "cell_type": "markdown",
   "metadata": {},
   "source": [
    "# As seen above, 'aston' and 'aston-martin' seem identical.\n",
    "# Let's replace 'aston' with 'aston-martin'.\n",
    "\n",
    "df3['manufacturer'].replace(to_replace=\"aston\",value=\"aston-martin\",inplace=True)\n",
    "df3=df3.drop_duplicates()"
   ]
  },
  {
   "cell_type": "markdown",
   "metadata": {},
   "source": [
    "# Now let's compare 'harley' with 'harley-davidson'.\n",
    "df3[df3['manufacturer']=='harley']"
   ]
  },
  {
   "cell_type": "markdown",
   "metadata": {},
   "source": [
    "df3[df3['manufacturer']=='harley-davidson']"
   ]
  },
  {
   "cell_type": "markdown",
   "metadata": {},
   "source": [
    "# As seen above, 'harley' and 'harley-davidson' seem identical.\n",
    "# Let's replace 'harley' with 'harley-davidson'.\n",
    "\n",
    "df3['manufacturer'].replace(to_replace=\"harley\",value=\"harley-davidson\",inplace=True)\n",
    "df3=df3.drop_duplicates()"
   ]
  },
  {
   "cell_type": "markdown",
   "metadata": {},
   "source": [
    "# Now let's compare 'infiniti' with 'infinity'.\n",
    "df3[df3['manufacturer']=='infiniti']"
   ]
  },
  {
   "cell_type": "markdown",
   "metadata": {},
   "source": [
    "df3[df3['manufacturer']=='infinity']"
   ]
  },
  {
   "cell_type": "markdown",
   "metadata": {},
   "source": [
    "# As seen above, 'infiniti' and 'infinity' seem identical.\n",
    "# Let's replace 'infinity' with 'infiniti'.\n",
    "\n",
    "df3['manufacturer'].replace(to_replace=\"infinity\",value=\"infiniti\",inplace=True)\n",
    "df3=df3.drop_duplicates()"
   ]
  },
  {
   "cell_type": "markdown",
   "metadata": {
    "scrolled": true
   },
   "source": [
    "# Now let's compare 'land rover' and 'landrover' with 'rover'.\n",
    "df3[df3['manufacturer']=='land rover']"
   ]
  },
  {
   "cell_type": "markdown",
   "metadata": {
    "scrolled": true
   },
   "source": [
    "df3[df3['manufacturer']=='landrover']"
   ]
  },
  {
   "cell_type": "markdown",
   "metadata": {},
   "source": [
    "df3[df3['manufacturer']=='rover']"
   ]
  },
  {
   "cell_type": "markdown",
   "metadata": {},
   "source": [
    "# Although they have many kinds of 'make', their 'make' share many identical 'make' such as discovery, etc.\n",
    "# Let's replace 'landrover' and 'rover' with 'land rover'.\n",
    "\n",
    "df3['manufacturer'].replace(to_replace=\"landrover\",value=\"land rover\",inplace=True)\n",
    "df3['manufacturer'].replace(to_replace=\"rover\",value=\"land rover\",inplace=True)\n",
    "df3=df3.drop_duplicates()"
   ]
  },
  {
   "cell_type": "markdown",
   "metadata": {},
   "source": [
    "# Now let's compare 'mercedes' and 'mercedes-benz' with 'mercedesbenz'.\n",
    "df3[df3['manufacturer']=='mercedes']"
   ]
  },
  {
   "cell_type": "markdown",
   "metadata": {},
   "source": [
    "df3[df3['manufacturer']=='mercedes-benz']"
   ]
  },
  {
   "cell_type": "markdown",
   "metadata": {},
   "source": [
    "df3[df3['manufacturer']=='mercedesbenz']"
   ]
  },
  {
   "cell_type": "markdown",
   "metadata": {},
   "source": [
    "# Although they have many kinds of 'make', their 'make' share many identical 'make' such as cclass, eclass, etc.\n",
    "# Let's replace 'mercedes' and 'mercedesbenz' with 'mercedes-benz'.\n",
    "\n",
    "df3['manufacturer'].replace(to_replace=\"mercedes\",value=\"mercedes-benz\",inplace=True)\n",
    "df3['manufacturer'].replace(to_replace=\"mercedesbenz\",value=\"mercedes-benz\",inplace=True)\n",
    "df3=df3.drop_duplicates()"
   ]
  },
  {
   "cell_type": "markdown",
   "metadata": {},
   "source": [
    "# Now let's compare 'volkswagen' with 'vw'.\n",
    "df3[df3['manufacturer']=='volkswagen']"
   ]
  },
  {
   "cell_type": "markdown",
   "metadata": {},
   "source": [
    "df3[df3['manufacturer']=='vw']"
   ]
  },
  {
   "cell_type": "markdown",
   "metadata": {},
   "source": [
    "# Although they have many kinds of 'make', their 'make' share many identical 'make' such as jetta, beetle, etc.\n",
    "# Let's replace 'vw' with 'mercedes-benz'.\n",
    "\n",
    "df3['manufacturer'].replace(to_replace=\"vw\",value=\"volkswagen\",inplace=True)\n",
    "df3=df3.drop_duplicates()"
   ]
  },
  {
   "cell_type": "markdown",
   "metadata": {
    "scrolled": true
   },
   "source": [
    "# Let's make a new df for 'manufacturer' per 'make' for normalization.\n",
    "\n",
    "df3_manu=df3[['make','manufacturer']]\n",
    "df3_manu=df3_manu.drop_duplicates()\n"
   ]
  },
  {
   "cell_type": "markdown",
   "metadata": {
    "scrolled": true
   },
   "source": [
    "df3_manu=df3_manu.drop(df3_manu[df3_manu['manufacturer']=='UNKNOWN'].index)\n",
    "df3_manu=df3_manu.drop_duplicates()\n",
    "df3_manu.sort_values('make',ascending = True, inplace=True)\n",
    "df3_manu['make'].value_counts()\n",
    "df3_manu.manufacturer.value_counts()"
   ]
  },
  {
   "cell_type": "markdown",
   "metadata": {
    "scrolled": true
   },
   "source": [
    "df3_manu.make.value_counts()"
   ]
  },
  {
   "cell_type": "markdown",
   "metadata": {
    "scrolled": true
   },
   "source": [
    "# In order to normalize 'manufacturer', let's look into 'make' which have multiple counts.\n",
    "\n",
    "df3_manu['manufacturer'][df3_manu['make']=='#NAME?'].value_counts()"
   ]
  },
  {
   "cell_type": "markdown",
   "metadata": {
    "scrolled": true
   },
   "source": [
    "# As seen above, there are no multiple counts per 'manufacturer'.\n",
    "# So let's drop '#NAME?' from df3_manu.\n",
    "\n",
    "df3_manu=df3_manu.drop(df3_manu[df3_manu['make']=='#NAME?'].index)\n",
    "df3_manu.make.value_counts()"
   ]
  },
  {
   "cell_type": "markdown",
   "metadata": {
    "scrolled": true
   },
   "source": [
    "df3_manu.sort_values('make',ascending = True, inplace=True)\n",
    "df3_manu"
   ]
  },
  {
   "cell_type": "markdown",
   "metadata": {
    "scrolled": true
   },
   "source": [
    "# Likewise, let's drop all 'make' values with multiple counts in df3_manu.\n",
    "\n",
    "df3_manu=df3_manu.drop_duplicates(subset='make', keep='first')\n",
    "df3_manu.make.value_counts()"
   ]
  },
  {
   "cell_type": "markdown",
   "metadata": {},
   "source": [
    "df3"
   ]
  },
  {
   "cell_type": "markdown",
   "metadata": {},
   "source": [
    "# Now let's merge df3 and df3_manu for normalizing 'manufacturer'.\n",
    "df3 = df3.drop(columns=['manufacturer'])\n",
    "df3= pd.merge(df3, df3_manu, on='make', how='left')\n",
    "df3"
   ]
  },
  {
   "cell_type": "code",
   "execution_count": null,
   "metadata": {},
   "outputs": [],
   "source": []
  },
  {
   "cell_type": "markdown",
   "metadata": {},
   "source": [
    "# Let's reorganize 'type' of cars.\n",
    "df3.type.value_counts()"
   ]
  },
  {
   "cell_type": "markdown",
   "metadata": {
    "scrolled": true
   },
   "source": [
    "df3_type=df3[['make','type']]\n",
    "df3_type=df3_type.drop_duplicates()\n",
    "df3_type=df3_type.drop(df3_type[df3_type['type'].isnull()].index)\n",
    "df3_type=df3_type.drop(df3_type[df3_type['make']=='UNKNOWN'].index)\n",
    "df3_type"
   ]
  },
  {
   "cell_type": "markdown",
   "metadata": {
    "scrolled": true
   },
   "source": [
    "df3_type.make.value_counts()"
   ]
  },
  {
   "cell_type": "markdown",
   "metadata": {
    "scrolled": true
   },
   "source": [
    "# Let's get rid of duplicates of 'make' values in df3_type.\n",
    "df3_type.sort_values('make',ascending = True, inplace=True)\n",
    "df3_type=df3_type.drop_duplicates(subset='make', keep='first')\n",
    "df3_type.make.value_counts()"
   ]
  },
  {
   "cell_type": "markdown",
   "metadata": {},
   "source": [
    "# Now let's merge df3 and df3_manu for normalizing 'type'.\n",
    "df3 = df3.drop(columns=['type'])\n",
    "df3= pd.merge(df3, df3_type, on='make', how='left')\n",
    "df3"
   ]
  },
  {
   "cell_type": "markdown",
   "metadata": {},
   "source": [
    "# null 'type' value can be ignored:1%\n",
    "\n",
    "df3['type'].isnull().sum()/len(df3)"
   ]
  },
  {
   "cell_type": "markdown",
   "metadata": {},
   "source": [
    "# Deleting null value of 'fuel' in df3.\n",
    "\n",
    "df3=df3.drop(df3[df3['type'].isnull()].index)"
   ]
  },
  {
   "cell_type": "markdown",
   "metadata": {},
   "source": [
    "# Now let's take a look into 'transmission'.\n",
    "\n",
    "df3.transmission.value_counts()"
   ]
  },
  {
   "cell_type": "markdown",
   "metadata": {},
   "source": [
    "len(df3[df3.transmission.isnull()])/len(df3)"
   ]
  },
  {
   "cell_type": "markdown",
   "metadata": {
    "scrolled": true
   },
   "source": [
    "# It is better to drop null 'transmission' in df3 because it occupies only 0.4%\n",
    "df3=df3.drop(df3[df3['transmission'].isnull()].index)\n",
    "len(df3[df3.transmission.isnull()])/len(df3)"
   ]
  },
  {
   "cell_type": "markdown",
   "metadata": {},
   "source": [
    "(df3.isnull().sum()/len(df3)).sort_values(ascending = False)"
   ]
  },
  {
   "cell_type": "markdown",
   "metadata": {},
   "source": [
    "# It i better drop 'density', 'area','population' in that they occupies 97%.\n",
    "\n",
    "df3=df3.drop(columns=['density','area','population'])"
   ]
  },
  {
   "cell_type": "markdown",
   "metadata": {},
   "source": [
    "df3.columns"
   ]
  },
  {
   "cell_type": "markdown",
   "metadata": {},
   "source": [
    "# Let's look into 'paint_color'.\n",
    "df3.paint_color.value_counts()"
   ]
  },
  {
   "cell_type": "markdown",
   "metadata": {},
   "source": [
    "# The most color 'white' only occupies 13% while null 'paint_color' occupies 40%.\n",
    "len(df3[df3['paint_color']=='white'])/len(df3)"
   ]
  },
  {
   "cell_type": "markdown",
   "metadata": {},
   "source": [
    "# So it is better to drop 'paint_color' from df3.\n",
    "df3=df3.drop(columns=['paint_color'])\n",
    "df3.columns"
   ]
  },
  {
   "cell_type": "markdown",
   "metadata": {},
   "source": [
    "# Let's look into 'cylinder'.\n",
    "df3.cylinders.value_counts()"
   ]
  },
  {
   "cell_type": "markdown",
   "metadata": {},
   "source": [
    "# The most cylinder '6 cylinders' occupies 22% while null 'cylinder' occupies 38%.\n",
    "len(df3[df3['cylinders']=='6 cylinders'])/len(df3)"
   ]
  },
  {
   "cell_type": "markdown",
   "metadata": {},
   "source": [
    "df3_cylinders=df3[['make','cylinders']]\n",
    "df3_cylinders=df3_cylinders.drop_duplicates()"
   ]
  },
  {
   "cell_type": "markdown",
   "metadata": {
    "scrolled": true
   },
   "source": [
    "df3_cylinders=df3_cylinders.drop(df3_cylinders[df3_cylinders['cylinders'].isnull()].index)\n",
    "df3_cylinders=df3_cylinders.drop(df3_cylinders[df3_cylinders['make']=='UNKNOWN'].index)\n",
    "\n",
    "df3_cylinders.sort_values('make',ascending = True, inplace=True)\n",
    "df3_cylinders=df3_cylinders.drop_duplicates(subset='make', keep='first')\n",
    "\n",
    "df3_cylinders.make.value_counts()"
   ]
  },
  {
   "cell_type": "markdown",
   "metadata": {
    "scrolled": true
   },
   "source": [
    "df3_cylinders"
   ]
  },
  {
   "cell_type": "markdown",
   "metadata": {
    "scrolled": true
   },
   "source": [
    "df3= pd.merge(df3, df3_cylinders, on='make', how='left')\n",
    "df3"
   ]
  },
  {
   "cell_type": "markdown",
   "metadata": {
    "scrolled": true
   },
   "source": [
    "# Let's fill null values in 'cylinder_x' with values from 'cylinder_y'\n",
    "\n",
    "df3['cylinders_x'].fillna(df3['cylinders_y'], inplace=True)\n",
    "        \n",
    "\n",
    "df3['cylinders_x']"
   ]
  },
  {
   "cell_type": "markdown",
   "metadata": {},
   "source": [
    "df3=df3.drop(columns=['cylinders_y'])\n",
    "df3.rename(columns = {'cylinders_x':'cylinders'}, inplace=True)\n",
    "\n",
    "df3"
   ]
  },
  {
   "cell_type": "markdown",
   "metadata": {},
   "source": [
    "# Let's get rid of null values in 'cylinders' of df3 in that null value of 'cylinders' occupies only 5%\n",
    "# The 5% can be ignorable\n",
    "\n",
    "df3['cylinders'].isnull().sum()/len(df3)"
   ]
  },
  {
   "cell_type": "markdown",
   "metadata": {},
   "source": [
    "df3=df3.drop(df3[df3['cylinders'].isnull()].index)\n",
    "(df3.isnull().sum()/len(df3)).sort_values(ascending = False)"
   ]
  },
  {
   "cell_type": "markdown",
   "metadata": {
    "scrolled": true
   },
   "source": [
    "# Let's take a look into 'fuel' in df3.\n",
    "df3_fuel=df3[['make','fuel']]\n",
    "df3_fuel=df3_fuel.drop_duplicates()\n",
    "df3_fuel=df3_fuel.drop(df3_fuel[df3_fuel['fuel'].isnull()].index)\n",
    "df3_fuel=df3_fuel.drop(df3_fuel[df3_fuel['make']=='UNKNOWN'].index)\n",
    "\n",
    "df3_fuel.sort_values('make',ascending = True, inplace=True)\n",
    "df3_fuel=df3_fuel.drop_duplicates(subset='make', keep='first')\n",
    "\n",
    "df3_fuel.make.value_counts()"
   ]
  },
  {
   "cell_type": "markdown",
   "metadata": {},
   "source": [
    "df3= pd.merge(df3, df3_fuel, on='make', how='left')\n",
    "df3"
   ]
  },
  {
   "cell_type": "markdown",
   "metadata": {},
   "source": [
    "# Let's fill null values in 'fuel_x' with values from 'fuel_y'.\n",
    "\n",
    "df3['fuel_x'].fillna(df3['fuel_y'], inplace=True)\n",
    "df3=df3.drop(columns=['fuel_y'])\n",
    "df3.rename(columns = {'fuel_x':'fuel'}, inplace=True)\n",
    "\n",
    "df3"
   ]
  },
  {
   "cell_type": "markdown",
   "metadata": {},
   "source": [
    "# null 'fuel' value can be ignored:0.2%\n",
    "\n",
    "df3['fuel'].isnull().sum()/len(df3)"
   ]
  },
  {
   "cell_type": "markdown",
   "metadata": {},
   "source": [
    "# Deleting null value of 'fuel' in df3.\n",
    "\n",
    "df3=df3.drop(df3[df3['fuel'].isnull()].index)\n",
    "(df3.isnull().sum()/len(df3)).sort_values(ascending = False)"
   ]
  },
  {
   "cell_type": "markdown",
   "metadata": {
    "scrolled": true
   },
   "source": [
    "# Null value of 'manufacturer' still occupuies 6%.\n",
    "# In order to minimize this portion, it is needed to take a look into 'drive' information.\n",
    "# Once 'drive' information is normalized, null value of 'drive' will be dropped.\n",
    "\n",
    "df3_drive=df3[['make','drive']]\n",
    "df3_drive=df3_drive.drop_duplicates()\n",
    "df3_drive=df3_drive.drop(df3_drive[df3_drive['drive'].isnull()].index)\n",
    "df3_drive=df3_drive.drop(df3_drive[df3_drive['make'].isnull()].index)\n",
    "df3_drive=df3_drive.drop(df3_drive[df3_drive['make']=='UNKNOWN'].index)\n",
    "\n",
    "df3_drive.sort_values('make',ascending = True, inplace=True)\n",
    "df3_drive=df3_drive.drop_duplicates(subset='make', keep='first')\n",
    "\n",
    "df3_drive.make.value_counts()"
   ]
  },
  {
   "cell_type": "markdown",
   "metadata": {},
   "source": [
    "df3= pd.merge(df3, df3_drive, on='make', how='left')\n",
    "df3"
   ]
  },
  {
   "cell_type": "markdown",
   "metadata": {
    "scrolled": true
   },
   "source": [
    "# Let's fill null values in 'drive_x' with values from 'drive_y'.\n",
    "\n",
    "df3['drive_x'].fillna(df3['drive_y'], inplace=True)\n",
    "df3=df3.drop(columns=['drive_y'])\n",
    "df3.rename(columns = {'drive_x':'drive'}, inplace=True)\n",
    "\n",
    "df3"
   ]
  },
  {
   "cell_type": "markdown",
   "metadata": {},
   "source": [
    "# null 'drive' value can be ignored:0.5%\n",
    "\n",
    "df3['drive'].isnull().sum()/len(df3)"
   ]
  },
  {
   "cell_type": "markdown",
   "metadata": {},
   "source": [
    "# Dropping null value of 'drive' in df3.\n",
    "\n",
    "df3=df3.drop(df3[df3['drive'].isnull()].index)\n",
    "(df3.isnull().sum()/len(df3)).sort_values(ascending = False)"
   ]
  },
  {
   "cell_type": "markdown",
   "metadata": {},
   "source": [
    "# Null value of 'manufacturer' still occupuies 6%.\n",
    "# In order to minimize this portion more, it is needed to take a look into 'odometer' information.\n",
    "# Once 'odometer' information is normalized, null value of 'odometer' will be dropped.\n",
    "\n",
    "df3_odo=df3[['make','odometer']]\n",
    "df3_odo=df3_odo.drop_duplicates()\n",
    "df3_odo=df3_odo.drop(df3_odo[df3_odo['odometer'].isnull()].index)\n",
    "df3_odo=df3_odo.drop(df3_odo[df3_odo['make'].isnull()].index)\n",
    "df3_odo=df3_odo.drop(df3_odo[df3_odo['make']=='UNKNOWN'].index)\n",
    "\n",
    "#df3_odo.groupby(['make','odometer']).mean()\n",
    "\n",
    "df3_odo=df3_odo.groupby(['make']).mean()"
   ]
  },
  {
   "cell_type": "markdown",
   "metadata": {
    "scrolled": true
   },
   "source": [
    "df3_odo"
   ]
  },
  {
   "cell_type": "markdown",
   "metadata": {},
   "source": [
    "df3= pd.merge(df3, df3_odo, on='make', how='left')\n",
    "df3"
   ]
  },
  {
   "cell_type": "markdown",
   "metadata": {},
   "source": [
    "# Let's fill null values in 'odometer_x' with values from 'odometer_y'.\n",
    "\n",
    "df3['odometer_x'].fillna(df3['odometer_y'], inplace=True)\n",
    "df3=df3.drop(columns=['odometer_y'])\n",
    "df3.rename(columns = {'odometer_x':'odometer'}, inplace=True)\n",
    "\n",
    "df3"
   ]
  },
  {
   "cell_type": "markdown",
   "metadata": {},
   "source": [
    "# null 'odometer' value can be ignored:1%\n",
    "\n",
    "df3['odometer'].isnull().sum()/len(df3)"
   ]
  },
  {
   "cell_type": "markdown",
   "metadata": {},
   "source": [
    "# Dropping null value of 'odometer' in df3.\n",
    "\n",
    "df3=df3.drop(df3[df3['odometer'].isnull()].index)\n",
    "(df3.isnull().sum()/len(df3)).sort_values(ascending = False)"
   ]
  },
  {
   "cell_type": "markdown",
   "metadata": {},
   "source": [
    "# Now null value of 'manfacturer' reached below 5%.\n",
    "# You can drop the null value of 'manufacturer' in df3.\n",
    "df3=df3.drop(df3[df3['manufacturer'].isnull()].index)"
   ]
  },
  {
   "cell_type": "code",
   "execution_count": null,
   "metadata": {},
   "outputs": [],
   "source": []
  },
  {
   "cell_type": "code",
   "execution_count": null,
   "metadata": {},
   "outputs": [],
   "source": []
  },
  {
   "cell_type": "code",
   "execution_count": null,
   "metadata": {},
   "outputs": [],
   "source": []
  },
  {
   "cell_type": "code",
   "execution_count": null,
   "metadata": {},
   "outputs": [],
   "source": []
  },
  {
   "cell_type": "markdown",
   "metadata": {},
   "source": [
    "# EDA & VDA"
   ]
  },
  {
   "cell_type": "code",
   "execution_count": null,
   "metadata": {},
   "outputs": [],
   "source": [
    "import matplotlib.pyplot as plt\n",
    "import seaborn as sns\n",
    "%matplotlib inline"
   ]
  }
 ],
 "metadata": {
  "kernelspec": {
   "display_name": "Python 3",
   "language": "python",
   "name": "python3"
  },
  "language_info": {
   "codemirror_mode": {
    "name": "ipython",
    "version": 3
   },
   "file_extension": ".py",
   "mimetype": "text/x-python",
   "name": "python",
   "nbconvert_exporter": "python",
   "pygments_lexer": "ipython3",
   "version": "3.7.7"
  }
 },
 "nbformat": 4,
 "nbformat_minor": 2
}
