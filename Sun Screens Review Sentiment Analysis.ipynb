{
 "cells": [
  {
   "cell_type": "markdown",
   "id": "65d2fe85",
   "metadata": {},
   "source": [
    "## 1. Import Review Data"
   ]
  },
  {
   "cell_type": "code",
   "execution_count": 4,
   "id": "e1c7a62c",
   "metadata": {},
   "outputs": [
    {
     "data": {
      "text/html": [
       "<div>\n",
       "<style scoped>\n",
       "    .dataframe tbody tr th:only-of-type {\n",
       "        vertical-align: middle;\n",
       "    }\n",
       "\n",
       "    .dataframe tbody tr th {\n",
       "        vertical-align: top;\n",
       "    }\n",
       "\n",
       "    .dataframe thead th {\n",
       "        text-align: right;\n",
       "    }\n",
       "</style>\n",
       "<table border=\"1\" class=\"dataframe\">\n",
       "  <thead>\n",
       "    <tr style=\"text-align: right;\">\n",
       "      <th></th>\n",
       "      <th>Review</th>\n",
       "      <th>Verified Purchase</th>\n",
       "      <th>Month</th>\n",
       "      <th>Year</th>\n",
       "      <th>Brand</th>\n",
       "      <th>SPF</th>\n",
       "      <th>Oz</th>\n",
       "      <th>Retailer</th>\n",
       "    </tr>\n",
       "  </thead>\n",
       "  <tbody>\n",
       "    <tr>\n",
       "      <th>0</th>\n",
       "      <td>Reliable clear sunscreen that goes great under...</td>\n",
       "      <td>1</td>\n",
       "      <td>1</td>\n",
       "      <td>2022</td>\n",
       "      <td>Supergoop!</td>\n",
       "      <td>40</td>\n",
       "      <td>1.7</td>\n",
       "      <td>Dermstore</td>\n",
       "    </tr>\n",
       "    <tr>\n",
       "      <th>1</th>\n",
       "      <td>Yes. Just yes.HG status for me and I never say...</td>\n",
       "      <td>1</td>\n",
       "      <td>1</td>\n",
       "      <td>2021</td>\n",
       "      <td>Supergoop!</td>\n",
       "      <td>40</td>\n",
       "      <td>1.7</td>\n",
       "      <td>Dermstore</td>\n",
       "    </tr>\n",
       "    <tr>\n",
       "      <th>2</th>\n",
       "      <td>The GOAT of Daily SPF!Having dry skin all year...</td>\n",
       "      <td>1</td>\n",
       "      <td>1</td>\n",
       "      <td>2021</td>\n",
       "      <td>Supergoop!</td>\n",
       "      <td>40</td>\n",
       "      <td>1.7</td>\n",
       "      <td>Dermstore</td>\n",
       "    </tr>\n",
       "    <tr>\n",
       "      <th>3</th>\n",
       "      <td>Good sunscreenGood lightweight sunscreen so I ...</td>\n",
       "      <td>1</td>\n",
       "      <td>1</td>\n",
       "      <td>2021</td>\n",
       "      <td>Supergoop!</td>\n",
       "      <td>40</td>\n",
       "      <td>1.7</td>\n",
       "      <td>Dermstore</td>\n",
       "    </tr>\n",
       "    <tr>\n",
       "      <th>4</th>\n",
       "      <td>The only sunscreen I wearI feel like I've trie...</td>\n",
       "      <td>1</td>\n",
       "      <td>1</td>\n",
       "      <td>2021</td>\n",
       "      <td>Supergoop!</td>\n",
       "      <td>40</td>\n",
       "      <td>1.7</td>\n",
       "      <td>Dermstore</td>\n",
       "    </tr>\n",
       "  </tbody>\n",
       "</table>\n",
       "</div>"
      ],
      "text/plain": [
       "                                              Review  Verified Purchase  \\\n",
       "0  Reliable clear sunscreen that goes great under...                  1   \n",
       "1  Yes. Just yes.HG status for me and I never say...                  1   \n",
       "2  The GOAT of Daily SPF!Having dry skin all year...                  1   \n",
       "3  Good sunscreenGood lightweight sunscreen so I ...                  1   \n",
       "4  The only sunscreen I wearI feel like I've trie...                  1   \n",
       "\n",
       "   Month  Year       Brand  SPF   Oz   Retailer  \n",
       "0      1  2022  Supergoop!   40  1.7  Dermstore  \n",
       "1      1  2021  Supergoop!   40  1.7  Dermstore  \n",
       "2      1  2021  Supergoop!   40  1.7  Dermstore  \n",
       "3      1  2021  Supergoop!   40  1.7  Dermstore  \n",
       "4      1  2021  Supergoop!   40  1.7  Dermstore  "
      ]
     },
     "execution_count": 4,
     "metadata": {},
     "output_type": "execute_result"
    }
   ],
   "source": [
    "import pandas as pd\n",
    "df = pd.read_csv('review.csv')\n",
    "df.head()"
   ]
  },
  {
   "cell_type": "markdown",
   "id": "9db5f281",
   "metadata": {},
   "source": [
    "## 2. Explore Data"
   ]
  },
  {
   "cell_type": "code",
   "execution_count": 5,
   "id": "4f925f1d",
   "metadata": {},
   "outputs": [
    {
     "name": "stdout",
     "output_type": "stream",
     "text": [
      "<class 'pandas.core.frame.DataFrame'>\n",
      "RangeIndex: 6067 entries, 0 to 6066\n",
      "Data columns (total 8 columns):\n",
      " #   Column             Non-Null Count  Dtype  \n",
      "---  ------             --------------  -----  \n",
      " 0   Review             6065 non-null   object \n",
      " 1   Verified Purchase  6067 non-null   int64  \n",
      " 2   Month              6067 non-null   int64  \n",
      " 3   Year               6067 non-null   int64  \n",
      " 4   Brand              6067 non-null   object \n",
      " 5   SPF                6067 non-null   int64  \n",
      " 6   Oz                 6067 non-null   float64\n",
      " 7   Retailer           6067 non-null   object \n",
      "dtypes: float64(1), int64(4), object(3)\n",
      "memory usage: 379.3+ KB\n"
     ]
    }
   ],
   "source": [
    "df.info()"
   ]
  },
  {
   "cell_type": "code",
   "execution_count": 6,
   "id": "a187faeb",
   "metadata": {},
   "outputs": [
    {
     "name": "stdout",
     "output_type": "stream",
     "text": [
      "<class 'pandas.core.frame.DataFrame'>\n",
      "Int64Index: 6042 entries, 0 to 6066\n",
      "Data columns (total 8 columns):\n",
      " #   Column             Non-Null Count  Dtype  \n",
      "---  ------             --------------  -----  \n",
      " 0   Review             6042 non-null   object \n",
      " 1   Verified Purchase  6042 non-null   int64  \n",
      " 2   Month              6042 non-null   int64  \n",
      " 3   Year               6042 non-null   int64  \n",
      " 4   Brand              6042 non-null   object \n",
      " 5   SPF                6042 non-null   int64  \n",
      " 6   Oz                 6042 non-null   float64\n",
      " 7   Retailer           6042 non-null   object \n",
      "dtypes: float64(1), int64(4), object(3)\n",
      "memory usage: 424.8+ KB\n"
     ]
    },
    {
     "data": {
      "text/html": [
       "<div>\n",
       "<style scoped>\n",
       "    .dataframe tbody tr th:only-of-type {\n",
       "        vertical-align: middle;\n",
       "    }\n",
       "\n",
       "    .dataframe tbody tr th {\n",
       "        vertical-align: top;\n",
       "    }\n",
       "\n",
       "    .dataframe thead th {\n",
       "        text-align: right;\n",
       "    }\n",
       "</style>\n",
       "<table border=\"1\" class=\"dataframe\">\n",
       "  <thead>\n",
       "    <tr style=\"text-align: right;\">\n",
       "      <th></th>\n",
       "      <th>Review</th>\n",
       "      <th>Verified Purchase</th>\n",
       "      <th>Month</th>\n",
       "      <th>Year</th>\n",
       "      <th>Brand</th>\n",
       "      <th>SPF</th>\n",
       "      <th>Oz</th>\n",
       "      <th>Retailer</th>\n",
       "    </tr>\n",
       "  </thead>\n",
       "  <tbody>\n",
       "    <tr>\n",
       "      <th>0</th>\n",
       "      <td>Reliable clear sunscreen that goes great under...</td>\n",
       "      <td>1</td>\n",
       "      <td>1</td>\n",
       "      <td>2022</td>\n",
       "      <td>Supergoop!</td>\n",
       "      <td>40</td>\n",
       "      <td>1.7</td>\n",
       "      <td>Dermstore</td>\n",
       "    </tr>\n",
       "    <tr>\n",
       "      <th>1</th>\n",
       "      <td>Yes. Just yes.HG status for me and I never say...</td>\n",
       "      <td>1</td>\n",
       "      <td>1</td>\n",
       "      <td>2021</td>\n",
       "      <td>Supergoop!</td>\n",
       "      <td>40</td>\n",
       "      <td>1.7</td>\n",
       "      <td>Dermstore</td>\n",
       "    </tr>\n",
       "    <tr>\n",
       "      <th>2</th>\n",
       "      <td>The GOAT of Daily SPF!Having dry skin all year...</td>\n",
       "      <td>1</td>\n",
       "      <td>1</td>\n",
       "      <td>2021</td>\n",
       "      <td>Supergoop!</td>\n",
       "      <td>40</td>\n",
       "      <td>1.7</td>\n",
       "      <td>Dermstore</td>\n",
       "    </tr>\n",
       "    <tr>\n",
       "      <th>3</th>\n",
       "      <td>Good sunscreenGood lightweight sunscreen so I ...</td>\n",
       "      <td>1</td>\n",
       "      <td>1</td>\n",
       "      <td>2021</td>\n",
       "      <td>Supergoop!</td>\n",
       "      <td>40</td>\n",
       "      <td>1.7</td>\n",
       "      <td>Dermstore</td>\n",
       "    </tr>\n",
       "    <tr>\n",
       "      <th>4</th>\n",
       "      <td>The only sunscreen I wearI feel like I've trie...</td>\n",
       "      <td>1</td>\n",
       "      <td>1</td>\n",
       "      <td>2021</td>\n",
       "      <td>Supergoop!</td>\n",
       "      <td>40</td>\n",
       "      <td>1.7</td>\n",
       "      <td>Dermstore</td>\n",
       "    </tr>\n",
       "  </tbody>\n",
       "</table>\n",
       "</div>"
      ],
      "text/plain": [
       "                                              Review  Verified Purchase  \\\n",
       "0  Reliable clear sunscreen that goes great under...                  1   \n",
       "1  Yes. Just yes.HG status for me and I never say...                  1   \n",
       "2  The GOAT of Daily SPF!Having dry skin all year...                  1   \n",
       "3  Good sunscreenGood lightweight sunscreen so I ...                  1   \n",
       "4  The only sunscreen I wearI feel like I've trie...                  1   \n",
       "\n",
       "   Month  Year       Brand  SPF   Oz   Retailer  \n",
       "0      1  2022  Supergoop!   40  1.7  Dermstore  \n",
       "1      1  2021  Supergoop!   40  1.7  Dermstore  \n",
       "2      1  2021  Supergoop!   40  1.7  Dermstore  \n",
       "3      1  2021  Supergoop!   40  1.7  Dermstore  \n",
       "4      1  2021  Supergoop!   40  1.7  Dermstore  "
      ]
     },
     "execution_count": 6,
     "metadata": {},
     "output_type": "execute_result"
    }
   ],
   "source": [
    "# Drop Null Review\n",
    "df_review = df.dropna()\n",
    "\n",
    "# Drop Duplicate Review\n",
    "df_review = df_review.drop_duplicates(['Review'])\n",
    "\n",
    "df_review.info()\n",
    "df_review.head()"
   ]
  },
  {
   "cell_type": "code",
   "execution_count": 4,
   "id": "ba234bdf",
   "metadata": {},
   "outputs": [
    {
     "data": {
      "text/plain": [
       "Elta MD       3557\n",
       "Supergoop!    2510\n",
       "Name: Brand, dtype: int64"
      ]
     },
     "execution_count": 4,
     "metadata": {},
     "output_type": "execute_result"
    }
   ],
   "source": [
    "df['Brand'].value_counts()"
   ]
  },
  {
   "cell_type": "code",
   "execution_count": 5,
   "id": "16356879",
   "metadata": {},
   "outputs": [
    {
     "data": {
      "text/plain": [
       "Dermstore    2506\n",
       "Amazon       2051\n",
       "Sephora      1510\n",
       "Name: Retailer, dtype: int64"
      ]
     },
     "execution_count": 5,
     "metadata": {},
     "output_type": "execute_result"
    }
   ],
   "source": [
    "df['Retailer'].value_counts()"
   ]
  },
  {
   "cell_type": "markdown",
   "id": "18e6b2a1",
   "metadata": {},
   "source": [
    "# Count the numbers of reviews per brand\n",
    "cnt_review = df_review['Brand'].value_counts()\n",
    "cnt_review"
   ]
  },
  {
   "cell_type": "code",
   "execution_count": 8,
   "id": "aa993e9b",
   "metadata": {},
   "outputs": [
    {
     "name": "stdout",
     "output_type": "stream",
     "text": [
      "\n",
      "1st statement :\n",
      "Overall sentiment dictionary is :  {'neg': 0.165, 'neu': 0.588, 'pos': 0.247, 'compound': 0.5267}\n",
      "sentence was rated as  16.5 % Negative\n",
      "sentence was rated as  58.8 % Neutral\n",
      "sentence was rated as  24.7 % Positive\n",
      "Sentence Overall Rated As Positive\n",
      "\n",
      "2nd Statement :\n",
      "Overall sentiment dictionary is :  {'neg': 0.0, 'neu': 1.0, 'pos': 0.0, 'compound': 0.0}\n",
      "sentence was rated as  0.0 % Negative\n",
      "sentence was rated as  100.0 % Neutral\n",
      "sentence was rated as  0.0 % Positive\n",
      "Sentence Overall Rated As Neutral\n",
      "\n",
      "3rd Statement :\n",
      "Overall sentiment dictionary is :  {'neg': 0.459, 'neu': 0.541, 'pos': 0.0, 'compound': -0.5256}\n",
      "sentence was rated as  45.9 % Negative\n",
      "sentence was rated as  54.1 % Neutral\n",
      "sentence was rated as  0.0 % Positive\n",
      "Sentence Overall Rated As Negative\n"
     ]
    }
   ],
   "source": [
    "# import SentimentIntensityAnalyzer class\n",
    "# from vaderSentiment.vaderSentiment module.\n",
    "from vaderSentiment.vaderSentiment import SentimentIntensityAnalyzer\n",
    " \n",
    "# function to print sentiments\n",
    "# of the sentence.\n",
    "def sentiment_scores(sentence):\n",
    " \n",
    "    # Create a SentimentIntensityAnalyzer object.\n",
    "    sid_obj = SentimentIntensityAnalyzer()\n",
    " \n",
    "    # polarity_scores method of SentimentIntensityAnalyzer\n",
    "    # object gives a sentiment dictionary.\n",
    "    # which contains pos, neg, neu, and compound scores.\n",
    "    sentiment_dict = sid_obj.polarity_scores(sentence)\n",
    "     \n",
    "    print(\"Overall sentiment dictionary is : \", sentiment_dict)\n",
    "    print(\"sentence was rated as \", sentiment_dict['neg']*100, \"% Negative\")\n",
    "    print(\"sentence was rated as \", sentiment_dict['neu']*100, \"% Neutral\")\n",
    "    print(\"sentence was rated as \", sentiment_dict['pos']*100, \"% Positive\")\n",
    " \n",
    "    print(\"Sentence Overall Rated As\", end = \" \")\n",
    " \n",
    "    # decide sentiment as positive, negative and neutral\n",
    "    if sentiment_dict['compound'] >= 0.05 :\n",
    "        print(\"Positive\")\n",
    " \n",
    "    elif sentiment_dict['compound'] <= - 0.05 :\n",
    "        print(\"Negative\")\n",
    " \n",
    "    else :\n",
    "        print(\"Neutral\")\n",
    " \n",
    " \n",
    "   \n",
    "# Driver code\n",
    "if __name__ == \"__main__\" :\n",
    " \n",
    "    print(\"\\n1st statement :\")\n",
    "    sentence = \"Geeks For Geeks is the best portal for \\\n",
    "                the computer science engineering students.\"\n",
    " \n",
    "    # function calling\n",
    "    sentiment_scores(sentence)\n",
    " \n",
    "    print(\"\\n2nd Statement :\")\n",
    "    sentence = \"study is going on as usual\"\n",
    "    sentiment_scores(sentence)\n",
    " \n",
    "    print(\"\\n3rd Statement :\")\n",
    "    sentence = \"I am very sad today.\"\n",
    "    sentiment_scores(sentence)"
   ]
  },
  {
   "cell_type": "code",
   "execution_count": 9,
   "id": "ffcd4899",
   "metadata": {},
   "outputs": [
    {
     "name": "stdout",
     "output_type": "stream",
     "text": [
      "Overall sentiment dictionary is :  {'neg': 0.066, 'neu': 0.76, 'pos': 0.173, 'compound': 1.0}\n",
      "sentence was rated as  6.6000000000000005 % Negative\n",
      "sentence was rated as  76.0 % Neutral\n",
      "sentence was rated as  17.299999999999997 % Positive\n",
      "Sentence Overall Rated As Positive\n"
     ]
    }
   ],
   "source": [
    "sentiment_scores(df_review['Review'][(df['Retailer'] == 'Amazon') & (df['Brand'] == 'Elta MD')])"
   ]
  },
  {
   "cell_type": "code",
   "execution_count": 10,
   "id": "83afab58",
   "metadata": {},
   "outputs": [
    {
     "name": "stdout",
     "output_type": "stream",
     "text": [
      "Overall sentiment dictionary is :  {'neg': 0.057, 'neu': 0.742, 'pos': 0.201, 'compound': 1.0}\n",
      "sentence was rated as  5.7 % Negative\n",
      "sentence was rated as  74.2 % Neutral\n",
      "sentence was rated as  20.1 % Positive\n",
      "Sentence Overall Rated As Positive\n"
     ]
    }
   ],
   "source": [
    "sentiment_scores(df_review['Review'][(df['Retailer'] == 'Amazon') & (df['Brand'] == 'Supergoop!')])"
   ]
  },
  {
   "cell_type": "code",
   "execution_count": 11,
   "id": "bb80e7bc",
   "metadata": {},
   "outputs": [
    {
     "name": "stdout",
     "output_type": "stream",
     "text": [
      "Overall sentiment dictionary is :  {'neg': 0.0, 'neu': 0.0, 'pos': 0.0, 'compound': 0.0}\n",
      "sentence was rated as  0.0 % Negative\n",
      "sentence was rated as  0.0 % Neutral\n",
      "sentence was rated as  0.0 % Positive\n",
      "Sentence Overall Rated As Neutral\n"
     ]
    }
   ],
   "source": [
    "sentiment_scores(df_review['Review'][(df['Retailer'] == 'Sephora') & (df['Brand'] == 'Elta MD')])"
   ]
  },
  {
   "cell_type": "code",
   "execution_count": 12,
   "id": "44719659",
   "metadata": {},
   "outputs": [
    {
     "name": "stdout",
     "output_type": "stream",
     "text": [
      "Overall sentiment dictionary is :  {'neg': 0.052, 'neu': 0.739, 'pos': 0.209, 'compound': 1.0}\n",
      "sentence was rated as  5.2 % Negative\n",
      "sentence was rated as  73.9 % Neutral\n",
      "sentence was rated as  20.9 % Positive\n",
      "Sentence Overall Rated As Positive\n"
     ]
    }
   ],
   "source": [
    "sentiment_scores(df_review['Review'][(df['Retailer'] == 'Sephora') & (df['Brand'] == 'Supergoop!')])"
   ]
  },
  {
   "cell_type": "code",
   "execution_count": 13,
   "id": "c72135d5",
   "metadata": {},
   "outputs": [
    {
     "name": "stdout",
     "output_type": "stream",
     "text": [
      "Overall sentiment dictionary is :  {'neg': 0.044, 'neu': 0.738, 'pos': 0.219, 'compound': 1.0}\n",
      "sentence was rated as  4.3999999999999995 % Negative\n",
      "sentence was rated as  73.8 % Neutral\n",
      "sentence was rated as  21.9 % Positive\n",
      "Sentence Overall Rated As Positive\n"
     ]
    }
   ],
   "source": [
    "sentiment_scores(df_review['Review'][(df['Retailer'] == 'Dermstore') & (df['Brand'] == 'Elta MD')])"
   ]
  },
  {
   "cell_type": "code",
   "execution_count": 14,
   "id": "5b9fab1c",
   "metadata": {},
   "outputs": [
    {
     "name": "stdout",
     "output_type": "stream",
     "text": [
      "Overall sentiment dictionary is :  {'neg': 0.053, 'neu': 0.717, 'pos': 0.23, 'compound': 1.0}\n",
      "sentence was rated as  5.3 % Negative\n",
      "sentence was rated as  71.7 % Neutral\n",
      "sentence was rated as  23.0 % Positive\n",
      "Sentence Overall Rated As Positive\n"
     ]
    }
   ],
   "source": [
    "sentiment_scores(df_review['Review'][(df['Retailer'] == 'Dermstore') & (df['Brand'] == 'Supergoop!')])"
   ]
  },
  {
   "cell_type": "code",
   "execution_count": 15,
   "id": "dd73abe0",
   "metadata": {},
   "outputs": [
    {
     "name": "stdout",
     "output_type": "stream",
     "text": [
      "Overall sentiment dictionary is :  {'neg': 0.051, 'neu': 0.745, 'pos': 0.203, 'compound': 1.0}\n",
      "sentence was rated as  5.1 % Negative\n",
      "sentence was rated as  74.5 % Neutral\n",
      "sentence was rated as  20.3 % Positive\n",
      "Sentence Overall Rated As Positive\n"
     ]
    }
   ],
   "source": [
    "sentiment_scores(df_review['Review'][df['Brand'] == 'Elta MD'])"
   ]
  },
  {
   "cell_type": "code",
   "execution_count": 16,
   "id": "423af1d0",
   "metadata": {},
   "outputs": [
    {
     "name": "stdout",
     "output_type": "stream",
     "text": [
      "Overall sentiment dictionary is :  {'neg': 0.054, 'neu': 0.737, 'pos': 0.209, 'compound': 1.0}\n",
      "sentence was rated as  5.4 % Negative\n",
      "sentence was rated as  73.7 % Neutral\n",
      "sentence was rated as  20.9 % Positive\n",
      "Sentence Overall Rated As Positive\n"
     ]
    }
   ],
   "source": [
    "sentiment_scores(df_review['Review'][df['Brand'] == 'Supergoop!'])"
   ]
  },
  {
   "cell_type": "markdown",
   "id": "f9275e8f",
   "metadata": {},
   "source": [
    "## Key Words per Brand and Merchant"
   ]
  },
  {
   "cell_type": "code",
   "execution_count": 2,
   "id": "d5ebaa04",
   "metadata": {},
   "outputs": [],
   "source": [
    "def BERT(title):\n",
    "    \n",
    "    array_text = pd.DataFrame(df[df['Brand'] == title]['Review']).to_numpy()\n",
    "    \n",
    "    bow = []\n",
    "    from keybert import KeyBERT\n",
    "    kw_extractor = KeyBERT('distilbert-base-nli-mean-tokens')\n",
    "    for j in range(len(array_text)):\n",
    "        keywords = kw_extractor.extract_keywords(array_text[j][0])\n",
    "        bow.append(keywords)\n",
    "        \n",
    "    new_bow = []\n",
    "    for i in range(0, len(bow)):\n",
    "        for j in range(len(bow[i])):\n",
    "            new_bow.append(bow[i][j])\n",
    "            \n",
    "    keyword = pd.DataFrame(new_bow, columns=['keyword','weight'])\n",
    "    print(keyword.groupby('keyword').agg('sum').sort_values('weight', ascending=False).head(20))"
   ]
  },
  {
   "cell_type": "code",
   "execution_count": 18,
   "id": "e9ca3c68",
   "metadata": {},
   "outputs": [
    {
     "data": {
      "application/vnd.jupyter.widget-view+json": {
       "model_id": "31c7447f4a094c6b996755704d4980a8",
       "version_major": 2,
       "version_minor": 0
      },
      "text/plain": [
       "Downloading:   0%|          | 0.00/690 [00:00<?, ?B/s]"
      ]
     },
     "metadata": {},
     "output_type": "display_data"
    },
    {
     "data": {
      "application/vnd.jupyter.widget-view+json": {
       "model_id": "1405074960754b0d850245c569478e34",
       "version_major": 2,
       "version_minor": 0
      },
      "text/plain": [
       "Downloading:   0%|          | 0.00/190 [00:00<?, ?B/s]"
      ]
     },
     "metadata": {},
     "output_type": "display_data"
    },
    {
     "data": {
      "application/vnd.jupyter.widget-view+json": {
       "model_id": "c1cc324b8a77450888264d53ac60ee3b",
       "version_major": 2,
       "version_minor": 0
      },
      "text/plain": [
       "Downloading:   0%|          | 0.00/3.99k [00:00<?, ?B/s]"
      ]
     },
     "metadata": {},
     "output_type": "display_data"
    },
    {
     "data": {
      "application/vnd.jupyter.widget-view+json": {
       "model_id": "257b41dea9a64ab9b29b27f0416245aa",
       "version_major": 2,
       "version_minor": 0
      },
      "text/plain": [
       "Downloading:   0%|          | 0.00/550 [00:00<?, ?B/s]"
      ]
     },
     "metadata": {},
     "output_type": "display_data"
    },
    {
     "data": {
      "application/vnd.jupyter.widget-view+json": {
       "model_id": "6259c10153b94cf8a5ebc900a77a1685",
       "version_major": 2,
       "version_minor": 0
      },
      "text/plain": [
       "Downloading:   0%|          | 0.00/122 [00:00<?, ?B/s]"
      ]
     },
     "metadata": {},
     "output_type": "display_data"
    },
    {
     "data": {
      "application/vnd.jupyter.widget-view+json": {
       "model_id": "54a9d2b8d46f4005b0d85416e963462e",
       "version_major": 2,
       "version_minor": 0
      },
      "text/plain": [
       "Downloading:   0%|          | 0.00/229 [00:00<?, ?B/s]"
      ]
     },
     "metadata": {},
     "output_type": "display_data"
    },
    {
     "data": {
      "application/vnd.jupyter.widget-view+json": {
       "model_id": "c042673fdebb4c1cb13b498c9aed170b",
       "version_major": 2,
       "version_minor": 0
      },
      "text/plain": [
       "Downloading:   0%|          | 0.00/265M [00:00<?, ?B/s]"
      ]
     },
     "metadata": {},
     "output_type": "display_data"
    },
    {
     "data": {
      "application/vnd.jupyter.widget-view+json": {
       "model_id": "896e43bb88ab4c7bb3ea3447ba58445f",
       "version_major": 2,
       "version_minor": 0
      },
      "text/plain": [
       "Downloading:   0%|          | 0.00/53.0 [00:00<?, ?B/s]"
      ]
     },
     "metadata": {},
     "output_type": "display_data"
    },
    {
     "data": {
      "application/vnd.jupyter.widget-view+json": {
       "model_id": "c93972ea428845e4a2e036f61df201f3",
       "version_major": 2,
       "version_minor": 0
      },
      "text/plain": [
       "Downloading:   0%|          | 0.00/112 [00:00<?, ?B/s]"
      ]
     },
     "metadata": {},
     "output_type": "display_data"
    },
    {
     "data": {
      "application/vnd.jupyter.widget-view+json": {
       "model_id": "c0f4beb9b2114798bf6915d5d1a1d0eb",
       "version_major": 2,
       "version_minor": 0
      },
      "text/plain": [
       "Downloading:   0%|          | 0.00/466k [00:00<?, ?B/s]"
      ]
     },
     "metadata": {},
     "output_type": "display_data"
    },
    {
     "data": {
      "application/vnd.jupyter.widget-view+json": {
       "model_id": "245ee071e18946a89fabe3299a45ab07",
       "version_major": 2,
       "version_minor": 0
      },
      "text/plain": [
       "Downloading:   0%|          | 0.00/450 [00:00<?, ?B/s]"
      ]
     },
     "metadata": {},
     "output_type": "display_data"
    },
    {
     "data": {
      "application/vnd.jupyter.widget-view+json": {
       "model_id": "e19588bee4db4191bca72a051366f650",
       "version_major": 2,
       "version_minor": 0
      },
      "text/plain": [
       "Downloading:   0%|          | 0.00/232k [00:00<?, ?B/s]"
      ]
     },
     "metadata": {},
     "output_type": "display_data"
    },
    {
     "name": "stdout",
     "output_type": "stream",
     "text": [
      "                 weight\n",
      "keyword                \n",
      "sunscreen      896.8877\n",
      "love           151.9620\n",
      "sunscreens     149.6481\n",
      "sunscreeni     100.8923\n",
      "favorite        98.7953\n",
      "white           88.4982\n",
      "sun             79.2322\n",
      "oily            78.3739\n",
      "sunscreenthis   73.0215\n",
      "dermatologist   72.7848\n",
      "moisturizer     68.5683\n",
      "best            62.9479\n",
      "light           61.3085\n",
      "great           58.7730\n",
      "skin            50.8567\n",
      "daily           47.8090\n",
      "moisturizing    41.5258\n",
      "acne            40.4357\n",
      "easy            40.2609\n",
      "makeup          39.3623\n"
     ]
    }
   ],
   "source": [
    "BERT('Elta MD')"
   ]
  },
  {
   "cell_type": "code",
   "execution_count": 8,
   "id": "c5dee91a",
   "metadata": {},
   "outputs": [],
   "source": [
    "df=df.dropna()"
   ]
  },
  {
   "cell_type": "code",
   "execution_count": 9,
   "id": "b2a3dc42",
   "metadata": {
    "scrolled": true
   },
   "outputs": [
    {
     "name": "stdout",
     "output_type": "stream",
     "text": [
      "              weight\n",
      "keyword             \n",
      "sunscreen   624.7785\n",
      "love        142.3952\n",
      "sunscreens   99.5966\n",
      "oily         86.7740\n",
      "helpful      80.2727\n",
      "makeup       79.8932\n",
      "smooth       67.4052\n",
      "white        53.7297\n",
      "sun          49.0846\n",
      "light        48.5773\n",
      "favorite     41.0710\n",
      "greasy       40.3145\n",
      "great        39.3816\n",
      "skin         36.2673\n",
      "best         30.5023\n",
      "primer       29.8325\n",
      "silicone     26.3827\n",
      "product      25.2256\n",
      "perfect      24.8459\n",
      "clear        24.5414\n"
     ]
    }
   ],
   "source": [
    "BERT('Supergoop!')"
   ]
  },
  {
   "cell_type": "code",
   "execution_count": null,
   "id": "ee7517c3",
   "metadata": {},
   "outputs": [],
   "source": []
  }
 ],
 "metadata": {
  "kernelspec": {
   "display_name": "Python 3 (ipykernel)",
   "language": "python",
   "name": "python3"
  },
  "language_info": {
   "codemirror_mode": {
    "name": "ipython",
    "version": 3
   },
   "file_extension": ".py",
   "mimetype": "text/x-python",
   "name": "python",
   "nbconvert_exporter": "python",
   "pygments_lexer": "ipython3",
   "version": "3.9.12"
  }
 },
 "nbformat": 4,
 "nbformat_minor": 5
}
