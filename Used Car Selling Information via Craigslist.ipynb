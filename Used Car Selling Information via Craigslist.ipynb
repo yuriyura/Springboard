{
 "cells": [
  {
   "cell_type": "markdown",
   "metadata": {},
   "source": [
    "# Import Data (csv file)"
   ]
  },
  {
   "cell_type": "code",
   "execution_count": 1,
   "metadata": {},
   "outputs": [
    {
     "name": "stderr",
     "output_type": "stream",
     "text": [
      "C:\\Users\\danie\\Anaconda\\lib\\site-packages\\IPython\\core\\interactiveshell.py:3063: DtypeWarning: Columns (2,3) have mixed types.Specify dtype option on import or set low_memory=False.\n",
      "  interactivity=interactivity, compiler=compiler, result=result)\n"
     ]
    }
   ],
   "source": [
    "import pandas as pd\n",
    "import numpy as np\n",
    "pd.set_option('display.max_rows', 500)\n",
    "pd.set_option('display.max_columns', 500)\n",
    "\n",
    "df = pd.read_csv(\"craigslistVehiclesFull.csv\", encoding='latin-1')"
   ]
  },
  {
   "cell_type": "markdown",
   "metadata": {},
   "source": [
    "# Inspect Data"
   ]
  },
  {
   "cell_type": "code",
   "execution_count": 2,
   "metadata": {},
   "outputs": [
    {
     "data": {
      "text/html": [
       "<div>\n",
       "<style scoped>\n",
       "    .dataframe tbody tr th:only-of-type {\n",
       "        vertical-align: middle;\n",
       "    }\n",
       "\n",
       "    .dataframe tbody tr th {\n",
       "        vertical-align: top;\n",
       "    }\n",
       "\n",
       "    .dataframe thead th {\n",
       "        text-align: right;\n",
       "    }\n",
       "</style>\n",
       "<table border=\"1\" class=\"dataframe\">\n",
       "  <thead>\n",
       "    <tr style=\"text-align: right;\">\n",
       "      <th></th>\n",
       "      <th>url</th>\n",
       "      <th>city</th>\n",
       "      <th>price</th>\n",
       "      <th>year</th>\n",
       "      <th>manufacturer</th>\n",
       "      <th>make</th>\n",
       "      <th>condition</th>\n",
       "      <th>cylinders</th>\n",
       "      <th>fuel</th>\n",
       "      <th>odometer</th>\n",
       "      <th>title_status</th>\n",
       "      <th>transmission</th>\n",
       "      <th>vin</th>\n",
       "      <th>drive</th>\n",
       "      <th>size</th>\n",
       "      <th>type</th>\n",
       "      <th>paint_color</th>\n",
       "      <th>image_url</th>\n",
       "      <th>lat</th>\n",
       "      <th>long</th>\n",
       "      <th>county_fips</th>\n",
       "      <th>county_name</th>\n",
       "      <th>state_fips</th>\n",
       "      <th>state_code</th>\n",
       "      <th>state_name</th>\n",
       "      <th>weather</th>\n",
       "    </tr>\n",
       "  </thead>\n",
       "  <tbody>\n",
       "    <tr>\n",
       "      <th>0</th>\n",
       "      <td>https://marshall.craigslist.org/cto/d/2010-dod...</td>\n",
       "      <td>marshall</td>\n",
       "      <td>11900</td>\n",
       "      <td>2010</td>\n",
       "      <td>dodge</td>\n",
       "      <td>challenger se</td>\n",
       "      <td>good</td>\n",
       "      <td>6 cylinders</td>\n",
       "      <td>gas</td>\n",
       "      <td>43600.0</td>\n",
       "      <td>clean</td>\n",
       "      <td>automatic</td>\n",
       "      <td>NaN</td>\n",
       "      <td>rwd</td>\n",
       "      <td>NaN</td>\n",
       "      <td>coupe</td>\n",
       "      <td>red</td>\n",
       "      <td>https://images.craigslist.org/00i0i_2ggH1eKDNK...</td>\n",
       "      <td>43.4775</td>\n",
       "      <td>-96.7041</td>\n",
       "      <td>46083.0</td>\n",
       "      <td>Lincoln</td>\n",
       "      <td>46.0</td>\n",
       "      <td>SD</td>\n",
       "      <td>South Dakota</td>\n",
       "      <td>38.0</td>\n",
       "    </tr>\n",
       "    <tr>\n",
       "      <th>1</th>\n",
       "      <td>https://marshall.craigslist.org/cto/d/fleetwoo...</td>\n",
       "      <td>marshall</td>\n",
       "      <td>1515</td>\n",
       "      <td>1999</td>\n",
       "      <td>NaN</td>\n",
       "      <td>fleetwood</td>\n",
       "      <td>NaN</td>\n",
       "      <td>NaN</td>\n",
       "      <td>gas</td>\n",
       "      <td>NaN</td>\n",
       "      <td>clean</td>\n",
       "      <td>other</td>\n",
       "      <td>NaN</td>\n",
       "      <td>NaN</td>\n",
       "      <td>NaN</td>\n",
       "      <td>NaN</td>\n",
       "      <td>NaN</td>\n",
       "      <td>https://images.craigslist.org/00M0M_irjh7SjEcU...</td>\n",
       "      <td>44.7612</td>\n",
       "      <td>-96.6907</td>\n",
       "      <td>46039.0</td>\n",
       "      <td>Deuel</td>\n",
       "      <td>46.0</td>\n",
       "      <td>SD</td>\n",
       "      <td>South Dakota</td>\n",
       "      <td>38.0</td>\n",
       "    </tr>\n",
       "    <tr>\n",
       "      <th>2</th>\n",
       "      <td>https://marshall.craigslist.org/cto/d/2008-for...</td>\n",
       "      <td>marshall</td>\n",
       "      <td>17550</td>\n",
       "      <td>2008</td>\n",
       "      <td>ford</td>\n",
       "      <td>f-150</td>\n",
       "      <td>NaN</td>\n",
       "      <td>NaN</td>\n",
       "      <td>gas</td>\n",
       "      <td>NaN</td>\n",
       "      <td>clean</td>\n",
       "      <td>automatic</td>\n",
       "      <td>NaN</td>\n",
       "      <td>NaN</td>\n",
       "      <td>NaN</td>\n",
       "      <td>NaN</td>\n",
       "      <td>NaN</td>\n",
       "      <td>https://images.craigslist.org/00s0s_eL2XFhEUcx...</td>\n",
       "      <td>44.1415</td>\n",
       "      <td>-103.2052</td>\n",
       "      <td>46093.0</td>\n",
       "      <td>Meade</td>\n",
       "      <td>46.0</td>\n",
       "      <td>SD</td>\n",
       "      <td>South Dakota</td>\n",
       "      <td>38.0</td>\n",
       "    </tr>\n",
       "    <tr>\n",
       "      <th>3</th>\n",
       "      <td>https://marshall.craigslist.org/cto/d/ford-tau...</td>\n",
       "      <td>marshall</td>\n",
       "      <td>2800</td>\n",
       "      <td>2004</td>\n",
       "      <td>ford</td>\n",
       "      <td>taurus</td>\n",
       "      <td>good</td>\n",
       "      <td>6 cylinders</td>\n",
       "      <td>gas</td>\n",
       "      <td>168591.0</td>\n",
       "      <td>clean</td>\n",
       "      <td>automatic</td>\n",
       "      <td>1FAFP55UO4G113464</td>\n",
       "      <td>fwd</td>\n",
       "      <td>full-size</td>\n",
       "      <td>sedan</td>\n",
       "      <td>grey</td>\n",
       "      <td>https://images.craigslist.org/00L0L_5HUR1nQjt8...</td>\n",
       "      <td>43.2845</td>\n",
       "      <td>-95.5930</td>\n",
       "      <td>19143.0</td>\n",
       "      <td>Osceola</td>\n",
       "      <td>19.0</td>\n",
       "      <td>IA</td>\n",
       "      <td>Iowa</td>\n",
       "      <td>47.0</td>\n",
       "    </tr>\n",
       "    <tr>\n",
       "      <th>4</th>\n",
       "      <td>https://marshall.craigslist.org/cto/d/2001-gra...</td>\n",
       "      <td>marshall</td>\n",
       "      <td>400</td>\n",
       "      <td>2001</td>\n",
       "      <td>NaN</td>\n",
       "      <td>2001 Grand Prix</td>\n",
       "      <td>NaN</td>\n",
       "      <td>NaN</td>\n",
       "      <td>gas</td>\n",
       "      <td>217000.0</td>\n",
       "      <td>clean</td>\n",
       "      <td>automatic</td>\n",
       "      <td>NaN</td>\n",
       "      <td>NaN</td>\n",
       "      <td>NaN</td>\n",
       "      <td>NaN</td>\n",
       "      <td>NaN</td>\n",
       "      <td>https://images.craigslist.org/00n0n_bJJ1XnonSG...</td>\n",
       "      <td>43.0261</td>\n",
       "      <td>-94.4064</td>\n",
       "      <td>19109.0</td>\n",
       "      <td>Kossuth</td>\n",
       "      <td>19.0</td>\n",
       "      <td>IA</td>\n",
       "      <td>Iowa</td>\n",
       "      <td>47.0</td>\n",
       "    </tr>\n",
       "  </tbody>\n",
       "</table>\n",
       "</div>"
      ],
      "text/plain": [
       "                                                 url      city  price  year  \\\n",
       "0  https://marshall.craigslist.org/cto/d/2010-dod...  marshall  11900  2010   \n",
       "1  https://marshall.craigslist.org/cto/d/fleetwoo...  marshall   1515  1999   \n",
       "2  https://marshall.craigslist.org/cto/d/2008-for...  marshall  17550  2008   \n",
       "3  https://marshall.craigslist.org/cto/d/ford-tau...  marshall   2800  2004   \n",
       "4  https://marshall.craigslist.org/cto/d/2001-gra...  marshall    400  2001   \n",
       "\n",
       "  manufacturer             make condition    cylinders fuel  odometer  \\\n",
       "0        dodge    challenger se      good  6 cylinders  gas   43600.0   \n",
       "1          NaN        fleetwood       NaN          NaN  gas       NaN   \n",
       "2         ford            f-150       NaN          NaN  gas       NaN   \n",
       "3         ford           taurus      good  6 cylinders  gas  168591.0   \n",
       "4          NaN  2001 Grand Prix       NaN          NaN  gas  217000.0   \n",
       "\n",
       "  title_status transmission                vin drive       size   type  \\\n",
       "0        clean    automatic                NaN   rwd        NaN  coupe   \n",
       "1        clean        other                NaN   NaN        NaN    NaN   \n",
       "2        clean    automatic                NaN   NaN        NaN    NaN   \n",
       "3        clean    automatic  1FAFP55UO4G113464   fwd  full-size  sedan   \n",
       "4        clean    automatic                NaN   NaN        NaN    NaN   \n",
       "\n",
       "  paint_color                                          image_url      lat  \\\n",
       "0         red  https://images.craigslist.org/00i0i_2ggH1eKDNK...  43.4775   \n",
       "1         NaN  https://images.craigslist.org/00M0M_irjh7SjEcU...  44.7612   \n",
       "2         NaN  https://images.craigslist.org/00s0s_eL2XFhEUcx...  44.1415   \n",
       "3        grey  https://images.craigslist.org/00L0L_5HUR1nQjt8...  43.2845   \n",
       "4         NaN  https://images.craigslist.org/00n0n_bJJ1XnonSG...  43.0261   \n",
       "\n",
       "       long  county_fips county_name  state_fips state_code    state_name  \\\n",
       "0  -96.7041      46083.0     Lincoln        46.0         SD  South Dakota   \n",
       "1  -96.6907      46039.0       Deuel        46.0         SD  South Dakota   \n",
       "2 -103.2052      46093.0       Meade        46.0         SD  South Dakota   \n",
       "3  -95.5930      19143.0     Osceola        19.0         IA          Iowa   \n",
       "4  -94.4064      19109.0     Kossuth        19.0         IA          Iowa   \n",
       "\n",
       "   weather  \n",
       "0     38.0  \n",
       "1     38.0  \n",
       "2     38.0  \n",
       "3     47.0  \n",
       "4     47.0  "
      ]
     },
     "execution_count": 2,
     "metadata": {},
     "output_type": "execute_result"
    }
   ],
   "source": [
    "df.head()"
   ]
  },
  {
   "cell_type": "code",
   "execution_count": 3,
   "metadata": {},
   "outputs": [
    {
     "data": {
      "text/html": [
       "<div>\n",
       "<style scoped>\n",
       "    .dataframe tbody tr th:only-of-type {\n",
       "        vertical-align: middle;\n",
       "    }\n",
       "\n",
       "    .dataframe tbody tr th {\n",
       "        vertical-align: top;\n",
       "    }\n",
       "\n",
       "    .dataframe thead th {\n",
       "        text-align: right;\n",
       "    }\n",
       "</style>\n",
       "<table border=\"1\" class=\"dataframe\">\n",
       "  <thead>\n",
       "    <tr style=\"text-align: right;\">\n",
       "      <th></th>\n",
       "      <th>url</th>\n",
       "      <th>city</th>\n",
       "      <th>price</th>\n",
       "      <th>year</th>\n",
       "      <th>manufacturer</th>\n",
       "      <th>make</th>\n",
       "      <th>condition</th>\n",
       "      <th>cylinders</th>\n",
       "      <th>fuel</th>\n",
       "      <th>odometer</th>\n",
       "      <th>title_status</th>\n",
       "      <th>transmission</th>\n",
       "      <th>vin</th>\n",
       "      <th>drive</th>\n",
       "      <th>size</th>\n",
       "      <th>type</th>\n",
       "      <th>paint_color</th>\n",
       "      <th>image_url</th>\n",
       "      <th>lat</th>\n",
       "      <th>long</th>\n",
       "      <th>county_fips</th>\n",
       "      <th>county_name</th>\n",
       "      <th>state_fips</th>\n",
       "      <th>state_code</th>\n",
       "      <th>state_name</th>\n",
       "      <th>weather</th>\n",
       "    </tr>\n",
       "  </thead>\n",
       "  <tbody>\n",
       "    <tr>\n",
       "      <th>1049195</th>\n",
       "      <td>https://topeka.craigslist.org/ctd/d/2006-chevr...</td>\n",
       "      <td>topeka</td>\n",
       "      <td>7995</td>\n",
       "      <td>2006</td>\n",
       "      <td>chevrolet</td>\n",
       "      <td>silverado 2500 hd crew</td>\n",
       "      <td>NaN</td>\n",
       "      <td>NaN</td>\n",
       "      <td>gas</td>\n",
       "      <td>NaN</td>\n",
       "      <td>clean</td>\n",
       "      <td>automatic</td>\n",
       "      <td>1GCHC23U06F138406</td>\n",
       "      <td>NaN</td>\n",
       "      <td>NaN</td>\n",
       "      <td>NaN</td>\n",
       "      <td>NaN</td>\n",
       "      <td>https://images.craigslist.org/00A0A_l1r21OrSdJ...</td>\n",
       "      <td>38.6419</td>\n",
       "      <td>-94.3285</td>\n",
       "      <td>29037.0</td>\n",
       "      <td>Cass/Van Buren</td>\n",
       "      <td>29.0</td>\n",
       "      <td>MO</td>\n",
       "      <td>Missouri</td>\n",
       "      <td>52.0</td>\n",
       "    </tr>\n",
       "    <tr>\n",
       "      <th>1049196</th>\n",
       "      <td>https://westky.craigslist.org/cto/d/2008-acura...</td>\n",
       "      <td>westky</td>\n",
       "      <td>10900</td>\n",
       "      <td>2008</td>\n",
       "      <td>acura</td>\n",
       "      <td>tl</td>\n",
       "      <td>NaN</td>\n",
       "      <td>NaN</td>\n",
       "      <td>gas</td>\n",
       "      <td>NaN</td>\n",
       "      <td>clean</td>\n",
       "      <td>automatic</td>\n",
       "      <td>NaN</td>\n",
       "      <td>NaN</td>\n",
       "      <td>NaN</td>\n",
       "      <td>NaN</td>\n",
       "      <td>NaN</td>\n",
       "      <td>https://images.craigslist.org/00606_hGCTgk1rVL...</td>\n",
       "      <td>37.3879</td>\n",
       "      <td>-89.6519</td>\n",
       "      <td>29031.0</td>\n",
       "      <td>Cape Girardeau</td>\n",
       "      <td>29.0</td>\n",
       "      <td>MO</td>\n",
       "      <td>Missouri</td>\n",
       "      <td>52.0</td>\n",
       "    </tr>\n",
       "    <tr>\n",
       "      <th>1049197</th>\n",
       "      <td>https://jacksonville.craigslist.org/cto/d/dump...</td>\n",
       "      <td>jacksonville</td>\n",
       "      <td>40000</td>\n",
       "      <td>2006</td>\n",
       "      <td>ford</td>\n",
       "      <td>sterling</td>\n",
       "      <td>excellent</td>\n",
       "      <td>other</td>\n",
       "      <td>diesel</td>\n",
       "      <td>350000.0</td>\n",
       "      <td>clean</td>\n",
       "      <td>manual</td>\n",
       "      <td>NaN</td>\n",
       "      <td>NaN</td>\n",
       "      <td>full-size</td>\n",
       "      <td>truck</td>\n",
       "      <td>red</td>\n",
       "      <td>https://images.craigslist.org/00f0f_gohYgKDsQZ...</td>\n",
       "      <td>38.7071</td>\n",
       "      <td>-90.3055</td>\n",
       "      <td>29189.0</td>\n",
       "      <td>St. Louis</td>\n",
       "      <td>29.0</td>\n",
       "      <td>MO</td>\n",
       "      <td>Missouri</td>\n",
       "      <td>52.0</td>\n",
       "    </tr>\n",
       "    <tr>\n",
       "      <th>1049198</th>\n",
       "      <td>https://quadcities.craigslist.org/ctd/d/sweet-...</td>\n",
       "      <td>quadcities</td>\n",
       "      <td>6995</td>\n",
       "      <td>2007</td>\n",
       "      <td>ram</td>\n",
       "      <td>1500</td>\n",
       "      <td>NaN</td>\n",
       "      <td>NaN</td>\n",
       "      <td>gas</td>\n",
       "      <td>197936.0</td>\n",
       "      <td>clean</td>\n",
       "      <td>manual</td>\n",
       "      <td>1D7HU18227S220778</td>\n",
       "      <td>NaN</td>\n",
       "      <td>NaN</td>\n",
       "      <td>NaN</td>\n",
       "      <td>NaN</td>\n",
       "      <td>https://images.craigslist.org/00k0k_6qBvHCzjn2...</td>\n",
       "      <td>38.9482</td>\n",
       "      <td>-90.9138</td>\n",
       "      <td>29113.0</td>\n",
       "      <td>Lincoln</td>\n",
       "      <td>29.0</td>\n",
       "      <td>MO</td>\n",
       "      <td>Missouri</td>\n",
       "      <td>52.0</td>\n",
       "    </tr>\n",
       "    <tr>\n",
       "      <th>1049199</th>\n",
       "      <td>https://quadcities.craigslist.org/cto/d/04-gmc...</td>\n",
       "      <td>quadcities</td>\n",
       "      <td>12345</td>\n",
       "      <td>2004</td>\n",
       "      <td>gmc</td>\n",
       "      <td>canyon yz450</td>\n",
       "      <td>NaN</td>\n",
       "      <td>5 cylinders</td>\n",
       "      <td>gas</td>\n",
       "      <td>NaN</td>\n",
       "      <td>clean</td>\n",
       "      <td>automatic</td>\n",
       "      <td>NaN</td>\n",
       "      <td>NaN</td>\n",
       "      <td>NaN</td>\n",
       "      <td>NaN</td>\n",
       "      <td>NaN</td>\n",
       "      <td>https://images.craigslist.org/00y0y_g0Nj6JXaie...</td>\n",
       "      <td>40.4619</td>\n",
       "      <td>-92.1851</td>\n",
       "      <td>29199.0</td>\n",
       "      <td>Scotland</td>\n",
       "      <td>29.0</td>\n",
       "      <td>MO</td>\n",
       "      <td>Missouri</td>\n",
       "      <td>52.0</td>\n",
       "    </tr>\n",
       "  </tbody>\n",
       "</table>\n",
       "</div>"
      ],
      "text/plain": [
       "                                                       url          city  \\\n",
       "1049195  https://topeka.craigslist.org/ctd/d/2006-chevr...        topeka   \n",
       "1049196  https://westky.craigslist.org/cto/d/2008-acura...        westky   \n",
       "1049197  https://jacksonville.craigslist.org/cto/d/dump...  jacksonville   \n",
       "1049198  https://quadcities.craigslist.org/ctd/d/sweet-...    quadcities   \n",
       "1049199  https://quadcities.craigslist.org/cto/d/04-gmc...    quadcities   \n",
       "\n",
       "         price  year manufacturer                    make  condition  \\\n",
       "1049195   7995  2006    chevrolet  silverado 2500 hd crew        NaN   \n",
       "1049196  10900  2008        acura                      tl        NaN   \n",
       "1049197  40000  2006         ford                sterling  excellent   \n",
       "1049198   6995  2007          ram                    1500        NaN   \n",
       "1049199  12345  2004          gmc            canyon yz450        NaN   \n",
       "\n",
       "           cylinders    fuel  odometer title_status transmission  \\\n",
       "1049195          NaN     gas       NaN        clean    automatic   \n",
       "1049196          NaN     gas       NaN        clean    automatic   \n",
       "1049197        other  diesel  350000.0        clean       manual   \n",
       "1049198          NaN     gas  197936.0        clean       manual   \n",
       "1049199  5 cylinders     gas       NaN        clean    automatic   \n",
       "\n",
       "                       vin drive       size   type paint_color  \\\n",
       "1049195  1GCHC23U06F138406   NaN        NaN    NaN         NaN   \n",
       "1049196                NaN   NaN        NaN    NaN         NaN   \n",
       "1049197                NaN   NaN  full-size  truck         red   \n",
       "1049198  1D7HU18227S220778   NaN        NaN    NaN         NaN   \n",
       "1049199                NaN   NaN        NaN    NaN         NaN   \n",
       "\n",
       "                                                 image_url      lat     long  \\\n",
       "1049195  https://images.craigslist.org/00A0A_l1r21OrSdJ...  38.6419 -94.3285   \n",
       "1049196  https://images.craigslist.org/00606_hGCTgk1rVL...  37.3879 -89.6519   \n",
       "1049197  https://images.craigslist.org/00f0f_gohYgKDsQZ...  38.7071 -90.3055   \n",
       "1049198  https://images.craigslist.org/00k0k_6qBvHCzjn2...  38.9482 -90.9138   \n",
       "1049199  https://images.craigslist.org/00y0y_g0Nj6JXaie...  40.4619 -92.1851   \n",
       "\n",
       "         county_fips     county_name  state_fips state_code state_name  \\\n",
       "1049195      29037.0  Cass/Van Buren        29.0         MO   Missouri   \n",
       "1049196      29031.0  Cape Girardeau        29.0         MO   Missouri   \n",
       "1049197      29189.0       St. Louis        29.0         MO   Missouri   \n",
       "1049198      29113.0         Lincoln        29.0         MO   Missouri   \n",
       "1049199      29199.0        Scotland        29.0         MO   Missouri   \n",
       "\n",
       "         weather  \n",
       "1049195     52.0  \n",
       "1049196     52.0  \n",
       "1049197     52.0  \n",
       "1049198     52.0  \n",
       "1049199     52.0  "
      ]
     },
     "execution_count": 3,
     "metadata": {},
     "output_type": "execute_result"
    }
   ],
   "source": [
    "df.tail()"
   ]
  },
  {
   "cell_type": "code",
   "execution_count": 4,
   "metadata": {},
   "outputs": [
    {
     "data": {
      "text/plain": [
       "Index(['url', 'city', 'price', 'year', 'manufacturer', 'make', 'condition',\n",
       "       'cylinders', 'fuel', 'odometer', 'title_status', 'transmission', 'vin',\n",
       "       'drive', 'size', 'type', 'paint_color', 'image_url', 'lat', 'long',\n",
       "       'county_fips', 'county_name', 'state_fips', 'state_code', 'state_name',\n",
       "       'weather'],\n",
       "      dtype='object')"
      ]
     },
     "execution_count": 4,
     "metadata": {},
     "output_type": "execute_result"
    }
   ],
   "source": [
    "df.columns"
   ]
  },
  {
   "cell_type": "code",
   "execution_count": 5,
   "metadata": {},
   "outputs": [
    {
     "name": "stdout",
     "output_type": "stream",
     "text": [
      "<class 'pandas.core.frame.DataFrame'>\n",
      "RangeIndex: 1049200 entries, 0 to 1049199\n",
      "Data columns (total 26 columns):\n",
      " #   Column        Non-Null Count    Dtype  \n",
      "---  ------        --------------    -----  \n",
      " 0   url           1049199 non-null  object \n",
      " 1   city          1048559 non-null  object \n",
      " 2   price         1048535 non-null  object \n",
      " 3   year          1047014 non-null  object \n",
      " 4   manufacturer  964568 non-null   object \n",
      " 5   make          1005318 non-null  object \n",
      " 6   condition     615062 non-null   object \n",
      " 7   cylinders     621193 non-null   object \n",
      " 8   fuel          1042054 non-null  object \n",
      " 9   odometer      705601 non-null   float64\n",
      " 10  title_status  1046971 non-null  object \n",
      " 11  transmission  1042699 non-null  object \n",
      " 12  vin           367156 non-null   object \n",
      " 13  drive         645697 non-null   object \n",
      " 14  size          358029 non-null   object \n",
      " 15  type          614919 non-null   object \n",
      " 16  paint_color   617962 non-null   object \n",
      " 17  image_url     1048519 non-null  object \n",
      " 18  lat           1048519 non-null  float64\n",
      " 19  long          1048519 non-null  float64\n",
      " 20  county_fips   990178 non-null   float64\n",
      " 21  county_name   990178 non-null   object \n",
      " 22  state_fips    990178 non-null   float64\n",
      " 23  state_code    990178 non-null   object \n",
      " 24  state_name    1048519 non-null  object \n",
      " 25  weather       989582 non-null   float64\n",
      "dtypes: float64(6), object(20)\n",
      "memory usage: 208.1+ MB\n"
     ]
    }
   ],
   "source": [
    "df.info()"
   ]
  },
  {
   "cell_type": "code",
   "execution_count": 6,
   "metadata": {},
   "outputs": [
    {
     "data": {
      "text/html": [
       "<div>\n",
       "<style scoped>\n",
       "    .dataframe tbody tr th:only-of-type {\n",
       "        vertical-align: middle;\n",
       "    }\n",
       "\n",
       "    .dataframe tbody tr th {\n",
       "        vertical-align: top;\n",
       "    }\n",
       "\n",
       "    .dataframe thead th {\n",
       "        text-align: right;\n",
       "    }\n",
       "</style>\n",
       "<table border=\"1\" class=\"dataframe\">\n",
       "  <thead>\n",
       "    <tr style=\"text-align: right;\">\n",
       "      <th></th>\n",
       "      <th>odometer</th>\n",
       "      <th>lat</th>\n",
       "      <th>long</th>\n",
       "      <th>county_fips</th>\n",
       "      <th>state_fips</th>\n",
       "      <th>weather</th>\n",
       "    </tr>\n",
       "  </thead>\n",
       "  <tbody>\n",
       "    <tr>\n",
       "      <th>count</th>\n",
       "      <td>7.056010e+05</td>\n",
       "      <td>1.048519e+06</td>\n",
       "      <td>1.048519e+06</td>\n",
       "      <td>990178.000000</td>\n",
       "      <td>990178.000000</td>\n",
       "      <td>989582.000000</td>\n",
       "    </tr>\n",
       "    <tr>\n",
       "      <th>mean</th>\n",
       "      <td>1.138255e+05</td>\n",
       "      <td>3.967305e+01</td>\n",
       "      <td>-9.609864e+01</td>\n",
       "      <td>24775.443619</td>\n",
       "      <td>24.704956</td>\n",
       "      <td>53.022543</td>\n",
       "    </tr>\n",
       "    <tr>\n",
       "      <th>std</th>\n",
       "      <td>1.316380e+05</td>\n",
       "      <td>5.692429e+00</td>\n",
       "      <td>1.860790e+01</td>\n",
       "      <td>15579.137290</td>\n",
       "      <td>15.569437</td>\n",
       "      <td>7.605096</td>\n",
       "    </tr>\n",
       "    <tr>\n",
       "      <th>min</th>\n",
       "      <td>0.000000e+00</td>\n",
       "      <td>-8.481005e+01</td>\n",
       "      <td>-1.000000e+03</td>\n",
       "      <td>1001.000000</td>\n",
       "      <td>1.000000</td>\n",
       "      <td>29.000000</td>\n",
       "    </tr>\n",
       "    <tr>\n",
       "      <th>25%</th>\n",
       "      <td>5.800000e+04</td>\n",
       "      <td>3.551126e+01</td>\n",
       "      <td>-1.171445e+02</td>\n",
       "      <td>8005.000000</td>\n",
       "      <td>8.000000</td>\n",
       "      <td>48.000000</td>\n",
       "    </tr>\n",
       "    <tr>\n",
       "      <th>50%</th>\n",
       "      <td>1.070260e+05</td>\n",
       "      <td>3.990460e+01</td>\n",
       "      <td>-9.041660e+01</td>\n",
       "      <td>26055.000000</td>\n",
       "      <td>26.000000</td>\n",
       "      <td>52.000000</td>\n",
       "    </tr>\n",
       "    <tr>\n",
       "      <th>75%</th>\n",
       "      <td>1.530000e+05</td>\n",
       "      <td>4.267304e+01</td>\n",
       "      <td>-8.154935e+01</td>\n",
       "      <td>39151.000000</td>\n",
       "      <td>39.000000</td>\n",
       "      <td>59.000000</td>\n",
       "    </tr>\n",
       "    <tr>\n",
       "      <th>max</th>\n",
       "      <td>1.000000e+07</td>\n",
       "      <td>9.000000e+01</td>\n",
       "      <td>1.397061e+02</td>\n",
       "      <td>56045.000000</td>\n",
       "      <td>56.000000</td>\n",
       "      <td>79.000000</td>\n",
       "    </tr>\n",
       "  </tbody>\n",
       "</table>\n",
       "</div>"
      ],
      "text/plain": [
       "           odometer           lat          long    county_fips     state_fips  \\\n",
       "count  7.056010e+05  1.048519e+06  1.048519e+06  990178.000000  990178.000000   \n",
       "mean   1.138255e+05  3.967305e+01 -9.609864e+01   24775.443619      24.704956   \n",
       "std    1.316380e+05  5.692429e+00  1.860790e+01   15579.137290      15.569437   \n",
       "min    0.000000e+00 -8.481005e+01 -1.000000e+03    1001.000000       1.000000   \n",
       "25%    5.800000e+04  3.551126e+01 -1.171445e+02    8005.000000       8.000000   \n",
       "50%    1.070260e+05  3.990460e+01 -9.041660e+01   26055.000000      26.000000   \n",
       "75%    1.530000e+05  4.267304e+01 -8.154935e+01   39151.000000      39.000000   \n",
       "max    1.000000e+07  9.000000e+01  1.397061e+02   56045.000000      56.000000   \n",
       "\n",
       "             weather  \n",
       "count  989582.000000  \n",
       "mean       53.022543  \n",
       "std         7.605096  \n",
       "min        29.000000  \n",
       "25%        48.000000  \n",
       "50%        52.000000  \n",
       "75%        59.000000  \n",
       "max        79.000000  "
      ]
     },
     "execution_count": 6,
     "metadata": {},
     "output_type": "execute_result"
    }
   ],
   "source": [
    "df.describe()"
   ]
  },
  {
   "cell_type": "code",
   "execution_count": 7,
   "metadata": {},
   "outputs": [],
   "source": [
    "df.drop_duplicates(inplace=True)"
   ]
  },
  {
   "cell_type": "code",
   "execution_count": 8,
   "metadata": {},
   "outputs": [
    {
     "name": "stdout",
     "output_type": "stream",
     "text": [
      "<class 'pandas.core.frame.DataFrame'>\n",
      "Int64Index: 1048636 entries, 0 to 1049199\n",
      "Data columns (total 26 columns):\n",
      " #   Column        Non-Null Count    Dtype  \n",
      "---  ------        --------------    -----  \n",
      " 0   url           1048635 non-null  object \n",
      " 1   city          1048559 non-null  object \n",
      " 2   price         1048535 non-null  object \n",
      " 3   year          1047014 non-null  object \n",
      " 4   manufacturer  964568 non-null   object \n",
      " 5   make          1005318 non-null  object \n",
      " 6   condition     615062 non-null   object \n",
      " 7   cylinders     621193 non-null   object \n",
      " 8   fuel          1042054 non-null  object \n",
      " 9   odometer      705601 non-null   float64\n",
      " 10  title_status  1046971 non-null  object \n",
      " 11  transmission  1042699 non-null  object \n",
      " 12  vin           367156 non-null   object \n",
      " 13  drive         645697 non-null   object \n",
      " 14  size          358029 non-null   object \n",
      " 15  type          614919 non-null   object \n",
      " 16  paint_color   617962 non-null   object \n",
      " 17  image_url     1048519 non-null  object \n",
      " 18  lat           1048519 non-null  float64\n",
      " 19  long          1048519 non-null  float64\n",
      " 20  county_fips   990178 non-null   float64\n",
      " 21  county_name   990178 non-null   object \n",
      " 22  state_fips    990178 non-null   float64\n",
      " 23  state_code    990178 non-null   object \n",
      " 24  state_name    1048519 non-null  object \n",
      " 25  weather       989582 non-null   float64\n",
      "dtypes: float64(6), object(20)\n",
      "memory usage: 216.0+ MB\n"
     ]
    }
   ],
   "source": [
    "df.info()"
   ]
  },
  {
   "cell_type": "code",
   "execution_count": 9,
   "metadata": {},
   "outputs": [
    {
     "data": {
      "text/html": [
       "<div>\n",
       "<style scoped>\n",
       "    .dataframe tbody tr th:only-of-type {\n",
       "        vertical-align: middle;\n",
       "    }\n",
       "\n",
       "    .dataframe tbody tr th {\n",
       "        vertical-align: top;\n",
       "    }\n",
       "\n",
       "    .dataframe thead th {\n",
       "        text-align: right;\n",
       "    }\n",
       "</style>\n",
       "<table border=\"1\" class=\"dataframe\">\n",
       "  <thead>\n",
       "    <tr style=\"text-align: right;\">\n",
       "      <th></th>\n",
       "      <th>odometer</th>\n",
       "      <th>lat</th>\n",
       "      <th>long</th>\n",
       "      <th>county_fips</th>\n",
       "      <th>state_fips</th>\n",
       "      <th>weather</th>\n",
       "    </tr>\n",
       "  </thead>\n",
       "  <tbody>\n",
       "    <tr>\n",
       "      <th>count</th>\n",
       "      <td>7.056010e+05</td>\n",
       "      <td>1.048519e+06</td>\n",
       "      <td>1.048519e+06</td>\n",
       "      <td>990178.000000</td>\n",
       "      <td>990178.000000</td>\n",
       "      <td>989582.000000</td>\n",
       "    </tr>\n",
       "    <tr>\n",
       "      <th>mean</th>\n",
       "      <td>1.138255e+05</td>\n",
       "      <td>3.967305e+01</td>\n",
       "      <td>-9.609864e+01</td>\n",
       "      <td>24775.443619</td>\n",
       "      <td>24.704956</td>\n",
       "      <td>53.022543</td>\n",
       "    </tr>\n",
       "    <tr>\n",
       "      <th>std</th>\n",
       "      <td>1.316380e+05</td>\n",
       "      <td>5.692429e+00</td>\n",
       "      <td>1.860790e+01</td>\n",
       "      <td>15579.137290</td>\n",
       "      <td>15.569437</td>\n",
       "      <td>7.605096</td>\n",
       "    </tr>\n",
       "    <tr>\n",
       "      <th>min</th>\n",
       "      <td>0.000000e+00</td>\n",
       "      <td>-8.481005e+01</td>\n",
       "      <td>-1.000000e+03</td>\n",
       "      <td>1001.000000</td>\n",
       "      <td>1.000000</td>\n",
       "      <td>29.000000</td>\n",
       "    </tr>\n",
       "    <tr>\n",
       "      <th>25%</th>\n",
       "      <td>5.800000e+04</td>\n",
       "      <td>3.551126e+01</td>\n",
       "      <td>-1.171445e+02</td>\n",
       "      <td>8005.000000</td>\n",
       "      <td>8.000000</td>\n",
       "      <td>48.000000</td>\n",
       "    </tr>\n",
       "    <tr>\n",
       "      <th>50%</th>\n",
       "      <td>1.070260e+05</td>\n",
       "      <td>3.990460e+01</td>\n",
       "      <td>-9.041660e+01</td>\n",
       "      <td>26055.000000</td>\n",
       "      <td>26.000000</td>\n",
       "      <td>52.000000</td>\n",
       "    </tr>\n",
       "    <tr>\n",
       "      <th>75%</th>\n",
       "      <td>1.530000e+05</td>\n",
       "      <td>4.267304e+01</td>\n",
       "      <td>-8.154935e+01</td>\n",
       "      <td>39151.000000</td>\n",
       "      <td>39.000000</td>\n",
       "      <td>59.000000</td>\n",
       "    </tr>\n",
       "    <tr>\n",
       "      <th>max</th>\n",
       "      <td>1.000000e+07</td>\n",
       "      <td>9.000000e+01</td>\n",
       "      <td>1.397061e+02</td>\n",
       "      <td>56045.000000</td>\n",
       "      <td>56.000000</td>\n",
       "      <td>79.000000</td>\n",
       "    </tr>\n",
       "  </tbody>\n",
       "</table>\n",
       "</div>"
      ],
      "text/plain": [
       "           odometer           lat          long    county_fips     state_fips  \\\n",
       "count  7.056010e+05  1.048519e+06  1.048519e+06  990178.000000  990178.000000   \n",
       "mean   1.138255e+05  3.967305e+01 -9.609864e+01   24775.443619      24.704956   \n",
       "std    1.316380e+05  5.692429e+00  1.860790e+01   15579.137290      15.569437   \n",
       "min    0.000000e+00 -8.481005e+01 -1.000000e+03    1001.000000       1.000000   \n",
       "25%    5.800000e+04  3.551126e+01 -1.171445e+02    8005.000000       8.000000   \n",
       "50%    1.070260e+05  3.990460e+01 -9.041660e+01   26055.000000      26.000000   \n",
       "75%    1.530000e+05  4.267304e+01 -8.154935e+01   39151.000000      39.000000   \n",
       "max    1.000000e+07  9.000000e+01  1.397061e+02   56045.000000      56.000000   \n",
       "\n",
       "             weather  \n",
       "count  989582.000000  \n",
       "mean       53.022543  \n",
       "std         7.605096  \n",
       "min        29.000000  \n",
       "25%        48.000000  \n",
       "50%        52.000000  \n",
       "75%        59.000000  \n",
       "max        79.000000  "
      ]
     },
     "execution_count": 9,
     "metadata": {},
     "output_type": "execute_result"
    }
   ],
   "source": [
    "df.describe()"
   ]
  },
  {
   "cell_type": "markdown",
   "metadata": {},
   "source": [
    "There seem too many NaN in the data set.  So let's figure out how much NaN\n",
    "occupies in individual columns."
   ]
  },
  {
   "cell_type": "code",
   "execution_count": 10,
   "metadata": {},
   "outputs": [
    {
     "data": {
      "text/plain": [
       "size            65.857647\n",
       "vin             64.987279\n",
       "type            41.360110\n",
       "condition       41.346473\n",
       "paint_color     41.069923\n",
       "cylinders       40.761809\n",
       "drive           38.425059\n",
       "odometer        32.712495\n",
       "manufacturer     8.016891\n",
       "weather          5.631506\n",
       "county_fips      5.574670\n",
       "county_name      5.574670\n",
       "state_fips       5.574670\n",
       "state_code       5.574670\n",
       "make             4.130890\n",
       "fuel             0.627673\n",
       "transmission     0.566164\n",
       "title_status     0.158778\n",
       "year             0.154677\n",
       "image_url        0.011157\n",
       "lat              0.011157\n",
       "long             0.011157\n",
       "state_name       0.011157\n",
       "price            0.009632\n",
       "city             0.007343\n",
       "url              0.000095\n",
       "dtype: float64"
      ]
     },
     "execution_count": 10,
     "metadata": {},
     "output_type": "execute_result"
    }
   ],
   "source": [
    "((df.isnull().sum()/len(df)).sort_values(ascending = False)*100).astype(float)"
   ]
  },
  {
   "cell_type": "markdown",
   "metadata": {},
   "source": [
    "Let's drop rows with 'price' whose value is null."
   ]
  },
  {
   "cell_type": "code",
   "execution_count": 11,
   "metadata": {},
   "outputs": [],
   "source": [
    "df.drop(df[df['price'].isnull()].index, inplace=True)"
   ]
  },
  {
   "cell_type": "code",
   "execution_count": 12,
   "metadata": {},
   "outputs": [
    {
     "data": {
      "text/plain": [
       "size            65.854359\n",
       "vin             64.983906\n",
       "type            41.354461\n",
       "condition       41.340823\n",
       "paint_color     41.064247\n",
       "cylinders       40.756103\n",
       "drive           38.419128\n",
       "odometer        32.706014\n",
       "manufacturer     8.008030\n",
       "weather          5.622416\n",
       "county_fips      5.565575\n",
       "county_name      5.565575\n",
       "state_fips       5.565575\n",
       "state_code       5.565575\n",
       "make             4.121655\n",
       "fuel             0.618100\n",
       "transmission     0.556586\n",
       "title_status     0.149160\n",
       "year             0.145060\n",
       "image_url        0.001526\n",
       "lat              0.001526\n",
       "long             0.001526\n",
       "state_name       0.001526\n",
       "price            0.000000\n",
       "city             0.000000\n",
       "url              0.000000\n",
       "dtype: float64"
      ]
     },
     "execution_count": 12,
     "metadata": {},
     "output_type": "execute_result"
    }
   ],
   "source": [
    "((df.isnull().sum()/len(df)).sort_values(ascending = False)*100).astype(float)"
   ]
  },
  {
   "cell_type": "markdown",
   "metadata": {},
   "source": [
    "Let's drop rows with 'lat' whose value is null because null value of either 'lat' or 'long' cannot give you correlatable geographical information. "
   ]
  },
  {
   "cell_type": "code",
   "execution_count": 13,
   "metadata": {},
   "outputs": [],
   "source": [
    "df.drop(df[df['lat'].isnull()].index, inplace=True)"
   ]
  },
  {
   "cell_type": "code",
   "execution_count": 14,
   "metadata": {},
   "outputs": [
    {
     "data": {
      "text/plain": [
       "size            65.853838\n",
       "vin             64.983372\n",
       "type            41.353566\n",
       "condition       41.340023\n",
       "paint_color     41.063347\n",
       "cylinders       40.755199\n",
       "drive           38.418188\n",
       "odometer        32.704987\n",
       "manufacturer     8.006913\n",
       "weather          5.620976\n",
       "county_fips      5.564134\n",
       "county_name      5.564134\n",
       "state_fips       5.564134\n",
       "state_code       5.564134\n",
       "make             4.120383\n",
       "fuel             0.616584\n",
       "transmission     0.555069\n",
       "title_status     0.147637\n",
       "year             0.143917\n",
       "image_url        0.000000\n",
       "lat              0.000000\n",
       "long             0.000000\n",
       "state_name       0.000000\n",
       "price            0.000000\n",
       "city             0.000000\n",
       "url              0.000000\n",
       "dtype: float64"
      ]
     },
     "execution_count": 14,
     "metadata": {},
     "output_type": "execute_result"
    }
   ],
   "source": [
    "((df.isnull().sum()/len(df)).sort_values(ascending = False)*100).astype(float)"
   ]
  },
  {
   "cell_type": "markdown",
   "metadata": {},
   "source": [
    "Let's look into rows whose 'year' is null."
   ]
  },
  {
   "cell_type": "code",
   "execution_count": 15,
   "metadata": {},
   "outputs": [
    {
     "data": {
      "text/html": [
       "<div>\n",
       "<style scoped>\n",
       "    .dataframe tbody tr th:only-of-type {\n",
       "        vertical-align: middle;\n",
       "    }\n",
       "\n",
       "    .dataframe tbody tr th {\n",
       "        vertical-align: top;\n",
       "    }\n",
       "\n",
       "    .dataframe thead th {\n",
       "        text-align: right;\n",
       "    }\n",
       "</style>\n",
       "<table border=\"1\" class=\"dataframe\">\n",
       "  <thead>\n",
       "    <tr style=\"text-align: right;\">\n",
       "      <th></th>\n",
       "      <th>url</th>\n",
       "      <th>city</th>\n",
       "      <th>price</th>\n",
       "      <th>year</th>\n",
       "      <th>manufacturer</th>\n",
       "      <th>make</th>\n",
       "      <th>condition</th>\n",
       "      <th>cylinders</th>\n",
       "      <th>fuel</th>\n",
       "      <th>odometer</th>\n",
       "      <th>title_status</th>\n",
       "      <th>transmission</th>\n",
       "      <th>vin</th>\n",
       "      <th>drive</th>\n",
       "      <th>size</th>\n",
       "      <th>type</th>\n",
       "      <th>paint_color</th>\n",
       "      <th>image_url</th>\n",
       "      <th>lat</th>\n",
       "      <th>long</th>\n",
       "      <th>county_fips</th>\n",
       "      <th>county_name</th>\n",
       "      <th>state_fips</th>\n",
       "      <th>state_code</th>\n",
       "      <th>state_name</th>\n",
       "      <th>weather</th>\n",
       "    </tr>\n",
       "  </thead>\n",
       "  <tbody>\n",
       "    <tr>\n",
       "      <th>1652</th>\n",
       "      <td>https://galveston.craigslist.org/cto/d/2014-ni...</td>\n",
       "      <td>galveston</td>\n",
       "      <td>2900</td>\n",
       "      <td>NaN</td>\n",
       "      <td>NaN</td>\n",
       "      <td>soacrizcd</td>\n",
       "      <td>NaN</td>\n",
       "      <td>NaN</td>\n",
       "      <td>gas</td>\n",
       "      <td>NaN</td>\n",
       "      <td>clean</td>\n",
       "      <td>automatic</td>\n",
       "      <td>NaN</td>\n",
       "      <td>NaN</td>\n",
       "      <td>NaN</td>\n",
       "      <td>NaN</td>\n",
       "      <td>NaN</td>\n",
       "      <td>https://images.craigslist.org/00M0M_jkpAqq0f3A...</td>\n",
       "      <td>29.395588</td>\n",
       "      <td>-94.936825</td>\n",
       "      <td>48167.0</td>\n",
       "      <td>Galveston</td>\n",
       "      <td>48.0</td>\n",
       "      <td>TX</td>\n",
       "      <td>Texas</td>\n",
       "      <td>67.0</td>\n",
       "    </tr>\n",
       "    <tr>\n",
       "      <th>7092</th>\n",
       "      <td>https://saltlakecity.craigslist.org/cto/d/2014...</td>\n",
       "      <td>saltlakecity</td>\n",
       "      <td>2900</td>\n",
       "      <td>NaN</td>\n",
       "      <td>NaN</td>\n",
       "      <td>pcrqno</td>\n",
       "      <td>NaN</td>\n",
       "      <td>NaN</td>\n",
       "      <td>gas</td>\n",
       "      <td>NaN</td>\n",
       "      <td>clean</td>\n",
       "      <td>automatic</td>\n",
       "      <td>NaN</td>\n",
       "      <td>NaN</td>\n",
       "      <td>NaN</td>\n",
       "      <td>NaN</td>\n",
       "      <td>NaN</td>\n",
       "      <td>https://images.craigslist.org/00j0j_kNH7SuxV2u...</td>\n",
       "      <td>42.712053</td>\n",
       "      <td>-111.620163</td>\n",
       "      <td>16029.0</td>\n",
       "      <td>Caribou</td>\n",
       "      <td>16.0</td>\n",
       "      <td>ID</td>\n",
       "      <td>Idaho</td>\n",
       "      <td>47.0</td>\n",
       "    </tr>\n",
       "    <tr>\n",
       "      <th>8555</th>\n",
       "      <td>https://memphis.craigslist.org/ctd/d/2018-toyo...</td>\n",
       "      <td>memphis</td>\n",
       "      <td>21842</td>\n",
       "      <td>NaN</td>\n",
       "      <td>NaN</td>\n",
       "      <td>a Camry</td>\n",
       "      <td>NaN</td>\n",
       "      <td>4 cylinders</td>\n",
       "      <td>gas</td>\n",
       "      <td>11312.0</td>\n",
       "      <td>clean</td>\n",
       "      <td>automatic</td>\n",
       "      <td>JTNB11HK6J3001862</td>\n",
       "      <td>fwd</td>\n",
       "      <td>NaN</td>\n",
       "      <td>sedan</td>\n",
       "      <td>white</td>\n",
       "      <td>https://images.craigslist.org/00i0i_cMyXBfkKdq...</td>\n",
       "      <td>35.186081</td>\n",
       "      <td>-89.794496</td>\n",
       "      <td>47157.0</td>\n",
       "      <td>Shelby</td>\n",
       "      <td>47.0</td>\n",
       "      <td>TN</td>\n",
       "      <td>Tennessee</td>\n",
       "      <td>59.0</td>\n",
       "    </tr>\n",
       "    <tr>\n",
       "      <th>8641</th>\n",
       "      <td>https://memphis.craigslist.org/ctd/d/2018-toyo...</td>\n",
       "      <td>memphis</td>\n",
       "      <td>21980</td>\n",
       "      <td>NaN</td>\n",
       "      <td>NaN</td>\n",
       "      <td>a RAV4</td>\n",
       "      <td>NaN</td>\n",
       "      <td>4 cylinders</td>\n",
       "      <td>gas</td>\n",
       "      <td>40810.0</td>\n",
       "      <td>clean</td>\n",
       "      <td>automatic</td>\n",
       "      <td>2T3WFREV4JW405860</td>\n",
       "      <td>fwd</td>\n",
       "      <td>NaN</td>\n",
       "      <td>SUV</td>\n",
       "      <td>grey</td>\n",
       "      <td>https://images.craigslist.org/00H0H_jegqUW8uIS...</td>\n",
       "      <td>35.186081</td>\n",
       "      <td>-89.794496</td>\n",
       "      <td>47157.0</td>\n",
       "      <td>Shelby</td>\n",
       "      <td>47.0</td>\n",
       "      <td>TN</td>\n",
       "      <td>Tennessee</td>\n",
       "      <td>59.0</td>\n",
       "    </tr>\n",
       "    <tr>\n",
       "      <th>12831</th>\n",
       "      <td>https://elko.craigslist.org/ctd/d/2018-nissan-...</td>\n",
       "      <td>elko</td>\n",
       "      <td>60900</td>\n",
       "      <td>NaN</td>\n",
       "      <td>NaN</td>\n",
       "      <td>n Titan XD</td>\n",
       "      <td>NaN</td>\n",
       "      <td>8 cylinders</td>\n",
       "      <td>diesel</td>\n",
       "      <td>354.0</td>\n",
       "      <td>clean</td>\n",
       "      <td>automatic</td>\n",
       "      <td>1N6BA1F46JN521781</td>\n",
       "      <td>4wd</td>\n",
       "      <td>NaN</td>\n",
       "      <td>pickup</td>\n",
       "      <td>black</td>\n",
       "      <td>https://images.craigslist.org/01313_a9b4VDVItM...</td>\n",
       "      <td>40.362248</td>\n",
       "      <td>-111.785947</td>\n",
       "      <td>49049.0</td>\n",
       "      <td>Utah</td>\n",
       "      <td>49.0</td>\n",
       "      <td>UT</td>\n",
       "      <td>Utah</td>\n",
       "      <td>50.0</td>\n",
       "    </tr>\n",
       "    <tr>\n",
       "      <th>...</th>\n",
       "      <td>...</td>\n",
       "      <td>...</td>\n",
       "      <td>...</td>\n",
       "      <td>...</td>\n",
       "      <td>...</td>\n",
       "      <td>...</td>\n",
       "      <td>...</td>\n",
       "      <td>...</td>\n",
       "      <td>...</td>\n",
       "      <td>...</td>\n",
       "      <td>...</td>\n",
       "      <td>...</td>\n",
       "      <td>...</td>\n",
       "      <td>...</td>\n",
       "      <td>...</td>\n",
       "      <td>...</td>\n",
       "      <td>...</td>\n",
       "      <td>...</td>\n",
       "      <td>...</td>\n",
       "      <td>...</td>\n",
       "      <td>...</td>\n",
       "      <td>...</td>\n",
       "      <td>...</td>\n",
       "      <td>...</td>\n",
       "      <td>...</td>\n",
       "      <td>...</td>\n",
       "    </tr>\n",
       "    <tr>\n",
       "      <th>987780</th>\n",
       "      <td>https://minneapolis.craigslist.org/hnp/ctd/d/2...</td>\n",
       "      <td>minneapolis</td>\n",
       "      <td>29498</td>\n",
       "      <td>NaN</td>\n",
       "      <td>NaN</td>\n",
       "      <td>Clarity Plug-In Hybrid</td>\n",
       "      <td>NaN</td>\n",
       "      <td>4 cylinders</td>\n",
       "      <td>gas</td>\n",
       "      <td>2698.0</td>\n",
       "      <td>clean</td>\n",
       "      <td>automatic</td>\n",
       "      <td>JHMZC5F14JC008709</td>\n",
       "      <td>fwd</td>\n",
       "      <td>NaN</td>\n",
       "      <td>sedan</td>\n",
       "      <td>white</td>\n",
       "      <td>https://images.craigslist.org/00S0S_8Pp7R5N00D...</td>\n",
       "      <td>44.863287</td>\n",
       "      <td>-93.285342</td>\n",
       "      <td>27053.0</td>\n",
       "      <td>Hennepin</td>\n",
       "      <td>27.0</td>\n",
       "      <td>MN</td>\n",
       "      <td>Minnesota</td>\n",
       "      <td>43.0</td>\n",
       "    </tr>\n",
       "    <tr>\n",
       "      <th>994185</th>\n",
       "      <td>https://myrtlebeach.craigslist.org/cto/d/impal...</td>\n",
       "      <td>myrtlebeach</td>\n",
       "      <td>2900</td>\n",
       "      <td>NaN</td>\n",
       "      <td>NaN</td>\n",
       "      <td>ymmefqxhn</td>\n",
       "      <td>NaN</td>\n",
       "      <td>NaN</td>\n",
       "      <td>gas</td>\n",
       "      <td>NaN</td>\n",
       "      <td>clean</td>\n",
       "      <td>automatic</td>\n",
       "      <td>NaN</td>\n",
       "      <td>NaN</td>\n",
       "      <td>NaN</td>\n",
       "      <td>NaN</td>\n",
       "      <td>NaN</td>\n",
       "      <td>https://images.craigslist.org/00B0B_icXTx8yDAK...</td>\n",
       "      <td>33.803125</td>\n",
       "      <td>-78.837776</td>\n",
       "      <td>45051.0</td>\n",
       "      <td>Horry</td>\n",
       "      <td>45.0</td>\n",
       "      <td>SC</td>\n",
       "      <td>South Carolina</td>\n",
       "      <td>60.0</td>\n",
       "    </tr>\n",
       "    <tr>\n",
       "      <th>997789</th>\n",
       "      <td>https://asheville.craigslist.org/cto/d/2010-fo...</td>\n",
       "      <td>asheville</td>\n",
       "      <td>12500</td>\n",
       "      <td>NaN</td>\n",
       "      <td>ford</td>\n",
       "      <td>f150</td>\n",
       "      <td>excellent</td>\n",
       "      <td>8 cylinders</td>\n",
       "      <td>gas</td>\n",
       "      <td>99000.0</td>\n",
       "      <td>rebuilt</td>\n",
       "      <td>automatic</td>\n",
       "      <td>NaN</td>\n",
       "      <td>rwd</td>\n",
       "      <td>NaN</td>\n",
       "      <td>pickup</td>\n",
       "      <td>red</td>\n",
       "      <td>https://images.craigslist.org/00H0H_hLRfMrTPKO...</td>\n",
       "      <td>34.776458</td>\n",
       "      <td>-82.391206</td>\n",
       "      <td>45045.0</td>\n",
       "      <td>Greenville</td>\n",
       "      <td>45.0</td>\n",
       "      <td>SC</td>\n",
       "      <td>South Carolina</td>\n",
       "      <td>60.0</td>\n",
       "    </tr>\n",
       "    <tr>\n",
       "      <th>997790</th>\n",
       "      <td>https://asheville.craigslist.org/cto/d/2008-fo...</td>\n",
       "      <td>asheville</td>\n",
       "      <td>8300</td>\n",
       "      <td>NaN</td>\n",
       "      <td>ford</td>\n",
       "      <td>ranger xlt</td>\n",
       "      <td>NaN</td>\n",
       "      <td>6 cylinders</td>\n",
       "      <td>gas</td>\n",
       "      <td>121455.0</td>\n",
       "      <td>clean</td>\n",
       "      <td>automatic</td>\n",
       "      <td>NaN</td>\n",
       "      <td>4wd</td>\n",
       "      <td>mid-size</td>\n",
       "      <td>truck</td>\n",
       "      <td>white</td>\n",
       "      <td>https://images.craigslist.org/00r0r_6FYgE8j05R...</td>\n",
       "      <td>34.757900</td>\n",
       "      <td>-82.044700</td>\n",
       "      <td>45083.0</td>\n",
       "      <td>Spartanburg</td>\n",
       "      <td>45.0</td>\n",
       "      <td>SC</td>\n",
       "      <td>South Carolina</td>\n",
       "      <td>60.0</td>\n",
       "    </tr>\n",
       "    <tr>\n",
       "      <th>1009673</th>\n",
       "      <td>https://columbia.craigslist.org/cto/d/2009-hon...</td>\n",
       "      <td>columbia</td>\n",
       "      <td>2900</td>\n",
       "      <td>NaN</td>\n",
       "      <td>NaN</td>\n",
       "      <td>sjphygdhbtq</td>\n",
       "      <td>NaN</td>\n",
       "      <td>NaN</td>\n",
       "      <td>gas</td>\n",
       "      <td>NaN</td>\n",
       "      <td>clean</td>\n",
       "      <td>automatic</td>\n",
       "      <td>NaN</td>\n",
       "      <td>NaN</td>\n",
       "      <td>NaN</td>\n",
       "      <td>NaN</td>\n",
       "      <td>NaN</td>\n",
       "      <td>https://images.craigslist.org/00B0B_icXTx8yDAK...</td>\n",
       "      <td>33.996344</td>\n",
       "      <td>-81.100412</td>\n",
       "      <td>45063.0</td>\n",
       "      <td>Lexington</td>\n",
       "      <td>45.0</td>\n",
       "      <td>SC</td>\n",
       "      <td>South Carolina</td>\n",
       "      <td>60.0</td>\n",
       "    </tr>\n",
       "  </tbody>\n",
       "</table>\n",
       "<p>1509 rows × 26 columns</p>\n",
       "</div>"
      ],
      "text/plain": [
       "                                                       url          city  \\\n",
       "1652     https://galveston.craigslist.org/cto/d/2014-ni...     galveston   \n",
       "7092     https://saltlakecity.craigslist.org/cto/d/2014...  saltlakecity   \n",
       "8555     https://memphis.craigslist.org/ctd/d/2018-toyo...       memphis   \n",
       "8641     https://memphis.craigslist.org/ctd/d/2018-toyo...       memphis   \n",
       "12831    https://elko.craigslist.org/ctd/d/2018-nissan-...          elko   \n",
       "...                                                    ...           ...   \n",
       "987780   https://minneapolis.craigslist.org/hnp/ctd/d/2...   minneapolis   \n",
       "994185   https://myrtlebeach.craigslist.org/cto/d/impal...   myrtlebeach   \n",
       "997789   https://asheville.craigslist.org/cto/d/2010-fo...     asheville   \n",
       "997790   https://asheville.craigslist.org/cto/d/2008-fo...     asheville   \n",
       "1009673  https://columbia.craigslist.org/cto/d/2009-hon...      columbia   \n",
       "\n",
       "         price year manufacturer                    make  condition  \\\n",
       "1652      2900  NaN          NaN               soacrizcd        NaN   \n",
       "7092      2900  NaN          NaN                  pcrqno        NaN   \n",
       "8555     21842  NaN          NaN                 a Camry        NaN   \n",
       "8641     21980  NaN          NaN                  a RAV4        NaN   \n",
       "12831    60900  NaN          NaN              n Titan XD        NaN   \n",
       "...        ...  ...          ...                     ...        ...   \n",
       "987780   29498  NaN          NaN  Clarity Plug-In Hybrid        NaN   \n",
       "994185    2900  NaN          NaN               ymmefqxhn        NaN   \n",
       "997789   12500  NaN         ford                    f150  excellent   \n",
       "997790    8300  NaN         ford              ranger xlt        NaN   \n",
       "1009673   2900  NaN          NaN             sjphygdhbtq        NaN   \n",
       "\n",
       "           cylinders    fuel  odometer title_status transmission  \\\n",
       "1652             NaN     gas       NaN        clean    automatic   \n",
       "7092             NaN     gas       NaN        clean    automatic   \n",
       "8555     4 cylinders     gas   11312.0        clean    automatic   \n",
       "8641     4 cylinders     gas   40810.0        clean    automatic   \n",
       "12831    8 cylinders  diesel     354.0        clean    automatic   \n",
       "...              ...     ...       ...          ...          ...   \n",
       "987780   4 cylinders     gas    2698.0        clean    automatic   \n",
       "994185           NaN     gas       NaN        clean    automatic   \n",
       "997789   8 cylinders     gas   99000.0      rebuilt    automatic   \n",
       "997790   6 cylinders     gas  121455.0        clean    automatic   \n",
       "1009673          NaN     gas       NaN        clean    automatic   \n",
       "\n",
       "                       vin drive      size    type paint_color  \\\n",
       "1652                   NaN   NaN       NaN     NaN         NaN   \n",
       "7092                   NaN   NaN       NaN     NaN         NaN   \n",
       "8555     JTNB11HK6J3001862   fwd       NaN   sedan       white   \n",
       "8641     2T3WFREV4JW405860   fwd       NaN     SUV        grey   \n",
       "12831    1N6BA1F46JN521781   4wd       NaN  pickup       black   \n",
       "...                    ...   ...       ...     ...         ...   \n",
       "987780   JHMZC5F14JC008709   fwd       NaN   sedan       white   \n",
       "994185                 NaN   NaN       NaN     NaN         NaN   \n",
       "997789                 NaN   rwd       NaN  pickup         red   \n",
       "997790                 NaN   4wd  mid-size   truck       white   \n",
       "1009673                NaN   NaN       NaN     NaN         NaN   \n",
       "\n",
       "                                                 image_url        lat  \\\n",
       "1652     https://images.craigslist.org/00M0M_jkpAqq0f3A...  29.395588   \n",
       "7092     https://images.craigslist.org/00j0j_kNH7SuxV2u...  42.712053   \n",
       "8555     https://images.craigslist.org/00i0i_cMyXBfkKdq...  35.186081   \n",
       "8641     https://images.craigslist.org/00H0H_jegqUW8uIS...  35.186081   \n",
       "12831    https://images.craigslist.org/01313_a9b4VDVItM...  40.362248   \n",
       "...                                                    ...        ...   \n",
       "987780   https://images.craigslist.org/00S0S_8Pp7R5N00D...  44.863287   \n",
       "994185   https://images.craigslist.org/00B0B_icXTx8yDAK...  33.803125   \n",
       "997789   https://images.craigslist.org/00H0H_hLRfMrTPKO...  34.776458   \n",
       "997790   https://images.craigslist.org/00r0r_6FYgE8j05R...  34.757900   \n",
       "1009673  https://images.craigslist.org/00B0B_icXTx8yDAK...  33.996344   \n",
       "\n",
       "               long  county_fips  county_name  state_fips state_code  \\\n",
       "1652     -94.936825      48167.0    Galveston        48.0         TX   \n",
       "7092    -111.620163      16029.0      Caribou        16.0         ID   \n",
       "8555     -89.794496      47157.0       Shelby        47.0         TN   \n",
       "8641     -89.794496      47157.0       Shelby        47.0         TN   \n",
       "12831   -111.785947      49049.0         Utah        49.0         UT   \n",
       "...             ...          ...          ...         ...        ...   \n",
       "987780   -93.285342      27053.0     Hennepin        27.0         MN   \n",
       "994185   -78.837776      45051.0        Horry        45.0         SC   \n",
       "997789   -82.391206      45045.0   Greenville        45.0         SC   \n",
       "997790   -82.044700      45083.0  Spartanburg        45.0         SC   \n",
       "1009673  -81.100412      45063.0    Lexington        45.0         SC   \n",
       "\n",
       "             state_name  weather  \n",
       "1652              Texas     67.0  \n",
       "7092              Idaho     47.0  \n",
       "8555          Tennessee     59.0  \n",
       "8641          Tennessee     59.0  \n",
       "12831              Utah     50.0  \n",
       "...                 ...      ...  \n",
       "987780        Minnesota     43.0  \n",
       "994185   South Carolina     60.0  \n",
       "997789   South Carolina     60.0  \n",
       "997790   South Carolina     60.0  \n",
       "1009673  South Carolina     60.0  \n",
       "\n",
       "[1509 rows x 26 columns]"
      ]
     },
     "execution_count": 15,
     "metadata": {},
     "output_type": "execute_result"
    }
   ],
   "source": [
    "df[df['year'].isnull()]"
   ]
  },
  {
   "cell_type": "markdown",
   "metadata": {},
   "source": [
    "Drop rows whose 'year' value is null in that it is not possible to find correlation between 'price' and 'unidentified year of use', which is null value in year."
   ]
  },
  {
   "cell_type": "code",
   "execution_count": 16,
   "metadata": {},
   "outputs": [],
   "source": [
    "df.drop(df[df['year'].isnull()].index, inplace=True)"
   ]
  },
  {
   "cell_type": "code",
   "execution_count": 17,
   "metadata": {},
   "outputs": [
    {
     "data": {
      "text/plain": [
       "size            65.833660\n",
       "vin             65.002149\n",
       "type            41.363597\n",
       "condition       41.311162\n",
       "paint_color     41.070286\n",
       "cylinders       40.759592\n",
       "drive           38.422174\n",
       "odometer        32.708952\n",
       "manufacturer     7.973276\n",
       "weather          5.628695\n",
       "county_fips      5.571771\n",
       "county_name      5.571771\n",
       "state_fips       5.571771\n",
       "state_code       5.571771\n",
       "make             4.120878\n",
       "fuel             0.607253\n",
       "transmission     0.555487\n",
       "title_status     0.147563\n",
       "image_url        0.000000\n",
       "lat              0.000000\n",
       "long             0.000000\n",
       "state_name       0.000000\n",
       "year             0.000000\n",
       "price            0.000000\n",
       "city             0.000000\n",
       "url              0.000000\n",
       "dtype: float64"
      ]
     },
     "execution_count": 17,
     "metadata": {},
     "output_type": "execute_result"
    }
   ],
   "source": [
    "((df.isnull().sum()/len(df)).sort_values(ascending = False)*100).astype(float)"
   ]
  },
  {
   "cell_type": "markdown",
   "metadata": {},
   "source": [
    "Let's look into 'title_status' by value_counts()."
   ]
  },
  {
   "cell_type": "code",
   "execution_count": 18,
   "metadata": {},
   "outputs": [
    {
     "data": {
      "text/plain": [
       "clean         971924\n",
       "rebuilt        27973\n",
       "salvage        22992\n",
       "lien           12384\n",
       "missing         7103\n",
       "parts only      3089\n",
       "Name: title_status, dtype: int64"
      ]
     },
     "execution_count": 18,
     "metadata": {},
     "output_type": "execute_result"
    }
   ],
   "source": [
    "df['title_status'].value_counts()"
   ]
  },
  {
   "cell_type": "markdown",
   "metadata": {},
   "source": [
    "Now let's take a look at rows whose 'title_status' value is null."
   ]
  },
  {
   "cell_type": "code",
   "execution_count": 19,
   "metadata": {
    "scrolled": true
   },
   "outputs": [
    {
     "data": {
      "text/html": [
       "<div>\n",
       "<style scoped>\n",
       "    .dataframe tbody tr th:only-of-type {\n",
       "        vertical-align: middle;\n",
       "    }\n",
       "\n",
       "    .dataframe tbody tr th {\n",
       "        vertical-align: top;\n",
       "    }\n",
       "\n",
       "    .dataframe thead th {\n",
       "        text-align: right;\n",
       "    }\n",
       "</style>\n",
       "<table border=\"1\" class=\"dataframe\">\n",
       "  <thead>\n",
       "    <tr style=\"text-align: right;\">\n",
       "      <th></th>\n",
       "      <th>url</th>\n",
       "      <th>city</th>\n",
       "      <th>price</th>\n",
       "      <th>year</th>\n",
       "      <th>manufacturer</th>\n",
       "      <th>make</th>\n",
       "      <th>condition</th>\n",
       "      <th>cylinders</th>\n",
       "      <th>fuel</th>\n",
       "      <th>odometer</th>\n",
       "      <th>title_status</th>\n",
       "      <th>transmission</th>\n",
       "      <th>vin</th>\n",
       "      <th>drive</th>\n",
       "      <th>size</th>\n",
       "      <th>type</th>\n",
       "      <th>paint_color</th>\n",
       "      <th>image_url</th>\n",
       "      <th>lat</th>\n",
       "      <th>long</th>\n",
       "      <th>county_fips</th>\n",
       "      <th>county_name</th>\n",
       "      <th>state_fips</th>\n",
       "      <th>state_code</th>\n",
       "      <th>state_name</th>\n",
       "      <th>weather</th>\n",
       "    </tr>\n",
       "  </thead>\n",
       "  <tbody>\n",
       "    <tr>\n",
       "      <th>711</th>\n",
       "      <td>https://ogden.craigslist.org/ctd/d/1998-volksw...</td>\n",
       "      <td>ogden</td>\n",
       "      <td>3199</td>\n",
       "      <td>1998</td>\n",
       "      <td>volkswagen</td>\n",
       "      <td>gti</td>\n",
       "      <td>NaN</td>\n",
       "      <td>NaN</td>\n",
       "      <td>NaN</td>\n",
       "      <td>129718.0</td>\n",
       "      <td>NaN</td>\n",
       "      <td>automatic</td>\n",
       "      <td>3VWDA81H2WM219546</td>\n",
       "      <td>NaN</td>\n",
       "      <td>NaN</td>\n",
       "      <td>hatchback</td>\n",
       "      <td>yellow</td>\n",
       "      <td>https://images.craigslist.org/00808_2ImZMc17NN...</td>\n",
       "      <td>43.618808</td>\n",
       "      <td>-116.307269</td>\n",
       "      <td>16001.0</td>\n",
       "      <td>Ada</td>\n",
       "      <td>16.0</td>\n",
       "      <td>ID</td>\n",
       "      <td>Idaho</td>\n",
       "      <td>47.0</td>\n",
       "    </tr>\n",
       "    <tr>\n",
       "      <th>712</th>\n",
       "      <td>https://ogden.craigslist.org/ctd/d/2013-toyota...</td>\n",
       "      <td>ogden</td>\n",
       "      <td>20399</td>\n",
       "      <td>2013</td>\n",
       "      <td>toyota</td>\n",
       "      <td>tacoma</td>\n",
       "      <td>NaN</td>\n",
       "      <td>NaN</td>\n",
       "      <td>NaN</td>\n",
       "      <td>52992.0</td>\n",
       "      <td>NaN</td>\n",
       "      <td>automatic</td>\n",
       "      <td>3TMJU4GN9DM148846</td>\n",
       "      <td>NaN</td>\n",
       "      <td>NaN</td>\n",
       "      <td>NaN</td>\n",
       "      <td>NaN</td>\n",
       "      <td>https://images.craigslist.org/00808_2XBEsB5t2F...</td>\n",
       "      <td>43.618808</td>\n",
       "      <td>-116.307269</td>\n",
       "      <td>16001.0</td>\n",
       "      <td>Ada</td>\n",
       "      <td>16.0</td>\n",
       "      <td>ID</td>\n",
       "      <td>Idaho</td>\n",
       "      <td>47.0</td>\n",
       "    </tr>\n",
       "    <tr>\n",
       "      <th>713</th>\n",
       "      <td>https://ogden.craigslist.org/ctd/d/2008-toyota...</td>\n",
       "      <td>ogden</td>\n",
       "      <td>13222</td>\n",
       "      <td>2008</td>\n",
       "      <td>toyota</td>\n",
       "      <td>tacoma</td>\n",
       "      <td>NaN</td>\n",
       "      <td>NaN</td>\n",
       "      <td>NaN</td>\n",
       "      <td>140879.0</td>\n",
       "      <td>NaN</td>\n",
       "      <td>manual</td>\n",
       "      <td>5TEUX42N68Z500012</td>\n",
       "      <td>NaN</td>\n",
       "      <td>NaN</td>\n",
       "      <td>NaN</td>\n",
       "      <td>silver</td>\n",
       "      <td>https://images.craigslist.org/01515_aH1Ax3xNny...</td>\n",
       "      <td>43.618808</td>\n",
       "      <td>-116.307269</td>\n",
       "      <td>16001.0</td>\n",
       "      <td>Ada</td>\n",
       "      <td>16.0</td>\n",
       "      <td>ID</td>\n",
       "      <td>Idaho</td>\n",
       "      <td>47.0</td>\n",
       "    </tr>\n",
       "    <tr>\n",
       "      <th>714</th>\n",
       "      <td>https://ogden.craigslist.org/ctd/d/2004-toyota...</td>\n",
       "      <td>ogden</td>\n",
       "      <td>5935</td>\n",
       "      <td>2004</td>\n",
       "      <td>toyota</td>\n",
       "      <td>prius</td>\n",
       "      <td>NaN</td>\n",
       "      <td>NaN</td>\n",
       "      <td>NaN</td>\n",
       "      <td>144741.0</td>\n",
       "      <td>NaN</td>\n",
       "      <td>other</td>\n",
       "      <td>JTDKB20U140078987</td>\n",
       "      <td>NaN</td>\n",
       "      <td>NaN</td>\n",
       "      <td>sedan</td>\n",
       "      <td>NaN</td>\n",
       "      <td>https://images.craigslist.org/01414_g2F53ObEcr...</td>\n",
       "      <td>43.618808</td>\n",
       "      <td>-116.307269</td>\n",
       "      <td>16001.0</td>\n",
       "      <td>Ada</td>\n",
       "      <td>16.0</td>\n",
       "      <td>ID</td>\n",
       "      <td>Idaho</td>\n",
       "      <td>47.0</td>\n",
       "    </tr>\n",
       "    <tr>\n",
       "      <th>715</th>\n",
       "      <td>https://ogden.craigslist.org/ctd/d/2007-toyota...</td>\n",
       "      <td>ogden</td>\n",
       "      <td>6841</td>\n",
       "      <td>2007</td>\n",
       "      <td>toyota</td>\n",
       "      <td>camry</td>\n",
       "      <td>NaN</td>\n",
       "      <td>NaN</td>\n",
       "      <td>NaN</td>\n",
       "      <td>141026.0</td>\n",
       "      <td>NaN</td>\n",
       "      <td>automatic</td>\n",
       "      <td>4T1BE46KX7U514026</td>\n",
       "      <td>NaN</td>\n",
       "      <td>NaN</td>\n",
       "      <td>sedan</td>\n",
       "      <td>white</td>\n",
       "      <td>https://images.craigslist.org/01515_cLa189rIx6...</td>\n",
       "      <td>43.618808</td>\n",
       "      <td>-116.307269</td>\n",
       "      <td>16001.0</td>\n",
       "      <td>Ada</td>\n",
       "      <td>16.0</td>\n",
       "      <td>ID</td>\n",
       "      <td>Idaho</td>\n",
       "      <td>47.0</td>\n",
       "    </tr>\n",
       "    <tr>\n",
       "      <th>...</th>\n",
       "      <td>...</td>\n",
       "      <td>...</td>\n",
       "      <td>...</td>\n",
       "      <td>...</td>\n",
       "      <td>...</td>\n",
       "      <td>...</td>\n",
       "      <td>...</td>\n",
       "      <td>...</td>\n",
       "      <td>...</td>\n",
       "      <td>...</td>\n",
       "      <td>...</td>\n",
       "      <td>...</td>\n",
       "      <td>...</td>\n",
       "      <td>...</td>\n",
       "      <td>...</td>\n",
       "      <td>...</td>\n",
       "      <td>...</td>\n",
       "      <td>...</td>\n",
       "      <td>...</td>\n",
       "      <td>...</td>\n",
       "      <td>...</td>\n",
       "      <td>...</td>\n",
       "      <td>...</td>\n",
       "      <td>...</td>\n",
       "      <td>...</td>\n",
       "      <td>...</td>\n",
       "    </tr>\n",
       "    <tr>\n",
       "      <th>1045394</th>\n",
       "      <td>https://semo.craigslist.org/ctd/d/2014-chevrol...</td>\n",
       "      <td>semo</td>\n",
       "      <td>6900</td>\n",
       "      <td>2014</td>\n",
       "      <td>chevrolet</td>\n",
       "      <td>malibu 2lt 6-speed automatic</td>\n",
       "      <td>NaN</td>\n",
       "      <td>NaN</td>\n",
       "      <td>NaN</td>\n",
       "      <td>132000.0</td>\n",
       "      <td>NaN</td>\n",
       "      <td>automatic</td>\n",
       "      <td>1G11E5SL9EF202049</td>\n",
       "      <td>fwd</td>\n",
       "      <td>NaN</td>\n",
       "      <td>sedan</td>\n",
       "      <td>NaN</td>\n",
       "      <td>https://images.craigslist.org/00G0G_cW6uE5uofp...</td>\n",
       "      <td>36.803618</td>\n",
       "      <td>-89.947992</td>\n",
       "      <td>29207.0</td>\n",
       "      <td>Stoddard</td>\n",
       "      <td>29.0</td>\n",
       "      <td>MO</td>\n",
       "      <td>Missouri</td>\n",
       "      <td>52.0</td>\n",
       "    </tr>\n",
       "    <tr>\n",
       "      <th>1045487</th>\n",
       "      <td>https://semo.craigslist.org/ctd/d/2011-nissan-...</td>\n",
       "      <td>semo</td>\n",
       "      <td>8400</td>\n",
       "      <td>2011</td>\n",
       "      <td>nissan</td>\n",
       "      <td>pathfinder</td>\n",
       "      <td>NaN</td>\n",
       "      <td>NaN</td>\n",
       "      <td>NaN</td>\n",
       "      <td>155000.0</td>\n",
       "      <td>NaN</td>\n",
       "      <td>NaN</td>\n",
       "      <td>5N1AR1NB6BC619094</td>\n",
       "      <td>NaN</td>\n",
       "      <td>NaN</td>\n",
       "      <td>NaN</td>\n",
       "      <td>NaN</td>\n",
       "      <td>https://images.craigslist.org/01010_hmfyzv5eeP...</td>\n",
       "      <td>36.803618</td>\n",
       "      <td>-89.947992</td>\n",
       "      <td>29207.0</td>\n",
       "      <td>Stoddard</td>\n",
       "      <td>29.0</td>\n",
       "      <td>MO</td>\n",
       "      <td>Missouri</td>\n",
       "      <td>52.0</td>\n",
       "    </tr>\n",
       "    <tr>\n",
       "      <th>1045488</th>\n",
       "      <td>https://semo.craigslist.org/ctd/d/1994-ford-mu...</td>\n",
       "      <td>semo</td>\n",
       "      <td>2600</td>\n",
       "      <td>1994</td>\n",
       "      <td>ford</td>\n",
       "      <td>mustang</td>\n",
       "      <td>NaN</td>\n",
       "      <td>NaN</td>\n",
       "      <td>NaN</td>\n",
       "      <td>103000.0</td>\n",
       "      <td>NaN</td>\n",
       "      <td>automatic</td>\n",
       "      <td>1FALP4442RF143397</td>\n",
       "      <td>NaN</td>\n",
       "      <td>NaN</td>\n",
       "      <td>NaN</td>\n",
       "      <td>NaN</td>\n",
       "      <td>https://images.craigslist.org/00z0z_cq55h65fNm...</td>\n",
       "      <td>36.803618</td>\n",
       "      <td>-89.947992</td>\n",
       "      <td>29207.0</td>\n",
       "      <td>Stoddard</td>\n",
       "      <td>29.0</td>\n",
       "      <td>MO</td>\n",
       "      <td>Missouri</td>\n",
       "      <td>52.0</td>\n",
       "    </tr>\n",
       "    <tr>\n",
       "      <th>1045508</th>\n",
       "      <td>https://semo.craigslist.org/ctd/d/2008-ford-fo...</td>\n",
       "      <td>semo</td>\n",
       "      <td>3600</td>\n",
       "      <td>2008</td>\n",
       "      <td>ford</td>\n",
       "      <td>focus</td>\n",
       "      <td>NaN</td>\n",
       "      <td>NaN</td>\n",
       "      <td>gas</td>\n",
       "      <td>92057.0</td>\n",
       "      <td>NaN</td>\n",
       "      <td>manual</td>\n",
       "      <td>1FAHP34N88W273112</td>\n",
       "      <td>fwd</td>\n",
       "      <td>NaN</td>\n",
       "      <td>NaN</td>\n",
       "      <td>NaN</td>\n",
       "      <td>https://images.craigslist.org/00909_k9GKIpl66y...</td>\n",
       "      <td>36.803618</td>\n",
       "      <td>-89.947992</td>\n",
       "      <td>29207.0</td>\n",
       "      <td>Stoddard</td>\n",
       "      <td>29.0</td>\n",
       "      <td>MO</td>\n",
       "      <td>Missouri</td>\n",
       "      <td>52.0</td>\n",
       "    </tr>\n",
       "    <tr>\n",
       "      <th>1045652</th>\n",
       "      <td>https://semo.craigslist.org/ctd/d/1994-ford-mu...</td>\n",
       "      <td>semo</td>\n",
       "      <td>2600</td>\n",
       "      <td>1994</td>\n",
       "      <td>ford</td>\n",
       "      <td>mustang</td>\n",
       "      <td>NaN</td>\n",
       "      <td>NaN</td>\n",
       "      <td>NaN</td>\n",
       "      <td>103000.0</td>\n",
       "      <td>NaN</td>\n",
       "      <td>automatic</td>\n",
       "      <td>1FALP4442RF143397</td>\n",
       "      <td>NaN</td>\n",
       "      <td>NaN</td>\n",
       "      <td>NaN</td>\n",
       "      <td>NaN</td>\n",
       "      <td>https://images.craigslist.org/00z0z_cq55h65fNm...</td>\n",
       "      <td>36.803618</td>\n",
       "      <td>-89.947992</td>\n",
       "      <td>29207.0</td>\n",
       "      <td>Stoddard</td>\n",
       "      <td>29.0</td>\n",
       "      <td>MO</td>\n",
       "      <td>Missouri</td>\n",
       "      <td>52.0</td>\n",
       "    </tr>\n",
       "  </tbody>\n",
       "</table>\n",
       "<p>1545 rows × 26 columns</p>\n",
       "</div>"
      ],
      "text/plain": [
       "                                                       url   city  price  \\\n",
       "711      https://ogden.craigslist.org/ctd/d/1998-volksw...  ogden   3199   \n",
       "712      https://ogden.craigslist.org/ctd/d/2013-toyota...  ogden  20399   \n",
       "713      https://ogden.craigslist.org/ctd/d/2008-toyota...  ogden  13222   \n",
       "714      https://ogden.craigslist.org/ctd/d/2004-toyota...  ogden   5935   \n",
       "715      https://ogden.craigslist.org/ctd/d/2007-toyota...  ogden   6841   \n",
       "...                                                    ...    ...    ...   \n",
       "1045394  https://semo.craigslist.org/ctd/d/2014-chevrol...   semo   6900   \n",
       "1045487  https://semo.craigslist.org/ctd/d/2011-nissan-...   semo   8400   \n",
       "1045488  https://semo.craigslist.org/ctd/d/1994-ford-mu...   semo   2600   \n",
       "1045508  https://semo.craigslist.org/ctd/d/2008-ford-fo...   semo   3600   \n",
       "1045652  https://semo.craigslist.org/ctd/d/1994-ford-mu...   semo   2600   \n",
       "\n",
       "         year manufacturer                          make condition cylinders  \\\n",
       "711      1998   volkswagen                           gti       NaN       NaN   \n",
       "712      2013       toyota                        tacoma       NaN       NaN   \n",
       "713      2008       toyota                        tacoma       NaN       NaN   \n",
       "714      2004       toyota                         prius       NaN       NaN   \n",
       "715      2007       toyota                         camry       NaN       NaN   \n",
       "...       ...          ...                           ...       ...       ...   \n",
       "1045394  2014    chevrolet  malibu 2lt 6-speed automatic       NaN       NaN   \n",
       "1045487  2011       nissan                    pathfinder       NaN       NaN   \n",
       "1045488  1994         ford                       mustang       NaN       NaN   \n",
       "1045508  2008         ford                         focus       NaN       NaN   \n",
       "1045652  1994         ford                       mustang       NaN       NaN   \n",
       "\n",
       "        fuel  odometer title_status transmission                vin drive  \\\n",
       "711      NaN  129718.0          NaN    automatic  3VWDA81H2WM219546   NaN   \n",
       "712      NaN   52992.0          NaN    automatic  3TMJU4GN9DM148846   NaN   \n",
       "713      NaN  140879.0          NaN       manual  5TEUX42N68Z500012   NaN   \n",
       "714      NaN  144741.0          NaN        other  JTDKB20U140078987   NaN   \n",
       "715      NaN  141026.0          NaN    automatic  4T1BE46KX7U514026   NaN   \n",
       "...      ...       ...          ...          ...                ...   ...   \n",
       "1045394  NaN  132000.0          NaN    automatic  1G11E5SL9EF202049   fwd   \n",
       "1045487  NaN  155000.0          NaN          NaN  5N1AR1NB6BC619094   NaN   \n",
       "1045488  NaN  103000.0          NaN    automatic  1FALP4442RF143397   NaN   \n",
       "1045508  gas   92057.0          NaN       manual  1FAHP34N88W273112   fwd   \n",
       "1045652  NaN  103000.0          NaN    automatic  1FALP4442RF143397   NaN   \n",
       "\n",
       "        size       type paint_color  \\\n",
       "711      NaN  hatchback      yellow   \n",
       "712      NaN        NaN         NaN   \n",
       "713      NaN        NaN      silver   \n",
       "714      NaN      sedan         NaN   \n",
       "715      NaN      sedan       white   \n",
       "...      ...        ...         ...   \n",
       "1045394  NaN      sedan         NaN   \n",
       "1045487  NaN        NaN         NaN   \n",
       "1045488  NaN        NaN         NaN   \n",
       "1045508  NaN        NaN         NaN   \n",
       "1045652  NaN        NaN         NaN   \n",
       "\n",
       "                                                 image_url        lat  \\\n",
       "711      https://images.craigslist.org/00808_2ImZMc17NN...  43.618808   \n",
       "712      https://images.craigslist.org/00808_2XBEsB5t2F...  43.618808   \n",
       "713      https://images.craigslist.org/01515_aH1Ax3xNny...  43.618808   \n",
       "714      https://images.craigslist.org/01414_g2F53ObEcr...  43.618808   \n",
       "715      https://images.craigslist.org/01515_cLa189rIx6...  43.618808   \n",
       "...                                                    ...        ...   \n",
       "1045394  https://images.craigslist.org/00G0G_cW6uE5uofp...  36.803618   \n",
       "1045487  https://images.craigslist.org/01010_hmfyzv5eeP...  36.803618   \n",
       "1045488  https://images.craigslist.org/00z0z_cq55h65fNm...  36.803618   \n",
       "1045508  https://images.craigslist.org/00909_k9GKIpl66y...  36.803618   \n",
       "1045652  https://images.craigslist.org/00z0z_cq55h65fNm...  36.803618   \n",
       "\n",
       "               long  county_fips county_name  state_fips state_code  \\\n",
       "711     -116.307269      16001.0         Ada        16.0         ID   \n",
       "712     -116.307269      16001.0         Ada        16.0         ID   \n",
       "713     -116.307269      16001.0         Ada        16.0         ID   \n",
       "714     -116.307269      16001.0         Ada        16.0         ID   \n",
       "715     -116.307269      16001.0         Ada        16.0         ID   \n",
       "...             ...          ...         ...         ...        ...   \n",
       "1045394  -89.947992      29207.0    Stoddard        29.0         MO   \n",
       "1045487  -89.947992      29207.0    Stoddard        29.0         MO   \n",
       "1045488  -89.947992      29207.0    Stoddard        29.0         MO   \n",
       "1045508  -89.947992      29207.0    Stoddard        29.0         MO   \n",
       "1045652  -89.947992      29207.0    Stoddard        29.0         MO   \n",
       "\n",
       "        state_name  weather  \n",
       "711          Idaho     47.0  \n",
       "712          Idaho     47.0  \n",
       "713          Idaho     47.0  \n",
       "714          Idaho     47.0  \n",
       "715          Idaho     47.0  \n",
       "...            ...      ...  \n",
       "1045394   Missouri     52.0  \n",
       "1045487   Missouri     52.0  \n",
       "1045488   Missouri     52.0  \n",
       "1045508   Missouri     52.0  \n",
       "1045652   Missouri     52.0  \n",
       "\n",
       "[1545 rows x 26 columns]"
      ]
     },
     "execution_count": 19,
     "metadata": {},
     "output_type": "execute_result"
    }
   ],
   "source": [
    "df[df['title_status'].isnull()]"
   ]
  },
  {
   "cell_type": "markdown",
   "metadata": {},
   "source": [
    "Let's compare 'make' between two groups in 'title_status': notnull vs. isnull"
   ]
  },
  {
   "cell_type": "code",
   "execution_count": 20,
   "metadata": {},
   "outputs": [
    {
     "data": {
      "text/plain": [
       "1500                       13871\n",
       "f-150                      12992\n",
       "silverado 1500              8658\n",
       "2500                        8065\n",
       "silverado                   7976\n",
       "                           ...  \n",
       "eveo                           1\n",
       "chyrlser 300 Touring           1\n",
       "civic si 6 speed manual        1\n",
       "laserne                        1\n",
       "cooper s r56 base              1\n",
       "Name: make, Length: 75522, dtype: int64"
      ]
     },
     "execution_count": 20,
     "metadata": {},
     "output_type": "execute_result"
    }
   ],
   "source": [
    "df['make'][df['title_status'].notnull()].value_counts()"
   ]
  },
  {
   "cell_type": "code",
   "execution_count": 21,
   "metadata": {},
   "outputs": [
    {
     "data": {
      "text/plain": [
       "corolla                   16\n",
       "civic                     15\n",
       "focus                     13\n",
       "accord                    13\n",
       "impreza                   12\n",
       "                          ..\n",
       "fastback type 3            1\n",
       "protege 5                  1\n",
       "hyudai elantra touring     1\n",
       "5 2009                     1\n",
       "es 350                     1\n",
       "Name: make, Length: 725, dtype: int64"
      ]
     },
     "execution_count": 21,
     "metadata": {},
     "output_type": "execute_result"
    }
   ],
   "source": [
    "df['make'][df['title_status'].isnull()].value_counts()"
   ]
  },
  {
   "cell_type": "markdown",
   "metadata": {},
   "source": [
    "As seen above, top 'makes' of isnull in 'title_status' seem small sedan or Japanese brands unlike top 'makes' of notnull in 'title_status'."
   ]
  },
  {
   "cell_type": "markdown",
   "metadata": {},
   "source": [
    "Let's compare 'manufacturer' between two groups in 'title_status': notnull vs. isnull"
   ]
  },
  {
   "cell_type": "code",
   "execution_count": 22,
   "metadata": {},
   "outputs": [
    {
     "data": {
      "text/plain": [
       "ford               16.862927\n",
       "chevrolet          12.683734\n",
       "toyota              6.828827\n",
       "honda               5.282434\n",
       "nissan              4.430564\n",
       "dodge               4.402443\n",
       "jeep                4.388000\n",
       "gmc                 4.172115\n",
       "ram                 3.315176\n",
       "bmw                 2.565270\n",
       "chevy               2.353498\n",
       "volkswagen          2.003223\n",
       "subaru              1.839660\n",
       "hyundai             1.810295\n",
       "chrysler            1.761322\n",
       "mercedes-benz       1.472264\n",
       "cadillac            1.447012\n",
       "kia                 1.401482\n",
       "mazda               1.366952\n",
       "buick               1.325726\n",
       "pontiac             1.287752\n",
       "lexus               1.178040\n",
       "acura               1.099989\n",
       "audi                0.928486\n",
       "lincoln             0.737758\n",
       "infiniti            0.671758\n",
       "volvo               0.667550\n",
       "mitsubishi          0.613890\n",
       "mercury             0.587107\n",
       "saturn              0.537273\n",
       "mercedes            0.415987\n",
       "mini                0.391309\n",
       "rover               0.344823\n",
       "vw                  0.267823\n",
       "jaguar              0.248406\n",
       "fiat                0.117460\n",
       "chev                0.049356\n",
       "datsun              0.039121\n",
       "harley-davidson     0.033669\n",
       "infinity            0.029461\n",
       "ferrari             0.016356\n",
       "harley              0.013869\n",
       "alfa-romeo          0.008704\n",
       "porche              0.006217\n",
       "alfa                0.004878\n",
       "land rover          0.003539\n",
       "aston-martin        0.003348\n",
       "aston               0.003348\n",
       "landrover           0.001626\n",
       "morgan              0.000765\n",
       "mercedesbenz        0.000383\n",
       "noble               0.000191\n",
       "hennessey           0.000096\n",
       "Name: manufacturer, dtype: float64"
      ]
     },
     "execution_count": 22,
     "metadata": {},
     "output_type": "execute_result"
    }
   ],
   "source": [
    "(df['manufacturer'][df['title_status'].notnull()].value_counts()/len(df['manufacturer'][df['title_status'].notnull()])).astype(float)*100"
   ]
  },
  {
   "cell_type": "code",
   "execution_count": 23,
   "metadata": {},
   "outputs": [
    {
     "data": {
      "text/plain": [
       "ford             10.161812\n",
       "honda             9.126214\n",
       "toyota            9.126214\n",
       "chevrolet         7.702265\n",
       "nissan            6.343042\n",
       "mazda             4.854369\n",
       "hyundai           4.789644\n",
       "dodge             4.012945\n",
       "subaru            3.754045\n",
       "bmw               3.495146\n",
       "volkswagen        3.495146\n",
       "kia               2.977346\n",
       "jeep              2.653722\n",
       "mercedes-benz     2.394822\n",
       "chrysler          2.006472\n",
       "pontiac           1.941748\n",
       "infiniti          1.618123\n",
       "acura             1.553398\n",
       "gmc               1.423948\n",
       "lexus             1.359223\n",
       "audi              1.229773\n",
       "mitsubishi        1.100324\n",
       "mercedes          1.035599\n",
       "mercury           0.841424\n",
       "ram               0.841424\n",
       "volvo             0.841424\n",
       "cadillac          0.647249\n",
       "buick             0.582524\n",
       "mini              0.517799\n",
       "jaguar            0.453074\n",
       "fiat              0.388350\n",
       "saturn            0.323625\n",
       "rover             0.323625\n",
       "lincoln           0.258900\n",
       "vw                0.194175\n",
       "Name: manufacturer, dtype: float64"
      ]
     },
     "execution_count": 23,
     "metadata": {},
     "output_type": "execute_result"
    }
   ],
   "source": [
    "(df['manufacturer'][df['title_status'].isnull()].value_counts()/len(df['manufacturer'][df['title_status'].isnull()])).astype(float)*100"
   ]
  },
  {
   "cell_type": "markdown",
   "metadata": {},
   "source": [
    "As seen above, there seems no obvious correlation with notnull and isnull of 'title_status' regarding 'make' and 'manufacturer'."
   ]
  },
  {
   "cell_type": "markdown",
   "metadata": {},
   "source": [
    "Let's compare 'type' between two groups in 'title_status': notnull vs. isnull"
   ]
  },
  {
   "cell_type": "code",
   "execution_count": 24,
   "metadata": {},
   "outputs": [
    {
     "data": {
      "text/plain": [
       "sedan          15.377464\n",
       "SUV            14.046286\n",
       "truck           7.513307\n",
       "pickup          7.161694\n",
       "coupe           4.200332\n",
       "hatchback       2.254882\n",
       "convertible     1.785043\n",
       "wagon           1.595271\n",
       "van             1.466429\n",
       "mini-van        1.448829\n",
       "other           1.429890\n",
       "offroad         0.308953\n",
       "bus             0.114399\n",
       "Name: type, dtype: float64"
      ]
     },
     "execution_count": 24,
     "metadata": {},
     "output_type": "execute_result"
    }
   ],
   "source": [
    "(df['type'][df['title_status'].notnull()].value_counts()/len(df['type'][df['title_status'].notnull()])).astype(float)*100"
   ]
  },
  {
   "cell_type": "code",
   "execution_count": 25,
   "metadata": {},
   "outputs": [
    {
     "data": {
      "text/plain": [
       "sedan          5.177994\n",
       "SUV            3.948220\n",
       "pickup         1.941748\n",
       "van            0.711974\n",
       "coupe          0.711974\n",
       "hatchback      0.582524\n",
       "wagon          0.388350\n",
       "convertible    0.194175\n",
       "mini-van       0.064725\n",
       "Name: type, dtype: float64"
      ]
     },
     "execution_count": 25,
     "metadata": {},
     "output_type": "execute_result"
    }
   ],
   "source": [
    "(df['type'][df['title_status'].isnull()].value_counts()/len(df['type'][df['title_status'].isnull()])).astype(float)*100"
   ]
  },
  {
   "cell_type": "markdown",
   "metadata": {},
   "source": [
    "Let's leave rows with null value in 'title_status' in that null value of 'title_status' can be ignorable."
   ]
  },
  {
   "cell_type": "markdown",
   "metadata": {},
   "source": [
    "Let's look into 'trasmission' by value_counts()."
   ]
  },
  {
   "cell_type": "code",
   "execution_count": 26,
   "metadata": {},
   "outputs": [
    {
     "data": {
      "text/plain": [
       "automatic    892959\n",
       "manual       125469\n",
       "other         22766\n",
       "Name: transmission, dtype: int64"
      ]
     },
     "execution_count": 26,
     "metadata": {},
     "output_type": "execute_result"
    }
   ],
   "source": [
    "df['transmission'].value_counts()"
   ]
  },
  {
   "cell_type": "markdown",
   "metadata": {},
   "source": [
    "Now let's take a look at rows whose 'transmission' value is null."
   ]
  },
  {
   "cell_type": "code",
   "execution_count": 27,
   "metadata": {},
   "outputs": [
    {
     "data": {
      "text/html": [
       "<div>\n",
       "<style scoped>\n",
       "    .dataframe tbody tr th:only-of-type {\n",
       "        vertical-align: middle;\n",
       "    }\n",
       "\n",
       "    .dataframe tbody tr th {\n",
       "        vertical-align: top;\n",
       "    }\n",
       "\n",
       "    .dataframe thead th {\n",
       "        text-align: right;\n",
       "    }\n",
       "</style>\n",
       "<table border=\"1\" class=\"dataframe\">\n",
       "  <thead>\n",
       "    <tr style=\"text-align: right;\">\n",
       "      <th></th>\n",
       "      <th>url</th>\n",
       "      <th>city</th>\n",
       "      <th>price</th>\n",
       "      <th>year</th>\n",
       "      <th>manufacturer</th>\n",
       "      <th>make</th>\n",
       "      <th>condition</th>\n",
       "      <th>cylinders</th>\n",
       "      <th>fuel</th>\n",
       "      <th>odometer</th>\n",
       "      <th>title_status</th>\n",
       "      <th>transmission</th>\n",
       "      <th>vin</th>\n",
       "      <th>drive</th>\n",
       "      <th>size</th>\n",
       "      <th>type</th>\n",
       "      <th>paint_color</th>\n",
       "      <th>image_url</th>\n",
       "      <th>lat</th>\n",
       "      <th>long</th>\n",
       "      <th>county_fips</th>\n",
       "      <th>county_name</th>\n",
       "      <th>state_fips</th>\n",
       "      <th>state_code</th>\n",
       "      <th>state_name</th>\n",
       "      <th>weather</th>\n",
       "    </tr>\n",
       "  </thead>\n",
       "  <tbody>\n",
       "    <tr>\n",
       "      <th>7</th>\n",
       "      <td>https://marshall.craigslist.org/ctd/d/2008-bmw...</td>\n",
       "      <td>marshall</td>\n",
       "      <td>3900</td>\n",
       "      <td>2008</td>\n",
       "      <td>bmw</td>\n",
       "      <td>3 series</td>\n",
       "      <td>NaN</td>\n",
       "      <td>NaN</td>\n",
       "      <td>gas</td>\n",
       "      <td>0.0</td>\n",
       "      <td>clean</td>\n",
       "      <td>NaN</td>\n",
       "      <td>WBAVA37508NL47474</td>\n",
       "      <td>NaN</td>\n",
       "      <td>NaN</td>\n",
       "      <td>NaN</td>\n",
       "      <td>NaN</td>\n",
       "      <td>https://images.craigslist.org/00202_8ciATrWst3...</td>\n",
       "      <td>41.622572</td>\n",
       "      <td>-87.632656</td>\n",
       "      <td>17031.0</td>\n",
       "      <td>Cook</td>\n",
       "      <td>17.0</td>\n",
       "      <td>IL</td>\n",
       "      <td>Illinois</td>\n",
       "      <td>48.0</td>\n",
       "    </tr>\n",
       "    <tr>\n",
       "      <th>2079</th>\n",
       "      <td>https://buffalo.craigslist.org/ctd/d/2008-bmw-...</td>\n",
       "      <td>buffalo</td>\n",
       "      <td>8995</td>\n",
       "      <td>2008</td>\n",
       "      <td>bmw</td>\n",
       "      <td>328xi</td>\n",
       "      <td>NaN</td>\n",
       "      <td>NaN</td>\n",
       "      <td>gas</td>\n",
       "      <td>91340.0</td>\n",
       "      <td>clean</td>\n",
       "      <td>NaN</td>\n",
       "      <td>WBAVC93508KZ72509</td>\n",
       "      <td>NaN</td>\n",
       "      <td>compact</td>\n",
       "      <td>sedan</td>\n",
       "      <td>black</td>\n",
       "      <td>https://images.craigslist.org/01313_blKOGJyXhB...</td>\n",
       "      <td>42.863917</td>\n",
       "      <td>-78.754393</td>\n",
       "      <td>36029.0</td>\n",
       "      <td>Erie</td>\n",
       "      <td>36.0</td>\n",
       "      <td>NY</td>\n",
       "      <td>New York</td>\n",
       "      <td>53.0</td>\n",
       "    </tr>\n",
       "    <tr>\n",
       "      <th>2264</th>\n",
       "      <td>https://providence.craigslist.org/ctd/d/2012-f...</td>\n",
       "      <td>providence</td>\n",
       "      <td>6995</td>\n",
       "      <td>2012</td>\n",
       "      <td>ford</td>\n",
       "      <td>fiesta</td>\n",
       "      <td>NaN</td>\n",
       "      <td>NaN</td>\n",
       "      <td>other</td>\n",
       "      <td>73002.0</td>\n",
       "      <td>clean</td>\n",
       "      <td>NaN</td>\n",
       "      <td>3FADP4FJXCM183774</td>\n",
       "      <td>NaN</td>\n",
       "      <td>sub-compact</td>\n",
       "      <td>hatchback</td>\n",
       "      <td>black</td>\n",
       "      <td>https://images.craigslist.org/00p0p_1E1CnNRAjU...</td>\n",
       "      <td>41.868090</td>\n",
       "      <td>-71.509330</td>\n",
       "      <td>44007.0</td>\n",
       "      <td>Providence</td>\n",
       "      <td>44.0</td>\n",
       "      <td>RI</td>\n",
       "      <td>Rhode Island</td>\n",
       "      <td>49.0</td>\n",
       "    </tr>\n",
       "    <tr>\n",
       "      <th>2402</th>\n",
       "      <td>https://providence.craigslist.org/ctd/d/2006-f...</td>\n",
       "      <td>providence</td>\n",
       "      <td>32990</td>\n",
       "      <td>2006</td>\n",
       "      <td>ford</td>\n",
       "      <td>f-550</td>\n",
       "      <td>NaN</td>\n",
       "      <td>NaN</td>\n",
       "      <td>diesel</td>\n",
       "      <td>103939.0</td>\n",
       "      <td>clean</td>\n",
       "      <td>NaN</td>\n",
       "      <td>1FDAF57P66ED20417</td>\n",
       "      <td>4wd</td>\n",
       "      <td>full-size</td>\n",
       "      <td>other</td>\n",
       "      <td>white</td>\n",
       "      <td>https://images.craigslist.org/00000_eHkL6uPf3G...</td>\n",
       "      <td>42.834977</td>\n",
       "      <td>-71.107791</td>\n",
       "      <td>33015.0</td>\n",
       "      <td>Rockingham</td>\n",
       "      <td>33.0</td>\n",
       "      <td>NH</td>\n",
       "      <td>New Hampshire</td>\n",
       "      <td>43.0</td>\n",
       "    </tr>\n",
       "    <tr>\n",
       "      <th>2474</th>\n",
       "      <td>https://daytona.craigslist.org/ctd/d/2012-merc...</td>\n",
       "      <td>daytona</td>\n",
       "      <td>21995</td>\n",
       "      <td>2012</td>\n",
       "      <td>mercedes-benz</td>\n",
       "      <td>e-class</td>\n",
       "      <td>NaN</td>\n",
       "      <td>NaN</td>\n",
       "      <td>gas</td>\n",
       "      <td>NaN</td>\n",
       "      <td>clean</td>\n",
       "      <td>NaN</td>\n",
       "      <td>WDDHF8JB6CA552543</td>\n",
       "      <td>NaN</td>\n",
       "      <td>NaN</td>\n",
       "      <td>sedan</td>\n",
       "      <td>black</td>\n",
       "      <td>https://images.craigslist.org/00g0g_bQb8OB23qW...</td>\n",
       "      <td>28.424030</td>\n",
       "      <td>-81.404090</td>\n",
       "      <td>12095.0</td>\n",
       "      <td>Orange</td>\n",
       "      <td>12.0</td>\n",
       "      <td>FL</td>\n",
       "      <td>Florida</td>\n",
       "      <td>65.0</td>\n",
       "    </tr>\n",
       "    <tr>\n",
       "      <th>...</th>\n",
       "      <td>...</td>\n",
       "      <td>...</td>\n",
       "      <td>...</td>\n",
       "      <td>...</td>\n",
       "      <td>...</td>\n",
       "      <td>...</td>\n",
       "      <td>...</td>\n",
       "      <td>...</td>\n",
       "      <td>...</td>\n",
       "      <td>...</td>\n",
       "      <td>...</td>\n",
       "      <td>...</td>\n",
       "      <td>...</td>\n",
       "      <td>...</td>\n",
       "      <td>...</td>\n",
       "      <td>...</td>\n",
       "      <td>...</td>\n",
       "      <td>...</td>\n",
       "      <td>...</td>\n",
       "      <td>...</td>\n",
       "      <td>...</td>\n",
       "      <td>...</td>\n",
       "      <td>...</td>\n",
       "      <td>...</td>\n",
       "      <td>...</td>\n",
       "      <td>...</td>\n",
       "    </tr>\n",
       "    <tr>\n",
       "      <th>1048900</th>\n",
       "      <td>https://topeka.craigslist.org/ctd/d/2015-gmc-y...</td>\n",
       "      <td>topeka</td>\n",
       "      <td>38995</td>\n",
       "      <td>2015</td>\n",
       "      <td>gmc</td>\n",
       "      <td>yukon</td>\n",
       "      <td>NaN</td>\n",
       "      <td>NaN</td>\n",
       "      <td>NaN</td>\n",
       "      <td>71080.0</td>\n",
       "      <td>clean</td>\n",
       "      <td>NaN</td>\n",
       "      <td>1GKS2CKJXFR174578</td>\n",
       "      <td>NaN</td>\n",
       "      <td>NaN</td>\n",
       "      <td>NaN</td>\n",
       "      <td>NaN</td>\n",
       "      <td>https://images.craigslist.org/00z0z_2z0Jj7eIQL...</td>\n",
       "      <td>38.641900</td>\n",
       "      <td>-94.328500</td>\n",
       "      <td>29037.0</td>\n",
       "      <td>Cass/Van Buren</td>\n",
       "      <td>29.0</td>\n",
       "      <td>MO</td>\n",
       "      <td>Missouri</td>\n",
       "      <td>52.0</td>\n",
       "    </tr>\n",
       "    <tr>\n",
       "      <th>1048906</th>\n",
       "      <td>https://topeka.craigslist.org/ctd/d/2013-ford-...</td>\n",
       "      <td>topeka</td>\n",
       "      <td>38995</td>\n",
       "      <td>2013</td>\n",
       "      <td>ford</td>\n",
       "      <td>f350 super duty crew cab</td>\n",
       "      <td>NaN</td>\n",
       "      <td>NaN</td>\n",
       "      <td>NaN</td>\n",
       "      <td>98741.0</td>\n",
       "      <td>clean</td>\n",
       "      <td>NaN</td>\n",
       "      <td>1FT8W3DT0DEB13074</td>\n",
       "      <td>NaN</td>\n",
       "      <td>NaN</td>\n",
       "      <td>NaN</td>\n",
       "      <td>NaN</td>\n",
       "      <td>https://images.craigslist.org/00c0c_9Pwfu3Xd0R...</td>\n",
       "      <td>38.641900</td>\n",
       "      <td>-94.328500</td>\n",
       "      <td>29037.0</td>\n",
       "      <td>Cass/Van Buren</td>\n",
       "      <td>29.0</td>\n",
       "      <td>MO</td>\n",
       "      <td>Missouri</td>\n",
       "      <td>52.0</td>\n",
       "    </tr>\n",
       "    <tr>\n",
       "      <th>1048907</th>\n",
       "      <td>https://topeka.craigslist.org/ctd/d/2015-ford-...</td>\n",
       "      <td>topeka</td>\n",
       "      <td>22861</td>\n",
       "      <td>2015</td>\n",
       "      <td>ford</td>\n",
       "      <td>explorer</td>\n",
       "      <td>NaN</td>\n",
       "      <td>NaN</td>\n",
       "      <td>NaN</td>\n",
       "      <td>91340.0</td>\n",
       "      <td>clean</td>\n",
       "      <td>NaN</td>\n",
       "      <td>1FM5K8F86FGA95669</td>\n",
       "      <td>NaN</td>\n",
       "      <td>NaN</td>\n",
       "      <td>NaN</td>\n",
       "      <td>NaN</td>\n",
       "      <td>https://images.craigslist.org/00B0B_7WFdpNNUMx...</td>\n",
       "      <td>38.641900</td>\n",
       "      <td>-94.328500</td>\n",
       "      <td>29037.0</td>\n",
       "      <td>Cass/Van Buren</td>\n",
       "      <td>29.0</td>\n",
       "      <td>MO</td>\n",
       "      <td>Missouri</td>\n",
       "      <td>52.0</td>\n",
       "    </tr>\n",
       "    <tr>\n",
       "      <th>1048908</th>\n",
       "      <td>https://topeka.craigslist.org/ctd/d/2013-dodge...</td>\n",
       "      <td>topeka</td>\n",
       "      <td>23335</td>\n",
       "      <td>2013</td>\n",
       "      <td>dodge</td>\n",
       "      <td>durango</td>\n",
       "      <td>NaN</td>\n",
       "      <td>NaN</td>\n",
       "      <td>NaN</td>\n",
       "      <td>88117.0</td>\n",
       "      <td>clean</td>\n",
       "      <td>NaN</td>\n",
       "      <td>1C4SDJCT9DC559544</td>\n",
       "      <td>NaN</td>\n",
       "      <td>NaN</td>\n",
       "      <td>NaN</td>\n",
       "      <td>NaN</td>\n",
       "      <td>https://images.craigslist.org/00w0w_iH2JMTzlGe...</td>\n",
       "      <td>38.641900</td>\n",
       "      <td>-94.328500</td>\n",
       "      <td>29037.0</td>\n",
       "      <td>Cass/Van Buren</td>\n",
       "      <td>29.0</td>\n",
       "      <td>MO</td>\n",
       "      <td>Missouri</td>\n",
       "      <td>52.0</td>\n",
       "    </tr>\n",
       "    <tr>\n",
       "      <th>1048916</th>\n",
       "      <td>https://topeka.craigslist.org/ctd/d/2014-infin...</td>\n",
       "      <td>topeka</td>\n",
       "      <td>31883</td>\n",
       "      <td>2014</td>\n",
       "      <td>infiniti</td>\n",
       "      <td>qx80</td>\n",
       "      <td>NaN</td>\n",
       "      <td>NaN</td>\n",
       "      <td>NaN</td>\n",
       "      <td>91964.0</td>\n",
       "      <td>clean</td>\n",
       "      <td>NaN</td>\n",
       "      <td>JN8AZ2NE2E9063120</td>\n",
       "      <td>NaN</td>\n",
       "      <td>NaN</td>\n",
       "      <td>NaN</td>\n",
       "      <td>NaN</td>\n",
       "      <td>https://images.craigslist.org/00404_62V1mFvNhw...</td>\n",
       "      <td>38.641900</td>\n",
       "      <td>-94.328500</td>\n",
       "      <td>29037.0</td>\n",
       "      <td>Cass/Van Buren</td>\n",
       "      <td>29.0</td>\n",
       "      <td>MO</td>\n",
       "      <td>Missouri</td>\n",
       "      <td>52.0</td>\n",
       "    </tr>\n",
       "  </tbody>\n",
       "</table>\n",
       "<p>5816 rows × 26 columns</p>\n",
       "</div>"
      ],
      "text/plain": [
       "                                                       url        city  price  \\\n",
       "7        https://marshall.craigslist.org/ctd/d/2008-bmw...    marshall   3900   \n",
       "2079     https://buffalo.craigslist.org/ctd/d/2008-bmw-...     buffalo   8995   \n",
       "2264     https://providence.craigslist.org/ctd/d/2012-f...  providence   6995   \n",
       "2402     https://providence.craigslist.org/ctd/d/2006-f...  providence  32990   \n",
       "2474     https://daytona.craigslist.org/ctd/d/2012-merc...     daytona  21995   \n",
       "...                                                    ...         ...    ...   \n",
       "1048900  https://topeka.craigslist.org/ctd/d/2015-gmc-y...      topeka  38995   \n",
       "1048906  https://topeka.craigslist.org/ctd/d/2013-ford-...      topeka  38995   \n",
       "1048907  https://topeka.craigslist.org/ctd/d/2015-ford-...      topeka  22861   \n",
       "1048908  https://topeka.craigslist.org/ctd/d/2013-dodge...      topeka  23335   \n",
       "1048916  https://topeka.craigslist.org/ctd/d/2014-infin...      topeka  31883   \n",
       "\n",
       "         year   manufacturer                      make condition cylinders  \\\n",
       "7        2008            bmw                  3 series       NaN       NaN   \n",
       "2079     2008            bmw                     328xi       NaN       NaN   \n",
       "2264     2012           ford                    fiesta       NaN       NaN   \n",
       "2402     2006           ford                     f-550       NaN       NaN   \n",
       "2474     2012  mercedes-benz                   e-class       NaN       NaN   \n",
       "...       ...            ...                       ...       ...       ...   \n",
       "1048900  2015            gmc                     yukon       NaN       NaN   \n",
       "1048906  2013           ford  f350 super duty crew cab       NaN       NaN   \n",
       "1048907  2015           ford                  explorer       NaN       NaN   \n",
       "1048908  2013          dodge                   durango       NaN       NaN   \n",
       "1048916  2014       infiniti                      qx80       NaN       NaN   \n",
       "\n",
       "           fuel  odometer title_status transmission                vin drive  \\\n",
       "7           gas       0.0        clean          NaN  WBAVA37508NL47474   NaN   \n",
       "2079        gas   91340.0        clean          NaN  WBAVC93508KZ72509   NaN   \n",
       "2264      other   73002.0        clean          NaN  3FADP4FJXCM183774   NaN   \n",
       "2402     diesel  103939.0        clean          NaN  1FDAF57P66ED20417   4wd   \n",
       "2474        gas       NaN        clean          NaN  WDDHF8JB6CA552543   NaN   \n",
       "...         ...       ...          ...          ...                ...   ...   \n",
       "1048900     NaN   71080.0        clean          NaN  1GKS2CKJXFR174578   NaN   \n",
       "1048906     NaN   98741.0        clean          NaN  1FT8W3DT0DEB13074   NaN   \n",
       "1048907     NaN   91340.0        clean          NaN  1FM5K8F86FGA95669   NaN   \n",
       "1048908     NaN   88117.0        clean          NaN  1C4SDJCT9DC559544   NaN   \n",
       "1048916     NaN   91964.0        clean          NaN  JN8AZ2NE2E9063120   NaN   \n",
       "\n",
       "                size       type paint_color  \\\n",
       "7                NaN        NaN         NaN   \n",
       "2079         compact      sedan       black   \n",
       "2264     sub-compact  hatchback       black   \n",
       "2402       full-size      other       white   \n",
       "2474             NaN      sedan       black   \n",
       "...              ...        ...         ...   \n",
       "1048900          NaN        NaN         NaN   \n",
       "1048906          NaN        NaN         NaN   \n",
       "1048907          NaN        NaN         NaN   \n",
       "1048908          NaN        NaN         NaN   \n",
       "1048916          NaN        NaN         NaN   \n",
       "\n",
       "                                                 image_url        lat  \\\n",
       "7        https://images.craigslist.org/00202_8ciATrWst3...  41.622572   \n",
       "2079     https://images.craigslist.org/01313_blKOGJyXhB...  42.863917   \n",
       "2264     https://images.craigslist.org/00p0p_1E1CnNRAjU...  41.868090   \n",
       "2402     https://images.craigslist.org/00000_eHkL6uPf3G...  42.834977   \n",
       "2474     https://images.craigslist.org/00g0g_bQb8OB23qW...  28.424030   \n",
       "...                                                    ...        ...   \n",
       "1048900  https://images.craigslist.org/00z0z_2z0Jj7eIQL...  38.641900   \n",
       "1048906  https://images.craigslist.org/00c0c_9Pwfu3Xd0R...  38.641900   \n",
       "1048907  https://images.craigslist.org/00B0B_7WFdpNNUMx...  38.641900   \n",
       "1048908  https://images.craigslist.org/00w0w_iH2JMTzlGe...  38.641900   \n",
       "1048916  https://images.craigslist.org/00404_62V1mFvNhw...  38.641900   \n",
       "\n",
       "              long  county_fips     county_name  state_fips state_code  \\\n",
       "7       -87.632656      17031.0            Cook        17.0         IL   \n",
       "2079    -78.754393      36029.0            Erie        36.0         NY   \n",
       "2264    -71.509330      44007.0      Providence        44.0         RI   \n",
       "2402    -71.107791      33015.0      Rockingham        33.0         NH   \n",
       "2474    -81.404090      12095.0          Orange        12.0         FL   \n",
       "...            ...          ...             ...         ...        ...   \n",
       "1048900 -94.328500      29037.0  Cass/Van Buren        29.0         MO   \n",
       "1048906 -94.328500      29037.0  Cass/Van Buren        29.0         MO   \n",
       "1048907 -94.328500      29037.0  Cass/Van Buren        29.0         MO   \n",
       "1048908 -94.328500      29037.0  Cass/Van Buren        29.0         MO   \n",
       "1048916 -94.328500      29037.0  Cass/Van Buren        29.0         MO   \n",
       "\n",
       "            state_name  weather  \n",
       "7             Illinois     48.0  \n",
       "2079          New York     53.0  \n",
       "2264      Rhode Island     49.0  \n",
       "2402     New Hampshire     43.0  \n",
       "2474           Florida     65.0  \n",
       "...                ...      ...  \n",
       "1048900       Missouri     52.0  \n",
       "1048906       Missouri     52.0  \n",
       "1048907       Missouri     52.0  \n",
       "1048908       Missouri     52.0  \n",
       "1048916       Missouri     52.0  \n",
       "\n",
       "[5816 rows x 26 columns]"
      ]
     },
     "execution_count": 27,
     "metadata": {},
     "output_type": "execute_result"
    }
   ],
   "source": [
    "df[df['transmission'].isnull()]"
   ]
  },
  {
   "cell_type": "markdown",
   "metadata": {},
   "source": [
    "Let's compare 'make' between two groups in 'transmission': notnull vs. isnull"
   ]
  },
  {
   "cell_type": "code",
   "execution_count": 28,
   "metadata": {},
   "outputs": [
    {
     "data": {
      "text/plain": [
       "1500                   13850\n",
       "f-150                  12902\n",
       "silverado 1500          8661\n",
       "2500                    8055\n",
       "silverado               7872\n",
       "                       ...  \n",
       "sierra sle z71 1500        1\n",
       "1968 Mustang               1\n",
       "03 pt cruiser              1\n",
       "t-37                       1\n",
       "International D200         1\n",
       "Name: make, Length: 75438, dtype: int64"
      ]
     },
     "execution_count": 28,
     "metadata": {},
     "output_type": "execute_result"
    }
   ],
   "source": [
    "df['make'][df['transmission'].notnull()].value_counts()"
   ]
  },
  {
   "cell_type": "code",
   "execution_count": 29,
   "metadata": {},
   "outputs": [
    {
     "data": {
      "text/plain": [
       "altima                                255\n",
       "accord                                149\n",
       "wrangler                              126\n",
       "civic                                 124\n",
       "silverado                             114\n",
       "                                     ... \n",
       "i35                                     1\n",
       "qx56                                    1\n",
       "impreza 2.0i limited awd 4dr wagon      1\n",
       "jetta wagon                             1\n",
       "sport                                   1\n",
       "Name: make, Length: 994, dtype: int64"
      ]
     },
     "execution_count": 29,
     "metadata": {},
     "output_type": "execute_result"
    }
   ],
   "source": [
    "df['make'][df['transmission'].isnull()].value_counts()"
   ]
  },
  {
   "cell_type": "markdown",
   "metadata": {},
   "source": [
    "Let's keep rows with null value of 'transmission' because of the following reasons:\n",
    "\n",
    "(1) Null values in 'transmission' occupies insignificant portion at below than 1 %.\n",
    "\n",
    "(2) Given such other feature information as 'make', 'manufacturer', or 'type',  it is not available to assume which vehicle should be automatic or manual."
   ]
  },
  {
   "cell_type": "markdown",
   "metadata": {},
   "source": [
    "Let's look into 'title_status' by value_counts()."
   ]
  },
  {
   "cell_type": "code",
   "execution_count": 30,
   "metadata": {},
   "outputs": [
    {
     "data": {
      "text/plain": [
       "gas         928604\n",
       "diesel       75518\n",
       "other        27766\n",
       "hybrid        7055\n",
       "electric      1709\n",
       "Name: fuel, dtype: int64"
      ]
     },
     "execution_count": 30,
     "metadata": {},
     "output_type": "execute_result"
    }
   ],
   "source": [
    "df['fuel'].value_counts()"
   ]
  },
  {
   "cell_type": "markdown",
   "metadata": {},
   "source": [
    "Let's compare 'make' between two groups in 'transmission': notnull vs. isnull"
   ]
  },
  {
   "cell_type": "code",
   "execution_count": 31,
   "metadata": {},
   "outputs": [
    {
     "data": {
      "text/plain": [
       "1500                            13819\n",
       "f-150                           12759\n",
       "silverado 1500                   8398\n",
       "2500                             8007\n",
       "silverado                        7972\n",
       "                                ...  \n",
       "fe160 w/extended box                1\n",
       "z71 stepside                        1\n",
       "aviator 4x4                         1\n",
       "sierra 1500 denali automatic        1\n",
       "chevroletChe suburban               1\n",
       "Name: make, Length: 74616, dtype: int64"
      ]
     },
     "execution_count": 31,
     "metadata": {},
     "output_type": "execute_result"
    }
   ],
   "source": [
    "df['make'][df['fuel'].notnull()].value_counts()"
   ]
  },
  {
   "cell_type": "code",
   "execution_count": 32,
   "metadata": {},
   "outputs": [
    {
     "data": {
      "text/plain": [
       "silverado 1500                            264\n",
       "f-150                                     234\n",
       "tundra                                    115\n",
       "tahoe                                      91\n",
       "sierra 1500                                76\n",
       "                                         ... \n",
       "pacifica awd                                1\n",
       "terrain slt-2                               1\n",
       "Accord 2003                                 1\n",
       "3 series 4dr sdn 328i xdrive awd sulev      1\n",
       "s 63 amg 4 matic awd                        1\n",
       "Name: make, Length: 1918, dtype: int64"
      ]
     },
     "execution_count": 32,
     "metadata": {},
     "output_type": "execute_result"
    }
   ],
   "source": [
    "df['make'][df['fuel'].isnull()].value_counts()"
   ]
  },
  {
   "cell_type": "markdown",
   "metadata": {},
   "source": [
    "As seen above, it is also difficult to judge true 'fuel' types for rows whose 'fuel' is null value.  Thus, let's keep 'fuel' as it is because of the following reasons:\n",
    "\n",
    "(1) Null values in 'transmission' occupies insignificant portion at below than 1 %.\n",
    "\n",
    "(2) Given such other feature information as 'make', 'manufacturer', or 'type', it is not available to assume which vehicle should be automatic or manual."
   ]
  },
  {
   "cell_type": "code",
   "execution_count": 33,
   "metadata": {},
   "outputs": [
    {
     "data": {
      "text/plain": [
       "size            65.833660\n",
       "vin             65.002149\n",
       "type            41.363597\n",
       "condition       41.311162\n",
       "paint_color     41.070286\n",
       "cylinders       40.759592\n",
       "drive           38.422174\n",
       "odometer        32.708952\n",
       "manufacturer     7.973276\n",
       "weather          5.628695\n",
       "county_fips      5.571771\n",
       "county_name      5.571771\n",
       "state_fips       5.571771\n",
       "state_code       5.571771\n",
       "make             4.120878\n",
       "fuel             0.607253\n",
       "transmission     0.555487\n",
       "title_status     0.147563\n",
       "image_url        0.000000\n",
       "lat              0.000000\n",
       "long             0.000000\n",
       "state_name       0.000000\n",
       "year             0.000000\n",
       "price            0.000000\n",
       "city             0.000000\n",
       "url              0.000000\n",
       "dtype: float64"
      ]
     },
     "execution_count": 33,
     "metadata": {},
     "output_type": "execute_result"
    }
   ],
   "source": [
    "((df.isnull().sum()/len(df)).sort_values(ascending = False)*100).astype(float)"
   ]
  },
  {
   "cell_type": "markdown",
   "metadata": {},
   "source": [
    "Let's drop rows whose 'make' value is null in that null value of 'make' can not correlation with 'price'."
   ]
  },
  {
   "cell_type": "code",
   "execution_count": 34,
   "metadata": {},
   "outputs": [],
   "source": [
    "df.drop(df[df['make'].isnull()].index, inplace=True)"
   ]
  },
  {
   "cell_type": "code",
   "execution_count": 35,
   "metadata": {},
   "outputs": [
    {
     "data": {
      "text/plain": [
       "size            65.443526\n",
       "vin             63.997115\n",
       "condition       40.731115\n",
       "type            40.423504\n",
       "paint_color     40.141095\n",
       "cylinders       39.954416\n",
       "drive           37.525501\n",
       "odometer        31.379649\n",
       "manufacturer     8.309393\n",
       "weather          5.721891\n",
       "county_fips      5.666007\n",
       "county_name      5.666007\n",
       "state_fips       5.666007\n",
       "state_code       5.666007\n",
       "fuel             0.631161\n",
       "transmission     0.566710\n",
       "title_status     0.152311\n",
       "image_url        0.000000\n",
       "lat              0.000000\n",
       "long             0.000000\n",
       "state_name       0.000000\n",
       "make             0.000000\n",
       "year             0.000000\n",
       "price            0.000000\n",
       "city             0.000000\n",
       "url              0.000000\n",
       "dtype: float64"
      ]
     },
     "execution_count": 35,
     "metadata": {},
     "output_type": "execute_result"
    }
   ],
   "source": [
    "((df.isnull().sum()/len(df)).sort_values(ascending = False)*100).astype(float)"
   ]
  },
  {
   "cell_type": "markdown",
   "metadata": {},
   "source": [
    "Let's take a look into such geographical information as 'lat' and 'long' whose 'county_fips' value is null."
   ]
  },
  {
   "cell_type": "code",
   "execution_count": 36,
   "metadata": {},
   "outputs": [
    {
     "data": {
      "text/html": [
       "<div>\n",
       "<style scoped>\n",
       "    .dataframe tbody tr th:only-of-type {\n",
       "        vertical-align: middle;\n",
       "    }\n",
       "\n",
       "    .dataframe tbody tr th {\n",
       "        vertical-align: top;\n",
       "    }\n",
       "\n",
       "    .dataframe thead th {\n",
       "        text-align: right;\n",
       "    }\n",
       "</style>\n",
       "<table border=\"1\" class=\"dataframe\">\n",
       "  <thead>\n",
       "    <tr style=\"text-align: right;\">\n",
       "      <th></th>\n",
       "      <th>lat</th>\n",
       "      <th>long</th>\n",
       "    </tr>\n",
       "  </thead>\n",
       "  <tbody>\n",
       "    <tr>\n",
       "      <th>8</th>\n",
       "      <td>46.509803</td>\n",
       "      <td>-84.257825</td>\n",
       "    </tr>\n",
       "    <tr>\n",
       "      <th>9</th>\n",
       "      <td>46.514191</td>\n",
       "      <td>-84.291307</td>\n",
       "    </tr>\n",
       "    <tr>\n",
       "      <th>10</th>\n",
       "      <td>46.497529</td>\n",
       "      <td>-84.467464</td>\n",
       "    </tr>\n",
       "    <tr>\n",
       "      <th>11</th>\n",
       "      <td>46.497529</td>\n",
       "      <td>-84.467464</td>\n",
       "    </tr>\n",
       "    <tr>\n",
       "      <th>12</th>\n",
       "      <td>46.517791</td>\n",
       "      <td>-84.342291</td>\n",
       "    </tr>\n",
       "    <tr>\n",
       "      <th>...</th>\n",
       "      <td>...</td>\n",
       "      <td>...</td>\n",
       "    </tr>\n",
       "    <tr>\n",
       "      <th>386914</th>\n",
       "      <td>52.128158</td>\n",
       "      <td>-121.887320</td>\n",
       "    </tr>\n",
       "    <tr>\n",
       "      <th>386915</th>\n",
       "      <td>49.206149</td>\n",
       "      <td>-122.878196</td>\n",
       "    </tr>\n",
       "    <tr>\n",
       "      <th>386916</th>\n",
       "      <td>52.140620</td>\n",
       "      <td>-122.152208</td>\n",
       "    </tr>\n",
       "    <tr>\n",
       "      <th>386940</th>\n",
       "      <td>17.193913</td>\n",
       "      <td>-100.603865</td>\n",
       "    </tr>\n",
       "    <tr>\n",
       "      <th>387058</th>\n",
       "      <td>13.606640</td>\n",
       "      <td>-87.242176</td>\n",
       "    </tr>\n",
       "  </tbody>\n",
       "</table>\n",
       "<p>56879 rows × 2 columns</p>\n",
       "</div>"
      ],
      "text/plain": [
       "              lat        long\n",
       "8       46.509803  -84.257825\n",
       "9       46.514191  -84.291307\n",
       "10      46.497529  -84.467464\n",
       "11      46.497529  -84.467464\n",
       "12      46.517791  -84.342291\n",
       "...           ...         ...\n",
       "386914  52.128158 -121.887320\n",
       "386915  49.206149 -122.878196\n",
       "386916  52.140620 -122.152208\n",
       "386940  17.193913 -100.603865\n",
       "387058  13.606640  -87.242176\n",
       "\n",
       "[56879 rows x 2 columns]"
      ]
     },
     "execution_count": 36,
     "metadata": {},
     "output_type": "execute_result"
    }
   ],
   "source": [
    "df[['lat', 'long']][df['county_fips'].isnull()]"
   ]
  },
  {
   "cell_type": "markdown",
   "metadata": {},
   "source": [
    "Let's replace 'lat' and 'long' whose values are null with ones whose values are not null.\n",
    "\n",
    "Let's create a new column, 'lat_long' which combines 'lat' & 'long' in order to match it to 'county_fips'."
   ]
  },
  {
   "cell_type": "code",
   "execution_count": 37,
   "metadata": {},
   "outputs": [
    {
     "name": "stderr",
     "output_type": "stream",
     "text": [
      "C:\\Users\\danie\\Anaconda\\lib\\site-packages\\ipykernel_launcher.py:2: SettingWithCopyWarning: \n",
      "A value is trying to be set on a copy of a slice from a DataFrame\n",
      "\n",
      "See the caveats in the documentation: https://pandas.pydata.org/pandas-docs/stable/user_guide/indexing.html#returning-a-view-versus-a-copy\n",
      "  \n"
     ]
    },
    {
     "data": {
      "text/html": [
       "<div>\n",
       "<style scoped>\n",
       "    .dataframe tbody tr th:only-of-type {\n",
       "        vertical-align: middle;\n",
       "    }\n",
       "\n",
       "    .dataframe tbody tr th {\n",
       "        vertical-align: top;\n",
       "    }\n",
       "\n",
       "    .dataframe thead th {\n",
       "        text-align: right;\n",
       "    }\n",
       "</style>\n",
       "<table border=\"1\" class=\"dataframe\">\n",
       "  <thead>\n",
       "    <tr style=\"text-align: right;\">\n",
       "      <th></th>\n",
       "      <th>lat_long</th>\n",
       "      <th>county_fips</th>\n",
       "    </tr>\n",
       "  </thead>\n",
       "  <tbody>\n",
       "    <tr>\n",
       "      <th>0</th>\n",
       "      <td>0          43.4775\\n1          44.7612\\n2     ...</td>\n",
       "      <td>46083.0</td>\n",
       "    </tr>\n",
       "    <tr>\n",
       "      <th>1</th>\n",
       "      <td>0          43.4775\\n1          44.7612\\n2     ...</td>\n",
       "      <td>46039.0</td>\n",
       "    </tr>\n",
       "    <tr>\n",
       "      <th>2</th>\n",
       "      <td>0          43.4775\\n1          44.7612\\n2     ...</td>\n",
       "      <td>46093.0</td>\n",
       "    </tr>\n",
       "    <tr>\n",
       "      <th>3</th>\n",
       "      <td>0          43.4775\\n1          44.7612\\n2     ...</td>\n",
       "      <td>19143.0</td>\n",
       "    </tr>\n",
       "    <tr>\n",
       "      <th>4</th>\n",
       "      <td>0          43.4775\\n1          44.7612\\n2     ...</td>\n",
       "      <td>19109.0</td>\n",
       "    </tr>\n",
       "    <tr>\n",
       "      <th>...</th>\n",
       "      <td>...</td>\n",
       "      <td>...</td>\n",
       "    </tr>\n",
       "    <tr>\n",
       "      <th>1032383</th>\n",
       "      <td>0          43.4775\\n1          44.7612\\n2     ...</td>\n",
       "      <td>46041.0</td>\n",
       "    </tr>\n",
       "    <tr>\n",
       "      <th>1033987</th>\n",
       "      <td>0          43.4775\\n1          44.7612\\n2     ...</td>\n",
       "      <td>29041.0</td>\n",
       "    </tr>\n",
       "    <tr>\n",
       "      <th>1034412</th>\n",
       "      <td>0          43.4775\\n1          44.7612\\n2     ...</td>\n",
       "      <td>29227.0</td>\n",
       "    </tr>\n",
       "    <tr>\n",
       "      <th>1035337</th>\n",
       "      <td>0          43.4775\\n1          44.7612\\n2     ...</td>\n",
       "      <td>29211.0</td>\n",
       "    </tr>\n",
       "    <tr>\n",
       "      <th>1035678</th>\n",
       "      <td>0          43.4775\\n1          44.7612\\n2     ...</td>\n",
       "      <td>29139.0</td>\n",
       "    </tr>\n",
       "  </tbody>\n",
       "</table>\n",
       "<p>3039 rows × 2 columns</p>\n",
       "</div>"
      ],
      "text/plain": [
       "                                                  lat_long  county_fips\n",
       "0        0          43.4775\\n1          44.7612\\n2     ...      46083.0\n",
       "1        0          43.4775\\n1          44.7612\\n2     ...      46039.0\n",
       "2        0          43.4775\\n1          44.7612\\n2     ...      46093.0\n",
       "3        0          43.4775\\n1          44.7612\\n2     ...      19143.0\n",
       "4        0          43.4775\\n1          44.7612\\n2     ...      19109.0\n",
       "...                                                    ...          ...\n",
       "1032383  0          43.4775\\n1          44.7612\\n2     ...      46041.0\n",
       "1033987  0          43.4775\\n1          44.7612\\n2     ...      29041.0\n",
       "1034412  0          43.4775\\n1          44.7612\\n2     ...      29227.0\n",
       "1035337  0          43.4775\\n1          44.7612\\n2     ...      29211.0\n",
       "1035678  0          43.4775\\n1          44.7612\\n2     ...      29139.0\n",
       "\n",
       "[3039 rows x 2 columns]"
      ]
     },
     "execution_count": 37,
     "metadata": {},
     "output_type": "execute_result"
    }
   ],
   "source": [
    "df['lat_long'] = str(df['lat']) + str(df['long'])\n",
    "latlong = df[['lat_long', 'county_fips']].dropna(inplace=True)\n",
    "latlong = df[['lat_long', 'county_fips']].drop_duplicates()\n",
    "latlong"
   ]
  },
  {
   "cell_type": "markdown",
   "metadata": {},
   "source": [
    "Let's replace null values in df['county_fips'] with values in latlong['county_fips'] on a basis of 'lat_long'.\n",
    "\n",
    "And drop unnecessary columns as well."
   ]
  },
  {
   "cell_type": "code",
   "execution_count": 38,
   "metadata": {},
   "outputs": [
    {
     "data": {
      "text/plain": [
       "Index(['city', 'price', 'year', 'manufacturer', 'make', 'condition',\n",
       "       'cylinders', 'fuel', 'odometer', 'title_status', 'transmission',\n",
       "       'drive', 'size', 'type', 'paint_color', 'lat', 'long', 'county_name',\n",
       "       'state_code', 'weather', 'lat_long'],\n",
       "      dtype='object')"
      ]
     },
     "execution_count": 38,
     "metadata": {},
     "output_type": "execute_result"
    }
   ],
   "source": [
    "df.drop(['county_fips','url','vin','image_url','state_fips','state_name'], axis=1, inplace=True) \n",
    "df.columns"
   ]
  },
  {
   "cell_type": "code",
   "execution_count": 39,
   "metadata": {},
   "outputs": [
    {
     "data": {
      "text/plain": [
       "(1003864, 21)"
      ]
     },
     "execution_count": 39,
     "metadata": {},
     "output_type": "execute_result"
    }
   ],
   "source": [
    "df.shape"
   ]
  },
  {
   "cell_type": "code",
   "execution_count": null,
   "metadata": {},
   "outputs": [],
   "source": []
  },
  {
   "cell_type": "code",
   "execution_count": 40,
   "metadata": {
    "scrolled": false
   },
   "outputs": [
    {
     "ename": "MemoryError",
     "evalue": "Unable to allocate 22.7 GiB for an array with shape (3050742696,) and data type int64",
     "output_type": "error",
     "traceback": [
      "\u001b[1;31m---------------------------------------------------------------------------\u001b[0m",
      "\u001b[1;31mMemoryError\u001b[0m                               Traceback (most recent call last)",
      "\u001b[1;32m<ipython-input-40-f3cc215f0a1f>\u001b[0m in \u001b[0;36m<module>\u001b[1;34m\u001b[0m\n\u001b[1;32m----> 1\u001b[1;33m \u001b[0mdf\u001b[0m \u001b[1;33m=\u001b[0m \u001b[0mpd\u001b[0m\u001b[1;33m.\u001b[0m\u001b[0mmerge\u001b[0m\u001b[1;33m(\u001b[0m\u001b[0mdf\u001b[0m\u001b[1;33m,\u001b[0m \u001b[0mlatlong\u001b[0m\u001b[1;33m,\u001b[0m \u001b[0mhow\u001b[0m\u001b[1;33m=\u001b[0m\u001b[1;34m'left'\u001b[0m\u001b[1;33m,\u001b[0m \u001b[0mon\u001b[0m\u001b[1;33m=\u001b[0m\u001b[1;34m'lat_long'\u001b[0m\u001b[1;33m)\u001b[0m\u001b[1;33m\u001b[0m\u001b[1;33m\u001b[0m\u001b[0m\n\u001b[0m\u001b[0;32m      2\u001b[0m \u001b[0mprint\u001b[0m\u001b[1;33m(\u001b[0m\u001b[0mdf\u001b[0m\u001b[1;33m.\u001b[0m\u001b[0mshape\u001b[0m\u001b[1;33m)\u001b[0m\u001b[1;33m\u001b[0m\u001b[1;33m\u001b[0m\u001b[0m\n",
      "\u001b[1;32m~\\Anaconda\\lib\\site-packages\\pandas\\core\\reshape\\merge.py\u001b[0m in \u001b[0;36mmerge\u001b[1;34m(left, right, how, on, left_on, right_on, left_index, right_index, sort, suffixes, copy, indicator, validate)\u001b[0m\n\u001b[0;32m     86\u001b[0m         \u001b[0mvalidate\u001b[0m\u001b[1;33m=\u001b[0m\u001b[0mvalidate\u001b[0m\u001b[1;33m,\u001b[0m\u001b[1;33m\u001b[0m\u001b[1;33m\u001b[0m\u001b[0m\n\u001b[0;32m     87\u001b[0m     )\n\u001b[1;32m---> 88\u001b[1;33m     \u001b[1;32mreturn\u001b[0m \u001b[0mop\u001b[0m\u001b[1;33m.\u001b[0m\u001b[0mget_result\u001b[0m\u001b[1;33m(\u001b[0m\u001b[1;33m)\u001b[0m\u001b[1;33m\u001b[0m\u001b[1;33m\u001b[0m\u001b[0m\n\u001b[0m\u001b[0;32m     89\u001b[0m \u001b[1;33m\u001b[0m\u001b[0m\n\u001b[0;32m     90\u001b[0m \u001b[1;33m\u001b[0m\u001b[0m\n",
      "\u001b[1;32m~\\Anaconda\\lib\\site-packages\\pandas\\core\\reshape\\merge.py\u001b[0m in \u001b[0;36mget_result\u001b[1;34m(self)\u001b[0m\n\u001b[0;32m    641\u001b[0m             \u001b[0mself\u001b[0m\u001b[1;33m.\u001b[0m\u001b[0mleft\u001b[0m\u001b[1;33m,\u001b[0m \u001b[0mself\u001b[0m\u001b[1;33m.\u001b[0m\u001b[0mright\u001b[0m \u001b[1;33m=\u001b[0m \u001b[0mself\u001b[0m\u001b[1;33m.\u001b[0m\u001b[0m_indicator_pre_merge\u001b[0m\u001b[1;33m(\u001b[0m\u001b[0mself\u001b[0m\u001b[1;33m.\u001b[0m\u001b[0mleft\u001b[0m\u001b[1;33m,\u001b[0m \u001b[0mself\u001b[0m\u001b[1;33m.\u001b[0m\u001b[0mright\u001b[0m\u001b[1;33m)\u001b[0m\u001b[1;33m\u001b[0m\u001b[1;33m\u001b[0m\u001b[0m\n\u001b[0;32m    642\u001b[0m \u001b[1;33m\u001b[0m\u001b[0m\n\u001b[1;32m--> 643\u001b[1;33m         \u001b[0mjoin_index\u001b[0m\u001b[1;33m,\u001b[0m \u001b[0mleft_indexer\u001b[0m\u001b[1;33m,\u001b[0m \u001b[0mright_indexer\u001b[0m \u001b[1;33m=\u001b[0m \u001b[0mself\u001b[0m\u001b[1;33m.\u001b[0m\u001b[0m_get_join_info\u001b[0m\u001b[1;33m(\u001b[0m\u001b[1;33m)\u001b[0m\u001b[1;33m\u001b[0m\u001b[1;33m\u001b[0m\u001b[0m\n\u001b[0m\u001b[0;32m    644\u001b[0m \u001b[1;33m\u001b[0m\u001b[0m\n\u001b[0;32m    645\u001b[0m         \u001b[0mldata\u001b[0m\u001b[1;33m,\u001b[0m \u001b[0mrdata\u001b[0m \u001b[1;33m=\u001b[0m \u001b[0mself\u001b[0m\u001b[1;33m.\u001b[0m\u001b[0mleft\u001b[0m\u001b[1;33m.\u001b[0m\u001b[0m_data\u001b[0m\u001b[1;33m,\u001b[0m \u001b[0mself\u001b[0m\u001b[1;33m.\u001b[0m\u001b[0mright\u001b[0m\u001b[1;33m.\u001b[0m\u001b[0m_data\u001b[0m\u001b[1;33m\u001b[0m\u001b[1;33m\u001b[0m\u001b[0m\n",
      "\u001b[1;32m~\\Anaconda\\lib\\site-packages\\pandas\\core\\reshape\\merge.py\u001b[0m in \u001b[0;36m_get_join_info\u001b[1;34m(self)\u001b[0m\n\u001b[0;32m    860\u001b[0m             )\n\u001b[0;32m    861\u001b[0m         \u001b[1;32melse\u001b[0m\u001b[1;33m:\u001b[0m\u001b[1;33m\u001b[0m\u001b[1;33m\u001b[0m\u001b[0m\n\u001b[1;32m--> 862\u001b[1;33m             \u001b[1;33m(\u001b[0m\u001b[0mleft_indexer\u001b[0m\u001b[1;33m,\u001b[0m \u001b[0mright_indexer\u001b[0m\u001b[1;33m)\u001b[0m \u001b[1;33m=\u001b[0m \u001b[0mself\u001b[0m\u001b[1;33m.\u001b[0m\u001b[0m_get_join_indexers\u001b[0m\u001b[1;33m(\u001b[0m\u001b[1;33m)\u001b[0m\u001b[1;33m\u001b[0m\u001b[1;33m\u001b[0m\u001b[0m\n\u001b[0m\u001b[0;32m    863\u001b[0m \u001b[1;33m\u001b[0m\u001b[0m\n\u001b[0;32m    864\u001b[0m             \u001b[1;32mif\u001b[0m \u001b[0mself\u001b[0m\u001b[1;33m.\u001b[0m\u001b[0mright_index\u001b[0m\u001b[1;33m:\u001b[0m\u001b[1;33m\u001b[0m\u001b[1;33m\u001b[0m\u001b[0m\n",
      "\u001b[1;32m~\\Anaconda\\lib\\site-packages\\pandas\\core\\reshape\\merge.py\u001b[0m in \u001b[0;36m_get_join_indexers\u001b[1;34m(self)\u001b[0m\n\u001b[0;32m    839\u001b[0m         \u001b[1;34m\"\"\" return the join indexers \"\"\"\u001b[0m\u001b[1;33m\u001b[0m\u001b[1;33m\u001b[0m\u001b[0m\n\u001b[0;32m    840\u001b[0m         return _get_join_indexers(\n\u001b[1;32m--> 841\u001b[1;33m             \u001b[0mself\u001b[0m\u001b[1;33m.\u001b[0m\u001b[0mleft_join_keys\u001b[0m\u001b[1;33m,\u001b[0m \u001b[0mself\u001b[0m\u001b[1;33m.\u001b[0m\u001b[0mright_join_keys\u001b[0m\u001b[1;33m,\u001b[0m \u001b[0msort\u001b[0m\u001b[1;33m=\u001b[0m\u001b[0mself\u001b[0m\u001b[1;33m.\u001b[0m\u001b[0msort\u001b[0m\u001b[1;33m,\u001b[0m \u001b[0mhow\u001b[0m\u001b[1;33m=\u001b[0m\u001b[0mself\u001b[0m\u001b[1;33m.\u001b[0m\u001b[0mhow\u001b[0m\u001b[1;33m\u001b[0m\u001b[1;33m\u001b[0m\u001b[0m\n\u001b[0m\u001b[0;32m    842\u001b[0m         )\n\u001b[0;32m    843\u001b[0m \u001b[1;33m\u001b[0m\u001b[0m\n",
      "\u001b[1;32m~\\Anaconda\\lib\\site-packages\\pandas\\core\\reshape\\merge.py\u001b[0m in \u001b[0;36m_get_join_indexers\u001b[1;34m(left_keys, right_keys, sort, how, **kwargs)\u001b[0m\n\u001b[0;32m   1326\u001b[0m     \u001b[0mjoin_func\u001b[0m \u001b[1;33m=\u001b[0m \u001b[0m_join_functions\u001b[0m\u001b[1;33m[\u001b[0m\u001b[0mhow\u001b[0m\u001b[1;33m]\u001b[0m\u001b[1;33m\u001b[0m\u001b[1;33m\u001b[0m\u001b[0m\n\u001b[0;32m   1327\u001b[0m \u001b[1;33m\u001b[0m\u001b[0m\n\u001b[1;32m-> 1328\u001b[1;33m     \u001b[1;32mreturn\u001b[0m \u001b[0mjoin_func\u001b[0m\u001b[1;33m(\u001b[0m\u001b[0mlkey\u001b[0m\u001b[1;33m,\u001b[0m \u001b[0mrkey\u001b[0m\u001b[1;33m,\u001b[0m \u001b[0mcount\u001b[0m\u001b[1;33m,\u001b[0m \u001b[1;33m**\u001b[0m\u001b[0mkwargs\u001b[0m\u001b[1;33m)\u001b[0m\u001b[1;33m\u001b[0m\u001b[1;33m\u001b[0m\u001b[0m\n\u001b[0m\u001b[0;32m   1329\u001b[0m \u001b[1;33m\u001b[0m\u001b[0m\n\u001b[0;32m   1330\u001b[0m \u001b[1;33m\u001b[0m\u001b[0m\n",
      "\u001b[1;32mpandas\\_libs\\join.pyx\u001b[0m in \u001b[0;36mpandas._libs.join.left_outer_join\u001b[1;34m()\u001b[0m\n",
      "\u001b[1;32mpandas\\_libs\\join.pyx\u001b[0m in \u001b[0;36mpandas._libs.join._get_result_indexer\u001b[1;34m()\u001b[0m\n",
      "\u001b[1;31mMemoryError\u001b[0m: Unable to allocate 22.7 GiB for an array with shape (3050742696,) and data type int64"
     ]
    }
   ],
   "source": [
    "df = pd.merge(df, latlong, how='left', on='lat_long')\n",
    "print(df.shape)"
   ]
  },
  {
   "cell_type": "code",
   "execution_count": null,
   "metadata": {},
   "outputs": [],
   "source": []
  },
  {
   "cell_type": "code",
   "execution_count": null,
   "metadata": {},
   "outputs": [],
   "source": []
  },
  {
   "cell_type": "code",
   "execution_count": null,
   "metadata": {},
   "outputs": [],
   "source": []
  },
  {
   "cell_type": "code",
   "execution_count": null,
   "metadata": {},
   "outputs": [],
   "source": [
    "df[['state_name','city']][df['county_fips'].isnull()]"
   ]
  },
  {
   "cell_type": "code",
   "execution_count": null,
   "metadata": {},
   "outputs": [],
   "source": [
    "df['city'][df['county_fips'].isnull()].value_counts()"
   ]
  },
  {
   "cell_type": "markdown",
   "metadata": {},
   "source": [
    "Let's remove rows whose value of 'county_fips' is null because an address without exact location information such as 'county_fips' can hardly give a correlation with 'price'."
   ]
  },
  {
   "cell_type": "code",
   "execution_count": null,
   "metadata": {},
   "outputs": [],
   "source": [
    "df.drop(df[df['county_fips'].isnull()].index, inplace=True)"
   ]
  },
  {
   "cell_type": "code",
   "execution_count": null,
   "metadata": {},
   "outputs": [],
   "source": [
    "((df.isnull().sum()/len(df)).sort_values(ascending = False)*100).astype(float)"
   ]
  },
  {
   "cell_type": "markdown",
   "metadata": {},
   "source": [
    "Now let's look into rows with 'title_status' whose value is null."
   ]
  },
  {
   "cell_type": "code",
   "execution_count": null,
   "metadata": {},
   "outputs": [],
   "source": []
  },
  {
   "cell_type": "code",
   "execution_count": null,
   "metadata": {},
   "outputs": [],
   "source": []
  },
  {
   "cell_type": "code",
   "execution_count": null,
   "metadata": {},
   "outputs": [],
   "source": []
  },
  {
   "cell_type": "code",
   "execution_count": null,
   "metadata": {
    "scrolled": true
   },
   "outputs": [],
   "source": [
    "df[df['title_status'].isnull()].corr()"
   ]
  },
  {
   "cell_type": "code",
   "execution_count": null,
   "metadata": {},
   "outputs": [],
   "source": []
  },
  {
   "cell_type": "code",
   "execution_count": null,
   "metadata": {},
   "outputs": [],
   "source": []
  },
  {
   "cell_type": "code",
   "execution_count": null,
   "metadata": {},
   "outputs": [],
   "source": []
  },
  {
   "cell_type": "code",
   "execution_count": null,
   "metadata": {},
   "outputs": [],
   "source": []
  },
  {
   "cell_type": "markdown",
   "metadata": {},
   "source": [
    "Let's drop 'state_name' with null value."
   ]
  },
  {
   "cell_type": "code",
   "execution_count": null,
   "metadata": {},
   "outputs": [],
   "source": [
    "df.drop(df[df['state_name'].isnull()].index, inplace=True)"
   ]
  },
  {
   "cell_type": "code",
   "execution_count": null,
   "metadata": {},
   "outputs": [],
   "source": [
    "((df.isnull().sum()/len(df)).sort_values(ascending = False)*100).astype(float)"
   ]
  },
  {
   "cell_type": "code",
   "execution_count": null,
   "metadata": {},
   "outputs": [],
   "source": []
  },
  {
   "cell_type": "code",
   "execution_count": null,
   "metadata": {},
   "outputs": [],
   "source": []
  },
  {
   "cell_type": "code",
   "execution_count": null,
   "metadata": {
    "scrolled": false
   },
   "outputs": [],
   "source": [
    "df['size'].value_counts()"
   ]
  },
  {
   "cell_type": "code",
   "execution_count": null,
   "metadata": {},
   "outputs": [],
   "source": [
    "df['type'].value_counts()"
   ]
  },
  {
   "cell_type": "code",
   "execution_count": null,
   "metadata": {},
   "outputs": [],
   "source": []
  },
  {
   "cell_type": "code",
   "execution_count": null,
   "metadata": {},
   "outputs": [],
   "source": [
    "# let's drop url, image_url, vin, size because they are not usable here: df1\n",
    "\n",
    "df1 = df.drop(columns=['url','image_url', 'vin', 'size'])\n",
    "df1.head()"
   ]
  },
  {
   "cell_type": "code",
   "execution_count": null,
   "metadata": {},
   "outputs": [],
   "source": [
    "df1.info()"
   ]
  },
  {
   "cell_type": "code",
   "execution_count": null,
   "metadata": {},
   "outputs": [],
   "source": [
    "# Information between 'title_status' and 'type' are hidden in the above.\n",
    "# Thus, here go another head.\n",
    "\n",
    "df1.loc[:,['transmission','drive']].head()\n"
   ]
  },
  {
   "cell_type": "code",
   "execution_count": null,
   "metadata": {},
   "outputs": [],
   "source": [
    "# Let's look into geospatial information.\n",
    "\n",
    "# On one hand such geospatial information as 'lat', 'long', 'state_name', and 'city' has no NaN.\n",
    "\n",
    "# On the other hand, such other information as 'weather', 'county_fips', 'county_name', 'state_fips', and 'state_code' have\n",
    "# the same 0.055638 of NaN out of each columns.\n",
    "\n",
    "# Besides 'weather', as long as such geospatial information with no NaN have no error, other geospatial information with NaN\n",
    "# should be matched to the geospatial information with no NaN.\n",
    "\n",
    "# Let's take looks into the information with no NaN:"
   ]
  },
  {
   "cell_type": "code",
   "execution_count": null,
   "metadata": {
    "scrolled": true
   },
   "outputs": [],
   "source": [
    "# Let's check if 'lat' has an error.\n",
    "\n",
    "df1.lat.value_counts()"
   ]
  },
  {
   "cell_type": "code",
   "execution_count": null,
   "metadata": {
    "scrolled": true
   },
   "outputs": [],
   "source": [
    "# We found no errors on 'lat'.\n",
    "\n",
    "# Now let's check if 'long' has an error.\n",
    "\n",
    "df1.long.value_counts()"
   ]
  },
  {
   "cell_type": "code",
   "execution_count": null,
   "metadata": {
    "scrolled": true
   },
   "outputs": [],
   "source": [
    "# 'long' has no error as well.\n",
    "\n",
    "# Let's check if 'state_name' has an error.\n",
    "\n",
    "df1.state_name.value_counts()"
   ]
  },
  {
   "cell_type": "code",
   "execution_count": null,
   "metadata": {
    "scrolled": true
   },
   "outputs": [],
   "source": [
    "# There's such error on 'state_name' as 'FAILED'.\n",
    "\n",
    "# Let's check if 'city' has an error.\n",
    "\n",
    "df1.city.value_counts()"
   ]
  },
  {
   "cell_type": "code",
   "execution_count": null,
   "metadata": {},
   "outputs": [],
   "source": [
    "# Even in 'city', there seem possibly some errors on city names like 'cfl'.\n",
    "\n",
    "# Thus, let's bring additional data set, 'Median_Household_Income_2017.csv' in order to match this with df1 on bases of \n",
    "# 'county_fips'.\n",
    "\n",
    "df_income = pd.read_csv(\"Median_Household_Income_2017.csv\")\n",
    "df_income.tail()"
   ]
  },
  {
   "cell_type": "code",
   "execution_count": null,
   "metadata": {
    "scrolled": true
   },
   "outputs": [],
   "source": [
    "# 'county_fips' from df1 and 'FIPS' from df_income look having same 5 digits except for that type of 'county_fips'\n",
    "# from df1 should be converted to integer from float.\n",
    "\n",
    "df1['county_fips']=df1['county_fips'].astype(int)\n",
    "df1['county_fips']"
   ]
  },
  {
   "cell_type": "code",
   "execution_count": null,
   "metadata": {
    "scrolled": true
   },
   "outputs": [],
   "source": [
    "# Let's solve he positive or negative infinite problem.\n",
    "\n",
    "df1 = df1.replace([np.inf, -np.inf], np.nan)\n",
    "df1['county_fips']=df1['county_fips'].fillna(0)\n",
    "df1['county_fips']=df1['county_fips'].astype(int)\n",
    "df1['county_fips']"
   ]
  },
  {
   "cell_type": "code",
   "execution_count": null,
   "metadata": {},
   "outputs": [],
   "source": [
    "len(df1[df1['county_fips']==0])/len(df1['county_fips'])"
   ]
  },
  {
   "cell_type": "code",
   "execution_count": null,
   "metadata": {},
   "outputs": [],
   "source": [
    "df1=df1[['county_fips','price','year','manufacturer','make','condition','cylinders','fuel','odometer','title_status','transmission','drive','type','paint_color','weather']]\n",
    "df1=df1.drop_duplicates()"
   ]
  },
  {
   "cell_type": "code",
   "execution_count": null,
   "metadata": {
    "scrolled": true
   },
   "outputs": [],
   "source": [
    "# Now let's change the type of df_income['FIPS'] to integer.\n",
    "\n",
    "df_income.rename(columns = {'FIPS':'county_fips'}, inplace=True)\n",
    "df_income['county_fips']=df_income['county_fips'].astype(int)\n",
    "df_income['county_fips'].value_counts()"
   ]
  },
  {
   "cell_type": "code",
   "execution_count": null,
   "metadata": {},
   "outputs": [],
   "source": [
    "df_income1=df_income[['county_fips','Area_name','State','Median_Household_Income_2017','Unemployment_rate_2018','Civilian_labor_force_2018']]\n",
    "df_income1=df_income1.drop_duplicates()"
   ]
  },
  {
   "cell_type": "code",
   "execution_count": null,
   "metadata": {},
   "outputs": [],
   "source": [
    "# Let's merge two data sets: df1 and df_zip\n",
    "\n",
    "df2 = pd.merge(df1,df_income1, on='county_fips', how='left')\n",
    "df2=df2.drop_duplicates()\n",
    "df2.tail()"
   ]
  },
  {
   "cell_type": "code",
   "execution_count": null,
   "metadata": {},
   "outputs": [],
   "source": [
    "# Now let's bring population information.\n",
    "\n",
    "df_zip = pd.read_csv(\"uszips.csv\")\n",
    "df_zip.tail()"
   ]
  },
  {
   "cell_type": "code",
   "execution_count": null,
   "metadata": {
    "scrolled": true
   },
   "outputs": [],
   "source": [
    "# Now let's normalize 'population' and 'density'.\n",
    "\n",
    "# I will add the sum of 'population' to each 'county_fips'.\n",
    "\n",
    "df2['population']=df_zip.groupby('county_fips')['population'].cumsum()\n",
    "df2.head()"
   ]
  },
  {
   "cell_type": "code",
   "execution_count": null,
   "metadata": {},
   "outputs": [],
   "source": [
    "df2.tail()"
   ]
  },
  {
   "cell_type": "code",
   "execution_count": null,
   "metadata": {
    "scrolled": true
   },
   "outputs": [],
   "source": [
    "df_zip['area']=df_zip.population / df_zip.density\n",
    "\n",
    "df_zip"
   ]
  },
  {
   "cell_type": "code",
   "execution_count": null,
   "metadata": {},
   "outputs": [],
   "source": [
    "# In order to add 'density' on 'county_fips', it is needed to understand how to calculate 'density'.\n",
    "\n",
    "# density = total population / total area\n",
    "\n",
    "# We already know 'density' and 'population' from 'df_zip'.\n",
    "\n",
    "# Let's calculate df_zip['area'] by dividing 'population' with 'density'."
   ]
  },
  {
   "cell_type": "code",
   "execution_count": null,
   "metadata": {},
   "outputs": [],
   "source": [
    "df2['area']=df_zip.groupby('county_fips')['area'].cumsum()\n",
    "df2['density']=df2.population / df2.area\n",
    "df2.head()"
   ]
  },
  {
   "cell_type": "code",
   "execution_count": null,
   "metadata": {},
   "outputs": [],
   "source": [
    "df2['year']=df2['year'].fillna(0)\n",
    "df2['year']=df2['year'].astype(int)"
   ]
  },
  {
   "cell_type": "code",
   "execution_count": null,
   "metadata": {},
   "outputs": [],
   "source": [
    "df2.head()"
   ]
  },
  {
   "cell_type": "code",
   "execution_count": null,
   "metadata": {
    "scrolled": true
   },
   "outputs": [],
   "source": [
    "df2['manufacturer']=df2['manufacturer'].fillna(\"UNKNOWN\")\n",
    "df2['manufacturer'].value_counts()"
   ]
  },
  {
   "cell_type": "code",
   "execution_count": null,
   "metadata": {},
   "outputs": [],
   "source": [
    "df2['make']=df2['make'].fillna(\"UNKNOWN\")\n",
    "df2['make'].value_counts()"
   ]
  },
  {
   "cell_type": "code",
   "execution_count": null,
   "metadata": {
    "scrolled": true
   },
   "outputs": [],
   "source": [
    "# As seen above 2 value_counts 'UNKNOWN' occupy in both columns:'manifacturer' and 'make'.\n",
    "# Let's look into them.\n",
    "\n",
    "df2.loc[(df2['manufacturer'] == 'UNKNOWN') & (df2['make'] == 'UNKNOWN'),:]"
   ]
  },
  {
   "cell_type": "code",
   "execution_count": null,
   "metadata": {
    "scrolled": true
   },
   "outputs": [],
   "source": [
    "# Let's drop df2.manufacturer & df2.make whose values are UNKNOWN at the same time.\n",
    "\n",
    "df3 = df2.drop(df2[(df2['manufacturer']=='UNKNOWN') & (df2['make']=='UNKNOWN')].index)\n",
    "df3"
   ]
  },
  {
   "cell_type": "code",
   "execution_count": null,
   "metadata": {},
   "outputs": [],
   "source": [
    "(df3.isnull().sum()/len(df3)).sort_values(ascending = False)"
   ]
  },
  {
   "cell_type": "code",
   "execution_count": null,
   "metadata": {
    "scrolled": true
   },
   "outputs": [],
   "source": [
    "df3.county_fips.value_counts()"
   ]
  },
  {
   "cell_type": "code",
   "execution_count": null,
   "metadata": {},
   "outputs": [],
   "source": [
    "# let's drop 0 value of 'county_fips' in that their portion occupies only 4%, which can be ignorable.\n",
    "\n",
    "len(df3.county_fips[df3.county_fips==0])/len(df3.county_fips)"
   ]
  },
  {
   "cell_type": "code",
   "execution_count": null,
   "metadata": {},
   "outputs": [],
   "source": [
    "df3=df3.drop(df3[df3['county_fips']==0].index)\n",
    "df3"
   ]
  },
  {
   "cell_type": "code",
   "execution_count": null,
   "metadata": {},
   "outputs": [],
   "source": [
    "df3.describe()"
   ]
  },
  {
   "cell_type": "code",
   "execution_count": null,
   "metadata": {},
   "outputs": [],
   "source": [
    "# And, as long as you don't know what year your vehicle was made at, it is impossible to project a residual value of\n",
    "# your vehile.\n",
    "\n",
    "# So let's drop 'year' whose value is 0.\n",
    "\n",
    "len(df3[df3.year==0])/len(df3)"
   ]
  },
  {
   "cell_type": "code",
   "execution_count": null,
   "metadata": {},
   "outputs": [],
   "source": [
    "df3=df3.drop(df3[df3['year']==0].index)\n",
    "df3.describe()"
   ]
  },
  {
   "cell_type": "code",
   "execution_count": null,
   "metadata": {},
   "outputs": [],
   "source": [
    "df3"
   ]
  },
  {
   "cell_type": "code",
   "execution_count": null,
   "metadata": {},
   "outputs": [],
   "source": [
    "(df3.isnull().sum()/len(df3)).sort_values(ascending = False)"
   ]
  },
  {
   "cell_type": "code",
   "execution_count": null,
   "metadata": {},
   "outputs": [],
   "source": [
    "df3[df3.Area_name.isnull()]"
   ]
  },
  {
   "cell_type": "code",
   "execution_count": null,
   "metadata": {},
   "outputs": [],
   "source": [
    "# Let's drop the above rows whose 'county_name' cannot be identified.\n",
    "\n",
    "df3=df3.drop(df3[df3['Area_name'].isnull()].index)\n",
    "(df3.isnull().sum()/len(df3)).sort_values(ascending = False)"
   ]
  },
  {
   "cell_type": "code",
   "execution_count": null,
   "metadata": {},
   "outputs": [],
   "source": [
    "df3[df3.title_status.isnull()]"
   ]
  },
  {
   "cell_type": "code",
   "execution_count": null,
   "metadata": {},
   "outputs": [],
   "source": [
    "df3.title_status.value_counts()"
   ]
  },
  {
   "cell_type": "code",
   "execution_count": null,
   "metadata": {},
   "outputs": [],
   "source": [
    "# Let's drop 'title_status' whose values is_null.\n",
    "\n",
    "df3=df3.drop(df3[df3['title_status'].isnull()].index)\n",
    "(df3.isnull().sum()/len(df3)).sort_values(ascending = False)"
   ]
  },
  {
   "cell_type": "code",
   "execution_count": null,
   "metadata": {},
   "outputs": [],
   "source": [
    "df3.condition.value_counts()"
   ]
  },
  {
   "cell_type": "code",
   "execution_count": null,
   "metadata": {},
   "outputs": [],
   "source": [
    "# By comparing salvage counts (19879) from 'title_status' with salvage counts (3442) from 'condition', it is assumed that\n",
    "# salvage from 'condition' seems NOT objective in that salvage counts (19879) from 'title_status' outnumber salvage counts\n",
    "# (3442) from 'condition'.\n",
    "\n",
    "# From a commonsense point of view, used car sellers would like to overestimate their cars.\n",
    "\n",
    "# Thus, let's exclude the column, 'condition'.\n",
    "# In addtion, Null value of 'condition' occupies 39%; it is too big.\n",
    "\n",
    "df3 = df3.drop(columns=['condition'])"
   ]
  },
  {
   "cell_type": "code",
   "execution_count": null,
   "metadata": {},
   "outputs": [],
   "source": [
    "df3.weather.value_counts()"
   ]
  },
  {
   "cell_type": "code",
   "execution_count": null,
   "metadata": {},
   "outputs": [],
   "source": [
    "df3[df3.weather.isnull()]"
   ]
  },
  {
   "cell_type": "code",
   "execution_count": null,
   "metadata": {},
   "outputs": [],
   "source": [
    "df3.county_fips[df3.weather.isnull()].value_counts()"
   ]
  },
  {
   "cell_type": "code",
   "execution_count": null,
   "metadata": {},
   "outputs": [],
   "source": [
    "# All df3's 'weather' whose value is null has only one 'county_fips' value: 11001, District of Columbia.\n",
    "# So let's look into all 'weather' values from all 'county_fips', 11001 value.\n",
    "\n",
    "df3.weather[df3.county_fips == 11001].value_counts()"
   ]
  },
  {
   "cell_type": "code",
   "execution_count": null,
   "metadata": {},
   "outputs": [],
   "source": [
    "# None, so let's look into other columns of 'county_fips', 11001.\n",
    "\n",
    "df3[df3.county_fips == 11001]"
   ]
  },
  {
   "cell_type": "code",
   "execution_count": null,
   "metadata": {},
   "outputs": [],
   "source": [
    "# All null value of 'weather' is information of 'county_fips', 11001, whose 'county_name' is 'District of Columbia'\n",
    "# Let's keep 'weather' whose value is null because 'weather' values  within 'Distict of Columbia' is the only one value, NaN. "
   ]
  },
  {
   "cell_type": "code",
   "execution_count": null,
   "metadata": {},
   "outputs": [],
   "source": [
    "(df3.isnull().sum()/len(df3)).sort_values(ascending = False)"
   ]
  },
  {
   "cell_type": "code",
   "execution_count": null,
   "metadata": {
    "scrolled": true
   },
   "outputs": [],
   "source": [
    "# 'price' seems having no problems.\n",
    "df3.price.value_counts()"
   ]
  },
  {
   "cell_type": "code",
   "execution_count": null,
   "metadata": {
    "scrolled": true
   },
   "outputs": [],
   "source": [
    "# 'year' whose values are below 1900 seem not normal.\n",
    "df3.year.value_counts()"
   ]
  },
  {
   "cell_type": "code",
   "execution_count": null,
   "metadata": {},
   "outputs": [],
   "source": [
    "# Let's look into information whose 'year' <1900.\n",
    "df3[df3.year<1900]"
   ]
  },
  {
   "cell_type": "code",
   "execution_count": null,
   "metadata": {
    "scrolled": true
   },
   "outputs": [],
   "source": [
    "# Let's look into information whose 'year' > 1900 & 'year' < 1910.\n",
    "df3[(df3.year>1900) & (df3.year<1910)]"
   ]
  },
  {
   "cell_type": "code",
   "execution_count": null,
   "metadata": {},
   "outputs": [],
   "source": [
    "# It is better to keep 'year' information for the time being because there are too many abnormal information to be corrected."
   ]
  },
  {
   "cell_type": "code",
   "execution_count": null,
   "metadata": {
    "scrolled": true
   },
   "outputs": [],
   "source": [
    "# Let's do value_counts on 'make'.\n",
    "\n",
    "df3.make.value_counts()"
   ]
  },
  {
   "cell_type": "code",
   "execution_count": null,
   "metadata": {},
   "outputs": [],
   "source": [
    "#'UNKNOWN' make occupies almost 10% of total information.\n",
    "\n",
    "len(df3.make.value_counts())/len(df3)"
   ]
  },
  {
   "cell_type": "code",
   "execution_count": null,
   "metadata": {
    "scrolled": true
   },
   "outputs": [],
   "source": [
    "# As long as you do not know 'make' as 'UNKNOWN', it is impossible to project resale values on it per 'make'.\n",
    "# Thus, it is better to drop 'make' whose value is 'UNKNOWN'.\n",
    "\n",
    "df3=df3.drop(df3[df3['make']=='UNKNOWN'].index)\n",
    "df3.make.value_counts()"
   ]
  },
  {
   "cell_type": "code",
   "execution_count": null,
   "metadata": {
    "scrolled": true
   },
   "outputs": [],
   "source": [
    "# Let's look into 'manufacturer'.\n",
    "\n",
    "df3.manufacturer.value_counts()"
   ]
  },
  {
   "cell_type": "code",
   "execution_count": null,
   "metadata": {
    "scrolled": true
   },
   "outputs": [],
   "source": [
    "# Let's look at them in alphabetical order.\n",
    "\n",
    "df_manufacturer=df3.manufacturer.drop_duplicates()\n",
    "df_manufacturer.sort_values(ascending=True)"
   ]
  },
  {
   "cell_type": "code",
   "execution_count": null,
   "metadata": {},
   "outputs": [],
   "source": [
    "# There are some identical manufacturers with different names or misspelling.\n",
    "# Let's look into them and correct them.\n",
    "\n",
    "df3[df3['manufacturer']=='alfa']"
   ]
  },
  {
   "cell_type": "code",
   "execution_count": null,
   "metadata": {},
   "outputs": [],
   "source": [
    "df3[df3['manufacturer']=='alfa-romeo']"
   ]
  },
  {
   "cell_type": "code",
   "execution_count": null,
   "metadata": {},
   "outputs": [],
   "source": [
    "# As seen above, 'alfa' and 'alfa-romeo' seem identical.\n",
    "# Let's replace 'alfa' with 'alfa-roemo'.\n",
    "\n",
    "df3['manufacturer'].replace(to_replace=\"alfa\",value=\"alfa-roemo\",inplace=True)\n",
    "df3=df3.drop_duplicates()"
   ]
  },
  {
   "cell_type": "code",
   "execution_count": null,
   "metadata": {
    "scrolled": true
   },
   "outputs": [],
   "source": [
    "# Now let's compare 'aston' with 'aston-martin'.\n",
    "df3[df3['manufacturer']=='aston']"
   ]
  },
  {
   "cell_type": "code",
   "execution_count": null,
   "metadata": {
    "scrolled": true
   },
   "outputs": [],
   "source": [
    "df3[df3['manufacturer']=='aston-martin']"
   ]
  },
  {
   "cell_type": "code",
   "execution_count": null,
   "metadata": {},
   "outputs": [],
   "source": [
    "# As seen above, 'aston' and 'aston-martin' seem identical.\n",
    "# Let's replace 'aston' with 'aston-martin'.\n",
    "\n",
    "df3['manufacturer'].replace(to_replace=\"aston\",value=\"aston-martin\",inplace=True)\n",
    "df3=df3.drop_duplicates()"
   ]
  },
  {
   "cell_type": "code",
   "execution_count": null,
   "metadata": {},
   "outputs": [],
   "source": [
    "# Now let's compare 'chev' and 'chevy' with 'chevrolet'.\n",
    "df3[df3['manufacturer']=='chev']"
   ]
  },
  {
   "cell_type": "code",
   "execution_count": null,
   "metadata": {},
   "outputs": [],
   "source": [
    "df3[df3['manufacturer']=='chevy']"
   ]
  },
  {
   "cell_type": "code",
   "execution_count": null,
   "metadata": {},
   "outputs": [],
   "source": [
    "df3[df3['manufacturer']=='chevrolet']"
   ]
  },
  {
   "cell_type": "code",
   "execution_count": null,
   "metadata": {},
   "outputs": [],
   "source": [
    "# Although they have many kinds of 'make', their 'make' share many identical 'make' such as siverado, trailblazer, etc.\n",
    "# Let's replace 'chev' and 'chevy' with 'chevrolet'.\n",
    "\n",
    "df3['manufacturer'].replace(to_replace=\"chev\",value=\"chevrolet\",inplace=True)\n",
    "df3['manufacturer'].replace(to_replace=\"chevy\",value=\"chevrolet\",inplace=True)\n",
    "df3=df3.drop_duplicates()"
   ]
  },
  {
   "cell_type": "code",
   "execution_count": null,
   "metadata": {},
   "outputs": [],
   "source": [
    "# Now let's compare 'harley' with 'harley-davidson'.\n",
    "df3[df3['manufacturer']=='harley']"
   ]
  },
  {
   "cell_type": "code",
   "execution_count": null,
   "metadata": {},
   "outputs": [],
   "source": [
    "df3[df3['manufacturer']=='harley-davidson']"
   ]
  },
  {
   "cell_type": "code",
   "execution_count": null,
   "metadata": {},
   "outputs": [],
   "source": [
    "# As seen above, 'harley' and 'harley-davidson' seem identical.\n",
    "# Let's replace 'harley' with 'harley-davidson'.\n",
    "\n",
    "df3['manufacturer'].replace(to_replace=\"harley\",value=\"harley-davidson\",inplace=True)\n",
    "df3=df3.drop_duplicates()"
   ]
  },
  {
   "cell_type": "code",
   "execution_count": null,
   "metadata": {},
   "outputs": [],
   "source": [
    "# Now let's compare 'infiniti' with 'infinity'.\n",
    "df3[df3['manufacturer']=='infiniti']"
   ]
  },
  {
   "cell_type": "code",
   "execution_count": null,
   "metadata": {},
   "outputs": [],
   "source": [
    "df3[df3['manufacturer']=='infinity']"
   ]
  },
  {
   "cell_type": "code",
   "execution_count": null,
   "metadata": {},
   "outputs": [],
   "source": [
    "# As seen above, 'infiniti' and 'infinity' seem identical.\n",
    "# Let's replace 'infinity' with 'infiniti'.\n",
    "\n",
    "df3['manufacturer'].replace(to_replace=\"infinity\",value=\"infiniti\",inplace=True)\n",
    "df3=df3.drop_duplicates()"
   ]
  },
  {
   "cell_type": "code",
   "execution_count": null,
   "metadata": {
    "scrolled": true
   },
   "outputs": [],
   "source": [
    "# Now let's compare 'land rover' and 'landrover' with 'rover'.\n",
    "df3[df3['manufacturer']=='land rover']"
   ]
  },
  {
   "cell_type": "code",
   "execution_count": null,
   "metadata": {
    "scrolled": true
   },
   "outputs": [],
   "source": [
    "df3[df3['manufacturer']=='landrover']"
   ]
  },
  {
   "cell_type": "code",
   "execution_count": null,
   "metadata": {},
   "outputs": [],
   "source": [
    "df3[df3['manufacturer']=='rover']"
   ]
  },
  {
   "cell_type": "code",
   "execution_count": null,
   "metadata": {},
   "outputs": [],
   "source": [
    "# Although they have many kinds of 'make', their 'make' share many identical 'make' such as discovery, etc.\n",
    "# Let's replace 'landrover' and 'rover' with 'land rover'.\n",
    "\n",
    "df3['manufacturer'].replace(to_replace=\"landrover\",value=\"land rover\",inplace=True)\n",
    "df3['manufacturer'].replace(to_replace=\"rover\",value=\"land rover\",inplace=True)\n",
    "df3=df3.drop_duplicates()"
   ]
  },
  {
   "cell_type": "code",
   "execution_count": null,
   "metadata": {},
   "outputs": [],
   "source": [
    "# Now let's compare 'mercedes' and 'mercedes-benz' with 'mercedesbenz'.\n",
    "df3[df3['manufacturer']=='mercedes']"
   ]
  },
  {
   "cell_type": "code",
   "execution_count": null,
   "metadata": {},
   "outputs": [],
   "source": [
    "df3[df3['manufacturer']=='mercedes-benz']"
   ]
  },
  {
   "cell_type": "code",
   "execution_count": null,
   "metadata": {},
   "outputs": [],
   "source": [
    "df3[df3['manufacturer']=='mercedesbenz']"
   ]
  },
  {
   "cell_type": "code",
   "execution_count": null,
   "metadata": {},
   "outputs": [],
   "source": [
    "# Although they have many kinds of 'make', their 'make' share many identical 'make' such as cclass, eclass, etc.\n",
    "# Let's replace 'mercedes' and 'mercedesbenz' with 'mercedes-benz'.\n",
    "\n",
    "df3['manufacturer'].replace(to_replace=\"mercedes\",value=\"mercedes-benz\",inplace=True)\n",
    "df3['manufacturer'].replace(to_replace=\"mercedesbenz\",value=\"mercedes-benz\",inplace=True)\n",
    "df3=df3.drop_duplicates()"
   ]
  },
  {
   "cell_type": "code",
   "execution_count": null,
   "metadata": {},
   "outputs": [],
   "source": [
    "# Now let's compare 'volkswagen' with 'vw'.\n",
    "df3[df3['manufacturer']=='volkswagen']"
   ]
  },
  {
   "cell_type": "code",
   "execution_count": null,
   "metadata": {},
   "outputs": [],
   "source": [
    "df3[df3['manufacturer']=='vw']"
   ]
  },
  {
   "cell_type": "code",
   "execution_count": null,
   "metadata": {},
   "outputs": [],
   "source": [
    "# Although they have many kinds of 'make', their 'make' share many identical 'make' such as jetta, beetle, etc.\n",
    "# Let's replace 'vw' with 'mercedes-benz'.\n",
    "\n",
    "df3['manufacturer'].replace(to_replace=\"vw\",value=\"volkswagen\",inplace=True)\n",
    "df3=df3.drop_duplicates()"
   ]
  },
  {
   "cell_type": "code",
   "execution_count": null,
   "metadata": {
    "scrolled": true
   },
   "outputs": [],
   "source": [
    "# Let's make a new df for 'manufacturer' per 'make' for normalization.\n",
    "\n",
    "df3_manu=df3[['make','manufacturer']]\n",
    "df3_manu=df3_manu.drop_duplicates()\n"
   ]
  },
  {
   "cell_type": "code",
   "execution_count": null,
   "metadata": {
    "scrolled": true
   },
   "outputs": [],
   "source": [
    "df3_manu=df3_manu.drop(df3_manu[df3_manu['manufacturer']=='UNKNOWN'].index)\n",
    "df3_manu=df3_manu.drop_duplicates()\n",
    "df3_manu.sort_values('make',ascending = True, inplace=True)\n",
    "df3_manu['make'].value_counts()\n",
    "df3_manu.manufacturer.value_counts()"
   ]
  },
  {
   "cell_type": "code",
   "execution_count": null,
   "metadata": {
    "scrolled": true
   },
   "outputs": [],
   "source": [
    "df3_manu.make.value_counts()"
   ]
  },
  {
   "cell_type": "code",
   "execution_count": null,
   "metadata": {
    "scrolled": true
   },
   "outputs": [],
   "source": [
    "# In order to normalize 'manufacturer', let's look into 'make' which have multiple counts.\n",
    "\n",
    "df3_manu['manufacturer'][df3_manu['make']=='#NAME?'].value_counts()"
   ]
  },
  {
   "cell_type": "code",
   "execution_count": null,
   "metadata": {
    "scrolled": true
   },
   "outputs": [],
   "source": [
    "# As seen above, there are no multiple counts per 'manufacturer'.\n",
    "# So let's drop '#NAME?' from df3_manu.\n",
    "\n",
    "df3_manu=df3_manu.drop(df3_manu[df3_manu['make']=='#NAME?'].index)\n",
    "df3_manu.make.value_counts()"
   ]
  },
  {
   "cell_type": "code",
   "execution_count": null,
   "metadata": {
    "scrolled": true
   },
   "outputs": [],
   "source": [
    "df3_manu.sort_values('make',ascending = True, inplace=True)\n",
    "df3_manu"
   ]
  },
  {
   "cell_type": "code",
   "execution_count": null,
   "metadata": {
    "scrolled": true
   },
   "outputs": [],
   "source": [
    "# Likewise, let's drop all 'make' values with multiple counts in df3_manu.\n",
    "\n",
    "df3_manu=df3_manu.drop_duplicates(subset='make', keep='first')\n",
    "df3_manu.make.value_counts()"
   ]
  },
  {
   "cell_type": "code",
   "execution_count": null,
   "metadata": {},
   "outputs": [],
   "source": [
    "df3"
   ]
  },
  {
   "cell_type": "code",
   "execution_count": null,
   "metadata": {},
   "outputs": [],
   "source": [
    "# Now let's merge df3 and df3_manu for normalizing 'manufacturer'.\n",
    "df3 = df3.drop(columns=['manufacturer'])\n",
    "df3= pd.merge(df3, df3_manu, on='make', how='left')\n",
    "df3"
   ]
  },
  {
   "cell_type": "code",
   "execution_count": null,
   "metadata": {},
   "outputs": [],
   "source": []
  },
  {
   "cell_type": "code",
   "execution_count": null,
   "metadata": {},
   "outputs": [],
   "source": [
    "# Let's reorganize 'type' of cars.\n",
    "df3.type.value_counts()"
   ]
  },
  {
   "cell_type": "code",
   "execution_count": null,
   "metadata": {
    "scrolled": true
   },
   "outputs": [],
   "source": [
    "df3_type=df3[['make','type']]\n",
    "df3_type=df3_type.drop_duplicates()\n",
    "df3_type=df3_type.drop(df3_type[df3_type['type'].isnull()].index)\n",
    "df3_type=df3_type.drop(df3_type[df3_type['make']=='UNKNOWN'].index)\n",
    "df3_type"
   ]
  },
  {
   "cell_type": "code",
   "execution_count": null,
   "metadata": {
    "scrolled": true
   },
   "outputs": [],
   "source": [
    "df3_type.make.value_counts()"
   ]
  },
  {
   "cell_type": "code",
   "execution_count": null,
   "metadata": {
    "scrolled": true
   },
   "outputs": [],
   "source": [
    "# Let's get rid of duplicates of 'make' values in df3_type.\n",
    "df3_type.sort_values('make',ascending = True, inplace=True)\n",
    "df3_type=df3_type.drop_duplicates(subset='make', keep='first')\n",
    "df3_type.make.value_counts()"
   ]
  },
  {
   "cell_type": "code",
   "execution_count": null,
   "metadata": {},
   "outputs": [],
   "source": [
    "# Now let's merge df3 and df3_manu for normalizing 'type'.\n",
    "df3 = df3.drop(columns=['type'])\n",
    "df3= pd.merge(df3, df3_type, on='make', how='left')\n",
    "df3"
   ]
  },
  {
   "cell_type": "code",
   "execution_count": null,
   "metadata": {},
   "outputs": [],
   "source": [
    "# null 'type' value can be ignored:1%\n",
    "\n",
    "df3['type'].isnull().sum()/len(df3)"
   ]
  },
  {
   "cell_type": "code",
   "execution_count": null,
   "metadata": {},
   "outputs": [],
   "source": [
    "# Deleting null value of 'fuel' in df3.\n",
    "\n",
    "df3=df3.drop(df3[df3['type'].isnull()].index)"
   ]
  },
  {
   "cell_type": "code",
   "execution_count": null,
   "metadata": {},
   "outputs": [],
   "source": [
    "# Now let's take a look into 'transmission'.\n",
    "\n",
    "df3.transmission.value_counts()"
   ]
  },
  {
   "cell_type": "code",
   "execution_count": null,
   "metadata": {},
   "outputs": [],
   "source": [
    "len(df3[df3.transmission.isnull()])/len(df3)"
   ]
  },
  {
   "cell_type": "code",
   "execution_count": null,
   "metadata": {
    "scrolled": true
   },
   "outputs": [],
   "source": [
    "# It is better to drop null 'transmission' in df3 because it occupies only 0.4%\n",
    "df3=df3.drop(df3[df3['transmission'].isnull()].index)\n",
    "len(df3[df3.transmission.isnull()])/len(df3)"
   ]
  },
  {
   "cell_type": "code",
   "execution_count": null,
   "metadata": {},
   "outputs": [],
   "source": [
    "(df3.isnull().sum()/len(df3)).sort_values(ascending = False)"
   ]
  },
  {
   "cell_type": "code",
   "execution_count": null,
   "metadata": {},
   "outputs": [],
   "source": [
    "# It i better drop 'density', 'area','population' in that they occupies 97%.\n",
    "\n",
    "df3=df3.drop(columns=['density','area','population'])"
   ]
  },
  {
   "cell_type": "code",
   "execution_count": null,
   "metadata": {},
   "outputs": [],
   "source": [
    "df3.columns"
   ]
  },
  {
   "cell_type": "code",
   "execution_count": null,
   "metadata": {},
   "outputs": [],
   "source": [
    "# Let's look into 'paint_color'.\n",
    "df3.paint_color.value_counts()"
   ]
  },
  {
   "cell_type": "code",
   "execution_count": null,
   "metadata": {},
   "outputs": [],
   "source": [
    "# The most color 'white' only occupies 13% while null 'paint_color' occupies 40%.\n",
    "len(df3[df3['paint_color']=='white'])/len(df3)"
   ]
  },
  {
   "cell_type": "code",
   "execution_count": null,
   "metadata": {},
   "outputs": [],
   "source": [
    "# So it is better to drop 'paint_color' from df3.\n",
    "df3=df3.drop(columns=['paint_color'])\n",
    "df3.columns"
   ]
  },
  {
   "cell_type": "code",
   "execution_count": null,
   "metadata": {},
   "outputs": [],
   "source": [
    "# Let's look into 'cylinder'.\n",
    "df3.cylinders.value_counts()"
   ]
  },
  {
   "cell_type": "code",
   "execution_count": null,
   "metadata": {},
   "outputs": [],
   "source": [
    "# The most cylinder '6 cylinders' occupies 22% while null 'cylinder' occupies 38%.\n",
    "len(df3[df3['cylinders']=='6 cylinders'])/len(df3)"
   ]
  },
  {
   "cell_type": "code",
   "execution_count": null,
   "metadata": {},
   "outputs": [],
   "source": [
    "df3_cylinders=df3[['make','cylinders']]\n",
    "df3_cylinders=df3_cylinders.drop_duplicates()"
   ]
  },
  {
   "cell_type": "code",
   "execution_count": null,
   "metadata": {
    "scrolled": true
   },
   "outputs": [],
   "source": [
    "df3_cylinders=df3_cylinders.drop(df3_cylinders[df3_cylinders['cylinders'].isnull()].index)\n",
    "df3_cylinders=df3_cylinders.drop(df3_cylinders[df3_cylinders['make']=='UNKNOWN'].index)\n",
    "\n",
    "df3_cylinders.sort_values('make',ascending = True, inplace=True)\n",
    "df3_cylinders=df3_cylinders.drop_duplicates(subset='make', keep='first')\n",
    "\n",
    "df3_cylinders.make.value_counts()"
   ]
  },
  {
   "cell_type": "code",
   "execution_count": null,
   "metadata": {
    "scrolled": true
   },
   "outputs": [],
   "source": [
    "df3_cylinders"
   ]
  },
  {
   "cell_type": "code",
   "execution_count": null,
   "metadata": {
    "scrolled": true
   },
   "outputs": [],
   "source": [
    "df3= pd.merge(df3, df3_cylinders, on='make', how='left')\n",
    "df3"
   ]
  },
  {
   "cell_type": "code",
   "execution_count": null,
   "metadata": {
    "scrolled": true
   },
   "outputs": [],
   "source": [
    "# Let's fill null values in 'cylinder_x' with values from 'cylinder_y'\n",
    "\n",
    "df3['cylinders_x'].fillna(df3['cylinders_y'], inplace=True)\n",
    "        \n",
    "\n",
    "df3['cylinders_x']"
   ]
  },
  {
   "cell_type": "code",
   "execution_count": null,
   "metadata": {},
   "outputs": [],
   "source": [
    "df3=df3.drop(columns=['cylinders_y'])\n",
    "df3.rename(columns = {'cylinders_x':'cylinders'}, inplace=True)\n",
    "\n",
    "df3"
   ]
  },
  {
   "cell_type": "code",
   "execution_count": null,
   "metadata": {},
   "outputs": [],
   "source": [
    "# Let's get rid of null values in 'cylinders' of df3 in that null value of 'cylinders' occupies only 5%\n",
    "# The 5% can be ignorable\n",
    "\n",
    "df3['cylinders'].isnull().sum()/len(df3)"
   ]
  },
  {
   "cell_type": "code",
   "execution_count": null,
   "metadata": {},
   "outputs": [],
   "source": [
    "df3=df3.drop(df3[df3['cylinders'].isnull()].index)\n",
    "(df3.isnull().sum()/len(df3)).sort_values(ascending = False)"
   ]
  },
  {
   "cell_type": "code",
   "execution_count": null,
   "metadata": {
    "scrolled": true
   },
   "outputs": [],
   "source": [
    "# Let's take a look into 'fuel' in df3.\n",
    "df3_fuel=df3[['make','fuel']]\n",
    "df3_fuel=df3_fuel.drop_duplicates()\n",
    "df3_fuel=df3_fuel.drop(df3_fuel[df3_fuel['fuel'].isnull()].index)\n",
    "df3_fuel=df3_fuel.drop(df3_fuel[df3_fuel['make']=='UNKNOWN'].index)\n",
    "\n",
    "df3_fuel.sort_values('make',ascending = True, inplace=True)\n",
    "df3_fuel=df3_fuel.drop_duplicates(subset='make', keep='first')\n",
    "\n",
    "df3_fuel.make.value_counts()"
   ]
  },
  {
   "cell_type": "code",
   "execution_count": null,
   "metadata": {},
   "outputs": [],
   "source": [
    "df3= pd.merge(df3, df3_fuel, on='make', how='left')\n",
    "df3"
   ]
  },
  {
   "cell_type": "code",
   "execution_count": null,
   "metadata": {},
   "outputs": [],
   "source": [
    "# Let's fill null values in 'fuel_x' with values from 'fuel_y'.\n",
    "\n",
    "df3['fuel_x'].fillna(df3['fuel_y'], inplace=True)\n",
    "df3=df3.drop(columns=['fuel_y'])\n",
    "df3.rename(columns = {'fuel_x':'fuel'}, inplace=True)\n",
    "\n",
    "df3"
   ]
  },
  {
   "cell_type": "code",
   "execution_count": null,
   "metadata": {},
   "outputs": [],
   "source": [
    "# null 'fuel' value can be ignored:0.2%\n",
    "\n",
    "df3['fuel'].isnull().sum()/len(df3)"
   ]
  },
  {
   "cell_type": "code",
   "execution_count": null,
   "metadata": {},
   "outputs": [],
   "source": [
    "# Deleting null value of 'fuel' in df3.\n",
    "\n",
    "df3=df3.drop(df3[df3['fuel'].isnull()].index)\n",
    "(df3.isnull().sum()/len(df3)).sort_values(ascending = False)"
   ]
  },
  {
   "cell_type": "code",
   "execution_count": null,
   "metadata": {
    "scrolled": true
   },
   "outputs": [],
   "source": [
    "# Null value of 'manufacturer' still occupuies 6%.\n",
    "# In order to minimize this portion, it is needed to take a look into 'drive' information.\n",
    "# Once 'drive' information is normalized, null value of 'drive' will be dropped.\n",
    "\n",
    "df3_drive=df3[['make','drive']]\n",
    "df3_drive=df3_drive.drop_duplicates()\n",
    "df3_drive=df3_drive.drop(df3_drive[df3_drive['drive'].isnull()].index)\n",
    "df3_drive=df3_drive.drop(df3_drive[df3_drive['make'].isnull()].index)\n",
    "df3_drive=df3_drive.drop(df3_drive[df3_drive['make']=='UNKNOWN'].index)\n",
    "\n",
    "df3_drive.sort_values('make',ascending = True, inplace=True)\n",
    "df3_drive=df3_drive.drop_duplicates(subset='make', keep='first')\n",
    "\n",
    "df3_drive.make.value_counts()"
   ]
  },
  {
   "cell_type": "code",
   "execution_count": null,
   "metadata": {},
   "outputs": [],
   "source": [
    "df3= pd.merge(df3, df3_drive, on='make', how='left')\n",
    "df3"
   ]
  },
  {
   "cell_type": "code",
   "execution_count": null,
   "metadata": {
    "scrolled": true
   },
   "outputs": [],
   "source": [
    "# Let's fill null values in 'drive_x' with values from 'drive_y'.\n",
    "\n",
    "df3['drive_x'].fillna(df3['drive_y'], inplace=True)\n",
    "df3=df3.drop(columns=['drive_y'])\n",
    "df3.rename(columns = {'drive_x':'drive'}, inplace=True)\n",
    "\n",
    "df3"
   ]
  },
  {
   "cell_type": "code",
   "execution_count": null,
   "metadata": {},
   "outputs": [],
   "source": [
    "# null 'drive' value can be ignored:0.5%\n",
    "\n",
    "df3['drive'].isnull().sum()/len(df3)"
   ]
  },
  {
   "cell_type": "code",
   "execution_count": null,
   "metadata": {},
   "outputs": [],
   "source": [
    "# Dropping null value of 'drive' in df3.\n",
    "\n",
    "df3=df3.drop(df3[df3['drive'].isnull()].index)\n",
    "(df3.isnull().sum()/len(df3)).sort_values(ascending = False)"
   ]
  },
  {
   "cell_type": "code",
   "execution_count": null,
   "metadata": {},
   "outputs": [],
   "source": [
    "# Null value of 'manufacturer' still occupuies 6%.\n",
    "# In order to minimize this portion more, it is needed to take a look into 'odometer' information.\n",
    "# Once 'odometer' information is normalized, null value of 'odometer' will be dropped.\n",
    "\n",
    "df3_odo=df3[['make','odometer']]\n",
    "df3_odo=df3_odo.drop_duplicates()\n",
    "df3_odo=df3_odo.drop(df3_odo[df3_odo['odometer'].isnull()].index)\n",
    "df3_odo=df3_odo.drop(df3_odo[df3_odo['make'].isnull()].index)\n",
    "df3_odo=df3_odo.drop(df3_odo[df3_odo['make']=='UNKNOWN'].index)\n",
    "\n",
    "#df3_odo.groupby(['make','odometer']).mean()\n",
    "\n",
    "df3_odo=df3_odo.groupby(['make']).mean()"
   ]
  },
  {
   "cell_type": "code",
   "execution_count": null,
   "metadata": {
    "scrolled": true
   },
   "outputs": [],
   "source": [
    "df3_odo"
   ]
  },
  {
   "cell_type": "code",
   "execution_count": null,
   "metadata": {},
   "outputs": [],
   "source": [
    "df3= pd.merge(df3, df3_odo, on='make', how='left')\n",
    "df3"
   ]
  },
  {
   "cell_type": "code",
   "execution_count": null,
   "metadata": {},
   "outputs": [],
   "source": [
    "# Let's fill null values in 'odometer_x' with values from 'odometer_y'.\n",
    "\n",
    "df3['odometer_x'].fillna(df3['odometer_y'], inplace=True)\n",
    "df3=df3.drop(columns=['odometer_y'])\n",
    "df3.rename(columns = {'odometer_x':'odometer'}, inplace=True)\n",
    "\n",
    "df3"
   ]
  },
  {
   "cell_type": "code",
   "execution_count": null,
   "metadata": {},
   "outputs": [],
   "source": [
    "# null 'odometer' value can be ignored:1%\n",
    "\n",
    "df3['odometer'].isnull().sum()/len(df3)"
   ]
  },
  {
   "cell_type": "code",
   "execution_count": null,
   "metadata": {},
   "outputs": [],
   "source": [
    "# Dropping null value of 'odometer' in df3.\n",
    "\n",
    "df3=df3.drop(df3[df3['odometer'].isnull()].index)\n",
    "(df3.isnull().sum()/len(df3)).sort_values(ascending = False)"
   ]
  },
  {
   "cell_type": "code",
   "execution_count": null,
   "metadata": {},
   "outputs": [],
   "source": [
    "# Now null value of 'manfacturer' reached below 5%.\n",
    "# You can drop the null value of 'manufacturer' in df3.\n",
    "df3=df3.drop(df3[df3['manufacturer'].isnull()].index)"
   ]
  },
  {
   "cell_type": "code",
   "execution_count": null,
   "metadata": {},
   "outputs": [],
   "source": []
  },
  {
   "cell_type": "code",
   "execution_count": null,
   "metadata": {},
   "outputs": [],
   "source": []
  },
  {
   "cell_type": "code",
   "execution_count": null,
   "metadata": {},
   "outputs": [],
   "source": []
  },
  {
   "cell_type": "code",
   "execution_count": null,
   "metadata": {},
   "outputs": [],
   "source": [
    "(df3.isnull().sum()/len(df3)).sort_values(ascending = False)"
   ]
  },
  {
   "cell_type": "code",
   "execution_count": null,
   "metadata": {},
   "outputs": [],
   "source": []
  },
  {
   "cell_type": "markdown",
   "metadata": {},
   "source": [
    "# EDA & VDA"
   ]
  },
  {
   "cell_type": "code",
   "execution_count": null,
   "metadata": {},
   "outputs": [],
   "source": [
    "import matplotlib.pyplot as plt\n",
    "import seaborn as sns\n",
    "%matplotlib inline"
   ]
  },
  {
   "cell_type": "code",
   "execution_count": null,
   "metadata": {},
   "outputs": [],
   "source": [
    "df3.describe()"
   ]
  },
  {
   "cell_type": "code",
   "execution_count": null,
   "metadata": {},
   "outputs": [],
   "source": [
    "df3=df3.fillna(0)\n",
    "\n",
    "#sns.heatmap(df3,xticklabels=False, yticklabels=False)"
   ]
  },
  {
   "cell_type": "code",
   "execution_count": null,
   "metadata": {},
   "outputs": [],
   "source": [
    "# In order to make a heat map, it is needed to convert such columns' values as 'condition', 'cylinder', 'fuel' into numerical values.\n",
    "\n",
    "# So, let's look into their values by using value_counts.\n",
    "\n",
    "df3.drive.value_counts()"
   ]
  },
  {
   "cell_type": "code",
   "execution_count": null,
   "metadata": {},
   "outputs": [],
   "source": [
    "df3[df3['drive']==0]"
   ]
  },
  {
   "cell_type": "code",
   "execution_count": null,
   "metadata": {},
   "outputs": [],
   "source": []
  },
  {
   "cell_type": "code",
   "execution_count": null,
   "metadata": {},
   "outputs": [],
   "source": []
  },
  {
   "cell_type": "code",
   "execution_count": null,
   "metadata": {},
   "outputs": [],
   "source": []
  },
  {
   "cell_type": "code",
   "execution_count": null,
   "metadata": {
    "scrolled": true
   },
   "outputs": [],
   "source": [
    "# Let's change df2[df2['make'] == 'model'] into 'UNKNOWN'.\n",
    "\n",
    "#df2['make'].replace(to_replace=\"model\",value=\"UNKNOWN\",inplace=True)\n",
    "#df2['make']=df2['make'].fillna(\"UNKNOWN\")\n",
    "#df2['make'].value_counts()"
   ]
  },
  {
   "cell_type": "code",
   "execution_count": null,
   "metadata": {},
   "outputs": [],
   "source": []
  },
  {
   "cell_type": "code",
   "execution_count": null,
   "metadata": {},
   "outputs": [],
   "source": []
  },
  {
   "cell_type": "code",
   "execution_count": null,
   "metadata": {},
   "outputs": [],
   "source": []
  },
  {
   "cell_type": "code",
   "execution_count": null,
   "metadata": {},
   "outputs": [],
   "source": []
  },
  {
   "cell_type": "code",
   "execution_count": null,
   "metadata": {},
   "outputs": [],
   "source": [
    "# Now let's  categorize "
   ]
  },
  {
   "cell_type": "code",
   "execution_count": null,
   "metadata": {
    "scrolled": true
   },
   "outputs": [],
   "source": [
    "# Let's look into (df3['manufacturer'] == 'UNKNOWN') whose 'make' is not 'UNKNOWN'.\n",
    "\n",
    "#df3.loc[(df3['manufacturer'] == 'UNKNOWN') & (df3['make'] != 'UNKNOWN'),:]"
   ]
  },
  {
   "cell_type": "code",
   "execution_count": null,
   "metadata": {
    "scrolled": true
   },
   "outputs": [],
   "source": [
    "#df_make= df3[['manufacturer','make']].drop_duplicates()\n",
    "#df_make.sort_values(by='make', ascending=True)"
   ]
  },
  {
   "cell_type": "code",
   "execution_count": null,
   "metadata": {
    "scrolled": true
   },
   "outputs": [],
   "source": [
    "# Let's get rid of 'UNKNOWN' of df_make from the dataset\n",
    "\n",
    "#df_make=df_make[df_make['manufacturer']!='UNKNOWN']\n",
    "#df_make"
   ]
  },
  {
   "cell_type": "code",
   "execution_count": null,
   "metadata": {},
   "outputs": [],
   "source": [
    "# As long as value of 'make' is identifiable, its 'manufacturer' can be identified.\n",
    "# Now let's replace 'UNKNOWN' of df3 with manufacturer's values of df_make.\n",
    "\n",
    "#df3['manufacturer_']=np.where((df3.\n",
    "\n",
    "#while True:\n",
    "#    if df3['manufacturer'] == 'UNKNOWN':\n",
    "#        if df3['make'].replace"
   ]
  },
  {
   "cell_type": "code",
   "execution_count": null,
   "metadata": {},
   "outputs": [],
   "source": []
  },
  {
   "cell_type": "code",
   "execution_count": null,
   "metadata": {
    "scrolled": true
   },
   "outputs": [],
   "source": [
    "# Let's drop df2.manufacturer & df2.make whose values are UNKNOWN at the same time.\n",
    "\n",
    "#df2 = df2[(df2['manufacturer'] != 'UNKNOWN') & (df2['make'] != 'UNKNOWN')]\n",
    "#df2"
   ]
  },
  {
   "cell_type": "code",
   "execution_count": null,
   "metadata": {},
   "outputs": [],
   "source": [
    "#df2[df2.manufacturer == \"UNKNOWN\"]"
   ]
  },
  {
   "cell_type": "code",
   "execution_count": null,
   "metadata": {},
   "outputs": [],
   "source": [
    "#df2[df2.make == \"UNKNOWN\"]"
   ]
  },
  {
   "cell_type": "code",
   "execution_count": null,
   "metadata": {
    "scrolled": true
   },
   "outputs": [],
   "source": [
    "#df_zip.state_name.value_counts()"
   ]
  },
  {
   "cell_type": "code",
   "execution_count": null,
   "metadata": {
    "scrolled": true
   },
   "outputs": [],
   "source": [
    "#df_zip.county_fips.value_counts()"
   ]
  },
  {
   "cell_type": "code",
   "execution_count": null,
   "metadata": {
    "scrolled": true
   },
   "outputs": [],
   "source": [
    "#df_zip.county_name.value_counts()"
   ]
  },
  {
   "cell_type": "code",
   "execution_count": null,
   "metadata": {
    "scrolled": true
   },
   "outputs": [],
   "source": [
    "#df_zip.population.value_counts()"
   ]
  },
  {
   "cell_type": "code",
   "execution_count": null,
   "metadata": {
    "scrolled": true
   },
   "outputs": [],
   "source": [
    "#df_zip.zip.value_counts()"
   ]
  },
  {
   "cell_type": "code",
   "execution_count": null,
   "metadata": {
    "scrolled": true
   },
   "outputs": [],
   "source": [
    "#df_zip.density.value_counts()"
   ]
  },
  {
   "cell_type": "code",
   "execution_count": null,
   "metadata": {},
   "outputs": [],
   "source": [
    "# From my initial assumption, I thought that 'county_fips' coincide with 'county_name' or 'city'.\n",
    "\n",
    "# If it were right, 'county_name's value_counts' outcome should have been the same as one of 'county_fips'.\n",
    "\n",
    "# But their outcomes look different.\n",
    "\n",
    "# Upon looking into the above value_counts(), I had another assumption that the more lines of Length from any columns than\n",
    "# 'count_fips' generate unnecessary multiple rows.\n",
    "\n",
    "# There are only two columns whose numbers of lengths are smaller than one of 'county_fips': 'county_name' and 'state_name'\n",
    "\n",
    "# So, I am trying to normalize all columns' values on a basis of 'county_fips' in 'df_zip'."
   ]
  },
  {
   "cell_type": "code",
   "execution_count": null,
   "metadata": {},
   "outputs": [],
   "source": [
    "#df3 = df_zip[['county_fips','county_name','state_name']]"
   ]
  },
  {
   "cell_type": "code",
   "execution_count": null,
   "metadata": {
    "scrolled": true
   },
   "outputs": [],
   "source": [
    "#df3"
   ]
  },
  {
   "cell_type": "code",
   "execution_count": null,
   "metadata": {
    "scrolled": true
   },
   "outputs": [],
   "source": [
    "# As seen above, there are multiple duplicates on 'county_fips', and so it is needed to drop duplicates.\n",
    "\n",
    "#df3.drop_duplicates(keep=False,inplace=True)\n",
    "#df3"
   ]
  },
  {
   "cell_type": "code",
   "execution_count": null,
   "metadata": {},
   "outputs": [],
   "source": [
    "#df['county_fips'].tail()"
   ]
  },
  {
   "cell_type": "code",
   "execution_count": null,
   "metadata": {},
   "outputs": [],
   "source": [
    "#df4.describe()"
   ]
  },
  {
   "cell_type": "code",
   "execution_count": null,
   "metadata": {},
   "outputs": [],
   "source": [
    "#df4.columns"
   ]
  },
  {
   "cell_type": "code",
   "execution_count": null,
   "metadata": {},
   "outputs": [],
   "source": [
    "#df4.fillna(\"UNKNOWN\",inplace=True)"
   ]
  },
  {
   "cell_type": "code",
   "execution_count": null,
   "metadata": {
    "scrolled": false
   },
   "outputs": [],
   "source": [
    "#df4['manufacturer'].value_counts()"
   ]
  },
  {
   "cell_type": "code",
   "execution_count": null,
   "metadata": {},
   "outputs": [],
   "source": [
    "#df4[df4.manufacturer == \"UNKNOWN\"]"
   ]
  },
  {
   "cell_type": "code",
   "execution_count": null,
   "metadata": {
    "scrolled": true
   },
   "outputs": [],
   "source": [
    "#df4['make'].value_counts()"
   ]
  },
  {
   "cell_type": "code",
   "execution_count": null,
   "metadata": {},
   "outputs": [],
   "source": [
    "#df4[df4.make == \"model\"]"
   ]
  },
  {
   "cell_type": "code",
   "execution_count": null,
   "metadata": {
    "scrolled": true
   },
   "outputs": [],
   "source": [
    "#df5.county_name.value_counts()"
   ]
  },
  {
   "cell_type": "code",
   "execution_count": null,
   "metadata": {},
   "outputs": [],
   "source": []
  },
  {
   "cell_type": "code",
   "execution_count": null,
   "metadata": {},
   "outputs": [],
   "source": []
  },
  {
   "cell_type": "code",
   "execution_count": null,
   "metadata": {},
   "outputs": [],
   "source": []
  },
  {
   "cell_type": "code",
   "execution_count": null,
   "metadata": {},
   "outputs": [],
   "source": []
  },
  {
   "cell_type": "code",
   "execution_count": null,
   "metadata": {},
   "outputs": [],
   "source": []
  },
  {
   "cell_type": "code",
   "execution_count": null,
   "metadata": {},
   "outputs": [],
   "source": []
  },
  {
   "cell_type": "code",
   "execution_count": null,
   "metadata": {},
   "outputs": [],
   "source": []
  },
  {
   "cell_type": "code",
   "execution_count": null,
   "metadata": {},
   "outputs": [],
   "source": [
    "#df.loc[:,['size','cylinder','make','fuel','year','title_status']]"
   ]
  },
  {
   "cell_type": "code",
   "execution_count": null,
   "metadata": {},
   "outputs": [],
   "source": []
  },
  {
   "cell_type": "code",
   "execution_count": null,
   "metadata": {},
   "outputs": [],
   "source": [
    "#df.loc[:,['title_status','transmission','vin','drive','size','type']].head()"
   ]
  },
  {
   "cell_type": "code",
   "execution_count": null,
   "metadata": {},
   "outputs": [],
   "source": []
  }
 ],
 "metadata": {
  "kernelspec": {
   "display_name": "Python 3",
   "language": "python",
   "name": "python3"
  },
  "language_info": {
   "codemirror_mode": {
    "name": "ipython",
    "version": 3
   },
   "file_extension": ".py",
   "mimetype": "text/x-python",
   "name": "python",
   "nbconvert_exporter": "python",
   "pygments_lexer": "ipython3",
   "version": "3.7.7"
  }
 },
 "nbformat": 4,
 "nbformat_minor": 2
}
