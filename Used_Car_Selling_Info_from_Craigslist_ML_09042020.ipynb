{
 "cells": [
  {
   "cell_type": "markdown",
   "metadata": {},
   "source": [
    "Read the normalized df."
   ]
  },
  {
   "cell_type": "code",
   "execution_count": 1,
   "metadata": {},
   "outputs": [
    {
     "data": {
      "text/html": [
       "<div>\n",
       "<style scoped>\n",
       "    .dataframe tbody tr th:only-of-type {\n",
       "        vertical-align: middle;\n",
       "    }\n",
       "\n",
       "    .dataframe tbody tr th {\n",
       "        vertical-align: top;\n",
       "    }\n",
       "\n",
       "    .dataframe thead th {\n",
       "        text-align: right;\n",
       "    }\n",
       "</style>\n",
       "<table border=\"1\" class=\"dataframe\">\n",
       "  <thead>\n",
       "    <tr style=\"text-align: right;\">\n",
       "      <th></th>\n",
       "      <th>Unnamed: 0</th>\n",
       "      <th>price</th>\n",
       "      <th>year</th>\n",
       "      <th>manufacturer</th>\n",
       "      <th>make</th>\n",
       "      <th>cylinders</th>\n",
       "      <th>fuel</th>\n",
       "      <th>odometer</th>\n",
       "      <th>title_status</th>\n",
       "      <th>transmission</th>\n",
       "      <th>drive</th>\n",
       "      <th>size</th>\n",
       "      <th>type</th>\n",
       "      <th>weather</th>\n",
       "      <th>city</th>\n",
       "      <th>state</th>\n",
       "      <th>county</th>\n",
       "      <th>VClass</th>\n",
       "      <th>youSaveSpend</th>\n",
       "      <th>usage_yr</th>\n",
       "    </tr>\n",
       "  </thead>\n",
       "  <tbody>\n",
       "    <tr>\n",
       "      <th>0</th>\n",
       "      <td>0</td>\n",
       "      <td>11900</td>\n",
       "      <td>2010</td>\n",
       "      <td>dodge</td>\n",
       "      <td>challenger se</td>\n",
       "      <td>6</td>\n",
       "      <td>gas</td>\n",
       "      <td>43600</td>\n",
       "      <td>clean</td>\n",
       "      <td>automatic</td>\n",
       "      <td>rwd</td>\n",
       "      <td>full-size</td>\n",
       "      <td>coupe</td>\n",
       "      <td>38.0</td>\n",
       "      <td>Harrisburg</td>\n",
       "      <td>South Dakota</td>\n",
       "      <td>Lincoln County</td>\n",
       "      <td>midsize cars</td>\n",
       "      <td>-5750.0</td>\n",
       "      <td>9</td>\n",
       "    </tr>\n",
       "    <tr>\n",
       "      <th>1</th>\n",
       "      <td>1</td>\n",
       "      <td>2800</td>\n",
       "      <td>2004</td>\n",
       "      <td>ford</td>\n",
       "      <td>taurus</td>\n",
       "      <td>6</td>\n",
       "      <td>gas</td>\n",
       "      <td>168591</td>\n",
       "      <td>clean</td>\n",
       "      <td>automatic</td>\n",
       "      <td>fwd</td>\n",
       "      <td>full-size</td>\n",
       "      <td>sedan</td>\n",
       "      <td>47.0</td>\n",
       "      <td>Sanborn</td>\n",
       "      <td>Iowa</td>\n",
       "      <td>O'Brien County</td>\n",
       "      <td>large cars</td>\n",
       "      <td>-2250.0</td>\n",
       "      <td>15</td>\n",
       "    </tr>\n",
       "    <tr>\n",
       "      <th>2</th>\n",
       "      <td>2</td>\n",
       "      <td>2800</td>\n",
       "      <td>2004</td>\n",
       "      <td>ford</td>\n",
       "      <td>taurus</td>\n",
       "      <td>6</td>\n",
       "      <td>gas</td>\n",
       "      <td>168591</td>\n",
       "      <td>clean</td>\n",
       "      <td>automatic</td>\n",
       "      <td>fwd</td>\n",
       "      <td>full-size</td>\n",
       "      <td>sedan</td>\n",
       "      <td>47.0</td>\n",
       "      <td>Sanborn</td>\n",
       "      <td>Iowa</td>\n",
       "      <td>O'Brien County</td>\n",
       "      <td>large cars</td>\n",
       "      <td>-2250.0</td>\n",
       "      <td>15</td>\n",
       "    </tr>\n",
       "    <tr>\n",
       "      <th>3</th>\n",
       "      <td>3</td>\n",
       "      <td>400</td>\n",
       "      <td>2001</td>\n",
       "      <td>pontiac</td>\n",
       "      <td>2001 grand prix</td>\n",
       "      <td>0</td>\n",
       "      <td>gas</td>\n",
       "      <td>217000</td>\n",
       "      <td>clean</td>\n",
       "      <td>automatic</td>\n",
       "      <td>fwd</td>\n",
       "      <td>full-size</td>\n",
       "      <td>sedan</td>\n",
       "      <td>47.0</td>\n",
       "      <td>Algona</td>\n",
       "      <td>Iowa</td>\n",
       "      <td>Kossuth County</td>\n",
       "      <td>midsize cars</td>\n",
       "      <td>-1750.0</td>\n",
       "      <td>18</td>\n",
       "    </tr>\n",
       "    <tr>\n",
       "      <th>4</th>\n",
       "      <td>4</td>\n",
       "      <td>9900</td>\n",
       "      <td>2007</td>\n",
       "      <td>gmc</td>\n",
       "      <td>yukon</td>\n",
       "      <td>8</td>\n",
       "      <td>gas</td>\n",
       "      <td>169000</td>\n",
       "      <td>clean</td>\n",
       "      <td>automatic</td>\n",
       "      <td>4wd</td>\n",
       "      <td>full-size</td>\n",
       "      <td>suv</td>\n",
       "      <td>38.0</td>\n",
       "      <td>Lennox</td>\n",
       "      <td>South Dakota</td>\n",
       "      <td>Lincoln County</td>\n",
       "      <td>standard pickup trucks 4wd</td>\n",
       "      <td>-5000.0</td>\n",
       "      <td>12</td>\n",
       "    </tr>\n",
       "  </tbody>\n",
       "</table>\n",
       "</div>"
      ],
      "text/plain": [
       "   Unnamed: 0  price  year manufacturer             make  cylinders fuel  \\\n",
       "0           0  11900  2010        dodge    challenger se          6  gas   \n",
       "1           1   2800  2004         ford           taurus          6  gas   \n",
       "2           2   2800  2004         ford           taurus          6  gas   \n",
       "3           3    400  2001      pontiac  2001 grand prix          0  gas   \n",
       "4           4   9900  2007          gmc            yukon          8  gas   \n",
       "\n",
       "   odometer title_status transmission drive       size   type  weather  \\\n",
       "0     43600        clean    automatic   rwd  full-size  coupe     38.0   \n",
       "1    168591        clean    automatic   fwd  full-size  sedan     47.0   \n",
       "2    168591        clean    automatic   fwd  full-size  sedan     47.0   \n",
       "3    217000        clean    automatic   fwd  full-size  sedan     47.0   \n",
       "4    169000        clean    automatic   4wd  full-size    suv     38.0   \n",
       "\n",
       "         city         state          county                      VClass  \\\n",
       "0  Harrisburg  South Dakota  Lincoln County                midsize cars   \n",
       "1     Sanborn          Iowa  O'Brien County                  large cars   \n",
       "2     Sanborn          Iowa  O'Brien County                  large cars   \n",
       "3      Algona          Iowa  Kossuth County                midsize cars   \n",
       "4      Lennox  South Dakota  Lincoln County  standard pickup trucks 4wd   \n",
       "\n",
       "   youSaveSpend  usage_yr  \n",
       "0       -5750.0         9  \n",
       "1       -2250.0        15  \n",
       "2       -2250.0        15  \n",
       "3       -1750.0        18  \n",
       "4       -5000.0        12  "
      ]
     },
     "execution_count": 1,
     "metadata": {},
     "output_type": "execute_result"
    }
   ],
   "source": [
    "import pandas as pd\n",
    "import numpy as np\n",
    "\n",
    "pd.set_option('display.max_rows', 500)\n",
    "pd.set_option('display.max_columns', 500)\n",
    "\n",
    "train_data = pd.read_csv(\"UsedCarSellingInfoCraigslistNormalized.csv\")\n",
    "train_data.head()"
   ]
  },
  {
   "cell_type": "code",
   "execution_count": 2,
   "metadata": {},
   "outputs": [
    {
     "data": {
      "text/html": [
       "<div>\n",
       "<style scoped>\n",
       "    .dataframe tbody tr th:only-of-type {\n",
       "        vertical-align: middle;\n",
       "    }\n",
       "\n",
       "    .dataframe tbody tr th {\n",
       "        vertical-align: top;\n",
       "    }\n",
       "\n",
       "    .dataframe thead th {\n",
       "        text-align: right;\n",
       "    }\n",
       "</style>\n",
       "<table border=\"1\" class=\"dataframe\">\n",
       "  <thead>\n",
       "    <tr style=\"text-align: right;\">\n",
       "      <th></th>\n",
       "      <th>Unnamed: 0</th>\n",
       "      <th>price</th>\n",
       "      <th>year</th>\n",
       "      <th>manufacturer</th>\n",
       "      <th>make</th>\n",
       "      <th>cylinders</th>\n",
       "      <th>fuel</th>\n",
       "      <th>odometer</th>\n",
       "      <th>title_status</th>\n",
       "      <th>transmission</th>\n",
       "      <th>drive</th>\n",
       "      <th>size</th>\n",
       "      <th>type</th>\n",
       "      <th>weather</th>\n",
       "      <th>city</th>\n",
       "      <th>state</th>\n",
       "      <th>county</th>\n",
       "      <th>VClass</th>\n",
       "      <th>youSaveSpend</th>\n",
       "      <th>usage_yr</th>\n",
       "    </tr>\n",
       "  </thead>\n",
       "  <tbody>\n",
       "    <tr>\n",
       "      <th>546023</th>\n",
       "      <td>546525</td>\n",
       "      <td>25786</td>\n",
       "      <td>2014</td>\n",
       "      <td>chevrolet</td>\n",
       "      <td>silverado 1500</td>\n",
       "      <td>8</td>\n",
       "      <td>gas</td>\n",
       "      <td>55286</td>\n",
       "      <td>clean</td>\n",
       "      <td>automatic</td>\n",
       "      <td>4wd</td>\n",
       "      <td>full-size</td>\n",
       "      <td>pickup</td>\n",
       "      <td>52.0</td>\n",
       "      <td>Harrisonville</td>\n",
       "      <td>Missouri</td>\n",
       "      <td>Cass County</td>\n",
       "      <td>standard pickup trucks 4wd</td>\n",
       "      <td>-5000.0</td>\n",
       "      <td>5</td>\n",
       "    </tr>\n",
       "    <tr>\n",
       "      <th>546024</th>\n",
       "      <td>546526</td>\n",
       "      <td>28991</td>\n",
       "      <td>2015</td>\n",
       "      <td>ford</td>\n",
       "      <td>f150 supercrew cab</td>\n",
       "      <td>6</td>\n",
       "      <td>gas</td>\n",
       "      <td>105123</td>\n",
       "      <td>clean</td>\n",
       "      <td>automatic</td>\n",
       "      <td>4wd</td>\n",
       "      <td>full-size</td>\n",
       "      <td>pickup</td>\n",
       "      <td>52.0</td>\n",
       "      <td>Harrisonville</td>\n",
       "      <td>Missouri</td>\n",
       "      <td>Cass County</td>\n",
       "      <td>compact cars</td>\n",
       "      <td>-1750.0</td>\n",
       "      <td>4</td>\n",
       "    </tr>\n",
       "    <tr>\n",
       "      <th>546025</th>\n",
       "      <td>546527</td>\n",
       "      <td>25995</td>\n",
       "      <td>2015</td>\n",
       "      <td>ford</td>\n",
       "      <td>f150 supercrew cab</td>\n",
       "      <td>8</td>\n",
       "      <td>other</td>\n",
       "      <td>108142</td>\n",
       "      <td>clean</td>\n",
       "      <td>automatic</td>\n",
       "      <td>4wd</td>\n",
       "      <td>full-size</td>\n",
       "      <td>pickup</td>\n",
       "      <td>52.0</td>\n",
       "      <td>Harrisonville</td>\n",
       "      <td>Missouri</td>\n",
       "      <td>Cass County</td>\n",
       "      <td>compact cars</td>\n",
       "      <td>-1750.0</td>\n",
       "      <td>4</td>\n",
       "    </tr>\n",
       "    <tr>\n",
       "      <th>546026</th>\n",
       "      <td>546528</td>\n",
       "      <td>40000</td>\n",
       "      <td>2006</td>\n",
       "      <td>ford</td>\n",
       "      <td>sterling</td>\n",
       "      <td>0</td>\n",
       "      <td>diesel</td>\n",
       "      <td>350000</td>\n",
       "      <td>clean</td>\n",
       "      <td>manual</td>\n",
       "      <td>fwd</td>\n",
       "      <td>full-size</td>\n",
       "      <td>truck</td>\n",
       "      <td>52.0</td>\n",
       "      <td>Bel-Nor</td>\n",
       "      <td>Missouri</td>\n",
       "      <td>Saint Louis County</td>\n",
       "      <td>midsize cars</td>\n",
       "      <td>-1500.0</td>\n",
       "      <td>13</td>\n",
       "    </tr>\n",
       "    <tr>\n",
       "      <th>546027</th>\n",
       "      <td>546529</td>\n",
       "      <td>6995</td>\n",
       "      <td>2007</td>\n",
       "      <td>ram</td>\n",
       "      <td>1500</td>\n",
       "      <td>0</td>\n",
       "      <td>gas</td>\n",
       "      <td>197936</td>\n",
       "      <td>clean</td>\n",
       "      <td>manual</td>\n",
       "      <td>4wd</td>\n",
       "      <td>full-size</td>\n",
       "      <td>truck</td>\n",
       "      <td>52.0</td>\n",
       "      <td>Moscow Mills</td>\n",
       "      <td>Missouri</td>\n",
       "      <td>Lincoln County</td>\n",
       "      <td>standard pickup trucks 4wd</td>\n",
       "      <td>-5000.0</td>\n",
       "      <td>12</td>\n",
       "    </tr>\n",
       "  </tbody>\n",
       "</table>\n",
       "</div>"
      ],
      "text/plain": [
       "        Unnamed: 0  price  year manufacturer                make  cylinders  \\\n",
       "546023      546525  25786  2014    chevrolet      silverado 1500          8   \n",
       "546024      546526  28991  2015         ford  f150 supercrew cab          6   \n",
       "546025      546527  25995  2015         ford  f150 supercrew cab          8   \n",
       "546026      546528  40000  2006         ford            sterling          0   \n",
       "546027      546529   6995  2007          ram                1500          0   \n",
       "\n",
       "          fuel  odometer title_status transmission drive       size    type  \\\n",
       "546023     gas     55286        clean    automatic   4wd  full-size  pickup   \n",
       "546024     gas    105123        clean    automatic   4wd  full-size  pickup   \n",
       "546025   other    108142        clean    automatic   4wd  full-size  pickup   \n",
       "546026  diesel    350000        clean       manual   fwd  full-size   truck   \n",
       "546027     gas    197936        clean       manual   4wd  full-size   truck   \n",
       "\n",
       "        weather           city     state              county  \\\n",
       "546023     52.0  Harrisonville  Missouri         Cass County   \n",
       "546024     52.0  Harrisonville  Missouri         Cass County   \n",
       "546025     52.0  Harrisonville  Missouri         Cass County   \n",
       "546026     52.0        Bel-Nor  Missouri  Saint Louis County   \n",
       "546027     52.0   Moscow Mills  Missouri      Lincoln County   \n",
       "\n",
       "                            VClass  youSaveSpend  usage_yr  \n",
       "546023  standard pickup trucks 4wd       -5000.0         5  \n",
       "546024                compact cars       -1750.0         4  \n",
       "546025                compact cars       -1750.0         4  \n",
       "546026                midsize cars       -1500.0        13  \n",
       "546027  standard pickup trucks 4wd       -5000.0        12  "
      ]
     },
     "execution_count": 2,
     "metadata": {},
     "output_type": "execute_result"
    }
   ],
   "source": [
    "train_data.tail()"
   ]
  },
  {
   "cell_type": "markdown",
   "metadata": {},
   "source": [
    "Let's drop 'Unnamed: 0'."
   ]
  },
  {
   "cell_type": "code",
   "execution_count": 3,
   "metadata": {},
   "outputs": [
    {
     "data": {
      "text/plain": [
       "Index(['price', 'year', 'manufacturer', 'make', 'cylinders', 'fuel',\n",
       "       'odometer', 'title_status', 'transmission', 'drive', 'size', 'type',\n",
       "       'weather', 'city', 'state', 'county', 'VClass', 'youSaveSpend',\n",
       "       'usage_yr'],\n",
       "      dtype='object')"
      ]
     },
     "execution_count": 3,
     "metadata": {},
     "output_type": "execute_result"
    }
   ],
   "source": [
    "train_data.drop(['Unnamed: 0'], axis = 1, inplace=True)\n",
    "train_data.columns"
   ]
  },
  {
   "cell_type": "code",
   "execution_count": 4,
   "metadata": {},
   "outputs": [
    {
     "name": "stdout",
     "output_type": "stream",
     "text": [
      "<class 'pandas.core.frame.DataFrame'>\n",
      "RangeIndex: 546028 entries, 0 to 546027\n",
      "Data columns (total 19 columns):\n",
      " #   Column        Non-Null Count   Dtype  \n",
      "---  ------        --------------   -----  \n",
      " 0   price         546028 non-null  int64  \n",
      " 1   year          546028 non-null  int64  \n",
      " 2   manufacturer  546028 non-null  object \n",
      " 3   make          546027 non-null  object \n",
      " 4   cylinders     546028 non-null  int64  \n",
      " 5   fuel          546028 non-null  object \n",
      " 6   odometer      546028 non-null  int64  \n",
      " 7   title_status  546028 non-null  object \n",
      " 8   transmission  546028 non-null  object \n",
      " 9   drive         546028 non-null  object \n",
      " 10  size          546028 non-null  object \n",
      " 11  type          546028 non-null  object \n",
      " 12  weather       546028 non-null  float64\n",
      " 13  city          546028 non-null  object \n",
      " 14  state         545990 non-null  object \n",
      " 15  county        522298 non-null  object \n",
      " 16  VClass        546028 non-null  object \n",
      " 17  youSaveSpend  546028 non-null  float64\n",
      " 18  usage_yr      546028 non-null  int64  \n",
      "dtypes: float64(2), int64(5), object(12)\n",
      "memory usage: 79.2+ MB\n"
     ]
    }
   ],
   "source": [
    "train_data.info()"
   ]
  },
  {
   "cell_type": "markdown",
   "metadata": {},
   "source": [
    "Let's add Region and Division by 'state'."
   ]
  },
  {
   "cell_type": "code",
   "execution_count": 5,
   "metadata": {},
   "outputs": [
    {
     "data": {
      "text/html": [
       "<div>\n",
       "<style scoped>\n",
       "    .dataframe tbody tr th:only-of-type {\n",
       "        vertical-align: middle;\n",
       "    }\n",
       "\n",
       "    .dataframe tbody tr th {\n",
       "        vertical-align: top;\n",
       "    }\n",
       "\n",
       "    .dataframe thead th {\n",
       "        text-align: right;\n",
       "    }\n",
       "</style>\n",
       "<table border=\"1\" class=\"dataframe\">\n",
       "  <thead>\n",
       "    <tr style=\"text-align: right;\">\n",
       "      <th></th>\n",
       "      <th>State</th>\n",
       "      <th>State Code</th>\n",
       "      <th>Region</th>\n",
       "      <th>Division</th>\n",
       "    </tr>\n",
       "  </thead>\n",
       "  <tbody>\n",
       "    <tr>\n",
       "      <th>0</th>\n",
       "      <td>Alaska</td>\n",
       "      <td>AK</td>\n",
       "      <td>West</td>\n",
       "      <td>Pacific</td>\n",
       "    </tr>\n",
       "    <tr>\n",
       "      <th>1</th>\n",
       "      <td>Alabama</td>\n",
       "      <td>AL</td>\n",
       "      <td>South</td>\n",
       "      <td>East South Central</td>\n",
       "    </tr>\n",
       "    <tr>\n",
       "      <th>2</th>\n",
       "      <td>Arkansas</td>\n",
       "      <td>AR</td>\n",
       "      <td>South</td>\n",
       "      <td>West South Central</td>\n",
       "    </tr>\n",
       "    <tr>\n",
       "      <th>3</th>\n",
       "      <td>Arizona</td>\n",
       "      <td>AZ</td>\n",
       "      <td>West</td>\n",
       "      <td>Mountain</td>\n",
       "    </tr>\n",
       "    <tr>\n",
       "      <th>4</th>\n",
       "      <td>California</td>\n",
       "      <td>CA</td>\n",
       "      <td>West</td>\n",
       "      <td>Pacific</td>\n",
       "    </tr>\n",
       "  </tbody>\n",
       "</table>\n",
       "</div>"
      ],
      "text/plain": [
       "        State State Code Region            Division\n",
       "0      Alaska         AK   West             Pacific\n",
       "1     Alabama         AL  South  East South Central\n",
       "2    Arkansas         AR  South  West South Central\n",
       "3     Arizona         AZ   West            Mountain\n",
       "4  California         CA   West             Pacific"
      ]
     },
     "execution_count": 5,
     "metadata": {},
     "output_type": "execute_result"
    }
   ],
   "source": [
    "region_df= pd.read_csv(\"datasets_31195_39789_states.csv\")\n",
    "region_df.head()"
   ]
  },
  {
   "cell_type": "markdown",
   "metadata": {},
   "source": [
    "Let's change the column as lowercase."
   ]
  },
  {
   "cell_type": "code",
   "execution_count": 6,
   "metadata": {},
   "outputs": [],
   "source": [
    "region_df = region_df.rename(columns = {\"State\":\"state\", \"State Code\":\"state_code\",\n",
    "                                        \"Region\":\"region\",\"Division\":\"division\"}) "
   ]
  },
  {
   "cell_type": "markdown",
   "metadata": {},
   "source": [
    "Let's do a left-join by 'state'."
   ]
  },
  {
   "cell_type": "code",
   "execution_count": 7,
   "metadata": {},
   "outputs": [
    {
     "data": {
      "text/html": [
       "<div>\n",
       "<style scoped>\n",
       "    .dataframe tbody tr th:only-of-type {\n",
       "        vertical-align: middle;\n",
       "    }\n",
       "\n",
       "    .dataframe tbody tr th {\n",
       "        vertical-align: top;\n",
       "    }\n",
       "\n",
       "    .dataframe thead th {\n",
       "        text-align: right;\n",
       "    }\n",
       "</style>\n",
       "<table border=\"1\" class=\"dataframe\">\n",
       "  <thead>\n",
       "    <tr style=\"text-align: right;\">\n",
       "      <th></th>\n",
       "      <th>price</th>\n",
       "      <th>year</th>\n",
       "      <th>manufacturer</th>\n",
       "      <th>make</th>\n",
       "      <th>cylinders</th>\n",
       "      <th>fuel</th>\n",
       "      <th>odometer</th>\n",
       "      <th>title_status</th>\n",
       "      <th>transmission</th>\n",
       "      <th>drive</th>\n",
       "      <th>size</th>\n",
       "      <th>type</th>\n",
       "      <th>weather</th>\n",
       "      <th>city</th>\n",
       "      <th>state</th>\n",
       "      <th>county</th>\n",
       "      <th>VClass</th>\n",
       "      <th>youSaveSpend</th>\n",
       "      <th>usage_yr</th>\n",
       "      <th>state_code</th>\n",
       "      <th>region</th>\n",
       "      <th>division</th>\n",
       "    </tr>\n",
       "  </thead>\n",
       "  <tbody>\n",
       "    <tr>\n",
       "      <th>0</th>\n",
       "      <td>11900</td>\n",
       "      <td>2010</td>\n",
       "      <td>dodge</td>\n",
       "      <td>challenger se</td>\n",
       "      <td>6</td>\n",
       "      <td>gas</td>\n",
       "      <td>43600</td>\n",
       "      <td>clean</td>\n",
       "      <td>automatic</td>\n",
       "      <td>rwd</td>\n",
       "      <td>full-size</td>\n",
       "      <td>coupe</td>\n",
       "      <td>38.0</td>\n",
       "      <td>Harrisburg</td>\n",
       "      <td>South Dakota</td>\n",
       "      <td>Lincoln County</td>\n",
       "      <td>midsize cars</td>\n",
       "      <td>-5750.0</td>\n",
       "      <td>9</td>\n",
       "      <td>SD</td>\n",
       "      <td>Midwest</td>\n",
       "      <td>West North Central</td>\n",
       "    </tr>\n",
       "    <tr>\n",
       "      <th>1</th>\n",
       "      <td>2800</td>\n",
       "      <td>2004</td>\n",
       "      <td>ford</td>\n",
       "      <td>taurus</td>\n",
       "      <td>6</td>\n",
       "      <td>gas</td>\n",
       "      <td>168591</td>\n",
       "      <td>clean</td>\n",
       "      <td>automatic</td>\n",
       "      <td>fwd</td>\n",
       "      <td>full-size</td>\n",
       "      <td>sedan</td>\n",
       "      <td>47.0</td>\n",
       "      <td>Sanborn</td>\n",
       "      <td>Iowa</td>\n",
       "      <td>O'Brien County</td>\n",
       "      <td>large cars</td>\n",
       "      <td>-2250.0</td>\n",
       "      <td>15</td>\n",
       "      <td>IA</td>\n",
       "      <td>Midwest</td>\n",
       "      <td>West North Central</td>\n",
       "    </tr>\n",
       "    <tr>\n",
       "      <th>2</th>\n",
       "      <td>2800</td>\n",
       "      <td>2004</td>\n",
       "      <td>ford</td>\n",
       "      <td>taurus</td>\n",
       "      <td>6</td>\n",
       "      <td>gas</td>\n",
       "      <td>168591</td>\n",
       "      <td>clean</td>\n",
       "      <td>automatic</td>\n",
       "      <td>fwd</td>\n",
       "      <td>full-size</td>\n",
       "      <td>sedan</td>\n",
       "      <td>47.0</td>\n",
       "      <td>Sanborn</td>\n",
       "      <td>Iowa</td>\n",
       "      <td>O'Brien County</td>\n",
       "      <td>large cars</td>\n",
       "      <td>-2250.0</td>\n",
       "      <td>15</td>\n",
       "      <td>IA</td>\n",
       "      <td>Midwest</td>\n",
       "      <td>West North Central</td>\n",
       "    </tr>\n",
       "    <tr>\n",
       "      <th>3</th>\n",
       "      <td>400</td>\n",
       "      <td>2001</td>\n",
       "      <td>pontiac</td>\n",
       "      <td>2001 grand prix</td>\n",
       "      <td>0</td>\n",
       "      <td>gas</td>\n",
       "      <td>217000</td>\n",
       "      <td>clean</td>\n",
       "      <td>automatic</td>\n",
       "      <td>fwd</td>\n",
       "      <td>full-size</td>\n",
       "      <td>sedan</td>\n",
       "      <td>47.0</td>\n",
       "      <td>Algona</td>\n",
       "      <td>Iowa</td>\n",
       "      <td>Kossuth County</td>\n",
       "      <td>midsize cars</td>\n",
       "      <td>-1750.0</td>\n",
       "      <td>18</td>\n",
       "      <td>IA</td>\n",
       "      <td>Midwest</td>\n",
       "      <td>West North Central</td>\n",
       "    </tr>\n",
       "    <tr>\n",
       "      <th>4</th>\n",
       "      <td>9900</td>\n",
       "      <td>2007</td>\n",
       "      <td>gmc</td>\n",
       "      <td>yukon</td>\n",
       "      <td>8</td>\n",
       "      <td>gas</td>\n",
       "      <td>169000</td>\n",
       "      <td>clean</td>\n",
       "      <td>automatic</td>\n",
       "      <td>4wd</td>\n",
       "      <td>full-size</td>\n",
       "      <td>suv</td>\n",
       "      <td>38.0</td>\n",
       "      <td>Lennox</td>\n",
       "      <td>South Dakota</td>\n",
       "      <td>Lincoln County</td>\n",
       "      <td>standard pickup trucks 4wd</td>\n",
       "      <td>-5000.0</td>\n",
       "      <td>12</td>\n",
       "      <td>SD</td>\n",
       "      <td>Midwest</td>\n",
       "      <td>West North Central</td>\n",
       "    </tr>\n",
       "  </tbody>\n",
       "</table>\n",
       "</div>"
      ],
      "text/plain": [
       "   price  year manufacturer             make  cylinders fuel  odometer  \\\n",
       "0  11900  2010        dodge    challenger se          6  gas     43600   \n",
       "1   2800  2004         ford           taurus          6  gas    168591   \n",
       "2   2800  2004         ford           taurus          6  gas    168591   \n",
       "3    400  2001      pontiac  2001 grand prix          0  gas    217000   \n",
       "4   9900  2007          gmc            yukon          8  gas    169000   \n",
       "\n",
       "  title_status transmission drive       size   type  weather        city  \\\n",
       "0        clean    automatic   rwd  full-size  coupe     38.0  Harrisburg   \n",
       "1        clean    automatic   fwd  full-size  sedan     47.0     Sanborn   \n",
       "2        clean    automatic   fwd  full-size  sedan     47.0     Sanborn   \n",
       "3        clean    automatic   fwd  full-size  sedan     47.0      Algona   \n",
       "4        clean    automatic   4wd  full-size    suv     38.0      Lennox   \n",
       "\n",
       "          state          county                      VClass  youSaveSpend  \\\n",
       "0  South Dakota  Lincoln County                midsize cars       -5750.0   \n",
       "1          Iowa  O'Brien County                  large cars       -2250.0   \n",
       "2          Iowa  O'Brien County                  large cars       -2250.0   \n",
       "3          Iowa  Kossuth County                midsize cars       -1750.0   \n",
       "4  South Dakota  Lincoln County  standard pickup trucks 4wd       -5000.0   \n",
       "\n",
       "   usage_yr state_code   region            division  \n",
       "0         9         SD  Midwest  West North Central  \n",
       "1        15         IA  Midwest  West North Central  \n",
       "2        15         IA  Midwest  West North Central  \n",
       "3        18         IA  Midwest  West North Central  \n",
       "4        12         SD  Midwest  West North Central  "
      ]
     },
     "execution_count": 7,
     "metadata": {},
     "output_type": "execute_result"
    }
   ],
   "source": [
    "train_data = train_data.merge(region_df, how='left', on=['state'])\n",
    "train_data.head()"
   ]
  },
  {
   "cell_type": "markdown",
   "metadata": {},
   "source": [
    "Let's check 'state' which null values in 'region' or 'division'."
   ]
  },
  {
   "cell_type": "code",
   "execution_count": 8,
   "metadata": {
    "scrolled": true
   },
   "outputs": [
    {
     "data": {
      "text/plain": [
       "British Columbia                    23506\n",
       "Ontario                              2466\n",
       "Alberta                               354\n",
       "Baja California                       132\n",
       "Manitoba                               88\n",
       "Washington, D.C.                       78\n",
       "Saskatchewan                           33\n",
       "Nova Scotia                            32\n",
       "Guerrero                               31\n",
       "Tristan da Cunha                       31\n",
       "Galapagos                              24\n",
       "Nunavut                                22\n",
       "Oaxaca                                 17\n",
       "Jalisco                                16\n",
       "Yukon                                  14\n",
       "Quebec                                 13\n",
       "Yucatan                                13\n",
       "Saint Helena                           10\n",
       "Sonora                                  9\n",
       "New Brunswick                           9\n",
       "Newfoundland and Labrador               9\n",
       "Valparaiso                              9\n",
       "Tamaulipas                              7\n",
       "Eastern Cape                            6\n",
       "Nuevo Leon                              5\n",
       "Veracruz                                4\n",
       "Amazonas                                4\n",
       "Rio de Janeiro                          4\n",
       "Chihuahua                               4\n",
       "Western                                 4\n",
       "Chiapas                                 3\n",
       "Magallanes                              3\n",
       "Lagunes                                 3\n",
       "Santa Cruz                              3\n",
       "Chatham Islands                         3\n",
       "Montserrado                             3\n",
       "Baja California Sur                     3\n",
       "Zakarpattia                             3\n",
       "Misiones                                3\n",
       "Western Cape                            2\n",
       "La Libertad                             2\n",
       "Coahuila                                2\n",
       "Volta                                   2\n",
       "Hamilton city                           2\n",
       "Grand Bassa                             2\n",
       "Coquimbo                                2\n",
       "Zacatecas                               2\n",
       "Bonaire                                 2\n",
       "Tierra del Fuego                        2\n",
       "Michoacan                               2\n",
       "Galicia                                 2\n",
       "Los Lagos                               2\n",
       "Adrar                                   2\n",
       "Queretaro                               1\n",
       "Santa Catarina                          1\n",
       "Guyane                                  1\n",
       "Kasai-Oriental                          1\n",
       "Guanajuato                              1\n",
       "Gao                                     1\n",
       "Riau                                    1\n",
       "Colima                                  1\n",
       "North Abaco                             1\n",
       "Brava                                   1\n",
       "Andalusia                               1\n",
       "Antofagasta                             1\n",
       "Sha`biyat al Jabal al Gharbi            1\n",
       "Laayoune-Boujdour-Sakia El Hamra        1\n",
       "Auvergne                                1\n",
       "Guatemala                               1\n",
       "Qaasuitsup                              1\n",
       "Wilaya de Naama                         1\n",
       "Sud-Comoe                               1\n",
       "Goias                                   1\n",
       "Loreto                                  1\n",
       "Rogaland                                1\n",
       "Lower Saxony                            1\n",
       "Luanda                                  1\n",
       "Ninawa                                  1\n",
       "Retalhuleu                              1\n",
       "England                                 1\n",
       "Azores                                  1\n",
       "San Juan                                1\n",
       "Yobe                                    1\n",
       "Villa Clara                             1\n",
       "Iles Marquises                          1\n",
       "Ghardaia                                1\n",
       "Mersin                                  1\n",
       "Northwest Territories                   1\n",
       "Valencia                                1\n",
       "Quintana Roo                            1\n",
       "Minas Gerais                            1\n",
       "Southern Peninsula                      1\n",
       "Acklins                                 1\n",
       "Volyn                                   1\n",
       "Northern                                1\n",
       "Central Serbia                          1\n",
       "Vaesterbotten                           1\n",
       "Barbuda                                 1\n",
       "Tlaxcala                                1\n",
       "Erongo                                  1\n",
       "Santa Ana                               1\n",
       "Esmeraldas                              1\n",
       "Tillaberi                               1\n",
       "Bay Islands                             1\n",
       "Ica                                     1\n",
       "Sermersooq                              1\n",
       "Sha`biyat al Wahat                      1\n",
       "Central Abaco                           1\n",
       "Nzerekore                               1\n",
       "Mono                                    1\n",
       "San Cristobal                           1\n",
       "Huambo                                  1\n",
       "Puebla                                  1\n",
       "Dix-Huit Montagnes                      1\n",
       "Name: state, dtype: int64"
      ]
     },
     "execution_count": 8,
     "metadata": {},
     "output_type": "execute_result"
    }
   ],
   "source": [
    "train_data['state'][train_data['region'].isnull()].value_counts()"
   ]
  },
  {
   "cell_type": "markdown",
   "metadata": {},
   "source": [
    "Let's fill in 'Washington, D.C.''s 'state_code' as 'DC', 'region' as 'South', and 'division' as 'South Atlantic'."
   ]
  },
  {
   "cell_type": "code",
   "execution_count": 9,
   "metadata": {
    "scrolled": true
   },
   "outputs": [
    {
     "data": {
      "text/html": [
       "<div>\n",
       "<style scoped>\n",
       "    .dataframe tbody tr th:only-of-type {\n",
       "        vertical-align: middle;\n",
       "    }\n",
       "\n",
       "    .dataframe tbody tr th {\n",
       "        vertical-align: top;\n",
       "    }\n",
       "\n",
       "    .dataframe thead th {\n",
       "        text-align: right;\n",
       "    }\n",
       "</style>\n",
       "<table border=\"1\" class=\"dataframe\">\n",
       "  <thead>\n",
       "    <tr style=\"text-align: right;\">\n",
       "      <th></th>\n",
       "      <th>state</th>\n",
       "      <th>state_code</th>\n",
       "      <th>region</th>\n",
       "      <th>division</th>\n",
       "    </tr>\n",
       "  </thead>\n",
       "  <tbody>\n",
       "    <tr>\n",
       "      <th>7</th>\n",
       "      <td>District of Columbia</td>\n",
       "      <td>DC</td>\n",
       "      <td>South</td>\n",
       "      <td>South Atlantic</td>\n",
       "    </tr>\n",
       "  </tbody>\n",
       "</table>\n",
       "</div>"
      ],
      "text/plain": [
       "                  state state_code region        division\n",
       "7  District of Columbia         DC  South  South Atlantic"
      ]
     },
     "execution_count": 9,
     "metadata": {},
     "output_type": "execute_result"
    }
   ],
   "source": [
    "region_df[region_df['state_code']=='DC']"
   ]
  },
  {
   "cell_type": "code",
   "execution_count": 10,
   "metadata": {},
   "outputs": [],
   "source": [
    "# US\n",
    "train_data.loc[train_data['state'] == 'Washington, D.C.','state_code']='DC'   \n",
    "train_data.loc[train_data['state'] == 'Washington, D.C.','region']='South'   \n",
    "train_data.loc[train_data['state'] == 'Washington, D.C.','division']='South Atlantic'   "
   ]
  },
  {
   "cell_type": "code",
   "execution_count": 11,
   "metadata": {
    "scrolled": false
   },
   "outputs": [
    {
     "data": {
      "text/plain": [
       "division        4.950296\n",
       "state_code      4.950296\n",
       "region          4.950296\n",
       "county          4.345931\n",
       "state           0.006959\n",
       "make            0.000183\n",
       "transmission    0.000000\n",
       "year            0.000000\n",
       "manufacturer    0.000000\n",
       "cylinders       0.000000\n",
       "fuel            0.000000\n",
       "odometer        0.000000\n",
       "title_status    0.000000\n",
       "size            0.000000\n",
       "drive           0.000000\n",
       "type            0.000000\n",
       "weather         0.000000\n",
       "city            0.000000\n",
       "VClass          0.000000\n",
       "youSaveSpend    0.000000\n",
       "usage_yr        0.000000\n",
       "price           0.000000\n",
       "dtype: float64"
      ]
     },
     "execution_count": 11,
     "metadata": {},
     "output_type": "execute_result"
    }
   ],
   "source": [
    "((train_data.isnull().sum()/len(train_data)).sort_values(ascending = False)*100).astype(float)"
   ]
  },
  {
   "cell_type": "markdown",
   "metadata": {},
   "source": [
    "Let's drop rows with null values.  I will concentrate of the US information only."
   ]
  },
  {
   "cell_type": "code",
   "execution_count": 12,
   "metadata": {},
   "outputs": [
    {
     "data": {
      "text/plain": [
       "county          0.020809\n",
       "division        0.000000\n",
       "drive           0.000000\n",
       "year            0.000000\n",
       "manufacturer    0.000000\n",
       "make            0.000000\n",
       "cylinders       0.000000\n",
       "fuel            0.000000\n",
       "odometer        0.000000\n",
       "title_status    0.000000\n",
       "transmission    0.000000\n",
       "size            0.000000\n",
       "region          0.000000\n",
       "type            0.000000\n",
       "weather         0.000000\n",
       "city            0.000000\n",
       "state           0.000000\n",
       "VClass          0.000000\n",
       "youSaveSpend    0.000000\n",
       "usage_yr        0.000000\n",
       "state_code      0.000000\n",
       "price           0.000000\n",
       "dtype: float64"
      ]
     },
     "execution_count": 12,
     "metadata": {},
     "output_type": "execute_result"
    }
   ],
   "source": [
    "train_data.drop(train_data[train_data['region'].isnull()].index, inplace=True)\n",
    "train_data.drop(train_data[train_data['make'].isnull()].index, inplace=True)\n",
    "((train_data.isnull().sum()/len(train_data)).sort_values(ascending = False)*100).astype(float)"
   ]
  },
  {
   "cell_type": "code",
   "execution_count": 13,
   "metadata": {},
   "outputs": [
    {
     "data": {
      "text/plain": [
       "Washington, D.C.    78\n",
       "New York            30\n",
       "Name: state, dtype: int64"
      ]
     },
     "execution_count": 13,
     "metadata": {},
     "output_type": "execute_result"
    }
   ],
   "source": [
    "train_data['state'][train_data['county'].isnull()].value_counts()"
   ]
  },
  {
   "cell_type": "code",
   "execution_count": 14,
   "metadata": {},
   "outputs": [
    {
     "data": {
      "text/plain": [
       "Series([], Name: county, dtype: int64)"
      ]
     },
     "execution_count": 14,
     "metadata": {},
     "output_type": "execute_result"
    }
   ],
   "source": [
    "train_data['county'][train_data['state_code']=='DC'].value_counts()"
   ]
  },
  {
   "cell_type": "code",
   "execution_count": 15,
   "metadata": {},
   "outputs": [
    {
     "data": {
      "text/plain": [
       "Bridgeport          285\n",
       "Rome                220\n",
       "Bensonhurst         148\n",
       "Utica               134\n",
       "Binghamton          125\n",
       "                   ... \n",
       "Centerport            1\n",
       "Caledonia             1\n",
       "Roslyn Estates        1\n",
       "Northwest Harbor      1\n",
       "Hillcrest             1\n",
       "Name: city, Length: 711, dtype: int64"
      ]
     },
     "execution_count": 15,
     "metadata": {},
     "output_type": "execute_result"
    }
   ],
   "source": [
    "train_data['city'][(train_data['county'].notnull())\n",
    "                   & (train_data['state']=='New York')].value_counts()"
   ]
  },
  {
   "cell_type": "code",
   "execution_count": 16,
   "metadata": {},
   "outputs": [
    {
     "data": {
      "text/plain": [
       "Series([], Name: county, dtype: int64)"
      ]
     },
     "execution_count": 16,
     "metadata": {},
     "output_type": "execute_result"
    }
   ],
   "source": [
    "train_data['county'][train_data['city']=='New York City'].value_counts()"
   ]
  },
  {
   "cell_type": "markdown",
   "metadata": {},
   "source": [
    "Let's drop 'county' in that 'city' and 'state' are enough location information."
   ]
  },
  {
   "cell_type": "code",
   "execution_count": 17,
   "metadata": {},
   "outputs": [],
   "source": [
    "train_data.drop(['county'], axis = 1, inplace=True)"
   ]
  },
  {
   "cell_type": "code",
   "execution_count": 18,
   "metadata": {},
   "outputs": [
    {
     "data": {
      "text/plain": [
       "sedan          167737\n",
       "suv            120526\n",
       "truck           68052\n",
       "pickup          47120\n",
       "coupe           35616\n",
       "hatchback       19525\n",
       "mini-van        14141\n",
       "convertible     12781\n",
       "wagon           12323\n",
       "van              9999\n",
       "other            8894\n",
       "offroad          1721\n",
       "bus               562\n",
       "Name: type, dtype: int64"
      ]
     },
     "execution_count": 18,
     "metadata": {},
     "output_type": "execute_result"
    }
   ],
   "source": [
    "train_data['type'].value_counts()"
   ]
  },
  {
   "cell_type": "code",
   "execution_count": 19,
   "metadata": {},
   "outputs": [
    {
     "data": {
      "text/plain": [
       "sport utility vehicle - 4wd           91891\n",
       "standard pickup trucks 4wd            90629\n",
       "midsize cars                          89452\n",
       "compact cars                          57707\n",
       "standard pickup trucks                53722\n",
       "large cars                            35100\n",
       "subcompact cars                       25825\n",
       "minivan - 2wd                         17328\n",
       "standard pickup trucks 2wd            14885\n",
       "small sport utility vehicle 4wd       11014\n",
       "two seaters                            7109\n",
       "small sport utility vehicle 2wd        6778\n",
       "small station wagons                   4779\n",
       "sport utility vehicle - 2wd            4534\n",
       "minicompact cars                       2584\n",
       "minivan - 4wd                          2384\n",
       "small pickup trucks 4wd                1373\n",
       "special purpose vehicle 2wd             886\n",
       "midsize station wagons                  294\n",
       "standard sport utility vehicle 4wd      293\n",
       "special purpose vehicles                200\n",
       "vans                                    101\n",
       "midsize-large station wagons             46\n",
       "special purpose vehicle 4wd              30\n",
       "standard sport utility vehicle 2wd       29\n",
       "small pickup trucks                      17\n",
       "vans, passenger type                      6\n",
       "small pickup trucks 2wd                   1\n",
       "Name: VClass, dtype: int64"
      ]
     },
     "execution_count": 19,
     "metadata": {},
     "output_type": "execute_result"
    }
   ],
   "source": [
    "train_data['VClass'].value_counts()"
   ]
  },
  {
   "cell_type": "markdown",
   "metadata": {},
   "source": [
    "Let's drop 'type', and instead 'VClass' can give more specific information of vehicles."
   ]
  },
  {
   "cell_type": "code",
   "execution_count": 20,
   "metadata": {},
   "outputs": [],
   "source": [
    "train_data.drop(['type'], axis = 1, inplace=True)"
   ]
  },
  {
   "cell_type": "code",
   "execution_count": 21,
   "metadata": {},
   "outputs": [
    {
     "name": "stdout",
     "output_type": "stream",
     "text": [
      "<class 'pandas.core.frame.DataFrame'>\n",
      "Int64Index: 518997 entries, 0 to 546027\n",
      "Data columns (total 20 columns):\n",
      " #   Column        Non-Null Count   Dtype  \n",
      "---  ------        --------------   -----  \n",
      " 0   price         518997 non-null  int64  \n",
      " 1   year          518997 non-null  int64  \n",
      " 2   manufacturer  518997 non-null  object \n",
      " 3   make          518997 non-null  object \n",
      " 4   cylinders     518997 non-null  int64  \n",
      " 5   fuel          518997 non-null  object \n",
      " 6   odometer      518997 non-null  int64  \n",
      " 7   title_status  518997 non-null  object \n",
      " 8   transmission  518997 non-null  object \n",
      " 9   drive         518997 non-null  object \n",
      " 10  size          518997 non-null  object \n",
      " 11  weather       518997 non-null  float64\n",
      " 12  city          518997 non-null  object \n",
      " 13  state         518997 non-null  object \n",
      " 14  VClass        518997 non-null  object \n",
      " 15  youSaveSpend  518997 non-null  float64\n",
      " 16  usage_yr      518997 non-null  int64  \n",
      " 17  state_code    518997 non-null  object \n",
      " 18  region        518997 non-null  object \n",
      " 19  division      518997 non-null  object \n",
      "dtypes: float64(2), int64(5), object(13)\n",
      "memory usage: 83.2+ MB\n"
     ]
    }
   ],
   "source": [
    "train_data.info()"
   ]
  },
  {
   "cell_type": "code",
   "execution_count": 22,
   "metadata": {},
   "outputs": [],
   "source": [
    "train_data['weather'] = train_data['weather'].astype(int)\n",
    "train_data['youSaveSpend'] = train_data['youSaveSpend'].astype(int)"
   ]
  },
  {
   "cell_type": "code",
   "execution_count": 23,
   "metadata": {},
   "outputs": [
    {
     "data": {
      "text/plain": [
       "sport utility vehicle - 4wd           91891\n",
       "standard pickup trucks 4wd            90629\n",
       "midsize cars                          89452\n",
       "compact cars                          57707\n",
       "standard pickup trucks                53722\n",
       "large cars                            35100\n",
       "subcompact cars                       25825\n",
       "minivan - 2wd                         17328\n",
       "standard pickup trucks 2wd            14885\n",
       "small sport utility vehicle 4wd       11014\n",
       "two seaters                            7109\n",
       "small sport utility vehicle 2wd        6778\n",
       "small station wagons                   4779\n",
       "sport utility vehicle - 2wd            4534\n",
       "minicompact cars                       2584\n",
       "minivan - 4wd                          2384\n",
       "small pickup trucks 4wd                1373\n",
       "special purpose vehicle 2wd             886\n",
       "midsize station wagons                  294\n",
       "standard sport utility vehicle 4wd      293\n",
       "special purpose vehicles                200\n",
       "vans                                    101\n",
       "midsize-large station wagons             46\n",
       "special purpose vehicle 4wd              30\n",
       "standard sport utility vehicle 2wd       29\n",
       "small pickup trucks                      17\n",
       "vans, passenger type                      6\n",
       "small pickup trucks 2wd                   1\n",
       "Name: VClass, dtype: int64"
      ]
     },
     "execution_count": 23,
     "metadata": {},
     "output_type": "execute_result"
    }
   ],
   "source": [
    "train_data['VClass'].value_counts()"
   ]
  },
  {
   "cell_type": "code",
   "execution_count": 24,
   "metadata": {
    "scrolled": true
   },
   "outputs": [
    {
     "data": {
      "text/plain": [
       "full-size      268301\n",
       "mid-size       168567\n",
       "compact         77399\n",
       "sub-compact      4730\n",
       "Name: size, dtype: int64"
      ]
     },
     "execution_count": 24,
     "metadata": {},
     "output_type": "execute_result"
    }
   ],
   "source": [
    "train_data['size'].value_counts()"
   ]
  },
  {
   "cell_type": "markdown",
   "metadata": {},
   "source": [
    "Let's drop 'size' because 'VClass' replace it."
   ]
  },
  {
   "cell_type": "code",
   "execution_count": 25,
   "metadata": {},
   "outputs": [],
   "source": [
    "train_data.drop(['size'], axis = 1, inplace=True)"
   ]
  },
  {
   "cell_type": "code",
   "execution_count": 26,
   "metadata": {},
   "outputs": [
    {
     "name": "stdout",
     "output_type": "stream",
     "text": [
      "<class 'pandas.core.frame.DataFrame'>\n",
      "Int64Index: 518997 entries, 0 to 546027\n",
      "Data columns (total 19 columns):\n",
      " #   Column        Non-Null Count   Dtype \n",
      "---  ------        --------------   ----- \n",
      " 0   price         518997 non-null  int64 \n",
      " 1   year          518997 non-null  int64 \n",
      " 2   manufacturer  518997 non-null  object\n",
      " 3   make          518997 non-null  object\n",
      " 4   cylinders     518997 non-null  int64 \n",
      " 5   fuel          518997 non-null  object\n",
      " 6   odometer      518997 non-null  int64 \n",
      " 7   title_status  518997 non-null  object\n",
      " 8   transmission  518997 non-null  object\n",
      " 9   drive         518997 non-null  object\n",
      " 10  weather       518997 non-null  int32 \n",
      " 11  city          518997 non-null  object\n",
      " 12  state         518997 non-null  object\n",
      " 13  VClass        518997 non-null  object\n",
      " 14  youSaveSpend  518997 non-null  int32 \n",
      " 15  usage_yr      518997 non-null  int64 \n",
      " 16  state_code    518997 non-null  object\n",
      " 17  region        518997 non-null  object\n",
      " 18  division      518997 non-null  object\n",
      "dtypes: int32(2), int64(5), object(12)\n",
      "memory usage: 75.2+ MB\n"
     ]
    }
   ],
   "source": [
    "train_data.info()"
   ]
  },
  {
   "cell_type": "markdown",
   "metadata": {},
   "source": [
    "Let's make the dataset lighter in order to run within a limited time constraint."
   ]
  },
  {
   "cell_type": "code",
   "execution_count": 27,
   "metadata": {},
   "outputs": [],
   "source": [
    "train_data.drop(['division'], axis = 1, inplace=True)\n",
    "train_data.drop(['state_code'], axis = 1, inplace=True)\n",
    "train_data.drop(['state'], axis = 1, inplace=True)\n",
    "train_data.drop(['city'], axis = 1, inplace=True)\n",
    "train_data.drop(['manufacturer'], axis = 1, inplace=True)\n",
    "train_data.drop(['make'], axis = 1, inplace=True)"
   ]
  },
  {
   "cell_type": "code",
   "execution_count": 28,
   "metadata": {},
   "outputs": [],
   "source": [
    "one_hot_encoded_training_predictors = pd.get_dummies(train_data, columns=['fuel','title_status','transmission','drive',\n",
    "                                                   'VClass','region'])"
   ]
  },
  {
   "cell_type": "code",
   "execution_count": 29,
   "metadata": {},
   "outputs": [],
   "source": [
    "target = one_hot_encoded_training_predictors['price'].values"
   ]
  },
  {
   "cell_type": "code",
   "execution_count": 30,
   "metadata": {},
   "outputs": [
    {
     "name": "stdout",
     "output_type": "stream",
     "text": [
      "Mean Absolute Error when Dropping Categoricals: 3242\n",
      "Mean Abslute Error with One-Hot Encoding: 3467\n"
     ]
    }
   ],
   "source": [
    "from sklearn.model_selection import cross_val_score\n",
    "from sklearn.ensemble import RandomForestRegressor\n",
    "\n",
    "def get_mae(X, y):\n",
    "    # multiple by -1 to make positive MAE score instead of neg value returned as sklearn convention\n",
    "    return -1 * cross_val_score(RandomForestRegressor(50), \n",
    "                                X, y, \n",
    "                                scoring = 'neg_mean_absolute_error').mean()\n",
    "\n",
    "predictors_without_categoricals = train_data.select_dtypes(exclude=['object'])\n",
    "\n",
    "mae_without_categoricals = get_mae(predictors_without_categoricals, target)\n",
    "\n",
    "mae_one_hot_encoded = get_mae(one_hot_encoded_training_predictors, target)\n",
    "\n",
    "print('Mean Absolute Error when Dropping Categoricals: ' + str(int(mae_without_categoricals)))\n",
    "print('Mean Abslute Error with One-Hot Encoding: ' + str(int(mae_one_hot_encoded)))"
   ]
  },
  {
   "cell_type": "code",
   "execution_count": null,
   "metadata": {},
   "outputs": [],
   "source": []
  },
  {
   "cell_type": "code",
   "execution_count": null,
   "metadata": {},
   "outputs": [],
   "source": []
  },
  {
   "cell_type": "code",
   "execution_count": null,
   "metadata": {},
   "outputs": [],
   "source": []
  },
  {
   "cell_type": "markdown",
   "metadata": {},
   "source": [
    "# k-Nearest Neighborhood Algorithm"
   ]
  },
  {
   "cell_type": "code",
   "execution_count": 32,
   "metadata": {},
   "outputs": [],
   "source": [
    "from sklearn import neighbors\n",
    "import matplotlib.pyplot as plt\n",
    "from matplotlib.colors import ListedColormap"
   ]
  },
  {
   "cell_type": "code",
   "execution_count": 33,
   "metadata": {},
   "outputs": [],
   "source": [
    "X = one_hot_encoded_training_predictors\n",
    "y = target"
   ]
  },
  {
   "cell_type": "code",
   "execution_count": 34,
   "metadata": {},
   "outputs": [
    {
     "data": {
      "text/plain": [
       "KNeighborsClassifier()"
      ]
     },
     "execution_count": 34,
     "metadata": {},
     "output_type": "execute_result"
    }
   ],
   "source": [
    "clf = neighbors.KNeighborsClassifier(5)\n",
    "clf.fit(X,y)"
   ]
  },
  {
   "cell_type": "code",
   "execution_count": 35,
   "metadata": {},
   "outputs": [],
   "source": [
    "y_pred=clf.predict(X)"
   ]
  },
  {
   "cell_type": "code",
   "execution_count": 36,
   "metadata": {},
   "outputs": [],
   "source": [
    "from sklearn.metrics import confusion_matrix"
   ]
  },
  {
   "cell_type": "code",
   "execution_count": 37,
   "metadata": {},
   "outputs": [
    {
     "data": {
      "text/plain": [
       "array([[2031,    0,    0, ...,    0,    0,    0],\n",
       "       [  30,    4,    0, ...,    0,    0,    0],\n",
       "       [  20,    1,    6, ...,    0,    0,    0],\n",
       "       ...,\n",
       "       [   0,    0,    0, ...,    0,    0,    0],\n",
       "       [   0,    0,    0, ...,    1,    0,    0],\n",
       "       [   0,    0,    0, ...,    1,    0,    0]], dtype=int64)"
      ]
     },
     "execution_count": 37,
     "metadata": {},
     "output_type": "execute_result"
    }
   ],
   "source": [
    "confusion_matrix(y,y_pred)"
   ]
  },
  {
   "cell_type": "markdown",
   "metadata": {},
   "source": [
    "Let's find optimal k value by using Cross-validation."
   ]
  },
  {
   "cell_type": "code",
   "execution_count": 38,
   "metadata": {},
   "outputs": [],
   "source": [
    "from sklearn.model_selection import cross_val_score"
   ]
  },
  {
   "cell_type": "code",
   "execution_count": null,
   "metadata": {
    "scrolled": false
   },
   "outputs": [
    {
     "name": "stderr",
     "output_type": "stream",
     "text": [
      "C:\\Users\\danie\\Anaconda\\lib\\site-packages\\sklearn\\model_selection\\_split.py:672: UserWarning: The least populated class in y has only 1 members, which is less than n_splits=10.\n",
      "  % (min_groups, self.n_splits)), UserWarning)\n",
      "C:\\Users\\danie\\Anaconda\\lib\\site-packages\\sklearn\\model_selection\\_split.py:672: UserWarning: The least populated class in y has only 1 members, which is less than n_splits=10.\n",
      "  % (min_groups, self.n_splits)), UserWarning)\n",
      "C:\\Users\\danie\\Anaconda\\lib\\site-packages\\sklearn\\model_selection\\_split.py:672: UserWarning: The least populated class in y has only 1 members, which is less than n_splits=10.\n",
      "  % (min_groups, self.n_splits)), UserWarning)\n",
      "C:\\Users\\danie\\Anaconda\\lib\\site-packages\\sklearn\\model_selection\\_split.py:672: UserWarning: The least populated class in y has only 1 members, which is less than n_splits=10.\n",
      "  % (min_groups, self.n_splits)), UserWarning)\n",
      "C:\\Users\\danie\\Anaconda\\lib\\site-packages\\sklearn\\model_selection\\_split.py:672: UserWarning: The least populated class in y has only 1 members, which is less than n_splits=10.\n",
      "  % (min_groups, self.n_splits)), UserWarning)\n",
      "C:\\Users\\danie\\Anaconda\\lib\\site-packages\\sklearn\\model_selection\\_split.py:672: UserWarning: The least populated class in y has only 1 members, which is less than n_splits=10.\n",
      "  % (min_groups, self.n_splits)), UserWarning)\n",
      "C:\\Users\\danie\\Anaconda\\lib\\site-packages\\sklearn\\model_selection\\_split.py:672: UserWarning: The least populated class in y has only 1 members, which is less than n_splits=10.\n",
      "  % (min_groups, self.n_splits)), UserWarning)\n",
      "C:\\Users\\danie\\Anaconda\\lib\\site-packages\\sklearn\\model_selection\\_split.py:672: UserWarning: The least populated class in y has only 1 members, which is less than n_splits=10.\n",
      "  % (min_groups, self.n_splits)), UserWarning)\n",
      "C:\\Users\\danie\\Anaconda\\lib\\site-packages\\sklearn\\model_selection\\_split.py:672: UserWarning: The least populated class in y has only 1 members, which is less than n_splits=10.\n",
      "  % (min_groups, self.n_splits)), UserWarning)\n",
      "C:\\Users\\danie\\Anaconda\\lib\\site-packages\\sklearn\\model_selection\\_split.py:672: UserWarning: The least populated class in y has only 1 members, which is less than n_splits=10.\n",
      "  % (min_groups, self.n_splits)), UserWarning)\n",
      "C:\\Users\\danie\\Anaconda\\lib\\site-packages\\sklearn\\model_selection\\_split.py:672: UserWarning: The least populated class in y has only 1 members, which is less than n_splits=10.\n",
      "  % (min_groups, self.n_splits)), UserWarning)\n",
      "C:\\Users\\danie\\Anaconda\\lib\\site-packages\\sklearn\\model_selection\\_split.py:672: UserWarning: The least populated class in y has only 1 members, which is less than n_splits=10.\n",
      "  % (min_groups, self.n_splits)), UserWarning)\n",
      "C:\\Users\\danie\\Anaconda\\lib\\site-packages\\sklearn\\model_selection\\_split.py:672: UserWarning: The least populated class in y has only 1 members, which is less than n_splits=10.\n",
      "  % (min_groups, self.n_splits)), UserWarning)\n",
      "C:\\Users\\danie\\Anaconda\\lib\\site-packages\\sklearn\\model_selection\\_split.py:672: UserWarning: The least populated class in y has only 1 members, which is less than n_splits=10.\n",
      "  % (min_groups, self.n_splits)), UserWarning)\n",
      "C:\\Users\\danie\\Anaconda\\lib\\site-packages\\sklearn\\model_selection\\_split.py:672: UserWarning: The least populated class in y has only 1 members, which is less than n_splits=10.\n",
      "  % (min_groups, self.n_splits)), UserWarning)\n",
      "C:\\Users\\danie\\Anaconda\\lib\\site-packages\\sklearn\\model_selection\\_split.py:672: UserWarning: The least populated class in y has only 1 members, which is less than n_splits=10.\n",
      "  % (min_groups, self.n_splits)), UserWarning)\n",
      "C:\\Users\\danie\\Anaconda\\lib\\site-packages\\sklearn\\model_selection\\_split.py:672: UserWarning: The least populated class in y has only 1 members, which is less than n_splits=10.\n",
      "  % (min_groups, self.n_splits)), UserWarning)\n",
      "C:\\Users\\danie\\Anaconda\\lib\\site-packages\\sklearn\\model_selection\\_split.py:672: UserWarning: The least populated class in y has only 1 members, which is less than n_splits=10.\n",
      "  % (min_groups, self.n_splits)), UserWarning)\n",
      "C:\\Users\\danie\\Anaconda\\lib\\site-packages\\sklearn\\model_selection\\_split.py:672: UserWarning: The least populated class in y has only 1 members, which is less than n_splits=10.\n",
      "  % (min_groups, self.n_splits)), UserWarning)\n",
      "C:\\Users\\danie\\Anaconda\\lib\\site-packages\\sklearn\\model_selection\\_split.py:672: UserWarning: The least populated class in y has only 1 members, which is less than n_splits=10.\n",
      "  % (min_groups, self.n_splits)), UserWarning)\n",
      "C:\\Users\\danie\\Anaconda\\lib\\site-packages\\sklearn\\model_selection\\_split.py:672: UserWarning: The least populated class in y has only 1 members, which is less than n_splits=10.\n",
      "  % (min_groups, self.n_splits)), UserWarning)\n",
      "C:\\Users\\danie\\Anaconda\\lib\\site-packages\\sklearn\\model_selection\\_split.py:672: UserWarning: The least populated class in y has only 1 members, which is less than n_splits=10.\n",
      "  % (min_groups, self.n_splits)), UserWarning)\n",
      "C:\\Users\\danie\\Anaconda\\lib\\site-packages\\sklearn\\model_selection\\_split.py:672: UserWarning: The least populated class in y has only 1 members, which is less than n_splits=10.\n",
      "  % (min_groups, self.n_splits)), UserWarning)\n",
      "C:\\Users\\danie\\Anaconda\\lib\\site-packages\\sklearn\\model_selection\\_split.py:672: UserWarning: The least populated class in y has only 1 members, which is less than n_splits=10.\n",
      "  % (min_groups, self.n_splits)), UserWarning)\n",
      "C:\\Users\\danie\\Anaconda\\lib\\site-packages\\sklearn\\model_selection\\_split.py:672: UserWarning: The least populated class in y has only 1 members, which is less than n_splits=10.\n",
      "  % (min_groups, self.n_splits)), UserWarning)\n",
      "C:\\Users\\danie\\Anaconda\\lib\\site-packages\\sklearn\\model_selection\\_split.py:672: UserWarning: The least populated class in y has only 1 members, which is less than n_splits=10.\n",
      "  % (min_groups, self.n_splits)), UserWarning)\n",
      "C:\\Users\\danie\\Anaconda\\lib\\site-packages\\sklearn\\model_selection\\_split.py:672: UserWarning: The least populated class in y has only 1 members, which is less than n_splits=10.\n",
      "  % (min_groups, self.n_splits)), UserWarning)\n",
      "C:\\Users\\danie\\Anaconda\\lib\\site-packages\\sklearn\\model_selection\\_split.py:672: UserWarning: The least populated class in y has only 1 members, which is less than n_splits=10.\n",
      "  % (min_groups, self.n_splits)), UserWarning)\n",
      "C:\\Users\\danie\\Anaconda\\lib\\site-packages\\sklearn\\model_selection\\_split.py:672: UserWarning: The least populated class in y has only 1 members, which is less than n_splits=10.\n",
      "  % (min_groups, self.n_splits)), UserWarning)\n",
      "C:\\Users\\danie\\Anaconda\\lib\\site-packages\\sklearn\\model_selection\\_split.py:672: UserWarning: The least populated class in y has only 1 members, which is less than n_splits=10.\n",
      "  % (min_groups, self.n_splits)), UserWarning)\n",
      "C:\\Users\\danie\\Anaconda\\lib\\site-packages\\sklearn\\model_selection\\_split.py:672: UserWarning: The least populated class in y has only 1 members, which is less than n_splits=10.\n",
      "  % (min_groups, self.n_splits)), UserWarning)\n",
      "C:\\Users\\danie\\Anaconda\\lib\\site-packages\\sklearn\\model_selection\\_split.py:672: UserWarning: The least populated class in y has only 1 members, which is less than n_splits=10.\n",
      "  % (min_groups, self.n_splits)), UserWarning)\n",
      "C:\\Users\\danie\\Anaconda\\lib\\site-packages\\sklearn\\model_selection\\_split.py:672: UserWarning: The least populated class in y has only 1 members, which is less than n_splits=10.\n",
      "  % (min_groups, self.n_splits)), UserWarning)\n",
      "C:\\Users\\danie\\Anaconda\\lib\\site-packages\\sklearn\\model_selection\\_split.py:672: UserWarning: The least populated class in y has only 1 members, which is less than n_splits=10.\n",
      "  % (min_groups, self.n_splits)), UserWarning)\n",
      "C:\\Users\\danie\\Anaconda\\lib\\site-packages\\sklearn\\model_selection\\_split.py:672: UserWarning: The least populated class in y has only 1 members, which is less than n_splits=10.\n",
      "  % (min_groups, self.n_splits)), UserWarning)\n",
      "C:\\Users\\danie\\Anaconda\\lib\\site-packages\\sklearn\\model_selection\\_split.py:672: UserWarning: The least populated class in y has only 1 members, which is less than n_splits=10.\n",
      "  % (min_groups, self.n_splits)), UserWarning)\n",
      "C:\\Users\\danie\\Anaconda\\lib\\site-packages\\sklearn\\model_selection\\_split.py:672: UserWarning: The least populated class in y has only 1 members, which is less than n_splits=10.\n",
      "  % (min_groups, self.n_splits)), UserWarning)\n"
     ]
    },
    {
     "name": "stderr",
     "output_type": "stream",
     "text": [
      "C:\\Users\\danie\\Anaconda\\lib\\site-packages\\sklearn\\model_selection\\_split.py:672: UserWarning: The least populated class in y has only 1 members, which is less than n_splits=10.\n",
      "  % (min_groups, self.n_splits)), UserWarning)\n",
      "C:\\Users\\danie\\Anaconda\\lib\\site-packages\\sklearn\\model_selection\\_split.py:672: UserWarning: The least populated class in y has only 1 members, which is less than n_splits=10.\n",
      "  % (min_groups, self.n_splits)), UserWarning)\n",
      "C:\\Users\\danie\\Anaconda\\lib\\site-packages\\sklearn\\model_selection\\_split.py:672: UserWarning: The least populated class in y has only 1 members, which is less than n_splits=10.\n",
      "  % (min_groups, self.n_splits)), UserWarning)\n",
      "C:\\Users\\danie\\Anaconda\\lib\\site-packages\\sklearn\\model_selection\\_split.py:672: UserWarning: The least populated class in y has only 1 members, which is less than n_splits=10.\n",
      "  % (min_groups, self.n_splits)), UserWarning)\n",
      "C:\\Users\\danie\\Anaconda\\lib\\site-packages\\sklearn\\model_selection\\_split.py:672: UserWarning: The least populated class in y has only 1 members, which is less than n_splits=10.\n",
      "  % (min_groups, self.n_splits)), UserWarning)\n",
      "C:\\Users\\danie\\Anaconda\\lib\\site-packages\\sklearn\\model_selection\\_split.py:672: UserWarning: The least populated class in y has only 1 members, which is less than n_splits=10.\n",
      "  % (min_groups, self.n_splits)), UserWarning)\n",
      "C:\\Users\\danie\\Anaconda\\lib\\site-packages\\sklearn\\model_selection\\_split.py:672: UserWarning: The least populated class in y has only 1 members, which is less than n_splits=10.\n",
      "  % (min_groups, self.n_splits)), UserWarning)\n",
      "C:\\Users\\danie\\Anaconda\\lib\\site-packages\\sklearn\\model_selection\\_split.py:672: UserWarning: The least populated class in y has only 1 members, which is less than n_splits=10.\n",
      "  % (min_groups, self.n_splits)), UserWarning)\n",
      "C:\\Users\\danie\\Anaconda\\lib\\site-packages\\sklearn\\model_selection\\_split.py:672: UserWarning: The least populated class in y has only 1 members, which is less than n_splits=10.\n",
      "  % (min_groups, self.n_splits)), UserWarning)\n",
      "C:\\Users\\danie\\Anaconda\\lib\\site-packages\\sklearn\\model_selection\\_split.py:672: UserWarning: The least populated class in y has only 1 members, which is less than n_splits=10.\n",
      "  % (min_groups, self.n_splits)), UserWarning)\n",
      "C:\\Users\\danie\\Anaconda\\lib\\site-packages\\sklearn\\model_selection\\_split.py:672: UserWarning: The least populated class in y has only 1 members, which is less than n_splits=10.\n",
      "  % (min_groups, self.n_splits)), UserWarning)\n",
      "C:\\Users\\danie\\Anaconda\\lib\\site-packages\\sklearn\\model_selection\\_split.py:672: UserWarning: The least populated class in y has only 1 members, which is less than n_splits=10.\n",
      "  % (min_groups, self.n_splits)), UserWarning)\n",
      "C:\\Users\\danie\\Anaconda\\lib\\site-packages\\sklearn\\model_selection\\_split.py:672: UserWarning: The least populated class in y has only 1 members, which is less than n_splits=10.\n",
      "  % (min_groups, self.n_splits)), UserWarning)\n",
      "C:\\Users\\danie\\Anaconda\\lib\\site-packages\\sklearn\\model_selection\\_split.py:672: UserWarning: The least populated class in y has only 1 members, which is less than n_splits=10.\n",
      "  % (min_groups, self.n_splits)), UserWarning)\n",
      "C:\\Users\\danie\\Anaconda\\lib\\site-packages\\sklearn\\model_selection\\_split.py:672: UserWarning: The least populated class in y has only 1 members, which is less than n_splits=10.\n",
      "  % (min_groups, self.n_splits)), UserWarning)\n",
      "C:\\Users\\danie\\Anaconda\\lib\\site-packages\\sklearn\\model_selection\\_split.py:672: UserWarning: The least populated class in y has only 1 members, which is less than n_splits=10.\n",
      "  % (min_groups, self.n_splits)), UserWarning)\n",
      "C:\\Users\\danie\\Anaconda\\lib\\site-packages\\sklearn\\model_selection\\_split.py:672: UserWarning: The least populated class in y has only 1 members, which is less than n_splits=10.\n",
      "  % (min_groups, self.n_splits)), UserWarning)\n",
      "C:\\Users\\danie\\Anaconda\\lib\\site-packages\\sklearn\\model_selection\\_split.py:672: UserWarning: The least populated class in y has only 1 members, which is less than n_splits=10.\n",
      "  % (min_groups, self.n_splits)), UserWarning)\n",
      "C:\\Users\\danie\\Anaconda\\lib\\site-packages\\sklearn\\model_selection\\_split.py:672: UserWarning: The least populated class in y has only 1 members, which is less than n_splits=10.\n",
      "  % (min_groups, self.n_splits)), UserWarning)\n",
      "C:\\Users\\danie\\Anaconda\\lib\\site-packages\\sklearn\\model_selection\\_split.py:672: UserWarning: The least populated class in y has only 1 members, which is less than n_splits=10.\n",
      "  % (min_groups, self.n_splits)), UserWarning)\n",
      "C:\\Users\\danie\\Anaconda\\lib\\site-packages\\sklearn\\model_selection\\_split.py:672: UserWarning: The least populated class in y has only 1 members, which is less than n_splits=10.\n",
      "  % (min_groups, self.n_splits)), UserWarning)\n",
      "C:\\Users\\danie\\Anaconda\\lib\\site-packages\\sklearn\\model_selection\\_split.py:672: UserWarning: The least populated class in y has only 1 members, which is less than n_splits=10.\n",
      "  % (min_groups, self.n_splits)), UserWarning)\n",
      "C:\\Users\\danie\\Anaconda\\lib\\site-packages\\sklearn\\model_selection\\_split.py:672: UserWarning: The least populated class in y has only 1 members, which is less than n_splits=10.\n",
      "  % (min_groups, self.n_splits)), UserWarning)\n",
      "C:\\Users\\danie\\Anaconda\\lib\\site-packages\\sklearn\\model_selection\\_split.py:672: UserWarning: The least populated class in y has only 1 members, which is less than n_splits=10.\n",
      "  % (min_groups, self.n_splits)), UserWarning)\n",
      "C:\\Users\\danie\\Anaconda\\lib\\site-packages\\sklearn\\model_selection\\_split.py:672: UserWarning: The least populated class in y has only 1 members, which is less than n_splits=10.\n",
      "  % (min_groups, self.n_splits)), UserWarning)\n",
      "C:\\Users\\danie\\Anaconda\\lib\\site-packages\\sklearn\\model_selection\\_split.py:672: UserWarning: The least populated class in y has only 1 members, which is less than n_splits=10.\n",
      "  % (min_groups, self.n_splits)), UserWarning)\n",
      "C:\\Users\\danie\\Anaconda\\lib\\site-packages\\sklearn\\model_selection\\_split.py:672: UserWarning: The least populated class in y has only 1 members, which is less than n_splits=10.\n",
      "  % (min_groups, self.n_splits)), UserWarning)\n",
      "C:\\Users\\danie\\Anaconda\\lib\\site-packages\\sklearn\\model_selection\\_split.py:672: UserWarning: The least populated class in y has only 1 members, which is less than n_splits=10.\n",
      "  % (min_groups, self.n_splits)), UserWarning)\n",
      "C:\\Users\\danie\\Anaconda\\lib\\site-packages\\sklearn\\model_selection\\_split.py:672: UserWarning: The least populated class in y has only 1 members, which is less than n_splits=10.\n",
      "  % (min_groups, self.n_splits)), UserWarning)\n",
      "C:\\Users\\danie\\Anaconda\\lib\\site-packages\\sklearn\\model_selection\\_split.py:672: UserWarning: The least populated class in y has only 1 members, which is less than n_splits=10.\n",
      "  % (min_groups, self.n_splits)), UserWarning)\n",
      "C:\\Users\\danie\\Anaconda\\lib\\site-packages\\sklearn\\model_selection\\_split.py:672: UserWarning: The least populated class in y has only 1 members, which is less than n_splits=10.\n",
      "  % (min_groups, self.n_splits)), UserWarning)\n",
      "C:\\Users\\danie\\Anaconda\\lib\\site-packages\\sklearn\\model_selection\\_split.py:672: UserWarning: The least populated class in y has only 1 members, which is less than n_splits=10.\n",
      "  % (min_groups, self.n_splits)), UserWarning)\n",
      "C:\\Users\\danie\\Anaconda\\lib\\site-packages\\sklearn\\model_selection\\_split.py:672: UserWarning: The least populated class in y has only 1 members, which is less than n_splits=10.\n",
      "  % (min_groups, self.n_splits)), UserWarning)\n",
      "C:\\Users\\danie\\Anaconda\\lib\\site-packages\\sklearn\\model_selection\\_split.py:672: UserWarning: The least populated class in y has only 1 members, which is less than n_splits=10.\n",
      "  % (min_groups, self.n_splits)), UserWarning)\n",
      "C:\\Users\\danie\\Anaconda\\lib\\site-packages\\sklearn\\model_selection\\_split.py:672: UserWarning: The least populated class in y has only 1 members, which is less than n_splits=10.\n",
      "  % (min_groups, self.n_splits)), UserWarning)\n"
     ]
    }
   ],
   "source": [
    "k_range = range(1,100)\n",
    "k_scores= []\n",
    "\n",
    "for k in k_range:\n",
    "    knn=neighbors.KNeighborsClassifier(k)\n",
    "    scores=cross_val_score(knn,X,y,cv=10,scoring=\"accuracy\")\n",
    "    k_scores.append(scores.mean())"
   ]
  },
  {
   "cell_type": "code",
   "execution_count": null,
   "metadata": {},
   "outputs": [],
   "source": [
    "plt.plot(k_range, k_scores)\n",
    "plt.xlabel('Value of K for KNN')\n",
    "plt.ylabel('Cross-validated accuracy')\n",
    "plt.show()"
   ]
  },
  {
   "cell_type": "markdown",
   "metadata": {},
   "source": [
    "kNN with some weighted"
   ]
  },
  {
   "cell_type": "code",
   "execution_count": null,
   "metadata": {},
   "outputs": [],
   "source": [
    "n_neighbors = 40\n",
    "\n",
    "h = .02  # step size in the mesh\n",
    "\n",
    "cmap_light = ListedColormap(['#FFAAAA', '#AAFFAA', '#AAAAFF'])\n",
    "cmap_bold = ListedColormap(['#FF0000', '#00FF00', '#0000FF'])\n",
    "\n",
    "for weights in ['uniform', 'distance']:\n",
    "    clf = neighbors.KNeighborsClassifier(n_neighbors, weights=weights)\n",
    "    clf.fit(X, y)\n",
    "\n",
    "    # Plot the decision boundary. For that, we will assign a color to each\n",
    "    # point in the mesh [x_min, x_max]x[y_min, y_max].\n",
    "    x_min, x_max = X[:, 0].min() - 1, X[:, 0].max() + 1\n",
    "    y_min, y_max = X[:, 1].min() - 1, X[:, 1].max() + 1\n",
    "    xx, yy = np.meshgrid(np.arange(x_min, x_max, h),\n",
    "                         np.arange(y_min, y_max, h))\n",
    "    Z = clf.predict(np.c_[xx.ravel(), yy.ravel()])\n",
    "\n",
    "    # Put the result into a color plot\n",
    "    Z = Z.reshape(xx.shape)\n",
    "    plt.figure()\n",
    "    plt.pcolormesh(xx, yy, Z, cmap=cmap_light)\n",
    "\n",
    "    # Plot also the training points\n",
    "    plt.scatter(X[:, 0], X[:, 1], c=y, cmap=cmap_bold,\n",
    "                edgecolor='k', s=20)\n",
    "    plt.xlim(xx.min(), xx.max())\n",
    "    plt.ylim(yy.min(), yy.max())\n",
    "    plt.title(\"3-Class classification (k = %i, weights = '%s')\"\n",
    "              % (n_neighbors, weights))\n",
    "\n",
    "plt.show()"
   ]
  },
  {
   "cell_type": "code",
   "execution_count": null,
   "metadata": {},
   "outputs": [],
   "source": [
    "np.random.seed(0)\n",
    "X = np.sort(5 * np.random.rand(40, 1), axis=0)\n",
    "T = np.linspace(0, 5, 500)[:, np.newaxis]\n",
    "y = np.sin(X).ravel()\n",
    "y[::5] += 1 * (0.5 - np.random.rand(8))"
   ]
  },
  {
   "cell_type": "code",
   "execution_count": null,
   "metadata": {},
   "outputs": [],
   "source": [
    "knn = neighbors.KNeighborsRegressor(n_neighbors)\n",
    "y_ = knn.fit(X, y).predict(T)"
   ]
  },
  {
   "cell_type": "code",
   "execution_count": null,
   "metadata": {},
   "outputs": [],
   "source": [
    "n_neighbors = 5\n",
    "\n",
    "for i, weights in enumerate(['uniform', 'distance']):\n",
    "    knn = neighbors.KNeighborsRegressor(n_neighbors, weights=weights)\n",
    "    y_ = knn.fit(X, y).predict(T)\n",
    "\n",
    "    plt.subplot(2, 1, i + 1)\n",
    "    plt.scatter(X, y, c='k', label='data')\n",
    "    plt.plot(T, y_, c='g', label='prediction')\n",
    "    plt.axis('tight')\n",
    "    plt.legend()\n",
    "    plt.title(\"KNeighborsRegressor (k = %i, weights = '%s')\" % (n_neighbors,\n",
    "                                                                weights))\n",
    "\n",
    "plt.tight_layout()\n",
    "plt.show()"
   ]
  },
  {
   "cell_type": "code",
   "execution_count": null,
   "metadata": {},
   "outputs": [],
   "source": []
  }
 ],
 "metadata": {
  "kernelspec": {
   "display_name": "Python 3",
   "language": "python",
   "name": "python3"
  },
  "language_info": {
   "codemirror_mode": {
    "name": "ipython",
    "version": 3
   },
   "file_extension": ".py",
   "mimetype": "text/x-python",
   "name": "python",
   "nbconvert_exporter": "python",
   "pygments_lexer": "ipython3",
   "version": "3.7.7"
  }
 },
 "nbformat": 4,
 "nbformat_minor": 4
}
